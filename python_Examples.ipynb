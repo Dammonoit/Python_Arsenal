{
 "cells": [
  {
   "cell_type": "markdown",
   "metadata": {},
   "source": [
    "# Question 1\n",
    "## Program to cyclically rotate an array by one in Python.\n",
    "\n",
    "** Examples: ** <br />\n",
    "** Input:  arr[] = {1, 2, 3, 4, 5} ** <br />\n",
    "**  Output: arr[] = {5, 1, 2, 3, 4} ** <br />"
   ]
  },
  {
   "cell_type": "code",
   "execution_count": 5,
   "metadata": {},
   "outputs": [
    {
     "name": "stdout",
     "output_type": "stream",
     "text": [
      "1 2 3 4 5\n",
      "Enter The rotation Value.1\n",
      "['2', '3', '4', '5', '1']\n"
     ]
    }
   ],
   "source": [
    "l=input().rstrip().split()\n",
    "n=int(input('Enter The rotation Value.'))\n",
    "print(l[n:]+l[:n])"
   ]
  },
  {
   "cell_type": "markdown",
   "metadata": {
    "collapsed": true
   },
   "source": [
    "# Question 2\n",
    "## Program to add two 3*3 matrix by user of every values.\n"
   ]
  },
  {
   "cell_type": "code",
   "execution_count": 7,
   "metadata": {},
   "outputs": [
    {
     "name": "stdout",
     "output_type": "stream",
     "text": [
      "Enter Rows. 3\n",
      "Enter Columns. 3\n",
      "1\n",
      "2\n",
      "3\n",
      "4\n",
      "5\n",
      "6\n",
      "7\n",
      "8\n",
      "9\n",
      "11\n",
      "22\n",
      "33\n",
      "44\n",
      "55\n",
      "66\n",
      "77\n",
      "88\n",
      "99\n",
      "\n",
      "\n",
      "matrix1:  [[1 2 3]\n",
      " [4 5 6]\n",
      " [7 8 9]]\n",
      "\n",
      "\n",
      "matrix2:  [[11 22 33]\n",
      " [44 55 66]\n",
      " [77 88 99]]\n",
      "\n",
      "\n",
      "Addition:  [[ 12  24  36]\n",
      " [ 48  60  72]\n",
      " [ 84  96 108]]\n",
      "\n",
      "\n",
      "Subtraction:  [[-10 -20 -30]\n",
      " [-40 -50 -60]\n",
      " [-70 -80 -90]]\n",
      "\n",
      "\n",
      "Subtraction:  [[-10 -20 -30]\n",
      " [-40 -50 -60]\n",
      " [-70 -80 -90]]\n",
      "\n",
      "\n",
      "Division:  [[0.09090909 0.09090909 0.09090909]\n",
      " [0.09090909 0.09090909 0.09090909]\n",
      " [0.09090909 0.09090909 0.09090909]]\n",
      "[1 2 3]\n",
      "[4 5 6]\n",
      "[7 8 9]\n",
      "1\n",
      "4\n",
      "7\n"
     ]
    }
   ],
   "source": [
    "import numpy as np\n",
    "rows=int(input('Enter Rows. '))\n",
    "columns=int(input('Enter Columns. '))\n",
    "m1=list()\n",
    "m2=list()\n",
    "for i in range(0,rows*columns):\n",
    "    n=int(input())\n",
    "    m1.append(n)\n",
    "    \n",
    "for i in range(0,rows*columns):\n",
    "    n=int(input())\n",
    "    m2.append(n)\n",
    "matrix1=np.array([m1]).reshape([3,3])\n",
    "matrix2=np.array([m2]).reshape([3,3]);print('\\n')\n",
    "print(\"matrix1: \",matrix1);print('\\n')\n",
    "print(\"matrix2: \",matrix2);print('\\n')\n",
    "print('Addition: ',matrix1+matrix2);print('\\n')\n",
    "print('Subtraction: ',matrix1-matrix2);print('\\n')\n",
    "print('Subtraction: ',matrix1-matrix2);print('\\n')\n",
    "print('Division: ',matrix1/matrix2)\n",
    "for i in matrix1:\n",
    "    print(i)\n",
    "for i in matrix1:\n",
    "    print(i[0])"
   ]
  },
  {
   "cell_type": "markdown",
   "metadata": {},
   "source": [
    "# Question 3\n",
    "## Program to find transpose and inverse of one 3*3 matrix by user of every values."
   ]
  },
  {
   "cell_type": "code",
   "execution_count": 12,
   "metadata": {},
   "outputs": [
    {
     "name": "stdout",
     "output_type": "stream",
     "text": [
      "Enter Rows. 3\n",
      "Enter Columns. 3\n",
      "1\n",
      "22\n",
      "34\n",
      "21\n",
      "4\n",
      "76\n",
      "98\n",
      "23\n",
      "23\n",
      "[[ 1 22 34]\n",
      " [21  4 76]\n",
      " [98 23 23]]\n",
      "Inverse:  [[-0.0107068   0.00178447  0.00993095]\n",
      " [ 0.04503194 -0.02139421  0.00412496]\n",
      " [ 0.00058836  0.01379083 -0.00296118]]\n",
      "Transpose:  [[ 1 21 98]\n",
      " [22  4 23]\n",
      " [34 76 23]]\n"
     ]
    }
   ],
   "source": [
    "import numpy as np\n",
    "rows=int(input('Enter Rows. '))\n",
    "columns=int(input('Enter Columns. '))\n",
    "m1=list()\n",
    "for i in range(0,rows*columns):\n",
    "    n=int(input())\n",
    "    m1.append(n)\n",
    "matrix1=np.matrix([m1]).reshape([3,3])\n",
    "print(matrix1)\n",
    "print('Inverse: ',matrix1.getI())\n",
    "print('Transpose: ',matrix1.getT())"
   ]
  },
  {
   "cell_type": "markdown",
   "metadata": {
    "collapsed": true
   },
   "source": [
    "# Question 4\n",
    "## Create two matrix of 3*3 patter without numpy and perform add,sub,mul and div operation?"
   ]
  },
  {
   "cell_type": "code",
   "execution_count": 3,
   "metadata": {},
   "outputs": [
    {
     "name": "stdout",
     "output_type": "stream",
     "text": [
      "Number of Rows: 3\n",
      "Number of Columns: 3\n",
      "Please Enter Elements of Matrix A: \n",
      "1\n",
      "2\n",
      "3\n",
      "4\n",
      "5\n",
      "6\n",
      "7\n",
      "8\n",
      "9\n",
      "matrix1:  [[1, 2, 3], [4, 5, 6], [7, 8, 9]]\n",
      "Please Enter Elements of Matrix B: \n",
      "11\n",
      "22\n",
      "33\n",
      "44\n",
      "55\n",
      "66\n",
      "77\n",
      "88\n",
      "99\n",
      "matrix2:  [[11, 22, 33], [44, 55, 66], [77, 88, 99]]\n",
      "Addition:  [[12, 24, 36], [48, 60, 72], [84, 96, 108]]\n",
      "Subtraction:  [[10, 20, 30], [40, 50, 60], [70, 80, 90]]\n",
      "multiplication:  [[330, 330, 330], [891, 891, 891], [1650, 1650, 1650]]\n",
      "division:  [[0.09090909090909091, 0.09090909090909091, 0.09090909090909091], [0.09090909090909091, 0.09090909090909091, 0.09090909090909091], [0.09090909090909091, 0.09090909090909091, 0.09090909090909091]]\n"
     ]
    }
   ],
   "source": [
    "rows=int(input('Number of Rows: '))\n",
    "columns=int(input('Number of Columns: '))\n",
    "matrix1=[[[] for i in range(rows)] for i in range(columns)]\n",
    "addition=[[[] for i in range(rows)] for i in range(columns)]\n",
    "subtraction=[[[] for i in range(rows)] for i in range(columns)]\n",
    "division=[[[] for i in range(rows)] for i in range(columns)]\n",
    "print(\"Please Enter Elements of Matrix A: \")\n",
    "for i in range(columns):\n",
    "  for j in range(rows):\n",
    "    number=int(input()) \n",
    "    matrix1[i][j]=number\n",
    "print('matrix1: ',matrix1)\n",
    "matrix2=[[[] for i in range(rows)] for i in range(columns)]\n",
    "print(\"Please Enter Elements of Matrix B: \")\n",
    "for i in range(columns):\n",
    "  for j in range(rows):\n",
    "    number=int(input()) \n",
    "    matrix2[i][j]=number\n",
    "print('matrix2: ',matrix2)\n",
    "for i in range(columns):\n",
    "  for j in range(rows): \n",
    "    addition[i][j]=matrix1[i][j]+matrix2[i][j]\n",
    "for i in range(columns):\n",
    "  for j in range(rows): \n",
    "    subtraction[i][j]=abs(matrix1[i][j]-matrix2[i][j])\n",
    "print('Addition: ',addition)\n",
    "print('Subtraction: ',subtraction)\n",
    "multiplication=[[0,0,0],[0,0,0],[0,0,0]]\n",
    "#iterating through the rows of matrix1\n",
    "for i in range(0,len(matrix1)):\n",
    "  #iterating through the rows of matrix2\n",
    "  for j in range(0,len(matrix2)):\n",
    "    for k in range(0,len(matrix2)):\n",
    "      multiplication[i][j]+=matrix1[i][k]*matrix2[k][i]\n",
    "print(\"multiplication: \",multiplication)\n",
    "for i in range(columns):\n",
    "  for j in range(rows): \n",
    "    division[i][j]=matrix1[i][j]/matrix2[i][j]\n",
    "print(\"division: \",division)"
   ]
  },
  {
   "cell_type": "markdown",
   "metadata": {},
   "source": [
    "# Question 4\n",
    "## Total number of ones in a N*N matrix?"
   ]
  },
  {
   "cell_type": "code",
   "execution_count": 5,
   "metadata": {},
   "outputs": [
    {
     "name": "stdout",
     "output_type": "stream",
     "text": [
      "24\n"
     ]
    }
   ],
   "source": [
    "l=[[1,1,1,1,1],\n",
    "[1,1,1,1,1], \n",
    "[1,1,0,1,1], \n",
    "[1,1,1,1,1],\n",
    "[1,1,1,1,1]]\n",
    "count=0\n",
    "for i in range(0,len(l[0])):\n",
    "    for j in range(0,len(l[0])):\n",
    "        if l[i][j]==1:\n",
    "            count+=1\n",
    "        else:\n",
    "            pass\n",
    "print(count)\n"
   ]
  },
  {
   "cell_type": "markdown",
   "metadata": {
    "collapsed": true
   },
   "source": [
    "# Question 5\n",
    "## find all subarrays whose average is great than given value of a given array?"
   ]
  },
  {
   "cell_type": "code",
   "execution_count": 7,
   "metadata": {},
   "outputs": [
    {
     "name": "stdout",
     "output_type": "stream",
     "text": [
      "2\n",
      "[1, 2, 3, 4]\n",
      "[1, 2, 3, 4, 5]\n",
      "[1, 2, 3, 4, 5]\n"
     ]
    }
   ],
   "source": [
    "l=[1,2,3,4,5]\n",
    "n=int(input())\n",
    "ll=[]\n",
    "for i in l:\n",
    "    ll.append(i)\n",
    "    avg=sum(ll)/len(ll)\n",
    "    if avg>n:\n",
    "        print(ll)\n",
    "    else:\n",
    "        pass\n",
    "\n",
    "print(ll) \n",
    "   \n"
   ]
  },
  {
   "cell_type": "markdown",
   "metadata": {
    "collapsed": true
   },
   "source": [
    "# Question 6\n",
    "## Find all the sublists of a list?"
   ]
  },
  {
   "cell_type": "code",
   "execution_count": 9,
   "metadata": {},
   "outputs": [
    {
     "name": "stdout",
     "output_type": "stream",
     "text": [
      "1 2 3 4 5\n",
      "[[], [1], [2], [3], [4], [5], [1, 2], [1, 3], [1, 4], [1, 5], [2, 3], [2, 4], [2, 5], [3, 4], [3, 5], [4, 5], [1, 2, 3], [1, 2, 4], [1, 2, 5], [1, 3, 4], [1, 3, 5], [1, 4, 5], [2, 3, 4], [2, 3, 5], [2, 4, 5], [3, 4, 5], [1, 2, 3, 4], [1, 2, 3, 5], [1, 2, 4, 5], [1, 3, 4, 5], [2, 3, 4, 5], [1, 2, 3, 4, 5]]\n"
     ]
    }
   ],
   "source": [
    "l=list(map(int,input().split()))\n",
    "subsets = []\n",
    "for i in range(0, len(l)+1):\n",
    "    #print(i)\n",
    "    temp = [list(x) for x in itertools.combinations(l, i)]\n",
    "    #print(temp)\n",
    "    subsets.extend(temp)\n",
    "print(subsets)"
   ]
  },
  {
   "cell_type": "markdown",
   "metadata": {},
   "source": [
    "# Question 7\n",
    "## Find all the sublists of a list without using itertools?\n"
   ]
  },
  {
   "cell_type": "code",
   "execution_count": 5,
   "metadata": {},
   "outputs": [
    {
     "name": "stdout",
     "output_type": "stream",
     "text": [
      "1 2 3\n",
      "h:  1\n",
      "t:  [2, 3]\n",
      "h:  2\n",
      "t:  [3]\n",
      "h:  3\n",
      "t:  []\n",
      "ss:  [[]]\n",
      "ss1:  [[3]]\n",
      "yes\n",
      "ss+ss1:  [[], [3]]\n",
      "ss:  [[], [3]]\n",
      "ss1:  [[2], [2, 3]]\n",
      "yes\n",
      "ss+ss1:  [[], [3], [2], [2, 3]]\n",
      "ss:  [[], [3], [2], [2, 3]]\n",
      "ss1:  [[1], [1, 3], [1, 2], [1, 2, 3]]\n",
      "yes\n",
      "ss+ss1:  [[], [3], [2], [2, 3], [1], [1, 3], [1, 2], [1, 2, 3]]\n",
      "[[], [3], [2], [2, 3], [1], [1, 3], [1, 2], [1, 2, 3]]\n"
     ]
    }
   ],
   "source": [
    "def subsets(s):\n",
    "    #base case\n",
    "    if len(s) == 0:\n",
    "        return [[]]\n",
    "    # the input set is not empty, divide and conquer!\n",
    "    h, t = s[0], s[1:];print('h: ',h);print('t: ',t)\n",
    "    ss = subsets(t);print('ss: ',ss)\n",
    "    ss1 = [([h] + n) for n in ss];print('ss1: ',ss1);print('yes')\n",
    "    print('ss+ss1: ',ss+ss1)\n",
    "    return ss+ss1\n",
    "l=list(map(int,input().split())) \n",
    "print (subsets(l))"
   ]
  },
  {
   "cell_type": "markdown",
   "metadata": {},
   "source": [
    "# Question 8\n",
    "## Find all the permutation of a list?"
   ]
  },
  {
   "cell_type": "code",
   "execution_count": 1,
   "metadata": {},
   "outputs": [
    {
     "name": "stdout",
     "output_type": "stream",
     "text": [
      "[(1, 2, 3, 4), (1, 2, 4, 3), (1, 3, 2, 4), (1, 3, 4, 2), (1, 4, 2, 3), (1, 4, 3, 2), (2, 1, 3, 4), (2, 1, 4, 3), (2, 3, 1, 4), (2, 3, 4, 1), (2, 4, 1, 3), (2, 4, 3, 1), (3, 1, 2, 4), (3, 1, 4, 2), (3, 2, 1, 4), (3, 2, 4, 1), (3, 4, 1, 2), (3, 4, 2, 1), (4, 1, 2, 3), (4, 1, 3, 2), (4, 2, 1, 3), (4, 2, 3, 1), (4, 3, 1, 2), (4, 3, 2, 1)]\n"
     ]
    }
   ],
   "source": [
    "from itertools import permutations\n",
    "l=[1,2,3,4]\n",
    "print(list(permutations(l)))"
   ]
  },
  {
   "cell_type": "markdown",
   "metadata": {
    "collapsed": true
   },
   "source": [
    "# Question 9\n",
    "## Create a function that accepts a string argument and returns an array of strings, which are shifted versions of the argument string.\n",
    "\n",
    "## Sample Input: \"Hello\"\n",
    "\n",
    "## Sample Output: [\"elloH\", \"lloHe\", \"loHel\", \"oHell\", \"Hello\"]  "
   ]
  },
  {
   "cell_type": "code",
   "execution_count": 8,
   "metadata": {},
   "outputs": [
    {
     "name": "stdout",
     "output_type": "stream",
     "text": [
      "Enter Your String: hello\n",
      "['elloh', 'llohe', 'lohel', 'ohell', 'hello']\n"
     ]
    }
   ],
   "source": [
    "def indexing(l):\n",
    "  return l[1:]+l[0]\n",
    "def combinations(s):\n",
    "  result=[]\n",
    "  new_string=s\n",
    "  for i in range(0,len(s)):\n",
    "    #print(i)\n",
    "    new_string=indexing(new_string)\n",
    "    #print(new_string)\n",
    "    result.append(new_string)\n",
    "  return result\n",
    "\n",
    "s=input('Enter Your String: ')\n",
    "if len(s)==0:\n",
    "  print('empty string')\n",
    "else:\n",
    "  print(combinations(s))"
   ]
  },
  {
   "cell_type": "markdown",
   "metadata": {
    "collapsed": true
   },
   "source": [
    "# Question 10\n",
    "## Prime or not?"
   ]
  },
  {
   "cell_type": "code",
   "execution_count": 21,
   "metadata": {},
   "outputs": [
    {
     "name": "stdout",
     "output_type": "stream",
     "text": [
      "4\n",
      "Not Prime\n"
     ]
    }
   ],
   "source": [
    "n=int(input())\n",
    "if n<=1:\n",
    "    print('Neither Prime not composite')\n",
    "else:\n",
    "    for i in range(2,n):\n",
    "        if (n%i)!=0:\n",
    "            print('Prime')\n",
    "            break;\n",
    "        else:\n",
    "            print('Not Prime')\n",
    "            break;"
   ]
  },
  {
   "cell_type": "markdown",
   "metadata": {},
   "source": [
    "# Question 11.\n",
    "## Smallest subarray with sum greater than a given value?"
   ]
  },
  {
   "cell_type": "code",
   "execution_count": 31,
   "metadata": {},
   "outputs": [
    {
     "name": "stdout",
     "output_type": "stream",
     "text": [
      "1 2 3 4 5\n",
      "6\n",
      "[(), (1,), (2,), (3,), (4,), (5,), (1, 2), (1, 3), (1, 4), (1, 5), (2, 3), (2, 4), (2, 5), (3, 4), (3, 5), (4, 5), (1, 2, 3), (1, 2, 4), (1, 2, 5), (1, 3, 4), (1, 3, 5), (1, 4, 5), (2, 3, 4), (2, 3, 5), (2, 4, 5), (3, 4, 5), (1, 2, 3, 4), (1, 2, 3, 5), (1, 2, 4, 5), (1, 3, 4, 5), (2, 3, 4, 5)]\n",
      "\n",
      "\n",
      "(2, 5)\n",
      "2\n"
     ]
    }
   ],
   "source": [
    "import itertools\n",
    "l=list(map(int,input().split()))\n",
    "sorted(l)\n",
    "value=int(input())\n",
    "final=[]\n",
    "for i in range(0,len(l)):\n",
    "    for j in list(itertools.combinations(l,i)):\n",
    "        final.append(j)\n",
    "print(final);print('\\n')\n",
    "for i in final:\n",
    "    if sum(i)>value:\n",
    "        print(i)\n",
    "        print(len(i))\n",
    "        break;\n",
    "    else:\n",
    "        continue;\n"
   ]
  },
  {
   "cell_type": "markdown",
   "metadata": {
    "collapsed": true
   },
   "source": [
    "# Questions 12.\n",
    "## Prime in a interval?"
   ]
  },
  {
   "cell_type": "code",
   "execution_count": 15,
   "metadata": {},
   "outputs": [
    {
     "name": "stdout",
     "output_type": "stream",
     "text": [
      "Enter lower range: 900\n",
      "Enter upper range: 1000\n",
      "907\n",
      "911\n",
      "919\n",
      "929\n",
      "937\n",
      "941\n",
      "947\n",
      "953\n",
      "967\n",
      "971\n",
      "977\n",
      "983\n",
      "991\n",
      "997\n"
     ]
    }
   ],
   "source": [
    "lower = int(input(\"Enter lower range: \"))\n",
    "upper = int(input(\"Enter upper range: \"))\n",
    " \n",
    "for num in range(lower,upper + 1):\n",
    "   # prime numbers are greater than 1\n",
    "   if num > 1:\n",
    "       for i in range(2,num):\n",
    "           if (num % i) == 0:\n",
    "               break\n",
    "       else:\n",
    "           print(num)"
   ]
  },
  {
   "cell_type": "markdown",
   "metadata": {
    "collapsed": true
   },
   "source": [
    "# Question 13.\n",
    "## Take a string as input and then return the length of string without repetition."
   ]
  },
  {
   "cell_type": "code",
   "execution_count": 1,
   "metadata": {},
   "outputs": [
    {
     "name": "stdout",
     "output_type": "stream",
     "text": [
      "abccd\n",
      "4\n"
     ]
    }
   ],
   "source": [
    "n=input()\n",
    "l=[]\n",
    "for i in n:\n",
    "    if i in l:\n",
    "        pass\n",
    "    else:\n",
    "        l.append(i)\n",
    "print(len(l))"
   ]
  },
  {
   "cell_type": "markdown",
   "metadata": {},
   "source": [
    "## Alternative to question 13"
   ]
  },
  {
   "cell_type": "code",
   "execution_count": 2,
   "metadata": {},
   "outputs": [
    {
     "name": "stdout",
     "output_type": "stream",
     "text": [
      "abccd\n",
      "4\n"
     ]
    }
   ],
   "source": [
    "n=input()\n",
    "print(len(set(n)))"
   ]
  },
  {
   "cell_type": "markdown",
   "metadata": {
    "collapsed": true
   },
   "source": [
    "# Question - 14\n",
    "## **Python Program to Change case of input string.**"
   ]
  },
  {
   "cell_type": "code",
   "execution_count": 3,
   "metadata": {},
   "outputs": [
    {
     "name": "stdout",
     "output_type": "stream",
     "text": [
      "da\n",
      "DA\n"
     ]
    }
   ],
   "source": [
    "s=input()\n",
    "if (s.lower()):\n",
    "    print(s.upper())\n",
    "else:\n",
    "    print(s.lower())"
   ]
  },
  {
   "cell_type": "markdown",
   "metadata": {
    "collapsed": true
   },
   "source": [
    "# Question - 15\n",
    "## **Python Program to find total number of each element of an array less than equal to all elements in other array.**"
   ]
  },
  {
   "cell_type": "code",
   "execution_count": null,
   "metadata": {
    "collapsed": true
   },
   "outputs": [],
   "source": [
    "def Find_Out(nums,maxes):\n",
    "    Final_Out=[]\n",
    "    for i in nums:\n",
    "        count=0\n",
    "        for j in maxes:\n",
    "            if(i<=j):\n",
    "                count+=0\n",
    "            else:\n",
    "                pass\n",
    "        Final_Out.append(count)\n",
    "    return Final_Out    \n",
    "\n",
    "if __name__==\"__main__\":\n",
    "    nums=[1,2,3,4]\n",
    "    maxes=[2,4]\n",
    "    print(Find_Out(nums,maxes))"
   ]
  },
  {
   "cell_type": "markdown",
   "metadata": {},
   "source": [
    "# Question - 16\n",
    "## **Python Program to make a complete sentence i.e first letter to be capital and sentence should be formed based on the length of each word and full stop in the end.**"
   ]
  },
  {
   "cell_type": "code",
   "execution_count": 1,
   "metadata": {
    "collapsed": true
   },
   "outputs": [],
   "source": [
    "if __name__==\"__main__\":\n",
    "    s=\"india is a bautiful country\"\n",
    "    "
   ]
  },
  {
   "cell_type": "markdown",
   "metadata": {},
   "source": [
    "# Question - 17\n",
    "## **Given two integer number n and d. The task is to find the number between 0 to n which contain the specific digit d.**"
   ]
  },
  {
   "cell_type": "code",
   "execution_count": 2,
   "metadata": {},
   "outputs": [
    {
     "name": "stdout",
     "output_type": "stream",
     "text": [
      "20\n",
      "4\n",
      "Present\n"
     ]
    }
   ],
   "source": [
    "n=int(input())\n",
    "d=int(input())\n",
    "l=[x for x in range(0,n)]\n",
    "if(d in l):\n",
    "    print('Present')\n",
    "else:\n",
    "    print('Absent')"
   ]
  },
  {
   "cell_type": "markdown",
   "metadata": {
    "collapsed": true
   },
   "source": [
    "# Question - 18\n",
    "## **Python Program to check whether all the digits of a number are sorted or not?**"
   ]
  },
  {
   "cell_type": "code",
   "execution_count": 2,
   "metadata": {},
   "outputs": [
    {
     "name": "stdout",
     "output_type": "stream",
     "text": [
      "1234\n",
      "Digits of a number are not sorted\n",
      "sorted\n"
     ]
    }
   ],
   "source": [
    "n=int(input())\n",
    "l=list()\n",
    "for i in str(n):\n",
    "    l.append(int(i))\n",
    "#way-1\n",
    "if(all(l[i] <= l[i+1] for i in range(len(l)-1))=='True'):\n",
    "    print('Digits of a number are sorted')\n",
    "else:\n",
    "    print('Digits of a number are not sorted')\n",
    "\n",
    "#way-2\n",
    "m=[]\n",
    "for i in range(0,len(l)-1):\n",
    "    if(l[i]<l[i+1]):\n",
    "        m.append(1)\n",
    "    else:\n",
    "        m.append(0)\n",
    "        \n",
    "if 0 in m:\n",
    "    print('not sorted')\n",
    "else:\n",
    "    print('sorted')"
   ]
  },
  {
   "cell_type": "markdown",
   "metadata": {},
   "source": [
    "# Question - 18\n",
    "## **Sum of all the digits in the integer.**"
   ]
  },
  {
   "cell_type": "code",
   "execution_count": 10,
   "metadata": {},
   "outputs": [
    {
     "name": "stdout",
     "output_type": "stream",
     "text": [
      "Enter the number1234\n",
      "10\n"
     ]
    }
   ],
   "source": [
    "#simple way\n",
    "n=int(input(\"Enter the number\"))\n",
    "print(sum([int(i) for i in str(n)]))"
   ]
  },
  {
   "cell_type": "code",
   "execution_count": 7,
   "metadata": {},
   "outputs": [
    {
     "name": "stdout",
     "output_type": "stream",
     "text": [
      "Enter the integer1234\n",
      "The Sum of the digits in a list are:  10\n"
     ]
    }
   ],
   "source": [
    "#hard way\n",
    "def Sum(n):\n",
    "    c=0\n",
    "    while(n>0):\n",
    "        x=n%10\n",
    "        c=c+x\n",
    "        n=n//10\n",
    "    return c\n",
    "    \n",
    "    \n",
    "if __name__==\"__main__\":\n",
    "    n=int(input(\"Enter the integer\"))\n",
    "    m=Sum(n)\n",
    "    print('The Sum of the digits in a list are: ',m)"
   ]
  },
  {
   "cell_type": "markdown",
   "metadata": {
    "collapsed": true
   },
   "source": [
    "# **Question-19**\n",
    "* ## **Convert a integer input into a list?**"
   ]
  },
  {
   "cell_type": "code",
   "execution_count": 2,
   "metadata": {},
   "outputs": [
    {
     "name": "stdout",
     "output_type": "stream",
     "text": [
      "Enter the integer: 1234\n",
      "The list is:  [1, 2, 3, 4]\n"
     ]
    }
   ],
   "source": [
    "#simple way\n",
    "n=int(input(\"Enter the integer: \"))\n",
    "print('The list is: ',[int(i) for i in str(n)])"
   ]
  },
  {
   "cell_type": "code",
   "execution_count": 6,
   "metadata": {},
   "outputs": [
    {
     "name": "stdout",
     "output_type": "stream",
     "text": [
      "Enter the integer1234\n",
      "The list is:  [1, 2, 3, 4]\n"
     ]
    }
   ],
   "source": [
    "#hard way\n",
    "def Split(n):\n",
    "    final=[]\n",
    "    while(n>0):\n",
    "        final.append(n%10)\n",
    "        n=n//10\n",
    "    \n",
    "    return final[::-1]\n",
    "if __name__==\"__main__\":\n",
    "    n=int(input(\"Enter the integer\"))\n",
    "    m=Split(n)\n",
    "    print('The list is: ',m)"
   ]
  },
  {
   "cell_type": "markdown",
   "metadata": {},
   "source": [
    "# **Question-20**\n",
    "* ## **Minimize all the elements of an input array to zero?**"
   ]
  },
  {
   "cell_type": "code",
   "execution_count": 4,
   "metadata": {},
   "outputs": [
    {
     "name": "stdout",
     "output_type": "stream",
     "text": [
      "1 2 3 4\n",
      "[0, 0, 0, 0]\n"
     ]
    }
   ],
   "source": [
    "#hard way\n",
    "def Move_Zero(x):\n",
    "    x=x-1\n",
    "    if x==0:\n",
    "        return 0\n",
    "    else:\n",
    "        Move_Zero(x)\n",
    "        \n",
    "def Normalize(n):\n",
    "    output=[]\n",
    "    for i in n:\n",
    "        if i==0:\n",
    "            output.append(0)\n",
    "        else:\n",
    "            Move_Zero(i)\n",
    "            output.append(0)\n",
    "    return output\n",
    "\n",
    "if __name__==\"__main__\":\n",
    "    n=list(map(int,input().rstrip().split()))\n",
    "    m=Normalize(n)\n",
    "    print(m)"
   ]
  },
  {
   "cell_type": "code",
   "execution_count": 2,
   "metadata": {},
   "outputs": [
    {
     "name": "stdout",
     "output_type": "stream",
     "text": [
      "1 2 3 4\n",
      "[0, 0, 0, 0]\n"
     ]
    }
   ],
   "source": [
    "#simple way\n",
    "n=list(map(int,input().rstrip().split()))\n",
    "out=[]\n",
    "for i in n:\n",
    "    if i==0:\n",
    "        out.append(i)\n",
    "    else:\n",
    "        out.append(0)\n",
    "print(out)"
   ]
  },
  {
   "cell_type": "markdown",
   "metadata": {},
   "source": [
    "# **Question-21**\n",
    "* ## **Number of moves required to normalize all the elements of a array to 1?**"
   ]
  },
  {
   "cell_type": "code",
   "execution_count": 5,
   "metadata": {},
   "outputs": [
    {
     "name": "stdout",
     "output_type": "stream",
     "text": [
      "1 2 3 4\n",
      "6\n"
     ]
    }
   ],
   "source": [
    "def Increment(x):\n",
    "  x=x+1\n",
    "  return x\n",
    "\n",
    "def Decrement(y):\n",
    "  y=y-1\n",
    "  return y\n",
    "\n",
    "def Normalize(n):\n",
    "  c=0\n",
    "  for i in n:\n",
    "    if i==1:\n",
    "      pass\n",
    "    elif i<1:\n",
    "      c=c+1\n",
    "      Increment(i)\n",
    "      if i==1:\n",
    "        pass\n",
    "      else:\n",
    "        c=c+1\n",
    "        Increment(i)\n",
    "    else:\n",
    "      c=c+1\n",
    "      Decrement(i)\n",
    "      if i==1:\n",
    "        pass\n",
    "      else:\n",
    "        c=c+1\n",
    "        Decrement(i)\n",
    "  return c\n",
    "  \n",
    "\n",
    "if __name__==\"__main__\":\n",
    "    n=list(map(int,input().rstrip().split()))\n",
    "    m=Normalize(n)\n",
    "    print(m)"
   ]
  },
  {
   "cell_type": "markdown",
   "metadata": {},
   "source": [
    "# Question-22\n",
    "## **Pattern-1?**"
   ]
  },
  {
   "cell_type": "code",
   "execution_count": 12,
   "metadata": {},
   "outputs": [
    {
     "name": "stdout",
     "output_type": "stream",
     "text": [
      "Enter the number of rows: 5\n",
      "* \n",
      "* * \n",
      "* * * \n",
      "* * * * \n",
      "* * * * * \n"
     ]
    }
   ],
   "source": [
    "def Pattern(rows):\n",
    "    for i in range(0,rows):\n",
    "        for j in range(0,i+1):\n",
    "            print(\"* \",end=\"\")\n",
    "        print('\\r') #carriage return\n",
    "\n",
    "if __name__==\"__main__\":\n",
    "    rows=int(input(\"Enter the number of rows: \"))\n",
    "    Pattern(rows)"
   ]
  },
  {
   "cell_type": "markdown",
   "metadata": {},
   "source": [
    "# Question-23\n",
    "## **Pattern-2?**"
   ]
  },
  {
   "cell_type": "code",
   "execution_count": null,
   "metadata": {
    "collapsed": true
   },
   "outputs": [],
   "source": []
  }
 ],
 "metadata": {
  "kernelspec": {
   "display_name": "Python 3",
   "language": "python",
   "name": "python3"
  },
  "language_info": {
   "codemirror_mode": {
    "name": "ipython",
    "version": 3
   },
   "file_extension": ".py",
   "mimetype": "text/x-python",
   "name": "python",
   "nbconvert_exporter": "python",
   "pygments_lexer": "ipython3",
   "version": "3.6.1"
  }
 },
 "nbformat": 4,
 "nbformat_minor": 2
}
