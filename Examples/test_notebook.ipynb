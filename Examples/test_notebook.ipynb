{
 "cells": [
  {
   "cell_type": "markdown",
   "id": "a6b10d61",
   "metadata": {},
   "source": [
    "# **This notebook is strictly for testing purposes**"
   ]
  },
  {
   "cell_type": "code",
   "execution_count": 2,
   "id": "8fca349b",
   "metadata": {},
   "outputs": [
    {
     "ename": "FileNotFoundError",
     "evalue": "[Errno 2] No such file or directory: 'C:\\\\Users\\\\dnc11\\\\git_projects\\\\math_constant\\\\dependencies\\\\mathematical_constants.csv'",
     "output_type": "error",
     "traceback": [
      "\u001b[1;31m---------------------------------------------------------------------------\u001b[0m",
      "\u001b[1;31mFileNotFoundError\u001b[0m                         Traceback (most recent call last)",
      "Input \u001b[1;32mIn [2]\u001b[0m, in \u001b[0;36m<cell line: 4>\u001b[1;34m()\u001b[0m\n\u001b[0;32m      1\u001b[0m \u001b[38;5;28;01mimport\u001b[39;00m \u001b[38;5;21;01mcsv\u001b[39;00m\n\u001b[1;32m----> 4\u001b[0m \u001b[38;5;28;01mwith\u001b[39;00m \u001b[38;5;28;43mopen\u001b[39;49m\u001b[43m(\u001b[49m\u001b[38;5;124;43mr\u001b[39;49m\u001b[38;5;124;43m'\u001b[39;49m\u001b[38;5;124;43mC:\u001b[39;49m\u001b[38;5;124;43m\\\u001b[39;49m\u001b[38;5;124;43mUsers\u001b[39;49m\u001b[38;5;124;43m\\\u001b[39;49m\u001b[38;5;124;43mdnc11\u001b[39;49m\u001b[38;5;124;43m\\\u001b[39;49m\u001b[38;5;124;43mgit_projects\u001b[39;49m\u001b[38;5;124;43m\\\u001b[39;49m\u001b[38;5;124;43mmath_constant\u001b[39;49m\u001b[38;5;124;43m\\\u001b[39;49m\u001b[38;5;124;43mdependencies\u001b[39;49m\u001b[38;5;124;43m\\\u001b[39;49m\u001b[38;5;124;43mmathematical_constants.csv\u001b[39;49m\u001b[38;5;124;43m'\u001b[39;49m\u001b[43m,\u001b[49m\u001b[43m \u001b[49m\u001b[38;5;124;43m'\u001b[39;49m\u001b[38;5;124;43mr\u001b[39;49m\u001b[38;5;124;43m'\u001b[39;49m\u001b[43m)\u001b[49m \u001b[38;5;28;01mas\u001b[39;00m f:\n\u001b[0;32m      5\u001b[0m     reader \u001b[38;5;241m=\u001b[39m csv\u001b[38;5;241m.\u001b[39mreader(f)\n\u001b[0;32m      6\u001b[0m     \u001b[38;5;28;01mfor\u001b[39;00m row \u001b[38;5;129;01min\u001b[39;00m reader:\n",
      "\u001b[1;31mFileNotFoundError\u001b[0m: [Errno 2] No such file or directory: 'C:\\\\Users\\\\dnc11\\\\git_projects\\\\math_constant\\\\dependencies\\\\mathematical_constants.csv'"
     ]
    }
   ],
   "source": [
    "import csv\n",
    "\n",
    "\n",
    "with open(r'C:\\Users\\dnc11\\git_projects\\math_constant\\dependencies\\mathematical_constants.csv', 'r') as f:\n",
    "    reader = csv.reader(f)\n",
    "    for row in reader:\n",
    "        print(row)"
   ]
  },
  {
   "cell_type": "code",
   "execution_count": 8,
   "id": "d1c26b3f",
   "metadata": {},
   "outputs": [
    {
     "data": {
      "text/html": [
       "<div>\n",
       "<style scoped>\n",
       "    .dataframe tbody tr th:only-of-type {\n",
       "        vertical-align: middle;\n",
       "    }\n",
       "\n",
       "    .dataframe tbody tr th {\n",
       "        vertical-align: top;\n",
       "    }\n",
       "\n",
       "    .dataframe thead th {\n",
       "        text-align: right;\n",
       "    }\n",
       "</style>\n",
       "<table border=\"1\" class=\"dataframe\">\n",
       "  <thead>\n",
       "    <tr style=\"text-align: right;\">\n",
       "      <th></th>\n",
       "      <th>constant</th>\n",
       "      <th>constant_value</th>\n",
       "    </tr>\n",
       "  </thead>\n",
       "  <tbody>\n",
       "    <tr>\n",
       "      <th>0</th>\n",
       "      <td>Zero</td>\n",
       "      <td>0</td>\n",
       "    </tr>\n",
       "    <tr>\n",
       "      <th>1</th>\n",
       "      <td>Z score for the 97.5 percentile point</td>\n",
       "      <td>1.95996 39845 40054 23552</td>\n",
       "    </tr>\n",
       "    <tr>\n",
       "      <th>2</th>\n",
       "      <td>Weierstrass constant</td>\n",
       "      <td>0.47494 93799 87920 65033</td>\n",
       "    </tr>\n",
       "    <tr>\n",
       "      <th>3</th>\n",
       "      <td>Wallis's constant</td>\n",
       "      <td>2.09455 14815 42326 59148</td>\n",
       "    </tr>\n",
       "    <tr>\n",
       "      <th>4</th>\n",
       "      <td>Viswanath constant</td>\n",
       "      <td>1.13198 82487 943</td>\n",
       "    </tr>\n",
       "  </tbody>\n",
       "</table>\n",
       "</div>"
      ],
      "text/plain": [
       "                               constant               constant_value\n",
       "0                                   Zero                           0\n",
       "1  Z score for the 97.5 percentile point  1.95996 39845 40054 23552 \n",
       "2                   Weierstrass constant  0.47494 93799 87920 65033 \n",
       "3                      Wallis's constant  2.09455 14815 42326 59148 \n",
       "4                     Viswanath constant          1.13198 82487 943 "
      ]
     },
     "execution_count": 8,
     "metadata": {},
     "output_type": "execute_result"
    }
   ],
   "source": [
    "import pandas as pd\n",
    "\n",
    "df = pd.read_csv(r'C:\\Users\\dnc11\\git_projects\\math_constant\\dependencies\\mathematical_constants.csv',encoding= 'unicode_escape')\n",
    "df.head()"
   ]
  },
  {
   "cell_type": "code",
   "execution_count": 9,
   "id": "c8f11e41",
   "metadata": {},
   "outputs": [
    {
     "data": {
      "text/plain": [
       "Index(['constant ', 'constant_value'], dtype='object')"
      ]
     },
     "execution_count": 9,
     "metadata": {},
     "output_type": "execute_result"
    }
   ],
   "source": [
    "df.columns"
   ]
  },
  {
   "cell_type": "code",
   "execution_count": 17,
   "id": "6ea3d411",
   "metadata": {},
   "outputs": [
    {
     "data": {
      "text/plain": [
       "0                                       Zero\n",
       "1      Z score for the 97.5 percentile point\n",
       "2                       Weierstrass constant\n",
       "3                          Wallis's constant\n",
       "4                         Viswanath constant\n",
       "                       ...                  \n",
       "102                     Bernstein's constant\n",
       "103            Base 10 Champernowne constant\n",
       "104                     Backhouse's constant\n",
       "105                         Artin's constant\n",
       "106                         Apéry's constant\n",
       "Name: constant , Length: 107, dtype: object"
      ]
     },
     "execution_count": 17,
     "metadata": {},
     "output_type": "execute_result"
    }
   ],
   "source": []
  },
  {
   "cell_type": "code",
   "execution_count": 18,
   "id": "63f00ee7",
   "metadata": {},
   "outputs": [
    {
     "name": "stdout",
     "output_type": "stream",
     "text": [
      "Zero\n",
      "Z score for the 97.5 percentile point\n",
      "Weierstrass constant\n",
      "Wallis's constant\n",
      "Viswanath constant\n",
      "Van der Pauw constant\n",
      "Universal parabolic constant\n",
      "Two\n",
      "Twin primes constant\n",
      "Twelfth root of 2\n",
      "Tribonacci constant\n",
      "Taniguchi constant\n",
      "Supergolden ratio\n",
      "Stephens' constant\n",
      "Square root of 5\n",
      "Square root of 3\n",
      "Theodorus' constant\n",
      "Square root of 2\n",
      "Pythagoras constant\n",
      "Somos' quadratic recurrence constant\n",
      "Silver ratio\n",
      "Sierpi?ski's constant\n",
      "Second Hermite constant\n",
      "Second Favard constant\n",
      "Second du Bois-Reymond constant\n",
      "Salem constant\n",
      "Robbins constant\n",
      "Regular paperfolding sequence\n",
      "Reciprocal Fibonacci constant\n",
      "Ramanujan's constant\n",
      "RamanujanSoldner constant\n",
      "ProuhetThueMorse constant\n",
      "Prime constant\n",
      "Porter's constant\n",
      "Plastic number\n",
      "Pi\n",
      "Phi, Golden ratio\n",
      "One half\n",
      "One\n",
      "Omega constant\n",
      "Niven's constant\n",
      "Negative one\n",
      "Natural logarithm of 2\n",
      "MRB constant\n",
      "Mills' constant\n",
      "MeisselMertens constant\n",
      "Magic angle\n",
      "Logarithmic capacity of the unit disk\n",
      "Lochs constant\n",
      "Liouville's constant\n",
      "Lieb's square ice constant\n",
      "Lévy's constant (2)\n",
      "Lévy's constant (1)\n",
      "Lemniscate constant\n",
      "Laplace limit\n",
      "Landau's third constant\n",
      "Landau's constant\n",
      "LandauRamanujan constant\n",
      "KomornikLoreti constant\n",
      "Khinchin's constant\n",
      "KeplerBouwkamp constant\n",
      "Imaginary unit\n",
      "Heath-BrownMoroz constant\n",
      "Hausdorff dimension of the Sierpinski triangle\n",
      "HafnerSarnakMcCurley constant\n",
      "Gompertz constant\n",
      "GolombDickman constant\n",
      "Golden angle\n",
      "GlaisherKinkelin constant\n",
      "Gieseking constant\n",
      "Gelfond's constant\n",
      "GelfondSchneider constant\n",
      "Gauss's constant\n",
      "FransénRobinson constant\n",
      "Fractal dimension of the Cantor set\n",
      "Fractal dimension of the Apollonian packing of circles\n",
      "Foias constant\n",
      "First NielsenRamanujan constant\n",
      "First continued fraction constant\n",
      "FellerTornier constant\n",
      "Feigenbaum constant ? \n",
      "Feigenbaum constant ?\n",
      "Euler's number\n",
      "Euler's constant\n",
      "Erd?sTenenbaumFord constant\n",
      "Erd?sBorwein constant\n",
      "EmbreeTrefethen constant\n",
      "Dottie number\n",
      "DeVicci's tesseract constant\n",
      "de BruijnNewman constant\n",
      "Cube root of 3\n",
      "Cube root of 2\n",
      "CopelandErd?s constant\n",
      "Conway's constant\n",
      "Constant related to the asymptotic behavior of Lebesgue constants\n",
      "Connective constant for the hexagonal lattice\n",
      "ChvátalSankoff constant for the binary alphabet\n",
      "Chaitin's constants\n",
      "Catalan's constant\n",
      "Cahen's constant\n",
      "Brun's constant\n",
      "Bloch's constant\n",
      "Bernstein's constant\n",
      "Base 10 Champernowne constant\n",
      "Backhouse's constant\n",
      "Artin's constant\n",
      "Apéry's constant\n"
     ]
    }
   ],
   "source": [
    "for i in df[\"constant \"]:\n",
    "    print(i)"
   ]
  },
  {
   "cell_type": "code",
   "execution_count": 19,
   "id": "10ef84e1",
   "metadata": {},
   "outputs": [
    {
     "data": {
      "text/plain": [
       "0                               0\n",
       "1      1.95996 39845 40054 23552 \n",
       "2      0.47494 93799 87920 65033 \n",
       "3      2.09455 14815 42326 59148 \n",
       "4              1.13198 82487 943 \n",
       "                  ...            \n",
       "102                           NaN\n",
       "103                           NaN\n",
       "104                           NaN\n",
       "105                           NaN\n",
       "106                           NaN\n",
       "Name: constant_value, Length: 107, dtype: object"
      ]
     },
     "execution_count": 19,
     "metadata": {},
     "output_type": "execute_result"
    }
   ],
   "source": [
    "df[\"constant_value\"]"
   ]
  },
  {
   "cell_type": "code",
   "execution_count": 20,
   "id": "00bf9957",
   "metadata": {},
   "outputs": [],
   "source": [
    "dict_mapping = { k:v for (k,v) in zip(df[\"constant \"],df[\"constant_value\"])} "
   ]
  },
  {
   "cell_type": "code",
   "execution_count": 21,
   "id": "db96315b",
   "metadata": {},
   "outputs": [
    {
     "data": {
      "text/plain": [
       "{'Zero': '0',\n",
       " 'Z score for the 97.5 percentile point': '1.95996 39845 40054 23552\\xa0',\n",
       " 'Weierstrass\\xa0constant': '0.47494 93799 87920 65033\\xa0',\n",
       " \"Wallis's constant\": '2.09455 14815 42326 59148\\xa0',\n",
       " 'Viswanath constant': '1.13198 82487 943\\xa0',\n",
       " 'Van der Pauw constant': '4.53236 01418 27193 80962\\xa0',\n",
       " 'Universal parabolic constant': '2.29558 71493 92638 07403\\xa0',\n",
       " 'Two': '2',\n",
       " 'Twin primes constant': '0.66016 18158 46869 57392\\xa0',\n",
       " 'Twelfth root of 2': '1.05946 30943 59295 26456\\xa0',\n",
       " 'Tribonacci constant': '1.83928 67552 14161 13255\\xa0',\n",
       " 'Taniguchi constant': '0.67823 44919 17391 97803\\xa0',\n",
       " 'Supergolden ratio': '1.46557 12318 76768 02665\\xa0',\n",
       " \"Stephens' constant\": '0.57595 99688 92945 43964\\xa0',\n",
       " 'Square root of 5': '2.23606 79774 99789 69640\\xa0',\n",
       " 'Square root of 3': '1.73205 08075 68877 29352\\xa0',\n",
       " \"Theodorus' constant\": '1.41421 35623 73095 04880\\xa0',\n",
       " 'Square root of 2': '1.66168 79496 33594 12129\\xa0',\n",
       " 'Pythagoras\\xa0constant': '2.41421 35623 73095 04880\\xa0',\n",
       " \"Somos' quadratic recurrence constant\": '2.58498 17595 79253 21706',\n",
       " 'Silver ratio': '1.15470 05383 79251 52901\\xa0',\n",
       " \"Sierpi?ski's constant\": '1.23370 05501 36169 82735\\xa0',\n",
       " 'Second\\xa0Hermite constant': '0.19452 80494 65325 11361',\n",
       " 'Second\\xa0Favard constant': '1.17628 08182 59917 50654',\n",
       " 'Second du Bois-Reymond constant': '0.66170 71822 67176 23515',\n",
       " 'Salem constant': '0.85073 61882 01867 26036',\n",
       " 'Robbins constant': '3.35988 56662 43177 55317',\n",
       " 'Regular paperfolding sequence': '262 53741 26407 68743',\n",
       " 'Reciprocal Fibonacci constant': '.99999 99999 99250 073',\n",
       " \"Ramanujan's constant\": '1.45136 92348 83381 05028',\n",
       " 'Ramanujan\\x96Soldner constant': '0.41245 40336 40107 59778',\n",
       " 'Prouhet\\x96Thue\\x96Morse constant': '0.41468 25098 51111 66024',\n",
       " 'Prime constant': '1.46707 80794 33975 47289',\n",
       " \"Porter's constant\": '1.32471 79572 44746 02596',\n",
       " 'Plastic number': '3.14159 26535 89793 23846',\n",
       " 'Pi': '1.61803 39887 49894 84820',\n",
       " 'Phi,\\xa0Golden ratio': '0.5',\n",
       " 'One half': '1',\n",
       " 'One': '0.56714 32904 09783 87299',\n",
       " 'Omega constant': '1.70521 11401 05367 76428',\n",
       " \"Niven's constant\": '?1',\n",
       " 'Negative one': '0.69314 71805 59945 30941',\n",
       " 'Natural logarithm of 2': '0.18785 96424 62067 12024',\n",
       " 'MRB constant': '1.30637 78838 63080 69046',\n",
       " \"Mills' constant\": '0.26149 72128 47642 78375',\n",
       " 'Meissel\\x96Mertens constant': '0.95531 66181 245092 78163',\n",
       " 'Magic angle': '0.59017 02995 08048 11302\\xa0',\n",
       " 'Logarithmic capacity\\xa0of the unit disk': '0.97027 01143 92033 92574\\xa0',\n",
       " 'Lochs constant': '0.11000 10000 00000 00000 0001\\xa0',\n",
       " \"Liouville's constant\": '1.53960 07178 39002 03869\\xa0',\n",
       " \"Lieb's square ice constant\": '3.27582 29187 21811 15978\\xa0',\n",
       " \"Lévy's constant\\xa0(2)\": '1.18656 91104 15625 45282\\xa0',\n",
       " \"Lévy's constant\\xa0(1)\": '2.62205 75542 92119 81046\\xa0',\n",
       " 'Lemniscate constant': '0.66274 34193 49181 58097\\xa0',\n",
       " 'Laplace limit': '0.76422 36535 89220 66299\\xa0',\n",
       " \"Landau's third constant\": '1.78723 16501 82965 93301',\n",
       " \"Landau's constant\": '2.68545 20010 65306 44530',\n",
       " 'Landau\\x96Ramanujan constant': '0.11494 20448 53296 20070',\n",
       " 'Komornik\\x96Loreti constant': '0 + 1i',\n",
       " \"Khinchin's constant\": '0.00131 76411 54853 17810',\n",
       " 'Kepler\\x96Bouwkamp constant': '1.58496 25007 21156 18145',\n",
       " 'Imaginary unit': '0.35323 63718 54995 98454',\n",
       " 'Heath-Brown\\x96Moroz constant': '0.59634 73623 23194 07434',\n",
       " 'Hausdorff dimension\\xa0of the\\xa0Sierpinski triangle': '0.62432 99885 43550 87099',\n",
       " 'Hafner\\x96Sarnak\\x96McCurley constant': '2.39996 32297 28653 32223',\n",
       " 'Gompertz constant': '1.28242 71291 00622 63687',\n",
       " 'Golomb\\x96Dickman constant': '1.01494 16064 09653 62502',\n",
       " 'Golden angle': '23.14069 26327 79269 0057',\n",
       " 'Glaisher\\x96Kinkelin constant': '2.66514 41426 90225 18865',\n",
       " 'Gieseking constant': '0.83462 68416 74073 18628',\n",
       " \"Gelfond's constant\": '2.80777 02420 28519 36522',\n",
       " 'Gelfond\\x96Schneider constant': '0.63092 97535 71457 43709',\n",
       " \"Gauss's constant\": '1.30568 6729',\n",
       " 'Fransén\\x96Robinson constant': '1.30568 8',\n",
       " 'Fractal dimension of the Cantor set': '1.18745 23511 26501 05459',\n",
       " 'Fractal dimension of the Apollonian packing of circles': '0.82246 70334 24113 21823',\n",
       " 'Foias constant': '0.69777 46579 64007 98201',\n",
       " 'First\\xa0Nielsen\\x96Ramanujan\\xa0constant': '0.66131 70494 69622 33528',\n",
       " 'First\\xa0continued fraction\\xa0constant': '4.66920 16091 02990 67185',\n",
       " 'Feller\\x96Tornier constant': '2.50290 78750 95892 82228',\n",
       " 'Feigenbaum constant\\xa0?\\xa0': '2.71828 18284 59045 23536',\n",
       " 'Feigenbaum constant\\xa0?': '0.57721 56649 01532 86060',\n",
       " \"Euler's number\": '0.86071 33205 59342 06887',\n",
       " \"Euler's constant\": '1.60669 51524 15291 76378',\n",
       " 'Erd?s\\x96Tenenbaum\\x96Ford constant': '0.70258',\n",
       " 'Erd?s\\x96Borwein constant': '0.73908 51332 15160 64165',\n",
       " 'Embree\\x96Trefethen constant': '1.00743 47568 84279 37609',\n",
       " 'Dottie number': '1.44224 95703 07408 38232',\n",
       " \"DeVicci's tesseract constant\": '1.25992 10498 94873 16476',\n",
       " 'de Bruijn\\x96Newman constant': '0.23571 11317 19232 93137',\n",
       " 'Cube root\\xa0of 3': '1.30357 72690 34296 39125',\n",
       " 'Cube root of 2': '0.98943 12738 31146 95174',\n",
       " 'Copeland\\x96Erd?s constant': '1.84775 90650 22573 51225',\n",
       " \"Conway's constant\": '0.00787 49969 97812 3844',\n",
       " 'Constant related to the asymptotic behavior of\\xa0Lebesgue constants': '0.91596 55941 77219 01505',\n",
       " 'Connective constant\\xa0for the hexagonal lattice': '0.64341 05462 88338 02618',\n",
       " 'Chvátal\\x96Sankoff constant\\xa0for the binary alphabet': '1.90216 05831 04',\n",
       " \"Chaitin's constants\": '0.28016 94990 23869 13303',\n",
       " \"Catalan's constant\": '0.12345 67891 01112 13141',\n",
       " \"Cahen's constant\": '1.45607 49485 82689 67139',\n",
       " \"Brun's constant\": '0.37395 58136 19202 28805',\n",
       " \"Bloch's constant\": '1.20205 69031 59594 28539',\n",
       " \"Bernstein's constant\": nan,\n",
       " 'Base 10\\xa0Champernowne constant': nan,\n",
       " \"Backhouse's constant\": nan,\n",
       " \"Artin's constant\": nan,\n",
       " \"Apéry's constant\": nan}"
      ]
     },
     "execution_count": 21,
     "metadata": {},
     "output_type": "execute_result"
    }
   ],
   "source": [
    "dict_mapping"
   ]
  },
  {
   "cell_type": "code",
   "execution_count": 23,
   "id": "d61e566d",
   "metadata": {},
   "outputs": [
    {
     "data": {
      "text/plain": [
       "'1.46557 12318 76768 02665\\xa0'"
      ]
     },
     "execution_count": 23,
     "metadata": {},
     "output_type": "execute_result"
    }
   ],
   "source": [
    "dict_mapping[\"Supergolden ratio\"]"
   ]
  },
  {
   "cell_type": "code",
   "execution_count": null,
   "id": "157bbdf0",
   "metadata": {},
   "outputs": [],
   "source": []
  }
 ],
 "metadata": {
  "kernelspec": {
   "display_name": "Python 3 (ipykernel)",
   "language": "python",
   "name": "python3"
  },
  "language_info": {
   "codemirror_mode": {
    "name": "ipython",
    "version": 3
   },
   "file_extension": ".py",
   "mimetype": "text/x-python",
   "name": "python",
   "nbconvert_exporter": "python",
   "pygments_lexer": "ipython3",
   "version": "3.10.4"
  }
 },
 "nbformat": 4,
 "nbformat_minor": 5
}
