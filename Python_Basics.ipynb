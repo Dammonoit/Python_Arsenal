{
 "cells": [
  {
   "cell_type": "markdown",
   "metadata": {},
   "source": [
    "# **Python Basics.**\n",
    "* Python is an object-oriented programming language created by Guido Rossum in 1989. \n",
    "* It is ideally designed for rapid prototyping of complex applications. \n",
    "* It has interfaces to many OS system calls and libraries and is extensible to C or C++. \n",
    "* It is a general-purpose interpreted, interactive, object-oriented, and high-level programming language.\n",
    "* Python source code is also available under the GNU General Public License (GPL). \n",
    "* Many large companies use the Python programming language include NASA, Google, YouTube, BitTorrent, etc.\n",
    "* Python is widely used in Artificial Intelligence, Natural Language Generation, Neural Networks and other advanced fields of Computer Science. \n",
    "* Python had deep focus on code readability.\n"
   ]
  },
  {
   "cell_type": "markdown",
   "metadata": {},
   "source": [
    "## **Difference between Method and Function in Python.**\n",
    "Here, key differences between Method and Function in Python are explained. Java is also an OOP language, but their is no concept of Function in it. But Python has both concept of Method and Function.\n"
   ]
  }
 ],
 "metadata": {
  "kernelspec": {
   "display_name": "Python 3",
   "language": "python",
   "name": "python3"
  },
  "language_info": {
   "codemirror_mode": {
    "name": "ipython",
    "version": 3
   },
   "file_extension": ".py",
   "mimetype": "text/x-python",
   "name": "python",
   "nbconvert_exporter": "python",
   "pygments_lexer": "ipython3",
   "version": "3.6.3"
  }
 },
 "nbformat": 4,
 "nbformat_minor": 2
}
