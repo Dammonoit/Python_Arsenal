{
 "cells": [
  {
   "attachments": {
    "image.png": {
     "image/png": "[encoded data removed]"
    }
   },
   "cell_type": "markdown",
   "id": "3bdd5aa6",
   "metadata": {
    "id": "3bdd5aa6"
   },
   "source": [
    "# **Functions**\n",
    "#### **What is a function?**\n",
    "* A function is a named code block that performs a job or returns a value.\n",
    "\n",
    "#### **Why do you need functions in Python?**\n",
    "* Sometimes, you need to perform a task multiple times in a program. And you don’t want to copy the code for that same task all over places.\n",
    "\n",
    "* To do so, you wrap the code in a function and use this function to perform the task whenever you need it.\n",
    "\n",
    "* For example, whenever you want to display a value on the screen, you need to call the print() function. Behind the scene, Python runs the code inside the print() function to display a value on the screen.\n",
    "\n",
    "* In practice, you use functions to divide a large program into smaller and more manageable parts. The functions will make your program easier to develop, read, test, and maintain.\n",
    "\n",
    "* The print() function is one of many built-in functions in Python. It means that these functions are available everywhere in the program.\n",
    "\n",
    "#### **Defining a Python function**\n",
    "* **1) Function definition**\n",
    "    * A function definition starts with the def keyword and the name of the function (greet).\n",
    "\n",
    "    * If the function needs some information to do its job, you need to specify it inside the parentheses (). The greet function in this example doesn’t need any information, so its parentheses are empty.\n",
    "\n",
    "    * The function definition always ends in a colon (:).\n",
    "* **2) Function body**\n",
    "    * All the indented lines that follow the function definition make up the function’s body.\n",
    "\n",
    "    * The text string surrounded by triple quotes is called a docstring. It describes what the function does. Python uses the docstring to generate documentation for the function automatically.\n",
    "\n",
    "    * The line print('Hi') is the only line of actual code in the function body. The greet() function does one task: print('Hi').\n",
    " \n",
    "* **3) Calling a function**\n",
    "\n",
    "    * When you want to use a function, you need to call it. A function call instructs Python to execute the code inside the function.\n",
    "\n",
    "    * To call a function, you write the function’s name, followed by the information that the function needs in parentheses.\n",
    "\n",
    "    * The following example calls the greet() function. Since the greet() function doesn’t need any information, you need to specify empty parentheses like this:\n",
    "    ![image.png](attachment:image.png)"
   ]
  },
  {
   "cell_type": "code",
   "execution_count": null,
   "id": "6ea1e400",
   "metadata": {
    "id": "6ea1e400",
    "outputId": "dfafd63c-335e-41e4-864f-5d85fe015cbe"
   },
   "outputs": [
    {
     "name": "stdout",
     "output_type": "stream",
     "text": [
      "Hi\n"
     ]
    }
   ],
   "source": [
    "def greet():\n",
    "    \"\"\" Display a greeting to users \"\"\"\n",
    "    print('Hi')\n",
    "greet()"
   ]
  },
  {
   "cell_type": "code",
   "execution_count": null,
   "id": "747b3cad",
   "metadata": {
    "id": "747b3cad",
    "outputId": "6d813d06-b052-48aa-cc99-b85d7aca1f10"
   },
   "outputs": [
    {
     "name": "stdout",
     "output_type": "stream",
     "text": [
      "Hi\n"
     ]
    }
   ],
   "source": [
    "h=greet()\n",
    "h"
   ]
  },
  {
   "attachments": {
    "image-2.png": {
     "image/png": "[encoded data removed]"
    },
    "image.png": {
     "image/png": "[encoded data removed]"
    }
   },
   "cell_type": "markdown",
   "id": "8ca3dd50",
   "metadata": {
    "id": "8ca3dd50"
   },
   "source": [
    "## **Passing information to Python functions**\n",
    "* Suppose that you want to greet users by their names. To do it, you need to specify a name in parentheses of the function definition as follows:\n",
    "![image.png](attachment:image.png)\n",
    "* The name is called a function parameter or simply parameter.\n",
    "* When you add a parameter to the function definition, you can use it as a variable inside the function body:\n",
    "![image-2.png](attachment:image-2.png)\n",
    "* And you can access the name parameter only within the body of the greet() function, not the outside."
   ]
  },
  {
   "cell_type": "code",
   "execution_count": null,
   "id": "225de81e",
   "metadata": {
    "id": "225de81e",
    "outputId": "da0b0e25-79f2-4772-debb-c1e190c7b2d4"
   },
   "outputs": [
    {
     "name": "stdout",
     "output_type": "stream",
     "text": [
      "Hi John\n"
     ]
    }
   ],
   "source": [
    "def greet(name):\n",
    "    print(f\"Hi {name}\")\n",
    "greet('John')"
   ]
  },
  {
   "cell_type": "markdown",
   "id": "b9084790",
   "metadata": {
    "id": "b9084790"
   },
   "source": [
    "* The value that you pass into a function is called an argument. In this example 'John' is an argument.\n",
    "\n",
    "* Also, you can call the function by passing a variable into it:"
   ]
  },
  {
   "cell_type": "code",
   "execution_count": null,
   "id": "a96710b8",
   "metadata": {
    "id": "a96710b8",
    "outputId": "9fbcb0f3-af50-4248-b21a-beb6b4a2dbd7"
   },
   "outputs": [
    {
     "name": "stdout",
     "output_type": "stream",
     "text": [
      "Hi Jane\n"
     ]
    }
   ],
   "source": [
    "first_name = 'Jane'\n",
    "greet(first_name)"
   ]
  },
  {
   "cell_type": "markdown",
   "id": "cbb6d5bc",
   "metadata": {
    "id": "cbb6d5bc"
   },
   "source": [
    "### **Parameters vs. Arguments**\n",
    "* Sometimes, parameters and arguments are used interchangeably. It’s important to distinguish between the parameters and arguments of a function.\n",
    "\n",
    "* A parameter is a piece of information that a function needs. And you specify the parameter in the function definition. For example, the greet() function has a parameter called name.\n",
    "\n",
    "* An argument is a piece of data that you pass into the function. For example, the text string 'John' or the variable jane is the function argument."
   ]
  },
  {
   "attachments": {
    "image-2.png": {
     "image/png": "[encoded data removed]"
    },
    "image.png": {
     "image/png": "[encoded data removed]"
    }
   },
   "cell_type": "markdown",
   "id": "55d7b7bc",
   "metadata": {
    "id": "55d7b7bc"
   },
   "source": [
    "### **Returning a value**\n",
    "* A function can perform a task like the greet() function. Or it can return a value. The value that a function returns is called a return value.\n",
    "\n",
    "* To return a value from a function, you use the return statement inside the function body.\n",
    "![image.png](attachment:image.png)\n",
    "* The following example modifies the greet() function to return a greeting instead of displaying it on the screen:\n",
    "![image-2.png](attachment:image-2.png)"
   ]
  },
  {
   "cell_type": "code",
   "execution_count": null,
   "id": "6b98f901",
   "metadata": {
    "id": "6b98f901",
    "outputId": "f3ab0d5b-7c5d-4443-b491-5f330fdd99e3"
   },
   "outputs": [
    {
     "name": "stdout",
     "output_type": "stream",
     "text": [
      "Hi John\n"
     ]
    }
   ],
   "source": [
    "def greet(name):\n",
    "    return f\"Hi {name}\"\n",
    "greeting = greet('John')\n",
    "print(greeting)"
   ]
  },
  {
   "cell_type": "markdown",
   "id": "c99906ee",
   "metadata": {
    "id": "c99906ee"
   },
   "source": [
    "### **Python functions with multiple parameters**\n",
    "* A function can have zero, one, or multiple parameters."
   ]
  },
  {
   "cell_type": "code",
   "execution_count": null,
   "id": "38869730",
   "metadata": {
    "id": "38869730",
    "outputId": "3e0b017c-2969-4117-8b3b-2e1e957b56e2"
   },
   "outputs": [
    {
     "name": "stdout",
     "output_type": "stream",
     "text": [
      "30\n"
     ]
    }
   ],
   "source": [
    "def sum(a, b):\n",
    "    return a + b\n",
    "\n",
    "\n",
    "total = sum(10,20)\n",
    "print(total)"
   ]
  },
  {
   "cell_type": "markdown",
   "id": "d639579f",
   "metadata": {
    "id": "d639579f"
   },
   "source": [
    "* In this example, the sum() function has two parameters a and b, and returns the sum of them.\n",
    "\n",
    "* When a function has multiple parameters, you need to use a comma to separate them.\n",
    "\n",
    "* When you call the function, you need to pass all the arguments. If you pass more or fewer arguments to the function, you’ll get an error.\n",
    "\n",
    "* In the above function call, a will be 10 and b will be 20 inside the function body."
   ]
  },
  {
   "attachments": {
    "image-2.png": {
     "image/png": "[encoded data removed]"
    },
    "image.png": {
     "image/png": "[encoded data removed]"
    }
   },
   "cell_type": "markdown",
   "id": "37057efc",
   "metadata": {
    "id": "37057efc"
   },
   "source": [
    "## **Python Default Parameters**\n",
    "* When you define a function, you can specify a default value for each parameter.\n",
    "* To specify default values for parameters, you use the following syntax:\n",
    "![image.png](attachment:image.png)\n",
    "* In this syntax, you specify default values (value2, value3, …) for each parameter using the assignment operator (=).\n",
    "\n",
    "* When you call a function and pass an argument to the parameter that has a default value, the function will use that argument instead of the default value.\n",
    "\n",
    "* However, if you don’t pass the argument, the function will use the default value.\n",
    "\n",
    "* To use default parameters, you need to place parameters with the default values after other parameters. Otherwise, you’ll get a syntax error.\n",
    "* For example, you cannot do something like this:\n",
    "![image-2.png](attachment:image-2.png)"
   ]
  },
  {
   "cell_type": "code",
   "execution_count": null,
   "id": "cc435eff",
   "metadata": {
    "id": "cc435eff",
    "outputId": "290a1f9d-4cc8-4439-b066-8505f65c80b9"
   },
   "outputs": [
    {
     "data": {
      "text/plain": [
       "'Hi John'"
      ]
     },
     "execution_count": 9,
     "metadata": {},
     "output_type": "execute_result"
    }
   ],
   "source": [
    "def greet(name, message='Hi'):\n",
    "    return f\"{message} {name}\"\n",
    "greet('John')"
   ]
  },
  {
   "cell_type": "code",
   "execution_count": null,
   "id": "10a2ed1a",
   "metadata": {
    "id": "10a2ed1a",
    "outputId": "5b4371ee-a3a9-4dad-818d-2a208550b7f4"
   },
   "outputs": [
    {
     "name": "stdout",
     "output_type": "stream",
     "text": [
      "Hello John\n"
     ]
    }
   ],
   "source": [
    "greeting = greet('John', 'Hello')\n",
    "print(greeting)"
   ]
  },
  {
   "cell_type": "markdown",
   "id": "1cc3a70a",
   "metadata": {
    "id": "1cc3a70a"
   },
   "source": [
    "### **Multiple default parameters**"
   ]
  },
  {
   "cell_type": "code",
   "execution_count": null,
   "id": "d87dd6c3",
   "metadata": {
    "id": "d87dd6c3",
    "outputId": "7b747501-a516-4ab7-8d6e-ef48186a5dcb"
   },
   "outputs": [
    {
     "name": "stdout",
     "output_type": "stream",
     "text": [
      "Hi there\n"
     ]
    }
   ],
   "source": [
    "def greet(name='there', message='Hi'):\n",
    "    return f\"{message} {name}\"\n",
    "\n",
    "\n",
    "greeting = greet()\n",
    "print(greeting)"
   ]
  },
  {
   "cell_type": "markdown",
   "id": "a27add1e",
   "metadata": {
    "id": "a27add1e"
   },
   "source": [
    "* Suppose that you want the greet() function to return a greeting like **Hello there**. You may come up with the following function call:\n",
    "* Unfortuntely, it returns an unexpected value:**Hi Hello**\n",
    "* Because when you pass the 'Hello' argument, the greet() function treats it as the first argument, not the second one."
   ]
  },
  {
   "cell_type": "code",
   "execution_count": null,
   "id": "6426b373",
   "metadata": {
    "id": "6426b373",
    "outputId": "c24a9b4a-096b-4062-a975-e2458c2d5ddc"
   },
   "outputs": [
    {
     "name": "stdout",
     "output_type": "stream",
     "text": [
      "Hi Hello\n"
     ]
    }
   ],
   "source": [
    "greeting = greet('Hello')\n",
    "print(greeting)"
   ]
  },
  {
   "cell_type": "markdown",
   "id": "0b366894",
   "metadata": {
    "id": "0b366894"
   },
   "source": [
    "* To resolve this, you need to call the greet() function using keyword arguments like this:"
   ]
  },
  {
   "cell_type": "code",
   "execution_count": null,
   "id": "f7ec23db",
   "metadata": {
    "id": "f7ec23db",
    "outputId": "9c2046ea-731f-413d-97fb-fb28286c0969"
   },
   "outputs": [
    {
     "name": "stdout",
     "output_type": "stream",
     "text": [
      "Hello there\n"
     ]
    }
   ],
   "source": [
    "def greet(name='there', message='Hi'):\n",
    "    return f\"{message} {name}\"\n",
    "\n",
    "\n",
    "greeting = greet(message='Hello')\n",
    "print(greeting)"
   ]
  },
  {
   "cell_type": "markdown",
   "id": "2abae15b",
   "metadata": {
    "id": "2abae15b"
   },
   "source": [
    "## **Python Keyword Arguments**\n",
    "* Let’s start with a simple function that calculates the net price from the selling price and discount:"
   ]
  },
  {
   "cell_type": "code",
   "execution_count": null,
   "id": "e7094704",
   "metadata": {
    "id": "e7094704"
   },
   "outputs": [],
   "source": [
    "def get_net_price(price, discount):\n",
    "    return price * (1-discount)"
   ]
  },
  {
   "cell_type": "markdown",
   "id": "d8a8f1fa",
   "metadata": {
    "id": "d8a8f1fa"
   },
   "source": [
    "* The get_net_price() function has two parameters: price and discount.\n",
    "\n",
    "* The following shows how to call the get_net_price() function to calculate the net price from the price 100 and discount 10%:"
   ]
  },
  {
   "cell_type": "code",
   "execution_count": null,
   "id": "3fde725b",
   "metadata": {
    "id": "3fde725b",
    "outputId": "064f88d4-9e3b-4b61-ab68-1a91caa97e0c"
   },
   "outputs": [
    {
     "name": "stdout",
     "output_type": "stream",
     "text": [
      "90.0\n"
     ]
    }
   ],
   "source": [
    "net_price = get_net_price(100, 0.1)\n",
    "print(net_price)"
   ]
  },
  {
   "cell_type": "markdown",
   "id": "2fac5c6b",
   "metadata": {
    "id": "2fac5c6b"
   },
   "source": [
    "* In the get_net_price(100, 0.1) function call, we pass each argument as a positional argument. In other words, we pass the price argument first and the discount argument second.\n",
    "\n",
    "* However, the function call get_net_price(100, 0.1) has a readability issue. Because by looking at that function call only, you don’t know which argument is price and which one is the discount.\n",
    "\n",
    "* On top of that, when you call the get_net_price() function, you need to know the position of each argument.\n",
    "\n",
    "* If you don’t, the function will calculate the net_price incorrectly. For example:"
   ]
  },
  {
   "cell_type": "code",
   "execution_count": null,
   "id": "c7d5300b",
   "metadata": {
    "id": "c7d5300b",
    "outputId": "7fc40e21-c585-4466-bdff-5c7720334398"
   },
   "outputs": [
    {
     "name": "stdout",
     "output_type": "stream",
     "text": [
      "-9.9\n"
     ]
    }
   ],
   "source": [
    "net_price = get_net_price(0.1, 100)\n",
    "print(net_price)"
   ]
  },
  {
   "attachments": {
    "image-2.png": {
     "image/png": "[encoded data removed]"
    },
    "image.png": {
     "image/png": "[encoded data removed]"
    }
   },
   "cell_type": "markdown",
   "id": "387fdcd8",
   "metadata": {
    "id": "387fdcd8"
   },
   "source": [
    "* To improve the readability, Python introduces the keyword arguments.\n",
    "\n",
    "* The following shows the keyword argument syntax:\n",
    "![image.png](attachment:image.png)\n",
    "* By using the keyword argument syntax, you don’t need to specify the arguments in the same order as defined in the function.\n",
    "* Therefore, you can call a function by swapping the argument positions like this:\n",
    "![image-2.png](attachment:image-2.png)"
   ]
  },
  {
   "cell_type": "code",
   "execution_count": null,
   "id": "e49f68c8",
   "metadata": {
    "id": "e49f68c8",
    "outputId": "e1c9a21c-3f06-4a6d-c09c-b4f8c1e73bdd"
   },
   "outputs": [
    {
     "data": {
      "text/plain": [
       "90.0"
      ]
     },
     "execution_count": 17,
     "metadata": {},
     "output_type": "execute_result"
    }
   ],
   "source": [
    "#The following shows how to use the keyword argument syntax to call the get_net_price() function:\n",
    "net_price = get_net_price(price=100, discount=0.1)\n",
    "net_price"
   ]
  },
  {
   "cell_type": "code",
   "execution_count": null,
   "id": "abcab42f",
   "metadata": {
    "id": "abcab42f",
    "outputId": "32eb0849-9a3d-4c94-bdb3-e2914920e80a"
   },
   "outputs": [
    {
     "data": {
      "text/plain": [
       "90.0"
      ]
     },
     "execution_count": 18,
     "metadata": {},
     "output_type": "execute_result"
    }
   ],
   "source": [
    "net_price = get_net_price(discount=0.1, price=100)\n",
    "net_price"
   ]
  },
  {
   "attachments": {
    "image.png": {
     "image/png": "[encoded data removed]"
    }
   },
   "cell_type": "markdown",
   "id": "9f363fc9",
   "metadata": {
    "id": "9f363fc9"
   },
   "source": [
    "* Both of them returns the same result.\n",
    "\n",
    "* When you use the keyword arguments, their names that matter, not their positions.\n",
    "\n",
    "* Note that you can call a function by mixing positional and keyword arguments. For example:\n",
    "![image.png](attachment:image.png)"
   ]
  },
  {
   "cell_type": "markdown",
   "id": "f31b9ff8",
   "metadata": {
    "id": "f31b9ff8"
   },
   "source": [
    "### **Keyword arguments and default parameters**\n",
    "* Suppose that you have the following get_net_price() function that calculates the net price from the selling price, tax, and discount."
   ]
  },
  {
   "cell_type": "code",
   "execution_count": null,
   "id": "083af5a0",
   "metadata": {
    "id": "083af5a0"
   },
   "outputs": [],
   "source": [
    "#In the get_net_price() function, the tax and discount parameters have default values of 7% and 5% respectively.\n",
    "def get_net_price(price, tax=0.07, discount=0.05):\n",
    "    return price * (1 + tax - discount)"
   ]
  },
  {
   "cell_type": "markdown",
   "id": "bf7ce13d",
   "metadata": {
    "id": "bf7ce13d"
   },
   "source": [
    "* The following calls the get_net_price() function and uses the default values for tax and discount parameters:"
   ]
  },
  {
   "cell_type": "code",
   "execution_count": null,
   "id": "925c77eb",
   "metadata": {
    "id": "925c77eb",
    "outputId": "6b88a226-f107-42bd-9347-6e09cf1ed0d9"
   },
   "outputs": [
    {
     "name": "stdout",
     "output_type": "stream",
     "text": [
      "102.0\n"
     ]
    }
   ],
   "source": [
    "net_price = get_net_price(100)\n",
    "print(net_price)"
   ]
  },
  {
   "cell_type": "markdown",
   "id": "c86b20bc",
   "metadata": {
    "id": "c86b20bc"
   },
   "source": [
    "* Suppose that you want to use the default value for the tax parameter but not discount. The following function call doesn’t work correctly."
   ]
  },
  {
   "cell_type": "code",
   "execution_count": null,
   "id": "934a6e40",
   "metadata": {
    "id": "934a6e40",
    "outputId": "d7f75d55-6393-42ab-a023-8669afce89ec"
   },
   "outputs": [
    {
     "data": {
      "text/plain": [
       "101.0"
      ]
     },
     "execution_count": 24,
     "metadata": {},
     "output_type": "execute_result"
    }
   ],
   "source": [
    "net_price = get_net_price(100, 0.06)\n",
    "net_price"
   ]
  },
  {
   "cell_type": "markdown",
   "id": "0a5a1f7a",
   "metadata": {
    "id": "0a5a1f7a"
   },
   "source": [
    "* because Python will assign 100 to price and 0.1 to tax, not discount.\n",
    "* To fix this, you must use keyword arguments:"
   ]
  },
  {
   "cell_type": "code",
   "execution_count": null,
   "id": "21179199",
   "metadata": {
    "id": "21179199",
    "outputId": "b6cca64a-395f-4939-8aa5-55b2b44f7202"
   },
   "outputs": [
    {
     "name": "stdout",
     "output_type": "stream",
     "text": [
      "101.0\n"
     ]
    }
   ],
   "source": [
    "net_price = get_net_price(price=100, discount=0.06)\n",
    "print(net_price)"
   ]
  },
  {
   "cell_type": "code",
   "execution_count": null,
   "id": "27cb344f",
   "metadata": {
    "id": "27cb344f",
    "outputId": "e04847e1-6d08-4560-b5fb-aa5a11b7dea5"
   },
   "outputs": [
    {
     "name": "stdout",
     "output_type": "stream",
     "text": [
      "101.0\n"
     ]
    }
   ],
   "source": [
    "#Or you can mix the positional and keyword arguments:\n",
    "net_price = get_net_price(100, discount=0.06)\n",
    "print(net_price)"
   ]
  },
  {
   "cell_type": "markdown",
   "id": "ab6d3f02",
   "metadata": {
    "id": "ab6d3f02"
   },
   "source": [
    "#### **Python keyword argument requirements**\n",
    "* Once you use a keyword argument, you need to use keyword arguments for the remaining parameters.\n",
    "* The following will result in an error because it uses the positional argument after a keyword argument:"
   ]
  },
  {
   "cell_type": "code",
   "execution_count": null,
   "id": "b06abd54",
   "metadata": {
    "id": "b06abd54",
    "outputId": "015839cb-1e5d-411d-f84e-b4bcc33e2076"
   },
   "outputs": [
    {
     "ename": "SyntaxError",
     "evalue": "positional argument follows keyword argument (1414197187.py, line 1)",
     "output_type": "error",
     "traceback": [
      "\u001b[1;36m  Input \u001b[1;32mIn [26]\u001b[1;36m\u001b[0m\n\u001b[1;33m    net_price = get_net_price(100, tax=0.08, 0.06)\u001b[0m\n\u001b[1;37m                                                 ^\u001b[0m\n\u001b[1;31mSyntaxError\u001b[0m\u001b[1;31m:\u001b[0m positional argument follows keyword argument\n"
     ]
    }
   ],
   "source": [
    "net_price = get_net_price(100, tax=0.08, 0.06)"
   ]
  },
  {
   "cell_type": "markdown",
   "id": "7f55f0b3",
   "metadata": {
    "id": "7f55f0b3"
   },
   "source": [
    "* To fix this, you need to use the keyword argument for the third argument like this:"
   ]
  },
  {
   "cell_type": "code",
   "execution_count": null,
   "id": "21ac77a8",
   "metadata": {
    "id": "21ac77a8",
    "outputId": "86e89583-ce94-468d-a223-1bd7122a167d"
   },
   "outputs": [
    {
     "name": "stdout",
     "output_type": "stream",
     "text": [
      "102.0\n"
     ]
    }
   ],
   "source": [
    "net_price = get_net_price(100, tax=0.08, discount=0.06)\n",
    "print(net_price)"
   ]
  },
  {
   "attachments": {
    "image-2.png": {
     "image/png": "[encoded data removed]"
    },
    "image.png": {
     "image/png": "[encoded data removed]"
    }
   },
   "cell_type": "markdown",
   "id": "1801cec3",
   "metadata": {
    "id": "1801cec3"
   },
   "source": [
    "## **Python Recursive Functions**\n",
    "* A recursive function is a function that calls itself until it doesn’t.\n",
    "* The following **fn()** function is a recursive function because it has a call to itself:\n",
    "![image.png](attachment:image.png)\n",
    "* In the fn() function, the #... means other code.\n",
    "\n",
    "* Also, a recursive function needs to have a condition to stop calling itself. So you need to add an if statement like this:\n",
    "![image-2.png](attachment:image-2.png)\n",
    "* Typically, you use a recursive function to divide a big problem that’s difficult to solve into smaller problems that are easier-to-solve.\n",
    "\n",
    "* In programming, you’ll often find the recursive functions used in data structures and algorithms like trees, graphs, and binary searches."
   ]
  },
  {
   "cell_type": "code",
   "execution_count": null,
   "id": "7de48b05",
   "metadata": {
    "id": "7de48b05"
   },
   "outputs": [],
   "source": [
    "#Suppose you need to develop a countdown function that counts down from a specified number to zero.\n",
    "def count_down(start):\n",
    "    \"\"\" Count down from a number  \"\"\"\n",
    "    print(start)\n",
    "    count_down(start-1)\n",
    "\n",
    "\n",
    "count_down(3)"
   ]
  },
  {
   "attachments": {
    "image.png": {
     "image/png": "[encoded data removed]"
    }
   },
   "cell_type": "markdown",
   "id": "46ed81ee",
   "metadata": {
    "id": "46ed81ee"
   },
   "source": [
    "* If you execute the program, you’ll see the following error:\n",
    "![image.png](attachment:image.png)\n",
    "* The reason is that the count_down() calls itself indefinitely until the system stops it.\n",
    "\n",
    "* Since you need to stop counting down the number reaches zero. To do so, you add a condition like this:"
   ]
  },
  {
   "cell_type": "code",
   "execution_count": null,
   "id": "bda14bca",
   "metadata": {
    "id": "bda14bca",
    "outputId": "a27d88f0-7cfb-43f4-bc67-3206268a074e"
   },
   "outputs": [
    {
     "name": "stdout",
     "output_type": "stream",
     "text": [
      "3\n",
      "2\n",
      "1\n"
     ]
    }
   ],
   "source": [
    "def count_down(start):\n",
    "    \"\"\" Count down from a number  \"\"\"\n",
    "    print(start)\n",
    "\n",
    "    # call the count_down if the next\n",
    "    # number is greater than 0\n",
    "    next = start - 1\n",
    "    if next > 0:\n",
    "        count_down(next)\n",
    "\n",
    "\n",
    "count_down(3)"
   ]
  },
  {
   "cell_type": "code",
   "execution_count": null,
   "id": "b8c06980",
   "metadata": {
    "id": "b8c06980",
    "outputId": "71fbceb2-20b2-4de0-cdca-6d71ca212089"
   },
   "outputs": [
    {
     "name": "stdout",
     "output_type": "stream",
     "text": [
      "5050\n"
     ]
    }
   ],
   "source": [
    "#Using a non-recursive recursive function to calculate the sum of a sequence\n",
    "def sum(n):\n",
    "    total = 0\n",
    "    for index in range(n+1):\n",
    "        total += index\n",
    "\n",
    "    return total\n",
    "\n",
    "\n",
    "result = sum(100)\n",
    "print(result)"
   ]
  },
  {
   "cell_type": "code",
   "execution_count": null,
   "id": "7fd414de",
   "metadata": {
    "id": "7fd414de",
    "outputId": "0fca90cb-f7b9-4631-af9e-2091b24e73f5"
   },
   "outputs": [
    {
     "name": "stdout",
     "output_type": "stream",
     "text": [
      "5050\n"
     ]
    }
   ],
   "source": [
    "##Using a recursive recursive function to calculate the sum of a sequence\n",
    "def sum(n):\n",
    "    if n > 0:\n",
    "        return n + sum(n-1)\n",
    "    return 0\n",
    "\n",
    "\n",
    "result = sum(100)\n",
    "print(result)"
   ]
  },
  {
   "cell_type": "markdown",
   "id": "d096b881",
   "metadata": {
    "id": "d096b881"
   },
   "source": [
    "* If you use the ternary operator, the sum() will be even more concise:"
   ]
  },
  {
   "cell_type": "code",
   "execution_count": null,
   "id": "21760bc6",
   "metadata": {
    "id": "21760bc6",
    "outputId": "8231fc02-dd34-4f48-f415-b4f1e1257324"
   },
   "outputs": [
    {
     "name": "stdout",
     "output_type": "stream",
     "text": [
      "5050\n"
     ]
    }
   ],
   "source": [
    "def sum(n):\n",
    "    return n + sum(n-1) if n > 0 else 0\n",
    "\n",
    "\n",
    "result = sum(100)\n",
    "print(result)"
   ]
  },
  {
   "cell_type": "markdown",
   "id": "15027261",
   "metadata": {
    "id": "15027261"
   },
   "source": [
    "## **Python Lambda Expressions**\n",
    "* Sometimes, you need to write a simple function that contains one expression. However, you need to use this function once. And it’ll unnecessary to define that function with the def keyword.\n",
    "\n",
    "* That’s where the Python lambda expressions come into play.\n",
    "#### **What are Python lambda expressions?**\n",
    "    * Python lambda expressions allow you to define anonymous functions.\n",
    "\n",
    "    * Anonymous functions are functions without names. The anonymous functions are useful when you need to use them once.\n",
    "\n",
    "    * A lambda expression typically contains one or more arguments, but it can have only one expression.\n",
    "\n",
    "    * The following shows the lambda expression syntax:\n",
    "    ![image.png](attachment:image.png)\n",
    "    * It’s equivalent to the following function without the \"anonymous\" name:\n",
    "    ![image-2.png](attachment:image-2.png)"
   ]
  },
  {
   "cell_type": "code",
   "execution_count": null,
   "id": "77966cfe",
   "metadata": {
    "id": "77966cfe"
   },
   "outputs": [],
   "source": [
    "#The following defines a function called get_full_name() that format the full name from the first name and last name:\n",
    "def get_full_name(first_name, last_name, formatter):\n",
    "    return formatter(first_name, last_name)"
   ]
  },
  {
   "cell_type": "markdown",
   "id": "27e4fbd4",
   "metadata": {
    "id": "27e4fbd4"
   },
   "source": [
    "* A function that will format the full name (formatter). In turn, the formatter function accepts two arguments first name and last name.\n",
    "* The following defines two functions that return a full name from the first name and last name in different formats:"
   ]
  },
  {
   "cell_type": "code",
   "execution_count": null,
   "id": "f01d70bd",
   "metadata": {
    "id": "f01d70bd"
   },
   "outputs": [],
   "source": [
    "def first_last(first_name, last_name):\n",
    "    return f\"{first_name} {last_name}\"\n",
    "\n",
    "\n",
    "def last_first(first_name, last_name):\n",
    "    return f\"{last_name}, {first_name}\""
   ]
  },
  {
   "cell_type": "markdown",
   "id": "afedc22a",
   "metadata": {
    "id": "afedc22a"
   },
   "source": [
    "* And this shows you how to call the get_full_name() function by passing the first name, last name, and first_last / last_first functions:"
   ]
  },
  {
   "cell_type": "code",
   "execution_count": null,
   "id": "877c2639",
   "metadata": {
    "id": "877c2639",
    "outputId": "e9352d04-555f-4bb6-cf05-9f55f1329ec1"
   },
   "outputs": [
    {
     "name": "stdout",
     "output_type": "stream",
     "text": [
      "John Doe\n",
      "Doe, John\n"
     ]
    }
   ],
   "source": [
    "full_name = get_full_name('John', 'Doe', first_last)\n",
    "print(full_name) # John Doe\n",
    "\n",
    "full_name = get_full_name('John', 'Doe', last_first)\n",
    "print(full_name) #  Doe, John"
   ]
  },
  {
   "cell_type": "markdown",
   "id": "9c744af8",
   "metadata": {
    "id": "9c744af8"
   },
   "source": [
    "* Instead of defining the first_last and last_first functions, you can use lambda expressions.\n",
    "\n",
    "* For example, you can express the first_last function using the following lambda expression:"
   ]
  },
  {
   "cell_type": "code",
   "execution_count": null,
   "id": "b0bbafaa",
   "metadata": {
    "id": "b0bbafaa",
    "outputId": "046e8742-8b22-4d70-c383-3d99b57c2ba3"
   },
   "outputs": [
    {
     "data": {
      "text/plain": [
       "<function __main__.<lambda>(first_name, last_name)>"
      ]
     },
     "execution_count": 9,
     "metadata": {},
     "output_type": "execute_result"
    }
   ],
   "source": [
    "#This lambda expression accepts two arguments and concatenates them into a formatted string in the order first_name, space, and last_name.\n",
    "lambda first_name,last_name: f\"{first_name} {last_name}\""
   ]
  },
  {
   "cell_type": "code",
   "execution_count": null,
   "id": "1d97554d",
   "metadata": {
    "id": "1d97554d"
   },
   "outputs": [],
   "source": [
    "#And the following converts the last_first function using a lambda expression that returns the full name in the format: last name, space, and first name:\n",
    "lambda first_name, last_name: f\"{last_name} {first_name}\";"
   ]
  },
  {
   "cell_type": "code",
   "execution_count": null,
   "id": "f529cf9a",
   "metadata": {
    "id": "f529cf9a",
    "outputId": "c294d2d1-e3cf-47fd-9402-f8fc59536085"
   },
   "outputs": [
    {
     "name": "stdout",
     "output_type": "stream",
     "text": [
      "John Doe\n",
      "Doe John\n"
     ]
    }
   ],
   "source": [
    "#By using lambda expressions, you can call the get_full_name() function as follows:\n",
    "def get_full_name(first_name, last_name, formatter):\n",
    "    return formatter(first_name, last_name)\n",
    "\n",
    "\n",
    "full_name = get_full_name(\n",
    "    'John',\n",
    "    'Doe',\n",
    "    lambda first_name, last_name: f\"{first_name} {last_name}\"\n",
    ")\n",
    "print(full_name)\n",
    "\n",
    "full_name = get_full_name(\n",
    "    'John',\n",
    "    'Doe',\n",
    "    lambda first_name, last_name: f\"{last_name} {first_name}\"\n",
    ")\n",
    "print(full_name)\n"
   ]
  },
  {
   "cell_type": "markdown",
   "id": "1e4306d1",
   "metadata": {
    "id": "1e4306d1"
   },
   "source": [
    "* Functions that return a function example"
   ]
  },
  {
   "cell_type": "code",
   "execution_count": null,
   "id": "7a2cabd0",
   "metadata": {
    "id": "7a2cabd0",
    "outputId": "992cedcb-d78d-4339-c032-541ee267fbe3"
   },
   "outputs": [
    {
     "data": {
      "text/plain": [
       "<function __main__.times.<locals>.<lambda>(x)>"
      ]
     },
     "execution_count": 17,
     "metadata": {},
     "output_type": "execute_result"
    }
   ],
   "source": [
    "#The following times() function returns a function which is a lambda expression:\n",
    "def times(n):\n",
    "    return lambda x: x * n\n",
    "result = double = times(2)\n",
    "result"
   ]
  },
  {
   "cell_type": "code",
   "execution_count": null,
   "id": "90c7e3b5",
   "metadata": {
    "id": "90c7e3b5",
    "outputId": "4ae2eaa3-4048-4404-d502-d6d6e804148f"
   },
   "outputs": [
    {
     "data": {
      "text/plain": [
       "<function __main__.times.<locals>.<lambda>(x)>"
      ]
     },
     "execution_count": 18,
     "metadata": {},
     "output_type": "execute_result"
    }
   ],
   "source": [
    "result = double = times(3)\n",
    "result"
   ]
  },
  {
   "cell_type": "markdown",
   "id": "a05fd7e4",
   "metadata": {
    "id": "a05fd7e4"
   },
   "source": [
    "* Python lambda in a loop"
   ]
  },
  {
   "cell_type": "code",
   "execution_count": null,
   "id": "f2609e4c",
   "metadata": {
    "id": "f2609e4c",
    "outputId": "a5d6fbbe-846f-47cf-9c1a-268c4488a0af"
   },
   "outputs": [
    {
     "name": "stdout",
     "output_type": "stream",
     "text": [
      "3\n",
      "3\n",
      "3\n"
     ]
    }
   ],
   "source": [
    "callables = []\n",
    "for i in (1, 2, 3):\n",
    "    callables.append(lambda: i)\n",
    "\n",
    "for f in callables:\n",
    "    print(f())"
   ]
  },
  {
   "cell_type": "markdown",
   "id": "96f169ff",
   "metadata": {
    "id": "96f169ff"
   },
   "source": [
    "* The expected output will be:\n",
    "![image.png](attachment:image.png)\n",
    "* The problem is that all the there lambda expressions reference the i variable, not the current value of i. When you call the lambda expressions, the value of the variable i is 3.\n",
    "\n",
    "* To fix this, you need to bind the i variable to each lambda expression at the time the lambda expression is created. One way to do it is to use the default argument:"
   ]
  },
  {
   "cell_type": "code",
   "execution_count": null,
   "id": "19ae20fa",
   "metadata": {
    "id": "19ae20fa",
    "outputId": "c5942270-1808-419b-c2fd-7983ccfa6104"
   },
   "outputs": [
    {
     "name": "stdout",
     "output_type": "stream",
     "text": [
      "1\n",
      "2\n",
      "3\n"
     ]
    }
   ],
   "source": [
    "callables = []\n",
    "for i in (1, 2, 3):\n",
    "    callables.append(lambda a=i: a)\n",
    "\n",
    "for f in callables:\n",
    "    print(f())"
   ]
  },
  {
   "cell_type": "markdown",
   "id": "7fbac9ad",
   "metadata": {
    "id": "7fbac9ad"
   },
   "source": [
    "## **Python Function Docstrings**\n",
    "* Python provides a built-in function called help() that allows you to show the documentation of a function.\n",
    "\n",
    "* The following example shows the documentation of the print() function:"
   ]
  },
  {
   "cell_type": "code",
   "execution_count": null,
   "id": "846f6f9c",
   "metadata": {
    "id": "846f6f9c",
    "outputId": "fbebaaa8-17c0-4878-c0ef-e68db2717788"
   },
   "outputs": [
    {
     "name": "stdout",
     "output_type": "stream",
     "text": [
      "Help on built-in function print in module builtins:\n",
      "\n",
      "print(...)\n",
      "    print(value, ..., sep=' ', end='\\n', file=sys.stdout, flush=False)\n",
      "    \n",
      "    Prints the values to a stream, or to sys.stdout by default.\n",
      "    Optional keyword arguments:\n",
      "    file:  a file-like object (stream); defaults to the current sys.stdout.\n",
      "    sep:   string inserted between values, default a space.\n",
      "    end:   string appended after the last value, default a newline.\n",
      "    flush: whether to forcibly flush the stream.\n",
      "\n"
     ]
    }
   ],
   "source": [
    "help(print)"
   ]
  },
  {
   "cell_type": "markdown",
   "id": "fe3dd270",
   "metadata": {
    "id": "fe3dd270"
   },
   "source": [
    "#### **Using docstrings to document functions**\n",
    "\n",
    "* To document your functions, you can use docstrings. The **PEP 257** provides the docstring conventions.\n",
    "\n",
    "* When the first line in the function body is a string, Python will interpret it as a docstring. For example:"
   ]
  },
  {
   "cell_type": "code",
   "execution_count": null,
   "id": "e089111c",
   "metadata": {
    "id": "e089111c"
   },
   "outputs": [],
   "source": [
    "def add(a, b):\n",
    "    \"Return the sum of two arguments\"\n",
    "    return a + b"
   ]
  },
  {
   "cell_type": "code",
   "execution_count": null,
   "id": "8e56320e",
   "metadata": {
    "id": "8e56320e",
    "outputId": "87e8a434-7562-4d4f-a6a7-2e8cae383f9c"
   },
   "outputs": [
    {
     "name": "stdout",
     "output_type": "stream",
     "text": [
      "Help on function add in module __main__:\n",
      "\n",
      "add(a, b)\n",
      "    Return the sum of two arguments\n",
      "\n"
     ]
    }
   ],
   "source": [
    "#And you can use the help() function to find the documentation of the add() function:\n",
    "help(add)"
   ]
  },
  {
   "cell_type": "markdown",
   "id": "031e6330",
   "metadata": {
    "id": "031e6330"
   },
   "source": [
    "* Typically, you use multi-line docstrings:"
   ]
  },
  {
   "cell_type": "code",
   "execution_count": null,
   "id": "66b44a32",
   "metadata": {
    "id": "66b44a32"
   },
   "outputs": [],
   "source": [
    "def add(a, b):\n",
    "    \"\"\" Add two arguments\n",
    "    Arguments:\n",
    "        a: an integer\n",
    "        b: an integer\n",
    "    Returns:\n",
    "        The sum of the two arguments\n",
    "    \"\"\"\n",
    "    return a + b"
   ]
  },
  {
   "cell_type": "markdown",
   "id": "7125d43f",
   "metadata": {
    "id": "7125d43f"
   },
   "source": [
    "* Python stores the docstrings in the __doc__ property of the function.\n",
    "\n",
    "* The following example shows how to access the __doc__ property of the add() function:"
   ]
  },
  {
   "cell_type": "code",
   "execution_count": null,
   "id": "a7645ca7",
   "metadata": {
    "id": "a7645ca7",
    "outputId": "b5a3c3e0-56fd-42d5-d47a-1c1f533e156d"
   },
   "outputs": [
    {
     "data": {
      "text/plain": [
       "' Add two arguments\\n    Arguments:\\n        a: an integer\\n        b: an integer\\n    Returns:\\n        The sum of the two arguments\\n    '"
      ]
     },
     "execution_count": 25,
     "metadata": {},
     "output_type": "execute_result"
    }
   ],
   "source": [
    "add.__doc__"
   ]
  },
  {
   "cell_type": "markdown",
   "id": "b7fb0a29",
   "metadata": {
    "id": "b7fb0a29"
   },
   "source": [
    "## **Python *args**\n",
    "* When a function has a parameter preceded by an asterisk (*), it can accept a variable number of arguments. And you can pass zero, one, or more arguments to the *args parameter.\n",
    "\n",
    "* In Python, the parameters like *args are called variadic parameters. Functions that have variadic parameters are called variadic functions.\n",
    "\n",
    "* Note that you don’t need to name args for a variadic parameter. For example, you can use any meaningful names like *numbers, *strings, *lists, etc.\n",
    "\n",
    "* However, by convention, Python uses the *args for a variadic parameter.\n",
    "* The following unpacks a tuple into two variables:\n",
    "![image.png](attachment:image.png)\n",
    "* Python assigns 10 to x and 20 to y. It’s similar to passing two arguments to a function:\n",
    "![image-2.png](attachment:image-2.png)\n",
    "* In this example, Python passed 10 to x and 20 to y.\n",
    "\n",
    "* Similarly, the following assigns 10 to x, 20 to y, and the list [30, 40] to z:\n",
    "![image-3.png](attachment:image-3.png)\n",
    "* Python uses the same concept for the function arguments. For example:"
   ]
  },
  {
   "cell_type": "code",
   "execution_count": null,
   "id": "ab83f569",
   "metadata": {
    "id": "ab83f569",
    "outputId": "1b7f662d-24e5-4d04-a958-39cfbf6a07ab"
   },
   "outputs": [
    {
     "name": "stdout",
     "output_type": "stream",
     "text": [
      "100\n"
     ]
    }
   ],
   "source": [
    "\n",
    "def add(x, y, *args):\n",
    "    total = x + y\n",
    "    for arg in args:\n",
    "        total += arg\n",
    "\n",
    "    return total\n",
    "\n",
    "\n",
    "result = add(10, 20, 30, 40)\n",
    "print(result)\n"
   ]
  },
  {
   "cell_type": "markdown",
   "id": "eeaea059",
   "metadata": {
    "id": "eeaea059"
   },
   "source": [
    "* The add function accepts three parameters x, y, and *args. The *args is a special argument preceded by a star (*).\n",
    "\n",
    "* When passing the positional arguments 10, 20, 30, and 40 to the function, Python assigns 10 to x, 20 to y, and a tuple (30, 40) to args.\n",
    "\n",
    "* It’s like tuple unpacking except that the args is a tuple, not a list."
   ]
  },
  {
   "cell_type": "code",
   "execution_count": null,
   "id": "3ae3a2e6",
   "metadata": {
    "id": "3ae3a2e6",
    "outputId": "41e0e59f-11c4-48a8-fede-ee60bf1fb97e"
   },
   "outputs": [
    {
     "name": "stdout",
     "output_type": "stream",
     "text": [
      "()\n"
     ]
    }
   ],
   "source": [
    "#Let’s take a look at the following example:\n",
    "def add(*args):\n",
    "    print(args)\n",
    "\n",
    "\n",
    "add()"
   ]
  },
  {
   "cell_type": "markdown",
   "id": "5ca527ce",
   "metadata": {
    "id": "5ca527ce"
   },
   "source": [
    "* The add function shows an empty tuple."
   ]
  },
  {
   "cell_type": "code",
   "execution_count": null,
   "id": "1f6f8f31",
   "metadata": {
    "id": "1f6f8f31",
    "outputId": "0fc49c94-2734-4a4b-89cb-181871fd5620"
   },
   "outputs": [
    {
     "name": "stdout",
     "output_type": "stream",
     "text": [
      "<class 'tuple'>\n",
      "()\n"
     ]
    }
   ],
   "source": [
    "#The following shows the type of the args argument and its contents:\n",
    "def add(*args):\n",
    "    print(type(args))\n",
    "    print(args)\n",
    "\n",
    "add()"
   ]
  },
  {
   "cell_type": "markdown",
   "id": "e2b79489",
   "metadata": {
    "id": "e2b79489"
   },
   "source": [
    "* Since we didn’t pass any argument to the add() function, the output shows an empty tuple.\n",
    "\n",
    "* The following passes three arguments to the add() function:"
   ]
  },
  {
   "cell_type": "code",
   "execution_count": null,
   "id": "9fc2a161",
   "metadata": {
    "id": "9fc2a161",
    "outputId": "69c37a9f-3586-4449-b1e3-720ca9954cca"
   },
   "outputs": [
    {
     "name": "stdout",
     "output_type": "stream",
     "text": [
      "(1, 2, 3)\n"
     ]
    }
   ],
   "source": [
    "def add(*args):\n",
    "    print(args)\n",
    "\n",
    "\n",
    "add(1,2,3)"
   ]
  },
  {
   "cell_type": "markdown",
   "id": "fb236094",
   "metadata": {
    "id": "fb236094"
   },
   "source": [
    "* Now, the args has three numbers 1, 2, and 3. To access each element of the args argument, you use the square bracket notation [] with an index:"
   ]
  },
  {
   "cell_type": "code",
   "execution_count": null,
   "id": "fe3d4c88",
   "metadata": {
    "id": "fe3d4c88",
    "outputId": "435b911b-63af-49b8-e9f0-5a037f034e3a"
   },
   "outputs": [
    {
     "name": "stdout",
     "output_type": "stream",
     "text": [
      "1\n",
      "2\n",
      "3\n"
     ]
    }
   ],
   "source": [
    "def add(*args):\n",
    "    print(args[0])\n",
    "    print(args[1])\n",
    "    print(args[2])\n",
    "\n",
    "\n",
    "add(1, 2, 3)\n"
   ]
  },
  {
   "cell_type": "markdown",
   "id": "ed1d8f66",
   "metadata": {
    "id": "ed1d8f66"
   },
   "source": [
    "* Also, you an use a for loop to iterate over the elements of the tuple.\n",
    "\n",
    "* The following shows how to add all numbers of the args tuple in the add() function:"
   ]
  },
  {
   "cell_type": "code",
   "execution_count": null,
   "id": "5e8b23f2",
   "metadata": {
    "id": "5e8b23f2",
    "outputId": "fecb8cd3-0fe5-4155-86ab-0eca7dd9369f"
   },
   "outputs": [
    {
     "name": "stdout",
     "output_type": "stream",
     "text": [
      "6\n"
     ]
    }
   ],
   "source": [
    "def add(*args):\n",
    "    total = 0\n",
    "    for arg in args:\n",
    "        total += arg\n",
    "    return total\n",
    "\n",
    "\n",
    "total = add(1, 2, 3)\n",
    "print(total)"
   ]
  },
  {
   "cell_type": "markdown",
   "id": "ee33e234",
   "metadata": {
    "id": "ee33e234"
   },
   "source": [
    "## **Python *args argument exhausts positional arguments**\n",
    "* If you use the *args argument, you cannot add more positional arguments. However, you can use keyword arguments.\n",
    "\n",
    "* The following example results in an error because it uses a positional argument after the *arg argument:"
   ]
  },
  {
   "cell_type": "code",
   "execution_count": null,
   "id": "082ef1bf",
   "metadata": {
    "id": "082ef1bf",
    "outputId": "f08fbdf3-00f0-41a1-df72-89b8dbc07edf"
   },
   "outputs": [
    {
     "ename": "TypeError",
     "evalue": "add() missing 1 required keyword-only argument: 'z'",
     "output_type": "error",
     "traceback": [
      "\u001b[1;31m---------------------------------------------------------------------------\u001b[0m",
      "\u001b[1;31mTypeError\u001b[0m                                 Traceback (most recent call last)",
      "Input \u001b[1;32mIn [7]\u001b[0m, in \u001b[0;36m<cell line: 5>\u001b[1;34m()\u001b[0m\n\u001b[0;32m      1\u001b[0m \u001b[38;5;28;01mdef\u001b[39;00m \u001b[38;5;21madd\u001b[39m(x, y, \u001b[38;5;241m*\u001b[39margs, z):\n\u001b[0;32m      2\u001b[0m     \u001b[38;5;28;01mreturn\u001b[39;00m x \u001b[38;5;241m+\u001b[39m y \u001b[38;5;241m+\u001b[39m \u001b[38;5;28msum\u001b[39m(args) \u001b[38;5;241m+\u001b[39m z\n\u001b[1;32m----> 5\u001b[0m \u001b[43madd\u001b[49m\u001b[43m(\u001b[49m\u001b[38;5;241;43m10\u001b[39;49m\u001b[43m,\u001b[49m\u001b[43m \u001b[49m\u001b[38;5;241;43m20\u001b[39;49m\u001b[43m,\u001b[49m\u001b[43m \u001b[49m\u001b[38;5;241;43m30\u001b[39;49m\u001b[43m,\u001b[49m\u001b[43m \u001b[49m\u001b[38;5;241;43m40\u001b[39;49m\u001b[43m,\u001b[49m\u001b[43m \u001b[49m\u001b[38;5;241;43m50\u001b[39;49m\u001b[43m)\u001b[49m\n",
      "\u001b[1;31mTypeError\u001b[0m: add() missing 1 required keyword-only argument: 'z'"
     ]
    }
   ],
   "source": [
    "def add(x, y, *args, z):\n",
    "    return x + y + sum(args) + z\n",
    "\n",
    "\n",
    "add(10, 20, 30, 40, 50)"
   ]
  },
  {
   "cell_type": "code",
   "execution_count": null,
   "id": "df03712c",
   "metadata": {
    "id": "df03712c",
    "outputId": "89e597d4-2cf0-446f-91c3-41fcd71ca59f"
   },
   "outputs": [
    {
     "data": {
      "text/plain": [
       "150"
      ]
     },
     "execution_count": 9,
     "metadata": {},
     "output_type": "execute_result"
    }
   ],
   "source": [
    "def add(x, y,z, *args):\n",
    "    return x + y + sum(args) + z\n",
    "\n",
    "\n",
    "add(10, 20, 30, 40, 50)"
   ]
  },
  {
   "cell_type": "markdown",
   "id": "218b2c8c",
   "metadata": {
    "id": "218b2c8c"
   },
   "source": [
    "* To fix it, you need to use a keyword argument after the *args argument as follows:"
   ]
  },
  {
   "cell_type": "code",
   "execution_count": null,
   "id": "ededd48d",
   "metadata": {
    "id": "ededd48d",
    "outputId": "49aa2a04-869d-4922-9b5c-7fbbbe0657d7"
   },
   "outputs": [
    {
     "data": {
      "text/plain": [
       "150"
      ]
     },
     "execution_count": 10,
     "metadata": {},
     "output_type": "execute_result"
    }
   ],
   "source": [
    "def add(x, y, *args, z):\n",
    "    return x + y + sum(args) + z\n",
    "\n",
    "\n",
    "add(10, 20, 30, 40, z=50)\n"
   ]
  },
  {
   "cell_type": "markdown",
   "id": "4f863778",
   "metadata": {
    "id": "4f863778"
   },
   "source": [
    "* In this example, Python assigns 10 to x, 20 to y,(30,40) to args, and 50 to z."
   ]
  },
  {
   "cell_type": "markdown",
   "id": "38f70084",
   "metadata": {
    "id": "38f70084"
   },
   "source": [
    "## **Unpacking arguments**\n",
    "* The following point function accepts two arguments and returns a string representation of a point with x-coordinate and y-coordinate:"
   ]
  },
  {
   "cell_type": "code",
   "execution_count": null,
   "id": "51f69138",
   "metadata": {
    "id": "51f69138"
   },
   "outputs": [],
   "source": [
    "def point(x, y):\n",
    "    return f'({x},{y})'"
   ]
  },
  {
   "cell_type": "markdown",
   "id": "b7355ca1",
   "metadata": {
    "id": "b7355ca1"
   },
   "source": [
    "* If you pass a tuple to the point function, you’ll get an error:"
   ]
  },
  {
   "cell_type": "code",
   "execution_count": null,
   "id": "99068cb4",
   "metadata": {
    "colab": {
     "base_uri": "https://localhost:8080/",
     "height": 183
    },
    "id": "99068cb4",
    "outputId": "a06991b6-49c1-4b2c-c6cc-71a0618ae55e"
   },
   "outputs": [
    {
     "ename": "TypeError",
     "evalue": "ignored",
     "output_type": "error",
     "traceback": [
      "\u001b[0;31m---------------------------------------------------------------------------\u001b[0m",
      "\u001b[0;31mTypeError\u001b[0m                                 Traceback (most recent call last)",
      "\u001b[0;32m<ipython-input-2-5ac48fd19363>\u001b[0m in \u001b[0;36m<module>\u001b[0;34m()\u001b[0m\n\u001b[1;32m      1\u001b[0m \u001b[0ma\u001b[0m \u001b[0;34m=\u001b[0m \u001b[0;34m(\u001b[0m\u001b[0;36m0\u001b[0m\u001b[0;34m,\u001b[0m \u001b[0;36m0\u001b[0m\u001b[0;34m)\u001b[0m\u001b[0;34m\u001b[0m\u001b[0;34m\u001b[0m\u001b[0m\n\u001b[0;32m----> 2\u001b[0;31m \u001b[0morigin\u001b[0m \u001b[0;34m=\u001b[0m \u001b[0mpoint\u001b[0m\u001b[0;34m(\u001b[0m\u001b[0ma\u001b[0m\u001b[0;34m)\u001b[0m\u001b[0;34m\u001b[0m\u001b[0;34m\u001b[0m\u001b[0m\n\u001b[0m",
      "\u001b[0;31mTypeError\u001b[0m: point() missing 1 required positional argument: 'y'"
     ]
    }
   ],
   "source": [
    "a = (0, 0)\n",
    "origin = point(a)"
   ]
  },
  {
   "cell_type": "markdown",
   "id": "01185313",
   "metadata": {
    "id": "01185313"
   },
   "source": [
    "* To fix this, you need to prefix the tuple a with the operator * like this:"
   ]
  },
  {
   "cell_type": "code",
   "execution_count": null,
   "id": "c56652e5",
   "metadata": {
    "id": "c56652e5"
   },
   "outputs": [],
   "source": [
    "def point(x, y):\n",
    "    return f'({x},{y})'\n",
    "\n",
    "\n",
    "a = (0, 0)\n",
    "origin = point(*a)\n",
    "print(origin)\n"
   ]
  },
  {
   "cell_type": "markdown",
   "id": "1c41d61b",
   "metadata": {
    "id": "1c41d61b"
   },
   "source": [
    "* When you precede the argument a with the operator *, Python unpacks the tuple and assigns its elements to x and y parameters."
   ]
  },
  {
   "cell_type": "markdown",
   "id": "G60aVC3iYpEB",
   "metadata": {
    "id": "G60aVC3iYpEB"
   },
   "source": [
    "## **Python **kwargs**\n",
    "* In Python, a function can have a parameter preceded by two stars (**). For example: **kwwargs\n",
    "\n",
    "* The **kwargs is called a keyword parameter.\n",
    "\n",
    "* When a function has the **kwargs parameter, it can accept a variable number of keyword arguments as a dictionary.\n",
    "\n",
    "* The two stars (**) are important. However, the name kwargs is by convention. Therefore, you can use any other meaningful names such as **configs and **files.\n",
    "\n",
    "* The following example defines a function called connect() that accepts a **kwargs parameter:"
   ]
  },
  {
   "cell_type": "code",
   "execution_count": null,
   "id": "774a2d29",
   "metadata": {
    "colab": {
     "base_uri": "https://localhost:8080/"
    },
    "id": "774a2d29",
    "outputId": "d087d01f-c399-461b-b0a9-a09c755c601e"
   },
   "outputs": [
    {
     "name": "stdout",
     "output_type": "stream",
     "text": [
      "<class 'dict'>\n",
      "{}\n"
     ]
    }
   ],
   "source": [
    "def connect(**kwargs):\n",
    "    print(type(kwargs))\n",
    "    print(kwargs)\n",
    "connect()"
   ]
  },
  {
   "cell_type": "markdown",
   "id": "dWhFFiEKZBfX",
   "metadata": {
    "id": "dWhFFiEKZBfX"
   },
   "source": [
    "* In this example, we didn’t pass any arguments to the connect() function, the kwargs is empty dictionary.\n",
    "\n",
    "* The following calls the connect() function and passes some keyword arguments into it:"
   ]
  },
  {
   "cell_type": "code",
   "execution_count": null,
   "id": "3GID9yfaY5Uf",
   "metadata": {
    "colab": {
     "base_uri": "https://localhost:8080/"
    },
    "id": "3GID9yfaY5Uf",
    "outputId": "9c343a54-97cd-4c13-a6ff-726d72c50547"
   },
   "outputs": [
    {
     "name": "stdout",
     "output_type": "stream",
     "text": [
      "<class 'dict'>\n",
      "{'server': 'localhost', 'port': 3306, 'user': 'root', 'password': 'Py1hon!Xt'}\n"
     ]
    }
   ],
   "source": [
    "connect(server='localhost', port=3306, user='root', password='Py1hon!Xt')"
   ]
  },
  {
   "cell_type": "markdown",
   "id": "vdyHC-VHZPUR",
   "metadata": {
    "id": "vdyHC-VHZPUR"
   },
   "source": [
    "* Inside the connect() function, you can use the kwargs argument as a dictionary.\n",
    "\n",
    "* If you want to pass a dictionary to the function, you need to add two stars (**) to the argument like this:"
   ]
  },
  {
   "cell_type": "code",
   "execution_count": null,
   "id": "G9yCyo44ZJwK",
   "metadata": {
    "colab": {
     "base_uri": "https://localhost:8080/"
    },
    "id": "G9yCyo44ZJwK",
    "outputId": "f989c5d0-6a32-43ad-f7df-400cd931da7a"
   },
   "outputs": [
    {
     "name": "stdout",
     "output_type": "stream",
     "text": [
      "{'server': 'localhost', 'port': 3306, 'user': 'root', 'password': 'Py1thon!Xt12'}\n"
     ]
    }
   ],
   "source": [
    "def connect(**kwargs):\n",
    "    print(kwargs)\n",
    "\n",
    "\n",
    "config = {'server': 'localhost',\n",
    "        'port': 3306,\n",
    "        'user': 'root',\n",
    "        'password': 'Py1thon!Xt12'}\n",
    "\n",
    "connect(**config)"
   ]
  },
  {
   "cell_type": "markdown",
   "id": "LjJP4pOwZYKW",
   "metadata": {
    "id": "LjJP4pOwZYKW"
   },
   "source": [
    "* If a function has the **kwargs parameter and other parameters, you need to place the **kwargs after other parameters. Otherwise, you’ll get an error.\n",
    "\n",
    "* The syntax of the following connect() function is correct:"
   ]
  },
  {
   "cell_type": "code",
   "execution_count": null,
   "id": "ymrZcHvGZUNh",
   "metadata": {
    "id": "ymrZcHvGZUNh"
   },
   "outputs": [],
   "source": [
    "def connect(fn, **kwargs):\n",
    "    print(kwargs)"
   ]
  },
  {
   "cell_type": "markdown",
   "id": "Vk-Na9HsZsSZ",
   "metadata": {
    "id": "Vk-Na9HsZsSZ"
   },
   "source": [
    "* However, the syntax of this function causes a SyntaxError:"
   ]
  },
  {
   "cell_type": "code",
   "execution_count": null,
   "id": "69sRqzxuZpRi",
   "metadata": {
    "colab": {
     "base_uri": "https://localhost:8080/",
     "height": 130
    },
    "id": "69sRqzxuZpRi",
    "outputId": "e8d88189-99ca-4a96-8b01-d2587f5487ce"
   },
   "outputs": [
    {
     "ename": "SyntaxError",
     "evalue": "ignored",
     "output_type": "error",
     "traceback": [
      "\u001b[0;36m  File \u001b[0;32m\"<ipython-input-7-6c685e7d12b7>\"\u001b[0;36m, line \u001b[0;32m1\u001b[0m\n\u001b[0;31m    def connect(**kwargs, fn):\u001b[0m\n\u001b[0m                           ^\u001b[0m\n\u001b[0;31mSyntaxError\u001b[0m\u001b[0;31m:\u001b[0m invalid syntax\n"
     ]
    }
   ],
   "source": [
    "def connect(**kwargs, fn):\n",
    "    print(kwargs)"
   ]
  },
  {
   "cell_type": "markdown",
   "id": "Dw3ohWU6ZzVJ",
   "metadata": {
    "id": "Dw3ohWU6ZzVJ"
   },
   "source": [
    "### **Using both *args and **kwargs arguments**\n",
    "* The following function has both *args and **kwargs parameters:"
   ]
  },
  {
   "cell_type": "code",
   "execution_count": null,
   "id": "jeclL2N3Zu-p",
   "metadata": {
    "id": "jeclL2N3Zu-p"
   },
   "outputs": [],
   "source": [
    "def fn(*args, **kwargs):\n",
    "    print(args)\n",
    "    print(kwargs)"
   ]
  },
  {
   "cell_type": "markdown",
   "id": "cKqjUpo_aMvb",
   "metadata": {
    "id": "cKqjUpo_aMvb"
   },
   "source": [
    "* The **fn** function can accept a variable number of the positional arguments. Python will pack them as a tuple and assign the tuple to the args argument.\n",
    "\n",
    "* The **fn** function also accepts a variable number of keyword arguments. Python will pack them as a dictionary and assign the dictionary to the kwargs argument."
   ]
  },
  {
   "cell_type": "code",
   "execution_count": null,
   "id": "8Pxnqv1kZ5f7",
   "metadata": {
    "colab": {
     "base_uri": "https://localhost:8080/"
    },
    "id": "8Pxnqv1kZ5f7",
    "outputId": "ff9a72e4-d372-4129-9e82-896d0f37ed08"
   },
   "outputs": [
    {
     "name": "stdout",
     "output_type": "stream",
     "text": [
      "(1, 2)\n",
      "{'x': 10, 'y': 20}\n"
     ]
    }
   ],
   "source": [
    "fn(1, 2, x=10, y=20)"
   ]
  },
  {
   "cell_type": "code",
   "execution_count": null,
   "id": "Nszw9kk2aTBY",
   "metadata": {
    "id": "Nszw9kk2aTBY"
   },
   "outputs": [],
   "source": []
  },
  {
   "cell_type": "markdown",
   "id": "5HQUKpAfagZT",
   "metadata": {
    "id": "5HQUKpAfagZT"
   },
   "source": [
    "## **Python Partial Functions**\n",
    "* The following example defines a function that multiplies two arguments:"
   ]
  },
  {
   "cell_type": "code",
   "execution_count": null,
   "id": "nPTFJ73gamg5",
   "metadata": {
    "id": "nPTFJ73gamg5"
   },
   "outputs": [],
   "source": [
    "def multiply(a, b):\n",
    "    return a*b"
   ]
  },
  {
   "cell_type": "code",
   "execution_count": null,
   "id": "DXiRjxVwany1",
   "metadata": {
    "id": "DXiRjxVwany1"
   },
   "outputs": [],
   "source": []
  },
  {
   "cell_type": "markdown",
   "id": "Q8SKDLAFaqwK",
   "metadata": {
    "id": "Q8SKDLAFaqwK"
   },
   "source": [
    "* Sometimes, you just want to multiply an argument with a specified number e.g., 2. To do that, you can reuse the multiply function like this:"
   ]
  },
  {
   "cell_type": "code",
   "execution_count": null,
   "id": "s2_2b-hvasEu",
   "metadata": {
    "id": "s2_2b-hvasEu"
   },
   "outputs": [],
   "source": [
    "def double(a):\n",
    "    return multiply(a,2)"
   ]
  },
  {
   "cell_type": "code",
   "execution_count": null,
   "id": "g97coUFDatsX",
   "metadata": {
    "id": "g97coUFDatsX"
   },
   "outputs": [],
   "source": []
  },
  {
   "cell_type": "markdown",
   "id": "dDDkTRz9azBa",
   "metadata": {
    "id": "dDDkTRz9azBa"
   },
   "source": [
    "* The double function returns the multiply function. It passed the number 2 to the second argument of the multiply function.\n",
    "\n",
    "* The following shows how to use the double function:"
   ]
  },
  {
   "cell_type": "code",
   "execution_count": null,
   "id": "InPvFidBa01X",
   "metadata": {
    "colab": {
     "base_uri": "https://localhost:8080/"
    },
    "id": "InPvFidBa01X",
    "outputId": "f2f8b067-d4fd-47f4-8782-82ceebb58e27"
   },
   "outputs": [
    {
     "name": "stdout",
     "output_type": "stream",
     "text": [
      "20\n"
     ]
    }
   ],
   "source": [
    "result = double(10)\n",
    "print(result)    "
   ]
  },
  {
   "cell_type": "code",
   "execution_count": null,
   "id": "6581MUYia2K-",
   "metadata": {
    "id": "6581MUYia2K-"
   },
   "outputs": [],
   "source": []
  },
  {
   "cell_type": "markdown",
   "id": "u_2LMzR2a-7r",
   "metadata": {
    "id": "u_2LMzR2a-7r"
   },
   "source": [
    "* As you can see, the double function reduces the arguments of the multiply function.\n",
    "\n",
    "* The double function freezes the second argument of the multiply function, which results in a new function with a simpler signature.\n",
    "\n",
    "* In other words, double function reduces the complexity of the multiply function.\n",
    "\n",
    "* In Python, the double function is called a partial function.\n",
    "\n",
    "* In practice, you use partial functions when you want to reduce the number of arguments of a function to simplify the function’s signature.\n",
    "\n",
    "* Since you’ll create partial functions sometimes, Python provides you with the partial function from the functools standard module to help you define partial functions more easily.\n",
    "* The following shows the syntax of the partial function from the functools module:\n",
    "![image.png](data:image/png;base64,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)\n",
    "\n",
    "* The partial function returns new partial object, which is a callable.\n",
    "\n",
    "* When you call the partial object, Python calls the fn function with the positional arguments args and keyword arguments kwargs.\n",
    "\n",
    "* The following example shows how to use the partial function to define the double function from the multiply function:"
   ]
  },
  {
   "cell_type": "code",
   "execution_count": null,
   "id": "jR2Bca7NbC0v",
   "metadata": {
    "colab": {
     "base_uri": "https://localhost:8080/"
    },
    "id": "jR2Bca7NbC0v",
    "outputId": "4d282bac-2de7-47a2-f8e3-23c47818e67c"
   },
   "outputs": [
    {
     "name": "stdout",
     "output_type": "stream",
     "text": [
      "20\n"
     ]
    }
   ],
   "source": [
    "from functools import partial\n",
    "\n",
    "def multiply(a, b):\n",
    "    return a*b\n",
    "\n",
    "\n",
    "double = partial(multiply, b=2)\n",
    "\n",
    "result = double(10)\n",
    "print(result)\n"
   ]
  },
  {
   "cell_type": "code",
   "execution_count": null,
   "id": "TUgi9DN6bVPB",
   "metadata": {
    "id": "TUgi9DN6bVPB"
   },
   "outputs": [],
   "source": []
  },
  {
   "cell_type": "markdown",
   "id": "A1C6ArNLbbS8",
   "metadata": {
    "id": "A1C6ArNLbbS8"
   },
   "source": [
    "* Sometimes, you may want to use variables for creating partials. For example:"
   ]
  },
  {
   "cell_type": "code",
   "execution_count": null,
   "id": "qWqcc_Z3bcHm",
   "metadata": {
    "colab": {
     "base_uri": "https://localhost:8080/"
    },
    "id": "qWqcc_Z3bcHm",
    "outputId": "69321e73-0414-4496-c633-86fbef4d938c"
   },
   "outputs": [
    {
     "name": "stdout",
     "output_type": "stream",
     "text": [
      "20\n",
      "20\n"
     ]
    }
   ],
   "source": [
    "from functools import partial\n",
    "\n",
    "\n",
    "def multiply(a, b):\n",
    "    return a*b\n",
    "\n",
    "\n",
    "x = 2\n",
    "f = partial(multiply, x)\n",
    "\n",
    "result = f(10)  # 20\n",
    "print(result)\n",
    "\n",
    "x = 3\n",
    "result = f(10)  # 20\n",
    "print(result)"
   ]
  },
  {
   "cell_type": "markdown",
   "id": "bD6ekLOsL0CK",
   "metadata": {
    "id": "bD6ekLOsL0CK"
   },
   "source": [
    "## **Python type hints**\n",
    "* Some programming languages have static typing, such as C/C++. It means that you need to declare types of variables, parameters, and return values of a function upfront. The predefined types allow the compilers to check the code before compiling and running the program.\n",
    "\n",
    "* Python uses dynamic typing, in which variables, parameters, and return values of a function can be any type. Also, the types of variables can change while the program runs.\n",
    "\n",
    "* Generally, dynamic typing makes it easy to program and causes unexpected errors that you can only discover until the program runs.\n",
    "\n",
    "* Python’s type hints provide you with optional static typing to leverage the best of both static and dynamic typing.\n",
    "\n",
    "* The following example defines a simple function that accepts a string and returns another string:\n"
   ]
  },
  {
   "cell_type": "code",
   "execution_count": null,
   "id": "S7XHa0aNbdnm",
   "metadata": {
    "colab": {
     "base_uri": "https://localhost:8080/"
    },
    "id": "S7XHa0aNbdnm",
    "outputId": "83b90fcb-a52b-4c79-a067-0c41ebc271b8"
   },
   "outputs": [
    {
     "name": "stdout",
     "output_type": "stream",
     "text": [
      "Hi John\n"
     ]
    }
   ],
   "source": [
    "def say_hi(name):\n",
    "    return f'Hi {name}'\n",
    "\n",
    "\n",
    "greeting = say_hi('John')\n",
    "print(greeting)"
   ]
  },
  {
   "cell_type": "code",
   "execution_count": null,
   "id": "PzE6dhffMAGc",
   "metadata": {
    "id": "PzE6dhffMAGc"
   },
   "outputs": [],
   "source": []
  },
  {
   "cell_type": "markdown",
   "id": "35Uk6AsqMG-r",
   "metadata": {
    "id": "35Uk6AsqMG-r"
   },
   "source": [
    "* Here’s the syntax for adding type hints to a parameter and return value of a function:\n",
    "![image.png](data:image/png;base64,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)\n",
    "* For example, the following shows how to use type hints for the name parameter and return value of the say_hi() function:"
   ]
  },
  {
   "cell_type": "code",
   "execution_count": null,
   "id": "v5uK7Qx7MLKf",
   "metadata": {
    "colab": {
     "base_uri": "https://localhost:8080/"
    },
    "id": "v5uK7Qx7MLKf",
    "outputId": "f208ffad-26ed-45d1-9c7f-9844cbe48338"
   },
   "outputs": [
    {
     "name": "stdout",
     "output_type": "stream",
     "text": [
      "Hi John\n"
     ]
    }
   ],
   "source": [
    "def say_hi(name: str) -> str:\n",
    "    return f'Hi {name}'\n",
    "\n",
    "\n",
    "greeting = say_hi('John')\n",
    "print(greeting)"
   ]
  },
  {
   "cell_type": "code",
   "execution_count": null,
   "id": "7zgiOZ_YMPpT",
   "metadata": {
    "id": "7zgiOZ_YMPpT"
   },
   "outputs": [],
   "source": []
  },
  {
   "cell_type": "markdown",
   "id": "yBElNULJMUDJ",
   "metadata": {
    "id": "yBElNULJMUDJ"
   },
   "source": [
    "* In this new syntax, the name parameter has the str type:\n",
    "![image.png](data:image/png;base64,iVBORw0KGgoAAAANSUhEUgAAAGUAAAAiCAYAAABGIRcbAAACuklEQVRoge2ZMWgaURyHv5SOiUOhXWPAQSgUpDR0qBRxkHIcropIFslyEIKDuNzkIg4SBJfiEkKIW5FDQobDQSglEAKFQgZL4tRSikPM3g7nxVPPJHfG9g3vm44773+/e9/7373DlXA4/AeJUDz53wEks0gpAiKlCIiUIiBSioBIKQIipQiIlCIgUoqASCkCIqUIiJQiIFKKgEgpXshpdA2N4pIvI6UIiJQiICue/+TKaXST0K4OeJ+PsDrafdUqkG04fhdLc+w4Dn3aap2yXSM2oH0RQtlcg+vzie165ojm6KyUrqNtrt1WuTn9yIdSbypUiL3DbV4HhpxVS+x2PN3RnLzje5rO4MSZJ6XraOEe9cwvFCNBEADvmZ76iA+so+ShrRYo22GSGsXGaNCJc5CDfbUwGlxr0JTDNFf2gAciKM9PiFZfcJyPoITPqVdhKx/ibQyaHXswBrTV0riusc2x7iZmEeIc5CP8bhX40Jg92iyVrMz2hLQnlxuBCJox5KxaINuBYq2CkkuT6own2n34fHwNOauOgzV/DKaOm2QzzhA9vlwMZ2t8MsfbjenQcZTNNa5azgEwaZ8OWQ2/ITXx2x67mQJR1WeXjAi+ivs/+ZbJzih/7UPg2ahrHobPTrmfYq2CsjG189p7nWCyQje5eJ27McmqcGAk6BoJa9flCdEd8+7TXBnw0zkxGnWiLt13F0uRktJ1lI3+RJtbz1vvtWbeVUvDJKvaEuKWoBo+xSzGv1l9xdJszXlRzsfk2yUEkw/5Lgixd1iha+jsxfxFdLv2DN8H3LDOy9xjXGM+S+mUZukzipFAMSooAPRpt/ooHgesvFOAWsVRx8J9BbYALisvaxU41SWdI/bfhdAcj9RHz4KfJbFk6ciPRwGRUgREShEQKUVApBQBkVIEREoREClFQKQUAfkLc3DyyV0rUm8AAAAASUVORK5CYII=)\n",
    "* And the return value of the say_hi() function also has the type str:\n",
    "![image.png](data:image/png;base64,iVBORw0KGgoAAAANSUhEUgAAAEMAAAApCAYAAABupZRPAAAB5klEQVRoge2YPUgjQRSAP8VSra6x0oMUgQMhjdikCBYiEtKuiF26BQkpgs1UNrJVELYJ2wW5tBKCWIjFdopcqxAwqa64w0LstYjRZ0zYZDMSA++DLXbYeTPzzZsfdiaZTD6jADA76Q58J1SGQGUIVIZAZQhUhkBlCFSGQGUIVIZAZQhUhkBlCFSGQGUIVIZAZQimToZjDOHJDs4XxLYgI0H5xKOaHz/SpLEgo0nhss1KzuPMJMYPN0FmrP0QzuxwVkwxf39Oev8iVgjHGNy1BVHSppH1OQIOjj22f/av1zotsRcAbFCtb8JpicaSiDVkn+zJ4L0zK49/8Hd/Uxulat4lzPE2+EE4xuAmmwPiv7YP7wJeJ+n/m7DBRC4TxxjCuvfhGbw/XLCXrXBDCrduKGeioveyzC8be4/MhMtr7h7hx1L0Ep6L+qB2eDjCDIvMyI6YGYFPGpcw5xHmOkWtIWazH0//2uKtSWG3NFS9SBlDY2HPIPBJdwef74ipEk9IHOzcM/IuYTEFV5X4InoJbmn1Ka79fYDFBOsjL8FoLGRGgnJmOXZKd/l8ksDTVYWt3piBT2PVY7voERY7ReO23cXyaTLdTN11/CtRGQKVIVAZApUhUBkClSFQGQKVIVAZApUhUBmCF0dBlPZmiF+uAAAAAElFTkSuQmCC)\n",
    "* Besides the str type, you can use other built-in types such as int, float, bool, and bytes for type hintings.\n",
    "\n",
    "* It’s important to note that the Python interpreter ignores type hints completely. If you pass a number to the say_hi() function, the program will run without any warning or error:"
   ]
  },
  {
   "cell_type": "code",
   "execution_count": null,
   "id": "YLJyGavEMf_5",
   "metadata": {
    "colab": {
     "base_uri": "https://localhost:8080/"
    },
    "id": "YLJyGavEMf_5",
    "outputId": "e534854e-8cc3-4e1f-b6ec-74c67219074f"
   },
   "outputs": [
    {
     "name": "stdout",
     "output_type": "stream",
     "text": [
      "Hi 123\n"
     ]
    }
   ],
   "source": [
    "def say_hi(name: str) -> str:\n",
    "    return f'Hi {name}'\n",
    "\n",
    "\n",
    "greeting = say_hi(123)\n",
    "print(greeting)"
   ]
  },
  {
   "cell_type": "code",
   "execution_count": null,
   "id": "ARXJ3Y2wMndk",
   "metadata": {
    "id": "ARXJ3Y2wMndk"
   },
   "outputs": [],
   "source": []
  },
  {
   "cell_type": "markdown",
   "id": "TXWPShEXMqb6",
   "metadata": {
    "id": "TXWPShEXMqb6"
   },
   "source": [
    "* To check the syntax for type hints, you need to use a static type checker tool.\n",
    "\n",
    "### **Using a static type checker tool: mypy**\n",
    "\n",
    "* Python doesn’t have an official static type checker tool. At the moment, the most popular third-party tool is Mypy. Since Mypy is a third-party package, you need to install it using the following pip command:\n",
    "![image.png](data:image/png;base64,iVBORw0KGgoAAAANSUhEUgAAAJAAAAAeCAYAAADD/JcQAAAEYElEQVR4nO2aP2giWRzHP3tcqSlyewtXqawQIbAgIeEIG4KkkEVEtjMsIc1gM7AEC0ljZRNSSAikCTaHBO0WEQkWIiKEw0NSLSTgoVYLxyaF2t8VM67j3xl9ZnN3vA8EZl4mv/d7b77v936/N3nh8Xj+RiJZkB+e2wHJfxspIIkQUkASIaSAJEJIAUmEkAKSCCEFJBHix6Va8+1zHfVi69xy8SFDdqnGhzk+PyXgglYuxkHqCTsSJByPo27Z9bsu9WSCo/KzurRUZASahaJSzascC5jIJhLsBGPsJG/pLc2xfw/LjUDlDO/KmaWanMbJxxgn36UnySxkBJIIYR6BFJVqCArJR3ajXmx683DusUc678fZv20W2flYMhhxc3YVYe3uksrPEQIuvXmBXMk0p7DkL4N8zdDUf2a4DwjkTwno173aJe8SjSn+TBq7KHuk89s85BqshbzY6FI3XicTHL1WqYYcY2PUfEOfI+0dkbvkwRdhY2Xc3+HnB3a0fLNNIXgxFvUtRiAHgaib+2SMnWCMi1oXZ8iYG5Q4CGq/KzSnW7FtRQhQ1HKCYJHWipfDuNuaCzrWcgoHgegqleA0f/dIR718zcV0X7Sf/uR/6yPXBtoUDM8YxYOickhmYCN5S8/l53rOMZljZyO0SiV4Sb1jZyPk5j6pXa+9dUOqSL0Dzjd7hr9x86vHTq+WGRKDM6QtZKO/aaU/7hta6DYNc7XuglZuXDxgWUDDK13ryMG6MsccwMjqLFGodbF5NgnPacacLvXkYMDZL48Tnxqe8AVIXQwLqvwH9x0xk9Po1YrfxjMqCmhwVG6DyzNYJL5N1lbaVIz+MRJByxkqTeM8THgnigdn55bClEpXKIl++YsbaJg+N5OV1cHW990ocRCEdN5PNe/Xmhbaeka2bp1nqbZSReq+CLtxNyeJBsfvvdiaRWuFxk+vCANZtOAQyPsJKBmyKTdnPge9u+LUNENIQF+/CIoHoPNIS9zKApQ4CPYFowmhes4cInJzduXHOSQ8Pdd7Am/NafD7XZcNzyZhHKy7utSTFsfy8JdBICU+N/0E3uyB79XEKGZkoSrs+Nw/M6xZwrfP4ZadVvlpDxytUeLzpNztz0d6c2zV4fj+IDl9BrKJGy2vvNrG2bwxP7BUVAKuLvVPw0I7+XRLz7XNteKF2uwoZjEC2dmInlKN6rfNIjsfDJ0qWhUwoL81jGTuLsOWQZd6Mjbnqay2wo0vqe/XaHU0kwkVmFYRjqzYcobf3rpRQ6dUQ1rToB8t76iGhrfBQtPP7rL9tUyJQm1bq6RSk6OPbStCNd+/a1MIJsYFUs5Qea9XXiY+vjD9l1ZFpRpaFTyC1yfyYdklrmSUcDyO6mlMOB7RtumXFoV7fH6qVcwm72u5J9GS50VR9XMcsbQgHI/r5z7mi10K6H/A4DBT7GNt/wP1WOoxA/MtTCKZgfwWJhFCCkgihBSQRAgpIIkQUkASIaSAJEJIAUmE+AfLPO58roI/NAAAAABJRU5ErkJggg==)"
   ]
  },
  {
   "cell_type": "code",
   "execution_count": null,
   "id": "_OgsUkvfMrLE",
   "metadata": {
    "colab": {
     "base_uri": "https://localhost:8080/"
    },
    "id": "_OgsUkvfMrLE",
    "outputId": "80626ae3-ce52-44ce-b6ef-eafc28fe1755"
   },
   "outputs": [
    {
     "name": "stdout",
     "output_type": "stream",
     "text": [
      "Looking in indexes: https://pypi.org/simple, https://us-python.pkg.dev/colab-wheels/public/simple/\n",
      "Collecting mypy\n",
      "  Downloading mypy-0.960-cp37-cp37m-manylinux_2_5_x86_64.manylinux1_x86_64.manylinux_2_12_x86_64.manylinux2010_x86_64.whl (15.3 MB)\n",
      "\u001b[K     |████████████████████████████████| 15.3 MB 14.6 MB/s \n",
      "\u001b[?25hRequirement already satisfied: typing-extensions>=3.10 in /usr/local/lib/python3.7/dist-packages (from mypy) (4.2.0)\n",
      "Requirement already satisfied: tomli>=1.1.0 in /usr/local/lib/python3.7/dist-packages (from mypy) (2.0.1)\n",
      "Collecting typed-ast<2,>=1.4.0\n",
      "  Downloading typed_ast-1.5.4-cp37-cp37m-manylinux_2_5_x86_64.manylinux1_x86_64.manylinux_2_12_x86_64.manylinux2010_x86_64.whl (843 kB)\n",
      "\u001b[K     |████████████████████████████████| 843 kB 63.9 MB/s \n",
      "\u001b[?25hCollecting mypy-extensions>=0.4.3\n",
      "  Downloading mypy_extensions-0.4.3-py2.py3-none-any.whl (4.5 kB)\n",
      "Installing collected packages: typed-ast, mypy-extensions, mypy\n",
      "Successfully installed mypy-0.960 mypy-extensions-0.4.3 typed-ast-1.5.4\n"
     ]
    }
   ],
   "source": [
    "pip install mypy"
   ]
  },
  {
   "cell_type": "code",
   "execution_count": null,
   "id": "v_KTK5ErM2Ey",
   "metadata": {
    "id": "v_KTK5ErM2Ey"
   },
   "outputs": [],
   "source": []
  },
  {
   "cell_type": "markdown",
   "id": "eAtVc2lSNAX8",
   "metadata": {
    "id": "eAtVc2lSNAX8"
   },
   "source": [
    "* Once installed mypy, you can use it to check the type before running the program by using the following command:\n",
    "![image.png](data:image/png;base64,iVBORw0KGgoAAAANSUhEUgAAAHYAAAAnCAYAAADadbxDAAAD/UlEQVR4nO2bPWhiWRTHf7NsqRbJ7rYqK0QYGBAZGUIkiIUMIrKdIQxpxEYYgoWksbKRFMEmjdgsQbQLIjJYBAkOYRBEGBjIgoPaLmQLtd8t3tP3/Ii+Z1aWvdwfBN59uR/n3v855953wVdut/tvJMLxw39tgGQ3SGEFRQorKFJYQZHCCooUVlCksIIihRUUKaygSGEFRQorKFJYQZHCCooUVlCksIIihRUUKaygSGEFRQorKD+aq+4iX0qw32xANIQDGFT1z2k+FIPc1EI4+g38H++0poETPqU80C7wPgv5UoKDxwL3PycIO9U6oy7Xp2UqAPEkrahd7VPrJpbJkPRB5yrLedOo3apNs/J4rn0skyHp7nHd3CMZta+o49psrwk7qBZ4CiTw2tTXs7VSxvGy2O8za7qGrSLWET3k6SpNvQ+OaAiq6vObIHBHvT0Gp5sLXZvYkQvLqMvv2d7sncWXIEwDfySNP9JgYPNwlnEp/yw26IymfU5x8c5tZdIumxDVRb7k5lskrY6Tpt634k0l5+zD5iEZhbq+TvyEmK7KWntN4IgqTuKPpPFfdZk4Q9zEAXqcN4dgc/EuoGsQd+NgSN2gqLBtKu4/aAvbb8xFFEAl+8AAO6/j0zeKIIPmgnfPeaDiEBb3W3Ux1UnqHSTwlgPbkHudc2ymx/npNTndm9zX4Yp6Q+oRrV7utstkcYHX2mucSbvA++kcmmXu+zoHLjbojKwcHGkOc/HGzqTdmJvDJna0xyqTdgRUj4+H8NqGfCtuagfY9rSUWWzQGdk5VqPi4jcPlv6jqQmCkmpbtUvtb5ZuN2Fl/1cT9r6E/V/mHNriCykOHTjh2Dnmj89mnHmHh6fK597M40153OgvBrNCjy+P06gI8to5pnNrPB0BEE+qe7KWiv3VVRG7ijFP383Y+wKe/tSyWfFxlvFiRy4s+gxpkN2diptl7vtWvPEMx04D6TNwwplvOV1Xsg/KXlY6xLHFBJcJcrMxYl3k4571C/qMvcqermSGT0b233iS8JLDTjNehjMf5p0Z06dic+RuuxynPNAur45WZ4hWLaQWxnSu0isW8o56+1CJuqL5CVJs0Akk8KYuaaXUcapdforuLVS0E65dElZLk3YB/6IzGrJ3MxZfglZtWhpSj2SX1qeSfSCsnoS3GcOksD3OT9OzUu5jWjts6J7nWbM/mDi+M+rxZatonbd5xtJ+P394Wokhe58ZT8fc4WkDg69bODM7jdggN+p364vS52yPNPO9+H/HRb6kfrcaOXCu4N8XVr2IsGDOMxdRLiKsLF4miI3uIsVMNlvBK/lrOzGRd8WCIoUVFCmsoEhhBUUKKyhSWEGRwgqKFFZQ/gHpPrXjOl/BnwAAAABJRU5ErkJggg==)\n",
    "* Once installed mypy, you can use it to check the type before running the program by using the following command:\n",
    "![image.png](data:image/png;base64,iVBORw0KGgoAAAANSUhEUgAAAHkAAAAoCAYAAADaKFUbAAAEBElEQVR4nO2bMWgiWRjHf3tcqRbJ3bUqK0RYWBBZWUIkiIUsInKdIRxpxEZYgoWksbKRFMEmjdgcIWgXRGSZIkhwCYsgwsJCDjzU9iBXqP1dMaPOqImOrhyX934QmDd5b+Z77/993/vmga/cbvc/SF40P/zXBki2jxRZAKTIAiBFFgApsgBIkQVAiiwAUmQBkCILgBRZAKTIAiBFFgApsgBIkQVAiiwAUmQBkCILwI+rd3WRv06wW1cgGsIB9Cr66zS/FYNcVUM4ugr+j7fToYEjPqU80CzwIQv56wR7DwXufk4Qdmp9Bm0uj0uUAeJJGlG79szpY2KZDEkftC6ynNZXtVuzadIeGsbHMhmS7g6X9R2SUfuCPq7l9pqwg0qBx0ACr027PVkr9T1eZp/7xJqawHQkO6L7PF6kqXXBEQ1BRbt+GwRuqTWH4HRzphsTO3BhGbT5PduZ3LP4EoRR8EfS+CMKPZuHk4xL/WdRoTUYP3OMi/duK6NmyYTALvLXbr5F0tp70tS6VryppME+bB6SUajp+8SPiOm6PGuvCRxR1WH8kTT+izYjZ4irOECH03ofbC7eB3QD4m4c9KmtKTCsk66799NF7iqGSAMoZ+/pYedNfHxHFadXn/F6g2eqzmFxv9MWVpuw3lkC79iz9bnTOcpyOpweX5LT3cl97S/o16cWmfbL3bQZzS72s/auzqhZ4MN4DvUSd12dMxcVWgMrewdT5zl7a2fUVAxzMMsW9mR1ARwBLRLiIby2Pt+Ky8YBtp1pWi0qtAZ2DrVoOfvVg6X7YHqysUyGRvV8+jdJycuwsvvahL2bsPuLwbktvpDq3IEjDp1D/vhsxrHn2UrhVf7cmUSCKU8c/E1v0ujw5WEcLUHeOIe0bkymrHhS28On6dpfWRTJixjy+KcZezfg8a9plis+TDJh7MCFRZ8512Q71XW9xF3Xijee4dC5QooNHHHim0/p5ey9uvdd7+P4DpOFIFdLI9lFPu55fnGfsFetAdSM8WmV/TqeJDznvONMmOHEh3nHXoCJ6tocuZs2hykPNEuLo9gZolENaY0hrYv0gkW9pdbcV6OxuMZkiwqtQAJv6pxGSntPpc1P0Z2ZjnbC1XPCWmvULOCfdcyV7F2OxZegUR23+tQi2bn1KWfvCWsV9eaObUrkDqfH6Ukr9zE9LVR010ae2U/MfBIMOnxZa7JGmyfM1QfGwmshK9n7xPt0GAqvJfS+bh7FsLVIDnKlfRdv5ImTPdXM9+j/HRf5a+27eJVidQW+r8jaoYcFcx47i3roYWX24OJlozu02eDgYxGv5G+hXj7y7FoApMgCIEUWACmyAEiRBUCKLABSZAGQIguAFFkApMgCIEUWgH8BEXG15XCI9oYAAAAASUVORK5CYII=)\n",
    "* It’ll show the following message:\n",
    "![image.png](data:image/png;base64,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)"
   ]
  },
  {
   "cell_type": "code",
   "execution_count": null,
   "id": "J_6qYKrSNCZ-",
   "metadata": {
    "id": "J_6qYKrSNCZ-"
   },
   "outputs": [],
   "source": []
  },
  {
   "cell_type": "markdown",
   "id": "W2CJXX_4afGc",
   "metadata": {
    "id": "W2CJXX_4afGc"
   },
   "source": [
    "* The error indicates that the argument of the say_hi is int while the expected type is str.\n",
    "\n",
    "* If you change back the argument to a string and run the mypy again, it’ll show a success message:\n",
    "![image.png](data:image/png;base64,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)\n",
    "\n",
    "### **Type hinting & type inference**\n",
    "* When defining a variable, you can add a type hint like this:\n",
    "![image.png](data:image/png;base64,iVBORw0KGgoAAAANSUhEUgAAALYAAAAgCAYAAAC/z4JaAAAENElEQVR4nO2aTUhjVxSAvxe6rFkIbZd1QDKBQiEEpZSKiBAZH8GtQaIbmYXBISgEYcgqDIhgCEpmUdzMhMHsioSMTCBIEUrrEAYKBSuWid3U/kwWZtZ5XbzEvPyYieZH53K+Vd69Lyfnme+de96NmtPpNBAExbDddgKC0AtEbEFJRGxBSURsQUlEbEFJRGxBSURsQUlEbEFJRGxBSURsxXDMG8S2SwQ9PfoAj0Fs28Dv7E64XuX7SXfDKcZigMMZSHvjrN92Lm1ycn71nGe1xPRQ3WBeI7ip9TSnVrTKtxNEbCXRePdn42hm00bGcuxZLTHdt5xa0TzfTpBWRFAS7YP/3VdZjqMFxldcfFoezu+F8O9YzpvwsW+Zh7PqEr4Y4HCiQPp4GH10AC7e1LyOz+2SLL9rNhwmMDpwGeX90fc8iJzWJTVM7MVD3PYiuWiE4MENrrwh3+o11edgxZrPbDhMwHlKfO4f9NQU5irfQU59xqzYja2I/0kJt716XHxtI/y88iaDmBdyKXB4DSp/pXzKRqy8HDjmDZbuw9MfYclb0UsjF9dIHPfyiqq02Yp8ib4CaW+Idcpf6EyAtZ1K7zlJYhGeeUNlQU3x9Bc+8hVp7S70z14xFv2c/RUXuvMN8SgsrAzzzQQkDypCFUh7I9W4qYfsh5vJ3QmTJFZc/LcX4sFO42wyEjFzbqfHtrsIpIrkoiH8B7C2tYG+6GP2oHqztqLVTdRQPPqA/0kJd0Ej+Lgsu9MgEigRwSI3Bm6vxstls7VxzBssjRs4MhonlVPsBkvjGk+XbZxQvon88Mtjyzk9pE2xi+Si1S83+VeBQM18Fv+c9fiUn4+LuGuenIvkfsgCPvP1zi5JfCxczk+ijw6Q34tYJMqSPvqWgHOEWU4topwSnAu1l3oLhr6eBLIdRqmt0Ou/nqHPDFL/jHYVlzfRXcBj4LZr5BKWCn6skXgNS/cNHFSkNKtvpV8/OQdGYAgs0mq8tEic/1eDwX5chEnXHh7XtjbQ79UNXlw/ztDMBoczncdpTRa/FxKpKQ5TU+bQ21eMPbqJ5AXOrW3HTpyxPlfZbvN3s3bBXi/u3aYrYs+Gw+j3zmqWbLP/vH6s/i2/WfzeisiTpuRb3FDum3ObrcgXg1D8vc2tvgvI9y6VrtOb7b4JHwujA9estFl+ezuFXtO7X0UXHh6bfHZD+/BHgfe4+GoR6JFg/WxFPPMG+efl9sBp4LDDO+s+cgbyXoPpVchsVnts/4hBPmX7aKo1dEnsZOQn9NQUemoDHYAz0ntn6BPXi7P+KARbG5Y4Js13RjqgyY6IuTtTV60Pdnn23TABS3vU9Vz6SOYIItulpjsZJhqxZQhum78ucuV5d58Pb/cJwkeI/EAjKImILSiJiC0oiYgtKImILSiJiC0oiYgtKImILSiJiC0oiYgtKMn/x8yMfzGEuI4AAAAASUVORK5CYII=)\n",
    "\n",
    "* The type of the name variable is str. If you assign a value that is not a string to the name variable, the static type checker will issue an error. For example:\n",
    "![image.png](data:image/png;base64,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)\n",
    "* Error:\n",
    "![image.png](data:image/png;base64,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)\n",
    "\n",
    "* Adding a type to a variable is unnecessary because static type checkers typically can infer the type based on the value assigned to the variable.\n",
    "\n",
    "* In this example, the value of the name is a literal string so that the static type checker will infer the type of the name variable as str. For example:\n",
    "![image.png](data:image/png;base64,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)\n",
    "\n",
    "* It’ll issue the same error:\n",
    "![image.png](data:image/png;base64,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)\n",
    "\n",
    "### **Adding type hints for multiple types**\n",
    "* The following add() function returns the sum of two numbers:\n",
    "![image.png](data:image/png;base64,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)\n",
    "\n",
    "* The numbers can be integers or floats. To set type hints for multiple types, you can use Union from the typing module.\n",
    "\n",
    "* First, import Union from typing module:\n",
    "![image.png](data:image/png;base64,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)\n",
    "\n",
    "* Second, use the Union to create a union type that includes int and float:\n",
    "![image.png](data:image/png;base64,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)\n",
    "\n",
    "* Here is the complete source code:\n",
    "![image.png](data:image/png;base64,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)\n",
    "\n",
    "* Starting from Python 3.10, you can use the X | Y syntax to create a union type, for example:\n",
    "![image.png](data:image/png;base64,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)\n",
    "\n",
    "### **Type aliases**\n",
    "* Python allows you to assign an alias to a type and use the alias for type hintings. For example:\n",
    "![image.png](data:image/png;base64,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)\n",
    "\n",
    "* In this example, we assign the Union[int, float] type an alias Number and use the Number alias in the add() function.\n",
    "\n",
    "### **Adding type hints for lists, dictionaries, and sets**\n",
    "* You can use the following built-in types to set the type hints for a list, dictionary, and set:\n",
    "\n",
    "* list\n",
    "* dict\n",
    "* set\n",
    "*If you type hints a variable as a list but later assign a dictionary to it, you’ll get an error:\n",
    "![image.png](data:image/png;base64,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)\n",
    "\n",
    "* Error:\n",
    "![image.png](data:image/png;base64,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)\n",
    "\n",
    "* To specify the types of values in the list, dictionary, and sets, you can use type aliases from the typing module:\n",
    "![image.png](data:image/png;base64,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)\n",
    "\n",
    "* For example, the following defines a list of integers:\n",
    "![image.png](data:image/png;base64,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)\n",
    "\n",
    "### **None type**\n",
    "* If a function doesn’t explicitly returns a value, you can use None to type hint the return value. For example:\n",
    "![image.png](data:image/png;base64,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)"
   ]
  },
  {
   "cell_type": "code",
   "execution_count": null,
   "id": "-FFFBg1ravbs",
   "metadata": {
    "id": "-FFFBg1ravbs"
   },
   "outputs": [],
   "source": []
  }
 ],
 "metadata": {
  "colab": {
   "collapsed_sections": [
    "1cc3a70a",
    "2abae15b",
    "f31b9ff8",
    "ab6d3f02",
    "1801cec3",
    "15027261",
    "7fbac9ad",
    "fe3dd270",
    "b7fb0a29",
    "ee33e234"
   ],
   "name": "Python_Functions.ipynb",
   "provenance": []
  },
  "kernelspec": {
   "display_name": "Python 3 (ipykernel)",
   "language": "python",
   "name": "python3"
  },
  "language_info": {
   "codemirror_mode": {
    "name": "ipython",
    "version": 3
   },
   "file_extension": ".py",
   "mimetype": "text/x-python",
   "name": "python",
   "nbconvert_exporter": "python",
   "pygments_lexer": "ipython3",
   "version": "3.10.4"
  }
 },
 "nbformat": 4,
 "nbformat_minor": 5
}
