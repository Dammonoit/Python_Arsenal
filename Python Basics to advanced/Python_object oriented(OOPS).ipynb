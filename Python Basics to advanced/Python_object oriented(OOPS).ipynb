{
 "cells": [
  {
   "cell_type": "markdown",
   "metadata": {},
   "source": [
    "# **Python Object Oriented.**\n",
    "Python is a **multi-paradigm programming language**. Meaning, it supports different programming approach.\n",
    "Python is an **object oriented programming language**. So, its main focus is on **objects** unlike **procedure oriented** programming languages which mainly focuses on **functions.**\n",
    " \n",
    "In object oriented programming language, object is simply a collection of **data (variables)** and **methods (functions)** that act on those data.\n",
    " \n",
    "A class is a blueprint for the object. Let's understand it by an example:\n",
    "Suppose a class is a prototype of a building. A building contains all the details about the floor, doors, windows, etc. we can make another buildings (as many as we want) based on these details. So building is a class and we can create many objects from a class.\n",
    " \n",
    "An object is also called an **instance** of a class and the process of creating this object is known as **instantiation.**\n",
    " \n",
    "Python classes contain all the **standard features** of Object Oriented Programming. \n"
   ]
  },
  {
   "cell_type": "markdown",
   "metadata": {},
   "source": [
    "## **Object-oriented vs Procedure-oriented Programming languages.**\n",
    "\n",
    "\n",
    "![Imgur](https://i.imgur.com/gRu27p5.png)"
   ]
  },
  {
   "cell_type": "markdown",
   "metadata": {},
   "source": [
    "## **Why is Python not fully object-oriented?**\n"
   ]
  },
  {
   "cell_type": "code",
   "execution_count": 2,
   "metadata": {},
   "outputs": [
    {
     "data": {
      "text/plain": [
       "int"
      ]
     },
     "execution_count": 2,
     "metadata": {},
     "output_type": "execute_result"
    }
   ],
   "source": [
    "x=44\n",
    "type(x)"
   ]
  },
  {
   "cell_type": "markdown",
   "metadata": {},
   "source": [
    "* There are also some special attributes that begins with double underscore (__). For example: __doc__ attribute. It is used to fetch the docstring of that class. When we define a class, a new class object is created with the same class name."
   ]
  },
  {
   "cell_type": "code",
   "execution_count": 7,
   "metadata": {},
   "outputs": [
    {
     "name": "stdout",
     "output_type": "stream",
     "text": [
      "50\n",
      "Python is a good language.\n",
      "None\n",
      "<bound method New.func of <__main__.New object at 0x7f0ad8609e48>>\n",
      "This is our sample class.\n"
     ]
    }
   ],
   "source": [
    "class New:\n",
    "    'This is our sample class.'\n",
    "    a=50\n",
    "    def func(self):\n",
    "        print('Python is a good language.')\n",
    "o1=New()\n",
    "print(o1.a)\n",
    "print(o1.func())\n",
    "print(o1.func)\n",
    "print(o1.__doc__)"
   ]
  },
  {
   "cell_type": "code",
   "execution_count": 16,
   "metadata": {},
   "outputs": [
    {
     "name": "stdout",
     "output_type": "stream",
     "text": [
      "12 Don\n",
      "None\n",
      "13 Fon\n",
      "None\n"
     ]
    }
   ],
   "source": [
    "class Student(object):    #writing object near student is optional.\n",
    "    #now we'll define the class constructor for python.\n",
    "    def __init__(self,rollno,name):\n",
    "        self.rollno=rollno\n",
    "        self.name=name\n",
    "    def Print_func(self):\n",
    "        print(self.rollno,self.name)\n",
    "o1=Student(12,'Don')\n",
    "o2=Student(13,'Fon')\n",
    "print(o1.Print_func())\n",
    "print(o2.Print_func())"
   ]
  },
  {
   "cell_type": "markdown",
   "metadata": {},
   "source": [
    "* A constructor is a special type of method (function) which is used to initialize the instance members of the class. Constructor can be parameterized and non-parameterized as well. "
   ]
  },
  {
   "cell_type": "code",
   "execution_count": 19,
   "metadata": {},
   "outputs": [
    {
     "name": "stdout",
     "output_type": "stream",
     "text": [
      "The Output is  1 2\n",
      "None\n"
     ]
    }
   ],
   "source": [
    "class Number:\n",
    "    def __init__(self,r=0,l=0):  #we can default values of parameters in the constructor.\n",
    "        self.no1=r\n",
    "        self.no2=l\n",
    "    def Print_data(self):\n",
    "        return print('The Output is ',self.no1,self.no2)\n",
    "o1=Number(1,2)\n",
    "print(o1.Print_data())"
   ]
  },
  {
   "cell_type": "markdown",
   "metadata": {
    "collapsed": true
   },
   "source": [
    "## **Four pillars of OOPS.**\n",
    "1. ### Abstraction\n",
    "2. ### Encapsulation\n",
    "3. ### Inheritance\n",
    "4. ### Polymorphism"
   ]
  },
  {
   "cell_type": "markdown",
   "metadata": {},
   "source": [
    "## **Inheritance.**\n",
    "* Classes can inherit functionality of other classes. If an object is created using a class that inherits from a superclass, the object will contain the methods of both the class and the superclass. The same holds true for variables of both the superclass and the class that inherits from the super class.\n",
    "\n",
    "* Python supports inheritance from multiple classes, unlike other popular programming languages.\n",
    "* There are different types of inheritance. they're\n",
    "    * Multiple Inheritance\n",
    "    * Multilevel Inheritance\n",
    "    \n",
    "    ![Imgur](https://i.imgur.com/3Rd86Sp.png)"
   ]
  },
  {
   "cell_type": "markdown",
   "metadata": {
    "collapsed": true
   },
   "source": [
    "## **Define a class**\n",
    "### **Objects**\n",
    "* An object is a container that contains data and functionality.\n",
    "\n",
    "* The data represents the object at a particular moment in time. Therefore, the data of an object is called the state. Python uses attributes to model the state of an object.\n",
    "\n",
    "* The functionality represents the behaviors of an object. Python uses functions to model the behaviors. When a function is associated with an object, it becomes a method of the object.\n",
    "\n",
    "* In other words, an object is a container that contains the state and methods.\n",
    "\n",
    "* Before creating objects, you define a class first. And from the class, you can create one or more objects. The objects of a class are also called instances of a class.\n",
    "\n",
    "* To define a class, you use the class keyword followed by the class name. For example, the following defines a Person class:\n"
   ]
  },
  {
   "cell_type": "code",
   "execution_count": 20,
   "metadata": {},
   "outputs": [
    {
     "data": {
      "text/plain": [
       "__main__.Person"
      ]
     },
     "execution_count": 20,
     "metadata": {},
     "output_type": "execute_result"
    }
   ],
   "source": [
    "class Person:\n",
    "    pass\n",
    "\n",
    "type(person)"
   ]
  },
  {
   "cell_type": "markdown",
   "metadata": {},
   "source": [
    "* By convention, you use capitalized names for classes in Python. If the class name contains multiple words, you use the CamelCase format, for example SalesEmployee.\n",
    "\n",
    "* Since the Person class is incomplete; you need to use the pass statement to indicate that you’ll add more code to it later.\n",
    "* To create an object from the Person class, you use the class name followed by parentheses (), like calling a function:\n"
   ]
  },
  {
   "cell_type": "code",
   "execution_count": 21,
   "metadata": {},
   "outputs": [
    {
     "name": "stdout",
     "output_type": "stream",
     "text": [
      "1524063376416\n"
     ]
    }
   ],
   "source": [
    "#In this example, the person is an instance of the Person class. Classes are callable.\n",
    "person = Person()\n",
    "print(id(person))"
   ]
  },
  {
   "cell_type": "markdown",
   "metadata": {},
   "source": [
    "* The id of an object is unique. In CPython, the id() returns the memory address of an object. The hex() function converts the integer returned by the id() function to a lowercase hexadecimal string prefixed with 0x:"
   ]
  },
  {
   "cell_type": "code",
   "execution_count": 22,
   "metadata": {},
   "outputs": [
    {
     "name": "stdout",
     "output_type": "stream",
     "text": [
      "0x162d9419420\n"
     ]
    }
   ],
   "source": [
    "print(hex(id(person)))"
   ]
  },
  {
   "cell_type": "markdown",
   "metadata": {},
   "source": [
    "* A class is also an object in Python\n",
    "* Everything in Python is an object, including classes.\n",
    "\n",
    "* When you define the Person class, Python creates an object with the name Person. The Person object has attributes. For example, you can find its name using the __name__ attribute:"
   ]
  },
  {
   "cell_type": "code",
   "execution_count": 23,
   "metadata": {},
   "outputs": [
    {
     "name": "stdout",
     "output_type": "stream",
     "text": [
      "Person\n"
     ]
    }
   ],
   "source": [
    "print(Person.__name__)"
   ]
  },
  {
   "cell_type": "code",
   "execution_count": 24,
   "metadata": {},
   "outputs": [
    {
     "name": "stdout",
     "output_type": "stream",
     "text": [
      "<class 'type'>\n"
     ]
    }
   ],
   "source": [
    "#The Person object has the type of type:\n",
    "print(type(Person))"
   ]
  },
  {
   "cell_type": "code",
   "execution_count": 25,
   "metadata": {},
   "outputs": [],
   "source": [
    "#The Person class also has a behavior. For example, it can create a new instance:\n",
    "person = Person()"
   ]
  },
  {
   "cell_type": "markdown",
   "metadata": {},
   "source": [
    "## **Define instance attributes**\n",
    "* Python is dynamic. It means that you can add an attribute to an instance of a class dynamically at runtime.\n",
    "\n",
    "* For example, the following adds the name attribute to the person object:\n"
   ]
  },
  {
   "cell_type": "code",
   "execution_count": 4,
   "metadata": {},
   "outputs": [],
   "source": [
    "person.name = 'John'"
   ]
  },
  {
   "cell_type": "markdown",
   "metadata": {},
   "source": [
    "* However, if you create another Person object, the new object won’t have the name attribute.\n",
    "\n",
    "* To define and initialize an attribute for all instances of a class, you use the __init__ method. The following defines the Person class with two instance attributes name and age:"
   ]
  },
  {
   "cell_type": "code",
   "execution_count": 5,
   "metadata": {},
   "outputs": [],
   "source": [
    "class Person:\n",
    "    def __init__(self, name, age):\n",
    "        self.name = name\n",
    "        self.age = age"
   ]
  },
  {
   "cell_type": "markdown",
   "metadata": {},
   "source": [
    "* When you create a Person object, Python automatically calls the __init__ method to initialize the instance attributes. \n",
    "* In the __init__ method, the self is the instance of the Person class.\n",
    "\n",
    "* The following creates a Person object named person:"
   ]
  },
  {
   "cell_type": "code",
   "execution_count": 6,
   "metadata": {},
   "outputs": [],
   "source": [
    "person = Person('John', 25)"
   ]
  },
  {
   "cell_type": "markdown",
   "metadata": {},
   "source": [
    "* The person object now has the name and age attributes. To access an instance attribute, you use the dot notation. \n",
    "* For example, the following returns the value of the name attribute of the person object:"
   ]
  },
  {
   "cell_type": "code",
   "execution_count": 7,
   "metadata": {},
   "outputs": [
    {
     "data": {
      "text/plain": [
       "'John'"
      ]
     },
     "execution_count": 7,
     "metadata": {},
     "output_type": "execute_result"
    }
   ],
   "source": [
    "person.name"
   ]
  },
  {
   "cell_type": "markdown",
   "metadata": {},
   "source": [
    "## **Define instance methods**\n",
    "* The following adds an instance method called **greet()** to the Person class:\n"
   ]
  },
  {
   "cell_type": "code",
   "execution_count": 8,
   "metadata": {},
   "outputs": [],
   "source": [
    "class Person:\n",
    "    def __init__(self, name, age):\n",
    "        self.name = name\n",
    "        self.age = age\n",
    "\n",
    "    def greet(self):\n",
    "        return f\"Hi, it's {self.name}.\""
   ]
  },
  {
   "cell_type": "markdown",
   "metadata": {},
   "source": [
    "* To call an instance method, you also use the dot notation. For example:"
   ]
  },
  {
   "cell_type": "code",
   "execution_count": 9,
   "metadata": {},
   "outputs": [
    {
     "name": "stdout",
     "output_type": "stream",
     "text": [
      "Hi, it's John.\n"
     ]
    }
   ],
   "source": [
    "person = Person('John', 25)\n",
    "print(person.greet())"
   ]
  },
  {
   "cell_type": "markdown",
   "metadata": {},
   "source": [
    "## **Define class attributes**\n",
    "* Unlike instance attributes, class attributes are shared by all instances of the class. They are helpful if you want to define class constants or variables that keep track of the number of instances of a class.\n",
    "\n",
    "* For example, the following defines the counter class attribute in the Person class:\n"
   ]
  },
  {
   "cell_type": "code",
   "execution_count": 10,
   "metadata": {},
   "outputs": [],
   "source": [
    "class Person:\n",
    "    counter = 0\n",
    "\n",
    "    def __init__(self, name, age):\n",
    "        self.name = name\n",
    "        self.age = age\n",
    "\n",
    "    def greet(self):\n",
    "        return f\"Hi, it's {self.name}.\""
   ]
  },
  {
   "cell_type": "markdown",
   "metadata": {},
   "source": [
    "* You can access the counter attribute from the Person class:"
   ]
  },
  {
   "cell_type": "code",
   "execution_count": 11,
   "metadata": {},
   "outputs": [
    {
     "data": {
      "text/plain": [
       "0"
      ]
     },
     "execution_count": 11,
     "metadata": {},
     "output_type": "execute_result"
    }
   ],
   "source": [
    "Person.counter"
   ]
  },
  {
   "cell_type": "markdown",
   "metadata": {},
   "source": [
    "* Or from any instances of the Person class:"
   ]
  },
  {
   "cell_type": "code",
   "execution_count": 12,
   "metadata": {},
   "outputs": [
    {
     "data": {
      "text/plain": [
       "0"
      ]
     },
     "execution_count": 12,
     "metadata": {},
     "output_type": "execute_result"
    }
   ],
   "source": [
    "person = Person('John',25)\n",
    "person.counter"
   ]
  },
  {
   "cell_type": "markdown",
   "metadata": {},
   "source": [
    "* To make the counter variable more useful, you can increase its value by one once an object is created. \n",
    "* To do it, you increase the counter class attribute in the __init__ method:"
   ]
  },
  {
   "cell_type": "code",
   "execution_count": 13,
   "metadata": {},
   "outputs": [],
   "source": [
    "class Person:\n",
    "    counter = 0\n",
    "\n",
    "    def __init__(self, name, age):\n",
    "        self.name = name\n",
    "        self.age = age\n",
    "        Person.counter += 1\n",
    "\n",
    "    def greet(self):\n",
    "        return f\"Hi, it's {self.name}.\""
   ]
  },
  {
   "cell_type": "markdown",
   "metadata": {},
   "source": [
    "* The following creates two instances of the Person class and shows the value of the counter:"
   ]
  },
  {
   "cell_type": "code",
   "execution_count": 14,
   "metadata": {},
   "outputs": [
    {
     "name": "stdout",
     "output_type": "stream",
     "text": [
      "2\n"
     ]
    }
   ],
   "source": [
    "p1 = Person('John', 25)\n",
    "p2 = Person('Jane', 22)\n",
    "print(Person.counter)"
   ]
  },
  {
   "cell_type": "markdown",
   "metadata": {},
   "source": [
    "## **Define class method**\n",
    "* Like a class attribute, a class method is shared by all instances of the class. \n",
    "* The first argument of a class method is the class itself. \n",
    "* By convention, its name is **cls**. Python automatically passes this argument to the class method. Also, you use the **@classmethod** decorator to decorate a class method.\n",
    "\n",
    "* The following example defines a class method that returns an anonymous Person object:"
   ]
  },
  {
   "cell_type": "code",
   "execution_count": 15,
   "metadata": {},
   "outputs": [],
   "source": [
    "class Person:\n",
    "    counter = 0\n",
    "\n",
    "    def __init__(self, name, age):\n",
    "        self.name = name\n",
    "        self.age = age\n",
    "        Person.counter += 1\n",
    "\n",
    "    def greet(self):\n",
    "        return f\"Hi, it's {self.name}.\"\n",
    "\n",
    "    @classmethod\n",
    "    def create_anonymous(cls):\n",
    "        return Person('Anonymous', 22)"
   ]
  },
  {
   "cell_type": "code",
   "execution_count": 16,
   "metadata": {},
   "outputs": [
    {
     "name": "stdout",
     "output_type": "stream",
     "text": [
      "Anonymous\n"
     ]
    }
   ],
   "source": [
    "#The following shows how to call the create_anonymous() class method:\n",
    "anonymous = Person.create_anonymous()\n",
    "print(anonymous.name)  # Anonymous"
   ]
  },
  {
   "cell_type": "markdown",
   "metadata": {},
   "source": [
    "## **Define static method**\n",
    "* A static method is not bound to a class or any instances of the class. \n",
    "* In Python, you use static methods to group logically related functions in a class. To define a static method, you use the **@staticmethod** decorator.\n",
    "\n",
    "* For example, the following defines a class TemperatureConverter that has two static methods that convert from celsius to Fahrenheit and vice versa:"
   ]
  },
  {
   "cell_type": "code",
   "execution_count": 17,
   "metadata": {},
   "outputs": [],
   "source": [
    "class TemperatureConverter:\n",
    "    @staticmethod\n",
    "    def celsius_to_fahrenheit(c):\n",
    "        return 9 * c / 5 + 32\n",
    "\n",
    "    @staticmethod\n",
    "    def fahrenheit_to_celsius(f):\n",
    "        return 5 * (f - 32) / 9"
   ]
  },
  {
   "cell_type": "markdown",
   "metadata": {},
   "source": [
    "* To call a **static method**, you use the **ClassName.static_method_name()** syntax. For example:"
   ]
  },
  {
   "cell_type": "code",
   "execution_count": 18,
   "metadata": {},
   "outputs": [
    {
     "name": "stdout",
     "output_type": "stream",
     "text": [
      "86.0\n"
     ]
    }
   ],
   "source": [
    "f = TemperatureConverter.celsius_to_fahrenheit(30)\n",
    "print(f)  # 86"
   ]
  },
  {
   "cell_type": "markdown",
   "metadata": {},
   "source": [
    "* Notice that Python doesn’t implicitly pass an instance (self) as well as class (cls) as the first argument of a static method."
   ]
  },
  {
   "cell_type": "markdown",
   "metadata": {},
   "source": [
    "## **Python Class Variables**\n",
    "* Everything in Python is an object including a class. In other words, a class is an object in Python.\n",
    "\n",
    "* When you define a class using the class keyword, Python creates an object with the name the same as the class’s name. For example:\n"
   ]
  },
  {
   "cell_type": "code",
   "execution_count": 26,
   "metadata": {},
   "outputs": [],
   "source": [
    "class HtmlDocument:\n",
    "   pass"
   ]
  },
  {
   "cell_type": "markdown",
   "metadata": {},
   "source": [
    "* This example defines the HtmlDocument class and the HtmlDocument object. The HtmlDocument object has the __name__ property:"
   ]
  },
  {
   "cell_type": "code",
   "execution_count": 27,
   "metadata": {},
   "outputs": [
    {
     "name": "stdout",
     "output_type": "stream",
     "text": [
      "HtmlDocument\n"
     ]
    }
   ],
   "source": [
    "print(HtmlDocument.__name__) # HtmlDocument"
   ]
  },
  {
   "cell_type": "markdown",
   "metadata": {},
   "source": [
    "* And the HTMLDocument has the type of type:"
   ]
  },
  {
   "cell_type": "code",
   "execution_count": 28,
   "metadata": {},
   "outputs": [
    {
     "name": "stdout",
     "output_type": "stream",
     "text": [
      "<class 'type'>\n"
     ]
    }
   ],
   "source": [
    "print(type(HtmlDocument))  # <class 'type'>"
   ]
  },
  {
   "cell_type": "markdown",
   "metadata": {},
   "source": [
    "* It’s also an instance of the type class:"
   ]
  },
  {
   "cell_type": "code",
   "execution_count": 29,
   "metadata": {},
   "outputs": [
    {
     "name": "stdout",
     "output_type": "stream",
     "text": [
      "True\n"
     ]
    }
   ],
   "source": [
    "print(isinstance(HtmlDocument, type)) # True"
   ]
  },
  {
   "cell_type": "markdown",
   "metadata": {},
   "source": [
    "* Class variables are bound to the class. They’re shared by all instances of that class.\n",
    "\n",
    "* The following example adds the extension and version class variables to the HtmlDocument class:"
   ]
  },
  {
   "cell_type": "code",
   "execution_count": 30,
   "metadata": {},
   "outputs": [],
   "source": [
    "class HtmlDocument:\n",
    "    extension = 'html'\n",
    "    version = '5'"
   ]
  },
  {
   "cell_type": "markdown",
   "metadata": {},
   "source": [
    "* Both extension and version are the class variables of the HtmlDocument class. They’re bound to the HtmlDocument class."
   ]
  },
  {
   "cell_type": "markdown",
   "metadata": {},
   "source": [
    "## **Get the values of class variables**\n",
    "* To get the values of class variables, you use the dot notation **(.)**. For example:"
   ]
  },
  {
   "cell_type": "code",
   "execution_count": 31,
   "metadata": {},
   "outputs": [
    {
     "name": "stdout",
     "output_type": "stream",
     "text": [
      "html\n",
      "5\n"
     ]
    }
   ],
   "source": [
    "print(HtmlDocument.extension) # html\n",
    "print(HtmlDocument.version) # 5"
   ]
  },
  {
   "cell_type": "code",
   "execution_count": 32,
   "metadata": {},
   "outputs": [
    {
     "ename": "AttributeError",
     "evalue": "type object 'HtmlDocument' has no attribute 'media_type'",
     "output_type": "error",
     "traceback": [
      "\u001b[1;31m---------------------------------------------------------------------------\u001b[0m",
      "\u001b[1;31mAttributeError\u001b[0m                            Traceback (most recent call last)",
      "Input \u001b[1;32mIn [32]\u001b[0m, in \u001b[0;36m<cell line: 2>\u001b[1;34m()\u001b[0m\n\u001b[0;32m      1\u001b[0m \u001b[38;5;66;03m#If you access a class variable that doesn’t exist, you’ll get an AttributeError exception. For example:\u001b[39;00m\n\u001b[1;32m----> 2\u001b[0m \u001b[43mHtmlDocument\u001b[49m\u001b[38;5;241;43m.\u001b[39;49m\u001b[43mmedia_type\u001b[49m\n",
      "\u001b[1;31mAttributeError\u001b[0m: type object 'HtmlDocument' has no attribute 'media_type'"
     ]
    }
   ],
   "source": [
    "#If you access a class variable that doesn’t exist, you’ll get an AttributeError exception. For example:\n",
    "HtmlDocument.media_type"
   ]
  },
  {
   "cell_type": "markdown",
   "metadata": {},
   "source": [
    "* Another way to get the value of a class variable is to use the getattr() function. \n",
    "* The getattr() function accepts an object and a variable name. It returns the value of the class variable. For example:\n"
   ]
  },
  {
   "cell_type": "code",
   "execution_count": 33,
   "metadata": {},
   "outputs": [
    {
     "name": "stdout",
     "output_type": "stream",
     "text": [
      "html\n",
      "5\n"
     ]
    }
   ],
   "source": [
    "extension = getattr(HtmlDocument, 'extension')\n",
    "version = getattr(HtmlDocument, 'version')\n",
    "\n",
    "print(extension)  # html\n",
    "print(version)  # 5"
   ]
  },
  {
   "cell_type": "markdown",
   "metadata": {},
   "source": [
    "* If the class variable doesn’t exist, you’ll also get an AttributeError exception. To avoid the exception, you can specify a default value if the class variable doesn’t exist like this:"
   ]
  },
  {
   "cell_type": "code",
   "execution_count": 34,
   "metadata": {},
   "outputs": [
    {
     "name": "stdout",
     "output_type": "stream",
     "text": [
      "text/html\n"
     ]
    }
   ],
   "source": [
    "media_type = getattr(HtmlDocument, 'media_type', 'text/html')\n",
    "print(media_type) # text/html"
   ]
  },
  {
   "cell_type": "markdown",
   "metadata": {},
   "source": [
    "### **Set values for class variables**\n",
    "* To set a value for a class variable, you use the **dot** notation:"
   ]
  },
  {
   "cell_type": "code",
   "execution_count": 35,
   "metadata": {},
   "outputs": [],
   "source": [
    "HtmlDocument.version = 10"
   ]
  },
  {
   "cell_type": "markdown",
   "metadata": {},
   "source": [
    "* or you can use the setattr() built-in function:"
   ]
  },
  {
   "cell_type": "code",
   "execution_count": 36,
   "metadata": {},
   "outputs": [],
   "source": [
    "setattr(HtmlDocument, 'version', 10)"
   ]
  },
  {
   "cell_type": "markdown",
   "metadata": {},
   "source": [
    "* Since Python is a dynamic language, you can add a class variable to a class at runtime after you have created it. \n",
    "* For example, the following adds the media_type class variable to the HtmlDocument class:"
   ]
  },
  {
   "cell_type": "code",
   "execution_count": 37,
   "metadata": {},
   "outputs": [
    {
     "name": "stdout",
     "output_type": "stream",
     "text": [
      "text/html\n"
     ]
    }
   ],
   "source": [
    "HtmlDocument.media_type = 'text/html'\n",
    "print(HtmlDocument.media_type)"
   ]
  },
  {
   "cell_type": "markdown",
   "metadata": {},
   "source": [
    "* Similarly, you can use the setattr() function:"
   ]
  },
  {
   "cell_type": "code",
   "execution_count": 38,
   "metadata": {},
   "outputs": [
    {
     "name": "stdout",
     "output_type": "stream",
     "text": [
      "text/html\n"
     ]
    }
   ],
   "source": [
    "setattr(HtmlDocument, media_type, 'text/html')\n",
    "print(HtmlDocument.media_type)"
   ]
  },
  {
   "cell_type": "markdown",
   "metadata": {},
   "source": [
    "### **Delete class variables**\n",
    "* To delete a class variable at runtime, you use the **delattr()** function:"
   ]
  },
  {
   "cell_type": "code",
   "execution_count": 39,
   "metadata": {},
   "outputs": [],
   "source": [
    "delattr(HtmlDocument, 'version')"
   ]
  },
  {
   "cell_type": "code",
   "execution_count": 40,
   "metadata": {},
   "outputs": [
    {
     "ename": "AttributeError",
     "evalue": "version",
     "output_type": "error",
     "traceback": [
      "\u001b[1;31m---------------------------------------------------------------------------\u001b[0m",
      "\u001b[1;31mAttributeError\u001b[0m                            Traceback (most recent call last)",
      "Input \u001b[1;32mIn [40]\u001b[0m, in \u001b[0;36m<cell line: 2>\u001b[1;34m()\u001b[0m\n\u001b[0;32m      1\u001b[0m \u001b[38;5;66;03m#Or you can use the del keyword:\u001b[39;00m\n\u001b[1;32m----> 2\u001b[0m \u001b[38;5;28;01mdel\u001b[39;00m HtmlDocument\u001b[38;5;241m.\u001b[39mversion\n",
      "\u001b[1;31mAttributeError\u001b[0m: version"
     ]
    }
   ],
   "source": [
    "#Or you can use the del keyword:\n",
    "del HtmlDocument.version"
   ]
  },
  {
   "cell_type": "markdown",
   "metadata": {},
   "source": [
    "### **Class variable storage**\n",
    "* Python stores class variables in the __dict__ attribute. \n",
    "* The __dict__ is a mapping proxy, which is a dictionary. For example:\n"
   ]
  },
  {
   "cell_type": "code",
   "execution_count": 41,
   "metadata": {},
   "outputs": [
    {
     "name": "stdout",
     "output_type": "stream",
     "text": [
      "mappingproxy({'__dict__': <attribute '__dict__' of 'HtmlDocument' objects>,\n",
      "              '__doc__': None,\n",
      "              '__module__': '__main__',\n",
      "              '__weakref__': <attribute '__weakref__' of 'HtmlDocument' objects>,\n",
      "              'extension': 'html',\n",
      "              'media_type': 'text/html',\n",
      "              'version': '5'})\n"
     ]
    }
   ],
   "source": [
    "from pprint import pprint\n",
    "\n",
    "\n",
    "class HtmlDocument:\n",
    "    extension = 'html'\n",
    "    version = '5'\n",
    "\n",
    "\n",
    "HtmlDocument.media_type = 'text/html'\n",
    "\n",
    "pprint(HtmlDocument.__dict__)"
   ]
  },
  {
   "cell_type": "markdown",
   "metadata": {},
   "source": [
    "* As clearly shown in the output, the __dict__ has three class variables: **extension, media_type, and version** besides other predefined class variables.\n",
    "\n",
    "* Python does not allow you to change the __dict__ directly. For example, the following will result in an error:"
   ]
  },
  {
   "cell_type": "code",
   "execution_count": 42,
   "metadata": {},
   "outputs": [
    {
     "ename": "TypeError",
     "evalue": "'mappingproxy' object does not support item assignment",
     "output_type": "error",
     "traceback": [
      "\u001b[1;31m---------------------------------------------------------------------------\u001b[0m",
      "\u001b[1;31mTypeError\u001b[0m                                 Traceback (most recent call last)",
      "Input \u001b[1;32mIn [42]\u001b[0m, in \u001b[0;36m<cell line: 1>\u001b[1;34m()\u001b[0m\n\u001b[1;32m----> 1\u001b[0m HtmlDocument\u001b[38;5;241m.\u001b[39m\u001b[38;5;18m__dict__\u001b[39m[\u001b[38;5;124m'\u001b[39m\u001b[38;5;124mreleased\u001b[39m\u001b[38;5;124m'\u001b[39m] \u001b[38;5;241m=\u001b[39m \u001b[38;5;241m2008\u001b[39m\n",
      "\u001b[1;31mTypeError\u001b[0m: 'mappingproxy' object does not support item assignment"
     ]
    }
   ],
   "source": [
    "HtmlDocument.__dict__['released'] = 2008"
   ]
  },
  {
   "cell_type": "markdown",
   "metadata": {},
   "source": [
    "* However, you can use the setattr() function or dot notation to indirectly change the __dict__ attribute.\n",
    "\n",
    "* Also, the key of the __dict__ are strings that will help Python speeds up the variable lookup.\n",
    "\n",
    "* Although Python allows you to access class variables through the __dict__ dictionary, it’s not a good practice. Also, it won’t work in some situations. For example:"
   ]
  },
  {
   "cell_type": "code",
   "execution_count": 43,
   "metadata": {},
   "outputs": [
    {
     "ename": "KeyError",
     "evalue": "'type'",
     "output_type": "error",
     "traceback": [
      "\u001b[1;31m---------------------------------------------------------------------------\u001b[0m",
      "\u001b[1;31mKeyError\u001b[0m                                  Traceback (most recent call last)",
      "Input \u001b[1;32mIn [43]\u001b[0m, in \u001b[0;36m<cell line: 1>\u001b[1;34m()\u001b[0m\n\u001b[1;32m----> 1\u001b[0m \u001b[38;5;28mprint\u001b[39m(\u001b[43mHtmlDocument\u001b[49m\u001b[38;5;241;43m.\u001b[39;49m\u001b[38;5;18;43m__dict__\u001b[39;49m\u001b[43m[\u001b[49m\u001b[38;5;124;43m'\u001b[39;49m\u001b[38;5;124;43mtype\u001b[39;49m\u001b[38;5;124;43m'\u001b[39;49m\u001b[43m]\u001b[49m)\n",
      "\u001b[1;31mKeyError\u001b[0m: 'type'"
     ]
    }
   ],
   "source": [
    "print(HtmlDocument.__dict__['type']) # BAD CODE"
   ]
  },
  {
   "cell_type": "markdown",
   "metadata": {},
   "source": [
    "### **Callable class attributes**\n",
    "* Class attributes can be any object such as a function.\n",
    "\n",
    "* When you add a function to a class, the function becomes a class attribute. Since a function is callable, the class attribute is called a callable class attribute. \n",
    "* For example:"
   ]
  },
  {
   "cell_type": "code",
   "execution_count": 44,
   "metadata": {},
   "outputs": [
    {
     "name": "stdout",
     "output_type": "stream",
     "text": [
      "mappingproxy({'__dict__': <attribute '__dict__' of 'HtmlDocument' objects>,\n",
      "              '__doc__': None,\n",
      "              '__module__': '__main__',\n",
      "              '__weakref__': <attribute '__weakref__' of 'HtmlDocument' objects>,\n",
      "              'extension': 'html',\n",
      "              'render': <function HtmlDocument.render at 0x00000162D937B400>,\n",
      "              'version': '5'})\n"
     ]
    }
   ],
   "source": [
    "from pprint import pprint\n",
    "\n",
    "\n",
    "class HtmlDocument:\n",
    "    extension = 'html'\n",
    "    version = '5'\n",
    "\n",
    "    def render():\n",
    "        print('Rendering the Html doc...')\n",
    "\n",
    "\n",
    "pprint(HtmlDocument.__dict__)"
   ]
  },
  {
   "cell_type": "markdown",
   "metadata": {},
   "source": [
    "* In this example, the render is a class attribute of the HtmlDocument class. Its value is a function."
   ]
  },
  {
   "cell_type": "markdown",
   "metadata": {},
   "source": [
    "### **Python Methods**\n",
    "### **Introduction to the Python methods**\n",
    "* By definition, a method is a function that is bound to an instance of a class. This tutorial helps you understand how it works under the hood.\n",
    "\n",
    "* The following defines a Request class that contains a function send():"
   ]
  },
  {
   "cell_type": "code",
   "execution_count": 45,
   "metadata": {},
   "outputs": [],
   "source": [
    "class Request:\n",
    "    def send():\n",
    "        print('Sent')"
   ]
  },
  {
   "cell_type": "code",
   "execution_count": 46,
   "metadata": {},
   "outputs": [
    {
     "name": "stdout",
     "output_type": "stream",
     "text": [
      "Sent\n"
     ]
    }
   ],
   "source": [
    "#And you can call the send() function via the Request class like this:\n",
    "Request.send() # Sent"
   ]
  },
  {
   "cell_type": "markdown",
   "metadata": {},
   "source": [
    "* The send() is a function object, which is an instance of the function class as shown in the following output:"
   ]
  },
  {
   "cell_type": "code",
   "execution_count": 47,
   "metadata": {},
   "outputs": [
    {
     "name": "stdout",
     "output_type": "stream",
     "text": [
      "<function Request.send at 0x00000162DAF89120>\n"
     ]
    }
   ],
   "source": [
    "print(Request.send)"
   ]
  },
  {
   "cell_type": "code",
   "execution_count": 48,
   "metadata": {},
   "outputs": [
    {
     "name": "stdout",
     "output_type": "stream",
     "text": [
      "<class 'function'>\n"
     ]
    }
   ],
   "source": [
    "#The type of the send is function:\n",
    "print(type(Request.send))"
   ]
  },
  {
   "cell_type": "markdown",
   "metadata": {},
   "source": [
    "* The following creates a new instance of the Request class:"
   ]
  },
  {
   "cell_type": "code",
   "execution_count": 49,
   "metadata": {},
   "outputs": [],
   "source": [
    "http_request = Request()"
   ]
  },
  {
   "cell_type": "markdown",
   "metadata": {},
   "source": [
    "* If you display the http_request.send, it’ll return a bound method object:"
   ]
  },
  {
   "cell_type": "code",
   "execution_count": 50,
   "metadata": {},
   "outputs": [
    {
     "name": "stdout",
     "output_type": "stream",
     "text": [
      "<bound method Request.send of <__main__.Request object at 0x00000162D954F7C0>>\n"
     ]
    }
   ],
   "source": [
    "print(http_request.send)"
   ]
  },
  {
   "cell_type": "markdown",
   "metadata": {},
   "source": [
    "* So the http_request.send is not a function like Request.send. The following checks if the Request.send is the same object as http_request.send. It’ll returns False as expected:"
   ]
  },
  {
   "cell_type": "code",
   "execution_count": 51,
   "metadata": {},
   "outputs": [
    {
     "name": "stdout",
     "output_type": "stream",
     "text": [
      "False\n"
     ]
    }
   ],
   "source": [
    "print(type(Request.send) is type(http_request.send))"
   ]
  },
  {
   "cell_type": "markdown",
   "metadata": {},
   "source": [
    "* The reason is that the type of the Request.send is function while the type of the http_request.send is method, as shown below:"
   ]
  },
  {
   "cell_type": "code",
   "execution_count": 52,
   "metadata": {},
   "outputs": [
    {
     "name": "stdout",
     "output_type": "stream",
     "text": [
      "<class 'method'>\n",
      "<class 'function'>\n"
     ]
    }
   ],
   "source": [
    "print(type(http_request.send))  # <class 'method'>\n",
    "print(type(Request.send))  # <class 'function'>"
   ]
  },
  {
   "cell_type": "markdown",
   "metadata": {},
   "source": [
    "* So when you define a function inside a class, it’s purely a function. However, when you access that function via an object, the function becomes a method.\n",
    "\n",
    "* Therefore, a method is a function that is bound to an instance of a class.\n",
    "\n",
    "* If you call the send() function via the http_request object, you’ll get a TypeError as follows:"
   ]
  },
  {
   "cell_type": "code",
   "execution_count": 64,
   "metadata": {},
   "outputs": [
    {
     "name": "stdout",
     "output_type": "stream",
     "text": [
      "Sent ()\n"
     ]
    }
   ],
   "source": [
    "Request.send()"
   ]
  },
  {
   "cell_type": "markdown",
   "metadata": {},
   "source": [
    "* Because the http_request.send is a method that is bound to the http_request object, Python always implicitly passes the object to the method as the first argument.\n",
    "\n",
    "* The following redefines the Request class where the send function accepts a list of arguments:"
   ]
  },
  {
   "cell_type": "code",
   "execution_count": 54,
   "metadata": {},
   "outputs": [],
   "source": [
    "class Request:\n",
    "    def send(*args):\n",
    "        print('Sent', args)"
   ]
  },
  {
   "cell_type": "code",
   "execution_count": 55,
   "metadata": {},
   "outputs": [
    {
     "name": "stdout",
     "output_type": "stream",
     "text": [
      "Sent ()\n"
     ]
    }
   ],
   "source": [
    "#The following calls the send function from the Request class:\n",
    "Request.send()"
   ]
  },
  {
   "cell_type": "markdown",
   "metadata": {},
   "source": [
    "* The send() function doesn’t receive any arguments.\n",
    "\n",
    "* However, if you call the send() function from an instance of the Request class, the args is not empty:"
   ]
  },
  {
   "cell_type": "code",
   "execution_count": 65,
   "metadata": {},
   "outputs": [
    {
     "name": "stdout",
     "output_type": "stream",
     "text": [
      "Sent ()\n"
     ]
    }
   ],
   "source": [
    "Request.send()"
   ]
  },
  {
   "cell_type": "markdown",
   "metadata": {},
   "source": [
    "* In this case, the send() method receives an object which is the http_request, which is the object that it is bound to.\n",
    "\n",
    "* The following illustrates that the object that calls the send() method is the one that Python implicitly passes into the method as the first argument:"
   ]
  },
  {
   "cell_type": "code",
   "execution_count": 68,
   "metadata": {},
   "outputs": [
    {
     "name": "stdout",
     "output_type": "stream",
     "text": [
      "Sent ()\n",
      "0x7fff243977f8\n"
     ]
    }
   ],
   "source": [
    "print(hex(id(Request.send())))"
   ]
  },
  {
   "cell_type": "markdown",
   "metadata": {},
   "source": [
    "## **Python __init__**\n",
    "### **Introduction to the Python __init__() method**\n",
    "* When you create a new object of a class, Python automatically calls the __init__() method to initialize the object’s attributes.\n",
    "\n",
    "* Unlike regular methods, the __init__() method has two underscores (__) on each side. Therefore, the __init__() is often called dunder init. The name comes abbreviation of the double underscores init.\n",
    "\n",
    "* The double underscores at both sides of the __init__() method indicate that Python will use the method internally. In other words, you should not explicitly call this method.\n",
    "\n",
    "* Since Python will automatically call the __init__() method immediately after creating a new object, you can use the __init__() method to initialize the object’s attributes.\n",
    "\n",
    "* The following defines the Person class with the __init__() method:"
   ]
  },
  {
   "cell_type": "code",
   "execution_count": 69,
   "metadata": {},
   "outputs": [
    {
     "name": "stdout",
     "output_type": "stream",
     "text": [
      "I'm John. I'm 25 years old.\n"
     ]
    }
   ],
   "source": [
    "class Person:\n",
    "    def __init__(self, name, age):\n",
    "        self.name = name\n",
    "        self.age = age\n",
    "\n",
    "\n",
    "if __name__ == '__main__':\n",
    "    person = Person('John', 25)\n",
    "    print(f\"I'm {person.name}. I'm {person.age} years old.\")\n"
   ]
  },
  {
   "cell_type": "markdown",
   "metadata": {},
   "source": [
    "* When you create an instance of the Person class, Python performs two things:\n",
    "\n",
    "* First, create a new instance of the Person class by setting the object’s namespace such as __dict__ attribute to empty ({}).\n",
    "* Second, call the __init__ method to initialize the attributes of the newly created object.\n",
    "* Note that the __init__ method doesn’t create the object but only initializes the object’s attributes. Hence, the __init__() is not a constructor.\n",
    "\n",
    "* If the __init__ has parameters other than the self, you need to pass the corresponding arguments when creating a new object like the example above. Otherwise, you’ll get an error.\n",
    "\n",
    "* The __init__ method with default parameters\n",
    "* The __init__() method’s parameters can have default values. For example:\n"
   ]
  },
  {
   "cell_type": "code",
   "execution_count": 70,
   "metadata": {},
   "outputs": [
    {
     "name": "stdout",
     "output_type": "stream",
     "text": [
      "I'm John. I'm 22 years old.\n"
     ]
    }
   ],
   "source": [
    "class Person:\n",
    "    def __init__(self, name, age=22):\n",
    "        self.name = name\n",
    "        self.age = age\n",
    "\n",
    "\n",
    "if __name__ == '__main__':\n",
    "    person = Person('John')\n",
    "    print(f\"I'm {person.name}. I'm {person.age} years old.\")\n"
   ]
  },
  {
   "cell_type": "markdown",
   "metadata": {},
   "source": [
    "* In this example, the age parameter has a default value of 22. Because we don’t pass an argument to the Person(), the age uses the default value."
   ]
  },
  {
   "cell_type": "markdown",
   "metadata": {},
   "source": [
    "## **Python Instance Variables**\n",
    "### **Introduction to the Python instance variables**\n",
    "* In Python, class variables are bound to a class while instance variables are bound to a specific instance of a class. The instance variables are also called instance attributes.\n",
    "\n",
    "* The following defines a HtmlDocument class with two class variables:"
   ]
  },
  {
   "cell_type": "code",
   "execution_count": 71,
   "metadata": {},
   "outputs": [
    {
     "name": "stdout",
     "output_type": "stream",
     "text": [
      "mappingproxy({'__dict__': <attribute '__dict__' of 'HtmlDocument' objects>,\n",
      "              '__doc__': None,\n",
      "              '__module__': '__main__',\n",
      "              '__weakref__': <attribute '__weakref__' of 'HtmlDocument' objects>,\n",
      "              'extension': 'html',\n",
      "              'version': 5})\n",
      "html\n",
      "5\n"
     ]
    }
   ],
   "source": [
    "from pprint import pprint\n",
    "\n",
    "\n",
    "class HtmlDocument:\n",
    "    version = 5\n",
    "    extension = 'html'\n",
    "\n",
    "\n",
    "pprint(HtmlDocument.__dict__)\n",
    "\n",
    "print(HtmlDocument.extension)\n",
    "print(HtmlDocument.version)"
   ]
  },
  {
   "cell_type": "markdown",
   "metadata": {},
   "source": [
    "* The HtmlDocument class has two class variables: extension and version. Python stores these two variables in the __dict__ attribute.\n",
    "\n",
    "* When you access the class variables via the class, Python looks them up in the __dict__ of the class.\n",
    "\n",
    "* The following creates a new instance of the HtmlDocument class:"
   ]
  },
  {
   "cell_type": "code",
   "execution_count": 72,
   "metadata": {},
   "outputs": [],
   "source": [
    "home = HtmlDocument()"
   ]
  },
  {
   "cell_type": "code",
   "execution_count": 73,
   "metadata": {},
   "outputs": [
    {
     "name": "stdout",
     "output_type": "stream",
     "text": [
      "{}\n"
     ]
    }
   ],
   "source": [
    "#The home is an instance of the HtmlDocument class. It has its own __dict__ attribute:\n",
    "pprint(home.__dict__)"
   ]
  },
  {
   "cell_type": "markdown",
   "metadata": {},
   "source": [
    "* The home.__dict__ is now empty.\n",
    "* The home.__dict__ stores the instance variables of the home object like the HtmlDocument.__dict__ stores the class variables of the HtmlDocument class.\n",
    "\n",
    "* Unlike the __dict__ attribute of a class, the type of the __dict__ attribute of an instance is a dictionary. For example:\n"
   ]
  },
  {
   "cell_type": "code",
   "execution_count": 74,
   "metadata": {},
   "outputs": [
    {
     "name": "stdout",
     "output_type": "stream",
     "text": [
      "<class 'dict'>\n"
     ]
    }
   ],
   "source": [
    "print(type(home.__dict__))"
   ]
  },
  {
   "cell_type": "markdown",
   "metadata": {},
   "source": [
    "* Since a dictionary is mutable, you can mutate it e.g., adding a new element to the dictionary.\n",
    "\n",
    "* Python allows you to access the class variables from an instance of a class. For example:"
   ]
  },
  {
   "cell_type": "code",
   "execution_count": 75,
   "metadata": {},
   "outputs": [
    {
     "name": "stdout",
     "output_type": "stream",
     "text": [
      "html\n",
      "5\n"
     ]
    }
   ],
   "source": [
    "print(home.extension)\n",
    "print(home.version)"
   ]
  },
  {
   "cell_type": "markdown",
   "metadata": {},
   "source": [
    "* In this case, Python looks up the variables extension and version in home.__dict__ first. If it doesn’t find them there, it’ll go up to the class and look up in the HtmlDocument.__dict__.\n",
    "\n",
    "* However, if Python can find the variables in the __dict__ of the instance, it won’t look further in the __dict__ of the class.\n",
    "\n",
    "* The following defines the version variable in the home object:"
   ]
  },
  {
   "cell_type": "code",
   "execution_count": 76,
   "metadata": {},
   "outputs": [],
   "source": [
    "home.version = 6"
   ]
  },
  {
   "cell_type": "code",
   "execution_count": 77,
   "metadata": {},
   "outputs": [
    {
     "data": {
      "text/plain": [
       "__main__.HtmlDocument"
      ]
     },
     "execution_count": 77,
     "metadata": {},
     "output_type": "execute_result"
    }
   ],
   "source": [
    "#Python adds the version variable to the __dict__ attribute of the home object:\n",
    "HtmlDocument"
   ]
  },
  {
   "cell_type": "code",
   "execution_count": 78,
   "metadata": {},
   "outputs": [
    {
     "data": {
      "text/plain": [
       "{'version': 6}"
      ]
     },
     "execution_count": 78,
     "metadata": {},
     "output_type": "execute_result"
    }
   ],
   "source": [
    "#The __dict__ now contains one instance variable:\n",
    "{'version': 6}"
   ]
  },
  {
   "cell_type": "markdown",
   "metadata": {},
   "source": [
    "* If you access the version attribute of the home object, Python will return the value of the version in the home.__dict__ dictionary:"
   ]
  },
  {
   "cell_type": "code",
   "execution_count": 79,
   "metadata": {},
   "outputs": [
    {
     "name": "stdout",
     "output_type": "stream",
     "text": [
      "6\n"
     ]
    }
   ],
   "source": [
    "print(home.version)"
   ]
  },
  {
   "cell_type": "markdown",
   "metadata": {},
   "source": [
    "### **Initializing instance variables**\n",
    "* In practice, you initialize instance variables for all instances of a class in the __init__ method.\n",
    "\n",
    "* For example, the following redefines the HtmlDocument class that has two instance variables name and contents"
   ]
  },
  {
   "cell_type": "code",
   "execution_count": 80,
   "metadata": {},
   "outputs": [],
   "source": [
    "class HtmlDocument:\n",
    "    version = 5\n",
    "    extension = 'html'\n",
    "\n",
    "    def __init__(self, name, contents):\n",
    "        self.name = name\n",
    "        self.contents = contents"
   ]
  },
  {
   "cell_type": "markdown",
   "metadata": {},
   "source": [
    "* When creating a new instance of the HtmlDocument, you need to pass the corresponding arguments like this:"
   ]
  },
  {
   "cell_type": "code",
   "execution_count": 81,
   "metadata": {},
   "outputs": [],
   "source": [
    "blank = HtmlDocument('Blank', '')"
   ]
  },
  {
   "cell_type": "markdown",
   "metadata": {},
   "source": [
    "## **Python Private Attributes i.e. Encapsulation**\n",
    "### **Introduction to encapsulation in Python**\n",
    "* Encapsulation is one of the four fundamental concepts in object-oriented programming including abstraction, encapsulation, inheritance, and polymorphism.\n",
    "\n",
    "* Encapsulation is the packing of data and functions that work on that data within a single object. By doing so, you can hide the internal state of the object from the outside. This is known as information hiding.\n",
    "\n",
    "* A class is an example of encapsulation. A class bundles data and methods into a single unit. And a class provides the access to its attributes via methods.\n",
    "\n",
    "* The idea of information hiding is that if you have an attribute that isn’t visible to the outside, you can control the access to its value to make sure your object is always has a valid state.\n",
    "\n",
    "* Let’s take a look at an example to better understand the encapsulation concept.\n",
    "\n",
    "#### **Python encapsulation example**\n",
    "* The following defines the Counter class:"
   ]
  },
  {
   "cell_type": "code",
   "execution_count": 82,
   "metadata": {},
   "outputs": [],
   "source": [
    "class Counter:\n",
    "    def __init__(self):\n",
    "        self.current = 0\n",
    "\n",
    "    def increment(self):\n",
    "        self.current += 1\n",
    "\n",
    "    def value(self):\n",
    "        return self.current\n",
    "\n",
    "    def reset(self):\n",
    "        self.current = 0\n"
   ]
  },
  {
   "cell_type": "markdown",
   "metadata": {},
   "source": [
    "* The Counter class has one attribute called current which defaults to zero. And it has three methods:\n",
    "\n",
    "    * increment() increases the value of the current attribute by one.\n",
    "    * value() returns the current value of the current attribute\n",
    "    * reset() sets the value of the current attribute to zero.\n",
    "* The following creates a new instance of the Counter class and calls the increment() method three times before showing the current value of the counter to the screen:"
   ]
  },
  {
   "cell_type": "code",
   "execution_count": 83,
   "metadata": {},
   "outputs": [
    {
     "name": "stdout",
     "output_type": "stream",
     "text": [
      "3\n"
     ]
    }
   ],
   "source": [
    "counter = Counter()\n",
    "\n",
    "\n",
    "counter.increment()\n",
    "counter.increment()\n",
    "counter.increment()\n",
    "\n",
    "print(counter.value())\n"
   ]
  },
  {
   "cell_type": "markdown",
   "metadata": {},
   "source": [
    "* It works perfectly fine but has one issue.\n",
    "\n",
    "* From the outside of the Counter class, you still can access the current attribute and change it to whatever you want. For example:"
   ]
  },
  {
   "cell_type": "code",
   "execution_count": 84,
   "metadata": {},
   "outputs": [
    {
     "name": "stdout",
     "output_type": "stream",
     "text": [
      "-999\n"
     ]
    }
   ],
   "source": [
    "counter = Counter()\n",
    "\n",
    "counter.increment()\n",
    "counter.increment()\n",
    "counter.current = -999\n",
    "\n",
    "print(counter.value())\n"
   ]
  },
  {
   "attachments": {
    "image.png": {
     "image/png": "[encoded data removed]"
    }
   },
   "cell_type": "markdown",
   "metadata": {},
   "source": [
    "* In this example, we create an instance of the Counter class, call the increment() method twice and set the value of the current attribute to an invalid value -999.\n",
    "\n",
    "* So how do you prevent the current attribute from modifying outside of the Counter class?\n",
    "\n",
    "* That’s why private attributes come into play.\n",
    "\n",
    "### **Private attributes**\n",
    "* Private attributes can be only accessible from the methods of the class. In other words, they cannot be accessible from outside of the class.\n",
    "\n",
    "* Python doesn’t have a concept of private attributes. In other words, all attributes are accessible from the outside of a class.\n",
    "\n",
    "* By convention, you can define a private attribute by prefixing a single underscore (_):\n",
    "![image.png](attachment:image.png)\n",
    "* This means that the _attribute should not be manipulated and may have a breaking change in the future.\n",
    "\n",
    "* The following redefines the Counter class with the current as a private attribute by convention:"
   ]
  },
  {
   "cell_type": "code",
   "execution_count": 86,
   "metadata": {},
   "outputs": [],
   "source": [
    "class Counter:\n",
    "    def __init__(self):\n",
    "        self._current = 0\n",
    "\n",
    "    def increment(self):\n",
    "        self._current += 1\n",
    "\n",
    "    def value(self):\n",
    "        return self._current\n",
    "\n",
    "    def reset(self):\n",
    "        self._current = 0\n"
   ]
  },
  {
   "attachments": {
    "image-2.png": {
     "image/png": "[encoded data removed]"
    },
    "image-3.png": {
     "image/png": "[encoded data removed]"
    },
    "image-4.png": {
     "image/png": "[encoded data removed]"
    },
    "image.png": {
     "image/png": "[encoded data removed]"
    }
   },
   "cell_type": "markdown",
   "metadata": {},
   "source": [
    "### **Name mangling with double underscores**\n",
    "* If you prefix an attribute name with double underscores (__) like this:\n",
    "![image.png](attachment:image.png)\n",
    "* Python will automatically change the name of the __attribute to:\n",
    "![image-2.png](attachment:image-2.png)\n",
    "* This is called the name mangling in Python.\n",
    "\n",
    "* By doing this, you cannot access the __attribute directly from the outside of a class like:\n",
    "![image-3.png](attachment:image-3.png)\n",
    "* However, you still can access it using the _class__attribute name:\n",
    "![image-4.png](attachment:image-4.png)\n",
    "* The following example redefines the Counter class with the __current attribute:\n",
    "    * Now, if you attempt to access __current attribute, you’ll get an error: "
   ]
  },
  {
   "cell_type": "code",
   "execution_count": 87,
   "metadata": {},
   "outputs": [
    {
     "ename": "AttributeError",
     "evalue": "'Counter' object has no attribute '__current'",
     "output_type": "error",
     "traceback": [
      "\u001b[1;31m---------------------------------------------------------------------------\u001b[0m",
      "\u001b[1;31mAttributeError\u001b[0m                            Traceback (most recent call last)",
      "Input \u001b[1;32mIn [87]\u001b[0m, in \u001b[0;36m<cell line: 16>\u001b[1;34m()\u001b[0m\n\u001b[0;32m     12\u001b[0m         \u001b[38;5;28mself\u001b[39m\u001b[38;5;241m.\u001b[39m__current \u001b[38;5;241m=\u001b[39m \u001b[38;5;241m0\u001b[39m\n\u001b[0;32m     15\u001b[0m counter \u001b[38;5;241m=\u001b[39m Counter()\n\u001b[1;32m---> 16\u001b[0m \u001b[38;5;28mprint\u001b[39m(\u001b[43mcounter\u001b[49m\u001b[38;5;241;43m.\u001b[39;49m\u001b[43m__current\u001b[49m)\n",
      "\u001b[1;31mAttributeError\u001b[0m: 'Counter' object has no attribute '__current'"
     ]
    }
   ],
   "source": [
    "class Counter:\n",
    "    def __init__(self):\n",
    "        self.__current = 0\n",
    "\n",
    "    def increment(self):\n",
    "        self.__current += 1\n",
    "\n",
    "    def value(self):\n",
    "        return self.__current\n",
    "\n",
    "    def reset(self):\n",
    "        self.__current = 0\n",
    "\n",
    "\n",
    "counter = Counter()\n",
    "print(counter.__current)"
   ]
  },
  {
   "cell_type": "code",
   "execution_count": 88,
   "metadata": {},
   "outputs": [
    {
     "name": "stdout",
     "output_type": "stream",
     "text": [
      "0\n"
     ]
    }
   ],
   "source": [
    "#However, you can access the __current attribute as _Counter___current like this:\n",
    "counter = Counter()\n",
    "print(counter._Counter__current)"
   ]
  },
  {
   "cell_type": "markdown",
   "metadata": {},
   "source": [
    "## **Python Class Attributes**\n",
    "### **Introduction to class attributes**\n",
    "* Let’s start with a simple Circle class:\n"
   ]
  },
  {
   "cell_type": "code",
   "execution_count": 89,
   "metadata": {},
   "outputs": [],
   "source": [
    "class Circle:\n",
    "    def __init__(self, radius):\n",
    "        self.pi = 3.14159\n",
    "        self.radius = radius\n",
    "\n",
    "    def area(self):\n",
    "        return self.pi * self.radius**2\n",
    "\n",
    "    def circumference(self):\n",
    "        return 2*self.pi * self.radius\n"
   ]
  },
  {
   "cell_type": "markdown",
   "metadata": {},
   "source": [
    "* The Circle class has two attributes pi and radius. It also has two methods that calculate the area and circumference of a circle.\n",
    "\n",
    "* Both pi and radius are called instance attributes. In other words, they belong to a specific instance of the Circle class. If you change the attributes of an instance, it won’t affect other instances.\n",
    "\n",
    "* Besides instance attributes, Python also supports class attributes. The class attributes don’t associate with any specific instance of the class. But they’re shared by all instances of the class.\n",
    "* If you’ve been programming in Java or C#, you’ll see that class attributes are similar to the static members, but not the same.\n",
    "* To define a class attribute, you place it outside of the __init__() method. For example, the following defines pi as a class attribute:"
   ]
  },
  {
   "cell_type": "code",
   "execution_count": 90,
   "metadata": {},
   "outputs": [],
   "source": [
    "class Circle:\n",
    "    pi = 3.14159\n",
    "\n",
    "    def __init__(self, radius):\n",
    "        self.radius = radius\n",
    "\n",
    "    def area(self):\n",
    "        return self.pi * self.radius**2\n",
    "\n",
    "    def circumference(self):\n",
    "        return 2 * self.pi * self.radius\n"
   ]
  },
  {
   "attachments": {
    "image.png": {
     "image/png": "[encoded data removed]"
    }
   },
   "cell_type": "markdown",
   "metadata": {},
   "source": [
    "* After that, you can access the class attribute via instances of the class or via the class name:\n",
    "![image.png](attachment:image.png)\n",
    "* In the area() and circumference() methods, we access the pi class attribute via the self variable.\n",
    "\n",
    "* Outside the Circle class, you can access the pi class attribute via an instance of the Circle class or directly via the Circle class. For example:"
   ]
  },
  {
   "cell_type": "code",
   "execution_count": 91,
   "metadata": {},
   "outputs": [
    {
     "name": "stdout",
     "output_type": "stream",
     "text": [
      "3.14159\n",
      "3.14159\n"
     ]
    }
   ],
   "source": [
    "c = Circle(10)\n",
    "print(c.pi)\n",
    "print(Circle.pi)"
   ]
  },
  {
   "cell_type": "markdown",
   "metadata": {},
   "source": [
    "### **How Python class attributes work**\n",
    "* When you access an attribute via an instance of the class, Python searches for the attribute in the instance attribute list. If the instance attribute list doesn’t have that attribute, Python continues looking up the attribute in the class attribute list. Python returns the value of the attribute as long as it finds the attribute in the instance attribute list or class attribute list.\n",
    "\n",
    "* However, if you access an attribute, Python directly searches for the attribute in the class attribute list.\n",
    "\n",
    "* The following example defines a Test class to demonstrate how Python handles instance and class attributes."
   ]
  },
  {
   "cell_type": "code",
   "execution_count": 92,
   "metadata": {},
   "outputs": [
    {
     "name": "stdout",
     "output_type": "stream",
     "text": [
      "20\n",
      "10\n"
     ]
    }
   ],
   "source": [
    "class Test:\n",
    "    x = 10\n",
    "\n",
    "    def __init__(self):\n",
    "        self.x = 20\n",
    "\n",
    "\n",
    "test = Test()\n",
    "print(test.x)  # 20\n",
    "print(Test.x)  # 10"
   ]
  },
  {
   "attachments": {
    "image.png": {
     "image/png": "[encoded data removed]"
    }
   },
   "cell_type": "markdown",
   "metadata": {},
   "source": [
    "![image.png](attachment:image.png)\n",
    "### **When to use Python class attributes**\n",
    "* Class attributes are useful in some cases such as storing class constants, tracking data across all instances, and defining default values.\n",
    "\n",
    "#### **1) Storing class constants**\n",
    "* Since a constant doesn’t change from instance to instance of a class, it’s handy to store it as a class attribute.\n",
    "\n",
    "* For example, the Circle class has the pi constant that is the same for all instances of the class. Therefore, it’s a good candidate for the class attributes.\n",
    "\n",
    "#### **2) Tracking data across of all instances**\n",
    "* The following adds the circle_list class attribute to the Circle class. When you create a new instance of the Circle class, the constructor adds the instance to the list:"
   ]
  },
  {
   "cell_type": "code",
   "execution_count": 93,
   "metadata": {},
   "outputs": [
    {
     "name": "stdout",
     "output_type": "stream",
     "text": [
      "2\n"
     ]
    }
   ],
   "source": [
    "class Circle:\n",
    "    circle_list = []\n",
    "    pi = 3.14159\n",
    "\n",
    "    def __init__(self, radius):\n",
    "        self.radius = radius\n",
    "        # add the instance to the circle list\n",
    "        self.circle_list.append(self)\n",
    "\n",
    "    def area(self):\n",
    "        return self.pi * self.radius**2\n",
    "\n",
    "    def circumference(self):\n",
    "        return 2 * self.pi * self.radius\n",
    "\n",
    "\n",
    "c1 = Circle(10)\n",
    "c2 = Circle(20)\n",
    "\n",
    "print(len(Circle.circle_list))  # 2"
   ]
  },
  {
   "cell_type": "markdown",
   "metadata": {},
   "source": [
    "### **3) Defining default values**\n",
    "* Sometimes, you want to set a default value for all instances of a class. In this case, you can use a class attribute.\n",
    "\n",
    "* The following example defines a Product class. All the instances of the Product class will have a default discount specified by the default_discount class attribute:"
   ]
  },
  {
   "cell_type": "code",
   "execution_count": 94,
   "metadata": {},
   "outputs": [
    {
     "name": "stdout",
     "output_type": "stream",
     "text": [
      "100\n",
      "190.0\n"
     ]
    }
   ],
   "source": [
    "class Product:\n",
    "    default_discount = 0\n",
    "\n",
    "    def __init__(self, price):\n",
    "        self.price = price\n",
    "        self.discount = Product.default_discount\n",
    "\n",
    "    def set_discount(self, discount):\n",
    "        self.discount = discount\n",
    "\n",
    "    def net_price(self):\n",
    "        return self.price * (1 - self.discount)\n",
    "\n",
    "\n",
    "p1 = Product(100)\n",
    "print(p1.net_price())\n",
    " # 100\n",
    "\n",
    "p2 = Product(200)\n",
    "p2.set_discount(0.05)\n",
    "print(p2.net_price())\n",
    " # 190"
   ]
  },
  {
   "cell_type": "markdown",
   "metadata": {},
   "source": [
    "### **Python Static Methods**\n",
    "#### **Introduction to Python static methods**\n",
    "* So far, you have learned about instance methods that are bound to a specific instance. It means that instance methods can access and modify the state of the bound object.\n",
    "\n",
    "* Also, you learned about class methods that are bound to a class. The class methods can access and modify the class state.\n",
    "\n",
    "* Unlike instance methods, static methods aren’t bound to an object. In other words, static methods cannot access and modify an object state.\n",
    "\n",
    "* In addition, Python doesn’t implicitly pass the cls parameter (or the self parameter) to static methods. Therefore, static methods cannot access and modify the class’s state.\n",
    "\n",
    "* In practice, you use static methods to define utility methods or group functions that have some logical relationships in a class.\n",
    "\n",
    "* To define a static method, you use the @staticmethod decorator:"
   ]
  },
  {
   "cell_type": "code",
   "execution_count": 95,
   "metadata": {},
   "outputs": [],
   "source": [
    "class className:\n",
    "    @staticmethod\n",
    "    def static_method_name(param_list):\n",
    "        pass"
   ]
  },
  {
   "attachments": {
    "image-2.png": {
     "image/png": "[encoded data removed]"
    },
    "image.png": {
     "image/png": "[encoded data removed]"
    }
   },
   "cell_type": "markdown",
   "metadata": {},
   "source": [
    "* To call a static method, you use this syntax:\n",
    "![image.png](attachment:image.png)\n",
    "### **Python static methods vs class methods**\n",
    "* Since static methods are quite similar to the class methods, you can use the following to find the differences between them:\n",
    "![image-2.png](attachment:image-2.png)\n",
    "* Python static method examples\n",
    "    * The following defines a class called TemperatureConverter that has static methods for converting temperatures between Celsius, Fahrenheit, and Kelvin:"
   ]
  },
  {
   "cell_type": "code",
   "execution_count": 96,
   "metadata": {},
   "outputs": [],
   "source": [
    "class TemperatureConverter:\n",
    "    KEVIN = 'K',\n",
    "    FAHRENHEIT = 'F'\n",
    "    CELSIUS = 'C'\n",
    "\n",
    "    @staticmethod\n",
    "    def celsius_to_fahrenheit(c):\n",
    "        return 9*c/5 + 32\n",
    "\n",
    "    @staticmethod\n",
    "    def fahrenheit_to_celsius(f):\n",
    "        return 5*(f-32)/9\n",
    "\n",
    "    @staticmethod\n",
    "    def celsius_to_kelvin(c):\n",
    "        return c + 273.15\n",
    "\n",
    "    @staticmethod\n",
    "    def kelvin_to_celsius(k):\n",
    "        return k - 273.15\n",
    "\n",
    "    @staticmethod\n",
    "    def fahrenheit_to_kelvin(f):\n",
    "        return 5*(f+459.67)/9\n",
    "\n",
    "    @staticmethod\n",
    "    def kelvin_to_fahrenheit(k):\n",
    "        return 9*k/5 - 459.67\n",
    "\n",
    "    @staticmethod\n",
    "    def format(value, unit):\n",
    "        symbol = ''\n",
    "        if unit == TemperatureConverter.FAHRENHEIT:\n",
    "            symbol = '°F'\n",
    "        elif unit == TemperatureConverter.CELSIUS:\n",
    "            symbol = '°C'\n",
    "        elif unit == TemperatureConverter.KEVIN:\n",
    "            symbol = '°K'\n",
    "\n",
    "        return f'{value}{symbol}'\n"
   ]
  },
  {
   "cell_type": "code",
   "execution_count": 97,
   "metadata": {},
   "outputs": [
    {
     "name": "stdout",
     "output_type": "stream",
     "text": [
      "95.0°F\n"
     ]
    }
   ],
   "source": [
    "#And to call the TemperatureConverter class, you use the following:\n",
    "f = TemperatureConverter.celsius_to_fahrenheit(35)\n",
    "print(TemperatureConverter.format(f, TemperatureConverter.FAHRENHEIT))\n"
   ]
  },
  {
   "cell_type": "markdown",
   "metadata": {},
   "source": [
    "## **Special methods**\n",
    "### **Python __str__**\n",
    "* Let’s start with the Person class:"
   ]
  },
  {
   "cell_type": "code",
   "execution_count": 98,
   "metadata": {},
   "outputs": [],
   "source": [
    "class Person:\n",
    "    def __init__(self, first_name, last_name, age):\n",
    "        self.first_name = first_name\n",
    "        self.last_name = last_name\n",
    "        self.age = age"
   ]
  },
  {
   "cell_type": "markdown",
   "metadata": {},
   "source": [
    "* The Person class has three instance attributes including first_name, last_name, and age.\n",
    "\n",
    "* The following creates a new instance of the Person class and display it:"
   ]
  },
  {
   "cell_type": "code",
   "execution_count": 99,
   "metadata": {},
   "outputs": [
    {
     "name": "stdout",
     "output_type": "stream",
     "text": [
      "<__main__.Person object at 0x00000162D9567040>\n"
     ]
    }
   ],
   "source": [
    "person = Person('John', 'Doe', 25)\n",
    "print(person)"
   ]
  },
  {
   "cell_type": "markdown",
   "metadata": {},
   "source": [
    "* When you use the print() function to display the instance of the Person class, the print() function shows the memory address of that instance.\n",
    "\n",
    "* Sometimes, it’s useful to have a string representation of an instance of a class. To customize the string representation of a class instance, the class needs to implement the __str__ magic method.\n",
    "\n",
    "* Internally, Python will call the __str__ method automatically when an instance calls the str() method.\n",
    "\n",
    "* Note that the print() function converts all non-keyword arguments to strings by passing them to the str() before displaying the string values.\n",
    "\n",
    "* The following illustrates how to implement the __str__ method in the Person class:"
   ]
  },
  {
   "cell_type": "code",
   "execution_count": 100,
   "metadata": {},
   "outputs": [],
   "source": [
    "class Person:\n",
    "    def __init__(self, first_name, last_name, age):\n",
    "        self.first_name = first_name\n",
    "        self.last_name = last_name\n",
    "        self.age = age\n",
    "\n",
    "    def __str__(self):\n",
    "        return f'Person({self.first_name},{self.last_name},{self.age})'"
   ]
  },
  {
   "cell_type": "markdown",
   "metadata": {},
   "source": [
    "* And when you use the print() function to print out an instance of the Person class, Python calls the __str__ method defined in the Person class. For example:"
   ]
  },
  {
   "cell_type": "code",
   "execution_count": 101,
   "metadata": {},
   "outputs": [
    {
     "name": "stdout",
     "output_type": "stream",
     "text": [
      "Person(John,Doe,25)\n"
     ]
    }
   ],
   "source": [
    "person = Person('John', 'Doe', 25)\n",
    "print(person)"
   ]
  },
  {
   "cell_type": "markdown",
   "metadata": {},
   "source": [
    "### **Python __repr__**\n",
    "#### **Introduction to the Python __repr__ magic method**\n",
    "* The __repr__ dunder method defines behavior when you pass an instance of a class to the repr().\n",
    "\n",
    "* The __repr__ method returns the string representation of an object. Typically, the __repr__() returns a string that can be executed and yield the same value as the object.\n",
    "\n",
    "* In other words, if you pass the returned string of the object_name.__repr__() method to the eval() function, you’ll get the same value as the object_name. Let’s take a look at an example.\n",
    "\n",
    "* First, define the Person class with three instance attributes first_name, last_name, and age:"
   ]
  },
  {
   "cell_type": "code",
   "execution_count": 102,
   "metadata": {},
   "outputs": [],
   "source": [
    "class Person:\n",
    "    def __init__(self, first_name, last_name, age):\n",
    "        self.first_name = first_name\n",
    "        self.last_name = last_name\n",
    "        self.age = age"
   ]
  },
  {
   "cell_type": "markdown",
   "metadata": {},
   "source": [
    "* Second, create a new instance of the Person class and display its string representation:"
   ]
  },
  {
   "cell_type": "code",
   "execution_count": 103,
   "metadata": {},
   "outputs": [
    {
     "name": "stdout",
     "output_type": "stream",
     "text": [
      "<__main__.Person object at 0x00000162D9566EF0>\n"
     ]
    }
   ],
   "source": [
    "person = Person('John', 'Doe', 25)\n",
    "print(repr(person))"
   ]
  },
  {
   "cell_type": "markdown",
   "metadata": {},
   "source": [
    "* By default, the output contains the memory address of the person object. To customize the string representation of the object, you can implement the __repr__ method like this:"
   ]
  },
  {
   "cell_type": "code",
   "execution_count": 104,
   "metadata": {},
   "outputs": [],
   "source": [
    "class Person:\n",
    "    def __init__(self, first_name, last_name, age):\n",
    "        self.first_name = first_name\n",
    "        self.last_name = last_name\n",
    "        self.age = age\n",
    "\n",
    "    def __repr__(self):\n",
    "        return f'Person(\"{self.first_name}\",\"{self.last_name}\",{self.age})'"
   ]
  },
  {
   "cell_type": "markdown",
   "metadata": {},
   "source": [
    "* When you pass an instance of the Person class to the repr(), Python will call the __repr__ method automatically. For example:"
   ]
  },
  {
   "cell_type": "code",
   "execution_count": 105,
   "metadata": {},
   "outputs": [
    {
     "name": "stdout",
     "output_type": "stream",
     "text": [
      "Person(\"John\",\"Doe\",25)\n"
     ]
    }
   ],
   "source": [
    "person = Person(\"John\", \"Doe\", 25)\n",
    "print(repr(person))"
   ]
  },
  {
   "cell_type": "markdown",
   "metadata": {},
   "source": [
    "* If you execute the return string Person(\"John\",\"Doe\",25), it’ll return the person object.\n",
    "\n",
    "* When a class doesn’t implement the __str__ method and you pass an instance of that class to the str(), Python returns the result of the __repr__ method because internally the __str__ method calls the __repr__ method:"
   ]
  },
  {
   "cell_type": "code",
   "execution_count": 106,
   "metadata": {},
   "outputs": [
    {
     "name": "stdout",
     "output_type": "stream",
     "text": [
      "Person(\"John\",\"Doe\",25)\n"
     ]
    }
   ],
   "source": [
    "#For example:\n",
    "person = Person('John', 'Doe', 25)\n",
    "print(person)"
   ]
  },
  {
   "cell_type": "markdown",
   "metadata": {},
   "source": [
    "* If a class implements the __str__ method, Python will call the __str__ method when you pass an instance of the class to the str(). For example:"
   ]
  },
  {
   "cell_type": "code",
   "execution_count": 107,
   "metadata": {},
   "outputs": [
    {
     "name": "stdout",
     "output_type": "stream",
     "text": [
      "(John,Doe,25)\n",
      "Person(\"John\",\"Doe\",25)\n"
     ]
    }
   ],
   "source": [
    "class Person:\n",
    "    def __init__(self, first_name, last_name, age):\n",
    "        self.first_name = first_name\n",
    "        self.last_name = last_name\n",
    "        self.age = age\n",
    "\n",
    "    def __repr__(self):\n",
    "        return f'Person(\"{self.first_name}\",\"{self.last_name}\",{self.age})'\n",
    "\n",
    "    def __str__(self):\n",
    "        return f'({self.first_name},{self.last_name},{self.age})'\n",
    "\n",
    "\n",
    "person = Person('John', 'Doe', 25)\n",
    "# use str()\n",
    "print(person)\n",
    "\n",
    "# use repr()\n",
    "print(repr(person))\n"
   ]
  },
  {
   "cell_type": "markdown",
   "metadata": {},
   "source": [
    "#### **__str__ vs __repr__**\n",
    "* The main difference between __str__ and __repr__ method is intended audiences.\n",
    "\n",
    "* The __str__ method returns a string representation of an object that is human-readable while the __repr__ method returns a string representation of an object that is machine-readable.\n",
    "\n",
    "### **Python __eq__**\n",
    "* Suppose that you have the following Person class with three instance attributes: first_name, last_name, and age:"
   ]
  },
  {
   "cell_type": "code",
   "execution_count": 108,
   "metadata": {},
   "outputs": [],
   "source": [
    "class Person:\n",
    "    def __init__(self, first_name, last_name, age):\n",
    "        self.first_name = first_name\n",
    "        self.last_name = last_name\n",
    "        self.age = age"
   ]
  },
  {
   "cell_type": "code",
   "execution_count": 109,
   "metadata": {},
   "outputs": [],
   "source": [
    "#And you create two instances of the Person class:\n",
    "john = Person('John', 'Doe', 25)\n",
    "jane = Person('Jane', 'Doe', 25)"
   ]
  },
  {
   "cell_type": "markdown",
   "metadata": {},
   "source": [
    "* In this example, the john and jane objects are not the same object. And you can check it using the is operator:"
   ]
  },
  {
   "cell_type": "code",
   "execution_count": 110,
   "metadata": {},
   "outputs": [
    {
     "name": "stdout",
     "output_type": "stream",
     "text": [
      "False\n"
     ]
    }
   ],
   "source": [
    "print(john is jane)  # False"
   ]
  },
  {
   "cell_type": "markdown",
   "metadata": {},
   "source": [
    "* Also, when you compare john with jane using the equal operator (==), you’ll get the result of False:"
   ]
  },
  {
   "cell_type": "code",
   "execution_count": 111,
   "metadata": {},
   "outputs": [
    {
     "name": "stdout",
     "output_type": "stream",
     "text": [
      "False\n"
     ]
    }
   ],
   "source": [
    "print(john == jane) # False"
   ]
  },
  {
   "cell_type": "markdown",
   "metadata": {},
   "source": [
    "* Since john and jane have the same age, you want them to be equal. In other words, you want the following expression to return True:"
   ]
  },
  {
   "cell_type": "code",
   "execution_count": 112,
   "metadata": {},
   "outputs": [
    {
     "data": {
      "text/plain": [
       "False"
      ]
     },
     "execution_count": 112,
     "metadata": {},
     "output_type": "execute_result"
    }
   ],
   "source": [
    "john == jane"
   ]
  },
  {
   "cell_type": "markdown",
   "metadata": {},
   "source": [
    "* To do it, you can implement the __eq__ dunder method in the Person class.\n",
    "\n",
    "* Python automatically calls the __eq__ method of a class when you use the == operator to compare the instances of the class. By default, Python uses the is operator if you don’t provide a specific implementation for the __eq__ method.\n",
    "\n",
    "* The following shows how to implement the __eq__ method in the Person class that returns True if two person objects have the same age:"
   ]
  },
  {
   "cell_type": "code",
   "execution_count": 113,
   "metadata": {},
   "outputs": [],
   "source": [
    "class Person:\n",
    "    def __init__(self, first_name, last_name, age):\n",
    "        self.first_name = first_name\n",
    "        self.last_name = last_name\n",
    "        self.age = age\n",
    "\n",
    "    def __eq__(self, other):\n",
    "        return self.age == other.age"
   ]
  },
  {
   "cell_type": "code",
   "execution_count": 114,
   "metadata": {},
   "outputs": [
    {
     "name": "stdout",
     "output_type": "stream",
     "text": [
      "True\n"
     ]
    }
   ],
   "source": [
    "#Now, if you compare two instances of the Person class with the same age, it returns True:\n",
    "john = Person('John', 'Doe', 25)\n",
    "jane = Person('Jane', 'Doe', 25)\n",
    "print(john == jane)  # True"
   ]
  },
  {
   "cell_type": "code",
   "execution_count": 115,
   "metadata": {},
   "outputs": [
    {
     "name": "stdout",
     "output_type": "stream",
     "text": [
      "False\n"
     ]
    }
   ],
   "source": [
    "#And if two instances of the Person class don’t have the same age, the == operator returns False:\n",
    "john = Person('John', 'Doe', 25)\n",
    "mary = Person('Mary', 'Doe', 27)\n",
    "print(john == mary)  # False"
   ]
  },
  {
   "cell_type": "code",
   "execution_count": 116,
   "metadata": {},
   "outputs": [
    {
     "ename": "AttributeError",
     "evalue": "'int' object has no attribute 'age'",
     "output_type": "error",
     "traceback": [
      "\u001b[1;31m---------------------------------------------------------------------------\u001b[0m",
      "\u001b[1;31mAttributeError\u001b[0m                            Traceback (most recent call last)",
      "Input \u001b[1;32mIn [116]\u001b[0m, in \u001b[0;36m<cell line: 3>\u001b[1;34m()\u001b[0m\n\u001b[0;32m      1\u001b[0m \u001b[38;5;66;03m#The following compares a Person object with an integer:\u001b[39;00m\n\u001b[0;32m      2\u001b[0m john \u001b[38;5;241m=\u001b[39m Person(\u001b[38;5;124m'\u001b[39m\u001b[38;5;124mJohn\u001b[39m\u001b[38;5;124m'\u001b[39m, \u001b[38;5;124m'\u001b[39m\u001b[38;5;124mDoe\u001b[39m\u001b[38;5;124m'\u001b[39m, \u001b[38;5;241m25\u001b[39m)\n\u001b[1;32m----> 3\u001b[0m \u001b[38;5;28mprint\u001b[39m(\u001b[43mjohn\u001b[49m\u001b[43m \u001b[49m\u001b[38;5;241;43m==\u001b[39;49m\u001b[43m \u001b[49m\u001b[38;5;241;43m20\u001b[39;49m)\n",
      "Input \u001b[1;32mIn [113]\u001b[0m, in \u001b[0;36mPerson.__eq__\u001b[1;34m(self, other)\u001b[0m\n\u001b[0;32m      7\u001b[0m \u001b[38;5;28;01mdef\u001b[39;00m \u001b[38;5;21m__eq__\u001b[39m(\u001b[38;5;28mself\u001b[39m, other):\n\u001b[1;32m----> 8\u001b[0m     \u001b[38;5;28;01mreturn\u001b[39;00m \u001b[38;5;28mself\u001b[39m\u001b[38;5;241m.\u001b[39mage \u001b[38;5;241m==\u001b[39m \u001b[43mother\u001b[49m\u001b[38;5;241;43m.\u001b[39;49m\u001b[43mage\u001b[49m\n",
      "\u001b[1;31mAttributeError\u001b[0m: 'int' object has no attribute 'age'"
     ]
    }
   ],
   "source": [
    "#The following compares a Person object with an integer:\n",
    "john = Person('John', 'Doe', 25)\n",
    "print(john == 20)"
   ]
  },
  {
   "cell_type": "markdown",
   "metadata": {},
   "source": [
    "* To fix this, you can modify the __eq__ method to check if the object is an instance of the Person class before accessing the age attribute.\n",
    "\n",
    "* If the other object isn’t an instance of the Person class, the __eq__ method returns False, like this:"
   ]
  },
  {
   "cell_type": "code",
   "execution_count": 117,
   "metadata": {},
   "outputs": [],
   "source": [
    "class Person:\n",
    "    def __init__(self, first_name, last_name, age):\n",
    "        self.first_name = first_name\n",
    "        self.last_name = last_name\n",
    "        self.age = age\n",
    "\n",
    "    def __eq__(self, other):\n",
    "        if isinstance(other, Person):\n",
    "            return self.age == other.age\n",
    "\n",
    "        return False"
   ]
  },
  {
   "cell_type": "markdown",
   "metadata": {},
   "source": [
    "* And you can now compare an instance of the Person class with an integer or any object of a different type:"
   ]
  },
  {
   "cell_type": "code",
   "execution_count": 118,
   "metadata": {},
   "outputs": [
    {
     "name": "stdout",
     "output_type": "stream",
     "text": [
      "False\n"
     ]
    }
   ],
   "source": [
    "john = Person('John', 'Doe', 25)\n",
    "print(john == 20)  # False"
   ]
  },
  {
   "cell_type": "code",
   "execution_count": 119,
   "metadata": {},
   "outputs": [
    {
     "name": "stdout",
     "output_type": "stream",
     "text": [
      "True\n",
      "False\n",
      "False\n"
     ]
    }
   ],
   "source": [
    "#Putting it all together.\n",
    "class Person:\n",
    "    def __init__(self, first_name, last_name, age):\n",
    "        self.first_name = first_name\n",
    "        self.last_name = last_name\n",
    "        self.age = age\n",
    "\n",
    "    def __eq__(self, other):\n",
    "        if isinstance(other, Person):\n",
    "            return self.age == other.age\n",
    "\n",
    "        return False\n",
    "\n",
    "\n",
    "john = Person('John', 'Doe', 25)\n",
    "jane = Person('Jane', 'Doe', 25)\n",
    "mary = Person('Mary', 'Doe', 27)\n",
    "\n",
    "print(john == jane)  # True\n",
    "print(john == mary)  # False\n",
    "\n",
    "\n",
    "john = Person('John', 'Doe', 25)\n",
    "print(john == 20)  # False"
   ]
  },
  {
   "cell_type": "markdown",
   "metadata": {},
   "source": [
    "### **Python __hash__**\n",
    "* Let’s start with a simple example. First, define the Person class with the name and age attributes:"
   ]
  },
  {
   "cell_type": "code",
   "execution_count": 120,
   "metadata": {},
   "outputs": [],
   "source": [
    "class Person:\n",
    "    def __init__(self, name, age):\n",
    "        self.name = name\n",
    "        self.age = age"
   ]
  },
  {
   "cell_type": "code",
   "execution_count": 121,
   "metadata": {},
   "outputs": [],
   "source": [
    "#Second, create two instances of the Person class:\n",
    "p1 = Person('John', 22)\n",
    "p2 = Person('Jane', 22)"
   ]
  },
  {
   "cell_type": "code",
   "execution_count": 122,
   "metadata": {},
   "outputs": [
    {
     "name": "stdout",
     "output_type": "stream",
     "text": [
      "95254039444\n",
      "95254038961\n"
     ]
    }
   ],
   "source": [
    "#Third, show the hashes of the p1 and p2 objects:\n",
    "print(hash(p1))\n",
    "print(hash(p2))"
   ]
  },
  {
   "cell_type": "markdown",
   "metadata": {},
   "source": [
    "* The hash() function accepts an object and returns the hash value as an integer. When you pass an object to the hash() function, Python will execute the __hash__ special method of the object.\n",
    "\n",
    "* It means that when you pass the p1 object to the hash() function:"
   ]
  },
  {
   "cell_type": "code",
   "execution_count": 123,
   "metadata": {},
   "outputs": [
    {
     "data": {
      "text/plain": [
       "95254039444"
      ]
     },
     "execution_count": 123,
     "metadata": {},
     "output_type": "execute_result"
    }
   ],
   "source": [
    "hash(p1)"
   ]
  },
  {
   "cell_type": "markdown",
   "metadata": {},
   "source": [
    "* Python will call the __hash__ method of the p1 object:"
   ]
  },
  {
   "cell_type": "code",
   "execution_count": 124,
   "metadata": {},
   "outputs": [
    {
     "data": {
      "text/plain": [
       "95254039444"
      ]
     },
     "execution_count": 124,
     "metadata": {},
     "output_type": "execute_result"
    }
   ],
   "source": [
    "p1.__hash__()"
   ]
  },
  {
   "cell_type": "markdown",
   "metadata": {},
   "source": [
    "* By default, the __hash__ uses the object’s identity and the __eq__ returns True if two objects are the same. To override this default behavior, you can implement the __eq__ and __hash__.\n",
    "\n",
    "* If a class overrides the __eq__ method, the objects of the class become unhashable. This means that you won’t able to use the objects in a mapping type. For example, you will not able to use them as keys in a dictionary or elements in a set.\n",
    "\n",
    "* The following Person class implements the __eq__ method:"
   ]
  },
  {
   "cell_type": "code",
   "execution_count": 125,
   "metadata": {},
   "outputs": [],
   "source": [
    "class Person:\n",
    "    def __init__(self, name, age):\n",
    "        self.name = name\n",
    "        self.age = age\n",
    "\n",
    "    def __eq__(self, other):\n",
    "        return isinstance(other, Person) and self.age == other.age"
   ]
  },
  {
   "cell_type": "code",
   "execution_count": 127,
   "metadata": {},
   "outputs": [
    {
     "ename": "TypeError",
     "evalue": "unhashable type: 'Person'",
     "output_type": "error",
     "traceback": [
      "\u001b[1;31m---------------------------------------------------------------------------\u001b[0m",
      "\u001b[1;31mTypeError\u001b[0m                                 Traceback (most recent call last)",
      "Input \u001b[1;32mIn [127]\u001b[0m, in \u001b[0;36m<cell line: 3>\u001b[1;34m()\u001b[0m\n\u001b[0;32m      1\u001b[0m \u001b[38;5;66;03m#If you attempt to use the Person object in a set, you’ll get an error. For example:\u001b[39;00m\n\u001b[1;32m----> 2\u001b[0m members \u001b[38;5;241m=\u001b[39m {\n\u001b[0;32m      3\u001b[0m     Person(\u001b[38;5;124m'\u001b[39m\u001b[38;5;124mJohn\u001b[39m\u001b[38;5;124m'\u001b[39m, \u001b[38;5;241m22\u001b[39m),\n\u001b[0;32m      4\u001b[0m     Person(\u001b[38;5;124m'\u001b[39m\u001b[38;5;124mJane\u001b[39m\u001b[38;5;124m'\u001b[39m, \u001b[38;5;241m22\u001b[39m)\n\u001b[0;32m      5\u001b[0m }\n",
      "\u001b[1;31mTypeError\u001b[0m: unhashable type: 'Person'"
     ]
    }
   ],
   "source": [
    "#If you attempt to use the Person object in a set, you’ll get an error. For example:\n",
    "members = {\n",
    "    Person('John', 22),\n",
    "    Person('Jane', 22)\n",
    "}\n"
   ]
  },
  {
   "cell_type": "code",
   "execution_count": 128,
   "metadata": {},
   "outputs": [
    {
     "ename": "TypeError",
     "evalue": "unhashable type: 'Person'",
     "output_type": "error",
     "traceback": [
      "\u001b[1;31m---------------------------------------------------------------------------\u001b[0m",
      "\u001b[1;31mTypeError\u001b[0m                                 Traceback (most recent call last)",
      "Input \u001b[1;32mIn [128]\u001b[0m, in \u001b[0;36m<cell line: 2>\u001b[1;34m()\u001b[0m\n\u001b[0;32m      1\u001b[0m \u001b[38;5;66;03m#Also, the Person’s object loses hashing because if you implement __eq__, the __hash__ is set to None. For example:\u001b[39;00m\n\u001b[1;32m----> 2\u001b[0m \u001b[38;5;28;43mhash\u001b[39;49m\u001b[43m(\u001b[49m\u001b[43mPerson\u001b[49m\u001b[43m(\u001b[49m\u001b[38;5;124;43m'\u001b[39;49m\u001b[38;5;124;43mJohn\u001b[39;49m\u001b[38;5;124;43m'\u001b[39;49m\u001b[43m,\u001b[49m\u001b[43m \u001b[49m\u001b[38;5;241;43m22\u001b[39;49m\u001b[43m)\u001b[49m\u001b[43m)\u001b[49m\n",
      "\u001b[1;31mTypeError\u001b[0m: unhashable type: 'Person'"
     ]
    }
   ],
   "source": [
    "#Also, the Person’s object loses hashing because if you implement __eq__, the __hash__ is set to None. For example:\n",
    "hash(Person('John', 22))"
   ]
  },
  {
   "cell_type": "code",
   "execution_count": 129,
   "metadata": {},
   "outputs": [],
   "source": [
    "#To make the Person class hashable, you also need to implement the __hash__ method:\n",
    "class Person:\n",
    "    def __init__(self, name, age):\n",
    "        self.name = name\n",
    "        self.age = age\n",
    "\n",
    "    def __eq__(self, other):\n",
    "        return isinstance(other, Person) and self.age == other.age\n",
    "\n",
    "    def __hash__(self):\n",
    "        return hash(self.age)"
   ]
  },
  {
   "cell_type": "markdown",
   "metadata": {},
   "source": [
    "* Now, you have the Person class that supports equality based on age and is hashable.\n",
    "\n",
    "* To make the Person work well in data structures like dictionaries, the hash of the class should remain immutable. To do it, you can make the age attribute of the Person class a read-only property:"
   ]
  },
  {
   "cell_type": "code",
   "execution_count": 130,
   "metadata": {},
   "outputs": [],
   "source": [
    "class Person:\n",
    "    def __init__(self, name, age):\n",
    "        self.name = name\n",
    "        self._age = age\n",
    "\n",
    "    @property\n",
    "    def age(self):\n",
    "        return self._age\n",
    "\n",
    "    def __eq__(self, other):\n",
    "        return isinstance(other, Person) and self.age == other.age\n",
    "\n",
    "    def __hash__(self):\n",
    "        return hash(self.age)"
   ]
  },
  {
   "cell_type": "markdown",
   "metadata": {},
   "source": [
    "### **Python __bool__**\n",
    "* An object of a custom class is associated with a boolean value. By default, it evaluates to True. For example:"
   ]
  },
  {
   "cell_type": "code",
   "execution_count": 131,
   "metadata": {},
   "outputs": [],
   "source": [
    "class Person:\n",
    "    def __init__(self, name, age):\n",
    "        self.name = name\n",
    "        self.age = age\n",
    "\n",
    "\n",
    "if __name__ == '__main__':\n",
    "    person = Person('John', 25)"
   ]
  },
  {
   "cell_type": "markdown",
   "metadata": {},
   "source": [
    "* In this example, we define the Person class, instantiate an object, and show its boolean value. As expected, the person object is True.\n",
    "\n",
    "* To override this default behavior, you implement the __bool__ special method. The __bool__ method must return a boolean value, True or False.\n",
    "\n",
    "* For example, suppose that you want the person object to evaluate False if the age of a person is under 18 or above 65:"
   ]
  },
  {
   "cell_type": "code",
   "execution_count": 132,
   "metadata": {},
   "outputs": [
    {
     "name": "stdout",
     "output_type": "stream",
     "text": [
      "False\n"
     ]
    }
   ],
   "source": [
    "class Person:\n",
    "    def __init__(self, name, age):\n",
    "        self.name = name\n",
    "        self.age = age\n",
    "\n",
    "    def __bool__(self):\n",
    "        if self.age < 18 or self.age > 65:\n",
    "            return False\n",
    "        return True\n",
    "\n",
    "\n",
    "if __name__ == '__main__':\n",
    "    person = Person('Jane', 16)\n",
    "    print(bool(person))  # False"
   ]
  },
  {
   "cell_type": "markdown",
   "metadata": {},
   "source": [
    "* In this example, the __bool__ method returns False if the age is less than 18 or greater than 65. Otherwise, it returns True. The person object has the age value of 16 therefore it returns False in this case.\n",
    "\n",
    "#### **The __len__ method**\n",
    "* If a custom class doesn’t have the __bool__ method, Python will look for the __len__() method. If the __len__ is zero, the object is False. Otherwise, it’s True.\n",
    "\n",
    "* If a class doesn’t implement the __bool__ and __len__ methods, the objects of the class will evaluate to True.\n",
    "\n",
    "* The following defines a Payroll class that doesn’t implement __bool__ but the __len__ method:"
   ]
  },
  {
   "cell_type": "code",
   "execution_count": 133,
   "metadata": {},
   "outputs": [
    {
     "name": "stdout",
     "output_type": "stream",
     "text": [
      "len was called...\n",
      "False\n",
      "len was called...\n",
      "True\n"
     ]
    }
   ],
   "source": [
    "class Payroll:\n",
    "    def __init__(self, length):\n",
    "        self.length = length\n",
    "\n",
    "    def __len__(self):\n",
    "        print('len was called...')\n",
    "        return self.length\n",
    "\n",
    "\n",
    "if __name__ == '__main__':\n",
    "    payroll = Payroll(0)\n",
    "    print(bool(payroll))  # False\n",
    "\n",
    "    payroll.length = 10\n",
    "    print(bool(payroll))  # True"
   ]
  },
  {
   "cell_type": "markdown",
   "metadata": {},
   "source": [
    "* Since the Payroll class doesn’t override the __bool__ method, Python looks for the __len__ method when evaluating the Payroll’s objects to a boolean value.\n",
    "\n",
    "* In the following example payroll’s __len__ returns 0, which is False:"
   ]
  },
  {
   "cell_type": "code",
   "execution_count": 134,
   "metadata": {},
   "outputs": [
    {
     "name": "stdout",
     "output_type": "stream",
     "text": [
      "len was called...\n",
      "False\n"
     ]
    }
   ],
   "source": [
    "payroll = Payroll(0)\n",
    "print(bool(payroll))  # False"
   ]
  },
  {
   "cell_type": "code",
   "execution_count": 135,
   "metadata": {},
   "outputs": [
    {
     "name": "stdout",
     "output_type": "stream",
     "text": [
      "len was called...\n",
      "True\n"
     ]
    }
   ],
   "source": [
    "#However, the following example __len__ returns 10 which is True:\n",
    "payroll.length = 10\n",
    "print(bool(payroll))  # True"
   ]
  },
  {
   "cell_type": "markdown",
   "metadata": {},
   "source": [
    "### **Python __del__**\n",
    "* In Python, the garbage collector manages memory automatically. The garbage collector will destroy the objects that are not referenced.\n",
    "\n",
    "* If an object implements the __del__ method, Python calls the __del__ method right before the garbage collector destroys the object.\n",
    "\n",
    "* However, the garbage collector determines when to destroy the object. Therefore, it determines when the __del__ method will be called.\n",
    "\n",
    "* The __del__ is sometimes referred to as a class finalizer. Note that __del__ is not the destructor because the garbage collector destroys the object, not the __del__ method.\n",
    "\n",
    "#### **The Python __del__ pitfalls**\n",
    "* Python calls the __del__ method when all object references are gone. And you cannot control it in most cases.\n",
    "\n",
    "* Therefore, you should not use the __del__ method to clean up the resources. It’s recommended to use the context manager.\n",
    "\n",
    "* If the __del__ contains references to objects, the garbage collector will also destroy these objects when the __del__ is called.\n",
    "\n",
    "* If the __del__ references the global objects, it may create unexpected behaviors.\n",
    "\n",
    "* If an exception occurs inside the __del__ method, Python does not raise the exception but keeps it silent.\n",
    "\n",
    "* Also, Python sends the exception message to the stderr. Therefore, the main program will be able to be aware of the exceptions during the finalization.\n",
    "\n",
    "* In practice, you’ll rarely use the __del__ method.\n",
    "\n",
    "* Python __del__ example\n",
    "    * The following defines a Person class with the special __del__ method, create a new instance of the Person, and set it to None:"
   ]
  },
  {
   "cell_type": "code",
   "execution_count": 136,
   "metadata": {},
   "outputs": [
    {
     "name": "stdout",
     "output_type": "stream",
     "text": [
      "__del__ was called\n"
     ]
    }
   ],
   "source": [
    "class Person:\n",
    "    def __init__(self, name, age):\n",
    "        self.name = name\n",
    "        self.age = age\n",
    "\n",
    "    def __del__(self):\n",
    "        print('__del__ was called')\n",
    "\n",
    "\n",
    "if __name__ == '__main__':\n",
    "    person = Person('John Doe', 23)\n",
    "    person = None"
   ]
  },
  {
   "cell_type": "markdown",
   "metadata": {},
   "source": [
    "* When we set the person object to None, the garbage collector destroys it because there is no reference. Therefore, the __del__ method was called.\n",
    "\n",
    "* If you use the del keyword to delete the person object, the __del__ method is also called:"
   ]
  },
  {
   "cell_type": "code",
   "execution_count": 137,
   "metadata": {},
   "outputs": [
    {
     "name": "stdout",
     "output_type": "stream",
     "text": [
      "__del__ was called\n"
     ]
    }
   ],
   "source": [
    "person = Person('John Doe', 23)\n",
    "del person"
   ]
  },
  {
   "cell_type": "markdown",
   "metadata": {},
   "source": [
    "* However, the del statement doesn’t cause a call to the __del__ method if the object has a reference."
   ]
  },
  {
   "cell_type": "code",
   "execution_count": null,
   "metadata": {},
   "outputs": [],
   "source": []
  }
 ],
 "metadata": {
  "kernelspec": {
   "display_name": "Python 3 (ipykernel)",
   "language": "python",
   "name": "python3"
  },
  "language_info": {
   "codemirror_mode": {
    "name": "ipython",
    "version": 3
   },
   "file_extension": ".py",
   "mimetype": "text/x-python",
   "name": "python",
   "nbconvert_exporter": "python",
   "pygments_lexer": "ipython3",
   "version": "3.10.4"
  }
 },
 "nbformat": 4,
 "nbformat_minor": 2
}
