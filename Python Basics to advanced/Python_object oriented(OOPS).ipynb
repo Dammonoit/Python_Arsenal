{
 "cells": [
  {
   "cell_type": "markdown",
   "metadata": {},
   "source": [
    "# **Python Object Oriented.**\n",
    "Python is a **multi-paradigm programming language**. Meaning, it supports different programming approach.\n",
    "Python is an **object oriented programming language**. So, its main focus is on **objects** unlike **procedure oriented** programming languages which mainly focuses on **functions.**\n",
    " \n",
    "In object oriented programming language, object is simply a collection of **data (variables)** and **methods (functions)** that act on those data.\n",
    " \n",
    "A class is a blueprint for the object. Let's understand it by an example:\n",
    "Suppose a class is a prototype of a building. A building contains all the details about the floor, doors, windows, etc. we can make another buildings (as many as we want) based on these details. So building is a class and we can create many objects from a class.\n",
    " \n",
    "An object is also called an **instance** of a class and the process of creating this object is known as **instantiation.**\n",
    " \n",
    "Python classes contain all the **standard features** of Object Oriented Programming. \n"
   ]
  },
  {
   "cell_type": "markdown",
   "metadata": {},
   "source": [
    "## **Object-oriented vs Procedure-oriented Programming languages.**\n",
    "\n",
    "\n",
    "![Imgur](https://i.imgur.com/gRu27p5.png)"
   ]
  },
  {
   "cell_type": "markdown",
   "metadata": {},
   "source": [
    "## **Why is Python not fully object-oriented?**\n"
   ]
  },
  {
   "cell_type": "code",
   "execution_count": 2,
   "metadata": {},
   "outputs": [
    {
     "data": {
      "text/plain": [
       "int"
      ]
     },
     "execution_count": 2,
     "metadata": {},
     "output_type": "execute_result"
    }
   ],
   "source": [
    "x=44\n",
    "type(x)"
   ]
  },
  {
   "cell_type": "markdown",
   "metadata": {},
   "source": [
    "* There are also some special attributes that begins with double underscore (__). For example: __doc__ attribute. It is used to fetch the docstring of that class. When we define a class, a new class object is created with the same class name."
   ]
  },
  {
   "cell_type": "code",
   "execution_count": 7,
   "metadata": {},
   "outputs": [
    {
     "name": "stdout",
     "output_type": "stream",
     "text": [
      "50\n",
      "Python is a good language.\n",
      "None\n",
      "<bound method New.func of <__main__.New object at 0x7f0ad8609e48>>\n",
      "This is our sample class.\n"
     ]
    }
   ],
   "source": [
    "class New:\n",
    "    'This is our sample class.'\n",
    "    a=50\n",
    "    def func(self):\n",
    "        print('Python is a good language.')\n",
    "o1=New()\n",
    "print(o1.a)\n",
    "print(o1.func())\n",
    "print(o1.func)\n",
    "print(o1.__doc__)"
   ]
  },
  {
   "cell_type": "code",
   "execution_count": 16,
   "metadata": {},
   "outputs": [
    {
     "name": "stdout",
     "output_type": "stream",
     "text": [
      "12 Don\n",
      "None\n",
      "13 Fon\n",
      "None\n"
     ]
    }
   ],
   "source": [
    "class Student(object):    #writing object near student is optional.\n",
    "    #now we'll define the class constructor for python.\n",
    "    def __init__(self,rollno,name):\n",
    "        self.rollno=rollno\n",
    "        self.name=name\n",
    "    def Print_func(self):\n",
    "        print(self.rollno,self.name)\n",
    "o1=Student(12,'Don')\n",
    "o2=Student(13,'Fon')\n",
    "print(o1.Print_func())\n",
    "print(o2.Print_func())"
   ]
  },
  {
   "cell_type": "markdown",
   "metadata": {},
   "source": [
    "* A constructor is a special type of method (function) which is used to initialize the instance members of the class. Constructor can be parameterized and non-parameterized as well. "
   ]
  },
  {
   "cell_type": "code",
   "execution_count": 19,
   "metadata": {},
   "outputs": [
    {
     "name": "stdout",
     "output_type": "stream",
     "text": [
      "The Output is  1 2\n",
      "None\n"
     ]
    }
   ],
   "source": [
    "class Number:\n",
    "    def __init__(self,r=0,l=0):  #we can default values of parameters in the constructor.\n",
    "        self.no1=r\n",
    "        self.no2=l\n",
    "    def Print_data(self):\n",
    "        return print('The Output is ',self.no1,self.no2)\n",
    "o1=Number(1,2)\n",
    "print(o1.Print_data())"
   ]
  },
  {
   "cell_type": "markdown",
   "metadata": {
    "collapsed": true
   },
   "source": [
    "## **Four pillars of OOPS.**\n",
    "1. ### Abstraction\n",
    "2. ### Encapsulation\n",
    "3. ### Inheritance\n",
    "4. ### Polymorphism"
   ]
  },
  {
   "cell_type": "markdown",
   "metadata": {},
   "source": [
    "## **Inheritance.**\n",
    "* Classes can inherit functionality of other classes. If an object is created using a class that inherits from a superclass, the object will contain the methods of both the class and the superclass. The same holds true for variables of both the superclass and the class that inherits from the super class.\n",
    "\n",
    "* Python supports inheritance from multiple classes, unlike other popular programming languages.\n",
    "* There are different types of inheritance. they're\n",
    "    * Multiple Inheritance\n",
    "    * Multilevel Inheritance\n",
    "    \n",
    "    ![Imgur](https://i.imgur.com/3Rd86Sp.png)"
   ]
  },
  {
   "cell_type": "code",
   "execution_count": 5,
   "metadata": {},
   "outputs": [
    {
     "name": "stdout",
     "output_type": "stream",
     "text": [
      "Name:  Ravi\n",
      "None\n",
      "Name:  Diu\n",
      "None\n",
      "this is a print from child class.\n",
      "None\n"
     ]
    }
   ],
   "source": [
    "# let's write a simple code explaining inheritance.\n",
    "class User:   #this is a parent class.\n",
    "    def __init__(self,name):\n",
    "        self.name=name\n",
    "        \n",
    "    def printname(self):\n",
    "        print(\"Name: \",self.name)\n",
    "\n",
    "o1=User(\"Ravi\")\n",
    "print(o1.printname())\n",
    "\n",
    "#now let's create a child class.\n",
    "class Client(User):\n",
    "    def __init__(self,name):\n",
    "        self.name=name\n",
    "    \n",
    "    def printname1(self):\n",
    "        print(\"this is a print from child class.\")\n",
    "        \n",
    "o2=Client(\"Diu\")\n",
    "print(o2.printname())  #hence diu can access print function from User class.\n",
    "print(o2.printname1())"
   ]
  },
  {
   "cell_type": "code",
   "execution_count": 2,
   "metadata": {},
   "outputs": [
    {
     "ename": "TypeError",
     "evalue": "__init__() takes 3 positional arguments but 4 were given",
     "output_type": "error",
     "traceback": [
      "\u001b[0;31m---------------------------------------------------------------------------\u001b[0m",
      "\u001b[0;31mTypeError\u001b[0m                                 Traceback (most recent call last)",
      "\u001b[0;32m<ipython-input-2-f42481b89545>\u001b[0m in \u001b[0;36m<module>\u001b[0;34m()\u001b[0m\n\u001b[1;32m     25\u001b[0m \u001b[0;34m\u001b[0m\u001b[0m\n\u001b[1;32m     26\u001b[0m \u001b[0;31m#let's create an object of subclass.\u001b[0m\u001b[0;34m\u001b[0m\u001b[0;34m\u001b[0m\u001b[0m\n\u001b[0;32m---> 27\u001b[0;31m \u001b[0mR1\u001b[0m\u001b[0;34m=\u001b[0m\u001b[0mResident\u001b[0m\u001b[0;34m(\u001b[0m\u001b[0;34m'Ravi'\u001b[0m\u001b[0;34m,\u001b[0m\u001b[0;36m18\u001b[0m\u001b[0;34m,\u001b[0m\u001b[0;36m111\u001b[0m\u001b[0;34m)\u001b[0m\u001b[0;34m\u001b[0m\u001b[0m\n\u001b[0m\u001b[1;32m     28\u001b[0m \u001b[0mprint\u001b[0m\u001b[0;34m(\u001b[0m\u001b[0mR1\u001b[0m\u001b[0;34m)\u001b[0m\u001b[0;34m\u001b[0m\u001b[0m\n\u001b[1;32m     29\u001b[0m \u001b[0mprint\u001b[0m\u001b[0;34m(\u001b[0m\u001b[0mR1\u001b[0m\u001b[0;34m.\u001b[0m\u001b[0mGetId\u001b[0m\u001b[0;34m)\u001b[0m\u001b[0;34m\u001b[0m\u001b[0m\n",
      "\u001b[0;31mTypeError\u001b[0m: __init__() takes 3 positional arguments but 4 were given"
     ]
    }
   ],
   "source": [
    "#let's write the code for multiple inheritance.\n",
    "class Person: #this is the first class\n",
    "    def __init__(self,personname,personage):\n",
    "        self.name=personname\n",
    "        self.age=personage\n",
    "    \n",
    "    def ShowName(self):\n",
    "        print(self.name)\n",
    "        \n",
    "    def ShowAge(self):\n",
    "        print(self.age)\n",
    "        \n",
    "class Student: #this is second class independant from 1st.\n",
    "    \n",
    "    def __init__(self,studentID):\n",
    "        self.id=studentID\n",
    "        \n",
    "    def GetId(self):\n",
    "        return self.id\n",
    "    \n",
    "class Resident(Person,Student): #this class extends to both above classes i.e it has multiple parent class\n",
    "    def __init__(residentname,residentage,residentid):\n",
    "        Person.__init__(residentname,residentage)\n",
    "        Student.__init__(residentid)\n",
    "        \n",
    "#let's create an object of subclass.\n",
    "R1=Resident('Ravi',18,111)\n",
    "print(R1)\n",
    "print(R1.GetId)\n",
    "print(R1.ShowName)\n",
    "print(R1.ShowAge)"
   ]
  },
  {
   "cell_type": "code",
   "execution_count": null,
   "metadata": {
    "collapsed": true
   },
   "outputs": [],
   "source": []
  }
 ],
 "metadata": {
  "kernelspec": {
   "display_name": "Python 3",
   "language": "python",
   "name": "python3"
  },
  "language_info": {
   "codemirror_mode": {
    "name": "ipython",
    "version": 3
   },
   "file_extension": ".py",
   "mimetype": "text/x-python",
   "name": "python",
   "nbconvert_exporter": "python",
   "pygments_lexer": "ipython3",
   "version": "3.6.1"
  }
 },
 "nbformat": 4,
 "nbformat_minor": 2
}
