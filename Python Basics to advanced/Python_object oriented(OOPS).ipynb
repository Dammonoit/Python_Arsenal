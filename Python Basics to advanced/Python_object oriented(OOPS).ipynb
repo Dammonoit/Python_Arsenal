{
 "cells": [
  {
   "cell_type": "markdown",
   "metadata": {},
   "source": [
    "# **Python Object Oriented.**\n",
    "Python is a **multi-paradigm programming language**. Meaning, it supports different programming approach.\n",
    "Python is an **object oriented programming language**. So, its main focus is on **objects** unlike **procedure oriented** programming languages which mainly focuses on **functions.**\n",
    " \n",
    "In object oriented programming language, object is simply a collection of **data (variables)** and **methods (functions)** that act on those data.\n",
    " \n",
    "A class is a blueprint for the object. Let's understand it by an example:\n",
    "Suppose a class is a prototype of a building. A building contains all the details about the floor, doors, windows, etc. we can make another buildings (as many as we want) based on these details. So building is a class and we can create many objects from a class.\n",
    " \n",
    "An object is also called an **instance** of a class and the process of creating this object is known as **instantiation.**\n",
    " \n",
    "Python classes contain all the **standard features** of Object Oriented Programming. \n"
   ]
  },
  {
   "cell_type": "markdown",
   "metadata": {},
   "source": [
    "## **Object-oriented vs Procedure-oriented Programming languages.**\n",
    "\n",
    "\n",
    "![Imgur](https://i.imgur.com/gRu27p5.png)"
   ]
  },
  {
   "cell_type": "markdown",
   "metadata": {},
   "source": [
    "## **Why is Python not fully object-oriented?**\n"
   ]
  },
  {
   "cell_type": "code",
   "execution_count": 2,
   "metadata": {},
   "outputs": [
    {
     "data": {
      "text/plain": [
       "int"
      ]
     },
     "execution_count": 2,
     "metadata": {},
     "output_type": "execute_result"
    }
   ],
   "source": [
    "x=44\n",
    "type(x)"
   ]
  },
  {
   "cell_type": "markdown",
   "metadata": {},
   "source": [
    "* There are also some special attributes that begins with double underscore (__). For example: __doc__ attribute. It is used to fetch the docstring of that class. When we define a class, a new class object is created with the same class name."
   ]
  },
  {
   "cell_type": "code",
   "execution_count": 7,
   "metadata": {},
   "outputs": [
    {
     "name": "stdout",
     "output_type": "stream",
     "text": [
      "50\n",
      "Python is a good language.\n",
      "None\n",
      "<bound method New.func of <__main__.New object at 0x7f0ad8609e48>>\n",
      "This is our sample class.\n"
     ]
    }
   ],
   "source": [
    "class New:\n",
    "    'This is our sample class.'\n",
    "    a=50\n",
    "    def func(self):\n",
    "        print('Python is a good language.')\n",
    "o1=New()\n",
    "print(o1.a)\n",
    "print(o1.func())\n",
    "print(o1.func)\n",
    "print(o1.__doc__)"
   ]
  },
  {
   "cell_type": "code",
   "execution_count": 16,
   "metadata": {},
   "outputs": [
    {
     "name": "stdout",
     "output_type": "stream",
     "text": [
      "12 Don\n",
      "None\n",
      "13 Fon\n",
      "None\n"
     ]
    }
   ],
   "source": [
    "class Student(object):    #writing object near student is optional.\n",
    "    #now we'll define the class constructor for python.\n",
    "    def __init__(self,rollno,name):\n",
    "        self.rollno=rollno\n",
    "        self.name=name\n",
    "    def Print_func(self):\n",
    "        print(self.rollno,self.name)\n",
    "o1=Student(12,'Don')\n",
    "o2=Student(13,'Fon')\n",
    "print(o1.Print_func())\n",
    "print(o2.Print_func())"
   ]
  },
  {
   "cell_type": "markdown",
   "metadata": {},
   "source": [
    "* A constructor is a special type of method (function) which is used to initialize the instance members of the class. Constructor can be parameterized and non-parameterized as well. "
   ]
  },
  {
   "cell_type": "code",
   "execution_count": 19,
   "metadata": {},
   "outputs": [
    {
     "name": "stdout",
     "output_type": "stream",
     "text": [
      "The Output is  1 2\n",
      "None\n"
     ]
    }
   ],
   "source": [
    "class Number:\n",
    "    def __init__(self,r=0,l=0):  #we can default values of parameters in the constructor.\n",
    "        self.no1=r\n",
    "        self.no2=l\n",
    "    def Print_data(self):\n",
    "        return print('The Output is ',self.no1,self.no2)\n",
    "o1=Number(1,2)\n",
    "print(o1.Print_data())"
   ]
  },
  {
   "cell_type": "markdown",
   "metadata": {
    "collapsed": true
   },
   "source": [
    "## **Four pillars of OOPS.**\n",
    "1. ### Abstraction\n",
    "2. ### Encapsulation\n",
    "3. ### Inheritance\n",
    "4. ### Polymorphism"
   ]
  },
  {
   "cell_type": "markdown",
   "metadata": {
    "collapsed": true
   },
   "source": [
    "## **Define a class**\n",
    "### **Objects**\n",
    "* An object is a container that contains data and functionality.\n",
    "\n",
    "* The data represents the object at a particular moment in time. Therefore, the data of an object is called the state. Python uses attributes to model the state of an object.\n",
    "\n",
    "* The functionality represents the behaviors of an object. Python uses functions to model the behaviors. When a function is associated with an object, it becomes a method of the object.\n",
    "\n",
    "* In other words, an object is a container that contains the state and methods.\n",
    "\n",
    "* Before creating objects, you define a class first. And from the class, you can create one or more objects. The objects of a class are also called instances of a class.\n",
    "\n",
    "* To define a class, you use the class keyword followed by the class name. For example, the following defines a Person class:\n"
   ]
  },
  {
   "cell_type": "code",
   "execution_count": 20,
   "metadata": {},
   "outputs": [
    {
     "data": {
      "text/plain": [
       "__main__.Person"
      ]
     },
     "execution_count": 20,
     "metadata": {},
     "output_type": "execute_result"
    }
   ],
   "source": [
    "class Person:\n",
    "    pass\n",
    "\n",
    "type(person)"
   ]
  },
  {
   "cell_type": "markdown",
   "metadata": {},
   "source": [
    "* By convention, you use capitalized names for classes in Python. If the class name contains multiple words, you use the CamelCase format, for example SalesEmployee.\n",
    "\n",
    "* Since the Person class is incomplete; you need to use the pass statement to indicate that you’ll add more code to it later.\n",
    "* To create an object from the Person class, you use the class name followed by parentheses (), like calling a function:\n"
   ]
  },
  {
   "cell_type": "code",
   "execution_count": 21,
   "metadata": {},
   "outputs": [
    {
     "name": "stdout",
     "output_type": "stream",
     "text": [
      "1524063376416\n"
     ]
    }
   ],
   "source": [
    "#In this example, the person is an instance of the Person class. Classes are callable.\n",
    "person = Person()\n",
    "print(id(person))"
   ]
  },
  {
   "cell_type": "markdown",
   "metadata": {},
   "source": [
    "* The id of an object is unique. In CPython, the id() returns the memory address of an object. The hex() function converts the integer returned by the id() function to a lowercase hexadecimal string prefixed with 0x:"
   ]
  },
  {
   "cell_type": "code",
   "execution_count": 22,
   "metadata": {},
   "outputs": [
    {
     "name": "stdout",
     "output_type": "stream",
     "text": [
      "0x162d9419420\n"
     ]
    }
   ],
   "source": [
    "print(hex(id(person)))"
   ]
  },
  {
   "cell_type": "markdown",
   "metadata": {},
   "source": [
    "* A class is also an object in Python\n",
    "* Everything in Python is an object, including classes.\n",
    "\n",
    "* When you define the Person class, Python creates an object with the name Person. The Person object has attributes. For example, you can find its name using the __name__ attribute:"
   ]
  },
  {
   "cell_type": "code",
   "execution_count": 23,
   "metadata": {},
   "outputs": [
    {
     "name": "stdout",
     "output_type": "stream",
     "text": [
      "Person\n"
     ]
    }
   ],
   "source": [
    "print(Person.__name__)"
   ]
  },
  {
   "cell_type": "code",
   "execution_count": 24,
   "metadata": {},
   "outputs": [
    {
     "name": "stdout",
     "output_type": "stream",
     "text": [
      "<class 'type'>\n"
     ]
    }
   ],
   "source": [
    "#The Person object has the type of type:\n",
    "print(type(Person))"
   ]
  },
  {
   "cell_type": "code",
   "execution_count": 25,
   "metadata": {},
   "outputs": [],
   "source": [
    "#The Person class also has a behavior. For example, it can create a new instance:\n",
    "person = Person()"
   ]
  },
  {
   "cell_type": "markdown",
   "metadata": {},
   "source": [
    "## **Define instance attributes**\n",
    "* Python is dynamic. It means that you can add an attribute to an instance of a class dynamically at runtime.\n",
    "\n",
    "* For example, the following adds the name attribute to the person object:\n"
   ]
  },
  {
   "cell_type": "code",
   "execution_count": 4,
   "metadata": {},
   "outputs": [],
   "source": [
    "person.name = 'John'"
   ]
  },
  {
   "cell_type": "markdown",
   "metadata": {},
   "source": [
    "* However, if you create another Person object, the new object won’t have the name attribute.\n",
    "\n",
    "* To define and initialize an attribute for all instances of a class, you use the __init__ method. The following defines the Person class with two instance attributes name and age:"
   ]
  },
  {
   "cell_type": "code",
   "execution_count": 5,
   "metadata": {},
   "outputs": [],
   "source": [
    "class Person:\n",
    "    def __init__(self, name, age):\n",
    "        self.name = name\n",
    "        self.age = age"
   ]
  },
  {
   "cell_type": "markdown",
   "metadata": {},
   "source": [
    "* When you create a Person object, Python automatically calls the __init__ method to initialize the instance attributes. \n",
    "* In the __init__ method, the self is the instance of the Person class.\n",
    "\n",
    "* The following creates a Person object named person:"
   ]
  },
  {
   "cell_type": "code",
   "execution_count": 6,
   "metadata": {},
   "outputs": [],
   "source": [
    "person = Person('John', 25)"
   ]
  },
  {
   "cell_type": "markdown",
   "metadata": {},
   "source": [
    "* The person object now has the name and age attributes. To access an instance attribute, you use the dot notation. \n",
    "* For example, the following returns the value of the name attribute of the person object:"
   ]
  },
  {
   "cell_type": "code",
   "execution_count": 7,
   "metadata": {},
   "outputs": [
    {
     "data": {
      "text/plain": [
       "'John'"
      ]
     },
     "execution_count": 7,
     "metadata": {},
     "output_type": "execute_result"
    }
   ],
   "source": [
    "person.name"
   ]
  },
  {
   "cell_type": "markdown",
   "metadata": {},
   "source": [
    "## **Define instance methods**\n",
    "* The following adds an instance method called **greet()** to the Person class:\n"
   ]
  },
  {
   "cell_type": "code",
   "execution_count": 8,
   "metadata": {},
   "outputs": [],
   "source": [
    "class Person:\n",
    "    def __init__(self, name, age):\n",
    "        self.name = name\n",
    "        self.age = age\n",
    "\n",
    "    def greet(self):\n",
    "        return f\"Hi, it's {self.name}.\""
   ]
  },
  {
   "cell_type": "markdown",
   "metadata": {},
   "source": [
    "* To call an instance method, you also use the dot notation. For example:"
   ]
  },
  {
   "cell_type": "code",
   "execution_count": 9,
   "metadata": {},
   "outputs": [
    {
     "name": "stdout",
     "output_type": "stream",
     "text": [
      "Hi, it's John.\n"
     ]
    }
   ],
   "source": [
    "person = Person('John', 25)\n",
    "print(person.greet())"
   ]
  },
  {
   "cell_type": "markdown",
   "metadata": {},
   "source": [
    "## **Define class attributes**\n",
    "* Unlike instance attributes, class attributes are shared by all instances of the class. They are helpful if you want to define class constants or variables that keep track of the number of instances of a class.\n",
    "\n",
    "* For example, the following defines the counter class attribute in the Person class:\n"
   ]
  },
  {
   "cell_type": "code",
   "execution_count": 10,
   "metadata": {},
   "outputs": [],
   "source": [
    "class Person:\n",
    "    counter = 0\n",
    "\n",
    "    def __init__(self, name, age):\n",
    "        self.name = name\n",
    "        self.age = age\n",
    "\n",
    "    def greet(self):\n",
    "        return f\"Hi, it's {self.name}.\""
   ]
  },
  {
   "cell_type": "markdown",
   "metadata": {},
   "source": [
    "* You can access the counter attribute from the Person class:"
   ]
  },
  {
   "cell_type": "code",
   "execution_count": 11,
   "metadata": {},
   "outputs": [
    {
     "data": {
      "text/plain": [
       "0"
      ]
     },
     "execution_count": 11,
     "metadata": {},
     "output_type": "execute_result"
    }
   ],
   "source": [
    "Person.counter"
   ]
  },
  {
   "cell_type": "markdown",
   "metadata": {},
   "source": [
    "* Or from any instances of the Person class:"
   ]
  },
  {
   "cell_type": "code",
   "execution_count": 12,
   "metadata": {},
   "outputs": [
    {
     "data": {
      "text/plain": [
       "0"
      ]
     },
     "execution_count": 12,
     "metadata": {},
     "output_type": "execute_result"
    }
   ],
   "source": [
    "person = Person('John',25)\n",
    "person.counter"
   ]
  },
  {
   "cell_type": "markdown",
   "metadata": {},
   "source": [
    "* To make the counter variable more useful, you can increase its value by one once an object is created. \n",
    "* To do it, you increase the counter class attribute in the __init__ method:"
   ]
  },
  {
   "cell_type": "code",
   "execution_count": 13,
   "metadata": {},
   "outputs": [],
   "source": [
    "class Person:\n",
    "    counter = 0\n",
    "\n",
    "    def __init__(self, name, age):\n",
    "        self.name = name\n",
    "        self.age = age\n",
    "        Person.counter += 1\n",
    "\n",
    "    def greet(self):\n",
    "        return f\"Hi, it's {self.name}.\""
   ]
  },
  {
   "cell_type": "markdown",
   "metadata": {},
   "source": [
    "* The following creates two instances of the Person class and shows the value of the counter:"
   ]
  },
  {
   "cell_type": "code",
   "execution_count": 14,
   "metadata": {},
   "outputs": [
    {
     "name": "stdout",
     "output_type": "stream",
     "text": [
      "2\n"
     ]
    }
   ],
   "source": [
    "p1 = Person('John', 25)\n",
    "p2 = Person('Jane', 22)\n",
    "print(Person.counter)"
   ]
  },
  {
   "cell_type": "markdown",
   "metadata": {},
   "source": [
    "## **Define class method**\n",
    "* Like a class attribute, a class method is shared by all instances of the class. \n",
    "* The first argument of a class method is the class itself. \n",
    "* By convention, its name is **cls**. Python automatically passes this argument to the class method. Also, you use the **@classmethod** decorator to decorate a class method.\n",
    "\n",
    "* The following example defines a class method that returns an anonymous Person object:"
   ]
  },
  {
   "cell_type": "code",
   "execution_count": 15,
   "metadata": {},
   "outputs": [],
   "source": [
    "class Person:\n",
    "    counter = 0\n",
    "\n",
    "    def __init__(self, name, age):\n",
    "        self.name = name\n",
    "        self.age = age\n",
    "        Person.counter += 1\n",
    "\n",
    "    def greet(self):\n",
    "        return f\"Hi, it's {self.name}.\"\n",
    "\n",
    "    @classmethod\n",
    "    def create_anonymous(cls):\n",
    "        return Person('Anonymous', 22)"
   ]
  },
  {
   "cell_type": "code",
   "execution_count": 16,
   "metadata": {},
   "outputs": [
    {
     "name": "stdout",
     "output_type": "stream",
     "text": [
      "Anonymous\n"
     ]
    }
   ],
   "source": [
    "#The following shows how to call the create_anonymous() class method:\n",
    "anonymous = Person.create_anonymous()\n",
    "print(anonymous.name)  # Anonymous"
   ]
  },
  {
   "cell_type": "markdown",
   "metadata": {},
   "source": [
    "## **Define static method**\n",
    "* A static method is not bound to a class or any instances of the class. \n",
    "* In Python, you use static methods to group logically related functions in a class. To define a static method, you use the **@staticmethod** decorator.\n",
    "\n",
    "* For example, the following defines a class TemperatureConverter that has two static methods that convert from celsius to Fahrenheit and vice versa:"
   ]
  },
  {
   "cell_type": "code",
   "execution_count": 17,
   "metadata": {},
   "outputs": [],
   "source": [
    "class TemperatureConverter:\n",
    "    @staticmethod\n",
    "    def celsius_to_fahrenheit(c):\n",
    "        return 9 * c / 5 + 32\n",
    "\n",
    "    @staticmethod\n",
    "    def fahrenheit_to_celsius(f):\n",
    "        return 5 * (f - 32) / 9"
   ]
  },
  {
   "cell_type": "markdown",
   "metadata": {},
   "source": [
    "* To call a **static method**, you use the **ClassName.static_method_name()** syntax. For example:"
   ]
  },
  {
   "cell_type": "code",
   "execution_count": 18,
   "metadata": {},
   "outputs": [
    {
     "name": "stdout",
     "output_type": "stream",
     "text": [
      "86.0\n"
     ]
    }
   ],
   "source": [
    "f = TemperatureConverter.celsius_to_fahrenheit(30)\n",
    "print(f)  # 86"
   ]
  },
  {
   "cell_type": "markdown",
   "metadata": {},
   "source": [
    "* Notice that Python doesn’t implicitly pass an instance (self) as well as class (cls) as the first argument of a static method."
   ]
  },
  {
   "cell_type": "markdown",
   "metadata": {},
   "source": [
    "## **Python Class Variables**\n",
    "* Everything in Python is an object including a class. In other words, a class is an object in Python.\n",
    "\n",
    "* When you define a class using the class keyword, Python creates an object with the name the same as the class’s name. For example:\n"
   ]
  },
  {
   "cell_type": "code",
   "execution_count": 26,
   "metadata": {},
   "outputs": [],
   "source": [
    "class HtmlDocument:\n",
    "   pass"
   ]
  },
  {
   "cell_type": "markdown",
   "metadata": {},
   "source": [
    "* This example defines the HtmlDocument class and the HtmlDocument object. The HtmlDocument object has the __name__ property:"
   ]
  },
  {
   "cell_type": "code",
   "execution_count": 27,
   "metadata": {},
   "outputs": [
    {
     "name": "stdout",
     "output_type": "stream",
     "text": [
      "HtmlDocument\n"
     ]
    }
   ],
   "source": [
    "print(HtmlDocument.__name__) # HtmlDocument"
   ]
  },
  {
   "cell_type": "markdown",
   "metadata": {},
   "source": [
    "* And the HTMLDocument has the type of type:"
   ]
  },
  {
   "cell_type": "code",
   "execution_count": 28,
   "metadata": {},
   "outputs": [
    {
     "name": "stdout",
     "output_type": "stream",
     "text": [
      "<class 'type'>\n"
     ]
    }
   ],
   "source": [
    "print(type(HtmlDocument))  # <class 'type'>"
   ]
  },
  {
   "cell_type": "markdown",
   "metadata": {},
   "source": [
    "* It’s also an instance of the type class:"
   ]
  },
  {
   "cell_type": "code",
   "execution_count": 29,
   "metadata": {},
   "outputs": [
    {
     "name": "stdout",
     "output_type": "stream",
     "text": [
      "True\n"
     ]
    }
   ],
   "source": [
    "print(isinstance(HtmlDocument, type)) # True"
   ]
  },
  {
   "cell_type": "markdown",
   "metadata": {},
   "source": [
    "* Class variables are bound to the class. They’re shared by all instances of that class.\n",
    "\n",
    "* The following example adds the extension and version class variables to the HtmlDocument class:"
   ]
  },
  {
   "cell_type": "code",
   "execution_count": 30,
   "metadata": {},
   "outputs": [],
   "source": [
    "class HtmlDocument:\n",
    "    extension = 'html'\n",
    "    version = '5'"
   ]
  },
  {
   "cell_type": "markdown",
   "metadata": {},
   "source": [
    "* Both extension and version are the class variables of the HtmlDocument class. They’re bound to the HtmlDocument class."
   ]
  },
  {
   "cell_type": "markdown",
   "metadata": {},
   "source": [
    "## **Get the values of class variables**\n",
    "* To get the values of class variables, you use the dot notation **(.)**. For example:"
   ]
  },
  {
   "cell_type": "code",
   "execution_count": 31,
   "metadata": {},
   "outputs": [
    {
     "name": "stdout",
     "output_type": "stream",
     "text": [
      "html\n",
      "5\n"
     ]
    }
   ],
   "source": [
    "print(HtmlDocument.extension) # html\n",
    "print(HtmlDocument.version) # 5"
   ]
  },
  {
   "cell_type": "code",
   "execution_count": 32,
   "metadata": {},
   "outputs": [
    {
     "ename": "AttributeError",
     "evalue": "type object 'HtmlDocument' has no attribute 'media_type'",
     "output_type": "error",
     "traceback": [
      "\u001b[1;31m---------------------------------------------------------------------------\u001b[0m",
      "\u001b[1;31mAttributeError\u001b[0m                            Traceback (most recent call last)",
      "Input \u001b[1;32mIn [32]\u001b[0m, in \u001b[0;36m<cell line: 2>\u001b[1;34m()\u001b[0m\n\u001b[0;32m      1\u001b[0m \u001b[38;5;66;03m#If you access a class variable that doesn’t exist, you’ll get an AttributeError exception. For example:\u001b[39;00m\n\u001b[1;32m----> 2\u001b[0m \u001b[43mHtmlDocument\u001b[49m\u001b[38;5;241;43m.\u001b[39;49m\u001b[43mmedia_type\u001b[49m\n",
      "\u001b[1;31mAttributeError\u001b[0m: type object 'HtmlDocument' has no attribute 'media_type'"
     ]
    }
   ],
   "source": [
    "#If you access a class variable that doesn’t exist, you’ll get an AttributeError exception. For example:\n",
    "HtmlDocument.media_type"
   ]
  },
  {
   "cell_type": "markdown",
   "metadata": {},
   "source": [
    "* Another way to get the value of a class variable is to use the getattr() function. \n",
    "* The getattr() function accepts an object and a variable name. It returns the value of the class variable. For example:\n"
   ]
  },
  {
   "cell_type": "code",
   "execution_count": 33,
   "metadata": {},
   "outputs": [
    {
     "name": "stdout",
     "output_type": "stream",
     "text": [
      "html\n",
      "5\n"
     ]
    }
   ],
   "source": [
    "extension = getattr(HtmlDocument, 'extension')\n",
    "version = getattr(HtmlDocument, 'version')\n",
    "\n",
    "print(extension)  # html\n",
    "print(version)  # 5"
   ]
  },
  {
   "cell_type": "markdown",
   "metadata": {},
   "source": [
    "* If the class variable doesn’t exist, you’ll also get an AttributeError exception. To avoid the exception, you can specify a default value if the class variable doesn’t exist like this:"
   ]
  },
  {
   "cell_type": "code",
   "execution_count": 34,
   "metadata": {},
   "outputs": [
    {
     "name": "stdout",
     "output_type": "stream",
     "text": [
      "text/html\n"
     ]
    }
   ],
   "source": [
    "media_type = getattr(HtmlDocument, 'media_type', 'text/html')\n",
    "print(media_type) # text/html"
   ]
  },
  {
   "cell_type": "markdown",
   "metadata": {},
   "source": [
    "### **Set values for class variables**\n",
    "* To set a value for a class variable, you use the **dot** notation:"
   ]
  },
  {
   "cell_type": "code",
   "execution_count": 35,
   "metadata": {},
   "outputs": [],
   "source": [
    "HtmlDocument.version = 10"
   ]
  },
  {
   "cell_type": "markdown",
   "metadata": {},
   "source": [
    "* or you can use the setattr() built-in function:"
   ]
  },
  {
   "cell_type": "code",
   "execution_count": 36,
   "metadata": {},
   "outputs": [],
   "source": [
    "setattr(HtmlDocument, 'version', 10)"
   ]
  },
  {
   "cell_type": "markdown",
   "metadata": {},
   "source": [
    "* Since Python is a dynamic language, you can add a class variable to a class at runtime after you have created it. \n",
    "* For example, the following adds the media_type class variable to the HtmlDocument class:"
   ]
  },
  {
   "cell_type": "code",
   "execution_count": 37,
   "metadata": {},
   "outputs": [
    {
     "name": "stdout",
     "output_type": "stream",
     "text": [
      "text/html\n"
     ]
    }
   ],
   "source": [
    "HtmlDocument.media_type = 'text/html'\n",
    "print(HtmlDocument.media_type)"
   ]
  },
  {
   "cell_type": "markdown",
   "metadata": {},
   "source": [
    "* Similarly, you can use the setattr() function:"
   ]
  },
  {
   "cell_type": "code",
   "execution_count": 38,
   "metadata": {},
   "outputs": [
    {
     "name": "stdout",
     "output_type": "stream",
     "text": [
      "text/html\n"
     ]
    }
   ],
   "source": [
    "setattr(HtmlDocument, media_type, 'text/html')\n",
    "print(HtmlDocument.media_type)"
   ]
  },
  {
   "cell_type": "markdown",
   "metadata": {},
   "source": [
    "### **Delete class variables**\n",
    "* To delete a class variable at runtime, you use the **delattr()** function:"
   ]
  },
  {
   "cell_type": "code",
   "execution_count": 39,
   "metadata": {},
   "outputs": [],
   "source": [
    "delattr(HtmlDocument, 'version')"
   ]
  },
  {
   "cell_type": "code",
   "execution_count": 40,
   "metadata": {},
   "outputs": [
    {
     "ename": "AttributeError",
     "evalue": "version",
     "output_type": "error",
     "traceback": [
      "\u001b[1;31m---------------------------------------------------------------------------\u001b[0m",
      "\u001b[1;31mAttributeError\u001b[0m                            Traceback (most recent call last)",
      "Input \u001b[1;32mIn [40]\u001b[0m, in \u001b[0;36m<cell line: 2>\u001b[1;34m()\u001b[0m\n\u001b[0;32m      1\u001b[0m \u001b[38;5;66;03m#Or you can use the del keyword:\u001b[39;00m\n\u001b[1;32m----> 2\u001b[0m \u001b[38;5;28;01mdel\u001b[39;00m HtmlDocument\u001b[38;5;241m.\u001b[39mversion\n",
      "\u001b[1;31mAttributeError\u001b[0m: version"
     ]
    }
   ],
   "source": [
    "#Or you can use the del keyword:\n",
    "del HtmlDocument.version"
   ]
  },
  {
   "cell_type": "markdown",
   "metadata": {},
   "source": [
    "### **Class variable storage**\n",
    "* Python stores class variables in the __dict__ attribute. \n",
    "* The __dict__ is a mapping proxy, which is a dictionary. For example:\n"
   ]
  },
  {
   "cell_type": "code",
   "execution_count": 41,
   "metadata": {},
   "outputs": [
    {
     "name": "stdout",
     "output_type": "stream",
     "text": [
      "mappingproxy({'__dict__': <attribute '__dict__' of 'HtmlDocument' objects>,\n",
      "              '__doc__': None,\n",
      "              '__module__': '__main__',\n",
      "              '__weakref__': <attribute '__weakref__' of 'HtmlDocument' objects>,\n",
      "              'extension': 'html',\n",
      "              'media_type': 'text/html',\n",
      "              'version': '5'})\n"
     ]
    }
   ],
   "source": [
    "from pprint import pprint\n",
    "\n",
    "\n",
    "class HtmlDocument:\n",
    "    extension = 'html'\n",
    "    version = '5'\n",
    "\n",
    "\n",
    "HtmlDocument.media_type = 'text/html'\n",
    "\n",
    "pprint(HtmlDocument.__dict__)"
   ]
  },
  {
   "cell_type": "markdown",
   "metadata": {},
   "source": [
    "* As clearly shown in the output, the __dict__ has three class variables: **extension, media_type, and version** besides other predefined class variables.\n",
    "\n",
    "* Python does not allow you to change the __dict__ directly. For example, the following will result in an error:"
   ]
  },
  {
   "cell_type": "code",
   "execution_count": 42,
   "metadata": {},
   "outputs": [
    {
     "ename": "TypeError",
     "evalue": "'mappingproxy' object does not support item assignment",
     "output_type": "error",
     "traceback": [
      "\u001b[1;31m---------------------------------------------------------------------------\u001b[0m",
      "\u001b[1;31mTypeError\u001b[0m                                 Traceback (most recent call last)",
      "Input \u001b[1;32mIn [42]\u001b[0m, in \u001b[0;36m<cell line: 1>\u001b[1;34m()\u001b[0m\n\u001b[1;32m----> 1\u001b[0m HtmlDocument\u001b[38;5;241m.\u001b[39m\u001b[38;5;18m__dict__\u001b[39m[\u001b[38;5;124m'\u001b[39m\u001b[38;5;124mreleased\u001b[39m\u001b[38;5;124m'\u001b[39m] \u001b[38;5;241m=\u001b[39m \u001b[38;5;241m2008\u001b[39m\n",
      "\u001b[1;31mTypeError\u001b[0m: 'mappingproxy' object does not support item assignment"
     ]
    }
   ],
   "source": [
    "HtmlDocument.__dict__['released'] = 2008"
   ]
  },
  {
   "cell_type": "markdown",
   "metadata": {},
   "source": [
    "* However, you can use the setattr() function or dot notation to indirectly change the __dict__ attribute.\n",
    "\n",
    "* Also, the key of the __dict__ are strings that will help Python speeds up the variable lookup.\n",
    "\n",
    "* Although Python allows you to access class variables through the __dict__ dictionary, it’s not a good practice. Also, it won’t work in some situations. For example:"
   ]
  },
  {
   "cell_type": "code",
   "execution_count": 43,
   "metadata": {},
   "outputs": [
    {
     "ename": "KeyError",
     "evalue": "'type'",
     "output_type": "error",
     "traceback": [
      "\u001b[1;31m---------------------------------------------------------------------------\u001b[0m",
      "\u001b[1;31mKeyError\u001b[0m                                  Traceback (most recent call last)",
      "Input \u001b[1;32mIn [43]\u001b[0m, in \u001b[0;36m<cell line: 1>\u001b[1;34m()\u001b[0m\n\u001b[1;32m----> 1\u001b[0m \u001b[38;5;28mprint\u001b[39m(\u001b[43mHtmlDocument\u001b[49m\u001b[38;5;241;43m.\u001b[39;49m\u001b[38;5;18;43m__dict__\u001b[39;49m\u001b[43m[\u001b[49m\u001b[38;5;124;43m'\u001b[39;49m\u001b[38;5;124;43mtype\u001b[39;49m\u001b[38;5;124;43m'\u001b[39;49m\u001b[43m]\u001b[49m)\n",
      "\u001b[1;31mKeyError\u001b[0m: 'type'"
     ]
    }
   ],
   "source": [
    "print(HtmlDocument.__dict__['type']) # BAD CODE"
   ]
  },
  {
   "cell_type": "markdown",
   "metadata": {},
   "source": [
    "### **Callable class attributes**\n",
    "* Class attributes can be any object such as a function.\n",
    "\n",
    "* When you add a function to a class, the function becomes a class attribute. Since a function is callable, the class attribute is called a callable class attribute. \n",
    "* For example:"
   ]
  },
  {
   "cell_type": "code",
   "execution_count": 44,
   "metadata": {},
   "outputs": [
    {
     "name": "stdout",
     "output_type": "stream",
     "text": [
      "mappingproxy({'__dict__': <attribute '__dict__' of 'HtmlDocument' objects>,\n",
      "              '__doc__': None,\n",
      "              '__module__': '__main__',\n",
      "              '__weakref__': <attribute '__weakref__' of 'HtmlDocument' objects>,\n",
      "              'extension': 'html',\n",
      "              'render': <function HtmlDocument.render at 0x00000162D937B400>,\n",
      "              'version': '5'})\n"
     ]
    }
   ],
   "source": [
    "from pprint import pprint\n",
    "\n",
    "\n",
    "class HtmlDocument:\n",
    "    extension = 'html'\n",
    "    version = '5'\n",
    "\n",
    "    def render():\n",
    "        print('Rendering the Html doc...')\n",
    "\n",
    "\n",
    "pprint(HtmlDocument.__dict__)"
   ]
  },
  {
   "cell_type": "markdown",
   "metadata": {},
   "source": [
    "* In this example, the render is a class attribute of the HtmlDocument class. Its value is a function."
   ]
  },
  {
   "cell_type": "markdown",
   "metadata": {},
   "source": [
    "### **Python Methods**\n",
    "### **Introduction to the Python methods**\n",
    "* By definition, a method is a function that is bound to an instance of a class. This tutorial helps you understand how it works under the hood.\n",
    "\n",
    "* The following defines a Request class that contains a function send():"
   ]
  },
  {
   "cell_type": "code",
   "execution_count": 45,
   "metadata": {},
   "outputs": [],
   "source": [
    "class Request:\n",
    "    def send():\n",
    "        print('Sent')"
   ]
  },
  {
   "cell_type": "code",
   "execution_count": 46,
   "metadata": {},
   "outputs": [
    {
     "name": "stdout",
     "output_type": "stream",
     "text": [
      "Sent\n"
     ]
    }
   ],
   "source": [
    "#And you can call the send() function via the Request class like this:\n",
    "Request.send() # Sent"
   ]
  },
  {
   "cell_type": "markdown",
   "metadata": {},
   "source": [
    "* The send() is a function object, which is an instance of the function class as shown in the following output:"
   ]
  },
  {
   "cell_type": "code",
   "execution_count": 47,
   "metadata": {},
   "outputs": [
    {
     "name": "stdout",
     "output_type": "stream",
     "text": [
      "<function Request.send at 0x00000162DAF89120>\n"
     ]
    }
   ],
   "source": [
    "print(Request.send)"
   ]
  },
  {
   "cell_type": "code",
   "execution_count": 48,
   "metadata": {},
   "outputs": [
    {
     "name": "stdout",
     "output_type": "stream",
     "text": [
      "<class 'function'>\n"
     ]
    }
   ],
   "source": [
    "#The type of the send is function:\n",
    "print(type(Request.send))"
   ]
  },
  {
   "cell_type": "markdown",
   "metadata": {},
   "source": [
    "* The following creates a new instance of the Request class:"
   ]
  },
  {
   "cell_type": "code",
   "execution_count": 49,
   "metadata": {},
   "outputs": [],
   "source": [
    "http_request = Request()"
   ]
  },
  {
   "cell_type": "markdown",
   "metadata": {},
   "source": [
    "* If you display the http_request.send, it’ll return a bound method object:"
   ]
  },
  {
   "cell_type": "code",
   "execution_count": 50,
   "metadata": {},
   "outputs": [
    {
     "name": "stdout",
     "output_type": "stream",
     "text": [
      "<bound method Request.send of <__main__.Request object at 0x00000162D954F7C0>>\n"
     ]
    }
   ],
   "source": [
    "print(http_request.send)"
   ]
  },
  {
   "cell_type": "markdown",
   "metadata": {},
   "source": [
    "* So the http_request.send is not a function like Request.send. The following checks if the Request.send is the same object as http_request.send. It’ll returns False as expected:"
   ]
  },
  {
   "cell_type": "code",
   "execution_count": 51,
   "metadata": {},
   "outputs": [
    {
     "name": "stdout",
     "output_type": "stream",
     "text": [
      "False\n"
     ]
    }
   ],
   "source": [
    "print(type(Request.send) is type(http_request.send))"
   ]
  },
  {
   "cell_type": "markdown",
   "metadata": {},
   "source": [
    "* The reason is that the type of the Request.send is function while the type of the http_request.send is method, as shown below:"
   ]
  },
  {
   "cell_type": "code",
   "execution_count": 52,
   "metadata": {},
   "outputs": [
    {
     "name": "stdout",
     "output_type": "stream",
     "text": [
      "<class 'method'>\n",
      "<class 'function'>\n"
     ]
    }
   ],
   "source": [
    "print(type(http_request.send))  # <class 'method'>\n",
    "print(type(Request.send))  # <class 'function'>"
   ]
  },
  {
   "cell_type": "markdown",
   "metadata": {},
   "source": [
    "* So when you define a function inside a class, it’s purely a function. However, when you access that function via an object, the function becomes a method.\n",
    "\n",
    "* Therefore, a method is a function that is bound to an instance of a class.\n",
    "\n",
    "* If you call the send() function via the http_request object, you’ll get a TypeError as follows:"
   ]
  },
  {
   "cell_type": "code",
   "execution_count": 64,
   "metadata": {},
   "outputs": [
    {
     "name": "stdout",
     "output_type": "stream",
     "text": [
      "Sent ()\n"
     ]
    }
   ],
   "source": [
    "Request.send()"
   ]
  },
  {
   "cell_type": "markdown",
   "metadata": {},
   "source": [
    "* Because the http_request.send is a method that is bound to the http_request object, Python always implicitly passes the object to the method as the first argument.\n",
    "\n",
    "* The following redefines the Request class where the send function accepts a list of arguments:"
   ]
  },
  {
   "cell_type": "code",
   "execution_count": 54,
   "metadata": {},
   "outputs": [],
   "source": [
    "class Request:\n",
    "    def send(*args):\n",
    "        print('Sent', args)"
   ]
  },
  {
   "cell_type": "code",
   "execution_count": 55,
   "metadata": {},
   "outputs": [
    {
     "name": "stdout",
     "output_type": "stream",
     "text": [
      "Sent ()\n"
     ]
    }
   ],
   "source": [
    "#The following calls the send function from the Request class:\n",
    "Request.send()"
   ]
  },
  {
   "cell_type": "markdown",
   "metadata": {},
   "source": [
    "* The send() function doesn’t receive any arguments.\n",
    "\n",
    "* However, if you call the send() function from an instance of the Request class, the args is not empty:"
   ]
  },
  {
   "cell_type": "code",
   "execution_count": 65,
   "metadata": {},
   "outputs": [
    {
     "name": "stdout",
     "output_type": "stream",
     "text": [
      "Sent ()\n"
     ]
    }
   ],
   "source": [
    "Request.send()"
   ]
  },
  {
   "cell_type": "markdown",
   "metadata": {},
   "source": [
    "* In this case, the send() method receives an object which is the http_request, which is the object that it is bound to.\n",
    "\n",
    "* The following illustrates that the object that calls the send() method is the one that Python implicitly passes into the method as the first argument:"
   ]
  },
  {
   "cell_type": "code",
   "execution_count": 68,
   "metadata": {},
   "outputs": [
    {
     "name": "stdout",
     "output_type": "stream",
     "text": [
      "Sent ()\n",
      "0x7fff243977f8\n"
     ]
    }
   ],
   "source": [
    "print(hex(id(Request.send())))"
   ]
  },
  {
   "cell_type": "markdown",
   "metadata": {},
   "source": [
    "## **Python __init__**\n",
    "### **Introduction to the Python __init__() method**\n",
    "* When you create a new object of a class, Python automatically calls the __init__() method to initialize the object’s attributes.\n",
    "\n",
    "* Unlike regular methods, the __init__() method has two underscores (__) on each side. Therefore, the __init__() is often called dunder init. The name comes abbreviation of the double underscores init.\n",
    "\n",
    "* The double underscores at both sides of the __init__() method indicate that Python will use the method internally. In other words, you should not explicitly call this method.\n",
    "\n",
    "* Since Python will automatically call the __init__() method immediately after creating a new object, you can use the __init__() method to initialize the object’s attributes.\n",
    "\n",
    "* The following defines the Person class with the __init__() method:"
   ]
  },
  {
   "cell_type": "code",
   "execution_count": 69,
   "metadata": {},
   "outputs": [
    {
     "name": "stdout",
     "output_type": "stream",
     "text": [
      "I'm John. I'm 25 years old.\n"
     ]
    }
   ],
   "source": [
    "class Person:\n",
    "    def __init__(self, name, age):\n",
    "        self.name = name\n",
    "        self.age = age\n",
    "\n",
    "\n",
    "if __name__ == '__main__':\n",
    "    person = Person('John', 25)\n",
    "    print(f\"I'm {person.name}. I'm {person.age} years old.\")\n"
   ]
  },
  {
   "cell_type": "markdown",
   "metadata": {},
   "source": [
    "* When you create an instance of the Person class, Python performs two things:\n",
    "\n",
    "* First, create a new instance of the Person class by setting the object’s namespace such as __dict__ attribute to empty ({}).\n",
    "* Second, call the __init__ method to initialize the attributes of the newly created object.\n",
    "* Note that the __init__ method doesn’t create the object but only initializes the object’s attributes. Hence, the __init__() is not a constructor.\n",
    "\n",
    "* If the __init__ has parameters other than the self, you need to pass the corresponding arguments when creating a new object like the example above. Otherwise, you’ll get an error.\n",
    "\n",
    "* The __init__ method with default parameters\n",
    "* The __init__() method’s parameters can have default values. For example:\n"
   ]
  },
  {
   "cell_type": "code",
   "execution_count": 70,
   "metadata": {},
   "outputs": [
    {
     "name": "stdout",
     "output_type": "stream",
     "text": [
      "I'm John. I'm 22 years old.\n"
     ]
    }
   ],
   "source": [
    "class Person:\n",
    "    def __init__(self, name, age=22):\n",
    "        self.name = name\n",
    "        self.age = age\n",
    "\n",
    "\n",
    "if __name__ == '__main__':\n",
    "    person = Person('John')\n",
    "    print(f\"I'm {person.name}. I'm {person.age} years old.\")\n"
   ]
  },
  {
   "cell_type": "markdown",
   "metadata": {},
   "source": [
    "* In this example, the age parameter has a default value of 22. Because we don’t pass an argument to the Person(), the age uses the default value."
   ]
  },
  {
   "cell_type": "markdown",
   "metadata": {},
   "source": [
    "## **Python Instance Variables**\n",
    "### **Introduction to the Python instance variables**\n",
    "* In Python, class variables are bound to a class while instance variables are bound to a specific instance of a class. The instance variables are also called instance attributes.\n",
    "\n",
    "* The following defines a HtmlDocument class with two class variables:"
   ]
  },
  {
   "cell_type": "code",
   "execution_count": 71,
   "metadata": {},
   "outputs": [
    {
     "name": "stdout",
     "output_type": "stream",
     "text": [
      "mappingproxy({'__dict__': <attribute '__dict__' of 'HtmlDocument' objects>,\n",
      "              '__doc__': None,\n",
      "              '__module__': '__main__',\n",
      "              '__weakref__': <attribute '__weakref__' of 'HtmlDocument' objects>,\n",
      "              'extension': 'html',\n",
      "              'version': 5})\n",
      "html\n",
      "5\n"
     ]
    }
   ],
   "source": [
    "from pprint import pprint\n",
    "\n",
    "\n",
    "class HtmlDocument:\n",
    "    version = 5\n",
    "    extension = 'html'\n",
    "\n",
    "\n",
    "pprint(HtmlDocument.__dict__)\n",
    "\n",
    "print(HtmlDocument.extension)\n",
    "print(HtmlDocument.version)"
   ]
  },
  {
   "cell_type": "markdown",
   "metadata": {},
   "source": [
    "* The HtmlDocument class has two class variables: extension and version. Python stores these two variables in the __dict__ attribute.\n",
    "\n",
    "* When you access the class variables via the class, Python looks them up in the __dict__ of the class.\n",
    "\n",
    "* The following creates a new instance of the HtmlDocument class:"
   ]
  },
  {
   "cell_type": "code",
   "execution_count": 72,
   "metadata": {},
   "outputs": [],
   "source": [
    "home = HtmlDocument()"
   ]
  },
  {
   "cell_type": "code",
   "execution_count": 73,
   "metadata": {},
   "outputs": [
    {
     "name": "stdout",
     "output_type": "stream",
     "text": [
      "{}\n"
     ]
    }
   ],
   "source": [
    "#The home is an instance of the HtmlDocument class. It has its own __dict__ attribute:\n",
    "pprint(home.__dict__)"
   ]
  },
  {
   "cell_type": "markdown",
   "metadata": {},
   "source": [
    "* The home.__dict__ is now empty.\n",
    "* The home.__dict__ stores the instance variables of the home object like the HtmlDocument.__dict__ stores the class variables of the HtmlDocument class.\n",
    "\n",
    "* Unlike the __dict__ attribute of a class, the type of the __dict__ attribute of an instance is a dictionary. For example:\n"
   ]
  },
  {
   "cell_type": "code",
   "execution_count": 74,
   "metadata": {},
   "outputs": [
    {
     "name": "stdout",
     "output_type": "stream",
     "text": [
      "<class 'dict'>\n"
     ]
    }
   ],
   "source": [
    "print(type(home.__dict__))"
   ]
  },
  {
   "cell_type": "markdown",
   "metadata": {},
   "source": [
    "* Since a dictionary is mutable, you can mutate it e.g., adding a new element to the dictionary.\n",
    "\n",
    "* Python allows you to access the class variables from an instance of a class. For example:"
   ]
  },
  {
   "cell_type": "code",
   "execution_count": 75,
   "metadata": {},
   "outputs": [
    {
     "name": "stdout",
     "output_type": "stream",
     "text": [
      "html\n",
      "5\n"
     ]
    }
   ],
   "source": [
    "print(home.extension)\n",
    "print(home.version)"
   ]
  },
  {
   "cell_type": "markdown",
   "metadata": {},
   "source": [
    "* In this case, Python looks up the variables extension and version in home.__dict__ first. If it doesn’t find them there, it’ll go up to the class and look up in the HtmlDocument.__dict__.\n",
    "\n",
    "* However, if Python can find the variables in the __dict__ of the instance, it won’t look further in the __dict__ of the class.\n",
    "\n",
    "* The following defines the version variable in the home object:"
   ]
  },
  {
   "cell_type": "code",
   "execution_count": 76,
   "metadata": {},
   "outputs": [],
   "source": [
    "home.version = 6"
   ]
  },
  {
   "cell_type": "code",
   "execution_count": 77,
   "metadata": {},
   "outputs": [
    {
     "data": {
      "text/plain": [
       "__main__.HtmlDocument"
      ]
     },
     "execution_count": 77,
     "metadata": {},
     "output_type": "execute_result"
    }
   ],
   "source": [
    "#Python adds the version variable to the __dict__ attribute of the home object:\n",
    "HtmlDocument"
   ]
  },
  {
   "cell_type": "code",
   "execution_count": 78,
   "metadata": {},
   "outputs": [
    {
     "data": {
      "text/plain": [
       "{'version': 6}"
      ]
     },
     "execution_count": 78,
     "metadata": {},
     "output_type": "execute_result"
    }
   ],
   "source": [
    "#The __dict__ now contains one instance variable:\n",
    "{'version': 6}"
   ]
  },
  {
   "cell_type": "markdown",
   "metadata": {},
   "source": [
    "* If you access the version attribute of the home object, Python will return the value of the version in the home.__dict__ dictionary:"
   ]
  },
  {
   "cell_type": "code",
   "execution_count": 79,
   "metadata": {},
   "outputs": [
    {
     "name": "stdout",
     "output_type": "stream",
     "text": [
      "6\n"
     ]
    }
   ],
   "source": [
    "print(home.version)"
   ]
  },
  {
   "cell_type": "markdown",
   "metadata": {},
   "source": [
    "### **Initializing instance variables**\n",
    "* In practice, you initialize instance variables for all instances of a class in the __init__ method.\n",
    "\n",
    "* For example, the following redefines the HtmlDocument class that has two instance variables name and contents"
   ]
  },
  {
   "cell_type": "code",
   "execution_count": 80,
   "metadata": {},
   "outputs": [],
   "source": [
    "class HtmlDocument:\n",
    "    version = 5\n",
    "    extension = 'html'\n",
    "\n",
    "    def __init__(self, name, contents):\n",
    "        self.name = name\n",
    "        self.contents = contents"
   ]
  },
  {
   "cell_type": "markdown",
   "metadata": {},
   "source": [
    "* When creating a new instance of the HtmlDocument, you need to pass the corresponding arguments like this:"
   ]
  },
  {
   "cell_type": "code",
   "execution_count": 81,
   "metadata": {},
   "outputs": [],
   "source": [
    "blank = HtmlDocument('Blank', '')"
   ]
  },
  {
   "cell_type": "markdown",
   "metadata": {},
   "source": [
    "## **Python Private Attributes i.e. Encapsulation**\n",
    "### **Introduction to encapsulation in Python**\n",
    "* Encapsulation is one of the four fundamental concepts in object-oriented programming including abstraction, encapsulation, inheritance, and polymorphism.\n",
    "\n",
    "* Encapsulation is the packing of data and functions that work on that data within a single object. By doing so, you can hide the internal state of the object from the outside. This is known as information hiding.\n",
    "\n",
    "* A class is an example of encapsulation. A class bundles data and methods into a single unit. And a class provides the access to its attributes via methods.\n",
    "\n",
    "* The idea of information hiding is that if you have an attribute that isn’t visible to the outside, you can control the access to its value to make sure your object is always has a valid state.\n",
    "\n",
    "* Let’s take a look at an example to better understand the encapsulation concept.\n",
    "\n",
    "#### **Python encapsulation example**\n",
    "* The following defines the Counter class:"
   ]
  },
  {
   "cell_type": "code",
   "execution_count": 82,
   "metadata": {},
   "outputs": [],
   "source": [
    "class Counter:\n",
    "    def __init__(self):\n",
    "        self.current = 0\n",
    "\n",
    "    def increment(self):\n",
    "        self.current += 1\n",
    "\n",
    "    def value(self):\n",
    "        return self.current\n",
    "\n",
    "    def reset(self):\n",
    "        self.current = 0\n"
   ]
  },
  {
   "cell_type": "markdown",
   "metadata": {},
   "source": [
    "* The Counter class has one attribute called current which defaults to zero. And it has three methods:\n",
    "\n",
    "    * increment() increases the value of the current attribute by one.\n",
    "    * value() returns the current value of the current attribute\n",
    "    * reset() sets the value of the current attribute to zero.\n",
    "* The following creates a new instance of the Counter class and calls the increment() method three times before showing the current value of the counter to the screen:"
   ]
  },
  {
   "cell_type": "code",
   "execution_count": 83,
   "metadata": {},
   "outputs": [
    {
     "name": "stdout",
     "output_type": "stream",
     "text": [
      "3\n"
     ]
    }
   ],
   "source": [
    "counter = Counter()\n",
    "\n",
    "\n",
    "counter.increment()\n",
    "counter.increment()\n",
    "counter.increment()\n",
    "\n",
    "print(counter.value())\n"
   ]
  },
  {
   "cell_type": "markdown",
   "metadata": {},
   "source": [
    "* It works perfectly fine but has one issue.\n",
    "\n",
    "* From the outside of the Counter class, you still can access the current attribute and change it to whatever you want. For example:"
   ]
  },
  {
   "cell_type": "code",
   "execution_count": 84,
   "metadata": {},
   "outputs": [
    {
     "name": "stdout",
     "output_type": "stream",
     "text": [
      "-999\n"
     ]
    }
   ],
   "source": [
    "counter = Counter()\n",
    "\n",
    "counter.increment()\n",
    "counter.increment()\n",
    "counter.current = -999\n",
    "\n",
    "print(counter.value())\n"
   ]
  },
  {
   "attachments": {
    "image.png": {
     "image/png": "[encoded data removed]"
    }
   },
   "cell_type": "markdown",
   "metadata": {},
   "source": [
    "* In this example, we create an instance of the Counter class, call the increment() method twice and set the value of the current attribute to an invalid value -999.\n",
    "\n",
    "* So how do you prevent the current attribute from modifying outside of the Counter class?\n",
    "\n",
    "* That’s why private attributes come into play.\n",
    "\n",
    "### **Private attributes**\n",
    "* Private attributes can be only accessible from the methods of the class. In other words, they cannot be accessible from outside of the class.\n",
    "\n",
    "* Python doesn’t have a concept of private attributes. In other words, all attributes are accessible from the outside of a class.\n",
    "\n",
    "* By convention, you can define a private attribute by prefixing a single underscore (_):\n",
    "![image.png](attachment:image.png)\n",
    "* This means that the _attribute should not be manipulated and may have a breaking change in the future.\n",
    "\n",
    "* The following redefines the Counter class with the current as a private attribute by convention:"
   ]
  },
  {
   "cell_type": "code",
   "execution_count": 86,
   "metadata": {},
   "outputs": [],
   "source": [
    "class Counter:\n",
    "    def __init__(self):\n",
    "        self._current = 0\n",
    "\n",
    "    def increment(self):\n",
    "        self._current += 1\n",
    "\n",
    "    def value(self):\n",
    "        return self._current\n",
    "\n",
    "    def reset(self):\n",
    "        self._current = 0\n"
   ]
  },
  {
   "attachments": {
    "image-2.png": {
     "image/png": "[encoded data removed]"
    },
    "image-3.png": {
     "image/png": "[encoded data removed]"
    },
    "image-4.png": {
     "image/png": "[encoded data removed]"
    },
    "image.png": {
     "image/png": "[encoded data removed]"
    }
   },
   "cell_type": "markdown",
   "metadata": {},
   "source": [
    "### **Name mangling with double underscores**\n",
    "* If you prefix an attribute name with double underscores (__) like this:\n",
    "![image.png](attachment:image.png)\n",
    "* Python will automatically change the name of the __attribute to:\n",
    "![image-2.png](attachment:image-2.png)\n",
    "* This is called the name mangling in Python.\n",
    "\n",
    "* By doing this, you cannot access the __attribute directly from the outside of a class like:\n",
    "![image-3.png](attachment:image-3.png)\n",
    "* However, you still can access it using the _class__attribute name:\n",
    "![image-4.png](attachment:image-4.png)\n",
    "* The following example redefines the Counter class with the __current attribute:\n",
    "    * Now, if you attempt to access __current attribute, you’ll get an error: "
   ]
  },
  {
   "cell_type": "code",
   "execution_count": 87,
   "metadata": {},
   "outputs": [
    {
     "ename": "AttributeError",
     "evalue": "'Counter' object has no attribute '__current'",
     "output_type": "error",
     "traceback": [
      "\u001b[1;31m---------------------------------------------------------------------------\u001b[0m",
      "\u001b[1;31mAttributeError\u001b[0m                            Traceback (most recent call last)",
      "Input \u001b[1;32mIn [87]\u001b[0m, in \u001b[0;36m<cell line: 16>\u001b[1;34m()\u001b[0m\n\u001b[0;32m     12\u001b[0m         \u001b[38;5;28mself\u001b[39m\u001b[38;5;241m.\u001b[39m__current \u001b[38;5;241m=\u001b[39m \u001b[38;5;241m0\u001b[39m\n\u001b[0;32m     15\u001b[0m counter \u001b[38;5;241m=\u001b[39m Counter()\n\u001b[1;32m---> 16\u001b[0m \u001b[38;5;28mprint\u001b[39m(\u001b[43mcounter\u001b[49m\u001b[38;5;241;43m.\u001b[39;49m\u001b[43m__current\u001b[49m)\n",
      "\u001b[1;31mAttributeError\u001b[0m: 'Counter' object has no attribute '__current'"
     ]
    }
   ],
   "source": [
    "class Counter:\n",
    "    def __init__(self):\n",
    "        self.__current = 0\n",
    "\n",
    "    def increment(self):\n",
    "        self.__current += 1\n",
    "\n",
    "    def value(self):\n",
    "        return self.__current\n",
    "\n",
    "    def reset(self):\n",
    "        self.__current = 0\n",
    "\n",
    "\n",
    "counter = Counter()\n",
    "print(counter.__current)"
   ]
  },
  {
   "cell_type": "code",
   "execution_count": 88,
   "metadata": {},
   "outputs": [
    {
     "name": "stdout",
     "output_type": "stream",
     "text": [
      "0\n"
     ]
    }
   ],
   "source": [
    "#However, you can access the __current attribute as _Counter___current like this:\n",
    "counter = Counter()\n",
    "print(counter._Counter__current)"
   ]
  },
  {
   "cell_type": "markdown",
   "metadata": {},
   "source": [
    "## **Python Class Attributes**\n",
    "### **Introduction to class attributes**\n",
    "* Let’s start with a simple Circle class:\n"
   ]
  },
  {
   "cell_type": "code",
   "execution_count": 89,
   "metadata": {},
   "outputs": [],
   "source": [
    "class Circle:\n",
    "    def __init__(self, radius):\n",
    "        self.pi = 3.14159\n",
    "        self.radius = radius\n",
    "\n",
    "    def area(self):\n",
    "        return self.pi * self.radius**2\n",
    "\n",
    "    def circumference(self):\n",
    "        return 2*self.pi * self.radius\n"
   ]
  },
  {
   "cell_type": "markdown",
   "metadata": {},
   "source": [
    "* The Circle class has two attributes pi and radius. It also has two methods that calculate the area and circumference of a circle.\n",
    "\n",
    "* Both pi and radius are called instance attributes. In other words, they belong to a specific instance of the Circle class. If you change the attributes of an instance, it won’t affect other instances.\n",
    "\n",
    "* Besides instance attributes, Python also supports class attributes. The class attributes don’t associate with any specific instance of the class. But they’re shared by all instances of the class.\n",
    "* If you’ve been programming in Java or C#, you’ll see that class attributes are similar to the static members, but not the same.\n",
    "* To define a class attribute, you place it outside of the __init__() method. For example, the following defines pi as a class attribute:"
   ]
  },
  {
   "cell_type": "code",
   "execution_count": 90,
   "metadata": {},
   "outputs": [],
   "source": [
    "class Circle:\n",
    "    pi = 3.14159\n",
    "\n",
    "    def __init__(self, radius):\n",
    "        self.radius = radius\n",
    "\n",
    "    def area(self):\n",
    "        return self.pi * self.radius**2\n",
    "\n",
    "    def circumference(self):\n",
    "        return 2 * self.pi * self.radius\n"
   ]
  },
  {
   "attachments": {
    "image.png": {
     "image/png": "[encoded data removed]"
    }
   },
   "cell_type": "markdown",
   "metadata": {},
   "source": [
    "* After that, you can access the class attribute via instances of the class or via the class name:\n",
    "![image.png](attachment:image.png)\n",
    "* In the area() and circumference() methods, we access the pi class attribute via the self variable.\n",
    "\n",
    "* Outside the Circle class, you can access the pi class attribute via an instance of the Circle class or directly via the Circle class. For example:"
   ]
  },
  {
   "cell_type": "code",
   "execution_count": 91,
   "metadata": {},
   "outputs": [
    {
     "name": "stdout",
     "output_type": "stream",
     "text": [
      "3.14159\n",
      "3.14159\n"
     ]
    }
   ],
   "source": [
    "c = Circle(10)\n",
    "print(c.pi)\n",
    "print(Circle.pi)"
   ]
  },
  {
   "cell_type": "markdown",
   "metadata": {},
   "source": [
    "### **How Python class attributes work**\n",
    "* When you access an attribute via an instance of the class, Python searches for the attribute in the instance attribute list. If the instance attribute list doesn’t have that attribute, Python continues looking up the attribute in the class attribute list. Python returns the value of the attribute as long as it finds the attribute in the instance attribute list or class attribute list.\n",
    "\n",
    "* However, if you access an attribute, Python directly searches for the attribute in the class attribute list.\n",
    "\n",
    "* The following example defines a Test class to demonstrate how Python handles instance and class attributes."
   ]
  },
  {
   "cell_type": "code",
   "execution_count": 92,
   "metadata": {},
   "outputs": [
    {
     "name": "stdout",
     "output_type": "stream",
     "text": [
      "20\n",
      "10\n"
     ]
    }
   ],
   "source": [
    "class Test:\n",
    "    x = 10\n",
    "\n",
    "    def __init__(self):\n",
    "        self.x = 20\n",
    "\n",
    "\n",
    "test = Test()\n",
    "print(test.x)  # 20\n",
    "print(Test.x)  # 10"
   ]
  },
  {
   "attachments": {
    "image.png": {
     "image/png": "[encoded data removed]"
    }
   },
   "cell_type": "markdown",
   "metadata": {},
   "source": [
    "![image.png](attachment:image.png)\n",
    "### **When to use Python class attributes**\n",
    "* Class attributes are useful in some cases such as storing class constants, tracking data across all instances, and defining default values.\n",
    "\n",
    "#### **1) Storing class constants**\n",
    "* Since a constant doesn’t change from instance to instance of a class, it’s handy to store it as a class attribute.\n",
    "\n",
    "* For example, the Circle class has the pi constant that is the same for all instances of the class. Therefore, it’s a good candidate for the class attributes.\n",
    "\n",
    "#### **2) Tracking data across of all instances**\n",
    "* The following adds the circle_list class attribute to the Circle class. When you create a new instance of the Circle class, the constructor adds the instance to the list:"
   ]
  },
  {
   "cell_type": "code",
   "execution_count": 93,
   "metadata": {},
   "outputs": [
    {
     "name": "stdout",
     "output_type": "stream",
     "text": [
      "2\n"
     ]
    }
   ],
   "source": [
    "class Circle:\n",
    "    circle_list = []\n",
    "    pi = 3.14159\n",
    "\n",
    "    def __init__(self, radius):\n",
    "        self.radius = radius\n",
    "        # add the instance to the circle list\n",
    "        self.circle_list.append(self)\n",
    "\n",
    "    def area(self):\n",
    "        return self.pi * self.radius**2\n",
    "\n",
    "    def circumference(self):\n",
    "        return 2 * self.pi * self.radius\n",
    "\n",
    "\n",
    "c1 = Circle(10)\n",
    "c2 = Circle(20)\n",
    "\n",
    "print(len(Circle.circle_list))  # 2"
   ]
  },
  {
   "cell_type": "markdown",
   "metadata": {},
   "source": [
    "### **3) Defining default values**\n",
    "* Sometimes, you want to set a default value for all instances of a class. In this case, you can use a class attribute.\n",
    "\n",
    "* The following example defines a Product class. All the instances of the Product class will have a default discount specified by the default_discount class attribute:"
   ]
  },
  {
   "cell_type": "code",
   "execution_count": 94,
   "metadata": {},
   "outputs": [
    {
     "name": "stdout",
     "output_type": "stream",
     "text": [
      "100\n",
      "190.0\n"
     ]
    }
   ],
   "source": [
    "class Product:\n",
    "    default_discount = 0\n",
    "\n",
    "    def __init__(self, price):\n",
    "        self.price = price\n",
    "        self.discount = Product.default_discount\n",
    "\n",
    "    def set_discount(self, discount):\n",
    "        self.discount = discount\n",
    "\n",
    "    def net_price(self):\n",
    "        return self.price * (1 - self.discount)\n",
    "\n",
    "\n",
    "p1 = Product(100)\n",
    "print(p1.net_price())\n",
    " # 100\n",
    "\n",
    "p2 = Product(200)\n",
    "p2.set_discount(0.05)\n",
    "print(p2.net_price())\n",
    " # 190"
   ]
  },
  {
   "cell_type": "markdown",
   "metadata": {},
   "source": [
    "### **Python Static Methods**\n",
    "#### **Introduction to Python static methods**\n",
    "* So far, you have learned about instance methods that are bound to a specific instance. It means that instance methods can access and modify the state of the bound object.\n",
    "\n",
    "* Also, you learned about class methods that are bound to a class. The class methods can access and modify the class state.\n",
    "\n",
    "* Unlike instance methods, static methods aren’t bound to an object. In other words, static methods cannot access and modify an object state.\n",
    "\n",
    "* In addition, Python doesn’t implicitly pass the cls parameter (or the self parameter) to static methods. Therefore, static methods cannot access and modify the class’s state.\n",
    "\n",
    "* In practice, you use static methods to define utility methods or group functions that have some logical relationships in a class.\n",
    "\n",
    "* To define a static method, you use the @staticmethod decorator:"
   ]
  },
  {
   "cell_type": "code",
   "execution_count": 95,
   "metadata": {},
   "outputs": [],
   "source": [
    "class className:\n",
    "    @staticmethod\n",
    "    def static_method_name(param_list):\n",
    "        pass"
   ]
  },
  {
   "attachments": {
    "image-2.png": {
     "image/png": "[encoded data removed]"
    },
    "image.png": {
     "image/png": "[encoded data removed]"
    }
   },
   "cell_type": "markdown",
   "metadata": {},
   "source": [
    "* To call a static method, you use this syntax:\n",
    "![image.png](attachment:image.png)\n",
    "### **Python static methods vs class methods**\n",
    "* Since static methods are quite similar to the class methods, you can use the following to find the differences between them:\n",
    "![image-2.png](attachment:image-2.png)\n",
    "* Python static method examples\n",
    "    * The following defines a class called TemperatureConverter that has static methods for converting temperatures between Celsius, Fahrenheit, and Kelvin:"
   ]
  },
  {
   "cell_type": "code",
   "execution_count": 96,
   "metadata": {},
   "outputs": [],
   "source": [
    "class TemperatureConverter:\n",
    "    KEVIN = 'K',\n",
    "    FAHRENHEIT = 'F'\n",
    "    CELSIUS = 'C'\n",
    "\n",
    "    @staticmethod\n",
    "    def celsius_to_fahrenheit(c):\n",
    "        return 9*c/5 + 32\n",
    "\n",
    "    @staticmethod\n",
    "    def fahrenheit_to_celsius(f):\n",
    "        return 5*(f-32)/9\n",
    "\n",
    "    @staticmethod\n",
    "    def celsius_to_kelvin(c):\n",
    "        return c + 273.15\n",
    "\n",
    "    @staticmethod\n",
    "    def kelvin_to_celsius(k):\n",
    "        return k - 273.15\n",
    "\n",
    "    @staticmethod\n",
    "    def fahrenheit_to_kelvin(f):\n",
    "        return 5*(f+459.67)/9\n",
    "\n",
    "    @staticmethod\n",
    "    def kelvin_to_fahrenheit(k):\n",
    "        return 9*k/5 - 459.67\n",
    "\n",
    "    @staticmethod\n",
    "    def format(value, unit):\n",
    "        symbol = ''\n",
    "        if unit == TemperatureConverter.FAHRENHEIT:\n",
    "            symbol = '°F'\n",
    "        elif unit == TemperatureConverter.CELSIUS:\n",
    "            symbol = '°C'\n",
    "        elif unit == TemperatureConverter.KEVIN:\n",
    "            symbol = '°K'\n",
    "\n",
    "        return f'{value}{symbol}'\n"
   ]
  },
  {
   "cell_type": "code",
   "execution_count": 97,
   "metadata": {},
   "outputs": [
    {
     "name": "stdout",
     "output_type": "stream",
     "text": [
      "95.0°F\n"
     ]
    }
   ],
   "source": [
    "#And to call the TemperatureConverter class, you use the following:\n",
    "f = TemperatureConverter.celsius_to_fahrenheit(35)\n",
    "print(TemperatureConverter.format(f, TemperatureConverter.FAHRENHEIT))\n"
   ]
  },
  {
   "cell_type": "markdown",
   "metadata": {},
   "source": [
    "## **Special methods**\n",
    "### **Python __str__**\n",
    "* Let’s start with the Person class:"
   ]
  },
  {
   "cell_type": "code",
   "execution_count": 98,
   "metadata": {},
   "outputs": [],
   "source": [
    "class Person:\n",
    "    def __init__(self, first_name, last_name, age):\n",
    "        self.first_name = first_name\n",
    "        self.last_name = last_name\n",
    "        self.age = age"
   ]
  },
  {
   "cell_type": "markdown",
   "metadata": {},
   "source": [
    "* The Person class has three instance attributes including first_name, last_name, and age.\n",
    "\n",
    "* The following creates a new instance of the Person class and display it:"
   ]
  },
  {
   "cell_type": "code",
   "execution_count": 99,
   "metadata": {},
   "outputs": [
    {
     "name": "stdout",
     "output_type": "stream",
     "text": [
      "<__main__.Person object at 0x00000162D9567040>\n"
     ]
    }
   ],
   "source": [
    "person = Person('John', 'Doe', 25)\n",
    "print(person)"
   ]
  },
  {
   "cell_type": "markdown",
   "metadata": {},
   "source": [
    "* When you use the print() function to display the instance of the Person class, the print() function shows the memory address of that instance.\n",
    "\n",
    "* Sometimes, it’s useful to have a string representation of an instance of a class. To customize the string representation of a class instance, the class needs to implement the __str__ magic method.\n",
    "\n",
    "* Internally, Python will call the __str__ method automatically when an instance calls the str() method.\n",
    "\n",
    "* Note that the print() function converts all non-keyword arguments to strings by passing them to the str() before displaying the string values.\n",
    "\n",
    "* The following illustrates how to implement the __str__ method in the Person class:"
   ]
  },
  {
   "cell_type": "code",
   "execution_count": 100,
   "metadata": {},
   "outputs": [],
   "source": [
    "class Person:\n",
    "    def __init__(self, first_name, last_name, age):\n",
    "        self.first_name = first_name\n",
    "        self.last_name = last_name\n",
    "        self.age = age\n",
    "\n",
    "    def __str__(self):\n",
    "        return f'Person({self.first_name},{self.last_name},{self.age})'"
   ]
  },
  {
   "cell_type": "markdown",
   "metadata": {},
   "source": [
    "* And when you use the print() function to print out an instance of the Person class, Python calls the __str__ method defined in the Person class. For example:"
   ]
  },
  {
   "cell_type": "code",
   "execution_count": 101,
   "metadata": {},
   "outputs": [
    {
     "name": "stdout",
     "output_type": "stream",
     "text": [
      "Person(John,Doe,25)\n"
     ]
    }
   ],
   "source": [
    "person = Person('John', 'Doe', 25)\n",
    "print(person)"
   ]
  },
  {
   "cell_type": "markdown",
   "metadata": {},
   "source": [
    "### **Python __repr__**\n",
    "#### **Introduction to the Python __repr__ magic method**\n",
    "* The __repr__ dunder method defines behavior when you pass an instance of a class to the repr().\n",
    "\n",
    "* The __repr__ method returns the string representation of an object. Typically, the __repr__() returns a string that can be executed and yield the same value as the object.\n",
    "\n",
    "* In other words, if you pass the returned string of the object_name.__repr__() method to the eval() function, you’ll get the same value as the object_name. Let’s take a look at an example.\n",
    "\n",
    "* First, define the Person class with three instance attributes first_name, last_name, and age:"
   ]
  },
  {
   "cell_type": "code",
   "execution_count": 102,
   "metadata": {},
   "outputs": [],
   "source": [
    "class Person:\n",
    "    def __init__(self, first_name, last_name, age):\n",
    "        self.first_name = first_name\n",
    "        self.last_name = last_name\n",
    "        self.age = age"
   ]
  },
  {
   "cell_type": "markdown",
   "metadata": {},
   "source": [
    "* Second, create a new instance of the Person class and display its string representation:"
   ]
  },
  {
   "cell_type": "code",
   "execution_count": 103,
   "metadata": {},
   "outputs": [
    {
     "name": "stdout",
     "output_type": "stream",
     "text": [
      "<__main__.Person object at 0x00000162D9566EF0>\n"
     ]
    }
   ],
   "source": [
    "person = Person('John', 'Doe', 25)\n",
    "print(repr(person))"
   ]
  },
  {
   "cell_type": "markdown",
   "metadata": {},
   "source": [
    "* By default, the output contains the memory address of the person object. To customize the string representation of the object, you can implement the __repr__ method like this:"
   ]
  },
  {
   "cell_type": "code",
   "execution_count": 104,
   "metadata": {},
   "outputs": [],
   "source": [
    "class Person:\n",
    "    def __init__(self, first_name, last_name, age):\n",
    "        self.first_name = first_name\n",
    "        self.last_name = last_name\n",
    "        self.age = age\n",
    "\n",
    "    def __repr__(self):\n",
    "        return f'Person(\"{self.first_name}\",\"{self.last_name}\",{self.age})'"
   ]
  },
  {
   "cell_type": "markdown",
   "metadata": {},
   "source": [
    "* When you pass an instance of the Person class to the repr(), Python will call the __repr__ method automatically. For example:"
   ]
  },
  {
   "cell_type": "code",
   "execution_count": 105,
   "metadata": {},
   "outputs": [
    {
     "name": "stdout",
     "output_type": "stream",
     "text": [
      "Person(\"John\",\"Doe\",25)\n"
     ]
    }
   ],
   "source": [
    "person = Person(\"John\", \"Doe\", 25)\n",
    "print(repr(person))"
   ]
  },
  {
   "cell_type": "markdown",
   "metadata": {},
   "source": [
    "* If you execute the return string Person(\"John\",\"Doe\",25), it’ll return the person object.\n",
    "\n",
    "* When a class doesn’t implement the __str__ method and you pass an instance of that class to the str(), Python returns the result of the __repr__ method because internally the __str__ method calls the __repr__ method:"
   ]
  },
  {
   "cell_type": "code",
   "execution_count": 106,
   "metadata": {},
   "outputs": [
    {
     "name": "stdout",
     "output_type": "stream",
     "text": [
      "Person(\"John\",\"Doe\",25)\n"
     ]
    }
   ],
   "source": [
    "#For example:\n",
    "person = Person('John', 'Doe', 25)\n",
    "print(person)"
   ]
  },
  {
   "cell_type": "markdown",
   "metadata": {},
   "source": [
    "* If a class implements the __str__ method, Python will call the __str__ method when you pass an instance of the class to the str(). For example:"
   ]
  },
  {
   "cell_type": "code",
   "execution_count": 107,
   "metadata": {},
   "outputs": [
    {
     "name": "stdout",
     "output_type": "stream",
     "text": [
      "(John,Doe,25)\n",
      "Person(\"John\",\"Doe\",25)\n"
     ]
    }
   ],
   "source": [
    "class Person:\n",
    "    def __init__(self, first_name, last_name, age):\n",
    "        self.first_name = first_name\n",
    "        self.last_name = last_name\n",
    "        self.age = age\n",
    "\n",
    "    def __repr__(self):\n",
    "        return f'Person(\"{self.first_name}\",\"{self.last_name}\",{self.age})'\n",
    "\n",
    "    def __str__(self):\n",
    "        return f'({self.first_name},{self.last_name},{self.age})'\n",
    "\n",
    "\n",
    "person = Person('John', 'Doe', 25)\n",
    "# use str()\n",
    "print(person)\n",
    "\n",
    "# use repr()\n",
    "print(repr(person))\n"
   ]
  },
  {
   "cell_type": "markdown",
   "metadata": {},
   "source": [
    "#### **__str__ vs __repr__**\n",
    "* The main difference between __str__ and __repr__ method is intended audiences.\n",
    "\n",
    "* The __str__ method returns a string representation of an object that is human-readable while the __repr__ method returns a string representation of an object that is machine-readable.\n",
    "\n",
    "### **Python __eq__**\n",
    "* Suppose that you have the following Person class with three instance attributes: first_name, last_name, and age:"
   ]
  },
  {
   "cell_type": "code",
   "execution_count": 108,
   "metadata": {},
   "outputs": [],
   "source": [
    "class Person:\n",
    "    def __init__(self, first_name, last_name, age):\n",
    "        self.first_name = first_name\n",
    "        self.last_name = last_name\n",
    "        self.age = age"
   ]
  },
  {
   "cell_type": "code",
   "execution_count": 109,
   "metadata": {},
   "outputs": [],
   "source": [
    "#And you create two instances of the Person class:\n",
    "john = Person('John', 'Doe', 25)\n",
    "jane = Person('Jane', 'Doe', 25)"
   ]
  },
  {
   "cell_type": "markdown",
   "metadata": {},
   "source": [
    "* In this example, the john and jane objects are not the same object. And you can check it using the is operator:"
   ]
  },
  {
   "cell_type": "code",
   "execution_count": 110,
   "metadata": {},
   "outputs": [
    {
     "name": "stdout",
     "output_type": "stream",
     "text": [
      "False\n"
     ]
    }
   ],
   "source": [
    "print(john is jane)  # False"
   ]
  },
  {
   "cell_type": "markdown",
   "metadata": {},
   "source": [
    "* Also, when you compare john with jane using the equal operator (==), you’ll get the result of False:"
   ]
  },
  {
   "cell_type": "code",
   "execution_count": 111,
   "metadata": {},
   "outputs": [
    {
     "name": "stdout",
     "output_type": "stream",
     "text": [
      "False\n"
     ]
    }
   ],
   "source": [
    "print(john == jane) # False"
   ]
  },
  {
   "cell_type": "markdown",
   "metadata": {},
   "source": [
    "* Since john and jane have the same age, you want them to be equal. In other words, you want the following expression to return True:"
   ]
  },
  {
   "cell_type": "code",
   "execution_count": 112,
   "metadata": {},
   "outputs": [
    {
     "data": {
      "text/plain": [
       "False"
      ]
     },
     "execution_count": 112,
     "metadata": {},
     "output_type": "execute_result"
    }
   ],
   "source": [
    "john == jane"
   ]
  },
  {
   "cell_type": "markdown",
   "metadata": {},
   "source": [
    "* To do it, you can implement the __eq__ dunder method in the Person class.\n",
    "\n",
    "* Python automatically calls the __eq__ method of a class when you use the == operator to compare the instances of the class. By default, Python uses the is operator if you don’t provide a specific implementation for the __eq__ method.\n",
    "\n",
    "* The following shows how to implement the __eq__ method in the Person class that returns True if two person objects have the same age:"
   ]
  },
  {
   "cell_type": "code",
   "execution_count": 113,
   "metadata": {},
   "outputs": [],
   "source": [
    "class Person:\n",
    "    def __init__(self, first_name, last_name, age):\n",
    "        self.first_name = first_name\n",
    "        self.last_name = last_name\n",
    "        self.age = age\n",
    "\n",
    "    def __eq__(self, other):\n",
    "        return self.age == other.age"
   ]
  },
  {
   "cell_type": "code",
   "execution_count": 114,
   "metadata": {},
   "outputs": [
    {
     "name": "stdout",
     "output_type": "stream",
     "text": [
      "True\n"
     ]
    }
   ],
   "source": [
    "#Now, if you compare two instances of the Person class with the same age, it returns True:\n",
    "john = Person('John', 'Doe', 25)\n",
    "jane = Person('Jane', 'Doe', 25)\n",
    "print(john == jane)  # True"
   ]
  },
  {
   "cell_type": "code",
   "execution_count": 115,
   "metadata": {},
   "outputs": [
    {
     "name": "stdout",
     "output_type": "stream",
     "text": [
      "False\n"
     ]
    }
   ],
   "source": [
    "#And if two instances of the Person class don’t have the same age, the == operator returns False:\n",
    "john = Person('John', 'Doe', 25)\n",
    "mary = Person('Mary', 'Doe', 27)\n",
    "print(john == mary)  # False"
   ]
  },
  {
   "cell_type": "code",
   "execution_count": 116,
   "metadata": {},
   "outputs": [
    {
     "ename": "AttributeError",
     "evalue": "'int' object has no attribute 'age'",
     "output_type": "error",
     "traceback": [
      "\u001b[1;31m---------------------------------------------------------------------------\u001b[0m",
      "\u001b[1;31mAttributeError\u001b[0m                            Traceback (most recent call last)",
      "Input \u001b[1;32mIn [116]\u001b[0m, in \u001b[0;36m<cell line: 3>\u001b[1;34m()\u001b[0m\n\u001b[0;32m      1\u001b[0m \u001b[38;5;66;03m#The following compares a Person object with an integer:\u001b[39;00m\n\u001b[0;32m      2\u001b[0m john \u001b[38;5;241m=\u001b[39m Person(\u001b[38;5;124m'\u001b[39m\u001b[38;5;124mJohn\u001b[39m\u001b[38;5;124m'\u001b[39m, \u001b[38;5;124m'\u001b[39m\u001b[38;5;124mDoe\u001b[39m\u001b[38;5;124m'\u001b[39m, \u001b[38;5;241m25\u001b[39m)\n\u001b[1;32m----> 3\u001b[0m \u001b[38;5;28mprint\u001b[39m(\u001b[43mjohn\u001b[49m\u001b[43m \u001b[49m\u001b[38;5;241;43m==\u001b[39;49m\u001b[43m \u001b[49m\u001b[38;5;241;43m20\u001b[39;49m)\n",
      "Input \u001b[1;32mIn [113]\u001b[0m, in \u001b[0;36mPerson.__eq__\u001b[1;34m(self, other)\u001b[0m\n\u001b[0;32m      7\u001b[0m \u001b[38;5;28;01mdef\u001b[39;00m \u001b[38;5;21m__eq__\u001b[39m(\u001b[38;5;28mself\u001b[39m, other):\n\u001b[1;32m----> 8\u001b[0m     \u001b[38;5;28;01mreturn\u001b[39;00m \u001b[38;5;28mself\u001b[39m\u001b[38;5;241m.\u001b[39mage \u001b[38;5;241m==\u001b[39m \u001b[43mother\u001b[49m\u001b[38;5;241;43m.\u001b[39;49m\u001b[43mage\u001b[49m\n",
      "\u001b[1;31mAttributeError\u001b[0m: 'int' object has no attribute 'age'"
     ]
    }
   ],
   "source": [
    "#The following compares a Person object with an integer:\n",
    "john = Person('John', 'Doe', 25)\n",
    "print(john == 20)"
   ]
  },
  {
   "cell_type": "markdown",
   "metadata": {},
   "source": [
    "* To fix this, you can modify the __eq__ method to check if the object is an instance of the Person class before accessing the age attribute.\n",
    "\n",
    "* If the other object isn’t an instance of the Person class, the __eq__ method returns False, like this:"
   ]
  },
  {
   "cell_type": "code",
   "execution_count": 117,
   "metadata": {},
   "outputs": [],
   "source": [
    "class Person:\n",
    "    def __init__(self, first_name, last_name, age):\n",
    "        self.first_name = first_name\n",
    "        self.last_name = last_name\n",
    "        self.age = age\n",
    "\n",
    "    def __eq__(self, other):\n",
    "        if isinstance(other, Person):\n",
    "            return self.age == other.age\n",
    "\n",
    "        return False"
   ]
  },
  {
   "cell_type": "markdown",
   "metadata": {},
   "source": [
    "* And you can now compare an instance of the Person class with an integer or any object of a different type:"
   ]
  },
  {
   "cell_type": "code",
   "execution_count": 118,
   "metadata": {},
   "outputs": [
    {
     "name": "stdout",
     "output_type": "stream",
     "text": [
      "False\n"
     ]
    }
   ],
   "source": [
    "john = Person('John', 'Doe', 25)\n",
    "print(john == 20)  # False"
   ]
  },
  {
   "cell_type": "code",
   "execution_count": 119,
   "metadata": {},
   "outputs": [
    {
     "name": "stdout",
     "output_type": "stream",
     "text": [
      "True\n",
      "False\n",
      "False\n"
     ]
    }
   ],
   "source": [
    "#Putting it all together.\n",
    "class Person:\n",
    "    def __init__(self, first_name, last_name, age):\n",
    "        self.first_name = first_name\n",
    "        self.last_name = last_name\n",
    "        self.age = age\n",
    "\n",
    "    def __eq__(self, other):\n",
    "        if isinstance(other, Person):\n",
    "            return self.age == other.age\n",
    "\n",
    "        return False\n",
    "\n",
    "\n",
    "john = Person('John', 'Doe', 25)\n",
    "jane = Person('Jane', 'Doe', 25)\n",
    "mary = Person('Mary', 'Doe', 27)\n",
    "\n",
    "print(john == jane)  # True\n",
    "print(john == mary)  # False\n",
    "\n",
    "\n",
    "john = Person('John', 'Doe', 25)\n",
    "print(john == 20)  # False"
   ]
  },
  {
   "cell_type": "markdown",
   "metadata": {},
   "source": [
    "### **Python __hash__**\n",
    "* Let’s start with a simple example. First, define the Person class with the name and age attributes:"
   ]
  },
  {
   "cell_type": "code",
   "execution_count": 120,
   "metadata": {},
   "outputs": [],
   "source": [
    "class Person:\n",
    "    def __init__(self, name, age):\n",
    "        self.name = name\n",
    "        self.age = age"
   ]
  },
  {
   "cell_type": "code",
   "execution_count": 121,
   "metadata": {},
   "outputs": [],
   "source": [
    "#Second, create two instances of the Person class:\n",
    "p1 = Person('John', 22)\n",
    "p2 = Person('Jane', 22)"
   ]
  },
  {
   "cell_type": "code",
   "execution_count": 122,
   "metadata": {},
   "outputs": [
    {
     "name": "stdout",
     "output_type": "stream",
     "text": [
      "95254039444\n",
      "95254038961\n"
     ]
    }
   ],
   "source": [
    "#Third, show the hashes of the p1 and p2 objects:\n",
    "print(hash(p1))\n",
    "print(hash(p2))"
   ]
  },
  {
   "cell_type": "markdown",
   "metadata": {},
   "source": [
    "* The hash() function accepts an object and returns the hash value as an integer. When you pass an object to the hash() function, Python will execute the __hash__ special method of the object.\n",
    "\n",
    "* It means that when you pass the p1 object to the hash() function:"
   ]
  },
  {
   "cell_type": "code",
   "execution_count": 123,
   "metadata": {},
   "outputs": [
    {
     "data": {
      "text/plain": [
       "95254039444"
      ]
     },
     "execution_count": 123,
     "metadata": {},
     "output_type": "execute_result"
    }
   ],
   "source": [
    "hash(p1)"
   ]
  },
  {
   "cell_type": "markdown",
   "metadata": {},
   "source": [
    "* Python will call the __hash__ method of the p1 object:"
   ]
  },
  {
   "cell_type": "code",
   "execution_count": 124,
   "metadata": {},
   "outputs": [
    {
     "data": {
      "text/plain": [
       "95254039444"
      ]
     },
     "execution_count": 124,
     "metadata": {},
     "output_type": "execute_result"
    }
   ],
   "source": [
    "p1.__hash__()"
   ]
  },
  {
   "cell_type": "markdown",
   "metadata": {},
   "source": [
    "* By default, the __hash__ uses the object’s identity and the __eq__ returns True if two objects are the same. To override this default behavior, you can implement the __eq__ and __hash__.\n",
    "\n",
    "* If a class overrides the __eq__ method, the objects of the class become unhashable. This means that you won’t able to use the objects in a mapping type. For example, you will not able to use them as keys in a dictionary or elements in a set.\n",
    "\n",
    "* The following Person class implements the __eq__ method:"
   ]
  },
  {
   "cell_type": "code",
   "execution_count": 125,
   "metadata": {},
   "outputs": [],
   "source": [
    "class Person:\n",
    "    def __init__(self, name, age):\n",
    "        self.name = name\n",
    "        self.age = age\n",
    "\n",
    "    def __eq__(self, other):\n",
    "        return isinstance(other, Person) and self.age == other.age"
   ]
  },
  {
   "cell_type": "code",
   "execution_count": 127,
   "metadata": {},
   "outputs": [
    {
     "ename": "TypeError",
     "evalue": "unhashable type: 'Person'",
     "output_type": "error",
     "traceback": [
      "\u001b[1;31m---------------------------------------------------------------------------\u001b[0m",
      "\u001b[1;31mTypeError\u001b[0m                                 Traceback (most recent call last)",
      "Input \u001b[1;32mIn [127]\u001b[0m, in \u001b[0;36m<cell line: 3>\u001b[1;34m()\u001b[0m\n\u001b[0;32m      1\u001b[0m \u001b[38;5;66;03m#If you attempt to use the Person object in a set, you’ll get an error. For example:\u001b[39;00m\n\u001b[1;32m----> 2\u001b[0m members \u001b[38;5;241m=\u001b[39m {\n\u001b[0;32m      3\u001b[0m     Person(\u001b[38;5;124m'\u001b[39m\u001b[38;5;124mJohn\u001b[39m\u001b[38;5;124m'\u001b[39m, \u001b[38;5;241m22\u001b[39m),\n\u001b[0;32m      4\u001b[0m     Person(\u001b[38;5;124m'\u001b[39m\u001b[38;5;124mJane\u001b[39m\u001b[38;5;124m'\u001b[39m, \u001b[38;5;241m22\u001b[39m)\n\u001b[0;32m      5\u001b[0m }\n",
      "\u001b[1;31mTypeError\u001b[0m: unhashable type: 'Person'"
     ]
    }
   ],
   "source": [
    "#If you attempt to use the Person object in a set, you’ll get an error. For example:\n",
    "members = {\n",
    "    Person('John', 22),\n",
    "    Person('Jane', 22)\n",
    "}\n"
   ]
  },
  {
   "cell_type": "code",
   "execution_count": 128,
   "metadata": {},
   "outputs": [
    {
     "ename": "TypeError",
     "evalue": "unhashable type: 'Person'",
     "output_type": "error",
     "traceback": [
      "\u001b[1;31m---------------------------------------------------------------------------\u001b[0m",
      "\u001b[1;31mTypeError\u001b[0m                                 Traceback (most recent call last)",
      "Input \u001b[1;32mIn [128]\u001b[0m, in \u001b[0;36m<cell line: 2>\u001b[1;34m()\u001b[0m\n\u001b[0;32m      1\u001b[0m \u001b[38;5;66;03m#Also, the Person’s object loses hashing because if you implement __eq__, the __hash__ is set to None. For example:\u001b[39;00m\n\u001b[1;32m----> 2\u001b[0m \u001b[38;5;28;43mhash\u001b[39;49m\u001b[43m(\u001b[49m\u001b[43mPerson\u001b[49m\u001b[43m(\u001b[49m\u001b[38;5;124;43m'\u001b[39;49m\u001b[38;5;124;43mJohn\u001b[39;49m\u001b[38;5;124;43m'\u001b[39;49m\u001b[43m,\u001b[49m\u001b[43m \u001b[49m\u001b[38;5;241;43m22\u001b[39;49m\u001b[43m)\u001b[49m\u001b[43m)\u001b[49m\n",
      "\u001b[1;31mTypeError\u001b[0m: unhashable type: 'Person'"
     ]
    }
   ],
   "source": [
    "#Also, the Person’s object loses hashing because if you implement __eq__, the __hash__ is set to None. For example:\n",
    "hash(Person('John', 22))"
   ]
  },
  {
   "cell_type": "code",
   "execution_count": 129,
   "metadata": {},
   "outputs": [],
   "source": [
    "#To make the Person class hashable, you also need to implement the __hash__ method:\n",
    "class Person:\n",
    "    def __init__(self, name, age):\n",
    "        self.name = name\n",
    "        self.age = age\n",
    "\n",
    "    def __eq__(self, other):\n",
    "        return isinstance(other, Person) and self.age == other.age\n",
    "\n",
    "    def __hash__(self):\n",
    "        return hash(self.age)"
   ]
  },
  {
   "cell_type": "markdown",
   "metadata": {},
   "source": [
    "* Now, you have the Person class that supports equality based on age and is hashable.\n",
    "\n",
    "* To make the Person work well in data structures like dictionaries, the hash of the class should remain immutable. To do it, you can make the age attribute of the Person class a read-only property:"
   ]
  },
  {
   "cell_type": "code",
   "execution_count": 130,
   "metadata": {},
   "outputs": [],
   "source": [
    "class Person:\n",
    "    def __init__(self, name, age):\n",
    "        self.name = name\n",
    "        self._age = age\n",
    "\n",
    "    @property\n",
    "    def age(self):\n",
    "        return self._age\n",
    "\n",
    "    def __eq__(self, other):\n",
    "        return isinstance(other, Person) and self.age == other.age\n",
    "\n",
    "    def __hash__(self):\n",
    "        return hash(self.age)"
   ]
  },
  {
   "cell_type": "markdown",
   "metadata": {},
   "source": [
    "### **Python __bool__**\n",
    "* An object of a custom class is associated with a boolean value. By default, it evaluates to True. For example:"
   ]
  },
  {
   "cell_type": "code",
   "execution_count": 131,
   "metadata": {},
   "outputs": [],
   "source": [
    "class Person:\n",
    "    def __init__(self, name, age):\n",
    "        self.name = name\n",
    "        self.age = age\n",
    "\n",
    "\n",
    "if __name__ == '__main__':\n",
    "    person = Person('John', 25)"
   ]
  },
  {
   "cell_type": "markdown",
   "metadata": {},
   "source": [
    "* In this example, we define the Person class, instantiate an object, and show its boolean value. As expected, the person object is True.\n",
    "\n",
    "* To override this default behavior, you implement the __bool__ special method. The __bool__ method must return a boolean value, True or False.\n",
    "\n",
    "* For example, suppose that you want the person object to evaluate False if the age of a person is under 18 or above 65:"
   ]
  },
  {
   "cell_type": "code",
   "execution_count": 132,
   "metadata": {},
   "outputs": [
    {
     "name": "stdout",
     "output_type": "stream",
     "text": [
      "False\n"
     ]
    }
   ],
   "source": [
    "class Person:\n",
    "    def __init__(self, name, age):\n",
    "        self.name = name\n",
    "        self.age = age\n",
    "\n",
    "    def __bool__(self):\n",
    "        if self.age < 18 or self.age > 65:\n",
    "            return False\n",
    "        return True\n",
    "\n",
    "\n",
    "if __name__ == '__main__':\n",
    "    person = Person('Jane', 16)\n",
    "    print(bool(person))  # False"
   ]
  },
  {
   "cell_type": "markdown",
   "metadata": {},
   "source": [
    "* In this example, the __bool__ method returns False if the age is less than 18 or greater than 65. Otherwise, it returns True. The person object has the age value of 16 therefore it returns False in this case.\n",
    "\n",
    "#### **The __len__ method**\n",
    "* If a custom class doesn’t have the __bool__ method, Python will look for the __len__() method. If the __len__ is zero, the object is False. Otherwise, it’s True.\n",
    "\n",
    "* If a class doesn’t implement the __bool__ and __len__ methods, the objects of the class will evaluate to True.\n",
    "\n",
    "* The following defines a Payroll class that doesn’t implement __bool__ but the __len__ method:"
   ]
  },
  {
   "cell_type": "code",
   "execution_count": 133,
   "metadata": {},
   "outputs": [
    {
     "name": "stdout",
     "output_type": "stream",
     "text": [
      "len was called...\n",
      "False\n",
      "len was called...\n",
      "True\n"
     ]
    }
   ],
   "source": [
    "class Payroll:\n",
    "    def __init__(self, length):\n",
    "        self.length = length\n",
    "\n",
    "    def __len__(self):\n",
    "        print('len was called...')\n",
    "        return self.length\n",
    "\n",
    "\n",
    "if __name__ == '__main__':\n",
    "    payroll = Payroll(0)\n",
    "    print(bool(payroll))  # False\n",
    "\n",
    "    payroll.length = 10\n",
    "    print(bool(payroll))  # True"
   ]
  },
  {
   "cell_type": "markdown",
   "metadata": {},
   "source": [
    "* Since the Payroll class doesn’t override the __bool__ method, Python looks for the __len__ method when evaluating the Payroll’s objects to a boolean value.\n",
    "\n",
    "* In the following example payroll’s __len__ returns 0, which is False:"
   ]
  },
  {
   "cell_type": "code",
   "execution_count": 134,
   "metadata": {},
   "outputs": [
    {
     "name": "stdout",
     "output_type": "stream",
     "text": [
      "len was called...\n",
      "False\n"
     ]
    }
   ],
   "source": [
    "payroll = Payroll(0)\n",
    "print(bool(payroll))  # False"
   ]
  },
  {
   "cell_type": "code",
   "execution_count": 135,
   "metadata": {},
   "outputs": [
    {
     "name": "stdout",
     "output_type": "stream",
     "text": [
      "len was called...\n",
      "True\n"
     ]
    }
   ],
   "source": [
    "#However, the following example __len__ returns 10 which is True:\n",
    "payroll.length = 10\n",
    "print(bool(payroll))  # True"
   ]
  },
  {
   "cell_type": "markdown",
   "metadata": {},
   "source": [
    "### **Python __del__**\n",
    "* In Python, the garbage collector manages memory automatically. The garbage collector will destroy the objects that are not referenced.\n",
    "\n",
    "* If an object implements the __del__ method, Python calls the __del__ method right before the garbage collector destroys the object.\n",
    "\n",
    "* However, the garbage collector determines when to destroy the object. Therefore, it determines when the __del__ method will be called.\n",
    "\n",
    "* The __del__ is sometimes referred to as a class finalizer. Note that __del__ is not the destructor because the garbage collector destroys the object, not the __del__ method.\n",
    "\n",
    "#### **The Python __del__ pitfalls**\n",
    "* Python calls the __del__ method when all object references are gone. And you cannot control it in most cases.\n",
    "\n",
    "* Therefore, you should not use the __del__ method to clean up the resources. It’s recommended to use the context manager.\n",
    "\n",
    "* If the __del__ contains references to objects, the garbage collector will also destroy these objects when the __del__ is called.\n",
    "\n",
    "* If the __del__ references the global objects, it may create unexpected behaviors.\n",
    "\n",
    "* If an exception occurs inside the __del__ method, Python does not raise the exception but keeps it silent.\n",
    "\n",
    "* Also, Python sends the exception message to the stderr. Therefore, the main program will be able to be aware of the exceptions during the finalization.\n",
    "\n",
    "* In practice, you’ll rarely use the __del__ method.\n",
    "\n",
    "* Python __del__ example\n",
    "    * The following defines a Person class with the special __del__ method, create a new instance of the Person, and set it to None:"
   ]
  },
  {
   "cell_type": "code",
   "execution_count": 136,
   "metadata": {},
   "outputs": [
    {
     "name": "stdout",
     "output_type": "stream",
     "text": [
      "__del__ was called\n"
     ]
    }
   ],
   "source": [
    "class Person:\n",
    "    def __init__(self, name, age):\n",
    "        self.name = name\n",
    "        self.age = age\n",
    "\n",
    "    def __del__(self):\n",
    "        print('__del__ was called')\n",
    "\n",
    "\n",
    "if __name__ == '__main__':\n",
    "    person = Person('John Doe', 23)\n",
    "    person = None"
   ]
  },
  {
   "cell_type": "markdown",
   "metadata": {},
   "source": [
    "* When we set the person object to None, the garbage collector destroys it because there is no reference. Therefore, the __del__ method was called.\n",
    "\n",
    "* If you use the del keyword to delete the person object, the __del__ method is also called:"
   ]
  },
  {
   "cell_type": "code",
   "execution_count": 137,
   "metadata": {},
   "outputs": [
    {
     "name": "stdout",
     "output_type": "stream",
     "text": [
      "__del__ was called\n"
     ]
    }
   ],
   "source": [
    "person = Person('John Doe', 23)\n",
    "del person"
   ]
  },
  {
   "cell_type": "markdown",
   "metadata": {},
   "source": [
    "* However, the del statement doesn’t cause a call to the __del__ method if the object has a reference."
   ]
  },
  {
   "cell_type": "markdown",
   "metadata": {},
   "source": [
    "## **Property**\n",
    "### **Introduction to class properties**\n",
    "* The following defines a Person class that has two attributes name and age, and create a new instance of the Person class:"
   ]
  },
  {
   "cell_type": "code",
   "execution_count": 1,
   "metadata": {},
   "outputs": [],
   "source": [
    "class Person:\n",
    "    def __init__(self, name, age):\n",
    "        self.name = name\n",
    "        self.age = age\n",
    "\n",
    "\n",
    "john = Person('John', 18)"
   ]
  },
  {
   "cell_type": "code",
   "execution_count": 2,
   "metadata": {},
   "outputs": [],
   "source": [
    "#Since age is the instance attribute of the Person class, you can assign it a new value like this:\n",
    "john.age = 19"
   ]
  },
  {
   "cell_type": "code",
   "execution_count": 3,
   "metadata": {},
   "outputs": [],
   "source": [
    "#The following assignment is also technically valid:\n",
    "john.age = -1"
   ]
  },
  {
   "cell_type": "markdown",
   "metadata": {},
   "source": [
    "* However, the age is semantically incorrect.\n",
    "\n",
    "* To ensure that the age is not zero or negative, you use the if statement to add a check as follows:"
   ]
  },
  {
   "cell_type": "code",
   "execution_count": 4,
   "metadata": {},
   "outputs": [
    {
     "ename": "ValueError",
     "evalue": "The age must be positive",
     "output_type": "error",
     "traceback": [
      "\u001b[1;31m---------------------------------------------------------------------------\u001b[0m",
      "\u001b[1;31mValueError\u001b[0m                                Traceback (most recent call last)",
      "Input \u001b[1;32mIn [4]\u001b[0m, in \u001b[0;36m<cell line: 2>\u001b[1;34m()\u001b[0m\n\u001b[0;32m      1\u001b[0m age \u001b[38;5;241m=\u001b[39m \u001b[38;5;241m-\u001b[39m\u001b[38;5;241m1\u001b[39m\n\u001b[0;32m      2\u001b[0m \u001b[38;5;28;01mif\u001b[39;00m age \u001b[38;5;241m<\u001b[39m\u001b[38;5;241m=\u001b[39m \u001b[38;5;241m0\u001b[39m:\n\u001b[1;32m----> 3\u001b[0m     \u001b[38;5;28;01mraise\u001b[39;00m \u001b[38;5;167;01mValueError\u001b[39;00m(\u001b[38;5;124m'\u001b[39m\u001b[38;5;124mThe age must be positive\u001b[39m\u001b[38;5;124m'\u001b[39m)\n\u001b[0;32m      4\u001b[0m \u001b[38;5;28;01melse\u001b[39;00m:\n\u001b[0;32m      5\u001b[0m     john\u001b[38;5;241m.\u001b[39mage \u001b[38;5;241m=\u001b[39m age\n",
      "\u001b[1;31mValueError\u001b[0m: The age must be positive"
     ]
    }
   ],
   "source": [
    "age = -1\n",
    "if age <= 0:\n",
    "    raise ValueError('The age must be positive')\n",
    "else:\n",
    "    john.age = age"
   ]
  },
  {
   "cell_type": "markdown",
   "metadata": {},
   "source": [
    "* And you need to do this every time you want to assign a value to the age attribute. This is repetitive and difficult to maintain.\n",
    "\n",
    "* To avoid this repetition, you can define a pair of methods called getter and setter.\n",
    "\n",
    "### **Getter and setter**\n",
    "* The getter and setter methods provide an interface for accessing an instance attribute:\n",
    "\n",
    "    * The getter returns the value of an attribute\n",
    "    * The setter sets a new value for an attribute\n",
    "* In our example, you can make the age attribute private (by convention) and define a getter and a setter to manipulate the age attribute.\n",
    "\n",
    "* The following shows the new Person class with a getter and setter for the age attribute:"
   ]
  },
  {
   "cell_type": "code",
   "execution_count": 5,
   "metadata": {},
   "outputs": [],
   "source": [
    "class Person:\n",
    "    def __init__(self, name, age):\n",
    "        self.name = name\n",
    "        self.set_age(age)\n",
    "\n",
    "    def set_age(self, age):\n",
    "        if age <= 0:\n",
    "            raise ValueError('The age must be positive')\n",
    "        self._age = age\n",
    "\n",
    "    def get_age(self):\n",
    "        return self._age"
   ]
  },
  {
   "cell_type": "markdown",
   "metadata": {},
   "source": [
    "### **How it works.**\n",
    "\n",
    "* In the Person class, the set_age() is the setter and the get_age() is the getter. By convention the getter and setter have the following name: get_<attribute>() and set_<attribute>().\n",
    "\n",
    "* In the set_age() method, we raise a ValueError if the age is less than or equal to zero. Otherwise, we assign the age argument to the _age attribute:"
   ]
  },
  {
   "cell_type": "code",
   "execution_count": 6,
   "metadata": {},
   "outputs": [],
   "source": [
    "def set_age(self, age):\n",
    "    if age <= 0:\n",
    "        raise ValueError('The age must be positive')\n",
    "    self._age = age"
   ]
  },
  {
   "cell_type": "code",
   "execution_count": 7,
   "metadata": {},
   "outputs": [],
   "source": [
    "#The get_age() method returns the value of the _age attribute:\n",
    "def get_age(self):\n",
    "    return self._age"
   ]
  },
  {
   "cell_type": "code",
   "execution_count": 8,
   "metadata": {},
   "outputs": [],
   "source": [
    "#In the __init__() method, we call the set_age() setter method to initialize the _age attribute:\n",
    "def __init__(self, name, age):\n",
    "    self.name = name\n",
    "    self.set_age(age)"
   ]
  },
  {
   "cell_type": "code",
   "execution_count": 9,
   "metadata": {},
   "outputs": [
    {
     "ename": "ValueError",
     "evalue": "The age must be positive",
     "output_type": "error",
     "traceback": [
      "\u001b[1;31m---------------------------------------------------------------------------\u001b[0m",
      "\u001b[1;31mValueError\u001b[0m                                Traceback (most recent call last)",
      "Input \u001b[1;32mIn [9]\u001b[0m, in \u001b[0;36m<cell line: 3>\u001b[1;34m()\u001b[0m\n\u001b[0;32m      1\u001b[0m \u001b[38;5;66;03m#The following attempts to assign an invalid value to the age attribute:\u001b[39;00m\n\u001b[0;32m      2\u001b[0m john \u001b[38;5;241m=\u001b[39m Person(\u001b[38;5;124m'\u001b[39m\u001b[38;5;124mJohn\u001b[39m\u001b[38;5;124m'\u001b[39m, \u001b[38;5;241m18\u001b[39m)\n\u001b[1;32m----> 3\u001b[0m \u001b[43mjohn\u001b[49m\u001b[38;5;241;43m.\u001b[39;49m\u001b[43mset_age\u001b[49m\u001b[43m(\u001b[49m\u001b[38;5;241;43m-\u001b[39;49m\u001b[38;5;241;43m19\u001b[39;49m\u001b[43m)\u001b[49m\n",
      "Input \u001b[1;32mIn [5]\u001b[0m, in \u001b[0;36mPerson.set_age\u001b[1;34m(self, age)\u001b[0m\n\u001b[0;32m      6\u001b[0m \u001b[38;5;28;01mdef\u001b[39;00m \u001b[38;5;21mset_age\u001b[39m(\u001b[38;5;28mself\u001b[39m, age):\n\u001b[0;32m      7\u001b[0m     \u001b[38;5;28;01mif\u001b[39;00m age \u001b[38;5;241m<\u001b[39m\u001b[38;5;241m=\u001b[39m \u001b[38;5;241m0\u001b[39m:\n\u001b[1;32m----> 8\u001b[0m         \u001b[38;5;28;01mraise\u001b[39;00m \u001b[38;5;167;01mValueError\u001b[39;00m(\u001b[38;5;124m'\u001b[39m\u001b[38;5;124mThe age must be positive\u001b[39m\u001b[38;5;124m'\u001b[39m)\n\u001b[0;32m      9\u001b[0m     \u001b[38;5;28mself\u001b[39m\u001b[38;5;241m.\u001b[39m_age \u001b[38;5;241m=\u001b[39m age\n",
      "\u001b[1;31mValueError\u001b[0m: The age must be positive"
     ]
    }
   ],
   "source": [
    "#The following attempts to assign an invalid value to the age attribute:\n",
    "john = Person('John', 18)\n",
    "john.set_age(-19)"
   ]
  },
  {
   "attachments": {
    "image.png": {
     "image/png": "[encoded data removed]"
    }
   },
   "cell_type": "markdown",
   "metadata": {},
   "source": [
    "* And Python issued a ValueError as expected.\n",
    "* This code works just fine. But it has a backward compatibility issue.\n",
    "\n",
    "* Suppose you released the Person class for a while and other developers have been already using it. And now you add the getter and setter, all the code that uses the Person won’t work anymore.\n",
    "\n",
    "* To define a getter and setter method while achieving backward compatibility, you can use the property() class.\n",
    "\n",
    "### **The Python property class**\n",
    "* The property class returns a property object. The property() class has the following syntax:\n",
    "![image.png](attachment:image.png)\n",
    "\n",
    "* The property() has the following parameters:\n",
    "\n",
    "    * **fget** is a function to get the value of the attribute, or the getter method.\n",
    "    * **fset** is a function to set the value of the attribute, or the setter method.\n",
    "    * **fdel** is a function to delete the attribute.\n",
    "    * **doc** is a docstring i.e., a comment.\n",
    "* The following uses the property() function to define the age property for the Person class."
   ]
  },
  {
   "cell_type": "code",
   "execution_count": 10,
   "metadata": {},
   "outputs": [],
   "source": [
    "class Person:\n",
    "    def __init__(self, name, age):\n",
    "        self.name = name\n",
    "        self.age = age\n",
    "\n",
    "    def set_age(self, age):\n",
    "        if age <= 0:\n",
    "            raise ValueError('The age must be positive')\n",
    "        self._age = age\n",
    "\n",
    "    def get_age(self):\n",
    "        return self._age\n",
    "\n",
    "    age = property(fget=get_age, fset=set_age)"
   ]
  },
  {
   "cell_type": "markdown",
   "metadata": {},
   "source": [
    "* In the Person class, we create a new property object by calling the property() and assign the property object to the age attribute. Note that the age is a class attribute, not an instance attribute.\n",
    "\n",
    "* The following shows that the Person.age is a property object:"
   ]
  },
  {
   "cell_type": "code",
   "execution_count": 11,
   "metadata": {},
   "outputs": [
    {
     "name": "stdout",
     "output_type": "stream",
     "text": [
      "<property object at 0x0000027C9DBC2430>\n"
     ]
    }
   ],
   "source": [
    "print(Person.age)"
   ]
  },
  {
   "cell_type": "code",
   "execution_count": 12,
   "metadata": {},
   "outputs": [],
   "source": [
    "#The following creates a new instance of the Person class and access the age attribute:\n",
    "john = Person('John', 18)"
   ]
  },
  {
   "cell_type": "markdown",
   "metadata": {},
   "source": [
    "* The john.__dict__ stores the instance attributes of the john object. The following shows the contents of the john.__dict__ :"
   ]
  },
  {
   "cell_type": "code",
   "execution_count": 13,
   "metadata": {},
   "outputs": [
    {
     "name": "stdout",
     "output_type": "stream",
     "text": [
      "{'name': 'John', '_age': 18}\n"
     ]
    }
   ],
   "source": [
    "print(john.__dict__)"
   ]
  },
  {
   "cell_type": "markdown",
   "metadata": {},
   "source": [
    "* As you can see clearly from the output, the john.__dict__ doesn’t have the age attribute.\n",
    "\n",
    "* The following assigns a value to the age attribute of the john object:"
   ]
  },
  {
   "cell_type": "code",
   "execution_count": 14,
   "metadata": {},
   "outputs": [],
   "source": [
    "john.age = 19"
   ]
  },
  {
   "cell_type": "markdown",
   "metadata": {},
   "source": [
    "*  this case, Python looks up the age attribute in the john.__dict__ first. Because Python doesn’t find the age attribute in the john.__dict__, it’ll then find the age attribute in the Person.__dict__.\n",
    "\n",
    "* The Person.__dict__ stores the class attributes of the Person class. The following shows the contents of the Person.__dict__:"
   ]
  },
  {
   "cell_type": "code",
   "execution_count": 15,
   "metadata": {},
   "outputs": [
    {
     "name": "stdout",
     "output_type": "stream",
     "text": [
      "Pretty printing has been turned OFF\n"
     ]
    }
   ],
   "source": [
    "pprint(Person.__dict__)"
   ]
  },
  {
   "cell_type": "markdown",
   "metadata": {},
   "source": [
    "* Because Python finds the age attribute in the Person.__dict__, it’ll call the age property object.\n",
    "\n",
    "When you assign a value to the age object:"
   ]
  },
  {
   "cell_type": "code",
   "execution_count": 16,
   "metadata": {},
   "outputs": [],
   "source": [
    "john.age = 19"
   ]
  },
  {
   "cell_type": "markdown",
   "metadata": {},
   "source": [
    "* Python will call the function assigned to the fset argument, which is the set_age().\n",
    "\n",
    "* Similarly, when you read from the age property object, Python will execute the function assigned to the fget argument, which is the get_age() method.\n",
    "\n",
    "* By using the property() class, we can add a property to a class while maintaining backward compatibility. In practice, you will define the attributes first. Later, you can add the property to the class if needed."
   ]
  },
  {
   "cell_type": "code",
   "execution_count": 17,
   "metadata": {},
   "outputs": [
    {
     "name": "stdout",
     "output_type": "stream",
     "text": [
      "<property object at 0x0000027C9DB31800>\n",
      "{'_age': 18, 'name': 'John'}\n",
      "mappingproxy({'__dict__': <attribute '__dict__' of 'Person' objects>,\n",
      "              '__doc__': None,\n",
      "              '__init__': <function Person.__init__ at 0x0000027C9D8EAD40>,\n",
      "              '__module__': '__main__',\n",
      "              '__weakref__': <attribute '__weakref__' of 'Person' objects>,\n",
      "              'age': <property object at 0x0000027C9DB31800>,\n",
      "              'get_age': <function Person.get_age at 0x0000027C9DBCC1F0>,\n",
      "              'set_age': <function Person.set_age at 0x0000027C9D8EB6D0>})\n"
     ]
    }
   ],
   "source": [
    "from pprint import pprint\n",
    "\n",
    "\n",
    "class Person:\n",
    "    def __init__(self, name, age):\n",
    "        self.name = name\n",
    "        self.age = age\n",
    "\n",
    "    def set_age(self, age):\n",
    "        if age <= 0:\n",
    "            raise ValueError('The age must be positive')\n",
    "        self._age = age\n",
    "\n",
    "    def get_age(self):\n",
    "        return self._age\n",
    "\n",
    "    age = property(fget=get_age, fset=set_age)\n",
    "\n",
    "\n",
    "print(Person.age)\n",
    "\n",
    "john = Person('John', 18)\n",
    "pprint(john.__dict__)\n",
    "\n",
    "john.age = 19\n",
    "pprint(Person.__dict__)"
   ]
  },
  {
   "attachments": {
    "image.png": {
     "image/png": "[encoded data removed]"
    }
   },
   "cell_type": "markdown",
   "metadata": {},
   "source": [
    "### **Python Property Decorator**\n",
    "* Introduction to the Python property decorator\n",
    "* In the previous tutorial, you learned how to use the property class to add a property to a class. Here’s the syntax of the property class:\n",
    "![image.png](attachment:image.png)\n",
    "* The following defines a Person class with two attributes name and age:\n"
   ]
  },
  {
   "cell_type": "code",
   "execution_count": 18,
   "metadata": {},
   "outputs": [],
   "source": [
    "class Person:\n",
    "    def __init__(self, name, age):\n",
    "        self.name = name\n",
    "        self.age = age"
   ]
  },
  {
   "cell_type": "markdown",
   "metadata": {},
   "source": [
    "* To define a getter for the age attribute, you use the property class like this:"
   ]
  },
  {
   "cell_type": "code",
   "execution_count": 19,
   "metadata": {},
   "outputs": [],
   "source": [
    "class Person:\n",
    "    def __init__(self, name, age):\n",
    "        self.name = name\n",
    "        self._age = age\n",
    "\n",
    "    def get_age(self):\n",
    "        return self._age\n",
    "\n",
    "    age = property(fget=get_age)"
   ]
  },
  {
   "cell_type": "markdown",
   "metadata": {},
   "source": [
    "* The property accepts a getter and returns a property object.\n",
    "\n",
    "* The following creates an instance of the Person class and get the value of the age property via the instance:"
   ]
  },
  {
   "cell_type": "code",
   "execution_count": 20,
   "metadata": {},
   "outputs": [
    {
     "name": "stdout",
     "output_type": "stream",
     "text": [
      "25\n"
     ]
    }
   ],
   "source": [
    "john = Person('John', 25)\n",
    "print(john.age)"
   ]
  },
  {
   "cell_type": "code",
   "execution_count": 21,
   "metadata": {},
   "outputs": [
    {
     "name": "stdout",
     "output_type": "stream",
     "text": [
      "25\n"
     ]
    }
   ],
   "source": [
    "#Also, you can call the get_age() method of the Person object directly like this:\n",
    "print(john.get_age())"
   ]
  },
  {
   "cell_type": "markdown",
   "metadata": {},
   "source": [
    "* So to get the age of a Person object, you can use either the age property or the get_age() method. This creates an unnecessary redundancy.\n",
    "\n",
    "* To avoid this redundancy, you can rename the get_age() method to the age() method like this:"
   ]
  },
  {
   "cell_type": "code",
   "execution_count": 22,
   "metadata": {},
   "outputs": [],
   "source": [
    "class Person:\n",
    "    def __init__(self, name, age):\n",
    "        self.name = name\n",
    "        self._age = age\n",
    "\n",
    "    def age(self):\n",
    "        return self._age\n",
    "\n",
    "    age = property(fget=age)"
   ]
  },
  {
   "cell_type": "markdown",
   "metadata": {},
   "source": [
    "## **Python Readonly Property**\n",
    "### **Introduction to the Python readonly property**\n",
    "* To define a readonly property, you need to create a property with only the getter. However, it is not truly read-only because you can always access the underlying attribute and change it.\n",
    "\n",
    "* The read-only properties are useful in some cases such as for computed properties.\n",
    "\n",
    "* The following example defines a class called Circle that has a radius attribute and an area() method:"
   ]
  },
  {
   "cell_type": "code",
   "execution_count": 1,
   "metadata": {},
   "outputs": [],
   "source": [
    "import math\n",
    "\n",
    "\n",
    "class Circle:\n",
    "    def __init__(self, radius):\n",
    "        self.radius = radius\n",
    "\n",
    "    def area(self):\n",
    "        return math.pi * self.radius ** 2"
   ]
  },
  {
   "cell_type": "code",
   "execution_count": 2,
   "metadata": {},
   "outputs": [
    {
     "name": "stdout",
     "output_type": "stream",
     "text": [
      "314.1592653589793\n"
     ]
    }
   ],
   "source": [
    "#And the following creates a new Circle object and returns its area:\n",
    "c = Circle(10)\n",
    "print(c.area())"
   ]
  },
  {
   "cell_type": "markdown",
   "metadata": {},
   "source": [
    "* This code works perfectly fine.\n",
    "\n",
    "* But it would be more natural that the area is a property of the Circle object, not a method. To make the area() method as a property of the Circle class, you can use the @property decorator as follows:"
   ]
  },
  {
   "cell_type": "code",
   "execution_count": 3,
   "metadata": {},
   "outputs": [
    {
     "name": "stdout",
     "output_type": "stream",
     "text": [
      "314.1592653589793\n"
     ]
    }
   ],
   "source": [
    "import math\n",
    "\n",
    "\n",
    "class Circle:\n",
    "    def __init__(self, radius):\n",
    "        self.radius = radius\n",
    "\n",
    "    @property\n",
    "    def area(self):\n",
    "        return math.pi * self.radius ** 2\n",
    "\n",
    "\n",
    "c = Circle(10)\n",
    "print(c.area)"
   ]
  },
  {
   "cell_type": "markdown",
   "metadata": {},
   "source": [
    "* The area is calculated from the radius attribute. Therefore, it’s often called a calculated or computed property.\n",
    "\n",
    "### **Cache calculated properties**\n",
    "* Suppose you create a new circle object and access the area property many times. Each time, the area needs to be recalculated, which is not efficient.\n",
    "\n",
    "* To make it more performant, you need to recalculate the area of the circle only when the radius changes. If the radius doesn’t change, you can reuse the previously calculated area.\n",
    "\n",
    "#### **To do it, you can use the caching technique:**\n",
    "\n",
    "* First, calculate the area and save it in a cache.\n",
    "* Second, if the radius changes, reset the area. Otherwise, return the area directly from the cache without recalcuation.\n",
    "* The following defines the new Circle class with cached area property:"
   ]
  },
  {
   "cell_type": "code",
   "execution_count": 4,
   "metadata": {},
   "outputs": [],
   "source": [
    "import math\n",
    "\n",
    "\n",
    "class Circle:\n",
    "    def __init__(self, radius):\n",
    "        self._radius = radius\n",
    "        self._area = None\n",
    "\n",
    "    @property\n",
    "    def radius(self):\n",
    "        return self._radius\n",
    "\n",
    "    @radius.setter\n",
    "    def radius(self, value):\n",
    "        if value < 0:\n",
    "            raise ValueError('Radius must be positive')\n",
    "\n",
    "        if value != self._radius:\n",
    "            self._radius = value\n",
    "            self._area = None\n",
    "\n",
    "    @property\n",
    "    def area(self):\n",
    "        if self._area is None:\n",
    "            self._area = math.pi * self.radius ** 2\n",
    "\n",
    "        return self._area"
   ]
  },
  {
   "cell_type": "markdown",
   "metadata": {},
   "source": [
    "### **How it works.**\n",
    "\n",
    "* First, set the _area to None in the __init__ method. The _area attribute is the cache that stores the calculated area.\n",
    "\n",
    "* Second, if the radius changes (in the setter), reset the _area to None.\n",
    "\n",
    "* Third, define the area computed property. The area property returns _area if it is not None. Otherwise, calculate the area, save it into the _area, and return it."
   ]
  },
  {
   "cell_type": "markdown",
   "metadata": {},
   "source": [
    "### **Python Delete Property**\n",
    "* To create a property of a class, you use the @property decorator. Underhood, the @property decorator uses the property class that has three methods: setter, getter, and deleter.\n",
    "\n",
    "* By using the deleter, you can delete a property from an object. Notice that the deleter() method deletes a property of an * object, not a class.\n",
    "\n",
    "* The following defines the Person class with the name property:"
   ]
  },
  {
   "cell_type": "code",
   "execution_count": 5,
   "metadata": {},
   "outputs": [],
   "source": [
    "from pprint import pprint\n",
    "\n",
    "\n",
    "class Person:\n",
    "    def __init__(self, name):\n",
    "        self._name = name\n",
    "\n",
    "    @property\n",
    "    def name(self):\n",
    "        return self._name\n",
    "\n",
    "    @name.setter\n",
    "    def name(self, value):\n",
    "        if value.strip() == '':\n",
    "            raise ValueError('name cannot be empty')\n",
    "        self._name = value\n",
    "\n",
    "    @name.deleter\n",
    "    def name(self):\n",
    "        del self._name"
   ]
  },
  {
   "cell_type": "markdown",
   "metadata": {},
   "source": [
    "* In the Person class, we use the @name.deleter decorator. Inside the deleter, we use the del keyword to delete the _name attribute of the Person instance.\n",
    "* The following shows the __dict__ of the Person class:"
   ]
  },
  {
   "cell_type": "code",
   "execution_count": 6,
   "metadata": {},
   "outputs": [
    {
     "name": "stdout",
     "output_type": "stream",
     "text": [
      "mappingproxy({'__dict__': <attribute '__dict__' of 'Person' objects>,\n",
      "              '__doc__': None,\n",
      "              '__init__': <function Person.__init__ at 0x0000021F62CEA7A0>,\n",
      "              '__module__': '__main__',\n",
      "              '__weakref__': <attribute '__weakref__' of 'Person' objects>,\n",
      "              'name': <property object at 0x0000021F62DAF5B0>})\n"
     ]
    }
   ],
   "source": [
    "pprint(Person.__dict__)"
   ]
  },
  {
   "cell_type": "markdown",
   "metadata": {},
   "source": [
    "* The Person.__dict__ class has the name variable. The following creates a new instance of the Person class:"
   ]
  },
  {
   "cell_type": "code",
   "execution_count": 7,
   "metadata": {},
   "outputs": [],
   "source": [
    "person = Person('John')"
   ]
  },
  {
   "cell_type": "markdown",
   "metadata": {},
   "source": [
    "* The following uses the del keyword to delete the name property:"
   ]
  },
  {
   "cell_type": "code",
   "execution_count": 8,
   "metadata": {},
   "outputs": [],
   "source": [
    "del person.name"
   ]
  },
  {
   "cell_type": "markdown",
   "metadata": {},
   "source": [
    "* Internally, Python will execute the deleter method that deletes the _name attribute from the person object. The person.__dict__ will be empty like this:"
   ]
  },
  {
   "cell_type": "code",
   "execution_count": 9,
   "metadata": {},
   "outputs": [
    {
     "data": {
      "text/plain": [
       "{}"
      ]
     },
     "execution_count": 9,
     "metadata": {},
     "output_type": "execute_result"
    }
   ],
   "source": [
    "{}"
   ]
  },
  {
   "cell_type": "markdown",
   "metadata": {},
   "source": [
    "* And if you attempt to access name property again, you’ll get an error:"
   ]
  },
  {
   "cell_type": "code",
   "execution_count": 10,
   "metadata": {},
   "outputs": [
    {
     "ename": "AttributeError",
     "evalue": "'Person' object has no attribute '_name'",
     "output_type": "error",
     "traceback": [
      "\u001b[1;31m---------------------------------------------------------------------------\u001b[0m",
      "\u001b[1;31mAttributeError\u001b[0m                            Traceback (most recent call last)",
      "Input \u001b[1;32mIn [10]\u001b[0m, in \u001b[0;36m<cell line: 1>\u001b[1;34m()\u001b[0m\n\u001b[1;32m----> 1\u001b[0m \u001b[38;5;28mprint\u001b[39m(\u001b[43mperson\u001b[49m\u001b[38;5;241;43m.\u001b[39;49m\u001b[43mname\u001b[49m)\n",
      "Input \u001b[1;32mIn [5]\u001b[0m, in \u001b[0;36mPerson.name\u001b[1;34m(self)\u001b[0m\n\u001b[0;32m      8\u001b[0m \u001b[38;5;129m@property\u001b[39m\n\u001b[0;32m      9\u001b[0m \u001b[38;5;28;01mdef\u001b[39;00m \u001b[38;5;21mname\u001b[39m(\u001b[38;5;28mself\u001b[39m):\n\u001b[1;32m---> 10\u001b[0m     \u001b[38;5;28;01mreturn\u001b[39;00m \u001b[38;5;28;43mself\u001b[39;49m\u001b[38;5;241;43m.\u001b[39;49m\u001b[43m_name\u001b[49m\n",
      "\u001b[1;31mAttributeError\u001b[0m: 'Person' object has no attribute '_name'"
     ]
    }
   ],
   "source": [
    "print(person.name)"
   ]
  },
  {
   "cell_type": "markdown",
   "metadata": {},
   "source": [
    "### **Single inheritance**\n",
    "* Classes can inherit functionality of other classes. If an object is created using a class that inherits from a superclass, the object will contain the methods of both the class and the superclass. The same holds true for variables of both the superclass and the class that inherits from the super class.\n",
    "\n",
    "* Python supports inheritance from multiple classes, unlike other popular programming languages.\n",
    "* There are different types of inheritance. they're\n",
    "    * Multiple Inheritance\n",
    "    * Multilevel Inheritance\n",
    "    \n",
    "    ![Imgur](https://i.imgur.com/3Rd86Sp.png)"
   ]
  },
  {
   "cell_type": "code",
   "execution_count": 11,
   "metadata": {},
   "outputs": [],
   "source": [
    "#Inheritance allows a class to reuse the logic of an existing class. Suppose you have the following Person class:\n",
    "class Person:\n",
    "    def __init__(self, name):\n",
    "        self.name = name\n",
    "\n",
    "    def greet(self):\n",
    "        return f\"Hi, it's {self.name}\""
   ]
  },
  {
   "cell_type": "markdown",
   "metadata": {},
   "source": [
    "* The Person class has the name attribute and the greet() method.\n",
    "\n",
    "* Now, you want to define the Employee that is similar to the Person class:"
   ]
  },
  {
   "cell_type": "code",
   "execution_count": 12,
   "metadata": {},
   "outputs": [],
   "source": [
    "class Employee:\n",
    "    def __init__(self, name, job_title):\n",
    "        self.name = name\n",
    "        self.job_title = job_title\n",
    "\n",
    "    def greet(self):\n",
    "        return f\"Hi, it's {self.name}\""
   ]
  },
  {
   "cell_type": "markdown",
   "metadata": {},
   "source": [
    "* The Employee class has two attributes name and job_title. It also has the greet() method that is exactly the same as the greet() method of the Person class.\n",
    "\n",
    "* To reuse the greet() method from the Person class in the Employee class, you can create a relationship between the Person and Employee classes. To do it, you use inheritance so that the Employee class inherits from the Person class.\n",
    "\n",
    "* The following redefines the Employee class that inherits from the Person class:"
   ]
  },
  {
   "cell_type": "code",
   "execution_count": 13,
   "metadata": {},
   "outputs": [],
   "source": [
    "class Employee(Person):\n",
    "    def __init__(self, name, job_title):\n",
    "        self.name = name\n",
    "        self.job_title = job_title"
   ]
  },
  {
   "cell_type": "markdown",
   "metadata": {},
   "source": [
    "* By doing this, the Employee class behaves the same as the Person class without redefining the greet() method.\n",
    "\n",
    "* This is a single inheritance because the Employee inherits from a single class (Person). Note that Python also supports multiple inheritances where a class inherits from multiple classes.\n",
    "\n",
    "* Since the Employee inherits attributes and methods of the Person class, you can use the instance of the Employee class as if it were an instance of the Person class.\n",
    "\n",
    "* For example, the following creates a new instance of the Employee class and call the greet() method:"
   ]
  },
  {
   "cell_type": "code",
   "execution_count": 14,
   "metadata": {},
   "outputs": [
    {
     "name": "stdout",
     "output_type": "stream",
     "text": [
      "Hi, it's John\n"
     ]
    }
   ],
   "source": [
    "employee = Employee('John', 'Python Developer')\n",
    "print(employee.greet())"
   ]
  },
  {
   "cell_type": "markdown",
   "metadata": {},
   "source": [
    "### **Inheritance terminology**\n",
    "* The Person class is the parent class, the base class, or the super class of the Employee class. And the Employee class is a child class, a derived class, or a subclass of the Person class.\n",
    "\n",
    "* The Employee class derives from, extends, or subclasses the Person class.\n",
    "\n",
    "* The relationship between the Employee class and Person class is IS-A relationship. In other words, an employee is a person.\n",
    "\n",
    "#### **type vs. isinstance**\n",
    "* The following shows the type of instances of the Person and Employee classes:"
   ]
  },
  {
   "cell_type": "code",
   "execution_count": 15,
   "metadata": {},
   "outputs": [
    {
     "name": "stdout",
     "output_type": "stream",
     "text": [
      "<class '__main__.Person'>\n",
      "<class '__main__.Employee'>\n"
     ]
    }
   ],
   "source": [
    "person = Person('Jane')\n",
    "print(type(person))\n",
    "\n",
    "employee = Employee('John', 'Python Developer')\n",
    "print(type(employee))"
   ]
  },
  {
   "cell_type": "code",
   "execution_count": 16,
   "metadata": {},
   "outputs": [
    {
     "name": "stdout",
     "output_type": "stream",
     "text": [
      "True\n",
      "True\n",
      "True\n",
      "False\n"
     ]
    }
   ],
   "source": [
    "#To check if an object is an instance of a class, you use the isinstance() method. For example:\n",
    "person = Person('Jane')\n",
    "print(isinstance(person, Person))  # True\n",
    "\n",
    "employee = Employee('John', 'Python Developer')\n",
    "print(isinstance(employee, Person))  # True\n",
    "print(isinstance(employee, Employee))  # True\n",
    "print(isinstance(person, Employee))  # False"
   ]
  },
  {
   "cell_type": "markdown",
   "metadata": {},
   "source": [
    "* As clearly shown in the output:\n",
    "\n",
    "    * The person is an instance of the Person class.\n",
    "    * The employee is an instance of the Employee class. It’s also an instance of the Person class.\n",
    "    * The person is not an instance of the Employee class.\n",
    "* In practice, you’ll often use the isinstance() function to check whether an object has certain methods. Then, you’ll call the methods of that object.\n",
    "\n",
    "### **issubclass**\n",
    "* To check if a class is a subclass of another class, you use the issubclass() function. For example:"
   ]
  },
  {
   "cell_type": "code",
   "execution_count": 17,
   "metadata": {},
   "outputs": [
    {
     "name": "stdout",
     "output_type": "stream",
     "text": [
      "True\n"
     ]
    }
   ],
   "source": [
    "print(issubclass(Employee, Person)) # True"
   ]
  },
  {
   "cell_type": "code",
   "execution_count": 18,
   "metadata": {},
   "outputs": [],
   "source": [
    "#The following defines the SalesEmployee class that inherits from the Employee class:\n",
    "class SalesEmployee(Employee):\n",
    "    pass"
   ]
  },
  {
   "cell_type": "markdown",
   "metadata": {},
   "source": [
    "* The SalesEmployee is the subclass of the Employee class. It’s also a subclass of the Person class as shown in the following:"
   ]
  },
  {
   "cell_type": "code",
   "execution_count": 19,
   "metadata": {},
   "outputs": [
    {
     "name": "stdout",
     "output_type": "stream",
     "text": [
      "True\n",
      "True\n"
     ]
    }
   ],
   "source": [
    "print(issubclass(SalesEmployee, Employee)) # True\n",
    "print(issubclass(SalesEmployee, Person)) # True"
   ]
  },
  {
   "cell_type": "markdown",
   "metadata": {},
   "source": [
    "* Note that when you define a class that doesn’t inherit from any class, it’ll implicitly inherit from the built-in object class.\n",
    "\n",
    "* For example, the Person class inherits from the object class implicitly. Therefore, it is a subclass of the object class:"
   ]
  },
  {
   "cell_type": "code",
   "execution_count": 20,
   "metadata": {},
   "outputs": [
    {
     "name": "stdout",
     "output_type": "stream",
     "text": [
      "True\n"
     ]
    }
   ],
   "source": [
    "print(issubclass(Person, object)) # True"
   ]
  },
  {
   "cell_type": "markdown",
   "metadata": {},
   "source": [
    "* In other words, all classes are subclasses of the object class."
   ]
  },
  {
   "cell_type": "markdown",
   "metadata": {},
   "source": [
    "### **Python Overriding Method**\n",
    "#### **Introduction to Python overridding method**\n",
    "* The overriding method allows a child class to provide a specific implementation of a method that is already provided by one of its parent classes.\n",
    "\n",
    "* Let’s take an example to understand the overriding method better.\n",
    "\n",
    "* First, define the Employee class:"
   ]
  },
  {
   "cell_type": "code",
   "execution_count": 21,
   "metadata": {},
   "outputs": [],
   "source": [
    "class Employee:\n",
    "    def __init__(self, name, base_pay):\n",
    "        self.name = name\n",
    "        self.base_pay = base_pay\n",
    "\n",
    "    def get_pay(self):\n",
    "        return self.base_pay"
   ]
  },
  {
   "cell_type": "markdown",
   "metadata": {},
   "source": [
    "* The Employee class has two instance variables name and base_pay. It also has the get_pay() method that returns the base_pay.\n",
    "\n",
    "* Second, define the SalesEmployee that inherits from the Employee class:"
   ]
  },
  {
   "cell_type": "code",
   "execution_count": 22,
   "metadata": {},
   "outputs": [],
   "source": [
    "class SalesEmployee(Employee):\n",
    "    def __init__(self, name, base_pay, sales_incentive):\n",
    "        self.name = name\n",
    "        self.base_pay = base_pay\n",
    "        self.sales_incentive = sales_incentive"
   ]
  },
  {
   "cell_type": "markdown",
   "metadata": {},
   "source": [
    "* The SalesEmployee class has three instance attributes: name, base_pay, and sales_incentive.\n",
    "\n",
    "* Third, create a new instance of the SalesEmployee class and display the pay:"
   ]
  },
  {
   "cell_type": "code",
   "execution_count": 23,
   "metadata": {},
   "outputs": [
    {
     "name": "stdout",
     "output_type": "stream",
     "text": [
      "5000\n"
     ]
    }
   ],
   "source": [
    "john = SalesEmployee('John', 5000, 1500)\n",
    "print(john.get_pay())"
   ]
  },
  {
   "cell_type": "markdown",
   "metadata": {},
   "source": [
    "* The get_pay() method returns only the base_pay, not the sum of the base_pay and sales_incentive.\n",
    "\n",
    "* When you call the get_pay() from the instance of the SalesEmployee class, Python executes the get_pay() method of the Employee class, which returns the base_pay.\n",
    "\n",
    "* To include the sales incentive in the pay, you need to redefine the get_pay() method in the SalesEmployee class as follows:"
   ]
  },
  {
   "cell_type": "code",
   "execution_count": 24,
   "metadata": {},
   "outputs": [],
   "source": [
    "class SalesEmployee(Employee):\n",
    "    def __init__(self, name, base_pay, sales_incentive):\n",
    "        self.name = name\n",
    "        self.base_pay = base_pay\n",
    "        self.sales_incentive = sales_incentive\n",
    "\n",
    "    def get_pay(self):\n",
    "        return self.base_pay + self.sales_incentive"
   ]
  },
  {
   "cell_type": "markdown",
   "metadata": {},
   "source": [
    "* In this case, we say that the get_pay() method in the SalesEmployee class overrides the get_pay() method in the Employee class.\n",
    "\n",
    "* When you call the get_pay() method of the SalesEmployee‘s object, Python will call the get_pay() method in the SalesEmployee class:"
   ]
  },
  {
   "cell_type": "code",
   "execution_count": 25,
   "metadata": {},
   "outputs": [
    {
     "name": "stdout",
     "output_type": "stream",
     "text": [
      "6500\n"
     ]
    }
   ],
   "source": [
    "john = SalesEmployee('John', 5000, 1500)\n",
    "print(john.get_pay())"
   ]
  },
  {
   "cell_type": "markdown",
   "metadata": {},
   "source": [
    "* If you create an instance of the Employee class, Python will call the get_pay() method of the Employee class, not the get_pay() method of the SalesEmployee class. For example:"
   ]
  },
  {
   "cell_type": "code",
   "execution_count": 26,
   "metadata": {},
   "outputs": [
    {
     "name": "stdout",
     "output_type": "stream",
     "text": [
      "5000\n"
     ]
    }
   ],
   "source": [
    "jane = Employee('Jane', 5000)\n",
    "print(jane.get_pay())"
   ]
  },
  {
   "cell_type": "code",
   "execution_count": 27,
   "metadata": {},
   "outputs": [
    {
     "name": "stdout",
     "output_type": "stream",
     "text": [
      "6500\n",
      "5000\n"
     ]
    }
   ],
   "source": [
    "#Put it all together.\n",
    "class Employee:\n",
    "    def __init__(self, name, base_pay):\n",
    "        self.name = name\n",
    "        self.base_pay = base_pay\n",
    "\n",
    "    def get_pay(self):\n",
    "        return self.base_pay\n",
    "\n",
    "\n",
    "class SalesEmployee(Employee):\n",
    "    def __init__(self, name, base_pay, sales_incentive):\n",
    "        self.name = name\n",
    "        self.base_pay = base_pay\n",
    "        self.sales_incentive = sales_incentive\n",
    "\n",
    "    def get_pay(self):\n",
    "        return self.base_pay + self.sales_incentive\n",
    "\n",
    "\n",
    "if __name__ == '__main__':\n",
    "    john = SalesEmployee('John', 5000, 1500)\n",
    "    print(john.get_pay())\n",
    "\n",
    "    jane = Employee('Jane', 5000)\n",
    "    print(jane.get_pay())"
   ]
  },
  {
   "cell_type": "markdown",
   "metadata": {},
   "source": [
    "### **Advanced method overriding example**\n",
    "* The following defines the Parser class:"
   ]
  },
  {
   "cell_type": "code",
   "execution_count": 28,
   "metadata": {},
   "outputs": [],
   "source": [
    "class Parser:\n",
    "    def __init__(self, text):\n",
    "        self.text = text\n",
    "\n",
    "    def email(self):\n",
    "        match = re.search(r'[a-z0-9\\.\\-+_]+@[a-z0-9\\.\\-+_]+\\.[a-z]+', self.text)\n",
    "        if match:\n",
    "            return match.group(0)\n",
    "        return None\n",
    "\n",
    "    def phone(self):\n",
    "        match = re.search(r'\\d{3}-\\d{3}-\\d{4}', self.text)\n",
    "        if match:\n",
    "            return match.group(0)\n",
    "        return None\n",
    "\n",
    "    def parse(self):\n",
    "        return {\n",
    "            'email': self.email(),\n",
    "            'phone': self.phone()\n",
    "        }"
   ]
  },
  {
   "cell_type": "markdown",
   "metadata": {},
   "source": [
    "* The Parser class has an attribute text which specifies a piece of text to be parsed. Also, the Parser class has three methods:\n",
    "\n",
    "    * The email() method parses a text and returns the email.\n",
    "    * The phone() method parses a text and returns a phone number in the format nnn-nnnn-nnnn where n is a number from 0 to 9 e.g., 408-205-5663.\n",
    "    * The parse() method returns a dictionary that contains two elements email and phone. It calls the email() and phone() method to extract the email and phone from the text attribute.\n",
    "* The following uses the Parser class to extract email and phone:"
   ]
  },
  {
   "cell_type": "code",
   "execution_count": 35,
   "metadata": {},
   "outputs": [
    {
     "name": "stdout",
     "output_type": "stream",
     "text": [
      "{'email': 'email@test.com', 'phone': '408-205-5663'}\n"
     ]
    }
   ],
   "source": [
    "import re\n",
    "s = 'Contact us via 408-205-5663 or email@test.com'\n",
    "parser = Parser(s)\n",
    "print(parser.parse())"
   ]
  },
  {
   "cell_type": "markdown",
   "metadata": {},
   "source": [
    "*  you need to extract phone numbers in the format n-nnn-nnn-nnnn, which is the UK phone number format. Also, you want to use extract email like the Parser class\n",
    "\n",
    "* To do it, you can define a new class called UkParser that inherits from the Parser class. In the UkParser class, you override the phone() method as follows:"
   ]
  },
  {
   "cell_type": "code",
   "execution_count": 30,
   "metadata": {},
   "outputs": [],
   "source": [
    "class UkParser(Parser):\n",
    "    def phone(self):\n",
    "        match = re.search(r'(\\+\\d{1}-\\d{3}-\\d{3}-\\d{4})', self.text)\n",
    "        if match:\n",
    "            return match.group(0)\n",
    "        return None"
   ]
  },
  {
   "cell_type": "markdown",
   "metadata": {},
   "source": [
    "* The following use the UkParser class to extract a phone number (in UK format) and email from a text:"
   ]
  },
  {
   "cell_type": "code",
   "execution_count": 33,
   "metadata": {},
   "outputs": [
    {
     "name": "stdout",
     "output_type": "stream",
     "text": [
      "{'email': 'email@test.co.uk', 'phone': '+1-650-453-3456'}\n"
     ]
    }
   ],
   "source": [
    "import re\n",
    "s2 = 'Contact me via +1-650-453-3456 or email@test.co.uk'\n",
    "parser = UkParser(s2)\n",
    "print(parser.parse())"
   ]
  },
  {
   "cell_type": "markdown",
   "metadata": {},
   "source": [
    "* In this example, the parser calls the parse() method from the parent class which is the Parser class. In turn, the parse() method calls the email() and phone() methods.\n",
    "\n",
    "* However, the parser() doesn’t call the phone() method of the Parser class but the phone() method of the UkParser class:"
   ]
  },
  {
   "cell_type": "code",
   "execution_count": 34,
   "metadata": {},
   "outputs": [
    {
     "data": {
      "text/plain": [
       "{'email': 'email@test.co.uk', 'phone': '+1-650-453-3456'}"
      ]
     },
     "execution_count": 34,
     "metadata": {},
     "output_type": "execute_result"
    }
   ],
   "source": [
    "parser.parse()"
   ]
  },
  {
   "cell_type": "markdown",
   "metadata": {},
   "source": [
    "* The reason is that inside the parse() method, the self is the parser which is an instance of the UkParser class.\n",
    "\n",
    "* Therefore, when you call self.phone() method inside the parse() method, Python will look for the phone() method that is bound to the instance of the UkParser."
   ]
  },
  {
   "cell_type": "code",
   "execution_count": 36,
   "metadata": {},
   "outputs": [
    {
     "name": "stdout",
     "output_type": "stream",
     "text": [
      "{'email': 'email@test.com', 'phone': '408-205-5663'}\n",
      "{'email': 'email@test.co.uk', 'phone': '+1-650-453-3456'}\n"
     ]
    }
   ],
   "source": [
    "import re\n",
    "\n",
    "\n",
    "class Parser:\n",
    "    def __init__(self, text):\n",
    "        self.text = text\n",
    "\n",
    "    def email(self):\n",
    "        match = re.search(r'[a-z0-9\\.\\-+_]+@[a-z0-9\\.\\-+_]+\\.[a-z]+', self.text)\n",
    "        if match:\n",
    "            return match.group(0)\n",
    "        return None\n",
    "\n",
    "    def phone(self):\n",
    "        match = re.search(r'\\d{3}-\\d{3}-\\d{4}', self.text)\n",
    "        if match:\n",
    "            return match.group(0)\n",
    "        return None\n",
    "\n",
    "    def parse(self):\n",
    "        return {\n",
    "            'email': self.email(),\n",
    "            'phone': self.phone()\n",
    "        }\n",
    "\n",
    "\n",
    "class UkParser(Parser):\n",
    "    def phone(self):\n",
    "        match = re.search(r'(\\+\\d{1}-\\d{3}-\\d{3}-\\d{4})', self.text)\n",
    "        if match:\n",
    "            return match.group(0)\n",
    "        return None\n",
    "\n",
    "\n",
    "if __name__ == '__main__':\n",
    "    s = 'Contact us via 408-205-5663 or email@test.com'\n",
    "    parser = Parser(s)\n",
    "    print(parser.parse())\n",
    "\n",
    "    s2 = 'Contact me via +1-650-453-3456 or email@test.co.uk'\n",
    "    parser = UkParser(s2)\n",
    "    print(parser.parse())"
   ]
  },
  {
   "cell_type": "markdown",
   "metadata": {},
   "source": [
    "### **Overriding attributes**\n",
    "* The following shows how to implement the Parser and UkParser classes by overriding attributes:"
   ]
  },
  {
   "cell_type": "code",
   "execution_count": 37,
   "metadata": {},
   "outputs": [
    {
     "name": "stdout",
     "output_type": "stream",
     "text": [
      "{'email': 'email@test.com', 'phone': '408-205-5663'}\n",
      "{'email': 'email@test.co.uk', 'phone': '+1-650-453-3456'}\n"
     ]
    }
   ],
   "source": [
    "import re\n",
    "\n",
    "\n",
    "class Parser:\n",
    "    phone_pattern = r'\\d{3}-\\d{3}-\\d{4}'\n",
    "\n",
    "    def __init__(self, text):\n",
    "        self.text = text\n",
    "\n",
    "    def email(self):\n",
    "        match = re.search(r'[a-z0-9\\.\\-+_]+@[a-z0-9\\.\\-+_]+\\.[a-z]+', self.text)\n",
    "        if match:\n",
    "            return match.group(0)\n",
    "        return None\n",
    "\n",
    "    def phone(self):\n",
    "        match = re.search(self.phone_pattern, self.text)\n",
    "        if match:\n",
    "            return match.group(0)\n",
    "        return None\n",
    "\n",
    "    def parse(self):\n",
    "        return {\n",
    "            'email': self.email(),\n",
    "            'phone': self.phone()\n",
    "        }\n",
    "\n",
    "\n",
    "class UkParser(Parser):\n",
    "    phone_pattern = r'(\\+\\d{1}-\\d{3}-\\d{3}-\\d{4})'\n",
    "\n",
    "\n",
    "if __name__ == '__main__':\n",
    "    s = 'Contact us via 408-205-5663 or email@test.com'\n",
    "    parser = Parser(s)\n",
    "    print(parser.parse())\n",
    "\n",
    "    s2 = 'Contact me via +1-650-453-3456 or email@test.co.uk'\n",
    "    parser = UkParser(s2)\n",
    "    print(parser.parse())"
   ]
  },
  {
   "cell_type": "markdown",
   "metadata": {},
   "source": [
    "* In this example, the Parser has a class variable phone_pattern. The phone() method in the Parser class uses the phone_pattern to extract a phone number.\n",
    "\n",
    "* The UkParser child class redefines (or overrides) the phone_pattern class attribute.\n",
    "\n",
    "* If you call the parse() method from the UkParser‘s instance, the parse() method calls the phone() method that uses the phone_pattern defined in the UkParser class."
   ]
  },
  {
   "cell_type": "markdown",
   "metadata": {},
   "source": [
    "### **Python super**\n",
    "* First, define an Employee class:"
   ]
  },
  {
   "cell_type": "code",
   "execution_count": 38,
   "metadata": {},
   "outputs": [],
   "source": [
    "class Employee:\n",
    "    def __init__(self, name, base_pay, bonus):\n",
    "        self.name = name\n",
    "        self.base_pay = base_pay\n",
    "        self.bonus = bonus\n",
    "\n",
    "    def get_pay(self):\n",
    "        return self.base_pay + self.bonus"
   ]
  },
  {
   "cell_type": "markdown",
   "metadata": {},
   "source": [
    "* The Employee class has three instance variables name, base_pay, and bonus. It also has the get_pay() method that returns the total of base_pay and bonus.\n",
    "\n",
    "* Second, define the SalesEmployee class that inherits from the Employee class:"
   ]
  },
  {
   "cell_type": "code",
   "execution_count": 39,
   "metadata": {},
   "outputs": [],
   "source": [
    "class SalesEmployee(Employee):\n",
    "    def __init__(self, name, base_pay, bonus, sales_incentive):\n",
    "        self.name = name\n",
    "        self.base_pay = base_pay\n",
    "        self.bonus = bonus\n",
    "        self.sales_incentive = sales_incentive\n",
    "\n",
    "    def get_pay(self):\n",
    "        return self.base_pay + self.bonus + self.sales_incentive"
   ]
  },
  {
   "cell_type": "markdown",
   "metadata": {},
   "source": [
    "* The SalesEmployee class has four instance variables name, base_pay, bonus, and sales_incentive. It has the get_pay() method that overrides the get_pay() method in the Employee class.\n",
    "\n",
    "### **super().__init__()**\n",
    "* The __init__() method of the SalesEmployee class has some parts that are the same as the ones in the __init__() method of the Employee class.\n",
    "\n",
    "* To avoid duplication, you can call the __init__() method of Employee class from the __init__() method of the SalesEmployee class.\n",
    "\n",
    "* To reference the Employee class in the SalesEmployee class, you use the super(). The super() returns a reference of the parent class from a child class.\n",
    "\n",
    "* The following redefines the SalesEmployee class that uses the super() to call the __init__() method of the Employee class:"
   ]
  },
  {
   "cell_type": "code",
   "execution_count": 40,
   "metadata": {},
   "outputs": [],
   "source": [
    "class SalesEmployee(Employee):\n",
    "    def __init__(self, name, base_pay, bonus, sales_incentive):\n",
    "        super().__init__(name, base_pay, bonus)\n",
    "        self.sales_incentive = sales_incentive\n",
    "\n",
    "    def get_pay(self):\n",
    "        return self.base_pay + self.bonus + self.sales_incentive"
   ]
  },
  {
   "cell_type": "markdown",
   "metadata": {},
   "source": [
    "* When you create an instance of the SalesEmployee class, Python will execute the __init__() method in the SalesEmployee class. In turn, this __init__() method calls the __init__() method of the Employee class to initialize the name, base_pay, and bonus.\n",
    "\n",
    "#### **Delegating to other methods in the parent class**\n",
    "* The get_pay() method of the SalesEmployee class has some logic that is already defined in the get_pay() method of the Employee class. Therefore, you can reuse this logic in the get_pay() method of the SalesEmployee class.\n",
    "\n",
    "* To do that, you can call the get_pay() method of the Employee class in the get_pay() method of SalesEmployee class as follows:"
   ]
  },
  {
   "cell_type": "code",
   "execution_count": 41,
   "metadata": {},
   "outputs": [],
   "source": [
    "class SalesEmployee(Employee):\n",
    "    def __init__(self, name, base_pay, bonus, sales_incentive):\n",
    "        super().__init__(name, base_pay, bonus)\n",
    "        self.sales_incentive = sales_incentive\n",
    "\n",
    "    def get_pay(self):\n",
    "        return super().get_pay() + self.sales_incentive"
   ]
  },
  {
   "cell_type": "markdown",
   "metadata": {},
   "source": [
    "* The following calls the get_pay() method of the Employee class from the get_pay() method in the SalesEmployee class:"
   ]
  },
  {
   "cell_type": "code",
   "execution_count": 43,
   "metadata": {},
   "outputs": [
    {
     "ename": "AttributeError",
     "evalue": "type object 'super' has no attribute 'get_pay'",
     "output_type": "error",
     "traceback": [
      "\u001b[1;31m---------------------------------------------------------------------------\u001b[0m",
      "\u001b[1;31mAttributeError\u001b[0m                            Traceback (most recent call last)",
      "Input \u001b[1;32mIn [43]\u001b[0m, in \u001b[0;36m<cell line: 1>\u001b[1;34m()\u001b[0m\n\u001b[1;32m----> 1\u001b[0m \u001b[38;5;28;43msuper\u001b[39;49m\u001b[38;5;241;43m.\u001b[39;49m\u001b[43mget_pay\u001b[49m()\n",
      "\u001b[1;31mAttributeError\u001b[0m: type object 'super' has no attribute 'get_pay'"
     ]
    }
   ],
   "source": [
    "super.get_pay()"
   ]
  },
  {
   "cell_type": "markdown",
   "metadata": {},
   "source": [
    "* When you call the get_pay() method from an instance of the SalesEmployee class, it calls the get_pay() method from the parent class (Employee) and return the sum of the result of the super().get_pay() method with the sales_incentive."
   ]
  },
  {
   "cell_type": "code",
   "execution_count": 44,
   "metadata": {},
   "outputs": [
    {
     "name": "stdout",
     "output_type": "stream",
     "text": [
      "8000\n"
     ]
    }
   ],
   "source": [
    "#Put it all together\n",
    "class Employee:\n",
    "    def __init__(self, name, base_pay, bonus):\n",
    "        self.name = name\n",
    "        self.base_pay = base_pay\n",
    "        self.bonus = bonus\n",
    "\n",
    "    def get_pay(self):\n",
    "        return self.base_pay + self.bonus\n",
    "\n",
    "\n",
    "class SalesEmployee(Employee):\n",
    "    def __init__(self, name, base_pay, bonus, sales_incentive):\n",
    "        super().__init__(name, base_pay, bonus)\n",
    "        self.sales_incentive = sales_incentive\n",
    "\n",
    "    def get_pay(self):\n",
    "        return super().get_pay() + self.sales_incentive\n",
    "\n",
    "\n",
    "if __name__ == '__main__':\n",
    "    sales_employee = SalesEmployee('John', 5000, 1000, 2000)\n",
    "    print(sales_employee.get_pay())  # 8000"
   ]
  },
  {
   "cell_type": "markdown",
   "metadata": {},
   "source": [
    "### **Python __slots__**\n",
    "* The following defines a Point2D class that has two attributes including x and y coordinates:"
   ]
  },
  {
   "cell_type": "code",
   "execution_count": 45,
   "metadata": {},
   "outputs": [],
   "source": [
    "class Point2D:\n",
    "    def __init__(self, x, y):\n",
    "        self.x = x\n",
    "        self.y = y\n",
    "\n",
    "    def __repr__(self):\n",
    "        return f'Point2D({self.x},{self.y})'"
   ]
  },
  {
   "cell_type": "markdown",
   "metadata": {},
   "source": [
    "* Each instance of the Point2D class has its own __dict__ attribute that stores the instance attributes. For example:\n",
    "\n"
   ]
  },
  {
   "cell_type": "code",
   "execution_count": 46,
   "metadata": {},
   "outputs": [
    {
     "name": "stdout",
     "output_type": "stream",
     "text": [
      "{'x': 0, 'y': 0}\n"
     ]
    }
   ],
   "source": [
    "point = Point2D(0, 0)\n",
    "print(point.__dict__)"
   ]
  },
  {
   "cell_type": "markdown",
   "metadata": {},
   "source": [
    "* By default, Python uses the dictionaries to manage the instance attributes. The dictionary allows you to add more attributes to the instance dynamically at runtime. However, it also has a certain memory overhead. If the Point2D class has many objects, there will be a lot of memory overhead.\n",
    "\n",
    "* To avoid the memory overhead, Python introduced the slots. If a class only contains fixed (or predetermined) instance attributes, you can use the slots to instruct Python to use a more compact data structure instead of dictionaries.\n",
    "\n",
    "* For example, if the Point2D class has only two instance attributes, you can specify the attributes in the slots like this:"
   ]
  },
  {
   "cell_type": "code",
   "execution_count": 47,
   "metadata": {},
   "outputs": [],
   "source": [
    "class Point2D:\n",
    "    __slots__ = ('x', 'y')\n",
    "\n",
    "    def __init__(self, x, y):\n",
    "        self.x = x\n",
    "        self.y = y\n",
    "\n",
    "    def __repr__(self):\n",
    "        return f'Point2D({self.x},{self.y})'"
   ]
  },
  {
   "cell_type": "markdown",
   "metadata": {},
   "source": [
    "* In this example, you assign an iterable (a tuple) that contains the attribute names that you’ll use in the class.\n",
    "\n",
    "* By doing this, Python will not use the __dict__ for the instances of the class. The following will cause an AttributeError error:"
   ]
  },
  {
   "cell_type": "code",
   "execution_count": 48,
   "metadata": {},
   "outputs": [
    {
     "ename": "AttributeError",
     "evalue": "'Point2D' object has no attribute '__dict__'",
     "output_type": "error",
     "traceback": [
      "\u001b[1;31m---------------------------------------------------------------------------\u001b[0m",
      "\u001b[1;31mAttributeError\u001b[0m                            Traceback (most recent call last)",
      "Input \u001b[1;32mIn [48]\u001b[0m, in \u001b[0;36m<cell line: 2>\u001b[1;34m()\u001b[0m\n\u001b[0;32m      1\u001b[0m point \u001b[38;5;241m=\u001b[39m Point2D(\u001b[38;5;241m0\u001b[39m, \u001b[38;5;241m0\u001b[39m)\n\u001b[1;32m----> 2\u001b[0m \u001b[38;5;28mprint\u001b[39m(\u001b[43mpoint\u001b[49m\u001b[38;5;241;43m.\u001b[39;49m\u001b[38;5;18;43m__dict__\u001b[39;49m)\n",
      "\u001b[1;31mAttributeError\u001b[0m: 'Point2D' object has no attribute '__dict__'"
     ]
    }
   ],
   "source": [
    "point = Point2D(0, 0)\n",
    "print(point.__dict__)"
   ]
  },
  {
   "cell_type": "code",
   "execution_count": 49,
   "metadata": {},
   "outputs": [
    {
     "name": "stdout",
     "output_type": "stream",
     "text": [
      "('x', 'y')\n"
     ]
    }
   ],
   "source": [
    "#Instead, you’ll see the __slots__ in the instance of the class. For example:\n",
    "point = Point2D(0, 0)\n",
    "print(point.__slots__)"
   ]
  },
  {
   "cell_type": "markdown",
   "metadata": {},
   "source": [
    "* Also, you cannot add more attributes to the instance dynamically at runtime. The following will result in an error:"
   ]
  },
  {
   "cell_type": "code",
   "execution_count": 50,
   "metadata": {},
   "outputs": [
    {
     "ename": "AttributeError",
     "evalue": "'Point2D' object has no attribute 'z'",
     "output_type": "error",
     "traceback": [
      "\u001b[1;31m---------------------------------------------------------------------------\u001b[0m",
      "\u001b[1;31mAttributeError\u001b[0m                            Traceback (most recent call last)",
      "Input \u001b[1;32mIn [50]\u001b[0m, in \u001b[0;36m<cell line: 1>\u001b[1;34m()\u001b[0m\n\u001b[1;32m----> 1\u001b[0m point\u001b[38;5;241m.\u001b[39mz \u001b[38;5;241m=\u001b[39m \u001b[38;5;241m0\u001b[39m\n",
      "\u001b[1;31mAttributeError\u001b[0m: 'Point2D' object has no attribute 'z'"
     ]
    }
   ],
   "source": [
    "point.z = 0"
   ]
  },
  {
   "cell_type": "code",
   "execution_count": 51,
   "metadata": {},
   "outputs": [
    {
     "name": "stdout",
     "output_type": "stream",
     "text": [
      "mappingproxy({'__doc__': None,\n",
      "              '__init__': <function Point2D.__init__ at 0x0000021F6499E050>,\n",
      "              '__module__': '__main__',\n",
      "              '__repr__': <function Point2D.__repr__ at 0x0000021F6499DBD0>,\n",
      "              '__slots__': ('x', 'y'),\n",
      "              'color': 'black',\n",
      "              'x': <member 'x' of 'Point2D' objects>,\n",
      "              'y': <member 'y' of 'Point2D' objects>})\n"
     ]
    }
   ],
   "source": [
    "#However, you can add the class attributes to the class:\n",
    "Point2D.color = 'black'\n",
    "pprint(Point2D.__dict__)"
   ]
  },
  {
   "cell_type": "markdown",
   "metadata": {},
   "source": [
    "* This code works because Python applies the slots to the instances of the class, not the class.\n",
    "\n",
    "#### **Python __slots__ and single inheritance**\n",
    "* Let’s examine the slots in the context of inheritance.\n",
    "\n",
    "* The base class uses the slots but the subclass doesn’t\n",
    "* The following defines the Point2D as the base class and Point3D as a subclass that inherits from the Point2D class:"
   ]
  },
  {
   "cell_type": "code",
   "execution_count": 52,
   "metadata": {},
   "outputs": [
    {
     "name": "stdout",
     "output_type": "stream",
     "text": [
      "{'z': 30}\n"
     ]
    }
   ],
   "source": [
    "class Point2D:\n",
    "    __slots__ = ('x', 'y')\n",
    "\n",
    "    def __init__(self, x, y):\n",
    "        self.x = x\n",
    "        self.y = y\n",
    "\n",
    "    def __repr__(self):\n",
    "        return f'Point2D({self.x},{self.y})'\n",
    "\n",
    "\n",
    "class Point3D(Point2D):\n",
    "    def __init__(self, x, y, z):\n",
    "        super().__init__(x, y)\n",
    "        self.z = z\n",
    "\n",
    "\n",
    "if __name__ == '__main__':\n",
    "    point = Point3D(10, 20, 30)\n",
    "    print(point.__dict__)"
   ]
  },
  {
   "cell_type": "markdown",
   "metadata": {},
   "source": [
    "* The Point3D class doesn’t have slots so its instance has the __dict__ attribute. In this case, the subclass Point3D uses slots from its base class (if available) and uses an instance dictionary.\n",
    "\n",
    "* If you want the Point3D class to use slots, you can define additional attributes like this:"
   ]
  },
  {
   "cell_type": "code",
   "execution_count": 53,
   "metadata": {},
   "outputs": [],
   "source": [
    "class Point3D(Point2D):\n",
    "    __slots__ = ('z',)\n",
    "\n",
    "    def __init__(self, x, y, z):\n",
    "        super().__init__(x, y)\n",
    "        self.z = z"
   ]
  },
  {
   "cell_type": "markdown",
   "metadata": {},
   "source": [
    "* Note that you don’t specify the attributes that are already specified in the __slots__ of the base class.\n",
    "\n",
    "* Now, the Point3D class will use slots for all attributes including x, y, and z.\n",
    "\n",
    "* The base class doesn’t use __slots__ and the subclass doesn’t\n",
    "* The following example defines a base class that doesn’t use the __slots__ and the subclass does:"
   ]
  },
  {
   "cell_type": "code",
   "execution_count": 54,
   "metadata": {},
   "outputs": [
    {
     "name": "stdout",
     "output_type": "stream",
     "text": [
      "('x', 'y')\n",
      "{}\n",
      "{'color': 'black'}\n"
     ]
    }
   ],
   "source": [
    "class Shape:\n",
    "    pass\n",
    "\n",
    "\n",
    "class Point2D(Shape):\n",
    "    __slots__ = ('x', 'y')\n",
    "\n",
    "    def __init__(self, x, y):\n",
    "        self.x = x\n",
    "        self.y = y\n",
    "\n",
    "\n",
    "if __name__ == '__main__':\n",
    "    # use both slots and dict to store instance attributes\n",
    "    point = Point2D(10, 10)\n",
    "    print(point.__slots__)\n",
    "    print(point.__dict__)\n",
    "\n",
    "    # can add the attribute at runtime\n",
    "    point.color = 'black'\n",
    "    print(point.__dict__)"
   ]
  },
  {
   "cell_type": "markdown",
   "metadata": {},
   "source": [
    "* In this case, the instances of the Point2D class uses both __slots__ and dictionary to store the instance attributes."
   ]
  },
  {
   "cell_type": "markdown",
   "metadata": {},
   "source": [
    "### **Python Abstract Classes**\n",
    "\n",
    "* In object-oriented programming, an abstract class is a class that cannot be instantiated. However, you can create classes that inherit from an abstract class.\n",
    "\n",
    "* Typically, you use an abstract class to create a blueprint for other classes.\n",
    "\n",
    "* Similarly, an abstract method is an method without an implementation. An abstract class may or may not include abstract methods.\n",
    "\n",
    "* Python doesn’t directly support abstract classes. But it does offer a module that allows you to define abstract classes.\n",
    "\n",
    "* To define an abstract class, you use the abc (abstract base class) module.\n",
    "\n",
    "* The abc module provides you with the infrastructure for defining abstract base classes.\n",
    "\n",
    "* For example:"
   ]
  },
  {
   "cell_type": "code",
   "execution_count": 55,
   "metadata": {},
   "outputs": [],
   "source": [
    "from abc import ABC\n",
    "\n",
    "\n",
    "class AbstractClassName(ABC):\n",
    "    pass\n"
   ]
  },
  {
   "cell_type": "markdown",
   "metadata": {},
   "source": [
    "* To define an abstract method, you use the @abstractmethod decorator:"
   ]
  },
  {
   "cell_type": "code",
   "execution_count": 56,
   "metadata": {},
   "outputs": [],
   "source": [
    "from abc import ABC, abstractmethod\n",
    "\n",
    "\n",
    "class AbstractClassName(ABC):\n",
    "    @abstractmethod\n",
    "    def abstract_method_name(self):\n",
    "        pass\n"
   ]
  },
  {
   "cell_type": "markdown",
   "metadata": {},
   "source": [
    "* Python abstract class example\n",
    "    * Suppose that you need to develop a payroll program for a company.\n",
    "\n",
    "    * The company has two groups of employees: full-time employees and hourly employees. The full-time employees get a fixed salary while the hourly employees get paid by hourly wages for their services.\n",
    "\n",
    "    * The payroll program needs to print out a payroll that includes employee names and their monthly salaries.\n",
    "\n",
    "    * To model the payroll program in an object-oriented way, you may come up with the following classes: Employee, FulltimeEmployee, HourlyEmployee, and Payroll.\n",
    "\n",
    "    * To structure the program, we’ll use modules, where each class is placed in a separate module (or file).\n",
    "\n",
    "### **The Employee class**\n",
    "* The Employee class represents an employee, either full-time or hourly. The Employee class should be an abstract class because there’re only full-time employees and hourly employees, no general employees exist.\n",
    "\n",
    "* The Employee class should have a property that returns the full name of an employee. In addition, it should have a method that calculates salary. The method for calculating salary should be an abstract method.\n",
    "\n",
    "* The following defines the Employee abstract class:"
   ]
  },
  {
   "cell_type": "code",
   "execution_count": 57,
   "metadata": {},
   "outputs": [],
   "source": [
    "from abc import ABC, abstractmethod\n",
    "\n",
    "\n",
    "class Employee(ABC):\n",
    "    def __init__(self, first_name, last_name):\n",
    "        self.first_name = first_name\n",
    "        self.last_name = last_name\n",
    "\n",
    "    @property\n",
    "    def full_name(self):\n",
    "        return f\"{self.first_name} {self.last_name}\"\n",
    "\n",
    "    @abstractmethod\n",
    "    def get_salary(self):\n",
    "        pass\n"
   ]
  },
  {
   "cell_type": "markdown",
   "metadata": {},
   "source": [
    "### **The FulltimeEmployee class**\n",
    "* The FulltimeEmployee class inherits from the Employee class. It’ll provide the implementation for the get_salary() method.\n",
    "\n",
    "* Since full-time employees get fixed salaries, you can initialize the salary in the constructor of the class.\n",
    "\n",
    "* The following illustrates the FulltimeEmployee class:"
   ]
  },
  {
   "cell_type": "code",
   "execution_count": 58,
   "metadata": {},
   "outputs": [],
   "source": [
    "class FulltimeEmployee(Employee):\n",
    "    def __init__(self, first_name, last_name, salary):\n",
    "        super().__init__(first_name, last_name)\n",
    "        self.salary = salary\n",
    "\n",
    "    def get_salary(self):\n",
    "        return self.salary\n"
   ]
  },
  {
   "cell_type": "markdown",
   "metadata": {},
   "source": [
    "### **The HourlyEmployee class**\n",
    "* The HourlyEmployee also inherits from the Employee class. However, hourly employees get paid by working hours and their rates. Therefore, you can initialize this information in the constructor of the class.\n",
    "\n",
    "* To calculate the salary for the hourly employees, you multiply the working hours and rates.\n",
    "\n",
    "* The following shows the HourlyEmployee class:"
   ]
  },
  {
   "cell_type": "code",
   "execution_count": 59,
   "metadata": {},
   "outputs": [],
   "source": [
    "class HourlyEmployee(Employee):\n",
    "    def __init__(self, first_name, last_name, worked_hours, rate):\n",
    "        super().__init__(first_name, last_name)\n",
    "        self.worked_hours = worked_hours\n",
    "        self.rate = rate\n",
    "\n",
    "    def get_salary(self):\n",
    "        return self.worked_hours * self.rate\n"
   ]
  },
  {
   "cell_type": "markdown",
   "metadata": {},
   "source": [
    "### **The Payroll class**\n",
    "* The Payroll class will have a method that adds an employee to the employee list and print out the payroll.\n",
    "\n",
    "* Since fulltime and hourly employees share the same interfaces (full_time property and get_salary() method). Therefore, the Payroll class doesn’t need to distinguish them.\n",
    "\n",
    "* The following shows the Payroll class:"
   ]
  },
  {
   "cell_type": "code",
   "execution_count": 60,
   "metadata": {},
   "outputs": [],
   "source": [
    "class Payroll:\n",
    "    def __init__(self):\n",
    "        self.employee_list = []\n",
    "\n",
    "    def add(self, employee):\n",
    "        self.employee_list.append(employee)\n",
    "\n",
    "    def print(self):\n",
    "        for e in self.employee_list:\n",
    "            print(f\"{e.full_name} \\t ${e.get_salary()}\")\n"
   ]
  },
  {
   "cell_type": "code",
   "execution_count": 61,
   "metadata": {},
   "outputs": [
    {
     "ename": "ModuleNotFoundError",
     "evalue": "No module named 'fulltimeemployee'",
     "output_type": "error",
     "traceback": [
      "\u001b[1;31m---------------------------------------------------------------------------\u001b[0m",
      "\u001b[1;31mModuleNotFoundError\u001b[0m                       Traceback (most recent call last)",
      "Input \u001b[1;32mIn [61]\u001b[0m, in \u001b[0;36m<cell line: 3>\u001b[1;34m()\u001b[0m\n\u001b[0;32m      1\u001b[0m \u001b[38;5;66;03m#The main program\u001b[39;00m\n\u001b[0;32m      2\u001b[0m \u001b[38;5;66;03m#The following app.py uses the FulltimeEmployee, HourlyEmployee, and Payroll classes to print out the payroll of five employees.\u001b[39;00m\n\u001b[1;32m----> 3\u001b[0m \u001b[38;5;28;01mfrom\u001b[39;00m \u001b[38;5;21;01mfulltimeemployee\u001b[39;00m \u001b[38;5;28;01mimport\u001b[39;00m FulltimeEmployee\n\u001b[0;32m      4\u001b[0m \u001b[38;5;28;01mfrom\u001b[39;00m \u001b[38;5;21;01mhourlyemployee\u001b[39;00m \u001b[38;5;28;01mimport\u001b[39;00m HourlyEmployee\n\u001b[0;32m      5\u001b[0m \u001b[38;5;28;01mfrom\u001b[39;00m \u001b[38;5;21;01mpayroll\u001b[39;00m \u001b[38;5;28;01mimport\u001b[39;00m Payroll\n",
      "\u001b[1;31mModuleNotFoundError\u001b[0m: No module named 'fulltimeemployee'"
     ]
    }
   ],
   "source": [
    "#The main program\n",
    "#The following app.py uses the FulltimeEmployee, HourlyEmployee, and Payroll classes to print out the payroll of five employees.\n",
    "from fulltimeemployee import FulltimeEmployee\n",
    "from hourlyemployee import HourlyEmployee\n",
    "from payroll import Payroll\n",
    "\n",
    "payroll = Payroll()\n",
    "\n",
    "payroll.add(FulltimeEmployee('John', 'Doe', 6000))\n",
    "payroll.add(FulltimeEmployee('Jane', 'Doe', 6500))\n",
    "payroll.add(HourlyEmployee('Jenifer', 'Smith', 200, 50))\n",
    "payroll.add(HourlyEmployee('David', 'Wilson', 150, 100))\n",
    "payroll.add(HourlyEmployee('Kevin', 'Miller', 100, 150))\n",
    "\n",
    "payroll.print()"
   ]
  },
  {
   "attachments": {
    "image.png": {
     "image/png": "[encoded data removed]"
    }
   },
   "cell_type": "markdown",
   "metadata": {},
   "source": [
    "![image.png](attachment:image.png)"
   ]
  },
  {
   "attachments": {
    "image.png": {
     "image/png": "[encoded data removed]"
    }
   },
   "cell_type": "markdown",
   "metadata": {},
   "source": [
    " ### **Multiple inheritance**\n",
    " * When a class inherits from a single class, you have single inheritance. Python allows a class to inherit from multiple classes. If a class inherits from two or more classes, you’ll have multiple inheritance.\n",
    "\n",
    "* To extend multiple classes, you specify the parent classes inside the parentheses () after the class name of the child class like this:\n",
    "![image.png](attachment:image.png)"
   ]
  },
  {
   "cell_type": "code",
   "execution_count": 63,
   "metadata": {},
   "outputs": [],
   "source": [
    "#First, define a class Car that has the go() method:\n",
    "class Car:\n",
    "    def go(self):\n",
    "        print('Going')"
   ]
  },
  {
   "cell_type": "code",
   "execution_count": 64,
   "metadata": {},
   "outputs": [],
   "source": [
    "#Second, define a class Flyable that has the fly() method:\n",
    "class Flyable:\n",
    "    def fly(self):\n",
    "        print('Flying')"
   ]
  },
  {
   "cell_type": "code",
   "execution_count": 65,
   "metadata": {},
   "outputs": [],
   "source": [
    "#Third, define the FlyingCar that inherits from both Car and Flyable classes:\n",
    "class FlyingCar(Flyable, Car):\n",
    "    pass"
   ]
  },
  {
   "cell_type": "markdown",
   "metadata": {},
   "source": [
    "* Since the FlyingCar inherits from Car and Flyable classes, it reuses the methods from those classes. It means you can call the go() and fly() methods on an instance of the FlyingCar class like this:"
   ]
  },
  {
   "cell_type": "code",
   "execution_count": 66,
   "metadata": {},
   "outputs": [
    {
     "name": "stdout",
     "output_type": "stream",
     "text": [
      "Going\n",
      "Flying\n"
     ]
    }
   ],
   "source": [
    "if __name__ == '__main__':\n",
    "    fc = FlyingCar()\n",
    "    fc.go()\n",
    "    fc.fly()"
   ]
  },
  {
   "attachments": {
    "image.png": {
     "image/png": "[encoded data removed]"
    }
   },
   "cell_type": "markdown",
   "metadata": {},
   "source": [
    "### **Method resolution order (MRO)**\n",
    "* When the parent classes have methods with the same name and the child class calls the method, Python uses the method resolution order (MRO) to search for the right method to call. Consider the following example:\n",
    "![image.png](attachment:image.png)\n",
    "* First, add the start() method to the Car, Flyable, and FlyingCar classes. In the start() method of the FlyingCar class, call the start() method of the super():"
   ]
  },
  {
   "cell_type": "code",
   "execution_count": 67,
   "metadata": {},
   "outputs": [],
   "source": [
    "class Car:\n",
    "    def start(self):\n",
    "        print('Start the Car')\n",
    "\n",
    "    def go(self):\n",
    "        print('Going')\n",
    "\n",
    "\n",
    "class Flyable:\n",
    "    def start(self):\n",
    "        print('Start the Flyable object')\n",
    "\n",
    "    def fly(self):\n",
    "        print('Flying')\n",
    "\n",
    "\n",
    "class FlyingCar(Flyable, Car):\n",
    "    def start(self):\n",
    "        super().start()"
   ]
  },
  {
   "cell_type": "code",
   "execution_count": 68,
   "metadata": {},
   "outputs": [
    {
     "name": "stdout",
     "output_type": "stream",
     "text": [
      "Start the Flyable object\n"
     ]
    }
   ],
   "source": [
    "#Second, create an instance of the FlyingCar class and call the start() method:\n",
    "if __name__ == '__main__':\n",
    "    car = FlyingCar()\n",
    "    car.start()"
   ]
  },
  {
   "cell_type": "markdown",
   "metadata": {},
   "source": [
    "* As you can see clearly from the output, the super().start() calls the start() method of the Flyable class.\n",
    "\n",
    "* The following shows the __mro__ of the FlyingCar class:"
   ]
  },
  {
   "cell_type": "code",
   "execution_count": 69,
   "metadata": {},
   "outputs": [
    {
     "name": "stdout",
     "output_type": "stream",
     "text": [
      "(<class '__main__.FlyingCar'>, <class '__main__.Flyable'>, <class '__main__.Car'>, <class 'object'>)\n"
     ]
    }
   ],
   "source": [
    "print(FlyingCar.__mro__)"
   ]
  },
  {
   "cell_type": "markdown",
   "metadata": {},
   "source": [
    "* From left to right, you’ll see the FlyingCar, Flyable, Car, and object.\n",
    "\n",
    "* Note that the Car and Flyable objects inherit from the object class implicitly. When you call the start() method from the FlyingCar‘s object, Python uses the __mro__ class search path.\n",
    "\n",
    "* Since the Flyable class is next to the FlyingCar class, the super().start() calls the start() method of the FlyingCar class.\n",
    "\n",
    "* If you flip the order of Flyable and Car classes in the list, the __mro__ will change accordingly. For example:"
   ]
  },
  {
   "cell_type": "code",
   "execution_count": 70,
   "metadata": {},
   "outputs": [
    {
     "name": "stdout",
     "output_type": "stream",
     "text": [
      "Start the Car\n",
      "(<class '__main__.FlyingCar'>, <class '__main__.Car'>, <class '__main__.Flyable'>, <class 'object'>)\n"
     ]
    }
   ],
   "source": [
    "# Car, Flyable classes...\n",
    "\n",
    "\n",
    "class FlyingCar(Car, Flyable):\n",
    "    def start(self):\n",
    "        super().start()\n",
    "\n",
    "\n",
    "if __name__ == '__main__':\n",
    "    car = FlyingCar()\n",
    "    car.start()\n",
    "\n",
    "    print(FlyingCar.__mro__)"
   ]
  },
  {
   "cell_type": "markdown",
   "metadata": {},
   "source": [
    "* In this example, the super().start() calls the start() method of the Car class instead, based on their orders in the method order resolution.\n",
    "\n",
    "### **Multiple inheritance & super**\n",
    "* First, add the __init__ method to the Car class:"
   ]
  },
  {
   "cell_type": "code",
   "execution_count": 71,
   "metadata": {},
   "outputs": [],
   "source": [
    "class Car:\n",
    "    def __init__(self, door, wheel):\n",
    "        self.door = door\n",
    "        self.wheel = wheel\n",
    "\n",
    "    def start(self):\n",
    "        print('Start the Car')\n",
    "\n",
    "    def go(self):\n",
    "        print('Going')"
   ]
  },
  {
   "cell_type": "code",
   "execution_count": 72,
   "metadata": {},
   "outputs": [],
   "source": [
    "#Second, add the __init__ method to the Flyable class:\n",
    "class Flyable:\n",
    "    def __init__(self, wing):\n",
    "        self.wing = wing\n",
    "\n",
    "    def start(self):\n",
    "        print('Start the Flyable object')\n",
    "\n",
    "    def fly(self):\n",
    "        print('Flying')"
   ]
  },
  {
   "cell_type": "markdown",
   "metadata": {},
   "source": [
    "* The __init__ of the Car and Flyable classes accept a different number of parameters. If the FlyingCar class inherits from the Car and Flyable classes, its __init__ method needs to call the right __init__ method specified in the method order resolution __mro__ of the FlyingCar class.\n",
    "\n",
    "* Third, add the __init__ method to the FlyingCar class:"
   ]
  },
  {
   "cell_type": "code",
   "execution_count": 73,
   "metadata": {},
   "outputs": [],
   "source": [
    "class FlyingCar(Flyable, Car):\n",
    "    def __init__(self, door, wheel, wing):\n",
    "        super().__init__(wing=wing)\n",
    "        self.door = door\n",
    "        self.wheel = wheel\n",
    "\n",
    "    def start(self):\n",
    "        super().start()"
   ]
  },
  {
   "attachments": {
    "image.png": {
     "image/png": "[encoded data removed]"
    }
   },
   "cell_type": "markdown",
   "metadata": {},
   "source": [
    "* The method order resolution of the FlyingCar class is:\n",
    "![image.png](attachment:image.png)\n",
    "* the super().__init__() calls the __init__ of the FlyingCar class. Therefore, you need to pass the wing argument to the __init__ method.\n",
    "\n",
    "* Because the FlyingCar class cannot access the __init__ method of the Car class, you need to initialize the doorand wheel attributes individually."
   ]
  },
  {
   "cell_type": "markdown",
   "metadata": {},
   "source": [
    "### **Python mixin**\n",
    "#### **What is a mixin in Python?**\n",
    "* A mixin is a class that provides method implementations for reuse by multiple related child classes. However, the inheritance is not implying an is-a relationship.\n",
    "\n",
    "* A mixin doesn’t define a new type. Therefore, it is not intended for direction instantiation.\n",
    "\n",
    "* A mixin bundles a set of methods for reuse. Each mixin should have a single specific behavior, implementing closely related methods.\n",
    "\n",
    "* Typically, a child class uses multiple inheritance to combine the mixin classes with a parent class.\n",
    "\n",
    "* Since Python doesn’t define a formal way to define mixin classes, it’s a good practice to name mixin classes with the suffix Mixin.\n",
    "\n",
    "* A mixin class is like an interface in Java and C# with implementation. And it’s like a trait in PHP.\n",
    "\n",
    "#### **Python Mixin example**\n",
    "* First, define a Person class:"
   ]
  },
  {
   "cell_type": "code",
   "execution_count": 74,
   "metadata": {},
   "outputs": [],
   "source": [
    "class Person:\n",
    "    def __init__(self, name):\n",
    "        self.name = name"
   ]
  },
  {
   "cell_type": "code",
   "execution_count": 75,
   "metadata": {},
   "outputs": [],
   "source": [
    "#Second, define an Employee class that inherits from the Person class:\n",
    "class Employee(Person):\n",
    "    def __init__(self, name, skills, dependents):\n",
    "        super().__init__(name)\n",
    "        self.skills = skills\n",
    "        self.dependents = dependents"
   ]
  },
  {
   "cell_type": "code",
   "execution_count": 76,
   "metadata": {},
   "outputs": [],
   "source": [
    "#Third, create a new instance of the Employee class:\n",
    "if __name__ == '__main__':\n",
    "    e = Employee(\n",
    "        name='John',\n",
    "        skills=['Python Programming''Project Management'],\n",
    "        dependents={'wife': 'Jane', 'children': ['Alice', 'Bob']}\n",
    "    )"
   ]
  },
  {
   "cell_type": "markdown",
   "metadata": {},
   "source": [
    "* Suppose you want to convert the Employee object to a dictionary. To do that, you can add a new method to the Employee class, which converts the object to a dictionary.\n",
    "\n",
    "* However, you may want to convert objects of other classes to dictionaries. To make the code reusable, you can define a mixin class called DictMixin like the following:"
   ]
  },
  {
   "cell_type": "code",
   "execution_count": 77,
   "metadata": {},
   "outputs": [],
   "source": [
    "class DictMixin:\n",
    "    def to_dict(self):\n",
    "        return self._traverse_dict(self.__dict__)\n",
    "\n",
    "    def _traverse_dict(self, attributes: dict) -> dict:\n",
    "        result = {}\n",
    "        for key, value in attributes.items():\n",
    "            result[key] = self._traverse(key, value)\n",
    "\n",
    "        return result\n",
    "\n",
    "    def _traverse(self, key, value):\n",
    "        if isinstance(value, DictMixin):\n",
    "            return value.to_dict()\n",
    "        elif isinstance(value, dict):\n",
    "            return self._traverse_dict(value)\n",
    "        elif isinstance(value, list):\n",
    "            return [self._traverse(key, v) for v in value]\n",
    "        elif hasattr(value, '__dict__'):\n",
    "            return self._traverse_dict(value.__dict__)\n",
    "        else:\n",
    "            return value"
   ]
  },
  {
   "cell_type": "markdown",
   "metadata": {},
   "source": [
    "* The DictMixin class has the to_dict() method that converts an object to a dictionary.\n",
    "\n",
    "* The _traverse_dict() method iterates the object’s attributes and assigns the key and value to the result.\n",
    "\n",
    "* The attribute of an object may be a list, a dictionary, or an object with the __dict__ attribute. Therefore, the _traverse_dict() method uses the _traverse() method to convert the attribute to value.\n",
    "\n",
    "* To convert instances of the Employee class to dictionaries, the Employee needs to inherit from both DictMixin and Person classes:"
   ]
  },
  {
   "cell_type": "code",
   "execution_count": 78,
   "metadata": {},
   "outputs": [],
   "source": [
    "class Employee(DictMixin, Person):\n",
    "    def __init__(self, name, skills, dependents):\n",
    "        super().__init__(name)\n",
    "        self.skills = skills\n",
    "        self.dependents = dependents"
   ]
  },
  {
   "cell_type": "markdown",
   "metadata": {},
   "source": [
    "* that you need to specify the mixin classes before other classes.\n",
    "\n",
    "* The following creates a new instance of the Employee class and converts it to a dictionary:"
   ]
  },
  {
   "cell_type": "code",
   "execution_count": 79,
   "metadata": {},
   "outputs": [
    {
     "name": "stdout",
     "output_type": "stream",
     "text": [
      "{'dependents': {'children': ['Alice', 'Bob'], 'wife': 'Jane'},\n",
      " 'name': 'John',\n",
      " 'skills': ['Python Programming', 'Project Management']}\n"
     ]
    }
   ],
   "source": [
    "e = Employee(\n",
    "    name='John',\n",
    "    skills=['Python Programming', 'Project Management'],\n",
    "    dependents={'wife': 'Jane', 'children': ['Alice', 'Bob']}\n",
    ")\n",
    "\n",
    "pprint(e.to_dict())"
   ]
  },
  {
   "cell_type": "markdown",
   "metadata": {},
   "source": [
    "* The following shows the complete code:"
   ]
  },
  {
   "cell_type": "code",
   "execution_count": 80,
   "metadata": {},
   "outputs": [
    {
     "name": "stdout",
     "output_type": "stream",
     "text": [
      "{'dependents': {'children': ['Alice', 'Bob'], 'wife': 'Jane'},\n",
      " 'name': 'John',\n",
      " 'skills': ['Python Programming', 'Project Management']}\n"
     ]
    }
   ],
   "source": [
    "from pprint import pprint\n",
    "\n",
    "\n",
    "class DictMixin:\n",
    "    def to_dict(self):\n",
    "        return self._traverse_dict(self.__dict__)\n",
    "\n",
    "    def _traverse_dict(self, attributes):\n",
    "        result = {}\n",
    "        for key, value in attributes.items():\n",
    "            result[key] = self._traverse(key, value)\n",
    "\n",
    "        return result\n",
    "\n",
    "    def _traverse(self, key, value):\n",
    "        if isinstance(value, DictMixin):\n",
    "            return value.to_dict()\n",
    "        elif isinstance(value, dict):\n",
    "            return self._traverse_dict(value)\n",
    "        elif isinstance(value, list):\n",
    "            return [self._traverse(key, v) for v in value]\n",
    "        elif hasattr(value, '__dict__'):\n",
    "            return self._traverse_dict(value.__dict__)\n",
    "        else:\n",
    "            return value\n",
    "\n",
    "\n",
    "class Person:\n",
    "    def __init__(self, name):\n",
    "        self.name = name\n",
    "\n",
    "\n",
    "class Employee(DictMixin, Person):\n",
    "    def __init__(self, name, skills, dependents):\n",
    "        super().__init__(name)\n",
    "        self.skills = skills\n",
    "        self.dependents = dependents\n",
    "\n",
    "\n",
    "if __name__ == '__main__':\n",
    "    e = Employee(\n",
    "        name='John',\n",
    "        skills=['Python Programming', 'Project Management'],\n",
    "        dependents={'wife': 'Jane', 'children': ['Alice', 'Bob']}\n",
    "    )\n",
    "\n",
    "    pprint(e.to_dict())"
   ]
  },
  {
   "cell_type": "markdown",
   "metadata": {},
   "source": [
    "### **Compose multiple mixin classes**\n",
    "* Suppose you want to convert the Employee‘s object to JSON. To do that, you can first define a new mixin class that use the json standard module:"
   ]
  },
  {
   "cell_type": "code",
   "execution_count": 81,
   "metadata": {},
   "outputs": [],
   "source": [
    "import json\n",
    "\n",
    "class JSONMixin:\n",
    "    def to_json(self):\n",
    "        return json.dumps(self.to_dict())"
   ]
  },
  {
   "cell_type": "code",
   "execution_count": 82,
   "metadata": {},
   "outputs": [],
   "source": [
    "#And then change the Employee class so that it inherits the JSONMixin class:\n",
    "class Employee(DictMixin, JSONMixin, Person):\n",
    "    def __init__(self, name, skills, dependents):\n",
    "        super().__init__(name)\n",
    "        self.skills = skills\n",
    "        self.dependents = dependents"
   ]
  },
  {
   "cell_type": "code",
   "execution_count": 83,
   "metadata": {},
   "outputs": [
    {
     "name": "stdout",
     "output_type": "stream",
     "text": [
      "{'dependents': {'children': ['Alice', 'Bob'], 'wife': 'Jane'},\n",
      " 'name': 'John',\n",
      " 'skills': ['Python ProgrammingProject Management']}\n",
      "{\"name\": \"John\", \"skills\": [\"Python ProgrammingProject Management\"], \"dependents\": {\"wife\": \"Jane\", \"children\": [\"Alice\", \"Bob\"]}}\n"
     ]
    }
   ],
   "source": [
    "#The following creates a new instance of the Employee class and converts it to a dictionary and json:\n",
    "if __name__ == '__main__':\n",
    "    e = Employee(\n",
    "        name='John',\n",
    "        skills=['Python Programming''Project Management'],\n",
    "        dependents={'wife': 'Jane', 'children': ['Alice', 'Bob']}\n",
    "    )\n",
    "\n",
    "    pprint(e.to_dict())\n",
    "    print(e.to_json())"
   ]
  },
  {
   "cell_type": "code",
   "execution_count": 84,
   "metadata": {},
   "outputs": [
    {
     "name": "stdout",
     "output_type": "stream",
     "text": [
      "{'dependents': {'children': ['Alice', 'Bob'], 'wife': 'Jane'},\n",
      " 'name': 'John',\n",
      " 'skills': ['Python ProgrammingProject Management']}\n",
      "{\"name\": \"John\", \"skills\": [\"Python ProgrammingProject Management\"], \"dependents\": {\"wife\": \"Jane\", \"children\": [\"Alice\", \"Bob\"]}}\n"
     ]
    }
   ],
   "source": [
    "#The following shows the complete code:\n",
    "import json\n",
    "from pprint import pprint\n",
    "\n",
    "\n",
    "class DictMixin:\n",
    "    def to_dict(self):\n",
    "        return self._traverse_dict(self.__dict__)\n",
    "\n",
    "    def _traverse_dict(self, attributes):\n",
    "        result = {}\n",
    "        for key, value in attributes.items():\n",
    "            result[key] = self._traverse(key, value)\n",
    "\n",
    "        return result\n",
    "\n",
    "    def _traverse(self, key, value):\n",
    "        if isinstance(value, DictMixin):\n",
    "            return value.to_dict()\n",
    "        elif isinstance(value, dict):\n",
    "            return self._traverse_dict(value)\n",
    "        elif isinstance(value, list):\n",
    "            return [self._traverse(key, v) for v in value]\n",
    "        elif hasattr(value, '__dict__'):\n",
    "            return self._traverse_dict(value.__dict__)\n",
    "        else:\n",
    "            return value\n",
    "\n",
    "\n",
    "class JSONMixin:\n",
    "    def to_json(self):\n",
    "        return json.dumps(self.to_dict())\n",
    "\n",
    "\n",
    "class Person:\n",
    "    def __init__(self, name):\n",
    "        self.name = name\n",
    "\n",
    "\n",
    "class Employee(DictMixin, JSONMixin, Person):\n",
    "    def __init__(self, name, skills, dependents):\n",
    "        super().__init__(name)\n",
    "        self.skills = skills\n",
    "        self.dependents = dependents\n",
    "\n",
    "\n",
    "if __name__ == '__main__':\n",
    "    e = Employee(\n",
    "        name='John',\n",
    "        skills=['Python Programming''Project Management'],\n",
    "        dependents={'wife': 'Jane', 'children': ['Alice', 'Bob']}\n",
    "    )\n",
    "\n",
    "    pprint(e.to_dict())\n",
    "    print(e.to_json())"
   ]
  },
  {
   "cell_type": "markdown",
   "metadata": {},
   "source": [
    "### **Python Descriptors**\n",
    "* Suppose you have a class Person with two instance attributes first_name and last_name:"
   ]
  },
  {
   "cell_type": "code",
   "execution_count": 85,
   "metadata": {},
   "outputs": [],
   "source": [
    "class Person:\n",
    "    def __init__(self, first_name, last_name):\n",
    "        self.first_name = first_name\n",
    "        self.last_name = last_name"
   ]
  },
  {
   "cell_type": "markdown",
   "metadata": {},
   "source": [
    "* And you want the first_name and last_name attributes to be non-empty strings. These plain attributes cannot guarantee this.\n",
    "\n",
    "* To enforce the data validity, you can use property with a getter and setter methods, like this:"
   ]
  },
  {
   "cell_type": "code",
   "execution_count": 86,
   "metadata": {},
   "outputs": [],
   "source": [
    "class Person:\n",
    "    def __init__(self, first_name, last_name):\n",
    "        self.first_name = first_name\n",
    "        self.last_name = last_name\n",
    "\n",
    "    @property\n",
    "    def first_name(self):\n",
    "        return self._first_name\n",
    "\n",
    "    @first_name.setter\n",
    "    def first_name(self, value):\n",
    "        if not isinstance(value, str):\n",
    "            raise ValueError('The first name must a string')\n",
    "\n",
    "        if len(value) == 0:\n",
    "            raise ValueError('The first name cannot be empty')\n",
    "\n",
    "        self._first_name = value\n",
    "\n",
    "    @property\n",
    "    def last_name(self):\n",
    "        return self._last_name\n",
    "\n",
    "    @last_name.setter\n",
    "    def last_name(self, value):\n",
    "        if not isinstance(value, str):\n",
    "            raise ValueError('The last name must a string')\n",
    "\n",
    "        if len(value) == 0:\n",
    "            raise ValueError('The last name cannot be empty')\n",
    "\n",
    "        self._last_name = value"
   ]
  },
  {
   "cell_type": "markdown",
   "metadata": {},
   "source": [
    "* In this Person class, the getter returns the attribute value while the setter validates it before assigning it to the attribute.\n",
    "\n",
    "* This code works perfectly fine. However, it is redundant because the validation logic validates the first and last names is the same.\n",
    "\n",
    "* Also, if the class has more attributes that require a non-empty string, you need to duplicate this logic in other properties. In other words, this validation logic is not reusable.\n",
    "\n",
    "* To avoid duplicating the logic, you may have a method that validates data and reuse this method in other properties. This approach will enable reusability. However, Python has a better way to solve this by using descriptors.\n",
    "\n",
    "* First, define a descriptor class that implements three methods __set_name__, __get__, and __set__:"
   ]
  },
  {
   "cell_type": "code",
   "execution_count": 87,
   "metadata": {},
   "outputs": [],
   "source": [
    "class RequiredString:\n",
    "    def __set_name__(self, owner, name):\n",
    "        self.property_name = name\n",
    "\n",
    "    def __get__(self, instance, owner):\n",
    "        if instance is None:\n",
    "            return self\n",
    "\n",
    "        return instance.__dict__[self.property_name] or None\n",
    "\n",
    "    def __set__(self, instance, value):\n",
    "        if not isinstance(value, str):\n",
    "            raise ValueError(f'The {self.property_name} must be a string')\n",
    "\n",
    "        if len(value) == 0:\n",
    "            raise ValueError(f'The {self.property_name} cannot be empty')\n",
    "\n",
    "        instance.__dict__[self.property_name] = value"
   ]
  },
  {
   "cell_type": "code",
   "execution_count": 88,
   "metadata": {},
   "outputs": [],
   "source": [
    "#Second, use the RequiredString class in the Person class:\n",
    "class Person:\n",
    "    first_name = RequiredString()\n",
    "    last_name = RequiredString()"
   ]
  },
  {
   "cell_type": "markdown",
   "metadata": {},
   "source": [
    "* If you assign an empty string or a non-string value to the first_name or last_name attribute of the Person class, you’ll get an error.\n",
    "\n",
    "* For example, the following attempts to assign an empty string to the first_name attribute:"
   ]
  },
  {
   "cell_type": "code",
   "execution_count": 89,
   "metadata": {},
   "outputs": [
    {
     "name": "stdout",
     "output_type": "stream",
     "text": [
      "The first_name cannot be empty\n"
     ]
    }
   ],
   "source": [
    "try:\n",
    "    person = Person()\n",
    "    person.first_name = ''\n",
    "except ValueError as e:\n",
    "    print(e)"
   ]
  },
  {
   "attachments": {
    "image.png": {
     "image/png": "[encoded data removed]"
    }
   },
   "cell_type": "markdown",
   "metadata": {},
   "source": [
    "* Also, you can use the RequiredString class in any class with attributes that require a non-empty string value.\n",
    "\n",
    "* Besides the RequiredString, you can define other descriptors to enforce other data types like age, email, and phone. And this is just a simple application of the descriptors.\n",
    "\n",
    "* Let’s understand how descriptors work.\n",
    "\n",
    "#### **Descriptor protocol**\n",
    "* In Python, the descriptor protocol consists of three methods:\n",
    "![image.png](attachment:image.png)\n",
    "\n",
    "* Optionally, a descriptor can have the __set_name__ method that sets an attribute on an instance of a class to a new value.\n",
    "\n",
    "#### **What is a descriptor**\n",
    "* A descriptor is an object of a class that implements one of the methods specified in the descriptor protocol.\n",
    "\n",
    "* Descriptors have two types: **data descriptor** and **non-data descriptor**.\n",
    "\n",
    "* A data descriptor is an object of a class that implements the __set__ and/or __delete__ method.\n",
    "* A non-data descriptor is an object that implements the __get__ method only.\n",
    "* The descriptor type specifies the property lookup resolution that we’ll cover in the next tutorial.\n",
    "\n",
    "#### **How descriptors work?**\n",
    "* The following modifies the RequiredString class to include the print statements that print out the arguments.\n"
   ]
  },
  {
   "cell_type": "code",
   "execution_count": 90,
   "metadata": {},
   "outputs": [
    {
     "name": "stdout",
     "output_type": "stream",
     "text": [
      "__set_name__ was called with owner=<class '__main__.Person'> and name=first_name\n",
      "__set_name__ was called with owner=<class '__main__.Person'> and name=last_name\n"
     ]
    }
   ],
   "source": [
    "class RequiredString:\n",
    "    def __set_name__(self, owner, name):\n",
    "        print(f'__set_name__ was called with owner={owner} and name={name}')\n",
    "        self.property_name = name\n",
    "\n",
    "    def __get__(self, instance, owner):\n",
    "        print(f'__get__ was called with instance={instance} and owner={owner}')\n",
    "        if instance is None:\n",
    "            return self\n",
    "\n",
    "        return instance.__dict__[self.property_name] or None\n",
    "\n",
    "    def __set__(self, instance, value):\n",
    "        print(f'__set__ was called with instance={instance} and value={value}')\n",
    "\n",
    "        if not isinstance(value, str):\n",
    "            raise ValueError(f'The {self.property_name} must a string')\n",
    "\n",
    "        if len(value) == 0:\n",
    "            raise ValueError(f'The {self.property_name} cannot be empty')\n",
    "\n",
    "        instance.__dict__[self.property_name] = value\n",
    "\n",
    "\n",
    "class Person:\n",
    "    first_name = RequiredString()\n",
    "    last_name = RequiredString()"
   ]
  },
  {
   "attachments": {
    "image.png": {
     "image/png": "[encoded data removed]"
    }
   },
   "cell_type": "markdown",
   "metadata": {},
   "source": [
    "### **The __set_name__ method**\n",
    "* When you compile the code, you’ll see that Python creates the descriptor objects for first_name and last_name and automatically call the __set_name__ method of these objects. \n",
    "* Here’s the output:\n",
    "![image.png](attachment:image.png)\n",
    "* In this example, the owner argument of __set_name__ is set to the Person class in the __main__ module, and the name argument is set to the first_name and last_name attribute accordingly.\n",
    "\n",
    "* It means that Python automatically calls the __set_name__ when the owning class Person is created. The following statements are equivalent:"
   ]
  },
  {
   "cell_type": "code",
   "execution_count": 91,
   "metadata": {},
   "outputs": [],
   "source": [
    "first_name = RequiredString()"
   ]
  },
  {
   "cell_type": "code",
   "execution_count": 92,
   "metadata": {},
   "outputs": [
    {
     "name": "stdout",
     "output_type": "stream",
     "text": [
      "__set_name__ was called with owner=<class '__main__.Person'> and name=first_name\n"
     ]
    }
   ],
   "source": [
    "#and\n",
    "first_name.__set_name__(Person, 'first_name')"
   ]
  },
  {
   "attachments": {
    "image.png": {
     "image/png": "[encoded data removed]"
    }
   },
   "cell_type": "markdown",
   "metadata": {},
   "source": [
    "* Inside, the __set_name__ method, we assign the name argument to the property_name instance attribute of the descriptor object so that we can access it later in the __get__ and __set__ method:\n",
    "![image.png](attachment:image.png)\n",
    "* The first_name and last_name are the class variables of the Person class. If you look at the Person.__dict__ class attribute, you’ll see two descriptor objects first_name and last_name:"
   ]
  },
  {
   "cell_type": "code",
   "execution_count": 93,
   "metadata": {},
   "outputs": [
    {
     "name": "stdout",
     "output_type": "stream",
     "text": [
      "mappingproxy({'__dict__': <attribute '__dict__' of 'Person' objects>,\n",
      "              '__doc__': None,\n",
      "              '__module__': '__main__',\n",
      "              '__weakref__': <attribute '__weakref__' of 'Person' objects>,\n",
      "              'first_name': <__main__.RequiredString object at 0x0000021F62EC9FC0>,\n",
      "              'last_name': <__main__.RequiredString object at 0x0000021F62ECA560>})\n"
     ]
    }
   ],
   "source": [
    "from pprint import pprint\n",
    "\n",
    "pprint(Person.__dict__)"
   ]
  },
  {
   "cell_type": "markdown",
   "metadata": {},
   "source": [
    "### **The __set__ method**\n",
    "* Here’s the __set__ method of the RequiredString class:"
   ]
  },
  {
   "cell_type": "code",
   "execution_count": 94,
   "metadata": {},
   "outputs": [],
   "source": [
    "def __set__(self, instance, value):\n",
    "    print(f'__set__ was called with instance={instance} and value={value}')\n",
    "\n",
    "    if not isinstance(value, str):\n",
    "        raise ValueError(f'The {self.property_name} must be a string')\n",
    "\n",
    "    if len(value) == 0:\n",
    "        raise ValueError(f'The {self.property_name} cannot be empty')\n",
    "\n",
    "    instance.__dict__[self.property_name] = value"
   ]
  },
  {
   "cell_type": "code",
   "execution_count": 95,
   "metadata": {},
   "outputs": [
    {
     "name": "stdout",
     "output_type": "stream",
     "text": [
      "__set__ was called with instance=<__main__.Person object at 0x0000021F62EBC5E0> and value=John\n"
     ]
    }
   ],
   "source": [
    "#When you assign the new value to a descriptor, Python calls __set__ method to set the attribute on an instance of the owner class to the new value. For example:\n",
    "person = Person()\n",
    "person.first_name = 'John'"
   ]
  },
  {
   "cell_type": "markdown",
   "metadata": {},
   "source": [
    "* In this example, the instance argument is person object and the value is the string 'John'. Inside the __set__ method, we raise a ValueError if the new value is not a string or if it is an empty string.\n",
    "\n",
    "* Otherwise, we assign the value to the instance attribute first_name of the person object:"
   ]
  },
  {
   "cell_type": "code",
   "execution_count": 96,
   "metadata": {},
   "outputs": [
    {
     "ename": "NameError",
     "evalue": "name 'value' is not defined",
     "output_type": "error",
     "traceback": [
      "\u001b[1;31m---------------------------------------------------------------------------\u001b[0m",
      "\u001b[1;31mNameError\u001b[0m                                 Traceback (most recent call last)",
      "Input \u001b[1;32mIn [96]\u001b[0m, in \u001b[0;36m<cell line: 1>\u001b[1;34m()\u001b[0m\n\u001b[1;32m----> 1\u001b[0m instance\u001b[38;5;241m.\u001b[39m\u001b[38;5;18m__dict__\u001b[39m[\u001b[38;5;28mself\u001b[39m\u001b[38;5;241m.\u001b[39mproperty_name] \u001b[38;5;241m=\u001b[39m \u001b[43mvalue\u001b[49m\n",
      "\u001b[1;31mNameError\u001b[0m: name 'value' is not defined"
     ]
    }
   ],
   "source": [
    "instance.__dict__[self.property_name] = value"
   ]
  },
  {
   "cell_type": "markdown",
   "metadata": {},
   "source": [
    "* Note that Python uses instance.__dict__ dictionary to store instance attributes of the instance object.\n",
    "\n",
    "* Once you set the first_name and last_name of an instance of the Person object, you’ll see the instance attributes with the same names in the instance’s __dict__. For example:"
   ]
  },
  {
   "cell_type": "code",
   "execution_count": 97,
   "metadata": {},
   "outputs": [
    {
     "name": "stdout",
     "output_type": "stream",
     "text": [
      "{}\n",
      "__set__ was called with instance=<__main__.Person object at 0x0000021F62ECA020> and value=John\n",
      "__set__ was called with instance=<__main__.Person object at 0x0000021F62ECA020> and value=Doe\n",
      "{'first_name': 'John', 'last_name': 'Doe'}\n"
     ]
    }
   ],
   "source": [
    "person = Person()\n",
    "print(person.__dict__)  # {}\n",
    "\n",
    "person.first_name = 'John'\n",
    "person.last_name = 'Doe'\n",
    "\n",
    "print(person.__dict__) # {'first_name': 'John', 'last_name': 'Doe'}"
   ]
  },
  {
   "cell_type": "markdown",
   "metadata": {},
   "source": [
    "### **The __get__ method**\n",
    "* The following shows the __get__ method of the RequiredString class:"
   ]
  },
  {
   "cell_type": "code",
   "execution_count": 98,
   "metadata": {},
   "outputs": [],
   "source": [
    "def __get__(self, instance, owner):\n",
    "    print(f'__get__ was called with instance={instance} and owner={owner}')\n",
    "    if instance is None:\n",
    "        return self\n",
    "\n",
    "    return instance.__dict__[self.property_name] or None"
   ]
  },
  {
   "cell_type": "markdown",
   "metadata": {},
   "source": [
    "* Python calls the __get__ method of the Person‘s object when you access the first_name attribute. For example:"
   ]
  },
  {
   "cell_type": "code",
   "execution_count": 99,
   "metadata": {},
   "outputs": [
    {
     "name": "stdout",
     "output_type": "stream",
     "text": [
      "__set__ was called with instance=<__main__.Person object at 0x0000021F62EB9210> and value=John\n",
      "__get__ was called with instance=<__main__.Person object at 0x0000021F62EB9210> and owner=<class '__main__.Person'>\n",
      "John\n"
     ]
    }
   ],
   "source": [
    "person = Person()\n",
    "\n",
    "person.first_name = 'John'\n",
    "print(person.first_name)"
   ]
  },
  {
   "cell_type": "markdown",
   "metadata": {},
   "source": [
    "* The __get__ method returns the descriptor if the instance is None. For example, if you access the first_name or last_name from the Person class, you’ll see the descriptor object:"
   ]
  },
  {
   "cell_type": "code",
   "execution_count": 100,
   "metadata": {},
   "outputs": [
    {
     "name": "stdout",
     "output_type": "stream",
     "text": [
      "__get__ was called with instance=None and owner=<class '__main__.Person'>\n",
      "<__main__.RequiredString object at 0x0000021F62EC9FC0>\n"
     ]
    }
   ],
   "source": [
    "print(Person.first_name)"
   ]
  },
  {
   "cell_type": "markdown",
   "metadata": {},
   "source": [
    "* If the instance is not None, the __get__() method returns the value of the attribute with the name property_name of the instance object."
   ]
  },
  {
   "cell_type": "markdown",
   "metadata": {},
   "source": [
    "### **Python Data vs. Non-data Descriptors**\n",
    "#### **Descriptors have two types:**\n",
    "\n",
    "    * Data descriptors are objects of a class that implements __set__ method (and/or __delete__ method)\n",
    "    * Non-data descriptors are objects of a class that have the __get__ method only.\n",
    "    * Both descriptor types can optionally implement the __set_name__ method. The __set_name__ method doesn’t affect the classification of the descriptors.\n",
    "\n",
    "* The descriptor types determine how Python resolves object’s attributes lookup.\n",
    "\n",
    "#### **Non-data descriptor**\n",
    "* If a class uses a non-data descriptor, Python will search the attribute in instance attributes first (instance.__dict__). If Python doesn’t find the attribute in the instance attributes, it’ll use the data descriptor.\n",
    "\n",
    "* Let’s take a look at the following example.\n",
    "\n",
    "* First, define a non-data descriptor class FileCount that has the __get__ method which returns the number of files in a folder:"
   ]
  },
  {
   "cell_type": "code",
   "execution_count": 104,
   "metadata": {},
   "outputs": [],
   "source": [
    "import os\n",
    "class FileCount:\n",
    "    def __get__(self, instance, owner):\n",
    "        print('The __get__ was called')\n",
    "        return len(os.listdir(instance.path))"
   ]
  },
  {
   "cell_type": "code",
   "execution_count": 105,
   "metadata": {},
   "outputs": [],
   "source": [
    "#Second, define a Folder class that uses the FileCount descriptor:\n",
    "class Folder:\n",
    "    count = FileCount()\n",
    "\n",
    "    def __init__(self, path):\n",
    "        self.path = path"
   ]
  },
  {
   "cell_type": "code",
   "execution_count": 106,
   "metadata": {},
   "outputs": [
    {
     "name": "stdout",
     "output_type": "stream",
     "text": [
      "The __get__ was called\n",
      "file count:  55\n"
     ]
    }
   ],
   "source": [
    "\n",
    "#Third, create an instance of the Folder class and access the count attribute:\n",
    "folder = Folder('/')\n",
    "print('file count: ', folder.count)"
   ]
  },
  {
   "cell_type": "markdown",
   "metadata": {},
   "source": [
    "* Python called the __get__ descriptor.\n",
    "* After that, set the count attribute of the folder instance to 100 and access the count attribute:"
   ]
  },
  {
   "cell_type": "markdown",
   "metadata": {},
   "source": [
    "* In this example, Python can find the count attribute in the instance dictionary __dict__. Therefore, it does not use data descriptors.\n",
    "\n",
    "### **Data descriptor**\n",
    "* When a class has a data descriptor, Python will look for an instance’s attribute in the data descriptor first. If Python doesn’t find the attribute, it’ll look for the attribute in the instance dictionary (__dict__). For example:\n",
    "\n",
    "* First, define a Coordinate descriptor class:"
   ]
  },
  {
   "cell_type": "code",
   "execution_count": 107,
   "metadata": {},
   "outputs": [],
   "source": [
    "class Coordinate:\n",
    "    def __get__(self, instance, owner):\n",
    "        print('The __get__ was called')\n",
    "\n",
    "    def __set__(self, instance, value):\n",
    "        print('The __set__ was called')"
   ]
  },
  {
   "cell_type": "code",
   "execution_count": 108,
   "metadata": {},
   "outputs": [],
   "source": [
    "#Second, define a Point class that uses the Coordinate descriptor:\n",
    "class Point:\n",
    "    x = Coordinate()\n",
    "    y = Coordinate()"
   ]
  },
  {
   "cell_type": "code",
   "execution_count": 109,
   "metadata": {},
   "outputs": [
    {
     "name": "stdout",
     "output_type": "stream",
     "text": [
      "The __set__ was called\n"
     ]
    }
   ],
   "source": [
    "#Third, create a new instance of the Point class and assign a value to the x attribute of the p instance:\n",
    "p = Point()\n",
    "p.x = 10"
   ]
  },
  {
   "cell_type": "markdown",
   "metadata": {},
   "source": [
    "* Python called the __set__ method of the x descriptor.\n",
    "\n",
    "* Finally, access the x attribute of the p instance:"
   ]
  },
  {
   "cell_type": "code",
   "execution_count": 110,
   "metadata": {},
   "outputs": [
    {
     "name": "stdout",
     "output_type": "stream",
     "text": [
      "The __get__ was called\n"
     ]
    }
   ],
   "source": [
    "p.x"
   ]
  },
  {
   "cell_type": "markdown",
   "metadata": {},
   "source": [
    "* Python called the __get__ method of the x descriptor."
   ]
  },
  {
   "cell_type": "code",
   "execution_count": null,
   "metadata": {},
   "outputs": [],
   "source": []
  }
 ],
 "metadata": {
  "kernelspec": {
   "display_name": "Python 3 (ipykernel)",
   "language": "python",
   "name": "python3"
  },
  "language_info": {
   "codemirror_mode": {
    "name": "ipython",
    "version": 3
   },
   "file_extension": ".py",
   "mimetype": "text/x-python",
   "name": "python",
   "nbconvert_exporter": "python",
   "pygments_lexer": "ipython3",
   "version": "3.10.4"
  }
 },
 "nbformat": 4,
 "nbformat_minor": 2
}
