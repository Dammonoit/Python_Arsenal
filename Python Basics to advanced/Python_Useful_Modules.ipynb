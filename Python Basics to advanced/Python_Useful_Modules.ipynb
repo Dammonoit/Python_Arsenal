{
 "cells": [
  {
   "cell_type": "markdown",
   "metadata": {},
   "source": [
    "# **Modular Programming.**\n",
    "* Modular programming is a software design technique, which is based on the general principal of modular design. Modular design is an approach which has been proven as indispensable in engineering even long before the first computers. \n",
    "\n",
    "* Modular design means that a complex system is broken down into smaller parts or components, i.e. modules. These components can be independently created and tested. In many cases, they can be even used in other systems as well. \n",
    "\n",
    "* There is hardly any product nowadays, which doesn't heavily rely on modularisation, like cars, mobile phones. Computers belong to those products which are modularised to the utmost. \n",
    "\n",
    "* So, what's a must for the hardware is an unavoidable necessity for the software running on the computers. \n",
    "\n",
    "## **Importing Topics.**\n",
    "* importing modules.\n",
    "* Designing and writing modules.\n",
    "\n",
    "every file, which has the file extension .py and consists of proper Python code, can be seen or is a module! There is no special syntax required to make such a file a module. A module can contain arbitrary objects, for example files, classes or attributes. All those objects can be accessed after an import. \n",
    "\n",
    "* Now i'll show you some important modules.\n",
    "\n",
    "### **Math Module.**\n",
    "#### **List of Functions in Python Math Module.**\n",
    "1. **Function\tDescription**\n",
    "2. ceil(x) - Returns the smallest integer greater than or equal to x.\n",
    "3. copysign(x, y) - Returns x with the sign of y\n",
    "4. fabs(x) - Returns the absolute value of x\n",
    "5. factorial(x) - Returns the factorial of x\n",
    "6. floor(x) - Returns the largest integer less than or equal to x\n",
    "7. fmod(x, y) - Returns the remainder when x is divided by y\n",
    "8. frexp(x) - Returns the mantissa and exponent of x as the pair (m, e)\n",
    "9. fsum(iterable) - Returns an accurate floating point sum of values in the iterable\n",
    "10. isfinite(x) - Returns True if x is neither an infinity nor a NaN (Not a Number)\n",
    "11. isinf(x) - Returns True if x is a positive or negative infinity\n",
    "12. isnan(x) - Returns True if x is a NaN\n",
    "13. ldexp(x, i) - Returns x * (2**i)\n",
    "14. modf(x) -\tReturns the fractional and integer parts of x\n",
    "15. trunc(x) - Returns the truncated integer value of x\n",
    "16. exp(x) - Returns e**x\n",
    "17. expm1(x) - Returns e**x - 1\n",
    "18. log(x[, base]) - Returns the logarithm of x to the base (defaults to e)\n",
    "19. log1p(x) - Returns the natural logarithm of 1+x\n",
    "20. log2(x) - Returns the base-2 logarithm of x\n",
    "21. log10(x) - Returns the base-10 logarithm of x\n",
    "22. pow(x, y) - Returns x raised to the power y\n",
    "23. sqrt(x) - Returns the square root of x\n",
    "24. acos(x) - Returns the arc cosine of x\n",
    "25. asin(x) - Returns the arc sine of x\n",
    "26. atan(x) - Returns the arc tangent of x\n",
    "27. atan2(y, x) - Returns atan(y / x)\n",
    "28. cos(x) - Returns the cosine of x\n",
    "29. hypot(x, y) - Returns the Euclidean norm, sqrt(x*x + y*y)\n",
    "30. sin(x) - Returns the sine of x\n",
    "31. tan(x) - Returns the tangent of x\n",
    "32. degrees(x) - Converts angle x from radians to degrees\n",
    "33. radians(x) - Converts angle x from degrees to radians\n",
    "34. acosh(x) - Returns the inverse hyperbolic cosine of x\n",
    "35. asinh(x) - Returns the inverse hyperbolic sine of x\n",
    "36. atanh(x) - Returns the inverse hyperbolic tangent of x\n",
    "37. cosh(x) - Returns the hyperbolic cosine of x\n",
    "38. sinh(x) - Returns the hyperbolic cosine of x\n",
    "39. tanh(x) - Returns the hyperbolic tangent of x\n",
    "40. erf(x) - Returns the error function at x\n",
    "41. erfc(x) - Returns the complementary error function at x\n",
    "42. gamma(x) - Returns the Gamma function at x\n",
    "43. lgamma(x) - Returns the natural logarithm of the absolute value of the Gamma function at x\n",
    "44. pi - Mathematical constant, the ratio of circumference of a circle to it's diameter (3.14159...)\n",
    "45. e - mathematical constant e (2.71828...)"
   ]
  },
  {
   "cell_type": "code",
   "execution_count": 1,
   "metadata": {
    "collapsed": true
   },
   "outputs": [],
   "source": [
    "import math"
   ]
  },
  {
   "cell_type": "code",
   "execution_count": 9,
   "metadata": {},
   "outputs": [
    {
     "data": {
      "text/plain": [
       "<module 'math' from '/home/dammonoit/anaconda3/lib/python3.6/lib-dynload/math.cpython-36m-x86_64-linux-gnu.so'>"
      ]
     },
     "execution_count": 9,
     "metadata": {},
     "output_type": "execute_result"
    }
   ],
   "source": [
    "math"
   ]
  },
  {
   "cell_type": "code",
   "execution_count": 13,
   "metadata": {},
   "outputs": [
    {
     "name": "stdout",
     "output_type": "stream",
     "text": [
      "1.4142135623730951\n",
      "3.141592653589793\n"
     ]
    }
   ],
   "source": [
    "print(math.sqrt(2))             # square root of 2\n",
    "print(math.radians(180))        # convert degrees to radians"
   ]
  },
  {
   "cell_type": "code",
   "execution_count": 2,
   "metadata": {},
   "outputs": [
    {
     "data": {
      "text/plain": [
       "3.141592653589793"
      ]
     },
     "execution_count": 2,
     "metadata": {},
     "output_type": "execute_result"
    }
   ],
   "source": [
    "math.pi"
   ]
  },
  {
   "cell_type": "code",
   "execution_count": 3,
   "metadata": {},
   "outputs": [
    {
     "data": {
      "text/plain": [
       "6.123233995736766e-17"
      ]
     },
     "execution_count": 3,
     "metadata": {},
     "output_type": "execute_result"
    }
   ],
   "source": [
    "math.cos(math.pi/2)"
   ]
  },
  {
   "cell_type": "code",
   "execution_count": 2,
   "metadata": {},
   "outputs": [
    {
     "data": {
      "text/plain": [
       "0.8414709848078965"
      ]
     },
     "execution_count": 2,
     "metadata": {},
     "output_type": "execute_result"
    }
   ],
   "source": [
    "math.sin(1)"
   ]
  },
  {
   "cell_type": "code",
   "execution_count": 5,
   "metadata": {},
   "outputs": [
    {
     "data": {
      "text/plain": [
       "2.718281828459045"
      ]
     },
     "execution_count": 5,
     "metadata": {},
     "output_type": "execute_result"
    }
   ],
   "source": [
    "math.e"
   ]
  },
  {
   "cell_type": "markdown",
   "metadata": {},
   "source": [
    "Its possible to import more than one module in one import statement. In this case the module names are separated by commas"
   ]
  },
  {
   "cell_type": "code",
   "execution_count": 5,
   "metadata": {
    "collapsed": true
   },
   "outputs": [],
   "source": [
    "import math, random"
   ]
  },
  {
   "cell_type": "markdown",
   "metadata": {},
   "source": [
    "If only certain objects of a module are needed, we can import only those:"
   ]
  },
  {
   "cell_type": "code",
   "execution_count": 6,
   "metadata": {
    "collapsed": true
   },
   "outputs": [],
   "source": [
    "from math import sin, pi"
   ]
  },
  {
   "cell_type": "markdown",
   "metadata": {},
   "source": [
    "Instead of explicitly importing certain objects from a module, it's also possible to import everything in the namespace of the importing module. This can be achieved by using an asterisk in the import"
   ]
  },
  {
   "cell_type": "code",
   "execution_count": 7,
   "metadata": {},
   "outputs": [
    {
     "name": "stdout",
     "output_type": "stream",
     "text": [
      "0.1411200080598672\n"
     ]
    }
   ],
   "source": [
    "from math import *\n",
    "print(sin(3))"
   ]
  },
  {
   "cell_type": "markdown",
   "metadata": {},
   "source": [
    "* It's not recommended to use the asterisk notation in an import statement, except when working in the interactive Python shell. One reason is that the origin of a name can be quite obscure, because it can't be seen from which module it might have been imported.\n",
    "\n",
    "* Another way to shrink the typing effort consists in renaming a namespace. A good example for this is the numpy module. You will hardly find an example or a tutorial, in which they will import this module with the statement"
   ]
  },
  {
   "cell_type": "code",
   "execution_count": 8,
   "metadata": {},
   "outputs": [
    {
     "name": "stdout",
     "output_type": "stream",
     "text": [
      "2\n",
      "213\n"
     ]
    }
   ],
   "source": [
    "#let's write dip into random module for sometime\n",
    "import random\n",
    "print(random.randint(1,3))  #it'll choose a number between 1 and 3\n",
    "print(random.randint(1,1000))"
   ]
  },
  {
   "cell_type": "code",
   "execution_count": 10,
   "metadata": {},
   "outputs": [
    {
     "data": {
      "text/plain": [
       "<module 'random' from '/home/dammonoit/anaconda3/lib/python3.6/random.py'>"
      ]
     },
     "execution_count": 10,
     "metadata": {},
     "output_type": "execute_result"
    }
   ],
   "source": [
    "random"
   ]
  },
  {
   "cell_type": "code",
   "execution_count": 12,
   "metadata": {},
   "outputs": [
    {
     "name": "stdout",
     "output_type": "stream",
     "text": [
      "presidents:  ['trump', 'romney', 'reagon']\n",
      "random.choice(presidents):  romney\n",
      "random.sample(presidents,2):  ['trump', 'romney']\n",
      "random.shuffle(presidents):  None\n",
      "presidents:  ['trump', 'reagon', 'romney']\n"
     ]
    }
   ],
   "source": [
    "presidents = ['trump', 'romney', 'reagon']\n",
    "print('presidents: ',presidents)\n",
    "print('random.choice(presidents): ',random.choice(presidents))\n",
    "print('random.sample(presidents,2): ',random.sample(presidents,2))\n",
    "print('random.shuffle(presidents): ',random.shuffle(presidents))\n",
    "print('presidents: ',presidents)"
   ]
  },
  {
   "cell_type": "markdown",
   "metadata": {},
   "source": [
    "### **Time Module.**"
   ]
  },
  {
   "cell_type": "code",
   "execution_count": 14,
   "metadata": {},
   "outputs": [
    {
     "name": "stdout",
     "output_type": "stream",
     "text": [
      "None\n",
      "1547750941.6962624\n",
      "18.01.2019 00:19:01\n"
     ]
    }
   ],
   "source": [
    "import time\n",
    "print(time.sleep(1))   # wait one second\n",
    "print(time.time())     # return time in seconds since beginning of the year 1970\n",
    "print(time.strftime('%d.%m.%Y %H:%M:%S'))  # format current time nicely"
   ]
  },
  {
   "cell_type": "code",
   "execution_count": 10,
   "metadata": {},
   "outputs": [
    {
     "name": "stdout",
     "output_type": "stream",
     "text": [
      "[[ 3  0  0  0]\n",
      " [ 0 11  0  0]\n",
      " [ 0  0  7  0]\n",
      " [ 0  0  0  9]]\n"
     ]
    },
    {
     "data": {
      "text/plain": [
       "2.718281828459045"
      ]
     },
     "execution_count": 10,
     "metadata": {},
     "output_type": "execute_result"
    }
   ],
   "source": [
    "import numpy as np\n",
    "print(np.diag([3, 11, 7, 9]))\n",
    "np.e"
   ]
  },
  {
   "cell_type": "markdown",
   "metadata": {},
   "source": [
    "### **Itertools Modules.**\n",
    "* Python itertools module is very useful in creating efficient iterators. \n",
    "* In almost every program you write with any programming language, one of the task which is usually always present is Iteration. \n",
    "* Traversing sequence of objects and manipulating them is very common.\n",
    "\n"
   ]
  },
  {
   "cell_type": "code",
   "execution_count": 6,
   "metadata": {
    "collapsed": true
   },
   "outputs": [],
   "source": [
    "from itertools import *"
   ]
  },
  {
   "cell_type": "code",
   "execution_count": 11,
   "metadata": {},
   "outputs": [
    {
     "name": "stdout",
     "output_type": "stream",
     "text": [
      "l:  [1, 2, 3, 'a', 'b', 'c', 'd']\n",
      "ll:  [1, 2, 3, 'a', 'b', 'c', 'd']\n"
     ]
    }
   ],
   "source": [
    "l=list(chain([1,2,3],['a','b','c','d'])) #chain function adds two sequences with each other of any type\n",
    "ll=list(chain((1,2,3),['a','b','c','d'])) \n",
    "print('l: ',l)\n",
    "print('ll: ',ll)"
   ]
  },
  {
   "cell_type": "code",
   "execution_count": 12,
   "metadata": {},
   "outputs": [
    {
     "ename": "TypeError",
     "evalue": "can only concatenate list (not \"tuple\") to list",
     "output_type": "error",
     "traceback": [
      "\u001b[0;31m---------------------------------------------------------------------------\u001b[0m",
      "\u001b[0;31mTypeError\u001b[0m                                 Traceback (most recent call last)",
      "\u001b[0;32m<ipython-input-12-867c0604ad81>\u001b[0m in \u001b[0;36m<module>\u001b[0;34m()\u001b[0m\n\u001b[1;32m      1\u001b[0m \u001b[0;31m#but list/string/tuples can add strings with + operation but not with other datatypes i.e tuples.\u001b[0m\u001b[0;34m\u001b[0m\u001b[0;34m\u001b[0m\u001b[0m\n\u001b[0;32m----> 2\u001b[0;31m \u001b[0;34m[\u001b[0m\u001b[0;36m1\u001b[0m\u001b[0;34m,\u001b[0m\u001b[0;36m2\u001b[0m\u001b[0;34m,\u001b[0m\u001b[0;36m3\u001b[0m\u001b[0;34m]\u001b[0m\u001b[0;34m+\u001b[0m\u001b[0;34m(\u001b[0m\u001b[0;34m'a'\u001b[0m\u001b[0;34m,\u001b[0m\u001b[0;34m'b'\u001b[0m\u001b[0;34m)\u001b[0m\u001b[0;34m\u001b[0m\u001b[0m\n\u001b[0m",
      "\u001b[0;31mTypeError\u001b[0m: can only concatenate list (not \"tuple\") to list"
     ]
    }
   ],
   "source": [
    "#but list/string/tuples can add strings with + operation but not with other datatypes i.e tuples.\n",
    "[1,2,3]+('a','b')"
   ]
  },
  {
   "cell_type": "markdown",
   "metadata": {},
   "source": [
    "### **combination function in itertools.**\n",
    "* If items in sequence are sorted, then combination will be sorted as well.\n",
    "* If items in sequence are unique, then combination data will not contain any duplicate combination."
   ]
  },
  {
   "cell_type": "code",
   "execution_count": 22,
   "metadata": {},
   "outputs": [
    {
     "data": {
      "text/plain": [
       "[('A', 'B'), ('A', 'C'), ('B', 'C')]"
      ]
     },
     "execution_count": 22,
     "metadata": {},
     "output_type": "execute_result"
    }
   ],
   "source": [
    "list(combinations('ABC',2))"
   ]
  },
  {
   "cell_type": "code",
   "execution_count": 23,
   "metadata": {},
   "outputs": [
    {
     "data": {
      "text/plain": [
       "[(1, 2, 3), (1, 2, 4), (1, 3, 4), (2, 3, 4)]"
      ]
     },
     "execution_count": 23,
     "metadata": {},
     "output_type": "execute_result"
    }
   ],
   "source": [
    "list(combinations([1,2,3,4],3))"
   ]
  },
  {
   "cell_type": "code",
   "execution_count": 24,
   "metadata": {},
   "outputs": [
    {
     "data": {
      "text/plain": [
       "[(1, 1, 1),\n",
       " (1, 1, 2),\n",
       " (1, 1, 3),\n",
       " (1, 1, 4),\n",
       " (1, 2, 2),\n",
       " (1, 2, 3),\n",
       " (1, 2, 4),\n",
       " (1, 3, 3),\n",
       " (1, 3, 4),\n",
       " (1, 4, 4),\n",
       " (2, 2, 2),\n",
       " (2, 2, 3),\n",
       " (2, 2, 4),\n",
       " (2, 3, 3),\n",
       " (2, 3, 4),\n",
       " (2, 4, 4),\n",
       " (3, 3, 3),\n",
       " (3, 3, 4),\n",
       " (3, 4, 4),\n",
       " (4, 4, 4)]"
      ]
     },
     "execution_count": 24,
     "metadata": {},
     "output_type": "execute_result"
    }
   ],
   "source": [
    "list(combinations_with_replacement([1,2,3,4],3))"
   ]
  },
  {
   "cell_type": "code",
   "execution_count": 25,
   "metadata": {},
   "outputs": [
    {
     "name": "stdout",
     "output_type": "stream",
     "text": [
      "[[()], [(1,), (2,), (3,)], [(1, 2), (1, 3), (2, 3)], [(1, 2, 3)]]\n"
     ]
    }
   ],
   "source": [
    "#let's see an example\n",
    "from itertools import *\n",
    "l=[1,2,3]\n",
    "m=[]\n",
    "for i in range(len(l)+1):\n",
    "  n=[tuple(x) for x in combinations(l,i)]\n",
    "  m.append(n)\n",
    "print(m)"
   ]
  },
  {
   "cell_type": "markdown",
   "metadata": {},
   "source": [
    "### **Permutation function in itertools.**"
   ]
  },
  {
   "cell_type": "code",
   "execution_count": 27,
   "metadata": {},
   "outputs": [
    {
     "data": {
      "text/plain": [
       "[('A', 'B', 'C'),\n",
       " ('A', 'C', 'B'),\n",
       " ('B', 'A', 'C'),\n",
       " ('B', 'C', 'A'),\n",
       " ('C', 'A', 'B'),\n",
       " ('C', 'B', 'A')]"
      ]
     },
     "execution_count": 27,
     "metadata": {},
     "output_type": "execute_result"
    }
   ],
   "source": [
    "list(permutations('ABC'))"
   ]
  },
  {
   "cell_type": "code",
   "execution_count": 28,
   "metadata": {},
   "outputs": [
    {
     "data": {
      "text/plain": [
       "[('A', 'B'), ('A', 'C'), ('B', 'A'), ('B', 'C'), ('C', 'A'), ('C', 'B')]"
      ]
     },
     "execution_count": 28,
     "metadata": {},
     "output_type": "execute_result"
    }
   ],
   "source": [
    "list(permutations('ABC',2))"
   ]
  },
  {
   "cell_type": "code",
   "execution_count": 29,
   "metadata": {},
   "outputs": [
    {
     "name": "stdout",
     "output_type": "stream",
     "text": [
      "[[()], [(1,), (2,), (3,)], [(1, 2), (1, 3), (2, 1), (2, 3), (3, 1), (3, 2)], [(1, 2, 3), (1, 3, 2), (2, 1, 3), (2, 3, 1), (3, 1, 2), (3, 2, 1)]]\n"
     ]
    }
   ],
   "source": [
    "#let's see an example\n",
    "from itertools import *\n",
    "l=[1,2,3]\n",
    "m=[]\n",
    "for i in range(len(l)+1):\n",
    "  n=[tuple(x) for x in permutations(l,i)]\n",
    "  m.append(n)\n",
    "print(m)"
   ]
  },
  {
   "cell_type": "markdown",
   "metadata": {},
   "source": [
    "## **Collections Module.**\n",
    "* The Collections module implements high-performance container datatypes (beyond the built-in types list, dict and tuple) and contains many useful data structures that you can use to store information in memory.\n",
    "\n",
    "### **Counter in collections**\n",
    "* A Counter is a container that tracks how many times equivalent values are added. \n",
    "* 'Import collections' makes the stuff in collections available as:\n",
    " collections.something\n",
    "* Counter supports three forms of initialization. "
   ]
  },
  {
   "cell_type": "code",
   "execution_count": 30,
   "metadata": {
    "collapsed": true
   },
   "outputs": [],
   "source": [
    "import collections\n",
    "from collections import Counter"
   ]
  },
  {
   "cell_type": "code",
   "execution_count": 31,
   "metadata": {},
   "outputs": [
    {
     "name": "stdout",
     "output_type": "stream",
     "text": [
      "Counter({'b': 3, 'a': 2, 'c': 1})\n",
      "Counter({'b': 3, 'a': 2, 'c': 1})\n",
      "Counter({'b': 3, 'a': 2, 'c': 1})\n"
     ]
    }
   ],
   "source": [
    "print(collections.Counter(['a', 'b', 'c', 'a', 'b', 'b']))\n",
    "print(collections.Counter({'a':2, 'b':3, 'c':1}))\n",
    "print(collections.Counter(a=2, b=3, c=1))"
   ]
  },
  {
   "cell_type": "markdown",
   "metadata": {},
   "source": [
    "### **Create and Update Counters**\n",
    "* An empty Counter can be constructed with no arguments and populated via the \n",
    " update() method."
   ]
  },
  {
   "cell_type": "code",
   "execution_count": 32,
   "metadata": {},
   "outputs": [
    {
     "data": {
      "text/plain": [
       "Counter()"
      ]
     },
     "execution_count": 32,
     "metadata": {},
     "output_type": "execute_result"
    }
   ],
   "source": [
    "c=collections.Counter()\n",
    "c"
   ]
  },
  {
   "cell_type": "code",
   "execution_count": 33,
   "metadata": {},
   "outputs": [
    {
     "data": {
      "text/plain": [
       "Counter({'a': 1, 'd': 1, 'f': 1, 's': 1})"
      ]
     },
     "execution_count": 33,
     "metadata": {},
     "output_type": "execute_result"
    }
   ],
   "source": [
    "c.update(\"asdf\")\n",
    "c"
   ]
  },
  {
   "cell_type": "code",
   "execution_count": 34,
   "metadata": {},
   "outputs": [
    {
     "data": {
      "text/plain": [
       "Counter({'a': 2, 'b': 1, 'd': 2, 'f': 1, 's': 2})"
      ]
     },
     "execution_count": 34,
     "metadata": {},
     "output_type": "execute_result"
    }
   ],
   "source": [
    "c.update(['a','b','d','s'])\n",
    "c"
   ]
  },
  {
   "cell_type": "code",
   "execution_count": 35,
   "metadata": {},
   "outputs": [
    {
     "data": {
      "text/plain": [
       "Counter({'a': 4, 'b': 5, 'd': 2, 'f': 1, 's': 2})"
      ]
     },
     "execution_count": 35,
     "metadata": {},
     "output_type": "execute_result"
    }
   ],
   "source": [
    "c.update({'a':2,'b':4})\n",
    "c"
   ]
  },
  {
   "cell_type": "markdown",
   "metadata": {},
   "source": [
    "### **Accessing Counters.**\n",
    "* Once a Counter is populated, its values can be retrieved using the counter object in similar way as dictionary."
   ]
  },
  {
   "cell_type": "code",
   "execution_count": 36,
   "metadata": {},
   "outputs": [
    {
     "name": "stdout",
     "output_type": "stream",
     "text": [
      "a 4\n",
      "s 2\n",
      "d 2\n",
      "f 1\n",
      "b 5\n"
     ]
    }
   ],
   "source": [
    "for i,j in c.items():\n",
    "    print(i,j)\n",
    "    "
   ]
  },
  {
   "cell_type": "code",
   "execution_count": 37,
   "metadata": {},
   "outputs": [
    {
     "data": {
      "text/plain": [
       "dict_items([('a', 4), ('s', 2), ('d', 2), ('f', 1), ('b', 5)])"
      ]
     },
     "execution_count": 37,
     "metadata": {},
     "output_type": "execute_result"
    }
   ],
   "source": [
    "c.items()"
   ]
  },
  {
   "cell_type": "code",
   "execution_count": 38,
   "metadata": {},
   "outputs": [
    {
     "data": {
      "text/plain": [
       "dict_keys(['a', 's', 'd', 'f', 'b'])"
      ]
     },
     "execution_count": 38,
     "metadata": {},
     "output_type": "execute_result"
    }
   ],
   "source": [
    "c.keys()"
   ]
  },
  {
   "cell_type": "code",
   "execution_count": 39,
   "metadata": {},
   "outputs": [
    {
     "data": {
      "text/plain": [
       "dict_values([4, 2, 2, 1, 5])"
      ]
     },
     "execution_count": 39,
     "metadata": {},
     "output_type": "execute_result"
    }
   ],
   "source": [
    "c.values()"
   ]
  },
  {
   "cell_type": "code",
   "execution_count": null,
   "metadata": {
    "collapsed": true
   },
   "outputs": [],
   "source": []
  }
 ],
 "metadata": {
  "kernelspec": {
   "display_name": "Python 3 (ipykernel)",
   "language": "python",
   "name": "python3"
  },
  "language_info": {
   "codemirror_mode": {
    "name": "ipython",
    "version": 3
   },
   "file_extension": ".py",
   "mimetype": "text/x-python",
   "name": "python",
   "nbconvert_exporter": "python",
   "pygments_lexer": "ipython3",
   "version": "3.10.4"
  }
 },
 "nbformat": 4,
 "nbformat_minor": 2
}
