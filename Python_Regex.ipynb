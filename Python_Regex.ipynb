{
 "cells": [
  {
   "cell_type": "markdown",
   "metadata": {
    "id": "hn1V36CzC_wF"
   },
   "source": [
    "# **Python Regex**\n",
    "\n",
    "* A regular expression (or regex) is a sequence of characters that specifies a search pattern. In practice, you’ll find the regular expressions in many applications such as search engines, search and replace dialogs of text editors.\n",
    "\n",
    "* In Python, a regular expression is a separate programming language. It is embedded in Python. To interact with the regular expressions, you use the built-in re module:\n",
    "\n",
    "![image.png](data:image/png;base64,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)\n",
    "\n",
    "* The re module has many helpful classes and functions that help you to manage regular expressions effectively.\n",
    "* The following shows an example of a simple regular expression:"
   ]
  },
  {
   "cell_type": "code",
   "execution_count": 1,
   "metadata": {
    "colab": {
     "base_uri": "https://localhost:8080/",
     "height": 35
    },
    "executionInfo": {
     "elapsed": 7,
     "status": "ok",
     "timestamp": 1654251142380,
     "user": {
      "displayName": "Dharmendra Chaudhary",
      "userId": "16994293431277914491"
     },
     "user_tz": -330
    },
    "id": "fQBzBY2GDIfN",
    "outputId": "3755e1a7-3c6d-4518-e2b1-0e797cae7fc9"
   },
   "outputs": [
    {
     "data": {
      "application/vnd.google.colaboratory.intrinsic+json": {
       "type": "string"
      },
      "text/plain": [
       "'\\\\d'"
      ]
     },
     "execution_count": 1,
     "metadata": {},
     "output_type": "execute_result"
    }
   ],
   "source": [
    "'\\d'"
   ]
  },
  {
   "cell_type": "code",
   "execution_count": null,
   "metadata": {
    "id": "0IU42vY2DRHD"
   },
   "outputs": [],
   "source": []
  },
  {
   "cell_type": "markdown",
   "metadata": {
    "id": "Cke5SvJHDT41"
   },
   "source": [
    "* In this example, a regular expression is a string that contains a search pattern. The '\\d' is a digit character set that matches any single digit from 0 to 9.\n",
    "* To use this regular expression, you follow these steps:\n",
    "\n",
    "  * First, import the re module:"
   ]
  },
  {
   "cell_type": "code",
   "execution_count": 2,
   "metadata": {
    "executionInfo": {
     "elapsed": 5,
     "status": "ok",
     "timestamp": 1654251175759,
     "user": {
      "displayName": "Dharmendra Chaudhary",
      "userId": "16994293431277914491"
     },
     "user_tz": -330
    },
    "id": "exch49HyDbZ3"
   },
   "outputs": [],
   "source": [
    "import re"
   ]
  },
  {
   "cell_type": "markdown",
   "metadata": {
    "id": "mI5sIHXWDdbe"
   },
   "source": [
    "* Second, compile the regular expression into a Pattern object:"
   ]
  },
  {
   "cell_type": "code",
   "execution_count": 3,
   "metadata": {
    "executionInfo": {
     "elapsed": 4,
     "status": "ok",
     "timestamp": 1654251192366,
     "user": {
      "displayName": "Dharmendra Chaudhary",
      "userId": "16994293431277914491"
     },
     "user_tz": -330
    },
    "id": "5KudLJbsDegn"
   },
   "outputs": [],
   "source": [
    "p = re.compile('\\d')\n"
   ]
  },
  {
   "cell_type": "markdown",
   "metadata": {
    "id": "ka9OF6tIDiud"
   },
   "source": [
    "* Third, use one of the methods of the Pattern object to match a string:"
   ]
  },
  {
   "cell_type": "code",
   "execution_count": 4,
   "metadata": {
    "colab": {
     "base_uri": "https://localhost:8080/"
    },
    "executionInfo": {
     "elapsed": 7,
     "status": "ok",
     "timestamp": 1654251224214,
     "user": {
      "displayName": "Dharmendra Chaudhary",
      "userId": "16994293431277914491"
     },
     "user_tz": -330
    },
    "id": "qpOEFd99DlJa",
    "outputId": "59d80d97-6e49-4b30-a450-d766c83ef246"
   },
   "outputs": [
    {
     "name": "stdout",
     "output_type": "stream",
     "text": [
      "['3', '1', '0', '0', '4', '2', '0', '2', '1']\n"
     ]
    }
   ],
   "source": [
    "s = \"Python 3.10 was released on October 04, 2021\"\n",
    "result = p.findall(s)\n",
    "\n",
    "print(result)"
   ]
  },
  {
   "cell_type": "code",
   "execution_count": 5,
   "metadata": {
    "colab": {
     "base_uri": "https://localhost:8080/"
    },
    "executionInfo": {
     "elapsed": 3,
     "status": "ok",
     "timestamp": 1654251282553,
     "user": {
      "displayName": "Dharmendra Chaudhary",
      "userId": "16994293431277914491"
     },
     "user_tz": -330
    },
    "id": "TJ-dNwTFDngq",
    "outputId": "815ba60e-40d5-4a80-b3bd-57e00c568a66"
   },
   "outputs": [
    {
     "name": "stdout",
     "output_type": "stream",
     "text": [
      "['3', '1', '0', '0', '4', '2', '0', '2', '1']\n"
     ]
    }
   ],
   "source": [
    "#The findall() method returns a list of single digits in the string s.\n",
    "# The following shows the complete program:\n",
    "import re\n",
    "\n",
    "\n",
    "p = re.compile('\\d')\n",
    "s = \"Python 3.10 was released on October 04, 2021\"\n",
    "\n",
    "results = p.findall(s)\n",
    "print(results)"
   ]
  },
  {
   "cell_type": "code",
   "execution_count": null,
   "metadata": {
    "id": "NO5sZ5hOD1qc"
   },
   "outputs": [],
   "source": []
  },
  {
   "cell_type": "markdown",
   "metadata": {
    "id": "7jSSCrcSD8RR"
   },
   "source": [
    "* Besides the findall() method, the Pattern object has other essential methods that allow you to match a string:\n",
    "![image.png](data:image/png;base64,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)"
   ]
  },
  {
   "cell_type": "code",
   "execution_count": null,
   "metadata": {
    "id": "tBb2tYArECXF"
   },
   "outputs": [],
   "source": []
  },
  {
   "cell_type": "markdown",
   "metadata": {
    "id": "EdCeUNp6EGFH"
   },
   "source": [
    "## **Python regular expression functions**\n",
    "* Besides the Pattern class, the re module has some functions that match a string for a pattern:\n",
    "\n",
    "  * match()\n",
    "  * search()\n",
    "  * findall()\n",
    "  * finditer()\n",
    "* These functions have the same names as the methods of the Pattern object. Also, they take the same arguments as the corresponding methods of the Pattern object. \n",
    "* However, you don’t have to manually compile the regular expression before using it.\n",
    "\n",
    "* The following example shows the same program that uses the findall() function instead of the findall() method of a Pattern object:"
   ]
  },
  {
   "cell_type": "code",
   "execution_count": 6,
   "metadata": {
    "colab": {
     "base_uri": "https://localhost:8080/"
    },
    "executionInfo": {
     "elapsed": 8,
     "status": "ok",
     "timestamp": 1654251426698,
     "user": {
      "displayName": "Dharmendra Chaudhary",
      "userId": "16994293431277914491"
     },
     "user_tz": -330
    },
    "id": "JUeOpXe8EYWG",
    "outputId": "9bbd1820-338a-4a3f-9d5b-7e12093e9038"
   },
   "outputs": [
    {
     "name": "stdout",
     "output_type": "stream",
     "text": [
      "['3', '1', '0', '0', '4', '2', '0', '2', '1']\n"
     ]
    }
   ],
   "source": [
    "import re\n",
    "\n",
    "s = \"Python 3.10 was released on October 04, 2021.\"\n",
    "results = re.findall('\\d',s)\n",
    "print(results)"
   ]
  },
  {
   "cell_type": "code",
   "execution_count": null,
   "metadata": {
    "id": "68nJ_Y4CEY11"
   },
   "outputs": [],
   "source": []
  },
  {
   "cell_type": "markdown",
   "metadata": {
    "id": "xrePDe3zEbuQ"
   },
   "source": [
    "* Using the functions in the re module is more concise than the methods of the Pattern object because you don’t have to compile regular expressions manually.\n",
    "\n",
    "* Under the hood, these functions create a Pattern object and call the appropriate method on it. They also store the compiled regular expression in a cache for speed optimization.\n",
    "\n",
    "* It means that if you call the same regular expression from the second time, these functions will not need to recompile the regular expression. Instead, they get the compiled regular expression from the cache.\n",
    "\n",
    "* Should you use the re functions or methods of the Pattern object?\n",
    "\n",
    "* If you use a regular expression within a loop, the Pattern object may save a few function calls. However, if you use it outside of loops, the difference is very little due to the internal cache.\n",
    "\n",
    "* The following sections discuss the most commonly used functions in the re module including search(), match(), and fullmatch().\n",
    "\n",
    "### **search() function**\n",
    "* The search() function searches for a pattern within a string. If there is a match, it returns the first Match object or None otherwise. For example:\n"
   ]
  },
  {
   "cell_type": "code",
   "execution_count": 7,
   "metadata": {
    "colab": {
     "base_uri": "https://localhost:8080/"
    },
    "executionInfo": {
     "elapsed": 6,
     "status": "ok",
     "timestamp": 1654251516545,
     "user": {
      "displayName": "Dharmendra Chaudhary",
      "userId": "16994293431277914491"
     },
     "user_tz": -330
    },
    "id": "8ML_2wp8EjiF",
    "outputId": "7432c310-7cca-4c75-ba34-c656f7b48f3a"
   },
   "outputs": [
    {
     "name": "stdout",
     "output_type": "stream",
     "text": [
      "<class 're.Match'>\n",
      "<re.Match object; span=(9, 11), match='10'>\n"
     ]
    }
   ],
   "source": [
    "import re\n",
    "\n",
    "s = \"Python 3.10 was released on October 04, 2021.\"\n",
    "\n",
    "pattern = '\\d{2}'\n",
    "match = re.search(pattern, s) \n",
    "print(type(match))\n",
    "print(match)"
   ]
  },
  {
   "cell_type": "code",
   "execution_count": null,
   "metadata": {
    "id": "9TE1apWWEuxH"
   },
   "outputs": [],
   "source": []
  },
  {
   "cell_type": "markdown",
   "metadata": {
    "id": "1u_l1Q7_Exvk"
   },
   "source": [
    "* In this example, the search() function returns the first two digits in the string s as the Match object.\n",
    "\n",
    "### **Match object**\n",
    "* The Match object provides the information about the matched string. It has the following important methods:\n",
    "![image.png](data:image/png;base64,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)"
   ]
  },
  {
   "cell_type": "code",
   "execution_count": 8,
   "metadata": {
    "colab": {
     "base_uri": "https://localhost:8080/"
    },
    "executionInfo": {
     "elapsed": 5,
     "status": "ok",
     "timestamp": 1654251582815,
     "user": {
      "displayName": "Dharmendra Chaudhary",
      "userId": "16994293431277914491"
     },
     "user_tz": -330
    },
    "id": "KIrENNWHE7HY",
    "outputId": "f82c3044-5144-454c-a49f-7660127a6523"
   },
   "outputs": [
    {
     "name": "stdout",
     "output_type": "stream",
     "text": [
      "Matched string: 3\n",
      "Starting position: 7\n",
      "Ending position: 8\n",
      "Positions: (7, 8)\n"
     ]
    }
   ],
   "source": [
    "#The following example examines the Match object:\n",
    "import re\n",
    "\n",
    "\n",
    "s = \"Python 3.10 was released on October 04, 2021.\"\n",
    "result = re.search('\\d', s) \n",
    "\n",
    "print('Matched string:',result.group())\n",
    "print('Starting position:', result.start())\n",
    "print('Ending position:',result.end())\n",
    "print('Positions:',result.span())"
   ]
  },
  {
   "cell_type": "code",
   "execution_count": null,
   "metadata": {
    "id": "WF9JSr23E-8x"
   },
   "outputs": [],
   "source": []
  },
  {
   "cell_type": "markdown",
   "metadata": {
    "id": "BbWVmmoeFB0t"
   },
   "source": [
    "### **match() function**\n",
    "* The match() function returns a Match object if it finds a pattern at the beginning of a string. For example:\n"
   ]
  },
  {
   "cell_type": "code",
   "execution_count": 9,
   "metadata": {
    "colab": {
     "base_uri": "https://localhost:8080/"
    },
    "executionInfo": {
     "elapsed": 3,
     "status": "ok",
     "timestamp": 1654251620489,
     "user": {
      "displayName": "Dharmendra Chaudhary",
      "userId": "16994293431277914491"
     },
     "user_tz": -330
    },
    "id": "10I59vNOFHrV",
    "outputId": "962e178d-9654-4fca-d669-666027e3a7ce"
   },
   "outputs": [
    {
     "name": "stdout",
     "output_type": "stream",
     "text": [
      "<re.Match object; span=(0, 6), match='Python'>\n",
      "None\n",
      "<re.Match object; span=(0, 6), match='Jython'>\n",
      "None\n"
     ]
    }
   ],
   "source": [
    "import re\n",
    "\n",
    "l = ['Python', \n",
    "    'CPython is an implementation of Python written in C', \n",
    "    'Jython is a Java implementation of Python',\n",
    "     'IronPython is Python on .NET framework']\n",
    "\n",
    "pattern = '\\wython'\n",
    "for s in l:\n",
    "    result = re.match(pattern,s)\n",
    "    print(result)"
   ]
  },
  {
   "cell_type": "code",
   "execution_count": null,
   "metadata": {
    "id": "d5DwDEXPFIJY"
   },
   "outputs": [],
   "source": []
  },
  {
   "cell_type": "markdown",
   "metadata": {
    "id": "6OylYEQvFLD5"
   },
   "source": [
    "* In this example, the \\w is the word character set that matches any single character.\n",
    "\n",
    "* The \\wython matches any string that starts with any sing word character and is followed by the literal string ython, for example, Python.\n",
    "\n",
    "* Since the match() function only finds the pattern at the beginning of a string, the following strings match the pattern:<br />\n",
    "![image.png](data:image/png;base64,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)\n",
    "\n",
    "* And the following string doesn’t match:<br />\n",
    "![image.png](data:image/png;base64,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)"
   ]
  },
  {
   "cell_type": "code",
   "execution_count": null,
   "metadata": {
    "id": "vinfqYqSFQa7"
   },
   "outputs": [],
   "source": []
  },
  {
   "cell_type": "markdown",
   "metadata": {
    "id": "i73TdlnJF4le"
   },
   "source": [
    "### **fullmatch() function**\n",
    "* The fullmatch() function returns a Match object if the whole string matches a pattern or None otherwise. \n",
    "* The following example uses the fullmatch() function to match a string with four digits:\n",
    "\n",
    "\n"
   ]
  },
  {
   "cell_type": "code",
   "execution_count": 10,
   "metadata": {
    "colab": {
     "base_uri": "https://localhost:8080/"
    },
    "executionInfo": {
     "elapsed": 4,
     "status": "ok",
     "timestamp": 1654251848246,
     "user": {
      "displayName": "Dharmendra Chaudhary",
      "userId": "16994293431277914491"
     },
     "user_tz": -330
    },
    "id": "21gtE8VjF9E-",
    "outputId": "f8f795fd-8463-462e-8b91-8728c87ece81"
   },
   "outputs": [
    {
     "name": "stdout",
     "output_type": "stream",
     "text": [
      "<re.Match object; span=(0, 4), match='2021'>\n"
     ]
    }
   ],
   "source": [
    "import re\n",
    "\n",
    "s = \"2021\"\n",
    "pattern = '\\d{4}'\n",
    "result = re.fullmatch(pattern, s)\n",
    "print(result)"
   ]
  },
  {
   "cell_type": "code",
   "execution_count": null,
   "metadata": {
    "id": "q5LaUy06F_5a"
   },
   "outputs": [],
   "source": []
  },
  {
   "cell_type": "markdown",
   "metadata": {
    "id": "EuYxmzFcGG2O"
   },
   "source": [
    "* The pattern '\\d{4}' matches a string with four digits. Therefore, the fullmatch() function returns the string 2021.\n",
    "\n",
    "* If you place the number 2021 at the middle or the end of the string, the fullmatch() will return None. For example:"
   ]
  },
  {
   "cell_type": "code",
   "execution_count": 11,
   "metadata": {
    "colab": {
     "base_uri": "https://localhost:8080/"
    },
    "executionInfo": {
     "elapsed": 4,
     "status": "ok",
     "timestamp": 1654251887421,
     "user": {
      "displayName": "Dharmendra Chaudhary",
      "userId": "16994293431277914491"
     },
     "user_tz": -330
    },
    "id": "hswF6RtVGIJE",
    "outputId": "f2abb0b4-139e-46bc-95a0-d603d7e191f3"
   },
   "outputs": [
    {
     "name": "stdout",
     "output_type": "stream",
     "text": [
      "None\n"
     ]
    }
   ],
   "source": [
    "import re\n",
    "\n",
    "s = \"Python 3.10 released in 2021\"\n",
    "pattern = '\\d{4}'\n",
    "result = re.fullmatch(pattern, s)\n",
    "print(result)\n"
   ]
  },
  {
   "cell_type": "markdown",
   "metadata": {
    "id": "ZATNQPI7GSD1"
   },
   "source": [
    "## **Regular expressions and raw strings**\n",
    "* It’s important to note that Python and regular expression are different programming languages. They have their own syntaxes.\n",
    "\n",
    "* The re module is the interface between Python and regular expression programming languages. It behaves like an interpreter between them.\n",
    "\n",
    "* To construct a pattern, regular expressions often use a backslash '\\' for example \\d and \\w . But this collides with Python’s usage of the backslash for the same purpose in string literals.\n",
    "\n",
    "* For example, suppose you need to match the following string:\n",
    "<br />![image.png](data:image/png;base64,iVBORw0KGgoAAAANSUhEUgAAAI4AAAAlCAYAAACUJtElAAADhUlEQVR4nO2aP2gbVxjAf090bLKYQkcNRT4CHopROxkPhStV0R4w0phBR0Bg6FI6CY+GAxEPGR1Mu5t4OMiUpXUIGQpFERqunVJCMsid7+tw+nM6nZTTs2RZyfeb7Ht/7vN7P773PlnGcRxBURaksO4AlM1ExVGsUHEUK1QcxQoVR7FCxVGsUHEUK1QcxQoVR7FCxVGsUHEUK1QcxQoVR7Fio8VxDyP8tlBzUg2O0GpHNN21hHUNhGY7/ptWHfrMtcvJRosTvjXZDR3D8xCKO7fnGyOluuAfCaV1BzJg5trl5LMlxbFW/u1MPwueGvY8cIHgxiOyxeA/vN6GLkrW2uVhozPOXDqGbl/Yq687kI8Tk/8bgN/x5Px7iokn/10+5odWbyWBLQVX8Pfh5GdDN6vdEVqecCfxKDwv4CdSVKkuNMrjJbp6UeCX0/REQrMtE2sznMc9jKgU0/2n31U7iti9O2jom+yYXcGvJrfLcPHQjDJq7Sii9LrA8y8S75w11zXJKc5X+GcP2O5cR5Rp8Ub0X/Ho4Fd+s5x5NvGGkpLhw20xsTQkNices5WUZyhfaGgezz5mSnWhsT1H4g/1cwW/Ci8fGZ4MjpdYyrE8Q/nGcmfEuyQWuuN87pS5T89yg59Rqz6zGmmP4eIFNHYEguxNLc5sEyplITwvJO5Ig/m2hRLxxro/Cnf6hpM50iyD2r5AOJYGIDg23GsL91xDMAwyNAlJDO/6wtYK4skpTo/mwWP8swd451/jwQqzxHLpXsKVBzWHiUWPL6LQbAt+e5B0M7JGsRrhV1OT9lOSvGfpR0EWVzMqoa0vb+DlKRbIOD2aBz8Nfo6PLu8MyC3POo4qBqV5xN43BqYqiGQVE6d1/5AJedJ3ntvIuzc3/07LcrzH750rdhf68GgdR1VM8KehUhXcUzOnNDf8FSYvuPHvlargBrPHDedu1c3ce0T3DVCGbx3oWpTAf7w27JaF2mXyjiMU+4aTNYidU5ysbPE3T6u3/6gCIDC83I8m7wIZFdWwAhkNOy7AYUSlLVQS3SYqq8DQ/AdaXoRfHveZylSB4WInouIJu+k+GbE02gKY0WW4e2o4QWh40Wj8qiqmPCxQjm82easaJR8f7weAKbqnEN4VKhv3/6vbySeTcZTl8slkHGW5qDiKFSqOYoWKo1ih4ihWqDiKFSqOYoWKo1ih4ihW/A+mkGNQ1VR6tgAAAABJRU5ErkJggg==)\n",
    "\n",
    "* In Python, the backslash (\\) is a special character. To construct a regular expression, you need to escape any backslashes by preceding each of them with a backslash (\\):<br />\n",
    "![image.png](data:image/png;base64,iVBORw0KGgoAAAANSUhEUgAAANEAAAAgCAYAAACM9J1TAAAFUElEQVR4nO2cTWgbRxTHf2N6rH1w2kJOUSAooiUFI5JeKowJKFRCmN5ijNyLyUFLiojBGIJPxlAMDSLCOYRcKhGSaxBqicAYYyhtjMkhUBThErmXEhL7IOWs6UFfI2lXsrXyR9z3Ax92583M83r+M++9Xax8Pp9GEIS+GTppBwThY0dEJAguEREJgktERILgEhGRILhERCQILhERCYJLRESC4BIRkSC4RER0KtHEkxUSyxpve1NQk0hqoj7n3sE5h76nHO+MJpGssDRz1DN1eb59cHIimrXYzFgsuLU5kyj2Sg5NOcV2SeO95tw7l1WUR+CbLkI7XqqLNh48aT/qdHm+ffDJ4IYSBs4+FGxupzcUiXGNF2XbTl6xWawQuKYgf8Q+DpBCShFPqeOb0OH5HhYJ5z5GclAc0YS67Oy5V4rhq5pTs/mfYdShvuKetdichOy9fcbvjPFp7Xbx2TzRR4bdxBS/Ge2wSzayyk/AzcVFrGvDtsN/ePGQ75Z2DmRTZ+H+CuGLzfZWX66TztyAZ/NkzxtjvnlO4Mc1qPvj22F1fRRr8kKtX5nte0vE1w/0VE4E74wm9jnEf3beuaPLFc5tDJHI2bcH5yqEPMaNkuLB3dbTrd2mmOkczzujiV01llF9HJ9mydLY/iXNuYKaRKTZ326O+u/jH2lel7eGWEzVrzTxpIbMEHvjhl1RdX1Gg6APEV3AXGTVBb/fEAlcJ/34C7LTT3gKwCUSj2/h5yWrjXs0Bdno5zSfs83C/RXC54xxa+J93xBSVUQeaAqnzaYh2FJznI5xe2LM007pMOMcAp9myYLCqiLtELJ5ZzSxy3QIo1dbneBchdCosdhrotgzFnlVZIrtLn6YC9xJ0L3sossV/PuGIGq+0BBSta8HQ4Q2/h4FfeRErbv006XfCWdu8NUs8Ahgjei0ab/DH/ky/kEnuRNTjF8ss33PWKDrT9j4fozw19eBtaatcfKwvsXr2TEun78E1E+0XUP0UHxXhnOHcWaNaGStt9kgOUDeU0hBMVktMBTsbEa6tPk0gZo4GiLLKzaLmtAVDTlVs4FippuABkBQ4x9RbKeNEyWvSG9B7HJrbljeMgSTh70jdKvOwAoLnxmLsj3EAmCA1ZAmw/jvrLB5p+32m9bLD+92jasd4tPzR+HMsZN7pQhFNMGUwn6jVfxVrBAKQzrfGtIUUooHaGJWBX/NtvM00fgtXWs3KLbOsfePy1/kgLx12Ag8DKZA0C8DE9H7f6sCurm4SPjibksIVs07BjWTyWnJXU4gnINquXu8wpdBRc4hXMllFQELgtAhNLMa5p3RxCwNLULqFaadAkptmj4BXFfnFu7fwFN6SfaRg8HEFD/YFQn+3ucDF6phoBPdbNa3eF0axj87xc0+/B4sa0Qj8wTsfo5KQDX+fK3wjHd5aZhXFEqaQI8XmIUXULbp54/2Httv9aoCVt/LeK70+Z8IclBEE5oz+vs00aua4oZzTndc9HEStYVQb54TmG7mA/UcKZxZIQzALtlnu4Qn2oZZf8Iv317Cmlxhc7J6q73y1t1mh/j0QxKPb2FlxrCMoTuqhWeYnnkP9u+VOipzVBNy89RJ3x2C5QqxpO6wq+cd6btDvJ2rEEpqQnUDmypfOq3wWtWvLdptOnyJVEhEMCprisRtiCeN/jhX8Y6bPqpzo6ckhBLqBOcqhOhWyj1odUzoB3nZegbIZRVlD12+p1P8utUj7BP6Rj77OQvkFYu3u5sUUor48Xjzv+Nw4ZwgCB1IOCcILhERCYJLRESC4BIRkSC4REQkCC4REQmCS0REguCS/wCF+Gxmi3tTmgAAAABJRU5ErkJggg==)\n",
    "\n",
    "* In regular expressions, the pattern must be '\\\\section'. However, to express this pattern in a string literal in Python, you need to use two more backslashes to escape both backslashes again:<br />\n",
    "![image.png](data:image/png;base64,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)\n",
    "\n",
    "* Simply put, to match a literal backslash ('\\'), you have to write '\\\\\\\\' because the regular expression must be '\\\\' and each backslash must be expressed as '\\\\' inside a string literal in Python.\n",
    "\n",
    "* This results in lots of repeated backslashes. Hence, it makes the regular expressions difficult to read and understand.\n",
    "\n",
    "* A solution is to use the raw strings in Python for regular expressions because raw strings treat the backslash (\\) as a literal character, not a special character.\n",
    "\n",
    "* To turn a regular string into a raw string, you prefix it with the letter r or R. For example:"
   ]
  },
  {
   "cell_type": "code",
   "execution_count": 12,
   "metadata": {
    "colab": {
     "base_uri": "https://localhost:8080/"
    },
    "executionInfo": {
     "elapsed": 6,
     "status": "ok",
     "timestamp": 1654252050366,
     "user": {
      "displayName": "Dharmendra Chaudhary",
      "userId": "16994293431277914491"
     },
     "user_tz": -330
    },
    "id": "o3cUjBOzGvxm",
    "outputId": "66246293-79d6-45a0-86d7-a9453b40530b"
   },
   "outputs": [
    {
     "name": "stdout",
     "output_type": "stream",
     "text": [
      "['\\\\section']\n"
     ]
    }
   ],
   "source": [
    "import re\n",
    "\n",
    "s = '\\section'\n",
    "pattern = r'\\\\section'\n",
    "result = re.findall(pattern, s)\n",
    "\n",
    "print(result)\n"
   ]
  },
  {
   "cell_type": "code",
   "execution_count": null,
   "metadata": {
    "id": "jwthi0X1GxAz"
   },
   "outputs": [],
   "source": []
  },
  {
   "cell_type": "markdown",
   "metadata": {
    "id": "hhnlA9LMG5uf"
   },
   "source": [
    "* Note that in Python ‘\\section’ and ‘\\\\section’ are the same:"
   ]
  },
  {
   "cell_type": "code",
   "execution_count": 13,
   "metadata": {
    "colab": {
     "base_uri": "https://localhost:8080/"
    },
    "executionInfo": {
     "elapsed": 13,
     "status": "ok",
     "timestamp": 1654252096382,
     "user": {
      "displayName": "Dharmendra Chaudhary",
      "userId": "16994293431277914491"
     },
     "user_tz": -330
    },
    "id": "CFuA-MfJG6wb",
    "outputId": "4a8102e9-095e-4ece-bdbb-7ef7827fbb0b"
   },
   "outputs": [
    {
     "name": "stdout",
     "output_type": "stream",
     "text": [
      "True\n"
     ]
    }
   ],
   "source": [
    "p1 = '\\\\section'\n",
    "p2 = '\\section'\n",
    "\n",
    "print(p1==p2) # true"
   ]
  },
  {
   "cell_type": "markdown",
   "metadata": {
    "id": "Lm79oNGBHARf"
   },
   "source": [
    "* In practice, you’ll find the regular expressions constructed in Python using the raw strings."
   ]
  },
  {
   "cell_type": "code",
   "execution_count": null,
   "metadata": {
    "id": "rXml-aoXHCCc"
   },
   "outputs": [],
   "source": []
  },
  {
   "cell_type": "markdown",
   "metadata": {
    "id": "VVRWSPUmHFWn"
   },
   "source": [
    "## **Python Regex Character Set**\n",
    "### **Introduction to Python regex character sets**\n",
    "* A character set (or a character class) is a set of characters, for example, digits (from 0 to 9), alphabets (from a to z), and whitespace.\n",
    "\n",
    "* A character set allows you to construct regular expressions with patterns that match a string with one or more characters in a set.\n",
    "\n",
    "### **\\d: digit character set**\n",
    "* Regular expressions use \\d to represent a digit character set that matches a single digit from 0 to 9.\n",
    "\n",
    "* The following example uses the finditer() function to match every single digit in a string using the \\d character set:"
   ]
  },
  {
   "cell_type": "code",
   "execution_count": 14,
   "metadata": {
    "colab": {
     "base_uri": "https://localhost:8080/"
    },
    "executionInfo": {
     "elapsed": 4,
     "status": "ok",
     "timestamp": 1654252216425,
     "user": {
      "displayName": "Dharmendra Chaudhary",
      "userId": "16994293431277914491"
     },
     "user_tz": -330
    },
    "id": "S-0qW3vcHYxa",
    "outputId": "4c15f19b-ddd9-4ad0-9dfd-7271c3370766"
   },
   "outputs": [
    {
     "name": "stdout",
     "output_type": "stream",
     "text": [
      "3\n",
      "0\n",
      "2\n",
      "0\n",
      "0\n",
      "8\n"
     ]
    }
   ],
   "source": [
    "import re\n",
    "\n",
    "s = 'Python 3.0 was released in 2008'\n",
    "matches = re.finditer('\\d', s)\n",
    "for match in matches:\n",
    "    print(match.group())"
   ]
  },
  {
   "cell_type": "code",
   "execution_count": 15,
   "metadata": {
    "colab": {
     "base_uri": "https://localhost:8080/"
    },
    "executionInfo": {
     "elapsed": 2,
     "status": "ok",
     "timestamp": 1654252237237,
     "user": {
      "displayName": "Dharmendra Chaudhary",
      "userId": "16994293431277914491"
     },
     "user_tz": -330
    },
    "id": "9vVbJWQZHZor",
    "outputId": "38c678ea-562c-428d-dd0f-924e16745590"
   },
   "outputs": [
    {
     "name": "stdout",
     "output_type": "stream",
     "text": [
      "20\n",
      "08\n"
     ]
    }
   ],
   "source": [
    "#To match a group of two digits, you use the \\d\\d. For example:\n",
    "import re\n",
    "\n",
    "s = 'Python 3.0 was released in 2008'\n",
    "matches = re.finditer('\\d\\d', s)\n",
    "for match in matches:\n",
    "    print(match.group())"
   ]
  },
  {
   "cell_type": "code",
   "execution_count": 16,
   "metadata": {
    "colab": {
     "base_uri": "https://localhost:8080/"
    },
    "executionInfo": {
     "elapsed": 5,
     "status": "ok",
     "timestamp": 1654252254640,
     "user": {
      "displayName": "Dharmendra Chaudhary",
      "userId": "16994293431277914491"
     },
     "user_tz": -330
    },
    "id": "v183s0jEHezh",
    "outputId": "c71681b7-2c08-4b23-d18b-02118660ad05"
   },
   "outputs": [
    {
     "name": "stdout",
     "output_type": "stream",
     "text": [
      "2008\n"
     ]
    }
   ],
   "source": [
    "#Similarly, you can match a group of four digits using the \\d\\d\\d\\d pattern:\n",
    "import re\n",
    "\n",
    "s = 'Python 3.0 was released in 2008'\n",
    "matches = re.finditer('\\d\\d\\d\\d', s)\n",
    "for match in matches:\n",
    "    print(match.group())"
   ]
  },
  {
   "cell_type": "code",
   "execution_count": null,
   "metadata": {
    "id": "ISU2K0vLHi9h"
   },
   "outputs": [],
   "source": []
  },
  {
   "cell_type": "markdown",
   "metadata": {
    "id": "yDc79fJ3Hl_o"
   },
   "source": [
    "* Later, you’ll learn how to use quantifiers to shorten the pattern. So instead of using the \\d\\d\\d\\d pattern, you can use the shorter one like \\d{4}\n",
    "\n",
    "### **\\w: the word character set**\n",
    "* Regular expressions use \\w to represent the word character set. The \\w matches a single ASCII character including Latin alphabet, digit, and underscore (_).\n",
    "\n",
    "* The following example uses the finditer() function to match every single word character in a string using the \\w character set:"
   ]
  },
  {
   "cell_type": "code",
   "execution_count": 17,
   "metadata": {
    "colab": {
     "base_uri": "https://localhost:8080/"
    },
    "executionInfo": {
     "elapsed": 5,
     "status": "ok",
     "timestamp": 1654252302133,
     "user": {
      "displayName": "Dharmendra Chaudhary",
      "userId": "16994293431277914491"
     },
     "user_tz": -330
    },
    "id": "3mPtQ6a_HsFD",
    "outputId": "abca426b-eb1b-4403-b5c8-ab4dbcb76cfc"
   },
   "outputs": [
    {
     "name": "stdout",
     "output_type": "stream",
     "text": [
      "P\n",
      "y\n",
      "t\n",
      "h\n",
      "o\n",
      "n\n",
      "3\n",
      "0\n"
     ]
    }
   ],
   "source": [
    "import re\n",
    "\n",
    "s = 'Python 3.0'\n",
    "matches = re.finditer('\\w', s)\n",
    "for match in matches:\n",
    "    print(match.group())\n",
    "\n",
    "    "
   ]
  },
  {
   "cell_type": "code",
   "execution_count": null,
   "metadata": {
    "id": "nHw6XHo0HupS"
   },
   "outputs": [],
   "source": []
  },
  {
   "cell_type": "markdown",
   "metadata": {
    "id": "pOv228KZHw8Y"
   },
   "source": [
    "* Notice that the whitespace and . are not included in the matches.\n",
    "\n",
    "### **\\s : whitespace character set**\n",
    "* The \\s matches whitespace including a space, a tab, a newline, a carriage return, and a vertical tab.\n",
    "\n",
    "* The following example uses the whitespace character set to match a space in a string:"
   ]
  },
  {
   "cell_type": "code",
   "execution_count": 18,
   "metadata": {
    "colab": {
     "base_uri": "https://localhost:8080/"
    },
    "executionInfo": {
     "elapsed": 5,
     "status": "ok",
     "timestamp": 1654252335339,
     "user": {
      "displayName": "Dharmendra Chaudhary",
      "userId": "16994293431277914491"
     },
     "user_tz": -330
    },
    "id": "Rjp0p5Y7H0Wf",
    "outputId": "56cc3a4a-d0fb-4b6e-8a4e-8ce3548683cb"
   },
   "outputs": [
    {
     "name": "stdout",
     "output_type": "stream",
     "text": [
      "<re.Match object; span=(6, 7), match=' '>\n"
     ]
    }
   ],
   "source": [
    "import re\n",
    "\n",
    "s = 'Python 3.0'\n",
    "matches = re.finditer('\\s', s)\n",
    "for match in matches:\n",
    "    print(match)"
   ]
  },
  {
   "cell_type": "code",
   "execution_count": null,
   "metadata": {
    "id": "8Vm0eZyeH20A"
   },
   "outputs": [],
   "source": []
  },
  {
   "cell_type": "markdown",
   "metadata": {
    "id": "C66nVjrFH5ug"
   },
   "source": [
    "### **Inverse character sets**\n",
    "* A character set has an inverse character set that uses the same letter but in uppercase. The following table shows the character sets and their inverse ones:\n",
    "<br />![image.png](data:image/png;base64,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)\n",
    "\n",
    "* The following example uses the \\D to match the non-digit from a phone number:"
   ]
  },
  {
   "cell_type": "code",
   "execution_count": 19,
   "metadata": {
    "colab": {
     "base_uri": "https://localhost:8080/"
    },
    "executionInfo": {
     "elapsed": 3,
     "status": "ok",
     "timestamp": 1654252406467,
     "user": {
      "displayName": "Dharmendra Chaudhary",
      "userId": "16994293431277914491"
     },
     "user_tz": -330
    },
    "id": "cxtj62UdIGmK",
    "outputId": "132bd887-ebec-47d8-bde7-71c57b0a708c"
   },
   "outputs": [
    {
     "name": "stdout",
     "output_type": "stream",
     "text": [
      "+\n",
      "-\n",
      "(\n",
      ")\n",
      "-\n",
      "-\n"
     ]
    }
   ],
   "source": [
    "import re\n",
    "\n",
    "phone_no = '+1-(650)-513-0514'\n",
    "matches = re.finditer('\\D', phone_no)\n",
    "for match in matches:\n",
    "    print(match.group())"
   ]
  },
  {
   "cell_type": "code",
   "execution_count": 20,
   "metadata": {
    "colab": {
     "base_uri": "https://localhost:8080/"
    },
    "executionInfo": {
     "elapsed": 4,
     "status": "ok",
     "timestamp": 1654252433885,
     "user": {
      "displayName": "Dharmendra Chaudhary",
      "userId": "16994293431277914491"
     },
     "user_tz": -330
    },
    "id": "2vJzWa1cIIJt",
    "outputId": "c46d2146-4d49-405b-f4b9-4987e764f223"
   },
   "outputs": [
    {
     "name": "stdout",
     "output_type": "stream",
     "text": [
      "16505130514\n"
     ]
    }
   ],
   "source": [
    "#To turn the phone number +1-(650)-513-0514 into the 16505130514, you can use the sub() function:\n",
    "import re\n",
    "\n",
    "phone_no = re.sub('\\D', '', '+1-(650)-513-0514')\n",
    "print(phone_no)"
   ]
  },
  {
   "cell_type": "code",
   "execution_count": null,
   "metadata": {
    "id": "MdBO7OQNIO4j"
   },
   "outputs": [],
   "source": []
  },
  {
   "cell_type": "markdown",
   "metadata": {
    "id": "FX_iuDYOIRmI"
   },
   "source": [
    "* In this example, the sub() function replaces the character that matches the pattern \\D with the literal string '' in the formatted phone number.\n",
    "\n",
    "### **The dot(.) character set**\n",
    "* The dot (.) character set matches any single character except the new line (\\n). \n",
    "* The following example uses the dot (.) character set to match every single character but the new line:\n"
   ]
  },
  {
   "cell_type": "code",
   "execution_count": 21,
   "metadata": {
    "colab": {
     "base_uri": "https://localhost:8080/"
    },
    "executionInfo": {
     "elapsed": 4,
     "status": "ok",
     "timestamp": 1654252466909,
     "user": {
      "displayName": "Dharmendra Chaudhary",
      "userId": "16994293431277914491"
     },
     "user_tz": -330
    },
    "id": "sWXNbyL1IWnT",
    "outputId": "3f7694ff-5c6e-4e9d-d08e-bf5879b300e3"
   },
   "outputs": [
    {
     "name": "stdout",
     "output_type": "stream",
     "text": [
      "P\n",
      "y\n",
      "t\n",
      "h\n",
      "o\n",
      "n\n",
      "4\n"
     ]
    }
   ],
   "source": [
    "import re\n",
    "\n",
    "version = \"Python\\n4\"\n",
    "matches = re.finditer('.', version)\n",
    "for match in matches:\n",
    "    print(match.group())"
   ]
  },
  {
   "cell_type": "code",
   "execution_count": null,
   "metadata": {
    "id": "aFmGAdLhIW6U"
   },
   "outputs": [],
   "source": []
  },
  {
   "cell_type": "markdown",
   "metadata": {
    "id": "nLa3BEJMIarl"
   },
   "source": [
    "## **Python Regex Anchors**\n",
    "### **Introduction to the regex anchors**\n",
    "* Regular expressions provide you with two anchors that match the positions of characters:\n",
    "\n",
    "  * **^** – the caret anchor matches at the beginning of a string.\n",
    "  * **$** – the dollar anchor matches at the end of a string.\n",
    "The following example uses the \\d\\d to match two digits in a time string:"
   ]
  },
  {
   "cell_type": "code",
   "execution_count": 22,
   "metadata": {
    "colab": {
     "base_uri": "https://localhost:8080/"
    },
    "executionInfo": {
     "elapsed": 4,
     "status": "ok",
     "timestamp": 1654252537693,
     "user": {
      "displayName": "Dharmendra Chaudhary",
      "userId": "16994293431277914491"
     },
     "user_tz": -330
    },
    "id": "dysMo_uZIj6q",
    "outputId": "c048ad6f-85df-4a3f-9757-4bddf028d5d6"
   },
   "outputs": [
    {
     "name": "stdout",
     "output_type": "stream",
     "text": [
      "12\n",
      "20\n"
     ]
    }
   ],
   "source": [
    "#The following example uses the \\d\\d to match two digits in a time string:\n",
    "import re\n",
    "\n",
    "time = '12:20'\n",
    "matches = re.finditer('\\d\\d', time)\n",
    "for match in matches:\n",
    "    print(match.group())"
   ]
  },
  {
   "cell_type": "code",
   "execution_count": 23,
   "metadata": {
    "colab": {
     "base_uri": "https://localhost:8080/"
    },
    "executionInfo": {
     "elapsed": 4,
     "status": "ok",
     "timestamp": 1654252562334,
     "user": {
      "displayName": "Dharmendra Chaudhary",
      "userId": "16994293431277914491"
     },
     "user_tz": -330
    },
    "id": "AwhQOg7gIn7G",
    "outputId": "f0cda143-81b5-4d78-ee8b-14f93fc703cf"
   },
   "outputs": [
    {
     "name": "stdout",
     "output_type": "stream",
     "text": [
      "12\n"
     ]
    }
   ],
   "source": [
    "#If you use the caret anchor (^), you’ll get one group which is the two digits at the beginning of the string. For example:\n",
    "import re\n",
    "\n",
    "time = '12:20'\n",
    "matches = re.finditer('^\\d\\d', time)\n",
    "for match in matches:\n",
    "    print(match.group())"
   ]
  },
  {
   "cell_type": "code",
   "execution_count": 24,
   "metadata": {
    "colab": {
     "base_uri": "https://localhost:8080/"
    },
    "executionInfo": {
     "elapsed": 15,
     "status": "ok",
     "timestamp": 1654252590927,
     "user": {
      "displayName": "Dharmendra Chaudhary",
      "userId": "16994293431277914491"
     },
     "user_tz": -330
    },
    "id": "k5FlK8tmIuMh",
    "outputId": "b6cda94b-33d2-4c5e-b887-d75aefdb8534"
   },
   "outputs": [
    {
     "name": "stdout",
     "output_type": "stream",
     "text": [
      "20\n"
     ]
    }
   ],
   "source": [
    "#Similarly, if you use the $ anchor, you’ll get the last two digits because the $ matches \\d\\d at the end of the time string:\n",
    "import re\n",
    "\n",
    "time = '12:20'\n",
    "matches = re.finditer('\\d\\d$', time)\n",
    "for match in matches:\n",
    "    print(match.group())"
   ]
  },
  {
   "cell_type": "code",
   "execution_count": 25,
   "metadata": {
    "colab": {
     "base_uri": "https://localhost:8080/"
    },
    "executionInfo": {
     "elapsed": 3,
     "status": "ok",
     "timestamp": 1654252607295,
     "user": {
      "displayName": "Dharmendra Chaudhary",
      "userId": "16994293431277914491"
     },
     "user_tz": -330
    },
    "id": "5eEqJRJAI1A5",
    "outputId": "eeed2e86-9163-488c-f651-eb2f5e50ce40"
   },
   "outputs": [
    {
     "name": "stdout",
     "output_type": "stream",
     "text": [
      "12:20\n"
     ]
    }
   ],
   "source": [
    "#To check if a string is a time string, you can combine the caret (^) and dollar ($) anchors. For example:\n",
    "import re\n",
    "\n",
    "time = '12:20'\n",
    "matches = re.finditer('^\\d\\d:\\d\\d$', time)\n",
    "for match in matches:\n",
    "    print(match.group())"
   ]
  },
  {
   "cell_type": "code",
   "execution_count": null,
   "metadata": {
    "id": "sNO13QXZI5Kk"
   },
   "outputs": [],
   "source": []
  },
  {
   "cell_type": "markdown",
   "metadata": {
    "id": "syyZ-TmPI72m"
   },
   "source": [
    "* Note that the pattern ^\\d\\d:\\d\\d$ doesn’t validate the valid hour and minute. For example, it also matches the following string:\n",
    "  \n",
    "  * 30:99\n",
    "\n",
    "* It’s not a valid time string because the valid hour is from 1 to 24 and the valid minute is from 00 to 59. Later, you’ll learn how to match the time string with valid values using the alternation."
   ]
  },
  {
   "cell_type": "markdown",
   "metadata": {
    "id": "52pRHJW-JXQk"
   },
   "source": [
    "## **Python Regex Word Boundary**\n",
    "### **Introduction to the Python regex word boundary**\n",
    "* A string has the following positions that qualify as word boundaries:\n",
    "\n",
    "  * Before the first character in the string if the first character is a word character (\\w).\n",
    "  * Between two characters in the string if the first character is a word character (\\w) and the other is not (\\W – inverse character set of the word character \\w).\n",
    "  * After the last character in a string if the last character is the word character (\\w)\n",
    "* The following picture shows the word boundary positions in the string \"PYTHON 3!\":<BR />\n",
    "![image.png](data:image/png;base64,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)\n",
    "\n",
    "* In this example, the \"PYTHON 3!\" string has four word boundary positions:\n",
    "\n",
    "  * Before the letter P (criteria #1)\n",
    "  * After the letter N (criteria #2)\n",
    "  * Before the digit 3 (criteria #2)\n",
    "  * After the digit 3 (criteria #2)\n",
    "* Regular expressions use the \\b to represent a word boundary. For example, you can use the \\b to match the whole word using the following pattern:<br />\n",
    "![image.png](data:image/png;base64,iVBORw0KGgoAAAANSUhEUgAAAHMAAAAiCAYAAABskea0AAADu0lEQVRoge2aTWsbVxSGnzN0Ky3shjabMIWgCoNXQslKeFFQqI3pDyjyqqsIFYHBG5OV8abQMiCcH2D9giIsyEApxhAIRnQRKJIIdJqVjVAWo6zndjEaS6MPWx+WrA73WWmu7j1zzrz33HNGSJLJpEITCYyHdkBzf2gxI4QWM0JoMSOEFjNCaDEjhBYzQmgxI4QWM0IsXsyk4qjkYe0P/9CU3fewjhWJW5bnjkevXRVyxx5He73ru2NSFEvhNePx5971jAIWL2Yd2mO+ss+EThyeJxfuxdK435iEtjv57KUds52WDA/WhQtHkXi2LC+WwCJi+gTNCaY9eM203wuxtCL70I7cIw8V0xezLfuOcuUF/H7A2eNX5J/F/OF/3pD5+Y+BuYJVGJGVAbZQ2/LYyAq2PXpKpyVk9z22ze6AK7w+FJr4NSrTMnh1OrhKUSwpqBhYNn7tzitifX7VToRyvXuZVBzloXkiXO/07tW5DNtO7ClepsM1vDNDTO0rv96m4t0BRyj+OvycyocG5dEmhpgrM80ffiH/6C2Z3QMyv/3F529eUP5pejvvGoK5Nb7Ix9Ie2wjFgkGxIDhxRa7bQDgtIfZoRIOUhHWE9kduhGxXjK4Ng9eXkMorcqHapkjl/c1RLBgUK36GBXN8IaFa6Nmpjalpd8Vk7nokGl07J0LHVBTnTOX5jtn+TPzzkoYLXz5+OrWZ5ik4tzUNoV0rVC+F2Ld9D2oN/3NWYZXCx9t1HbI7ipgrVPuypHkq1Nzh2hbKRBscFOtPABTbaYVTEcYk21Qxhe5TFy4cMDfn69rnEvNz69++qw8Ufzzg+6MPM1gS/nYUqZ0pgomDCTSvep+zm9BxFRtZ4AnEXHCC+WOaiMGsbl+F/bIKwTHdl+mLiinYlDPy4A1QgH0mdEwmbxoCoT4GNUuxsQblc8HcVCS+ZqIucGSXPYo6tG+ydDKmjmnCrnUcKyMmdaHpKjJ3vUwnFbm0wjn3G6DgPfarPVhvCE1bqK3Bc3pC2e8FBmpSYk+RigsXQ43TOPx3vv6jMNTAzBNTVrFtCrWzCTfWGGbsZhdD+VywthQJ5GaHXn8CTL8W+gi1E6PXhSK0XY9UWqgW/JF3DXjZrW8A2EIRsHY9rN3eumphsvp349+hsF7q+eJUDKqbHpmpYhLarsJMe1jp2X0ZhazWH7oGXiciwfJiWp1jFgg61dta+v8fy4tpxTJTMw8rlpmaedBiRggtZoTQYkYILWaE0GJGCC1mhNBiRggtZoTQYkaI/wAXtXqEpPg9vgAAAABJRU5ErkJggg==)\n",
    "\n",
    "* The following example matches the word Python in a string:"
   ]
  },
  {
   "cell_type": "code",
   "execution_count": 26,
   "metadata": {
    "colab": {
     "base_uri": "https://localhost:8080/"
    },
    "executionInfo": {
     "elapsed": 3,
     "status": "ok",
     "timestamp": 1654252880737,
     "user": {
      "displayName": "Dharmendra Chaudhary",
      "userId": "16994293431277914491"
     },
     "user_tz": -330
    },
    "id": "tHh6RKn7JDcB",
    "outputId": "6b09d9e3-52ce-4510-e068-30ce2344559e"
   },
   "outputs": [
    {
     "name": "stdout",
     "output_type": "stream",
     "text": [
      "Python\n",
      "Python\n"
     ]
    }
   ],
   "source": [
    "import re\n",
    "\n",
    "s = 'CPython is the implementation of Python in C'\n",
    "matches = re.finditer('Python', s)\n",
    "for match in matches:\n",
    "    print(match.group())"
   ]
  },
  {
   "cell_type": "code",
   "execution_count": null,
   "metadata": {
    "id": "ioiVeockJ70u"
   },
   "outputs": [],
   "source": []
  },
  {
   "cell_type": "markdown",
   "metadata": {
    "id": "JFTxkyIAKAsM"
   },
   "source": [
    "* It returns two matches, one in the word CPython and another in the word Python. However, if you use the word boundary \\b, the program returns one match:"
   ]
  },
  {
   "cell_type": "code",
   "execution_count": 27,
   "metadata": {
    "colab": {
     "base_uri": "https://localhost:8080/"
    },
    "executionInfo": {
     "elapsed": 3,
     "status": "ok",
     "timestamp": 1654252916280,
     "user": {
      "displayName": "Dharmendra Chaudhary",
      "userId": "16994293431277914491"
     },
     "user_tz": -330
    },
    "id": "QH5A90ZcKC-Z",
    "outputId": "3fc60b86-ff64-4c30-dd55-0b1856659f0c"
   },
   "outputs": [
    {
     "name": "stdout",
     "output_type": "stream",
     "text": [
      "Python\n"
     ]
    }
   ],
   "source": [
    "import re\n",
    "\n",
    "s = 'CPython is the implementation of Python in C'\n",
    "matches = re.finditer(r'\\bPython\\b', s)\n",
    "for match in matches:\n",
    "    print(match.group())\n"
   ]
  },
  {
   "cell_type": "markdown",
   "metadata": {
    "id": "xnWzhmZOKHIw"
   },
   "source": [
    "* In this example, the '\\bPython\\b' pattern match the whole word Python in the string 'CPython is the implementation of Python in C'.\n"
   ]
  },
  {
   "cell_type": "markdown",
   "metadata": {
    "id": "WOTOC-nlYJGo"
   },
   "source": [
    "## **Python Regex Quantifiers**\n",
    "\n",
    "### **Introduction to Python regex quantifiers**\n",
    "* In regular expressions, quantifiers match the preceding characters or character sets a number of times. \n",
    "* The following table shows all the quantifiers and their meanings:<br />\n",
    "![image.png](data:image/png;base64,iVBORw0KGgoAAAANSUhEUgAAAnkAAAFWCAYAAAAVG4vfAAAgAElEQVR4nO3dy2sbVx838G9enj/BBpU2UMuOIF4ZeeFFYaK+weCsZQz2IiB3Sh3I1o4d4pUTX+RtIYYOFnRhUyOtYzCh7kAWgUgxvOCFsNXStI2I/D/Mu5iLztxnZMmWx98PlCeW5nLm3OY355zRc0fTNA2UCH9++oyhu19ddzIooVi/iIhulv9z3QkgIiIiou5jkEdERESUQAzyiIiIiBKIQR4RERFRAjHIIyIiIkogBnlERERECcQgj4iIiCiBGOQRERERJRCDPCIiIqIEYpBHRERElEAM8oiIiIgSiEEeERERUQIxyCMiIiJKoAQHeSdYz4winRnFetX+TauygLTxXVquoFXdNv7eRu16EktE18TqD+QKWtedGCKiLooR5F3gQB5tB0eZUaQzCzho9i5xl1I9gmL88+yvC+vjVmUBEyuqbdP/97Zk/OscZ/16PT1QK7bLcr5y4fi2HSS7vyMKJ9Yvv77Cvs11PGRd4Pc3Rn+gNvDpys9PRNQ70YK86jbSGQnLqvMLFcvSKNLFk64nLA7rSVxMx/gkZOOfI98OGP8SOnRpDe/rp2goefzfhwXj+2GMpK4o0X3meOVF/wbslAAqDt+5HyQOFc+Nr9AAvn8k6f+U0rh7vYkhIuqq8CCvWcH8rDnSVUC5fopG/RSNuopNo2+EMueaEr06QuBmM4bnRlqfj3t8nRnGoPnv8UXjmhaR7V1C+5yK5RecrqLuy0l6R3H85g9b/WpVdqAI31+XwfyO3v6VfLtPICJKgNAgr/brKo4BABI2VTEIGsCMsmeNlimvjQChWcG8ay2cx9SftQ5u1L4+Dt77uNbRWecSRhiVufY5nOkI2LZ9bPt0ke2czpFC2/HNtPbx9HUQSUIOANRV/BIUrAvX7DfFZk2/yRW0bNsb29nK3T09Z5++41RxEhwDHvXL7+FM1O4DvKZ8nXXFVV8cfYBte6Et2+qs47y+fY/HOex9AesuEV2/kCDvAmd145/SJL53TWWOYcqM8mKuZ2n9de7+UF3FhNfi5zcv7Ovo1FU863EHWiuOutbuQZnznJpWZudw7bNOlzKJrX19ylqZDVgX9W/DCPhFJUx7rqU6wjNpVdi+hGl5QRgVNj6z8lNf8zntyMjjFYk3y5sus4CnRj+hvDXKu/kHDlUA0hqePvLYp1nBfMbZrlQsS2agJ/RNAr/6cvZ6wV63os4+BPU9zQrmbXU8CX0BESVJSJD3D87CHrY7ZE2RmP8ZQQbUI/zuGA07VoeNaeL2yOHxmz/QSuWxK04by3to1E+xmx+AS5xtmxX8bPTU8r6RPnVNH41QjtwBjbm+r76DmZu6pm98EWUZsAde7m1sZWbmCUo4dN4wVWBKdUzrqypG9h2f1c/1oL5aMkZZJWyq9jrhnOajmydrrns12k/r3ZE+wvfogec6OGsGwWpbp0b9NNf2DWBGObXVx7LROXjVl2NM6sex6qwQcAbw7XvENArLWN5vXO/UMxGRKCTI+wYjveqznFN/thEeu9xGwZgmFkYOe0kYsVJmjfRZT+zuN3Bzjx4kYi1P9rEZyPqNcjimzxyjGDbWyO8ARjLmZ2v4cdzxmaE9smu8zCPWCb71ePNZL0KVcFg1p2olTH3n8ZAljtKpq5gw6ps5End8/g8A93IK5yiwSH5irLdLPcBUjD7Nv+8R0ihPWstYBvMLuIouiogoipAgT7gZe4yw2d6OEzq6cCdYlxxPweZIXh/wnEq2qDj71/5J++3dGy6Vx5YxEuGedrrAgWx+Zoy2CaMil/XpPGjI+Hb9tE0ytYMk5fULY6rWawkIEDqDUD9Hq7rdnkY1RuXLVxpd9W6Wg4ioW0JfvLBGd6BiWRLXXok3fUB+OOba1/p9OuE36wAAzXOcAdADPP1ljuDA6moNfjts/duarhX+83xbNyEG8y/bU6k25k1NwqZqTEt7rtHrzN1h86TCdK313w2eBieLNWWrqtZUrfcIuDCDIEzXWv8pecDsL+Q9NJbG4LdGr3eENApLOMw3homI+kH4T6gIozv6IntzeqT9pmpuQ20HPqlhjBj/PF6RQqZi28dzveQQmTDaKL5dexnjBSvQsaZrb80bcwOYeRk0QucxndoF7Wku4fg+/48ldEMJv13pP1ULAAOYeWIGhO3pWs83so027/07nr0kpLEr/RgRUfdF+jFk/SWJPd+1JscrJaHjHcNz2zSehE3VsW8qj11xelZaw/tLTNdml/zT1hl9UffVTv/0EVtgb3KWawHlLk7X6r9rqPqMIlIyCOvafKdqDeOLgcsBBvM7tvaZ21Cvvr2OLzpetCigHNBPEhFdtTuapmkd713dbo/mSGt4zx8TvVZ/fvqMobtfXXcyKKFYvyIQ+kR5P9lLO4io/8X4/671YP3sBoxplev4/54kIroGzQrWbcs3TrAu/L8DTTHAI6Jr9r/LHiC7dIrGUjeSQkR0s5ytSEivuD+X92/z/0UiEfWLSwd5RERkav9iABHRdWOQR0TUiVQeu/X8daeCiMjX5dbkEREREVFfYpBHRERElEAM8oiIiIgSiEEeERERUQIxyCMiIiJKIAZ5RERERAnEII+IiIgogRjkERERESUQgzwiIiKiBGKQR0RERJRADPKIiIiIEohBHhEREVECMcgjIiIiSiAGeUREREQJdKfx93/adSeCiIiIiLqLI3lERERECXRH0zSO5CXEn58+Y+juV9edDEoo1i8iopuFI3lERERECcQgj4iIiCiBGOQRERERJRCDPCIiIqIEYpBHRERElEAM8oiIiIgSiEEeERERUQIxyCMiIiJKIAZ5RERERAnEII+IiIgogRjkERERESUQgzwiIiKiBGKQR0RERJRADPKIiIiIEohBHhEREVECMcgjIiIiSiAGedQ/mhXMZ0axXg3ftFYcRbp40vs0UTI0K5jPLOCgGWenCxzIrGf2ttZfecJ+gK5EdRvp2P1Hf4gV5NWK0W7AdPPUiqNIZ7ZRu+6EUGK0KgtIZ0YxX7kI2OoE65lRpOUKWleWMiKi2yFCkHeCdePmf3dY0j9qVjDPTjk5mhX8rEjISSUcxg3iq9vdCw5TeezWT/F8vBsHo74gScCbP/z7iuoRlNgH1UeTgoPHbhjAjHKKxtKY9UmrsnDLA1J3nlBUV1Vv6VK87mnji2jUdzCTuq5EdS5CkDeGHzfOMZ1ZwC/nw8DbBaSlVYw8yWOw9+mjK9B6d4RjeQFbjyQor2/zDYx6Ql3FL54PDxc4eF2CLBeuOkVERLdCpOnawfwOGvWXGKmXoGABDY62JMgFfn+jQn44hsH8AmT1CL+71h0Y63Ay5n/62oRacRTp2RKAEqYzzuleYxrO/M82+mE+0Z5Yx12vwmPdlPd5vUSbGqSrN4mnGxKUtx7rppp/4FAtYOqh+yuzPM3/rHJtVjCfkbCsAscrkrvMq9u2/dyjbvZ6GVxfxJEX/d8TKyqgrmLCduzo9bQ9ShCUDp/2YV2/cC6P9WjOvBO3cX7nXn7jaLeu4ztHo9p/60s+/PId9u8z26hFmgUI6ke82c/jKAvznGI9MY5pyxuP8wTmnXlcR/nYyy2g3vpdr+d1dNC3eh476hqzkP3MfrtqXrtPmbq2E7a1tVuv/S+RhghtxuR7T3PW1V7Vozh9SVRaBF/KP2lD9+5rhR+K2qst/d+vPkTZk65S4+//4u/0oagN3StqVePP6tZ9bWjro20T52dfykXtt8/e++s+aq8cdaS6dV8b+qGsfdE0TdNa2m8/3NeG7v3UPo6madrnslYQPgs6r+27D0X3sajr4tavL+WfjDL/qL3yKJ/q1n2tUG7p5WfVDU3TtI/aK7EOfi5rBVt90utPodxyn892npb225ZxXOMYtroaWm/c52lfk/06fNuH04eiNuRMh5G29nmitQ9rO+Hc1S3HsYW8dKXdla96u3Vd7z3xHM48MdMafBx7+9e8y8MlrB9x572r/3KWsZn/1jb6Obw+Cyx3Z96ZxxW20fNOvD7vehvMmQeX6Vsd5zbSHHgvj7KfWZaOduF3LHdaPT7zaP8dpSFCm3Hxuqc5P+tRPYrVl0QUIcj7qL0yLu5L+Sc9MZ/LWiGsQOnKdRLkeXeKMTomjwbxpfyTuxHZGptPQ/PYxu+8VrqjdFTUFZ0HeUJAZ2n3K+4gz8k7sHAfL6AeuAIav+MEf+8O8mLeuH0CS/txvduHOw81e/tz3dBE/oH2kF8Q6LGNb5DnSKvtWH7p8nxAdBwjsI9wpO1zWSu4judIr19/5fWZlRfheeddrs46GTfIc+dtp32r18N70Oex9vNsWx686oFXvkUYeIiahtA24yVykNftetTJQ0C4/4WP9Y3heV1fZFs7V4FvoS+Qj79amvrOCQ4VCZuqsIh6fBIy5nBYXUR2HAAGMPOkgOVZCemVAsr1RWRDjvrpXAUUFWlXHZEwJfyVG/4m4CgRzlvfwbyiQt7n8oF+l328Bkgl1PJ6ObYqO1DkBTz33eME65k520sZuUcBJ2ie4wwFPA2sBxJGvo6X7nDx2wcwjBHHAu7Bb4cBtYFPgLXW2d4+LnBWB44VCekV5/GMNY3/NnAsTWLLa3F48xxnUKFIo1h2fifr//PpXEXu0cuO1loHtuWgdAWI2o/YzoMSjjMld/qC6g4ASGnc9fsuQt7p3OV6Ga3KCyyrBZSVdv/cWd+q1x35iftlmezDAvD6HC2MeZR7nP0u07aC8u0yaYjQZrrtUvWok74kXIQgry27dNqVk1J/aFV2oEAFvCrd6wp+VIyXa8YX0agvolVZwERmFEB4BcxtqNjND1wugRHPe/bXBTB+yXNRb6XyeCqPGg8PF/j9DbD50vsNzVZlARMrevDeGAf0dSoSDq80wTF00D46dbkHmt6lq1di9yPSGt4rvXgp8IrzrlnBsxVgU3Wfsyt96y3SX4MAIfWoB30Jfwz51tJfuMhtqGjUT+3/7RcAjxcw9Bdw9iAj+KdW7g5LOA762YyYfM+bWcCuugasSHzh4gbIPl7D2esKWtUSljMLPj9H0K6XsTrm1DBGQuplr0VtH15qb0uAPBnQmQ9gJAPvF1hMX6eR83xxCpHzx91u9dGQS/NIV+uv88BdYvcjQdd/GVdety5w8GIV2HjpaiOd9a3+daf2tgRkhn2C4k7366bLpCFCm7lKMerRZfoSJwZ5t1XzDxyqEqa+83giHC9gU1Jx+M54q7AY8Ebb12nkcI4zoWMd/G4SOXUVz2yB1wnWY/0yfch5Tak8A72bIvUAUzjCs9fn2Hzs9ztresd8fP6P9Yk+bRW8jf5TTxKUWcfb2VHqUAzitGrn5yhhWnzrrrqNaQWQHwb/9lz2YQFQ5uxv4zUrWDfrfSqPp7KKZcnxlnvxBMAYpmRAmbW/udiqbFv5lX285mq37rzvgNGfLL8QrrlZwbOV4APH7kdSDzDlPA+AWvGyv+MZnnfReNVbt1pRwjLWsOUxWtdp35p9vIacMud6E31akQLaYuf7ddNl0hDaZrx43NO6I6weBfcltWJnPxofa7qWkqP26yqOpTWfdTID+P6RhOWVEmr5AlBfxURm1frWNvydyuOpvIppaRTL5tByKo9dFZiXxLUQEjbVnXiJDDqvKJXH7n4D6VkJ6Te9mq6hyxvAzJNhLL9OB67Pyi7tQc7MWeuOcht7+kOHuM3jNeQkfRtz+mowv4P3WMCEsPwgt6FippuXMF7ApiRhOlMypgYfRK+nlgLKTxrGdEzUfaBP5ewD6dlRYa1iAeV63voru3SKMkb19AnH9vsO8h4a5u4e7Ta3oaIsS5gOSVqwAcwoKiBL7XyS1vB+v4CJ2YDdYvcjHucxrmH3UumPkHdRj+NRb22MgB+w1ynzumc67Vs99yugXN8JngrsdL9uukwaIrQZr/O57mmXvARTaD2K3ZeEu6Npmna5Q1C/+PPTZwzd/eq6k0EJxfrVBdVtpGdx49bG9QTzgqjnOF1LRERXLnwdIhFdFoM8IiLqoQscyM51SAtXuq6L6LbimjwiIuqhAYxkSvZ1SNYas2tLFNGtwDV5CcI1U9RLrF9ERDcLp2uJiIiIEohBHhEREVECMcgjIiIiSiAGeUREREQJxCCPiIiIKIEY5BERERElEIM8IiIiogRikEdERESUQAzyiIiIiBKIQR4RERFRAjHIIyIiIkogBnlERERECcQgj4iIiCiBGOQRERERJdCdxt//adedCCIiIiLqrjuapjHIS4g/P33G0N2vrjsZlFCsX0RENwuna4mIiIgSiEEeERERUQIxyCMiIiJKIAZ5RERERAnEII+IiIgogRjkERERESUQgzwiIiKiBGKQR0RERJRADPKIiIiIEohBHhEREVECMcgjIiIiSiAGeUREREQJxCCPiIiIKIEY5BERERElEIM8IiIiogRikEdERESUQAzyKFCtOIp08eS6k0F0Oc0K5jMLOGjG2ekCBzLrv70P6K88Yf9EPdGsYD4zivXqdSfk8hjk3WKtygLSmVH7f3IFretOGCWCWb/mKxcBW51gnfWOiKgnGOTddtIa3tdP0aifolFXsYlVTPCGS90iScCbP/zrU/UISuyD6qNJwcFjNwxgRjlFY2nM+qRVWbjlAak7Tyiqq6q3FI/+oGkbtUvlsVs/xfPxa0tU1zDII8EAZl6uIace4fdY01pEAdRV/OI57XGBg9clyHLhqlNERHQrxAryuP7hFkgNYwQqzv71+vIE6x7rmlz1orptnwJmnbnFJvF0Q4Ly1qMONP/AoVrA1EP3V86lBNboR7OC+YyEZRU4XpHc08HOuucadTOmh53H9SSOvOj/nlhRAXUVE7ZjG+vUrOMGrP2rbiOd2UYtMB3meU+s41qjDMZaoaC25VqGIWzj/M695sieLvfxnaNR7b9rxeBlH7bvM9uoWXkRxJGeCKOo9vM4ysI8p1hPjGPa8sbjPIF5Zx7XUT72cguot2HX7bwOa41peH0OzA9PzvrsrCcB9dPjOOJ27W3t6Xbvf5k0xKgz1W2kM3NQACizwnGca3jNv6ti+Rp119bneNTnkDZrL58erAPUYqhu3deGtj7G2YWuUOPv/2Jt/6X8kzb0Q1n7In74uawV7v2k/fZZ/9Ne5h+1V8J3Jts2jv017aP2inUmETqvX/71plBuadqHoqMeOurM57JWuHdfe/XB/KCl/faDsa/zfLbztLTftozjGscYulfUqubXH4qO7Z3c5/FqM85+8Uu56H/MD0VtyJkOI23t8+jndaXN1baM7YRzV7ccxxby0pV2V75+1F7d87jee+I5nHlipjX4ONWt+57ntqfVST9O+7ju4zjz3nWPcpaxmf+2Pu2+52eB5e7MO/O4wjZ63onX511vXVz1oX1863wR63NofrgY+eHR/kLrp4t7O6s+uT5z1NmO0xBeZ/yuWdzH1dbM/LaO0673rs9c6fZvs6569aFoT0cXcLqWBCdYl1ZxLC9gJtXhIf5t4BjDGLH2H8Nzrt+55cYwJas4fCeOMpzgUCngaX7Ac3tbnUk9wJQEnP0VPPLxy4oKeX9HqLsDmFnKY1DYSt5fRNb8Y7yATcmZrrgucFYHcsPfWJ8M5hdD2o+ETVVIRyqPrQ0Jx861i452WPt1Fdh4ab++JwVAOdJHD5oV/Kw4jm3l5Ql+WQE2Xwr5kcrjqQxrlLVV2YEirWFLKJPB/A7KcoRskPeE9Utj+FG8HjNdjnPv7gdP07cqO1BsxwWyjwOWkzQr+FkpoCzWHc8yFrfR0+r1Wbs8wvNOZ7/GwfwCZJRwGHNkpvbrKo7lPeyKbWN8EWXX+ULqc+T8aDPrwHtb+4tWP/3khDqr54nXZ+18ukwaYteZWMTyNdqe12dme0R4m/10rgKZ4Xa9Gl/s+jrA/wV/fYEDWR9ibptD2lwpLe9xAe5Np65iIrNq/ZnbUNHwvPFGNF7ApiRhOlNCbkO1d1R0a2UfrwFSCbW8flPSO+MFPPfd4wTrxjSKKfco4ATNc5yhgKeBHaSEka/jpTuc3mkvz0pIrxRQrosBlh/xIUg3+O0woDbwCbA6fDFwNIPJY0VCesV5PCNY+reBY2kSW1433uY5zqBCkUax7PzOCOI+navIPXppC4qjsqfVIShdAT6dq4Citu83FglTfudBCceZkjt9QXUHAKQ07vp9FyHvdO5yjU8vZ/mJ+76afVgAXp+jhTGjjELqcwf54VcHBr+bRG4lqH7GM/Kt/33hMmmIXWcuLajMw9ts9vEactIc0oqETXWn88GVACFBnv4m1YyR4ANZwnKGgV2iSGt4r+Q76ti9mXXmBOsZvXIz2CN95GMUh9VFZMcv8PsbYPOldz/SqixgYkWFvH+Kxjhg9j2HV5rgGMYX0agv6unOjAKIGuzFJ+9f5o2/3qWrV2L3HV3vz0w3L+8A9DA/+le/3W8C22wqj916Xl/XJ41iGd0P9jhdSzE5X8rQn1bcxvC8for3XkPsdCtlH6/h7HUFrWoJyxm/qZ4L/P5GRW5DjRfMpIYx0sHUWDcN5nfQqO91NkX3tgTIkwFBxABGMu7pOpuv0/7TUhHzx91W/dp3TB7pav11HrjL3eGYfUfQ9V/GldYt/3KuvS3Zp/bCdJAffnneeneE46DRzi66TBpi15meitBmTeOL+k+YXXr5iBuDPIphDFMyoLxuv63UqrywT+dXtxPxK+HUA6kHmMIRnr0+x+Zjv9kAvWM8Pv/H+sRVxzy2MddRKbPi24MXOCh29zftxGnVzs9RwrT4xl91G9MKID8MniHJPiwAypy9fTUrWDffqEzl8VRWsSyJb/idYL14Aqvtztrf/mtVtq380tcureKZ8IamO+87YKwDW34hXHOzgmcrwQce/G7SlZ729XhIPcCU8zwAasWwN3jDhOddNF711i37eA05Zc711vi0IgW0Gw8d5MdgfgGyuooJMY+NspKfXM2I4GXSELvOAAC+wUjomt/OhLXZoLLQ3+a+bN0Nna4ViVO3dFtll/YgZ+asdXy5DRVlWcK0sI0yO9peS3ULpwvIzwBmngxj+XU6cH2WWcfMdTW5jT39CVfcxlrL0p6eGczv4D0WMCGsncptqN3ts4Q1p3rdfgDU7etaw6dUCyg/aRhTu1H3gf60vw+kxfaFAsr1vPVXdukUZYzq6ROO7fcd5D00zN1TeeyqwLzUXkPk1b7jG8CMogKy1M4naQ3v9wuYmA3YzSM9MKazIp/HuIbdS6U/Qt5FPY5HvXXxvO4CyvWdmNPFneTHGJ7X9wCh/el5ftqT9WJdT0PsOgPY19UabbFba3dD22zJVqd6MdV8R9M0ratHpGvz56fPGLr71XUngxKK9asLqttIz+Jmru/qNuYFUc9xupaIiK5c+DpEIrosBnlERNRDFziQnevZFuKvMSOi2GKsySMiIoprACMZ+9oj9OCnIojIjWvyEoRrpqiXWL+IiG4WTtcSERERJRCDPCIiIqIEYpBHRERElEAM8oiIiIgSiEEeERERUQIxyCMiIiJKIAZ5RERERAnEII+IiIgogRjkERERESUQgzwiIiKiBGKQR0RERJRADPKIiIiIEohBHhEREVEC3Wn8/Z923YkgIiIiou66o2kag7yE+PPTZwzd/eq6k0EJxfpFRHSzcLqWiIiIKIEY5BERERElEIM8IiIiogRikEdERESUQAzyiIiIiBKIQR4RERFRAjHIIyIiIkogBnlERERECcQgj4iIiCiBGOQRERERJRCDPCIiIqIEYpBHRERElEAM8oiIiIgSiEEeERERUQIxyCMiIiJKIAZ5RERERAnEII/6W7OC+cwo1qvXnZAeaFYwn1nAQfO6E3ILdJTXFziQR5EunvQqVTdCrSjmQX/liT1tRPHUiqNIyxW0rjshPRQtyDNutOkMG1QiVbf1shX+m69cXHeqrp5Zz0Mafa04ijSDs1CtykKEunSC9Qh5TkRE8UUL8lJ57NZP0air2KzPIZ3ZRq3HCaOrYDyVz55jUz1Fo27+p2LqjXQNN179hm8btTPq3vPxq0qDhByO8LtvAHeCQ+Wq0pIAkgS8+cO/HlWPED879Xrb+weRAcwop2gsjVmftCoLtzwgdecJRXVV9Za8eLXd7NIpGkoeg9eWqt6LOV07gBllDzJK+JkV9cZrVV5gWS2gXN/BTEr8ZgAziopNrGLiVo7cqlj+1fu6W5UdKHIB8hWn6EZTV/GL53T7BQ5elyDLhatOERHRrdDBmrxvMCIBx+f/dD81dIVO8MuKitxGAVnP7wcw86QAKEfGqK3+FOpcG+f1dGRO05n/OffRpzsd31e3kc7MQQGgzAqfe66lMkYgfc/RfmK2nSviCMzUkzXkrOu2H/f3Nyrkh5PuncQlDa5zmek5sdLtvcbQmLpM1Ej5JJ5uSFDeegTNzT9wqBYw9dD9lbMOWaMfzQrmMxKWVeB4RXJPBzuXHrjK3MzjKMsSxJEX/d8TKyqgrmLCdmxnfQyYyq9uG+UblI6A+uKsZx4PYc68E7cJa5vO/HEf3zkaFb2t2dv9NmpWXgRxpCdCG7afx1EW5jnFemIc05Y3HucJzDvzuI7ysZdbQL31u17P6wjKk6C+xnnsqEtOQvYz++iqee1BZdq9vju8LtuP6dV2nWs6zb/Fc4vtP6jfCKx310mL7aP26t59rVBuxd+Veqrx93/RN/5c1gr3ftJ++xy2zX3t1QdN07SW9tsP5r/bvpR/0oZ+KGtffP62H8Pj+w9F4Zh63bKdw5VOfZuhrY+udLbrpJ7WIduxItRb4VzVLY9tPxSNtH/UXjnyrrpV1KrWX8b5rTSa6XHkt+3anPv0n1j1SxPL2p1fmibksZWvpo/aK4/ybZelnlfO8vlS/smRxy3tty3juMYxhu4J5fSh6C4TG/d5XPXXuA6x3L6Ui/7H/FDUhpzp8K2/QfVF2E44d3XLcWwhL8Paplcb0fPUXZfjtrXq1n3Pc9vT6uTuD1AcsmUAACAASURBVJzHcea9829XGZv5b21j9CcenwWWuzPvzOM6+8J77n4h3r3TmQdheRJUdxznNtLs7NNtouxnlqWjXfhdSzf67vC67Bal7ertx6NcXZ85+/+QeneNoo/kWU8+c1CkNWzlB3oYelJfSA1jJNYOJ/hlBdh8KaxxSOXxVIY1kvPpXAUyw+3vxxdjrbdrVXagSGt4L64JSuWxtSHh2Ln2S94Tjj2GH7228ZF9WHBtW3tbgvzEe/1GdmlRGBEdwPePJKB+7kjPgmNa3HSBA1nCMhzXlRhjmJJVHL4Tn35PcKgU8NSzHxnDc1v5PsCUBJz9FfwCxy8rKuR9cenBAGaW7OUl7wvlNF7ApuRMV1wXOKsDueFvrE8G84s+5WySsKkK6fCtv/b6Uvt1Fdh4ab8+cbS9WcHPiuPYVl6Gt02zbYl9+2B+B+UoaxOC2pqZLse5d/eDp+n1pRF7tv4h+3gNOdVnzWyzgp+VAspi3fEsY3EbPa1en7XLIzzvdPZrHMwvQEYJhx3/MsAFDuQ5Wx5EzhOPunMs72FXbG/jiyi7rsEuzn5+faOpe3131PLokHju8QI2Ja/PhDoVud5dj//F27yAcn3RZ3qPEqd5jjNImPo6zvYqFGkUy87vjBtF9vEactIc0oqETdW5FjDcp3MVuUcvXZ3J4HeTyK008AmwvhNvvLGNF7AJCb9U83rjNhry0yX/XWrFUUyLbxFI9mldv/QcvpBwjDW8T/AC4OzjNUAqoZbX+w/9ZrWA5757nGDdmL435R4FnKB5jjMU8DTwgUHCSNS6HJkeaC3PSkivRO0fhzHiqPeD3w4DalD91YPJY0VCesV5PCNY+reBY2kSW15tKkLb9GtbUQS2taB0Bfh0rgKKirTrzRwJU37nQQnHmZI7fUF1BwCkNO76fRch73Tucr0Ma8200g4eouaJV92Rn7gfILMPC8Drc7Qw5lHucfYLb1td67sjl0f3hNbvTuvdFYge5H2dRg6NHiaFrlRqGCNYxeG7C8z4jcr+28AxhvE0VscVcqNL5bFbz+sjw9IoltFZsNd7+s07/fYEz8fH0Hp3BGy89L6uZgXzkv7E26jrHWKrsoCJN1HOowKQXDf4xEnl8VQexWF1EdnxC/z+Bth86T1q2aosYGJFhbx/isY4YI50Hl5pgmMYX0SjvqinOzOKXj4My/uXedP85j2k5zZU+yhSGKlXD0tXnHfNCp6twDEqq4udJ4nUZ3W5Z/Xu8qJP16by2O2nTKVLMobAV0o+i2T1Nx8hT9rK3Dll9ulcbf+RGsZI1OmJ8UX9J3liDmnfHfaecm29O8Jx0NN4J8YL2Kzv4KB5gl9Whn2mFs1zdzrVKmHq5Q7KcgnTiXrhwi37eA1nrytoVUtYzvhPXf/+RkVuQ40XzMSpez0ymN9Bo77X0RRd7a27rdkNYCQTMh31ddp/KjNi/rjblj6ac2ke6Wr9dR64i19b9xV0/Zdx5XXrAgcvnFPzuth5AiCo7tTeluzLZ7qyn7eu9d190NZtelXvuiRykKe/ydJHb4zQpQ3mX2JT8gouTrCeca4R09eZ2YLC6rZ9ehJjmJIBZdZ+vFZl26o3tWJQIKO/uR209mowvwBZdfy0S7OCZytq6JqQ+Abw/SPg8MUOznzfQrZPtYnpiSO7dJr8QC/1AFM4wrPX59h87BcQ6zcW8e19fdoqeBvzoUWZFfuoCxwUu/ubdq6y7ugcJUyLbwsa7Uh+GPyQkH1YAJQ5+1uEzQrWzTf9Unk8lVUsS2IdOsF68QRR2qa+tmsVz4Q3B9153wFjfdLyC+GaI7SRwe8mXelpX4+H1ANMOc+DsD4nivC8i8ar3rrVinrf67XuPXaeGLKP15BT5lxvok8rUkBb7Hw/L93ruzsrD3fb7ZLQeqe/nXxdv48Yc00eJYv+w6bfW9NMwQbzL7H5RsK0ufZA3sP7jXPbtGR26RRljLa3MbZr5M0/Srbv7FMP4vomY2rKtc5jDM/re0BmTliXImFTPe3JlO9gfgEjKzsYeRkwPTK+iLIsXLO0hvKGhONI07Vt2SUVm3U9fy83LdevBjDzZBjLr9OB67OyS3uQhfLNbezpI77iNtbaznYdGszv4D0WMCGs1cltqJjp5iWMF7ApGW1AWsN75QFQX8VEZtXaJLzsCig/adjaXKTyHl9EYx9Iz44KaxULKNetxuXZ/uT9U9/vbG0zlceuCsxL7XV/uQ0VZVnCdEjSgum/uwlZaueTtIb3+wVMzAbs5pEeGMs7Ip/HuIbdS6U/Sr8W8Tge9dbGenC21ylYy1ri5onBcz/9N1IDZ+c63c9T9/rujsrD1XZjFp6v3tW7brijaZp23Ymg7vjz02cM3f2qS0cTF77367o5ukrdrV+3VHUb6Vn013qi68K8IOo5juSRjzE8r58GvP1IRNQ5fR3iHgM8oh7q4P/xgoiIKKoLHMjO9VMLHa3rIqJ4OJJHREQ9NICRjH0tLpeAEF0NrslLEK6Zol5i/SIiulk4XUtERESUQAzyiIiIiBKIQR4RERFRAjHIIyIiIkogBnlERERECcQgj4iIiCiBGOQRERERJRCDPCIiIqIEYpBHRERElEAM8oiIiIgSiEEeERERUQIxyCMiIiJKIAZ5RERERAnEII+IiIgoge40/v5Pu+5EEBEREVF33dE0jUFeQvz56TOG7n513cmghGL9IiK6WThdS0RERJRADPKIiIiIEohBHhEREVECMcgjIiIiSiAGeUREREQJxCCPiIiIKIEY5BERERElEIM8IiIiogRikEdERESUQAzyiIiIiBKIQR4RERFRAjHIIyIiIkogBnlERERECcQgj4iIiCiBGOQRERERJRCDPCIiIqIEYpBHvdOsYD6zgIPmdSeEbr2O6uIFDuRRpIsnvUrVjVArinnQX3liTxv1hl7m85WL606I0Y5HsV697oTcHPGCPCOD05keFXivj08+TrBu5Hv7v23UrjtZnuli0HhTtCoLEdqyUcZyBa0rSxkR0e0QI8i7wMGLVWBDRaN+it38QPdTk8pjt36Kxn4BxysveDO/AvqNeAcj6ika9fZ/ZfkcZ32S//J+O13vN4BlqR8CUIpEkoA3f/gHcNUjKLEPelUjCwOYUU7RWBqzPmlVFm55QOrOE4qqj0bEfPVRGqvb7sEGI0Z4Pn5dibp5YgR5/+BMlTD1XQ+CO6fxAjYlFWf/9v5Ut1p1GxMrwyjXdzCTsn+VXXJ/1g8G8wuQ0T8BKEWgruIXz+mVCxy8LkGWC1edIiKiW6F3a/KENTC1Ynu6rS+eEAjmDTa3UUA2cLsTrHtMkTrXwph/m2XtKmevpzJ0MDLSPMeZ7W+jnlXNqf72OcR6l/Zcx+GcDrZfp31/Rx4ISwvSnG4MMImnGxKUtx7rppp/4FAtYOqh+ytzqtfVbzQrmM9IWFaB4xXJXdeq2/bpfVe52Ms8uD8SRzX0f0+sqIC6ignbsY11alGWFFjtICgd5nlPrONadddZ7zzWoznzTtzG+V1om3Ad3znS0/7b1l482oO9PW2j5tMnBKYnQjsLbLfmOcV6YhzTljce5wnMO/O4jvKxl1tAvXXyLWcjP2zlon/WPp6zX/PIY692EimNfiN9+jm7tVauVhxFerYEoIRp8Rqca2svUZ5hbSn8/nFDaJF91F7d+0n77XPEzT8UtaF7Re3V1n3t1Qf9oy/ln7She0WtGrpzS/vth/Z+FE3j7/+ib/y5rBUilad3uVe37mtDWx/tf99zlJntHB+1V87vjXIulFsB5xb38dj+c1kr3LuvDf1Q1r44ru+VuN2HojYkXoexn3isL+Wi9b3z+uz7e6Rry3H+BIpVvzSjvf9Q1r4E1KFCuaXnra38PmqvxLw3yiqwHpjns51HKBeznoj9j7NOuLjP074m+3WIdUWsRy4fitqQMx2uuqif15U2V5s1tnO1Q7GPbeelK+2ufNXrtet674nncOaJmdbg41S37nueO/h+4O4znMfx7Id8263Wzn9rG/0cXp8Flrsz78zjCtu473dh/Z147IBydnwfVv+ceRbYTjzTaP/Mqw2Y93vvsmzvb94nnHnlyeuYzrzpsDzD8th1jR+KNzYeiT6SVz2CgmGMRJzCa/11DqAEPGzPnw9+OxzxZAMYycD76Z+6KHp5RiKt4UfftRJj+NE5omOM5DwNWd+pzJpPUxKWfbaXn+QxKH6QyuO5uN34JGS0lwDUfl3FsbxnW1s6mF/Up6ibFfysFFAW1x0ZSwgO310Yo4kSRr42vxzAzJLj/CQYw5Rs5J3lBIeKX9mP4bmY96kHmJKAs7+CX+D4ZUWFvC8uM3CXi7y/2B65Fsu0Yxc4qwO54W+sT6x65EvCpiqkI5XH1oaEY+faRXnBdpzar6vAxkv79T0pAMqRNcrxs+I4tpWXJ/hlBdh8KeRHKo+ncrufbVV2oEhr2LK1iR2U5QjZIO8J66T0tm5dj5kux7l394On6VuVHSi24wLZx2vIqUf43WukNKzdWsRt9LR6fdYuj/C809mvUV9aUsJhzBGg0HJO5fFUVrH86wlQ3ca045qd9S/7sACoDXyyriW8nQQZzC9AdpRB7W34rNDxioSfh1VjffUeZHUVz7oysxe3PMPz+NO5CmSG23kyvnhj1wH+L3SL6rY+bCrvoVGPvtj207nqaPhG4CdN4m6E/bNLp2hUt5HOzCG3ofbmRY9bT1/blu1WoCc2Cg+D300it3KE2tIYsgBa745wLC9gN+Sw8r6w0NYYYh8RP7MFXIJmBfPSKo7FYwEwb8zyE5/6/G8DxyjhOFNyfZV7BKOTXcW0NIpleY+L0CPIPl4DpBJqeT0A0W/gC3juu8cJ1jNztpcyco8CTtA8xxkKeBrYEfvUk0vRbw7LsxLSKwWU64shyx8Ar4erwW+HrRux2YbEwNGss8eKhPSK83hGsPRvA8fSJLa82nPzHGdQoUijWHZ+ZwRxn85V5B697OhhxZ5Wh6B0Bfh0rgKKirTrzRwJU37nCWq3QaS0/30pQt7puvHQHKGcAWSX9iBn5pBW9P7RWedalQV9aYFz30jtJIz+0PbzuwvM5AegP7BJmFJD7tG2h+pvMCLBvvSmm4LKM0IeZx+vISfNIa1I2FT7c316VOFB3vgiGvVFY+77KGIndoJDBZD37Te/OJ1IrTiKaezp56buSw1jBKv6yNZVVeDUA0xJqzisLiI7foHf3wCbL2MGSGaA9fYEz8f9960VRzGtSNhUT7GbAsygITJpDe8V/6fb7NIpGksXOJAlpDPQH4IY7PlL5fFUHo1U9uYNSt4/RWMc0NcBSTi80gTHYPSRrcoCJjKjAKIGe/HZHnhi6126eiX2A35Iu+3c1eZdeDnrQRJU5+fGw5G0hvf1HT0fqttIz3Y3fdmHBRy//gOtfB6D1SMo8gIaNywQCszjVB679byed9IolnFzg73o07Xjk9HfanRNZwFm4DfybZQGa4y0PORNs3fGMCUDyusoLww433TWyyc+fdRDeXuiT9ViEt/3pNGYDxl+jTJkOcDXaf8pIcdxZhT9J3+sqRTylX28hrPXFbSqJSxnFnzK5gK/v1GR21DjBTOpYYx0MDXWTYP5HX0aqpMpurclQJ4MCCIiLGEJqrcR88c1ZdxxW3fwSJe+pMff3WGPKewgkdttTFdat6ItVWpVXmA5s4fGfgHKrPBiRfUICgoo+wW63bqW8QI2oed17W3pht2rYywHG19Eo652YVnH9enN27XG8LztBu4Z+NF1yi6p2MQqJjzevqoVzTeY3MFgq/ICy64nyIjGJyErRzh4dwQ8ehD/ibtZwc9K2AOAMRUgrOGqFe1Tf9nHa8gpc7a3xFqVbf2aUw8wJalYfmEPgGvF9hte63xLPL7UA0zhCM9en2PzsV/56R3w8fk/1ifu+ubexlrzOSu+TXmBg2J333oWp1U7P0cJ0+LbftVtTIfWaWNtlTJnf8tPrIvmWi3b70ieYL14Aqsdz9rbulXnYa53s6+TulRbNxnr4mztqVnBs5XgAw9+N+lKT/t6PIS1246F5100XvXWLbScq9uYWIHehsYL2JRKmDbz5Os0crbBmBOsz4rT12HtJFoagQF8/wg4fFfBoVLAVC/Wq7mupXvC8jioztSKN+vXFMKnaztQe1sCMnv2G/i/DRxjGE9v4HBncukjUd9b00wCec8afjfXf0xkVgHoUyhlWcJ0R+ccw5Q8h+mVAsr1aNMwyuyoEKDpU7DBw+YDmHm5hkOpveZC3t+DrAjTtak8dlVgXtgG0hre5439FRWQJeuaAWPqyPj32Yq4nuPmTYNdjwHMPBnG8ut04Poscb0RAOQ29vQnaXEba81Me0pvML+D91jAhLB2KrehYqablzBewKYkYTpTMqYGHwD1VVs9CZ9qK6D8pGFrc5GmYccX0dgH0rb2UEC5nrf+yi6dooxRPX3Csf2+g7yHhrm7R5u4XFs3ebQnaQ3v9wuYCJpG9GqjxrRZ5PPA3m47FZp3UY/jUW9dgsq5WcH8bEmv1ymg3dfNYX5YxW4+j62NI6ENFFDeL0AR8jmsnbjT6H0tg99NAtIqzjbU3vR94trnbvexoW2pZCvrm/xewB1N07Rom55gPbODkSuZl9bX4Jw94S9bx/Hnp88YuvvVdScjlLXekmvYbpSbUr/6mrE+ig8FYF7cdM0K5qUjTN3QtWq3RYzp2m8wIhmvbfdatYRllVO7yWSsl7tRaziIqNvC1yFSP2u9O3Ivy6K+EyPIG8CMok959ez/ucL8BerZUsCiebrJzN/i8v89PSJKlgscyM71bAv62+++azOpvxm/t+f8fVLqOzHX5I3hef004LetLsl8bZmSx/rNOn3dAzsGottiACMZ+xon3OCfpLjt9J+nMtap8WG978VYk0f9jmumqJdYv4iIbpbe/IQKEREREV0rBnlERERECcQgj4iIiCiBGOQRERERJRCDPCIiIqIEYpBHRERElEAM8oiIiIgSiEEeERERUQIxyCMiIiJKIAZ5RERERAnEII+IiIgogRjkERERESUQgzwiIiKiBGKQR0RERJRAdxp//6dddyKIiIiIqLvuaJrGIC8h/vz0GUN3v7ruZFBCsX4REd0snK4lIiIiSiAGeUREREQJxCCPiIiIKIEY5BERERElEIM8IiIiogRikEdERESUQAzyiIiIiBKIQR4RERFRAjHIIyIiIkogBnlERERECcQgj4iIiCiBGOQRERERJRCDPCIiIqIEYpBHRERElEAM8oiIiIgSiEEeERERUQIxyKPeaVYwn1nAQfO6E0K3Xkd18QIH8ijSxZNepepGqBXFPOivPLGnjWyq20hntlG77nT0RH/Vw34WL8hrVjCfGUU6M4r5ykWPknQD0pA4J1g38rT9Xz90Dl7pYtB4U7QqCxHaqVHGcgWtK0sZEdHtECPIu8DBi1VgQ0Wjford/EDvUhUklcdu/RSN/QKOV17whn9J+o14ByPqKRr19n9l+RxnfZK38n47Xe83gGWpHwJQikSSgDd/+Adw1SMosQ+qP8X3/iFvADPKKRpLY9YnrcrCLQ9I3XlCUXWr3uoPRuvVriSqS3qZJq9jsx5GFSPI+wdnqoSp764puHMaL2BTUnH273Un5AarbmNiZRjl+g5mUvavskvuz/rBYH4BMvonAKUI1FX84tn5X+DgdQmyXLjqFBER3Qq9W5MnrIGpFdvTbZxi7Rf6DTa3UUA2cLsTrHtMkTrXwph/m2XtKmef9SGxR0aa5ziz/W3Us6o5jd8+h1jv0p5Pmc7pYPt12vd35IGwbCDN6cYAk3i6IUF567F2pvkHDtUCph66vzKnel39RrOC+YyEZRU4XpHcda26bZ/ed5WLvcyD+yNx5EX/98SKCqirmLAd21gfFGVJgdUOgtJhnvfEOq5Vd531zmNNkjPvxG2c34W2CdfxnaNR7b9t7cWjPdjb0zZqkdaMOdIToZ0FtlvznGI9MY5pyxuP8wTmnXlcR/nYyy2g3gZeg3Cc6jbSmTkoAJRZvzL0F1b+vu0uKF2XTFMg32M76qHrPiDcC2x9gld9C6ljzj7lpq0D1CL7qL2695P22+eIm38oakP3itqrrfvaqw/6R1/KP2lD94paNfpJA7S0335oH5s0rfH3f9E3/lzWCpHK07vcq1v3taGtj/a/7znKw3aOj9or5/dGGRbKrYBzi/t4bP+5rBXu3deGfihrXxzX90rc7kNRGxKvw9hPPNaXctH63nl99v090rXlOH8CxapfmtHefyhrXwLqUKHc0vPWVn4ftVdi3htlFVgPzPPZziOUi1lPxP7HWSdc3OdpX5P9OsS6ItYjlw9FbciZDldd1M/rSpurzRrbudqh2Me289KVdle+6vXadb33xHM488RMa/Bxqlv3Pc8dfD9w9xnO43j2Q77tVmvnv7WNfg6vzwLL3Zl35nGFbdz3u7D+rn3swL7Lsy/1YNyDzfNHKv+Adufa/0PRVeZhabKOYbUDj3ruEuHe4boPtOul6zPxGsPqmKvNOfLoBog+klc9goJhjEScwmv9dQ6gBDw8xfNx/bPBb4fjR6G+BjCSgfcIAUUUvTwjkdbw47jfl2P40TmiY4zkPA1Z32k+waUzEpZ9tpef5DEofpDK47m43fgkZLSn92u/ruJY3rOtLR3ML+pT1M0KflYKKIvrPYzlAYfvLozRRAkjX5tfDmBmyXF+EoxhSjbyznKCQ8Wv7MfwXMz71ANMScDZX8EvcPyyokLeF5cZuMtF3l9sj1yLZdqxC5zVgdzwN9YnVj3yJWFTFdKRymNrQ8Kxc+2ivGA7Tu3XVWDjpf36nhQA5UgfnWhW8LPiOLaVlyf4ZQXYfCnkRyqPp3K7D21VdqBIa9iytYkdlOUI2SDvWf282dat6zHT5Tj37n7wNH2rsgPFdlwg+3gNOfUIv3uNlIa1W4u4jZ5Wr8/a5RGedzr7NepLS0o4jDuqFdJ3dSbKNQS3u0/nKpAZbu8/vmgrm8jUVUy8TuO9tf5bxfKLbsyEiPlvtA2vz8z2ggh17N8Gjm33SUce3QD/C92iuo30bAmQ99CoR7+4T+eqo+EbgZ80ibudpNRDdukUDWM4N7ehXt/LIDeWvrYt261AT+wAPAx+N4ncyhFqS2PIAmi9O8KxvIDdkMPK++0HBXO6akT8zBZwCZoVzEurOBaPBcC8MctPfOrzvw0co4TjTMn1Ve4RjM5xFdPSKJblPS7+jSD7eA2QSqjl9QBE71wX8Nx3jxOsG9M0ptyjgBM0z3GGAp4G3nR86sml6DeO5VkJ6ZUCyvXFkOUPgNfD1eC3w4DawCfAakNi4GjW2WNFQnrFeTwjWPq3gWNpElte7bl5jjOoUKRRLDu/M4K4T+cqco9edvSwYk+rQ1C6Anw6VwFFRdr1Zo6EKb/zBLXbIFLa/74UIe90XXxo9u27Oj1e1Gvwb3fZx2vISXNIKxI21cus2S6grLSDzbvDElDv9FhhgssktI6NF7ApSZjOlG5sjBEe5I0volFfNOaljyJ2Yic4VAB5337zu0wn4qVWHMU09vT0UTypYYxgVX86vKoXLFIPMCWt4rC6iOz4BX5/A2y+jBkgmQHW2xM8H/fft1YcxbQiYVM9xW4KMDuvyKQ1vFf8R+eyS6doLF3gQJaQzkB/CGKw5y+Vx1N5NFLZtyoLmFhR9beqxwF9/Y2EwytNcAxGH9mqLGAiMwogarAXn+2BJ7bepatXYt9YQ9pt564u7y7dd/kKvobQdpfKY7ee12MBaRTLuGyw1x+C65j+Fu8MTrCe0R+wblqwF326dnwy+luNrukswAz8Rr7tVuYYozEPeWPtzBimZEB5HWWY3DlVoOd9fPqoh/L2RJ+qxSS+70kHYT5k+HVAIVP9X6f9p4Qcx5lR9J/zEacAyFv28RrOXlfQqpawnFnwKZsL/P5GRW5DjRfMpIYx0snUWBcN5nfQqO91NEVXe1sC5MmAICLC8pSgehsxf1xTxh23dQePdOlLevzdHfaYwg4Sud3GdKV1K6zv6lDoNcRod+OLaNTVLix1uH7R69gYntdP8d5rWUWf683btcbwvO0G7hn4eTPf4Omv3wFKnuySik2sYsLjjaNa0XwrzR0MtiovsKx2eNLxScjKEQ7eHQGPHsR/4m5W8LMSFtx/gxHHGq5a0T4FkX28hpwyZ3t7rFXZ1q859QBTknudSK24ba19Wudb4vGlHmAKR3j2+hybj/3KTw9mjs//sT5x1zf3Ntaaz1nxbcoLHBS7+9azOK3a+TlKmBbf4KtuYzq0TgPZhwVAmbP3i2JdTOXxVFYdvyN5gvXiCax2PGtv61adh7kWaRXPbG3iEm3dZKyLs7WnZgXPVoIPPPjdpCs97evxENZuOxaed9F41Vun8L7La5twYdcQ3u6C87GTNEXVu2OH1rHqtm8cor+J3P+/2Ro+XduB2tsSkNmz38CNBYxPIzyd3B2WAKhQXlfwY0+G3kmnj0R9b00zCeQ9NIyyyi7tQc7MYSKzCkAfri7LEqY7OucYpuQ5TK8UUK5HG9VVZkeFTk6fxgh+yh3AzMs1HErt9Uvy/h5kRZjySOWxqwLzwjaQ1vA+b+yvqIAsWdcMGMP0xr/PVsS1UTdvGux6DGDmyTCWX6cD12eZ9c1cJ5Pb2NNHDcRtrPVB7emTwfwO3mMBE8K6o9yGipluXoKwRkefGnwA1Fdt9SR8SrWA8pOGrc1FmoYdX0RjH0jb2kMB5Xre+iu7dIoyRvX0Ccf2+w7yHhrm7h5t4nJt3eTRnqQ1vN8vYGI2YDevNmpMEUY+D+zttlOheRf1OB711i5C32VbBxp9Cj/sGsLbXcm2rz39naUpmh4eO0Ids91/hOUAN2U0746maVq0TU+wntnByJXMwRuLPwPXOenrBc6edLMy3Wx/fvqMobtfXXcyQllrKbmG7Ua5KfWrr1W3kZ4FHwoA5ZVqdgAADdhJREFU5gXRFYgxXfsNRiQVy7/2/idLWpUdKAiZvqiWsKz24m056i1jzQnXUhLdauHrEInosmIEeQOYUfRh4579P1cYP48xsQJsqj4jdOYvis+Wur84lXrO/C0u/9/TI6JkucCB7FwLtqC/Qeq7NpOIuiHGdC31u76eTrN+94nr126qvq5fN8UtnaLUfxZE/CQZP79B1O8Y5CUIb8LUS6xfREQ3S29+QoWIiIiIrhWDPCIiIqIEYpBHRERElEAM8oiIiIgSiEEeERERUQIxyCMiIiJKIAZ5RERERAnEII+IiIgogRjkERERESUQgzwiIiKiBGKQR0RERJRADPKIiIiIEohBHhEREVECMcgjIiIiSqA7jb//0647EURERETUXXc0TWOQlxB/fvqMobtfXXcyKKFYv4iIbhZO1xIRERElEIM8IiIiogRikEdERESUQAzyiIiIiBKIQR4RERFRAjHIIyIiIkogBnlERERECcQgj4iIiCiBGOQRERERJRCDPCIiIqIEYpBHRERElEAM8oiIiIgSiEEeERERUQIxyCMiIiJKIAZ5RERERAnEII+IiIgogRjkUe80K5jPLOCged0JoVuvo7p4gQN5FOniSa9SdSPUimIe9Fee2NOWJEY+Z5J6fdesuo30Lbk3xQvymhXMZ/SKN1+56FGSrk+taDSqzDZq152YK3WC9Yx57f2UB17puh0NMwlalYUIfYVRxnIFrStLGVF/qxUlLGf20KiforE0dt3JoRssRpB3gYMXq8CGikb9FLv5gd6l6ppkl07RqKvYlEqYviVPT/qNeAcj6qneoRj/leVznPVJMCXvt9P1fgNYlvohAKVIJAl484d/AFc9ghL7oPooR+8fNAcwo9hvsq3Kwi0PSN15QlFFrbcXOKsDueFvriRVvXVVbdWfZ5sdX0SjvoOZ1HWl6urECPL+wZkqYeq75AV3dgOYeVIA6ufJ78ir25hYGUbZo7Jnl/qzAQzmFyCjfwJQikBdxS9Vry8ucPC6BFkuXHWKiIhuhd6tyRPWwLSnQXsT0deKxnGr2+1pPXMkzuszgnmDzW0UkA3c7gTrHlOkzrUw5t9mWbvKubrtOQUce2SkeY4z299GPauaSwna5xDrXTozinVXoOGcDrZfp31/Rx4ISxfSnG4MMImnGxKUtx5tr/kHDtUCph66vzKnel39RrOC+YyEZRU4XpHcdU1s757lYi/z4P5IHIXQ/z2xogLqKiZsxxbWT4UtKbDaQVA6zPOeWMe16q6z3nn0ac68E7dxfhfaJlzHd47MtP+2tReP9mBvT9uo+fQJgemJ0M4C2615TrGeGMe05Y3HeQLzzjyuo3zs5RZQb+G/3XrVI91C+oLK+7LXfCmXbquXFdBmnXWvV/UiTt/QK1pkH7VX937SfvsccfMPRW3oXlF7tXVfe/VB/+hL+Sdt6F5Rq0Y/aQQt7bcf7muvtora0NZH/aPPZa1w7yft1dZPrs8ipf9DURv6oax96Wo6e6/x93/RN46cH97lXt26385b8+977bJ2n+Oj9sr5vVF2hXIr4NziPh7bfy5rhXv33eX1uay9Erf7UNSGxOsw9hOP9aVctL53Xp99f490bd28+hJXrPqlGe39h7L2JaAOFcotj/b2UXsl5r1RVoH1wDyf7TxCuZj1ROx/nHXCxX2e9jXZr0OsK2I9cvlQ1Iac6XDVRf28rrS52qyxnasdin1sOy9daXflq16vXdd7TzyHM0/MtAYfp7p13/PcwfcDd5/hPI5nP+TbbrV2/lvb6Ofw+iyw3J15Zx5X2MZ9vwvr7wK2c6VbuF6Pc9jS2uE1O1l5YNVhjzoa5Vo0r7bqdS0e59/6aN1rnP8OTbf4oRGf2PuC7teLWH1Dj0QfyaseQcEwRiJO4bX+OgdQAh6e4vm4/tngt8Pxo9AwzT9wqAIKJh3rRFQoWOhs7cjXaeTUI/ye+CnB6OUZibSGH8f9vhzDj84RHWMk52nI+k5l1nwKkrDss738JI9B8YNUHs/F7cYnIUPF2b/6n7VfV3Es79nWlg7mF/Up6mYFPysFlMW6M17ApqTi8N2FMZooYeRr88sBzCw5zk+CMUzJRt5ZTnCo+JX9GJ6LeZ96gCkJOPsr+AWOX1ZUyPviMgN3ucj7i+2Ra7FMO+ZeP2XVI18SNlUhHak8tjYkHDvXLsoLtuPUfl0FNl7ar+9JAVCO9BGJZgU/K45jW3l5gl9WgM2XQn6k8ngqw2qTrcoOFGkNW7Y2sYOyHCEb5D2rnzfbunU9Zroc597dD56mb1V2oNiOC2Qfr/n3zWHt1iJuo6fV67N2eYTnnc5+jfrSkhIOPZcqdELC5mPh2jzLewAzL73yKO41+1BXMfE6jffW2m0Vyy/ijsB5tVUgu7QXnl/KHH4eVtHYLwDKHKaxZ/z7qAvrtLtdLzrpG7ovPMgzhy/fTqJRXwyZ2mv7dK46Gr4R+Elp3O0srd7+beAYjobt+1nEoCaVx279JfCiX94y7ZUur23LDAcGOoPfTSInNMbWuyMcy5OhdUp88aKhpvGza0hcDLgEtqmTOWGBv9745Ic+DwD/NnCMEqZtU7n6tAMAoyGrWJa4BCCq7OM1YKXULvvKDpTAshen6YS899M8xxkKmPJ9yAB868ml6IGWPh0Vta9w90OD3w4DagOfhM/sC+/1OmtOe1n/zZbam/zbwLE0ie+9+rjmOc5g1Flh/2nhrZdP5ypyjx509LAS+JJAULoCfDpXAWXOfr3SKo6DzhPUboME3Zci5J2uyw/NLo7j++Vr6gGmpPYDra+O7sUFlJV2UHN3WIp9BP+2OoYpOexhTnwwdNzje+FS9aKTvqH7/he6xfgiGvVFI9g7QjlSoHeCQwWQ9+0FoHciL7s64qEHjpO2goj6ma9mBfPSEabUUzT68OWDrkgNYwSrekdwVdeYeoApaRWH1UVkxy/w+xtg82XMRprK46m8ium3J3g+7r9vrTiKaUXCpnqK3RSgBw1z0c8jreG94j86l106RWPpAgeyhHQGgLzHNw6DpPJ4Ko9GKvtWZQETK6oe3I8D+roWCYdXmuAYjD6yVVnARGYUQCFiPxmfvH9qe3COp3fp6pXchhrvlxxC2m3nbl7e0VUIqRdX2Df4iT5dOz4Z/a1G13QWYAZ+I9929+1cr6dPv8/CRposHT553iz6U5PyOspQu/OpUB9ViE9/slHenuhTtehVHpsPGX5vCA9gJOOcahFEnq43fk6ia9MFyZZ9vIaz1xW0qiUsZxZ8yuYCv79RkdtQ4wUzqWGMdHVqLL7B/A4a9QhTTh5qb0tA4MhmSJ0FguttxPxxT9d12tYdPNKlL+nxd3c4wvShqFfLbPqgbnnyu97mHzhUezFq3SW++dmbGKFnYtSLy/QNl9Wbt2u9giTPwM+b+XaU+80vJ69K4fVZyPTcLZVdUrGJVUx4DCXXiuZbQO5gsFV5EW0KxMv4JGTlCAfvjoBOpoaaFfyshJXlNxhxrOGqFedsv8eWfbyGnDJne9urVdnWr9mY7nCuNakVt621T+sJ/DHwnks9wBSO8Oz1uX1tkY0ezByf/2N94q5v7m2sNZ+z4ttrFzgodveNPfe0aifnKGFafEuvuo3p0DoNZB/q65Bs/aJYF61lBGJ7PsF68QRWO561t3WrzsNc77aKZ7Y2cYm2bjLWxdnaU7OCZyvBBx78btKVnvb1eAhrtx0Lz7tovOrtJXiWt/57tsey30PUVYvaVo0+OnBdd2e8lkJ0R1i9COob9OUoV/H7geHTtR2ovS0BmT37DdxYE/c0QsXT5/lVKK8r+DFo6N0IHKe+DvtMf7KZehnzQhJPH4n63hpKFsh71lR1dmkPcmYOE5lVAPoUSlmWMN3ROccwJc9heqWAcj3aE5syOyoEaPoUbHAHpi8+PpQkpFf0T+T9PciKMF2bymNXBeaFbSCt4X3e2F9RAVmyrhkwpo6Mf5+tCPtxKieiAcw8Gcby6zS2AsrPrG9po9BzG3v64nlxm8dryEn6NuaU3mB+B++xgAlpFMsw91Ux081LGC9gU5IwnSkZU4MPgPqqrZ6ET6kWUH7SsLW5SNOw44to7ANpW3sooFzPW39ll05RxqiePuHYft9B3kPD3N2jTVyurZs82pO0hvf7BUzMBuzm1UYhYVPdiX4e2Nttp0LzLupxPOptt9OV21DR6KP/s4KobRXyHhpKDwZiXG22e9P5ofUidt/QfXc0TdOibXqC9cwORtSr+JFcff2Ucl3rnKrbSL9O92htR+/8+ekzhu5+dd3JCFUrjupvRXEN241yU+pXX6tuIz0LPhQAzAuiKxBjuvYbjEgqln/t/duErcoOFFzX9Kr+I8GR1+9RTMZ6OU6dE91q4esQieiyYgR5A5hR9CmvXv0/V5g/eTGxAmyqVz+sqa8FlLCMNbznKFNPmL/F1e11F0TUry5wIDvXLS3ob7/7rs0kom6IMV1L/a6vp9OaFcxLq/rvF3J65kbq6/p1U9zSKUr9J43ET/S1df3xcgBRcjHISxDehKmXWL+IiG6W3vyEChERERFdKwZ5RERERAnEII+IiIgogRjkERERESUQgzwiIiKiBGKQR0RERJRADPKIiIiIEohBHhEREVECMcgjIiIiSiAGeUREREQJxCCPiIiIKIEY5BERERElEIM8IiIiogS60/j7P+26E0FERERE3XVH0zQGeUREREQJw+laIiIiogRikEdERESUQP8fIlQvFCazVSIAAAAASUVORK5CYII=)\n",
    "\n",
    "### **Match zero or more times (*)**\n",
    "* The quantifier (*) matches its preceding element zero or more times. \n",
    "* For example, the following program uses the * quantifier to match any string that ends with Python:"
   ]
  },
  {
   "cell_type": "code",
   "execution_count": 28,
   "metadata": {
    "colab": {
     "base_uri": "https://localhost:8080/"
    },
    "executionInfo": {
     "elapsed": 568,
     "status": "ok",
     "timestamp": 1654256706521,
     "user": {
      "displayName": "Dharmendra Chaudhary",
      "userId": "16994293431277914491"
     },
     "user_tz": -330
    },
    "id": "tohQWIhWYep4",
    "outputId": "5238e510-a0b6-4841-b102-a567859b328f"
   },
   "outputs": [
    {
     "name": "stdout",
     "output_type": "stream",
     "text": [
      "<re.Match object; span=(0, 7), match='CPython'>\n",
      "<re.Match object; span=(9, 19), match='IronPython'>\n",
      "<re.Match object; span=(25, 32), match='JPython'>\n",
      "<re.Match object; span=(51, 57), match='Python'>\n"
     ]
    }
   ],
   "source": [
    "import re\n",
    "\n",
    "s = \"\"\"CPython, IronPython, and JPython \n",
    "       are major Python's implementation\"\"\"\n",
    "\n",
    "matches = re.finditer('\\w*Python', s)\n",
    "\n",
    "for match in matches:\n",
    "    print(match)"
   ]
  },
  {
   "cell_type": "code",
   "execution_count": null,
   "metadata": {
    "id": "AIqNyxtbYh7C"
   },
   "outputs": [],
   "source": []
  },
  {
   "cell_type": "markdown",
   "metadata": {
    "id": "k1FGB_RGYluI"
   },
   "source": [
    "* In this example:\n",
    "\n",
    "  * The \\w matches any single word character.\n",
    "  * So the \\w* matches zero or more word characters.\n",
    "  * Therefore, the \\w*Python match any zero or more characters followed by the string Python.\n",
    "* As a result, the \\w*Python pattern matches CPython, IronPython, JPython, and Python in the string:\n",
    "![image.png](data:image/png;base64,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)\n",
    "\n",
    "### **Match one or more times (+)**\n",
    "* The **+** quantifier matches its preceding element one or more times. For example, the \\d+ matches one or more digits.\n",
    "\n",
    "* The following example uses the + quantifier to match one or more digits in a string:\n"
   ]
  },
  {
   "cell_type": "code",
   "execution_count": 29,
   "metadata": {
    "colab": {
     "base_uri": "https://localhost:8080/"
    },
    "executionInfo": {
     "elapsed": 6462,
     "status": "ok",
     "timestamp": 1654256779657,
     "user": {
      "displayName": "Dharmendra Chaudhary",
      "userId": "16994293431277914491"
     },
     "user_tz": -330
    },
    "id": "XyGRvqXDYyI7",
    "outputId": "ccfeacbf-d1aa-437f-e2ef-8a08f3a3a040"
   },
   "outputs": [
    {
     "name": "stdout",
     "output_type": "stream",
     "text": [
      "<re.Match object; span=(7, 8), match='3'>\n",
      "<re.Match object; span=(9, 11), match='10'>\n",
      "<re.Match object; span=(28, 32), match='2021'>\n"
     ]
    }
   ],
   "source": [
    "import re\n",
    "\n",
    "s = \"Python 3.10 was released in 2021\"\n",
    "\n",
    "matches = re.finditer('\\d+', s)\n",
    "\n",
    "for match in matches:\n",
    "    print(match)"
   ]
  },
  {
   "cell_type": "code",
   "execution_count": null,
   "metadata": {
    "id": "Yp9RJf40YyV1"
   },
   "outputs": [],
   "source": []
  },
  {
   "cell_type": "markdown",
   "metadata": {
    "id": "UUVWJ-RdY0bB"
   },
   "source": [
    "### **Match zero or one time (?)**\n",
    "* The **?** quantifier matches its preceding element zero or one time.\n",
    "\n",
    "* The following example uses the (?) quantifier to match both strings color and colour:"
   ]
  },
  {
   "cell_type": "code",
   "execution_count": 30,
   "metadata": {
    "colab": {
     "base_uri": "https://localhost:8080/"
    },
    "executionInfo": {
     "elapsed": 592,
     "status": "ok",
     "timestamp": 1654256803628,
     "user": {
      "displayName": "Dharmendra Chaudhary",
      "userId": "16994293431277914491"
     },
     "user_tz": -330
    },
    "id": "nZjJxA7kY38v",
    "outputId": "d9cb95f6-5883-421b-da37-b348b4282b99"
   },
   "outputs": [
    {
     "name": "stdout",
     "output_type": "stream",
     "text": [
      "<re.Match object; span=(5, 10), match='color'>\n",
      "<re.Match object; span=(13, 19), match='colour'>\n"
     ]
    }
   ],
   "source": [
    "import re\n",
    "\n",
    "s = \"What color / colour do you like?\"\n",
    "\n",
    "matches = re.finditer('colou?r', s)\n",
    "\n",
    "for match in matches:\n",
    "    print(match)"
   ]
  },
  {
   "cell_type": "code",
   "execution_count": null,
   "metadata": {
    "id": "pRtmWIErY5oG"
   },
   "outputs": [],
   "source": []
  },
  {
   "cell_type": "markdown",
   "metadata": {
    "id": "Rxh72aR9Y7ru"
   },
   "source": [
    "* In this example, the u? matches zero or one character u. Therefore, the colou?r pattern matches both color and colour"
   ]
  },
  {
   "cell_type": "code",
   "execution_count": null,
   "metadata": {
    "id": "cVhYTkM_Y8NI"
   },
   "outputs": [],
   "source": []
  },
  {
   "cell_type": "markdown",
   "metadata": {
    "id": "3TCnasSZY_N3"
   },
   "source": [
    "### **Match Exactly n Times: {n}**\n",
    "* The {n} quantifier matches its preceding element exactly n times, where n is zero or a positive integer.\n",
    "\n",
    "* For example, the following program uses the quantifier {n} to match a time string in the hh:mm format:\n"
   ]
  },
  {
   "cell_type": "code",
   "execution_count": 31,
   "metadata": {
    "colab": {
     "base_uri": "https://localhost:8080/"
    },
    "executionInfo": {
     "elapsed": 688,
     "status": "ok",
     "timestamp": 1654256862901,
     "user": {
      "displayName": "Dharmendra Chaudhary",
      "userId": "16994293431277914491"
     },
     "user_tz": -330
    },
    "id": "nIvACXRcZCjQ",
    "outputId": "1865eb99-46b1-4603-fb41-e642865a46a3"
   },
   "outputs": [
    {
     "name": "stdout",
     "output_type": "stream",
     "text": [
      "<re.Match object; span=(7, 12), match='11:05'>\n"
     ]
    }
   ],
   "source": [
    "import re\n",
    "\n",
    "s = \"It was 11:05 AM\"\n",
    "\n",
    "matches = re.finditer('\\d{2}:\\d{2}', s)\n",
    "\n",
    "for match in matches:\n",
    "    print(match)"
   ]
  },
  {
   "cell_type": "code",
   "execution_count": null,
   "metadata": {
    "id": "pP5LK4p2ZIEc"
   },
   "outputs": [],
   "source": []
  },
  {
   "cell_type": "markdown",
   "metadata": {
    "id": "ksNPlQzSZLTv"
   },
   "source": [
    "*  this example, the \\d{2} matches exactly two digits. Therefore, the \\d{2}:\\d{2} matches a string that starts with two digits, a colon :, and ends with two digits.\n",
    "\n",
    "### **Match at least n times: {n,}**\n",
    "* The **{n,}** quantifier matches its preceding element at least n times, where n is zero or a positive integer.\n",
    "\n",
    "* For example, the following program uses the {n, } quantifier to match the date strings with the m-d-yyyy or mm-dd-yyyy format:"
   ]
  },
  {
   "cell_type": "code",
   "execution_count": 32,
   "metadata": {
    "colab": {
     "base_uri": "https://localhost:8080/"
    },
    "executionInfo": {
     "elapsed": 3,
     "status": "ok",
     "timestamp": 1654256903851,
     "user": {
      "displayName": "Dharmendra Chaudhary",
      "userId": "16994293431277914491"
     },
     "user_tz": -330
    },
    "id": "nCo_7BcPZRAW",
    "outputId": "607613cb-3f58-40d8-8508-7607f2ae92a9"
   },
   "outputs": [
    {
     "name": "stdout",
     "output_type": "stream",
     "text": [
      "<re.Match object; span=(0, 8), match='5-5-2021'>\n",
      "<re.Match object; span=(12, 22), match='05-05-2021'>\n"
     ]
    }
   ],
   "source": [
    "import re\n",
    "\n",
    "s = \"5-5-2021 or 05-05-2021 or 5/5/2021\"\n",
    "\n",
    "matches = re.finditer('\\d{1,}-\\d{1,}-\\d{4}', s)\n",
    "\n",
    "for match in matches:\n",
    "    print(match)"
   ]
  },
  {
   "cell_type": "code",
   "execution_count": null,
   "metadata": {
    "id": "JoZdb1CLZSLb"
   },
   "outputs": [],
   "source": []
  },
  {
   "cell_type": "markdown",
   "metadata": {
    "id": "MSPMzJNAZWEY"
   },
   "source": [
    "### **Match from n and m times: {n,m}**\n",
    "* The {n,m} quantifier matches its preceding element at least n times, but no more than m times, where n and m are zero or a positive integer. \n",
    "* For example:\n"
   ]
  },
  {
   "cell_type": "code",
   "execution_count": 33,
   "metadata": {
    "colab": {
     "base_uri": "https://localhost:8080/"
    },
    "executionInfo": {
     "elapsed": 620,
     "status": "ok",
     "timestamp": 1654256940920,
     "user": {
      "displayName": "Dharmendra Chaudhary",
      "userId": "16994293431277914491"
     },
     "user_tz": -330
    },
    "id": "Bq-UX5yEZa9z",
    "outputId": "8ad0c89c-22c7-459e-c0f8-293a10f71c12"
   },
   "outputs": [
    {
     "name": "stdout",
     "output_type": "stream",
     "text": [
      "<re.Match object; span=(0, 8), match='5-5-2021'>\n",
      "<re.Match object; span=(12, 22), match='05-05-2021'>\n"
     ]
    }
   ],
   "source": [
    "import re\n",
    "\n",
    "s = \"5-5-2021 or 05-05-2021 or 5/5/2021\"\n",
    "\n",
    "matches = re.finditer('\\d{1,2}-\\d{1,2}-\\d{4}', s)\n",
    "\n",
    "for match in matches:\n",
    "    print(match)"
   ]
  },
  {
   "cell_type": "code",
   "execution_count": null,
   "metadata": {
    "id": "o843EuyKZbJH"
   },
   "outputs": [],
   "source": []
  },
  {
   "cell_type": "markdown",
   "metadata": {
    "id": "8d_K_ZoMZc7C"
   },
   "source": [
    "* In this example, the pattern \\d{1,2} matches one or two digits. So the pattern \\d{1,2}-\\d{1,2}-\\d{4} matches a date string in the d-m-yyyy or dd-mm-yyyy format."
   ]
  },
  {
   "cell_type": "code",
   "execution_count": null,
   "metadata": {
    "id": "fDaK-sZIZda6"
   },
   "outputs": [],
   "source": []
  },
  {
   "cell_type": "markdown",
   "metadata": {
    "id": "2SFyBi3XZh0Q"
   },
   "source": [
    "## **Python Regex Greedy**\n",
    "* By default, all quantifiers work in a greedy mode. It means that the quantifiers will try to match their preceding elements as much as possible.\n",
    "\n",
    "* Let’s start with an example to understand how the regex greedy mode works.\n",
    "\n",
    "### **The unexpected result with greedy mode**\n",
    "* Suppose you have the following HTML fragment that represents a button element:<br />\n",
    "![image.png](data:image/png;base64,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)\n",
    "\n",
    "* And you want to match the texts within the quotes (\"\") like submit and btn.\n",
    "\n",
    "* To do that, you may come up with the following pattern that includes the quote (“), the dot (.) character set and the (+) quantifier:\n",
    "\n",
    "  * **\".+\"**\n",
    "\n",
    "* The meaning of the pattern is as follows:\n",
    "\n",
    "  * \" starts with a quote\n",
    "  * . matches any character except the newline\n",
    "  * + matches the preceding character one or more times\n",
    "  * \" ends with a quote\n",
    "* The following uses the finditer() function to match the string s with the pattern:"
   ]
  },
  {
   "cell_type": "code",
   "execution_count": 34,
   "metadata": {
    "colab": {
     "base_uri": "https://localhost:8080/"
    },
    "executionInfo": {
     "elapsed": 1087,
     "status": "ok",
     "timestamp": 1654257181348,
     "user": {
      "displayName": "Dharmendra Chaudhary",
      "userId": "16994293431277914491"
     },
     "user_tz": -330
    },
    "id": "yU9hEt3FaFol",
    "outputId": "93bb912c-14f4-4431-b0b8-bf4a851ef093"
   },
   "outputs": [
    {
     "name": "stdout",
     "output_type": "stream",
     "text": [
      "\"submit\" class=\"btn\"\n"
     ]
    }
   ],
   "source": [
    "import re\n",
    "\n",
    "s = '<button type=\"submit\" class=\"btn\">Send</button>'\n",
    "\n",
    "pattern = '\".+\"'\n",
    "matches = re.finditer(pattern, s)\n",
    "\n",
    "for match in matches:\n",
    "    print(match.group())"
   ]
  },
  {
   "cell_type": "code",
   "execution_count": null,
   "metadata": {
    "id": "npyoJvsFaVuw"
   },
   "outputs": [],
   "source": []
  },
  {
   "cell_type": "markdown",
   "metadata": {
    "id": "fV8iu0yyaZFv"
   },
   "source": [
    "* The program displays the following result: <br />\n",
    "![image.png](data:image/png;base64,iVBORw0KGgoAAAANSUhEUgAAALwAAAAkCAYAAAAzfFCFAAAFi0lEQVR4nO2bUUxTVxjHf7dAWGOtwYaFYUiKLtjNER6M00l8ECMPGINMfTCkEhajCcakibwpexjjTbMmjYtbyEwlzZ4WISQ8YKbLjJuM+LA0KiMDGp0KwyJe6mpX6N3DvdjbUlylF2S755c0vT33u9/3Jf2fc/89uZVcLpeCQGASLG+6AYFgJRGCF5gKIXiBqRCCF5gKIXiBqRCCF5gKIXiBqRCCF5gKIXiBqRCCF5gKIXiBqcha8LWnE3h9Cm4XUKvg9SXw1BrfkLsjgfe0UY/3KHh8at9LatWl0O5L9uPuSODtUKgwqLskEp2lNoLl2qs0nybDaxjL5rOHOH6xlurtwOGPOH7xEPsOJ88XHWimse0gm1aiGa3+kRY7sIF9Fw9x/OyGjKFZCz40KRnV3ipCnRCLTtwhCK9QH8ceRagci3AuPLciFXPlyZRsTKLqg7lPjPvTzGQZmp9LndWPhPfU/3GiCpZK1oIfHlffJ4bU9xkkwveXo6XVhERYVnBod7eJKXV0+A12tFoIT6pr6pMBgGlmWMv0m9LDgIzcDEyqd53pCNinMq/5kqHPw7sU2k8qrNUNhXotePvVY3dHgq1TEp7zyVXX3ZGg4jcLbZdTP98oTlDn1IJkiS/PSAwDFUcVWoqhD0U9H5JSjudzuzsSbLUvvH6xPl+SHmsU+fn8VPaWruYcAw+iHJtNDWuyW2m1xTn3aBb/v+aIc2Usxqfp1zvydCMLYz5z2Giw6wZiLzLXy4GiA83UlYfo+2U9dTVl2ugzhgOXGBzVzleuy3htJBigp3sS2MKetr1wLYD8YSMVNi3g4VUC39xZUl8GWhoFz0mFcK+Ftv7cMq3dlqAuJOE5Jal5fQruo9LLSYFTYdegBU9QwbtfUWN7wbsfaoF+oOuMhS60CbI5rcCQRJsuN7pJuSxYCwmWFDATfk6lvNT1JY+et+GrsYgmTInO0jU0lM4xMi9WayGtjgRXxqIpAtfTZLfSUPiCc2OLCHz7exxp3pJ5MfjjZ77+/GH2LduqqKt5wK12LyPApk887Kjfze9fXOdp9yUC3agevgZutX/HyCJpSmoa4ZqXwE1g427qG/eyp/oO39/MvpV5DPfwzkoF+nP0zSH9XUCibxBaNitUkBy7cRlV3Uj0nZegdrX+cUuis6gA5Cg7lyx2gDnqH+k/K9yIzLHdlh5XQJU1BtFXpCosYFf+LP7ZDOcG7vHtwL0c+tTzIEXIIz/8ygeNTt7dCIOj2WeJBANJcY/+SSSHjgwUvIT3FHh8Cl6f9sWGUu1LTtjBCYSMybbizMQTOedYYEUAYvHkcTRG5TgES2wEtaHR8Qj1OvH75ShgpbVsPiaztVo+1mF/B3gNwRuJwSu8fldEtQve0xgjevm/K3YjaLJbabCn+nHV76cFRmNUjsXUY2shwRIbPRlE75d1OcqsdM6L3khLk5FnyI9zTJEDy7gtKXE3pODUjUxMAeuhAnWnY/6H5Sv3UF0K7m0KoV6L+qPV4B7DssJWI2zYomjWw7GGnniq8HIiP58TjrzUFT6d6CyjFLwyjf+vOCccuhhDLY2eYrbVV2F7eDXVzjyeIkIVzmoYWYInf12ME3ymnQ9tx2Oe/vMS7/sUWjTLMzNooa84wS7dJRNTgFNni5C4fcFC11Buvag1JW5fkFJydXVJVJzU1VuGXRq/HMUfL0yxGilWYsHuSx6t5dCqi/HLf/Oxw0pDeQENAMS5Mh6noShZZ+EODcyEn7NTN8ky2aLR8YjhlubppAyUsaPNww5tLBIMEOieTCt+nR+DTupqPDTWJON60uMMwthtSYFglSMeHhOYCiF4gakQgheYCiF4gakQgheYCiF4gakQgheYCiF4gakQgheYCiF4gakQgheYCiF4gan4B7O0HMKWH1s1AAAAAElFTkSuQmCC)\n",
    "\n",
    "* The result is not what you expected.\n",
    "\n",
    "* By default, the quantifier (+) runs in the greedy mode, in which it tries to match the preceding element (\".) as much as possible."
   ]
  },
  {
   "cell_type": "code",
   "execution_count": null,
   "metadata": {
    "id": "9sHng5jCafHT"
   },
   "outputs": [],
   "source": []
  },
  {
   "cell_type": "markdown",
   "metadata": {
    "id": "UTi-G_ISajeH"
   },
   "source": [
    "### **How Python regex greedy mode works?**\n",
    "* First, the regex engine starts matching from the first character in the string s.\n",
    "\n",
    "* Next, because the first character is < which does not match the quote (\"), the regex engine continues to match the next characters until it reaches the first quote (\"):<br />\n",
    "![image.png](data:image/png;base64,iVBORw0KGgoAAAANSUhEUgAAAh0AAAA8CAYAAADCDwhdAAAgAElEQVR4nO2deZhcRbm43+/0TCdkgYQIhIAQdsIickUwgKwXjEimTw+SH5sIKIs/Au6CIleQxYAsynKBcAVBQe9I5tSZQUQQ2TcFUeASdghLZAshQEimp7u++0dVJ51O9+xL4q33efqZZ/rUqf5Onao6X31LHQgEAoFAIBAIBAKBQCAQCAQCgUAgEAgEAoPJU7P59+GWIRAIBAKrH9FwCxBY/RC4ae5slj49m1OGW5ZAIBAIrD4EpSPQa1Q4WaHTwplzr2ZJUD4CgUAg0BNkuAUIrJ7Mnc3bCB8DUKVDBBXljK224ELZm+JwyxcIBAKBVY9eKR1zr+ZHwBmDJEtg9acDy2+nHM9Rwy1IIBAIBFY9gqUj0CcqLR0oHQgKnLm15cKTFt9Z6E1dl31r79APA4FA4P8ADcMtQGD146mrORIYuUzZEM6cciyzysdnXgQnH/bZHtV1yY33DpaYgUAgEFjFCEpHoNdEcIlVGkU4o1LZCAQCgUCgK4LSEeg1Fg7e5jhuH245AoFAILB6EVJmA71mm2ODwhEIBAKB3hOUjkAgEAgEAkNCUDoCgUAgEAgMCUHpCAQCgUAgMCQEpSMQCAQCgcCQEJSOQCAQCAQCQ0JQOgKBQCAQCAwJQekIBAKBQCAwJASlIxAIBAKBwJAQlI5AIBAIBAJDQlA6AoFAIBAIDAlB6QgEAoFAIDAkDOgL3xSmAH8A3gAOFHhnIOuv8XubAgcBlwt8VPF9BHwOGCUwZzBl6AurunwDRWdhKfOeepDC0sWMW2dD1p64CfPmPkSp2Mm6G23NxyZtPmSyGGPuA3YDfhXH8ZFD9sMrynAq8BPg/jiOdy9/39LSkm1sbDxDRMbEcXwyQJqmk6y1d4rIlsCvRORia+3tIjIB+H4cxwP6dt8kSQ4FfgF8FEXRfrlc7rGBrH+46Ul7pmm6o7X2dmAU8JV8Pv+bntbf2tp6YBRFXxORY3O53Px+yLljpVyqOg93X+itTN39jqqerqp7iMjagABF4E3gtiiKzmhqanplIH5rMDDGXA98iaqx1F9UNTLG3C0i24pIbK3dgCEcF/X6Ua05YnVltbV0KGwJ3AZ8ssbhw4FbgLWGVKies6rLFxhCGhsbrxCR7wPjhluWQO8xxnwxiqL/VtWh06L7iH+o/tRa+xCQ98qN+MMNwAbA0dbaJ5MkOWrYBB0mkiTZCthMVV+MouiRofztrvrRv9IcsdoqHUCG+paaxqEUpA+s6vIFBoE4jmfFcSzVKzMRCf1hNUZVG1VVui85/Bhjvgqc5PvcXSKyT6FQGBHHsYwcOXKCqh4PvAqMBc43xnx2WAUeYjKZzO7ABODB6dOnf9Rd+YGkq370rzRH9Nm9orAG0AxMFLhw4EQK/KsQRRmiKANAQ+NIMg1ZMg1ZSsXOZd8HajNixIilS5cu7fD/zi8Wi29nMpmFqjpORIZ0MvxXYHVpz1KptFRECqpaiKJogaq+ICJLgQYReR/cilhVvysis3K5XCoithc/cRAwQlXv6+zsnD5jxowPywemTZv2LjDbGPMgcKuITAKOBe4dwEscVlQ1StM0p6qnishP4zi+qer4AUAJeGB4JFw1SdN0kqr+Bri3UCjMquw3vaXXSofCROCrwLeA8cB5dYqOUPga8A2cK+RZ4EpgtsDiivo+BtyMq/fzAnOrfm+l4wqzgFN8kY2BwxQeBo4Ergd28cd+oc4fd57AqRV1jgZm4AbUTv7rR4BLgVaBjoqy5d8HaMK5c04Fdsd1zt8D5wKPCWgXTVdZ10ryAVf5ukbVagd/fjlm5gXgYGA9///9wMk4H+fX6KK9K+qKgH8Hvg3sAYwEHgd+We+c3pJpaKRx5CiWLvmAxpGjaByxBpmGLFGmg+zI0cvKtbS0ZEeMGPFDVf2Kqk4UkUhVlwCPRlF0Ti6Xu7Vctju/e0/88kmSzMDFVkz2X70sIufncrmrKyfwCr/xr4DLVfVSEdkRN24WquqVnZ2dZwDZbDZ7Aa5PjVfVAnBfQ0PDCdOnT3+uor4VYjoqZJ3gi3zJGPMl4P5p06btbox5QVW3iqLohebm5vlpmr4jIuuJyAs9vQdtbW0bWWvPUtUveN89qvouMEdVf9Dc3Lyguzrq+f99vMHszs7On82YMaNQeY4xZhdVPQ/YWUTWUFUrIm8AN1prZ1X/bm/L95Zp06a928v2zBhjfo67/+V7+qCInBLH8cMVcpdjhQC2VNXXkyRZEEXRfgD+/gIcEEXRgap6HLCuqio1+l1jY+O8YrE4HxhlrX3OWjs/k8ksUNXR1toXwa2Ige2B1jRN30iS5HJ/D7p8ENxyyy3rFAqFDQFE5KV65eM4fsIYc5eqHiIi61YfrzNeF4nI3VEUnVQdC1LRRt+31j4ZRdG5uLmsPI5+V6svegXhWFX9Hn6sisiLwMyurrMWLS0tYxobG7+RpumJuGfJEt+Oy/BxP9sAr0ZRdHd1HdbatYwxLcABuGfIYuCO6mvuyxzVRT+aaa29jBpzRKXFtDfjvOL3oYf90tc3UUROy2az3zbGGGvtj5qbm5/t2R1YTo/cKwqisJ3CtcArwFnAh8AJuEm0monAdcB/4lwJjwEbARcBv1dYv7eCVvEu8ATQCSzEKQwv4wKhXgZe8uVeAv7iy5evZSvgz8A1wI7Ak8DTOOXjRqCtjnyjgLNxSsMUf03v4VYO9+OsPt1hu5DvVeBPOCVqap3zp/rjd0jFNeH8fFcAF9OD9lYY48v+Edjfy/QI8HF/zp99O1WeM0tBe/Jpunn2svNGjBxDFGWWKRnZkaPINDQu+z8SJZvN/lFVTwfWF5EP/WDJiMju1trWNE2P7UHb9pR9cErEZL9y7BCRTYEr0jS9VlVrjYkdgDuATwEfeoVovIicms1mL89ms+3A8X4Se19EGkVkn2KxmKZpOqmeIKpaFJGFvj5UdYm/9kW+yDPAEmvtc37wv6iq71prn+7JhaZpupu19kHgSD8RfQB8ICJri8hxURTdlyTJ5K7qSJLkCFW9F+f/XwvX5xcCiMhmIjIrm81eXdluSZIcAdwhInsCGVV9V0Q+xPXD70RR1Nba2jqhr+WNMfcZY7SHn/sqLqen7ZkRkVnASao6GlgoIpGX7w4vb5lFwPu4BUfRl12oqsVyAd8f/ktVf6iq41V1IVAUkU1V9T/TNL24XHb69Okficirvp1fbW5uno8LyJ/f2Ng4D6Czs3NOFEUzVfVFYD0ROSubzb5hjLmura1to3r38oADDnhbVV8DUNVtKtu0mjiOD8/n85k4jqdVfp8kyeRsNnu/H6+TcAH8C0VkNNBUKpUeS9P04HrVisgcVd0WN44+xI2j40Tktkp5vMJxLXCFH58dIrIIp3zMwY3Jbmlra9vIGHNdNpt9Q0TOAtbz8RozOzs7q4P4dxSR9UXkqRrBwKNwz4eDfV9/T1XXAJqstX9J03Q3+kfNflQqlQrdzBGkaXpwqVR6DLfoHu+PVY7zx2vJ15t+mcvl5qvqUbhnVANwiIjMNcbcn6bptOq6u6JLpUOhQV2Wxd24h/xRwN9wK/4tBK6SiouvYGNgWyAPbC7wb7jO8ltgT+BHCiN6I2glAucD/w+Yj1vp7ylwiMCLAofglAOAswV28eVRF7g5C9gZZxGZLPBvAp/w8qW4h/C56jpZJdsDX/S/u4E4a8Vk/1sjgeO1myAfgXfrySeuo92CU6T2rf59ryh8wV/zzazIATirRTPdtLe6VepMnGXkfmBLgSkCn8YpHf+BU8Zm6QAEuq670dZs/elpjF7TzScbbL4jW+y47zKlY73RneCUqTdVdb84jtfK5/MTVHUScI9f9X69qwmyl2wgIi+KyK5xHI/v7Owcp6o/x1mtDmtrazupxjmfAP5ZdU4KiKoeo6o7Ad+K43itOI7XUtVj/SSxGe6e1SSO4yfiON5CRG4CEJGb8vn8hDiOv+CPn5rP58fl8/m7/P+H5/P5yfl8vltLR2tr6wRr7eW4B8PzwNQK+fbDZSlsLSI/rVdHkiSTReTHuFVdYq2dGMfx2nEcr22tnYhTWkVVP9/W1rYdQHt7+ygRmYnrvzd0dnaO9de0FvAVYLGq7pLJZL7cl/L9oaftKSJZVV3fr8AnxXG8dhRFmwEPAaNF5DxjzPa+ji+o6gmqulRVXxSR7eI43iKO4ycqqlwTmKKql5Svr6J/R6p6cGtr65QKOfNluUTExnE8NZ/P71SOMZgxY0Yhl8tdk8/nNxORA4AH/APwSGvtC8aYu9M03aNOM/wKWCwinxKRuUmSXJokyafqKNsroKqRiFwB7KSqbwPN+Xx+bLl9VPUOERmvque3trZuWaOKXUTkb5lMZpM4jsf7vng2bu7bIYqiw8sF/Tg8DCip6s87OzvHxXG8diaT2UZVn8GNybqkabqHMeZua+0LwJG+fR4QkQPy+fxmuVzummrrnLV2mqqOAu6srk9E1gAmiMjPvCzjRWRX3Nhaz1p7eX/mqHr9qLm5ubWrOaK1tXVLVT3fLyqeLs9Rfvzs6a2Rk6y1V9dYAPWqXzY3Nz8Yx/F+fixcLyJLgF1V9RZjzEvGmBNbWlqy3V1rzY6msJbC8cCLwK3AZ3Da5SeBXQXaK10QdThNwIhb3SNukvsebhU+naqV9BAxFfcQuAc4xcuEl28+cJKX7yBqZ8VcyIrX1IFzYfwdl767kimylzyKszjsBVRHMG+Kuw8P4e5LNT+ifnvngW18uck4jXgecILAMvO/d6lcCPwO105TK46dKiA9+bQdeFyPL3hEg4JTiF6K43jZYG9ubl6gqj9S1QXA6CiKBiQzQFXfstYeUzaRz5gxoxDH8bdUtQ1oUNVD29vbqxXOxVEUfafyHBH5NfCRXwHfEMfxxWVT5BprrJGIyPMikrXWdjk5DhaZTKYZZ5F7T1VPqHQJ5PP5O0TkfJzlY/1bb7117TrVTPUr/fkickalidbfn1mquggYY63dFsBaO05Vx+NWpn+onNjjOL4WuB1n2t6uL+X997v7gNyefPqUTiki9zU0NBxdvuampqZXrLVfxlkF18ctHnqMqt4Zx/G3ytdX0b8XichaURRt2xc5c7ncrXEc76aqU3CLjCKwh6relSTJC2maHlP5IMjn878GzsApHuuIyEwRecQYs8QYMzdJkkuNMZ+tpYS0tbV9HthNVZeIyHfiOE7Kx5qaml6JouhIVX0O2DiKolpK4hsicnzZFSEitqGh4Seq+g8RyajqDuAUUVU9FDce2yrbbfr06c9FUXQ0bluGFWhpacmmaXpMkiQvqOpdOLdxEfitqk6J43i3SldtJX7MTwXeE5Ga8Rwi8t+5XO6bZVniOH5YVU/w52wtItNrnTeY+HbeuHpe8/Ldi1Pc38O53Ffqs33pl01NTa/EcfzlQqEw0Vu83sQ9Vy7LZrNvJ0nyszlz5tT1ZtTTbr+Pe5iug7MSbCnwRYF/lB9q3fB33CqomtdwZupJ9NA8NlD4Ff6+OPdDq9TotOJcHDfhIrf3qjrcCdxdI25jCe5h3YDLqOkP7+DiOibhYkYq2d1//3txrq1K5gI315DtNZzSuC7LY1e2wT2MbsPFfayA3+/kVlw79ddk2C0lC6paUtUd0jS9uNLcn8/n78rn8x+L43iTysHUH0Tkgebm5gervrNRFLUCS1V1U2vtCgqOqr6uqn+tOucFb+pcoqor+H99QN77vtywpEWr6l5+xf5kpTJXJpfLXRTH8ZpxHO/u5V2JfD7/m3w+v14cxxvkcrnHq49HUbQIN6kvY8SIEUtFpAMYqaqnJEkSVz70/Cp+bBzHx/Sl/FCgqgUR+XV19oL3Xz+Am0t6o8yoiNwmVQGfURS9CxRUVbQqvqC3NDc3PxvH8aHW2g2BC7yLalNr7WWNjY0HVZaN4/iCUqm0haqej3dLi0gWZ/maCdyTpunLPvZp+UWofhYYKyLPjxw5straindJ3Ef99nm2uh95d9JiWJ6hYa3dXFU3BZZGUdRa3W6+joeqK29sbDzIWnuZdw+8C1xgrd0wjuNDu4s98LEck4G5TU1Nf6s+rqqLVPWa6u/92Hoat3Aa0kwfrxjuA0iteQ3cAkNV/yIiGWvt56qr6E+/nDFjxof5fP7sXC63AfBlVZ2L6x9fz2Qy9WI9uw0kXYJ72Ba6KVfNMzjtagXE+fzLAZJ90uz7wRq4hzY4page5c45WaHSVDQfqBXMthRnNdiwvwL69rkTtwLdV+F6gQ/VKUH7e9lWCnDy36+0EZuv73n/72b+b/mBOh3YoU7k65r+76bqNjAbtOj+txY3suWEJXNFZDvgZBE5KUmSd0XkfhGZ3dHRcXu1GbSf1Nvc5ylVXczyVfuyyVFE3u7Phk/DxMbgAgarJ5W+4s2zm1hr9xGR3ay1O4nI2qq6tFzGB2zeqKpnisj2IpI0NjYWjDHP4YLars3n8y/3tfxQICKLrbX/qHP4CXBBdWmaTupJv/Dt83qNQ+/g4mPG9FnYKorFYkc2m+2gm8XhQQcd9E9cMP4pPjB0N2ttM25e+LiIfFxEbkjTdEoulzvTn7aVv56tlixZ8lySJLWqzvoytdpnXh1xVvheVbcUkdGqulhEnqpzzmNA3MUlWqCjWCx2Z5Evswcwzs87K7WdiLxdKpWer/G99X31MyIypNb7tra2iaq6toiAS6Sox7PA/iKy/q233rp2R4drkgHulx/gXGEqXqB61FM6foILcjzNf76ncAPwM+CJHlg7SnSTybEK87b/O5oB3rG1hzyF0+I/g3OpPI6zTuyDM5++WuOcxbg27wlls9dE/+kRVRlDXXL7zbPhsJ4p/R2lCFXdCzhXRA7GBZZNAJpUtSmbzb5vjDk3l8v9dIAengOpwPzL46PiLwX29a4WynOKiBRVdaVxHsfxrNbW1idF5Fxgil9Fb+s/PzTG/DWTyXypnNnT2/JVkf7d0esdK1XVRlHU2ZtzhpvW1tYtoyg6DecaHi0iqi5g8pyOjo4udz32Sv2d/nOSzyS6SkR2UNXjjDGtPkZlHXAxL0A9l1y/8avr7vY9WWkcd3Z2zhkxYsQa1trTRGQT4LRsNvsNY8wca+05XVk7rLWfE5GPRKRmerCq2oaGhgFR3ocaEXkdQFVHdHR0jByoeltaWsZks9mZaZr+f5yiCvC+ql5rre2dpcMHh17l0zn3xSkeR/nPvQrn4DIoirXOx7kZuus0q+qgXsf/XYDr2NX+/UFF4D0FA+yHM1E+jrsHY4FUaj80e9LeZd73f88WOL2/8g4E3m9+PHB8mqafsNYeLiIH4vyQawJnGmPexKXz9pcuA51ERFl1++aQkiTJZGvtH4CtvcvhaVy216PAnV7huIUaY6S5uflm4GY/MTXhArA/KyLjgV1KpdKv2tvb9ym7MHpbfjARkcha26W7wyvAPVX0B400TfdQ1bOAXXHzeREXCHh6HMf3VJY1xvxAVX8oIvNEZK9cLvdmrTrjOH44SZJvqKrBZUNsBzzhLQ8A98RxvOdgXZOIdOIWrd3eh0q88nQNcE1VuxwZRdFhxpgHROT0XC63QrskSbIZsJWq/lNEalpCRSQqFovdBdsOe3+ohapu4O/bB1EUvWetXa8/9c2ZM2f9TCbzY9wWAWvi7tXLwAWFQuHq7izTXa7kvVLxR3X+/21xezocjvP5v+qVj9/WyGDZjOV5zMtQ93vlAM2e5veOZbm5vz8sYbkZ75PUcFP4uI+yiewNgeIwmWvuw7lz9leXqbIXLsC0nmtgK1zmTHV7C8vdKf/j/5bbvVeuE7/PyandFgRmHnic9vXlAN5f+zhwSnt7+xalUukWYHMR2YeeKR2TfCxDveP1TKA7AWNVdVEURb3OPV8FeRtAVTfxWQcrrNKSJNkLuElEPgAOqdNe3wa2Bt6MouigXC53f1UdO/so97pC+L0gbgRuVLcF99m4AOfNrbVbUdWne1J+IN+1UYc1oijaApfOXk15j5236j20BxvvDjnCWnuaqm6CG+eLgRujKDq93jtTRORtVc3gVqWfwWXr1SSKokXW2iIrKunPAvv3xrXUF6y1/yMuPXZCFEU7UPs+bN9VHV6x2LO8fwXOAlQOsH3JW4B+7R+QOwPrishNXVzThCiKJuHi5JbR3t4+qlgsbiMiqOpK7pc6dDdH9YimpqY3jDFv4RZnu9Qq48dQec5bMH369I/StO5t75LW1tapURT9GPc8alC3l84DInJWvQDdWvRonw4BFXhS4Gjc/g+n4/w9V+KCTqvZAZeCWc3GODfBPNxDFJwy8DIu3qJW9sc2rJzJ0Wt8kOU9uFVss9Z2LWyI65yduHTS4eJ54C6ccrQnrj1vB/5Zp/y21M622RCYhlNgyj7qx3CTx164B8oK+DTpsxReVDhVB3mr/E9OXEySJB8YY66sPubN6StM7MVi8W0RWSgiI70JdQWstXvQtS9y1+p0PlWNVLXZm42faWpqerJvV7NKcaeqlkRkO2PM3jWOf15cmt1ia23NyVLcRmgAz1crHJ6DqEoTT5IkNsa8box5JU3TFTJ3vOLzBBXWut6WHyJGWmubqzM4fJrszri5pFag/JBQGTCJSzU/vVAoTIzj+MtdvaTNv0judWB0qVQ6pasMAx/fMQ73orPnADKZzJ9wWS8bW2sPrD6nvb19lDHm7iRJPjLG/KEn6ZO1yOfzzwBP+uyvg6vvgx+/u/akrlqZFtUBtuL3h6nnWvGMw/X3FSiVSvuKyJbqUuT/BAMyR/UIEbEicg+gqrpra2vrSvs7GWP2FpFP44JGa8UD9og0TSeJyC9xWzP0KCOoHr1+oIizAJyNezHQESyPgaikEbhIYapfbaNOqbgQ94C8huWpmh/hUkAbgRPU77zmNySbitusqisT25bUv4FTdEW3w4O47JA9gPPU7ehJhXyX4vaouAFYIVthkKiWD1iWQdKOU9K+jwuCrZWdUqZWe6+HyzzaEdfe5YCsebjrmwRcofDpinMagEOBE3GD7K4eZiv1mQ8KGcRtLHSE331wWZ80xhyNU6aKIvIoQHNz83xVfQMn89FJknwSlmn03xSRE+na1TQ5iqJlmyj5NLurcINpMXDpQAVe9oEtaqUq9gVr7Q04V8g4EbnSGLNsJZSm6eHAV1XVAi1d7PZZ3gFza2PMsnTAlpaWMUmSnIdLMa9u67/jUsk/rqqXVj7YWltbJ4jICeL2PHitVCq90ofyQ4KINBljLio/ONvb27dQ1V8Ck1T1aT8BV5+zjs8eGWzZOnHKWHMul9sgn8+f3ZNtqfP5/Msich1uPE2Nougfxpj/KO/f4MfC3saY3wPfE5cO3pbL5R7xv3u7qj6My9T4iTHmxHJ/bWlpGVMsFi8FdhW36dStfQ0A9+Pvv3AKzt5pml5Vvg9tbW0bRVF0Hct3E+4RVZkWzcATItLp08V3BRaUSqX7uqhCROREY8w3y9fsU4svxVnjH2xoaEih/3NUN/1ohTnCWnsdME9E1o2i6JrKce7fm/MLYFy9PtsbxO0QfE6hUFinJxlB9ehzoKQ4C8UNdQ7fhptIHgCeVld2Cm4TrV8DPyvHg/gMi+txWuQhwOfUbfM9AdgEt7Ppy6xsFn8Ht4KfCjykbvI6UZw14AWcteLrvr45wDkCi9S5CCbh9qqY4bNpGnCr/kYv+w8GM2OjC/kqY2Qexsk2BbeDale7UM7DWQRqtfdvWbG9i+oUuY1wOdx/8ee877+biMvIOZ6uI6IHhNcWZdlkXMejuA2HZhtjfp4kyRKcWXcMTtG6paOj4xfgJqQkScrK4eYi8ldjzAfGmJHiNhKbKy5NdXyt3/PpYzv5TZQ+UNWROKWuqKoXV7+LYYh4Gnedu6RpujBJkkcaGhqm9yd+obm5eUGapieqaguwuao+YIx5H4hUdaz38d5SKBQuqleHiFylqvuLyHpAaoz5AOe3Hoszr76oqlkR2QC3CCGfz79sjLlUVc8RkT2iKHrN/65WnPeu395+AbCgl+WHgveBV0Xk642NjccZY5aWSqWxItKAG2cnVZrhoyh6zlr7EW7OussY86aIHMEgzSG+j/apnzY1NZ2VpukYVT1ZRNYBzlTVM40xAFSY/C3QXigUlnlKp0+f/lGSJF9R1XZx2WaXGWNmJUlSAMZ4l4EVkeuampou7c815vP5ljRNp6jqD4GvNjY2HmmMWWytHYvbtXaR9CEd3Ss0if+U3YwbAX/xFpZ6zMfNoRcZY35sjCmq6poiEgHP+FcefFT+jb7MUfX6kbcy1psjnk3T9HvW2itFZOvKcY5LXxVgfhRFx/bHHebPHZA4nsEynb+De6CVX8W7Iy6m4DDgq7I8mBEAcQ26L3AJTlnZCbfN92HAN6mdDvo2ztf7KE452Y3lLpP7ge/igkG397+/hj/vGZyLZybO1bAdTuG4D6f0NEl9N8ZAUVe+CsrbosPK255X8wZOiarV3kdJVaqvLN/CfhpOyZqMMxsDzAa2FZeuO+ghLR2lCGvtNOAC4HW/SlpbREaq6gvA13K5XFPlSi6fz7eI24jnEb9aHy8iS1V1diaTOVjd9so1EZEU9z6gt3BWgEbgCWttPp/Pnz4cVo5CoXAJkKpqJy5+abNisdjfVwWQy+Xuj6JoKm73wEW4Fc8YnF/69EKh0NzVCtlPdjlVvbtCtrGqOk9VT+ns7JwiIo/gdiXdv7wCi+P44iiKmlX1PtyDdxzu/SWLgbZMJrNjLpf7Xfl3elt+sFHVTlWdqarX+f4wHjcvtUVRtHM+n7+jsnwul3tE3LbpC/1DZRLLN+NbpRC3w+l3VXV73GstXqdisaNuP4o/R1H0hTiOc9X9I5/Pv9zZ2TkVF883Hxjl3XQAj6tqLo7jYwZiHOVyuTOttXmcVSLC3YcPVHUWbr7oN+J2FR0rInd1JbOqfigiB+HiGbO4uWORqs621u5W+Y4l6Nsc1VU/6mqOyOVyv8tkMjviFNGFuJ2kxwJvqQqfQfAAAAFFSURBVOoV1tpP1HGPBgLL8bEVlyi8rnW2/FXnnnlZnaXnY0MtYz1mXnSnPvtGsUefmRfdubqmVgcCgUCglwxqkGCgX2yMe+/NXSzf4CsQCAQCgdWWoHSsQnjrRqQu3fgEnNvoxkGOLwkEAoFAYEgYjh03A/XZDWfZKHM9tbc9DwQCgUBgtSNYOlYt/okLAF0KXAV8t8bL3QKBQCAQWC0Jlo5VCHGbdm3XbcHl5efSy3z1QCAQCASGi2DpCAQCgUAgMCQEpSMQCAQCgcCQEJSOQCAQCAQCQ0JQOgKBQCAQCAwJQekIBAKBQCAwJASlIxAIBAKBwJAQlI5AIBAIBAJDQlA6AoFAIBAIDAlB6QgEAoFAIDAkBKUjEAgEAoHAkBCUjkAgEAgEAkNCePdKYFC45MZ7h1uEQCAQCAQCgUAgEAj8X+R/AawxBAsrhh+YAAAAAElFTkSuQmCC)\n",
    "\n",
    "* Then, the regex engine examines the pattern and matches the string with the next rule **.+**.\n",
    "\n",
    "* Because the **.+** rule matches a character one or more times, the regex engine matches all characters until it reaches the end of the string:\n",
    "![image.png](data:image/png;base64,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)\n",
    "\n",
    "* After that, the regex engine examines the last rule in the pattern, which is a quote (“). However, it already reaches the end of the string. There’s no more character to match. It is too greedy to go too far.\n",
    "\n",
    "* Finally, the regex engine goes back from the end of the string to find the quote (“). This step is called **backtracking**.\n",
    "<b />\n",
    "![image.png](data:image/png;base64,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)![image.png](data:image/png;base64,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)\n",
    "\n",
    "* As a result, the match is the following substring which is not what we expected:<br />\n",
    "![image.png](data:image/png;base64,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)\n",
    "\n",
    "\n",
    "\n",
    "* To fix this issue, you need to instruct the quantifier (+) to use the non-greedy (or lazy) mode instead of the greedy mode.\n",
    "\n",
    "* To do that, you add a question mark (?) after the quantifier like this:\n",
    "  * **\".+?\"**\n",
    "\n",
    "* The following program returns the expected result:"
   ]
  },
  {
   "cell_type": "code",
   "execution_count": 35,
   "metadata": {
    "colab": {
     "base_uri": "https://localhost:8080/"
    },
    "executionInfo": {
     "elapsed": 577,
     "status": "ok",
     "timestamp": 1654257426560,
     "user": {
      "displayName": "Dharmendra Chaudhary",
      "userId": "16994293431277914491"
     },
     "user_tz": -330
    },
    "id": "sarXiAICbQMu",
    "outputId": "ac7a3198-49b5-4db3-c62c-fe55eb81c97a"
   },
   "outputs": [
    {
     "name": "stdout",
     "output_type": "stream",
     "text": [
      "\"submit\"\n",
      "\"btn\"\n"
     ]
    }
   ],
   "source": [
    "import re\n",
    "\n",
    "s = '<button type=\"submit\" class=\"btn\">Send</button>'\n",
    "\n",
    "pattern = '\".+?\"'\n",
    "matches = re.finditer(pattern, s)\n",
    "\n",
    "for match in matches:\n",
    "    print(match.group())"
   ]
  },
  {
   "cell_type": "markdown",
   "metadata": {
    "id": "oplRcJKfbwhF"
   },
   "source": [
    "## **Python Regex Non-Greedy**\n",
    "\n",
    "### **Introduction to the regex non-greedy (or lazy) quantifiers**\n",
    "* Quantifiers allow you to match their preceding elements a number of times. \n",
    "* Quantifiers work in one of two modes: greedy and non-greedy (lazy).\n",
    "\n",
    "* When quantifiers work in the greedy mode, they are called greedy quantifiers. Similarly, when quantifiers work in the non-greedy mode, they’re called non-greedy quantifiers or lazy quantifiers.\n",
    "\n",
    "* By default, quantifiers work in the greedy mode. It means the greedy quantifiers will match their preceding elements as much as possible to return to the biggest match possible.\n",
    "\n",
    "* On the other hand, the non-greedy quantifiers will match as little as possible to return the smallest match possible. non-greedy quantifiers are the opposite of greedy ones.\n",
    "\n",
    "* To turn greedy quantifiers into non-greedy quantifiers, you add an extra question mark (?) to the quantifiers. The following table shows the greedy and their corresponding non-greedy quantifiers:"
   ]
  },
  {
   "attachments": {
    "image.png": {
     "image/png": "[encoded data removed]"
    }
   },
   "cell_type": "markdown",
   "metadata": {
    "id": "x5Oo4MkAbRo0"
   },
   "source": [
    "![image.png](attachment:image.png)\n",
    "\n",
    "### **Python regex non-greedy quantifiers example**\n",
    "* The following program uses the non-greedy quantifier **(+?)** to match the text within the quotes **(\"\")** of a button element:"
   ]
  },
  {
   "cell_type": "code",
   "execution_count": 1,
   "metadata": {},
   "outputs": [
    {
     "name": "stdout",
     "output_type": "stream",
     "text": [
      "\"submit\"\n",
      "\"btn\"\n"
     ]
    }
   ],
   "source": [
    "import re\n",
    "\n",
    "s = '<button type=\"submit\" class=\"btn\">Send</button>'\n",
    "\n",
    "pattern = '\".+?\"'\n",
    "matches = re.finditer(pattern, s)\n",
    "\n",
    "for match in matches:\n",
    "    print(match.group())\n"
   ]
  },
  {
   "cell_type": "markdown",
   "metadata": {},
   "source": [
    "## **Sets and Ranges**\n",
    "* Here you’ll learn how to use the sets and ranges to create patterns that match a set of characters.\n",
    "\n",
    "* Several characters or character sets inside square brackets [] mean matching for any character or character set among them.\n",
    "\n",
    "### **Sets**\n",
    "* For example, [abc] means any of three characters. 'a', 'b', or 'c'. The [abc] is called a set. \n",
    "* And you can use the set with regular characters to construct a search pattern.\n",
    "\n",
    "* For example, the following program uses the pattern licen[cs]e that matches both license and licence:"
   ]
  },
  {
   "cell_type": "code",
   "execution_count": 2,
   "metadata": {},
   "outputs": [
    {
     "name": "stdout",
     "output_type": "stream",
     "text": [
      "licence\n",
      "license\n"
     ]
    }
   ],
   "source": [
    "import re\n",
    "\n",
    "s = 'A licence or license'\n",
    "\n",
    "pattern = 'licen[cs]e'\n",
    "matches = re.finditer(pattern, s)\n",
    "\n",
    "for match in matches:\n",
    "    print(match.group())"
   ]
  },
  {
   "cell_type": "markdown",
   "metadata": {},
   "source": [
    "* The pattern licen[cs]e searches for:\n",
    "\n",
    "    * licen\n",
    "    * then one of the letters [cs]\n",
    "    * then e.\n",
    "* Therefore, it matches license and licence.\n",
    "\n",
    "### **Ranges**\n",
    "* When a set consists of many characters in e.g., from a to z or 1 to 9, it’ll tedious to list them in a set. Instead, you can use character ranges in square brackets. For example, [a-z] is a character in the range from a to z and [0-9] is a digit from 0 to 9.\n",
    "\n",
    "* Also, you can use multiple ranges within the same square brackets. For example, [a-z0-9] has two ranges that match for a character that is either from a to z or a digit from 0 to 9.\n",
    "\n",
    "* Similarly, you can use one or more character sets inside the square brackets like [\\d\\s] means a digit or a space character.\n",
    "\n",
    "* Likewise, you can mix the character with character sets. For example, [\\d_] matches for a digit or an underscore.\n",
    "\n",
    "### **Excluding sets & ranges**\n",
    "* To negate a set or a range, you use the caret character (^) at the beginning of the set and range. For example, the range [^0-9] matches any character except a digit. It is the same as the character set \\D.\n",
    "\n",
    "* Notice that regex also uses the caret (^) as an anchor that matches at the beginning of a string. However, if you use the caret (^) inside the square brackets, the regex will treat it as a negation operator, not an anchor.\n",
    "\n",
    "* The following example uses the caret (^) to negate the set [aeoiu] to match the consonants in the string 'Python':"
   ]
  },
  {
   "cell_type": "code",
   "execution_count": 3,
   "metadata": {},
   "outputs": [
    {
     "name": "stdout",
     "output_type": "stream",
     "text": [
      "P\n",
      "y\n",
      "t\n",
      "h\n",
      "n\n"
     ]
    }
   ],
   "source": [
    "import re\n",
    "\n",
    "s = 'Python'\n",
    "\n",
    "pattern = '[^aeoiu]'\n",
    "matches = re.finditer(pattern, s)\n",
    "\n",
    "for match in matches:\n",
    "    print(match.group())\n"
   ]
  },
  {
   "attachments": {
    "image-2.png": {
     "image/png": "[encoded data removed]"
    }
   },
   "cell_type": "markdown",
   "metadata": {},
   "source": [
    "## **Grouping**\n",
    "* This section shows you how to use the grouping to extract portions of information, reference the preceding group, and apply alternation.\n",
    "### **Introduction to the Python regex capturing groups**\n",
    "* Suppose you have the following path that shows the news with the id 100 on a website:\n",
    "<br />\n",
    "![image.png](attachment:image.png)\n",
    "* The following regular expression matches the above path:\n",
    "![image-2.png](attachment:image-2.png)\n",
    "* Note that the above regular expression also matches any path that starts with one or more word characters, e.g., posts, todos, etc. not just news.\n",
    "* In this pattern:\n",
    "\n",
    "    * **\\w+** is a word character set with a quantifier **(+)** that matches one or more word characters.\n",
    "    * **/** mathes the forward slash / character.\n",
    "    * **\\d+** is digit character set with a quantfifer (+) that matches one or more digits.\n",
    "* The following program uses the \\w+/\\d+ pattern to match the string ‘news/100':\n",
    "\n"
   ]
  },
  {
   "cell_type": "code",
   "execution_count": 4,
   "metadata": {},
   "outputs": [
    {
     "name": "stdout",
     "output_type": "stream",
     "text": [
      "<re.Match object; span=(0, 8), match='news/100'>\n"
     ]
    }
   ],
   "source": [
    "import re\n",
    "\n",
    "s = 'news/100'\n",
    "pattern = '\\w+/\\d+'\n",
    "\n",
    "matches = re.finditer(pattern,s)\n",
    "for match in matches:\n",
    "    print(match)"
   ]
  },
  {
   "attachments": {
    "image-2.png": {
     "image/png": "[encoded data removed]"
    },
    "image.png": {
     "image/png": "[encoded data removed]"
    }
   },
   "cell_type": "markdown",
   "metadata": {},
   "source": [
    "* It shows one match as expected.\n",
    "\n",
    "* To get the id from the path, you use a capturing group. To define a capturing group for a pattern, you place the rule in parentheses:\n",
    "![image.png](attachment:image.png)\n",
    "* For example, to create a capturing group that captures the id from the path, you use the following pattern:\n",
    "![image-2.png](attachment:image-2.png)\n",
    "* In this pattern, we place the rule \\d+ inside the parentheses (). If you run the program with the new pattern, you’ll see that it displays one match:"
   ]
  },
  {
   "cell_type": "code",
   "execution_count": 5,
   "metadata": {},
   "outputs": [
    {
     "name": "stdout",
     "output_type": "stream",
     "text": [
      "<re.Match object; span=(0, 8), match='news/100'>\n"
     ]
    }
   ],
   "source": [
    "import re\n",
    "\n",
    "s = 'news/100'\n",
    "pattern = '\\w+/(\\d+)'\n",
    "\n",
    "matches = re.finditer(pattern, s)\n",
    "for match in matches:\n",
    "    print(match)"
   ]
  },
  {
   "attachments": {
    "image.png": {
     "image/png": "[encoded data removed]"
    }
   },
   "cell_type": "markdown",
   "metadata": {},
   "source": [
    "* To get the capturing groups from a match, you the group() method of the Match object:\n",
    "![image.png](attachment:image.png)\n",
    "* The group(0) will return the entire match while the group(1), group(2), etc., return the first, second, … group.\n",
    "\n",
    "* The lastindex property of the Match object returns the last index of all subgroups. The following program shows the entire match (group(0)) and all the subgroups:\n"
   ]
  },
  {
   "cell_type": "code",
   "execution_count": 6,
   "metadata": {},
   "outputs": [
    {
     "name": "stdout",
     "output_type": "stream",
     "text": [
      "news/100\n",
      "100\n"
     ]
    }
   ],
   "source": [
    "import re\n",
    "\n",
    "s = 'news/100'\n",
    "pattern = '\\w+/(\\d+)'\n",
    "\n",
    "matches = re.finditer(pattern, s)\n",
    "for match in matches:\n",
    "    for index in range(0, match.lastindex + 1):\n",
    "        print(match.group(index))"
   ]
  },
  {
   "attachments": {
    "image.png": {
     "image/png": "[encoded data removed]"
    }
   },
   "cell_type": "markdown",
   "metadata": {},
   "source": [
    "* In the output, the news/100 is the entire match while 100 is the subgroup.\n",
    "\n",
    "* If you want to capture also the resource (news) in the path (news/100), you can create an additional capturing group like this:\n",
    "![image.png](attachment:image.png)\n",
    "* In this pattern, we have two capturing groups one for \\w+ and the other for \\d+ . The following program shows the entire match and all the subgroups:\n"
   ]
  },
  {
   "cell_type": "code",
   "execution_count": 7,
   "metadata": {},
   "outputs": [
    {
     "name": "stdout",
     "output_type": "stream",
     "text": [
      "news/100\n",
      "news\n",
      "100\n"
     ]
    }
   ],
   "source": [
    "import re\n",
    "\n",
    "s = 'news/100'\n",
    "pattern = '(\\w+)/(\\d+)'\n",
    "\n",
    "matches = re.finditer(pattern, s)\n",
    "for match in matches:\n",
    "    for index in range(0, match.lastindex + 1):\n",
    "        print(match.group(index))"
   ]
  },
  {
   "attachments": {
    "image-2.png": {
     "image/png": "[encoded data removed]"
    },
    "image-3.png": {
     "image/png": "[encoded data removed]"
    },
    "image.png": {
     "image/png": "[encoded data removed]"
    }
   },
   "cell_type": "markdown",
   "metadata": {},
   "source": [
    "* In the output, the news/100 is the entire match while news and 100 are the subgroups.\n",
    "\n",
    "### **Named capturing groups**\n",
    "* By default, you can access a subgroup in a match using an index, for example, match.group(1). Sometimes, accessing a subgroup by a meaningful name is more convenient.\n",
    "\n",
    "* You use the named capturing group to assign a name to a group. The following shows the syntax for assigning a name to a capturing group:\n",
    "![image.png](attachment:image.png)\n",
    "\n",
    "* In this syntax:\n",
    "\n",
    "    * **()** indicates a capturing group.\n",
    "    * ![image-3.png](attachment:image-3.png) specifies the name of the capturing group.\n",
    "    * **rule** is a rule in the pattern.\n",
    "* For example, the following creates the names:\n",
    "![image-2.png](attachment:image-2.png)\n",
    "* In this syntax, the resource is the name for the first capturing group and the id is the name for the second capturing group.\n",
    "\n",
    "* To get all the named subgroups of a match, you use the groupdict() method of the Match object. For example:\n"
   ]
  },
  {
   "cell_type": "code",
   "execution_count": 8,
   "metadata": {},
   "outputs": [
    {
     "name": "stdout",
     "output_type": "stream",
     "text": [
      "{'resource': 'news', 'id': '100'}\n"
     ]
    }
   ],
   "source": [
    "import re\n",
    "\n",
    "s = 'news/100'\n",
    "pattern = '(?P<resource>\\w+)/(?P<id>\\d+)'\n",
    "\n",
    "matches = re.finditer(pattern, s)\n",
    "for match in matches:\n",
    "    print(match.groupdict())"
   ]
  },
  {
   "attachments": {
    "image-2.png": {
     "image/png": "[encoded data removed]"
    },
    "image-3.png": {
     "image/png": "[encoded data removed]"
    },
    "image.png": {
     "image/png": "[encoded data removed]"
    }
   },
   "cell_type": "markdown",
   "metadata": {},
   "source": [
    "* In this example, the groupdict() method returns a dictionary where the keys are group names and values are the subgroups.\n",
    "\n",
    "### **More named capturing group example**\n",
    "* The following pattern:\n",
    "![image.png](attachment:image.png)\n",
    "* matches this path:\n",
    "![image-2.png](attachment:image-2.png)\n",
    "* And you can add the named capturing groups to the pattern like this:\n",
    "![image-3.png](attachment:image-3.png)\n",
    "* This program uses the patterns to match the path and shows all the subgroups:"
   ]
  },
  {
   "cell_type": "code",
   "execution_count": 9,
   "metadata": {},
   "outputs": [
    {
     "name": "stdout",
     "output_type": "stream",
     "text": [
      "{'resource': 'news', 'year': '2021', 'month': '12', 'day': '31'}\n"
     ]
    }
   ],
   "source": [
    "import re\n",
    "\n",
    "s = 'news/2021/12/31'\n",
    "pattern = '(?P<resource>\\w+)/(?P<year>\\d{4})/(?P<month>\\d{1,2})/(?P<day>\\d{1,2})'\n",
    "\n",
    "matches = re.finditer(pattern, s)\n",
    "for match in matches:\n",
    "    print(match.groupdict())"
   ]
  },
  {
   "attachments": {
    "image-2.png": {
     "image/png": "[encoded data removed]"
    },
    "image.png": {
     "image/png": "[encoded data removed]"
    }
   },
   "cell_type": "markdown",
   "metadata": {},
   "source": [
    "## **Python Regex Backreferences**\n",
    "### **Introduction to the Python regex backreferences**\n",
    "* Backreferences like variables in Python. The backreferences allow you to reference capturing groups within a regular expression.\n",
    "\n",
    "* The following shows the syntax of a backreference:\n",
    "![image.png](attachment:image.png)\n",
    "* Alternatively, you can use the following syntax:\n",
    "![image-2.png](attachment:image-2.png)\n",
    "* In this syntax, N can be 1, 2, 3, etc. that represents the corresponding capturing group.\n",
    "* Note that the \\g<0> refer to the entire match, which has the same value as the match.group(0).\n",
    "* Suppose you have a string with the duplicate word Python like this:\n"
   ]
  },
  {
   "cell_type": "code",
   "execution_count": 10,
   "metadata": {},
   "outputs": [],
   "source": [
    "s = 'Python Python is awesome'"
   ]
  },
  {
   "attachments": {
    "image-2.png": {
     "image/png": "[encoded data removed]"
    },
    "image-3.png": {
     "image/png": "[encoded data removed]"
    },
    "image-4.png": {
     "image/png": "[encoded data removed]"
    },
    "image.png": {
     "image/png": "[encoded data removed]"
    }
   },
   "cell_type": "markdown",
   "metadata": {},
   "source": [
    "* And you want to remove the duplicate word (Python) so that the result string will be:\n",
    "![image.png](attachment:image.png)\n",
    "* To do that, you can use a regular expression with a backreference.\n",
    "\n",
    "* First, match a word with one or more characters and one or more space:\n",
    "![image-2.png](attachment:image-2.png)\n",
    "* Second, create a capturing group that contains only the word characters:\n",
    "![image-3.png](attachment:image-3.png)\n",
    "* Third, create a backreference that references the first capturing group:\n",
    "![image-4.png](attachment:image-4.png)\n",
    "* In this pattern, the \\1 is a backreference that references the (\\w+) capturing group.\n",
    "\n",
    "* Finally, replace the entire match with the first capturing group using the sub() function from the re module:"
   ]
  },
  {
   "cell_type": "code",
   "execution_count": 11,
   "metadata": {},
   "outputs": [
    {
     "name": "stdout",
     "output_type": "stream",
     "text": [
      "Python is awesome\n"
     ]
    }
   ],
   "source": [
    "import re\n",
    "\n",
    "s = 'Python Python is awesome'\n",
    "\n",
    "new_s = re.sub(r'(\\w+)\\s+\\1', r'\\1', s)\n",
    "\n",
    "print(new_s)"
   ]
  },
  {
   "attachments": {
    "image-2.png": {
     "image/png": "[encoded data removed]"
    },
    "image-3.png": {
     "image/png": "[encoded data removed]"
    },
    "image-4.png": {
     "image/png": "[encoded data removed]"
    },
    "image.png": {
     "image/png": "[encoded data removed]"
    }
   },
   "cell_type": "markdown",
   "metadata": {},
   "source": [
    "## **More Python regex backreference examples**\n",
    "* Let’s take some more examples of using backreferences.\n",
    "\n",
    "### **1) Using Python regex backreferences to get text inside quotes**\n",
    "* Suppose you want to get the text within double quotes:\n",
    "![image.png](attachment:image.png)\n",
    "* Or single quote:\n",
    "![image-2.png](attachment:image-2.png)\n",
    "* But not mixed of single and double-quotes. The following will not match:\n",
    "![image-3.png](attachment:image-3.png)\n",
    "* To do this, you may use the following pattern:\n",
    "![image-4.png](attachment:image-4.png)\n",
    "* However, this pattern will match text that starts with a single quote (‘) and ends with a double quote (“) or vice versa. For example:\n"
   ]
  },
  {
   "cell_type": "code",
   "execution_count": 12,
   "metadata": {},
   "outputs": [
    {
     "name": "stdout",
     "output_type": "stream",
     "text": [
      "\"Python'\n"
     ]
    }
   ],
   "source": [
    "import re\n",
    "\n",
    "s = '\"Python\\'s awsome\". She said'\n",
    "pattern = '[\\'\"].*?[\\'\"]'\n",
    "\n",
    "match = re.search(pattern, s)\n",
    "\n",
    "print(match.group(0))"
   ]
  },
  {
   "attachments": {
    "image-2.png": {
     "image/png": "[encoded data removed]"
    },
    "image.png": {
     "image/png": "[encoded data removed]"
    }
   },
   "cell_type": "markdown",
   "metadata": {},
   "source": [
    "* It returns the \"Python' not \"Python's awesome\":\n",
    "![image.png](attachment:image.png)\n",
    "* To fix it, you can use a backreference:\n",
    "![image-2.png](attachment:image-2.png)\n",
    "* The backreference \\1 refers to the first capturing group. So if the subgroup starts with a single quote, the \\1 will match the single quote. And if the subgroup starts with a double-quote, the \\1 will match the double-quote.\n",
    "\n",
    "* For example:"
   ]
  },
  {
   "cell_type": "code",
   "execution_count": 13,
   "metadata": {},
   "outputs": [
    {
     "name": "stdout",
     "output_type": "stream",
     "text": [
      "\"Python's awsome\"\n"
     ]
    }
   ],
   "source": [
    "import re\n",
    "\n",
    "s = '\"Python\\'s awsome\". She said'\n",
    "pattern = r'([\\'\"])(.*?)\\1'\n",
    "\n",
    "match = re.search(pattern, s)\n",
    "print(match.group())"
   ]
  },
  {
   "cell_type": "markdown",
   "metadata": {},
   "source": [
    "### **2) Using Python regex backreferences to find words that have at least one consecutive repeated character**\n",
    "* The following example uses a backreference to find words that have at least one consecutive repeated character:\n"
   ]
  },
  {
   "cell_type": "code",
   "execution_count": 14,
   "metadata": {},
   "outputs": [
    {
     "name": "stdout",
     "output_type": "stream",
     "text": [
      "['apple', 'strawberry']\n"
     ]
    }
   ],
   "source": [
    "import re\n",
    "\n",
    "words = ['apple', 'orange', 'strawberry']\n",
    "pattern = r'\\b\\w*(\\w)\\1\\w*\\b'\n",
    "\n",
    "results = [w for w in words if re.search(pattern, w)]\n",
    "\n",
    "print(results)"
   ]
  },
  {
   "cell_type": "code",
   "execution_count": null,
   "metadata": {},
   "outputs": [],
   "source": []
  }
 ],
 "metadata": {
  "colab": {
   "authorship_tag": "ABX9TyMKt8JhQpf4tzfwqLEYdAmK",
   "collapsed_sections": [],
   "name": "Python Regex.ipynb",
   "provenance": []
  },
  "kernelspec": {
   "display_name": "Python 3 (ipykernel)",
   "language": "python",
   "name": "python3"
  },
  "language_info": {
   "codemirror_mode": {
    "name": "ipython",
    "version": 3
   },
   "file_extension": ".py",
   "mimetype": "text/x-python",
   "name": "python",
   "nbconvert_exporter": "python",
   "pygments_lexer": "ipython3",
   "version": "3.10.4"
  }
 },
 "nbformat": 4,
 "nbformat_minor": 1
}
