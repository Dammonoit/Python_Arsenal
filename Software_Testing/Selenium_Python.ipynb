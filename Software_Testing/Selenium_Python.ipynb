{
 "cells": [
  {
   "cell_type": "markdown",
   "id": "995202ea",
   "metadata": {},
   "source": [
    "* Selenium is one of the most widely used open source Web UI (User Interface) automation testing suite.It was originally developed by Jason Huggins in 2004 as an internal tool at Thought Works. Selenium supports automation across different browsers, platforms and programming languages.\n",
    "\n",
    "* Selenium can be easily deployed on platforms such as Windows, Linux, Solaris and Macintosh. Moreover, it supports OS (Operating System) for mobile applications like iOS, windows mobile and android.\n",
    "\n",
    "* Selenium supports a variety of programming languages through the use of drivers specific to each language.Languages supported by Selenium include C#, Java, Perl, PHP, Python and Ruby.Currently, Selenium Web driver is most popular with Java and C#. Selenium test scripts can be coded in any of the supported programming languages and can be run directly in most modern web browsers. Browsers supported by Selenium include Internet Explorer, Mozilla Firefox, Google Chrome and Safari.\n",
    "![image](static\\selenium-what-is-selenium.png)\n",
    "* Selenium can be used to automate functional tests and can be integrated with automation test tools such as Maven, Jenkins, & Docker to achieve continuous testing. \n",
    "* It can also be integrated with tools such as TestNG, & JUnit for managing test cases and generating reports.\n",
    "\n",
    "## **Why we use Selenium for automation testing?**\n",
    "* Selenium is one of the most popular automation testing tools. Here automation testing is a process of converting any manual test case into the test scripts using automation tools such as Selenium.\n",
    "\n",
    "* Following are some aspects that, why we prefer Selenium for automation testing:\n",
    "\n",
    "    * The Selenium test scripts can be written in any programming languages like Java, Python, C#, Ruby, Perl, as so on.\n",
    "    * The Selenium test scripts can be executed in many operating system platforms such as Windows, Mac, Linux, etc.\n",
    "    * And the test scripts can be implemented on different browsers like Google Chrome, Mozilla Firefox, Internet Explorer, Safari, etc.\n",
    "    * The Selenium testing tool can be associated with other testing tools such as TestNG, Junit for managing the test cases, and generating test reports.\n",
    "    * To achieve continuous testing, Selenium is integrated with Maven, Jenkins, and Docker testing tools."
   ]
  },
  {
   "cell_type": "code",
   "execution_count": 11,
   "id": "8f232438",
   "metadata": {},
   "outputs": [
    {
     "name": "stderr",
     "output_type": "stream",
     "text": [
      "C:\\Users\\dnc11\\AppData\\Local\\Temp\\ipykernel_18880\\2149232410.py:8: DeprecationWarning: executable_path has been deprecated, please pass in a Service object\n",
      "  driver = webdriver.Chrome(r'C:\\Users\\dnc11\\Downloads\\chromedriver_win32\\chromedriver.exe')\n"
     ]
    },
    {
     "name": "stdout",
     "output_type": "stream",
     "text": [
      "Welcome to Python.org\n",
      "https://www.python.org/search/?q=pycon&submit=\n"
     ]
    }
   ],
   "source": [
    "#let's start with a simple example - we can save this script somewhere in the system and run it\n",
    "from selenium import webdriver\n",
    "\n",
    "from selenium.webdriver.common.keys import Keys\n",
    "from selenium.webdriver.common.by import By\n",
    "\n",
    "#the instance of chrome WebDriver class is created with the location of driver in place\n",
    "driver = webdriver.Chrome(r'C:\\Users\\dnc11\\Downloads\\chromedriver_win32\\chromedriver.exe')\n",
    "#The driver.get method will navigate to a page given by the URL. \n",
    "#WebDriver will wait until the page has fully loaded (that is, the “onload” event has fired) before returning control to your \n",
    "#test or script. Be aware that if your page uses a lot of AJAX on load then WebDriver may not know when it has completely loaded:\n",
    "driver.get(\"http://www.python.org\")\n",
    "#The next line is an assertion to confirm that title has “Python” word in it:\n",
    "assert \"Python\" in driver.title\n",
    "print(driver.title) #printing the driver title\n",
    "#WebDriver offers a number of ways to find elements using the find_element method. \n",
    "#For example, the input text element can be located by its name attribute using the find_element method and using By.NAME as \n",
    "#its first parameter.\n",
    "elem = driver.find_element(By.NAME, \"q\")\n",
    "\n",
    "#Next, we are sending keys, this is similar to entering keys using your keyboard. \n",
    "#Special keys can be sent using Keys class imported from selenium.webdriver.common.keys. \n",
    "#To be safe, we’ll first clear any pre-populated text in the input field (e.g. “Search”) so it doesn’t affect our search results:\n",
    "elem.clear()\n",
    "#Once the DOM element is selected, you first need to clear its contents using the .clear() method, \n",
    "#enter a string as its value using the .send_keys() method and finally, emulate the press of the Return key using Keys.RETURN.\n",
    "elem.send_keys(\"pycon\")\n",
    "elem.send_keys(Keys.RETURN)\n",
    "#After submission of the page, you should get the result if there is any. \n",
    "#To ensure that some results are found, make an assertion:\n",
    "#You notice in the window that these actions trigger a change in the URL with the search results in the window. \n",
    "#To confirm the current URL of the window, you can use the following command.\n",
    "print(driver.current_url)\n",
    "assert \"No results found.\" not in driver.page_source\n",
    "\n",
    "#Finally, the browser window is closed. \n",
    "#You can also call quit method instead of close. \n",
    "#The quit will exit entire browser whereas close will close one tab, but if just one tab was open, \n",
    "#by default most browser will exit entirely.:\n",
    "driver.close()"
   ]
  },
  {
   "cell_type": "markdown",
   "id": "250279f0",
   "metadata": {},
   "source": [
    "* The **selenium.webdriver** module provides all the **WebDriver** implementations. \n",
    "* Currently supported WebDriver implementations are Firefox, Chrome, IE and Remote. The Keys class provide keys in the keyboard like **RETURN, F1, ALT** etc. The By class is used to locate elements within a document.\n",
    "* the above program searches for python in the title of the python.org web page present on the official site\n",
    "![image](static\\python_selenium.png)"
   ]
  },
  {
   "cell_type": "code",
   "execution_count": 8,
   "id": "5d326639",
   "metadata": {},
   "outputs": [
    {
     "name": "stderr",
     "output_type": "stream",
     "text": [
      "C:\\Users\\dnc11\\AppData\\Local\\Temp\\ipykernel_18772\\3102459376.py:4: DeprecationWarning: executable_path has been deprecated, please pass in a Service object\n",
      "  driver = webdriver.Chrome(executable_path=r'C:\\Users\\dnc11\\Downloads\\chromedriver_win32\\chromedriver.exe')\n"
     ]
    },
    {
     "name": "stdout",
     "output_type": "stream",
     "text": [
      "<class 'selenium.webdriver.chrome.webdriver.WebDriver'>\n",
      "<class 'NoneType'>\n",
      "Welcome to Python.org\n"
     ]
    }
   ],
   "source": [
    "from selenium import webdriver\n",
    "\n",
    "#another to give path to chrome web driver using executable class\n",
    "driver = webdriver.Chrome(executable_path=r'C:\\Users\\dnc11\\Downloads\\chromedriver_win32\\chromedriver.exe')\n",
    "#maximinze the window\n",
    "driver.maximize_window()\n",
    "#it's class\n",
    "print(type(driver))\n",
    "d=driver.get(\"http://www.python.org\")\n",
    "print(type(d))\n",
    "#get the title of web page\n",
    "print(driver.title)\n",
    "#close the driver i.e. web page\n",
    "driver.close()"
   ]
  },
  {
   "cell_type": "markdown",
   "id": "b0813852",
   "metadata": {},
   "source": [
    "## Browser drivers with Python Webdriver Manager :- \n",
    "* http://allselenium.info/browser-drivers-with-python-webdrivermanager/\n",
    "* https://github.com/SergeyPirogov/webdriver_manager\n",
    "* https://pypi.org/project/webdriver-manager/\n",
    "\n",
    "## Navigating\n",
    "* https://selenium-python.readthedocs.io/navigating.html#interacting-with-the-page\n",
    "![image](static\\python_search.png)"
   ]
  },
  {
   "cell_type": "code",
   "execution_count": 7,
   "id": "f4e89de3",
   "metadata": {},
   "outputs": [
    {
     "name": "stdout",
     "output_type": "stream",
     "text": [
      "\n"
     ]
    },
    {
     "name": "stderr",
     "output_type": "stream",
     "text": [
      "C:\\Users\\dnc11\\AppData\\Local\\Temp\\ipykernel_4860\\2422161209.py:7: DeprecationWarning: executable_path has been deprecated, please pass in a Service object\n",
      "  driver = webdriver.Chrome(ChromeDriverManager().install())\n"
     ]
    },
    {
     "name": "stdout",
     "output_type": "stream",
     "text": [
      "<selenium.webdriver.remote.webelement.WebElement (session=\"d8f22f755801b438cbcd50d0c03804dc\", element=\"7d7903b1-1ffe-4f91-9cf4-6ba21ad9ceb9\")>\n",
      "<selenium.webdriver.remote.webelement.WebElement (session=\"d8f22f755801b438cbcd50d0c03804dc\", element=\"7d7903b1-1ffe-4f91-9cf4-6ba21ad9ceb9\")>\n",
      "<selenium.webdriver.remote.webelement.WebElement (session=\"d8f22f755801b438cbcd50d0c03804dc\", element=\"7d7903b1-1ffe-4f91-9cf4-6ba21ad9ceb9\")>\n",
      "<selenium.webdriver.remote.webelement.WebElement (session=\"d8f22f755801b438cbcd50d0c03804dc\", element=\"7d7903b1-1ffe-4f91-9cf4-6ba21ad9ceb9\")>\n"
     ]
    }
   ],
   "source": [
    "#let's navigate and interact with python page\n",
    "from selenium import webdriver\n",
    "from webdriver_manager.chrome import ChromeDriverManager\n",
    "from selenium.webdriver.common.keys import Keys\n",
    "from selenium.webdriver.common.by import By\n",
    "\n",
    "driver = webdriver.Chrome(ChromeDriverManager().install())\n",
    "driver.get(\"https://www.python.org/\")\n",
    "#<input id=\"id-search-field\" name=\"q\" type=\"search\" role=\"textbox\" class=\"search-field\" placeholder=\"Search\" value=\"\" tabindex=\"1\">\n",
    "element = driver.find_element(By.ID, \"id-search-field\");print(element)\n",
    "element = driver.find_element(By.NAME, \"q\");print(element)\n",
    "element = driver.find_element(By.XPATH, \"//input[@id='id-search-field']\");print(element)\n",
    "element = driver.find_element(By.CSS_SELECTOR, \"input#id-search-field\");print(element)\n",
    "element.send_keys(\"Math\")\n",
    "element.send_keys(Keys.RETURN)\n",
    "driver.close()"
   ]
  },
  {
   "cell_type": "code",
   "execution_count": 11,
   "id": "d3b66996",
   "metadata": {},
   "outputs": [
    {
     "name": "stdout",
     "output_type": "stream",
     "text": [
      "\n"
     ]
    },
    {
     "name": "stderr",
     "output_type": "stream",
     "text": [
      "C:\\Users\\dnc11\\AppData\\Local\\Temp\\ipykernel_4860\\242202464.py:6: DeprecationWarning: executable_path has been deprecated, please pass in a Service object\n",
      "  driver = webdriver.Chrome(ChromeDriverManager().install())\n"
     ]
    },
    {
     "name": "stdout",
     "output_type": "stream",
     "text": [
      "<selenium.webdriver.remote.webelement.WebElement (session=\"5657072e8085c5d6bcea1c36cbdb0299\", element=\"bac54664-314e-42d8-af60-aece5d1d4f22\")>\n"
     ]
    }
   ],
   "source": [
    "#let's start working on drop down in python news section in python.org\n",
    "from selenium import webdriver\n",
    "from webdriver_manager.chrome import ChromeDriverManager\n",
    "from selenium.webdriver.common.keys import Keys\n",
    "from selenium.webdriver.common.by import By\n",
    "driver = webdriver.Chrome(ChromeDriverManager().install())\n",
    "driver.get(\"https://www.python.org/\")\n",
    "\n",
    "element = driver.find_element(By.XPATH, \"//*[@id='news']/ul\")\n",
    "\n",
    "#This will find the first “SELECT” element on the page, \n",
    "#and cycle through each of its OPTIONs in turn, printing out their values, and selecting each in turn.\n",
    "\n",
    "\n",
    "\n",
    "print(element)\n",
    "driver.close()"
   ]
  },
  {
   "cell_type": "markdown",
   "id": "07f81380",
   "metadata": {},
   "source": [
    "## **Different Locators in Selenium**\n",
    "### **What are Locators in Selenium?**\n",
    "* As discussed above, identification of the correct GUI element on a web page is pre-requisite for creating any successful automation script. \n",
    "* It is where locators come into the picture. Locators are one of the essential components of Selenium infrastructure, which help Selenium scripts in uniquely identifying the WebElements(such as text box, button, etc.) present of the web page. \n",
    "* So, how do we get the values of these locators? And how to use the same in the automation framework?\n",
    "* https://www.toolsqa.com/selenium-webdriver/selenium-locators/"
   ]
  },
  {
   "cell_type": "code",
   "execution_count": 25,
   "id": "1946d38f",
   "metadata": {},
   "outputs": [
    {
     "name": "stdout",
     "output_type": "stream",
     "text": [
      "\n"
     ]
    },
    {
     "name": "stderr",
     "output_type": "stream",
     "text": [
      "C:\\Users\\dnc11\\AppData\\Local\\Temp\\ipykernel_2816\\355612017.py:9: DeprecationWarning: executable_path has been deprecated, please pass in a Service object\n",
      "  driver = webdriver.Chrome(ChromeDriverManager().install())\n"
     ]
    },
    {
     "name": "stdout",
     "output_type": "stream",
     "text": [
      "Title : Contact OrangeHRM\n"
     ]
    }
   ],
   "source": [
    "#let's practice selenium locators using python for this web page https://www.orangehrm.com/contact-sales/\n",
    "\n",
    "#import time and python selenium driver manager\n",
    "import time\n",
    "from selenium import webdriver\n",
    "from webdriver_manager.chrome import ChromeDriverManager\n",
    "from selenium.webdriver.common.keys import Keys\n",
    "from selenium.webdriver.common.by import By\n",
    "driver = webdriver.Chrome(ChromeDriverManager().install())\n",
    "\n",
    "driver.get(\"https://www.orangehrm.com/contact-sales/\")\n",
    "\n",
    "#maximize window\n",
    "driver.maximize_window()\n",
    "\n",
    "# set implicit wait time\n",
    "driver.implicitly_wait(5) # seconds\n",
    "\n",
    "#let's print the title of the page\n",
    "print(f\"Title : {driver.title}\")\n",
    "\n",
    "#let's enter company name in the section in above link using the same id \n",
    "company_name = driver.find_element(By.ID,'Form_submitForm_CompanyName')\n",
    "full_name = driver.find_element(By.ID,'Form_submitForm_FullName')\n",
    "job_title = driver.find_element(By.ID,'Form_submitForm_JobTitle')\n",
    "business_mail = driver.find_element(By.ID,'Form_submitForm_Email')\n",
    "submit_button = driver.find_element(By.ID,'Form_submitForm_action_request')\n",
    "\n",
    "\n",
    "#let's perform actions on above options\n",
    "company_name.send_keys(\"DC labs\")\n",
    "full_name.send_keys(\"Dharmendra choudhary\")\n",
    "job_title.send_keys(\"Data engineer\")\n",
    "business_mail.send_keys(\"dnc.1124@gmail.com\")\n",
    "\n",
    "#after adding those value let's click on the submit button\n",
    "submit_button.click()\n",
    "\n",
    "#now let's say after all this we want to click on the link on the page of resources\n",
    "resources = driver.find_element(By.LINK_TEXT,'Resources')\n",
    "resources.click()\n",
    "\n",
    "\n",
    "time.sleep(2)\n",
    "\n",
    "#close the driver\n",
    "driver.close()"
   ]
  },
  {
   "cell_type": "code",
   "execution_count": null,
   "id": "9fa1692e",
   "metadata": {},
   "outputs": [],
   "source": []
  }
 ],
 "metadata": {
  "kernelspec": {
   "display_name": "Python 3 (ipykernel)",
   "language": "python",
   "name": "python3"
  },
  "language_info": {
   "codemirror_mode": {
    "name": "ipython",
    "version": 3
   },
   "file_extension": ".py",
   "mimetype": "text/x-python",
   "name": "python",
   "nbconvert_exporter": "python",
   "pygments_lexer": "ipython3",
   "version": "3.10.4"
  }
 },
 "nbformat": 4,
 "nbformat_minor": 5
}
