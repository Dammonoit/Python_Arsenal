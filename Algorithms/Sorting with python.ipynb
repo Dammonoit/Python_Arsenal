{
 "cells": [
  {
   "cell_type": "markdown",
   "metadata": {},
   "source": [
    "# **Sorting with python.**"
   ]
  },
  {
   "cell_type": "markdown",
   "metadata": {},
   "source": [
    "## **Bubble Sorting.** \n",
    "* simplest sorting algorithm that works by repeatedly swapping the adjacent elements if they are in wrong order.\n",
    "* ![Imgur](https://i.imgur.com/9Pxe3S3.png)\n",
    "### **Complexities.**\n",
    "* **Worst and Average Case Time Complexity:** O(n*n). \n",
    "    * Worst case occurs when array is reverse sorted.\n",
    "* **Best Case Time Complexity:** O(n). \n",
    "    * Best case occurs when array is already sorted.\n",
    "* **Auxiliary Space:** O(1)\n",
    "* **Boundary Cases:** Bubble sort takes minimum time (Order of n) when elements are already sorted.\n",
    "\n",
    "* **Sorting In Place:** Yes\n",
    "* **Stable:** Yes\n",
    "\n",
    "* Due to its simplicity, bubble sort is often used to introduce the concept of a sorting algorithm.\n",
    "### **Usage.**\n",
    "* In computer graphics it is popular for its capability to detect a very small error (like swap of just two elements) in almost-sorted arrays and fix it with just linear complexity (2n). "
   ]
  },
  {
   "cell_type": "code",
   "execution_count": 1,
   "metadata": {},
   "outputs": [
    {
     "name": "stdout",
     "output_type": "stream",
     "text": [
      "The array before sorting is:  [5, 1, 4, 2, 8, 9]\n",
      "The array after sorting is:  [1, 2, 4, 5, 8, 9]\n"
     ]
    }
   ],
   "source": [
    "#let's write a code for bubble sort.\n",
    "def Bubble_Sort(array):\n",
    "    n=len(array)\n",
    "    for i in range(n):\n",
    "        for j in range(0,n-i-1):\n",
    "            if array[j]>array[j+1]:\n",
    "                array[j],array[j+1]=array[j+1],array[j]\n",
    "\n",
    "\n",
    "#driver program.\n",
    "if __name__ == \"__main__\":\n",
    "    arr=[5,1,4,2,8,9]\n",
    "    print(\"The array before sorting is: \",arr)\n",
    "    #now let's call the bubble sort function.\n",
    "    sort_array = Bubble_Sort(arr)\n",
    "    print(\"The array after sorting is: \",arr)"
   ]
  },
  {
   "cell_type": "markdown",
   "metadata": {},
   "source": [
    "## **Insertion Sorting.**\n",
    "* Insertion sort is a simple sorting algorithm that works the way we sort playing cards in our hands.\n",
    "### **Illustration.**\n",
    "* array = 12, 11, 13, 5, 6\n",
    "* Let us loop for i = 1 (second element of the array) to 4 (last element of the array)\n",
    "* i = 1. Since 11 is smaller than 12, move 12 and insert 11 before 12\n",
    "    * 11, 12, 13, 5, 6\n",
    "* i = 2. 13 will remain at its position as all elements in A[0..I-1] are smaller than 13\n",
    "    * 11, 12, 13, 5, 6\n",
    "* i = 3. 5 will move to the beginning and all other elements from 11 to 13 will move one position ahead of their current position.\n",
    "    * 5, 11, 12, 13, 6\n",
    "* i = 4. 6 will move to position after 5, and elements from 11 to 13 will move one position ahead of their current position.\n",
    "    * 5, 6, 11, 12, 13"
   ]
  },
  {
   "cell_type": "code",
   "execution_count": 4,
   "metadata": {},
   "outputs": [
    {
     "name": "stdout",
     "output_type": "stream",
     "text": [
      "The array before sorting is:  [5, 1, 4, 2, 8, 9]\n",
      "i:  1\n",
      "j:  0\n",
      "array[j]:  5\n",
      "array:  [1, 5, 4, 2, 8, 9]\n",
      "i:  2\n",
      "j:  1\n",
      "array[j]:  5\n",
      "array:  [1, 4, 5, 2, 8, 9]\n",
      "i:  3\n",
      "j:  2\n",
      "array[j]:  5\n",
      "array:  [1, 2, 4, 5, 8, 9]\n",
      "i:  4\n",
      "j:  3\n",
      "array[j]:  5\n",
      "array:  [1, 2, 4, 5, 8, 9]\n",
      "i:  5\n",
      "j:  4\n",
      "array[j]:  8\n",
      "array:  [1, 2, 4, 5, 8, 9]\n",
      "The array after sorting is:  [1, 2, 4, 5, 8, 9]\n"
     ]
    }
   ],
   "source": [
    "#function for insertion sort\n",
    "def Insertion_Sort(array):\n",
    "    #first of all we'll store the key variable viz. a boundary between sorted and unsorted array\n",
    "    #then we'll compare the sorted array with the key.. if key is smaller than sorted array then we swap all \n",
    "    #elements in sorted array\n",
    "    n=len(array)\n",
    "    for i in range(1,n):\n",
    "        print(\"i: \",i)\n",
    "        key = array[i]\n",
    "        j=i-1\n",
    "        print(\"j: \",j)\n",
    "        print(\"array[j]: \",array[j])\n",
    "        while j>=0 and key<array[j]:\n",
    "            array[j+1]=array[j]\n",
    "            j-=1\n",
    "        array[j+1]=key\n",
    "        #let's monitor array at every stage.\n",
    "        print(\"array: \",arr)\n",
    "\n",
    "#driver program.\n",
    "if __name__ == \"__main__\":\n",
    "    arr=[5,1,4,2,8,9]\n",
    "    print(\"The array before sorting is: \",arr)\n",
    "    #now let's call the bubble sort function.\n",
    "    Insertion_Sort(arr)\n",
    "    print(\"The array after sorting is: \",arr)"
   ]
  },
  {
   "cell_type": "markdown",
   "metadata": {},
   "source": [
    "## **Selection Sort.**\n",
    "* The selection sort algorithm sorts an array by repeatedly finding the minimum element (considering ascending order) from unsorted part and putting it at the beginning. The algorithm maintains two subarrays in a given array.\n",
    "\n",
    "* 1) The subarray which is already sorted.\n",
    "* 2) Remaining subarray which is unsorted.\n",
    "\n",
    "* In every iteration of selection sort, the minimum element (considering ascending order) from the unsorted subarray is picked and moved to the sorted subarray."
   ]
  },
  {
   "cell_type": "code",
   "execution_count": 8,
   "metadata": {},
   "outputs": [
    {
     "name": "stdout",
     "output_type": "stream",
     "text": [
      "The array before sorting is:  [5, 1, 4, 2, 8, 9]\n",
      "The array after sorting is:  [1, 2, 4, 5, 8, 9]\n"
     ]
    }
   ],
   "source": [
    "#let's write a code for selection sort using python.\n",
    "def Selection_Sort(array):\n",
    "    n=len(array)\n",
    "    for i in range(n):\n",
    "        \n",
    "        min_id=i\n",
    "        for j in range(i+1,n):\n",
    "            if array[min_id]>array[j]:\n",
    "                min_id=j\n",
    "                \n",
    "        array[i],array[min_id]=array[min_id],array[i]\n",
    "                \n",
    "    \n",
    "#driver program.\n",
    "if __name__ == \"__main__\":\n",
    "    arr=[5,1,4,2,8,9]\n",
    "    print(\"The array before sorting is: \",arr)\n",
    "    #now let's call the bubble sort function.\n",
    "    Selection_Sort(arr)\n",
    "    print(\"The array after sorting is: \",arr)"
   ]
  },
  {
   "cell_type": "markdown",
   "metadata": {},
   "source": [
    "## **Radix Sort.**\n",
    "* "
   ]
  },
  {
   "cell_type": "code",
   "execution_count": null,
   "metadata": {
    "collapsed": true
   },
   "outputs": [],
   "source": []
  }
 ],
 "metadata": {
  "kernelspec": {
   "display_name": "Python 3 (ipykernel)",
   "language": "python",
   "name": "python3"
  },
  "language_info": {
   "codemirror_mode": {
    "name": "ipython",
    "version": 3
   },
   "file_extension": ".py",
   "mimetype": "text/x-python",
   "name": "python",
   "nbconvert_exporter": "python",
   "pygments_lexer": "ipython3",
   "version": "3.10.4"
  }
 },
 "nbformat": 4,
 "nbformat_minor": 2
}
