{
 "cells": [
  {
   "cell_type": "markdown",
   "id": "b2dc41d1",
   "metadata": {},
   "source": [
    "# **Python Unit Testing**\n",
    "\n",
    "## **Pytest**\n",
    "\n",
    "### **What Is Pytest**\n",
    "* pytest is the framework that makes it easy to write, test, and scale to support complex testing for the applications and libraries. It is the most popular Python package for testing. The basis for a rich ecosystem of testing is plugins and extensions.\n",
    "* The way pytest is designed is as a very extensible system, easy to write plugins and there are a lot of plugins present in the pytest that are used for various purposes. Testing is very important before delivering the code in production.\n",
    "* It is a mature full-featured Python tool that helps to write better programs.\n",
    "* Pytest is a testing framework based on python. It is mainly used to write API test cases.\n",
    "\n",
    "### **Features Of pytest**\n",
    "* Does not require API to use.\n",
    "* Can be used to run doc tests and unit tests.\n",
    "* Gives useful failure information without the use of debuggers.\n",
    "* Can be written as a function or method.\n",
    "* Has useful plugins.\n",
    "\n",
    "### **Advantages Of pytest**\n",
    "* It is open-source.\n",
    "* Pytest can run multiple tests in parallel, which reduces the execution time of the test suite.\n",
    "\n",
    "* Pytest has its own way to detect the test file and test functions automatically, if not mentioned explicitly.\n",
    "\n",
    "* Pytest allows us to skip a subset of the tests during execution.\n",
    "\n",
    "* Pytest allows us to run a subset of the entire test suite.\n",
    "\n",
    "* Pytest is free and open source.\n",
    "\n",
    "* Because of its simple syntax, pytest is very easy to start with.\n",
    "* It can skip tests and automatically detect the tests.\n",
    "* Tests are run parallel.\n",
    "* Specific tests and subsets of tests can be run from the program.\n",
    "* It is easy to start with as it has a very easy syntax.\n",
    "* Many programmers perform automatic testing before the code goes into production.\n",
    "* Python offers three types of testing:\n",
    "\t* **Unittest:** It is the testing framework that is built in the standard library.\n",
    "\t* **Nose:** It extends the unittest to make testing easy.\n",
    "\t* **pytest:** It is the framework that makes it easy to write test cases in Python.\n",
    "\n",
    "### **Identifying Test files and Test Functions**\n",
    "* Running pytest without mentioning a filename will run all files of format **test_*.py** or ***_test.py** in the current directory and subdirectories. Pytest automatically identifies those files as test files. We can make pytest run other filenames by explicitly mentioning them.\n",
    "\n",
    "* Pytest requires the test function names to start with **test**. Function names which are not of format **test*** are not considered as test functions by pytest. We cannot explicitly make pytest consider any function not starting with test as a test function.\n",
    "\n",
    "\n",
    "## **first test**\n",
    "* "
   ]
  },
  {
   "cell_type": "code",
   "execution_count": 1,
   "id": "9293470d",
   "metadata": {},
   "outputs": [
    {
     "ename": "NameError",
     "evalue": "name 'pytest' is not defined",
     "output_type": "error",
     "traceback": [
      "\u001b[1;31m---------------------------------------------------------------------------\u001b[0m",
      "\u001b[1;31mNameError\u001b[0m                                 Traceback (most recent call last)",
      "Input \u001b[1;32mIn [1]\u001b[0m, in \u001b[0;36m<cell line: 1>\u001b[1;34m()\u001b[0m\n\u001b[1;32m----> 1\u001b[0m \u001b[43mpytest\u001b[49m \u001b[38;5;241m-\u001b[39m\u001b[38;5;241m-\u001b[39mversion\n",
      "\u001b[1;31mNameError\u001b[0m: name 'pytest' is not defined"
     ]
    }
   ],
   "source": [
    "pytest --version"
   ]
  },
  {
   "cell_type": "code",
   "execution_count": null,
   "id": "904ceced",
   "metadata": {},
   "outputs": [],
   "source": []
  }
 ],
 "metadata": {
  "kernelspec": {
   "display_name": "Python 3 (ipykernel)",
   "language": "python",
   "name": "python3"
  },
  "language_info": {
   "codemirror_mode": {
    "name": "ipython",
    "version": 3
   },
   "file_extension": ".py",
   "mimetype": "text/x-python",
   "name": "python",
   "nbconvert_exporter": "python",
   "pygments_lexer": "ipython3",
   "version": "3.10.4"
  }
 },
 "nbformat": 4,
 "nbformat_minor": 5
}
