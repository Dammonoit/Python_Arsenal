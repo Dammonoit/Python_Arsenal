{
 "cells": [
  {
   "cell_type": "markdown",
   "id": "b827a0e3",
   "metadata": {},
   "source": [
    "## **Python Numpy**\n",
    "* The package is known for a very useful data structure called the NumPy array. \n",
    "* NumPy also allows Python developers to quickly perform a wide variety of numerical computations.\n",
    "\n",
    "### **What is NumPy?**\n",
    "* NumPy is a Python library for scientific computing. NumPy stand for Numerical Python. Here is the official description of the library from its website:\n",
    "\n",
    "* “NumPy is the fundamental package for scientific computing with Python. It contains among other things:\n",
    "\n",
    "    * a powerful N-dimensional array object\n",
    "    * sophisticated (broadcasting) functions\n",
    "    * tools for integrating C/C++ and Fortran code\n",
    "    * useful linear algebra, Fourier transform, and random number capabilities\n",
    "* Besides its obvious scientific uses, NumPy can also be used as an efficient multi-dimensional container of generic data. Arbitrary data-types can be defined. This allows NumPy to seamlessly and speedily integrate with a wide variety of databases.\n",
    "\n",
    "* NumPy is licensed under the BSD license, enabling reuse with few restrictions.”\n",
    "\n",
    "* NumPy is such an important Python library that there are other libraries (including pandas) that are built entirely on NumPy.\n",
    "\n",
    "### **The Main Benefit of NumPy**\n",
    "* The main benefit of NumPy is that it allows for extremely fast data generation and handling. \n",
    "* NumPy has its own built-in data structure called an **array** which is similar to the normal Python list, but can store and operate on data much more efficiently.\n",
    "\n",
    "### **What We Will Learn About NumPy?**\n",
    "* Advanced Python practitioners will spend much more time working with pandas than they spend working with NumPy. \n",
    "* Still, given that pandas is built on NumPy, it is important to understand the most important aspects of the NumPy library.\n",
    "\n",
    "* Over the next several sections, we will cover the following information about the NumPy library:\n",
    "\n",
    "    * NumPy Arrays\n",
    "    * NumPy Indexing and Assignment\n",
    "    * NumPy Methods and Operations\n",
    "    \n",
    "### **NumPy Arrays**\n",
    "* NumPy arrays are the main way to store data using the NumPy library. They are similar to normal lists in Python, but have the advantage of being faster and having more built-in methods.\n",
    "\n",
    "* NumPy arrays are created by calling the array() method from the NumPy library. Within the method, you should pass in a list.\n",
    "\n",
    "* An example of a basic NumPy array is shown below. Note that while I run the import numpy as np statement at the start of this code block, it will be excluded from the other code blocks in this section for brevity’s sake."
   ]
  },
  {
   "cell_type": "code",
   "execution_count": 1,
   "id": "2f37d3c7",
   "metadata": {},
   "outputs": [
    {
     "data": {
      "text/plain": [
       "array([1, 2, 3])"
      ]
     },
     "execution_count": 1,
     "metadata": {},
     "output_type": "execute_result"
    }
   ],
   "source": [
    "import numpy as np\n",
    "\n",
    "sample_list = [1, 2, 3]\n",
    "\n",
    "np.array(sample_list)"
   ]
  },
  {
   "cell_type": "markdown",
   "id": "0525fc5f",
   "metadata": {},
   "source": [
    "* The **array()** wrapper indicates that this is no longer a normal Python list. Instead, it is a NumPy array.\n",
    "\n",
    "### **The Two Different Types of NumPy Arrays**\n",
    "* There are two different types of NumPy arrays: **vectors and matrices**.\n",
    "\n",
    "* **Vectors** are **one-dimensional** NumPy arrays, and look like this:"
   ]
  },
  {
   "cell_type": "code",
   "execution_count": 2,
   "id": "a6dc75a7",
   "metadata": {},
   "outputs": [
    {
     "data": {
      "text/plain": [
       "array(['this', 'is', 'a', 'vector'], dtype='<U6')"
      ]
     },
     "execution_count": 2,
     "metadata": {},
     "output_type": "execute_result"
    }
   ],
   "source": [
    "my_vector = np.array(['this', 'is', 'a', 'vector'])\n",
    "my_vector"
   ]
  },
  {
   "cell_type": "markdown",
   "id": "2298c3e9",
   "metadata": {},
   "source": [
    "* Matrices are two-dimensional arrays and are created by passing a list of lists into the **np.array()** method. \n",
    "* An example is below."
   ]
  },
  {
   "cell_type": "code",
   "execution_count": 3,
   "id": "2dadd1d1",
   "metadata": {},
   "outputs": [
    {
     "data": {
      "text/plain": [
       "array([[1, 2, 3],\n",
       "       [4, 5, 6],\n",
       "       [7, 8, 9]])"
      ]
     },
     "execution_count": 3,
     "metadata": {},
     "output_type": "execute_result"
    }
   ],
   "source": [
    "my_matrix = [[1, 2, 3],[4, 5, 6],[7, 8, 9]]\n",
    "\n",
    "np.array(my_matrix)"
   ]
  },
  {
   "cell_type": "markdown",
   "id": "238dbcc7",
   "metadata": {},
   "source": [
    "* You can also expand NumPy arrays to deal with three-, four-, five-, six- or higher-dimensional arrays, but they are rare and largely outside the scope of this course (after all, this is a course on Python programming, not linear algebra).\n",
    "\n",
    "### **NumPy Arrays: Built-In Methods**\n",
    "* NumPy arrays come with a number of useful built-in methods. We will spend the rest of this section discussing these methods in detail.\n",
    "\n",
    "### **How To Get A Range Of Numbers in Python Using NumPy?**\n",
    "* NumPy has a useful method called arange that takes in two numbers and gives you an array of integers that are **greater than or equal to (>=) the first number and less than (<) the second number**.\n",
    "\n",
    "* An example of the arange method is below."
   ]
  },
  {
   "cell_type": "code",
   "execution_count": 4,
   "id": "f4ffc014",
   "metadata": {},
   "outputs": [
    {
     "data": {
      "text/plain": [
       "array([0, 1, 2, 3, 4])"
      ]
     },
     "execution_count": 4,
     "metadata": {},
     "output_type": "execute_result"
    }
   ],
   "source": [
    "np.arange(0,5)\n",
    "\n",
    "#Returns array([0, 1, 2, 3, 4])"
   ]
  },
  {
   "cell_type": "markdown",
   "id": "7558c992",
   "metadata": {},
   "source": [
    "* You can also include a third variable in the arange method that provides a **step-size** for the function to return. Passing in **2** as the third variable will return every 2nd number in the range, passing in 5 as the third variable will return every 5th number in the range, and so on.\n",
    "\n",
    "* An example of using the third variable in the arange method is below."
   ]
  },
  {
   "cell_type": "code",
   "execution_count": 5,
   "id": "180f0889",
   "metadata": {},
   "outputs": [
    {
     "data": {
      "text/plain": [
       "array([1, 3, 5, 7, 9])"
      ]
     },
     "execution_count": 5,
     "metadata": {},
     "output_type": "execute_result"
    }
   ],
   "source": [
    "np.arange(1,11,2)\n",
    "\n",
    "#Returns array([1, 3, 5, 7, 9])"
   ]
  },
  {
   "cell_type": "markdown",
   "id": "6252e4c1",
   "metadata": {},
   "source": [
    "### **How To Generates Ones and Zeros in Python Using NumPy?**\n",
    "* While programming, you will from time to time need to create arrays of **ones or zeros**. NumPy has built-in methods that allow you to do either of these.\n",
    "\n",
    "* We can create arrays of zeros using NumPy’s **zeros method**. You pass in the number of integers you’d like to create as the argument of the function. An example is below."
   ]
  },
  {
   "cell_type": "code",
   "execution_count": 12,
   "id": "fee95251",
   "metadata": {},
   "outputs": [
    {
     "data": {
      "text/plain": [
       "array([0., 0., 0., 0.])"
      ]
     },
     "execution_count": 12,
     "metadata": {},
     "output_type": "execute_result"
    }
   ],
   "source": [
    "np.zeros(4)\n",
    "\n",
    "#Returns array([0, 0, 0, 0])"
   ]
  },
  {
   "cell_type": "markdown",
   "id": "abd4c2d6",
   "metadata": {},
   "source": [
    "* You can also do something similar using **three-dimensional** arrays. For example, **np.zeros(5, 5)** creates a **5x5** matrix that contains all zeros.\n",
    "\n",
    "* We can create arrays of ones using a similar method named **ones**. An example is below."
   ]
  },
  {
   "cell_type": "code",
   "execution_count": 10,
   "id": "72aa2f25",
   "metadata": {},
   "outputs": [
    {
     "data": {
      "text/plain": [
       "array([1., 1., 1., 1., 1.])"
      ]
     },
     "execution_count": 10,
     "metadata": {},
     "output_type": "execute_result"
    }
   ],
   "source": [
    "np.ones(5)\n",
    "\n",
    "#Returns array([1, 1, 1, 1, 1])"
   ]
  },
  {
   "cell_type": "code",
   "execution_count": 13,
   "id": "09c5b296",
   "metadata": {},
   "outputs": [
    {
     "data": {
      "text/plain": [
       "array([[0., 0., 0., 0., 0.],\n",
       "       [0., 0., 0., 0., 0.],\n",
       "       [0., 0., 0., 0., 0.],\n",
       "       [0., 0., 0., 0., 0.],\n",
       "       [0., 0., 0., 0., 0.]])"
      ]
     },
     "execution_count": 13,
     "metadata": {},
     "output_type": "execute_result"
    }
   ],
   "source": [
    "np.zeros([5,5])"
   ]
  },
  {
   "cell_type": "code",
   "execution_count": 14,
   "id": "a43e1595",
   "metadata": {},
   "outputs": [
    {
     "data": {
      "text/plain": [
       "array([[1., 1., 1., 1., 1.],\n",
       "       [1., 1., 1., 1., 1.],\n",
       "       [1., 1., 1., 1., 1.],\n",
       "       [1., 1., 1., 1., 1.],\n",
       "       [1., 1., 1., 1., 1.]])"
      ]
     },
     "execution_count": 14,
     "metadata": {},
     "output_type": "execute_result"
    }
   ],
   "source": [
    "np.ones([5,5])"
   ]
  },
  {
   "cell_type": "code",
   "execution_count": 15,
   "id": "6966e3a0",
   "metadata": {},
   "outputs": [
    {
     "data": {
      "text/plain": [
       "array([[0., 0., 0., 0., 0.],\n",
       "       [0., 0., 0., 0., 0.],\n",
       "       [0., 0., 0., 0., 0.],\n",
       "       [0., 0., 0., 0., 0.],\n",
       "       [0., 0., 0., 0., 0.]])"
      ]
     },
     "execution_count": 15,
     "metadata": {},
     "output_type": "execute_result"
    }
   ],
   "source": [
    "np.zeros([5,5],dtype=\"float\")"
   ]
  },
  {
   "cell_type": "code",
   "execution_count": 16,
   "id": "5c4d971b",
   "metadata": {},
   "outputs": [
    {
     "data": {
      "text/plain": [
       "array([[1., 1., 1., 1., 1.],\n",
       "       [1., 1., 1., 1., 1.],\n",
       "       [1., 1., 1., 1., 1.],\n",
       "       [1., 1., 1., 1., 1.],\n",
       "       [1., 1., 1., 1., 1.]])"
      ]
     },
     "execution_count": 16,
     "metadata": {},
     "output_type": "execute_result"
    }
   ],
   "source": [
    "np.ones([5,5],dtype=\"float\")"
   ]
  },
  {
   "cell_type": "markdown",
   "id": "941291e5",
   "metadata": {},
   "source": [
    "### **How To Evenly Divide A Range Of Numbers In Python Using NumPy?**\n",
    "* There are many situations in which you have a **range** of numbers and you would like to **equally divide** that range of numbers into intervals. \n",
    "* NumPy’s **linspace method** is designed to solve this problem. linspace takes in three arguments:\n",
    "\n",
    "    * The start of the interval\n",
    "    * The end of the interval\n",
    "    * The number of subintervals that you’d like the interval to be divided into"
   ]
  },
  {
   "cell_type": "code",
   "execution_count": 17,
   "id": "6c74f110",
   "metadata": {},
   "outputs": [
    {
     "data": {
      "text/plain": [
       "array([0.        , 0.11111111, 0.22222222, 0.33333333, 0.44444444,\n",
       "       0.55555556, 0.66666667, 0.77777778, 0.88888889, 1.        ])"
      ]
     },
     "execution_count": 17,
     "metadata": {},
     "output_type": "execute_result"
    }
   ],
   "source": [
    "np.linspace(0, 1, 10)\n",
    "\n",
    "#Returns array([0, 0.1, 0.2, 0.3, 0.4, 0.5, 0.6, 0.7, 0.8, 0.9, 1.0])"
   ]
  },
  {
   "cell_type": "markdown",
   "id": "781aa327",
   "metadata": {},
   "source": [
    "### **How To Create An Identity Matrix In Python Using NumPy?**\n",
    "* Anyone who has studied linear algebra will be familiar with the concept of an **‘identity matrix’**, which is a **square matrix whose diagonal values are all 1**. NumPy has a built-in function that takes in one argument for building identity matrices. The function is **eye.**\n",
    "\n",
    "* Examples are below:"
   ]
  },
  {
   "cell_type": "code",
   "execution_count": 20,
   "id": "ff800593",
   "metadata": {},
   "outputs": [
    {
     "name": "stdout",
     "output_type": "stream",
     "text": [
      "[[1.]] \n",
      "\n",
      "[[1. 0.]\n",
      " [0. 1.]] \n",
      "\n",
      "[[1. 0. 0. ... 0. 0. 0.]\n",
      " [0. 1. 0. ... 0. 0. 0.]\n",
      " [0. 0. 1. ... 0. 0. 0.]\n",
      " ...\n",
      " [0. 0. 0. ... 1. 0. 0.]\n",
      " [0. 0. 0. ... 0. 1. 0.]\n",
      " [0. 0. 0. ... 0. 0. 1.]] \n",
      "\n"
     ]
    }
   ],
   "source": [
    "print(np.eye(1),\"\\n\")\n",
    "\n",
    "#Returns a 1x1 identity matrix\n",
    "\n",
    "print(np.eye(2),\"\\n\") \n",
    "\n",
    "#Returns a 2x2 identity matrix\n",
    "\n",
    "print(np.eye(50),\"\\n\")\n",
    "\n",
    "#Returns a 50x50 identity matrix"
   ]
  },
  {
   "cell_type": "markdown",
   "id": "b83fe008",
   "metadata": {},
   "source": [
    "### **How To Create Random Numbers in Python Using NumPy?**\n",
    "* NumPy has a number of methods built-in that allow you to create arrays of random numbers. \n",
    "* Each of these methods starts with random. \n",
    "* A few examples are below:"
   ]
  },
  {
   "cell_type": "code",
   "execution_count": 23,
   "id": "fc3ada23",
   "metadata": {},
   "outputs": [
    {
     "data": {
      "text/plain": [
       "array([0.22902452, 0.46426105, 0.8882411 , 0.73108086, 0.5853537 ])"
      ]
     },
     "execution_count": 23,
     "metadata": {},
     "output_type": "execute_result"
    }
   ],
   "source": [
    "#np.random.rand(sample_size)\n",
    "np.random.rand(5)\n",
    "\n",
    "#Returns a sample of random numbers between 0 and 1.\n",
    "\n",
    "#Sample size can either be one integer (for a one-dimensional array) or two integers separated by commas (for a two-dimensional array).\n",
    "\n",
    "\n",
    "\n"
   ]
  },
  {
   "cell_type": "code",
   "execution_count": 24,
   "id": "d18fb57d",
   "metadata": {},
   "outputs": [
    {
     "data": {
      "text/plain": [
       "array([-2.00418236,  0.76809455, -0.5176424 , -0.92817779, -0.33696383])"
      ]
     },
     "execution_count": 24,
     "metadata": {},
     "output_type": "execute_result"
    }
   ],
   "source": [
    "#np.random.randn(sample_size)\n",
    "np.random.randn(5)\n",
    "#Returns a sample of random numbers between 0 and 1, following the normal distribution.\n",
    "\n",
    "#Sample size can either be one integer (for a one-dimensional array) or two integers separated by commas (for a two-dimensional array)."
   ]
  },
  {
   "cell_type": "code",
   "execution_count": 25,
   "id": "de55d2d7",
   "metadata": {},
   "outputs": [
    {
     "data": {
      "text/plain": [
       "array([5, 5, 9, 5, 2])"
      ]
     },
     "execution_count": 25,
     "metadata": {},
     "output_type": "execute_result"
    }
   ],
   "source": [
    "#np.random.randint(low, high, sample_size)\n",
    "np.random.randint(2, 10, 5)\n",
    "#Returns a sample of integers that are greater than or equal to 'low' and less than 'high'"
   ]
  },
  {
   "cell_type": "markdown",
   "id": "7a0ab2d3",
   "metadata": {},
   "source": [
    "### **How To Reshape NumPy Arrays?**\n",
    "* It is very common to take an array with **certain dimensions** and transform that array into a different shape. For example, you might have a **one-dimensional array with 10 elements and want to switch it to a 2x5 two-dimensional array**.\n",
    "\n",
    "* An example is below:"
   ]
  },
  {
   "cell_type": "code",
   "execution_count": 26,
   "id": "3342ab01",
   "metadata": {},
   "outputs": [
    {
     "data": {
      "text/plain": [
       "array([[0, 1, 2],\n",
       "       [3, 4, 5]])"
      ]
     },
     "execution_count": 26,
     "metadata": {},
     "output_type": "execute_result"
    }
   ],
   "source": [
    "arr = np.array([0,1,2,3,4,5])\n",
    "\n",
    "arr.reshape(2,3)"
   ]
  },
  {
   "cell_type": "markdown",
   "id": "a8147a46",
   "metadata": {},
   "source": [
    "* **Note** that in order to use the **reshape** method, the **original** array must have the **same number** of elements as the array that you’re trying to reshape it into.\n",
    "\n",
    "* If you’re curious about the current **shape** of a NumPy array, you can determine its shape using **NumPy’s shape attribute**. Using our previous **arr** variable structure, an example of how to call the shape attribute is below:"
   ]
  },
  {
   "cell_type": "code",
   "execution_count": 28,
   "id": "cdeb8a9d",
   "metadata": {},
   "outputs": [
    {
     "name": "stdout",
     "output_type": "stream",
     "text": [
      "(6,) \n",
      "\n"
     ]
    },
    {
     "data": {
      "text/plain": [
       "(2, 3)"
      ]
     },
     "execution_count": 28,
     "metadata": {},
     "output_type": "execute_result"
    }
   ],
   "source": [
    "arr = np.array([0,1,2,3,4,5])\n",
    "\n",
    "print(arr.shape,\"\\n\")\n",
    "\n",
    "#Returns (6,) - note that there is no second element since it is a one-dimensional array\n",
    "\n",
    "arr = arr.reshape(2,3)\n",
    "\n",
    "arr.shape\n",
    "\n",
    "#Returns (2,3)"
   ]
  },
  {
   "cell_type": "code",
   "execution_count": 29,
   "id": "d8e6414a",
   "metadata": {},
   "outputs": [
    {
     "data": {
      "text/plain": [
       "(2, 3)"
      ]
     },
     "execution_count": 29,
     "metadata": {},
     "output_type": "execute_result"
    }
   ],
   "source": [
    "#You can also combine the reshape method with the shape attribute on one line like this:\n",
    "arr.reshape(2,3).shape\n",
    "\n",
    "#Returns (2,3)"
   ]
  },
  {
   "cell_type": "markdown",
   "id": "fd14b465",
   "metadata": {},
   "source": [
    "### **How To Find The Maximum and Minimum Value Of A NumPy Array?**\n",
    "* To conclude this section, let’s learn about four useful methods for identifying the **maximum and minimum** values within a NumPy array. We’ll be working with this array:"
   ]
  },
  {
   "cell_type": "code",
   "execution_count": 35,
   "id": "8c211af1",
   "metadata": {},
   "outputs": [
    {
     "data": {
      "text/plain": [
       "array([1, 2, 3, 4])"
      ]
     },
     "execution_count": 35,
     "metadata": {},
     "output_type": "execute_result"
    }
   ],
   "source": [
    "simple_array = [1, 2, 3, 4]\n",
    "n=np.array(simple_array)\n",
    "n"
   ]
  },
  {
   "cell_type": "code",
   "execution_count": 36,
   "id": "ba356fbc",
   "metadata": {},
   "outputs": [
    {
     "data": {
      "text/plain": [
       "4"
      ]
     },
     "execution_count": 36,
     "metadata": {},
     "output_type": "execute_result"
    }
   ],
   "source": [
    "n.max()\n",
    "\n",
    "#Returns 4"
   ]
  },
  {
   "cell_type": "markdown",
   "id": "8a3f0016",
   "metadata": {},
   "source": [
    "* We can also use the **argmax method** to find the index of the maximum value within a NumPy array. This is useful for when you want to find the **location** of the maximum value but you do not necessarily care what its value is.\n",
    "\n",
    "* An example is below."
   ]
  },
  {
   "cell_type": "code",
   "execution_count": 38,
   "id": "383e2c93",
   "metadata": {},
   "outputs": [
    {
     "data": {
      "text/plain": [
       "3"
      ]
     },
     "execution_count": 38,
     "metadata": {},
     "output_type": "execute_result"
    }
   ],
   "source": [
    "n.argmax()\n",
    "\n",
    "#Returns 3"
   ]
  },
  {
   "cell_type": "markdown",
   "id": "70f511d0",
   "metadata": {},
   "source": [
    "* Similarly, we can use the **min** and **argmin methods** to find the value and index of the minimum value within a NumPy array."
   ]
  },
  {
   "cell_type": "code",
   "execution_count": 40,
   "id": "167526b0",
   "metadata": {},
   "outputs": [
    {
     "data": {
      "text/plain": [
       "1"
      ]
     },
     "execution_count": 40,
     "metadata": {},
     "output_type": "execute_result"
    }
   ],
   "source": [
    "n.min()\n",
    "\n",
    "#Returns 1"
   ]
  },
  {
   "cell_type": "code",
   "execution_count": 42,
   "id": "1b43b33e",
   "metadata": {},
   "outputs": [
    {
     "data": {
      "text/plain": [
       "0"
      ]
     },
     "execution_count": 42,
     "metadata": {},
     "output_type": "execute_result"
    }
   ],
   "source": [
    "n.argmin()\n",
    "\n",
    "#Returns 0"
   ]
  },
  {
   "cell_type": "markdown",
   "id": "0706d9f9",
   "metadata": {},
   "source": [
    "### **NumPy Methods and Operations**\n"
   ]
  },
  {
   "cell_type": "code",
   "execution_count": 2,
   "id": "e8cd4950",
   "metadata": {},
   "outputs": [
    {
     "data": {
      "text/plain": [
       "array([0, 1, 2, 3])"
      ]
     },
     "execution_count": 2,
     "metadata": {},
     "output_type": "execute_result"
    }
   ],
   "source": [
    "import numpy as np\n",
    "#let's create an array of length 4 created using np.arange\n",
    "arr = np.arange(4)\n",
    "\n",
    "arr"
   ]
  },
  {
   "cell_type": "markdown",
   "id": "987f6613",
   "metadata": {},
   "source": [
    "#### **How To Perform Arithmetic In Python Using Number?**\n",
    "* **NumPy** makes it very easy to perform arithmetic with arrays. \n",
    "* You can either perform arithmetic using the array and a single number, or you can perform arithmetic between two NumPy arrays.\n",
    "\n",
    "* **Addition**\n",
    "    * When adding a single number to a NumPy array, that number is added to each element in the array. An example is below:"
   ]
  },
  {
   "cell_type": "code",
   "execution_count": 3,
   "id": "d98d632c",
   "metadata": {},
   "outputs": [
    {
     "data": {
      "text/plain": [
       "array([2, 3, 4, 5])"
      ]
     },
     "execution_count": 3,
     "metadata": {},
     "output_type": "execute_result"
    }
   ],
   "source": [
    "2 + arr"
   ]
  },
  {
   "cell_type": "code",
   "execution_count": 4,
   "id": "81c46842",
   "metadata": {},
   "outputs": [
    {
     "data": {
      "text/plain": [
       "array([0, 2, 4, 6])"
      ]
     },
     "execution_count": 4,
     "metadata": {},
     "output_type": "execute_result"
    }
   ],
   "source": [
    "arr + arr"
   ]
  },
  {
   "cell_type": "markdown",
   "id": "c9e6411a",
   "metadata": {},
   "source": [
    "* **Subtraction**\n",
    "    * Like addition, subtraction is performed on an element-by-element basis for NumPy arrays. "
   ]
  },
  {
   "cell_type": "code",
   "execution_count": 5,
   "id": "ad343b16",
   "metadata": {},
   "outputs": [
    {
     "data": {
      "text/plain": [
       "array([-10,  -9,  -8,  -7])"
      ]
     },
     "execution_count": 5,
     "metadata": {},
     "output_type": "execute_result"
    }
   ],
   "source": [
    "arr - 10"
   ]
  },
  {
   "cell_type": "code",
   "execution_count": 6,
   "id": "30005e29",
   "metadata": {},
   "outputs": [
    {
     "data": {
      "text/plain": [
       "array([0, 0, 0, 0])"
      ]
     },
     "execution_count": 6,
     "metadata": {},
     "output_type": "execute_result"
    }
   ],
   "source": [
    "arr - arr"
   ]
  },
  {
   "cell_type": "markdown",
   "id": "421eebc9",
   "metadata": {},
   "source": [
    "* **Multiplication**\n",
    "    * Multiplication is also performed on an element-by-element basis for both single numbers and NumPy arrays."
   ]
  },
  {
   "cell_type": "code",
   "execution_count": 7,
   "id": "17693b08",
   "metadata": {},
   "outputs": [
    {
     "data": {
      "text/plain": [
       "array([ 0,  6, 12, 18])"
      ]
     },
     "execution_count": 7,
     "metadata": {},
     "output_type": "execute_result"
    }
   ],
   "source": [
    "6 * arr"
   ]
  },
  {
   "cell_type": "code",
   "execution_count": 8,
   "id": "60eb757a",
   "metadata": {},
   "outputs": [
    {
     "data": {
      "text/plain": [
       "array([0, 1, 4, 9])"
      ]
     },
     "execution_count": 8,
     "metadata": {},
     "output_type": "execute_result"
    }
   ],
   "source": [
    "arr * arr"
   ]
  },
  {
   "cell_type": "markdown",
   "id": "c44117b7",
   "metadata": {},
   "source": [
    "* **Division**\n",
    "    * By this point, you’re probably not surprised to learn that division performed on NumPy arrays is done on an element-by-element basis.\n",
    "    * Division does have one notable exception compared to the other mathematical operations we have seen in this section. Since we cannot divide by zero, doing so will cause the corresponding field to be populated by a **nan** value, which is Python shorthand for **“Not A Number”**. "
   ]
  },
  {
   "cell_type": "code",
   "execution_count": 9,
   "id": "dac7ecba",
   "metadata": {},
   "outputs": [
    {
     "data": {
      "text/plain": [
       "array([0. , 0.5, 1. , 1.5])"
      ]
     },
     "execution_count": 9,
     "metadata": {},
     "output_type": "execute_result"
    }
   ],
   "source": [
    "arr / 2"
   ]
  },
  {
   "cell_type": "code",
   "execution_count": 10,
   "id": "32799eec",
   "metadata": {},
   "outputs": [
    {
     "name": "stderr",
     "output_type": "stream",
     "text": [
      "C:\\Users\\dnc11\\AppData\\Local\\Temp\\ipykernel_19468\\3942562399.py:1: RuntimeWarning: divide by zero encountered in true_divide\n",
      "  arr / 0\n",
      "C:\\Users\\dnc11\\AppData\\Local\\Temp\\ipykernel_19468\\3942562399.py:1: RuntimeWarning: invalid value encountered in true_divide\n",
      "  arr / 0\n"
     ]
    },
    {
     "data": {
      "text/plain": [
       "array([nan, inf, inf, inf])"
      ]
     },
     "execution_count": 10,
     "metadata": {},
     "output_type": "execute_result"
    }
   ],
   "source": [
    "arr / 0"
   ]
  },
  {
   "cell_type": "code",
   "execution_count": 11,
   "id": "71ec516c",
   "metadata": {},
   "outputs": [
    {
     "name": "stderr",
     "output_type": "stream",
     "text": [
      "C:\\Users\\dnc11\\AppData\\Local\\Temp\\ipykernel_19468\\3001117470.py:1: RuntimeWarning: invalid value encountered in true_divide\n",
      "  arr / arr\n"
     ]
    },
    {
     "data": {
      "text/plain": [
       "array([nan,  1.,  1.,  1.])"
      ]
     },
     "execution_count": 11,
     "metadata": {},
     "output_type": "execute_result"
    }
   ],
   "source": [
    "arr / arr"
   ]
  },
  {
   "cell_type": "markdown",
   "id": "84b4ed77",
   "metadata": {},
   "source": [
    "### **Complex Operations in NumPy Arrays**\n",
    "* Many operations cannot simply be performed by applying the normal syntax to a NumPy array. \n",
    "* **How To Calculate Square Roots Using NumPy?**"
   ]
  },
  {
   "cell_type": "code",
   "execution_count": 12,
   "id": "1b653a6d",
   "metadata": {},
   "outputs": [
    {
     "data": {
      "text/plain": [
       "array([0.        , 1.        , 1.41421356, 1.73205081])"
      ]
     },
     "execution_count": 12,
     "metadata": {},
     "output_type": "execute_result"
    }
   ],
   "source": [
    "np.sqrt(arr)"
   ]
  },
  {
   "cell_type": "code",
   "execution_count": 13,
   "id": "fb98b060",
   "metadata": {},
   "outputs": [
    {
     "data": {
      "text/plain": [
       "array([ 1.        ,  2.71828183,  7.3890561 , 20.08553692])"
      ]
     },
     "execution_count": 13,
     "metadata": {},
     "output_type": "execute_result"
    }
   ],
   "source": [
    "#exponential\n",
    "np.exp(arr)"
   ]
  },
  {
   "cell_type": "code",
   "execution_count": 14,
   "id": "1f9caf1e",
   "metadata": {},
   "outputs": [
    {
     "data": {
      "text/plain": [
       "array([0.        , 0.84147098, 0.90929743, 0.14112001])"
      ]
     },
     "execution_count": 14,
     "metadata": {},
     "output_type": "execute_result"
    }
   ],
   "source": [
    "#sine function\n",
    "np.sin(arr)"
   ]
  },
  {
   "cell_type": "code",
   "execution_count": 15,
   "id": "cd037ffb",
   "metadata": {},
   "outputs": [
    {
     "data": {
      "text/plain": [
       "array([ 1.        ,  0.54030231, -0.41614684, -0.9899925 ])"
      ]
     },
     "execution_count": 15,
     "metadata": {},
     "output_type": "execute_result"
    }
   ],
   "source": [
    "#cosine function\n",
    "np.cos(arr)"
   ]
  },
  {
   "cell_type": "code",
   "execution_count": 16,
   "id": "14b5b8d0",
   "metadata": {},
   "outputs": [
    {
     "name": "stderr",
     "output_type": "stream",
     "text": [
      "C:\\Users\\dnc11\\AppData\\Local\\Temp\\ipykernel_19468\\658679444.py:2: RuntimeWarning: divide by zero encountered in log\n",
      "  np.log(arr)\n"
     ]
    },
    {
     "data": {
      "text/plain": [
       "array([      -inf, 0.        , 0.69314718, 1.09861229])"
      ]
     },
     "execution_count": 16,
     "metadata": {},
     "output_type": "execute_result"
    }
   ],
   "source": [
    "#logarithmic\n",
    "np.log(arr)"
   ]
  },
  {
   "cell_type": "markdown",
   "id": "4394c204",
   "metadata": {},
   "source": [
    "### **NumPy Indexing and Assignment**"
   ]
  },
  {
   "cell_type": "code",
   "execution_count": 17,
   "id": "6c7434eb",
   "metadata": {},
   "outputs": [],
   "source": [
    "#As before, I will be using a specific array through this section. This time it will be generated using the np.random.rand method.\n",
    "arr = np.random.rand(5)"
   ]
  },
  {
   "cell_type": "markdown",
   "id": "194f8382",
   "metadata": {},
   "source": [
    "* To make this array easier to look at, I will round every element of the array to 2 decimal places using NumPy’s **round** method:"
   ]
  },
  {
   "cell_type": "code",
   "execution_count": 19,
   "id": "d5ba333b",
   "metadata": {},
   "outputs": [
    {
     "data": {
      "text/plain": [
       "array([0.  , 0.14, 0.03, 0.29, 0.41])"
      ]
     },
     "execution_count": 19,
     "metadata": {},
     "output_type": "execute_result"
    }
   ],
   "source": [
    "arr = np.round(arr, 2)\n",
    "arr"
   ]
  },
  {
   "cell_type": "markdown",
   "id": "0685925a",
   "metadata": {},
   "source": [
    "* **How To Return A Specific Element From A NumPy Array?**\n",
    "    * We can select (and return) a specific element from a NumPy array in the same way that we could using a normal Python list: using square brackets."
   ]
  },
  {
   "cell_type": "code",
   "execution_count": 20,
   "id": "9ac36055",
   "metadata": {},
   "outputs": [
    {
     "data": {
      "text/plain": [
       "0.0"
      ]
     },
     "execution_count": 20,
     "metadata": {},
     "output_type": "execute_result"
    }
   ],
   "source": [
    "arr[0]"
   ]
  },
  {
   "cell_type": "markdown",
   "id": "970500d5",
   "metadata": {},
   "source": [
    "* We can also reference multiple elements of a NumPy array using the colon operator. For example, the index [2:] selects every element from index 2 onwards. The index [:3] selects every element up to and excluding index 3. The index [2:4] returns every element from index 2 to index 4, excluding index 4. The higher endpoint is always excluded."
   ]
  },
  {
   "cell_type": "code",
   "execution_count": 21,
   "id": "d5ac6ff7",
   "metadata": {},
   "outputs": [
    {
     "data": {
      "text/plain": [
       "array([0.  , 0.14, 0.03, 0.29, 0.41])"
      ]
     },
     "execution_count": 21,
     "metadata": {},
     "output_type": "execute_result"
    }
   ],
   "source": [
    "arr[:]"
   ]
  },
  {
   "cell_type": "code",
   "execution_count": 22,
   "id": "a5febef5",
   "metadata": {},
   "outputs": [
    {
     "data": {
      "text/plain": [
       "array([0.14, 0.03, 0.29, 0.41])"
      ]
     },
     "execution_count": 22,
     "metadata": {},
     "output_type": "execute_result"
    }
   ],
   "source": [
    "arr[1:]"
   ]
  },
  {
   "cell_type": "code",
   "execution_count": 23,
   "id": "d60e0610",
   "metadata": {},
   "outputs": [
    {
     "data": {
      "text/plain": [
       "array([0.14, 0.03, 0.29])"
      ]
     },
     "execution_count": 23,
     "metadata": {},
     "output_type": "execute_result"
    }
   ],
   "source": [
    "arr[1:4] "
   ]
  },
  {
   "cell_type": "markdown",
   "id": "525d04c0",
   "metadata": {},
   "source": [
    "#### **Element Assignment in NumPy Arrays**\n",
    "* We can assign new values to an element of a NumPy array using the **=** operator, just like regular python lists."
   ]
  },
  {
   "cell_type": "code",
   "execution_count": 26,
   "id": "eda87a0e",
   "metadata": {},
   "outputs": [
    {
     "data": {
      "text/plain": [
       "array([0.12, 0.94, 0.66, 0.73, 0.83])"
      ]
     },
     "execution_count": 26,
     "metadata": {},
     "output_type": "execute_result"
    }
   ],
   "source": [
    "arr=np.array([0.12, 0.94, 0.66, 0.73, 0.83])\n",
    "arr"
   ]
  },
  {
   "cell_type": "code",
   "execution_count": 27,
   "id": "cd95b155",
   "metadata": {},
   "outputs": [
    {
     "data": {
      "text/plain": [
       "array([0., 0., 0., 0., 0.])"
      ]
     },
     "execution_count": 27,
     "metadata": {},
     "output_type": "execute_result"
    }
   ],
   "source": [
    "arr[:] = 0\n",
    "arr"
   ]
  },
  {
   "cell_type": "code",
   "execution_count": 28,
   "id": "d45eb133",
   "metadata": {},
   "outputs": [
    {
     "data": {
      "text/plain": [
       "array([0. , 0. , 0.5, 0.5, 0.5])"
      ]
     },
     "execution_count": 28,
     "metadata": {},
     "output_type": "execute_result"
    }
   ],
   "source": [
    "arr[2:5] = 0.5\n",
    "arr"
   ]
  },
  {
   "cell_type": "markdown",
   "id": "5dc91f30",
   "metadata": {},
   "source": [
    "#### **Array Referencing in NumPy**\n",
    "* NumPy makes use of a concept called **‘array referencing’** which is a very common source of confusion for people that are new to the library."
   ]
  },
  {
   "cell_type": "code",
   "execution_count": 31,
   "id": "5121be5c",
   "metadata": {},
   "outputs": [
    {
     "data": {
      "text/plain": [
       "array([6, 7, 8, 9])"
      ]
     },
     "execution_count": 31,
     "metadata": {},
     "output_type": "execute_result"
    }
   ],
   "source": [
    "new_array = np.array([6, 7, 8, 9])\n",
    "new_array"
   ]
  },
  {
   "cell_type": "code",
   "execution_count": 32,
   "id": "d35d8196",
   "metadata": {},
   "outputs": [
    {
     "data": {
      "text/plain": [
       "array([6, 7])"
      ]
     },
     "execution_count": 32,
     "metadata": {},
     "output_type": "execute_result"
    }
   ],
   "source": [
    "second_new_array = new_array[0:2]\n",
    "second_new_array"
   ]
  },
  {
   "cell_type": "code",
   "execution_count": 33,
   "id": "e9a2ac8b",
   "metadata": {},
   "outputs": [
    {
     "data": {
      "text/plain": [
       "array([6, 4])"
      ]
     },
     "execution_count": 33,
     "metadata": {},
     "output_type": "execute_result"
    }
   ],
   "source": [
    "second_new_array[1] = 4\n",
    "second_new_array"
   ]
  },
  {
   "cell_type": "code",
   "execution_count": 34,
   "id": "b5dd6d0f",
   "metadata": {},
   "outputs": [
    {
     "data": {
      "text/plain": [
       "array([6, 4, 8, 9])"
      ]
     },
     "execution_count": 34,
     "metadata": {},
     "output_type": "execute_result"
    }
   ],
   "source": [
    "new_array"
   ]
  },
  {
   "cell_type": "markdown",
   "id": "f786dcb7",
   "metadata": {},
   "source": [
    "* As you can see, modifying second_new_array also changed the value of new_array\n",
    "#### **Why is this?**\n",
    "    * By default, NumPy does not create a **copy** of an array when you reference the original array variable using the **=** assignment operator. \n",
    "    * Instead, it simply points the **new variable to the old variable**, which allows the second variable to make modification to the original variable - even if this is not your intention.\n",
    "\n",
    "    * This may seem bizarre, but it does have a **logical** explanation. The purpose of array referencing is to conserve computing power. When working with **large data sets**, you would quickly **run out of RAM** if you created a new array every time you wanted to work with a slice of the array.\n",
    "\n",
    "    * Fortunately, there is a workaround to array referencing. You can use the copy method to explicitly **copy a NumPy array**."
   ]
  },
  {
   "cell_type": "code",
   "execution_count": 36,
   "id": "d10c908e",
   "metadata": {},
   "outputs": [
    {
     "data": {
      "text/plain": [
       "array([1, 2, 3])"
      ]
     },
     "execution_count": 36,
     "metadata": {},
     "output_type": "execute_result"
    }
   ],
   "source": [
    "#An example of this is below.\n",
    "array_to_copy = np.array([1, 2, 3])\n",
    "copied_array = array_to_copy.copy()\n",
    "array_to_copy"
   ]
  },
  {
   "cell_type": "code",
   "execution_count": 37,
   "id": "ef75d0f3",
   "metadata": {},
   "outputs": [
    {
     "data": {
      "text/plain": [
       "array([1, 2, 3])"
      ]
     },
     "execution_count": 37,
     "metadata": {},
     "output_type": "execute_result"
    }
   ],
   "source": [
    "copied_array"
   ]
  },
  {
   "cell_type": "markdown",
   "id": "eca7079f",
   "metadata": {},
   "source": [
    "* As you can see below, making modifications to the copied array does not alter the original."
   ]
  },
  {
   "cell_type": "code",
   "execution_count": 38,
   "id": "9ead9906",
   "metadata": {},
   "outputs": [],
   "source": [
    "copied_array[0] = 9"
   ]
  },
  {
   "cell_type": "code",
   "execution_count": 39,
   "id": "3a4fc900",
   "metadata": {},
   "outputs": [
    {
     "data": {
      "text/plain": [
       "array([9, 2, 3])"
      ]
     },
     "execution_count": 39,
     "metadata": {},
     "output_type": "execute_result"
    }
   ],
   "source": [
    "copied_array\n"
   ]
  },
  {
   "cell_type": "code",
   "execution_count": 40,
   "id": "73b09872",
   "metadata": {},
   "outputs": [
    {
     "data": {
      "text/plain": [
       "array([1, 2, 3])"
      ]
     },
     "execution_count": 40,
     "metadata": {},
     "output_type": "execute_result"
    }
   ],
   "source": [
    "array_to_copy"
   ]
  },
  {
   "cell_type": "markdown",
   "id": "c9214ec5",
   "metadata": {},
   "source": [
    "### **Indexing Two-Dimensional NumPy Arrays**\n",
    "* To start, let’s create a **two-dimensional** NumPy array named mat:"
   ]
  },
  {
   "cell_type": "code",
   "execution_count": 41,
   "id": "c4d1ae1e",
   "metadata": {},
   "outputs": [
    {
     "data": {
      "text/plain": [
       "array([[ 5, 10, 15],\n",
       "       [20, 25, 30],\n",
       "       [35, 40, 45]])"
      ]
     },
     "execution_count": 41,
     "metadata": {},
     "output_type": "execute_result"
    }
   ],
   "source": [
    "mat = np.array([[5, 10, 15],[20, 25, 30],[35, 40, 45]])\n",
    "mat"
   ]
  },
  {
   "attachments": {
    "image.png": {
     "image/png": "[encoded data removed]"
    }
   },
   "cell_type": "markdown",
   "id": "ede8373e",
   "metadata": {},
   "source": [
    "* There are two ways to index a two-dimensional NumPy array:\n",
    "![image.png](attachment:image.png)"
   ]
  },
  {
   "cell_type": "code",
   "execution_count": 42,
   "id": "167de253",
   "metadata": {},
   "outputs": [
    {
     "data": {
      "text/plain": [
       "array([ 5, 10, 15])"
      ]
     },
     "execution_count": 42,
     "metadata": {},
     "output_type": "execute_result"
    }
   ],
   "source": [
    "##First, let's get the first row:\n",
    "mat[0]"
   ]
  },
  {
   "cell_type": "code",
   "execution_count": 43,
   "id": "a883d997",
   "metadata": {},
   "outputs": [
    {
     "data": {
      "text/plain": [
       "15"
      ]
     },
     "execution_count": 43,
     "metadata": {},
     "output_type": "execute_result"
    }
   ],
   "source": [
    "#Next, let's get the last element of the first row:\n",
    "mat[0][-1]"
   ]
  },
  {
   "cell_type": "code",
   "execution_count": 44,
   "id": "bb51d234",
   "metadata": {},
   "outputs": [
    {
     "data": {
      "text/plain": [
       "array([[20, 25, 30],\n",
       "       [35, 40, 45]])"
      ]
     },
     "execution_count": 44,
     "metadata": {},
     "output_type": "execute_result"
    }
   ],
   "source": [
    "#You can also generate sub-matrices from a two-dimensional NumPy array using this notation:\n",
    "mat[1:][:2]"
   ]
  },
  {
   "cell_type": "markdown",
   "id": "ce40a3e9",
   "metadata": {},
   "source": [
    "* Array referencing also applies to two-dimensional arrays in NumPy, so be sure to use the copy method if you want to avoid inadvertently modifying an original array after saving a slice of it into a new variable name.\n",
    "#### **Conditional Selection Using NumPy Arrays**\n",
    "    * NumPy arrays support a feature called **conditional selection**, which allows you to generate a new array of **boolean values** that state whether each element within the array satisfies a particular if statement."
   ]
  },
  {
   "cell_type": "code",
   "execution_count": 45,
   "id": "56247b7b",
   "metadata": {},
   "outputs": [
    {
     "data": {
      "text/plain": [
       "array([False,  True, False,  True,  True])"
      ]
     },
     "execution_count": 45,
     "metadata": {},
     "output_type": "execute_result"
    }
   ],
   "source": [
    "arr = np.array([0.69, 0.94, 0.66, 0.73, 0.83])\n",
    "\n",
    "arr > 0.7"
   ]
  },
  {
   "cell_type": "markdown",
   "id": "8f0c8592",
   "metadata": {},
   "source": [
    "* You can also generate a new array of values that satisfy this condition by passing the condition into the square brackets (just like we do for indexing)."
   ]
  },
  {
   "cell_type": "code",
   "execution_count": 46,
   "id": "9b79917d",
   "metadata": {},
   "outputs": [
    {
     "data": {
      "text/plain": [
       "array([0.94, 0.73, 0.83])"
      ]
     },
     "execution_count": 46,
     "metadata": {},
     "output_type": "execute_result"
    }
   ],
   "source": [
    "arr[arr > 0.7]"
   ]
  },
  {
   "cell_type": "code",
   "execution_count": null,
   "id": "cf4f03f4",
   "metadata": {},
   "outputs": [],
   "source": []
  }
 ],
 "metadata": {
  "kernelspec": {
   "display_name": "Python 3 (ipykernel)",
   "language": "python",
   "name": "python3"
  },
  "language_info": {
   "codemirror_mode": {
    "name": "ipython",
    "version": 3
   },
   "file_extension": ".py",
   "mimetype": "text/x-python",
   "name": "python",
   "nbconvert_exporter": "python",
   "pygments_lexer": "ipython3",
   "version": "3.10.4"
  }
 },
 "nbformat": 4,
 "nbformat_minor": 5
}
