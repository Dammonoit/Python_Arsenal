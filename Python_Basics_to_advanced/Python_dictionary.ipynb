{
  "cells": [
    {
      "cell_type": "markdown",
      "metadata": {
        "id": "YysiV4DaLJwX"
      },
      "source": [
        "# **Python Dictionary**\n",
        "\n",
        "# **Topics**\n",
        "\n",
        "- **Introduction** \n",
        "- **Accessing values in Dictionary**\n",
        "- **Adding new key-value pairs**\n",
        "- **Modifying values in a key-value pair**\n",
        "- **Removing key-value pairs**\n",
        "- **Looping through a dictionary**\n",
        "- **Built-in Dictionary Functions & Methods**\n",
        "- **Dictionary methods**\n",
        "- **Dictionary Comprehensions**\n",
        "\n",
        "## **Introduction**\n",
        "* Each key is separated from its value by a colon **(:)**, the items are separated by **commas**, and the whole thing is enclosed in curly braces. \n",
        "* An empty dictionary without any items is written with just two curly braces, like this: **{}**. Keys are unique within a dictionary while values may not be. \n",
        "* The values of a dictionary can be of any type, but the keys must be of an immutable data type such as **strings, numbers, or tuples.**\n"
      ]
    },
    {
      "cell_type": "code",
      "execution_count": null,
      "metadata": {
        "id": "wJHVwzx3LJwa",
        "outputId": "df88d288-a46e-4a89-b04d-1ee6e39bcab4"
      },
      "outputs": [
        {
          "name": "stdout",
          "output_type": "stream",
          "text": [
            "{}\n",
            "<class 'dict'>\n"
          ]
        }
      ],
      "source": [
        "d=dict() #empty dictionary\n",
        "print(d)\n",
        "print(type(d))"
      ]
    },
    {
      "cell_type": "code",
      "execution_count": null,
      "metadata": {
        "id": "ROB0Z_W-LJwc",
        "outputId": "ee6a490a-f62c-429a-924b-3028b34c7221"
      },
      "outputs": [
        {
          "data": {
            "text/plain": [
              "{}"
            ]
          },
          "execution_count": 4,
          "metadata": {},
          "output_type": "execute_result"
        }
      ],
      "source": [
        "d1={} #empty dictionary\n",
        "d"
      ]
    },
    {
      "cell_type": "code",
      "source": [
        "#The following example defines a dictionary with some key-value pairs:\n",
        "person = {\n",
        "    'first_name': 'John',\n",
        "    'last_name': 'Doe',\n",
        "    'age': 25,\n",
        "    'favorite_colors': ['blue', 'green'],\n",
        "    'active': True\n",
        "}\n",
        "type(person)"
      ],
      "metadata": {
        "colab": {
          "base_uri": "https://localhost:8080/"
        },
        "id": "GDHMWvJLN7kl",
        "outputId": "8f9893c5-3f22-48a8-987a-f87e876ac9f8"
      },
      "execution_count": 1,
      "outputs": [
        {
          "output_type": "execute_result",
          "data": {
            "text/plain": [
              "dict"
            ]
          },
          "metadata": {},
          "execution_count": 1
        }
      ]
    },
    {
      "cell_type": "code",
      "execution_count": null,
      "metadata": {
        "id": "gkf99HsdLJwd",
        "outputId": "05b32129-12ce-4dac-c046-4e7d472da0b4"
      },
      "outputs": [
        {
          "name": "stdout",
          "output_type": "stream",
          "text": [
            "a 2\n",
            "b 4\n"
          ]
        },
        {
          "data": {
            "text/plain": [
              "{'a': '2', 'b': '4'}"
            ]
          },
          "execution_count": 10,
          "metadata": {},
          "output_type": "execute_result"
        }
      ],
      "source": [
        "#making a dictionary from user input\n",
        "d=dict(input().split() for i in range(2))\n",
        "d"
      ]
    },
    {
      "cell_type": "markdown",
      "metadata": {
        "id": "-lCBgrgvLJwd"
      },
      "source": [
        "## **Accessing values in Dictionary.**"
      ]
    },
    {
      "cell_type": "markdown",
      "source": [
        "1. **Square method**\n",
        "* To access a value associated with a key, you place the key inside **square** brackets:"
      ],
      "metadata": {
        "id": "CRtHfj8oOJRN"
      }
    },
    {
      "cell_type": "code",
      "source": [
        "person = {\n",
        "    'first_name': 'John',\n",
        "    'last_name': 'Doe',\n",
        "    'age': 25,\n",
        "    'favorite_colors': ['blue', 'green'],\n",
        "    'active': True\n",
        "}\n",
        "print(person['first_name'])\n",
        "print(person['last_name'])"
      ],
      "metadata": {
        "colab": {
          "base_uri": "https://localhost:8080/"
        },
        "id": "xZUY5g96ORE9",
        "outputId": "41c37d16-0e08-472c-ce1f-6b48100f06db"
      },
      "execution_count": 2,
      "outputs": [
        {
          "output_type": "stream",
          "name": "stdout",
          "text": [
            "John\n",
            "Doe\n"
          ]
        }
      ]
    },
    {
      "cell_type": "code",
      "execution_count": null,
      "metadata": {
        "id": "fbV4m_45LJwd",
        "outputId": "f59c19a6-4483-49b5-fff5-e0cd4a4dcf8e"
      },
      "outputs": [
        {
          "data": {
            "text/plain": [
              "{'Name': 'Diya', 'Age': 7, 'Class': 4}"
            ]
          },
          "execution_count": 1,
          "metadata": {},
          "output_type": "execute_result"
        }
      ],
      "source": [
        "d2={'Name':'Diya','Age':7,'Class':4}\n",
        "d2"
      ]
    },
    {
      "cell_type": "code",
      "execution_count": null,
      "metadata": {
        "id": "rWKpE7-nLJwe",
        "outputId": "5dba7fcf-22e4-4faa-bc4a-78a38e779869"
      },
      "outputs": [
        {
          "name": "stdout",
          "output_type": "stream",
          "text": [
            "('Name', 'Diya')\n",
            "('Age', 7)\n",
            "('Class', 4)\n"
          ]
        }
      ],
      "source": [
        "for i in d2.items():\n",
        "    print(i)"
      ]
    },
    {
      "cell_type": "code",
      "execution_count": null,
      "metadata": {
        "id": "1QughWZjLJwf",
        "outputId": "a6123470-5fb7-4b17-c397-15a7c4841e5c"
      },
      "outputs": [
        {
          "data": {
            "text/plain": [
              "'Diya'"
            ]
          },
          "execution_count": 3,
          "metadata": {},
          "output_type": "execute_result"
        }
      ],
      "source": [
        "d2['Name']"
      ]
    },
    {
      "cell_type": "code",
      "execution_count": null,
      "metadata": {
        "id": "Nk03lsGtLJwf",
        "outputId": "7eb61be2-de17-45d0-825e-e367ad5efd1b"
      },
      "outputs": [
        {
          "data": {
            "text/plain": [
              "{'Name': 'Rakesh', 'Age': 13, 'Class': 2}"
            ]
          },
          "execution_count": 4,
          "metadata": {},
          "output_type": "execute_result"
        }
      ],
      "source": [
        "#let's delete the dictionary using del keyword\n",
        "dd={'Name':'Rakesh','Age':13,'Class':2}\n",
        "dd"
      ]
    },
    {
      "cell_type": "markdown",
      "metadata": {
        "id": "LC5Bc6VILJwg"
      },
      "source": [
        "2. **get() method**\n",
        "* If you attempt to access a key that doesn’t exist, you’ll get an error.\n",
        "* To avoid this error, you can use the get() method of the dictionary.\n",
        "* If the key **doesn’t** exist, the get() method returns **None** instead of throwing a **KeyError**. Note that **None** means **no** value exists.\n",
        "\n",
        "* The **get()** method also returns a default value when the key doesn’t exist by passing the default value to its second argument."
      ]
    },
    {
      "cell_type": "code",
      "source": [
        "person = {\n",
        "    'first_name': 'John',\n",
        "    'last_name': 'Doe',\n",
        "    'age': 25,\n",
        "    'favorite_colors': ['blue', 'green'],\n",
        "    'active': True\n",
        "}\n",
        "\n",
        "ssn = person['ssn']\n"
      ],
      "metadata": {
        "colab": {
          "base_uri": "https://localhost:8080/",
          "height": 200
        },
        "id": "TWysiZGYPC40",
        "outputId": "aec87f0f-e3b6-42f3-9cd0-9f25a430b248"
      },
      "execution_count": 5,
      "outputs": [
        {
          "output_type": "error",
          "ename": "KeyError",
          "evalue": "ignored",
          "traceback": [
            "\u001b[0;31m---------------------------------------------------------------------------\u001b[0m",
            "\u001b[0;31mKeyError\u001b[0m                                  Traceback (most recent call last)",
            "\u001b[0;32m<ipython-input-5-34b02a71aab2>\u001b[0m in \u001b[0;36m<module>\u001b[0;34m\u001b[0m\n\u001b[1;32m      7\u001b[0m }\n\u001b[1;32m      8\u001b[0m \u001b[0;34m\u001b[0m\u001b[0m\n\u001b[0;32m----> 9\u001b[0;31m \u001b[0mssn\u001b[0m \u001b[0;34m=\u001b[0m \u001b[0mperson\u001b[0m\u001b[0;34m[\u001b[0m\u001b[0;34m'ssn'\u001b[0m\u001b[0;34m]\u001b[0m\u001b[0;34m\u001b[0m\u001b[0;34m\u001b[0m\u001b[0m\n\u001b[0m",
            "\u001b[0;31mKeyError\u001b[0m: 'ssn'"
          ]
        }
      ]
    },
    {
      "cell_type": "code",
      "source": [
        "ssn = person.get('ssn')\n",
        "print(ssn)"
      ],
      "metadata": {
        "colab": {
          "base_uri": "https://localhost:8080/"
        },
        "id": "VI_XoK9WPHUk",
        "outputId": "31361871-5765-4a3b-aba0-ed31e1111281"
      },
      "execution_count": 4,
      "outputs": [
        {
          "output_type": "stream",
          "name": "stdout",
          "text": [
            "None\n"
          ]
        }
      ]
    },
    {
      "cell_type": "code",
      "execution_count": null,
      "metadata": {
        "id": "Ga7klPiLLJwh",
        "outputId": "ae3533dd-0689-40e5-93af-e3d311bf283e"
      },
      "outputs": [
        {
          "name": "stdout",
          "output_type": "stream",
          "text": [
            "None\n"
          ]
        }
      ],
      "source": [
        "person = {\n",
        "    'first_name': 'John',\n",
        "    'last_name': 'Doe',\n",
        "    'age': 25,\n",
        "    'favorite_colors': ['blue', 'green'],\n",
        "    'active': True\n",
        "}\n",
        "\n",
        "ssn = person.get('ssn')\n",
        "print(ssn)\n"
      ]
    },
    {
      "cell_type": "code",
      "source": [
        "#The following example returns the '000-00-0000' string if the ssn key doesn’t exist in the person dictionary:\n",
        "person = {\n",
        "    'first_name': 'John',\n",
        "    'last_name': 'Doe',\n",
        "    'age': 25,\n",
        "    'favorite_colors': ['blue', 'green'],\n",
        "    'active': True\n",
        "}\n",
        "\n",
        "ssn = person.get('ssn', '000-00-0000')\n",
        "print(ssn)"
      ],
      "metadata": {
        "colab": {
          "base_uri": "https://localhost:8080/"
        },
        "id": "W067U_2oPj2m",
        "outputId": "c2a60535-8d0b-4a84-eda9-07050d0a3a39"
      },
      "execution_count": 6,
      "outputs": [
        {
          "output_type": "stream",
          "name": "stdout",
          "text": [
            "000-00-0000\n"
          ]
        }
      ]
    },
    {
      "cell_type": "code",
      "execution_count": null,
      "metadata": {
        "id": "CL5c8-tLLJwh",
        "outputId": "631ce2ae-e193-454f-9b52-bf4f9e4db1b1"
      },
      "outputs": [
        {
          "ename": "NameError",
          "evalue": "name 'dd' is not defined",
          "output_type": "error",
          "traceback": [
            "\u001b[0;31m---------------------------------------------------------------------------\u001b[0m",
            "\u001b[0;31mNameError\u001b[0m                                 Traceback (most recent call last)",
            "\u001b[0;32m<ipython-input-10-8aa41d49a332>\u001b[0m in \u001b[0;36m<module>\u001b[0;34m()\u001b[0m\n\u001b[0;32m----> 1\u001b[0;31m \u001b[0;32mdel\u001b[0m \u001b[0mdd\u001b[0m\u001b[0;34m\u001b[0m\u001b[0m\n\u001b[0m\u001b[1;32m      2\u001b[0m \u001b[0mdd\u001b[0m\u001b[0;34m\u001b[0m\u001b[0m\n",
            "\u001b[0;31mNameError\u001b[0m: name 'dd' is not defined"
          ]
        }
      ],
      "source": [
        "del dd\n",
        "dd"
      ]
    },
    {
      "cell_type": "markdown",
      "source": [
        "## **Adding new key-value pairs**\n",
        "* Since a dictionary has a dynamic structure, you can add new key-value pairs to it at any time.\n",
        "\n",
        "* To add a new key-value pair to a dictionary, you specify the name of the dictionary followed by the new key in square brackets along with the new value.\n",
        "\n",
        "* The following example adds a new key-value pair to the person dictionary:"
      ],
      "metadata": {
        "id": "u0Q2qFpjPwvd"
      }
    },
    {
      "cell_type": "code",
      "source": [
        "person['gender'] = 'Famale'\n",
        "person"
      ],
      "metadata": {
        "colab": {
          "base_uri": "https://localhost:8080/"
        },
        "id": "Fv8GMGnHQD3P",
        "outputId": "4437b6fe-9661-4d6b-e220-c3df56773b44"
      },
      "execution_count": 7,
      "outputs": [
        {
          "output_type": "execute_result",
          "data": {
            "text/plain": [
              "{'first_name': 'John',\n",
              " 'last_name': 'Doe',\n",
              " 'age': 25,\n",
              " 'favorite_colors': ['blue', 'green'],\n",
              " 'active': True,\n",
              " 'gender': 'Famale'}"
            ]
          },
          "metadata": {},
          "execution_count": 7
        }
      ]
    },
    {
      "cell_type": "markdown",
      "source": [
        "## **Modifying values in a key-value pair**\n",
        "* To modify a value associated with a key, you specify the dictionary name with the key in square brackets and the new value associated with the key:<br />\n",
        "![image.png](data:image/png;base64,iVBORw0KGgoAAAANSUhEUgAAAMsAAAAcCAYAAADPwEukAAAFdElEQVR4nO2bTWgaWRzAf132GD2YpOyeYkCIUAiIVEqpBMlBRELoTQklF/EyUIKH4sWTl+AhlICX4KWUoLcSJIQcggSXUhKCUFhIwKCeujSNB/W+e5gZHb+fVWvafT+QzLyZeR/z/3j//3uTR3a7/V8kEslQfpt1BySSnwVpLBKJINJYJBJBpLFIJIJIY5FIBJHGIpEIIo1FIhHk97GeDinkN+F4I8musdwT5CTiYK5WILmVJjNWI/0JxGIoLlPzvHz0hlcp/Wyd91kvtJVNCxtvD8M4zfp5nau9ODu5abf7/6BdzrN7t+MZyzTpZ4idTNkgxSiys/VGPfQEOYnYZtqbX41MPK7Kd8bvdjrGkkvjy6WnUrVEMitkziKRCDLizKLmAda2skr/66VT3K/PhOrR843OPMSfTeDXjhsXB/jixdG63KSVV7TVo+dX+m3GsC6kkN9c6siF9D7yAPMSdYwr1wecL4bxL2vFPULV6H6idZ32fC+6n2Dtrte7HiUP1GTcqQPa+/5mqKNT5v31ZnBbC2360auvnXpXGR7mGxjBWFodcusd0vKKFme82lAHGd1vKXkbunL2eSHN+FQ0ZxHB2OZWb8H5DIqiHAJbaTKpU648YZyr64D+nI1ndhONi4OJGkqXwhjoNNZhzLnCrF0c4H5dRJfbduySjCa36H4C/3yB5EbakAskeI/aTvmujn9xCegwFs9jFqhzcyvSizOOL56juOxEOWvKMPDCxlytwDt9PCGFbdK4N4zOy8tJrDKGY+xFt/4GYjGUrAKCOiZsLIHYc6y1AskxBxB9qa2SjeQ5vh/rZoI8qsL5OhQu+lI1IGP57ocCaxEbzzyQyRXZyVXIbxoE7nnKirnC+UQFaXASk6B0alC0Cvc1WNCveYKsLde52jPMNLk05y8d+I1OYf4xASDT5bSq/CPoJDLxj/izXp6EgBQ0Hc31ZavtVBKf8aHcJTchBysjD3owvfS3u3+DETYW66IJ7r9ORqCTqkeA8kWBBZcDa9vsYGDZSz7r7Sistw612WUtZmM3Xmwa2Niz3Uwx4YwkyEc6ikvqn8yXKorLghWIrlpo1EyqQmFhrlalLNzOGX+XvPg9QQKpNJmQF6e5wnGbo+kV2kNj5DEJYHagZB0oHcWi4xE2lvJdHeyatxHu3QPgSxrfHv2n9qHxcZFP13Wc9qcEWOLJcp2rvcnPipMMw4YzZK/itkoDC7DOk/ki73IWlNV1AncWuL8eSf7Gmdq6ugRtjsbG28POvEbLu75zZAMZc5tBeDUs86UKZnXQQDP5HZXdzxVY9nISG7JeflulwZLm0cYkl8Z3VGHOFW5rV+/L+yFtZOIfKZsdbB8+x1r6OJWkPhOP49540/M3UUPJXXJTM+EMBQn0vecr37DwR8zOwvWlmrvN23kGNO4q/Z7qU1ea85KJlRdB1dF8GOxoArGgYXNXFDXUnFvU9bF7tsr8VaRhdrA9TO8GIJ7gp5Ik/4yh6NN3rUByr8p2xNK6p8uA9BDHsOqQSuK+DXISCZPPtu7s8p65NO9e2FA2E81FhLFWw/T+u8Lk9zVPlkriRiFvaAPo4YH0ZBWuUj8m15oeRXa2Dnh7GO4KSVoyqHBf8+J0VTnWEu9P10EUl4ny0ejvf/dzBf+mGr6+anM0ek5oCIVLpxyXvKw17+n8OoJmCNnShyI7qQInkVY95aMDrjxh5vWHcml80KV3o6yIPfqZ/604EIuh2Is/ZAdfuC1tl/nmwS0rS8ZFbkqKEFK0WWXWn9VIZsnD/TZMFMMKx6QT4VbSPezjve4PKX9lBi1G6Ex+UWL2/NRhmETyI5FhmEQiiDQWiUQQaSwSiSDSWCQSQaSxSCSC/AcVppf4peMIYQAAAABJRU5ErkJggg==)"
      ],
      "metadata": {
        "id": "yGfF_f_lQS8M"
      }
    },
    {
      "cell_type": "code",
      "source": [
        "person = {\n",
        "    'first_name': 'John',\n",
        "    'last_name': 'Doe',\n",
        "    'age': 25,\n",
        "    'favorite_colors': ['blue', 'green'],\n",
        "    'active': True\n",
        "}\n",
        "\n",
        "person['age'] = 26\n",
        "\n",
        "print(person)"
      ],
      "metadata": {
        "id": "hO2tTbg7Q7AN"
      },
      "execution_count": null,
      "outputs": []
    },
    {
      "cell_type": "markdown",
      "source": [
        "## **Removing key-value pairs**\n",
        "* To remove a key-value pair by a key, you use the **del** statement:\n",
        "![image.png](data:image/png;base64,iVBORw0KGgoAAAANSUhEUgAAAIYAAAAhCAYAAAAcYNPHAAAEQElEQVR4nO2aQUgjVxjHf9a1u0JMYW2LFESzDTRQLARBFlEk7EGWEKS3BBEvIT0MFJFl8RIP5iKyiAg5rHiRRZLbImERDyEsLnsQJAcvLbhNpFBkW4XGtJpatz3MTJyMr3FGR+2273ea9/Lmey95//m+732ZBp/P9xcSiYkPbnoBkn8nUhgSIVIYEiFSGBIhUhgSIVIYEiFSGBIhUhgSIVIYEiFSGBIhtxyx0nybrTZ4Xqgwaeuepmrzh90yQ4dOLOYBzzKDsPKYkcWz/Z3s8CKUZNqJqUREFdaHOqrN8sYCDxPb1fbE/AxB1uj/NntVK9DwMrcco9uttw/YnE0wlrN2tzPCuAiHFboKFaCRFU/zjS3DFlGF9SEsCOuKxWeJbcaGH6uXgQir415bd9+cMK6dLCOhq35K/zvIHEMi5IIeQ3X/92r6jk2Wb/G6/Q4tertyxJOf/mTpYhPWZWJ+hqCntq9YvTLF2lKe5HCKtBU7BTUXCMfjKD3Vb0IwM0NQuzbnEHap2q5Zl54P6RhDk/ZZwZSnBCKsjvvhkuvRuYAwVFF8svcbXSXtVQ4t+Ty1qori590yvVpCOdXq4tFnR+CwOCbmZwi25kmGan/UU05jbTgeR/GJrOjiEecG6URCtW05x7CCcc6EwZ66/o83FujXNjgcj6NkFAglmSbLi41elB4fE2Sr94X7vLhKeZIOiAIuEEpG3R9yr3LE09I/v98z9dEdWkqHNaeMyV+POLjdRL+TWU0gwoDngM1FsQewTHSQbvcBm7PXlDB6BlnPxOjeW6PfJLJwvJfOUp4lwwanE68p0sGXUXEbvNz3tVDMXfJ3MGB7mz5vaoTKH+c/9e5mttzmzhO7052zmLu42GfX4hGsPk7ZsUAhz2arn25P7VNfxe1HyfhRTN2n4VHzGoEI4cUU6eig6nkWcQzbwnhzfAKuBkahvjhKh3TtOSyEM4vZp4yXtgBwXZvqCG8ZG15gbjlGcDlC0Zzz1MmDdNKvthnt8XI/AJ1fdVDeWHDU29kOJUvH78AYEkyFKoDJ34/B3czKVZcncm/5hRa+6NPP6OakzSKL31Gkg+ByhHC9cW/2Kde48MuwzdjwGkW3H8Uwb/rVNmW3n9H4OXWHXIqXhRa6o3EGPDu8dCi30LEf8Q8rPNlr5lG7iy1QTxs/nvBNe2PNmK5d2GrTxugYTiZTrS6+NoYafawtT5NlZPZTVsdjrGdAre4tsBeN0aoP0bJ1V/Ue3U0bK4FZRkI7zC3Hal24OfPPpVjq86IMzbA+pHZd7lSir9+PkrlLZyjJdC7FQzB8J52zifH08zwD437YSDmeGzXIt8QdxtGTyzloFc3vzyt1Wx1nQBa43lse8EzzFlY32w7/o5L4ddJRLYJdtgB2BkNorG/77J9odpChRCJEhhKJECkMiRApDIkQKQyJECkMiRApDIkQKQyJkL8B8WahbQfBdw4AAAAASUVORK5CYII=)\n",
        "* In this syntax, you specify the dictionary **name** and the **key** that you want to remove."
      ],
      "metadata": {
        "id": "QWhbbCdDSOl9"
      }
    },
    {
      "cell_type": "code",
      "source": [
        "#The following example removes the key 'active' from the person dictionary:\n",
        "person = {\n",
        "    'first_name': 'John',\n",
        "    'last_name': 'Doe',\n",
        "    'age': 25,\n",
        "    'favorite_colors': ['blue', 'green'],\n",
        "    'active': True\n",
        "}\n",
        "\n",
        "del person['active']\n",
        "print(person)"
      ],
      "metadata": {
        "colab": {
          "base_uri": "https://localhost:8080/"
        },
        "id": "zcKP4ATvUwe3",
        "outputId": "06853835-4e76-4119-a5a5-14b54730aa92"
      },
      "execution_count": 8,
      "outputs": [
        {
          "output_type": "stream",
          "name": "stdout",
          "text": [
            "{'first_name': 'John', 'last_name': 'Doe', 'age': 25, 'favorite_colors': ['blue', 'green']}\n"
          ]
        }
      ]
    },
    {
      "cell_type": "markdown",
      "source": [
        "## **Looping through a dictionary**\n",
        "* To examine a dictionary, you can use a **for loop** to iterate over its key-value pairs, or keys, or values.\n",
        "**1) Looping all key-value pairs in a dictionary**\n",
        "  * Python dictionary provides a method called **items()** that returns an object which contains a list of key-value pairs as tuples in a list."
      ],
      "metadata": {
        "id": "CVOpG0DmU8od"
      }
    },
    {
      "cell_type": "code",
      "source": [
        "person = {\n",
        "    'first_name': 'John',\n",
        "    'last_name': 'Doe',\n",
        "    'age': 25,\n",
        "    'favorite_colors': ['blue', 'green'],\n",
        "    'active': True\n",
        "}\n",
        "\n",
        "print(person.items())"
      ],
      "metadata": {
        "colab": {
          "base_uri": "https://localhost:8080/"
        },
        "id": "k6Ntm0S6VWw-",
        "outputId": "e8d776db-a4e5-4376-8511-bd70f0d99d85"
      },
      "execution_count": 9,
      "outputs": [
        {
          "output_type": "stream",
          "name": "stdout",
          "text": [
            "dict_items([('first_name', 'John'), ('last_name', 'Doe'), ('age', 25), ('favorite_colors', ['blue', 'green']), ('active', True)])\n"
          ]
        }
      ]
    },
    {
      "cell_type": "markdown",
      "source": [
        "* To iterate over all key-value pairs in a dictionary, you use a for loop with **two** variable **key and value** to unpack each tuple of the list:"
      ],
      "metadata": {
        "id": "b0XUOVc1VdhF"
      }
    },
    {
      "cell_type": "code",
      "source": [
        "person = {\n",
        "    'first_name': 'John',\n",
        "    'last_name': 'Doe',\n",
        "    'age': 25,\n",
        "    'favorite_colors': ['blue', 'green'],\n",
        "    'active': True\n",
        "}\n",
        "#Note that you can use any variable name in the for loop. They don’t have to be the key and value.\n",
        "for key, value in person.items():\n",
        "    print(f\"{key}: {value}\")"
      ],
      "metadata": {
        "colab": {
          "base_uri": "https://localhost:8080/"
        },
        "id": "2D19bpqxVknl",
        "outputId": "23939f61-da07-4082-ceea-c7981e63873b"
      },
      "execution_count": 11,
      "outputs": [
        {
          "output_type": "stream",
          "name": "stdout",
          "text": [
            "first_name: John\n",
            "last_name: Doe\n",
            "age: 25\n",
            "favorite_colors: ['blue', 'green']\n",
            "active: True\n"
          ]
        }
      ]
    },
    {
      "cell_type": "markdown",
      "source": [
        "**2) Looping through all the keys in a dictionary**\n",
        "  * Sometimes, you just want to loop through all keys in a dictionary. In this case, you can use a for loop with the keys() method.\n",
        "\n",
        "  * The **keys()** method returns an object that contains a list of keys in the dictionary.\n",
        "\n",
        "  * For example:\n",
        "\n",
        "\n"
      ],
      "metadata": {
        "id": "oeiBuXtBWEt2"
      }
    },
    {
      "cell_type": "code",
      "source": [
        "\n",
        "person = {\n",
        "    'first_name': 'John',\n",
        "    'last_name': 'Doe',\n",
        "    'age': 25,\n",
        "    'favorite_colors': ['blue', 'green'],\n",
        "    'active': True\n",
        "}\n",
        "\n",
        "for key in person.keys():\n",
        "    print(key)"
      ],
      "metadata": {
        "colab": {
          "base_uri": "https://localhost:8080/"
        },
        "id": "t3aK7IWtWU7r",
        "outputId": "9fc05630-615c-4ea1-f701-96c023a80f3f"
      },
      "execution_count": 12,
      "outputs": [
        {
          "output_type": "stream",
          "name": "stdout",
          "text": [
            "first_name\n",
            "last_name\n",
            "age\n",
            "favorite_colors\n",
            "active\n"
          ]
        }
      ]
    },
    {
      "cell_type": "code",
      "source": [
        "#In fact, looping through all keys is the default behavior when looping through a dictionary. Therefore, you don’t need to use the keys() method.\n",
        "#The following code returns the same output like the one in the above example:\n",
        "person = {\n",
        "    'first_name': 'John',\n",
        "    'last_name': 'Doe',\n",
        "    'age': 25,\n",
        "    'favorite_colors': ['blue', 'green'],\n",
        "    'active': True\n",
        "}\n",
        "\n",
        "for key in person:\n",
        "    print(key)"
      ],
      "metadata": {
        "colab": {
          "base_uri": "https://localhost:8080/"
        },
        "id": "jk_i-g68Z-nr",
        "outputId": "285ee592-f451-48fa-9035-fc2379638194"
      },
      "execution_count": 13,
      "outputs": [
        {
          "output_type": "stream",
          "name": "stdout",
          "text": [
            "first_name\n",
            "last_name\n",
            "age\n",
            "favorite_colors\n",
            "active\n"
          ]
        }
      ]
    },
    {
      "cell_type": "markdown",
      "source": [
        "**3) Looping through all the values in a dictionary**\n",
        "* The **values()** method returns a list of values without any keys.\n",
        "\n",
        "* To loop through all the values in a dictionary, you use a for loop with the **values()** method:"
      ],
      "metadata": {
        "id": "5AdSQyn3aF1_"
      }
    },
    {
      "cell_type": "code",
      "source": [
        "person = {\n",
        "    'first_name': 'John',\n",
        "    'last_name': 'Doe',\n",
        "    'age': 25,\n",
        "    'favorite_colors': ['blue', 'green'],\n",
        "    'active': True\n",
        "}\n",
        "\n",
        "for value in person.values():\n",
        "    print(value)\n"
      ],
      "metadata": {
        "colab": {
          "base_uri": "https://localhost:8080/"
        },
        "id": "u21XqrEDaOHF",
        "outputId": "1fbd545c-48d7-47c2-b481-61711868c54f"
      },
      "execution_count": 14,
      "outputs": [
        {
          "output_type": "stream",
          "name": "stdout",
          "text": [
            "John\n",
            "Doe\n",
            "25\n",
            "['blue', 'green']\n",
            "True\n"
          ]
        }
      ]
    },
    {
      "cell_type": "markdown",
      "metadata": {
        "id": "sCsr_MT0LJwi"
      },
      "source": [
        "## **Built-in Dictionary Functions & Methods.**\n",
        "Python includes the following dictionary functions.\n",
        "1. **cmp(dict1, dict2)** = No longer available in Python 3. \n",
        "2. **len(dict)** = Gives the total length of the dictionary. This would be equal to the number of items in the dictionary. \n",
        "3. **str(dict)** = Produces a printable string representation of a dictionary. \n",
        "4. **type(variable)** = Returns the type of the passed variable. If passed variable is dictionary, then it would return a dictionary type."
      ]
    },
    {
      "cell_type": "code",
      "execution_count": null,
      "metadata": {
        "id": "-IgrpsxpLJwi",
        "outputId": "97580438-f376-4973-a4ab-11155e767673"
      },
      "outputs": [
        {
          "ename": "NameError",
          "evalue": "name 'cmp' is not defined",
          "output_type": "error",
          "traceback": [
            "\u001b[0;31m---------------------------------------------------------------------------\u001b[0m",
            "\u001b[0;31mNameError\u001b[0m                                 Traceback (most recent call last)",
            "\u001b[0;32m<ipython-input-2-25c60b2c39e7>\u001b[0m in \u001b[0;36m<module>\u001b[0;34m()\u001b[0m\n\u001b[1;32m      1\u001b[0m \u001b[0md3\u001b[0m\u001b[0;34m=\u001b[0m\u001b[0;34m{\u001b[0m\u001b[0;34m'Name'\u001b[0m\u001b[0;34m:\u001b[0m\u001b[0;34m'Diya'\u001b[0m\u001b[0;34m,\u001b[0m\u001b[0;34m'Age'\u001b[0m\u001b[0;34m:\u001b[0m\u001b[0;36m7\u001b[0m\u001b[0;34m,\u001b[0m\u001b[0;34m'Class'\u001b[0m\u001b[0;34m:\u001b[0m\u001b[0;36m4\u001b[0m\u001b[0;34m,\u001b[0m\u001b[0;34m'Color'\u001b[0m\u001b[0;34m:\u001b[0m\u001b[0;34m'red'\u001b[0m\u001b[0;34m}\u001b[0m\u001b[0;34m\u001b[0m\u001b[0m\n\u001b[1;32m      2\u001b[0m \u001b[0md4\u001b[0m\u001b[0;34m=\u001b[0m\u001b[0;34m{\u001b[0m\u001b[0;34m'Car'\u001b[0m\u001b[0;34m:\u001b[0m\u001b[0;34m'Ertiga'\u001b[0m\u001b[0;34m,\u001b[0m\u001b[0;34m'Average'\u001b[0m\u001b[0;34m:\u001b[0m\u001b[0;34m'15kmph'\u001b[0m\u001b[0;34m,\u001b[0m\u001b[0;34m'Class'\u001b[0m\u001b[0;34m:\u001b[0m\u001b[0;36m4\u001b[0m\u001b[0;34m,\u001b[0m\u001b[0;34m'Color'\u001b[0m\u001b[0;34m:\u001b[0m\u001b[0;34m'red'\u001b[0m\u001b[0;34m}\u001b[0m\u001b[0;34m\u001b[0m\u001b[0m\n\u001b[0;32m----> 3\u001b[0;31m \u001b[0mcmp\u001b[0m\u001b[0;34m(\u001b[0m\u001b[0md3\u001b[0m\u001b[0;34m,\u001b[0m\u001b[0md4\u001b[0m\u001b[0;34m)\u001b[0m\u001b[0;34m\u001b[0m\u001b[0m\n\u001b[0m",
            "\u001b[0;31mNameError\u001b[0m: name 'cmp' is not defined"
          ]
        }
      ],
      "source": [
        "d3={'Name':'Diya','Age':7,'Class':4,'Color':'red'}\n",
        "d4={'Car':'Ertiga','Average':'15kmph','Class':4,'Color':'red'}\n",
        "cmp(d3,d4)"
      ]
    },
    {
      "cell_type": "code",
      "execution_count": null,
      "metadata": {
        "id": "HmzRdLKoLJwi",
        "outputId": "81023295-b8ab-47a0-84ef-310a8b1126ff"
      },
      "outputs": [
        {
          "data": {
            "text/plain": [
              "4"
            ]
          },
          "execution_count": 3,
          "metadata": {},
          "output_type": "execute_result"
        }
      ],
      "source": [
        "len(d3)"
      ]
    },
    {
      "cell_type": "code",
      "execution_count": null,
      "metadata": {
        "id": "ux9OmBxNLJwi",
        "outputId": "14e3d7ed-0a73-401b-a5f7-c811ea13a003"
      },
      "outputs": [
        {
          "data": {
            "text/plain": [
              "\"{'Car': 'Ertiga', 'Average': '15kmph', 'Class': 4, 'Color': 'red'}\""
            ]
          },
          "execution_count": 4,
          "metadata": {},
          "output_type": "execute_result"
        }
      ],
      "source": [
        "str(d4)"
      ]
    },
    {
      "cell_type": "code",
      "execution_count": null,
      "metadata": {
        "id": "BzeVcEgaLJwj",
        "outputId": "b7c3029f-3d41-4e19-abdf-89ed77fa8be1"
      },
      "outputs": [
        {
          "data": {
            "text/plain": [
              "dict"
            ]
          },
          "execution_count": 5,
          "metadata": {},
          "output_type": "execute_result"
        }
      ],
      "source": [
        "type(d4)"
      ]
    },
    {
      "cell_type": "markdown",
      "metadata": {
        "collapsed": true,
        "id": "OYW-56bQLJwj"
      },
      "source": [
        "## **Dictionary methods.**\n",
        "1. **dict.clear()** = Removes all elements of dictionary dict. \n",
        "2. **dict.copy()** = Returns a shallow copy of dictionary dict. \n",
        "3. **dict.fromkeys(seq,value)** = Create a new dictionary with keys from seq and values set to value. \n",
        "4. **dict.get(key, default=None)** = For key key, returns value or default if key not in dictionary.\n",
        "5. **dict.has_key(key)** = Removed, use the in operation instead. \n",
        "6. **dict.items()** = Returns a list of dict's (key, value) tuple pairs. \n",
        "7. **dict.keys()** = Returns list of dictionary dict's keys. \n",
        "8. **dict.setdefault(key, default=None)** = Similar to get(), but will set dict[key]=default if key is not already in dict. \n",
        "9. **dict.update(dict2)** = Adds dictionary dict2's key-values pairs to dict. \n",
        "10. **dict.values()** = Returns list of dictionary dict's values.\n",
        "11. **dict(zip(seq,seq1))**= Returns a dictionary containing seq as keys and seq1 as values."
      ]
    },
    {
      "cell_type": "code",
      "execution_count": 15,
      "metadata": {
        "collapsed": true,
        "id": "dWJxb_EnLJwj"
      },
      "outputs": [],
      "source": [
        "d4={'Car':'Baleno','Average':'21kmph','Class':4,'Color':'Blue'}"
      ]
    },
    {
      "cell_type": "code",
      "execution_count": 16,
      "metadata": {
        "colab": {
          "base_uri": "https://localhost:8080/"
        },
        "id": "x1vqRcPULJwk",
        "outputId": "4bf14c2a-83ff-434e-db8b-1629c5cda210"
      },
      "outputs": [
        {
          "output_type": "execute_result",
          "data": {
            "text/plain": [
              "{}"
            ]
          },
          "metadata": {},
          "execution_count": 16
        }
      ],
      "source": [
        "d4.clear()\n",
        "d4"
      ]
    },
    {
      "cell_type": "code",
      "execution_count": 27,
      "metadata": {
        "colab": {
          "base_uri": "https://localhost:8080/"
        },
        "id": "XJhE6ZfRLJwk",
        "outputId": "93a18592-b4e0-4b8b-cb80-35d6b27c2dfb"
      },
      "outputs": [
        {
          "output_type": "stream",
          "name": "stdout",
          "text": [
            "d5:  {'Car': 'Amaze', 'Average': '19kmph', 'Class': 1, 'Color': 'White'}\n",
            "id(d4):  140689886554224\n",
            "id(d5):  140689886553824\n"
          ]
        }
      ],
      "source": [
        "d4={'Car':'Amaze','Average':'19kmph','Class':1,'Color':'White'}\n",
        "d5=d4.copy()\n",
        "print('d5: ',d5)\n",
        "print('id(d4): ',id(d4))\n",
        "print('id(d5): ',id(d5)) #hence we notice that id's are not same in both."
      ]
    },
    {
      "cell_type": "code",
      "source": [
        "d6={}\n",
        "d6==d4\n",
        "print(id(d4))\n",
        "print(id(d6))"
      ],
      "metadata": {
        "colab": {
          "base_uri": "https://localhost:8080/"
        },
        "id": "0otCRLy_bisv",
        "outputId": "8df37394-af2f-4f8d-91a9-b58de4e2ceca"
      },
      "execution_count": 29,
      "outputs": [
        {
          "output_type": "stream",
          "name": "stdout",
          "text": [
            "140689886554224\n",
            "140689886488928\n"
          ]
        }
      ]
    },
    {
      "cell_type": "code",
      "execution_count": 18,
      "metadata": {
        "colab": {
          "base_uri": "https://localhost:8080/"
        },
        "id": "YTqPGf8TLJwk",
        "outputId": "9cf17a7b-bc2e-465d-fb3d-957b4932658e"
      },
      "outputs": [
        {
          "output_type": "execute_result",
          "data": {
            "text/plain": [
              "{'Name': ('Ravi', 10, 'M'),\n",
              " 'Age': ('Ravi', 10, 'M'),\n",
              " 'Gender': ('Ravi', 10, 'M')}"
            ]
          },
          "metadata": {},
          "execution_count": 18
        }
      ],
      "source": [
        "values=('Ravi',10,'M')\n",
        "keys=('Name','Age','Gender')\n",
        "d6=dict.fromkeys(keys,values)\n",
        "d6"
      ]
    },
    {
      "cell_type": "code",
      "execution_count": 19,
      "metadata": {
        "colab": {
          "base_uri": "https://localhost:8080/"
        },
        "id": "uL8fGBPULJwl",
        "outputId": "8461611e-7766-4493-f9b2-ce873854f893"
      },
      "outputs": [
        {
          "output_type": "execute_result",
          "data": {
            "text/plain": [
              "{'Name': 'Ravi', 'Age': 10, 'Gender': 'M'}"
            ]
          },
          "metadata": {},
          "execution_count": 19
        }
      ],
      "source": [
        "d7=dict(zip(keys,values))\n",
        "d7"
      ]
    },
    {
      "cell_type": "code",
      "execution_count": 20,
      "metadata": {
        "colab": {
          "base_uri": "https://localhost:8080/"
        },
        "id": "HFe_BbHKLJwl",
        "outputId": "b3896652-a70a-4095-beb2-26f6084499c2"
      },
      "outputs": [
        {
          "output_type": "execute_result",
          "data": {
            "text/plain": [
              "dict_keys(['Name', 'Age', 'Gender'])"
            ]
          },
          "metadata": {},
          "execution_count": 20
        }
      ],
      "source": [
        "d7.keys()"
      ]
    },
    {
      "cell_type": "code",
      "execution_count": 21,
      "metadata": {
        "colab": {
          "base_uri": "https://localhost:8080/"
        },
        "id": "s0byFF9uLJwl",
        "outputId": "45583110-6c0a-42dd-acab-6be80fdc0a50"
      },
      "outputs": [
        {
          "output_type": "execute_result",
          "data": {
            "text/plain": [
              "dict_values(['Ravi', 10, 'M'])"
            ]
          },
          "metadata": {},
          "execution_count": 21
        }
      ],
      "source": [
        "d7.values()"
      ]
    },
    {
      "cell_type": "code",
      "execution_count": 22,
      "metadata": {
        "colab": {
          "base_uri": "https://localhost:8080/"
        },
        "id": "mGpiFUSqLJwl",
        "outputId": "5648b596-e0fe-4714-f485-7aafdad66e68"
      },
      "outputs": [
        {
          "output_type": "execute_result",
          "data": {
            "text/plain": [
              "dict_items([('Name', 'Ravi'), ('Age', 10), ('Gender', 'M')])"
            ]
          },
          "metadata": {},
          "execution_count": 22
        }
      ],
      "source": [
        "d7.items()"
      ]
    },
    {
      "cell_type": "code",
      "execution_count": 23,
      "metadata": {
        "colab": {
          "base_uri": "https://localhost:8080/"
        },
        "id": "ED4MLxi9LJwl",
        "outputId": "37968675-6c3d-4fdf-8db8-ff9095a2484c"
      },
      "outputs": [
        {
          "output_type": "execute_result",
          "data": {
            "text/plain": [
              "10"
            ]
          },
          "metadata": {},
          "execution_count": 23
        }
      ],
      "source": [
        "d7.get('Age')"
      ]
    },
    {
      "cell_type": "code",
      "execution_count": 24,
      "metadata": {
        "collapsed": true,
        "id": "sU10lW-VLJwl"
      },
      "outputs": [],
      "source": [
        "d8={'Name':'Diya','Age':7,'Class':4}\n",
        "d9={'Name':'Mirza','Age':12,'Class':5}"
      ]
    },
    {
      "cell_type": "code",
      "execution_count": 25,
      "metadata": {
        "colab": {
          "base_uri": "https://localhost:8080/"
        },
        "id": "dGZ414qCLJwm",
        "outputId": "e5ecd6f3-49ac-4296-928f-d1e5a52dd1aa"
      },
      "outputs": [
        {
          "output_type": "execute_result",
          "data": {
            "text/plain": [
              "{'Name': 'Mirza', 'Age': 12, 'Class': 5}"
            ]
          },
          "metadata": {},
          "execution_count": 25
        }
      ],
      "source": [
        "d8.update(d9)\n",
        "d9"
      ]
    },
    {
      "cell_type": "code",
      "execution_count": 26,
      "metadata": {
        "colab": {
          "base_uri": "https://localhost:8080/"
        },
        "id": "35VGNZV_LJwm",
        "outputId": "e2cd1456-b991-4cb3-f7ee-a0615c408a1e"
      },
      "outputs": [
        {
          "output_type": "execute_result",
          "data": {
            "text/plain": [
              "{'Gender': 'F',\n",
              " 'Course': 'Economics',\n",
              " 'Color': 'Red',\n",
              " 'Name': 'Diya',\n",
              " 'Age': 7,\n",
              " 'Class': 4}"
            ]
          },
          "metadata": {},
          "execution_count": 26
        }
      ],
      "source": [
        "d10={'Name':'Diya','Age':7,'Class':4}\n",
        "d11={'Gender':'F','Course':'Economics','Color':'Red'}\n",
        "d11.update(d10)\n",
        "d11"
      ]
    },
    {
      "cell_type": "markdown",
      "metadata": {
        "id": "NzBztMPDLJwm"
      },
      "source": [
        "## **Dictionary Comprehensions.**\n",
        "* Dictionary comprehension is a method for transforming one dictionary into another dictionary.  \n",
        "* A dictionary comprehension allows you to run a for loop on a dictionary and do something on each item like transforming or filtering, and returns a new dictionary.\n",
        "* Unlike a for loop, a dictionary comprehension offers a more expressive and concise syntax when you use it correctly.\n",
        "* **Like list comprehension**s, Python **allows** dictionary comprehensions. \n",
        "* We can create dictionaries using simple expressions.\n",
        "* Here is the general syntax for a dictionary comprehension:<br />\n",
        "![image.png](data:image/png;base64,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)\n",
        "* This dictionary comprehension expression returns a **new dictionary** whose item specified by the expression **key: value**"
      ]
    },
    {
      "cell_type": "code",
      "execution_count": null,
      "metadata": {
        "id": "dimKOHx8LJwm",
        "outputId": "fc06d2c9-3a84-44ab-b2c1-cb40aaff126d"
      },
      "outputs": [
        {
          "data": {
            "text/plain": [
              "{1: 'a', 2: 'b', 3: 'c', 4: 'd'}"
            ]
          },
          "execution_count": 2,
          "metadata": {},
          "output_type": "execute_result"
        }
      ],
      "source": [
        "keys=[1,2,3,4]\n",
        "values=['a','b','c','d']\n",
        "d12={k:v for k,v in zip(keys,values)}\n",
        "d12"
      ]
    },
    {
      "cell_type": "code",
      "execution_count": null,
      "metadata": {
        "id": "_yHv-9BzLJwm",
        "outputId": "754974c0-2480-463a-d3e1-7b4ad7e4fb0a"
      },
      "outputs": [
        {
          "data": {
            "text/plain": [
              "{1: 1, 2: 4, 3: 9, 4: 16}"
            ]
          },
          "execution_count": 4,
          "metadata": {},
          "output_type": "execute_result"
        }
      ],
      "source": [
        "#we can also make dictionary more automatically like in list.\n",
        "d13={x:x**2 for x in [1,2,3,4]}\n",
        "d13"
      ]
    },
    {
      "cell_type": "code",
      "execution_count": null,
      "metadata": {
        "id": "G7FD_9tSLJwm",
        "outputId": "54ff22e4-00ad-4c04-f602-95c0af46848c"
      },
      "outputs": [
        {
          "data": {
            "text/plain": [
              "{'C': 'ccc', 'D': 'ddd', 'G': 'ggg', 'I': 'iii', 'N': 'nnn', 'O': 'ooo'}"
            ]
          },
          "execution_count": 7,
          "metadata": {},
          "output_type": "execute_result"
        }
      ],
      "source": [
        "d14={x.upper():x*3 for x in 'coding'}\n",
        "d14"
      ]
    },
    {
      "cell_type": "code",
      "execution_count": null,
      "metadata": {
        "id": "KFtNWb8sLJwm",
        "outputId": "29007aaa-be52-4fa0-9b9e-4b6c691c95e3"
      },
      "outputs": [
        {
          "data": {
            "text/plain": [
              "{0: 0, 2: 8, 4: 64, 6: 216, 8: 512}"
            ]
          },
          "execution_count": 8,
          "metadata": {},
          "output_type": "execute_result"
        }
      ],
      "source": [
        "d15={x:x**3 for x in range(10) if x%2==0 }\n",
        "d15"
      ]
    },
    {
      "cell_type": "code",
      "execution_count": 30,
      "metadata": {
        "colab": {
          "base_uri": "https://localhost:8080/"
        },
        "id": "nl9ubHWELJwn",
        "outputId": "9b21579d-6028-4464-f11e-b8a8c7180185"
      },
      "outputs": [
        {
          "output_type": "stream",
          "name": "stdout",
          "text": [
            "{'AAPL': 123.42, 'AMZN': 3447.6, 'MSFT': 223.38, 'BIIB': 285.6, 'QDEL': 271.32, 'LVGO': 146.88}\n"
          ]
        }
      ],
      "source": [
        "#Using Python dictionary comprehension to transform a dictionary\n",
        "stocks = {\n",
        "    'AAPL': 121,\n",
        "    'AMZN': 3380,\n",
        "    'MSFT': 219,\n",
        "    'BIIB': 280,\n",
        "    'QDEL': 266,\n",
        "    'LVGO': 144\n",
        "}\n",
        "\n",
        "new_stocks = {symbol: price * 1.02 for (symbol, price) in stocks.items()}\n",
        "\n",
        "print(new_stocks)"
      ]
    },
    {
      "cell_type": "code",
      "execution_count": null,
      "metadata": {
        "id": "sjy9OKruLJwn",
        "outputId": "c21e9a51-7323-415a-f443-4a6277d2bfb7"
      },
      "outputs": [
        {
          "name": "stdout",
          "output_type": "stream",
          "text": [
            "{'AMZN': 3380, 'MSFT': 219, 'BIIB': 280, 'QDEL': 266}\n"
          ]
        }
      ],
      "source": [
        "#Using Python dictionary comprehension to filter a dictionary\n",
        "#To select stocks whose prices are greater than 200, you may use the following for loop:\n",
        "stocks = {\n",
        "    'AAPL': 121,\n",
        "    'AMZN': 3380,\n",
        "    'MSFT': 219,\n",
        "    'BIIB': 280,\n",
        "    'QDEL': 266,\n",
        "    'LVGO': 144\n",
        "}\n",
        "\n",
        "selected_stocks = {}\n",
        "for symbol, price in stocks.items():\n",
        "    if price > 200:\n",
        "        selected_stocks[symbol] = price\n",
        "\n",
        "print(selected_stocks)\n"
      ]
    },
    {
      "cell_type": "code",
      "execution_count": null,
      "metadata": {
        "id": "W0vPZbRdLJwn",
        "outputId": "a0122ed0-d7d7-4ea8-9273-5431c285e07f"
      },
      "outputs": [
        {
          "name": "stdout",
          "output_type": "stream",
          "text": [
            "{'AMZN': 3380, 'MSFT': 219, 'BIIB': 280, 'QDEL': 266}\n"
          ]
        }
      ],
      "source": [
        "#The following example uses the dictionary comprehension with an if clause to get the same result:\n",
        "stocks = {\n",
        "    'AAPL': 121,\n",
        "    'AMZN': 3380,\n",
        "    'MSFT': 219,\n",
        "    'BIIB': 280,\n",
        "    'QDEL': 266,\n",
        "    'LVGO': 144\n",
        "}\n",
        "\n",
        "selected_stocks = {s: p for (s, p) in stocks.items() if p > 200}\n",
        "\n",
        "print(selected_stocks)"
      ]
    },
    {
      "cell_type": "code",
      "execution_count": null,
      "metadata": {
        "collapsed": true,
        "id": "OKIUFUy4LJwq"
      },
      "outputs": [],
      "source": [
        ""
      ]
    }
  ],
  "metadata": {
    "kernelspec": {
      "display_name": "Python 3 (ipykernel)",
      "language": "python",
      "name": "python3"
    },
    "language_info": {
      "codemirror_mode": {
        "name": "ipython",
        "version": 3
      },
      "file_extension": ".py",
      "mimetype": "text/x-python",
      "name": "python",
      "nbconvert_exporter": "python",
      "pygments_lexer": "ipython3",
      "version": "3.10.4"
    },
    "colab": {
      "name": "Python_dictionary.ipynb",
      "provenance": [],
      "collapsed_sections": [
        "-lCBgrgvLJwd",
        "u0Q2qFpjPwvd",
        "yGfF_f_lQS8M",
        "QWhbbCdDSOl9",
        "CVOpG0DmU8od",
        "sCsr_MT0LJwi",
        "OYW-56bQLJwj",
        "NzBztMPDLJwm"
      ]
    }
  },
  "nbformat": 4,
  "nbformat_minor": 0
}