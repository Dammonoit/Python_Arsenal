{
 "cells": [
  {
   "cell_type": "markdown",
   "id": "991f6969",
   "metadata": {},
   "source": [
    "## **Python Generators**\n",
    "* Typically, Python executes a regular function from top to bottom based on the run-to-completion model.\n",
    "* It means that Python cannot pause a regular function midway and then resumes the function after that. For example:"
   ]
  },
  {
   "cell_type": "code",
   "execution_count": 1,
   "id": "2d57fe34",
   "metadata": {},
   "outputs": [
    {
     "name": "stdout",
     "output_type": "stream",
     "text": [
      "hi\n",
      "hello\n",
      "howdy\n"
     ]
    }
   ],
   "source": [
    "def greeting():\n",
    "    print(\"hi\")\n",
    "    print(\"hello\")\n",
    "    print(\"howdy\")\n",
    "    \n",
    "greeting()"
   ]
  },
  {
   "cell_type": "markdown",
   "id": "a308987e",
   "metadata": {},
   "source": [
    "* When Python executes the greeting() function, it executes the code line by line from top to bottom.\n",
    "\n",
    "* Also, Python cannot pause the function at any of line in above function and jumps to another code and resumes the execution from that line.\n",
    "\n",
    "* To pause a function midway and resume from where the function was paused, you use the **yield** statement.\n",
    "\n",
    "* When a function contains **at least one yield statement, it’s a generator function.**\n",
    "\n",
    "* By definition, a generator is a function that contains at least one yield statement.\n",
    "\n",
    "* When you call a generator function, it returns a new generator object. However, it doesn’t start the function.\n",
    "* Generator objects (or generators) implement the iterator protocol. In fact, **generators are lazy iterators**. \n",
    "* Therefore, to execute a generator function, you call the **next()** built-in function on it."
   ]
  },
  {
   "cell_type": "code",
   "execution_count": 1,
   "id": "c28eaeb8",
   "metadata": {},
   "outputs": [],
   "source": [
    "def greeting():\n",
    "    print(\"Hi\")\n",
    "    yield 1\n",
    "    print(\"Hello\")\n",
    "    yield 2\n",
    "    print(\"Howdy\")\n",
    "    yield 3"
   ]
  },
  {
   "cell_type": "markdown",
   "id": "81b88f12",
   "metadata": {},
   "source": [
    "* Since the greeting() function contains the yield statements, it’s a generator function.\n",
    "\n",
    "* The yield statement is like a return statement in a function. However, there’s a big difference.\n",
    "\n",
    "* When Python encounters the yield statement, it returns the value specified in the yield. In addition, it pauses the execution of the function.\n",
    "\n",
    "* If you “call” the same function again, Python will resume from where the previous yield statement was encountered.\n",
    "\n",
    "* When you call a generator function, it returns a generator object. For example:"
   ]
  },
  {
   "cell_type": "code",
   "execution_count": 4,
   "id": "87442be3",
   "metadata": {},
   "outputs": [
    {
     "name": "stdout",
     "output_type": "stream",
     "text": [
      "<generator object greeting at 0x000002588C7263B0>\n",
      "Hi\n",
      "1\n"
     ]
    }
   ],
   "source": [
    "#The messenger is a generator object, which is also an iterator.\n",
    "#To actually execute the body of the greeting() function, you need to use the next() built-in function:\n",
    "messenger=greeting()\n",
    "print(message)\n",
    "print(next(message))"
   ]
  },
  {
   "cell_type": "code",
   "execution_count": 5,
   "id": "9a5f3969",
   "metadata": {},
   "outputs": [
    {
     "name": "stdout",
     "output_type": "stream",
     "text": [
      "Hello\n",
      "2\n"
     ]
    }
   ],
   "source": [
    "print(next(message))"
   ]
  },
  {
   "cell_type": "code",
   "execution_count": 6,
   "id": "9a9b4f93",
   "metadata": {},
   "outputs": [
    {
     "name": "stdout",
     "output_type": "stream",
     "text": [
      "Howdy\n",
      "3\n"
     ]
    }
   ],
   "source": [
    "print(next(message))"
   ]
  },
  {
   "cell_type": "markdown",
   "id": "510495f5",
   "metadata": {},
   "source": [
    "* When you the greeting() function executes, it shows the first message and returns 1. \n",
    "* Also, it’s paused right at the first yield statement. If you “call” the greeting() function again, it’ll resume the execution from the last yield statement.\n",
    "* However, if you execute the generator once more time, it’ll raise the StopIteration exception because it’s an iterator:"
   ]
  },
  {
   "cell_type": "code",
   "execution_count": 7,
   "id": "edd8ca28",
   "metadata": {},
   "outputs": [
    {
     "ename": "StopIteration",
     "evalue": "",
     "output_type": "error",
     "traceback": [
      "\u001b[1;31m---------------------------------------------------------------------------\u001b[0m",
      "\u001b[1;31mStopIteration\u001b[0m                             Traceback (most recent call last)",
      "Input \u001b[1;32mIn [7]\u001b[0m, in \u001b[0;36m<cell line: 1>\u001b[1;34m()\u001b[0m\n\u001b[1;32m----> 1\u001b[0m \u001b[38;5;28mprint\u001b[39m(\u001b[38;5;28;43mnext\u001b[39;49m\u001b[43m(\u001b[49m\u001b[43mmessage\u001b[49m\u001b[43m)\u001b[49m)\n",
      "\u001b[1;31mStopIteration\u001b[0m: "
     ]
    }
   ],
   "source": [
    "print(next(message))"
   ]
  },
  {
   "cell_type": "markdown",
   "id": "24c5fe15",
   "metadata": {},
   "source": [
    "## **Using Python generators to create iterators**\n",
    "* The following example defines an iterator that returns a square number of an integer."
   ]
  },
  {
   "cell_type": "code",
   "execution_count": 9,
   "id": "de5a618e",
   "metadata": {},
   "outputs": [],
   "source": [
    "class Squares:\n",
    "    #setting the parameter for the iterator\n",
    "    def __init__(self,length):\n",
    "        self.length=length\n",
    "        self.current=0\n",
    "    \n",
    "    #current stage of the iterator\n",
    "    def __iter__(self):\n",
    "        return self\n",
    "    \n",
    "    #next value during iteration\n",
    "    def __next__(self):\n",
    "        result = self.current ** 2\n",
    "        \n",
    "        self.current +=1\n",
    "        \n",
    "        if self.current >= self.length:\n",
    "            raise StopIteration\n",
    "            \n",
    "        return result"
   ]
  },
  {
   "cell_type": "code",
   "execution_count": 10,
   "id": "fcf4eb2c",
   "metadata": {},
   "outputs": [
    {
     "name": "stdout",
     "output_type": "stream",
     "text": [
      "0\n",
      "1\n",
      "4\n",
      "9\n"
     ]
    }
   ],
   "source": [
    "#without iterators\n",
    "length=5\n",
    "#And you can use the Squares iterator to generate the square numbers of the first 5 integers from 0 to 5\n",
    "square = Squares(length)\n",
    "for s in square:\n",
    "    print(s)"
   ]
  },
  {
   "cell_type": "code",
   "execution_count": 17,
   "id": "9ee2b3ce",
   "metadata": {},
   "outputs": [
    {
     "data": {
      "text/plain": [
       "0"
      ]
     },
     "execution_count": 17,
     "metadata": {},
     "output_type": "execute_result"
    }
   ],
   "source": [
    "#with generator yield\n",
    "#This code works as we expected. But it has one issue that there’s a lot of boilerplate.\n",
    "#And as you might guess, you use a generator function to build that iterator.\n",
    "#The following rewrites the Squares iterator as a generator function:\n",
    "def squares(length):\n",
    "    for i in range(length):\n",
    "        yield i**2\n",
    "        \n",
    "#As you can see, it’s much shorter and more expressive. \n",
    "#The usage of the squares generator function is similar to the iterator above.\n",
    "next(squares(length))"
   ]
  },
  {
   "cell_type": "code",
   "execution_count": 18,
   "id": "93642e48",
   "metadata": {},
   "outputs": [
    {
     "name": "stdout",
     "output_type": "stream",
     "text": [
      "0\n",
      "1\n",
      "4\n",
      "9\n",
      "16\n"
     ]
    }
   ],
   "source": [
    "for i in squares(length):\n",
    "    print(i)"
   ]
  },
  {
   "cell_type": "markdown",
   "id": "26c9a3d9",
   "metadata": {},
   "source": [
    "## **Generator Expressions**\n",
    "* A generator expression is an expression that returns a generator object.\n",
    "\n",
    "* Basically, a generator function is a function that contains a yield statement and returns a generator object."
   ]
  },
  {
   "cell_type": "code",
   "execution_count": null,
   "id": "378d8bec",
   "metadata": {},
   "outputs": [],
   "source": []
  }
 ],
 "metadata": {
  "kernelspec": {
   "display_name": "Python 3 (ipykernel)",
   "language": "python",
   "name": "python3"
  },
  "language_info": {
   "codemirror_mode": {
    "name": "ipython",
    "version": 3
   },
   "file_extension": ".py",
   "mimetype": "text/x-python",
   "name": "python",
   "nbconvert_exporter": "python",
   "pygments_lexer": "ipython3",
   "version": "3.10.4"
  }
 },
 "nbformat": 4,
 "nbformat_minor": 5
}
