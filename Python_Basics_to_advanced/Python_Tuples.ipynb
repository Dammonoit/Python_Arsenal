{
 "cells": [
  {
   "cell_type": "markdown",
   "id": "fa2fe3ea",
   "metadata": {
    "id": "fa2fe3ea"
   },
   "source": [
    "# **Python Tuples**\n",
    "\n",
    "# **Topics**\n",
    "\n",
    "1. **Introduction** \n",
    "2. **Tuple Items**\n",
    "3. **Create Tuple With One Item**\n",
    "4. **Tuple Items - Data Types**\n",
    "5. **Unpacking Tuple**\n",
    "6. **Using unpacking tuple to swap values of two variables**\n",
    "7. **Python NamedTuple**\n",
    "8. **Python Tuple vs. List**\n",
    "\n",
    "## **Introduction**\n",
    "* Tuples are used to store multiple items in a single variable.\n",
    "\n",
    "* Tuple is one of 4 built-in data types in Python used to store collections of data, the other 3 are List, Set, and Dictionary, all with different qualities and usage.\n",
    "\n",
    "* A tuple is a collection which is ordered and unchangeable.\n",
    "\n",
    "* Tuples are written with **round()** brackets."
   ]
  },
  {
   "cell_type": "code",
   "execution_count": null,
   "id": "eb44b407",
   "metadata": {
    "id": "eb44b407",
    "outputId": "800700c5-e563-4b87-aa08-11d332f4b410"
   },
   "outputs": [
    {
     "name": "stdout",
     "output_type": "stream",
     "text": [
      "('apple', 'banana', 'cherry')\n"
     ]
    }
   ],
   "source": [
    "thistuple = (\"apple\", \"banana\", \"cherry\")\n",
    "print(thistuple)"
   ]
  },
  {
   "cell_type": "markdown",
   "id": "27b92765",
   "metadata": {
    "id": "27b92765"
   },
   "source": [
    "## **Tuple Items**\n",
    "* Tuple items are ordered, unchangeable, and allow duplicate values.\n",
    "\n",
    "* Tuple items are indexed, the first item has index [0], the second item has index [1] etc.\n",
    "\n",
    "### **Ordered**\n",
    "* When we say that tuples are ordered, it means that the items have a defined order, and that order will not change.\n",
    "\n",
    "### **Unchangeable**\n",
    "* Tuples are unchangeable, meaning that we cannot change, add or remove items after the tuple has been created.\n",
    "\n",
    "### **Allow Duplicates**\n",
    "* Since tuples are indexed, they can have items with the same value:"
   ]
  },
  {
   "cell_type": "code",
   "execution_count": null,
   "id": "0b9a00fe",
   "metadata": {
    "id": "0b9a00fe",
    "outputId": "1de7a442-7098-4b34-930d-3a2abd9fca9f"
   },
   "outputs": [
    {
     "name": "stdout",
     "output_type": "stream",
     "text": [
      "('apple', 'banana', 'cherry', 'apple', 'cherry')\n"
     ]
    }
   ],
   "source": [
    "thistuple = (\"apple\", \"banana\", \"cherry\", \"apple\", \"cherry\")\n",
    "print(thistuple)"
   ]
  },
  {
   "cell_type": "markdown",
   "id": "80883ac8",
   "metadata": {
    "id": "80883ac8"
   },
   "source": [
    "### **Tuple Length**\n",
    "* To determine how many items a tuple has, use the **len()** function:"
   ]
  },
  {
   "cell_type": "code",
   "execution_count": null,
   "id": "b1cebe11",
   "metadata": {
    "id": "b1cebe11",
    "outputId": "979ab9d2-b65a-4dd5-863d-f921d2cdbae3"
   },
   "outputs": [
    {
     "name": "stdout",
     "output_type": "stream",
     "text": [
      "3\n"
     ]
    }
   ],
   "source": [
    "thistuple = (\"apple\", \"banana\", \"cherry\")\n",
    "print(len(thistuple))"
   ]
  },
  {
   "cell_type": "markdown",
   "id": "bb3904ac",
   "metadata": {
    "id": "bb3904ac"
   },
   "source": [
    "## **Create Tuple With One Item**\n",
    "* To create a tuple with only one item, you have to add a comma after the item, otherwise Python will not recognize it as a tuple."
   ]
  },
  {
   "cell_type": "code",
   "execution_count": null,
   "id": "756e5f67",
   "metadata": {
    "id": "756e5f67",
    "outputId": "40d2b8bf-dac7-4755-ee8a-11fdba206c3d"
   },
   "outputs": [
    {
     "name": "stdout",
     "output_type": "stream",
     "text": [
      "<class 'tuple'>\n",
      "<class 'str'>\n"
     ]
    }
   ],
   "source": [
    "thistuple = (\"apple\",)\n",
    "print(type(thistuple))\n",
    "\n",
    "#NOT a tuple\n",
    "thistuple = (\"apple\")\n",
    "print(type(thistuple))"
   ]
  },
  {
   "cell_type": "markdown",
   "id": "5231e95e",
   "metadata": {
    "id": "5231e95e"
   },
   "source": [
    "## **Tuple Items - Data Types**\n",
    "* Tuple items can be of any data type:"
   ]
  },
  {
   "cell_type": "code",
   "execution_count": null,
   "id": "d132f822",
   "metadata": {
    "id": "d132f822"
   },
   "outputs": [],
   "source": [
    "tuple1 = (\"apple\", \"banana\", \"cherry\")\n",
    "tuple2 = (1, 5, 7, 9, 3)\n",
    "tuple3 = (True, False, False)"
   ]
  },
  {
   "cell_type": "markdown",
   "id": "9837c9ff",
   "metadata": {
    "id": "9837c9ff"
   },
   "source": [
    "* A tuple with strings, integers and boolean values:"
   ]
  },
  {
   "cell_type": "code",
   "execution_count": null,
   "id": "2277cb71",
   "metadata": {
    "id": "2277cb71"
   },
   "outputs": [],
   "source": [
    "tuple1 = (\"abc\", 34, True, 40, \"male\")"
   ]
  },
  {
   "cell_type": "markdown",
   "id": "957c3787",
   "metadata": {
    "id": "957c3787"
   },
   "source": [
    "### **type()**\n",
    "\n",
    "* From Python's perspective, tuples are defined as objects with the data type 'tuple':"
   ]
  },
  {
   "cell_type": "code",
   "execution_count": null,
   "id": "b7e97a5a",
   "metadata": {
    "id": "b7e97a5a",
    "outputId": "83408f0f-d81b-4027-93d8-f8a4243f75ae"
   },
   "outputs": [
    {
     "name": "stdout",
     "output_type": "stream",
     "text": [
      "<class 'tuple'>\n"
     ]
    }
   ],
   "source": [
    "mytuple = (\"apple\", \"banana\", \"cherry\")\n",
    "print(type(mytuple))"
   ]
  },
  {
   "cell_type": "markdown",
   "id": "87e16029",
   "metadata": {
    "id": "87e16029"
   },
   "source": [
    "### **The tuple() Constructor**\n",
    "* It is also possible to use the tuple() constructor to make a tuple."
   ]
  },
  {
   "cell_type": "code",
   "execution_count": null,
   "id": "fd911cfc",
   "metadata": {
    "id": "fd911cfc",
    "outputId": "ea8d954e-987c-417f-8bb3-7376133b92ce"
   },
   "outputs": [
    {
     "name": "stdout",
     "output_type": "stream",
     "text": [
      "('apple', 'banana', 'cherry')\n"
     ]
    }
   ],
   "source": [
    "thistuple = tuple((\"apple\", \"banana\", \"cherry\")) # note the double round-brackets\n",
    "print(thistuple)"
   ]
  },
  {
   "cell_type": "markdown",
   "id": "4ab96212",
   "metadata": {
    "id": "4ab96212"
   },
   "source": [
    "## **Unpacking Tuple**\n",
    "* Unpacking a tuple means splitting the tuple’s elements into individual variables. For example:"
   ]
  },
  {
   "cell_type": "code",
   "execution_count": null,
   "id": "ca1c403e",
   "metadata": {
    "id": "ca1c403e"
   },
   "outputs": [],
   "source": [
    "x, y = (1, 2)"
   ]
  },
  {
   "cell_type": "code",
   "execution_count": null,
   "id": "fcc01d88",
   "metadata": {
    "id": "fcc01d88",
    "outputId": "59dcdf5f-7a53-47ef-99f4-cccddf0eac67"
   },
   "outputs": [
    {
     "data": {
      "text/plain": [
       "1"
      ]
     },
     "execution_count": 10,
     "metadata": {},
     "output_type": "execute_result"
    }
   ],
   "source": [
    "x"
   ]
  },
  {
   "cell_type": "code",
   "execution_count": null,
   "id": "9804c6e7",
   "metadata": {
    "id": "9804c6e7",
    "outputId": "1be52e10-f9f4-4cb4-9f58-a4118f01988d"
   },
   "outputs": [
    {
     "data": {
      "text/plain": [
       "2"
      ]
     },
     "execution_count": 11,
     "metadata": {},
     "output_type": "execute_result"
    }
   ],
   "source": [
    "y"
   ]
  },
  {
   "cell_type": "code",
   "execution_count": null,
   "id": "86727763",
   "metadata": {
    "id": "86727763",
    "outputId": "cd76a6c5-4e83-40b8-aa35-bc8111b2b303"
   },
   "outputs": [
    {
     "data": {
      "text/plain": [
       "(1, 2)"
      ]
     },
     "execution_count": 12,
     "metadata": {},
     "output_type": "execute_result"
    }
   ],
   "source": [
    "x,y"
   ]
  },
  {
   "cell_type": "markdown",
   "id": "d61c5229",
   "metadata": {
    "id": "d61c5229"
   },
   "source": [
    "* x,y is a tuple of two variables x and y.\n",
    "\n",
    "* The right side is also a tuple of two integers 1 and 2.\n",
    "\n",
    "* The expression assigns the tuple elements on the right side (1, 2) to each variable on the left side (x, y) based on the relative position of each element."
   ]
  },
  {
   "cell_type": "code",
   "execution_count": null,
   "id": "4eea66e1",
   "metadata": {
    "id": "4eea66e1"
   },
   "outputs": [],
   "source": [
    "x, y ,z = 10, 20, 30"
   ]
  },
  {
   "cell_type": "code",
   "execution_count": null,
   "id": "2fcda397",
   "metadata": {
    "id": "2fcda397",
    "outputId": "e0f548c2-402b-4c23-f6b6-d0fe0ea7104e"
   },
   "outputs": [
    {
     "data": {
      "text/plain": [
       "(10, 20, 30)"
      ]
     },
     "execution_count": 14,
     "metadata": {},
     "output_type": "execute_result"
    }
   ],
   "source": [
    "x,y,z"
   ]
  },
  {
   "cell_type": "code",
   "execution_count": null,
   "id": "a36bed1b",
   "metadata": {
    "id": "a36bed1b",
    "outputId": "97d81e1a-7027-4202-c41d-f7333e750661"
   },
   "outputs": [
    {
     "data": {
      "text/plain": [
       "10"
      ]
     },
     "execution_count": 15,
     "metadata": {},
     "output_type": "execute_result"
    }
   ],
   "source": [
    "x"
   ]
  },
  {
   "cell_type": "code",
   "execution_count": null,
   "id": "4e06aa3f",
   "metadata": {
    "id": "4e06aa3f",
    "outputId": "6cc41307-25c0-413c-b7ad-92aacae90f24"
   },
   "outputs": [
    {
     "data": {
      "text/plain": [
       "20"
      ]
     },
     "execution_count": 16,
     "metadata": {},
     "output_type": "execute_result"
    }
   ],
   "source": [
    "y"
   ]
  },
  {
   "cell_type": "code",
   "execution_count": null,
   "id": "dea35353",
   "metadata": {
    "id": "dea35353",
    "outputId": "af6edcfe-69d3-4488-ecdb-e6a15cb82ad6"
   },
   "outputs": [
    {
     "data": {
      "text/plain": [
       "30"
      ]
     },
     "execution_count": 17,
     "metadata": {},
     "output_type": "execute_result"
    }
   ],
   "source": [
    "z"
   ]
  },
  {
   "cell_type": "code",
   "execution_count": null,
   "id": "3ae47426",
   "metadata": {
    "id": "3ae47426",
    "outputId": "3433be43-f30c-4f51-d4cc-8d29a19a4597"
   },
   "outputs": [
    {
     "data": {
      "text/plain": [
       "(10, 20)"
      ]
     },
     "execution_count": 18,
     "metadata": {},
     "output_type": "execute_result"
    }
   ],
   "source": [
    "x,y"
   ]
  },
  {
   "cell_type": "code",
   "execution_count": null,
   "id": "e3672b9b",
   "metadata": {
    "id": "e3672b9b",
    "outputId": "839cb8c8-1eef-4eed-e453-bff60919cf38"
   },
   "outputs": [
    {
     "data": {
      "text/plain": [
       "(20, 30)"
      ]
     },
     "execution_count": 19,
     "metadata": {},
     "output_type": "execute_result"
    }
   ],
   "source": [
    "y,z"
   ]
  },
  {
   "cell_type": "code",
   "execution_count": null,
   "id": "61d860b0",
   "metadata": {
    "id": "61d860b0",
    "outputId": "156bb5ef-866c-40bf-c4a0-639728f35353"
   },
   "outputs": [
    {
     "name": "stdout",
     "output_type": "stream",
     "text": [
      "<class 'tuple'>\n"
     ]
    }
   ],
   "source": [
    "numbers = 10, 20, 30\n",
    "print(type(numbers))"
   ]
  },
  {
   "cell_type": "markdown",
   "id": "45b2fa03",
   "metadata": {
    "id": "45b2fa03"
   },
   "source": [
    "## **Using unpacking tuple to swap values of two variables**\n",
    "* Traditionally, to swap the values of two variables, you would use a temporary variable like this:"
   ]
  },
  {
   "cell_type": "code",
   "execution_count": null,
   "id": "92f8949e",
   "metadata": {
    "id": "92f8949e",
    "outputId": "a075337e-2088-4759-e3fb-f05df4078fa1"
   },
   "outputs": [
    {
     "name": "stdout",
     "output_type": "stream",
     "text": [
      "x=10, y=20\n",
      "x=20, y=10\n"
     ]
    }
   ],
   "source": [
    "x = 10\n",
    "y = 20\n",
    "\n",
    "print(f'x={x}, y={y}')\n",
    "\n",
    "tmp = x\n",
    "x = y\n",
    "y = tmp\n",
    "\n",
    "print(f'x={x}, y={y}')"
   ]
  },
  {
   "cell_type": "code",
   "execution_count": null,
   "id": "aee16e72",
   "metadata": {
    "id": "aee16e72",
    "outputId": "c6e6176f-44a4-4b68-bc12-0ea9c90d0303"
   },
   "outputs": [
    {
     "name": "stdout",
     "output_type": "stream",
     "text": [
      "x=10, y=20\n",
      "x=20, y=10\n"
     ]
    }
   ],
   "source": [
    "#In Python, you can use the unpacking tuple syntax to achieve the same result:\n",
    "x = 10\n",
    "y = 20\n",
    "\n",
    "print(f'x={x}, y={y}')\n",
    "#In this expression, Python evaluates the right-hand side first \n",
    "#and then assigns the variable from the left-hand side to the values from the right-hand side.\n",
    "x, y = y, x\n",
    "\n",
    "print(f'x={x}, y={y}')"
   ]
  },
  {
   "cell_type": "markdown",
   "id": "fd265b65",
   "metadata": {
    "id": "fd265b65"
   },
   "source": [
    "### **ValueError: too many values to unpack**\n",
    "* The following example unpacks the elements of a tuple into variables. However, it’ll result in an error:"
   ]
  },
  {
   "cell_type": "code",
   "execution_count": null,
   "id": "505b8dac",
   "metadata": {
    "id": "505b8dac",
    "outputId": "08bf18c7-b677-4ff6-84f2-7dfa40e810e9"
   },
   "outputs": [
    {
     "ename": "ValueError",
     "evalue": "too many values to unpack (expected 2)",
     "output_type": "error",
     "traceback": [
      "\u001b[1;31m---------------------------------------------------------------------------\u001b[0m",
      "\u001b[1;31mValueError\u001b[0m                                Traceback (most recent call last)",
      "Input \u001b[1;32mIn [23]\u001b[0m, in \u001b[0;36m<cell line: 1>\u001b[1;34m()\u001b[0m\n\u001b[1;32m----> 1\u001b[0m x, y \u001b[38;5;241m=\u001b[39m \u001b[38;5;241m10\u001b[39m, \u001b[38;5;241m20\u001b[39m, \u001b[38;5;241m30\u001b[39m\n",
      "\u001b[1;31mValueError\u001b[0m: too many values to unpack (expected 2)"
     ]
    }
   ],
   "source": [
    "x, y = 10, 20, 30"
   ]
  },
  {
   "cell_type": "markdown",
   "id": "4efc3a83",
   "metadata": {
    "id": "4efc3a83"
   },
   "source": [
    "* This error is because the right-hand side returns three values while the left-hand side only has two variables.\n",
    "* To fix this, you can add a _ variable:"
   ]
  },
  {
   "cell_type": "code",
   "execution_count": null,
   "id": "88e6661c",
   "metadata": {
    "id": "88e6661c"
   },
   "outputs": [],
   "source": [
    "x, y, _ = 10, 20, 30"
   ]
  },
  {
   "cell_type": "code",
   "execution_count": null,
   "id": "2d4a7f9e",
   "metadata": {
    "id": "2d4a7f9e",
    "outputId": "480669cb-2b24-43e1-fa51-5b2f88771e9b"
   },
   "outputs": [
    {
     "data": {
      "text/plain": [
       "10"
      ]
     },
     "execution_count": 30,
     "metadata": {},
     "output_type": "execute_result"
    }
   ],
   "source": [
    "x"
   ]
  },
  {
   "cell_type": "code",
   "execution_count": null,
   "id": "d08bdbfb",
   "metadata": {
    "id": "d08bdbfb",
    "outputId": "ab432ccb-1e8f-4a81-c18a-718b85502514"
   },
   "outputs": [
    {
     "data": {
      "text/plain": [
       "20"
      ]
     },
     "execution_count": 31,
     "metadata": {},
     "output_type": "execute_result"
    }
   ],
   "source": [
    "y"
   ]
  },
  {
   "cell_type": "code",
   "execution_count": null,
   "id": "f0553862",
   "metadata": {
    "id": "f0553862",
    "outputId": "897d5e2f-81ca-4821-b617-f5dc73ddd90b"
   },
   "outputs": [
    {
     "data": {
      "text/plain": [
       "30"
      ]
     },
     "execution_count": 32,
     "metadata": {},
     "output_type": "execute_result"
    }
   ],
   "source": [
    "_"
   ]
  },
  {
   "cell_type": "markdown",
   "id": "a188f9bb",
   "metadata": {
    "id": "a188f9bb"
   },
   "source": [
    "* The **_** variable is a regular variable in Python. By convention, it’s called a dummy variable.\n",
    "\n",
    "* Typically, you use the dummy variable to unpack when you don’t care and use its value afterward."
   ]
  },
  {
   "cell_type": "markdown",
   "id": "5c56cca5",
   "metadata": {
    "id": "5c56cca5"
   },
   "source": [
    "### **Extended unpacking using the * operator**\n",
    "* Sometimes, you don’t want to unpack every single item in a tuple. \n",
    "* For example, you may want to unpack the first and second elements. In this case, you can use the * operator. For example:"
   ]
  },
  {
   "cell_type": "code",
   "execution_count": null,
   "id": "c9373675",
   "metadata": {
    "id": "c9373675"
   },
   "outputs": [],
   "source": [
    "r, g, *other = (192, 210, 100, 0.5)"
   ]
  },
  {
   "cell_type": "code",
   "execution_count": null,
   "id": "06c18f6e",
   "metadata": {
    "id": "06c18f6e",
    "outputId": "fa75d09c-f18e-4f83-b39b-0998dcb4d5c1"
   },
   "outputs": [
    {
     "data": {
      "text/plain": [
       "192"
      ]
     },
     "execution_count": 26,
     "metadata": {},
     "output_type": "execute_result"
    }
   ],
   "source": [
    "r"
   ]
  },
  {
   "cell_type": "code",
   "execution_count": null,
   "id": "9c8b0052",
   "metadata": {
    "id": "9c8b0052",
    "outputId": "9c014091-e809-4e73-a697-ebbcfd7509da"
   },
   "outputs": [
    {
     "data": {
      "text/plain": [
       "210"
      ]
     },
     "execution_count": 27,
     "metadata": {},
     "output_type": "execute_result"
    }
   ],
   "source": [
    "g"
   ]
  },
  {
   "cell_type": "code",
   "execution_count": null,
   "id": "b3ba484a",
   "metadata": {
    "id": "b3ba484a",
    "outputId": "2f781565-546e-40af-b4ef-ad39587c23fa"
   },
   "outputs": [
    {
     "data": {
      "text/plain": [
       "[100, 0.5]"
      ]
     },
     "execution_count": 28,
     "metadata": {},
     "output_type": "execute_result"
    }
   ],
   "source": [
    "other"
   ]
  },
  {
   "cell_type": "markdown",
   "id": "02a7041b",
   "metadata": {
    "id": "02a7041b"
   },
   "source": [
    "* Notice that you can only use the * operator once on the left-hand side of an unpacking assignment.\n",
    "\n",
    "* The following example results in error:"
   ]
  },
  {
   "cell_type": "code",
   "execution_count": null,
   "id": "a1ec07c4",
   "metadata": {
    "id": "a1ec07c4",
    "outputId": "976f821a-5dbb-4e71-a667-b12b9a088770"
   },
   "outputs": [
    {
     "ename": "SyntaxError",
     "evalue": "multiple starred expressions in assignment (3014806510.py, line 1)",
     "output_type": "error",
     "traceback": [
      "\u001b[1;36m  Input \u001b[1;32mIn [33]\u001b[1;36m\u001b[0m\n\u001b[1;33m    x, y, *z, *t = (10, 20, 30, '10:30')\u001b[0m\n\u001b[1;37m    ^\u001b[0m\n\u001b[1;31mSyntaxError\u001b[0m\u001b[1;31m:\u001b[0m multiple starred expressions in assignment\n"
     ]
    }
   ],
   "source": [
    "x, y, *z, *t = (10, 20, 30, '10:30')"
   ]
  },
  {
   "cell_type": "markdown",
   "id": "c9867985",
   "metadata": {
    "id": "c9867985"
   },
   "source": [
    "### **Using the * operator on the right hand side**\n",
    "* Python allows you to use the * operator on the right-hand side. Suppose that you have two tuples:"
   ]
  },
  {
   "cell_type": "code",
   "execution_count": null,
   "id": "9c67f0d0",
   "metadata": {
    "id": "9c67f0d0"
   },
   "outputs": [],
   "source": [
    "odd_numbers = (1, 3, 5)\n",
    "even_numbers = (2, 4, 6)"
   ]
  },
  {
   "cell_type": "markdown",
   "id": "65c36401",
   "metadata": {
    "id": "65c36401"
   },
   "source": [
    "* The following example uses the * operator to unpack those tuples and merge them into a single tuple:"
   ]
  },
  {
   "cell_type": "code",
   "execution_count": null,
   "id": "fdb812a9",
   "metadata": {
    "id": "fdb812a9",
    "outputId": "fa16e7af-cb8f-4eeb-8017-3dd868f81d26"
   },
   "outputs": [
    {
     "name": "stdout",
     "output_type": "stream",
     "text": [
      "(1, 3, 5, 2, 4, 6)\n"
     ]
    }
   ],
   "source": [
    "numbers = (*odd_numbers, *even_numbers)\n",
    "print(numbers)"
   ]
  },
  {
   "cell_type": "code",
   "execution_count": null,
   "id": "ecba5ccc",
   "metadata": {
    "id": "ecba5ccc"
   },
   "outputs": [],
   "source": []
  },
  {
   "cell_type": "markdown",
   "id": "4__Sc4F1k5c8",
   "metadata": {
    "id": "4__Sc4F1k5c8"
   },
   "source": []
  },
  {
   "cell_type": "markdown",
   "id": "URhWT4OJk5p6",
   "metadata": {
    "id": "URhWT4OJk5p6"
   },
   "source": [
    "## **Python NamedTuple**\n",
    "### **Introduction to Python named tuples**\n",
    "* The following shows a tuple that has two elements:\n"
   ]
  },
  {
   "cell_type": "code",
   "execution_count": 1,
   "id": "iMPkekzvlDAP",
   "metadata": {
    "executionInfo": {
     "elapsed": 3,
     "status": "ok",
     "timestamp": 1654243223699,
     "user": {
      "displayName": "Dharmendra Chaudhary",
      "userId": "16994293431277914491"
     },
     "user_tz": -330
    },
    "id": "iMPkekzvlDAP"
   },
   "outputs": [],
   "source": [
    "point = (100,200)"
   ]
  },
  {
   "cell_type": "markdown",
   "id": "bdAa_FJ1lQiM",
   "metadata": {
    "id": "bdAa_FJ1lQiM"
   },
   "source": [
    "* The point tuple represents a 2D point whose x-coordinate is 100 and y coordinate is 200.\n",
    "\n",
    "* To get the x-coordinate and y-coordinate, you can use the following syntax:\n"
   ]
  },
  {
   "cell_type": "code",
   "execution_count": 2,
   "id": "mNYh6XOalDLl",
   "metadata": {
    "executionInfo": {
     "elapsed": 9,
     "status": "ok",
     "timestamp": 1654243278021,
     "user": {
      "displayName": "Dharmendra Chaudhary",
      "userId": "16994293431277914491"
     },
     "user_tz": -330
    },
    "id": "mNYh6XOalDLl"
   },
   "outputs": [],
   "source": [
    " x = point[0]\n",
    " y = point[1]"
   ]
  },
  {
   "cell_type": "code",
   "execution_count": null,
   "id": "NlubZSaqlTb2",
   "metadata": {
    "id": "NlubZSaqlTb2"
   },
   "outputs": [],
   "source": []
  },
  {
   "cell_type": "markdown",
   "id": "rBzFjOhMlg_z",
   "metadata": {
    "id": "rBzFjOhMlg_z"
   },
   "source": [
    "* This code works fine. However, it’s not so obvious.\n",
    "\n",
    "* When you look at the point[0], you need to know its implicitly meaning which doesn’t mention in the code.\n",
    "\n",
    "* To make the code more clear, you might want to use a class. For example:\n"
   ]
  },
  {
   "cell_type": "code",
   "execution_count": 3,
   "id": "jTRXnJsRlmds",
   "metadata": {
    "executionInfo": {
     "elapsed": 3,
     "status": "ok",
     "timestamp": 1654243356349,
     "user": {
      "displayName": "Dharmendra Chaudhary",
      "userId": "16994293431277914491"
     },
     "user_tz": -330
    },
    "id": "jTRXnJsRlmds"
   },
   "outputs": [],
   "source": [
    "class Point2D:\n",
    "    def __init__(self, x, y):\n",
    "        self.x = x\n",
    "        self.y = y\n"
   ]
  },
  {
   "cell_type": "code",
   "execution_count": 4,
   "id": "uKSfzuTglmn0",
   "metadata": {
    "executionInfo": {
     "elapsed": 6,
     "status": "ok",
     "timestamp": 1654243372424,
     "user": {
      "displayName": "Dharmendra Chaudhary",
      "userId": "16994293431277914491"
     },
     "user_tz": -330
    },
    "id": "uKSfzuTglmn0"
   },
   "outputs": [],
   "source": [
    "#And you can create a new instance of the Point2D:\n",
    "a = Point2D(100, 200)"
   ]
  },
  {
   "cell_type": "code",
   "execution_count": 5,
   "id": "TBFGe9KQlqca",
   "metadata": {
    "colab": {
     "base_uri": "https://localhost:8080/"
    },
    "executionInfo": {
     "elapsed": 7,
     "status": "ok",
     "timestamp": 1654243383889,
     "user": {
      "displayName": "Dharmendra Chaudhary",
      "userId": "16994293431277914491"
     },
     "user_tz": -330
    },
    "id": "TBFGe9KQlqca",
    "outputId": "1bebf61f-05a0-4e72-bdf2-06d0643fba06"
   },
   "outputs": [
    {
     "name": "stdout",
     "output_type": "stream",
     "text": [
      "100\n",
      "200\n"
     ]
    }
   ],
   "source": [
    "#Also, you can access x-coordinate and y-coordinate attributes:\n",
    "print(a.x)\n",
    "print(a.y)"
   ]
  },
  {
   "cell_type": "code",
   "execution_count": 6,
   "id": "FVA9qCg3ltXh",
   "metadata": {
    "executionInfo": {
     "elapsed": 5,
     "status": "ok",
     "timestamp": 1654243402770,
     "user": {
      "displayName": "Dharmendra Chaudhary",
      "userId": "16994293431277914491"
     },
     "user_tz": -330
    },
    "id": "FVA9qCg3ltXh"
   },
   "outputs": [],
   "source": [
    "#To compare if two points are the same, you need to implement the __eq__ method:\n",
    "class Point2D:\n",
    "    def __init__(self, x, y):\n",
    "        self.x = x\n",
    "        self.y = y\n",
    "\n",
    "    def __eq__(self, other):\n",
    "        if isinstance(other, Point2D):\n",
    "            return self.x == other.x and self.y == other.y\n",
    "        return False\n"
   ]
  },
  {
   "cell_type": "code",
   "execution_count": null,
   "id": "w2I1MGUMlxrX",
   "metadata": {
    "id": "w2I1MGUMlxrX"
   },
   "outputs": [],
   "source": []
  },
  {
   "cell_type": "markdown",
   "id": "F0wJ8hy0lzvK",
   "metadata": {
    "id": "F0wJ8hy0lzvK"
   },
   "source": [
    "* The __eq__ method checks if a point is an instance of the Point2D class and returns True if both x-coordinate and y-coordinate are equal.\n",
    "\n",
    "* The following shows how to compare two instances of the Point2D class:\n"
   ]
  },
  {
   "cell_type": "code",
   "execution_count": 7,
   "id": "sAZnOHCdl3JJ",
   "metadata": {
    "colab": {
     "base_uri": "https://localhost:8080/"
    },
    "executionInfo": {
     "elapsed": 3,
     "status": "ok",
     "timestamp": 1654243424681,
     "user": {
      "displayName": "Dharmendra Chaudhary",
      "userId": "16994293431277914491"
     },
     "user_tz": -330
    },
    "id": "sAZnOHCdl3JJ",
    "outputId": "ece5e465-b8d7-4858-be0f-002832e1bdb6"
   },
   "outputs": [
    {
     "name": "stdout",
     "output_type": "stream",
     "text": [
      "False\n",
      "True\n"
     ]
    }
   ],
   "source": [
    "a = Point2D(100, 200)\n",
    "b = Point2D(100, 200)\n",
    "\n",
    "print(a is b)  # False\n",
    "print(a == b)  # true"
   ]
  },
  {
   "cell_type": "code",
   "execution_count": null,
   "id": "vdQDVVWil3Tj",
   "metadata": {
    "id": "vdQDVVWil3Tj"
   },
   "outputs": [],
   "source": []
  },
  {
   "cell_type": "markdown",
   "id": "CuBdMGkdl8Us",
   "metadata": {
    "id": "CuBdMGkdl8Us"
   },
   "source": [
    "* The Point2D might work as you expected. However, you need to write a lot of code.\n",
    "\n",
    "* To combine the simplicity of a tuple and the obvious of a class, you can use a named tuple\n",
    "![image.png](data:image/png;base64,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)\n",
    "\n",
    "* Named tuples allow you to create tuples and assign meaningful names to the positions of the tuple’s elements.\n",
    "\n",
    "* Technically, a named tuple is a subclass of tuple. On top of that, it adds property names to the positional elements."
   ]
  },
  {
   "cell_type": "code",
   "execution_count": null,
   "id": "4O5oJlS0l_Qn",
   "metadata": {
    "id": "4O5oJlS0l_Qn"
   },
   "outputs": [],
   "source": []
  },
  {
   "cell_type": "markdown",
   "id": "DRSETjKamIVR",
   "metadata": {
    "id": "DRSETjKamIVR"
   },
   "source": []
  },
  {
   "cell_type": "markdown",
   "id": "NJ5jh-UpmIZ6",
   "metadata": {
    "id": "NJ5jh-UpmIZ6"
   },
   "source": [
    "### **Creating named tuple classes**\n",
    "* To create a named tuple class, you need to the namedtuple function of the collections standard library.\n",
    "\n",
    "* The namedtuple is a function that returns a new named tuple class. In other words, the namedtuple() is a class factory.\n",
    "\n",
    "* To use the namedtuple function, you need to import it from the collections module first:\n"
   ]
  },
  {
   "cell_type": "code",
   "execution_count": 8,
   "id": "ytezcunRmPjP",
   "metadata": {
    "executionInfo": {
     "elapsed": 2,
     "status": "ok",
     "timestamp": 1654243524665,
     "user": {
      "displayName": "Dharmendra Chaudhary",
      "userId": "16994293431277914491"
     },
     "user_tz": -330
    },
    "id": "ytezcunRmPjP"
   },
   "outputs": [],
   "source": [
    "from collections import namedtuple"
   ]
  },
  {
   "cell_type": "code",
   "execution_count": null,
   "id": "ECaSDwBcmPsz",
   "metadata": {
    "id": "ECaSDwBcmPsz"
   },
   "outputs": [],
   "source": []
  },
  {
   "cell_type": "markdown",
   "id": "xLl-VuGHmUxz",
   "metadata": {
    "id": "xLl-VuGHmUxz"
   },
   "source": [
    "* The namedtuple function accepts the following arguments to generate a class:\n",
    "\n",
    "  * A class name that specifies the name of the named tuple class.\n",
    "  * A sequence of field names that correspond to the elements of tuples. The field names must be valid variable names except that they cannot start with an underscore (_).\n",
    "  * For example, the following uses the namedtuple function to create the Point2D class:\n",
    "  "
   ]
  },
  {
   "cell_type": "code",
   "execution_count": 9,
   "id": "eUFf_UTBmamX",
   "metadata": {
    "executionInfo": {
     "elapsed": 4,
     "status": "ok",
     "timestamp": 1654243572486,
     "user": {
      "displayName": "Dharmendra Chaudhary",
      "userId": "16994293431277914491"
     },
     "user_tz": -330
    },
    "id": "eUFf_UTBmamX"
   },
   "outputs": [],
   "source": [
    "Point2D = namedtuple('Point2D',['x','y'])"
   ]
  },
  {
   "cell_type": "code",
   "execution_count": null,
   "id": "FScfJUg2mbPI",
   "metadata": {
    "id": "FScfJUg2mbPI"
   },
   "outputs": [],
   "source": []
  },
  {
   "cell_type": "markdown",
   "id": "z9voUd7nmc1j",
   "metadata": {
    "id": "z9voUd7nmc1j"
   },
   "source": []
  },
  {
   "cell_type": "markdown",
   "id": "fRAXM891mc27",
   "metadata": {
    "id": "fRAXM891mc27"
   },
   "source": [
    "* The namedtuple also can accept fields names as:\n",
    "\n",
    "  * 1) A tuple of string:\n"
   ]
  },
  {
   "cell_type": "code",
   "execution_count": 10,
   "id": "dClPHDATmgjX",
   "metadata": {
    "executionInfo": {
     "elapsed": 2,
     "status": "ok",
     "timestamp": 1654243595168,
     "user": {
      "displayName": "Dharmendra Chaudhary",
      "userId": "16994293431277914491"
     },
     "user_tz": -330
    },
    "id": "dClPHDATmgjX"
   },
   "outputs": [],
   "source": [
    "Point2D = namedtuple('Point2D',('x','y'))"
   ]
  },
  {
   "cell_type": "code",
   "execution_count": null,
   "id": "7zHLlvh6mgzl",
   "metadata": {
    "id": "7zHLlvh6mgzl"
   },
   "outputs": [],
   "source": []
  },
  {
   "cell_type": "markdown",
   "id": "mvCkkmyPmwDa",
   "metadata": {
    "id": "mvCkkmyPmwDa"
   },
   "source": [
    "  * 2) Or a single string with field names separated by commas:\n",
    "   "
   ]
  },
  {
   "cell_type": "code",
   "execution_count": 11,
   "id": "yMuubxRImzyq",
   "metadata": {
    "executionInfo": {
     "elapsed": 3,
     "status": "ok",
     "timestamp": 1654243673114,
     "user": {
      "displayName": "Dharmendra Chaudhary",
      "userId": "16994293431277914491"
     },
     "user_tz": -330
    },
    "id": "yMuubxRImzyq"
   },
   "outputs": [],
   "source": [
    "Point2D = namedtuple('Point2D',('x, y'))"
   ]
  },
  {
   "cell_type": "code",
   "execution_count": null,
   "id": "ySrZvRygmz-b",
   "metadata": {
    "id": "ySrZvRygmz-b"
   },
   "outputs": [],
   "source": []
  },
  {
   "cell_type": "markdown",
   "id": "7HnIwrhXm2i8",
   "metadata": {
    "id": "7HnIwrhXm2i8"
   },
   "source": [
    "  * 3) Or a single string with field names separated by whitespaces\n",
    "  "
   ]
  },
  {
   "cell_type": "code",
   "execution_count": 12,
   "id": "3ty9oofhm5C7",
   "metadata": {
    "executionInfo": {
     "elapsed": 2,
     "status": "ok",
     "timestamp": 1654243694800,
     "user": {
      "displayName": "Dharmendra Chaudhary",
      "userId": "16994293431277914491"
     },
     "user_tz": -330
    },
    "id": "3ty9oofhm5C7"
   },
   "outputs": [],
   "source": [
    "Point2D = namedtuple('Point2D','x y')"
   ]
  },
  {
   "cell_type": "code",
   "execution_count": null,
   "id": "wWJGp3Bdm5PE",
   "metadata": {
    "id": "wWJGp3Bdm5PE"
   },
   "outputs": [],
   "source": []
  },
  {
   "cell_type": "markdown",
   "id": "TzJpa-G4m71L",
   "metadata": {
    "id": "TzJpa-G4m71L"
   },
   "source": [
    "#### **Instantiating named tuples**\n",
    "* The Point2D is a class, which is a subclass of the tuple. And you can create new instances of the Point2D class like you do with a regular class. \n",
    "* For example:\n"
   ]
  },
  {
   "cell_type": "code",
   "execution_count": 13,
   "id": "7Y7jmOK1m_xb",
   "metadata": {
    "executionInfo": {
     "elapsed": 3,
     "status": "ok",
     "timestamp": 1654243723180,
     "user": {
      "displayName": "Dharmendra Chaudhary",
      "userId": "16994293431277914491"
     },
     "user_tz": -330
    },
    "id": "7Y7jmOK1m_xb"
   },
   "outputs": [],
   "source": [
    "point = Point2D(100, 200)"
   ]
  },
  {
   "cell_type": "code",
   "execution_count": 14,
   "id": "uDSu-o4DnADR",
   "metadata": {
    "executionInfo": {
     "elapsed": 3,
     "status": "ok",
     "timestamp": 1654243735041,
     "user": {
      "displayName": "Dharmendra Chaudhary",
      "userId": "16994293431277914491"
     },
     "user_tz": -330
    },
    "id": "uDSu-o4DnADR"
   },
   "outputs": [],
   "source": [
    "#Or you can use the keyword arguments:\n",
    "point = Point2D(x=100, y=200)"
   ]
  },
  {
   "cell_type": "code",
   "execution_count": null,
   "id": "t7ZnTFtGnDB6",
   "metadata": {
    "id": "t7ZnTFtGnDB6"
   },
   "outputs": [],
   "source": []
  },
  {
   "cell_type": "markdown",
   "id": "6xjTcdPFnExC",
   "metadata": {
    "id": "6xjTcdPFnExC"
   },
   "source": [
    "![image.png](data:image/png;base64,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)\n",
    "\n",
    "* The point object is an instance of the Point2D class. Therefore, it’s an instance of the tuple class:"
   ]
  },
  {
   "cell_type": "code",
   "execution_count": 15,
   "id": "ePcQloPZnE-x",
   "metadata": {
    "colab": {
     "base_uri": "https://localhost:8080/"
    },
    "executionInfo": {
     "elapsed": 8,
     "status": "ok",
     "timestamp": 1654243763652,
     "user": {
      "displayName": "Dharmendra Chaudhary",
      "userId": "16994293431277914491"
     },
     "user_tz": -330
    },
    "id": "ePcQloPZnE-x",
    "outputId": "35216afa-8ce9-4244-8f6f-5efff67c824f"
   },
   "outputs": [
    {
     "name": "stdout",
     "output_type": "stream",
     "text": [
      "True\n",
      "True\n"
     ]
    }
   ],
   "source": [
    "print(isinstance(point, Point2D))  # True\n",
    "print(isinstance(point, tuple))  # True"
   ]
  },
  {
   "cell_type": "code",
   "execution_count": null,
   "id": "xlSyAHcwnJ-7",
   "metadata": {
    "id": "xlSyAHcwnJ-7"
   },
   "outputs": [],
   "source": []
  },
  {
   "cell_type": "markdown",
   "id": "JTrI_iv6nNQ7",
   "metadata": {
    "id": "JTrI_iv6nNQ7"
   },
   "source": [
    "#### **Accessing data of a named tuple**\n",
    "* A named tuple is a regular tuple. Therefore, you can apply all tuple operations on a named tuple.\n",
    "\n",
    "* To access data in a named tuple, you can use:\n",
    "\n",
    "  * Slicing\n",
    "  * Unpacking\n",
    "  * Indexing\n",
    "  * and iterating\n",
    "* For example:\n"
   ]
  },
  {
   "cell_type": "code",
   "execution_count": 16,
   "id": "3X7WbyFLnWds",
   "metadata": {
    "colab": {
     "base_uri": "https://localhost:8080/"
    },
    "executionInfo": {
     "elapsed": 4,
     "status": "ok",
     "timestamp": 1654243815902,
     "user": {
      "displayName": "Dharmendra Chaudhary",
      "userId": "16994293431277914491"
     },
     "user_tz": -330
    },
    "id": "3X7WbyFLnWds",
    "outputId": "9091777c-6db9-4402-c218-ce0791773709"
   },
   "outputs": [
    {
     "name": "stdout",
     "output_type": "stream",
     "text": [
      "(100, 200)\n",
      "(100, 200)\n",
      "100\n",
      "200\n"
     ]
    }
   ],
   "source": [
    "# unpacking\n",
    "x, y = point\n",
    "print(f'({x}, {y})')  # (100, 200)\n",
    "\n",
    "# indexing\n",
    "x = point[0]\n",
    "y = point[1]\n",
    "print(f'({x}, {y})')  # (100, 200)\n",
    "\n",
    "# iterating\n",
    "\n",
    "for coordinate in point:\n",
    "    print(coordinate)\n"
   ]
  },
  {
   "cell_type": "code",
   "execution_count": null,
   "id": "kBQGkzUCnWvN",
   "metadata": {
    "id": "kBQGkzUCnWvN"
   },
   "outputs": [],
   "source": []
  },
  {
   "cell_type": "markdown",
   "id": "X1rw8NPanZf0",
   "metadata": {
    "id": "X1rw8NPanZf0"
   },
   "source": [
    "#### **The rename argument of the namedtuple function**\n",
    "* The namedtuple function accepts the rename the keyword-only argument that allows you to rename invalid field names.\n",
    "\n",
    "* The following results in an error because the field name _radius starts with an underscore (_):\n",
    "![image.png](data:image/png;base64,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)"
   ]
  },
  {
   "cell_type": "code",
   "execution_count": 18,
   "id": "Ha5i87G6nlQC",
   "metadata": {
    "executionInfo": {
     "elapsed": 7,
     "status": "ok",
     "timestamp": 1654243918944,
     "user": {
      "displayName": "Dharmendra Chaudhary",
      "userId": "16994293431277914491"
     },
     "user_tz": -330
    },
    "id": "Ha5i87G6nlQC"
   },
   "outputs": [],
   "source": [
    "#However, when you use the rename argument, the namedtuple function automatically renames the _radius to a valid field name. For example:\n",
    "from collections import namedtuple\n",
    "\n",
    "Circle = namedtuple(\n",
    "    'Circle',\n",
    "    'center_x, center_y, _radius',\n",
    "    rename=True\n",
    ")"
   ]
  },
  {
   "cell_type": "code",
   "execution_count": null,
   "id": "9P6hyB5qnv6p",
   "metadata": {
    "id": "9P6hyB5qnv6p"
   },
   "outputs": [],
   "source": []
  },
  {
   "cell_type": "markdown",
   "id": "JxZ_RV7BnyQR",
   "metadata": {
    "id": "JxZ_RV7BnyQR"
   },
   "source": [
    "* To find field names of a named tuple, you can use the _fields class property. For example:"
   ]
  },
  {
   "cell_type": "code",
   "execution_count": 19,
   "id": "W-pu8Y99nyxm",
   "metadata": {
    "colab": {
     "base_uri": "https://localhost:8080/"
    },
    "executionInfo": {
     "elapsed": 8,
     "status": "ok",
     "timestamp": 1654243939859,
     "user": {
      "displayName": "Dharmendra Chaudhary",
      "userId": "16994293431277914491"
     },
     "user_tz": -330
    },
    "id": "W-pu8Y99nyxm",
    "outputId": "70e36026-412e-4e10-d6a4-31afa37ef3eb"
   },
   "outputs": [
    {
     "name": "stdout",
     "output_type": "stream",
     "text": [
      "('center_x', 'center_y', '_2')\n"
     ]
    }
   ],
   "source": [
    "print(Circle._fields)"
   ]
  },
  {
   "cell_type": "code",
   "execution_count": null,
   "id": "SefaKQgBn02P",
   "metadata": {
    "id": "SefaKQgBn02P"
   },
   "outputs": [],
   "source": []
  },
  {
   "cell_type": "markdown",
   "id": "SUhdsqrDn3qk",
   "metadata": {
    "id": "SUhdsqrDn3qk"
   },
   "source": [
    "* In this example, the namedtuple function changes the _radius field to _2 automatically.\n",
    "\n",
    "#### **Additional Python functions of named tuples**\n",
    "* Named tuples provide some useful functions out of the box. For example, you can use the equal operator (==) to compare two named tuple instances:\n"
   ]
  },
  {
   "cell_type": "code",
   "execution_count": 20,
   "id": "kTuvJniFn_hs",
   "metadata": {
    "colab": {
     "base_uri": "https://localhost:8080/"
    },
    "executionInfo": {
     "elapsed": 5,
     "status": "ok",
     "timestamp": 1654243984014,
     "user": {
      "displayName": "Dharmendra Chaudhary",
      "userId": "16994293431277914491"
     },
     "user_tz": -330
    },
    "id": "kTuvJniFn_hs",
    "outputId": "db9ca298-907b-486e-976e-b72695826d3f"
   },
   "outputs": [
    {
     "name": "stdout",
     "output_type": "stream",
     "text": [
      "True\n"
     ]
    }
   ],
   "source": [
    "a = Point2D(100, 200)\n",
    "b = Point2D(100, 200)\n",
    "\n",
    "print(a == b)  # True"
   ]
  },
  {
   "cell_type": "code",
   "execution_count": null,
   "id": "KpHdxksRn_1l",
   "metadata": {
    "id": "KpHdxksRn_1l"
   },
   "outputs": [],
   "source": []
  },
  {
   "cell_type": "markdown",
   "id": "QEn7BF-koBkr",
   "metadata": {
    "id": "QEn7BF-koBkr"
   },
   "source": [
    "* If you use the class, you need to implement the __eq__ to get this function.\n",
    "\n",
    "* Also, you can get the string representation of a named tuple:\n"
   ]
  },
  {
   "cell_type": "code",
   "execution_count": 21,
   "id": "1anWSludoEH5",
   "metadata": {
    "colab": {
     "base_uri": "https://localhost:8080/"
    },
    "executionInfo": {
     "elapsed": 8,
     "status": "ok",
     "timestamp": 1654244002119,
     "user": {
      "displayName": "Dharmendra Chaudhary",
      "userId": "16994293431277914491"
     },
     "user_tz": -330
    },
    "id": "1anWSludoEH5",
    "outputId": "93a0658d-7da8-4ac6-c6d3-ebe54c6e99a1"
   },
   "outputs": [
    {
     "name": "stdout",
     "output_type": "stream",
     "text": [
      "Point2D(x=100, y=200)\n"
     ]
    }
   ],
   "source": [
    "print(a)"
   ]
  },
  {
   "cell_type": "code",
   "execution_count": null,
   "id": "oZ009itaoETF",
   "metadata": {
    "id": "oZ009itaoETF"
   },
   "outputs": [],
   "source": []
  },
  {
   "cell_type": "markdown",
   "id": "GUNPWWi3oF-z",
   "metadata": {
    "id": "GUNPWWi3oF-z"
   },
   "source": [
    "* Again, if you use the class, you need to implement __rep__ method.\n",
    "\n",
    "* Since a named tuple is a tuple, you can apply any function that is relevant to a regular tuple to a named tuple. For example:"
   ]
  },
  {
   "cell_type": "code",
   "execution_count": 22,
   "id": "lLA2dETvoHND",
   "metadata": {
    "colab": {
     "base_uri": "https://localhost:8080/"
    },
    "executionInfo": {
     "elapsed": 2,
     "status": "ok",
     "timestamp": 1654244018013,
     "user": {
      "displayName": "Dharmendra Chaudhary",
      "userId": "16994293431277914491"
     },
     "user_tz": -330
    },
    "id": "lLA2dETvoHND",
    "outputId": "53130210-2168-4fbf-bd87-d31ae0b79f55"
   },
   "outputs": [
    {
     "name": "stdout",
     "output_type": "stream",
     "text": [
      "200\n",
      "100\n"
     ]
    }
   ],
   "source": [
    "print(max(a))  # 200\n",
    "print(min(a))  # 100"
   ]
  },
  {
   "cell_type": "code",
   "execution_count": null,
   "id": "Je2h2kkloIJl",
   "metadata": {
    "id": "Je2h2kkloIJl"
   },
   "outputs": [],
   "source": []
  },
  {
   "cell_type": "markdown",
   "id": "lWZsMxE7oK8d",
   "metadata": {
    "id": "lWZsMxE7oK8d"
   },
   "source": [
    "## **Python Tuple vs. List**\n",
    "### **1) A tuple is immutable while a list is mutable**\n",
    "* The following example defines a list and modifies the first element:\n"
   ]
  },
  {
   "cell_type": "code",
   "execution_count": 23,
   "id": "v_95c5HLoTNg",
   "metadata": {
    "colab": {
     "base_uri": "https://localhost:8080/"
    },
    "executionInfo": {
     "elapsed": 7,
     "status": "ok",
     "timestamp": 1654244069635,
     "user": {
      "displayName": "Dharmendra Chaudhary",
      "userId": "16994293431277914491"
     },
     "user_tz": -330
    },
    "id": "v_95c5HLoTNg",
    "outputId": "fdaa9a98-0929-4a03-db22-c09a4132aacd"
   },
   "outputs": [
    {
     "name": "stdout",
     "output_type": "stream",
     "text": [
      "['strawberry', 'orange', 'banana']\n"
     ]
    }
   ],
   "source": [
    "fruits = ['apple', 'orange', 'banana']\n",
    "fruits[0] = 'strawberry'\n",
    "\n",
    "print(fruits)"
   ]
  },
  {
   "cell_type": "code",
   "execution_count": 24,
   "id": "vOAp5D0yoUuN",
   "metadata": {
    "colab": {
     "base_uri": "https://localhost:8080/",
     "height": 183
    },
    "executionInfo": {
     "elapsed": 5,
     "status": "error",
     "timestamp": 1654244093280,
     "user": {
      "displayName": "Dharmendra Chaudhary",
      "userId": "16994293431277914491"
     },
     "user_tz": -330
    },
    "id": "vOAp5D0yoUuN",
    "outputId": "f5085a04-e32f-4f7b-957a-3b7abe1ad434"
   },
   "outputs": [
    {
     "ename": "TypeError",
     "evalue": "ignored",
     "output_type": "error",
     "traceback": [
      "\u001b[0;31m---------------------------------------------------------------------------\u001b[0m",
      "\u001b[0;31mTypeError\u001b[0m                                 Traceback (most recent call last)",
      "\u001b[0;32m<ipython-input-24-95ca6e11baf0>\u001b[0m in \u001b[0;36m<module>\u001b[0;34m()\u001b[0m\n\u001b[1;32m      1\u001b[0m \u001b[0mfruits\u001b[0m \u001b[0;34m=\u001b[0m \u001b[0;34m(\u001b[0m\u001b[0;34m'apple'\u001b[0m\u001b[0;34m,\u001b[0m \u001b[0;34m'orange'\u001b[0m\u001b[0;34m,\u001b[0m \u001b[0;34m'banana'\u001b[0m\u001b[0;34m)\u001b[0m\u001b[0;34m\u001b[0m\u001b[0;34m\u001b[0m\u001b[0m\n\u001b[0;32m----> 2\u001b[0;31m \u001b[0mfruits\u001b[0m\u001b[0;34m[\u001b[0m\u001b[0;36m0\u001b[0m\u001b[0;34m]\u001b[0m \u001b[0;34m=\u001b[0m \u001b[0;34m'strawberry'\u001b[0m\u001b[0;34m\u001b[0m\u001b[0;34m\u001b[0m\u001b[0m\n\u001b[0m",
      "\u001b[0;31mTypeError\u001b[0m: 'tuple' object does not support item assignment"
     ]
    }
   ],
   "source": [
    "fruits = ('apple', 'orange', 'banana')\n",
    "fruits[0] = 'strawberry'    "
   ]
  },
  {
   "cell_type": "code",
   "execution_count": null,
   "id": "1B0rreOaoafR",
   "metadata": {
    "id": "1B0rreOaoafR"
   },
   "outputs": [],
   "source": []
  },
  {
   "cell_type": "markdown",
   "id": "ATHYoNZgofQe",
   "metadata": {
    "id": "ATHYoNZgofQe"
   },
   "source": [
    "* In this example, Python creates a new tuple and bounds the fruits variable to the newly created tuple.\n",
    "\n",
    "* If you examine the memory addresses of the tuple objects, you’ll see that the fruits variable references a different memory address after the assignment:\n"
   ]
  },
  {
   "cell_type": "code",
   "execution_count": 25,
   "id": "v11w5OuQoi4w",
   "metadata": {
    "executionInfo": {
     "elapsed": 3,
     "status": "ok",
     "timestamp": 1654244129022,
     "user": {
      "displayName": "Dharmendra Chaudhary",
      "userId": "16994293431277914491"
     },
     "user_tz": -330
    },
    "id": "v11w5OuQoi4w"
   },
   "outputs": [],
   "source": [
    "fruits = ('apple', 'orange', 'banana')\n",
    "fruits = ('strawberry', 'orange', 'banana')"
   ]
  },
  {
   "cell_type": "code",
   "execution_count": 26,
   "id": "1TYgIt-6ojId",
   "metadata": {
    "colab": {
     "base_uri": "https://localhost:8080/"
    },
    "executionInfo": {
     "elapsed": 4,
     "status": "ok",
     "timestamp": 1654244138354,
     "user": {
      "displayName": "Dharmendra Chaudhary",
      "userId": "16994293431277914491"
     },
     "user_tz": -330
    },
    "id": "1TYgIt-6ojId",
    "outputId": "1fc8c57b-2783-496b-920c-37bf1a00b706"
   },
   "outputs": [
    {
     "name": "stdout",
     "output_type": "stream",
     "text": [
      "0x7fe7486580a0\n",
      "0x7fe7485eabe0\n"
     ]
    }
   ],
   "source": [
    "fruits = ('apple', 'orange', 'banana')\n",
    "print(hex(id(fruits)))\n",
    "\n",
    "fruits = ('strawberry', 'orange', 'banana')\n",
    "print(hex(id(fruits)))\n"
   ]
  },
  {
   "cell_type": "code",
   "execution_count": null,
   "id": "MOekoWwiolWO",
   "metadata": {
    "id": "MOekoWwiolWO"
   },
   "outputs": [],
   "source": []
  },
  {
   "cell_type": "markdown",
   "id": "uzKgjY1KooBT",
   "metadata": {
    "id": "uzKgjY1KooBT"
   },
   "source": [
    "### **2) The storage efficiency of a tuple is greater than a list**\n",
    "* A list is mutable. It means that you can add more elements to it. Because of this, Python needs to allocate more memory than needed to the list. This is called over-allocating. The over-allocation improves performance when a list is expanded.\n",
    "\n",
    "* Meanwhile, a tuple is immutable therefore its element count is fixed. So Python just needs to allocate enough memory to store the initial elements.\n",
    "\n",
    "* As a result, the storage efficiency of a tuple is greater than a list.\n",
    "\n",
    "* To get the size of an object, you use the getsizeof function from the sys module.\n",
    "\n",
    "* The following shows the sizes of a list and a tuple that stores the same elements:\n"
   ]
  },
  {
   "cell_type": "code",
   "execution_count": 27,
   "id": "XJjKD0Bvowus",
   "metadata": {
    "colab": {
     "base_uri": "https://localhost:8080/"
    },
    "executionInfo": {
     "elapsed": 8,
     "status": "ok",
     "timestamp": 1654244185011,
     "user": {
      "displayName": "Dharmendra Chaudhary",
      "userId": "16994293431277914491"
     },
     "user_tz": -330
    },
    "id": "XJjKD0Bvowus",
    "outputId": "87a3eadc-51f3-4b38-b1e1-fe9b4bfa0eaf"
   },
   "outputs": [
    {
     "name": "stdout",
     "output_type": "stream",
     "text": [
      "The size of the list is 96 bytes.\n",
      "The size of the tuple is 80 bytes.\n"
     ]
    }
   ],
   "source": [
    "from sys import getsizeof\n",
    "\n",
    "fruits = ['apple', 'orange', 'banana']\n",
    "print(f'The size of the list is {getsizeof(fruits)} bytes.')\n",
    "\n",
    "fruits = ('strawberry', 'orange', 'banana')\n",
    "print(f'The size of the tuple is {getsizeof(fruits)} bytes.')\n"
   ]
  },
  {
   "cell_type": "code",
   "execution_count": null,
   "id": "Je7ISbk2ow6l",
   "metadata": {
    "id": "Je7ISbk2ow6l"
   },
   "outputs": [],
   "source": []
  },
  {
   "cell_type": "markdown",
   "id": "2QW_-PDlozwD",
   "metadata": {
    "id": "2QW_-PDlozwD"
   },
   "source": [
    "### **3) Copying a tuple is faster than a list**\n",
    "* When you copy a list, Python creates a new list. \n",
    "* The following example illustrates copying a list to another:\n"
   ]
  },
  {
   "cell_type": "code",
   "execution_count": 28,
   "id": "90Mf3bulo45I",
   "metadata": {
    "colab": {
     "base_uri": "https://localhost:8080/"
    },
    "executionInfo": {
     "elapsed": 4,
     "status": "ok",
     "timestamp": 1654244219245,
     "user": {
      "displayName": "Dharmendra Chaudhary",
      "userId": "16994293431277914491"
     },
     "user_tz": -330
    },
    "id": "90Mf3bulo45I",
    "outputId": "71d6b33f-09bc-43e9-825d-826d5117036b"
   },
   "outputs": [
    {
     "name": "stdout",
     "output_type": "stream",
     "text": [
      "False\n"
     ]
    }
   ],
   "source": [
    "fruit_list = ['apple', 'orange', 'banana']\n",
    "fruit_list2 = list(fruit_list)\n",
    "print(id(fruit_list) == id(fruit_list2))  # False\n"
   ]
  },
  {
   "cell_type": "code",
   "execution_count": null,
   "id": "DzwlJqBRo5QC",
   "metadata": {
    "id": "DzwlJqBRo5QC"
   },
   "outputs": [],
   "source": []
  },
  {
   "cell_type": "markdown",
   "id": "2PIO-Kh0o70r",
   "metadata": {
    "id": "2PIO-Kh0o70r"
   },
   "source": []
  },
  {
   "cell_type": "markdown",
   "id": "Rosp4ztQo72J",
   "metadata": {
    "id": "Rosp4ztQo72J"
   },
   "source": [
    "* However, when copying a tuple, Python just reuses an existing tuple. It doesn’t create a new tuple because tuples are immutable."
   ]
  },
  {
   "cell_type": "code",
   "execution_count": 29,
   "id": "nvsR5m-io9sQ",
   "metadata": {
    "colab": {
     "base_uri": "https://localhost:8080/"
    },
    "executionInfo": {
     "elapsed": 4,
     "status": "ok",
     "timestamp": 1654244242376,
     "user": {
      "displayName": "Dharmendra Chaudhary",
      "userId": "16994293431277914491"
     },
     "user_tz": -330
    },
    "id": "nvsR5m-io9sQ",
    "outputId": "d98b609b-e775-400e-99c7-d34aa738b852"
   },
   "outputs": [
    {
     "name": "stdout",
     "output_type": "stream",
     "text": [
      "True\n"
     ]
    }
   ],
   "source": [
    "fruit_tuple = ('apple', 'orange', 'banana')\n",
    "fruit_tuple2 = tuple(fruit_tuple)\n",
    "print(id(fruit_tuple) == id(fruit_tuple2))  # True"
   ]
  },
  {
   "cell_type": "code",
   "execution_count": null,
   "id": "BAM-Aibqo-9f",
   "metadata": {
    "id": "BAM-Aibqo-9f"
   },
   "outputs": [],
   "source": []
  },
  {
   "cell_type": "markdown",
   "id": "Bb0exYbQpA97",
   "metadata": {
    "id": "Bb0exYbQpA97"
   },
   "source": [
    "* Therefore, copying a tuple always slightly faster than a list.\n",
    "\n",
    "* The following compares the time that needs to copy a list and a tuple 1 million times:\n"
   ]
  },
  {
   "cell_type": "code",
   "execution_count": 30,
   "id": "0GccORTfpDZY",
   "metadata": {
    "colab": {
     "base_uri": "https://localhost:8080/"
    },
    "executionInfo": {
     "elapsed": 863,
     "status": "ok",
     "timestamp": 1654244262111,
     "user": {
      "displayName": "Dharmendra Chaudhary",
      "userId": "16994293431277914491"
     },
     "user_tz": -330
    },
    "id": "0GccORTfpDZY",
    "outputId": "1446b7ff-e351-4c3b-c97c-598ab9841aca"
   },
   "outputs": [
    {
     "name": "stdout",
     "output_type": "stream",
     "text": [
      "Time to copy a list 1000000 times: 0.17745680300004096\n",
      "Time to copy a tuple 1000000 times: 0.10852706799983025\n",
      "difference: -39%\n"
     ]
    }
   ],
   "source": [
    "from timeit import timeit\n",
    "\n",
    "times = 1_000_000\n",
    "\n",
    "t1 = timeit(\"list(['apple', 'orange', 'banana'])\", number=times)\n",
    "print(f'Time to copy a list {times} times: {t1}')\n",
    "\n",
    "t2 = timeit(\"tuple(('apple', 'orange', 'banana'))\", number=times)\n",
    "print(f'Time to copy a tuple {times} times: {t2}')\n",
    "\n",
    "diff = \"{:.0%}\".format((t2 - t1)/t1)\n",
    "\n",
    "print(f'difference: {diff}')"
   ]
  },
  {
   "cell_type": "code",
   "execution_count": null,
   "id": "TQYoqzTvpDkg",
   "metadata": {
    "id": "TQYoqzTvpDkg"
   },
   "outputs": [],
   "source": []
  }
 ],
 "metadata": {
  "colab": {
   "collapsed_sections": [
    "27b92765",
    "80883ac8",
    "bb3904ac",
    "5231e95e",
    "957c3787",
    "87e16029",
    "4ab96212",
    "45b2fa03",
    "fd265b65",
    "5c56cca5",
    "c9867985"
   ],
   "name": "Python_Tuples.ipynb",
   "provenance": []
  },
  "kernelspec": {
   "display_name": "Python 3 (ipykernel)",
   "language": "python",
   "name": "python3"
  },
  "language_info": {
   "codemirror_mode": {
    "name": "ipython",
    "version": 3
   },
   "file_extension": ".py",
   "mimetype": "text/x-python",
   "name": "python",
   "nbconvert_exporter": "python",
   "pygments_lexer": "ipython3",
   "version": "3.10.4"
  }
 },
 "nbformat": 4,
 "nbformat_minor": 5
}
