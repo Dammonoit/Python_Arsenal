{
  "cells": [
    {
      "cell_type": "markdown",
      "id": "5d040942",
      "metadata": {
        "id": "5d040942"
      },
      "source": [
        "# **Python Closures**\n",
        "## **Introduction to the Python closures**\n",
        "* In Python, you can define a function from the inside of another function. And this function is called a nested function. \n",
        "* For example:\n"
      ]
    },
    {
      "cell_type": "code",
      "execution_count": null,
      "id": "6476a42c",
      "metadata": {
        "id": "6476a42c"
      },
      "outputs": [],
      "source": [
        "#this is the example below\n",
        "def say():\n",
        "    greeting = 'Hello'\n",
        "\n",
        "    def display():\n",
        "        print(greeting)\n",
        "\n",
        "    display()"
      ]
    },
    {
      "cell_type": "markdown",
      "id": "e6e2f9c3",
      "metadata": {
        "id": "e6e2f9c3"
      },
      "source": [
        "* In this example, we define the display function inside the say function. The display function is called a nested function.\n",
        "\n",
        "* Inside the display function, you access the greeting variable from its nonlocal scope.\n",
        "\n",
        "* Python calls the greeting variable as a free variable.\n",
        "\n",
        "* When you look at the display function, you actually look at:\n",
        "\n",
        "    * The display function itself.\n",
        "    * And the free variable greeting with the value 'Hello'.\n",
        "* So the combination of the display function and greeting variable is called a closure:\n",
        "![image.png](attachment:image.png)\n",
        "\n",
        "* By definition, a closure is a nested function that references one or more variables from its enclosing scope.\n",
        "\n",
        "### **Returning an inner function**\n",
        "* In Python, a function can return a value which is another function. For example:"
      ]
    },
    {
      "cell_type": "code",
      "execution_count": null,
      "id": "d149b968",
      "metadata": {
        "id": "d149b968"
      },
      "outputs": [],
      "source": [
        "def say():\n",
        "    greeting = 'Hello'\n",
        "\n",
        "    def display():\n",
        "        print(greeting)\n",
        "\n",
        "    return display    \n"
      ]
    },
    {
      "cell_type": "markdown",
      "id": "ec3b10a4",
      "metadata": {
        "id": "ec3b10a4"
      },
      "source": [
        "* In this example, the say function returns the display function instead of executing it.\n",
        "\n",
        "* Also, when the say function returns the display function, it actually returns the closure:\n",
        "![image.png](attachment:image.png)\n",
        "\n",
        "* The following assigns the return value of the say function to a variable fn. Since fn is a function, you can execute it:\n"
      ]
    },
    {
      "cell_type": "code",
      "execution_count": null,
      "id": "cac0b454",
      "metadata": {
        "id": "cac0b454",
        "outputId": "78393d42-bd10-452f-abac-a6be9e271ae3"
      },
      "outputs": [
        {
          "name": "stdout",
          "output_type": "stream",
          "text": [
            "Hello\n"
          ]
        }
      ],
      "source": [
        "fn = say()\n",
        "fn()"
      ]
    },
    {
      "cell_type": "markdown",
      "id": "a0ba8c6b",
      "metadata": {
        "id": "a0ba8c6b"
      },
      "source": [
        "* The say function executes and returns a function. When the fn function executes, the say function already completes.\n",
        "\n",
        "* In other words, the scope of the say function was gone at the time the fn function executes.\n",
        "\n",
        "* Since the greeting variable belongs to the scope of the say function, it should also be destroyed with the scope of the function.\n",
        "\n",
        "* However, you still see that fn displays the value of the message variable.\n",
        "\n",
        "### **Python cells and multi-scoped variables**\n",
        "* The value of the message variable is shared between two scopes of:\n",
        "\n",
        "    * The say function.\n",
        "    * The closure\n",
        "* The label message is in two different scopes. However, they always reference the same string object with the value 'Hello'.\n",
        "\n",
        "* To achieve this, Python creates an intermediary object called a cell:\n",
        "![image.png](attachment:image.png)\n",
        "\n",
        "* To find the memory address of the cell object, you can use the __closure__ property as follows:\n",
        "![image-2.png](attachment:image-2.png)\n",
        "\n",
        "* Output:\n",
        "![image-3.png](attachment:image-3.png)"
      ]
    },
    {
      "cell_type": "code",
      "execution_count": null,
      "id": "765eb3dc",
      "metadata": {
        "id": "765eb3dc"
      },
      "outputs": [],
      "source": [
        ""
      ]
    },
    {
      "cell_type": "markdown",
      "source": [
        "* The __closure__ returns a tuple of cells.\n",
        "\n",
        "* In this example, the memory address of the cell is 0x0000017184915C40. It references a string object at 0x0000017186A829B0.\n",
        "\n",
        "* If you display the memory address of the string object in the say function and closure, you should see that they reference the same object in the memory:\n"
      ],
      "metadata": {
        "id": "KmIA0OoTaxEV"
      },
      "id": "KmIA0OoTaxEV"
    },
    {
      "cell_type": "code",
      "source": [
        "def say():\n",
        "    greeting = 'Hello'\n",
        "    print(hex(id(greeting)))\n",
        "\n",
        "    def display():\n",
        "        print(hex(id(greeting)))\n",
        "        print(greeting)\n",
        "\n",
        "    return display\n",
        "\n",
        "\n",
        "fn = say()\n",
        "fn()\n"
      ],
      "metadata": {
        "colab": {
          "base_uri": "https://localhost:8080/"
        },
        "id": "K4ITFyh5a1rA",
        "outputId": "5eb14ba5-f170-48f3-d6f9-d76ad5648852"
      },
      "id": "K4ITFyh5a1rA",
      "execution_count": null,
      "outputs": [
        {
          "output_type": "stream",
          "name": "stdout",
          "text": [
            "0x7faa3c1312f0\n",
            "0x7faa3c1312f0\n",
            "Hello\n"
          ]
        }
      ]
    },
    {
      "cell_type": "code",
      "source": [
        ""
      ],
      "metadata": {
        "id": "TiF93nGDa2Ga"
      },
      "id": "TiF93nGDa2Ga",
      "execution_count": null,
      "outputs": []
    },
    {
      "cell_type": "markdown",
      "source": [
        "* When you access the value of the greeting variable, Python will technically “double-hop” to get the string value.\n",
        "\n",
        "* This explains why when the say() function was out of scope, you still can access the string object referenced by the greeting variable.\n",
        "\n",
        "* Based on this mechanism, you can think of a closure as a function and an extended scope that contains free variables.\n",
        "\n",
        "* To find the free variables that a closure contains, you can use the __code__.co_freevars, for example:\n"
      ],
      "metadata": {
        "id": "_XSUItQOa4cU"
      },
      "id": "_XSUItQOa4cU"
    },
    {
      "cell_type": "code",
      "source": [
        "def say():\n",
        "\n",
        "    greeting = 'Hello'\n",
        "\n",
        "    def display():\n",
        "        print(greeting)\n",
        "\n",
        "    return display\n",
        "\n",
        "\n",
        "fn = say()\n",
        "print(fn.__code__.co_freevars)"
      ],
      "metadata": {
        "colab": {
          "base_uri": "https://localhost:8080/"
        },
        "id": "bQdARUtZa9bh",
        "outputId": "385add8d-88d3-4cf5-8f33-0986aa0fd39d"
      },
      "id": "bQdARUtZa9bh",
      "execution_count": null,
      "outputs": [
        {
          "output_type": "stream",
          "name": "stdout",
          "text": [
            "('greeting',)\n"
          ]
        }
      ]
    },
    {
      "cell_type": "code",
      "source": [
        ""
      ],
      "metadata": {
        "id": "ucClkpkOa-az"
      },
      "id": "ucClkpkOa-az",
      "execution_count": null,
      "outputs": []
    },
    {
      "cell_type": "markdown",
      "source": [
        "* In this example, the fn.__code__.co_freevars returns the greeting free variable of the fn closure.\n",
        "\n",
        "### **When Python creates the closure**\n",
        "* Python creates a new scope when a function executes. If that function creates a closure, Python also creates a new closure as well. Consider the following example:\n",
        "\n",
        "* First, define a function called multiplier that returns a closure:\n"
      ],
      "metadata": {
        "id": "slIPfU9xbAxd"
      },
      "id": "slIPfU9xbAxd"
    },
    {
      "cell_type": "code",
      "source": [
        "def multiplier(x):\n",
        "    def multiply(y):\n",
        "        return x * y\n",
        "    return multiply"
      ],
      "metadata": {
        "id": "jtNf89uRbGow"
      },
      "id": "jtNf89uRbGow",
      "execution_count": null,
      "outputs": []
    },
    {
      "cell_type": "code",
      "source": [
        ""
      ],
      "metadata": {
        "id": "SNhQyAoWbJKY"
      },
      "id": "SNhQyAoWbJKY",
      "execution_count": null,
      "outputs": []
    },
    {
      "cell_type": "markdown",
      "source": [
        "* The multiplier function returns the multiplication of two arguments. However, it uses a closure instead.\n",
        "\n",
        "* Second, call the multiplier function three times:\n"
      ],
      "metadata": {
        "id": "lvnCjlkSbK_n"
      },
      "id": "lvnCjlkSbK_n"
    },
    {
      "cell_type": "code",
      "source": [
        "m1 = multiplier(1)\n",
        "m2 = multiplier(2)\n",
        "m3 = multiplier(3)"
      ],
      "metadata": {
        "id": "lnptCiQ0bNxI"
      },
      "id": "lnptCiQ0bNxI",
      "execution_count": null,
      "outputs": []
    },
    {
      "cell_type": "code",
      "source": [
        ""
      ],
      "metadata": {
        "id": "EWMRAVIpbOEI"
      },
      "id": "EWMRAVIpbOEI",
      "execution_count": null,
      "outputs": []
    },
    {
      "cell_type": "markdown",
      "source": [
        "* These function calls create three closures. Each function multiplies a number with 1, 2, and 3.\n",
        "\n",
        "* Third, execute functions of the closures:\n"
      ],
      "metadata": {
        "id": "s9dl28cibQZV"
      },
      "id": "s9dl28cibQZV"
    },
    {
      "cell_type": "code",
      "source": [
        "print(m1(10))\n",
        "print(m2(10))\n",
        "print(m3(10))"
      ],
      "metadata": {
        "colab": {
          "base_uri": "https://localhost:8080/"
        },
        "id": "Jlvj-34jbU7s",
        "outputId": "34f32270-8158-4b0f-d58b-01775c000851"
      },
      "id": "Jlvj-34jbU7s",
      "execution_count": null,
      "outputs": [
        {
          "output_type": "stream",
          "name": "stdout",
          "text": [
            "10\n",
            "20\n",
            "30\n"
          ]
        }
      ]
    },
    {
      "cell_type": "code",
      "source": [
        ""
      ],
      "metadata": {
        "id": "CWA75YyYbVIW"
      },
      "id": "CWA75YyYbVIW",
      "execution_count": null,
      "outputs": []
    },
    {
      "cell_type": "markdown",
      "source": [
        "* The m1, m2, and m3 have different instances of closure.\n",
        "\n",
        "### **Python closures and for loop**\n",
        "* Suppose that you want to create all three closures above at once and you might come up with the following:\n"
      ],
      "metadata": {
        "id": "nOj48RuzcM7z"
      },
      "id": "nOj48RuzcM7z"
    },
    {
      "cell_type": "code",
      "source": [
        "multipliers = []\n",
        "for x in range(1, 4):\n",
        "    multipliers.append(lambda y: x * y)\n",
        "\n",
        "m1, m2, m3 = multipliers\n",
        "\n",
        "print(m1(10))\n",
        "print(m2(10))\n",
        "print(m3(10))\n"
      ],
      "metadata": {
        "colab": {
          "base_uri": "https://localhost:8080/"
        },
        "id": "JplXrnTlcSNF",
        "outputId": "5568f0de-fbee-4881-b1c9-b54abd672834"
      },
      "id": "JplXrnTlcSNF",
      "execution_count": null,
      "outputs": [
        {
          "output_type": "stream",
          "name": "stdout",
          "text": [
            "30\n",
            "30\n",
            "30\n"
          ]
        }
      ]
    },
    {
      "cell_type": "code",
      "source": [
        ""
      ],
      "metadata": {
        "id": "AGGlNkuNcSp4"
      },
      "id": "AGGlNkuNcSp4",
      "execution_count": null,
      "outputs": []
    },
    {
      "cell_type": "markdown",
      "source": [
        "#### **How it works.**\n",
        "\n",
        "* First, declare a list that will store the closures.\n",
        "* Second, use a lambda expression to create a closure and append the closure to * the list in each iteration.\n",
        "* Third, unpack the closures from the list to the m1, m2, and m3 variables.\n",
        "* Finally, pass the values 10, 20, and 30 to each closure and execute it.\n",
        "The following shows the output:\n",
        "![image.png](data:image/png;base64,iVBORw0KGgoAAAANSUhEUgAAACQAAABaCAYAAADQKPQpAAAB+0lEQVRoge2YMWgaYRiGH0tH6xBTaCcNcXCVLKUQijiEDuHoGIJkCVkKIXQIXTp1ccziElyKhGYrUkpxkAzZ7HAQCGQQ1KkZmgxyezp4Xk4r/dTGesP7jN99/Pfcfx//D28sm83eESEeLVpgFAlZSMhCQhYSsoic0GO7pUD16wbpcKldZ32/MdyW3+L7uxzxv/VMQGz6u6wvuNw85vXH1pAMQc3/iBmkZvhlDS7bEH+aCirv3+SI91w+DQRpUKx1YeUlR/npVp9eKL/FqxXoXAy+PMOzJHhXPzgNmgpUnRTwhOTqdMtPMEP+C0Jz5DWPKVYGz1IkE/Drp787u285d1J0anU6zgbLzzNA688l/02oQXHzfkeOTvY4P3Epb38O7Uq/voZLebPMKQWqzsQeATPMUIuDiouXyPAiD9DlpgdpZ4/k2SHrQ5KhnZufELC6RJxbrs/6gtc3QM/lWyXUs5slTZfLyvglHlDIH9j2FSW/Uvri4iVy7HzIDPV4zXrQMyn2OTR64AGd2mFoqMf3eeFz6kGF/jORu8skZCEhCwlZSMhCQhYSspCQhYQsIieksMFCYYOFwgYLhQ1zEFLYsFgid5dJyEJCFhKykJCFhCwkZCEhCwlZRE5IYYOFwgYLhQ0WChvmIKSwYbFE7i6TkIWELCRkISGLyAn9BvHKgFpEWsS6AAAAAElFTkSuQmCC)\n",
        "* This doesn’t work as you expected. But why?\n",
        "\n",
        "* The x starts from 1 to 3 in the loop. After the loop, its value is 3.\n",
        "\n",
        "* Each element of the list is the following closure:\n",
        "\n",
        "* This doesn’t work as you expected. But why?\n",
        "\n",
        "* The x starts from 1 to 3 in the loop. After the loop, its value is 3.\n",
        "\n",
        "* Each element of the list is the following closure:\n",
        "![image.png](data:image/png;base64,iVBORw0KGgoAAAANSUhEUgAAAIoAAAAiCAYAAACAyEHnAAAEP0lEQVR4nO2bP2giWRzHP3tcmViY3WO7RE5YIXAgsmFZThaxkGUIki4SwjZiI0hIITZWNmIhItgEmyVI0i0iEiyCBCEcAREODrbwSOyWu9VC7e+KGePEZJM34mSz8PuA4Lw3773fG7/z+/PAZx6P5z8E4QF++t4GCD8GIhRBCRGKoIQIRVBChCIoIUIRlBChCEqIUAQlRCiCEiIUQQkRiqCECEVQYg6huClUcrRqxqcSYXvxdk3XKQYtjgtyWMtxGLXFqCeGm0IlTSFg/0pzCKXL3k4S/2aS0sVo8RYJDxOIcFKJsE2XL32jLRqf46VSR0LPj0jziLO+l3gtzjoDVrZytMJO2p9ObVvyZ9tmFmwlm0iSJchhLcTziwP8ia6t69knlECEk30vS9cNPeqbJbKgu8nAgPpnN9rGMgw7N76Xdo44NkaN/+2RKubQXEbDTD9ws9/g6saV/kDXrq9HtPMZ9pqKe4nGaYVXuaom2S1Pm7fTaeIb3JprYs/s/SrcOdZYf3xxwPtM13TfiPGwx9cXMVo1054s2quCTaEnyGEUPm7quYx/84D2cBXNnPg6vGgvzvHnO4wdXjRPl1K+w9jh5o0pOVvaiKHRMOZpcOXw8iHtvu5PFXNoKx1K12s1ZkTiplDx8Nd1f5L65TK+/Tgp1e2UG7SHsPabOQdw88azzPjiyPJDv49sQs/91sKGfYEIJzMiIRDh3UqH0maGs76T/qck/uoA31bQNnttEsopuzfe+i5/fJ5NfEemmDqiXb7pJa65bOBPTO47pX4xYsnzWhdcIMI71z1jjbX3dgxPZpD9s2dxP132mj1weabiCrzmlaPHWea2y88mdEFa9SYTjjMZ6peraMUIhaiXpcvGVCQAzSPe7xxxjJuXK0ZbuWR6TtbsVcG20HNXOGC4oMkdTj2M/OpkiQFfHnhDdJe7PNNqUSzlBu1AjHdpN9lMl9SW/gNmHx45F9lEg/VaCN+wQynxrSS1y95O5lHstcWjbKfTaK4edZO7X2gpPRzo4eXvAWOcvLzvHCEaN+Ly1BZ/1apHgYlX1L1ZkHXXyMYqw02hoiep9b6X+Fxl72LtfZzyOBDhw603ev55rppGqGn+w1eWefX7JGeZTVrvIshheHWu5Y8z53qOVHnL2uX5N2N9qqgfRs576JcqxvDR4WOmSzbR4MoV4sSUly3aXhWsh55b1YyXeM1L3FRJHGfO0WohtFoODYAe9WoPzdIJonGY5ArRqoWMthHtfNK04VN2879wsh+jVZv0H9CPxpiE7okL9u3naO0b91Q7PA87LW9dz5He6h6qbIc3cVOoxPA5RrTzk7zrlN2qh1Y4Rqtoztce195n8r8ea2yn08Q93Vsl+lNlUfbKyawVJvnOvVXWE2KB9srJrALTqsniQd13wg57JfQISkjoEZQQoQhKiFAEJUQoghIiFEEJEYqgxP8FYemVrMVb5wAAAABJRU5ErkJggg==)\n",
        "\n",
        "* Python evaluates x when you call the m1(10), m2(10), and m3(10). At the moment the closures execute, x is 3.\n",
        "\n",
        "* That’s why you see the same result when you call m1(10), m2(10), and m3(10).\n",
        "\n",
        "* To fix this, you need to instruct Python to evaluate x in the loop:\n"
      ],
      "metadata": {
        "id": "chybUm1ecWiD"
      },
      "id": "chybUm1ecWiD"
    },
    {
      "cell_type": "code",
      "source": [
        "def multiplier(x):\n",
        "    def multiply(y):\n",
        "        return x * y\n",
        "    return multiply\n",
        "\n",
        "\n",
        "multipliers = []\n",
        "for x in range(1, 4):\n",
        "    multipliers.append(multiplier(x))\n",
        "\n",
        "m1, m2, m3 = multipliers\n",
        "\n",
        "print(m1(10))\n",
        "print(m2(10))\n",
        "print(m3(10))\n"
      ],
      "metadata": {
        "colab": {
          "base_uri": "https://localhost:8080/"
        },
        "id": "xZquMxQZcae_",
        "outputId": "9ecf59ce-730d-49d1-8119-16e1e9f07909"
      },
      "id": "xZquMxQZcae_",
      "execution_count": null,
      "outputs": [
        {
          "output_type": "stream",
          "name": "stdout",
          "text": [
            "10\n",
            "20\n",
            "30\n"
          ]
        }
      ]
    },
    {
      "cell_type": "code",
      "source": [
        ""
      ],
      "metadata": {
        "id": "gjAie9XKcvmb"
      },
      "id": "gjAie9XKcvmb",
      "execution_count": null,
      "outputs": []
    }
  ],
  "metadata": {
    "kernelspec": {
      "display_name": "Python 3 (ipykernel)",
      "language": "python",
      "name": "python3"
    },
    "language_info": {
      "codemirror_mode": {
        "name": "ipython",
        "version": 3
      },
      "file_extension": ".py",
      "mimetype": "text/x-python",
      "name": "python",
      "nbconvert_exporter": "python",
      "pygments_lexer": "ipython3",
      "version": "3.10.4"
    },
    "colab": {
      "name": "Python Closures.ipynb",
      "provenance": [],
      "collapsed_sections": []
    }
  },
  "nbformat": 4,
  "nbformat_minor": 5
}