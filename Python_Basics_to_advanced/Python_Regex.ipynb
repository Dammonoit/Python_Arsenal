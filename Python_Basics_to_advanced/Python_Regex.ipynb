{
  "cells": [
    {
      "cell_type": "markdown",
      "metadata": {
        "id": "hn1V36CzC_wF"
      },
      "source": [
        "# **Python Regex**\n",
        "\n",
        "* A regular expression (or regex) is a sequence of characters that specifies a search pattern. In practice, you’ll find the regular expressions in many applications such as search engines, search and replace dialogs of text editors.\n",
        "\n",
        "* In Python, a regular expression is a separate programming language. It is embedded in Python. To interact with the regular expressions, you use the built-in re module:\n",
        "\n",
        "![image.png](data:image/png;base64,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)\n",
        "\n",
        "* The re module has many helpful classes and functions that help you to manage regular expressions effectively.\n",
        "* The following shows an example of a simple regular expression:"
      ]
    },
    {
      "cell_type": "code",
      "execution_count": null,
      "metadata": {
        "colab": {
          "base_uri": "https://localhost:8080/",
          "height": 35
        },
        "id": "fQBzBY2GDIfN",
        "outputId": "3755e1a7-3c6d-4518-e2b1-0e797cae7fc9"
      },
      "outputs": [
        {
          "data": {
            "application/vnd.google.colaboratory.intrinsic+json": {
              "type": "string"
            },
            "text/plain": [
              "'\\\\d'"
            ]
          },
          "execution_count": 1,
          "metadata": {},
          "output_type": "execute_result"
        }
      ],
      "source": [
        "'\\d'"
      ]
    },
    {
      "cell_type": "code",
      "execution_count": null,
      "metadata": {
        "id": "0IU42vY2DRHD"
      },
      "outputs": [],
      "source": [
        ""
      ]
    },
    {
      "cell_type": "markdown",
      "metadata": {
        "id": "Cke5SvJHDT41"
      },
      "source": [
        "* In this example, a regular expression is a string that contains a search pattern. The '\\d' is a digit character set that matches any single digit from 0 to 9.\n",
        "* To use this regular expression, you follow these steps:\n",
        "\n",
        "  * First, import the re module:"
      ]
    },
    {
      "cell_type": "code",
      "execution_count": null,
      "metadata": {
        "id": "exch49HyDbZ3"
      },
      "outputs": [],
      "source": [
        "import re"
      ]
    },
    {
      "cell_type": "markdown",
      "metadata": {
        "id": "mI5sIHXWDdbe"
      },
      "source": [
        "* Second, compile the regular expression into a Pattern object:"
      ]
    },
    {
      "cell_type": "code",
      "execution_count": null,
      "metadata": {
        "id": "5KudLJbsDegn"
      },
      "outputs": [],
      "source": [
        "p = re.compile('\\d')\n"
      ]
    },
    {
      "cell_type": "markdown",
      "metadata": {
        "id": "ka9OF6tIDiud"
      },
      "source": [
        "* Third, use one of the methods of the Pattern object to match a string:"
      ]
    },
    {
      "cell_type": "code",
      "execution_count": null,
      "metadata": {
        "colab": {
          "base_uri": "https://localhost:8080/"
        },
        "id": "qpOEFd99DlJa",
        "outputId": "59d80d97-6e49-4b30-a450-d766c83ef246"
      },
      "outputs": [
        {
          "name": "stdout",
          "output_type": "stream",
          "text": [
            "['3', '1', '0', '0', '4', '2', '0', '2', '1']\n"
          ]
        }
      ],
      "source": [
        "s = \"Python 3.10 was released on October 04, 2021\"\n",
        "result = p.findall(s)\n",
        "\n",
        "print(result)"
      ]
    },
    {
      "cell_type": "code",
      "execution_count": null,
      "metadata": {
        "colab": {
          "base_uri": "https://localhost:8080/"
        },
        "id": "TJ-dNwTFDngq",
        "outputId": "815ba60e-40d5-4a80-b3bd-57e00c568a66"
      },
      "outputs": [
        {
          "name": "stdout",
          "output_type": "stream",
          "text": [
            "['3', '1', '0', '0', '4', '2', '0', '2', '1']\n"
          ]
        }
      ],
      "source": [
        "#The findall() method returns a list of single digits in the string s.\n",
        "# The following shows the complete program:\n",
        "import re\n",
        "\n",
        "\n",
        "p = re.compile('\\d')\n",
        "s = \"Python 3.10 was released on October 04, 2021\"\n",
        "\n",
        "results = p.findall(s)\n",
        "print(results)"
      ]
    },
    {
      "cell_type": "code",
      "execution_count": null,
      "metadata": {
        "id": "NO5sZ5hOD1qc"
      },
      "outputs": [],
      "source": [
        ""
      ]
    },
    {
      "cell_type": "markdown",
      "metadata": {
        "id": "7jSSCrcSD8RR"
      },
      "source": [
        "* Besides the findall() method, the Pattern object has other essential methods that allow you to match a string:\n",
        "![image.png](data:image/png;base64,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)"
      ]
    },
    {
      "cell_type": "code",
      "execution_count": null,
      "metadata": {
        "id": "tBb2tYArECXF"
      },
      "outputs": [],
      "source": [
        ""
      ]
    },
    {
      "cell_type": "markdown",
      "metadata": {
        "id": "EdCeUNp6EGFH"
      },
      "source": [
        "## **Python regular expression functions**\n",
        "* Besides the Pattern class, the re module has some functions that match a string for a pattern:\n",
        "\n",
        "  * match()\n",
        "  * search()\n",
        "  * findall()\n",
        "  * finditer()\n",
        "* These functions have the same names as the methods of the Pattern object. Also, they take the same arguments as the corresponding methods of the Pattern object. \n",
        "* However, you don’t have to manually compile the regular expression before using it.\n",
        "\n",
        "* The following example shows the same program that uses the findall() function instead of the findall() method of a Pattern object:"
      ]
    },
    {
      "cell_type": "code",
      "execution_count": null,
      "metadata": {
        "colab": {
          "base_uri": "https://localhost:8080/"
        },
        "id": "JUeOpXe8EYWG",
        "outputId": "9bbd1820-338a-4a3f-9d5b-7e12093e9038"
      },
      "outputs": [
        {
          "name": "stdout",
          "output_type": "stream",
          "text": [
            "['3', '1', '0', '0', '4', '2', '0', '2', '1']\n"
          ]
        }
      ],
      "source": [
        "import re\n",
        "\n",
        "s = \"Python 3.10 was released on October 04, 2021.\"\n",
        "results = re.findall('\\d',s)\n",
        "print(results)"
      ]
    },
    {
      "cell_type": "code",
      "execution_count": null,
      "metadata": {
        "id": "68nJ_Y4CEY11"
      },
      "outputs": [],
      "source": [
        ""
      ]
    },
    {
      "cell_type": "markdown",
      "metadata": {
        "id": "xrePDe3zEbuQ"
      },
      "source": [
        "* Using the functions in the re module is more concise than the methods of the Pattern object because you don’t have to compile regular expressions manually.\n",
        "\n",
        "* Under the hood, these functions create a Pattern object and call the appropriate method on it. They also store the compiled regular expression in a cache for speed optimization.\n",
        "\n",
        "* It means that if you call the same regular expression from the second time, these functions will not need to recompile the regular expression. Instead, they get the compiled regular expression from the cache.\n",
        "\n",
        "* Should you use the re functions or methods of the Pattern object?\n",
        "\n",
        "* If you use a regular expression within a loop, the Pattern object may save a few function calls. However, if you use it outside of loops, the difference is very little due to the internal cache.\n",
        "\n",
        "* The following sections discuss the most commonly used functions in the re module including search(), match(), and fullmatch().\n",
        "\n",
        "### **search() function**\n",
        "* The search() function searches for a pattern within a string. If there is a match, it returns the first Match object or None otherwise. For example:\n"
      ]
    },
    {
      "cell_type": "code",
      "execution_count": null,
      "metadata": {
        "colab": {
          "base_uri": "https://localhost:8080/"
        },
        "id": "8ML_2wp8EjiF",
        "outputId": "7432c310-7cca-4c75-ba34-c656f7b48f3a"
      },
      "outputs": [
        {
          "name": "stdout",
          "output_type": "stream",
          "text": [
            "<class 're.Match'>\n",
            "<re.Match object; span=(9, 11), match='10'>\n"
          ]
        }
      ],
      "source": [
        "import re\n",
        "\n",
        "s = \"Python 3.10 was released on October 04, 2021.\"\n",
        "\n",
        "pattern = '\\d{2}'\n",
        "match = re.search(pattern, s) \n",
        "print(type(match))\n",
        "print(match)"
      ]
    },
    {
      "cell_type": "code",
      "execution_count": null,
      "metadata": {
        "id": "9TE1apWWEuxH"
      },
      "outputs": [],
      "source": [
        ""
      ]
    },
    {
      "cell_type": "markdown",
      "metadata": {
        "id": "1u_l1Q7_Exvk"
      },
      "source": [
        "* In this example, the search() function returns the first two digits in the string s as the Match object.\n",
        "\n",
        "### **Match object**\n",
        "* The Match object provides the information about the matched string. It has the following important methods:\n",
        "![image.png](data:image/png;base64,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)"
      ]
    },
    {
      "cell_type": "code",
      "execution_count": null,
      "metadata": {
        "colab": {
          "base_uri": "https://localhost:8080/"
        },
        "id": "KIrENNWHE7HY",
        "outputId": "f82c3044-5144-454c-a49f-7660127a6523"
      },
      "outputs": [
        {
          "name": "stdout",
          "output_type": "stream",
          "text": [
            "Matched string: 3\n",
            "Starting position: 7\n",
            "Ending position: 8\n",
            "Positions: (7, 8)\n"
          ]
        }
      ],
      "source": [
        "#The following example examines the Match object:\n",
        "import re\n",
        "\n",
        "\n",
        "s = \"Python 3.10 was released on October 04, 2021.\"\n",
        "result = re.search('\\d', s) \n",
        "\n",
        "print('Matched string:',result.group())\n",
        "print('Starting position:', result.start())\n",
        "print('Ending position:',result.end())\n",
        "print('Positions:',result.span())"
      ]
    },
    {
      "cell_type": "code",
      "execution_count": null,
      "metadata": {
        "id": "WF9JSr23E-8x"
      },
      "outputs": [],
      "source": [
        ""
      ]
    },
    {
      "cell_type": "markdown",
      "metadata": {
        "id": "BbWVmmoeFB0t"
      },
      "source": [
        "### **match() function**\n",
        "* The match() function returns a Match object if it finds a pattern at the beginning of a string. For example:\n"
      ]
    },
    {
      "cell_type": "code",
      "execution_count": null,
      "metadata": {
        "colab": {
          "base_uri": "https://localhost:8080/"
        },
        "id": "10I59vNOFHrV",
        "outputId": "962e178d-9654-4fca-d669-666027e3a7ce"
      },
      "outputs": [
        {
          "name": "stdout",
          "output_type": "stream",
          "text": [
            "<re.Match object; span=(0, 6), match='Python'>\n",
            "None\n",
            "<re.Match object; span=(0, 6), match='Jython'>\n",
            "None\n"
          ]
        }
      ],
      "source": [
        "import re\n",
        "\n",
        "l = ['Python', \n",
        "    'CPython is an implementation of Python written in C', \n",
        "    'Jython is a Java implementation of Python',\n",
        "     'IronPython is Python on .NET framework']\n",
        "\n",
        "pattern = '\\wython'\n",
        "for s in l:\n",
        "    result = re.match(pattern,s)\n",
        "    print(result)"
      ]
    },
    {
      "cell_type": "code",
      "execution_count": null,
      "metadata": {
        "id": "d5DwDEXPFIJY"
      },
      "outputs": [],
      "source": [
        ""
      ]
    },
    {
      "cell_type": "markdown",
      "metadata": {
        "id": "6OylYEQvFLD5"
      },
      "source": [
        "* In this example, the \\w is the word character set that matches any single character.\n",
        "\n",
        "* The \\wython matches any string that starts with any sing word character and is followed by the literal string ython, for example, Python.\n",
        "\n",
        "* Since the match() function only finds the pattern at the beginning of a string, the following strings match the pattern:<br />\n",
        "![image.png](data:image/png;base64,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)\n",
        "\n",
        "* And the following string doesn’t match:<br />\n",
        "![image.png](data:image/png;base64,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)"
      ]
    },
    {
      "cell_type": "code",
      "execution_count": null,
      "metadata": {
        "id": "vinfqYqSFQa7"
      },
      "outputs": [],
      "source": [
        ""
      ]
    },
    {
      "cell_type": "markdown",
      "metadata": {
        "id": "i73TdlnJF4le"
      },
      "source": [
        "### **fullmatch() function**\n",
        "* The fullmatch() function returns a Match object if the whole string matches a pattern or None otherwise. \n",
        "* The following example uses the fullmatch() function to match a string with four digits:\n",
        "\n",
        "\n"
      ]
    },
    {
      "cell_type": "code",
      "execution_count": null,
      "metadata": {
        "colab": {
          "base_uri": "https://localhost:8080/"
        },
        "id": "21gtE8VjF9E-",
        "outputId": "f8f795fd-8463-462e-8b91-8728c87ece81"
      },
      "outputs": [
        {
          "name": "stdout",
          "output_type": "stream",
          "text": [
            "<re.Match object; span=(0, 4), match='2021'>\n"
          ]
        }
      ],
      "source": [
        "import re\n",
        "\n",
        "s = \"2021\"\n",
        "pattern = '\\d{4}'\n",
        "result = re.fullmatch(pattern, s)\n",
        "print(result)"
      ]
    },
    {
      "cell_type": "code",
      "execution_count": null,
      "metadata": {
        "id": "q5LaUy06F_5a"
      },
      "outputs": [],
      "source": [
        ""
      ]
    },
    {
      "cell_type": "markdown",
      "metadata": {
        "id": "EuYxmzFcGG2O"
      },
      "source": [
        "* The pattern '\\d{4}' matches a string with four digits. Therefore, the fullmatch() function returns the string 2021.\n",
        "\n",
        "* If you place the number 2021 at the middle or the end of the string, the fullmatch() will return None. For example:"
      ]
    },
    {
      "cell_type": "code",
      "execution_count": null,
      "metadata": {
        "colab": {
          "base_uri": "https://localhost:8080/"
        },
        "id": "hswF6RtVGIJE",
        "outputId": "f2abb0b4-139e-46bc-95a0-d603d7e191f3"
      },
      "outputs": [
        {
          "name": "stdout",
          "output_type": "stream",
          "text": [
            "None\n"
          ]
        }
      ],
      "source": [
        "import re\n",
        "\n",
        "s = \"Python 3.10 released in 2021\"\n",
        "pattern = '\\d{4}'\n",
        "result = re.fullmatch(pattern, s)\n",
        "print(result)\n"
      ]
    },
    {
      "cell_type": "markdown",
      "metadata": {
        "id": "ZATNQPI7GSD1"
      },
      "source": [
        "## **Regular expressions and raw strings**\n",
        "* It’s important to note that Python and regular expression are different programming languages. They have their own syntaxes.\n",
        "\n",
        "* The re module is the interface between Python and regular expression programming languages. It behaves like an interpreter between them.\n",
        "\n",
        "* To construct a pattern, regular expressions often use a backslash '\\' for example \\d and \\w . But this collides with Python’s usage of the backslash for the same purpose in string literals.\n",
        "\n",
        "* For example, suppose you need to match the following string:\n",
        "<br />![image.png](data:image/png;base64,iVBORw0KGgoAAAANSUhEUgAAAI4AAAAlCAYAAACUJtElAAADhUlEQVR4nO2aP2gbVxjAf090bLKYQkcNRT4CHopROxkPhStV0R4w0phBR0Bg6FI6CY+GAxEPGR1Mu5t4OMiUpXUIGQpFERqunVJCMsid7+tw+nM6nZTTs2RZyfeb7Ht/7vN7P773PlnGcRxBURaksO4AlM1ExVGsUHEUK1QcxQoVR7FCxVGsUHEUK1QcxQoVR7FCxVGsUHEUK1QcxQoVR7Fio8VxDyP8tlBzUg2O0GpHNN21hHUNhGY7/ptWHfrMtcvJRosTvjXZDR3D8xCKO7fnGyOluuAfCaV1BzJg5trl5LMlxbFW/u1MPwueGvY8cIHgxiOyxeA/vN6GLkrW2uVhozPOXDqGbl/Yq687kI8Tk/8bgN/x5Px7iokn/10+5odWbyWBLQVX8Pfh5GdDN6vdEVqecCfxKDwv4CdSVKkuNMrjJbp6UeCX0/REQrMtE2sznMc9jKgU0/2n31U7iti9O2jom+yYXcGvJrfLcPHQjDJq7Sii9LrA8y8S75w11zXJKc5X+GcP2O5cR5Rp8Ub0X/Ho4Fd+s5x5NvGGkpLhw20xsTQkNices5WUZyhfaGgezz5mSnWhsT1H4g/1cwW/Ci8fGZ4MjpdYyrE8Q/nGcmfEuyQWuuN87pS5T89yg59Rqz6zGmmP4eIFNHYEguxNLc5sEyplITwvJO5Ig/m2hRLxxro/Cnf6hpM50iyD2r5AOJYGIDg23GsL91xDMAwyNAlJDO/6wtYK4skpTo/mwWP8swd451/jwQqzxHLpXsKVBzWHiUWPL6LQbAt+e5B0M7JGsRrhV1OT9lOSvGfpR0EWVzMqoa0vb+DlKRbIOD2aBz8Nfo6PLu8MyC3POo4qBqV5xN43BqYqiGQVE6d1/5AJedJ3ntvIuzc3/07LcrzH750rdhf68GgdR1VM8KehUhXcUzOnNDf8FSYvuPHvlargBrPHDedu1c3ce0T3DVCGbx3oWpTAf7w27JaF2mXyjiMU+4aTNYidU5ysbPE3T6u3/6gCIDC83I8m7wIZFdWwAhkNOy7AYUSlLVQS3SYqq8DQ/AdaXoRfHveZylSB4WInouIJu+k+GbE02gKY0WW4e2o4QWh40Wj8qiqmPCxQjm82easaJR8f7weAKbqnEN4VKhv3/6vbySeTcZTl8slkHGW5qDiKFSqOYoWKo1ih4ihWqDiKFSqOYoWKo1ih4ihW/A+mkGNQ1VR6tgAAAABJRU5ErkJggg==)\n",
        "\n",
        "* In Python, the backslash (\\) is a special character. To construct a regular expression, you need to escape any backslashes by preceding each of them with a backslash (\\):<br />\n",
        "![image.png](data:image/png;base64,iVBORw0KGgoAAAANSUhEUgAAANEAAAAgCAYAAACM9J1TAAAFUElEQVR4nO2cTWgbRxTHf2N6rH1w2kJOUSAooiUFI5JeKowJKFRCmN5ijNyLyUFLiojBGIJPxlAMDSLCOYRcKhGSaxBqicAYYyhtjMkhUBThErmXEhL7IOWs6UFfI2lXsrXyR9z3Ax92583M83r+M++9Xax8Pp9GEIS+GTppBwThY0dEJAguEREJgktERILgEhGRILhERCQILhERCYJLRESC4BIRkSC4RER0KtHEkxUSyxpve1NQk0hqoj7n3sE5h76nHO+MJpGssDRz1DN1eb59cHIimrXYzFgsuLU5kyj2Sg5NOcV2SeO95tw7l1WUR+CbLkI7XqqLNh48aT/qdHm+ffDJ4IYSBs4+FGxupzcUiXGNF2XbTl6xWawQuKYgf8Q+DpBCShFPqeOb0OH5HhYJ5z5GclAc0YS67Oy5V4rhq5pTs/mfYdShvuKetdichOy9fcbvjPFp7Xbx2TzRR4bdxBS/Ge2wSzayyk/AzcVFrGvDtsN/ePGQ75Z2DmRTZ+H+CuGLzfZWX66TztyAZ/NkzxtjvnlO4Mc1qPvj22F1fRRr8kKtX5nte0vE1w/0VE4E74wm9jnEf3beuaPLFc5tDJHI2bcH5yqEPMaNkuLB3dbTrd2mmOkczzujiV01llF9HJ9mydLY/iXNuYKaRKTZ326O+u/jH2lel7eGWEzVrzTxpIbMEHvjhl1RdX1Gg6APEV3AXGTVBb/fEAlcJ/34C7LTT3gKwCUSj2/h5yWrjXs0Bdno5zSfs83C/RXC54xxa+J93xBSVUQeaAqnzaYh2FJznI5xe2LM007pMOMcAp9myYLCqiLtELJ5ZzSxy3QIo1dbneBchdCosdhrotgzFnlVZIrtLn6YC9xJ0L3sossV/PuGIGq+0BBSta8HQ4Q2/h4FfeRErbv006XfCWdu8NUs8Ahgjei0ab/DH/ky/kEnuRNTjF8ss33PWKDrT9j4fozw19eBtaatcfKwvsXr2TEun78E1E+0XUP0UHxXhnOHcWaNaGStt9kgOUDeU0hBMVktMBTsbEa6tPk0gZo4GiLLKzaLmtAVDTlVs4FippuABkBQ4x9RbKeNEyWvSG9B7HJrbljeMgSTh70jdKvOwAoLnxmLsj3EAmCA1ZAmw/jvrLB5p+32m9bLD+92jasd4tPzR+HMsZN7pQhFNMGUwn6jVfxVrBAKQzrfGtIUUooHaGJWBX/NtvM00fgtXWs3KLbOsfePy1/kgLx12Ag8DKZA0C8DE9H7f6sCurm4SPjibksIVs07BjWTyWnJXU4gnINquXu8wpdBRc4hXMllFQELgtAhNLMa5p3RxCwNLULqFaadAkptmj4BXFfnFu7fwFN6SfaRg8HEFD/YFQn+3ucDF6phoBPdbNa3eF0axj87xc0+/B4sa0Qj8wTsfo5KQDX+fK3wjHd5aZhXFEqaQI8XmIUXULbp54/2Httv9aoCVt/LeK70+Z8IclBEE5oz+vs00aua4oZzTndc9HEStYVQb54TmG7mA/UcKZxZIQzALtlnu4Qn2oZZf8Iv317Cmlxhc7J6q73y1t1mh/j0QxKPb2FlxrCMoTuqhWeYnnkP9u+VOipzVBNy89RJ3x2C5QqxpO6wq+cd6btDvJ2rEEpqQnUDmypfOq3wWtWvLdptOnyJVEhEMCprisRtiCeN/jhX8Y6bPqpzo6ckhBLqBOcqhOhWyj1odUzoB3nZegbIZRVlD12+p1P8utUj7BP6Rj77OQvkFYu3u5sUUor48Xjzv+Nw4ZwgCB1IOCcILhERCYJLRESC4BIRkSC4REQkCC4REQmCS0REguCS/wCF+Gxmi3tTmgAAAABJRU5ErkJggg==)\n",
        "\n",
        "* In regular expressions, the pattern must be '\\\\section'. However, to express this pattern in a string literal in Python, you need to use two more backslashes to escape both backslashes again:<br />\n",
        "![image.png](data:image/png;base64,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)\n",
        "\n",
        "* Simply put, to match a literal backslash ('\\'), you have to write '\\\\\\\\' because the regular expression must be '\\\\' and each backslash must be expressed as '\\\\' inside a string literal in Python.\n",
        "\n",
        "* This results in lots of repeated backslashes. Hence, it makes the regular expressions difficult to read and understand.\n",
        "\n",
        "* A solution is to use the raw strings in Python for regular expressions because raw strings treat the backslash (\\) as a literal character, not a special character.\n",
        "\n",
        "* To turn a regular string into a raw string, you prefix it with the letter r or R. For example:"
      ]
    },
    {
      "cell_type": "code",
      "execution_count": null,
      "metadata": {
        "colab": {
          "base_uri": "https://localhost:8080/"
        },
        "id": "o3cUjBOzGvxm",
        "outputId": "66246293-79d6-45a0-86d7-a9453b40530b"
      },
      "outputs": [
        {
          "name": "stdout",
          "output_type": "stream",
          "text": [
            "['\\\\section']\n"
          ]
        }
      ],
      "source": [
        "import re\n",
        "\n",
        "s = '\\section'\n",
        "pattern = r'\\\\section'\n",
        "result = re.findall(pattern, s)\n",
        "\n",
        "print(result)\n"
      ]
    },
    {
      "cell_type": "code",
      "execution_count": null,
      "metadata": {
        "id": "jwthi0X1GxAz"
      },
      "outputs": [],
      "source": [
        ""
      ]
    },
    {
      "cell_type": "markdown",
      "metadata": {
        "id": "hhnlA9LMG5uf"
      },
      "source": [
        "* Note that in Python ‘\\section’ and ‘\\\\section’ are the same:"
      ]
    },
    {
      "cell_type": "code",
      "execution_count": null,
      "metadata": {
        "colab": {
          "base_uri": "https://localhost:8080/"
        },
        "id": "CFuA-MfJG6wb",
        "outputId": "4a8102e9-095e-4ece-bdbb-7ef7827fbb0b"
      },
      "outputs": [
        {
          "name": "stdout",
          "output_type": "stream",
          "text": [
            "True\n"
          ]
        }
      ],
      "source": [
        "p1 = '\\\\section'\n",
        "p2 = '\\section'\n",
        "\n",
        "print(p1==p2) # true"
      ]
    },
    {
      "cell_type": "markdown",
      "metadata": {
        "id": "Lm79oNGBHARf"
      },
      "source": [
        "* In practice, you’ll find the regular expressions constructed in Python using the raw strings."
      ]
    },
    {
      "cell_type": "code",
      "execution_count": null,
      "metadata": {
        "id": "rXml-aoXHCCc"
      },
      "outputs": [],
      "source": [
        ""
      ]
    },
    {
      "cell_type": "markdown",
      "metadata": {
        "id": "VVRWSPUmHFWn"
      },
      "source": [
        "## **Python Regex Character Set**\n",
        "### **Introduction to Python regex character sets**\n",
        "* A character set (or a character class) is a set of characters, for example, digits (from 0 to 9), alphabets (from a to z), and whitespace.\n",
        "\n",
        "* A character set allows you to construct regular expressions with patterns that match a string with one or more characters in a set.\n",
        "\n",
        "### **\\d: digit character set**\n",
        "* Regular expressions use \\d to represent a digit character set that matches a single digit from 0 to 9.\n",
        "\n",
        "* The following example uses the finditer() function to match every single digit in a string using the \\d character set:"
      ]
    },
    {
      "cell_type": "code",
      "execution_count": null,
      "metadata": {
        "colab": {
          "base_uri": "https://localhost:8080/"
        },
        "id": "S-0qW3vcHYxa",
        "outputId": "4c15f19b-ddd9-4ad0-9dfd-7271c3370766"
      },
      "outputs": [
        {
          "name": "stdout",
          "output_type": "stream",
          "text": [
            "3\n",
            "0\n",
            "2\n",
            "0\n",
            "0\n",
            "8\n"
          ]
        }
      ],
      "source": [
        "import re\n",
        "\n",
        "s = 'Python 3.0 was released in 2008'\n",
        "matches = re.finditer('\\d', s)\n",
        "for match in matches:\n",
        "    print(match.group())"
      ]
    },
    {
      "cell_type": "code",
      "execution_count": null,
      "metadata": {
        "colab": {
          "base_uri": "https://localhost:8080/"
        },
        "id": "9vVbJWQZHZor",
        "outputId": "38c678ea-562c-428d-dd0f-924e16745590"
      },
      "outputs": [
        {
          "name": "stdout",
          "output_type": "stream",
          "text": [
            "20\n",
            "08\n"
          ]
        }
      ],
      "source": [
        "#To match a group of two digits, you use the \\d\\d. For example:\n",
        "import re\n",
        "\n",
        "s = 'Python 3.0 was released in 2008'\n",
        "matches = re.finditer('\\d\\d', s)\n",
        "for match in matches:\n",
        "    print(match.group())"
      ]
    },
    {
      "cell_type": "code",
      "execution_count": null,
      "metadata": {
        "colab": {
          "base_uri": "https://localhost:8080/"
        },
        "id": "v183s0jEHezh",
        "outputId": "c71681b7-2c08-4b23-d18b-02118660ad05"
      },
      "outputs": [
        {
          "name": "stdout",
          "output_type": "stream",
          "text": [
            "2008\n"
          ]
        }
      ],
      "source": [
        "#Similarly, you can match a group of four digits using the \\d\\d\\d\\d pattern:\n",
        "import re\n",
        "\n",
        "s = 'Python 3.0 was released in 2008'\n",
        "matches = re.finditer('\\d\\d\\d\\d', s)\n",
        "for match in matches:\n",
        "    print(match.group())"
      ]
    },
    {
      "cell_type": "code",
      "execution_count": null,
      "metadata": {
        "id": "ISU2K0vLHi9h"
      },
      "outputs": [],
      "source": [
        ""
      ]
    },
    {
      "cell_type": "markdown",
      "metadata": {
        "id": "yDc79fJ3Hl_o"
      },
      "source": [
        "* Later, you’ll learn how to use quantifiers to shorten the pattern. So instead of using the \\d\\d\\d\\d pattern, you can use the shorter one like \\d{4}\n",
        "\n",
        "### **\\w: the word character set**\n",
        "* Regular expressions use \\w to represent the word character set. The \\w matches a single ASCII character including Latin alphabet, digit, and underscore (_).\n",
        "\n",
        "* The following example uses the finditer() function to match every single word character in a string using the \\w character set:"
      ]
    },
    {
      "cell_type": "code",
      "execution_count": null,
      "metadata": {
        "colab": {
          "base_uri": "https://localhost:8080/"
        },
        "id": "3mPtQ6a_HsFD",
        "outputId": "abca426b-eb1b-4403-b5c8-ab4dbcb76cfc"
      },
      "outputs": [
        {
          "name": "stdout",
          "output_type": "stream",
          "text": [
            "P\n",
            "y\n",
            "t\n",
            "h\n",
            "o\n",
            "n\n",
            "3\n",
            "0\n"
          ]
        }
      ],
      "source": [
        "import re\n",
        "\n",
        "s = 'Python 3.0'\n",
        "matches = re.finditer('\\w', s)\n",
        "for match in matches:\n",
        "    print(match.group())\n",
        "\n",
        "    "
      ]
    },
    {
      "cell_type": "code",
      "execution_count": null,
      "metadata": {
        "id": "nHw6XHo0HupS"
      },
      "outputs": [],
      "source": [
        ""
      ]
    },
    {
      "cell_type": "markdown",
      "metadata": {
        "id": "pOv228KZHw8Y"
      },
      "source": [
        "* Notice that the whitespace and . are not included in the matches.\n",
        "\n",
        "### **\\s : whitespace character set**\n",
        "* The \\s matches whitespace including a space, a tab, a newline, a carriage return, and a vertical tab.\n",
        "\n",
        "* The following example uses the whitespace character set to match a space in a string:"
      ]
    },
    {
      "cell_type": "code",
      "execution_count": null,
      "metadata": {
        "colab": {
          "base_uri": "https://localhost:8080/"
        },
        "id": "Rjp0p5Y7H0Wf",
        "outputId": "56cc3a4a-d0fb-4b6e-8a4e-8ce3548683cb"
      },
      "outputs": [
        {
          "name": "stdout",
          "output_type": "stream",
          "text": [
            "<re.Match object; span=(6, 7), match=' '>\n"
          ]
        }
      ],
      "source": [
        "import re\n",
        "\n",
        "s = 'Python 3.0'\n",
        "matches = re.finditer('\\s', s)\n",
        "for match in matches:\n",
        "    print(match)"
      ]
    },
    {
      "cell_type": "code",
      "execution_count": null,
      "metadata": {
        "id": "8Vm0eZyeH20A"
      },
      "outputs": [],
      "source": [
        ""
      ]
    },
    {
      "cell_type": "markdown",
      "metadata": {
        "id": "C66nVjrFH5ug"
      },
      "source": [
        "### **Inverse character sets**\n",
        "* A character set has an inverse character set that uses the same letter but in uppercase. The following table shows the character sets and their inverse ones:\n",
        "<br />![image.png](data:image/png;base64,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)\n",
        "\n",
        "* The following example uses the \\D to match the non-digit from a phone number:"
      ]
    },
    {
      "cell_type": "code",
      "execution_count": null,
      "metadata": {
        "colab": {
          "base_uri": "https://localhost:8080/"
        },
        "id": "cxtj62UdIGmK",
        "outputId": "132bd887-ebec-47d8-bde7-71c57b0a708c"
      },
      "outputs": [
        {
          "name": "stdout",
          "output_type": "stream",
          "text": [
            "+\n",
            "-\n",
            "(\n",
            ")\n",
            "-\n",
            "-\n"
          ]
        }
      ],
      "source": [
        "import re\n",
        "\n",
        "phone_no = '+1-(650)-513-0514'\n",
        "matches = re.finditer('\\D', phone_no)\n",
        "for match in matches:\n",
        "    print(match.group())"
      ]
    },
    {
      "cell_type": "code",
      "execution_count": null,
      "metadata": {
        "colab": {
          "base_uri": "https://localhost:8080/"
        },
        "id": "2vJzWa1cIIJt",
        "outputId": "c46d2146-4d49-405b-f4b9-4987e764f223"
      },
      "outputs": [
        {
          "name": "stdout",
          "output_type": "stream",
          "text": [
            "16505130514\n"
          ]
        }
      ],
      "source": [
        "#To turn the phone number +1-(650)-513-0514 into the 16505130514, you can use the sub() function:\n",
        "import re\n",
        "\n",
        "phone_no = re.sub('\\D', '', '+1-(650)-513-0514')\n",
        "print(phone_no)"
      ]
    },
    {
      "cell_type": "code",
      "execution_count": null,
      "metadata": {
        "id": "MdBO7OQNIO4j"
      },
      "outputs": [],
      "source": [
        ""
      ]
    },
    {
      "cell_type": "markdown",
      "metadata": {
        "id": "FX_iuDYOIRmI"
      },
      "source": [
        "* In this example, the sub() function replaces the character that matches the pattern \\D with the literal string '' in the formatted phone number.\n",
        "\n",
        "### **The dot(.) character set**\n",
        "* The dot (.) character set matches any single character except the new line (\\n). \n",
        "* The following example uses the dot (.) character set to match every single character but the new line:\n"
      ]
    },
    {
      "cell_type": "code",
      "execution_count": null,
      "metadata": {
        "colab": {
          "base_uri": "https://localhost:8080/"
        },
        "id": "sWXNbyL1IWnT",
        "outputId": "3f7694ff-5c6e-4e9d-d08e-bf5879b300e3"
      },
      "outputs": [
        {
          "name": "stdout",
          "output_type": "stream",
          "text": [
            "P\n",
            "y\n",
            "t\n",
            "h\n",
            "o\n",
            "n\n",
            "4\n"
          ]
        }
      ],
      "source": [
        "import re\n",
        "\n",
        "version = \"Python\\n4\"\n",
        "matches = re.finditer('.', version)\n",
        "for match in matches:\n",
        "    print(match.group())"
      ]
    },
    {
      "cell_type": "code",
      "execution_count": null,
      "metadata": {
        "id": "aFmGAdLhIW6U"
      },
      "outputs": [],
      "source": [
        ""
      ]
    },
    {
      "cell_type": "markdown",
      "metadata": {
        "id": "nLa3BEJMIarl"
      },
      "source": [
        "## **Python Regex Anchors**\n",
        "### **Introduction to the regex anchors**\n",
        "* Regular expressions provide you with two anchors that match the positions of characters:\n",
        "\n",
        "  * **^** – the caret anchor matches at the beginning of a string.\n",
        "  * **$** – the dollar anchor matches at the end of a string.\n",
        "The following example uses the \\d\\d to match two digits in a time string:"
      ]
    },
    {
      "cell_type": "code",
      "execution_count": null,
      "metadata": {
        "colab": {
          "base_uri": "https://localhost:8080/"
        },
        "id": "dysMo_uZIj6q",
        "outputId": "c048ad6f-85df-4a3f-9757-4bddf028d5d6"
      },
      "outputs": [
        {
          "name": "stdout",
          "output_type": "stream",
          "text": [
            "12\n",
            "20\n"
          ]
        }
      ],
      "source": [
        "#The following example uses the \\d\\d to match two digits in a time string:\n",
        "import re\n",
        "\n",
        "time = '12:20'\n",
        "matches = re.finditer('\\d\\d', time)\n",
        "for match in matches:\n",
        "    print(match.group())"
      ]
    },
    {
      "cell_type": "code",
      "execution_count": null,
      "metadata": {
        "colab": {
          "base_uri": "https://localhost:8080/"
        },
        "id": "AwhQOg7gIn7G",
        "outputId": "f0cda143-81b5-4d78-ee8b-14f93fc703cf"
      },
      "outputs": [
        {
          "name": "stdout",
          "output_type": "stream",
          "text": [
            "12\n"
          ]
        }
      ],
      "source": [
        "#If you use the caret anchor (^), you’ll get one group which is the two digits at the beginning of the string. For example:\n",
        "import re\n",
        "\n",
        "time = '12:20'\n",
        "matches = re.finditer('^\\d\\d', time)\n",
        "for match in matches:\n",
        "    print(match.group())"
      ]
    },
    {
      "cell_type": "code",
      "execution_count": null,
      "metadata": {
        "colab": {
          "base_uri": "https://localhost:8080/"
        },
        "id": "k5FlK8tmIuMh",
        "outputId": "b6cda94b-33d2-4c5e-b887-d75aefdb8534"
      },
      "outputs": [
        {
          "name": "stdout",
          "output_type": "stream",
          "text": [
            "20\n"
          ]
        }
      ],
      "source": [
        "#Similarly, if you use the $ anchor, you’ll get the last two digits because the $ matches \\d\\d at the end of the time string:\n",
        "import re\n",
        "\n",
        "time = '12:20'\n",
        "matches = re.finditer('\\d\\d$', time)\n",
        "for match in matches:\n",
        "    print(match.group())"
      ]
    },
    {
      "cell_type": "code",
      "execution_count": null,
      "metadata": {
        "colab": {
          "base_uri": "https://localhost:8080/"
        },
        "id": "5eEqJRJAI1A5",
        "outputId": "eeed2e86-9163-488c-f651-eb2f5e50ce40"
      },
      "outputs": [
        {
          "name": "stdout",
          "output_type": "stream",
          "text": [
            "12:20\n"
          ]
        }
      ],
      "source": [
        "#To check if a string is a time string, you can combine the caret (^) and dollar ($) anchors. For example:\n",
        "import re\n",
        "\n",
        "time = '12:20'\n",
        "matches = re.finditer('^\\d\\d:\\d\\d$', time)\n",
        "for match in matches:\n",
        "    print(match.group())"
      ]
    },
    {
      "cell_type": "code",
      "execution_count": null,
      "metadata": {
        "id": "sNO13QXZI5Kk"
      },
      "outputs": [],
      "source": [
        ""
      ]
    },
    {
      "cell_type": "markdown",
      "metadata": {
        "id": "syyZ-TmPI72m"
      },
      "source": [
        "* Note that the pattern ^\\d\\d:\\d\\d$ doesn’t validate the valid hour and minute. For example, it also matches the following string:\n",
        "  \n",
        "  * 30:99\n",
        "\n",
        "* It’s not a valid time string because the valid hour is from 1 to 24 and the valid minute is from 00 to 59. Later, you’ll learn how to match the time string with valid values using the alternation."
      ]
    },
    {
      "cell_type": "markdown",
      "metadata": {
        "id": "52pRHJW-JXQk"
      },
      "source": [
        "## **Python Regex Word Boundary**\n",
        "### **Introduction to the Python regex word boundary**\n",
        "* A string has the following positions that qualify as word boundaries:\n",
        "\n",
        "  * Before the first character in the string if the first character is a word character (\\w).\n",
        "  * Between two characters in the string if the first character is a word character (\\w) and the other is not (\\W – inverse character set of the word character \\w).\n",
        "  * After the last character in a string if the last character is the word character (\\w)\n",
        "* The following picture shows the word boundary positions in the string \"PYTHON 3!\":<BR />\n",
        "![image.png](data:image/png;base64,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)\n",
        "\n",
        "* In this example, the \"PYTHON 3!\" string has four word boundary positions:\n",
        "\n",
        "  * Before the letter P (criteria #1)\n",
        "  * After the letter N (criteria #2)\n",
        "  * Before the digit 3 (criteria #2)\n",
        "  * After the digit 3 (criteria #2)\n",
        "* Regular expressions use the \\b to represent a word boundary. For example, you can use the \\b to match the whole word using the following pattern:<br />\n",
        "![image.png](data:image/png;base64,iVBORw0KGgoAAAANSUhEUgAAAHMAAAAiCAYAAABskea0AAADu0lEQVRoge2aTWsbVxSGnzN0Ky3shjabMIWgCoNXQslKeFFQqI3pDyjyqqsIFYHBG5OV8abQMiCcH2D9giIsyEApxhAIRnQRKJIIdJqVjVAWo6zndjEaS6MPWx+WrA73WWmu7j1zzrz33HNGSJLJpEITCYyHdkBzf2gxI4QWM0JoMSOEFjNCaDEjhBYzQmgxI4QWM0IsXsyk4qjkYe0P/9CU3fewjhWJW5bnjkevXRVyxx5He73ru2NSFEvhNePx5971jAIWL2Yd2mO+ss+EThyeJxfuxdK435iEtjv57KUds52WDA/WhQtHkXi2LC+WwCJi+gTNCaY9eM203wuxtCL70I7cIw8V0xezLfuOcuUF/H7A2eNX5J/F/OF/3pD5+Y+BuYJVGJGVAbZQ2/LYyAq2PXpKpyVk9z22ze6AK7w+FJr4NSrTMnh1OrhKUSwpqBhYNn7tzitifX7VToRyvXuZVBzloXkiXO/07tW5DNtO7ClepsM1vDNDTO0rv96m4t0BRyj+OvycyocG5dEmhpgrM80ffiH/6C2Z3QMyv/3F529eUP5pejvvGoK5Nb7Ix9Ie2wjFgkGxIDhxRa7bQDgtIfZoRIOUhHWE9kduhGxXjK4Ng9eXkMorcqHapkjl/c1RLBgUK36GBXN8IaFa6Nmpjalpd8Vk7nokGl07J0LHVBTnTOX5jtn+TPzzkoYLXz5+OrWZ5ik4tzUNoV0rVC+F2Ld9D2oN/3NWYZXCx9t1HbI7ipgrVPuypHkq1Nzh2hbKRBscFOtPABTbaYVTEcYk21Qxhe5TFy4cMDfn69rnEvNz69++qw8Ufzzg+6MPM1gS/nYUqZ0pgomDCTSvep+zm9BxFRtZ4AnEXHCC+WOaiMGsbl+F/bIKwTHdl+mLiinYlDPy4A1QgH0mdEwmbxoCoT4GNUuxsQblc8HcVCS+ZqIucGSXPYo6tG+ydDKmjmnCrnUcKyMmdaHpKjJ3vUwnFbm0wjn3G6DgPfarPVhvCE1bqK3Bc3pC2e8FBmpSYk+RigsXQ43TOPx3vv6jMNTAzBNTVrFtCrWzCTfWGGbsZhdD+VywthQJ5GaHXn8CTL8W+gi1E6PXhSK0XY9UWqgW/JF3DXjZrW8A2EIRsHY9rN3eumphsvp349+hsF7q+eJUDKqbHpmpYhLarsJMe1jp2X0ZhazWH7oGXiciwfJiWp1jFgg61dta+v8fy4tpxTJTMw8rlpmaedBiRggtZoTQYkYILWaE0GJGCC1mhNBiRggtZoTQYkaI/wAXtXqEpPg9vgAAAABJRU5ErkJggg==)\n",
        "\n",
        "* The following example matches the word Python in a string:"
      ]
    },
    {
      "cell_type": "code",
      "execution_count": null,
      "metadata": {
        "colab": {
          "base_uri": "https://localhost:8080/"
        },
        "id": "tHh6RKn7JDcB",
        "outputId": "6b09d9e3-52ce-4510-e068-30ce2344559e"
      },
      "outputs": [
        {
          "name": "stdout",
          "output_type": "stream",
          "text": [
            "Python\n",
            "Python\n"
          ]
        }
      ],
      "source": [
        "import re\n",
        "\n",
        "s = 'CPython is the implementation of Python in C'\n",
        "matches = re.finditer('Python', s)\n",
        "for match in matches:\n",
        "    print(match.group())"
      ]
    },
    {
      "cell_type": "code",
      "execution_count": null,
      "metadata": {
        "id": "ioiVeockJ70u"
      },
      "outputs": [],
      "source": [
        ""
      ]
    },
    {
      "cell_type": "markdown",
      "metadata": {
        "id": "JFTxkyIAKAsM"
      },
      "source": [
        "* It returns two matches, one in the word CPython and another in the word Python. However, if you use the word boundary \\b, the program returns one match:"
      ]
    },
    {
      "cell_type": "code",
      "execution_count": null,
      "metadata": {
        "colab": {
          "base_uri": "https://localhost:8080/"
        },
        "id": "QH5A90ZcKC-Z",
        "outputId": "3fc60b86-ff64-4c30-dd55-0b1856659f0c"
      },
      "outputs": [
        {
          "name": "stdout",
          "output_type": "stream",
          "text": [
            "Python\n"
          ]
        }
      ],
      "source": [
        "import re\n",
        "\n",
        "s = 'CPython is the implementation of Python in C'\n",
        "matches = re.finditer(r'\\bPython\\b', s)\n",
        "for match in matches:\n",
        "    print(match.group())\n"
      ]
    },
    {
      "cell_type": "markdown",
      "metadata": {
        "id": "xnWzhmZOKHIw"
      },
      "source": [
        "* In this example, the '\\bPython\\b' pattern match the whole word Python in the string 'CPython is the implementation of Python in C'.\n"
      ]
    },
    {
      "cell_type": "markdown",
      "metadata": {
        "id": "WOTOC-nlYJGo"
      },
      "source": [
        "## **Python Regex Quantifiers**\n",
        "\n",
        "### **Introduction to Python regex quantifiers**\n",
        "* In regular expressions, quantifiers match the preceding characters or character sets a number of times. \n",
        "* The following table shows all the quantifiers and their meanings:<br />\n",
        "![image.png](data:image/png;base64,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)\n",
        "\n",
        "### **Match zero or more times (*)**\n",
        "* The quantifier (*) matches its preceding element zero or more times. \n",
        "* For example, the following program uses the * quantifier to match any string that ends with Python:"
      ]
    },
    {
      "cell_type": "code",
      "execution_count": null,
      "metadata": {
        "colab": {
          "base_uri": "https://localhost:8080/"
        },
        "id": "tohQWIhWYep4",
        "outputId": "5238e510-a0b6-4841-b102-a567859b328f"
      },
      "outputs": [
        {
          "name": "stdout",
          "output_type": "stream",
          "text": [
            "<re.Match object; span=(0, 7), match='CPython'>\n",
            "<re.Match object; span=(9, 19), match='IronPython'>\n",
            "<re.Match object; span=(25, 32), match='JPython'>\n",
            "<re.Match object; span=(51, 57), match='Python'>\n"
          ]
        }
      ],
      "source": [
        "import re\n",
        "\n",
        "s = \"\"\"CPython, IronPython, and JPython \n",
        "       are major Python's implementation\"\"\"\n",
        "\n",
        "matches = re.finditer('\\w*Python', s)\n",
        "\n",
        "for match in matches:\n",
        "    print(match)"
      ]
    },
    {
      "cell_type": "code",
      "execution_count": null,
      "metadata": {
        "id": "AIqNyxtbYh7C"
      },
      "outputs": [],
      "source": [
        ""
      ]
    },
    {
      "cell_type": "markdown",
      "metadata": {
        "id": "k1FGB_RGYluI"
      },
      "source": [
        "* In this example:\n",
        "\n",
        "  * The \\w matches any single word character.\n",
        "  * So the \\w* matches zero or more word characters.\n",
        "  * Therefore, the \\w*Python match any zero or more characters followed by the string Python.\n",
        "* As a result, the \\w*Python pattern matches CPython, IronPython, JPython, and Python in the string:\n",
        "![image.png](data:image/png;base64,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)\n",
        "\n",
        "### **Match one or more times (+)**\n",
        "* The **+** quantifier matches its preceding element one or more times. For example, the \\d+ matches one or more digits.\n",
        "\n",
        "* The following example uses the + quantifier to match one or more digits in a string:\n"
      ]
    },
    {
      "cell_type": "code",
      "execution_count": null,
      "metadata": {
        "colab": {
          "base_uri": "https://localhost:8080/"
        },
        "id": "XyGRvqXDYyI7",
        "outputId": "ccfeacbf-d1aa-437f-e2ef-8a08f3a3a040"
      },
      "outputs": [
        {
          "name": "stdout",
          "output_type": "stream",
          "text": [
            "<re.Match object; span=(7, 8), match='3'>\n",
            "<re.Match object; span=(9, 11), match='10'>\n",
            "<re.Match object; span=(28, 32), match='2021'>\n"
          ]
        }
      ],
      "source": [
        "import re\n",
        "\n",
        "s = \"Python 3.10 was released in 2021\"\n",
        "\n",
        "matches = re.finditer('\\d+', s)\n",
        "\n",
        "for match in matches:\n",
        "    print(match)"
      ]
    },
    {
      "cell_type": "code",
      "execution_count": null,
      "metadata": {
        "id": "Yp9RJf40YyV1"
      },
      "outputs": [],
      "source": [
        ""
      ]
    },
    {
      "cell_type": "markdown",
      "metadata": {
        "id": "UUVWJ-RdY0bB"
      },
      "source": [
        "### **Match zero or one time (?)**\n",
        "* The **?** quantifier matches its preceding element zero or one time.\n",
        "\n",
        "* The following example uses the (?) quantifier to match both strings color and colour:"
      ]
    },
    {
      "cell_type": "code",
      "execution_count": null,
      "metadata": {
        "colab": {
          "base_uri": "https://localhost:8080/"
        },
        "id": "nZjJxA7kY38v",
        "outputId": "d9cb95f6-5883-421b-da37-b348b4282b99"
      },
      "outputs": [
        {
          "name": "stdout",
          "output_type": "stream",
          "text": [
            "<re.Match object; span=(5, 10), match='color'>\n",
            "<re.Match object; span=(13, 19), match='colour'>\n"
          ]
        }
      ],
      "source": [
        "import re\n",
        "\n",
        "s = \"What color / colour do you like?\"\n",
        "\n",
        "matches = re.finditer('colou?r', s)\n",
        "\n",
        "for match in matches:\n",
        "    print(match)"
      ]
    },
    {
      "cell_type": "code",
      "execution_count": null,
      "metadata": {
        "id": "pRtmWIErY5oG"
      },
      "outputs": [],
      "source": [
        ""
      ]
    },
    {
      "cell_type": "markdown",
      "metadata": {
        "id": "Rxh72aR9Y7ru"
      },
      "source": [
        "* In this example, the u? matches zero or one character u. Therefore, the colou?r pattern matches both color and colour"
      ]
    },
    {
      "cell_type": "code",
      "execution_count": null,
      "metadata": {
        "id": "cVhYTkM_Y8NI"
      },
      "outputs": [],
      "source": [
        ""
      ]
    },
    {
      "cell_type": "markdown",
      "metadata": {
        "id": "3TCnasSZY_N3"
      },
      "source": [
        "### **Match Exactly n Times: {n}**\n",
        "* The {n} quantifier matches its preceding element exactly n times, where n is zero or a positive integer.\n",
        "\n",
        "* For example, the following program uses the quantifier {n} to match a time string in the hh:mm format:\n"
      ]
    },
    {
      "cell_type": "code",
      "execution_count": null,
      "metadata": {
        "colab": {
          "base_uri": "https://localhost:8080/"
        },
        "id": "nIvACXRcZCjQ",
        "outputId": "1865eb99-46b1-4603-fb41-e642865a46a3"
      },
      "outputs": [
        {
          "name": "stdout",
          "output_type": "stream",
          "text": [
            "<re.Match object; span=(7, 12), match='11:05'>\n"
          ]
        }
      ],
      "source": [
        "import re\n",
        "\n",
        "s = \"It was 11:05 AM\"\n",
        "\n",
        "matches = re.finditer('\\d{2}:\\d{2}', s)\n",
        "\n",
        "for match in matches:\n",
        "    print(match)"
      ]
    },
    {
      "cell_type": "code",
      "execution_count": null,
      "metadata": {
        "id": "pP5LK4p2ZIEc"
      },
      "outputs": [],
      "source": [
        ""
      ]
    },
    {
      "cell_type": "markdown",
      "metadata": {
        "id": "ksNPlQzSZLTv"
      },
      "source": [
        "*  this example, the \\d{2} matches exactly two digits. Therefore, the \\d{2}:\\d{2} matches a string that starts with two digits, a colon :, and ends with two digits.\n",
        "\n",
        "### **Match at least n times: {n,}**\n",
        "* The **{n,}** quantifier matches its preceding element at least n times, where n is zero or a positive integer.\n",
        "\n",
        "* For example, the following program uses the {n, } quantifier to match the date strings with the m-d-yyyy or mm-dd-yyyy format:"
      ]
    },
    {
      "cell_type": "code",
      "execution_count": null,
      "metadata": {
        "colab": {
          "base_uri": "https://localhost:8080/"
        },
        "id": "nCo_7BcPZRAW",
        "outputId": "607613cb-3f58-40d8-8508-7607f2ae92a9"
      },
      "outputs": [
        {
          "name": "stdout",
          "output_type": "stream",
          "text": [
            "<re.Match object; span=(0, 8), match='5-5-2021'>\n",
            "<re.Match object; span=(12, 22), match='05-05-2021'>\n"
          ]
        }
      ],
      "source": [
        "import re\n",
        "\n",
        "s = \"5-5-2021 or 05-05-2021 or 5/5/2021\"\n",
        "\n",
        "matches = re.finditer('\\d{1,}-\\d{1,}-\\d{4}', s)\n",
        "\n",
        "for match in matches:\n",
        "    print(match)"
      ]
    },
    {
      "cell_type": "code",
      "execution_count": null,
      "metadata": {
        "id": "JoZdb1CLZSLb"
      },
      "outputs": [],
      "source": [
        ""
      ]
    },
    {
      "cell_type": "markdown",
      "metadata": {
        "id": "MSPMzJNAZWEY"
      },
      "source": [
        "### **Match from n and m times: {n,m}**\n",
        "* The {n,m} quantifier matches its preceding element at least n times, but no more than m times, where n and m are zero or a positive integer. \n",
        "* For example:\n"
      ]
    },
    {
      "cell_type": "code",
      "execution_count": null,
      "metadata": {
        "colab": {
          "base_uri": "https://localhost:8080/"
        },
        "id": "Bq-UX5yEZa9z",
        "outputId": "8ad0c89c-22c7-459e-c0f8-293a10f71c12"
      },
      "outputs": [
        {
          "name": "stdout",
          "output_type": "stream",
          "text": [
            "<re.Match object; span=(0, 8), match='5-5-2021'>\n",
            "<re.Match object; span=(12, 22), match='05-05-2021'>\n"
          ]
        }
      ],
      "source": [
        "import re\n",
        "\n",
        "s = \"5-5-2021 or 05-05-2021 or 5/5/2021\"\n",
        "\n",
        "matches = re.finditer('\\d{1,2}-\\d{1,2}-\\d{4}', s)\n",
        "\n",
        "for match in matches:\n",
        "    print(match)"
      ]
    },
    {
      "cell_type": "code",
      "execution_count": null,
      "metadata": {
        "id": "o843EuyKZbJH"
      },
      "outputs": [],
      "source": [
        ""
      ]
    },
    {
      "cell_type": "markdown",
      "metadata": {
        "id": "8d_K_ZoMZc7C"
      },
      "source": [
        "* In this example, the pattern \\d{1,2} matches one or two digits. So the pattern \\d{1,2}-\\d{1,2}-\\d{4} matches a date string in the d-m-yyyy or dd-mm-yyyy format."
      ]
    },
    {
      "cell_type": "code",
      "execution_count": null,
      "metadata": {
        "id": "fDaK-sZIZda6"
      },
      "outputs": [],
      "source": [
        ""
      ]
    },
    {
      "cell_type": "markdown",
      "metadata": {
        "id": "2SFyBi3XZh0Q"
      },
      "source": [
        "## **Python Regex Greedy**\n",
        "* By default, all quantifiers work in a greedy mode. It means that the quantifiers will try to match their preceding elements as much as possible.\n",
        "\n",
        "* Let’s start with an example to understand how the regex greedy mode works.\n",
        "\n",
        "### **The unexpected result with greedy mode**\n",
        "* Suppose you have the following HTML fragment that represents a button element:<br />\n",
        "![image.png](data:image/png;base64,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)\n",
        "\n",
        "* And you want to match the texts within the quotes (\"\") like submit and btn.\n",
        "\n",
        "* To do that, you may come up with the following pattern that includes the quote (“), the dot (.) character set and the (+) quantifier:\n",
        "\n",
        "  * **\".+\"**\n",
        "\n",
        "* The meaning of the pattern is as follows:\n",
        "\n",
        "  * \" starts with a quote\n",
        "  * . matches any character except the newline\n",
        "  * + matches the preceding character one or more times\n",
        "  * \" ends with a quote\n",
        "* The following uses the finditer() function to match the string s with the pattern:"
      ]
    },
    {
      "cell_type": "code",
      "execution_count": null,
      "metadata": {
        "colab": {
          "base_uri": "https://localhost:8080/"
        },
        "id": "yU9hEt3FaFol",
        "outputId": "93bb912c-14f4-4431-b0b8-bf4a851ef093"
      },
      "outputs": [
        {
          "name": "stdout",
          "output_type": "stream",
          "text": [
            "\"submit\" class=\"btn\"\n"
          ]
        }
      ],
      "source": [
        "import re\n",
        "\n",
        "s = '<button type=\"submit\" class=\"btn\">Send</button>'\n",
        "\n",
        "pattern = '\".+\"'\n",
        "matches = re.finditer(pattern, s)\n",
        "\n",
        "for match in matches:\n",
        "    print(match.group())"
      ]
    },
    {
      "cell_type": "code",
      "execution_count": null,
      "metadata": {
        "id": "npyoJvsFaVuw"
      },
      "outputs": [],
      "source": [
        ""
      ]
    },
    {
      "cell_type": "markdown",
      "metadata": {
        "id": "fV8iu0yyaZFv"
      },
      "source": [
        "* The program displays the following result: <br />\n",
        "![image.png](data:image/png;base64,iVBORw0KGgoAAAANSUhEUgAAALwAAAAkCAYAAAAzfFCFAAAFi0lEQVR4nO2bUUxTVxjHf7dAWGOtwYaFYUiKLtjNER6M00l8ECMPGINMfTCkEhajCcakibwpexjjTbMmjYtbyEwlzZ4WISQ8YKbLjJuM+LA0KiMDGp0KwyJe6mpX6N3DvdjbUlylF2S755c0vT33u9/3Jf2fc/89uZVcLpeCQGASLG+6AYFgJRGCF5gKIXiBqRCCF5gKIXiBqRCCF5gKIXiBqRCCF5gKIXiBqRCCF5gKIXiBqcha8LWnE3h9Cm4XUKvg9SXw1BrfkLsjgfe0UY/3KHh8at9LatWl0O5L9uPuSODtUKgwqLskEp2lNoLl2qs0nybDaxjL5rOHOH6xlurtwOGPOH7xEPsOJ88XHWimse0gm1aiGa3+kRY7sIF9Fw9x/OyGjKFZCz40KRnV3ipCnRCLTtwhCK9QH8ceRagci3AuPLciFXPlyZRsTKLqg7lPjPvTzGQZmp9LndWPhPfU/3GiCpZK1oIfHlffJ4bU9xkkwveXo6XVhERYVnBod7eJKXV0+A12tFoIT6pr6pMBgGlmWMv0m9LDgIzcDEyqd53pCNinMq/5kqHPw7sU2k8qrNUNhXotePvVY3dHgq1TEp7zyVXX3ZGg4jcLbZdTP98oTlDn1IJkiS/PSAwDFUcVWoqhD0U9H5JSjudzuzsSbLUvvH6xPl+SHmsU+fn8VPaWruYcAw+iHJtNDWuyW2m1xTn3aBb/v+aIc2Usxqfp1zvydCMLYz5z2Giw6wZiLzLXy4GiA83UlYfo+2U9dTVl2ugzhgOXGBzVzleuy3htJBigp3sS2MKetr1wLYD8YSMVNi3g4VUC39xZUl8GWhoFz0mFcK+Ftv7cMq3dlqAuJOE5Jal5fQruo9LLSYFTYdegBU9QwbtfUWN7wbsfaoF+oOuMhS60CbI5rcCQRJsuN7pJuSxYCwmWFDATfk6lvNT1JY+et+GrsYgmTInO0jU0lM4xMi9WayGtjgRXxqIpAtfTZLfSUPiCc2OLCHz7exxp3pJ5MfjjZ77+/GH2LduqqKt5wK12LyPApk887Kjfze9fXOdp9yUC3agevgZutX/HyCJpSmoa4ZqXwE1g427qG/eyp/oO39/MvpV5DPfwzkoF+nP0zSH9XUCibxBaNitUkBy7cRlV3Uj0nZegdrX+cUuis6gA5Cg7lyx2gDnqH+k/K9yIzLHdlh5XQJU1BtFXpCosYFf+LP7ZDOcG7vHtwL0c+tTzIEXIIz/8ygeNTt7dCIOj2WeJBANJcY/+SSSHjgwUvIT3FHh8Cl6f9sWGUu1LTtjBCYSMybbizMQTOedYYEUAYvHkcTRG5TgES2wEtaHR8Qj1OvH75ShgpbVsPiaztVo+1mF/B3gNwRuJwSu8fldEtQve0xgjevm/K3YjaLJbabCn+nHV76cFRmNUjsXUY2shwRIbPRlE75d1OcqsdM6L3khLk5FnyI9zTJEDy7gtKXE3pODUjUxMAeuhAnWnY/6H5Sv3UF0K7m0KoV6L+qPV4B7DssJWI2zYomjWw7GGnniq8HIiP58TjrzUFT6d6CyjFLwyjf+vOCccuhhDLY2eYrbVV2F7eDXVzjyeIkIVzmoYWYInf12ME3ymnQ9tx2Oe/vMS7/sUWjTLMzNooa84wS7dJRNTgFNni5C4fcFC11Buvag1JW5fkFJydXVJVJzU1VuGXRq/HMUfL0yxGilWYsHuSx6t5dCqi/HLf/Oxw0pDeQENAMS5Mh6noShZZ+EODcyEn7NTN8ky2aLR8YjhlubppAyUsaPNww5tLBIMEOieTCt+nR+DTupqPDTWJON60uMMwthtSYFglSMeHhOYCiF4gakQgheYCiF4gakQgheYCiF4gakQgheYCiF4gakQgheYCiF4gakQgheYCiF4gan4B7O0HMKWH1s1AAAAAElFTkSuQmCC)\n",
        "\n",
        "* The result is not what you expected.\n",
        "\n",
        "* By default, the quantifier (+) runs in the greedy mode, in which it tries to match the preceding element (\".) as much as possible."
      ]
    },
    {
      "cell_type": "code",
      "execution_count": null,
      "metadata": {
        "id": "9sHng5jCafHT"
      },
      "outputs": [],
      "source": [
        ""
      ]
    },
    {
      "cell_type": "markdown",
      "metadata": {
        "id": "UTi-G_ISajeH"
      },
      "source": [
        "### **How Python regex greedy mode works?**\n",
        "* First, the regex engine starts matching from the first character in the string s.\n",
        "\n",
        "* Next, because the first character is < which does not match the quote (\"), the regex engine continues to match the next characters until it reaches the first quote (\"):<br />\n",
        "![image.png](data:image/png;base64,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)\n",
        "\n",
        "* Then, the regex engine examines the pattern and matches the string with the next rule **.+**.\n",
        "\n",
        "* Because the **.+** rule matches a character one or more times, the regex engine matches all characters until it reaches the end of the string:\n",
        "![image.png](data:image/png;base64,iVBORw0KGgoAAAANSUhEUgAAAh0AAAA7CAYAAADfCjjlAAAgAElEQVR4nO2deZhT1dnAf+/NrDDIDKjggIgbimuxVosobq2iTIKi+LkVK5BAK9rla9VW/YoVFa1bpVZJAKtW28+1JINSrQUX1FpbW3FXUFRGFGRAYJiZJPf9/jg3QzKTzGR27Hd+z5NnIDn33HPPPefc97zbBYvFYrFYLBaLxWKxWCwWi8VisVgsFovFYrFYLBZLR3gzzLe6q27prootFovFYrF8tVg5j2GNDu+q8pkDF+8fItqV9Vuhw2KxWCwWSxNvRXgIOFOVOmB9VwofVuiwWCwWi8XSxMp5DGsU3kAoA0gXPvbbl8fleBIdrdsKHZZuYeYtSzXfst8ovocjin7Xnc2xWCwWS3tQtqSEjqavXOHTl44lvrm8zcPHPfynrPJFQRc1z2JpwSXnHpNXudsfgAsu+p0VgC0Wi2UHoEnT4aFQl9xW2qfyoGvY8+tjEKew1eOXXTc7529O1zXTYrFYLBbLV51Gh5sRyhTqgI8cOHfNsyfTt/y4NgWOtrBCh8VisVgsFsBoOQA/nrAxMsge+wdZ1FX1W/OKxWKxWCwWAPaezkdvRvAfEOSp7qjfajosFovFYrE00V0CB1ihw2KxWCwWSw9hhQ6LxWKxWCw9ghU6LBaLxWKx9AhW6LBYLBaLxdIjWKHDYrFYLBZLj2CFDovFYrFYLD2CFTosFovFYrH0CFbosFgsFovF0iNYocNisVgsFkuPYIUOi8VisVgsPYIVOiwWi8VisfQIVuiwWCwWi8XSI1ihw2KxWCwWS4/Qpa+2VxgJPAGsBaoE1ndl/VnOtxdwBnCHQF3a9w5wMtBH4JHubENH2NHb11X4Gjey+zu3UVj/OZsHHkHtoBMY+u5cnMRW1g+dQO1uJ/dYWzQafB6RMajeJ4HI5B47cUYbQpcjXI/qcglEjm76/sFJRZSWz0Ipk0DkEgBdNKUSx7cUZASq96HurYjvKYSBKD+TQHhO17Zt2jngLADq0OS3ZcKCV7uy/t4mn/7URVNHIb6ngD7gTpXA/D/kXX80WIXwPdxkUCYsrOl4O702eO0Cd7V3X2hvm9o8j+NchcpYRAeACJAAPgOeRJklgfBHXXGu7kCjwXsR+U7zudTpenWWQ3XNM8CBOHIayeSQnpwXucZRtjXiq8pXVtOhMAJ4Evhalp/PAx4H+vdoo/JnR2+fpScpLb8T5GdAeW83xdJ+NDbtTET+F9int9vSFqqzHI0Gf4U4L4GcjjDQEzjAbEKHABeCvq7R4Hd7sam9w+JP9gP2Bl2Fq6/05KlbHUf/QWvEV1boAHzk1tQU9mRDOsCO3j5LNyCB8Bzxh6XFzkztePhKoxSiSNsFdwAW10xD5GKEQtBlCCewrbZY/GGhMDkQYTrKx4j0Q7hRq6cd09tN7lFUjkZ1IPCi+MN1bZbv0nO3Mo7+g9aIDptXFEqBicBggZu7rkmW/xTUKUTFzJVEYTnJwn4kfX1wEnWoU9TLrdvBKZZ64tLg/a+GQllHQmtRyhHp2cXwP4GvSn/6pB6lEdVGhC9AVwL1qBbgOF+CtyNGfgrMoWrIIpFZbt71K2cAxSDPU1bgl+N/uyX1k4xbsAEI6+LQiyR1CSKVuASB57r2InsPYz5ZMwG4HPRX4p//cGYJORVIou4LvdG+HRVdNKWy9nOXgk0vk9hpFEjHZaB2Cx0Kg4FpwI+BCuCGHEWLFb4H/BBjCnkXuAsIC2xNq29noBpT7ykCbzU7X4vfFeYAl3lF9gDOVfgbMBm4FzjS+22BwgLgBoHL0+rsC5wFBIHDva9fAeYCjwo0pJVNnR8ggDHnXA4cDSSBxcB1wKsC2krXpdfVon3APK+uPtn6wTs+5TOzEpgEDPL+vxy4BPgOps9z9ndaXQ7wLeC/gbFACfAa8Ltcx7QXt6AvjSU7U1i/lsaSnUkUlZMsKMMX/5J4yS5N5Xwk0Vjol6hOBRmM4KBsQ/gHjlwr4+ctaWp3G3b3fOzyGg2ehcj1KMMBED5EuRF/ZSR9AU+zG9+HT+4gqXMRGYWZN7Wgd7Ft4yx22aWIzfGbEDkLqEC1EXgecWaIf9572+vL9OnIsN8DiHxHYyFjpx4XOVpjoZWo7oewklOG1hBbsx4YhLAy33ug0dAwRK9BZbyx3QMqG4BHSNT/XCbe+0WbdeS2/68GwmyrvU3Oeqgx45jFoSNJ6g0gRyCUoriga4EHSDTMaX7e9pZvLzJuwYZ29afj82ks9GvMnErd0xfxyWUyPvy3pnanfIXMWUbgFKzRaOgLNPlt85XvKfM3eSr4qlANIeyKimYdd+qsBq0B6QPue/ikhoR+gUhfcFeZMhSCHIzwKNU1azUWvIOywtvSBYhs6OMX7kKCoQig+kGu8jI+vEJjoWUoZyPs2qKeBycVUVpxZbP5ugnRZ1C5uLkvyHZ/Kn4G+joi12HWMjOPlIeyjUXVWQ6xmiDCpU1zFV2Fw0zyF7PMUUu/X8aW+A+prrkIZDDKNtCMJ6cumlIJegDCx7juMy0qcaS/xkIPgp4K0hd0K/B082vuyBrVyjiaifh+k3WNSPcLa8c8Tzt//uMSKC518G35F76tK3BL9iCx0+FoQfutPXmZVxRE4SCFu4GPgGuALcAM4PoshwwG7gF+izElvAoMA24BFivs1u6WZrIBWAHEgVqMwPAhZiH8EPjAK/cB8LJXPnUt+wF/BRYCo4DXgbcxwscDQDRH+/oAszFCw0jvmjZiHFmXY7Q+beG20r6Pgb9ghKjROY4f7f3+tKRdE8bOdydwK3n0t0KZV/bPwElem14BdveO+avXT+nHzFHQPD9NTo7x4kGoU0S8ZFdAiJfsjFvYl8aSQQCI28BFQ5cBXIWwG8IW0A2gPuBokvqoxoLBPPo2P0ROAO4zi5h+iREw90L0TqrX3K06K9ucOBRXnwb5OqpbzIJFBXA5pRV3sCUeQ2S6pwL9EqHQnMddZBayHBT4EqC1Xn14C+EGhE3m//oOyDbQ90RmuYisQtiAw9v5XKoumjoG9EWQyZ6wsBlkM6IDEEIUljyvT8wY3mod1dPPx3Ge8+z//UE2YuYcGNv3HErLI+n9ptXTz8fVpxE51txH3YCwxdxf+QmFxVF9dPLADpePBp/XWEjz+kSDz2+/mHz7U32ozgG9GNW+QC0iDiLH4urTWj39/Kai5l59aYY9CdM3WmvubVOZQvDNB70SM25qQRMYR/jfUl1za1NRf7gO5GNEN+JzPuaUoTXAetAaI5AA9ZsewdGZwCrQQSDXsCW+VmPBezQaGpbrXsqpd69D+MRr0wHpfdqirD98ngTCPvFHxmX0zBMzhlNSsRy4CpFKjAN/LUJfkACir2p1aFKOak8DHkE50JtHW4AKbyw+mXGPjUbibkTv9PqpAWETIsNRHgEOzdX2jPZGQ8M0FryHLfG1INeY/mIVjs6kflOmE7+vYBTKbiBvZnEG7gPOA8AkVBxUN6JSChIAfdnMtU6Qaxz5pLHVNQLQ6tAkRF8FmQxUoGzKmOcFxa9lbV97xuWEhTUrlm/GLa4EXJxtqyj67CGK1i3Cafi4XZfaqtChUKAmyuIZzEP+u8A/MTv+fQXmCdsvPo09gAOB04F9BA4DhgN/BI4FfqFQ3K6WpiFwI/BfQA1mp3+swNkCqwTOxggHALMFjvTKo8Zxcw5wBEYjMlzgMIFDvPYtwjyEr1MjZKRzMHCmd94hYrQVw71zlQDTtQ0nH4ENudonZqA9jhGkTmx+fk9QGO9dczWZnIrRWkykjf5WEGAmRjOyHBghMFLgGxih438wwtgc7QJH1/W7n8bKw25mW78RAKzd60I+OGQ28WKj6ei34Z/sWbIeVD8D59viD/cXf2QgiYZKlGe9Xe8PWlsg28kQRFbh4ygJRCqory0H/TVIEuRcqtdc3OIIkUNQPs04RnURiKBMQeVwlB/jr+wv/nB/VIMo21D2xvGNz9UQGR9eIYHIvqCeilcfFn9koPgj4wEkELlcAuFy8c9fBt6DwB8ZLqeG29R06KOTB+L47kCkEtX3cWS06dtwf3C+bfqb/Ukkf5WzjidmDMd1f+nt6h4jXj9Y/OEB4g8PIF4/GPTPntbjFKKfHASgsVAfXJ0J9AG9n/qN/cw1hfuDMxV0K8qRFBZf0JHynSHv/hQpQtnN7MAbKsUfHoCyN6ovgfTFdW/QxaGDTR2R8ag7A5V60FW4iYMkENlXxodXpNW4E2ajcnvq+tLGtwNM0uppI5tO7w+fnmqXyCxXApHR4o8cnvIxkLMeapSqyELxh/fGcU4FfcF7AE5GWKnR0DO6ePrY7J0g95kdunydwuK3NBacq9XTvp5D2M5AdZZD3L0T4XDQdaATJRDu19Q/8DRQgcuNujg4ouW5ORLz/NhTApEK/JX9QWcDCVQPpbDkvKay1WsuBjnXzEv9NfW15eIPDwA5AOQdRA5pta2Lp4/VaOgZo8WSyaZ/9AUc51Txh/eWqsjC5to5VMdh1t2lWdpeiupAlNuory2XQKQCH0eh+j4ig3B8d3Rmjco5jqrmP9raGqGLgyNwuRFkAPB2ao0Sf7g/oseCrkakEseJZNkAtWtcblwXJ75zFQ27noPbZ18QH9L4GYXrn6Bo7R/wbXkDNNnmtWYdaAr9FaYDq4AlwDcxoZ1fA44SiKWbIHJwhcCfxOzuEROKdSlmF+6n2U66hxiNeXA/C1zmtQmvfTXAxV77ziB7VMzNZF5TA8aE8S+MdNhCFdlO/oHROBxHSw/mvTD34SXMfWnOL8jd36cDB3jlhmPMUKuBGQJN6n/PpHIz8BCmn0an/Xa5mCdMPp8mU1Zb+OJfUiAuwAdU7dY02WXivV8g7i9QvgDpS3FJ10QGKJ+DTEmpyOWshxqpGvJjlChQgMo5Ggs1Ezh1K+hPMo4R/T1QZyan3i+B8K1NqsgifQzhfUSKMAJtz1NYPBHVkahuRJwZ6SYB8c97GuFGVDej7KZLpg7IWkc8MRqkL6o1uDorXUVr/q1zUDahUoZwIABuohzRCszceCJ9YRf/vLtBnjLaBjmoQ+UBCUSOFn9Y8vp0PJzyeUQuTF2zBMIf4eMClA8RdiPJ2e2qTXUpVUN+nLq+tPG9CeiPev3XTmT8vCXij4zBpyNB/wiaQBiL6y7TWGilVgen6IOTmhyopGre71FmeYLHLiAzUecVYmu2aSyUEkKOySqELK45BXSMt9v+ifgjjzXVGwh/hJuYDLyH6B4kJZuQuBbV6SlThJkvcj3ovxHxgR4KniCqcg5QgBLN6Df/vPdw3QsxaRkyu/jBSUVaHZyisdBKXHcZwlizc9c/4tOR4o+MSTfVZhxr5vxokI04ksuf438lEP5RU1vGh/+GODNQ3QjsT0GxP8dx3UdSLkB0j+brGoBUzX8OnKlGK8MIHF/LMduRcVlQRrzieBp2+w6JnQ4HXymS3EzBpuUUr72Xgk0vUFyaW4bN9cvPMA/TXTBaghECZwr8O/VQa4N/YVT3zfkEIw1Xkqd6rKvwdvgnYswPj0qWQSvGxPEw0A/z4E8nDjyTxW9jG+ZhXYCJqOkM6zF+HZUYn5F0jva+XyzGtJXOW0B1lrZ9ghEad2W778oBGOn2SYzfRwZevpMlmH7qnMowD9QpwlUAOZTqmlvT1f3in79MAuGdJRDeM30ydQrhBfHPezHjK5nlIvooaD2ie+G6zQWcNaj794xvXF3paTO2gWbYf2Xcgg2ofmkusLfCouU4RIoQeT1dmGv61R+5RQKRnSQQOdpzIGxZQ2D+HyQQHiSByBCZMP+1FgVc3YTR0G2nWOpBGkBKQC7TWOi0jIeeP3y6tzue0qHyPYFqI6K/bx69IOMj7yK84Gl32iHMqAJPtnD4dNmAaCOKdDY6QcZH3hV/5BziDUNRvcmz5++FK7+hpP8ZGWUDkZsolH1Bb0Q9s7QRkPf3hJBnidV8qNHgWZnt1WO8qJb3KdTm2lY8k8TzOftHebf5OBJ/uA6Vrd7vpg9cdx9E9/Lm46PN+82r46UW9Zf0PwNXfgPshcoGVG8i3jBU/JFzZHykxVqXgSMHoDIc4S1O3e2fWdq+CdGFLb43c+ttoBihRyN9jGCoJ4BItnUNUhsMedkIdXJy8xrozLiUQpL9DqNh8PnEK44z/h1uHN+W1xlxWN+ch7XlSLoN87BtbKNcc97B+DtkttFcZcpBskOSfScoxTy0wQhFuUgNzuEK6SEWNUA2Z7Z6jNZgaGcb6PXPUmAzxsRyr8AWNULQSV7bWjo4me9bJGLz6nvf++/e3t/UA9UPHJrD83Un7+9eahKYdZt3/+aKUcTfe5LK4k2lwCUkkhdrNLQB0eWIhKmrfaqFGrQzqGZP7uO6byK+rUAZogdinGq9Y1jXmYRPvYLqHoiA6gftim5orcpFUypB9sTnOwHVMagcjugAoxI2yLgFGzQaegD0akQOBh6jpLxRo8H3gEco9N0tp9z1YUfL9wgiWyH576y/KSsQQHSwLppSmde4UKkHd03LH9z14KvFmE67hoqyBjY3NiC4tBLFK+PCn2Kc8S/TBycV0adiDKoTAT8quyPsDnK/xkIjxR++2hwkRjutuh9x5z2NZXG1UinK3T+6OntrdHVGWx1GGA0bW9Hkm9kP0VcROS33BaqLagMVZW1p5A2uOxYoR1mefb7oOnxNa+n208gs1xur30R7WHsf/Wgwjs9zGqWVTZm+C3ISeFrNVI905biUQk/WFFrufTPJJXRcj3FyvML7XKpwP3AbsCIPbUeyzTPvuKzz/valizO25smbGCn+mxiTymsY7cQJGB+NbF47WzF9ng8pp9LB3icvmkUMtcUNLR0jspMsKufXn5zADXs9FkaYBFLhJSwKoAQorfhSo8Hr8A/5Vdc8PKXrBJj/B3he8XOBE41vB97MFhASqLSY5xIIz9Fo8HVMVNdIbxd9IHAgcfdKjYb+jsh3UpE97S2f6enf1gV0IGOl4qLE23VML+PZ9q9gS/wMxOnr7WJX4ei11G1qNeuxJ9Qv9T4X6+LQkbjMAw5FNaSLQ4/K+PAKVHfxDKhFQHaTXFdkKzG76zZqyjKP6zc9Qp/yUlSuAPZEnCvYEv+hxoKP4HBt69oOORm0DkeyhwcLLnG3S4T3HkdljelNLaZBS7rmJgEax7flDQq2vgFJL9jRKSTZZz/e/eeynIdlfah6zqHzvHDOEzGCx3e9z3MK12IiKBLZjseYGdq6sh11UqdiOb/AaHiaO5R2KwIbFf4EfBujonwNcw/6AYsku9Ypn/5O8aX3d7bAVZ1tb1dQ55YggfB0YLoumnYIjpyHShXCCGAnRK4mtuYzTDhvJ9HWE4QIyo47NnsUfWLGcBLuEyD7e3kj3gZ9HZV/4GMpblLB9zhZ5ogEItVAtQlVTARA/wvkGIQK4EhU79NY6IQm58h2lu9WBMd49rdayAUnX0G/29DF08eS1GtwOQqznidQnsXnXCXj5z2bUbY69HNcrkRYjeseJxPmf5atThkf/pvGpv0Qdf4EUkHSPQhYYTRAgPKsBMLHdttFCXGMaJvHfUg7zAhPC4GFTf0ichQwGZdzNRp6AZ+07JfHQ3uT1P0QPiWZyK4JVRwKnTacbaXXx0NWRId4j4fNOAUbcZODOlVfso6Cza/g27YSXLNUqq8fybJDSPbdH8RHw7a/5jy81Z28J1T8WY39/0BMTofzMDb/jz3h449ZIlj2xmgKMnI9qDlfykGzdRvbdvqxXd3fGbZhzCB4bWhhpvD8PlIqsrUCiV5S1zyPMeecpCZS5TiMg2muvP/7YSJnmve3sN2c8ob3N9Xv7TKdeM6heTuIzsxfK5J5HmOvfQ24TGPT90XdxxHZB6PpaVvo8PkqcbUopwyWUhE3x3EOR7UfsAk377G54yKyzvu7p+osp7mWSGPTjkOdh4HN+DibZJZNXCL5357A8RnqniGBBcsz65h6hJejIXczTC6IB4AHvDDI2SiXguyDm9yPZmM6n/Jd+a6N7GgpOPtiwtmbXZCXY0f5PNdDu7sx5pDy81G5AtfdExExjqE8gMpVOd+ZoroOs0HZHeGbmGi97Li6CSFBhonZU9O3x7TUEYQ3jIOyDkScQ8l+Hw5utQojWBzblL8CzkAk5WD7AaLXUrfx93LWQ40k3CPA2RX04ZzXJDKQpFsJXsixh3FAVeOkL9rC/JKVttaofAkMW0t1zefAiKZx2QyT62TNfuZU8oX4w3W6aGqHTle+SyGF66txGj/1FGmCFg0isdNhuMW7511PXnk6BFTgdYELMfkfrsLYe+7COJ0251BMCGZz9sA8PFZjHqJghIEPMf4W2aI/DqAL3mngOVk+i9nFTtTspoWhmMiVOCactLd4H1iGEY6OxfTnU8CnOcofSPZom6HAOIwAk7JRv4oRPI4D9m9+gBcmfY3CKoXLtZtT5Ve+ewc37f0QGg3e1fw3T52eubAXyjrQWkRLcJw9W1SoOhZpxRapHNU8nE91loPKRKM2lncIDH29o9ezA7EU1SSqB1H96fEtf5ZTTO4O3UpDffbFUhnl/et9mbAgy3xwzgDNCBPXWOg0jQbXaDT0kS6alhG5IzLLRXVFumq8veV7BilBZWLzCA5dHDoY1SNAFSero3zPkO4wiXwGehVlhYPFH7mg1Ze0FfieAtaA9EWcy3RJKHe+JMeZ6N3bOnw+E+Gm+hcv6mUPfAVVzQ/RWKiPRkPPaDRUp9HQE+kOwe1i/NB3UH3dC12e1PI+BEegHJVPVRIIfyT+yAWUFQ4Gvcr0V3MHWy8/jLSWeVXLzXhvcYYTUUYYp3L9C9D5NSpPzPzgWVBFOUpj01vmdzJz/xugimT1B8wLXTSl8uAx/XAaagAHt3QvGgdNonGXCe0SOKADDxQxGoDZmBcDnc92H4h0CoFbFEZ7u23UCBU3Yx6QC9keqlmHCQEtBGYoJvOal5BsNCZZVWsqthHkdngZqZni5IuY6JCxwA1qMnqS1r65mBwV9wOZ0QrdQ/P2AaQiSGIYIe1nGCfYbNEpKbL19yBM5NEoTH+nHLJWY66vErhT4RtpxxQA5wAXYTQny/KMVuowDX12p8hJgHC+xoLBjCRTsekXInwNSCD8A4BThtYgshZEcPVCXRz8GuC9yCr0I9N2yb2FEIaTpCmJkj44qYjqmnkI3wLdiurcrnK87AD75pMvIS/i9fcj8joi5ah7ly4ONe2ENBY8D5hmsn7yYCvZPr3QbNlfY9ObwgF16ffLNBa8AZWLW/R1gfMvTCKn3RFnbvqDzeQxcGYglCJ8QjL+UbvL9xRCgOo1t6QenBqbvi8uv/MSYr1NMpFF6ya74EinHcrzaFsc0RWgE6mqHCL+yOy2spECyCl3fYjIPRgN9mji+m+NBv8nlb/BhJyGjtdYcDHKpZ6ZKSrj55kNojhPeQ6Lxaher7HQRanxqku/XwY6F+EohEJEl3TUAdybf/NBtyJyPNU185ruQzQ0jCT3ILSa1K5Fncf/dov4I7OpqhwCOhHRFQhxXTJ1ACJHIfIFos+3UoMAF2k09KOma66edgy4cxHpB/oi4hjNUWfXqNbHUeYa4dN7UFmNsCvowox5btq3AJFyco7Z/GnY5pIs+xoNu00mPuBbHcpGCp1wlBSjobg/x89PYuLuXwDeVlN2JCaJ1u+B21L+IF6Exb0YDcPZwMlq0nwPBPbEZDb9kJZ5PdZjdvCjgZfURKRcJEYbsBKjrfiBV98jwLUCm9SYCCoxuSrO8qJpCjC7/kKv7T/vzoiNVtqX7iPzN0zbRmIyqLaWhXI1RiOQrb//SGZ/J9QIcsOAqRjV5dtqfD2GYTRA9Zg8LV0TptoKG3cdy5YPXmZYyYa+QJhYza81FtyGShFoGUbQepyywgXQ5C0+F2EUIvvg8neNhTYTqylBKAXeQrU/SEX2M+rLiBwOrNRYaDNKCUaoSwC34h/ycPbjuhFH3kZVEY6kuqZWo8FXEPF3xn9BJt77hS6aehHiPIjIPiR5QaPBLxFxQPuZQvI4ZQW35KxE3XngnITIIHAXaSy0GUiyJdEPpABhFWgRwhBUhoB5sGk0NBflWoSxNPKJd17FmEoLQDcgcq0n7HzRzvI9wZeofozIDyipCGksVO/1WQGqnyHOxTIhsl0N7/O9R1LrgIGob5lGQ5+hyfPppjXEe19Ix8ZpVeU1xNaUAZcgsgvC1UjB1RoLmd9TTsLggsYoK2h6jbr4w3X6xIypJNwYJm/Kb4jVzNFYsJHN8TJPM+Ei3EPVkLmdusZA5EGNhUYCVwLTKCmfrLHQVsyY8JkQ1vaHo3sCzWPexzMzMgz0ZaqGvpPzQNUaRBIItxCr+aVGgwlc2ckzL77jvfKgLnWODq1ROcaRTFiwPOcaMT78rlaHLkX1LpD9M+a5aj8QQbUGdYOdMYfJhIU1S848jeO+fkRHq2iiu1Tn6zEPtNSreEdhfArOBabJdmdGAMQ8UE8EbscIK4dj0nyfC/yI7OGg6zDJr/6BEU7GsN1kshz4KcYZ9GDv/KXece9gTDwzMaaGgzACx/MYoScguc0YXUXO9qWRSosOLdOeN2ctRojK1t/flWahvrI9hf04jJA1HJOlFSAMHCgmXLfbXVqSReXcseZYUL0JWGMcx2QAQgmwEpXvUVUZyHgxVSDyICJ+lFdQdTGplOtRwiiTkBZ5TLYjsgj4Iaqfg5Z7jmorUD1d/JGrekXL0bfgdpBFXsTETgh74+v0qwIwJhEZDXovJoV0OUoZKp+gchXbaie2tkOWCQuW45MJqD7T1Daz6K8GLmNb7UiQV7xd20mpHZgEwrfik4mYOVXn7bQqULaCRlEZJVXhh5rO087y3Y4SR3QmcA/ijS+0ATQKcoT45z2dXtxoAnQOJh14KWgljnNA1rp7GS/D6U/xcTDmtRZrSN/sGF+Kv+KT8eKPTGg+PuSUuz6krGA06l6Lag3QB5MNE1RfA50g/vCUrphH4g9fjerpGCdWB5Oqe3ilZicAAAGNSURBVDMwB9GbOlu/OYlzFNAPR5a12mZhC46cgbLECNpSjrAJJUyifkz6O5agY2tUq+OolTVCqsIPoTIKk7W01ghj2s8kDONOEg2HZDeP9g5dFDtj6Wo8U8ctGA3QKZKeN2J7mdQL4NYCVZJFOOstZt6yVC85N79cObc/8By/+fHxdixaLBbLDsqSM0/T435+ZV5ll103m3EP/ynrmt6tToKWTrEH5r03y6BlUhqLxWKxWL5qWKFjB8KLHHHUhBvPwJiNHuhm/xKLxWKxWHqE3si4acnNGIxmI8W9ZE97brFYLBbLVw6r6dix+BTjAFoPzAN+muXlbhaLxWKxfCWxmo4dCDFJuw5qs+D28m9B++LVLRaLxWLpLaymw2KxWCwWS49ghQ6LxWKxWCw9ghU6LBaLxWKx9AhW6LBYLBaLxdIjWKHDYrFYLBZLj2CFDovFYrFYLD2CFTosFovFYrH0CFbosFgsFovF0iPY5GCWbuP2B57r7SZYLBaLpYtYdt3s3m6CxWKxWCwWS378Hy6fCTLMgNITAAAAAElFTkSuQmCC)\n",
        "\n",
        "* After that, the regex engine examines the last rule in the pattern, which is a quote (“). However, it already reaches the end of the string. There’s no more character to match. It is too greedy to go too far.\n",
        "\n",
        "* Finally, the regex engine goes back from the end of the string to find the quote (“). This step is called **backtracking**.\n",
        "![image.png](data:image/png;base64,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)\n",
        "\n",
        "* As a result, the match is the following substring which is not what we expected:<br />\n",
        "![image.png](data:image/png;base64,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)\n",
        "\n",
        "\n",
        "\n",
        "* To fix this issue, you need to instruct the quantifier (+) to use the non-greedy (or lazy) mode instead of the greedy mode.\n",
        "\n",
        "* To do that, you add a question mark (?) after the quantifier like this:\n",
        "  * **\".+?\"**\n",
        "\n",
        "* The following program returns the expected result:"
      ]
    },
    {
      "cell_type": "code",
      "execution_count": null,
      "metadata": {
        "colab": {
          "base_uri": "https://localhost:8080/"
        },
        "id": "sarXiAICbQMu",
        "outputId": "ac7a3198-49b5-4db3-c62c-fe55eb81c97a"
      },
      "outputs": [
        {
          "name": "stdout",
          "output_type": "stream",
          "text": [
            "\"submit\"\n",
            "\"btn\"\n"
          ]
        }
      ],
      "source": [
        "import re\n",
        "\n",
        "s = '<button type=\"submit\" class=\"btn\">Send</button>'\n",
        "\n",
        "pattern = '\".+?\"'\n",
        "matches = re.finditer(pattern, s)\n",
        "\n",
        "for match in matches:\n",
        "    print(match.group())"
      ]
    },
    {
      "cell_type": "markdown",
      "metadata": {
        "id": "oplRcJKfbwhF"
      },
      "source": [
        "## **Python Regex Non-Greedy**\n",
        "\n",
        "### **Introduction to the regex non-greedy (or lazy) quantifiers**\n",
        "* Quantifiers allow you to match their preceding elements a number of times. \n",
        "* Quantifiers work in one of two modes: greedy and non-greedy (lazy).\n",
        "\n",
        "* When quantifiers work in the greedy mode, they are called greedy quantifiers. Similarly, when quantifiers work in the non-greedy mode, they’re called non-greedy quantifiers or lazy quantifiers.\n",
        "\n",
        "* By default, quantifiers work in the greedy mode. It means the greedy quantifiers will match their preceding elements as much as possible to return to the biggest match possible.\n",
        "\n",
        "* On the other hand, the non-greedy quantifiers will match as little as possible to return the smallest match possible. non-greedy quantifiers are the opposite of greedy ones.\n",
        "\n",
        "* To turn greedy quantifiers into non-greedy quantifiers, you add an extra question mark (?) to the quantifiers. The following table shows the greedy and their corresponding non-greedy quantifiers:"
      ]
    },
    {
      "cell_type": "markdown",
      "metadata": {
        "id": "x5Oo4MkAbRo0"
      },
      "source": [
        "![image.png](data:image/png;base64,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)\n",
        "\n",
        "### **Python regex non-greedy quantifiers example**\n",
        "* The following program uses the non-greedy quantifier **(+?)** to match the text within the quotes **(\"\")** of a button element:"
      ]
    },
    {
      "cell_type": "code",
      "execution_count": null,
      "metadata": {
        "id": "KfGpXBochhXV",
        "outputId": "122e1113-1000-46b9-a660-31102789ff79"
      },
      "outputs": [
        {
          "name": "stdout",
          "output_type": "stream",
          "text": [
            "\"submit\"\n",
            "\"btn\"\n"
          ]
        }
      ],
      "source": [
        "import re\n",
        "\n",
        "s = '<button type=\"submit\" class=\"btn\">Send</button>'\n",
        "\n",
        "pattern = '\".+?\"'\n",
        "matches = re.finditer(pattern, s)\n",
        "\n",
        "for match in matches:\n",
        "    print(match.group())\n"
      ]
    },
    {
      "cell_type": "markdown",
      "metadata": {
        "id": "PAquQu5rhhXV"
      },
      "source": [
        "## **Sets and Ranges**\n",
        "* Here you’ll learn how to use the sets and ranges to create patterns that match a set of characters.\n",
        "\n",
        "* Several characters or character sets inside square brackets [] mean matching for any character or character set among them.\n",
        "\n",
        "### **Sets**\n",
        "* For example, [abc] means any of three characters. 'a', 'b', or 'c'. The [abc] is called a set. \n",
        "* And you can use the set with regular characters to construct a search pattern.\n",
        "\n",
        "* For example, the following program uses the pattern licen[cs]e that matches both license and licence:"
      ]
    },
    {
      "cell_type": "code",
      "execution_count": null,
      "metadata": {
        "id": "JeH9KUN8hhXW",
        "outputId": "23cc1ed7-1bd3-49de-9b40-2d24cce9132f"
      },
      "outputs": [
        {
          "name": "stdout",
          "output_type": "stream",
          "text": [
            "licence\n",
            "license\n"
          ]
        }
      ],
      "source": [
        "import re\n",
        "\n",
        "s = 'A licence or license'\n",
        "\n",
        "pattern = 'licen[cs]e'\n",
        "matches = re.finditer(pattern, s)\n",
        "\n",
        "for match in matches:\n",
        "    print(match.group())"
      ]
    },
    {
      "cell_type": "markdown",
      "metadata": {
        "id": "OPwjAf0fhhXW"
      },
      "source": [
        "* The pattern licen[cs]e searches for:\n",
        "\n",
        "    * licen\n",
        "    * then one of the letters [cs]\n",
        "    * then e.\n",
        "* Therefore, it matches license and licence.\n",
        "\n",
        "### **Ranges**\n",
        "* When a set consists of many characters in e.g., from a to z or 1 to 9, it’ll tedious to list them in a set. Instead, you can use character ranges in square brackets. For example, [a-z] is a character in the range from a to z and [0-9] is a digit from 0 to 9.\n",
        "\n",
        "* Also, you can use multiple ranges within the same square brackets. For example, [a-z0-9] has two ranges that match for a character that is either from a to z or a digit from 0 to 9.\n",
        "\n",
        "* Similarly, you can use one or more character sets inside the square brackets like [\\d\\s] means a digit or a space character.\n",
        "\n",
        "* Likewise, you can mix the character with character sets. For example, [\\d_] matches for a digit or an underscore.\n",
        "\n",
        "### **Excluding sets & ranges**\n",
        "* To negate a set or a range, you use the caret character (^) at the beginning of the set and range. For example, the range [^0-9] matches any character except a digit. It is the same as the character set \\D.\n",
        "\n",
        "* Notice that regex also uses the caret (^) as an anchor that matches at the beginning of a string. However, if you use the caret (^) inside the square brackets, the regex will treat it as a negation operator, not an anchor.\n",
        "\n",
        "* The following example uses the caret (^) to negate the set [aeoiu] to match the consonants in the string 'Python':"
      ]
    },
    {
      "cell_type": "code",
      "execution_count": null,
      "metadata": {
        "id": "c0vD3ytThhXW",
        "outputId": "09a74ac8-b4f1-4ef4-decd-5a5d30aaaacd"
      },
      "outputs": [
        {
          "name": "stdout",
          "output_type": "stream",
          "text": [
            "P\n",
            "y\n",
            "t\n",
            "h\n",
            "n\n"
          ]
        }
      ],
      "source": [
        "import re\n",
        "\n",
        "s = 'Python'\n",
        "\n",
        "pattern = '[^aeoiu]'\n",
        "matches = re.finditer(pattern, s)\n",
        "\n",
        "for match in matches:\n",
        "    print(match.group())\n"
      ]
    },
    {
      "cell_type": "markdown",
      "metadata": {
        "id": "9WlueDWchhXW"
      },
      "source": [
        "## **Grouping**\n",
        "* This section shows you how to use the grouping to extract portions of information, reference the preceding group, and apply alternation.\n",
        "### **Introduction to the Python regex capturing groups**\n",
        "* Suppose you have the following path that shows the news with the id 100 on a website:\n",
        "![image.png](data:image/png;base64,iVBORw0KGgoAAAANSUhEUgAAAF0AAAAlCAYAAAAgAOVvAAAEgklEQVRoge2aQUhbZwDHfx27NVFqJCAbzRYje4cFjLKwimIltGHUrKMgRDplh+Alh4iFSA+ePBSFlXrwIjk4q1QIyCQWacFlQ5kloi24g2LUPmEEQnRo0vN2eHlN8pLYZGZ9NHu/S+L3/b/3fd//fe/7f09ySRCEv9F4r3yk9gD+j2imq4BmugpopquAZroKaKargGa6Cmimq4BmugpUtenDE+OszvXiVnsgCqrYdAdWM4jhJ8yrPRQFH6s9gP8K90gbJkSWAoVqjdy/00eLDt7sPOaHSLzgNfpv3MPVkPm7mLZUnUyVmm7ha0EPB78zpqhpt3vwCbC1/oo315qLtJdvyhGhmSAzAE09BK/1MU22oaXqcinZdPfICF4hyuTdON0hJ6Z0eSoyxTejUYXawWyWBkSWXJNpAyw8mhugNfGMDt9KfkddvSwP2The9PN9IKtvuz6jOSjSVsbjpLUmyWZAoWnqwffpIRMzK6wZHEwXa9/USYvulK2naSMB9oJMXPHgEzrpj8gGl6hTUN6eXmPDG2oj8dBPh8tPx6KIzj7ArCdL09XLcsiJITIlaVx+lg5MdIe8DAMQJZYA6o3nBFySxL70TTIcNuU+XX4mE225fSoYtprgLMqLsKJiL0jPwgpr75hm/2dXIXXI6nF2qZVvhVrgKl82ladTUnaQioujDMqTCewgAoYGy9v64e9s6M5e8lPW6h/zPUPExPURSScmkllXdDAbGmc5XUdjHTpOiKX7MNXr8wycHx19+xTkc9EANfKJHkjGMzfH4GC6/yasP+cQMF4xlqHLp0zTRbaLThbkCad2NhQTFkmcga5e2nDmYydQUydtP11GDIBO+Ao34G6oy22ZSEpPWIlHPzlAzx9n6bTbPQRv1fHLzI/49y6ug0oHqWygfYDVUIH6RPpz/4QUFhq6wN1ugchLRLt0E0SAsxPpE2lVz3u8rN624Q3Z8MI5e7oUoKnIk7wA/Tf037iHS/9KyoAK6GQqa3o4zvEQUDBcleipbwRTPez+vAHCAFYPUK+HRDz3SQlM0pFeucMT43SbnaxOkG+8HKBr7+r7POL8mYSWhpu4Ys/pWdjOVBmMGIH4X9KppFSdkgq/HOVuI0UJx5Gyx4HVfEIsHOXFThKT1QFAKiEWbTrm87N0QMEgLhqgZTLz+gg4ZWtrO6e8vfFzLnPEH3vl6ZRU2PQog2ERzM5MMBZEujmm205MBzuMAfNrUVJmJ91mOI7JK9XCozn51CMj5Ube09DVy/VKvYHu/cZWqpaWTgftcllTDz6hlsP17ONhiToFlX85CkzSsd/L8pByX0+y+VA++aSPjTUgbqe3iPAGux4brTWZ4yJEGbxrYjY0zmrWlVKRKToU25e73YIOkV/PC1CDg+lbzVzOLhP6CAoAp2w9DfDgGCDOg4XH3L/Th6+/GV9aeriuDMlSdblcqo6fYEgvXF/slJIl6lMd//BKB+juhQL0/VElK/3DojpW+geGZroKaKargGa6Cmimq4BmugpopquAZroKaKargGa6Cmimq8A/qPbhgm1fBuoAAAAASUVORK5CYII=)\n",
        "* The following regular expression matches the above path:\n",
        "![image.png](data:image/png;base64,iVBORw0KGgoAAAANSUhEUgAAAFkAAAA0CAYAAADhYZQrAAADz0lEQVR4nO2aP2gabRzHP315x+hgpdDpwAp1cQihUkoKEQcpKO2ovIV3CS5ZXjLEyckpTsnQpTgm6JhiIXSQCygvJSFkcDFwDdwkFOOgt7/vcGrNeeef8/L4wvt8IMOd5u55Pve73/e5wyeRSOQfJI/Kb+sewP8BKVkAUrIApGQBSMkCkJIFICULQEoWgJQsAClZAFKyAKRkAUjJApCSBSAlC0BKFoB7ybt7NGoFjuIejsYl+eMSjdMsmfGeMEenJRrHCRdHW+V/7XEvudxGx8fL7bBng3FHgmgIdLVCdbxP43t7AKEI+TWObMQK7aLO18sBG5FXExUknkzhDQo6rfLD/dXi3+goRHfXM65JVurJ1aaG4d8ktbaJhHkd8cFdm8Opz+q07kCJZ9daBLBq8KkVLu5Aidr1rzm9LZ7lvFbiZOoCJTiplTgvLNCGdpNs+Qdcn9VtPz48u8Hwh3k9JzfyxyUatdFfji2/83czhQKN2t5SbWjl1cVhS4fQG5sA1Oh0geCzGZU0oPvD/bnzUQX6Gt9Vhy+oV9z2fWx9cAoxsxBSwRs+pQ94mz7gbfoz1333Y7Jj9SXcjADUu4OJLUuFvgiwQY+Ok6C52AWelTkBOLoTyrOOsToerJOHARhLTk2k2umBP4ACEH/GUxgHZeZ5YKWzOgWelVEA7ti0n7l3gkf87sVBqk2NP2ObZpJPTvpHD4Mwz+OQ2Q7D5Q16zJSuA/R76Jh9bi/me3jQWI5GbbSh8zX9aSLczMAzLis2gWelTusuSSryigyai4pNcFJLmoUyxkeqViI13DIuP/OuqDkewRPJqBUuPmySiiYAawj5CL4AJQi3Z1cQyZkXI+iD7k9z0sXixOTNST2dNfDRbd50ntgkh2c37OybAVhdumrrfEz/mpNZED3LRZ+NZ4/VtgGo/uQeMPtnj45q9sjRasTo6q7OtfRt7hCAenfwq52N2E3OXF24wbt3F+VvXPetAajT7YPyPokyXMtWmxpGKEkqBPedxSrxAfEsO3MDz4rGX6o+FYDVpoYx2a/jWc7fBzD+c6uLMWaVPgzA4TIO0FvDW0694rYPbpdvme0wGwsE3hTl9nQAqhXefdHZiOXMNfJ+gIt0kYvu8uOaxRNPf9UZz3K+v8n9lwM+LithIcIcneZ42Z4dNE7kj4dr4j8ed8lmxdtXnaMnwMd6lB0G3u2CgWfFfAIU/xrA20qW2CJf2gtAShaAlCwAKVkAUrIApGQBSMkCkJIFICULQEoWgJQsAClZAFKyAKRkAUjJApCSBSAlC0BKFoCULIB/AbnLWdu/sYMoAAAAAElFTkSuQmCC)\n",
        "* Note that the above regular expression also matches any path that starts with one or more word characters, e.g., posts, todos, etc. not just news.\n",
        "* In this pattern:\n",
        "\n",
        "    * **\\w+** is a word character set with a quantifier **(+)** that matches one or more word characters.\n",
        "    * **/** mathes the forward slash / character.\n",
        "    * **\\d+** is digit character set with a quantfifer (+) that matches one or more digits.\n",
        "* The following program uses the \\w+/\\d+ pattern to match the string ‘news/100':\n",
        "\n"
      ]
    },
    {
      "cell_type": "code",
      "execution_count": null,
      "metadata": {
        "id": "PA4neB3qhhXX",
        "outputId": "fbd34b23-1e59-42c7-f10f-df380a2eab7b"
      },
      "outputs": [
        {
          "name": "stdout",
          "output_type": "stream",
          "text": [
            "<re.Match object; span=(0, 8), match='news/100'>\n"
          ]
        }
      ],
      "source": [
        "import re\n",
        "\n",
        "s = 'news/100'\n",
        "pattern = '\\w+/\\d+'\n",
        "\n",
        "matches = re.finditer(pattern,s)\n",
        "for match in matches:\n",
        "    print(match)"
      ]
    },
    {
      "cell_type": "markdown",
      "metadata": {
        "id": "sWGseNbkhhXX"
      },
      "source": [
        "* It shows one match as expected.\n",
        "\n",
        "* To get the id from the path, you use a capturing group. To define a capturing group for a pattern, you place the rule in parentheses:\n",
        "![image.png](data:image/png;base64,iVBORw0KGgoAAAANSUhEUgAAAEoAAAAmCAYAAABj5g1QAAADAklEQVRoge2ZP0hqURzHPz3emA4VQdMFE3J5Q8iLiBykQR4orjdqFBcHo8GmOznpIDm0RGOSayQ8HMTAeDx6SENLQQl3CiIbtP29wSL7Y/7Orch457Md7/ndc/ie8/ue37kO+Xy+v2j68uWjJ/BZ0EIJ0UIJ0UIJ0UIJ0UIJ0UIJ0UIJ+eoszMt6Ic7UySY/0mdvO6Mu1vJZwp77tr2bYnnrFS+MJahFoRTZIKMY6mhHreXj+N02++8oEkAmmSIQSRHIHXHzFi/cKlNvGYQLi5iKocpCmZZF2NOmnlNflY/njJWlMrZ7mkR+QSlSUagFwjMubg53WKmqRQ4OFZZ3bfCE2I7Jo5Q8yrTmMLAp9Ug507JIzFxTipSZKMTxu28ftI7YWNqheNtcy2cJjz38jeAiP1enaTr1oViCWtS4bzfKBJKV5/tulakH4/iDi5hbXXN4AYUd5WXW54LGSZ+UMwjvdYw+EEkRiDjb6iqYlkUtOkI9l7of0xOi1nPMM36ftMHtZTYoG0MuVPA7U26wj3usUhf2bqrrNKxw3ADGxpUNVMZzdnCXXnOs9xCieHDGDS7GJmWjyIWaHGGYNlfn/To+7ZNJpggsyba4MjEfBm1ODx7Zwfn1y0JUL2kCoxNe0TAO66jBwZwYAVz4V7PUVp8+b77ROJ9eqOLFNQmgnku/60ksT71+W/mVmPNehp0EOp1XcJxRoHkhK5rlQlX/cNoC49vrTy/76uGJ0ykrXM5eVt1hvwFG1Opp3M/RWRiJ53ZQSL3Okeqf8bFG5VVVeTGdxshnCd/5SuuIjcgl4b1QV68FtvdCdFVGDEez1KIA9oP7WiaZwrYsEo996lH9ds9dqVMWp+uQ2r8wt5N/qZj7DMQSt3WX3NcUrzAVSodt5fJ/sFhgO2pA45eS+StfiovpNCUHnjAYeFkvhDBaR2woZoSjzyyZ5Cb1loupeVmxNjDEQvjdNiUHxa+iR/2/6E/BQrRQQrRQQrRQQrRQQrRQQrRQQrRQQrRQQrRQQrRQQv4BX1cF0dTgpG0AAAAASUVORK5CYII=)\n",
        "* For example, to create a capturing group that captures the id from the path, you use the following pattern:\n",
        "![image.png](data:image/png;base64,iVBORw0KGgoAAAANSUhEUgAAAHQAAAArCAYAAACpQqwFAAAEN0lEQVR4nO2asWrjShSGvzG3VpGF3FstagyCkMokpAlb2Y3xI+gJQsCQcmGLgMsLBpMn8CMEN3YV0oSEVCEgUCO2SgJxoQfQ3EJS4tiSPJal7GUyH4QgaySN5p8z559jC8dxJAZtaPzpDhiqxQiqGUZQzTCCaoYRVDOMoJphBNUMI6hmGEE1wwiqGUZQzTCCaoayoP1RxHAkaWeca7oy99xn0z6LGA4kzYI2TVdmtumPIs7dcs91BxHDs3LXts82uNaRnI/y37GSCPXvIESy16nibtuxZ0NwJfDzGnQkJ4cys81jAJZTPBnqYDYRhHb5ybSIsqCvIRBCkHXSE1wHYO9v36FtaLoSG8HjNKeBIznvScLbBsOMNrOJILTgyKm1m6t4gl+XAuswor8uKDzBHGCePWkry6GzBwG2xP3swVjgyJEQCGY559tdiRUKxuOcBp7ADyWtbl09LGAqmARg97ZLXX+pNhz/bJA3DmmH7n9ENA8EeKun3UFEa96g/2/GtY7k/EQyv1yKnI5k2IP7C8E4454f6EhaluA+r5OO5NiG4LJgOQbGV4JWT9Imf2JAnPe69tKH8+y2he++wGwiOD6RHLuCWcFgD0/z47BSl3vjCazD7Bn2NAd2ivKT4PV3+We39yWEcJMjfPMArKLlOGUqCJAcF+QzdxDR3RFcnDboJ3/3Yemuv+MJ/HC7PF6poEXmKHgRH44/OMrvYAFP66KwgHVmaN1yvEihOXpbCYojvSw3ngALloNflWr3oak5+rE6GP4z7x11JDu8D1rz7+0eu9YMAd8sCF/U7hebI0k3Y2KuWwm2xX+O//9T0oso51BVZg+Cbi92iv7iS/+GkLijzQPgVhAcxgIH8Oag3UFEy/p4z9aJpJUeBKu56MiJnatK9CmRmqN9YN0SnUVHMuwt/fbOihiO0gOh5gtKULmgxeZI8u27wN4FfyLAidjrCNiVMG/gA/6i+VIxRekSeFfta6iao0ymgv70PcWomqIqqKX0l2mO0v0Tcb578uJ26d5VdTlcRnUJfA3B2t3gxjnmKHjJyHEdubKqlCVNP2X9RC2C+uN4MJbN0WsIdi/CTsyJfwehHdv/+XOJB6VbkaLKUMKNF++TN9njTW7FijlKjd+b0I7kvAdhFS6XxLzlFXAUqK04/5hhjp6SEA0ekg8Sm152y6K8FaFcedK/Y9UcLVR1hqOI4Qlcnwquc/agG+FImpbaBM1D1PbL+U2KAiVxBxFNr8GvworHO3ExQDA5Vc+Ln5n/2mfJ/vZneUHr+/psKrivs4yWmCF/AzM0mwhCJN0NvhUZX31SSbMj6SqmjyLqi9D/K8mWIrxVj+zaSUqfVNCnr/cF91RwkWF2/iTtrsQKqplgXy9CNefrRajmGEE1wwiqGUZQzTCCaoYRVDOMoJphBNUMI6hmGEE1wwiqGUZQzfgPg8e4ZqWqHdQAAAAASUVORK5CYII=)\n",
        "* In this pattern, we place the rule \\d+ inside the parentheses (). If you run the program with the new pattern, you’ll see that it displays one match:"
      ]
    },
    {
      "cell_type": "code",
      "execution_count": null,
      "metadata": {
        "id": "QpRLIgiyhhXX",
        "outputId": "4763087a-b0b2-472c-af37-fec4693cf915"
      },
      "outputs": [
        {
          "name": "stdout",
          "output_type": "stream",
          "text": [
            "<re.Match object; span=(0, 8), match='news/100'>\n"
          ]
        }
      ],
      "source": [
        "import re\n",
        "\n",
        "s = 'news/100'\n",
        "pattern = '\\w+/(\\d+)'\n",
        "\n",
        "matches = re.finditer(pattern, s)\n",
        "for match in matches:\n",
        "    print(match)"
      ]
    },
    {
      "cell_type": "markdown",
      "metadata": {
        "id": "_6txqhnmhhXX"
      },
      "source": [
        "* To get the capturing groups from a match, you the group() method of the Match object:\n",
        "![image.png](data:image/png;base64,iVBORw0KGgoAAAANSUhEUgAAALwAAAAjCAYAAAAueWA9AAAGrUlEQVR4nO2cPUgjWxSAv328MknhhgWrQDZgGosQNizLBjZYBEGJZcIK24Q0KZQUWqWyMkXQIo2kWVBiuWIgWEgeZJHFRVLYKGQDUwmLWkzs3ytmksxvEmPU5879wELnzJxzzz1z7jn3Dr4KBoP/IhA4hL+e2wCB4CkRAS9wFCLgBY5CBLzAUYiAFzgKEfACRyECXuAoRMALHIUIeIGjEAEvcBR/QMDPsXtYoJYPPLch/3MUP+2mbS6nszQOCzT2UiQnrHl9+3Gea9KxPTdU7vkCPpaiNmgCBBMkwNZeHJ/cpFp+blseh81vTe788aGJ7+8nskfwjKxvZwh7JKqLFfbthMoloi/5ZahXmH87RSORYTe9xrLNWP6AkkYwkFiKT36QDkpsPrctj025RLUNvkSWdRuR4Rk+lqKWC3BZPMGbi+Ojw1lxg6ulAgt+QG5S+qzJHOksjYRP8wCJ6mLf2evb6n0qrkSBRkIjfWB8OwNs7WUIe7q/K/pX62ZTk/k82YjbUu/9MOrsc3e6w/xGC6UmjvP6dIf5q7huzOYxKLJ9CfMYFNtvDTZrdGy0ANV/HBH99oZaLoTLVqfC+lIIl9zkq132Ns5X+4joyrFBSLGDgzWq08N9rJ8HFdms2ih3pxlnb6z+0f8OSmnzKRfiUz7ApuEa3CPDz6Q/cF3c4Ux2M5POK04/kMAT4H1MFYqlqM1eEF1cU392OJN9LBz237jNFfVasckdykT15Q2TFktRO8wQpkmpJ1OBJXMD5IpkyAZbqpyqd4Qmxowa7BqdpdMOqLYaHeyKZGgkoKqR9SXybHV9ks7SUIM22pOBcO4B/Ys/TiMX4LJoo7PHHLN+uLv4ObiU6flssFpfokDWe6KfW0Mzur5dUF/c/pxW2+ZnmeSKTYhkdDX45opikysS72fsdNY22AGo/+RSBlfwnWWTPGLAu3Fdn/QykstzS7WXBdx433aVVZjXZYcWq3UJ8DE7xuR2s5NuBaHF6opFLaqTa/HjogP+oO3SZkvsHTMekOp9HfsbJ0iAb9biBZKblDRZbv97i7ueTwJsxXzQPtJNzv5GhTMZfLFxdy70K4Rin5uZj4aGLR3ER4fL7xaBMQ5yk1JvflUfe6b6K9eo5ZOVXL3C19OOPrhpsfr5CIlu8ppjN2H2px4LuzSMnOGlc00gy7dIo97465a7UWV1jJCdNIwqN5S3U70ywaTj2mLU17/1eusV5rsrlfrymO8bPClDkVv80JV0EtcyuLz6pyWnp4BbrizKv3EY5uPkxwAuJM6HNL92cvtXt8AU07qV6pjlA0lZ1Q7j+JA0ydYa6+coTHyXxlijd7m574Nib3gN3FxNKDuNSvmIs1iGcCxFsqxk+WT+g9K7jJkp7cegTsqEAvKl4PO6ATcLhwUWTFc75hvKJaqzSlw9tPmeaMArwW5oyGIparnQ/R9W/81NDl5PB4CnDHofXg9AiOxhiCwwqFF+GJPLvi8J6boDfmODbk8yn2fB30Fqo/Qqv8afiwluSyolCO2T0Yyp/+aGbkBboS7TNs3H+ATY2ivQsDn0UrK5pGu6ootjOlhtoMy1f4D3QTe0LwZPeDo4WsnT7TvO9Uv9oKX9MbDUp9brY9sVS/El4ubutMLyitKrhNODe59BpdwEA14JUF2jmM7S0GydWcnrmxQtasPrCZHV7bYE2Np+wDG1Ghxg3YRONkjUMfjjupcrmU8R9nQ4+9YPUEWvprk3be/aEWArrTT3plPU8oV1M/tYqPrCS12/zrGbC4FsKFPKR5zJbsI5+/1y7f0uucnXjRa9et4T4ovtiaqaTGz6zAmWNEpHvXsY79dmcpNS8ZYvliWNhTyG/eRyieivFLWc0rAoKOXF2A1q/SeX6RBhi4zY1VmdLbCQK9DIGa5Z7lEPoVwiSpaG7rzBYv+6XKI0nSfbk5OoLu4wvZdhxvhMj7bcGmTXMeftOAvBdyRpWfrM1HN5+r6229u355jl4hvNfHU4K65R/ZgnG9TKtVj9vKboNtbxvbGon0Og3zHrzU8kQy1vsTXZXe0OrE+VX4n/S6PHsg+BXsa13f99Svu8xq3aAXR7qGe2+6kY5h/xaYGOANNeLLb9eMD26jNTr/BPG1yRlMXB1B+GeiilWxEMiIDX0eLqGv3pMdCrkyd5iPOEKCeWo9TML5hYipq6Ag8qw8TXkgY2V9Zg26KGl5uUBn1t+L+m3y/NpoGX/FWkDetLIVztI6JDyjZRwwschShpBI5CBLzAUYiAFzgKEfACRyECXuAoRMALHMV/pRVEL+Ru3tYAAAAASUVORK5CYII=)\n",
        "* The group(0) will return the entire match while the group(1), group(2), etc., return the first, second, … group.\n",
        "\n",
        "* The lastindex property of the Match object returns the last index of all subgroups. The following program shows the entire match (group(0)) and all the subgroups:\n"
      ]
    },
    {
      "cell_type": "code",
      "execution_count": null,
      "metadata": {
        "id": "aHp_XdtzhhXY",
        "outputId": "de872b33-0fe4-49f2-cb66-1f43554b7b9a"
      },
      "outputs": [
        {
          "name": "stdout",
          "output_type": "stream",
          "text": [
            "news/100\n",
            "100\n"
          ]
        }
      ],
      "source": [
        "import re\n",
        "\n",
        "s = 'news/100'\n",
        "pattern = '\\w+/(\\d+)'\n",
        "\n",
        "matches = re.finditer(pattern, s)\n",
        "for match in matches:\n",
        "    for index in range(0, match.lastindex + 1):\n",
        "        print(match.group(index))"
      ]
    },
    {
      "cell_type": "markdown",
      "metadata": {
        "id": "61FBs8n6hhXY"
      },
      "source": [
        "* In the output, the news/100 is the entire match while 100 is the subgroup.\n",
        "\n",
        "* If you want to capture also the resource (news) in the path (news/100), you can create an additional capturing group like this:\n",
        "![image.png](data:image/png;base64,iVBORw0KGgoAAAANSUhEUgAAAI4AAAAoCAYAAAAouML7AAAE3UlEQVR4nO2avWrrSBiGnzFbq0gge6pFjUAQUpmYNEsquzG+BF2BCRhOadgi4HLBEHIFuoTgxqlCmuCQKgQMbsSpzgbiQheg2UJS4jj6m/HkhF3mARexxzOT0Tvv930zFr7vSywWRVpfPQHLfxMrHIsWVjgWLaxwLFpY4Vi0sMKxaGGFY9FCSTiji4TphaSr0H7Ue/+eF0ilPozR0x83mCRMv1e38QLJdCLxCsYMfI1Bfcl5wfo1JZgknAdqY32YfwWf5jjBJMGNBbP5+/dX9xAjOdRcEG3mgodY0ldYHAB8iecIHmYVbXqSYUcS3QhWW2NGSLxjrRnvRHgjcDr6wqtDSTgvMRBDVNOu+z2h7Qhm462FBFgKbiNwj1RGNkM4bhE5kmGNe2zS7UucGO6WJQ18yflAEi9aTOcfP54tBI6vKFYTzAWXC4E7aOB4S8EaYF3wvEow7zi+5E8XoivBdUmT60cBrqaF78j0SoDbfCceuhAvyxc0FZYgDIs/X91D7Ej6v9phgVWYumw7MC9cJeGE4xajIhfZIF/I7RD1jixsFFp4TWwvzZGa5hNzwUMM7mn9YnqBxEVwWyKK102yHaI2UXDYNIfMXkOJU9O2SQ4T3ghoINzpWYvR3/X95Rh3nLodmnO3FDidAgFktrn3e8WXG4TLurFx4KRGZCe+hKjcOb1jcBA8VW0SGjhstln2Fi1GZ9nrUhDX/SNNmAsizKcGZoXTS3fo6r6+aVWS/LK5YltO4h5IpVhcNfb+HxWNGiTFdcJ6pSZJrgt3u/IUAXtmw5VR4XiZS/wsSyQ3yS28IGT8XINzsNnn26J/2zMw0QauVpsUA/sOxM/NhpwtShyW5i6tS/ScOqxrsM/fDPalzPWjoD9IQ8Zq4wFFzyLd8QhOfHhYCNoHb5/nDyuYJLS3EoH2UNJ+7Ugtbm9ymCX4ph7m6h7ijuSwJ7iuCW1FeEFa8r+jkzDt5H8IZmcN3M8QXyoc5oKH0wTvWMD2zs52yD4wuwdvKOki2Hdg/U/aJBy3eHX3nmQ6gIdLQdjE8SrIk+LKBF+VpeA2kvSPAI1+V6FgFIrXv0dZTvTXJ4W3OoyGqlX2QL8plNlFSXLeDz2JuxasloJVnOdDgpcfO07Ul+zxJsBtmuYuL/FbSG1CWZJc1E+3X11VqeAeyJ0Lim3MJscaJ6WrMP3OuyT5R5q89geS6DF9624pcAcJLg1zqAryaqhQgD1Ju+6kmLc54SpcY5QcQ+T95ILyAkl/z1BVRRp2dy0otjFejj9FKJ+UPm0nyflJ5kapm1ZCGNk5uaMUhbTuUbo7q5LiHJ3rk0KHDQWzSNIepmc4wwPBaJyvwY5klW6TjaCCMP5jdV9yPpSgEn8N5ie7jjW6SOCq+PqgiO73hL6rkJhm67NWGGMXgklCe61fJJRh/sohK7OdjsKVQmbh7b7x2XxgNCh3mzwprjvQ2+R6JtKw2vT+q+IYwjRe0DzsqmLecTLSUvnXloh1BJOENoLLmmsTZXqSaXbR+VVVzgeyOUWf5Gyf9rOKcNz6mPR+JVnSW3hjvyvZTfSX3IKXEJyW39ib4NMcx/L/xv501KKFFY5FCyscixZWOBYtrHAsWljhWLSwwrFoYYVj0cIKx6KFFY5FCyscixZWOBYtrHAsWljhWLT4F0rfJadIoEdrAAAAAElFTkSuQmCC)\n",
        "* In this pattern, we have two capturing groups one for \\w+ and the other for \\d+ . The following program shows the entire match and all the subgroups:\n"
      ]
    },
    {
      "cell_type": "code",
      "execution_count": null,
      "metadata": {
        "id": "ry3j0cWmhhXY",
        "outputId": "ad83ae60-6b2c-4046-dd05-b55980abbd8f"
      },
      "outputs": [
        {
          "name": "stdout",
          "output_type": "stream",
          "text": [
            "news/100\n",
            "news\n",
            "100\n"
          ]
        }
      ],
      "source": [
        "import re\n",
        "\n",
        "s = 'news/100'\n",
        "pattern = '(\\w+)/(\\d+)'\n",
        "\n",
        "matches = re.finditer(pattern, s)\n",
        "for match in matches:\n",
        "    for index in range(0, match.lastindex + 1):\n",
        "        print(match.group(index))"
      ]
    },
    {
      "cell_type": "markdown",
      "metadata": {
        "id": "C6FXBlVzhhXY"
      },
      "source": [
        "* In the output, the news/100 is the entire match while news and 100 are the subgroups.\n",
        "\n",
        "### **Named capturing groups**\n",
        "* By default, you can access a subgroup in a match using an index, for example, match.group(1). Sometimes, accessing a subgroup by a meaningful name is more convenient.\n",
        "\n",
        "* You use the named capturing group to assign a name to a group. The following shows the syntax for assigning a name to a capturing group:\n",
        "![image.png](data:image/png;base64,iVBORw0KGgoAAAANSUhEUgAAAJQAAAAhCAYAAAA/O4ISAAAFd0lEQVR4nO2aPWgiWxTHf/t4pVpk5UGqAVeITYoQVpZlhUgKCUwwpbIPXhNsLBIstLKyyhQhFjZis5Cg5ROFYBEmIDweLpJimyy4wlSBYFKo/XvFaBy/xtHMfnJ/YKH3eubemXPP+d9z54XP5/sPgcAmfvveAxD8WgiHEtiKcCiBrQiHEtiKcCiBrQiHEtiKcCiBrQiHEtiKcCiBrQiHEtiKcCiBrfy+/F+8nF3E2LjNs5dpjbVE0mnificA/cZ0u+AbcRinHpZG39s1AkdXq9sLRrlMePl8muFYNe/6YtnD4VRWQfZoVPdznJgOYAsHC/oJvjL64t/uPNOhsPjcWTJCRdJpZE+P5ukCJ1GL7AGXiS3k7C4nT5MZTNA1+QfheD86J0d51i9iyBdRtPdFSnP6LaGhdpH9TvqN4sKwB4Ba5LoNeHykJtvaNQL7ycEnT7MrIVcUzg/Nr3++sM+Phj7my7T3ew/EBlocF27ou7b4y2Q+liNUJP0WCY2q7bqoxfH7GueVEFIwSqQww/uNKbRgbNjlvBKCcpLq+ki/zY5409FxXOeNtOG1O4bsGbTfhQZ6pEdzQkMYNeO0PYArqo23xP0x6lmTtHMYpx5eo3ma4e5AQfYMG8bnkcoqyO4bcsYIMbg3D+UkfxamLFtAv4cjxWWSLdQi1wdbyP4QKVoz+1iMUF7e+JzQvl0iLe2y6cHifzQ63TlNh3HqiS0c3RtycyYqhRXi7n/GI95FlIihTyobhUJyFBnLGg5/bDp6+KLsdPLkGj0cviiXYaju19BwsvHOa7CnEPc/Uh3aO72BGfZKmQyBsgaeEPWJMY3jZDuhIFMznYetBKNcVkK8bOSf7ku1LSFX4tNZZcDJJw2Q2JyTKaw5VPA1Gy7QPi0WdqmsQr2iUK+EkLo35CyJQQm3C+jcj0WnSDpNPSzRb+QJmORtxq7T4t/bHrjWDKsOTo4mdiiFGs0uOHyvxx6Yw/XI9TDKuJw8lEdO7HAPLAaj7HhAM7ShFvnQ6OHwh6YfRiFH4FRPF3GTh9Vv5A1RbPY87CR1oC/UD4aoenJUQ0NiZ15aK9yiAS/XZ7dbc6hXazjo0fmyuKvW6ekPeD9p7gRPeDm7COnp1OB8egRwopWTC8sP/duPFq4zSYu7zoyfxyLq7DlH3nlxoPFpIsWU7h6BNdaDM+yqRfb29YclV9KczejzcDc+z1ImQ+CrbVb0DDJ97/Rs8bR4pjBvX6EOZQOeEPVKaPS9XSPw3hDJBhHAVp502ATzUq0JktsJOJErCvJUa8+CBSfbB7ugPm8r/yyCf/AScPhj1Csz2mctNgt8H4daVGhTi+ypRV30hhXqm3YU5rZwTFxXF7nLm9M6PfA8Llfq+NFqc+o9DwnA5gK0tZT35ZE+TtyvFnctZTIWU51FW5YErTl6iurR/NueiGCa2mZhYWOxKvrcVmFRapuHrnf7HW1mqzWHUj/yuQvS5u6Cjl7OLhTqczTCSlgUtGboDmDcpenjlFdNq4Uaza6T7cTi8Qw3Fnpaf95C0zo9cHl5ExzZNpYtlqPFsaov1qXqZIc+JKb13hCLKU/fcWz7faS4+vbhWi2yp95zXgnp29Vl6y2FHLn1tF4PGugFrZykurlaytNrZ0k9ZU7qqLG0OiwG25NWSpkMUlZBTijUEww2P/fIRj3K8JjE8INrpFk1Y72qkCPwJcplYlJHTdfcnmxvStC9magHjljiLG9QAHvuQaPg58VCEXWJo5crqo0eeEI/2fGHwB68nB3qOnBedIIl34cqZTJU2yCFbdRIgp+CVDbGtkujukAHLv2C3clRnmZ3/BhC8IsTjLJj5S0TVngfSiAwQ7wCLLAV4VACWxEOJbCV/wHUi3FekQJikAAAAABJRU5ErkJggg==)\n",
        "\n",
        "* In this syntax:\n",
        "\n",
        "    * **()** indicates a capturing group.\n",
        "    * ![image.png](data:image/png;base64,iVBORw0KGgoAAAANSUhEUgAAAEsAAAAXCAYAAABDArJmAAAC+klEQVRYhe2Xv2saYRjHP2lqKyKICqHyQtK1GYPgEjK5BBRctH+CQ0AC4uSSJVMRRHC4fyEugoKLU9tFEEezlsBxcKByYKzUpu1w/jjP8+JBSyzcB4S79+fzfu95nvfx4PHx8TcuO/HqpQ34n3DFcoArlgNcsRzgiuUAk1hDBtk4sogjCwntZWzaWw62lQ6TepHRVQdPo83R2byxJyEna6aRafxylsC/tXMv2BqGvtQt/gLMpBaTtZ4Y3m4bIes/f6HGWBQZKFsW6kl77KV6JKm93Ubb5izP+xg0H5jZjAlcV/DQ4UdnuNE3qReRkzVeVdN76nkhwtk0s2Qcpb5pvxlbsWbfOpA4xrPDtofHobV3rRxfhnEkZezro4o4as+YH+PI5b5pRX3cst/ovT0JOdtCqxf1PtOzMRK0snENCy86yyK6ebjKWNiwzuvNpj6qyM29KYa3e4nPZgGtnGNGGv8irzFkkM0wbcbwdm8JR6znzZIZaLQREqC0UKI51ItFfhwyyH7hrdzmyHDocVRCW+THZonxhwqie44SLTEmT7B7jhb9ynflEl9kPuc+T1Cen0FpoUTjqMY8DBC5JCKfoIoc8n2eoGR95q2e5Wm0EbLVYTtMo6svNaaCWCb4PqrIMG2m8VvONWxcvVsZHDnhcK03RFhavzQCF2nTCjG8H09XzzemAyotJp9M7ZFLfAWYfbbyoFOO5Du8lBhtycEWnvWOwwQ8WZ9RN2yrx+gbDrIZxuKBnzae9RyL23gds2DPMf+w5uaC1dh5RCUMnmjCQqwQYant0KjN+XrYWLj8LvQkRlfg7bZXYvck5KRTW+xTwRKlhRIt8atQQVyfbh22GYZKC0XsdjvYEbhuE6zGdr5p7OmjbtR3zxCJ8SbRYXpjLn1M9CTkaAmqd7ZCgaVn/T18qVt8x3ohq6UcFK5nabyJjCGEYngbeZ6SDw52DxGW9JQwEiVGhp5VoT1kINXWC28btlbwLpu4f6Qd4IrlAFcsB7hiOcAVywF/AJw5QA3iUiABAAAAAElFTkSuQmCC) specifies the name of the capturing group.\n",
        "    * **rule** is a rule in the pattern.\n",
        "* For example, the following creates the names:\n",
        "![image.png](data:image/png;base64,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)\n",
        "* In this syntax, the resource is the name for the first capturing group and the id is the name for the second capturing group.\n",
        "\n",
        "* To get all the named subgroups of a match, you use the groupdict() method of the Match object. For example:\n"
      ]
    },
    {
      "cell_type": "code",
      "execution_count": null,
      "metadata": {
        "id": "EmU66buahhXY",
        "outputId": "a5cd0e4d-b845-468a-d9d6-d8c837f31148"
      },
      "outputs": [
        {
          "name": "stdout",
          "output_type": "stream",
          "text": [
            "{'resource': 'news', 'id': '100'}\n"
          ]
        }
      ],
      "source": [
        "import re\n",
        "\n",
        "s = 'news/100'\n",
        "pattern = '(?P<resource>\\w+)/(?P<id>\\d+)'\n",
        "\n",
        "matches = re.finditer(pattern, s)\n",
        "for match in matches:\n",
        "    print(match.groupdict())"
      ]
    },
    {
      "cell_type": "markdown",
      "metadata": {
        "id": "aOgUFpRlhhXZ"
      },
      "source": [
        "* In this example, the groupdict() method returns a dictionary where the keys are group names and values are the subgroups.\n",
        "\n",
        "### **More named capturing group example**\n",
        "* The following pattern:\n",
        "![image.png](data:image/png;base64,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)\n",
        "* matches this path:\n",
        "![image.png](data:image/png;base64,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)\n",
        "* And you can add the named capturing groups to the pattern like this:\n",
        "![image.png](data:image/png;base64,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)\n",
        "* This program uses the patterns to match the path and shows all the subgroups:"
      ]
    },
    {
      "cell_type": "code",
      "execution_count": null,
      "metadata": {
        "id": "A8Qcv2sEhhXZ",
        "outputId": "d8c8e415-6016-435b-dbaf-a9c5cb23a6d4"
      },
      "outputs": [
        {
          "name": "stdout",
          "output_type": "stream",
          "text": [
            "{'resource': 'news', 'year': '2021', 'month': '12', 'day': '31'}\n"
          ]
        }
      ],
      "source": [
        "import re\n",
        "\n",
        "s = 'news/2021/12/31'\n",
        "pattern = '(?P<resource>\\w+)/(?P<year>\\d{4})/(?P<month>\\d{1,2})/(?P<day>\\d{1,2})'\n",
        "\n",
        "matches = re.finditer(pattern, s)\n",
        "for match in matches:\n",
        "    print(match.groupdict())"
      ]
    },
    {
      "cell_type": "markdown",
      "metadata": {
        "id": "kZgNKTGMhhXZ"
      },
      "source": [
        "## **Python Regex Backreferences**\n",
        "### **Introduction to the Python regex backreferences**\n",
        "* Backreferences like variables in Python. The backreferences allow you to reference capturing groups within a regular expression.\n",
        "\n",
        "* The following shows the syntax of a backreference:\n",
        "![image.png](data:image/png;base64,iVBORw0KGgoAAAANSUhEUgAAADQAAAArCAYAAAA3+KulAAABjElEQVRoge2YsUvDUBDGvzq3/RcCJZAsHYpYpHQwOLg4OBpw7ObmoFMnp3aqe1ZpR6VC6VBaaJGiFIcsGUIhu11qdl1UFNsk9l3wkPvNj9x93Lvv7iVjmuYr/hFbf50ANSKIOyKIOyKIOyKIOyKIOyKIOyLok9opxt06WhZhNgRsLsjxECAHo6oTpqOOwpUb4O7hBVlzB8frjlg2et3mikrqaF03Mb7a3zz8GpR6qDPxEeZLOKxFnwuXwPYRffKrUDOFYRujOaAVY5L1fAQFExdKwZKh7HINNwAKlRhzeIQ717BXT7/f1G07oTk0bp6AqH4jgmAOvZtD+SD6Sg3bGD3H95sqJIO1M/ERQkMxJtmGG0Cz7FSrRLMpJDUHp48ZdOymOIzJVp9k5uBj6gFGVaMK+wO6Xc7pY7aMN4fO5T0W5QoMssDfIVxOfUy9BOaAAdx5Dtk8XeSvZEj/bVs2emclLG7PceKQffVX0D4fPswhZSeLgrZCDJAHHndEEHdEEHdEEHdEEHdEEHfeAPg8ZYdn31aIAAAAAElFTkSuQmCC)\n",
        "* Alternatively, you can use the following syntax:\n",
        "![image.png](data:image/png;base64,iVBORw0KGgoAAAANSUhEUgAAAEcAAAAsCAYAAAA3g6WGAAADW0lEQVRoge2ZMWgaURjHfykdTYaQJdOBEeriEKQSQoVKhqOgpKMhGSWLQySDTk5OOoRkyBIcE+JYOUEcxMCFUFKCQxYDV+GmLEkGdW8HTWPO86nx0qbwfuDg8+6+9/73vv/33Tnj9Xp/IbHl3b+ewFtGiiNAiiNAiiNAiiNAiiNAiiNAiiNAiiNAiiNAiiNAiiNAiiPg5eLE4uhamv2Qg7N5Y7xcnHwDk1k+fPI4OJ23xRRpVaV02cbl/UjUufkIiabT6FoO/WTjeczQBmUtx3HM2XhTeU7h3KAzt0zY4Uk9kjrIoR+sWUbbdBgdsytknNQU8d9PcS7UTjn7ukzYtwZUhx8Xi6OvKzY/mJQih2QHxj3sn2zjnwOzOHjdm4aJf0TMQuaCsKYS1tIs7mVI1EYvx8rU1Sp7bYJ7dbgx94Qxi0mCkSTBSAUToFXn0FaYNY61bfxzba72kmzlba553sAUxQSgylbkiKvWLP7dl6Xc9KV8hDGnfAq06pT+LLLrVcx5WLEuLrRBWVNRWnUOI6K7XaV0yRjFwCCxmaTUBGU9Rzk9WfFwoM/pGXNAtclvD4sLw8574LZ/8bE4+u4yrmaF4OYphRFRC5kL7m1jDpLdSXJ42cYV2LbxsOE40gQWzg06KPgGtq5BombCM9NeIxyYhWajL6U87IfsPElEleumwucJd4PQAiw40yHXTjlrguIbvCvRxXmgu611LYeuqSjNCsGdfjPtbv/gXp2OWx27ymS/1WGMViJ1kCMemKVzeURQmK7Pcezxwd6Yu7ukO6nk02dnSJWpnfIlUsFEITxO9137wQ0eVpaGHeBh/yRH2A1mMcmXjDHRmpx7tspXuGpZjdnkrgWuhUlSZpIqY5CoPeAP2aXWGFVvBNP1Oc8w+N5o4w+opDB6fmKQyNcp76rommo5vs3V0P6jm2apg9zoHirfwFxXUYD7vuFoehVlaB81HjOO/h0c2qC8u8x9sXenet9dAx7z2ORNN/nXxtlXFo/GHOo9+yzN4wLMa+udN7i9czTyq+BgWnXJ7iSfdsLPBzoovSrWJ1AsTtiNpZy/PZxNKzseU8sybBZfZpJ/k9cX5z9GviYVIMURIMURIMURIMURIMURIMURIMURIMURIMURIMURIMUR8BtitjBlF1n9ZgAAAABJRU5ErkJggg==)\n",
        "* In this syntax, N can be 1, 2, 3, etc. that represents the corresponding capturing group.\n",
        "* Note that the \\g<0> refer to the entire match, which has the same value as the match.group(0).\n",
        "* Suppose you have a string with the duplicate word Python like this:\n"
      ]
    },
    {
      "cell_type": "code",
      "execution_count": null,
      "metadata": {
        "id": "I--582JehhXZ"
      },
      "outputs": [],
      "source": [
        "s = 'Python Python is awesome'"
      ]
    },
    {
      "cell_type": "markdown",
      "metadata": {
        "id": "veIag3tyhhXZ"
      },
      "source": [
        "* And you want to remove the duplicate word (Python) so that the result string will be:\n",
        "![image.png](data:image/png;base64,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)\n",
        "* To do that, you can use a regular expression with a backreference.\n",
        "\n",
        "* First, match a word with one or more characters and one or more space:\n",
        "![image.png](data:image/png;base64,iVBORw0KGgoAAAANSUhEUgAAAFwAAAAtCAYAAAAjkQw8AAADN0lEQVR4nO2ZwUrjQBiAvwl7zsEF15PkEgjInoplL+JJL8VHyBMUoeBR2EOhR6FQfII+wtJLe1q8iOJJhEIuwZMK9pAHmNlDGltrWmOb/u6y80GhyWRm0m9m/n+SqiAIDBYxnM++gf8NK1wYK1wYK1wYK1wYK1wYK1wYK1wYK1wYK1wYK1wYK1yYwsIbHU27YzjIKfNDM7dsnYQtTftEuNMpDk407Y6mcVi8TikzPLqGBMPOBzoug8uhAk9+oFehsPDnBEggziscKi5i8L6Xdl+FiLqK+BMGOiN+UoDi+b54ndJi+OA2nW1hUFaLxbiLwds3+LLdLo0q8w+IsKXxhw4/u/lllZFD4yynYmBo1g2jXw7t/tT5Q0P7CG7OFd3hnE4DQ7MO0aJrSONtzZscJ1f59wlpTqpXoXesGMxvcilK3aVcDhVuNT+mPoyAjUUz8WNL84WhIkoMldr8S1LZit6xQ2P8udiUX41QsvBFyTONdxMaHU0zHB9sgws8LJihi3gveW5tAPHr2To4W7wi1kW5+/AseebE1OgRcMEDCAwbgBuk1/nfVus2S557YX75wwjwPncLmfGl7AYHt4raEfwIIJqeQfeQAFsB+LvAlSKupgMQw8sOKGxpKu7rNit1QyU7iPPzwF0MtcDgo4hm7+nMIQ4N9aqm3UnPzcbwRkfjzdSrdQxZpFoU8z9C6cLpK272Nf6ugjdL1vB1W+FtQtRTEGh2DhVsGhg5REB06vDyu4okzTGDnmKvnjPQY6KuotFNw1rY0lSqmiYTie3jyWL/Z5JmRm7yHCpG4687XhqvL4fqZe+ePK3YaYHkmdE9dbhJwN1csc8lWIvweQ8kzwl4RxpvnMCia0i8dLs2ely93+7v/OTZaM3klMDguyUM8hKUH1LG3MVQ2zf4/UlMfRgBLsS34xPZrHSX3BLO0lfER5q9UDGYirftLjQ7munUEM/u+YUo9cHnFR+Iv2VycKKpbSjOT98mz7+B9b2e7StuCsbUMhn0FIlrqH3S+5X3WN8Mt+Ri/4AQxgoXxgoXxgoXxgoXxgoXxgoXxgoXxgoXxgoXxgoXxgoXxgoXxgoXxgoXxgoX5g+YwySZ1vm+IwAAAABJRU5ErkJggg==)\n",
        "* Second, create a capturing group that contains only the word characters:\n",
        "![image.png](data:image/png;base64,iVBORw0KGgoAAAANSUhEUgAAAGwAAAAiCAYAAAC6NDzRAAAEI0lEQVRoge2az2vjVhDHP6Mu9KZDkk1zKroIRJdQiokbSpecbJYa/wMFUyj0FLYYcjRsS8DHgMHsqUfRvyCYLjZsWfbQkJBLQsBg0oo9pUvjg+6r14Pk+EdsWd5INgJ9wARLozej99WbmTxLLMtSZKQGbdUBZCxGJljKyARLGZlgKSMTLGVkgqWMTLCUkQmWMjLBUkYmWMpYSLBq06PRVBQWsK8Wx4+ZFbXQGLFRjOa32vQ4rCwlopn+w+JMbIVV6h6GK7Ta48d7Z+CieFKcfl1itIVzV1GqK8wQsysHdCvcZpUsJNitC7jgzLErHHjkdKFVE3qTJ7vCWweM7UU8x4Nd03B0xf7BbJtOS3B12LWWF9co8+Y4/hVmKZ4a4BwLnRkmnUsBQ1FZwaQ0jgWM+6n6jq7QcxW50lLDiswnGxsbv0Y1vngtvHot9ENsCj8otjXh999C7K6Fx98qzE+FPy8mzlmKw18UX34QTq7vX2pWFC9+gg9/CH+PnigqGlV4/I9w8V9IgIHvLwy4nnEvF4/g2ddTfEze64HHz98rnn3nf77ZmHI/AZW6x49fCa/+ChmQ+XMc+wp7YoDbnZIKJzjpCnp+SnHt+sGufRZycYS0PM83YWmvLTgonoY0H4UDj5IhtJ5rVIPP283ks0a8ghUVBkLvbL5pWPNx646P2WgOJ8LYVNCf/0BE8b3++Wybec3H1hrgjKf9zpFgdx8QWARiFcwMVsVNlKAHzcfe/Um56YO+OTqmwtzxv2+txRBohFXsNx+K0oxad9MHDI9GSAOTBI+W626czqVQKvupqTcisvNewFKYCLsWnJ8Kuc3hefe9/7dS98jp42Pm9hW5u4E0qkcfGdyg+dgG2vdPd440nIpiP+/RaAZxnWq8sAODoqJRnnj7Qh/agnD+cvEVuVLBaAvnex7mjsBk4DoYwDrQOgNzX1FAWNeh/69vYtc0BvPjTxAfNQmzsN8IubLvd1rH27OFqi1A8PDkPQ4JRGsL1bbc2VbqHrn+Ax6ggFhTYi+YyK0FCu+05mMwDkWF0Rd6wdPu1zvh9t0DA7UUawyFn0mE5mOAXdM4d4epPCnibTqCGxzUmyj0bP+asebjnd8UlMoK59I/dNIVjLKHQcQaGYK5A3pE4VunMrX5qE7umFgKUx+m66SIPSVeOVAK6k/UTu7KgdKewmwH13SFPgod4SqoH70zcPOgP7ClB9i1FDhapNTp+1WUikJjpJY1bDhseoyWUOdYG7NJAon9vURLcbivYLQAzyOB+hOnr7jqTxzEvzUVtOt6foF/IoON2WVsB1XLCpzFHgz7zeq20iaJf4UF+C230Ho+e09x2VTqHjmEl9M2pVNCYj+v2DXtfjOxSopq9i8IKSKxFZaRDNkrAikjEyxlZIKljEywlJEJljL+BwOCnQC58StAAAAAAElFTkSuQmCC)\n",
        "* Third, create a backreference that references the first capturing group:\n",
        "![image.png](data:image/png;base64,iVBORw0KGgoAAAANSUhEUgAAAIMAAAAnCAYAAAAsEPueAAAEcElEQVR4nO2av2rjShSHvyNurSKB3FQXNQbBksrEpFlS2Y3wI/gJQsCQ0nCLgMuAwewT6BGCG7ta0oQEVyFgcCO2yl2ICz2AZgvJsp3onx3J2cvOB8YgH80Mo9/8zpmRxbZthUYDGJ89AM3vgxaDJkaLQROjxaCJ0WLQxGgxaGK0GDQxWgyaGC0GTczOYugOAwZDRXOL+G5r81qto7ZqozRaxfrtDgOuO3sZ0YpobB275HZtxfUwYNBX1FJC9uIMnX6A5Quj8eb1+SP4KL60ku+rjLEw9RVOxsQAPHtg2tkxpTMWPBS10312GrKzGF59wAcvJ655FVA3hVFPmL/9cSbceWCd7DqK3XF7Bp6puLhKj5mMBN+Es7JXaQ6jBykuwpZiUMSlZ8ICYJHwHCKqdQZb8dUC71aYpIRMngSsCmyxAINbAet9+oqZCXNfUXf2OqzQMU2Fk+OY3WHA4EQY5a3IguwsBrdn0E1a7Ws0HYWZkB42iCw70RajPJf2sFJrjqJ5dyxMfbDO01eh+z0Ua1590bwKohUafrJqjU4/YJDhSEUcs9MP4Nage5MzsDUGl9nxlTrDFwv8WbZgAO5ngtlImPDI2g7+zri5QKrK65usVBDl8K8ZD7d5FeBYwujSoBt97o4+5nZ5jun2DAZZi2wHqhNDS2EhzB/zQ7MKyVd/s831FW8dqcwcWIRl34f/pMfkFZLHB4C3mQonN4I7+8DAPqGQrEwMtWg1vxSZkKUtJtj1ywLMo/U2VxN0fFDCQAu4T1hIpufwlwVg5Vj/DoweUhyzIv7aUz+5TJ4Epx3a9XxNQN5PAVtRQzizYfog1I9Wv/s/w+9OP6BubrZZv1DU44a2y68bLAvJEyDBmic3Bl5HcdEIGAyjcT0Y/OtGAS3FoP3mD2XmKhaE6bf3TjJ/BL+h+NISJiWnhCR+GzEwFqbnAbVTgbduYoIFHAKjR6hdKJoIhyYs/gtD3J7Bcu7DySdxgnfF/S7U22G/STujuSt0XQEiYTYCrokEMRa6Y4ljO/2A+qKAOGfCnadwUkRYNpWliXn0kI63KKKSCsllO7QU1kKYR6s0rC+E1x8fHKitOGAlqlQKFJJL3J7B1F+lt4+wz613dQXkDgXQ3A3v2Sgkf4QFntNWeE/hpfuZYLUDLArWJBnUTsEsKKq0w6Du25NMW1EzVynsQ2RtvUum0jTx7IET5fuiFf+zB865ojaO7pkJCxQmwnNklWEuBfOD20qAM1uBZxRKJ8sc7rRkY1s3cOF6GLBesni35W397mdCvaFouqsUFW5n16MUzlDhwM71kVT6V3lbcX2hYL2YyqOCfF9mX4XzfZlE87goUWBJVHscHW0ZzcYWOS+yxX0cAXfbCrztRLc8kdzr8XnG1rtMqnWGiHDbJ4wu099R7JtOP6CO8C3nSP1PYi+vsN2e8b4w/ExaKv1N6h/MXpxB8/9A/+1NE6PFoInRYtDEaDFoYrQYNDFaDJoYLQZNjBaDJkaLQROjxaCJ0WLQxPwClOXkc63MRg0AAAAASUVORK5CYII=)\n",
        "* In this pattern, the \\1 is a backreference that references the (\\w+) capturing group.\n",
        "\n",
        "* Finally, replace the entire match with the first capturing group using the sub() function from the re module:"
      ]
    },
    {
      "cell_type": "code",
      "execution_count": null,
      "metadata": {
        "id": "6NAr5uXyhhXa",
        "outputId": "f71c8805-7816-461d-fc47-01d323bcb522"
      },
      "outputs": [
        {
          "name": "stdout",
          "output_type": "stream",
          "text": [
            "Python is awesome\n"
          ]
        }
      ],
      "source": [
        "import re\n",
        "\n",
        "s = 'Python Python is awesome'\n",
        "\n",
        "new_s = re.sub(r'(\\w+)\\s+\\1', r'\\1', s)\n",
        "\n",
        "print(new_s)"
      ]
    },
    {
      "cell_type": "markdown",
      "metadata": {
        "id": "EXSGjTzThhXa"
      },
      "source": [
        "## **More Python regex backreference examples**\n",
        "* Let’s take some more examples of using backreferences.\n",
        "\n",
        "### **1) Using Python regex backreferences to get text inside quotes**\n",
        "* Suppose you want to get the text within double quotes:\n",
        "![image.png](data:image/png;base64,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)\n",
        "* Or single quote:\n",
        "!![image.png](data:image/png;base64,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)\n",
        "* But not mixed of single and double-quotes. The following will not match:\n",
        "![image.png](data:image/png;base64,iVBORw0KGgoAAAANSUhEUgAAAHwAAAAgCAYAAADQUhwyAAADCUlEQVRoge2Zv2rjQBCHvxVXq8hBLtWhxiAIV4W4S2k3xo/gJzABg8vAFQcuAwLjJ/AjGDdOmebIkTJgcCNSJYGk0ANor5AVr2TJJyXyn2P3a4yW2d3Z+a12Z2Thuq7EoA3Wvh0w7BYjuGYYwTXDCK4ZRnDNMIJrhhFcM4zgmmEE1wwjuGaUErw3DPGGksa2vNGUWkcWjquqQdQvxOsXn+ug3/AygdgHjX6IN5DU9jT/4jn6DV6K9ykl+GsABOCX6WSolM9qcNBvuOEfPEIAvD0X7yKq+nu00Q9pYdGbSn51Jfay3Z9YeLOUsZu0AcH0UnCzfOoNQ5x8lxO2RegMQmpzi9vjkJYDwZ3Fz2eJ15aA4H4kGM+T9mcr5yL7cZ7vKQLB6EqwUNua8VxLfIve9eqx1pF06zC9FJwqa0/MWxHVCu6AKki8EDWgUZtMbISo73rg1UCUEThNZxBSQ8BcMEbSdSGw4XYZ4CMlsI2+5GSq+LEUKyv4jX5I6yhD4Iy4JDZ+U9JDvD/HMQHFrinx2qzF5LNUfKRHosXiLP5AgOTr95VFqx4FT33rb64tfCRnrWq9UbFtuI0FsyVvk5Wf9rHqSyrAM8F9ALb7geTMlVykxV6OuXbqkbKbCXwktfOyk26mWsED+L1pNzYlDtl3zoMPHG0x4/XVU0Lw+li869Pbx6asnYON4CFD3HWK2n2OL9ufIs2GYNvgQO7xuBPy7uig/FDOsYRAHFRVswfBN7Dvki8WO5VURXd1+eH8FwHOAWxihd2WZRvupVMHgnky+Yk/LJy4O/Hu/Qi+nxaz91/E+6mUReS/5LRZkYMVsPM6fHonsOuSjiJiox/iIFZJVcxjlPRtM5lTiQVSN2RnEFcf+fYXnZwBlwmf006ul6akt6dNsPMjfTEWjJB0uyFncWMgGF1mlDZzwc8JeO0Qbxg3lq/DCzMTjL5Btx7i1aMmf2Ix/ZFzpGfYp+vw8ZXFUz+k1ZWr9aaujF1SWR1u+D8wn1Y1wwiuGUZwzTCCa4YRXDOM4JphBNeMv56VQ6eOAUojAAAAAElFTkSuQmCC)\n",
        "* To do this, you may use the following pattern:\n",
        "![image.png](data:image/png;base64,iVBORw0KGgoAAAANSUhEUgAAALUAAAAtCAYAAADoZiqHAAAEV0lEQVR4nO2cv2rjShSHvzG3dpEL2VaNQRBSmYQ0Syq7MX4EP0EwGFIGUgRSBgQmT+BHCG7katkmZEkVAgY3YqtNICn0AJpbjJ315srW30Ta4XyNjT2Mjvz7aeacmcHKdV2NIFhEo+oABKFsxNSCdYipBesQUwvWIaYWrENMLViHmFqwDjG1YB1iasE6xNSCdYipBev4J0vj0TjCQTEdKmZxDVzNxYmm+faB4v5aMZn/btIaaE4O2dzHO0x7TXjX4HwS06Cr8foaggajKxhcRrSbENw08PxssW28vgvXZ4pFing30TmN+Pq84R7W7wPe7iWOwWVEa76lnxUWadE5jeg5Mf1sIJOp07Lt4osfEB5q9rqKWYoAs/LrFWgqXn6++2KuOB8q876r8fopOusaEYObRj5DdzXevmJ0BcGzYu/JfDwaa17ei+grRr5afh/hjeOFnnxTeP2I0VM6ga3RIgOZ0o+XEAghKHLFueJ7AM5+uuaLpRFenzY0+AkhED4XCSoGV3PRN6NSGvPE4ivudyK8saa3C+xrvHGEE2yfIbxhgwBNe6BpxfR5fadw+pqBmzOuFX+JFsGzAmIejg1UklPPHhQ4JYgSg/kB4FdCWpFEp6dphopJ0jSfwOSswWioeNnROChGw82pxTrTOwVNOIr5jRYTxX24wfQZ+Ru0yEqm9GNy1qCgxgZfcX8c0TpQkHTDa9NyLOtTGUbwUdEgXc1XB4KbYnk0rPJKRRAoAjTeeEtOmoHJN0W7r+l1Vf6ZBOqvRY5+Klv9uJ0rmoeaTlUBbKF1AE0Uj0XzzK6m/WpG6kc0PJiR+vUweWQ8cjWEcLvJaL4iIH3qsI06a5GHDykU0/DRRUoRjlxTwadZEdiKrxit3dvOF/PqDeNHu9XqgsGsMm2bKR4DcHY0LYrNKHXWIg/VrVOvipTj4nlh2fzbLL/YmV0lpxymEFNMh2Z0T3qogmeTdztFg6uxFnmodPNl9rC5GBI+F5u0qHZH0TdVfOug0igEsEqLyrfJ61ikvITQ3E3XdnAZ4Y0jRt0SLuyrVGnHCmdXF983WKOOWuShclMvJmapa68MU5TE7dys3SaK62pay73eMlYhOqfZHpA9B3gtvuy4oo5a5KFyU8Oyiq9RkbL4AWEaceeKRWjeBg8fHtafdM1mzv203G7rpkUeKlvSW2f2oOj1TZGy+OTdp1jmiu+BptfXdPzt6UBpG1KYFZK0qcfg2Cw7Jh3IyhxD3bTIQS1G6lWR0u5VHchvZlNFiKZ3WnUk/6c10LSb5Y/SQC21yEo9TM3yjESKMxGfxlxxfqPAibgYVB3MGm8nB5OPzealdlpk5EPSD6cfLY8Tpjuz/CnEnOFNxFdcf4ETt/iuXVkMjrOdHLRGiwwo+YNIwTZqk34IQlmIqQXrEFML1iGmFqxDTC1Yh5hasA4xtWAdYmrBOsTUgnWIqQXrEFML1iGmFqxDTC1Yh5hasA4xtWAd/wHBTvFnEcbNOwAAAABJRU5ErkJggg==)\n",
        "* However, this pattern will match text that starts with a single quote (‘) and ends with a double quote (“) or vice versa. For example:\n"
      ]
    },
    {
      "cell_type": "code",
      "execution_count": null,
      "metadata": {
        "id": "MQKyTH1yhhXa",
        "outputId": "1a369c66-e164-47eb-f83f-2cd8aa02ca12"
      },
      "outputs": [
        {
          "name": "stdout",
          "output_type": "stream",
          "text": [
            "\"Python'\n"
          ]
        }
      ],
      "source": [
        "import re\n",
        "\n",
        "s = '\"Python\\'s awsome\". She said'\n",
        "pattern = '[\\'\"].*?[\\'\"]'\n",
        "\n",
        "match = re.search(pattern, s)\n",
        "\n",
        "print(match.group(0))"
      ]
    },
    {
      "cell_type": "markdown",
      "metadata": {
        "id": "WlgwtHXIhhXa"
      },
      "source": [
        "* It returns the \"Python' not \"Python's awesome\":\n",
        "![image.png](data:image/png;base64,iVBORw0KGgoAAAANSUhEUgAAAGIAAAAhCAYAAAAiaX7MAAAC9klEQVRoge2ZvWrjQBRGz5itVSSwu1VQIxCEVCIm3VZOI/IIegJjMLgMpAi4DAiMn8CPENLE5TbBi6tgELgRqbKBuNADaLaQFUuKnfhP0cDO6TQMmqv5Zu43cyVs25ZoKqdWdQCaBC2EImghFEELoQhaCEXQQiiCFkIRtBCKoIVQBC2EInxbp5PXjXEMwbgvGBxJ/AsJkaB/KZiWHeEntHsxB6MaV4Nqxm90YlwTwtsa/v3279l8RzxBBDArXwTLk/g9SaPkcVRgrR3xPAMMeA4Ae3mfZNcUWwV3LcFwlwgVJ3wRYMLr027vWUuIHIFghoSXZVHVaN8sHr1ujNuTHO+4bf8HxL7K4F43xpnlhYAkh5tzP8GTNOtyaT71ujEOST+3F2OuDjm3y1KPGJC8e1mflDSfp0RFb7El102Y9gXPbqbvF/jh5jtiQ14j3iZ1OhCEdYl5AmSFsCWWAdEo+Vi/lViX5UmadT5Nb0Y9phkJ+q0aU+Y7sSMYZhbF24JozSfUllw3Y/zvxcUjcZqSaLRob/dimh3xbpHtk9KPr4cGOWOfhICZN2DrFAwEv7c9+RRW7EMgcmNYnsREcJdd1YFgMEr6eUXfC/M7ZRICBxJry/DWoVQhvG6cTEBmJQ0fBSA5Pl+0ndkSwu1NPQo+ThtntoQIwkL79A9ESA6P8u3h45aB7MB+U5MZ4/cyz2GN9mWhz71g/EvipOnJlliGYFz2PeCD4/bBj5LHXoP9ChG+N+tlPAQCpy5pIAhPwYjgIdhrJBsx+1vd2CmVlDimA0E4T09ntlyZWqbzCfq54u6yLkXPSEm9aaLA0bqyWtMkBPMiKZ2sNOmnJIc77m5jpcK7nUyjLfHqkmikxoWz9OPrKoaPAtf8xKQDwdUt+BdZ79nutu63arR7eQ/btT60T/Z2oduY86R4qNJkVEllqalxklRw77QIQEVCWJ7ENQXjQfVldFX4Uo9Y1Hrm/zYqPLKqRnUeocmhf5UqghZCEbQQiqCFUIR/lB0YgumIs4oAAAAASUVORK5CYII=)\n",
        "* To fix it, you can use a backreference:\n",
        "![image.png](data:image/png;base64,iVBORw0KGgoAAAANSUhEUgAAAKEAAAAiCAYAAAA3dbnAAAAEmElEQVR4nO2cv2rrSBSHvyO2dpHA7q0WNQZB2CokpAmp4kb4EfwEwWBIGUgRcBkwGD+BHyG4satwm5BLqhAQuBFb5V6ICz2A5hZjJ7Yjy7IkZ7LZ+RoRRxqdGf18/o2weJ6nsFgM4pg2wGKxIrQYx4rQYhwrQotxrAgtxrEitBjHitBiHCtCi3GsCC3GsSK0GOePrYzqKa7OFJVI6F0I4wyXtLox3Dh0houfVxuKs8O5ncWEMRvtmP2JQ+s6m3mn5zG+C2HC/ebvGd07XPa1bS7CQ0/oBwnzfP0g4ZzZ/chuX1Ya7Zjd2+Q5zM8DeJ1L8jkwaAqjEm1bXsM0PoUnbLRj3EgYrFhMEAZNh1bToZUg6rtAwFWcbsm+l0gfn5fERSBczuy6kZXXjwZC5MZcNYrbUm2o13GeJ8LLv+gvQ/f9/Md90bb1BA5jOknn/IAIxV6tuG152Y4IA2ECMFnvBU/PY/YrwiCjx0xi3BfCDRYy/CXA9AEmjfdTHyc/cxq0TCBc3giVw5hWwYc97guTqaD2gF1f0TlTcJ/iyQLhsidEKPzz9//7HoL7T7b7n57HdLoxneVxlu3cYA3NekJPcexCeFM8FDyF4J4oqqUYtsjzBIggLDLIUBiE4NaLe+xO06HV1N5/55f2dutC3kxsSRFj9KjHangp19cUnW7M3qNTbB0SyJYT1hSdOjz0hGdf51MaWZlLdJrr9X3q67yxvzIMZ2c0EI7P4MiD8XLYXGLcF1ppD20otIZv4XV07ZSSL2kbFccNYbRONCnMctQwFCZ/KjpdtTK/zcRQeDiJqR4IJK2dp7iqw6Cp16FVzzbm/BqmsYEnVOyfTRPsaR70ECn8dn7vs+dCFOQPwwsEwjhS7PtlDLYlAmEcQcXLv2bVhmLnXnvClx14GQitnrCTwcPuuUCY7DTuAqFyuGKMQLgsuXCZZ6NwHN0vVnh3gUAF3NWXrKamcBHGP/JcnMy2C5QyKLRmaC/+FnoVu3+TKpLXHK6ri7/eigrdZIGyUYtmOclcG9ZSqP6lj+8qzgKM+0J4GBcOd9tklrB/80gOfRvQv1jvQ8JfAjusb5UFwvdQ4Z8oqsOSolNGPkWLpkyewmLh7v/M6FF76aO0AmULfDkRjgZCZGAhvwRD4SFSVA8+9rbGRLgQlsrkkxcoa9MQT3HVTW4s52Hcl8QG/ypSC5QtYc4TDnWDeRvfuv7t5y1QjjyV2nOsHjDdBiynSGi0taBTe4BzbNr4LwOj4Xhr+dtU4MclbJOViqeoViC8Xe2ZdJUKIDyV0D/NQ1Ljv9Wdq7IB3Le/i+4CZauON2g8bsKsedtoyPqO/4Y8heB7iiofW+mlkak5P223lEX/wmHTpR09Cn59sfGfZfMhL2YLk+lWUuUwe7jIii5QFL7BjfkFakq/uZPiBT8N0wLlo/Lq7bzKtQGja4dv7Zj9M3gusytfskcphKe4quvXmnJvrX0weTxoXoyLEPSEd7sxezVhlPiQFH5X4UPi+4TGSHifMIlTX1EJndyN/a+O2N+isZjmyzWrLf89rAgtxrEitBjHitBiHCtCi3F+A32b64lWt1tVAAAAAElFTkSuQmCC)\n",
        "* The backreference \\1 refers to the first capturing group. So if the subgroup starts with a single quote, the \\1 will match the single quote. And if the subgroup starts with a double-quote, the \\1 will match the double-quote.\n",
        "\n",
        "* For example:"
      ]
    },
    {
      "cell_type": "code",
      "execution_count": null,
      "metadata": {
        "id": "XQlcIc22hhXa",
        "outputId": "7ab80273-a05a-4286-f1c7-f495b92685d6"
      },
      "outputs": [
        {
          "name": "stdout",
          "output_type": "stream",
          "text": [
            "\"Python's awsome\"\n"
          ]
        }
      ],
      "source": [
        "import re\n",
        "\n",
        "s = '\"Python\\'s awsome\". She said'\n",
        "pattern = r'([\\'\"])(.*?)\\1'\n",
        "\n",
        "match = re.search(pattern, s)\n",
        "print(match.group())"
      ]
    },
    {
      "cell_type": "markdown",
      "metadata": {
        "id": "z6ykH-p-hhXb"
      },
      "source": [
        "### **2) Using Python regex backreferences to find words that have at least one consecutive repeated character**\n",
        "* The following example uses a backreference to find words that have at least one consecutive repeated character:\n"
      ]
    },
    {
      "cell_type": "code",
      "execution_count": null,
      "metadata": {
        "id": "xiSWmNtvhhXb",
        "outputId": "784ca4cf-681a-4931-f3b1-4283e09e5e03"
      },
      "outputs": [
        {
          "name": "stdout",
          "output_type": "stream",
          "text": [
            "['apple', 'strawberry']\n"
          ]
        }
      ],
      "source": [
        "import re\n",
        "\n",
        "words = ['apple', 'orange', 'strawberry']\n",
        "pattern = r'\\b\\w*(\\w)\\1\\w*\\b'\n",
        "\n",
        "results = [w for w in words if re.search(pattern, w)]\n",
        "\n",
        "print(results)"
      ]
    },
    {
      "cell_type": "markdown",
      "metadata": {
        "id": "rHyXzoTvhhXb"
      },
      "source": [
        "## **Python Regex Alternation**\n",
        "### **Introduction to the Python regex alternation**\n",
        "* To represent an alternation in regular expressions, you use the pipe operator (|). The pipe operator is called the alternation. It is like the or operator in Python.\n",
        "\n",
        "* The following regular expression uses an alternation to match either the literal string complex and simple:\n",
        "![image.png](data:image/png;base64,iVBORw0KGgoAAAANSUhEUgAAAK4AAAAhCAYAAABA6pDjAAAEz0lEQVR4nO2bMWvbTBjHfyfeWUNeSDMVLQbDSydT0yV0shfjj6BPIAwCj4EMgYwBgdEn0EcIXpypdCl+yVQKAi+iUxpoB30AXYeTHEl2XEtWkorcDwKRfXru7tFzj577XyK63a5Eo2kZxksPQKOpgw5cTSvRgatpJTpwNa1EB66mlejA1bQSHbiaVqIDV9NKdOAeSMeWeDPJ4KUH8sr4p0pjd5ZgIZhPBDeH9jyUeGMJscA/E6wOtfcH7MuEnpldCW59QRA+cad/O9kzyIgM3Kvn634wTRhZEF0beItq91YK3DYTnBkEkD6slx7NX8JC4C4EkC7sFx5OFSoF7s8YLCBqouec0zSvk+hegAU/v1e/V9e4mlZSKeOuX7eP0ZVcOJJ1KbmtHt6jrhpME0YY+PcSpy9Vm/mD7XxN5M4SuDaYv0nbPtZvBTp23hbES4PznRP/A3vWkmoPkVGqw9MSZ+7DqSMx0zmeZLV7zmbmv7zPoF4tue8c1j7b83OAVSBwa/q1uYybBi1LA3eS/vhwOi21W4j197fxDntHEvtY4F4LsCQXNqx8dY/1rtjUGic4XfDXdiWjS0mnxjQG0wSnD/P1HAT0Ey7sGsZSe95YEl3n/PJV4g5zjYYSb5ZwlPOdv4SekxTbAac2fJ4YREhOLyWd0MBfKh8VlA0rwXOUz5Q9gTWW2N3qc+jYatHc+g/ji6wEL/dsV4FgHgFWro+uxH4kaA+lucB9CyaC1f+5z0LBed0Bm7CaZxcSwlz2OSoFZUmZCD4JMOFD1YfUlZxaEF3nsnUoCJYCs19D8lrbK2W6hShc2x/Vw81n9VUg1CL9mJ+r8kM2NhMIcvecFOZbzNirQBAh6byvOgkY9SXxsqjCeGlCyS+EmyuVNHq2GrNtS8xY4D+BUtFc4H6HGEnPqbeqN4jhS85Rv37saBqW5LR0LP++rdZl571afN9Kr9NV2vdJxXk9Zq9AV9IxIb7f/OpLqBZgvnwoJIZfO2TEkv9Aba7N4z0HnzGUWOV+4VEfB4EgNiXOLKFnCm6Dp5E6m5PDQsH5RODOEnqOTKWVhjTfZ8I6VjXcaCYZbXxbXQGxjpVOvY8Ks2thVl0wTdJ5A6QJaZtc9qv8QSgIluBsydJN0riO603SJJ4W86MZ0JLgzeSZphZbZs+Cg7LOXQhUfHs0hXrbVDiwGarNWBQJrH6C++OADeEOnk4OW6QbK54/Y+z1it5C3ZJgtz3Jf8MdjULBasuGE+BDV0LU0KJPS5Loa8X7KpZd7ljV695VWqOPn+Y4vLHA7dhyYwc8eKdevXfPebSa7mTjZY0HvhBqc+E05OzFw8Mr1P3Doq+CTwKsooLQsaWqEec0QrZRmlfNfqHgc7RlDtv6uEz/JCDdjAWBIEYyKitLDdBYqbAKBN+mSfE4NRb4k2Jxnp1PrzETvJn6ta7OaPYTvP7D9YadDX2Zh5qtrEicGdxNk806t6aks7aXrxHLthYCF/DGef8duD8wJc5sD718j2dxc2UQ2RLHKR0L53w3mCo9uZAw1vVugjdtVhITbf/3dDfVPw86IDgAJbA3Vxc3wWCaMDp6nj9eein0ka+mlejA1bQSHbiaVtL6GlfzOtEZV9NKdOBqWokOXE0r0YGraSU6cDWt5DfpuS4WGoK6jAAAAABJRU5ErkJggg==)\n",
        "* For example, the following program uses the above regular expression to match either the literal string simple or complex:\n"
      ]
    },
    {
      "cell_type": "code",
      "execution_count": null,
      "metadata": {
        "id": "7ISappf0hhXb",
        "outputId": "fe4ac4b5-5cda-4318-b86f-61b382a4ca50"
      },
      "outputs": [
        {
          "name": "stdout",
          "output_type": "stream",
          "text": [
            "['simple', 'complex']\n"
          ]
        }
      ],
      "source": [
        "import re\n",
        "\n",
        "s = 'simple is better than complex'\n",
        "pattern = r'simple|complex'\n",
        "\n",
        "matches = re.findall(pattern,s)\n",
        "print(matches)"
      ]
    },
    {
      "cell_type": "markdown",
      "metadata": {
        "id": "nxDRSBY4hhXc"
      },
      "source": [
        "### **Python regex alternation examples**\n",
        "* Let’s take more examples of using the regex alternation.\n",
        "\n",
        "#### **1) Use Python regex alternation for matching time in hh:mm format**\n",
        "* To match a time string in the hh:mm format, you can combine the \\d character set with the quantifiers {}:\n"
      ]
    },
    {
      "cell_type": "code",
      "execution_count": null,
      "metadata": {
        "id": "vhYQb2gehhXc",
        "outputId": "584d585a-a8b6-40ec-e9ae-6f2c7d195501"
      },
      "outputs": [
        {
          "data": {
            "text/plain": [
              "'\\\\d{2}:\\\\d{2}'"
            ]
          },
          "execution_count": 16,
          "metadata": {},
          "output_type": "execute_result"
        }
      ],
      "source": [
        "'\\d{2}:\\d{2}'"
      ]
    },
    {
      "cell_type": "markdown",
      "metadata": {
        "id": "0zdJUO9ahhXc"
      },
      "source": [
        "* In this pattern:\n",
        "\n",
        "    * **\\d{2}** matches two digits.\n",
        "    * **:** matches the colon character.\n",
        "    * **\\d{2}** matches two digits.\n",
        "* However, the rule \\d{2} also matches a number that is not a valid hour or minute, such as 99.\n",
        "\n",
        "* To fix this, you can use the regex alternation.\n",
        "\n",
        "* If the valid hour ranges from 01 to 23, you can use the following pattern to match the hour part:\n",
        "![image.png](data:image/png;base64,iVBORw0KGgoAAAANSUhEUgAAAJEAAAAmCAYAAADEF3nuAAAFR0lEQVR4nO2cX0hbVxzHPx17MzUsjoCsWGKV5qEBG1k2QVmdqBQNHYVAC23wIfRlD44KSh986oMYEOpDX0oeJK4oBErXTMqUTIYyO0c1kD6kVJopG4FQW6zJ8/ZwbzSJxib3nMSuPR/Iy+H8+d1zvufe7+/cS07Y7fZ/USgE+OS4A1D8/1EiUgijRKQQRolIIYwSkUIYJSKFMEpECmGUiBTCKBEphFEiUgijRKQQRolIIYwSkUIYJaIjuDI6ylL4e0aOO5D3nE9Lr9rFj+FeTueUbP40zLWA9JjKHLOJO/dv0PrqFzoGI2X2L9K2HI5j7kpnZNJPf2NOwcvy5qMMEWmkV+9x8fZGuc0MEuGaW7+Yzqs8vnn+kDobPInv0uqyM0KE8SpFZoTqzl3pjA8O6/Omb6oy25ctondS18VUXws1ewVbhIMhgofVbfYQams4uk4JzN7+nf5wLw4fUM3dfeBad1ibCzC2bbRDB35vDzYJ/bW7fAzazfmFyXk8CzGjwRVFroh0UWTi03hWU4CVW5ev4/Z6IE8k+mQl5wknG3DXiw4cIfayl/7Oq1wJzDAr2l0p1HUx1Wfj+dzE3iJ7u4dw9/m4ZWThs4LMWWiR/pZXAyyvFvbfQ6gb6UKSaKyt3HI0QHKegdWUXpZi7ME8CRr41mXdr3e5B1YmpF7M+MN10rVNfN15dL2RST9L4ezvBq21BgfcjjAQzF/c4FqUDGbOnrEWb1cEr7OFmnSUyZw5CS5Ms5Y243Q6DAaZH++vSeCklXbx3vKQJ6I6B2dNkPgrXxjtrq+wATWnHHrwKcYeTDD8QtrIGot/8vztSVq/6ypSoYk79/30f77OXfcwHe5hOtz3ePpWchyGcHCuHjJ/x1jOLW7+BqcJqLfjPabISkGeiCwWatjhzev9Im/3EIOnEoTjO2Cy0Fi8tQQ0g02j/fCU3NdLa+0uTyv5uLNYqAFSb1LvrJpHnRVrQbt2l49QG4RXtgAzX9QJxtbswV0PiVgkX6gSkG+sgaznscan8SykaHf5KjNMAVmDfWG0ifGCLGjEcRrervNksVKjO/DrScIzobus5iOdu/N4gjFt8Y12tZe4aGTi0/KfAFRCRBbNIKZWJhioQMBHoxts+5dcYaM6BhvYz6p2WJsznmXmbb7V4nczb/fQgWQkE5/O8aI6L0J49tZAE2fILpYJH4Y8Eb1+TYYGnG021nIyFoBGsxnSCV5KG6w44w/XuXBTM9izFbvr5KIlCjYgsWIwvd9OkQJsbT0kCjZf+2dmYId/cg38woQBEaQY+y3KVF8L55oBiRtcnifajvE8DST/KJjIIqaxUhQx2JuvdqHWkndqrPkkkcH0R48JEisiyUKMZ0kgHeVRXh9WOk6ZIRmXeueQjcQUP8VYbAvqe/A3Z8v0XZqOEjji9iyXDX5Y3DxgsGeXN0hzmgujTVpB51UeX7KQNpydyRKQRnAtSsbUgs+1fzzg7b6O07RFWMpRiAN/n3aM8EiyzZDriV6E8OAh1DZEqE0vS0eZfJCfERx8pjfg9g5pBlLGqWogzualAoO9OMPFMxaWLt1gKQywyc/u2zDpp9/IGNn0G7DlXi9g6KR5O8LAHEz1XSdkzxYa9y+H+abEykSOR5KHfGOdZ+YOx9gzvRyKGOzAXToKX4vsvTcqkxKus2y2IwwE5bwIrvwc7/PBfgqinWCfp786pwsfNRU6J3oPWJzh4uLMcUfxUVC2iEyurKc4nu+JDL8gfw+o7tyVzoHviV6V1/6E+n8ihSgfrCdSVA8lIoUwSkQKYZSIFMIoESmE+Q9bdACgSj0rOgAAAABJRU5ErkJggg==)\n",
        "\n",
        "* In this pattern:\n",
        "\n",
        "    * **[01]** matches a single digit 0 or 1\n",
        "    * **\\d** matches a single digit from 0 to 9\n",
        "    * **[01]\\d** matches 00, 01 to 19\n",
        "    * **2** matches the digit 2\n",
        "    * **[0-3]** matches a single digit from 0 to 3 including 0, 1, 2, 3\n",
        "    * **2[0-3]** matches two digits 20, 21, 22, and 23.\n",
        "* Therefore, the [01]\\d|2[0-3] matches two digits from 00 to 23\n",
        "\n",
        "* Because the valid minute ranges from 00 to 59, you can use the following pattern to match it:\n",
        "![image.png](data:image/png;base64,iVBORw0KGgoAAAANSUhEUgAAAFIAAAAqCAYAAAAgXQw3AAADqUlEQVRoge2aT0ibZxzHPx27aRXiCIQVXVxkOSywGpY2YEAnjcjy4ii8UKGGHsRrS4WIh548iAFHPfRSchi6ovCCdGSjzBLCsKydo1XIJcWgSxkIoTrU1/N2eI1Ga6Jv8uv+9flADvnleX958sn7Pt/3CTnn9Xr/RFEz7/3TE/i/oEQKoUQKoUQKoUQKoUQKoUQKoUQKoUQKoUQK8f7Zh3bzbbKHlpJK/rsY1xPic6qCs8zNw90HQ/hf/0joZspm/9OPtSHSwly6T+9Yzu5hb5kU17X9D9jVz6PbF08Yk+NZdhd/wMsIKSaEZ2Bb5Kk0dfPNl59Rd1B4RXLaYNp2IyejVwdor3/zlb3sDDeWCrY7zo39TCTZg28QEL6SZEW26RjBZvayM+hLBYoytKgOVckENhbQH2eEJpgis9ZDpKufa4lZ5oS6gmjYOBn1NcPGQsnZUmB8foF1mvki4JR7qxqYeLiM2eDhclflcSNTcRaTxccQ/obK4+VENvn4pB7Wfzt69nQELuEG6i746BB7sxpI/8rLnfP4v+ouM8DD3QdxIh8sc0+LEdJihLT7PN+p3Fbu0nY4qGObP7YOS9Erw2jnV0hm3WheB63AE7t9XWGMaPjgabXr4yGnhM5gD/6GXZ5/be/Slw8bAHzEo2Gc2Rn0xwU6AoNV9CgwPj95tNSmYwQHMBprWzeLodN5x8PEsTuQEV8L7CzzLG2vp7xIh5XahaeT3FgtN+jkRF5/Okms7DHAqkHyo2E0l5comerCCzgIHe/nXCMnEjpyIre22KOZ9qCbFz9MMr55+FJrYyOY66wdVE44287I2vY2uBr5sAnYPHV4WSYeLtN52wqdOZtn30nIhc1mhpcmsPHLEYng41MX7P2esb8+voGT0AXrS1msQSJQNnTyr3ehwXFkl2Stm5XbCd7+FBjPvAJXmHhbseZk9GoYt7lCoqaAsIheGaC9fpsXP6UEvpQct9J5aPUyUlKde5LDpIXOOx6r0NXPoz4H5t+W2gCrBjo6RnAYI7hfM1eYmq/mg1uB5S4tmStMTUtI3CeRJd93LHTSs/R+7GCxb4jFJECe77UxmIoTqdBKPmxWDfRKgXFmMsSmpXY05SgTOol7hI5vIW/GKu7P3/mf0aydzkUi1dyhlfCW7iP/Q6Rn6U3P1tzGtsj6QHHt+Hf/HllrqNvlnPrvjwzv/BophRIphBIphBIphBIphBIphBIphBIphBIphBIphBIphBIphBIpxF9HiDKei0M3KQAAAABJRU5ErkJggg==)\n",
        "\n",
        "* The following regular expression combines the two rules above to match the time in the hh:mm format:\n",
        "![image.png](data:image/png;base64,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)\n",
        "\n",
        "* However, this regular expression will not work as expected. For example:\n"
      ]
    },
    {
      "cell_type": "code",
      "execution_count": null,
      "metadata": {
        "id": "iTEIFojahhXc",
        "outputId": "75a8786d-8132-4bba-fbe3-b34f1c482148"
      },
      "outputs": [
        {
          "name": "stdout",
          "output_type": "stream",
          "text": [
            "09\n",
            "22:30\n"
          ]
        }
      ],
      "source": [
        "import re\n",
        "\n",
        "s = '09:30 30:61 22:30 25:99'\n",
        "pattern = r'[01]\\d|2[0-3]:[0-5]\\d'\n",
        "\n",
        "matches = re.finditer(pattern, s)\n",
        "for match in matches:\n",
        "    print(match.group())"
      ]
    },
    {
      "cell_type": "markdown",
      "metadata": {
        "id": "rHN0q3aOhhXf"
      },
      "source": [
        "* In this example, the regex engine treats pattern [01]\\d|2[0-3]:[0-5]\\d as two main parts separated by the alternation:\n",
        "![image.png](data:image/png;base64,iVBORw0KGgoAAAANSUhEUgAAALcAAABnCAYAAABCUNOwAAALi0lEQVR4nO2dX0ibWRqHn1n2TqtMHATZYlYbaS5GaJVmxkXZOqKhNMGlEFC2k+1F8MYLhwpKL7zyQhQc9KI3kotiKxUCZTppKVqy7qK0Mw5thexFpFYnMosQqoMar3cvvkTz/++ncc68D+TCk5PznXzn5/ne9z0n7/nEbDb/D0FQkD+UugOCcFqIuAVlEXELyiLiFpRFxC0oi4hbUBYRt6Asf8ytWgePvFaMMSXBp0Pcdp9Kn/K4pompuT6aPy7QNuDLs/1iPiv8FshR3Brh1RlujG6cVl8S8HHbHhFdey8v7l5NUWeDHwKHNFvMDONj/Ix6Jvw2yEvcWanq4MHNK5QdF2zjnfUwm6pugwNPS23mOjkwP/oKm9dKows41SeJ8FtDP5u7wYHn5hUIPMQxO4lj9iFvw7XYnQ6ccRUbmXAO4vlzAO+OHhf24d8EY3svPXo0JyiDTuKu5l5jLewscmc1FCkLMfZkkS1q+cpSfVLvVhe8nsTx0q/PpYHx794RrjDxZXvmesPTEyx7o68+mit064JwDtFH3FWNXC6HrZ/jBdtq+YI6oOxiI62AJvhJht7rctUTln5i/eACzX/rSFPBxNTcBLbP3nHfPkSbfYg2+wxvDnTuh3Cu0EfcBgNl7PPr3kmRs3OQgYtbeAP7UG6gXpcLpUNzLKk3M5zqbZeV5opD3rgfM3+q/RDOE6cQ59Zs6q/2H+J44mNT/wukZH70FUGMXB8xJb033GiEgw1+WDqjzgjnAn3FbejggVOzqU9s77NCcyzLzdfEsRQAvcS9t8cRlTS11LH+PN6mrq+shPDemczguTqWwu8DfcS962c9DOz8yNhu7BuNfF4DR7/4WdHlQllI41gGPx5ChSFutVOzw8+iU0Kp0MksCTHm34aaLiYaomVa2K8uvIb7zEyUDb5ZCiY5lvMrG4Rj7fH2Xl50GwhLtERp9FuhfO/BgQNPyyCelkhZeI3pJ764WdvZOYi9JvaDtdidg9gBdhaLj3+7AwS7rVwfMTEe3Sqw9Jgblwwsd/ex7AUI8sw+CtMT2Iq7mnCO0Xf5/b0HR5YY9uzLyYKX2nPDh3/Tis18jR42TkJ/7vu0JS7PDwzJfhSFUXLLq+ZYXsXmKnVPhFKi78x9Xlh6zI2lx6XuhVBi8hJ3uSVqs5ZmP/du2rqCkMwnkpRHUBUlbW5BABG3oDAibkFZRNyCsoi4BWURcQvKIuIWlEXELSiLiFtQFhG3oCwibkFZRNyCsoi4BWURcQvKIuIWlEXELShLgScrHPLm21G+iUlPNjw9gS0pIWCQZ/b78iNcoSRkn7ld/Sx7rVStzkSyow5xfxWa707wKPEHuAexWVQXCGLE5u1PnZxSEE6ZLOI2MdVuhM2FuONC5kdHebYJxu5MwvXxbPUQMGqnHgjCGZNZ3JGUY0F/8oFI4/4guQn3kI8fCu6fIBRMRnH31BiAIP5Uv3L/sEc404fbe/mH5YKkDhZKRtF5S6pqTEDEZKm4Sr/3Kv2R98KrM7Sd2elnghBP0aHA3Z0Y8R47lAsEgXKLVZxJoWRkFPf8zh5goCZVvutLBsrT2tM+bj/VbPJUJx0IwlmQeeZ2BwiS+iClrEdxuBd4cyCzt1A6spglkXBevTUupt0zMoKtPtsBSpFc2TJ7CyUiq0M5PzrKvKuf5e4JlrujpTmuPLoXeNPeR7PFyjAbslIpnCmSK1BQFtk4JSiLiFtQFhG3oCwibkFZRNyCsoi4BWURcQvKIuIWlEXELSiLiFtQFhG3oCwibkFZRNyCsoi4BWURcQvKIuIWlEXELSiLiFtQFhG3oCxFZ5yKo72XF3evUn5ckJzquHQkpmGG4NMhbieminP1s9zNKaVeNjE118flwExcYtG8+lcScumb9t2aPy7QNpCcWzIzaT5b5FjoK+4I52dQYvFx2x65cZF/wpREfrFvm+sl+PdMqSvyZ3i6j+aKIM8ypJgLr6YSfqnJ5d5t8EPgkGaLmWF8+kwMRY5FTuJutbgYMFeeFITXmH7iYyXPix1T1cGDm1coOy7YxjvrYTbvhqq5d+trmsrjS7deTzL0vtDObfDN3xd45LXSPx1iPu9ZKDXHuV6+LfaJ0MiEs4u647/3efvczdhu/i0ljWuUAsd3fvQVNq9Vy/yry+RW3FhkFXerxcXAxS2mZ6NfVru5A7eAQgTe4MDTUstR4CGO1RBRgdqdDshb4CHGnkwm97dlkAmKEbiP20/NLHdbeeTy6fAU6sBmuUB4daY4Ey06Kews4njpB8DZOYj9pot7BQq88IklFT78m1Zs7b30ZEzYlF+bhY5FVodyZdWNI07Efr4P7EN5HW1V+Xa0mnuNtbCzyJ3VUKQsxNiTRbao5StLdb4Npujvj2wB1Z8W2VYkHZyxvZeeDNWGpydY9o4wlSqfYoSekb9gJMi/ijQ3nE1XKAuvMR0RNsDsy4e8DVfS1NRYVNt6Mf7dO8IVJr7McD8get+irz6aKzJUznEsEjnbaElVI5fLYetnf1xxq+UL6oCyi420nmmHMqHZkGQcqA4a6wEucLk1Xco4E1+aL8BmoGhz5PMaOPrFH/+0bPirZpbVmHEW1b5OLP3E+kHq/JIaJqbmJrB9FnvEzAxvDjI1mstYJFOQuOsrK4F9/pvvY9BgoIx9ft07KXJ2DjJwcQtvYB/KDSSdGZUnzs4u6tjmn8dPhsKZX9kgzAU+u5Suhg//JsAh6ytpZuX2a1xOczpFXlRVUw2Efj35Xq0WF54W8L7eBir5U95PUoBa7M5BPNHXrY4iJ5iIEOvNqROguqw0V2TLM5lM9rFIJv9oSYMDew2wEyjSTtNs9+rAQxwvQ7RaCj84x9k5qPUJ0BwsnWzIpRC7dxMS7CcwPjCUeUaOpHpe1/XolIgjfbiIY9avjUkBraysullZjS2J+FNOA/VF2OFRx/L6iInxBFNMyw78Lv/TNnIYi0TyE3fEGSTB7ssbg+YYhV5Pcied05cUUYF0zs/sy8mTsqoOHtwcxBPjdKlFzKSQ9ulUaBTJz9BrM56WWj5vAIpwyP2bVmzma/SwoWs4NR9yF3dVBw9aaoFtvIWGAff2OKKWppY63j6fjPPu6ysrIbzFZrRg18ed2QIe5bs+3IE6BsxmnPh1igKcA3ZDhIC6li62EiaF1k8TzcTkKFLORMZIc8gLN+3Gv3vH9buajTxfokW83Gzu41m0yLDRrp/1MLDzY0LYKo2zVGraq6ki4WiUBLJGSz7s5W0rpsbPf3aA8Brfx82o1bRdrNTBTNRovVRHGfusfyjSZ0njWAY/HkKFIW61M3pqXkZyGItEsotbL2EDEGLMvw01XUw0RMuquXeri7rwGm4dnEAaHAyYKzkK/Lvowe5pNWU4GgVyipYs/cT6ARgb00UPcmf27RpH5VdwxYRMnZ1f01S+jVcPE+z43n1fYMw8lsjhAwmOpeYYxhxI0N7Li24D4YzRklzGIpmsZomzKWr3al51nONSyErWew8OHHhaBvG0FNEOkLxaB5pdPqnDLBYN4S1kWHjRbEtjfYZoiZ7L0rs+7jyHBze/xmOOFhY+6cQ74qA545M6CDuCO0CwO8GxXHrMjUsGlrv7WPaCdpDBKExPYEvbUC5jkUxWccc5a3rx3oOjYGclFj9Ds6fkNB6HrDLb/VmjJZxED2zTHYwXu5xfqC+SglMZ2zjSOJbu+7QlrjRmuo85jkUisuU1JR086jbC5iuddjSmPlvo94C2YnkVW8Hfu/CxEHEnYWJqzorx4B33ddo0BdrZQs82wdidealeOZYec8Ne6C7R4sbiVLa8Go8Phzrf+7lTmpYuq7Yt1a7vdleA8YEZaub6NOdzKbWNXm6J2qLnaetwjvdOb4ocCznwSVAWMUsEZRFxC8oi4haURcQtKIuIW1AWEbegLCJuQVlE3IKyiLgFZRFxC8oi4haURcQtKMv/AeS0hhFi4S2jAAAAAElFTkSuQmCC)\n",
        "* To fix it, you need to wrap the alternation inside parentheses to indicate that only that part is alternated, not the whole expression like this:<br />\n",
        "![image.png](data:image/png;base64,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)\n",
        "* Now, the program works as expected:\n"
      ]
    },
    {
      "cell_type": "code",
      "execution_count": null,
      "metadata": {
        "id": "UNtgjugHhhXf",
        "outputId": "a161e509-cfe6-4264-8f1f-474df711435b"
      },
      "outputs": [
        {
          "name": "stdout",
          "output_type": "stream",
          "text": [
            "09:30\n",
            "22:30\n"
          ]
        }
      ],
      "source": [
        "import re\n",
        "\n",
        "s = '09:30 30:61 22:30 25:99'\n",
        "pattern = r'([01]\\d|2[0-3]):[0-5]\\d'\n",
        "\n",
        "matches = re.finditer(pattern, s)\n",
        "for match in matches:\n",
        "    print(match.group())"
      ]
    },
    {
      "cell_type": "markdown",
      "metadata": {
        "id": "f2boYdoLhhXg"
      },
      "source": [
        "## **Python Regex Non-capturing Group**\n",
        "### **Introduction to the Python regex non-capturing group**\n",
        "* Regular expressions have two types of groups:\n",
        "\n",
        "    * Capturing groups\n",
        "    * Non-capturing groups\n",
        "* So far, you learned how to use a capturing group to extract information from a bigger match or rematch the previous matched group using a backreference.\n",
        "\n",
        "* To do that, you create a capturing group, you place a pattern (or a rule) inside the parentheses, for example:\n",
        "![image.png](data:image/png;base64,iVBORw0KGgoAAAANSUhEUgAAACsAAAAlCAYAAADbVxCwAAACWUlEQVRYhe2YP4jaUBzHP9f54nBI10BOOJcbilRKaaGSwUVw9cBRXBx0c3Jy8oaig4tkOVC8saJQHMTCLYdFbnCx4AUyFYo4GPd2iNrz1MR4hmuPfKaQvPfL9/3+vZcc+f3+3/wnvHpuAXZwxTqFK9YpXLFO4Yp1ipcq1kexdsnXnG/PVz11vg2x2VKSgEfjW36056tGZLoax8Ek1cR+FnYSG8vliEg6/c9lCo/u3zQ3eUum2rzkppki+/C2Uqbc0xGjOYohR8TKRIICs16dTHf1yXU+T0tlzVvZUhiR9cUZc+r0pwKBxAWxQ4uN5d4jsj38hXQbDRCjcy8mUkQkNi7OwEgHPG+I2EwHC7E+3vkFUIdrHvpLh3hDA0QipRTVqAjTO67MclsZGgs8lw8oNvSWMw9og465FaVMSwUk0Qi/UufadEKHgQp4X9tKBXOxpyccozO+tzZUGGjzqwk/N4Z/FW2sg+cE0XrokgNtCrIRfsBIB3vh3ZWDiDWqH7RGhf4UkMJ791IzzMXeT5gh4D01GTOvftQ2cWVERrljxoPusAXRK8B0gmYyxp7Y7nd+TM2qdhF+jVZ6XoTdOlc9HRD5tHVrlTmXgPEvi0K0I5YRt0MdJP8GL/ko1hbhX23+RuNf3yyWJPxG1/hi0WUecWT930Cm2gwjqm0+pu0Z34yPYi1JYGzf3g4F1qHV0w9WNLHcBQGPfa/Cjt1gcQbY9wCyJJEiFRTQGvktW7E5O7euQrpCfypw9uEJ59mQyKxXIa7sZ2GHnP13eKmfNc+PK9YpXLFO4Yp1ij9Uz9EBeQNBPQAAAABJRU5ErkJggg==)\n",
        "* This syntax captures whatever match X inside the match so that you can access it via the group() method of the Match object.\n",
        "\n",
        "* Sometimes, you may want to create a group but don’t want to capture it in the groups of the match. To do that, you can use a non-capturing group with the following syntax:\n",
        "![image.png](data:image/png;base64,iVBORw0KGgoAAAANSUhEUgAAADsAAAAnCAYAAACxMTBTAAAC8klEQVRoge2ZP2gaURzHPykd1aF16XRwEeLiEEJDCREqDhKwZFUS6CJZMiRkiJPTTWaQOLgUl0DCuQYFcRADdigp4pAlAXNwU6GYDureDqdtot7dM+Qf1/uMPt7vve/7fe/3fg/ngsHgb/4TXj33Bp4SV6xTccU6FVesU3HFOhVXrFNxxTqVGcQGODw5oJoJTIwkMhma5QOa5enjj0IkSbWc4TAiPkVYbDq/xZJP50zpTIyVFIXwp33CuTYsb9Esb5MW38P9aKicaV6W9sTXEhKbyGSIy31auQJZmw2s5doMkIjno4JbGGE4pzktW6ltwzljMbM7X2j1JOInSRICKwiIjRJf9jI4V9ltCERsqJxpgBycMbsddjdq6IxnK8rxugS9NoWd+uScYpuBb5HPAp+PrdhEZgWJ6fa9F5Ek1SlZMqizearDLWek8zEk+rSKKqVp8YaH61mO2R6ujdgAH4Je0C6t7XuHKCEZ0zmJ1QAeMM98sUBFA+QYx/lt4jK2rspeGAcUSlnvzFps5D0LPtAvxu0zSTp/MKzIMaSpljMofe0wAMsDzO7U0AFJNux7ZOeq4iU68PadtZVfW47Ov8FDn6tr67UA9G4f/B0KGyZ2G9FQWWuoNtHqXGgxJBno/rSOZ6xOtweSXwLMD+ZlNhUpw76AYWcbe4ryAsUOqy86lVybASCtP8y9bS32+hcDvPjn7QOVFIWwnYXBphqPqi/opwWyDZWj8z7Y3tsSfh8Murrl0tZiG9+56oEUsmsQLBqCMSyr8ci+Wo3NovFTSVFp9QB5xTx2KogE3PywLmQ2Nu7w7bJ/jwbBHNNqHElSHdn3TiUfNg4TzcY/0iGjaleK1mvP2f/9EeW4HEPSaoRNrpNnJZKkurfIzen+XzeYIVCg6lTO+w9aFR+OAIepRTwCWQXBalxSFCoaSOuzPakem9FLrCJSGJnh6jFeGF4WVp/ovWpHJMlHkZfYLQS+WefwApuKx8MV61RcsU7FFetU/gDvthy4m8GTvgAAAABJRU5ErkJggg==)\n",
        "\n",
        "#### **Python Regex no-capturing group example**\n",
        "* The following example illustrates how to use the capturing groups to capture the major and minor versions of Python in the string \"Python 3.10\"\n"
      ]
    },
    {
      "cell_type": "code",
      "execution_count": null,
      "metadata": {
        "id": "yS9vxWCOhhXh",
        "outputId": "07a17f0a-1f28-4baf-8fa6-100eee71719c"
      },
      "outputs": [
        {
          "name": "stdout",
          "output_type": "stream",
          "text": [
            "3.10\n",
            "3\n",
            "10\n"
          ]
        }
      ],
      "source": [
        "import re\n",
        "\n",
        "s = 'Python 3.10'\n",
        "pattern = '(\\d+)\\.(\\d+)'\n",
        "\n",
        "match = re.search(pattern, s)\n",
        "\n",
        "# show the whole match\n",
        "print(match.group())\n",
        "\n",
        "# show the groups\n",
        "for group in match.groups():\n",
        "    print(group)"
      ]
    },
    {
      "cell_type": "markdown",
      "metadata": {
        "id": "FdlkpASQhhXh"
      },
      "source": [
        "* The following pattern matches one or more digits followed by the literal string (.) and one or more digits:\n",
        "![image.png](data:image/png;base64,iVBORw0KGgoAAAANSUhEUgAAAIIAAAAoCAYAAAAyhCJ1AAAFCklEQVR4nO2bP0gjWRzHP3tcmaRww8FVA9nAprEIYcOyrGCwWA6yaJmwB9sEmxQrFptqqlRaiBY2kuZAMaVLBLGQCBE5lJAijUI2MNXBErdI0t8V87JqMn/eTEY97t4HUmQymbw3833f3/e9p88SicTfKP73/PTUDVD8O1BCUABKCAqBEoICUEJQCJQQFIASgkKghKAAlBAUAiUEBaCEoBAoISgAJQSFQAlBASghKARKCArAlxDibO6tc6TH7x3N6TqNWpGSn1YUijRqOpsZH9/N5Dly/e4Cu7XJNgdJTtdp7OXJ3T04db/W2S34aY31M3LCsxBKW8ukIgan5c6949WzDkM0Zn01fArq+5x2w6RWnUR4QrsLocSr+w8qKApFiukwRn2f6t3jlSsMwrx8+3ACtKbDSt0glF6WFpInIeR0nWxsQHNjm7XxD+v7nHZBm13wcslAWPu0Q7OvkR0fkXfPOWgxjMR57Wd0OpHJc7SoMbzY4ffK+IcnHF4MHk6ATlS22b4YoC3KOZIHISyQTYcZXuyzUrc+Y61tQOyNPyucig4rlRbDSJKPdnZYv+S6Hya1FKxQS0tJQv0Wf4w55IjqWYdhJEn2sZ0SqJb3afbDpAr2A2SEtBBy+hs0JkvCPSrHNPsSVijqX2P0WtTsz5Wts8KRQul3NiXCtEtiCX85xopMnvkYkyXBol3uTmnmmB/3ZDVJyOVc9wwg+iwhREkhxHmdCEP3arIkjP3wn1cDh4eB+WBXk9x8+czce/H6Ysg1w4W1tgFOOaVyhYHGfEChMfc2TgiD9kRJsGiXk1Nm8hzV3vH8Yuf2nmy0GAbRyMoVBu5ClBNC5hUvI2C0T1xPdQ6NcTYzGnSPLeppAIhOP//V7kEHGRplBweuodGtvEyH2Weivzj2WU4IL2YIMaD3VeLckRVmLOqSB0H5w6DXh1DUvtSYoTGImq0RjcCwJ+NmIjRaOuUCszEYXl3al5cpMXoDiMzgUID5+SF+eK1tkF00E3rVJljaE2dzb5lU5P7R1Oo6jVXxpnvM3CefYqpfcl1IkppdAB5KkJNUzzp8TCdNp/Thhjldp5gO3z+YXqZRG70xOHxvMZuT5EGEQOWYZmbZtMK6V7vrsPLh8+3bQpHG4gzNjbLtbMXz9esGjcUEJU583zjP1Pc5XUqS9SnAarl8xzEW2BWZ4reAyolcafj6nSFhoi9kL2sTGuvfuGG8hovcEAiSdu0aGs2VuYbjyp57GRrHOjRaX6e05DRr8IYWDUP/O053RU4I9Uuu+94Wi6rlc4yJ0CjC2h2BlLaWSTEIJiEXEmjAzV9uo8RloUdkGXDqsyl2T9NRy+n16Dq3AsnpOtloQPdEZBB63xwziOT00UenxUMfD40/VgHFfHm+t8NcJRh7K81q0G9xKFGDHRd6hPDBOdh6X1a3dspqucxhN2zmoNo6xeg5cx/OuZG9rBOFBBoDmgfO5eiZ/H9Dm3VJ8xLUAq/vDmTyHIn1CbmpqQilvSmCJ1DaWicb8xDUPLdzGuT76GGJ2bRTYu/kd8SEFQa9rDtJnM2COReXcQOT0UrjdEviawcthmhktyT76DS9DpicnicVcXcD8OQIJuYIGDzOKJfE86gMmkKRhth4CirFT41okyHpPJ63oc0a/xRbqzZk8szb7Yg+FmKn70l2GS0xZ2LWO6LWeHYExX8T9adqCkAJQSFQQlAASggKgRKCAoB/AJkhOxzrnoTcAAAAAElFTkSuQmCC)\n",
        "* It has two capturing groups. They capture the digits before and after the literal (.):\n",
        "![image.png](data:image/png;base64,iVBORw0KGgoAAAANSUhEUgAAACIAAAA6CAYAAADVwos0AAACGUlEQVRoge2YsWvbQBSHv5RuDggcMBiCwSnGHioIHVwChkKKvYQsAY0RGbJnMBTyFxgMHrpnKPJo8NCQxSGBQqG0QwhoUSjUwQQMhrgI5LkdGif20chX6UpVuG/T4yR9nN4J3m+pVCr9IAE8+dcCU7SIiBYR0SIiiRF5KrWqYNHZyM3Xgkveds/4qEhkKdqf1aRp18grlIn4aVzeez4sp1lTIBFDRD3RRFZes18ymHgfcBSJyDXr3cvfba2Tml4Pe1hfRoo0Ijcr2NU621mfi5MjGrfxRSL3iHPao49B8VkmvkUcEdVEFMlwuFMjz4BzRX0i1ayV8j4HJWOuNvHayWhW1fzvPaIeLSKiRUS0iIgWEdEiIlpERIuIaBERLSKSGBH52Rdm5t+QUVOckRlw7HQWDuuSO5LhcKdO5xWce/7jywoWna118NpYTgvLaXMR5Ni2LWwVInZ1l+JNG6t7xrcwWTMHwx5794PXiEa3R58cm+XwGVlKxDltzTz8EVZMisvQv3bnypXyS/JAatWkEldEinSaFD7fxw8lu1rnYLXPsUTM9ZdOjUnTrrPpL/qcD/zZqZEh/evUjD612Psqf5u6HRmPmWDwYiPP1UmLNzMSa4YBwTh0Z9SJ3LpcBcDws/B/MXmehcmNG5rHKuyREQ13ANkazcK0dhfoBJccLTh1UvnI74Kae8T0WYzLJdNpHdSIaBGRxIj8BE2Kov/lOIHIAAAAAElFTkSuQmCC)\n",
        "* Suppose you don’t want to capture the digits before the literal character (.), you can use a non-capturing group like this:\n"
      ]
    },
    {
      "cell_type": "code",
      "execution_count": null,
      "metadata": {
        "id": "8nRzVTJVhhXi",
        "outputId": "e9132c58-6322-4c3f-9d26-55bb59204c06"
      },
      "outputs": [
        {
          "name": "stdout",
          "output_type": "stream",
          "text": [
            "3.10\n",
            "10\n"
          ]
        }
      ],
      "source": [
        "import re\n",
        "\n",
        "s = 'Python 3.10'\n",
        "pattern = '(?:\\d+)\\.(\\d+)'\n",
        "\n",
        "match = re.search(pattern, s)\n",
        "\n",
        "# show the whole match\n",
        "print(match.group())\n",
        "\n",
        "# show the groups\n",
        "for group in match.groups():\n",
        "    print(group)"
      ]
    },
    {
      "cell_type": "markdown",
      "metadata": {
        "id": "vaCE6vw6hhXi"
      },
      "source": [
        "* In this example, we use the non-capturing group for the first group:\n",
        "![image.png](data:image/png;base64,iVBORw0KGgoAAAANSUhEUgAAAFEAAAAfCAYAAACf3SEqAAADVElEQVRoge2ZT0giURzHPy17TA8VC50GTMhLh5AioiDxIMFIezTqKF08FB30NCdPeZA8dAkvC4UeNxSigxi4xFKIhy4GJswpWKqDet89OPaHdObNOLHbMp+bznvOz+/7ve/v92ZGfD7fbxyG4tPfDuB/wBHRBhwRbcAR0QYcEW3AEdEGHBFtwBHRBhwRbcCCiF72j1OcKt43VyKKQqWQolLof93sPSqZoKXZiUyKyvE6ESuTozEqhRgJE1NMi5jIbOF3q5wnG2+u5ZNJlsNxltM1mN8yHcwzDX7W2+DxWZw/BNkzqi0J2cQimBIxoijInjbV9AF7egPLOVbTNTpIyBazKZ+8QEViJmpp+hA02Nk4Q3XPEhOM3YSIQeR5F53LHDtlgeHlHOdNhsimEtdNkAIWt+VQlNg8UcET4khgEYVFjCiLSPTfxpYIrHNa0Pe9ve81Om4vCwGj2J69uFJIIXuMxgrYTPaMaktsEQVF9LLgc0Gzrr+NXxFkxsPAOZElL6Ogn6nlK25aLvxfBwudyKSIzT9SDMe7fhyOU2wKB6mD5ssCiygmYmCOaTeo1yXDoYlMLyNCSK0aB9v95+R/NOiAwcIYFJjAOiseUE8MPNoi3RhdTEzpjxMTcWqMUdrc3xoPVe/b0KpxEI6zvJEjP2hgOcdqOM7yAJF79ArMSr+WasnLKCrXWeO4LFH+xQMwPqnfrn1+p9vbSInrZgjZN0eExuBFGUiQo0II6dV3LuRCCln71Lk8ZHUIr/8AInYLzMpu15vyIp3BK0pshp+zPaIomofaZwFi2/n2UcgbQGu49bZxD4Hq/MSAApO/ewTGmHxp/JpP2kLgC+PAw51+loqJWL7ipgXSjNEf1o5rBYV9o7ZEpDo/0WCnrL4dm62j8lLcIEe7s9BqG/6iCN0YjWuBYItj/zFMrDq/IFvvU2BKbKZrdDwhrSNY5D4d51vdjgh7bd2F4eFiRPyVqWbQzTPDivpeJDIp5IkaByJ2MSzRGJW1MarppKGIJo59JYqXbeGj0HvQPcHMIr/7/YMcrUlCWQimMrFLIpPSHkIYr9DHxMv+8RZ+xDPe9KOwve1Dqi0X00vDPC/8h4mG8LtViiYsw3QmOrzFeT1gA46INuCIaAN/AMgcSuZyBl81AAAAAElFTkSuQmCC)\n",
        "* To capture the minor version only, you can ignore the non-capturing group in the first place like this:"
      ]
    },
    {
      "cell_type": "code",
      "execution_count": null,
      "metadata": {
        "id": "oB1WXSskhhXj",
        "outputId": "204fcc33-eba7-4110-8995-da52fcbc7af9"
      },
      "outputs": [
        {
          "name": "stdout",
          "output_type": "stream",
          "text": [
            "3.10\n",
            "10\n"
          ]
        }
      ],
      "source": [
        "import re\n",
        "\n",
        "s = 'Python 3.10'\n",
        "pattern = '\\d+\\.(\\d+)'\n",
        "match = re.search(pattern, s)\n",
        "\n",
        "# show the whole match\n",
        "print(match.group())\n",
        "\n",
        "# show the groups\n",
        "for group in match.groups():\n",
        "    print(group)"
      ]
    },
    {
      "cell_type": "markdown",
      "metadata": {
        "id": "7-t_VSW1hhXj"
      },
      "source": [
        "* **So why do you use the non-capturing group anyway?** the reason for using the non-capturing group is to **save memory**, as the regex engine doesn’t need to store the groups in the **buffer**."
      ]
    },
    {
      "cell_type": "markdown",
      "metadata": {
        "id": "9iH9O3z6hhXk"
      },
      "source": [
        "## **Look Around**\n",
        "* This section explains the concepts of different types of look-around mechanisms.\n",
        "\n",
        "### **Python Regex Lookahead**\n",
        "#### **Introduction to the Python regex lookahead**\n",
        "* Sometimes, you want to match X but only if it is followed by Y. In this case, you can use the lookahead in regular expressions.\n",
        "\n",
        "* The syntax of the lookahead is as follows:\n",
        "![image.png](data:image/png;base64,iVBORw0KGgoAAAANSUhEUgAAAEIAAAAcCAYAAADV0GlvAAADZ0lEQVRYhe2YMWgTURjHf4pjkqEWodPBeWCWDiEYOrTg0SEIkTgmKHQ5utzQ0sFMmTI1Q0mHLOUWoSG3lgQkQ4kQEYmEDC4VYuCmgqhDkl2HXjS5e3dN9VoV7rcd9x7v3f99/+99392Kx+PfCeH2397Av0IohE0ohE0ohE0ohE0ohE0ohE0ohM01CLHJcaPMseZ+kysW6TTKdBplXhWV4JcWoel0GjqFS4YFLIRCpZZGGvVpGu63ZqnExpMXbBz0IbW90Ab/GKNFbySRqeXJ+QwTC6HpFyd3uOl4oVCplek0ilRU97TC4TbJmEXzWR3Tb3PtOo8P+kyQyLjWuAR7b14RVTh07m/A7rMWViyB7rOWWAijSrU7Bjk9t2CumCcZA+ukxG7bMUfN80gG66TK/iIf1K7zegjI8atFhVGlOYRIKu8+DE0nI8OkW3fs75TnJxbIaaFlwccaZqlObzSzoJpnKxWFYYvngrAvPE0Q8bBE0OzvtLCIknw6e8IKFVWCUZ+XpYF7ktGiNwJJFVvEJ0cM2DX6TIiS1HSOtQQRLJo7p4Kxm6zKMDl7728JwRyGZ4tF0BynNO2I/XnCWvoiWttethzw7mwMMYU1ga3v+K7XrvNyXUFPSUj4hL0WR2JM743gJBwUDstkZPth1Kc6K6ym08lKnnOtkxc/o9Es1VmrbZNU8+SMz2Sykme0TjHfDNhKJVi+Dzis7S/EzOQIY758Eo/JrSwB3zh35g3Rx3wZw/KAqiihGlU2FrbWgN22RSebYKs29onWGdqf+boHd1cUYP7QLrk+FSpagggAUZKa/xV040wTZyzKpNv6DYv9wjciprfEpHvE6+VtMnKCreJ7TFEyCoIrWGPK/geLjLzExwVs6Ye3ENNbws7CJi1WG2mkVJ6KOn99muff0FliRcXlPSdmqeSdUK9kjd9Avcdd4Ou5WzQPa0wtMaZnTL1s38WuawswzrCI8mD9srLZvyC7bnLrimeuEwpxUSEKChPbk85CC075MIRI/OG/lUPmUFiLR2H41l0MArcC+4ut5nm1l4DuEY+vK4f8CZpOJ7tE70BQFRNk02WXzMLS96+zyXFW8owGCLj73N85ojeKkty7ga5yYX51xFWfOiPgNtzu9JBY9WhubhwtvVBHHFyO+M8Jf9XZ/ACb/FF2xpENvwAAAABJRU5ErkJggg==)\n",
        "\n",
        "* This syntax means to search for X but matches only if it is followed by Y.\n",
        "\n",
        "* For example, suppose you have the following string:\n",
        "![image.png](data:image/png;base64,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)\n",
        "\n",
        "* And you want to match the number (4) that is followed by a space and the literal string feet, not the number 1. In this case, you can use the following pattern that contains a lookahead:\n",
        "![image.png](data:image/png;base64,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)\n",
        "\n",
        "* In this pattern:\n",
        "\n",
        "    * **\\d+** is the combination of the digit character set with the + quantifier that matches one or more digits.\n",
        "    * **?=** is the lookahead syntax\n",
        "    * **\\s*** is the combination of the whitespace character set and * quantifier that matches zero or more whitespaces.\n",
        "    * **feet** matches the literal string feet.\n",
        "* The following code uses the above pattern to match the number that is followed by zero or more spaces and the literal string feet:"
      ]
    },
    {
      "cell_type": "code",
      "execution_count": null,
      "metadata": {
        "id": "BddWU7nfhhXk",
        "outputId": "df2406f9-cb29-4cb1-d916-f5652bcbd8cf"
      },
      "outputs": [
        {
          "name": "stdout",
          "output_type": "stream",
          "text": [
            "4\n"
          ]
        }
      ],
      "source": [
        "import re\n",
        "\n",
        "s = '1 Python is about 4 feet long'\n",
        "pattern = '\\d+(?=\\s*feet)'\n",
        "\n",
        "matches = re.finditer(pattern,s)\n",
        "for match in matches:\n",
        "    print(match.group())"
      ]
    },
    {
      "cell_type": "markdown",
      "metadata": {
        "id": "CeVCe025hhXk"
      },
      "source": [
        "#### **Regex multiple lookaheads**\n",
        "* Regex allows you to have multiple lookaheads with the following syntax:\n",
        "![image.png](data:image/png;base64,iVBORw0KGgoAAAANSUhEUgAAAFMAAAAiCAYAAAAjzOVkAAAD6UlEQVRoge2aMWgiaRiGnz2u1Cmyy8FWA66wNilETsKxKcRCFiZ4pZKAzZDGIpIiVlNZxUJiYXPYLCjahhGChcyCy3EkiMU2G3CFqQ5C9gq1vyvGIdGM44yZkN1jntKZ+f1853u//x31RSQS+RcfT/jpuQv4P+GL6SG+mB7ii+khvpge4ovpIb6YHuKL6SG+mB7ii+khvpge4ovpIb6YHrKhmGHOmmUulPCDIxlFoa+W6avWx58VOU9fzVN8ouU3ErNYPSQm6HwsjR4ca5dK7O6dsFsZQvzwSYt3Tb3LYCIiNbNknmB512JmFAUpNGVQqXFqd6LW4n1lyAwRqZrcvEI75LytA4rVMn1V4SxhvjKisN9FF6LkLWtK0lDLlg1gOs7ObS7FTCLFg8wuWxQ0B6drLT6OgVBkbXcWq2X6bkWv1+iMIRDP3hNsjpxHCmFRa4+Dcx1CKRry8oI9DswGuN+9iSy5eBDGXd5buNHElZgZ5TdErO29Ocb8lUKgf+65vvr0qItOkNjv929EmLOECJMhH6xqrXcZTEBMWNhda/HhcgpClJwSNtaSowTQ6RzZ1+dCzDA7kSCMv9jbe4Ek2yFsrknSUA+JCVMGlRMO6s6ruaNH53K62GlyipgAutaibXnNiL++TEEIs7Pc0UC71GIwMTq+Uc0aa52vGWvAz45rTvzKWwF0bX33FKtGpwEwGVKzuqOJLBfHUQKTIbV9iw8t5+mnxZXvoZ/fid8utdhpHhJLZMnUb5DSIoy7tjen/WlELh7l1RvgwcgaUagPuTiOIoZYu5aJczHfbBFgyvXX9afqt1N4NbIWCe6EGnfZXWWdeo1dx506oqDp9NNRcs2pI0ui3fDtGF6+DgMWo0C74lqOEhNgdqs7quIZQvt8nnmNuRkJQWaXXRejyJqMYtgbVmxwFjjvTM8YUdg/mds8RV+N0NmzmEcubG5y+llHCm1x/emRG6S5e0+G1LQt8mmRmJwls3IGGzgX8+s/zBBXzJhF2qWS7ZsCRg7VbmioKSRV4XWltBhhXNl8AxK/8BL49vey8ObuPWVQb9HWQNwuI4Wi5JQr2p5EI+2K6wmI2+uyoBF1FsPyKnoc7P3BYBIkdly2yH1PR+ZdmABTbpf2ANPe9/OpEb8gEE/Z5mUXM3MeJxwEcHcYtu+MndworzBj3p+LbpDz5Of2Xsyn86C/HOaXeOHu7zFJGmoK0W4X/hGQ8/TTWwyWR8sjcbmbWwTkH44kjbT4sCs9wHU0apdKhiXTTmbi90aYs2YKcdWDxCPZKGeeHhmbxtt339n3leuQU8QEnc6qh4lH4nJm+tjh/2zhIb6YHvIf5fWH4dd7XVwAAAAASUVORK5CYII=)\n",
        "\n",
        "* In this syntax, the regex engine will perform the following steps:\n",
        "\n",
        "    * Find X\n",
        "    * Test if Y is immediately after X, skip if it isn’t.\n",
        "    * Test if Z is also immediately after Y; skip if it isn’t.\n",
        "* If both tests pass, the X is a match; otherwise, search for the next match.\n",
        "* So the **X(?=Y)(?=Z)** pattern matches X followed by Y and Z simultaneously.\n",
        "\n",
        "##### **Regex negative lookaheads**\n",
        "* Suppose you want to match only the number 1 in the following text but not the number 4:\n",
        "![image.png](data:image/png;base64,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)\n",
        "* To do that, you can use the negative lookahead syntax:\n",
        "![image.png](data:image/png;base64,iVBORw0KGgoAAAANSUhEUgAAAE0AAAAdCAYAAADvh+FHAAADW0lEQVRoge2YP0gbURzHP3bOZdBScDpIA83iEEJFikKDQxAUHRMUXA6XDIqDmTJlSgaJQxbJIijJKglIhpBCpJSUkMHFQhq4SSjqkGRvh8vZmFwud0+NtNxnvXv3fvd9v3/vN+Xz+X7jYIs3r23Av4gjmgCOaAI4ogngiCbAhERb5rSQ4lQZfhKOx6kWUlQLKS7iXtOv6O8afccWSpRqIUpMcPkERPOSPgshtxsUs8NP84kES2sHLB02YH7Hws90uP35RJOyJeptmdWzCGGB5dZFU6KaRxwtDzzwkj5LUS3ESQeHl8WOdgi4VYqbOfJm36/kWDls0EVmdWgPa7aN8tTY0aB9TfY2S6huP1G7e2FHtGyGTK0DntAj48LxCAE3qOcJ9ioDa4IRPntAPc+QtLJHJceXFuDxGXpb/uZ+pG3FFrjmI8MHp0RZ9UC3lhuwr8zWuQqekO1wtxWe+USOervPuGCE7XkJWiW2DEIvtuHHNSIsn5vkbgkVicBGv+d4SQdlaDc4STSHF2VL1NsgB+2Fqc2c1mQv26CLRECJcqr4caFS3C0bvLvMnAe619/Nw9JgDa1ra575iDLFXiQ8eI4S0qKgMio1NPl23QG3lwWD1DIK+4WgkuOk1gG3jOw2CT3Fh0yHH5cGJzyAlnNSVAtawcgYHsJ49EjQPGeZ03V5ZBQ8rLls0kXi7Xvr+whVT20jMKtk4dlp4J6bwTxngHrbgXaDzNoBS+MKhilN9ioquP1sn31CHhkFfVR+cQfMzJq3O/0IiOYlrfhxASARUMTKtjhjDkIvCm6Jbq0kEObjsS2aXi27tWOKLbRTHdOUTprklQoWU4MI9kTTq2WvGmkVy7jUa+3BNLMWEmw+kbAWltkMS2sW2xerBN8xA9zdWBfYhmh6WHaoZ/Uf7PU6Q6UeyF6jIvFhcZwXmjfH/egF48nXqD7Ci15cNm8ZlkXTOnuDJrGXQwabXihz1QKX7+OEc54dvCz4JGh9HW7MTZh60XF3MMLFvh9qx6wYNZevjRKluj5N/dDgNmPCy17Ye9ciw+vNq6P3cfa8DCYw5UjuHlNvSwT2xUcxz8/fyYtIIz2B0VBvooDM3DMm8CehhKxNXkbwsjntP8UZdwvgiCaAI5oAjmgCOKIJ8AfRGVVTjnKmZQAAAABJRU5ErkJggg==)\n",
        "* The **X(?!Y)** matches X only if it is followed by Y. It’s the **\\d+** not followed by the literal string feet:\n"
      ]
    },
    {
      "cell_type": "code",
      "execution_count": null,
      "metadata": {
        "id": "GSwlbc9FhhXl",
        "outputId": "0e68c762-0f1f-4aab-84db-43918e0cb998"
      },
      "outputs": [
        {
          "name": "stdout",
          "output_type": "stream",
          "text": [
            "1\n"
          ]
        }
      ],
      "source": [
        "import re\n",
        "\n",
        "s = '1 Python is about 4 feet long'\n",
        "pattern = '\\d+(?!\\s*feet)'\n",
        "\n",
        "matches = re.finditer(pattern,s)\n",
        "for match in matches:\n",
        "    print(match.group())"
      ]
    },
    {
      "cell_type": "markdown",
      "metadata": {
        "id": "mC6e6a90hhXl"
      },
      "source": [
        "### **Python Regex Lookbehind**\n",
        "#### **Introduction to the Python regex lookbehind**\n",
        "* In regular expressions, the lookbehind matches an element if there is another specific element before it. \n",
        "* The lookbehind has the following syntax:\n",
        "![image.png](data:image/png;base64,iVBORw0KGgoAAAANSUhEUgAAAFUAAAAlCAYAAAAz16WbAAAD+klEQVRoge2aMWgiWRjHf3tcqRbZ5WCrAVdYmxQiJ+HYFGIhgQleqSRgM6SxiKSI1VRWsZBY2Bw2CwZtwwjBQmbB5TgSxGKbDbjCVAshu4Vjf1eMsmpmnJldJ7t7zK90Zt5783/f//u+pz6JRqP/4rNRfvneC/g/4ovqAb6oHuCL6gG+qB7gi+oBvqge4IvqAb6oHuCL6gG+qB7gUtQI5xcVruTIgytZWaavVOgr5te/K1KBvlKg9EjTuRK1VDsiHtJ4Ux49uNYul9ndP2W3OoTE0aO+hC2NLoOJgHiRI/sI0zkWNSvLiGGdQbXO2bob1RZ71SFTBMRa6ttXaIZUWOuIUq1CX5E5T84/GVE86KKFYhRM15SiqVRMA2HuQDfucyhqCjERZHrdoqg6uF1t8WYMhKO20VqqVei7Fb9RpzOGQCK3INwMqYAYxmStPQ4vNQinaUqrA/Y4nAfCYjQnc+QTQRh32TNxpxWORM3KfyBgbvuvx8jPYhi0dz3XT58dd9EIEv9zcUMinCcFmAx5bbbWRpfBBISkSRpQW7y+1iEUIy9HjLGkGAE0Osfu1udA1Ag70SCM36+3/RIptsOseSZFUzkiHtIZVE85bDgeeIEenWt9OfKkNPEQaGqLtukzI/55r0Mows5qhAPtcovBxHBAs5Yzxrq0SXcm/Gp7R/J3XoZAU+13q1QzIg+AyZC62Q4nc1ydxAhMhtQPTF5eKtDPCJZzaJdfNqFdbrFzcUQ8mSPbuEPMCDDurt2k9tsR+USMZy+AB6lsRLEx5OokhhDGdiwr7EV9sUUAndsP9oNp9zo8G5mLBV8EG3fZtbJUo86u4xcZUVQ1+pkY+QvdmVXVOz6dwNPnEcAkRag33Eox4iGY3mtOF7LEIzb/s3y3aeZFKxRket11bdVVsrJhe7AohA6wj9SNMaJ4cDqzf5q+EqWzb5KvXNh/ztk7DTG8xe3bbyyk82o/GVJXtyhkBOJSjqxljjbHXtQPn5kiWOSgZdrlsv3kaos99Y6mkkZUZJ5Xy8utjyv7fwXJ33gKfPq4ugHzaq8zaLRoqyBsVxDDMfLyDe2NtlTqDbcTELbtekmjRVpuuq3ocbj/F4NJkPhJxaRv9I7sqwgBdO5XasTc9ov9rdG2QSCRdnU6dJBTZ22Ig0beHUY66IydbNimmLeHfy+7QypQmNl+ub+dHRhWDwU2PHH2Z4oUTSWNsK5q/wxIBfqZLQarKWfDOKz+Jo32T0eKZkZ4GKUe4LilapfLhlUzTnLmj0aE84s0gtWBZMO46lPPjo3i8vLVD/Z9qR1SmnhIo2N1KNkwDnOqjxv8n1M8wBfVA3xRPcAX1QN8UT3AF9UDfFE94D9xqofnilNkIwAAAABJRU5ErkJggg==)\n",
        "\n",
        "* In this syntax, the pattern will match X if there is Y before it.\n",
        "\n",
        "* For example, suppose you have the following string and want to match the number 500 not the number 1:\n",
        "![image.png](data:image/png;base64,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)\n",
        "* To do that, you can use the following regular expression with a lookahead like this:\n",
        "![image.png](data:image/png;base64,iVBORw0KGgoAAAANSUhEUgAAAHAAAAAfCAYAAAA/QknEAAAE5UlEQVRoge2aP0gbbRzHP315R5NBwwtOB2mgWRxCqBRpwJAhFE7iGFHoElwyVBzMdFMmM4gZXMTRYsaWEyRDSOGKFCU4uCikgZsKYjsk2d93eJJazf15Lua1PbjPlHDPPffn+/v+fr/nSZ7F4/F/CfAtf/3uGwh4HIGAPicQ0OcEAvqcQECfEwjocwIBfY5HAWPsvq9wosVGjuQ1DUOvYOjWxyePuBejmvF0Vl7TMN6vkLc6WChi6EVKjjNkOBz3GdMrnOgVDgveT7XDk4Cl6jrJsMmncnvkWK1cJrW0RWrnAubXJV7EY2nz5aoH0bin6yiRENzeULM6eFCn1VVQ7QQGoMFlB6biLx3GPB3SAuY1DTXao7Wzx7bTwOYRb3Yu6KOgenSHV2rlU0wU5lwjWrjG0CuoUSCaxbB0QpuN1TpmOEHR4d63P1zQD8d4lX7c/U8CSQEzqPMh+mdHbDQlhjeP+NRByh2lqvc0eIdwg5J2cEx6hRM9i9Kpk1qqYwLmxy1SS1usHVjPufbRhGjWPtU1z7nuhkgu/78BKoOUgHltAQXr1Dk+ooapUTAvG2PP4uaG/OsYU/RofRheo8ftV5dJD+q0uk6B0WajaUoE6J3zDb2CsZlgynbseDVdQsAYr+Ih6Fw5p857ZJiL4nBOhkN9nWS4R2vHzgmSSLkhROQ5kP6HGalJB/XVKU0eXGGisGjXzAycP3O2L3qDQX/Ql7q+PH+7jki/5EUYzKa7S0rVQY0B6F6w987inPQKJ5sJproX7K0ejTYThSJGTrG9hvnxoeDiZSfn45RojARMrXyKqmdRchUMMQPfJMpA7XObt/MJIbzl+AaXnSxq/CV52iPPUVoePONEs9Yo7gI+n2aKHtduaQcwb3sQaVsLA3fidOqkrMQFONgj5dGRQ5EWtRjbIy+swdpSg7ymUZwPAQqqXmFuJBAe0Lzh+ybMzMYAaxG2P1ywuJlALRxRuzeXyED9s3Pr9zBB3AWcGDF20/bOehzObgCxzFGqFVRMzKgiHDnnEEgyNM+5LiRIzmWAMeaxyjbhLIaeHXzp0dopOzaOTyhgm43VrUEKzWLocY6XLJYknlOoQLhB1Kya5QPHmI1A/6rO2rv2IN0vsJtuyHXWds/UNDFy1unblXvZJsbu+3WSt96Cyl3Arz/oozjUgjtq5bJ7ymge8aZ5w6GeRdU1Zh9G2BgpVMw7cMNyBhzq9fdvIh2atz2I2g772fAMx9tycIWZe5i+TW67oEQUfk2/pWXRhX6XeR5J3LvQ5jnXXVDm3NrbQRusa+y6LnAbrC3t0+qGSG5OamvJrbVXiIQHH9MrvJ0PQefU1n3D5YfrkoMGx2e9Bzszw12ihZ/vIq9pqJHexLtQiWXEeFtWMvNurG5x3JEJDkksWvtSdbgOy6KAqH2bCTjbd0hVw6WTvcC/Uvvcph9OoP4SiLVymeOOCFBDr1CMnJJaPZ2o+wCeyf2pKcPhcDfjMUX/CShVK6gRiyVKoYiRw7ruPqRQxMhNuzYQd4xXvyaB5FaaSBOO20t/CGJn5r4bAPKz09D9gek6Q4bDnCLtPsEwfS9IlI/JIulAgejc3Ftb/zJwEjabDH8gnn5O2n4nGo8Xr5/i977fQCFLMmxy7BPxwKMDA/48gr9U+JxAQJ8TCOhzAgF9TiCgz/kPJBMX8FIB3hkAAAAASUVORK5CYII=)\n",
        "\n",
        "* In this pattern:\n",
        "![image.png](data:image/png;base64,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)\n"
      ]
    },
    {
      "cell_type": "code",
      "execution_count": null,
      "metadata": {
        "id": "IAoeZhQ6hhXl",
        "outputId": "55322d80-c143-4225-d86e-282cb96dd69e"
      },
      "outputs": [
        {
          "name": "stdout",
          "output_type": "stream",
          "text": [
            "500\n"
          ]
        }
      ],
      "source": [
        "#The following example uses a regular expression with a lookbehind to match a number that has the $ sign before it:\n",
        "import re\n",
        "\n",
        "s = '1 phone costs $500'\n",
        "pattern = '(?<=\\$)\\d+'\n",
        "\n",
        "matches = re.finditer(pattern, s)\n",
        "for match in matches:\n",
        "    print(match.group())\n"
      ]
    },
    {
      "cell_type": "markdown",
      "metadata": {
        "id": "_uxHMiP3hhXm"
      },
      "source": [
        "#### **Negative lookbehind**\n",
        "* The negative lookbehind has the following syntax:\n",
        "![image.png](data:image/png;base64,iVBORw0KGgoAAAANSUhEUgAAAE8AAAAeCAYAAABt5kPUAAADuUlEQVRoge2ZP4gaWRzHP7nasUiOg6sGjBCbFItEwhELsZAFZa9UdiHNsI3FSordaiqrtZC1sDlsAi7aLgphCpmAIRx7iEWaBIww1ULYbDHa3xXjcLr75o87k7sE5lOJz/f4+X2/P9/RB6lU6m8i7sVP/3cAPzKReAGIxAtAJF4AIvECEIkXgEi8AETiBSASLwA+xEtydt7gjZq8s1JWVcaDBuOBeP0+2Gd2lYAHKVXGgyonoUQlxlO8k9Yh6bjB2/rszlq/XidbOibbnELmMMRgF1x/DnhER2NiyhTPK5RDiekuruKVVZViYsGk2ebU7YN6j93mlCUyxVY+3AhtlKprhp+0GowHKmc5+50ZtX0NI75DVRhTnu6gIbxwO/u9qslFvDzFjMTyskdNdz3DQu/xdg4kUp7Zd9JqMHYQuX91I97UaTOcQyxTWRNohVKlmEAQ64iDCwMSBUEbGHFgX/h6duYqvMxIMNfYFVTbOo7ildXfkBGX6/2x+mcxAcaH0da7T480DCTSv68Ln+QsJ4M55bUo1o7GxAQ5JyhfvcfrywXEd3ipJq2zlB1iGAyPvONzEC/J85QE84/u5bpBnqcJXPbk6Q4OSccXTJrHHHR8H7zGiOHlYjOTlALpOBh6j75wz4w/Py4gnuT57YwF+vUeE9PK6G6rYp114dGmVojFyz3jSdxfdli9psF4UEA2p7RFN5ar8MZeL9X9tQEH7C9rZVKe7p4Mc831MvrvZiyR+PmxaHVGrTNliYSckDzPWkcs3uOHxHxOPON6AeaUdumY7L7g9pUq41c7xOaaeH1rZtR0wyq1c6u1eJaY/oWvwKNfHQaA/hefTOvl8trwHck3NsmrfrQ1N1y5Zac9POISy0tti9Yipqxa5QoOA8mBbyzejNq+5QOXiUKopvX0gwEs+PQu4ECzp6s5pX1hABJpxZ83FIv3+calR2zSr9e9y1HvsVvSMJApbngxAZ022ZK/hu2b3C88Ar5e3Rbanq4LJp0e/VVG/zt93RGLt+oB8lMvw2tZj7GXIACMOCj9wcSUSL9yfvyyB1Dgx7M1yi+Swh5ul+u6P7TsEMQyBc8qcSjb1Xj3YXi3wyrj4dzPxYSFbbveb055pUp1Va6b/nBlrG+bZwEPnP96zNMdFJDnGlkfhvG7Raky3nvIpBnMIolwGRgCQ/rDYfvA96ELBx7Ttl+vWyW256enfW8kOTt3Me4h4GlVTo+sJv/kRTi/1/1nKAXScYNhKMZcjEvPi/Ai+hk+AJF4AfgHhjiJs0lMtxoAAAAASUVORK5CYII=)\n",
        "* This pattern matches X if there is no Y before it."
      ]
    },
    {
      "cell_type": "code",
      "execution_count": null,
      "metadata": {
        "id": "AwJJN4x5hhXm",
        "outputId": "36a1adcf-2545-4508-f165-42618aed38f1"
      },
      "outputs": [
        {
          "name": "stdout",
          "output_type": "stream",
          "text": [
            "1\n"
          ]
        }
      ],
      "source": [
        "#The following example uses a negative lookbehind to match a number that doesn’t have the $ sign before it:\n",
        "import re\n",
        "\n",
        "s = '1 phone costs $500'\n",
        "pattern = r'\\b(?<!\\$)\\d+\\b'\n",
        "\n",
        "matches = re.finditer(pattern, s)\n",
        "for match in matches:\n",
        "    print(match.group())\n"
      ]
    },
    {
      "cell_type": "markdown",
      "metadata": {
        "id": "sjvh8Q79hhXn"
      },
      "source": [
        "* In the regular expression:\n",
        "![image.png](data:image/png;base64,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)"
      ]
    },
    {
      "cell_type": "markdown",
      "metadata": {
        "id": "wGFxA-hhhhXn"
      },
      "source": [
        "## **Python regex functions**\n",
        "* This section discusses the regular expression functions in the re module in detail and the regex flags.\n",
        "### **Python Regex findall()**\n",
        "#### **Introduction to the Python regex findall() function**\n",
        "* The **findall()** is a built-in function in the re module that handles regular expressions. The **findall()** function has the following syntax:\n",
        "![image.png](data:image/png;base64,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)\n",
        "\n",
        "* In this syntax:\n",
        "\n",
        "    * **pattern** is a regular expression that you want to match.\n",
        "    * **string** is the input string\n",
        "    * **flags** is one or more regular expression flags that modify the standard behavior of the pattern.\n",
        "* The findall() function scans the string from left to right and finds all the matches of the pattern in the string.\n",
        "\n",
        "* The result of the findall() function depends on the pattern:\n",
        "\n",
        "    * If the pattern has **no** capturing groups, the findall() function returns a **list of strings** that match the whole pattern.\n",
        "    * If the pattern has **one** capturing group, the findall() function returns a list of strings that match the group.\n",
        "    * If the pattern has **multiple** capturing groups, the findall() function returns the tuples of strings that match the groups.\n",
        "    * It’s important to note that the non-capturing groups do not affect the form of the return result.\n",
        "\n",
        "#### **Python regex findall() function examples**\n",
        "* Let’s take some examples of using the findall() function.\n",
        "\n",
        "1) Using the Python regex findall() to get a list of matched strings\n",
        "The following example uses the findall() function to get a list of color names that start with the literal string bl:"
      ]
    },
    {
      "cell_type": "code",
      "execution_count": null,
      "metadata": {
        "id": "ZPYyMDmyhhXo",
        "outputId": "7cfd36e3-935d-4bf8-e307-b4aebc5671f1"
      },
      "outputs": [
        {
          "name": "stdout",
          "output_type": "stream",
          "text": [
            "['black', 'blue']\n"
          ]
        }
      ],
      "source": [
        "import re\n",
        "\n",
        "s = \"black, blue and brown\"\n",
        "pattern = r'bl\\w+'\n",
        "matches = re.findall(pattern,s)\n",
        "\n",
        "print(matches)"
      ]
    },
    {
      "cell_type": "markdown",
      "metadata": {
        "id": "3wPZ_pHzhhXo"
      },
      "source": [
        "* The following pattern matches a literal string bl followed by one or more word characters specified by the **\\w+** rule:\n",
        "![image.png](data:image/png;base64,iVBORw0KGgoAAAANSUhEUgAAAFQAAAAaCAYAAAApOXvdAAACiUlEQVRoge2ZsWrjQBCGvxFXq3AgSalGILgyXEgTrrIb4UfQExiDIWXgioMrDwzGT6BHONzE1XUhIVUwGNSIVL6AVegBvFdIOieObMvK2o4PfY2t3Vlp9e/M7KwtjuMoKrRh7HsC/xuVoJqpBNVMJahmKkE1UwmqmUpQzVSCauZTUcNOb4aFMGgLw4W++tUMtyb0r4Vg1U0aim7zxTkiNOj8fGvm/ZhxFuX37YL61QzXgvCXQfdms7G79dAbodM26LQNHuLlZrdjAUtR393MtFFY0GkMxBBucTIZgS+EKD43dvCwHMJnAYTp0+ZjP2wOHYVgfVXY+57IhhTOof61gb/OyFF8bynM9LJMDsoYDoTLFlw4EIzznxMtub/tKVrnvMn3y9oXCXyhs/Zl89HqoV4Lgn6SI/t3gtVUeE7Jm42FIFacufl9EVA7WTF+R+lpEX2CmhD0BT/1piwP5gpSkFWb0/TlptZQdHvzxbOOFURrKo4toU/QGG4XQnMaA7XyeTBblEvvbd8kAvM4+W6fACjsL8n1aa3kAzVQOIeWYRIB73y5UQiuo7B57XHhs0DafuHAw51wdjzvj5+Tz6R+fo3bU2SBE98ZfCuZL/PYqqCnNd4deis3JxMs4AgY3IPdUtQRjkyI/iQm3fY8CItuSu9he2WTo7DNuaeUZsnmFKSC0VBYkRCkdkntWq6G1MHWBPU8hRkLvoZw8n/nbE5PEKNwm4rwMWm6HQtWMwnxyaI37wgtIT98FNymotVbfU7Pzsj/MGd0e6n5qpr1RgibMy49YZgt0FiIUJgIo3RccA/xOZh7KpkA5FD+9Sz8A8ye+bBHz0WGAyE2Fe6ezvdFORgPPRQOxkMPhb+jY+g/0GCL8QAAAABJRU5ErkJggg==)\n",
        "* Therefore, the findall() function returns a list of strings that match the whole pattern.\n",
        "\n",
        "2) Using the findall() function with a pattern that has a single group\n",
        "* The following example uses the findall() function to get a list of strings that match a group:\n"
      ]
    },
    {
      "cell_type": "code",
      "execution_count": null,
      "metadata": {
        "id": "IKnJm8C-hhXo",
        "outputId": "ff78cefa-4e1b-497c-933b-ef06c92742fd"
      },
      "outputs": [
        {
          "name": "stdout",
          "output_type": "stream",
          "text": [
            "['ack', 'ue']\n"
          ]
        }
      ],
      "source": [
        "import re\n",
        "\n",
        "s = \"black, blue and brown\"\n",
        "pattern = r'bl(\\w+)'\n",
        "matches = re.findall(pattern,s)\n",
        "\n",
        "print(matches)"
      ]
    },
    {
      "cell_type": "markdown",
      "metadata": {
        "id": "bwreyrZ6hhXo"
      },
      "source": [
        "* This example uses the regular expression **r'bl(\\w+)'** that has one capturing group **(\\w+)**. Therefore, the findall() function returns a list of strings that match the group.\n",
        "* 3) Using the findall() function with a pattern that has multiple groups\n",
        "    * The following example uses the findall() functions to get tuples of strings that match the groups in the pattern:"
      ]
    },
    {
      "cell_type": "code",
      "execution_count": null,
      "metadata": {
        "id": "usmRRZj0hhXp",
        "outputId": "444abfe6-6dab-458e-e095-5c9524acb649"
      },
      "outputs": [
        {
          "name": "stdout",
          "output_type": "stream",
          "text": [
            "[('black', 'ack'), ('blue', 'ue')]\n"
          ]
        }
      ],
      "source": [
        "import re\n",
        "\n",
        "s = \"black, blue and brown\"\n",
        "pattern = r'(bl(\\w+))'\n",
        "matches = re.findall(pattern,s)\n",
        "\n",
        "print(matches)"
      ]
    },
    {
      "cell_type": "markdown",
      "metadata": {
        "id": "ME6qe5behhXp"
      },
      "source": [
        "![image.png](data:image/png;base64,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)\n",
        "\n",
        "4) Using the findall() function with a regular expression flag\n",
        "    * The following example uses the findall() function with the re.IGNORECASE flag:"
      ]
    },
    {
      "cell_type": "code",
      "execution_count": null,
      "metadata": {
        "id": "FCbavjpMhhXp",
        "outputId": "27b9bb68-47b8-499c-923f-544f442af5db"
      },
      "outputs": [
        {
          "name": "stdout",
          "output_type": "stream",
          "text": [
            "[('Black', 'ack'), ('blue', 'ue')]\n"
          ]
        }
      ],
      "source": [
        "import re\n",
        "\n",
        "s = \"Black, blue and brown\"\n",
        "pattern = r'(bl(\\w+))'\n",
        "matches = re.findall(pattern, s, re.IGNORECASE)\n",
        "\n",
        "print(matches)"
      ]
    },
    {
      "cell_type": "markdown",
      "metadata": {
        "id": "pk1p33mqhhXp"
      },
      "source": [
        "* In this example, we use the **re.IGNORECASE** flag in the findall() function that ignores the character cases of the matched strings. Therefore, the output includes both Black and blue.\n",
        "\n",
        "### **Python Regex fullmatch()**\n",
        "#### **Introduction to the Python regex fullmatch function**\n",
        "* The fullmatch() function returns a Match object if the whole string matches the search pattern of a regular expression, or None otherwise.\n",
        "\n",
        "* The syntax of the fullmatch() function is as follows:\n",
        "![image.png](data:image/png;base64,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)\n",
        "\n",
        "#### **Python regex fullmatch function example**\n",
        "* The following example uses the fullmatch() function to validate an email address:\n"
      ]
    },
    {
      "cell_type": "code",
      "execution_count": null,
      "metadata": {
        "id": "lHxnKkl0hhXq",
        "outputId": "a37e6a5b-508e-4596-c71e-0664113e8d29"
      },
      "outputs": [
        {
          "name": "stdout",
          "output_type": "stream",
          "text": [
            "The email \"no-reply@pythontutorial.net\" is valid\n"
          ]
        }
      ],
      "source": [
        "import re\n",
        "\n",
        "email = 'no-reply@pythontutorial.net'\n",
        "pattern = r'[A-Za-z0-9._%+-]+@[A-Za-z0-9.-]+\\.[A-Z|a-z]{2,}'\n",
        "match = re.fullmatch(pattern, email)\n",
        "\n",
        "if match is not None:\n",
        "    print(f'The email \"{match.group()}\" is valid')    \n",
        "else:\n",
        "    print(f'The email \"{email}\"\" is not valid')"
      ]
    },
    {
      "cell_type": "markdown",
      "metadata": {
        "id": "y62vGmTjhhXq"
      },
      "source": [
        "* The following defines a function that uses the fullmatch() function to validate an email address. It returns True if the email is valid or raises a ValueError exception otherwise:"
      ]
    },
    {
      "cell_type": "code",
      "execution_count": null,
      "metadata": {
        "id": "NltEkWWJhhXq"
      },
      "outputs": [],
      "source": [
        "import re\n",
        "\n",
        "def is_email(s: str) -> bool:\n",
        "    pattern = r'[A-Za-z0-9._%+-]+@[A-Za-z0-9.-]+\\.[A-Z|a-z]{2,}'\n",
        "    if re.fullmatch(pattern, s) is None:\n",
        "        raise ValueError(f'The {s} is not a valid email address')\n",
        "\n",
        "    return True"
      ]
    },
    {
      "cell_type": "markdown",
      "metadata": {
        "id": "sLdULoM_hhXq"
      },
      "source": [
        "* And you can use the is_email() function to validate an email like this:"
      ]
    },
    {
      "cell_type": "code",
      "execution_count": null,
      "metadata": {
        "id": "jXhQNpvihhXr",
        "outputId": "6545cac9-aea4-4271-90ae-2959f422fd35"
      },
      "outputs": [
        {
          "name": "stdout",
          "output_type": "stream",
          "text": [
            "The no-reply@pythontutorial is not a valid email address\n"
          ]
        }
      ],
      "source": [
        "if __name__ == '__main__':\n",
        "    try:\n",
        "       if is_email('no-reply@pythontutorial'):\n",
        "           print('The email is valid')\n",
        "    except ValueError as e:\n",
        "        print(e)"
      ]
    },
    {
      "cell_type": "markdown",
      "metadata": {
        "id": "PxbXI72AhhXr"
      },
      "source": [
        "#### **Python regex fullmatch vs match**\n",
        "* Both fullmatch() and match() functions return a Match object if they find a match.\n",
        "\n",
        "* The fullmatch() function matches the whole string with a pattern while the match() function only finds a match at the beginning of the string. See the following example:\n"
      ]
    },
    {
      "cell_type": "code",
      "execution_count": null,
      "metadata": {
        "id": "1URuGGpPhhXr",
        "outputId": "a7a0d0f8-74e7-4e59-d0ef-bb7df8e625d4"
      },
      "outputs": [
        {
          "name": "stdout",
          "output_type": "stream",
          "text": [
            "match: Python\n"
          ]
        }
      ],
      "source": [
        "import re\n",
        "\n",
        "s = 'Python 3'\n",
        "pattern = 'Python'\n",
        "\n",
        "# fullmatch\n",
        "match = re.fullmatch(pattern, s)\n",
        "if match is not None:\n",
        "    print('fullmatch:', match.group())\n",
        "\n",
        "# search\n",
        "match = re.match(pattern, s)\n",
        "if match is not None:\n",
        "    print('match:', match.group())"
      ]
    },
    {
      "cell_type": "markdown",
      "metadata": {
        "id": "VNy9GUGbhhXr"
      },
      "source": [
        "* In this example, the fullmatch() returns None because the pattern Python only matches the beginning of the string, not the whole string.\n",
        "\n",
        "* On the other hand, the match() function matches the pattern at the beginning of the string and returns the match.\n",
        "\n",
        "#### **Python fullmatch vs. search**\n",
        "* Both fullmatch() and search() functions return a Match object if they find a match of a pattern in a string. \n",
        "* However, the fullmatch() matches the whole string while the search() matches anywhere in the string.\n"
      ]
    },
    {
      "cell_type": "code",
      "execution_count": null,
      "metadata": {
        "id": "WO0JWVAYhhXs",
        "outputId": "05164971-088d-41f4-fde6-8a7209a0ee6e"
      },
      "outputs": [
        {
          "name": "stdout",
          "output_type": "stream",
          "text": [
            "3\n"
          ]
        }
      ],
      "source": [
        "import re\n",
        "\n",
        "s = 'Python 3'\n",
        "pattern = '\\d'\n",
        "\n",
        "# fullmatch\n",
        "match = re.fullmatch(pattern,s)\n",
        "if match is not None:\n",
        "    print(match.group()) \n",
        "\n",
        "# search\n",
        "match = re.search(pattern,s)\n",
        "if match is not None:\n",
        "    print(match.group()) # 3"
      ]
    },
    {
      "cell_type": "markdown",
      "metadata": {
        "id": "UxrSaERPhhXs"
      },
      "source": [
        "* In this example, the pattern \\d matches a single digit. The fullmatch() function returns None because the whole string 'Python 3' doesn’t match.\n",
        "\n",
        "* However, the search() function returns a match because it could find the digit 3 at the end of the string.\n",
        "\n",
        "### **Python Regex finditer()**\n",
        "#### **Introduction to the Python regex finditer function**\n",
        "* The finditer() function matches a pattern in a string and returns an iterator that yields the Match objects of all non-overlapping matches.\n",
        "\n",
        "* The following shows the syntax of the finditer() function:\n",
        "![image.png](data:image/png;base64,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)\n",
        "\n",
        "* In this syntax:\n",
        "\n",
        "    * **pattern** is regular expression that you want to search for in the string.\n",
        "    * **string** is the input string.\n",
        "    * **flags** parameter is optional and defaults to zero. The flags parameter accepts one or more regex flags. The flags parameter changes how the regex engine matches the pattern.\n",
        "* If the search is successful, the finditer() function returns an iterator yielding the Match objects. Otherwise, the finditer() also returns an iterator that will yield no Match object.\n",
        "\n",
        "#### **Python regex finditer example**\n",
        "* The following example uses the finditer() function to search for all vowels in a string:\n"
      ]
    },
    {
      "cell_type": "code",
      "execution_count": null,
      "metadata": {
        "id": "zDuN4rZUhhXs",
        "outputId": "cb298f93-b770-4022-a36c-a74a196241f9"
      },
      "outputs": [
        {
          "name": "stdout",
          "output_type": "stream",
          "text": [
            "<re.Match object; span=(1, 2), match='e'>\n",
            "<re.Match object; span=(2, 3), match='a'>\n",
            "<re.Match object; span=(4, 5), match='a'>\n",
            "<re.Match object; span=(6, 7), match='i'>\n",
            "<re.Match object; span=(8, 9), match='i'>\n",
            "<re.Match object; span=(13, 14), match='o'>\n",
            "<re.Match object; span=(14, 15), match='u'>\n"
          ]
        }
      ],
      "source": [
        "import re\n",
        "\n",
        "s = 'Readability counts.'\n",
        "pattern = r'[aeoui]'\n",
        "\n",
        "matches = re.finditer(pattern, s)\n",
        "for match in matches:\n",
        "    print(match)"
      ]
    },
    {
      "cell_type": "markdown",
      "metadata": {
        "id": "GmsdvE6IhhXs"
      },
      "source": [
        "### **Python Regex match()**\n",
        "#### **Introduction to the Python regex match function**\n",
        "* The re module has the match() function that allows you to search for a pattern at the beginning of the string:\n",
        "![image.png](data:image/png;base64,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)\n",
        "\n",
        "* If the search is successful, the match() function returns the corresponding Match object. Otherwise, it returns None.\n",
        "\n",
        "* Note that the match() function only matches at the beginning of the string. If you want to find a match anywhere in the string, use the search() function instead.\n",
        "\n",
        "#### **Python regex match() function example**\n",
        "* The following example uses the match() function to check if a string starts with a digit:\n"
      ]
    },
    {
      "cell_type": "code",
      "execution_count": null,
      "metadata": {
        "id": "tN74ulUShhXt",
        "outputId": "0af3b021-e159-4ab0-b49b-79843176b26b"
      },
      "outputs": [
        {
          "name": "stdout",
          "output_type": "stream",
          "text": [
            "The string starts with a digit 3\n"
          ]
        }
      ],
      "source": [
        "import re\n",
        "\n",
        "s = '3 pieces cost 5 USD'\n",
        "pattern = r'\\d{1}'\n",
        "match = re.match(pattern, s)\n",
        "\n",
        "if match is not None:\n",
        "    print(f'The string starts with a digit {match.group()}')\n"
      ]
    },
    {
      "cell_type": "markdown",
      "metadata": {
        "id": "XEUwgMayhhXt"
      },
      "source": [
        "### **Python Regex search()**\n",
        "#### **Introduction to the Python regex search() function**\n",
        "* The regex search() is a function in the built-in re module that deals with regular expressions. \n",
        "* The search() function has the following syntax:\n",
        "![image.png](data:image/png;base64,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)\n",
        "![image.png](data:image/png;base64,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)\n",
        "#### **Python regex search() function examples**\n",
        "* Let’s take some examples of using the search() function.\n",
        "\n",
        "* 1) Using the Python regex search() fuction to find the first match\n",
        "    * The following example uses the search() function to find the first number in the string:"
      ]
    },
    {
      "cell_type": "code",
      "execution_count": null,
      "metadata": {
        "id": "xSZ510guhhXt",
        "outputId": "1cda5977-a438-4df3-dc5a-4f4c56537f4a"
      },
      "outputs": [
        {
          "name": "stdout",
          "output_type": "stream",
          "text": [
            "3\n"
          ]
        }
      ],
      "source": [
        "import re\n",
        "\n",
        "s = 'Python 3 was released on Dec 3, 2008'\n",
        "pattern = '\\d+'\n",
        "\n",
        "match = re.search(pattern, s)\n",
        "\n",
        "if match is not None:\n",
        "    print(match.group())\n",
        "else:\n",
        "    print('No match found')"
      ]
    },
    {
      "cell_type": "markdown",
      "metadata": {
        "id": "gUr-HP92hhXu"
      },
      "source": [
        "* In this example, the pattern **\\d+** matches one or more digits. The search() returns a Match object.\n",
        "\n",
        "* To get the match, you can call the group() method of the Match object like this:\n"
      ]
    },
    {
      "cell_type": "code",
      "execution_count": null,
      "metadata": {
        "id": "fQETPXGJhhXu",
        "outputId": "2115b155-f720-4367-9990-a34ecc23a4bc"
      },
      "outputs": [
        {
          "name": "stdout",
          "output_type": "stream",
          "text": [
            "3\n"
          ]
        }
      ],
      "source": [
        "import re\n",
        "\n",
        "s = 'Python 3 was released on Dec 3, 2008'\n",
        "pattern = '\\d+'\n",
        "\n",
        "\n",
        "match = re.search(pattern, s)\n",
        "\n",
        "if match is not None:\n",
        "    print(match.group())"
      ]
    },
    {
      "cell_type": "markdown",
      "metadata": {
        "id": "rbUk-N2EhhXu"
      },
      "source": [
        "* 2) Using the Python regex search() function to find the first word that matches a pattern\n",
        "    * The following example uses the search() function to search the first word that ends with the literal string thon in a string:\n",
        "    "
      ]
    },
    {
      "cell_type": "code",
      "execution_count": null,
      "metadata": {
        "id": "2zH26wyAhhXu",
        "outputId": "b6caae24-8561-4aa0-b1e4-e5298ab20789"
      },
      "outputs": [
        {
          "name": "stdout",
          "output_type": "stream",
          "text": [
            "('CPython', 'CPy')\n"
          ]
        }
      ],
      "source": [
        "import re\n",
        "\n",
        "s = 'CPython, IronPython, or Cython'\n",
        "pattern = r'\\b((\\w+)thon)\\b'\n",
        "\n",
        "match = re.search(pattern, s)\n",
        "\n",
        "if match is not None:\n",
        "    print(match.groups())"
      ]
    },
    {
      "cell_type": "markdown",
      "metadata": {
        "id": "4J2tvzFZhhXv"
      },
      "source": [
        "![image.png](data:image/png;base64,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)\n",
        "\n",
        "* 3) Using the Python regex search() function with a regex flag\n",
        "    * The following example uses the search() function to find the first python word in a string:\n",
        "    "
      ]
    },
    {
      "cell_type": "code",
      "execution_count": null,
      "metadata": {
        "id": "eD1gppDmhhXv",
        "outputId": "9762b31f-576f-4ae1-bb5d-0adbcf49b47d"
      },
      "outputs": [
        {
          "name": "stdout",
          "output_type": "stream",
          "text": [
            "<re.Match object; span=(10, 16), match='python'>\n"
          ]
        }
      ],
      "source": [
        "import re\n",
        "\n",
        "s = 'Python or python'\n",
        "pattern = r'\\bpython\\b'\n",
        "\n",
        "match = re.search(pattern, s)\n",
        "print(match)"
      ]
    },
    {
      "cell_type": "markdown",
      "metadata": {
        "id": "WA3hdsS1hhXv"
      },
      "source": [
        "* It returns the word python with the letter p in lowercase as specified in the pattern.\n",
        "![image.png](data:image/png;base64,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)\n",
        "\n",
        "* To match the word case-insensitively, you can pass the re.IGNORECASE flag to the third argument of the search() function. \n",
        "* For example:\n"
      ]
    },
    {
      "cell_type": "code",
      "execution_count": null,
      "metadata": {
        "id": "-mszUhDbhhXw",
        "outputId": "90a16458-a906-4688-992e-00489bd07fad"
      },
      "outputs": [
        {
          "name": "stdout",
          "output_type": "stream",
          "text": [
            "<re.Match object; span=(0, 6), match='Python'>\n"
          ]
        }
      ],
      "source": [
        "import re\n",
        "\n",
        "s = 'Python or python'\n",
        "pattern = r'\\bpython\\b'\n",
        "\n",
        "match = re.search(pattern, s, re.IGNORECASE)\n",
        "print(match)"
      ]
    },
    {
      "cell_type": "markdown",
      "metadata": {
        "id": "3oolxOM1hhXw"
      },
      "source": [
        "* In this example, the search() function returns the word Python with the letter P in uppercase:\n",
        "![image.png](data:image/png;base64,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)\n",
        "\n",
        "### **Python Regex sub()**\n",
        "#### **Introduction to the Python regex sub function**\n",
        "* The sub() is a function in the built-in re module that handles regular expressions. The sub() function has the following syntax:\n",
        "![image.png](data:image/png;base64,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)\n",
        "\n",
        "* The sub() function searches for the pattern in the string and replaces the matched strings with the replacement (repl).\n",
        "\n",
        "* If the sub() function couldn’t find a match, it returns the original string. Otherwise, the sub() function returns the string after replacing the matches.\n",
        "\n",
        "* Note that the sub() function replaces the leftmost non-overlapping occurrences of the pattern. And you’ll see it in detail in the following example.\n",
        "\n",
        "#### **Python regex sub function examples**\n",
        "* Let’s take some examples of using the regex sub() function.\n",
        "\n",
        "* 1) Using the regex sub() function to return the plain phone number\n",
        "    * The following example uses the sub() function to turn the phone number (212)-456-7890 into 2124567890 :"
      ]
    },
    {
      "cell_type": "code",
      "execution_count": null,
      "metadata": {
        "id": "VfcLt2qghhXx",
        "outputId": "7fa93bda-27b8-4174-f336-6863b233556d"
      },
      "outputs": [
        {
          "name": "stdout",
          "output_type": "stream",
          "text": [
            "2124567890\n"
          ]
        }
      ],
      "source": [
        "import re\n",
        "\n",
        "phone_no = '(212)-456-7890'\n",
        "pattern = '\\D'\n",
        "result = re.sub(pattern, '',phone_no)\n",
        "\n",
        "print(result)"
      ]
    },
    {
      "cell_type": "markdown",
      "metadata": {
        "id": "lwtN5wkfhhXy"
      },
      "source": [
        "* In this example, the \\D is an inverse digit character set that matches any single character which is not a digit. \n",
        "* Therefore, the sub() function replaces all non-digit characters with the empty string ''.\n",
        "\n",
        "* 2) Using the regex sub() function to replace the leftmost non-overlapping occurrences of a pattern\n",
        "    * The following example replaces the 00 with the '' in the string '000000':\n",
        "    "
      ]
    },
    {
      "cell_type": "code",
      "execution_count": null,
      "metadata": {
        "id": "XMC4hOUrhhXz",
        "outputId": "593588a7-7728-449c-e13c-0b1ee34d2d90"
      },
      "outputs": [
        {
          "name": "stdout",
          "output_type": "stream",
          "text": [
            "0\n"
          ]
        }
      ],
      "source": [
        "import re\n",
        "\n",
        "pattern = '00'\n",
        "s = '00000'\n",
        "result = re.sub(pattern,'',s)\n",
        "\n",
        "print(result)"
      ]
    },
    {
      "cell_type": "markdown",
      "metadata": {
        "id": "1qM6Q2yVhhX0"
      },
      "source": [
        "* In this example, we replace two zeros with empty strings. \n",
        "* So the first two are matched and replaced, then the following two zeroes are matches and replaced too, and finally, the last digit remains unchanged.\n",
        "\n",
        "* 3) Using the regex sub() with a backreference example\n",
        "    * The following example uses the sub() function to replace the text surrounded with (*) (it’s markdown format by the way) with the <b> tag in HTML:"
      ]
    },
    {
      "cell_type": "code",
      "execution_count": null,
      "metadata": {
        "id": "zS_NwHH4hhX1",
        "outputId": "9cfd0bb8-424c-452d-d165-5d307452fe8d"
      },
      "outputs": [
        {
          "name": "stdout",
          "output_type": "stream",
          "text": [
            "Make the World a <b>Better Place<\\b>\n"
          ]
        }
      ],
      "source": [
        "import re\n",
        "\n",
        "s = 'Make the World a *Better Place*'\n",
        "pattern = r'\\*(.*?)\\*'\n",
        "replacement = r'<b>\\1<\\\\b>'\n",
        "html = re.sub(pattern, replacement, s)\n",
        "\n",
        "print(html)"
      ]
    },
    {
      "cell_type": "markdown",
      "metadata": {
        "id": "fLEXxC4GhhX2"
      },
      "source": [
        "* In this example, the pattern r'\\*(.*?)\\*' find the text that begins and ends with the asterisk (*). It has a capturing group that captures the text between asterisks (*).\n",
        "\n",
        "* The replacement is a regular expression with a backreference. The backreference \\1 refers to the first group in the pattern, which is the text between the asterisks (*).\n",
        "\n",
        "* 4) Using the regex sub() function with the replacement as a function\n",
        "* Suppose you have a list of strings where each element contain both alphabet and number:\n",
        "![image.png](data:image/png;base64,iVBORw0KGgoAAAANSUhEUgAAANUAAAAmCAYAAABTRt40AAAE5ElEQVR4nO3cT0gjZxjH8e8betzNYVtKe+mG1sCAeBAxeJFWSpQlK7126YZeSi9BGirUg9iDsocuLCiSy+ItLe61WClGFil7EUV6kIVAliXuyV1YD9M95+1hZrJxHPNn8pqM+nxAxGR29g3v+5t53ndeVZZlaYQQxsT63QAhrhoJlRCGSaiEMExCJYRhEiohDJNQCWGYhEoIwyRUQhgmoRLCsA9aHjFxj79/HuaG97P9L4Xv1nlyoc3qzLcLC+RSN9+/0KSN6dkamQRUN2Isl3rWRPKrNRIoNmcU292ezNIs5jRxW1GYV1RMNLANyawml9LYezF+LXZ/vqj2RSfjKUjrUO2sc2dnHYC5lYfc/ajNM/fcEX9NF/it380Ql96TpaV6gMKM+dahumKqbxQk4O2r5sc5VzNaXpWzD2qMxFsf99aGBFAN02i/suIETfyk+V3Ku7PQ5Krs3S3qqjHyj4LPV3ntfD95Ha7Zfqb6wnv/PcVBQVEsB5/PaF8EuHahasukJoHiYA9GLE2Ss4PXGbBwsKGwp6O5J3nM0th7ipOUZnBSse0rsdKzNTLEyM+4L1iaxVyN5dnzg9VzbfTF8szppYH0bI1MDmgSrIt07UJVKSryLeYD6SEN1RjFfU0yBWMWVBo7Z1KTs6Awo6hYmsU2/t/ifAwD05A6/0A6w9Ik44rKvuL4Y01mCPCFavtR7PTdq6x4VtVkEpo0AXe2kiJfUl233WOkLwJsbyrGc5oPP1MQcKzpvvCT1b8AgwmoHgJlRcXWJEd9B5QU+R4uEISRHIW4Dbtl2D5UkNCk+92oEFr2RQT1+E71Nb9vTHH7vLdfbjH+09NeNugst9zYdK/qxyfnlx1RNmZp7HLMafMrsAkuAf0+uQXYFzff6EjIvshmnZXRYg9XFBv1OFRPuT/d59C04JUbXumzfajITLdXdkRGvfRzf3av8iMBJWCjZFa7iy7RuIB00hfegpHDWZjp12eQ8s9nMAH2m4YXSooqmpFM35rUseQoxIHjhoG3W3ZKwKx1zr/xVgqrZp5BmdBJXxTnY+Rn3K8NyKzWWMz2rKmnSPnXaFI7S7OpGssp33vnTd4jaMz9CwmZVY1//CVHAybvk26gbEUhUqt+hOuLkmJzSJPpU9ku5V+D9JA7sPyLEJOa5en25iRdqe9e6eJBtqVJxoN3KWQf1M7OSdzPFvi5Q5pbecjdz+Hd3mPuLL0IdY6+90UXpPxrMJgAuxwwsEqKKpAYuuAGfHHL3Q52m68WBkKdwin9FM8DBtxuWUHcmZMAFxIoGOBTdwfCjdQUcyHP0k1fJLPa2f70T3/mVS3vVGf2QTFMbmOYHN1diSLHe8i4H/z28yokvLLD23vXeEC9TGn+NL+ptS0OJn5smHB3bsw6PblvVNkHO6XrJWD2S/ehdVyTW/U9wG6ys6K5F+R3jnj2zblFfmvd9oWtKMzE+rZQoa7Cnyhzgn9yJfb+eRexoz9/4f5av1sTljt3juDm6045e/86+xxS/kXJxD2+T92El1uXOFAwtzLFbf7jYO1yByqsa7dNKZoGWP7DKfve7T1m/LKW1D/k3LLvev/GwBUq/8L//osQjbodT1ciVEJEicyphDBMQiWEYRIqIQyTUAlhmIRKCMMkVEIYJqESwjAJlRCGSaiEMExCJYRh/wMJLhS7KGDEKwAAAABJRU5ErkJggg==)\n",
        "\n",
        "* And you want to square the number in each list element. For example, A1 becomes A1, A2 becomes A4, and A3 becomes A9. To do this, you can use the sub() function.\n",
        "\n",
        "* The second argument of the sub() function (repl) can be a function. In this case, the sub() function will call this function for every non-overlapping occurrence of the pattern.\n",
        "\n",
        "* This function (repl) takes a single Match object argument and returns the replacement string.\n",
        "\n",
        "* The following illustrates how to use the second argument as a function:\n"
      ]
    },
    {
      "cell_type": "code",
      "execution_count": null,
      "metadata": {
        "id": "X3fJhkXhhhX2"
      },
      "outputs": [],
      "source": [
        ""
      ]
    },
    {
      "cell_type": "code",
      "execution_count": null,
      "metadata": {
        "id": "bKJvLWiMhhX2",
        "outputId": "59369728-21b5-418b-e167-f49ab795495f"
      },
      "outputs": [
        {
          "name": "stdout",
          "output_type": "stream",
          "text": [
            "['A1', 'A4', 'A9']\n"
          ]
        }
      ],
      "source": [
        "import re\n",
        "\n",
        "def square(match):\n",
        "    num = int(match.group())\n",
        "    return str(num*num)\n",
        "\n",
        "l = ['A1','A2','A3']\n",
        "pattern = r'\\d+'\n",
        "new_l = [re.sub(pattern, square, s) for s in l]\n",
        "\n",
        "print(new_l)"
      ]
    },
    {
      "cell_type": "markdown",
      "metadata": {
        "id": "d0LJa_XjhhX2"
      },
      "source": [
        "![image.png](data:image/png;base64,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)\n",
        "\n",
        "### **Python Regex split()**\n",
        "#### **Introduction to the Python regex split() function**\n",
        "* The built-in re module provides you with the split() function that splits a string by the matches of a regular expression.\n",
        "\n",
        "* The split() function has the following syntax:\n",
        "![image.png](data:image/png;base64,iVBORw0KGgoAAAANSUhEUgAAAbIAAAAiCAYAAAA6YlzrAAALt0lEQVR4nO2dPWgi6R/Hv/fnyiRFNiykGjDC2aQQOTnCCSspJKC4pbKBbSSNRYKFVlOl0iLEwibYHCQk5QYFSSEueCxHjpBimyyYwFSBJZsi2t+/eOblmWdmdExGzbi/T7Wax5nn9ff6PM/+EgqF/gNBEARB+JT/zboCBEEQBPESSJERBEEQvoYUGUEQBOFrSJERBEEQvoYUGUEQBOFrSJERBEEQvoYUGUEQBOFrfp3am3J5dNOS8fnuArHdtmPxUrWCZAAYXB5ha7/nWTUysox8qIfah1OcefZU4tUTz6JVCGMBCpqpGsqzrs/PiD4GKk/Xw9ehJjNGlZsbgjg82UFkyfjGkH/i3/q4OtjHXmcG1ZwG8SxahSC+uWzj9Dyyeg2xVBGx1BGunrx5ZEaW0W3kUXL7g1we+egilM40FsUmjhsVtOSgR+V+LkrVCronWWRmXRHCOzqn2EoVEUsV0bzz6JnxLFqNCo5zHj1vZmiKSkFT7aNYqsgZ8T3sfVC/P1dmWtOp0DnF57tFRAru5Pv0PLIxKe8WvbWa41m00hIGl0fYrnv5YMIXdE6x1TmddS2IcajXEJvyWs3IMvLRReOLEZEjz4j/jt+WgMHlxfxHC0TP3CFKUt49wurJDpInWSgjPPKfJkdWeh/GwtM1/vIwTEkQxPxQqlaQjwJXB6rnc3CNQSCBbnVzanX4cT/n8imXR7cQBi6PuAidhKRtZK2Hvfo1BkthfBwRsRrhkW3iuJGAkdmyxmVL1QqSuEDs01uTllXOi8/yfLTcmIb1OWKdFpFsVJA0fmHV7vEs3gUA5dxBq3Px2Pv33PttY/PD4tg2Fl10B92Gtazbcs7ttraTPfMRzdQFVvk6Cu3weszGQRxfUzstlloY+UYYee0j345cHt30Mq7EMRP7xWVexsidfkeS62fbHK2Y79WZTP5NG6/awwabM3fmsRPHTexj0atwyj+P+l5D/PtYfecGF/l0sU4L6Qq6aePz2HNZlxGcfOucYmttGd30Bg7jbf/koyzryCGfZinnUN6lBzWaIA7jEnB3IYRML3DcSOCdHERZnC+dU3x+H0YymkAJPcd3DlFkquA0TaJNHJ9kkRFzTIEEuoU+rg6K2OuoEzst4/B2/GSkHlJUO89KG9spVh9DcA/v1MyfQSxAweehE3sRkUKFLZpUG1r789XvODMJgSxQLyKmtSuXRze9g5bMFu3Z/r7aN+z3bxwWs9ty4Pvi8ggxtUypWkGykQcsbZeQbOxgoJe1bwcbMxaPL+NlY+YWJnzMi6BUlXEYV9/Jhf9K1QqSK6OS/OKYMSPDFIqwPHNIBZfCyDfYPN7uQB/b4xwnFFUhawhKdZ1MekPCygY+4gti5yF00xto5YBvB0dAbgeR9U0AxppY/1pEbFf9XTyLViGBbhX6OtZCNhFeOOTyQ5TYkDHTWAoj32AKJFaHfd+5RQ8pqkajTRFRTvx4oRFmLyNUwQvgtz+DQMdrb0k0TkWF/ByFsYnjHPBXqmg2XAsyDmFVToZM4XN0VkOQlz2IZ9GqbqI8bshVDZ8qHfPvMvIG64PQ78igZ1lD5a8KkgEJ6zkADmPsrMjib/EGgPKVf2kb2x/sCps1+Nn+FyQbiQkN/rgE8UdoEbj7MnpCmJR2G83LDeSjIZTQ1n9b3t03/6Z+gav4DiIOg+AFWli0xgmY8u4F1h2sGLM12sbXuwSklbfIAFz9+rg6MCbs2d89fIyGsbIGYCKKLIjVFQB3N6ZxsPTnmJgFbw//3PQRiS7Dzl9yg8kir99ASUt4sxoEoBoQ62wXXZPrXzZPgvgjDpxNympfAr7V28BaCMAicHOEvQ5wmAPAja1hIKloFm2An8eGFZysbqK8CxynRUsZGHfMTPNOWxeckp0NVmVhQl3z0soi8NSDIvzuzeUFrkIJRFYkaHPAOwyj3CuFbCejy5+u8a4QNsljTXE3ec+oo6CbFhTG2jIW0MfV31zbO6fYMs1zd32sPevbrfEnzWBtXgaRdFq3NutQxFmRdb7jRwGQ0hUcY0TnPvXwj6lhCh6eAGkigz8uElaWgMHN6J0+ZqUNnN0/Io9lrMYxRLj3cP8AYJil/yI2sR4ABpf/CkrSqY/7eLg1FbTfOGMZs0mj9lPA7B28FDGnYBHkY6Hg61Ahogp2Wx5xP8n+1MZrjX1k7Xa301V56AMB8ds2ts9D6KYTakhbQdMyJuOMmdh32roQDahpwykLt+hh6yK2O0EcnkymZlNDleVvuK+klUUAjzaFBflx+4gBJEREj87EM/qYi0TFdlmqxZnR+mRIaLGN7ZTC3E3d3Z3zswtucIore3SkwPo+5hkvCDk0nYcJvXcClHeLUGQZ+WgC3UYCgPfnBCeLZrWGkcyd4kwNLSajLj3+qeBkHdsIrXoNzXWWa1LO7UNY/h+z8ZBkGd3oI5qp/VcynuNjyb+rDLh/a16aEdFRw6hP12YDt3OKrc53HDcSiBQq6BaAF+eC1wzvc8ujnPyIzR7s7AIAXYAP18xzjqbE7JLnk/LIVGsKcyI8DI9JjclHjfyiH8isLgNgkQo9lzGtLdojsc/XMcFmLZ2RZSQDfSh3gDQkP+rvMXMX9mJeaxjJ0DVqKT7X6T6i8xrQlJg5vaB6P3zBtWVmjPMGsmOel/O41ByxOT/vMrSoeXfpoL6fQsMa2h0P9+fIOqfYAtAquMijOCT1vMZd6O/5YU4tH6JZKCyu3MfVJzftcvveUeVmH6adzC0rPex9OGKC0aZtTLA8P9c1GZj3NVY/TPN2ilwIEuDuwH88i49qW7b3JWZx52w2cpkYPmZmnELiHqOFzRzzJ+7CXlqO+IfY/lwIkpgjUpnU7UPPR90PYMrh2pfTdg+ObYDVa4iBhV4NuesytNj5F99yYUQevggG06i5MtqYcD5HlstbbpvQBLmYgzETxGGObU4Y3pkecPuIARYReT/snAfbAIBAyP0NIIC+i4sXCmf3jwAWWdIUALNQha3O3HtZfmEDh/FhLxpVjoWzEEjM6PYPIy+0EE2M14cm1B2v/FfaIdAH6wRlfS3h3au68YQZFQsr7tWr5sFhKYzkpG+fuH3EAIC0bqwHdjZKDDNt4rjAn6tsY/tcASzndcYbM55SNQEJCj5PXMCrY/KiuQn1JglASnPnmfRLFE5tPFWv1oWXqLJkiW08AqDefCJ6S+b85TAysmy5NaW0LuF5OWFDlhnPDOLwhEURHM/4qgbasDN2zh5ZvYa/ZBndBr8IHGKjS8J5HxfnPrBkxNwtW5m5YsZ2VJt36+c8jGfZldOsrWHbNwEhXIS+xf1FvYbaqow8544r50WWZ7AJLerbnPXYsr31NrJcvYbYbRatgpgnm0bO0tjN9DLa2K6z64Ty3LeO531s+vo5Xo01X2DM1fEtaXZAs1Xg55uG/VhoO3in4lnarIfB5RFqD1kutKgKDgiem5YvM4UNxxkzyXye80kM0bkfC3eyQoPbgcm9/zlnIsu7RaBaMT3HeY54tS5cYpOb1+UFty6sskRBM8V2OPOhRW3Xs0luq/B9d7a/D6laMcsdm7F1je7RcbJ2xLq27hS28ksoFPrvOfXRX+LqvM/ssTsPo+PZ1td5ZUpnpV47DjlSxzM4Kmzuze9GKbfnOecPv64L53q/urnqUjb/NFdUlT9dYwAJySleNzMvsDBRH1d1Py3WCaAmyMVjGnqoxg79oLFdeIrwM75dF+pO6MGNNSelPPRnUSMH3KepXu2lwZ7DhV1asvJKkrOvHP2qIPqvTwDou64k8ZCvqqzMB4eNMPk0rv4ipojf14V2Rli8xEHdAGTZgj8jSlUtyjHaUPh5FBlg5F0meAvHXDGD28dfNfrOXWuOzKqsnnNIlPAFvl8XbWynwK6uE3JkA/4qqlkSz+JdwHz70DBenCMjCIIgiFny0+TICIIgiPmEFBlBEATha0iREQRBEL6GFBlBEATha0iREQRBEL6GFBlBEATha0iREQRBEL6GFBlBEATha/4PujUecz3PAHcAAAAASUVORK5CYII=)\n",
        "\n",
        "* In this syntax:\n",
        "\n",
        "    * **pattern** is a regular expression whose matches will be used as separators for splitting.\n",
        "    * **string** is an input string to split.\n",
        "    * **maxsplit** determines at most the splits occur. Generally, if the maxsplit is one, the resulting list will have two elements. If the maxsplit is two, the resulting list will have three elements, and so on.\n",
        "    * **flags** parameter is optional and defaults to zero. The flags parameter accepts one or more regex flags. The flags parameter changes how the regex engine matches the pattern.\n",
        "* The split() function returns a list of substrings split by the matches of the pattern in the string.\n",
        "\n",
        "* If the pattern contains one or more capturing groups, the split() function will return the text of all groups as elements of the resulting list.\n",
        "\n",
        "* If the pattern contains a capturing group that matches the start of a string, the split() function will return a resulting list with the first element being as an empty string. This logic is the same for the end of the string.\n",
        "\n",
        "#### **Python regex split examples**\n",
        "* Let’s take some examples of using the regex split() function.\n",
        "\n",
        "* 1) Using the split() function to split words in a sentence\n",
        "    \n",
        "    * The following example uses the split() function to split the words in a sentence:"
      ]
    },
    {
      "cell_type": "code",
      "execution_count": null,
      "metadata": {
        "id": "st1kn6w8hhX3",
        "outputId": "8eef23ee-5cf1-4d6b-910e-cefe5362aa63"
      },
      "outputs": [
        {
          "name": "stdout",
          "output_type": "stream",
          "text": [
            "['A', 'B', 'C', 'D']\n"
          ]
        }
      ],
      "source": [
        "import re\n",
        "\n",
        "s = 'A! B. C D'\n",
        "#In this example, the \\W+ is the inverse of the word character set that matches one or more characters that are not the word characters.\n",
        "\n",
        "pattern = r'\\W+'\n",
        "\n",
        "l = re.split(pattern, s)\n",
        "print(l)\n"
      ]
    },
    {
      "cell_type": "markdown",
      "metadata": {
        "id": "GvQQJ4iBhhX3"
      },
      "source": [
        "* 2) Using the split() function with the maxsplit argument\n",
        "    * The following example uses the split() function that splits a string with two splits at non-word characters:"
      ]
    },
    {
      "cell_type": "code",
      "execution_count": null,
      "metadata": {
        "id": "GND13gdahhX4",
        "outputId": "13521b2d-8b48-4f22-de93-4a6f61268a5a"
      },
      "outputs": [
        {
          "name": "stdout",
          "output_type": "stream",
          "text": [
            "['A', 'B', 'C D']\n"
          ]
        }
      ],
      "source": [
        "import re\n",
        "\n",
        "s = 'A! B. C D'\n",
        "pattern = r'\\W+'\n",
        "\n",
        "l = re.split(pattern, s, 2)\n",
        "print(l)\n"
      ]
    },
    {
      "cell_type": "markdown",
      "metadata": {
        "id": "7VvBIrpohhX6"
      },
      "source": [
        "* Because we split the string with two splits, the resulting list contains three elements. \n",
        "* Notice that the split() function returns the remainder of a string as the final element in the resulting list.\n",
        "\n",
        "* 3) Using the split() function with a capturing group**\n",
        "    * The following example uses the split() function that splits a string with the \\W+ pattern that contains a capturing group:\n"
      ]
    },
    {
      "cell_type": "code",
      "execution_count": null,
      "metadata": {
        "id": "R-zcMSSZhhX6",
        "outputId": "70300e5c-0012-4d34-ca74-56d75e48b9c6"
      },
      "outputs": [
        {
          "name": "stdout",
          "output_type": "stream",
          "text": [
            "['A', '! ', 'B', '. ', 'C D']\n"
          ]
        }
      ],
      "source": [
        "import re\n",
        "\n",
        "s = 'A! B. C D'\n",
        "pattern = r'(\\W+)'\n",
        "\n",
        "l = re.split(pattern, s, 2)\n",
        "print(l)"
      ]
    },
    {
      "cell_type": "markdown",
      "metadata": {
        "id": "bj_FiHJdhhX6"
      },
      "source": [
        "* In this example, the split() function also returns the text of the group in the resulting list.\n",
        "\n",
        "* 4) Using the split() function\n",
        "    * The following example uses the split() function where the separator contains a capturing group that matches the start of the string:\n",
        "    "
      ]
    },
    {
      "cell_type": "code",
      "execution_count": null,
      "metadata": {
        "id": "qveK2JIjhhX7",
        "outputId": "b5dc9b22-cf7d-46c2-b9d1-f96a0c44f41d"
      },
      "outputs": [
        {
          "name": "stdout",
          "output_type": "stream",
          "text": [
            "['', 'A', 'B', 'C', 'D']\n"
          ]
        }
      ],
      "source": [
        "import re\n",
        "\n",
        "s = '...A! B. C D'\n",
        "pattern = r'\\W+'\n",
        "\n",
        "l = re.split(pattern, s)\n",
        "print(l)"
      ]
    },
    {
      "cell_type": "markdown",
      "metadata": {
        "id": "lE3cV_jthhX7"
      },
      "source": [
        "* In this case, the split() function returns a list with the first element is an empty string:\n",
        "![image.png](data:image/png;base64,iVBORw0KGgoAAAANSUhEUgAAAPcAAAAtCAYAAAByKf0aAAAEhElEQVR4nO3cMWjbWBgH8H+PG+0MuXLQSeAznBYPxdR0qOFMBlNw8I0pDdxisnhIyGBNmTo5Q2kGL4eXgx7J2OJA8GB84OMoKSaDlwR8Bk2B4nSws98NkmLHKLJsS0/S6/8HhthRpGc9fe/7JD3lkaqq/4GIpPNd0A0gIn8wuIkkxeAmkhSDm0hSDG4iSTG4iSTF4CaSFIObSFIMbiJJMbiJJMXgJpIUg5tIUgxuIkkxuIkk9b3zrzfwvpGHMvWJ/rGC7brNorlXONt/itjoArXXxzh5aJVul/OYdnSIQsKh/QGvzxWv950UfWEdozpON2uoetFANzzed1sHByhn4rg9/x0v3/RtllggFk1zgtvw8AaJSIwWtjdbxo/mwDKPq+B2pf0FN/tAbPjFeRRzu5zH9OEYSADDf52WmoyO8wY0d+vzmOO+S+LdnztIr81+7pDRwtwXVmac/jvbTKVjOAIUfIXufVMf5rTvbNoOABg0kd1t2a7u5Poryojj5tq7JOpdcMugpEKBju75OtLqM2yhL/Sg98S9A8gI+EKjDIgsWVc0XaJmpwZY7agMDdH5HvcHIyNxdBqqsNOHR87/Zslo0A/fSFmuHR2igCayH37E2X4SV2/fYK8ddKvcMjP3cCY7lMroFNfRjcp3sUrOKB9z5ne4ma00rIzukMFXWv8MXi2/s4FUAtB7LaD9GVejOH5+kQy6Ud+crRdJxDDG1d8RDWwn7WP8NQCQUKEJ2ByD22KW5L06APRxPQRi6jNsBd2ulWzgfVEBBv9EI2sjiedqHBj18SkS7V3WOp7k/N8Kz7lNWkoBBs27c6FqT0ehmMTzHHASpQMtkUenkZ+8H12gtkoJSJ6yLiaKwMwNwCrJb4dT11vrl9ARR/rXjeCatYxBE9nNyt3rdPgU5cYB3gnIFDSf8jgubFsMbsAsyYFYZgedxqH5MicMCDo/8kt1txmhQco4HcKaUTHJJ4knjyHstCO0Zbk1i0nEBBotpRjl6+xMo1IZnaKCVAnAMjOp7u53Cp49ZeNeVbIgkX1R7ekoJBTjYmbbw22FoS9KeaTXgNvzz0JusYY0c5sjHIBYJu9z5jRL8kubHV6/hA5ASS2Z9X5aNycyKPjlIJgr79pRHspKV59F9gWAeg2nA6OKOpvZZ8Z97iUF3RdmosDoAn8IusUX0szdx15bN3aG30oqFIzRtT34W+gN8lASKjS0Fh/t6010c3azxnxkd0Ftc5W5zwL7wlTdraBaKqNT3EGnMflc/1jB9rIrDaAvlOIhOkXr3RjdtxWhdy1CGtwwsmZRgTLyeVphvYasQ8ld3a2sUML18elyjHTG22mFD21r73XFn1WL6ot723Tul8UJ7Iv2MV62j/3dhgshLcsn5WS3Lu5pJc/lXuG3TBwYNMU9OeYD9kU0hS9zW+cmIbgItbzJQxyz86MjhX0Raa7mli/yDCkR+WHxWJwT3EQUVaE95yai1TC4iSTF4CaSFIObSFIMbiJJMbiJJMXgJpIUg5tIUgxuIkkxuIkkxeAmkhSDm0hS/wOszPrznVw5sgAAAABJRU5ErkJggg==)\n",
        "* Similarly, if the separator contains the capturing groups and it matches the end of the string, the resulting list will have the last element as an empty string:"
      ]
    },
    {
      "cell_type": "code",
      "execution_count": null,
      "metadata": {
        "id": "rUIb4oY6hhX7",
        "outputId": "0c5889f5-be54-42bb-800d-a954b460425f"
      },
      "outputs": [
        {
          "name": "stdout",
          "output_type": "stream",
          "text": [
            "['A', 'B', 'C', 'D', '']\n"
          ]
        }
      ],
      "source": [
        "import re\n",
        "\n",
        "s = 'A! B. C D...'\n",
        "pattern = r'\\W+'\n",
        "\n",
        "l = re.split(pattern, s)\n",
        "print(l)\n"
      ]
    },
    {
      "cell_type": "markdown",
      "metadata": {
        "id": "-ZjrI0U6hhX7"
      },
      "source": [
        "### **Python Regex Flags**\n",
        "#### **Introduction to the Python regex flags**\n",
        "* The regular expression functions like findall, finditer, search, match, split, sub, … have the parameter (flags) that accepts one or more regex flags.\n",
        "\n",
        "* Since Python 3.6, regex flags are instances of the RegexFlag enumeration class in the re module. The following table shows the available regex flags and their meanings:\n",
        "![image.png](data:image/png;base64,iVBORw0KGgoAAAANSUhEUgAAAycAAANpCAYAAAAR+0a1AAAgAElEQVR4nOzd30sj1x//8dfnS/8EBUu7sBttoF6JXnhRmKYsgnsdEfSikG1KLfRWq8t65VZdvS2s0LCBXqx0MdcVZL+1A3shVCt8wYugtnz208/KR/+HfC9mJpmfySTGZDTPByztZifz88zMeZ/zPif/qlQqFQEAAABAl/2fbu8AAAAAAEgEJwAAAAASguAEAAAAQCIQnAAAAABIBIITAAAAAIlAcAIAAAAgET5w/+Wvd++7tR8AAAAAetiDex96gxPnQ+Am/PXufU+Xr14//nZwGlA4jwAA3C3OO560LgAAAACJQHACAAAAIBEITgAAAAAkAsEJAAAAgEQgOAEAAACQCAQnAAAAABKB4AQAAABAIhCcAAAAAEgEghMAAAAAiUBwAgAAACARCE4AAAAAJALBCQAAAIBEIDgBAAAAkAgEJwAAAAASgeAEAAAAQCIQnAAAAABIBIITAAAAAIlAcAIAAAAgEQhOAAAAACRCZ4KTw02l0sNKpYf1uHTVkU2id12W5qrlbfXQ/rBaBuf0+qKru9dxnI9bjmsFAOgh1w9OLkp6bFd8gn94maKdjrXqLl/5ki5jfvPoTdH+P1O7b29XgHy04Rzzpo7atc5bfD5aUTuH9p+N42st10m9dq0AAL2NtC7cHod7Krj/bu7pt5jB7+jDnP1/hiY/62vzjt0+PX8+Cnshgd6xdgshy3ZZz18rAEBP+aCta8u/0vnCSPDzf9q6FfSoWguyw2pJns7GqLCNzeu8PH8j+3Ur9er5MAxlTFP7Kmr3cF6jY65/c4Lf6jIJ0avXCgDQk+g5wS1Ra9XOrK0ob3+6/+vvsVO7ALfCG2/KVjD4BQAAndbV4CSQ3x2ZV3+l13nfMgyy7y2ulK6h+1lNOtFJzNSu0EHh/jEskeMMwpZr3/iPVviPx3svNR7rVX+QvHVPuZfxnreaJI7RqG+iVnY8qV214Df/aKLO94NlwX9eYj3XmjjX7blWwfFaR6H3BAAA3dXF4ORKp+Wwz4ua8rzIj7WaNrRo+paZoZWzl9RatXOaHHPn4V9jkPDFmU7DPi/M1irZFyU9Ts8qgUMRqgozw5ryDsbR4tP4kwWE2V8yNL7kuelUmPHfl/7tyjp3TUxU0A1fVMtOUbvVyr4T/OY0+VnEFw83lQopC4UZdwNJ3OdaTeNzXV/D74eVYXNZU77vAACQBO0NTgqzTbSi9mm6cKLzsuvPdrDScFnaqr1U86/sZU2tG23dcySaa6ByfkKjkjQ2cf3UroGsXpa9ZXDH16p++XavOvYgvx2yXBIYKzoon+i8/Kp6TpqZLCBcTjuBe612Xx5tzFYr8zvO+TNXlJEkc1k/Jbkl3lV2nNSuavDrlK+AY606DSLV59CJDtask7O/VLSDgXjPNa/657qxBtfq5+VqGc6smfZ+ucoKAAAJkoAxJ66ULVdvyOnfV5Ku9NuvTuteTjvVwfZ9mv42518R7ih3gJp/6JSBkaZTuyK5psOu9QSc6fRC6r8/WF2sMFObvnh0YT6iEtt5+W+z6pckjejrNad2aur0GhNRZNZy9vF57zXrvnTPalXUlNMYYdQqwdZySTXiS+1ypXQ9DJnQQ/LOFOdqhKn1WFjlpabec82r/rluLPa1Mlb0vDp5hLusAACQHJ2ZrSvUsVYTni6DJHAHqFaAECwzTcza5Xa46ak4hhqb106+WAtazGWNp5et3oqCExTAb//sP5KSO+3t6MOcVChKOtPpYcpO77NSBtVSoGsHgwM81wAAuI6u9Zy4W8OrqQZOWgjguPhduzFS45tP7brS6xdOYGJo3fSm6biNLoT8m7ms75mIwZVS5vsTu5GiS6qpXaYWZ+wen8iULq9aapT3z5MxnmsAAFxX14KTd2e1dK3v7BZvd36/pU9Daef/i/qxWhl05X/jTnOXiWCl0JVj33Rq13906hTB/JymByR/L41kzZTkzGTUn93yVDSt3oFe5E6p8wdpV3q9kewB8RbXMdgiU7ok7xinpafe2dAuSlq1z0G851onfayh6j3iGgt0UdL3DIgHACRQe9O6mnBv0JBkyspZjw40Rr9cUaZgtWzuLxlKLXVqD9F97mAh7Nex+/TFI0MyTTWf2mVX2kxZYwjq5OGEp5I1qMzecXXvS2NFB93asSbUUrukakpXJGuMRmHJKmuLxrAWXf+aWbPKadznWudY41AWTWtfosoyAABJ0bWek/7slnfGI2NFB2HpDwNZvfR/bqzoYJsB8XeeO6XLmNAXA8FF+j+bqPVkNJXa1afpgnfGosyaGZrWFWTNjvSkbmX2jhvI6mXErHm1AfoJ5+oNiZPS5e85q6n1ksR+rnXS2LxrxjBb/lXMsg4AQGf9q1KpVJy//PXuvR7c+7Cb+xPbZWmuOlNOfrvHK4q3xG0qXzeh14+/Hf56916SOI9tcLThzE5naN3cslMbAQDoDqeelICphBs51qr/R90ON11TeDZKxwCAHnZR0mPfb05dluZqM9BF9EoCANANXRtz0hRn+tYAQ+tmcn5vAgASKXJcVU47TIkNAEiQ2xGchGnqN1UAAG6ZNVMvm/1tIAAAbtgtCE5G9KR8oifd3g0AuI0GsnpZznZ7LwAAiOUWjDkBAAAA0AsITgAAAAAkAsEJAAAAgEQgOAEAAACQCAQnAAAAABKB4AQAAABAIhCcAAAAAEgEghMAAAAAiUBwAgAAACARCE4AAAAAJALBCQAAAIBEIDgBAAAAkAgEJwAAAAASgeAEAAAAQCIQnAC33pVe54eVSg8rld7UUbd3BwAAoEUfdHsHANR3tDGsqULEP+Zf6Xzh447uDwAAwE2h5wQAAABAItBzAtwahtbNLU0P+D+/6sbOAAAAtB09JwAAAAASgeAEuKsuSnqcdgbK1/48LgV7Wi5Lc55lVg+Pter8PV/SZRd2HwAA9B6CE+Cu+udc+yEf7y8ZngDlaGNY40umZ5nCzKyixuADAADcFIIT4NYwtWi4e0Hm9PqizuJj8zovn7j+mFo3rH/a//V3qzfkoqQfq1FITjv2sgdrxo0eCQAAQBiCE+CuO9y0gxlDi04HiXmud5Iu3+5Ve1fy2/Matf+/PzunfOf3FAAA9Dhm6wJujajZusJdluYC6VoAAABJRs8JcCcd66dqYFJL19qhOwQAACQYwQlwF12c6dT+38xazk7XOtaub5R7//3B6v8XXtRm5TraYEA8AADoPNK6gLtoYFBDkvZlzc6VWopYbiyndaNojUUxlzWeXu7cPgIAAPjQcwLcSSN6Yq4o4/okvx2W1tWn6UJtFi+LoXXzFQPiAQBAx/2rUqlUnL/89e69Htz7sJv7gzus18vXrTr+i5IeG8vWTF75VzpfGOn2HkmyzqGk23MeAQBALE49iZ4ToMcdbfh/L+VYq05gIin/MBmBCQAAuPsYcwL0POvHHRdD/iWzZurJWMd3CAAA9CiCEwAhctop136UEQAAoBMIToAeN7pwovOFbu8FAAAAs3UBAAAASAiCEwAAAACJQHACAAAAIBEITgAAAAAkAsEJAAAAgEQgOAEAAACQCAQnAAAAABKB4AQAAABAIhCcAAAAAEgEghMAAAAAiUBwAgAAACARCE4AAAAAJALBCQAAAIBEIDgBAAAAkAgEJwAAAAAS4V+VSqXi/OWvd++7uS8AAAAAetSDex/ScwIAAAAgGT7wf/Dg3ofd2A/0gL/eve/p8tXrx98OTu8u5xEAgLvFecfTcwIAAAAgEQhOAAAAACQCwQkAAACARCA4AQAAAJAIBCcAAAAAEoHgBAAAAEAiEJwAAAAASASCEwAAAACJQHACAAAAIBEITgAAAAAkAsEJAAAAgEQgOAEAAACQCAQnAAAAABKB4AQAAABAIhCcAAAAAEgEghMAAAAAiUBwAgAAACARCE4AAAAAJALBCQAAAIBEIDgBAEm6KOlxek6vL7q9I7g9jrWaHtbj0lW3d+TWOtoYVmrj+Aa3YF2j1cMb3ARuh4uSHvdkWbh99wDBCXALXJbmlEoPK0VFqElXep0frp670D/5ki67vZtoydEG1w9At9FI0W4EJ8At0J/d0nn5ROfmirRkKJXe1FG3d+pW6NN04cQ6d/b5y0jKb7s+K2TV3+3dBG5YMz0UN9KbcVd6JpN+HJH7d/taz283zvd13P7g5HDTbgGt87CoLuP8ia7YHW3Ub1UN/Hv1j3v7VqGklfYuqF3LRLSKDGT10lxRRkVN3WgqBO4eVy9SZNkJ9jRFlns7RcK9rPtF7O7t8/9pZbkwowsElwBw19z64OToTVHKr2jdMLX7NvgSvSzNKTVT9LaUlie0GwgSrEroVCGnnbJr2WfST66X8+iC82+vlJeUWTPtv29pesBZakRPnO9v5yQZWjdppb2VDvdUUE7ra4b2f/09GYHlQFbf5SUV9ug9QXwXv2vXNLS+losoO8daTRta1IoOXM/A53oaCBIuS3NKGctS9fln/Zl8U2v4qfb2lU2tG5Lyr6rLPRmrrSvucgCA3tCG4MSVa+froQhr9fK3kl2vNfpYuwUp/zCrLx6FVR6P9dOSKeVf+V5yI3riCxKONmZVUE475XmNuhcdyOpJtu8a+4jrsVtyN44DLbWhZcffS3bN3gUr+J3Q9GcTyph7+i2hXflOGkb1/vKdL7qWm+PtIQ3vafX3osY5x9b12dSRv4cirEe1zWX58u2e9o0JfZGdUF5F7QYCji0VZGj9mffZ2J/d8j4/L0r6fslUZs3US9+zcXTB9/y8YWFjTgI9MQ16q6spTNXz7b7e/l7wmOmU/l4l9z4cbkb09LuedaHbDpaBy9KcvW7fsu7l7OOaKkgqzNY/jhjLBnu6Gp0T+7iMZe3L1KIR8fyO83xv9XpE7Lt7G9Hjl5w6TrnxcdS77lFcaViNnyn1ykT0ebbWO6uCpMJMWFlqdF5rKUrVfbS/X71/Gl6/Jnpl3QKZL8F7J9Z9EHre69VTW0+dbny+I/bfdw6tfWvhXRHnfVTdVv37u23XsVkVl/N//7fSvD8rP3zyaeXBJ59WHnyyUTm0P/3fzjeVB598U/nlfW3Jw+feZSrvdyq5Tz6t5HYuW9hupVL5Y6O2vvc7lZxve9V9+2qn8r84x/D8zyY2bn2n4b7/sRE4D72qtfJ1WfnlK6d8uc7jHxuVB598Wvnhj9qSwTLXynV1s75vbcPaj5bLaqXV44/eL/dxHT7/tPLgq28qued/Vstc7qtvKr+8t89fy+cgWc7//d/rnUf7meMuN/5/85Yr+/x5niEhn4WUxzBWGbW2UStLwevZ/rLsLb+Hz4PrcvYt3jE080yLWwabL6tWua9dB2vfXO+YymXll+f1n/+ee8ct5P0UeIeFvQcCZcFfXiLeHb6y+b+db7zXImR/auWp8Xs17JrXPSeBZZ1nsfv4nXMSozyEvqOd78e4n2JdjzD2+f7qm9DrVP0s4l0dKFMRx9H4ukew15f7Kux9Fvys0TmJ3D/P+6z+OiLL+VffBL4f7/qF3Nvvdyo/NHifhpWtqPMS6z7w3GNRz5uYdbuG34k43yGq++86h86xe8tF2HvgsvLLV957IOr9UV2P867zHXvjOnpr17EZzvu9fWldxooOXL0O/Z9NKCNTp//YH1yU9GNBym+7WtYGsnq+Zmh/qdhShOq0ao9K0sCghuRP7RrR12uGZC5rvF50d7ingqT8w5EW9gKdkdOOO3VubEJ5Sad/O9fU6iXLrD3zptdt56TCVmuDF+2UrskxSerTUFpdTe2qtarNqmCs6GDBV15NafLLkdpfHrnORfksGSlpt0BmzXT1FPRp+tuc5O41Oyxq0fT1MIzNaycvFV7EG1OW3z5x9TqMaDIv1zW6gbJsp3RNfmZt896gEUjt6s/OKS+npS+q1fBKv/1qSsaEvhgIXaCr3p2ZtXeCJKlP0wsxUmnNQX3nu5+Ofl7WvrGi567eodGFV8qrqB8jWwqv9PpF0ddb36fpZyvKmMv66VByrrf/WWL1bK3oa/t7gR4rO51z/+w/vm0aWje979XvQtZ/bYdFLZrB7ILRBVPrhqnFn6/Ts5fTjjubYSyndUMqvKmts7XrUbOfnvP29I3N68Bd/xjLhRyHXd49ZSpMnOtejyk9MgPpjv5nSvwyEV8z53U/PReRatno+v1Hp6avjtUoK+WipB8LhtZNd8p8+HmxNHsf2M92/zP1cE8F1Z6VneN9p4x+uaKMTO2n3WXKrtN6nt19mi5470nrWe6qf7tdlPTYWNZ+/pXO3c+8WHX0Fq5ji9oXnKQHvS+AgaxeunKGL9/uab9a0avpvz8o6UynTb9wnZQu5ySFP/CtfGZrfMj+khG/qxXJYqR0z/OBNa6n+rKJeqB8lPIGyU3wBL+SRh/6Kqkddm/QsBsBIsYu+SqMQ/dJR2xe4zJklYs5zwtTsq+Pea53MbYx9JH3E8/A7hsoy9WULnufrcYjf2qXdU8drBmSipq6hSmBVtA123yaQeD5Yr9fvvXfZx9ryKhTGXTG9XzpazgYGNSQao0po1/6K61WJTjz6HPf9rwpFFMFBRsaQgLF+GUxPv/zsKZPXzwKBrtNCazXagxyB+wtXQ/3JkIaH731j5DjiLqefjGve7TwynD4dYxRJmJr7rxmBj8OX03D62etrzATf5Yz/zPLLfRd3Mp9MDahvK9RO+r5fuP8+2+Xnchz7udJCbNSyoLl7lirYYGJgo0jDu890vx1bNUHN7v6mndnpiRTU+liyL8aza/QfoGvu17yow9zUmFZPx1mg2NMyid6IiufbnxpWePpvUBEjtvr8u8zyc6zXQz596Gm12g9tDNrrgfDmJWrv/jzsab9vRboEVc6LUsyZ5UqhP374LW30P6ybLf+pudqFZCBzzVpSIsvSvq6EBxjcp6VrDzzWRVmhlUIeZklUX92S+f3N5WaMZRakhXMx5mExN+4dnGmU0n7M8MKvczpiPX8c659mdqPuHYZ53+c8//mWE/GRly9cbUK6tGGVfHMrJk6L/TVPis3OpibYJf7qOO+aa1ejyZZQfuydg/nNTpWqyA/b1RPiHvdr6ntZaLJ89p6g5c1pfvQxrCm7HMUNmbNzaozTrS4vbisRu2pX3/XZTarfidY207+s67Gfk7bEy+9HKh9dupbsjAzKymnnZBn+bszUzJNjaeXQ7bh1NGbv46t6lhwcm/QkDQYHHDeoqM3VpAT9gIvOA/8EP3ZLZ1/ZnVrVSuZH6WUafA9JJsV3at9Aaed6qclu5LjVtjT0cJIRwf+IinsFsH0zVXW216WL37XrqmIgGpPv11kI7ZjNepMbgxrqrCl119uaXrAPv5Cve912di8zsvzcl7Q4+nz5t87dqvl0HaTM4Z9lFJGhiYbXju7lX7JepbojZUSVP3O4aamQlJause+7t3S6vWIZVBDzjkeyOq7/LKm3hzrydjHdm/Ws8bBbezr3gKnV+8mysSNnteg0YUTnS/IGsA9Yyh1Fv0cvTdoSB0IxEe/XFHGsJ9n/1ip3Du3aJbAow07zTtGI0x+29TQC0NTaQWeiVZmxkSs9TRzHVvVsamEm07fiphJwOK0anunsTwvn2inlSlW7VYspma9xZpOeal1jYelrRy9KdZSqNx/tnNSyExHndCf3WIq6gQIG6/RVi2kbznjkcLSmZyU2h1/WTatnOawKdjrGX2Yk1r4XueN6Im5okxLacN2+sKbJsdRhI59DGflhRe1e+hPUY5iLdct0eU+7riM62jxeriEfdd6zntT+qwMjD0d2WNsvovTKtzEdQ8X9l2nx3OwzjP/umXi+ue1JfZ4n3rpaP33ByPTqK3r1qZxbwOfa9Iwtfv2WK9fFJVZy93+hkencTWgT9MFU+tGUVO+unW98x0pxnVsVed+58QZbGbEm57NeqFKoRXBOgOWrBen/Z2Lkh6HTN929POy9uXOD7UHril4wXRR0moSfnwP9dmD32LnQjqtyQp7MNvBbyD/W9WB+B1/mFeDqQT/MnGPcCqVU/6xa4eb7Rmf0WxZdlVQgoM/61Qc7UYZ5ztHGyHbswdJenKw7cH/+0tGIBg62mh9+s128G/feo+4WsZjcwbLBsev1D9Ga8Dq/pLhKwtXer3hH+topZQUZqyWT0+utx2genLhN2YjKhzxNBNUh0+Y8Cy0UnO0YVgD5Ru1nF6rAt/q9XApzAZ+/HMqbLyFnb7744uziPsmevKdeNc93P7SU8/9Z51XVz0lbpmIPM9hgUgbzmssx1rdCJlooF7gNTavnbypRcP7XLKuW3DK89b12T9FseWZNMS9vdbeu50J/KxxNe6g4lirM2HDJxx9mi5YEx547uWoOrqnDtzCdWxRx9K6PLlq/nEnIfnMzmxfYYPonVbt0KjZfrAU3hzryUJWLx9uKpWe9S5jrOignA0ZwP+5XucN7/4ZKzooBPOAq6ppP+7uVicHsKaafhY3BxpNG1040cHgnMb9qX5h59ypmPlnnpBq45lCZ+uwKxSkdvWwET0pmxrKG978XGNFB21q2W6qLFfLZEhAbQfh+W/DKo611KLfLrKaXnim0/ywUqZ3qfz2iV76nsGjCyc6f+ga2+Fa9on9/9b4PtfKXGlleVcaSdzl4in63i8hv10V19i8zs2UHhveY8ysmXpZ52u1cS/ePP789ommfctarfTF4HUbyOrl9rnn/Oa3T7Sj1scX9GfnlF+atc9P/fMSvmzEOzzsfRrKqsCP2+/MpnPVW7weDiulxV2+rRz9YIqUs5+m8t9uxT6OZq57kKF1c06nxrBS1c981yh2mYg6z1Ygsjhj319Oveua5zW2gi+tNMY4tvDn4DXu6QhOeS8YK43HF8UWcb7brD+7pZ2z2hgQ6/y8kkLGnNSM6Im9zFS6aD9no+roOe2Us7W/tnAdW/GvSqVScf7y17v3enDvw7ZvBJAoX71+/O3w17v3ksR5BHBjLktzGv81Xv79tV2U9NjYu5nxKojJalBWh8beIJpTT+pcWhcAAECi2b8zFJbWizvpsrTl+k0zJAHBCQAAgGoV1VgD4XEHOD96ewcGwt8hBCcAAKCnWQOfhzW+1L6fPECSHWvV/sHC0xv6rQ60jjEn6JheL1+9fvztwJgTAADuJsacAAAAAEgUghMAAAAAiUBwAgAAACARCE4AAAAAJALBCQAAAIBEIDgBAAAAkAgEJwAAAAASgeAEAAAAQCIQnAAAAABIBIITAAAAAIlAcAIAAAAgEQhOAAAAACQCwQkAAACARCA4AQAAAJAIBCcAetbRxrBSG8fd3g3gjjrWanpYj0tX3d6RDrvS6/ywUulhpfIlXXZ7d9CEXi2zyUJwAgA3xq6kdDIAOtxUKj2n1xc3s/rL0pxS6U0dNVjuaKNdFbNbdg4vSnqcHtbqYbu25aro+v/ckYpv3DJ1O1zpdd7QYvqVzssnOi9k1d/tXYrjcNMqUw3us6ONYDmMqshb19W/vKush5T9u1UW0CqCEwB330VJj2+wwh6tT188MqTCXudetmMTysvU7tubafnr/2xCGRW1G7fyfW137xx6t5XTuhFjW3m7suv6s5Ne1vgdaOXtfJm6QRe/a9eU8g9Hur0nTTl6U1TGqHefWT0KU/KVw+1ccFE7QB//dUIH/jKbv+EDwZ1AcAIAN6g/O6d8RyteI/p6zdD+r79HtqpbrZ9RrZMN0hoGsvouLxXedK4nI9Y5dFp+Y7bq1tf4HLaPFXztLxWbDr5GF6zK4f6SEb+nJomaKVOB60wr+/Uda7dgaPJZ9H12WdpSQTntLPiCrrF5vcz2eda1aixLa2Zor9HowpamB9q9/7hrCE4A4EaNaDIvFV50LgWn/7MJZcxl/RRRYb03aDRcx9D9vsh/G32YkwpbHeyJinsODa2b3lbd/SWjpQCl0Tlsp2sFsGM5rRudDRZvQpwydVmaU2qmqPy2uzV+Qrt3JL2tWy5LWyoYE/piwL7PQsrSuzNTMlK612BdRxuzKhgrep6Nfn4AjRCcALjD7Hx9Y1n7MrVoRLSm22kI9VvbrR6FVlpsR79cUcbc029hFa8GYw5aGrtx070bcVORpMC5bbWFv+45rLuf0v7Zf5rfYOxz6CsXxrL2m95YdKWwsVbT3kLGsvjK2WVpzv7Md4wR4xL84xGautYNy9SxfloypfwrPRlzfz6iJw3HdVj7v3oYHAfR2r1eW1/1mDeOrf+3r39hJuQcBHp9gvd99ZxX7xt7mWpqqu+62dfCe1zNpLBe6bdfTWUefa5+RQeJow9zUsNg/Vi7BSn/bafH2fivV9Qz3jov3nJa7zleZ7xbs2PL0BSCEwB3WJ+mCyc6N1eUcbWqe9IQCrNKPZWe+1rbPS+di5Iep2d1uma6cqeLmooboAx8rknD1OLPIS+5j1LKyNTpP3W+nx5s+mVfryW6//6gpDOdttzzETcVaU/fG3uatM/7wZqhwkyLY3/qncMb0rA1P6RcWGWthW19uaJMi71RLV3Pw6J2H7n2u/xKeXNZ4/6KmLms8fSeJt3HV5j1Vf6sStxUecU1xuCVNDOrQuwdilmmymct95KcvpjT93pWv2etiXv99MWcdh/a61oYsdLs7Ovv9O44gdTRxrBSM2eenr2DNWnRCKvg7un76jPJnQZlatF4Kj1zjfcozOpxfk7jZ3Ou/TW1aMR8Nl38rl3T0ORn9jMxarzV2Lx28nbQFdVYcringgwNfRRnw21yuKlUyD2oJSMkqLAaqKrXrGxq3ShqKrLxJzrwP/p5WfvGir4eC/0irongBECPy2nH3fIakibjvIjcqQqjC6+UV1E/xkoZqtO6PTCoIddfvbPVXOm0LGUGP27+sJoY1O2ZUvniTKcxKhixBjGb0qRZq1xZ6UutBhjN9xBclp5q0TS0/mWLg5MbnMOwctEyO/jqyCB8KWSsgDXOJlj5N7Ruzmu0up9Wj5JnPM5hUYum7z7SiJ40GajVL1P2/pmtTwKwn6H3XdAAACAASURBVJ7zHvPYvA7WvAFRM/f6fnrO14sT4aKkHwuG1k3veIv+7JZV4fenK5rS5LPw3ofM2rPaOpyeQXPQMxZk9MuV2BMMXL7d074xoS+q+2X14oWNt3LGODnXoPuzxV3p9YuiMmum97oOZPVyO7xhIbNmuq5Zn6a/zUl1emSdlEvvtbd6iJzeJrQfwQmA3pafqFW8JEl9GkrLVUmLSlX4WENNpAyFv+Rq6zn92/r83ZkpVSsW/9Gp2fwhWexB3WEt0R+lXJVG6/iaTgty0p7qjQPxVHok51hbbf2OPoeOWupeKj2s8SVT+e3rDMCtcw7bXkGxew46Mgi/xp3iMr5kSua53rkXCFxDe8ySa7mjN8WQ+0iBwLuhBmWqP7tl9fBI2l8ymp5OOWwGLW+vU3P3etxGg2AAUGOlS/krx4MaCi2zrh4OSdVnVYyxIOGsVDl/GQ7fJ9vYfK3XxlzW+E1PSBAy0UU1MPX3+nj2M6xhIWTZhj3XIcHa4Z4Kyuk7xtXcGIITAKjn4kynquWQ1/4YWmwqcIhqkbQqGFbF51i7hZzW14xqsCLVH5xeT/2WaPuFfLinQn5F64Z7uajKkVfdSkwouzLVsuhWXYtvQLy5otOZ6/1GSienue3PzinfwiD8y7/PQoOIut+xxyi4p4Y9WGs8UUKQ1bvXLo3L1IieuPfXXNZ4u6YJb/Jej3tfWg0OTWg52GjS4Z4KcgV6zp+ZotSoh3Ns3g4Ui5py7q84KarNcoIh159qL8k/5y2M72qev0xGBuNoG4ITAKjHbv31zhDk+uOfWrOOuoO6y2e6vDjTaX5C0/cHrQp4zBSr6H2PGNTtatE+elNU/mFWXzwyrOWaeeE3MzBeUrUi28IYGkdTA+MHsnq+ZlxvZrGOTp3cysB474DmWC5K+n7JtMp0E+U33HUDTp8mylR/dsse43HdsUh2MN7Ge90tzux43XD0pigZK4HfIqn+HknD3lQ71c5ZbuBzTXZy5jhPD/AN8pRJu3ftlv2OzW1DcAIAdVkpHW154UYM6nYqL+/e7kmDH1spCeaefvtHituLEaXeoO7Tv0vaLeQ0OWb3EDQ941OTv9Fh/0BdS2NoHC0NjL+Jcxie6nP0cyuzdfm3Ff86HG0YWjTbkWJiBTmtuDcYMRbIbplvTuu/+9JI2D1sVdCdnoo23usu/fcHI3uDrO031+vVHvXTEpsZt1I7f/YYjsJsZ2axGhjUUNSYMHtwfmjKV9NqKZdHpS0VGAh/4whOANx99V5iDdVeuP5BuEcbzeZbO+vyVuSsysuyppZkv0xHNJk3tTizrH13isfhZvM/OlevJfrXPRWc9ISBzzVpFPXjizNXZcOahane4OP4v9FxpddPfYONXdN7xhd+DkPZPQSeFIy2nUNngH4taLkszWmqbPhacxufw+C24ky0YP9idyGnnfK8J8XEM8FBGLuHwF0JtyYPiLeLfk4Z8M56dKzVmeK11rfrnzEv5JisYDDmpAe+SvNlaU5TnjEm7bzXXcbm7Rm0vGXd2r6h9YjB7zfJ+lHFOpV3Xy/I0UbIrGKHm9a4LvcYHXuSgcJMWJm/0ut8m1LwJEkjehI149pM0Tt5wDVZv3u0px+b7aVESwhOAPQAZ2Cz0dqvho/N16andOVm/ziYaz7veGwiOKjbSU9wtaCOPsxZ/+NKgWot1zmsJdpu9TdNVy+GvZzpqqHWG3BaFf4Dic7vIoy78/bTrzy/Gl1voHBdYedQkn9AfMpY1pAvdal959CZbam2zfGzOZ0X5ryDwGOdw5Bt+cfVFGZ94yBmpe0TnfsCk3hpJ/ZMWq51fq9nLY45sdfnTEVc3b89TdqD11tZX6BMDWT18uFeYHC0NX1xvEkP8tumhl64JwCQ1s0T74xb7bzXXUYXalMH17Y/qJ2Y+95edi9Z3XsvGHwHxuLYUyP7ZyxzJi4Y8o9lSRtaVJt7icKul33fv2zngPWBrL7Lm9pv6l5Gyyou5//+bwW4Kb1evnr9+Nvh/N//vRPn8fD5p5UHX+1U/tfUty4rv3z1aeWHP1rY4PudSu6TFr77x0a8/fxjo/Lgk28qv7xvbvWHzz+t5HYum9yp2nfv1DkMbKv581n77kblsIWvJkqLZSrcn5UfWrl2gMvh808rD57/2e3duNOc9zs9JwDQYdag7iZnZbr4XbtqMdc5zrS/IY7eFOP92rOd9tTcOBBrZrJWx0rcuXMY2FZrg7wv3+5Ja9dr5U+ElsoUcEMuSvqRgfAd869KpVJx/vLXu/d6cO/Dbu4P7rBeL1+9fvzt8Ne795LEeQTQhGOt2mlwsX40EfA52rBTCAudHx/US5x6Ej0nAAAAgI/zI6UEJp31Qbd3AAAA4OZYP9wINGt04UTnC93ei95DzwkAAACARCA4AQAAAJAIBCcAAAAAEoHgBAAAAEAiEJwAAAAASASCEwAAAACJQHACAAAAIBEITgAAAAAkAsEJAAAAgEQgOAEAAACQCAQnAAAAABKB4AQAAABAIhCcAAAAAEgEghMAAAAAiUBwAgBddLQxrNTGcbd3o7ccbiqVntPri/au9mhjWKn0sFLpTR3VW/CipMdpa9nHpasmtnCsVd93jjaGlcqXdNnqTt9Cl6W5xuf4DuDZgF5FcAIAt0C3KmS9UhG8rqONYU2VV3RQPtF5eV6jUQtelPTYWNbQ9onOyyd6me278X1rdA0vS3MtBjjBYAmdxz2Ku4bgBADaoPUKXu+6Oy3Dx9otSJlHn6u/wZKXb/e0r5wmxzqyY0gAng1Acz7o9g4AABrrz27pPNs728VtMKIn5ZNu70TP4x7FXUPPCQAAAIBEIDgBcOdV04cON+0By8OuAdFW3nz185A0Iyunezjku6oObh5fMiVzWeP+f5d82w35d9d6UhEDpQN55RclPbbXUxuIHT0Y238Mj0vHep1vnFYVzGe3ztfqoX+dYQPMfefW/p5zPqYKkgqzofvtPSb7ew3WHX4s/uWazM1vcO2sczCrgqT9JaPOIHdrP8aXTElFTbn2JXLMwA0N3G8s7jWOGnNyZZWtOtcmeE9FXBfffZHKl/QuYq+DZbzxWJg7+Wxo6h5t/dkA3JiKy/m//1sBbkqvl69eP/52OP/3f1s6j4fPP608+OTTyoPnf9qfXFZ++erTyoOvvqnkPvmm8st7++P3O5XcJ59WcjuXrm//Wfnhq53K/wLr26gcuj773843lQe+5aqff/Jp5Yc/3J9tVLdZ3Tf3d//YCPnON95t2vvqXc45rkb7ay/nOSfhAtut/Fn5wd6u+zwFt2Et5zmXf2x4junwedj2Q44h4ny4/x567cI+s9f1wH3dI1jH5F0u7HqGHmuE4PkM/6y2r+7tB7dz+Dx4veNsM/DvnnVc4xo73/Wvz3/v+fYn7FxH3wdR3w/eH42uyZ18NsS+ftd7NgDt5rzf6TkB0CNy2lkYsf+/T9Pf5iTTlNaeaXrA/nggq+/y0v6vv7sGr47oSSHrGeg8+uWKMjrTaaMW7YuSvl8yld8+0RPXAOj+7Hxtm86+ubcxltO6IRXeNG65zKyZrnU7x7Wn31yttz8WDK2b7hmk+jRdeKV8w7XXkX/lmWnKOidF7To9HBdnOpWhyc9cs1GNzXvOQ6jDohZNQ+vP3OdjXjt5qfCiNqi4P7vlXZdz7c7+U/3o6Odl7fv2U2PzOlgzGh9f9bxtea5Vf3YrsC93VqNrHOJoY1YFY0UHnntmRE+ce++wqEUzpx3fjGajC6bWDVOLPztl/kqvXxR95bt2/j0uSvqxIOW3XescyOr5mqH9pWKMnrK7+WxofI/e0LMBuCaCEwC9IT/hnd71o5Qykobux5zK1Z1+YSxrX6ZO/6n/ldgzM/n3TX0aSksqnzWoAPsq/5J9XLV9s/ZhUEMD/u9+rKEYdfTIXX444v1gYFBDkk7/vnL93dSi0Vwa1dGbopSf81XQpHuDhmSe+1J6vOlDUwW5zpk1g1ZgPyX13x9suB+Xb/e0b0zoi8B5k0Yf+gLAO6rhNQ5oPGuZdX395V2S+vTFI0Mq7Fnl5eJ37Zoh5Vt2WXCxrtWKvvbdZ9Z1jhEo3MlnQ+Prd1PPBuC6mK0LAOqxf5diXzntlE+sioL9WSPvzkzJmNC9G9/JJO7DiJ6UTQ3lDU2li5IUaCUOutJpWZI5q1Qh7N9rQcXRhhWMZNZMnRf6ap+V7QUuznQqaajFvX93ZkqaaPHbPco555GVevv6pmOs659z7UuajLHouzNTMk2Np8PuyRusZfNsAG4EwQkARLrS66dWatD5QrAFvpF7g4ZUbrzc3dWn6cKJpmUNuh2fGdbpmlnnhwftVuF0g/N9uKmpkJQrD7uVuFWdvHZxenKuv36rB2E05Hy9OzOl9FzD32hpqOE5t69vHB+llNFZrEXvDRqSMeFLJbtpPBuAm0JaFwA0yUqHaKz//mDX038iU5Aufteu2bn9cMYKuMeEhLk36ErtaYqVUlRjpaaE5eYfvSk2XFu9a3f0pihFpHy1Lph+FGc/YxmbUF6mdt+GzyIWlf7WvOhz7oi+vlf67VezlsZkpwUG99leziUJ95mDZwNwfQQnABDJbul1V6bsgax+oZWNsXnt5E0tGv7pZzc7Nz3sWM4aaOwZ+2G3+t7kdi9KWvVMeWqPRxj8uPpJWEW1PzunvIqa8v+i9uFmbTphe1yNu+J6tGFN51tjD2wuzHqnXj3ctMamNBJ57easXptnbWylt4OHxaeuY467n7GM6Os1Q/tLhm9K5iu9zlsD2P3jNVrTp+lnK8oUZn3T0B5r1f57f/aZ1o2ipgJTRxvWQPlqL0T4Pl+WnmrRf/uFlnGFlMF26q1ngzXdcDemtUYvIq0LAOoYXTC1Xq6Nm5CxogNzRd/788rHclo3DC0aw1pULeVodOFEB4NzGjeGtegsa6zooGO/6Nyn6YIpucZ+SIbWTVPrT43aPt2A0yVDqaXa3zO+lK7+7JzyS7P2fjkzONXGqnjGEBgrOnAq6wNZvdw+V2qmtv789ol25BpzIklj8zrflmc55V/ZnzVOGQq9dgrONHV9I3pirujUWK4dcxP7GUd/dkvn9zeVmhn2BHGZNVPnkWl2LRjI6mV5UKtp77ih/LbzS/JWqt/QxrCrPMq6vmVvwNef3dKBrHRAZ1WZNVMHa0817ipXketUTjvlm7vReDYAN+NflUql4vzlr3fv9eDeh93cH9xhvV6+ev342+Gvd+8lifPYFld6nTe0+6jeGBAAvYdnA7rDqSeR1gUAvcjOK489XSqA3sCzAV1GcAIAd9qxVv3jN3SsVcOaaajhjyICuKN4NiCZGHMCAHfaxxrSbOA3INo+1gDALcOzAclEcAIAd1rtt0YAoIZnA5KJtC4AAAAAiUBwAgAAACARCE4AAAAAJALBCQAAAIBEIDgBAAAAkAgEJwAAAAASgeAEAAAAQCIQnAAAAABIBIITAAAAAIlAcAIAAAAgEQhOAAAAACQCwQkAAACARCA4AQAAAJAIBCcAAAAAEoHgBAAAAEAi/KtSqVScv/z17n039wUAAABAj3pw70N9EPYhcBP+eve+p8tXrx9/OzgNKJxHAADuFucdT1oXAAAAgEQgOAEAAACQCAQnAAAAABKB4AQAAABAIhCcAAAAAEgEghMAAAAAiUBwAgAAACARCE4AAAAAJALBCQAAAIBEIDgBAAAAkAgEJwAAAAASgeAEAAAAQCIQnAAAAABIBIITAAAAAIlAcAIAAAAgEQhOAAAAACQCwQkAAACARCA4AQAAAJAIBCcAIEkXJT1Oz+n1Rbd3BO1xrNX0sFYPu70f7XO0MazUxnEXtnyl1/lWtn33roEON5VKDyt1144r4Y42hu3zvqmjbu/MDboszbX1GNu9vk4hOEHC2S/Fei+Ci5IeN3hRRN6g9ndT+ZIu27TH7Wbte72KQeOKQ/QDyjm/d7VSXis/kX8SfO0BtNfRxjXu+cNNpWbOtG6e6Lx8oidj7d67TrOCx8elq27vSF1HG8OaKq/ooHyi8/K8Rru9Q21zO85/NxCc4NYozLQa/V/pt19NZdZygYfa5ds97RuGMuaefkt65bww22JLXfTx6+J37ZqGMoap3bd38QHZp+mCVZE4L5/o3FxRRlJ+2/VZIav+bu8m4EYvXiIdvSlKxoS+GOj2njSve71u13Ws3YKUefQ5z+keckuDEyvajNMCWm11DvxxP/ijWld9leHIFvqoluvgfhIhtyifU15FTbXycLUr4JOf9fn+waq05799psnEV85zyudbDNAij98OzvJzev7I0P6vv9ODcAdFPQODz7GI56q/186V1hL9bItuEYxquQ7u5+1LRUDyjS7QIFEzoiflE73MBt8N6ATOf5RbGpxYMmtmrfWzbGpdyxoPbW0yqt2wtT9bmva3fuRfeddnFDXV4gvSetHOquBZ54me6yl5qi2Z0NdrhlTYaro18ejnZe3n54LX+7CoRTOnybE+fXELKueTX64oo6J+bDLAjTx+HeunJVP5hyPq/2zidvQeoUU57biff9s5FWYiWlJ9z6zz8onOF0Z8C/meqds57S8ZLTa+WIHM+JJ8z+kJ7ZJyBwA9pw3BiauFzNeiFlYJ97eOta8noU/ThVfKy9Ti03a80Po0/W1O0plOm62wXZT0/ZJpBU++l3p/dusO5Kl2R3/2mdaNZq+v1SWcf+ivXNld9PkJjUp25XxZPyU5cBzI6vmaof2lp00EaNHHr8M9FZTT5Jikgc81aZha/Pk2dvu3X23wZXQLvneZeINja2N/fL21YZVwfw9FO1MyxuZ1sGZcI1XQv76c1g1p/+w/TX/1aGNWBeW0E2gwGtGThi3cwd6exu+dqHSpBj3dh5sh37Wvo//6HW56yk2gVygy6LLXZyxrX6YWjYj3pDNWru571H888Rvagu/pqOsafxv13/3R4+aietqC91+8/H3/+i5Lc/bffcfi3hf7fE8VJJnLGg9cw5Dsi4hMitVD177by1RTrjz3vFPW6uxXxLn1lFN7nVMFSYVZ33WKOmcxsj5cqYdxnpehAr2w3vur2sgraX/JiFdnbLDOlq+V+5o3qOtGlqnAuYk/5iTW+8b3XEjlS3rXcM3J1Laek/0lQ6kZVVvnDtYMFWa8heJoY1jjS4O1FjxzRWq5tS3MiNW63uUW4KOfl7WvnL6jq67N+jT9bEUZc1nfxywzl6UtFYwVfR0ICH2V9oHPNWlIhTfJrpw3G6BFH783OJOs3iMV9no8lcaqEO4+9PWghlREagM0az0R8Sr6RU2lDe0+cnp+XylvLmvc9YK8LM15Bt6el18pX5hta4DSn51TXl0u8xcl/VhQ+Hioho61mp7VqbsHfTsXWKowM6zv9ay6zE7e1KLhqyQcbirlX5f9fqqe87EJ5eVP//yPTk0F3jnue+uyNOd975VNraejjskeI2WuKOPqnfKkfRRmlXoqPff1WnnK3kVJj33Hs5OPlwkQeE+XTU3+OqtF07dgE9s4fTHnuQbX62kLuf/Kr6QZqxLbEnNZ4+k9TbrHphVma/s3kNXL8ol28pIMe7tO4HxR0uO0ocW0u8fRvl9DgqrTF3O154u78bIwq9SbCddzx9Ti0zk9Tm9pyIzYL0nSsX76dcJ1LnxlfGze/kyuXtE6g8rj3Au1ExfjeRnuaGPY94w70cGatGjUnqP92S3rXKqWKVMvBcp6bhY9YwoP1gZrCzR5rQozrmMz7bpHfk6pF6nq+Q6r61r29L27TLWcjRPzfXO4qZSxrCH3sT/a09SS/8a9HdqX1mWs6MBV4Ps/m1BGpk7/sT+wX0L5bddNUW0JLra5QuTabsuOtTpTlELTYeq50mlZkpHSvevuAoKa6j2wB4KHDaRz9xpIuj2V82YCtDrHH9KjYt2zRe0mufeoAzJrpqt30+5BdVc+D4taNA2tP3O16o/NaycvFV7ECxrz2+6X7Igm85LKZ/Z3rXS7zNoz17NnRE+2cy2lNTZU3W7rLktPrXPyZUgPXT3/nGtf0tD9FhpyLs50Kt9YqrH5YM90/pWnQjNqp0fWyvmVXr8oKrNmeis+A1m99Jxz6zp50j8P91Qwcsob7neO9956d2a6GgEkqU/TC9cZ85DTjrtHye61cgeZRz8va99Y0XP3cS+8Ur5RWuhFST8WDK2b8979LVgVRLdmtrGfnvOeW7vnrqV3v52O6zkHGtETe7KL1viOeSCr7/zXOoKVNvvKlyVh709Ib/x+ei4ieyKnneo6nOeOKbmfA6H7FexhtMp4C1kfse+FmobPyzDVcubtLe3PbjX1HPWv8/slU/lt7yxq/dn56jaavVbKv6qtyzn3pjzPfquRJ2TMqilNht5HTaZmx3rf1K6b99it83kbtS84SQ96H7Z2S4Nzoi7f7mnfUxm09N8fVEupUxGs9fnVusfrdj1WuzyHra5EY0UHgVzrRuyWNBd/lytjTq7HeRg0TEGqMxD+9Yuir8JwiyrnzkOy0Yu93kD40pYvONOt6T26WSHn66OUp6HFahUPNlrcGzQk8zxGN7qhoY+8n3gG6R7uqRBjP67vYw0ZIR97noNRaUPeZ+r4kqn8dsg4vgYu/z7zfeJLg6jXAjswqCGF9IL4BFIaBwY1JOn0b/uY6twn/t6S0Yc5zzU+elNU5lFOk2nXfWMHTc41vjdopc+1LUPA99yS+jSUlie43S1I+W/9AZB1veul3lmzF4bNRuUvK81tIyyttNV3vzVjVkjjn31dWxJyzPHu5zppsxHP08zgx+Gr8l/Xj1LKqInA3Z1qZKcFNv2saOJesLT2nIouZ8491nz2S1Qds6b5a+Vf9t6gIWlQQ3Gec3Xuo2bSX2O9b+pcN2ufb58POrWhd2emJFNT6WLIv7bv5AVfdtb6/RF6KF9EfbQxrPH0XrzvVgVf+P3ZLZ1nZXUpGstxV4RIVityYWZWqw9P9OSj8KWcVpKX/mt38bt2TUnmrFIheQD7L0r6OuGzuYwuWF3RUxsTOl8If9lFHr/doxJ5P5pbev1l8xXN3mD3jEaUHSmscaQ51jPMqvwvhvx7yxWwALshxf/4DbQshvE9Uy9KemwMKxXruzVWBdXdmmPNXvNEzm8b1Pv2iJ6UTQ3ljWo59reaxmL33kzGWXZsQnnNavdwXqNjx9otGJo0+zR6PyfN7OloYUT37IrXc/vc9Ge3dH5/U6kZQ6klWVkGN/l8uTjTqaT9meHwNKfIlDLnPT1xo9u4Hvv+8zeGdot9Hpq5J1vqJay7D1a9Yt+e9GLU9VnTmrkXriF2OWt2ncZEdMZKC9eq+2K+bzp03TqpY8GJE3Hu3PAP6FiFvl70HJ9TAVz8+VjTsV+4ditWwYpoE/EAvYvG5q385plNTZqpkAXsVpLt4HVzWljCyqKVH76n3y6yCa+cuwM0M+SBG338TnAWWpGzX2q7b680zZipEPb9nW6uEt4Mp/e3uUaRFtgv67b8fsBAVs/X9jS+1GRga7cOn/59JY21Ut6sMRrTsu/dmWGd+lNSYu1DWKNWGKvxafHNsZ5oTwVjQgcDkgYmlNeWTi+udPqrqcyjZ95zOjav8/K8nHEy4+nzm3sX2j0IQy0EavcGDaluQHj9bXg5rdD2fXXbXKe3pi2u9PppWKpSi5q6F1oXu5y1c51dv1Y1kb1nATHfNx26bp3UsamEm+7Crc460MTgIXtcS7Db+3r8BamaDlBltUA6y40+zEm3IT3olnPym6ee7gX+LXoguN1rEFFGIvNHk8jJO515ql3fP9UbCF+3+7uJXOteZaXp3ODYpBbSt5yZXJpJHbIm7ohI4WiZN+UhmL7ga/m20ynaUd6c/OqmZwyz08NC7/lAip09Nq18ptdviq7A7mMNGaZ23/6u06i0GEm1sRHtS2UOsgKoVtIz++8PhqfUOL3NLW4jbLnQ9KzA+CerkaWmztjAw73WB8S3rM55cBqBwtKIbpj1jG9BU/dC6yLLmVr/oct667R0+FrVuY+a6T2L9b6JvG5OlsTt07nfORnLWbNPNMgPdtRurpiVfHfXZptaNK0pLl03Y0SuvzMVZnV2rmqlkfElN8seJGyavgdxvYHwRS3WfQiFDHpNMCtAM7Xvef7UHwj/01J0cCa1nvPbK6wANmRGmsPN9tzv9nMmfAaYMLUKXNxye7RhTS3qHXR/DfZg1Fq5Ggn9XaLgwPnaBA/jzf6myUVJq75Zi3YLzbRKOqznSGD2qIuSHs8UA+fI+U2g3XIwaNn/dU+nvorV0Yb3nWe92xrkrderJDZkD0oOGefi35eA0Pe03Tp/nW34pqy+LM1pyjdmxXrueCf6sN6tXuH3nz2BTcfZ5Tcwk96xVg2rR+NmfzrAydRwVV6de9EnXqNKc/dCy8bm7RnFglMHTxV8g7+vvc5N+++dvlb+WTXt7UQ0GkaJ976xnrf+Wfus5+01DqGLOpbW5XS/D20MB/PcQ7okndm+6g1w2l+yc3id1Wyf6GXosmH52yHjUAq+vD5jRQdl3ywYCyfake8YIpY7f7ipVCAnN6fv+J2T9hnLad0oem9AZ3DYs2DrxNGbohql/Y0+zEmFZf10mL0Fv0ljPZQK7pdRneN3WhfrthCNTSivYpPpjL2kNtZhPO3K6zZWdNCmptvRhRMdDM5p3P/cCh2vYAXUhUK9FK1iw2dWlf85KIU8o4PPVP/ztz+7pQP5jyEknXIgq5flz/Xafz4lZdbqp5yd+t4BgVmG4hqb17mZ0mMj+E4JPAMGPteksaxFrVTHlUj2O2vJ+sFT7z77zn1ESqmXdV+P28fX9HFFHE9mzdTLul/s03TBlFzjeKx3pan1p4a3LDaxjfy2qaEXw0pVH1PWNMme9+/YvA7WzqrHbH3Pft960nVG9KT8SkrPuspLTjv2Z6d1j+8GDGT1sjyo1bT3vsmsmTrvQGrs6IKp9bLrehkrOjBX9L1vzEl/dk75pVl7uTplIbvegAAAIABJREFUsJl74Vr7HfaMi3NvNLlOY0UHWfv/O3mtjBUdfHuu8fRw7bOW0u/ivW+qz1tXnTOzZupg7anGl3Tr/KtSqVScv/z17r0e3Puwm/uDO6xT5etoY1hTurkxAa3q9eNvh7/evZcknlMAfKzxPGpzJRpo1mVpTuO/TtzsxBd3lFNP6lxaF9AJzu/pdCHPNxF6/fgB9CZ7TIR/mm4At08H07qADhjI6mU523i5u6rXjx/A3XZR0uOfB/XS3TNcHRNhJnyWRQBxEJwAAIDbYWBQQyHjoto9JgJA9xCcAACAW6L2Q51AElV/eBstY8wJAAAAgEQgOAEAAACQCAQnAAAAABKB4AQAAABAIhCcAAAAAEgEghMAAAAAiUBwAgAAACARCE4AAAAAJALBCQAAAIBEIDgBAAAAkAgEJwAAAAASgeAEAAAAQCIQnAAAAABIBIITAAAAAIlAcAIAAAAgEQhOAAAAACQCwQkAAACARCA4AYAmXZbmlMqXdBnzcwAAEA/BCQAAAIBEIDgBAAAAkAgEJwDuvKONYaU2jqWLkh6nh5Vy/kSlZrmXSc/p9YX9j/b3x5dMyVzWuPPv/y/i8wvXihtsu5oSVl3O/v5FSY/t/z/acO/Xpo5u9KwBANB5H3R7BwCgI8pbevx0Qs/LJ+qXJB1rNT2r8bx0UMhWP/vp1wkdlLfsv1sBwZSxqaHyvEYHsnpZzuqyNKfxXydc35OmIz6XJB1uKjVTVH77RC/HJOlKr/OGb9uStKfvPfso6UKSTC0aw8pvn+h8ofb9qXwquC0AAG4xek4A9AZzUN95KvIjemKuKGMu66dD12e+yv7olyvK6Eyn7l6Qplzp9YuilH+lJ2POZ32afubftiRTmnwWHmxk1kzv97/NSeaefmt5vwAASB56TgD0hvyERv2fDQxqSNLp31fSWF/tc7unw23oH0kDLWz34nftmobWn43E2PaghkK3YWjysz7vRx+llFFRp63uFwAACURwAgCOi5IeG8vaV0475RMrmLE/a9k/59qXqX1jWIsh/5xx/8VI6V7rWwIA4NYjOAHQ84bu90m60uuny9rPv9L5wkjD78T2UUoZGZo0tzRNDwcAAHUx5gRAbyjsBWe3OtxTQYaGPor+2uXbPe1fZ7sDgxqSqd23V9dZCwAAPYHgBECPKGpq47j214uSHs8Upfyc3aPRp6G0vEHMRUnfL5mBNfXfHwwdjB7++Yi+XjO0v2Ro1T34XVd6vdHGX5M/3FQqPezbBgAAtwvBCYDekH+lg8Gt2u+EGMvSmulJ4RpdMLVuFDXlLPNUem6ueMeFSNJYTuuGNb2v5/dMIj7vz27pfDunwoz7d0oMnT5kGmAAANz+ValUKs5f/nr3Xg/ufdjN/cEd1uvlq9ePvx3+evdekpo+j0cbw5pSm8eSAACAtnHqSfScAAAAAEgEghMAAAAAiUBwAgAAACAR+J0TAHfe6MKJzru9EwAAoCF6TgAAAAAkAsEJAAAAgEQgOAEAAACQCAQnAAAAABKB4AQAAABAIhCcAAAAAEgEghMAAAAAiUBwAgAAACARCE4AAAAAJALBCQAAAIBEIDgBAAAAkAgEJwAAAAASgeAEAAAAQCIQnAAAAABIhH9VKpWK85e/3r3v5r4AAAAA6FEP7n2oD8I+BG7CX+/e93T56vXjbwenAYXzCADA3eK840nrAgAAAJAIBCcAAAAAEoHgBAAAAEAiEJwAAAAASASCEwAAAACJQHACAAAAIBEITgAAAAAkAsEJAAAAgEQgOAEAAACQCAQnAAAAABKB4AQAAABAIhCcAAAAAEgEghMAAAAAiUBwAgAAACARCE4AAAAAJALBCQAAAIBEIDgBAAAAkAgEJwAAAAASgeAEANrsaGNYqfSwUulNHXV7Z4Bb6LI0p1S+pMtu7whu3NHGsFIbx93ejZqLkh6n5/T6ots70rsIToBb4LI0Z1d2h/W4dFV3Wadi3Gg53IyjjWFNlVd0UD7ReXleo93eoVvtWKt3oCxb92+cQPVuHG8nxT+3N+xwUykqtGjGRUmP08PVd3uyyo/1LEq5/qwedm7rBCfALdCf3dJ5+UTn5oq0ZCTjZYwQx9otSJlHn6u/27uCROuVnoFeOc5QtMB7deh8NNMTk4Rem/z2ifV+L29peqCru+Iyoiflk2q9I9PhrX/Q4e21zWVpTuNLZui/5bdP9GTM+9nRxrCmCq4PjBUdFLJWBeKipMfGsvZlaN10F44rvc4bWky/0vnCSO271eUdOe14WkiPtZqelXtz1o751uOsP+ww3PsXud3wY3VvP7Nm6mW2L7j+wLr8xy6rJWimGLJzUdu9Q0LOdVXgOnbQQFYvTemxsaypjYnQ/RhdONH5Qhf2DWg76wV52/Vnt3SejbPk3TjeTop/boHbq1bn9dc3m1CnThdaB+yiW9tzUm1JLptaN2RVGO0oz1NptrvNpgo57ThRYPlE58+k733RcsaQFn+uH0FfluaUMpY1tF1b106+qKmQ1oDMmlnb3nZOKsyGR+iGkwLi+uMLTJztyr3O8okm34S0oB/uqaCc1tcM7f/6e7DF6nAzZF3PpKfhrfH5bd+++c/xXTSQ1Uv7WA/WDFkPBPv4uxWYuPbtu7ykwh69JwAA3GlX+u1XU5m1FeVV1G6r6VVj84G6XK0OPZeYwERqS3DiypE93GyYn+bOnb/5vPgrvX66rH1jRQf+SHMgq5f+SuajCeXrVviO9dOSqcya6amcjy6YWjdMLT6t03U9lrMKQCsVyouSvre36+8FGV0IRtBHb4pSfkLTn00oY+7pN0/QdKXXL4qSsaLnnnX1abqQxPz4K73O292uvvzM0LLjK4Pd7q7tpNog7M7nhyZdteven+MbkW7S6FxW11ctb5v6v6U5pewey/0lI6SMBnN4A2W4mvZgl/vqMtZ3Vw99++bsf4xnb7jadsLuGf/zOiwnOrBM4Jz6j7uZlMTgGIxampBvvSH3esN9a1QeXGko3jIR1ijke/a4lvGMi7C3Ob5kSuayxj3n1X28rmdf6La816KVd2uwHAf3panz696nuscZdc7CUn7q70dwzEntXvHuX3g6UfC8HUef99jsa2csa1+mFo3G1+S616K6jrrPgeAzKPR8tuv+avZ8NHzHhzyv3Nu0z91UQVZjcL3nTcxlG973Ieeh7fXai9+1axqa/CyrybxUeNO+es1l6akWzZx2ut3o6ldxOf/3fyvN+7PywyefVh588mnlwScblUP70//tfFN58Mk3lV/e15Y8fO5dpvJ+p5L75NNKbueyhe06Liu/fPVp5cHzP4P/9MdG5cEnn1Z++KPBKlz7cfjcvT/edYcdk8P7b9Y58R6Xva6vdir/q/tZo3U3Ym3bOmZr/aH74b4OUeKev5haK1/O/n7qPQch+xY8T3bZDCsbTbDWG+N8NdDa8YdpcFx2eW7XdUuS83//t6XzePj808qDr76p5Dz3mn0eG92TIWWtur7ANQi792vr8HxuXyfPdXy/U8l98k0l95X/fq89Z6v74Ty3vvrGs7/xnxdhx/9n5Yfq/vxZ+cH3bPI/w4P3xmXll+eu74Q84wPvgRj76P6+tc3G75KG+xa4riHX3rlGjZb7YyPkfVfvPNmfBZ793uONevZY5a/23Vbfrdb33GXQObZvKjn38YSur3H5iD7O2nX0PsM3qtts/TrX7pVG5S74met90+x7I6QMOPdznHf39a5FvOfW/3a+8b4XIs9nG+6vMBHno3rsDfa/8sdGsAyGXKvD5/GvX+iyce/7yjXrtTHf1Z576I+NttRHmtl+J+sUzvu9fWldvt6J/s8mlJGp03/sDy5K+rEg5bddrfMDWT1fM7S/VLyR9JTLv88kGRr6KP53Rr9ckcJSoSS9OzMlY0JfhHR99d8frL8vpadaNFsZKGt150VtN8BO6Zock6Q+DaXlS+3q0/S3OUlFTd2qnoWcdtyDxcYmlJd0+rfTQuH0aj1zdU2O6Ml2Tips3YkBibUWnFkVjBUdJK2lI+nMQX3nSZcc0RNzRRlzWT85LYyHRS2ahtafuZYbm9dOXiq88LUKmoP6LtY1sHorAz2fA1m9DC2fpvToWXgXe/5VrdfWTu/bN+XZ3/7snPIytfu20axudjnyn5PqMY3oiS+9dPTLFWV0plN7f9+dmVJ+wtXj2qfphdp3jn62eq7dvbSjC6+UV1E/Xqt10dC66X2XfJf3Puvq75vdg+w+n+rT9DNfebB5e8vtZ6irV/ry77PAMzqsV7tZ1nvUn8ZhTbqQ/7Y2ZvJ671Z3q6lzbKbkfpaGnN845SOSnQ3gH7vYn533lfvG1zlS/pXnfrP2zXUuL0r6seBbv/o0XXilfKN135gWr0XM51Z/dsubku2s6+w/vv247v3V4rG7y5OdbeLpJRib92WPjOjrNUMqn93IhAuN7vvO1GvtlC6n7vhRKuSZ0Brn+fx1AtP02xecpAe9hdLO2Xcu7OXbPe1XK801VqU+xsOsBe/OfCPN/V34YRXzgay+SwdfTvG4gjHVUjtS6WGNL0nr5kn44PRql/f105GclC7nRhl96LuZJDvv0M4zbNT1Kakw49u3bsw+YqR0z/OBNXC0ej4P91SQocnPfOf3o5Q3SL7F7g0atfFJ/skS0JjnRWobGNSQakGudf8Ec2/vDRqSea537g8DZTJCtUs+5N4fmwgNJIbuhywrKf/QGwzdGzQkDWqo6VzhJmYVc6eZ2GkZzv10b9CQCrMRaQy+SnTVxxoyXBWiQGpPjLSIkMYa/zWqu2/2NVn/0hdc+sqDvbGGz5X++4PWc7zdjT12pdATGHsaoOx3a0gFI/a71X9ffJRSRtFlMKBO+YgSVR8IiHGdo/jvFf+1tfYh7N6xymdXtHgtmnpu+VKjpgoKVu6ve3+1IvB8thpXwwIPd6qVlTbYuDw0r/F9f+17Lw7/+2Pgc036g7ZWHG5qquALaBOkY7N1WYGCqal02EwBN/MksF7cLgNZvSxnVZ0lK+J7ow9zmnpR0teFz5vcoreXptpSas+QsPjzsabDWlrDZuZqiV3hWPu49tHYhPIK23afpgsnmpaq+zeVLobOwnUbZuayesmsXNaw6zrU6R3CLXSl07Ikc1apwFR7kuTrHfU3yET551z7kiZj70dzvb0tuTjTqRpUeqoz1lmTQYy6PnP0Z7d0fn9TqRlDqSX5ZkG0trE/MxycuVCS0vZ/x+Z1Xp5vy2G51d23f861L1P7Ec+LpqfNHJvXuZnSY8MpO9eYUcdn9GFOKuzpt4uspgdqPT7Out+dmZJpajy9HPLtG6xlxygfUZwshFjB/Q1Jwj60R/znljNraWbN1Hmhr/ZZufmt1r2/bkh1xqr8K52XR1yf3eBG6+jEvecE0d9Vg8U+ffHIkJa29PpLVzZJ6AyjUc+hY63OWL35SRoE79ax4MRp4WvXAzsOK3otWlFuMxdgLKd1PdVvF97gxGopsCJ0/w1oVY4jWjDH5q0ZvQq+whSL3XpQfTnVWfRwz6oELNkPC7fCno4WRsLP/di8zssT1vTDL0r6+ha2yjtpdUmaCg+3h1NJH0pL8k8dfl0fpZTRWfvW1w52K3I0ezKRONNmV4MLawrz8fS59Zy3tzHUzcaNqH37KKWMDE2283nha/yaSp+153lkNzDtvr3S9Gd2j8+z2jWxelQnbrxi6NVE+Qhxb9CQWqgQI0xfvOeW01LezjIfdX+1afUeEamA3XTz956d1h/RsL/79krTTvZI9fnz/9m7n5c4kv4P4O8Hnj9BwYdESGbMQDyJHjwEOrMEwZxHBD0ExvQSF3LVVYmnyaoZrwsRtnFgD8qKc44gIZOGHITMrPAFD4POLo+7T2T1f5jvobpn+kf1dPf8bJ33C5bnydjTXV1dXV3V9akaf9f5HWhI41AWyRMRXVtKOPQwVy0Eq4UfmzPmJYQf/hrAd8+Boy/2OEwz/tcdK20UIFnYiEHEu+q+SxVLv/ssDQSJIf+Yky9LvC/mmLQjRjGyQodv1Ye2b8uqVoOpHYZztUK2Up4RDmiOVIgXEG1eonkojhGv+9crHLHjROhK2LpRvMXzYszhqdXzzR2jMxxpa3RNWmbOW2hXOKmIqy98+IzSl2MUHCE3IqTMuSpjbzQuH3VRSLM05Bkwwmh6kqSmNV9viWiL1jnv/W4xG++90fFybJRF9885iLD8QHOvXPs0O3lRXJ21rnu/czKRFsvtKsE6G/VKrpVGtTkh2uP3RRoYTC1iZHUHR9YPzUlhq29scy5KWcV/Kbbab1M0MTnbmNhWWFVc8Z2lrJmfDWLIbZ20U2xIlvsTPWlZfPgtYcZmzwWcD2N5AEWj8eTH7Ezx14abl8OMtR64ymNhzh6rLSaT5zDjvEeK2y10YkU95Lp/jePbF3HoFmPyt6tuPMVG9hTWEdtafW081Kzq9Y9gj+M3JpBK4tKd3+uExmkzGvyriuO63uAgG/7XzK/z244lcu2dXpkwDZvBJ1NI6uuYWdXddbTXs/Uqj42OLdUfrHwAHuc5sYRDVceK4lwOebt79Zs034wRIcemYqnYJurejnaC6wLVW8YLPGtaSlnJj0UH1Pj+8tBKfhgjsdbntbnQkFOYzlpLL6Q6fO95z80yQrua6BhFeRK8VRd/IV7McRjJjrqHpyRDw+ZqX16T5ly/EG+Jt7QN+1lClpzxmOoPjYajxzCt6mKyWKL+6fjyGU7ii5i0xiorGZyU/Rv14y8ySGrr7vkf+ro7ZtERvzm+fIbKM0t8p3kO+2dYA2oPwy3pG9gxsTa2dozS8hLW3l5gITEqiU3ckfakNUnMeJSGVk3SawPIY2GNSWUFXTJxEpDEb1qGVXv5C/GexLC69TrVY/3bF/9+q6l7OInvIJao1xvJTR0Vx+ova2UdI6pivyeVDE5aecNYm5MguX97dR8NpbBbjrvqRnVf/EL5+LKOrbJSL/dKBid6Bj/a5hTkHPW5o6x5nHdyU8duB07JrnHa6jHz9vpN3Tfm4oVy4ZjvFiB8ZiKNLUUxvuezfa2+kjdU5M/WNA4Dhnk0I1j5gOd5ej5Lu/Zr7wOY1XRAtZwDFGzpOrbeeM9JDUd0gieNUGvZb5W1R4B6ayiF3f2KrQ2h7p/hEM3NOfG99z3S2Xx+iNGZc6VeXyU3dZxsvnHNORlMLUJdnTfS1zhdYbZ16+S9Z0bkLErTI9rI6/bQLj/FbdGmhaTNiWi16/5VrVar5j/+uPyGh8P/6WV66A7r9/LV7+ffDn9cfgOA0PlYyo5iBlHsVBJRtIg5Q0fPO9WRIDIYL0F7Oi8viC6m02wndS+si4iIiCjKjJDfwEspE1HbsXNCREREfUY2//IUG4pYhSzSb7KJ7rguzjkhIiIiioL7GMG8K/bePQ+NqLPq83rbvNRzS9zzWLv5e3Gcc0Jd0+/lq9/Pvx2anXNCRERE0cY5J0REREREFCnsnBARERERUSSwc0JERERERJHAzgkREREREUUCOydERERERBQJ7JwQEREREVEksHNCRERERESRwM4JERERERFFAjsnREREREQUCeycEBERERFRJLBzQkREREREkcDOCRERERERRQI7J0REREREFAnsnBARERERUSSwc0JERERERJHAzgkRUQDX+UXEEtso1T45xUZiFAv5mw7su1+JPN0oNv/ddlwPAkrZUcTUPK57nRAi6jvsnBARSbBxRkRE1H3snBARUZu1MgJCt9l1flHaqff6nIjI6d+9TgARURSNL5+h0utEEBER9RmOnBARERERUSSwc0JEd9gNDtRRxLKn9o+L24i5wo7EtuaE6vbNOREhTjHrf870SIhJ8pbvuNJinFvI/VpDrkpZyf6NvDH/c4dmSY5rSZvY5zw0ANqcPF2uc5MsBmDfZhEHVwFOTconn67yWJCcpzgPR7qu8lhwpMV5Ls4J+bVwJuM4znNpmBeOayG/Hu7yJT+XRvsIynksS1qN85tc1QF9HZPmuf6fx+dtykP/+4SIbp2qReW//6sSdUq/l69+P/92qPz3f6Hz8Z/DV9WHj7LVouuzx9WH736vf/jtsJp+9Kr62zfxz+K7x9WHLw+r/3ju5/fqT48eV9OH177H/+mr5YNvh9W043vOfbuPdV397V09LeY+bOk30mNNs5yx3aPH9XSZaXr5SnLO9TypVqvV6tes45yN/UnSYjtvQ/HdY9c+i+/Mc62nzXoM8R37NfQ6L1vaAuXTdfW3l85tjM8c5/DPoT1/XOnyurYvX1XTkuvSOC+uq7+9lJVb6/aSc/6ataTZOA/rsb9mXecl4yz/snOTXRdnHvl93koe+t4nRHSrmM93jpwQ0Z02+GQKSeRwVHtbfINPH3SoahooX9Tesl5/OUZBmcJ3Q20+fmoHaxOWD4ZSeK0ChYu/PL9zeaED6hTGa58MYHY5hUHjX6Vf11FQ91BZHrN8awxregZJfR2/BHkzru7V02WmSQe23taPM5hahAodR18sb7InlrCbGrAd9/tNxZaXnorbmNEUbOk7mLXk8/jykuVcRdqsxxh/kXFcw2CC5dMAvnuuANqxZRTgM470NFQVOP/TPHdRbpLPn4r8ucrjZw1Q9y1pH0rh3aaCwmrOPuKiA9OWfA2WFwOY1ez5Yl6P87/NdF7gHAqmn1iux8RS/boWc1jRFds1xcQSDlVAex9uhKH06zoKSgbvrNdleQ8qcvi52eWbW8xDv/uEiG4ndk6I6G4beoppxdLINBqe0y9iSOrH+GSEh1xe6EAi3qGGjT20aEZDw8b8cFwBtHmP3+w4xZEGqM/G3H8yzlX76B/e5fz+cFwBEMdIwM6ZNVRIhOxUcOn3nY85IEAH0HVuQ3GMwNpRCCJ4PokO7AXOzVChL8coqFP4Pq6g8OGzcZ3+wrkOjDwYqG+jZPD9hH3Xgw/igGVfgjtfg+YFaqFM9XC5Wj4MxTECHSuK/DdySh9zgLpo6/wAxrUOcL3qjLz8wdnwv48RpXFHu5FW87DxfUJEtxVX6yKiO068GV/58BnXqRTw5RgFdRG7Q/cxrazj6MsNZlN/icbXvqQh26JSVnRGkps6KtpA/bOy93cGUzuoPNhGbE5BbBWAksGJZjQMry5wDmCk7SkN5jq/KDoj6h4q5THLZ37fvMF5GR3sADqEyaehp5ayADGy9sMOBu9NIbl6jE9XKcz+fQwNaRwaDenLCx3QdUwm1iU7VBz/jGHY9kGQvDjFRmIeGhRs6WfYHap/dl7bZgxrZR0jqoKZRA4AoO6fGSMnxjH0ecQ02f7jDbPExsjLwtwopLtKBN+VVWt56HOfENGtxc4JEd15gw/igH6MT1dPAaPhCUB0Wi7+Aor2hmfbeITuBDKxhEp5CWaDdDJRwWF5CePGKEJPXOXx46puaQCHMYCRJhuxTQmVTyJthQ+fcf0EONLTeK0BgOi0nP9tjkLs1UKIhuMKoEw12Rj2z4tSdh5aoMb2AGa1M8zC6CTOjeJ8U8duyjhGwhnW1gQjL0eauu7eWstDg9d90r5kElGXMayLiO6+iSkRq//FCOkyGliDD+KAdoyDPy8cseudJEJkgjPmSNTCXEQojTR06+ozjnSPUKaOEXMxghBhOMfSEKT2C5dP48/SgF7BJyOky5z3MZIAtI95nJft29c7vM2lrqm8KB7LRy7MNKV2cGiZz9S+/G6Qly1oNQ/tnPcJEd1W7JwQUR8Yw7QKnH+wNjxhdFoucPRB70yD/l4MSceE8lJ2vmEDU2xjn0Nw/eUYhVrM/QBm32aQ1OYdS/SeYkMRE8Db+XbbxniDbm2kXuffYMXVN5E3ZgdTb7Gl5DDjWKLXeb7tETKfPMrC+LM0UD62dWrF9mlsKZL5Hld5bASYA+GXF2JeiLXhfoqNuZx9J65jiY5vMn7fOMYiVOQw41xet7gdcjnhAcz+kJbO73BeO68Oh/TzFvOw8X1izPPi0sJEtw7DuoioL4w/S6Og5WohXcIYplUdM5qC6bcdOOhQCrv7lXpMPMScgEM0nnMC5GpzCIS0PVRlKIXdchwbCft8guSmjoptJa12E2+nz5X6cZObOk423zjmnIjG7MqcsV1txSwRgjSSHbWfn7qHSieSGyqfzLJghnQZJqag6jloyhTe2bb3OBekcVhOBUicT16kdnB4MYoZZRQrtf3uAbY5J8D5ar1smedWX+msPifFNq9DyeAk1OgdRPiUHsOCIjmebbs0thQFK8ooVmAJaZR+3moe+twnRHQr/atarVbNf/xx+Q0Ph//Ty/TQHdbv5avfz78d/rj8BgDMRyIiojvGbCcxrIuIiIiIiCKBnRMiIiIiIooEdk6IiIiIiCgS2DkhIiIiIqJIYOeEiIiIiIgigZ0TIiIiIiKKBHZOiIiIiIgoEtg5ISIiIiKiSGDnhIiIiIiIIoGdEyIiIiIiigR2ToiIiIiIKBLYOSEiIiIiokhg54SIiIiIiCKBnRMiIiIiIooEdk6IiIiIiCgS2DkhIiIiIqJIYOeEiIiIiIgigZ0TIiIiIiKKhH9Vq9Wq+Y8/Lr/1Mi1ERERERNSnHg7/B/+WfUjUCX9cfuvr8tXv598O5gsU5iMREdHdYj7jGdZFRERERESRwM4JERERERFFAjsnREREREQUCeycEBERERFRJLBzQkREREREkcDOCRERERERRQI7J0REREREFAnsnBARERERUSSwc0JERERERJHAzgkREREREUUCOydERERERBQJ7JwQEREREVEksHNCRERERESRwM4JERERERFFAjsnREREREQUCeycEBERERFRJLBzQkREREREkcDOCRERERERRQI7J0REAHCVx0JiEQdXvU4I3TlXeSwkRrFR7HVCoq2UHUVMzeO61wkJ5RQbHb621/nFW5gvFEW3pSyxc0J0C1znFxFLjCKWGMVC/qbXyblFbnCgjtbyTvrfLaioqTW3s9FLRLeL8bzJnvbLoQ7LAAAgAElEQVQ6IbceOydEt8BgageV8hkqegZYVRBLbKPU60TdCgOY1c5E3hn5lwSg7ls+01IY7HUyiSKh86MAXdGhUdDb8tbZTykb7Qa0Vz7f1vyPen5H0S3unIhKNNAFN4bU629LvRt2pWywt6r1N9nyfYm/+1WODd7q3sIb8K4RZSFinYChFHb1DJLIYcZR9oOVOepHYcqGsw70HKlz1asejdritvF3r+MHrMtr+3H/59eYHl9mJ5SI6La4xZ2TYK7zi4gp6xixvCk9VHOYcT0oxQNyRkvjsGx5q/oW+MX1cL7Bpw86kpsZqMjhqNW3TEoGJ9Zj8m0uNTKUwmsVgHYcrY4T3XJGHVi21EfmSJ2sI6ysA5u6rd6a/ujuzJc+5gA1gy1Fx9GX1kMSbaNexn9rEy3vloiIIqINnRPxQFvI37jebMneZllj5zsfP3+KX1Z1JDd128NrfFnHlqJj5U19dKKUnYeGNA7LSxi37mIohbXUgH23V59xpCuYfpLCtApoHzlc1zmWGE7Hm1pp2XG+XeVQKjXBPnogHz1zjjAECYUR9d82Ss5RU9lIaZfL8nV+R9SB1hcjQyns7qcBbb5+fld5/GjUq7uOunF82VF/4hRHGqA+S+G75woKHz73ZETYPefEPWrt9yyqhWbUrou1XBijPwFG522co0+q9ZnkUS5ck+udx3aXlXo4jGNby3aiPM9DA6DNBS1zktF/yXdqeRekDjcVtz1H27znEBnpUdZRgI4VRXacYGm2MdI9uaoD+jomPUYC7e0bj5HCBtfcX4Ny1mDRhVq9Y5TdGQ2ANi8tq8200byur2dolu0cLPnklc//FyD/fY5duwdq25nfr4cyBrp+YQTIb5taOKKjjBrl0z99/nWBjPkss13rZq5lOyN+qhaV//6vGt7v1Z8ePa4+fPS4+vBRtlo0Pv3n8FX14aNX1d++1bcsvrNvU/12WE0/elxNH143f9x3v3tuIUuD/G/++3J99+Vh9Z9qtVr9mrWfU4Bj111Xf3v5uL6vO6658mXk0aPH9vz8mq0+fPS4+tPX+pbuPA93XZ1c5bVFzZ2/jPy8gpW5263y3/+1lo9GnWMtN86/2cuV7B6VfCYpjzLiGolj1Os99/Vsd1n2LxuN9m//W6hyZq0fvx1W09LvBTy3gHksU3xnvV7G9bMe79th9Sef55DYx6tq2plOyXPM61lnS7vrfBzl6mtWms8i/+3PWtt+Jemplzu/56+4FoHy2LxfbPlhXEvHM03kh/89Y79OYl+u9kGje9i2jaSshUizjO3Z7/y+XxmQnnOwNoA47qtq2rY/89lofiYp15b0udImud+abaPV7g3becjy9ffqT9KyYc8neT57fx4kX2t52Mr18yW/Bl757VJ7BrnbOumXr2z78Mq3QHWBJQ/Efhz3StD8dJbHd623Zc3ne/vCupQMTiyjDoNPppCEjvO/jQ+u8vhZA9R9y5u1oRTebSoorOY6Ep5yeaEDyhS+G3L/bfBBvP6P4jE0AOqzsQB7NUK6nj8VbxfvxZBsR2gX+UjjsLyDWfNaTkxBBXD+p9nTN0fJ3ta3wRjW9tOAtnMn5mHU39TPQ1MyOFkOUl4pLPtI6wBmf0gD+jE+mWWomMOKrmDrrWWEYWIJhyqgvQ/25kjdP7OMOoxhWgVQvjC+24OyfHWBc3jVgfcxopj/X9R/XvWqkwjpmhJ1/lAcI2hPaFdr/sK57jhX2Qi5jB7Ha8d9V/p1HQUlg3eW748v70FFDj97vnW+wcH7HKDu2cva2wyS+jp+KcKo45z5ZYYUp+vP2tSOPazNCPssXPzlOKaCLd3+/H2tounRrNKv6yioe6jY8mMMa7rlHGwco3ITaWwpjSIPxvC9pH1w/eUYBaQx3UQoX/g0h6Du2UYSx19kHG2DANe8ER2Ytl4/DGBWs5Yzo65y1hHFY2hQMP3Ep3y32kbT43htC0eX5esY1hwh6yKfLnDedL0WIl91YPqtR8i87/XrHlvdb9wnBT2OQ0u5laUveF0glLKjmNEUbOmWtlXA/Ly80Ot1u7nNcvumI7Svc5KI2xM1lMKuJRbYq0IRnYRWCmYrLJ2noGohXUYhHnqK6YYVbJBkmMOUDEfypMQwbPtgDGtlSwPPqwK+F7N3km+x4bhSn5/EOUkd4l+GRIN70VKZC8NxBdAruAxwjJF79k9sE7ajWpZrnaegzJAu84EqOmGthnbVQo6aDr8QnS1tromwDVc9ZJzjD877URzDq1FgPke2Xjg6g0NxjMB86SJpnDufPzX2MJAZDe7rJelQBi+zTs5raz0Hj2eirSEDAAMYSUjSaSFectob+M7OWUfTHIJrv7ZriYDXvAHpCwFHOZN0aL3qK6frL8coKBl832wbzXV94X1u1pBVIwSv6XotVL7GMeKRD77Xr2uc97dxn7jqHi8B6gIAl/lFSccEgfNzOK4A2nzHpmb8uyN7lbi80AHomEnkJH9VJJ91g9FICHFTiE5WHK9rF3MA3z1XgNUdHLzY8a0A5MnI4ISNzZZc/3kBGDHGK5K/j3Q7QXRH3eC8DECfR0yT/T0u+zCUyJZl5wsoP0Yna8vSERt/lga0dfxSTDU9iV3db3UCvFheeiQ7ihkjj2XzZ6SceWCMOBXmRiEtDgmP/fxdQQE6Ch7XOGn8r2icr+OouITxCcsojeU5I95+inOoaAP1z8r+p9M047w7XhaNTsPKx1OsTYzVO2dvA1wrp26l2UvAa94a8QJg5sNnXKdSGDQ7ZPv+o+yXFzqg65hMrEv+2qY22lUeC8o6ChALD41bPmtamHwN3MC/nQLXBfo6ZnSxnavNGrRuSu2g8mAbsTkFsVW0vR3btc7JcFwBEHdPOO/0MTXxVsiZYaIBYPaiY0hCvDVZm2h0ExshDR6drKMvN5gN8oCjtjPD9FxvAYjayniLlXCGhrRPT8qy9a3YhLMOE2FQyef3UTt/7RifrlIN01f6KOpIWSfLv67tvPHlM1SWId7izimIXTRxTY18GwnbYboXQxIKpv2usa1xDqOhaWkAFLflbz87zTjvzhOhSitzxygtj2H4yzEKypStcxZY19LsIeg1b0Iyfr/2/8dfZJBUjPvz72OxyEWAsilG5qc68qJ05MEAgBscvJGF1bWog/l6q4SpC5QMTn6oYHJOwQIcL2bC5OfEEirlJYiJ+POYTFTa1sbv2lLCocO3aisFNP87E+aQsDvu1+hk1GKhxQPAd2nWq8840mVLWeoiJrBHK9EQmgh5qQ993pYfHBtM7TCcKwLES48OLuPcRPiWdLWVUIyQK1lsuSPMbPxZGvCdOyLe2CYdSw2LpdwRrWWwJ5Zwsqk0EbYG1ELEwoYDBZ5/Y84jOEapKBqa/nMtRN53VoPzNp+TgeZwBjAxZSzZL+ZiuUPogupimmVanXNlnfdmMtItGv/mcZ5iWtFx9OUUB+9zgUPgBh/E5ccISnZPG3WHM4zVSkSjtCAyc9miqEFdMLGEyn4ahVXF/txoKj+N+UVtnKLRvd85mUiL5XuVYJ2NeoFtYUKSORlo9Y0ttriUVbCipy2Ti4zJPshhxtkZuspjw7hw3hPxjNCuVm5sao1xrQPHkRuVOnBbloI2O1P8kcVeG0wtQkUOM85lE4vb7enohi3LlgdQKy9IzAmWth/3vMpjYS7nmKApJv+7HmoASlmj/mwwCVd0bnq5iMgpNmxz+oyXVWHD1gDUOw/u2OtaXkiZ80kUR5m5wUHWUa6MxvnMnKShaXRkbXMMsvPyELNAgna2jGemNu+YH3mKDUW8HW/fb8+IjrP2fgfnQSfCSxtYrae5tQZ8iGsuZf/5g1q6XfNEBoxlu3c85id5vGDxaqNZ2kCNyeuO+nyX+qirdfnjH1d115688ln+eav5GpAxT6aZOr7jL7SA5uoC48WMvS4Plp/O+s2c8uA1pyesroV12eJ8nSFRkmE+c7Uv31U5NEnst2V/48tnOIkvYtIaWqBkcFJOSSbwP8WBqtjTp2RwookhSTHasih9C1GLDbaFdsnixiXDbvq6O86T81BCk15rQJ6XxmhZwfdtWU4Swif5PZzICFjmqAVjWCvrGFEV+32rZHDSpjfWocqy2XjTUF9FUMqnbAylsFuOYyNhr1NlczzGl89QeWaJN7ZuCyOkS8nIV/QyGtuu0C6fury2mWR+R+h5KM5jtRJqMrGEih7DgmLPi+Smjt0GX6vHbNvPR90/w6xtS/P6ShqaQyns7lds10HdP8Mhmp1zYoZRGfnTKF88yktyU0elzeHNIlRpHQV1sWGe1okG1uSqyJfanKJW0zyRxpaiGPdR+Ho1+DWXMENxEqOWL8qvz2BqEeqqWNVRFgJn/l0828znmVcbLY3Dcsr/5NQ9nMR3EEvUOxvOfB1f1rFVtrSxlAxO9Ax+dM458cpnj89bytcukOd3mzVZFwymdnCCRXGvfDCeL4Hy09k2au95/atarVbNf/xx+Q0Ph//Tpl0T2fV7+er382+HPy6/AQDzkaifXOWxoBxzXkFgYg4AWl48IphSdhQz6Nw8POofZjupe2FdRERERCGJVcqC/bYOAdf5nYDzk4iiiZ0TIiIiiibzxwGbngjfb8wfcW3mt2CIooGdEyIiIooWc8VOZT38Us196RQbiVHEEvM4D/q7PUQRxTkn1DX9Xr76/fzbgXNOiIiI7ibOOSEiIiIiokhh54SIiIiIiCKBnRMiIiIiIooEdk6IiIiIiCgS2DkhIiIiIqJIYOeEiIiIiIgigZ0TIiIiIiKKBHZOiIiIiIgoEtg5ISIiIiKiSGDnhIiIiIiIIoGdEyIiIiIiigR2ToiIiIiIKBLYOSEiIiIiokhg54SIiIiIiCKBnRMiIiIiIooEdk6IqG+VsqOIZU97nQzqWzc4UFkGKQKu8lhILOLgqtcJCe86v4hYYhulXiekRXflPNqBnRMioo7pQeOzuI1YlxsZwR6qp9hIjGIhf9OGI7ZzX3T3BC8fbBCGxXuPOo+dEyK6+3r2VnAA3z1XAO24e42fiSmo0HH0pXuNh8EnU0gih6Nit444hmkVKHz4jOtuHZJut1s8MhCO6DxsdO1epNvj9pQNdk6IiDpoMLUItcsN9+83lYYN91J2tMHb4ibejA6l8FoFtI/dGyEaf5FBUj/Gp0aNzeI2YolR139863vXjWGtfIbd1IDvloOpHVTKSxjvQqruhuB5S9Qsdk6IiDpKvOXX3ue79pZ/8MkUkvo6fvHoEA3HFd99jDwI1/gYf5YGtJ3uvZkeeoppRcfKr34dIgVb+hkqZeO//TQKqwo7KEREEcXOCRHdYcacD2UdBehYUTzenF/lseD7Zl2MKNTfwAePU2/4lt9njkgpO4qYGrJj04ORDEyksaUECycTcf7h89FuALM/pMOHzE2ksaUAhYu/fDY0yo71mjuvgyVUSIxGNT4n+3mPYiHvlwaf9FjmMjn3LS1TrpEkZzqbL+Py77tDSOz55PH37GmAe7LRsayjf43rANucE897UTZ3rIm8qpUXx7U09mu/hrJ0uM/ZmiaRt/PQAGhz7r/7lSH7fhqXEev1uM4vGveGI33SuXaSfAszT85RLmJqHpcemzZb1rzq2/aV3XDn4a437PsLclz/shExVYvKf/9XJeqUfi9f/X7+7VD57/+ay8dvh9X0o1fV377ZPy6+e1x9+Ohx9eHLw+o/5odfs9WHjx5Xf/rq/P7javrw2vHdbLUYKAHX1d9ePq4+fPe7R9ocx3OmUfY9P1+z1YeSc/b9W/X36k8N0tPIP4evGuSJ2G/65StLfhv5Ys3/UIx9Wq6LjfQ8G1wLx3ft+xXHsn3PuHb28iI/J3d5MbZz7rPBedr3+Xv1p9r3fq/+5Hc8SV4U31n+3nIZl1yLr9nG+SK514Ldk37Hkvzdow6wl1mP8uS8R5vNq1p5saTDOLf0y1e2ciDb3z+Hr3zrJe/716cMBS7L7jwSeehIryxtss+M8/euj6quba3nJj12mLL28lU1LTk/+zm3s+yGOQ9JOfAsewGO20Ld3i3m852dE+qafi9f/X7+7dCZzomzQeFuvIqHmLMB7dMwdvBuuNsfGPbtRFqCHkO2X+l3HQ1VWwfII68CadjRkj30qx4P0eDk18a6b/u5iPxt7vz+OXxlP5a0cSg5rmeeSjo8Eg3P0YvjmK60BzpGiDLuV248OsTO4wa6J33LaLOdE3k+OPOu6bySlhezk+o4Z5+XFib3ywt5A9S3DAUty56dk4DXVlLWg92T3nVhkI64Z3pkdbIz79tZdsOch0cZkJbZAM+x29Q5YVgXEfU3dcoxGXYAIwkA5QtjaP8URxqg/pDCoG27+xgJFB4kmBPjf3YN8Yv9nP8pPr+80IHaBPq/cK6HPyXBmBi/mnOHm9yLIVn7hzi/tqwoZoaTNZhfk3z+1J6PRlrM8w9LhMx5z6+BJZQnlhjF5KoOdX8Hs0PB9m8N5Zhc1QG94gi/UDD9xDE/514MSeg4/1v88/rLMQrKFL5zHVNc+8bE9XHlm4w1bMsIYzLTMPggDujrmPQItQlUxiULDNRCR4biGIGOFUUe3lT6mAPURVe+D8cVd5763ZM+x2qFuzzd4NMH3ZL/rdYHzvJinJsSw3CgFNpDs2Y0WOoqL0HLkH9Z9v6qu3zbr62Rhvh911cHH8R9dg7g6jOOdEn64J5D11pZg1G+6nVSW8tuiPMQ9UYG30/YtxP5dYFzaxic73Psdvl3rxNARBRpVxc4B1CYG4Um+3si6I7ExPiZD59xnbI2bMRDRDRq/sKRlsbW5gWO/rwBjIdS2MnpJrHE7zqOiksYn3D+1Whw/H0MTc1gq2xsdw8A4hgJ2Hh3EhPjj/HpKhWsA2A2BJo7nDExHlj5eIq1iTHJBgq2dEtn5CqPBWUUMXUPlWXZ9sJ1flF0RtQ9VMpjls/CJ1F0OKfCfxGolb+GZeAqjwVlHQWkcVg+E40U47OaiSVU9BgWlHnENABI49BcpSpoGZ9YQqW85JGIMayVdYyoCmYSOQCAun+GtQkAuMF5GYBuHtspQOM08LFa5CxPxRxWdAVbb438b1t9EF4pKzojyU0dFW2g/lnZ54tBylCntZqGvysoAJj23bDdZa3N+wt8Hka9oeuYTKxL/uq/qMltxs4JEVEjRuN5pA2Nn/EXGSQVj4Z7+QLXV8C5OoW1B8DK+8+4fgKcQ8H0vWbTnsJrdR0zzoa7cU6AeCuoPjvDd/Fj0SB7Jh6er5s8pJhwruDoyw1mgyw32nLDSUyMX5k7Rml5zH9J2KEU3m0eY3J1BwcvPEZQrvL4cVVvW4N3OK4Afg1IL5ZrJXeDgzfrKPh0tsS+Utgtp8R3VAUziQuj49auMj6AWe0MszA6cnOjON/UsZsy3uImAqSxDcdqdb/fPVeAVVGe8DEHqHv1ctLG+iCU4jZmNEdHOyjfMnQL3IshiYsAG7avrJl1UlvLbuDzMOoNZQonmnOU7u5jWBcRUUMiXKMtK195LH9rDudffjkG4vfFDynqx/j0N9DKKAbQeInf8z/zONLSmJ4wRlna8mORonEnDSeTuP5yjAIUjDTbAQOMH56Uhcw1EjZfRXhPM0RIlWS1tqvPOPLdZXPlT+SrlwHMantQa+E6bSzjhsHUDg7VepjTcLxzP0bqPFbr+zN/m8gI4XpmbZS2P6+aZ4Rk+opAmo0RKVkaSh9zAb4vQvncqwG678tQZU22XfEYmqVOamvZDXEenvVGH2DnhIjuPs8HQhDmkrXzkiUcw8a8y5e/NecDzKzCiEUew7SqY2VuHQVrLHpxO/zyro2W+P1wDM2MVR56imklh5/fX1ji30V8e9jfBAn8w5PGCEVy86097Cr0L3n7//Ck85jSWHOT8abZ2pC6zr/BSrPzf4xrYJ8jYYx4+H55ALNvM0hq8+6lbLOnqL0ptpYp8xwtrvPb9jy1NcDaUMav8tiwfdc+x8AsEzPOZVqL2+F/sdrnWFKh6gDjt4nm5qG5Yv7bWR+EYMz9sKa/lJ2XhJbJOiJ+ZagbPPKtuC3mzfgy59AptvIiuy/DlbUcZqx5cJXHwpx9jklby26I85DXG5CU/6Ai0EkNiGFdRNQHxANhclVBbFXEbIcK/6jF64vvm5KbOnbDJmViCirm8XM+XU+DMSncOmlajHjkgES8NqRfMkJMwv2atRjJWFnNoZQyfwnbeEjpOpLP3zq20wHFmB9hTt58GzZUxphf8z6P72shCcZnq/Y8dIZOmZPH34UcLRp8MoXk6jp+KaYc4TZiQvyK5RN1/wy7DUNyxrCmZ3Cu1OPMk5s6TjbfNDXnRIxU6IBljoSYC6Nj641iS5vUUAq75Tg2Eva4d3X/DAAwvqxjq2zZt5LBiZ7Bj9Y5J7hw5IMjRKgNZfx8VfLd2n1Wnydii6FXMjgJ1DgNcyyZcHWAef9JJ5G3sz4IaiiF3f0KYnP1Y6r7ZziEc86JGeZolBUz3M+nDHXFxBIq+7CdA9Q94zP/UKfB1A5OIEL4zFOQ35chypq6h5P4DmKJes8guamjYisb7S27wc9DhC6OZEct9QYg5oulwh/Yq2xE0L+q1WrV/Mcfl9/wcPg/vUwP3WH9Xr76/fzb4Y/LbwBw6/NRTGLNhIwlFvMEzn9oItbdmBwdOk6+uI3Y+1hzMc/FbcTmLkLHyJeyo/g53szcAZE/K22d10BEHVfcRmwO9QUauqSUHcUMWF9EidlOYlgXEVGX+S9/K3H1GUdwLysZSIAlfmVKH3OSJVMDMkMSfg0TQnCKIy2N101NajbDRuTza4gomkofcyGWUqZ+wJET6pp+L1/9fv7tcFdGToiI+s11fhG/PNixh3Eay3M3tQpZizhyEj1mO4lzToiIiIioowYfxKG5fh8m3fVwLoo+dk6IiIiIqLMa/ohn940vn6HS60SQFOecEBERERFRJLBzQkREREREkcDOCRERERERRQI7J0REREREFAnsnBARERERUSSwc0JERERERJHAzgkREREREUUCOydERERERBQJ7JwQEREREVEksHNCRERERESRwM4JERERERFFAjsnREREREQUCeycEBERERFRJLBzQkREREREkcDOCRFRR51iIzGKjWKv03H3lLKjiKl5XPfo+Nf5RcQS2yj18vg9PH8i8hb8/hTPiIX8TRdS1ZpSdhSx7GnHj8POCRERUWTc4EAdRSzR4D92SO68Xne8Kazb08FwucpjIWIv0Ng5ISJqE77JboOrPBYSizi46nVCemUAs9oZKmXjPz2DJAB13/KZlsJgr5NJfalbb86jrB/q+V6fIzsnREREFCml7GjgkDmxbf0/r7fXIgzPuq3H/ovbxt+9OsniLblfI919vFGf/daNL7MTeruMYa18ht3UQK8TEt5QCrvlM6xN9DohdeycEBER0S0kOgkz5QxOLCNNWFUcHQcRKje5CmzplhGo8hSOJB2M0sccoGawpeg4+tJqmI7iOOYZKuUdzA61uFuiO4ydEyLqE8bbzkZvWC0hRfa3sT5vcI2Y3clVHdDXMenxdtT+JtXj7amxr/DzCyRzFYyGl+fE7eK2Ix31yfu18zf2UQvnqL1Vtu7PmbfOY9X3650HRvqVdRSgY0Vp/Ba8mXxwqZ1Lg/Q0cS2cb8w7H4fuyH+P83WOMASJMa+XHUd+yPLCmZ8dDv+5zu9AQxqH1hGGoRR299OANl87v+v8G6zoCrZ0Z6dgDGvLY469nuJIA9RnKXz3XEHhw+eehLa455y4y2PjchXknnNv77l/49rOaAC0+WD1IoKMVoWplx15YKvfvM+vVncFqFvd6bXsr2E932jOiV/96CHss8BVnwO1cuP8bnG7ng7rnJOAzzJn2tpex1UtKv/9X5WoU/q9fPX7+bdD5b//ay4fv2arDx89rqYPr+uffTusph89rj5897v7s0ePqz99NT+8rv728nH14cvD6j8+h/nn8JVku9+rPxn7tB6/+O5x9eGjbLUoSWf4YxvHsG33e/Un49z+OXzlPlbteK+qv32z7yf98pUlDZb0vnxVTVvzq1qt5VnjcwuRB98Oq2lbmryJNFnOWXZNpXlj5slj23n+c5itH/dr1l5ezP1Y9i3LV9c5SfInFOP7zuthPQf/40nKkausydWPYd2nV164y9JDZ3kJSFo2bBrt3/q34PdvtVo18sU4rmdZDHZu7jwJzl62jXNw1FU/NSxT4esd3/rR/H7AayqOZT//4jvLsUPXy69s9+dDo66ybis7v1rd5awfZXWmo5zI9teonreei9juVTVt+75xLSX1oy0fmnoWSPZTKwfO62DJY0kdIz9HMz+aq0uCMJ/vHDkhojvuBgfvc0hu6vZ44Nob1h3XW6Hkpm6Jvx3A7A9pQD/Gp1Ymaat7tuOPv8ggiRyOam+vRTqh7tmP/TaDpL6OXxq85S5l56EpGZzYYtRlb4WDKSQW5fHHehyvHfss/bqOgpLBO+u5Le9BRQ4/O9+m+eZBa0q/rqOg7qFiS+MY1nRHHl7l8eOqDnXfHmc9mFqqv1mfWHLEj4/h+00FKF94v728yuNnDVD3lzBufjaUwrtNBYXVXIeWHFawpduP91qF/Y1/MSdGDt5aysfEEg5VQHsfbDRI3bfG049hWoUlL07xy6qO5OZby8jEGNY87q+2uLrAOQD1mayM38eIYm73GUc6kHz+NND8DRHSNSXycyiOEbQjtKtVf+Fcd5zrUAprQeY3BKx3wtSPgRS3MaO5R6vGl82y2ky9bClfE2lsKUBBj+PQcr971il6HK+d9aOzXsAY1hzzfMT+LnDebBnWgWnr/YkBzGoe9WNNs88CcV/a7/1jaEoaqqLj/G/zQ3N0sLnnA5yjlca10D62b6SUnRMiutuuPuNIVzD9RPIgn5iC6mp8SLa9F0MS1so9PNeDYCiOEQDnf97Y0rn1wmc7F/GgCdr4CiIZvy//gxLDsOTY6g/OiacUhzAAACAASURBVLuicVi4+Mv2qW8etKTBA3foKaYtD8/rL8coII3pABNAraFQItShgkuPba+/HKOgZPC9Y7+DD+JAKw2cRpQpfOeYvzAcV2zpFA3uRdc8B+d2DQ6CkXv2T2wTtovH0Dp037SkUUdSylmGJI290OohiqHDemrE/aTNhV/FLmi9E7x+DKb0MSctmzUt18sDGElAUid5MDucVl71jzU80QgzbboMS/NAXj/WNP0sAMafpV33fvJ5GtMJS+fh6gLnkns6MFdeGtci9P3m7d9t2g8RUTT9XUEBwHSv0+Hn7woK0FFQRrEi+XPS63vGG+SRB+1bJcZzX4m4vRNiHLswNwpNun3bkuTPzIcAm15e6IAy1bBRc51fFJ0RdQ+V8pjlM5/96jomE+uSvyqSz7rhBudlAPo8YtKLFG/5CNd/XsBshMvKbpBr0hGJOAZxEXx7o5O1ZWm0jT9LA9o6fimmmlzNSDbXJSyxvPRIdhQzRh67Rhya1ZH60Shzzvqi48dt0VUeC8o6CkjjsHwmGuDGZ13V7LMAMDp28zgqLmF84hRHmoJpfQDjD9LA3DFKy2MY/nKMgjKFdxFelIGdEyK62+7FkAzTQOmVezEkoWA6bEPGeJvWiHhz3wHGsUf2I7AMZYB8MA3HFaDcYAOPsK9A+1WmHOF1vWa81Uw4w93axyxfrTfCQ7C+RZ5wNtJFGFTy+X1gSHSOtA+fcZ1qfF1KH3MAIO1kaR9PsTbRmfwLanz5DJVliDf7cwpiF224ph2pH40y1/XjNke8jLnBwRtZWGjneI5QN/ssAGCOyqx8PMUajqEpUzgZAjA0BRU7OL+6wfkHHcnnbyNUR7kxrIuI7rZGceNe4Si90HR8uxHy4Rvv6w4rMhtjzQt67G5okBZj3oEZ4jL4IN7EHKIbfPqgN9yiuf123nBcAbTjDs15QVPhW2a4XPOr/BghV7K5PLb72pgf43tdjPDITd2x7O8ZDlV0Nv/CmljCid/8p6A6VD/6lrlu18uytBjHaRTeJEJAWyArd0Z95DlC3dJcpwF891yUjYOPOUu4732MKDqOvnzGuVc4XYSwc0JEd5yYmFtYVewNoas8FuZyjkm8rWmtcSomXBdWFccSrzc4yDaatGxMlNTmHUu3nmLD/LcRw73yxrKf4rZYFrQlxmIB2ryrkVnKho2rNzT9YG6QD4p4I1obBZlYwqGqY0Wxx/Bf57fFv4238taOjliO1icJE2lsKTpWFMe5X+WxUcufYD/g106DqUWoyGFGspxokOWEfRmT8IPPiRAdAaC1+Rzm5OcZa15K7muxQIP7etvukQYN4vFnaaCNCzeEZ0kngFpHuVHYVGDh6segHd3B1FtsKTnMOObX1OuF7tXLgryc1OdiGaM91nMzRlBd5xaqnnfUu2Z9JJmbVtfss8BI35MpJPVjHJWt5XnAWBr7GOeN5gKZ++jxixaGdRHR3TexhIoew4KiIGaZMxA2bMf/OGlsKYoRFhI+1nwwtYPKg23EHHM41P0zzDb64lAKu+U4NhL2eQXq/pnx/8TKNOfKen0+hLqHyj4Qm2sxtMIjb5ObOnab2qF4ME+uiv2Fiq33yIfkpo6KYx/jy2c4iS9i0hrCo2RwkhJpEPlV309yU8fJ5puGc05scwMS1lGpNA7LqWDn0BFjWCvrGFEV+3wYJYOTljuogjQ/a8dwhlOJ0QzNdyGHnCMfAZGXxupHDcq9/b4Wv949bZmzYd0XYE7gzsgbbRNTUJFzh3Zpknk8rrAg2VycJuahOI/VzvCjEPXjYGoR6uq8cV0s18LF415Q91Bp4rgtU/dwEt9BLFHvbDjrhfFlHVtlpZ5eJYMTPYMfnXNOwtTzSgYnP1QwmRi1pcXv2jX9LACMBUDWsYKMbV7J4JMpJFfXUVAX/Tu1LT7LWvWvarVaNf/xx+U3PBz+T/eOTn2l38tXv59/O/xx+Q0AmI9ERBRIKTuKGXRvLgk1z2wnMayLiIiIiIgigZ0TIiIiIiKKBHZOiIiIiIgoEjghnoiIiIjupPHls/okfLoVOHJCRERERESRwM4JERERERFFAjsnREREREQUCeycEBERERFRJLBzQkREREREkcDOCRERERERRQI7J0REREREFAnsnBARERERUSSwc0JERERERJHAzgkREREREUUCOydERERERBQJ7JwQEREREVEksHNCRERERESRwM4JERERERFFAjsnREREREQUCeycEFHfKmVHEcue9joZFNZVHguJUcQSo1jI39T+vVHsdcKIiKhV/+51AoiIiAK7ymNBWcfI/hl2J8zPepoiIiJqI46cENHdd5XHQmIRB2zE3nrXX45RQBrTE/7bEhHR7cPOCRHRXVXcRiwxilijjpklRMpv21LWut0oYmoe143+7rHPoNsREVH/YeeEiOiOKn3MAWoGW4qOoy837g2K24gp68Cmjkr5zPjvLfBmGyXbhqfYSIxiRkvjsLbdGSpvgV/y9f2OL5t/24MKIFnb7w5mhxB6OyIi6j/snBDRHXaDA3UUMWUdBehYUSyTqK0coweuvwMwG+j1t/zOBnyD42dPAx3jOr9oG0mQpyOoUxxpgPoshe+eKyh8+Gwb5QBucPA+BygZvEsNWD4fwKy2hHHLJ6XsPDSkcVi2f46hFNZs3+0kkf+TqzqAHGb8rkFt1Kj+n3TCvHPkSM2jlF8MeH2JiKjd2DkhojtsALPaGSp6Bkko2NLFG/tda4Nam0fsDfDOHA3YT6Owqtgbsld5LCTmcW4ZYThUc5gJ2oDV5hFTjjGtex+jlB3F5Gq8PjKhZ4BVpfkOSvEYmjE3Y/DJFJL6MT7JQqb0Ci4b7kh0cqBO2TsmXTeGtfIZTjYVAOYIzpJHmm5w8B62UZ6TTQXanCNszBg5Gtm3bPf8GDOrelfOiIiI3Ng5IaI+l8ahlsKg+c+JNLYUQPtYX2K49Os6Co4RhvHlPajI4edAnYc0Dq0hSxNTUAGc/2l89yqPnzVA3bc0todSeLepoLCaa+oNvgjpMjoUQ3GMwBnaNYDZH9KojUJ4LalcPIYGQH021kQqesU9+jOYWoQKHed/m5+IkaPkpo61Cet2OzhUu5hUIiKyYeeEiPqba0RgACMJAOULIwzKCI/6wdKBAQDcx4gCFC7+8j+GEsOw7QMxCmCO4HitQDX4IA7gAuehJ4mbIV1mh2IM0yrcoV0TS6iUdWwpEKM7gcPVbglbyNY8NFg7hJ9xpAMjD9xhacNxpbvpJCKiGv7OCRFRI1cXOAdQmBuFJvt7ovVDXF7oAHTMJHKSvzbRUC4eQ4OCrXv1j8afpQFtHb8UU7aRAjP0bRYQYU5zOcwkclD3zxzb3San2EjMizzQz7A7VP/s3Nzk7woKUDB9z3svRETUfeycEBE1MhTHCICRDjbWxZv6uHvCeZNKH0UnZ0UZxYrjb9rHU6xNeIRoTSyhUp4SDfv3eXyvpTB4L4ak3/cippSdh6ZkcKI5R7uIiCjqGNZFRNSQCN+yzkFpt/DhW8YqYNIVqERIV9K2PLA5iR+AdhwubGvoKaaVJr4XNcbcmZqJKaiueTgAcINPHzghnoioV9g5IaK7TzohPChj4rg271o5q5Rt0/yMiTS2FB0rSsD9GfMlAEmnyQjpmn7inksx/kxMgD8qAsApNhw/oggA1/kdMQG+NsdmALNvM0hCsjrZVR4bLS133BnDcQWwrU52io05Z8jcGL7fVFyrpl3n32DF0TcRSzzzByKJiLqBYV1E1AdEQ3RyVUFsVYwq7Ib5fY6JJVT0GBYU8X1TclPHblvSJ+Z9jGRH3fNO1D1Ulh3hVMZoRkF3r6JV+ih+u+Q72Y8ZTkxBRa4WorX29gILiVEUbBuJlcWcv2eyW36KA1Wxp0/J4ESr52MpO4oZ6/DEqplfCrb0+mplQbdr1mBqB4cXo5iphbWlcVjeA6xzToztTrCISct8ouSmjpPNN5hcde2WiIi64F/VarVq/uOPy294OPyfXqaH7rB+L1/9fv7t8MflNwBgPlJHXecXMflhinNWiIi6yGwnMayLiIioxphzkoizY0JE1APsnBARUV8qZd3zSEpZBSt6GofOUDoiIuoKzjkhIqK+NByHZV6KQcngpMxwLiKiXmHnhIiI+tJgageVVK9TQUREVgzrIiIiIiKiSGDnhIiIiIiIIoGdEyIiIiIiigR2ToiIiIiIKBLYOSEiIiIiokhg54SIiIiIiCKBnRMiIiIiIooEdk6IiIiIiCgS2DkhIiIiIqJIYOeEiIiIiIgigZ0TIiIiIiKKBHZOiIiIiIgoEtg5ISIiIiKiSGDnhIiIiIiIIoGdEyIiIiIiioR/VavVqvmPPy6/9TItRERERETUpx4O/wf/ln1I1Al/XH7r6/LV7+ffDuYLFOYjERHR3WI+4xnWRUREREREkcDOCRERERERRQI7J0REREREFAnsnBARERERUSSwc0JERERERJHAzgkREREREUUCOydERERERBQJ7JwQEREREVEksHNCRERERESRwM4JERERERFFAjsnREREREQUCeycEBERERFRJLBzQkREREREkcDOCRERERERRQI7J0REREREFAnsnBARERERUSSwc0JERERERJHAzgkREREREUUCOydERABwlcdCYhEHV71OCFEw1/lFxNQ8rnudEIsopul2OMVGYhQbxV6no/M6X0b6Jy/vKnZOiG6B6/wiYolRxBKjWMjf9Do5t8gNDtTRWt5J/2NDioiI2uEqj4UOd4xK2bv/3GLnhOgWGEztoFI+Q0XPAKsKYoltlHqdqFthALPamcg7I/+SANR9y2daCoO9TibRrcO3015K2VHEsqe9TkaHhLnuLCPUnFvaOREF3tVAM3qstc89e7DG21Sj8rC+lZb/Vz9OKeu1jT0cROzTL0TEPI/Gb3Nrx3RWdsVtxzEa7O/OVpSdYea5vezU38L3rLIdSmFXzyCJHGZ4TSkAs35zjriZZdz83PNtnKueMb/boINc3PapU+v7a1T/2u8zo37zKfeB6ujas8JZR9ufDQ1H3u74m8tbwbyOrAspKoZS2C2fYW2ic4cYX777L9X+3esEtCaHo+ISxo1CcP3lGIUm9jKY2kElZf7rFBuJeZxv6thNDbi2HV8+Q2XZf7tgxrBWPsMaIB7mcxfY0ncwOyTbVkGyvIODK6+/W6h7qCyPNZkmstI+nmJtwsjLq8840nubHgDAUAqv1XUUtGOUlscw3uv00K1Q+PAZ1ynzgXaKI62DB5tYQqW8ZPzjBgeqgpWEvF6q17+NtwsqTB2dVICVX08x63c8JYOTO94YuI1Kv64DahpJbQcHLwI8G4noVmjDyIl4m7WQv3G9LZO9XXa+JWsqfv7qAudQsLWZhvax/obr0wdgazPd0tlEVxzTz4GjL/0238DyJrP2trNB2XG+sW3qjdoNzstAcjMDVTuuvR2+/nIMbGagtnI6HWKGEdTuL0d+cVg9HPvbd/kIgfMNfZA8FtdnGyXnG3nPEYvWRz8vL3RAzWALx/hkjhIUj6GpGWwpTe3y7ng+ZbvH26se0mIrK+a19n1eSkZtAozWOEfErGlpWKZdo13eI2PiGPPQAGhzXuXTcUyP8tvMfQQAuMrjZy2N18tLeK3qWHkTZCSrw9fE+P6MBkCbl+aje6TQnc/2bTwiMBzPQ1nZcB3Lt/xIoi8s1y3YdQ+zbYfLiCQP5G3OAPeHdF+njpFWSCJ26mXO77rWwgF92jquUW7LYi5Bnl2BzqPH2hbWVVhVEJsDDo047pNNBdqcOxRgcjVe28aMn296gu+TKajajjhGMYeVxCJmn8SQxAXO7+CKOyNPpoDVXH/ONdDmEVOOMa0bZWc/jcKqYqukrvOLxuiTOZ9gD6o238IN9xTTag4/528AnOKX1Thep55iRAHO/+xlJ9F4661O2UdNyjv48WIRlf00oO1g4c0xpnUdWwosnXhqTMeKMoqjZ2YZ0rGl5DBje6iLBspMOYOTcr08anNBH5o5zCQUHD3X6+VUX8ekpZy2vyzH8d1zMUoA3ODg/QW2XqQwkgAKF381uc+7wHqPd4Y2ZylPegZJfR0/qouIvY/Vyo/seYlizlJG5OXEqZQdxYymYEs/q48WXeWxYIwgmfs6VHOYsTZcaiP3Z5ZtvM9pfNlIDyzzt6yjT/o6JhPHmLbO9dLmHc/6Vu6jGxy8WQc20xgHMP5C5OsvARutHbsmE0v1vFP3jG2WavW0aAOhYT5rc6P4EW8tf9exojgamcVtxJR1jOxb6imsY9JST13nF+3trbKOrUTjfLnO7wDW+XiO6+Z73S16X0aA8/eLtrw02w22YwS5PyBpv5Z1TH+Yx0rAaIpA1xUQbZ03wDtHmv3PN8izq/Xz6Jb2zTlRMjix3ISDT6aQhI7zv40PrvL4WQPU/fo2GErh3aaCQtMN7jFMqzqOvtyg9DEH9dkdD2UaSuG1msNRX74FT+OwbBm2n5iCCmsn4RS/rOpIbr61DO2PYc1oqDe7POz4s7QIhykeQ3N2Brqs/kZkHpqSwYnzoaAD0y/G6v94bsmL8gXj4wNKbuqWeOEBzP6QBnTrqEMOK7qCrbeWMJ+JJRyqgPY+2DwEdd/SeMQYplVYrlFnyvLgkykktWOUrj7jCFP4jiEwAETDFh8+d+7+UPfq5WkohdcqUNBhKz+DqUWo0O0j4xNLjnC0MXy/qXjey/WOiT28qfTrOgpKBu8s+xpf3oOKeqfs+s8LQLGXifHlpRbqOwVbuv1Z/1o1QgvNz1q5j4o5rOhpvDbPydh/0PuvW9fEnuZt6fVx5bO6ZzvG+Asxx7D+3L/Bwfuc/RwwgNm39g6aGDG1PrMGMLvcODRxMLVjnyth5k1HXmB0uIwAKCQW7ddrYgknjjZnkPtDtF8d6cUAZrW94JEUvtfVlMahNYR0Ih34BaPvs6sd59El7eucJOL2Qu+YFCTmg6Qx7ZgkNPggDoQd6fi7ggLiGBkyHyxv8LPm3vddNP4ig3O/m7I2nNxi+FyUKDEM2z4Q83VqN3vxGBoUTD9xxJbfi9k7yYH8hXMdGHkwICoGHOPH973v/A7HFeMlgMdkOEfjYuRBs3Oh+pl/GSp9zAHqoiu+fTiuAHoFlwGOMXLP/oltgmNby7IRohi/X3u58fObY+D5U86fMA2l8Drh89ZdX8dkg3CXRpz1xnBcAYznVxDWMI3JVV1axi7zi9KGrznKqv7grC/uY0SpNzoHH8TFObYrrENxd36d90fz99EpNuZySBqjJqbxZTGK8WOAZ103ronrOx9z0nzxSxuG4hiB5UXc1Wcc6Qq2XjTebjiuAK6RiCDsoWszGjrzcqujZUSQPbPtbc5g94dov8rKh9guCN/rWtvQ+RJ0ACMJBLgG/s+MdpxHt3RtQvzlhQ5Ax0wiJ/lrC7ky9BTTWMfR5lvLBTUuxj3vr91aQ08xDQW/FFNiIr1MH06Iv/7zAuaw5ork7yNN73lAhMN8yOCdpfMrKi02/vuPaOxDn0dMOqE83vIROleWjZFADTjULGW3fIFr9Fd94TT+LI2Z93l8rz2Vb9CDCfEiLEc3woPGLJ85NtTXMaOLt6auCeFXFzgHUJgbhbS4mmE+E0uo6DEsKGa5TuOw3MrIiZ9W7iPxYir45+0T+Jq4GOfrfInbjL8rKEBHwaN+SBr/O5jaQeXBNmJzCmKrCFSGxeibKEsVo44oZUcxU2410c3ofF0b9P64vNABZcrxgvT2uU3n0bXOiflmov0Vnvgdg9m27jPKxFBd7OMp1p71Oi3RId6GoMFqZy3s27aaG/U34y1WiytKNdLJsixi4tu8z7tgIo0tvMGnK4/OSbdd5fHjqg51P8CSpEoGJz9UMDmnYAGOlcmMt7MjQfYzlMJuOQVz1bSZRKPVI1vV+fuo7cJcExfjfNvhXgxJKJgOcm1qq+aJlesmExXvNphH2FnvdLKMmKMHIe4P6qqu/c5J6PAt52+WWIg3i8G5Jy+LsJ1k/H6o/UTGRCdXmLmlQoe8NPjNEuNtStQMpnbu/Nrmt4EIl+jg/ddE+JZ8hSbArOsCk4RKiPo2eMjL7SRGSI++RHlxgBt8+uBxMSeW5JN9jXCNcAtimDHoYUMIw+n4fdQVDa6JQ9vOdyiOEedcGF9jWNMzTSwW1OElx320mmeyci/C68ww8WD3x/gzx9wNU1R+XiCg23Qe3fsRxok0thSP1Qkk6r9ZEnICuDWOz5xg5ZhwX8rOQ4NlMt2tM4bvNy/w8/twnbQ7zZwQ6VxdxYvlZgz74A4W/9luZmcq4PlRx4iJsu5VUFDcbs+SzWHLsqUBUQg5sdsau21O0PzZsZLNj6u6K77/LhpMLWJkdQdHvU4IUHuOWeum6/ybxivq1Cb7WjsoxqRYydyDUrb+LL7ObztWpRLznpxzo+ya6fjUdfw+arcQ10TWqB5MvRWrJ7lWgQrWJqoTk/DdKzjd4CBr/fFmxxLGnvMNDMZLEWunR7SVnMJc9x6XEW3etaLnjG2OSbD7Q95+FSvGNfPbej1zi86jiz/CKMKvRrKj7nknkjkS5mpfskn0YYwvn+EQjmMqGZyUm3sDbcZk1qwa8ZyQDYfK4sat24mhVuvuatv7xIcOPpkCVtchna+jSWI0+2AeyvjyGU7ii5h05rksL4eeYloRK7T0eqI73TZjWCvrGFEVTCbW6x8rGZy06S1jqLJsrPalaUCylYnuQyns6sCCYtZpgncYS04yhzD8XIVaHL/JEmMuPbZP/RaujrYSqz/OaKjPxailad1+rYEOz0MRb7rPlfq5Jjd1nGy+aTi/YTC1gxMsYnJVQeyDkb7afBL7dU1u6tit/evC8awKEt4jGnYrc0YaQz9jOn8ftVfwazKYWoS6Om/cH+Y94dEGUvdQCZmS+nwS+1wJdd8a4u68P33uzaEUdvcr9Tkqxv4O4ZxzEua697aMqPs6Rt6PIlarXsQy27ZyHej+GMCspgOqYslTBVu6jq03inTuTzTdnvP4V7VarZr/+OPyGx4O/6eX6aE7rN/LV7+ffzv8cfkNAJiPRETUY2J+1tFzx1yvWyc652G2k7oX1kVEREREdBcY4eG3ftn+CJ4HOydERERERFKn2HDOe8EpNpR1FGw/hhl1t+c8ujjnhIiIiIjoNrmPEcy75p0lN3VUblU41+05D3ZOiIiIiIik7srv6d2e82BYFxERERERRQI7J0REREREFAnsnBARERERUSSwc0JERERERJHAzgkREREREUUCOydERERERBQJ7JwQEREREVEksHNCRERERESRwM4JERERERFFAjsnREREREQUCeycEBERERFRJLBzQkREREREkcDOCRERERERRQI7J0REREREFAnsnBARERERUSSwc0JE5FTcRiwxilhiFBvFXiemn51iIzGKhfxNrxMiXOWxkFjEwVXnDlHKjiKWPe3cASiAGxyo4v6PqXlc9zg11/nF5tNxlcdCn9Rj1/lFxBLbKPU6Ib3Qhbqpm9g5ISKyKm4jNneBLf0MlfIZ1iZ6naDG+vqBTO3ThUbs7SirNzhQFawk9lApn6GipTDY6yS1VcQ6/D3WUsePOoadEyIii9LHHKBM4buh3hyfD8tOEY2yYI3vMNvSnXL1GUc6oD4b63VKqAsuL3QgEY9OB/SOjYA069+9TgARETVvMLWDSqrXqaBbbyiF3XJnCxLLahSMYa181utE9NgpNhLz0Gr/nkdMA9T96I+U9wt2ToiIiIjo7rvKY0FZR0HdQ2UZ2EjMA+yURA7DuoioT4hQnZjlP1vctRFzP6MB0Ncx6TsZ1r2/YBOZLZNtrekwjj+5qtePbxner02Urk3WF7H7rjh+S1hAKWs9jjzWX3zfmpZTkT7fc3Gfhyu/QqbFvk2YsKrGaRH7FW9KtbnG1yrotp09H9TKg2fehjmGZF8labmxf79W5hzfd85XCLqde85JPXzOXg7lYS3Nl1VAWkYc3ytlRxFT1lFA/dr7XTP//A9aT/jUT7Jtmlo4wT3npB5KGmz/TZVryyIjXt8LWo4ASMv0ZYBkXH85RgEKtl6YYXsKRu4F+GLtmIs4uHKUJSOf/Mtwo7Jg7FNZRwE6VhTZufuXYaDZet+nrHU7zLVqUfnv/6pEndLv5avfz78dKv/9X3P5+DVbffjocTV9eF3/7NthNf3ocfXhu99tmxbfPa4+fHlY/cdnl/8cvqr+9NXygbE/2zFcrqu/vXQc89th9SfLd/45fCU9vkjXq2rakd5/Dl9VHz7KVovO83r02JI+47iO/RbfPbZ/19xOki8uX7OOc/29+pPze4HTIvvM2J9vngZMi/GZ7Zp58ti2lfMxyqDf8WvXWZYXzRxD8pkoM4+l5ca6nSgf/scIup2rrHpcY3e5bLGsSu91WZ7K80EuWP4Hqidk6bPUC42ul++94Tofcd5pZ50TaP/Nluvr6m8v7ddTHPNV9bdv9c+ClqPAZVrC3O6nr+Y52tPQUO3+t3zHfLa8fGW7frIyHLwsyNIkK6+/V38yj9lKve9Kh7uMVL9mA9adrTGf7+ycUNf0e/nq9/Nvh+Y6J6KClj7Ev2blD8gAnROZ4ju/hpJ/A7lh50Ty4PXqnLjO13mufg9BvwZfkLQHTcvXrLxREbQBFiQtbeycBDsfd94GKVte19nVyAx0DO+y79VAcXc6nGlxd7CDbufZOXGWNWdaWiyrnvelrCMStHPS6jWupUfywsJB1pAPeqzgnZMA+2/hnN3c91iwchSiTDc47sPaf37bWzTqsDn3E7AcucqmR1n3zeNQ9b47XbZ7M2ynrY3M5zvDuojobrv6jCNdwfSTAfffJqagQsfRl2aX1bQPs89oAMoXDULB7mNEAbS5JldjUWIYDrah+3zvxZCEjvO/xT9FeEMcI65VyUQag7KGEIiQtIojvMI/LaWPOUCdwrhz50NxjARPSoC0tEPQ81nEF/+RQwAAIABJREFUrCNvh+NKsDQ1yIvzP2+CH8NYeWrkgbvsD8cDXmRXWgYwkoC7nAfdTnYI58pYjnNtraye4kjzWH1r6CmmFUD7GD48Ktw1blBPBF0dTLKCYODyFESA/bdcrm2hWCJ00rzGNX7lqEF9HqxMiwUBTjbNbXOYCRWy5Dy2kb7AdXPYZwZgluHk86c+q4oFrPeVDL53zLEZfBAHcIHzKxj3n44VpXfLfnNCPBHdbX9XUAAw3ebdlrLiwZLc1FHRBuqflRt9awCz2hlGsqOYUUaxAvH93ZSk4yTTxiUvLy90QJkK+EB1u84vig6AuodKeczyWdg93eC8DCDRZELampZ2MM5HFysAucW7d4y/KyhAwXTQmPqIaqmsXl3gHAjVyfUX/Br71hO35hq1Uq7N1bEUbOln2B2qf3YeNhltqs8HUzs4vBjFDNJQtRy0uVFo6h4qy51bQrq5ZwbqZVjykiGsywsd0HVMJtYlfzU7bGNYK+sYURXMJHIAur+SGTsnRHS33YshiYv27rO4jRlNwZa+43qLGMT48hkqyzB+8FFB7KKzD8W2u8rjx1W9TQ8s481jJNLSDsb5JDpzTc0GSiePcaeEHH0LJuA1DlJPdKJ+6ojmy3UpOw9NyeCkHT9o2bb8Ep2t5PM01spLmM6OYkbbwcGL5up0X608M9pYhofjCqBMBbgW4kXaLIwXPXOjOA/zIq1FDOsiorvNGKKWhm4Vj6HJhsKbIobeQ5lYEuEFAUJf2m38WRrQj/HJGV5mhJmEd4NPH5r6onhgasfuEILiMcJmaatpaQfP8wnKMy/qKwsFOoZn2GJv8yes1sqqEUopC91q4QcXm7/GjnqiUf0UMS2Xa6tm723P/GquTJud/cBhjm0V9JnRoAyHNPggLr+XGn0ntYNDFShc/NXy8YNi54SI7rgxrO2nUVhV3EsHz+WQ3Hwb/k2WEcdrfUCWsvMBHran2LAt/Wg8UC3hWs08PJoykcaW4owrvsHBG7GUakPGmzzrw/I6/wYrTbZ3B1OLUJHDjG253FNszOX8vxw4LWEe8K01BuTnA6C4HTC2PYcZazkxyqo13j/YMcbw/aaCwqpiO24r16onWimrGMDs2wyS2rxj2dVTbBi/d9HMiFug/A9UT3jXTxuyJXR7qNlyLeakWOu0gPe2VLvK9F84N7c3Rl9l82naJugzQ9r5alCGwy4nLb2XYC9vrrJnzHmJ3w93rBYwrIuI7r6JJVT0GBYUBTHLPISmQ4GGUtjdr4iQrNX6vg4RIH5Yc8RsO+OcJ9LYUpT/b+9uWhrJ9jCAPxfuR1Dw0iN0J3agXYkuXAzUZBgEex0RdDEQu4Z2YLY6Ku3Kbl/idmCEW7RwF8pIsm5BmkkX9ELoZFy5CJoZpqenZfQ71F3UqaReTlWqKokpzfOD5t6JlapTp86pOi//U8GKMooVxA8da20As5oO2OKKAQXbuo7tFwpWAr87hjV9AxdK81yyWzpOt17EXOcxhrXaAZCZt8VC51EUnwXHpYdNywBmv89jZU5sFxhfHmVbv/MxY7Ydsd3KBk7DjJSqBzhN7yGVaba2sls66o6QinDHGMzt4RRmWIZm21f8a9UL7ZRVmPW1lsZmxln3vHkaRYj8D3ufkN6fFGzruZhp65Z45bqxvkOsswtft/33F7dMW+s+GsQ+2isLIYR+Zpidr8lVc7vGmkSfMqwenkdMiG3dY8beQcyjWGuWt4tV57My0trIDviXYRiG9R+/f/yMR8P/ubWDU3/p9/LV7+ffCb9//AwAzMeuusGRquD46e0+jOh2XZcWMfkmTOx5krGsUkyVXaTmgGJtyftmPOoZq53EsC4iImoKeP0s3RfecMI7iWWVYrr+4zLC63/ptrFzQkTUl86w6Y4dbzMOn5KnWvD+pk61oGBFz6N4Z970xbJKnTWY20P9Ts8a3m9cc0JE1Je+wAjmPe+773rsNd2q4TRssf6CsoHT2l1qmLGsEvUTrjmhW9Pv5avfz78TuOaEiIjofuKaEyIiIiIiShR2ToiIiIiIKBHYOSEiIiIiokRg54SIiIiIiBKBnRMiIiIiIkoEdk6IiIiIiCgR2DkhIiIiIqJEYOeEiIiIiIgSgZ0TIiIiIiJKBHZOiIiIiIgoEdg5ISIiIiKiRGDnhIiIiIiIEoGdEyIiIiIiSgR2ToiIiIiIKBHYOSEi6pDr0iJSagnXvU5I286wmRnFQumms7ut7CKVGUUqM4rNSmd3TVF06frGdVXCQmYRR1e9Tki7+qPeVAujSBXOYn33urSIVGYX1Q6nie4Xdk6IiKj7KrtIzV1iWz9HvXaOtYleJygYG1GUCHes3kR2VcJCQjpdlBzsnBARAbBGPcM9JKNsSwBQfbsPKFP4eqg3x78/s1pJw3rTTb2uN0S98O9eJ4CIiChpBnN7qOd6nQqie24oh9c1VjRy4swJERERERElAjsnRNQHzHCSlP2fbUFntTCKVGYeGgBtzvt3u3Dbuo4XuK/RyItdzfUQze+5F+A2Q5i6mw7pubrTI2LKZzQA+jomM6MtwquCr5W/GxypknSI40+u6s3j2xZfNxb3NhYdm+tMPGtObIu2nfklX5fivUZnZvpanov3PDz5FTEt8a/vbdebLp+PKAt++Xq3641sn978c5fLlN+LCGyL8H23c+VnrBcBSNacNOpkmP23uKZ0Rxk29T//Noi6pd/LV7+ffyfU//w7Vj7+U3xuvPpg++Bz0cg/fmLki9e2D38zXj1+4tzOl3zbf4rPjUePnxiPHheMSuCxro1fnj0xHj0rGv9YH30oGI9CHL+y03r/baVDnNsjz7YSIs2O7cRxHu385k234zhy4a6VmzgP+zE/F41X7jyRHN9M13Mj70qvmYfe/HNeI1n+Sa6RtZ0kXzw+FKTl0n1u4dLS3vW9rXrT1vmErDfe7bz7usv1RpZObzn8zXjVsqw288Gep/8UC8Yvn+3fiXcd/OqV/Xuh9x/imtLdYj3f2TmhW9Pv5avfz78T4nZOZCo77oZApzonzxsPccexPA/aENu5SR7kzeM2H/jR0uFsmNiPE6ZDIN1Gcn6hG1kS3mvl1vraBXZOJHng14jynK/7XD8Xjbwk76WdjJA8aQ+blraur1w36k2084lRb2SdV9txrfTc5Xoj387M78D0uMurzz3GcyzP+fvksUv4zkmr/Ye7pnS3WM93hnURUZ9whsvMaABql50PAZC8WWc4rQB6HR/Ff1ff7gPqImZbbOd2/f4EZWUD37leJzr4MA3gEhf2sIvQ6ZjCuPtAQ2mMBJwiAODqHY51BdNfDnj/NjEFFTqO38f9vYeo1+oLjCiANhfztzKUFIbDbeg93wcpZKHj4pP5n9fvT1BGGiOetyuZaQzLHjJkhqS5y0XrtLR1fRtuqd6EPp/o9cYqq9vfjjk/F/lw8YetnN7JenOGYw1Qv89h0PG5WebKl385N7eHbCnrKHvKbx7TrV5Z7Dn/AYxk0Lmy0Wr/Ua4p3Tl8WxcR3XvVgtmoym7pqGsDzc9qvUjNDS5qAPR5pDTZ39O+3/x4qQO6jsnMuuSvEVq+9nRkIn7N8qmOMoDpmF/3E+9aDWBWO8dIYRQzyihWYH7/dU7SAJTJpF2Nuvg+XuqAMhWys+N1XVo0OyPqAeq1MdtnUffU5vXF/ak3ZlnVURZlwy0bJx1JqjdXl7gAUJ4bhTRrrLRelbCgrKOMPIq1c7PxLz6ztFt+b01HryklDTsnRHS/VXYxoynY1vc8I669IUYAMweoL4+13NpuOK0AyhRONfcIaRvpiOtBCllctp0Khzav1fjyOerLED9cpyB1GT2Pe+qqhB9XdaiHnfixvTav7z2qN2ZZVTDdkXNJYL0RswUjgeXmBkcv1lFWg/NvOK0APel8RtTRa0pJw7AuIupDZhhErwynFUA7ifzr44MP04B+gl/jhC5FSUflRD4CazeUxohfCErlBJosTCeWGNdqYgmnW0qXwo+CjX+Tl1+jq3c41uPs8Qa/von1xfaur9TdrDeBZbWT6ehZvRFhjW/DvNXOyQzjaur0PaZrOnxNKVnYOSGi+03ErdsfYtXCvKQREeUBH78xAACDuUWo2MeM+7WXld3g15FO5LGt6FhRXK8IvSphM8ZrPOXpOMPm3H6Ib49h7TCP8qrifQXq3D6yWy+jj2iGvlZuZ9h0vO5VNOht4Vq31uiSXiMxat3qu2IE3F6urksvsBKvb9Le9b1P9QZj+G5LQXlVcW13g6NC9FfPJq7eYACz3+cBbd7zut1qwSqHYsbH3qkSM3UOE0soqjpWFOf6revSbrz1XF0T7pqar06OuRaNeoZhXUR0vw3l8Pqwbob5iLh99fAcRbhj580H/MqciGkPDH+Isq3MGNZqOkZUxbl+RNnAaWBL3La2ImNvCOVRjPUry2NYqx0AmXlbOvIois8uWn19Ygl1PYUFpZm3AOKHJYW+VhKaay2C+5pM5LGtKFhRRrGCboYrDWBW0wFVsV0jBdu6ju0XijQ+vmkMa/oGLpTmuWS3dJxuvYix5kTsL+71vVf1BhjM7aH+cBcp17oM9fAcsxFS0ExHgupNwD6zWzpei/8/vqxju2Yrl8oGTvUN/Kg417CNL5/jNL2ISft6DmUDpwn7IffOXlNKkn8ZhmFY//H7x894NPyfXqaH7rF+L1/9fv6d8PvHzwDAfKQ76AZHqoLjpxEW6hMR9RGrncSwLiIiom4Ta05GHrJjQkQUhJ0TIiKijjnDpntNBM6wqZhvSmr/LVxERPcb15wQERF1zBcYwbznt2iyWzrqDOciImqJnRMiIqKOMV9awAW5RETxMKyLiIiIiIgSgZ0TIiIiIiJKBHZOiIiIiIgoEdg5ISIiIiKiRGDnhIiIiIiIEoGdEyIiIiIiSgR2ToiIiIiIKBHYOSEiIiIiokRg54SIiIiIiBKBnRMiIiIiIkoEdk6IiIiIiCgR2DkhIiIiIqJEYOeEiIiIiIgSgZ0TIiIiIiJKBHZOiIiIiIgoEf5lGIZh/cfvHz/3Mi1ERERERNSnHg3/B/+WfUjUDb9//NzX5avfz78TrAEU5iMREdH9Yj3jGdZFRERERESJwM4JERERERElAjsnRERERESUCOycEBERERFRIrBzQkREREREicDOCRERERERJQI7J0RERERElAjsnBARERERUSKwc0JERERERInAzgkRERERESUCOydERERERJQI7JwQEREREVEisHNCRERERESJwM4JERERERElAjsnRERERESUCOycEBERERFRIrBzQkREREREicDOCRERERERJQI7J0REXXJdWkQqs4tqrG/f4EgdRSozipRawnWH01YtdGe/dtelxa4fQ07kXeHs1o/cf86wmRnFZqXX6Ui23tUForuHnROiO8Bs5JoN1YXSTa+Tc+fY86/5bxFHV71OmZ8bHKkKVjIHqNfOUddyGOx1kihQtTAarSNa2UWKjXoiIg92TojugMHcntlI1TeAVaWN0fh+lkexdm7mY+0cRVXHipLQDsrVOxzrgPrN2C0etJ0R8Hs2en5VwkKUzmtlFzNaHsXaEsbDHmNiCfXDPLS55NTlaoGzTQTcu/rcA5wpa88d7ZyYFcczEupXEK5KWHBs63wYyEdV/bd3fkf+YDH/3vrhFnY76gVbWE1SZi2GcnitbyCLfcywEdGW8eUDqNBx/J4zUdSOGxz9vI/sVj58x8Qykce2so+fen1fISJKkDvaOTFlt/TGKGi9pmMb65h0NfSvS4tIKesYObSPmO5jxrZdY1S6do567QCqZ9/u0bAb/PpGR3ZrAyr2cczRhXvoDJsZBSvYwKlttH0HL3o/mjSUww8qAO0kMSOuRH3r6h2OdQXTXw7E+PIAvn6qoPzmHUdYiYiEDnROzFmMhdJNI4bW+idrxLlnKTo3Ej2AWc0cCV15Yc2gnOG/qzqyWzrWJppbji/r2Fbs20XUeBjlMK0C2luOYHePbWGrawZMWnZcZTBuiMJ1aQ8aFGy/dMb6D+b2HGUpaTyzgJxd8Xd1iQsAIw/NRqX/AnHbPS5wf64ZWrWEjz6bmusT5PfKamEUKWUdZQDanPPv3lle16xrZVc+EyvS5texNtMzD812zLBlJ9x3XbPdPvsOypcg3ufKX6G3dc5+i/uNso4ydKworZ9T1+9PUFam8PVQuLS6DX45hax+gl8DZ8+bYTaOPLLKa8tnr3cW2FHWxfdnNADafMgIg6CIgoA1XZJ64q5znmO1DI+RRFO4ylgzzMa/LLZ9D5Ckw/ud1nWhZT2XlYfGflrnRVBaw9TnVvW0ER7YKJdWWYkXjRDUbjTTIs8faRmIEEXjTlvjvILKsPjb5KoO6OuYDKoLFne7JcK9794ybOp//m1E95vx6vET49HjJ8ajxwWjIj79p/jcePT4ufHL5+aWlR3nNsbnopF//MTIF69jHVP2PftxZWmQbRd2347vPisa/xiGYXwoOM+p5f7jbXcfxCtf18Yvz6zyZcunDwXj0eMnxqsPzS29eSnK5s5vkY9q7su5/3bFO38Z+XnJytI/xecdPYdeq//5d6x8NPPGXk9FubLn4YeCtC56vyvhWx6fyI9r3T98vmvdG53X7jfjlf17huSe6nMOsv1VdlzpEOUqXnmRf1eaB9L7fsh8kfDkgf2e4agj1ufOa2l+35Vnn4tGPuR9ubIT5xlmFybfm8/ZxnZWPj577sg36TPlQ8GVRvk9pLIjv1/K8qiyY+VjM232Y3iviyG5pt7rLq2rO85y7+a5z0nKWKiy2M49QOzLkX+fi8Yrse/wdSFEPbfaKc+89/cwedEqrf5lMlw9Ne8tz428rP75HlOudbvRu1/vva1VGQ7XPm2cl+S+6T6eo50Y6Nr45ZmzbPVTu9DNer53rnPivgjuh6H0YRuy0vsc079zYh5HVkAb/B7iLTsnZkVo/D3wvNg5sWuvc+IuI+7r5HPdfK9zK/JOdzva7ZyYN0/xT1KuA8v7PdFe5+SJ65/7ukoentLP3Fz3BJuwnQfPtfO5r3i4G9GJ7JyEON+w+eLm24mQNL59BpL8Gk3hOif+1z68MPsI6Ex40tl6gM0w5I0naeek5T3UZxDIU+Z86pJrO78OUlTu/YQri+3dA4K2CV0XZDzlMdrAmzMvwpyPz70gZD2Vdkzj3F/Cthvt28nqbqsyHPI48vOSfz9850SmnXvx3WY93zu35iSTdr7qciiH17XzRgjM9fsTlJHHtCskZvBhGsAlLjq0INzcX1g6Lj5FPIA7vnjoK0wrDO3qOiWFYccHY1irneN1TlyHygk0SOK+H6SQjXOdxf5PtxQA+5hJwFTrcFoBFLEGRvJq2eG0Yk4j8w0hPpxv66ofAjOOqXsz/t+xlkfU9+1vA96aFbDmYDitOP67+nYfUBcxOyTZTq/7hoE52EMARPhR9PJ9iyQhT+7zjZsv/iFVX2DEmfXiGFOSReuS6x6RFRoYzwBGMuG2dL+9zSxfaYyEDCmzh+OYYSety1z17b70GrZKG4bSGAFw8YeoX351ybXdcFoBtPkYId/OkKEZDUDt0nkvbFkW27kHhHi7Xoi60BCinmfTX/gcKCAv2ngTYKR66nlmm3VSmwv/AiCzfm/gu1btxqEcdrYUaD/vYvPFOrD10pHGVmU49HEA+T3EXdbjcISKmWF1be3vjvv3bR3o46UOQMdMZl/yV0XyWTzXf1xG2FrByIOI+39/gjLS+KFRyMXNbHUPR9/ueSot3Q7zupsx4iuSv4/E3O9gbg/1HGDGsM5DmxuFph6gvnybr3gNZzC3h/rDXaTm1jGZWTc/TGhaE2FiCadbl5hc3Uc1Z770YvDLKWSxjuPKEsYnmo3fnaB6/amOMoDplge8wUUNgD6PlCb7e4uBlasSFpR1lEUna9z22d0WP1/M58pU+GOE7ATcN9elRbMzoh6gXhuzfdbqm1a+pdv/nZ1PdZSho+xzj86K/23exxSkVmEOyLT4nZ9qwWyAZ7d01LXmGrKZWvRkxr8HKJiO2J6QilDPZZ3ilnkRO60R66mnzAxgVjvHSGEUM6IMZLf05gCjxMdLHdD15vPMwdluHMy9xPYb8RIbxz5bl+Eox+k80baAgm39HK+Hmp9ddPnISXZrnRNrhCfSe+BjMB9W5gzN8B8KoJm9eXehNBuz4UecTOZbuvw6WcfvbzAbUNGoe6wZs229Wx1EcyZlujCKGS3BHdGJJdRrSwCsh9Q8UmAHxY9npnUohx/Udcy8PcPaxBfmW/mevgxumD1IIYswgyJihDwT53rc4OjFOsqtOpuh05Ik8fNlOK0AoRqg4Wcn4rj44waYiHvvF42nKJP+UVyV8OOqDvXwPMbLPDqYbw9SyELBdJh7dOM+ZjbSJjN1/7ZDZRczmtK5e39X7wGthKznfsLkRey0tnP/ahpfPkd92Uxrak5B6tJ/f2a0wFTLzikAXJdeYAUKsvo6fix9Zev0tC7DUY4TJM4MarUwDy1EB7zf3NqrhCOHbzWmuCL8QNVVCT9paEy7mSMgsnfIi06GdIo/aP9iOtT2WuLGa4wV8HWQvRQ5fKs57X1X3ooxmNuL9Evh48vnKKrwhjZQg2ymdfybvBnWUdnHip7HD60GHIbSGJH+Xoo1mNFkhqx07hXQ5kyum7ceyLdLjrj5MvgwDcjedCXu1eGOEfN5AKB1wyf8faa90LCovGXTT8fKrG89CTKGNX0D2cih32c4lo7uh9O5e0BntFd/XXnRRlo7ev+aWDLDpgOeT771283qgH+/h9eHeZRXXzhCx1qlO/RxAPl+RFh51EgcX5UTtFF874Xb+52Tibz5+l4lXGejWRlD/o6IfSrU6oWL34NwF9RqQcGKbtsuJL91M43QrrCFmzpPXOvQ8ay2xotsvVC1IH8dq9n59cbcdp/VyPE7vxscqe66JR5KnQjJuI8qu5hc1b0/njcxBRX7+Onny5AN1jF8t6WgvKo4GqDXpRdYcbX/BnOLULGPGfe6oMpui8araAQ7YuHNB7KDtQbO/qvjsu2kREy4uz5UdkMMEvl8N6TY+SJ9rojRZ88xXmJb2ceM61ykz4MIDbjhdMDvlLS4zzS36WDDxk3Ew9uPLyubgLwR559vUX/ZXl5PgBscFZrX3b1fK5TaN8pBDEzZr1W1MN9e4y7GPWDtMI/yquJcK3NVwmaktTMh67mfUHkRJq3y+hz//gUAZ9h0vNpXdJCDnk9+7UZHWpuzTWsTACaWUFSdPxXRsgyHOo7F9QPIVyUszHnX4oTt8JjrdezbnWFzTrb8ob/cWliXI97QHRIlmcI0Zz10n86AqbwqYlKt3Rye47Vr2/Hlc5ymFzFpj3NVNnBaizqFZo2uLUpvVI04VUdol2wNhGzKNex2FER6rQF5zLJoxJV9FgaOL7/EhTqKlOuZICtjyTCAWW0Km5lRzNg+zW7pqDPUUNh33XvMGF9vHTMbUZNiJC6MwdweTrGIybnRRkMgu6XjdOuFK65/DGs1HSOq4oxvVjZw2qI1Nb6sY7umNM9B2cCpvoEfHbHo5u89XWTmW2wnM4DZ7/NYmRMx5eK+bC6CPWjRQJN/N7y4+TKAWU0HVFu+QMG2rmP7heK6p/o8g6TPA6sMmM+YoNj4wS+nkF09wa9XOW9ZanGfAUKuaWiLOftwoTTXCsjLpmh8rlplJy9CqXzyTT1APWJKmutJRh0NZvXwHLON/3LX03xwOPhQDq8P6801KmJ/RcRbc2KKfg/AxBLqegoLir1domBbz0U6crh67iNsXrRMq199jn//AmD+ho7jwre6T/i1G/Mo1nIwB+XE4ILW3M/4txvIKuuYLKTF/luV4VbHcab5NL2HVKbZOJA+Zyfy2FYU0bbzb88N5vZQvGyuwzGPeQD0+ZqTfxmGYVj/8fvHz3g0/J9epofusX4vX/1+/p3w+8fPAND1fLwuLWLyTfsxyHef+fC/+D7OeoV+YebR8dPgxb2d/y51E+8B5FYtjGKGazi7ymon3V5YFxHRnXCG/67qyD79io2Sq3c4hvcVm2RnjjKXV/ejx+KHXdNAt4z3AKJeusWwLiKi5Lsu7UFDHkU2GM0wkX5fmRnGxBKK6ihmMgj/RsrKLlJz+1APz7v6BkuKjvcAot5i54SICLbfgmgV404k0XhFali2135TMvAeQJQMXHNCt6bfy1e/n38n3NaaEyIiIrpdXHNCRERERESJws4JERERERElAjsnRERERESUCOycEBERERFRIrBzQkREREREicDOCRERERERJQI7J0RERERElAjsnBARERERUSKwc0JERERERInAzgkRERERESUCOydERERERJQI7JwQEREREVEisHNCRERERESJwM4JERERERElAjsnRETddlXCQmYUm5VeJyS669IiUmoJ171OCN09VyUsZBZxdNXrhNj0ME3XpUWkMruo3v6h+061MIpU4azXyQjkKQ93+DnRaeycEBH1QLUw2rtGv3gIpgL+LZRuepEyIuoQs/EboSNW2UWKjWNKAHZOiIj6zVAOr2vnqIt/p1sKgDyKts9e5wZ6nUqiNpxh8z41tKPO+FyV8OMqsK3vYXYo5HcmllA/zEObS87szl2YAaHOY+eEiKgHxpfPUddyGOx1QvpUtSCbMfJr/JkNXd/txIiz/z/vfs1R7VH/MB8xu9VyBivsdtRXqv9bR1ldDN8xsUzksa3s4yeWJ+ohdk6IiKg/KRs4dcwgASuKq6Ff2UUqM4+LLd2zXWNUfmKp8bd6Tce2AkA9sH3mHr2+wa9vdGS3NqBiH8f3ZXSfEuIMxxqgfjMW47sD+PqpgvKbd1xnRj3DzgkR3XuN0ADXWgv5aLN7lNw2sl3ZlYyC3+BIlawfqewGLn51rzlpLjx3Hd8npME98t/98JVupUvkX9jr456l6GDIx2BuD0UVKK++ENf4Bkc/7wPqgSPMzdoudvjL1TtG/NHOAAAgAElEQVQc6wqmv8xhWgW0t70IW2mGPTmumVUmXfnsvY7iumUk3w1i7dexbUCdc38vaBvBPJ95aAC0Of9y4iyr8v3FrmfudV1qCR99Nm3OosnSIvJZWUcZOlaUEGvCKifQkMf0RMi0ugx+OYWsfoJfA0PIulx+xPdnNADavPQaBeebEOaeIrlW7nLsOVbLsu4u0wxPi8Swqf/5t0HULf1evvr9/Duh/uffsfKxsvPEePT4ifHoWdH4x/rwQ8F49PiJ8eqDbcPPRSP/+ImRL167vlswKoZhGMZvxivX363PHj1+bvzy2XXMnd8c+7Ufq7LjTM8/xedmGhvHkqfHMK6NX56FOJcIzGPbjuv5WzfTJb7nzkPJd8202PNZ5L2VzxG487/Bfm5B6ff9mzifgDT9U3zePPaHgjzvpXksEXY7D6vc2s7B2tez55Ky6SzfxoeCvB7Yz/tz0chLrqnjey3rnPU9d/2Sl1d3ejzXRxzPee0kZbedeuZbdl3n1Sj7znMxz9+V3+68DPBP8XmsOtHkk3eSbbpafgzXfdT9eUCZCH3P93zmve7e++O18cuO5N5h80/xectni2e/kudEv7Ge75w5IaI+kUfRvsZjIo9txTlqXf3fOsrKBnZso+TjywdQYcVgj2FahTPkoXICTclDVXRcfLI+jBtWoWBbX8K49Z9DOfzgOd4+VnQF2y/t57JkjuT/3K23f91GuvIo2sOfJqagArj4wxrpPMN/V3Vkt17aQqTGsHaYB7S9jr8atnz5F67/uAT8RqAfpJCNtWcR0vX0KzOfHqSQ7WVol3qANev8rOuqw3EdB3OLUKHj+L1t1HliyfXShDF8t6UAtUv5ta7sIjW3j+yW7vhe6zoH8zooU/jaFho3vmwrjzFkt/TmeWMAs9/nAftsQezybM62OfffnG1zqOxjRc+jWHOey/iyjm1Fx8r/4o20f7zUY32v6QuMKPa6F+C2yo9dZRczmuJZ7O8tE63u+c2ZUUdZeLmBrL6O/4o6+fFSB9Qp274HMLscvF5wMLfnuP6NvLn8q9XZERjWRUT9wvFwAYABjGRgexiKDsX37oeO+aC2Hirj3+QBvd4I0ai+3Uf2aR7TGdtD7+oSF1Aw8iBiGl0NMAAYTiue40Gy0NW9XUfdRrqUFIYdH4xhzf7WsMoJNCiY/tL1FrEHKWRh7xi2aSiNkQibh2rA2TVCusR5DH2FaaVXoV3eDvRwWgGQxkjIhdT2kJ7JVV1+rT+VsCDpmIStc4MP04C+jsmOhcW0Lkexy7P7+rq/a2Mew31fAqx1H9BOYr81K5v+IuY3zeOPZMJteSvlx/2dt/vSe5I3cS3u+eJabX/rGkQS9wCrbg+nFUCbj/HSCWfo2oyGcJ0vwr97nQAiokS4usQFgPLcKDTZ362H9cQUVMzjuLKE8YkzHGsKpvUBjD/MA3MnqC6PYfj9CcrKFHaivimnpRtc1ADo80hJE5nu9AFD6n66zFkMM+Z+RfL3KB2KQKIchDXyMNorl6/fn6CMNH5olA3REF3dw9G3EV772mPXpUWzMakeoF4bs33m3lLHypxuvnzA/Xrq0HVuCXU9hQXFKl/e2YbOaqM8f6qjDGA67DFCdgLum/Dlx83Kt3T7bzr8VEcZOso+9xRrZnQwt4f6w12k5hSkVmGW5RZvWqwWzM5IdktHXRtoflZrN9H9gZ0TIiKgMVo2cnjunI73MEd1V96eYQ0n0JQpnA4BGJqCij1cXN3g4o2O7NOXXXhNsBj5yxygvhznTTzd0v10DT40G4SRfrchDtG4VL8ZwyDSAC5xcQWMu4/5qY4yFExHmh0zQ7oAHTOZfc9fj9/fYPYu/L7MVQk/rupQW9YVwAwJXMSFMo9JFc5GXeg6B/HbPDmYo9EKZjKXXSwLbZTnBylkcRn+GF1izjrFLUuiA9CtsY5I5cetg/n2IIUsFEyHKUcTS6jXlmAudJ/HZKbu30H2CTuj8BjWRUQEwOp0tA6vESPdtUscvd1vrh3AFxhRdBy/f4cLn7COTjBDDOKHe3RL19MVOXyrGVIR/k1mIgbdWmcyMQUV8tj/0KEldlfvcKwD6uG57TXDzdcP3+3Xt1odL5kxrNUOoOrrmHS85ShsnbMbwKx2ALWToXwSscvzUBoj7vUVAGT5438Msa005Ks1d/iYe99h60XUWcH2BJUfp47da3yvVZAxrOkbyIpBi/DMEEYKh50TIiIAjUWxktjiasH5ikrrVZvHNXsnxPp9gBNcRG20RmAuLt3HjOTVxc3GhniN5S2+ujJcutogFpRqcyF/JVt0BICwjV9zRH5FB9RDa0RULNLV5h3ncF1aNEdGX0b7EU0zpEu2wF50eFu+vjUhxIyHPV+vSy+wEti2FI06RwclXJ27Lu26fvTSXH8UvKYrTsenKX55NstMeVVxlRlv/gzmXmJb2ceM6xW41YJiLpS3z9pEaEgPPkz7N97D1AuxFiPymrmwIpQfWUfEP9+ivtpbfq2AGxwVmtfdvV8rNNN3XY0YSLFfq2phXh66SFIM6yIisjRi20VssZDd0vHavt3QV5hW1rGCDce6ksEvp5BdNX+ZuXu//D6GtZqOEVXBZGa9+bGygdOePv26n67x5XOcphcx6Y4Rl8WAi4XmZT3grWn6ujOt6gHqmnPbZry5fV1EnDUP1mj4ovR7g19OIYt1T2hXedVZFgFIFpaH364zzI7GhdJck5Hd0nG69SJ4zcBQDq91YEFZx2TmxAx7CVXnLl1rjcKEzJgdn5U5kUY1aohW/PI8mNvDKRYxaSsz8vwZwKx2jpHCqDPMT9nAac3d8TUb0pPiOgdeW8e6ONffQtSL666tmbOELz+DuUWoq/Mif6x655Nv6gHqEVMir9/m7OZs47/2XWGYLer/UA6vD+vNNSpif0VwzUlY/zIMw7D+4/ePn/Fo+D+9TA/dY/1evvr9/Dvh94+fAYD5SEQUoFoYxQzirAEzZxCPn3arY0vkz2onMayLiIiI6B4Z/3YD2Ti//yN+e+UHdkyoh9g5ISIiIrpPhnLY2QJWlJBrtIDGD2U211wR9QbXnBARERHdM4O5PdRzEb7QeF0uUW9x5oSIiIiIiBKBnRMiIiIiIkoEdk6IiIiIiCgR2DkhIiIiIqJEYOeEiIiIiIgSgZ0TIiIiIiJKBHZOiIiIiIgoEdg5ISIiIiKiRGDnhIiIiIiIEoGdEyIiIiIiSgR2ToiIiIiIKBHYOSEiIiIiokRg54SIiIiIiBKBnRMiIiIiIkoEdk6IiIiIiCgR2DkhIiIiIqJEYOeEiPredWkRKbWE614nhExXJSxkRrFZ6eA+K7tIZRZxdNXBffabblwXIiIXdk6IiCiGM2xmRrFQuul1QmK66+lPAuYhEXUeOydERHdMtTCKVOGs18kgIiLquH/3OgFERHQXjWGtdt7rRLThrqc/CZiHRNR5nDkhIiIiIqJEYOeEiPqEGR+fsv3zxsq7tpGETl2XFh378C6yNvexWRHhV479eNMgD8/ySWtlF6nMKGY0ANq8+NsuqrZvNo4p/rkXLzdCwsS+mt+/wZHaKn+8abRv09i3WDgdvB/v8fxD1fzWNoh9eL7nzj9nHnUm/ZJjhF1038h7/+skEyl9rm0cL3yQplPkpfvFEJVdn/xr5oH9+M2XS7SuS41zipgPRHS/sXNCRPffVQkLmXlo6gHqtXPzn76BEfs2+jomMyeYtv09q827Gn5n+O+bKZxa29TOUVR1rCjextvFz4s4/kZstzwGALgu7QGH5440eI4RlNaJJXFMAI2/L2EcgNW4nKltNNN3mIc2J2nw1faw8HbK9v0bHKkKVjIB+ROWNo/UC2DHlobyquJKwxk2MwpWYEtr7QBqnOO5ify72NKb53IIzMztdy79bR3jBkc/A0VbGTrdUqDNhXyTWJj0VXaRUtYx0ihrOraxjkmr4zExBRU6jt/by/ZfuNAB6Cf41ZaO6tt9QJ0SZSykUHUpQnklor7CzgkR3XM3OHqxjrJ60OgkAACGcljLDdi2U7CtLzUbYUM5/KAC5TfvbCPJY1jTchi0fWv82w1kcYkLV8OynFnE2oTzs8HcnvMz6xiXf0VMq0RlHyu6gu2XtvRNLKGoAtrPrtFwPY0f7PsXDVP1m4jHlMqjaM+jiTy2FUB72xw5rxbmoSkbOHXk5RjWHGmKp/o/M/9e29M+sYTTLaVz6W/rGAOY1ZYcjf3B3CJU6Lj41In03eDo531APbCVtQHMvtxAVl/HfysAMIZpd9munEBT8lAVezrOcKy5ykUoIepSlPJKRH2FnRMiut+u3uHY3fCWUabw9ZDzo+G0Auh1fHRvaw/LUdZRljQss+kvfA7kDGea0QDULs3GWNi0Spgj3IuYDXMOSgrDjq2+wIiC8KP3QTyj7AMYyaB5jqLBm336laOT1xn+jenBh+lwuwibfsn1DX0MwBV2NQ8NwMUfIV7J2yp9V+9wrCvY/taVB0NpjNiOMf5N3lEuqm/3kX2ax3TG1tG5usQFFIw8CH9aAELVpUjllYj6Ct/WRUT326c6ylAwHbWBJXNVwoKyjjLyKNbOzUai+Mxt5KF31qFaMDsj2S0ddW2g+Vmt3bTe4KIGQJ9HSpP93dVozqRdHYMBzGrnGCmMYkYZxQrMNL6ONXPSwtUlLiDPn47tu/N79h4jdvrPsJmZhwYF2/o5Xg81P7voRPo+1VGGjrK4jm5Z6/9MTEHFPI4rSxifOMOxpmBaH8D4wzwwd4Lq8hiG35+grExhZ0iyo7ZELK9E1FfYOSGi++1BCllcdmBHPiFXYVV2MaMp2Nb3PKPFDbHTKkbPMzHTJowvn6O+bKY1Nacgddne/qTECH405sxOy8Z7rH3fLnlIWwc9SCELBdNB5QyAlacrb8+whhNoyhROhwAMTUHFHi6ubnDxRkf26csupLMz5ZWI7ieGdRHR/TaUxohn8W/nXL8/QTn2t80QoYY20jqcVgDtxOetShFZ6ycaoUydJELI3kb/Ecnm2hxBhMGF2Xf1bcgF8a0MfYXpTh+jcgLpBEIcocvQAL5+al7jo7f7tjC7LzCi6Dh+/w4XuoLpL7sww4UOl1ciulfYOSGie24Ma+KNRu63Ym0GvirXTYz22htUVyX8uKoHfMfmQQpZV6OxWph3NUrDpVXWsDMXVe9jRvIq2NZvPzrDpuNVrzf49Y0uCf/qBLE4W5t3vV7WnQbnd75+qgDavO1cxEyWe9/f5wH3m6Equ+bank6lv41jmGsq7G/EOsNm2DeJhTKG77YUyRvSbnBUcJaNwS+nkNVPcFyzd0LMvC6/OcGFZO1Ip4Qqr2JtF9/eRdRfGNZFRPffxBLqegoLioLUqvWhgm09F2k348s6tmsKZjKiMals4FTfwI+SNSceQzm8Pqyb4VIiDerhOYqwrTkJmdbB3CLU1XmRjjyKtSWMYwxrNR0jqoLJjC09ygZOwzTMNVf8f9zwtTCGcnhdS2Mz4zymeuj/a+ODuT0UL0cxMzcqOnQKtnUd2y8U59qKiSXUD+HIZ6gH4rNOhPe1d4zGeTTWhORRrB0AnVpzIo5Rf7iLVCOvRBIPzzFr33DoK0wr61jBhmNdyeCXU8iurqOsLnYn9AwA2i2vRHRv/cswDMP6j98/fsaj4f/0Mj10j/V7+er38++E3z9+BgDmIyVTZRepOYjOIhERRWG1kxjWRURE1AHVt/uS1zQTEVEU7JwQERFFcF1a9KyDuC4tmm9je9mlt3AREfUJrjkhIiKKYPBhGpprPUdz7Q8REbWDnRMiIqIoJpZQry31OhVERPcSw7qIiIiIiCgR2DkhIiIiIqJEYOeEiIiIiIgSgZ0TIiIiIiJKBHZOiIiIiIgoEdg5ISIiIiKiRGDnhIiIiIiIEoGdEyIiIiIiSgR2ToiIiIiIKBHYOSEiIiIiokRg54SIiIiIiBKBnRMiIiIiIkoEdk6IiIiIiCgR2DkhIiIiIqJE+JdhGIb1H79//NzLtBARERERUZ96NPwf/Fv2IVE3/P7xc1+Xr34//06wBlCYj0RERPeL9YxnWBcRERERESUCOydERERERJQI7JwQEREREVEisHNCRERERESJwM4JERERERElAjsnRERERESUCOycEBERERFRIrBzQkREREREicDOCRERERERJQI7J0RERERElAjsnBARERERUSKwc0JERERERInAzgkRERERESUCOydERERERJQI7JwQEREREVEisHNCRERERESJwM4JERERERElAjsnRERERESUCOycEBEBwFUJC5lFHF31OiHUU1clLGRGkcqMYqF00/jvzUqvE+Z2hk0rjUK1MIqUWsJ1D1NFRNQudk6I7oDr0iJS9gYThXSDI3W0kXfSf2zMkeWqhAVlHSOH56jXzvE6N9DrFBHdCvMZs4tqrxNCUv028MDOCdEdMJjbQ712jrq+AawqfIiENoBZzWxoWvmXBaAe2j7TchjsdTIpEa7fn6CMPKYnep0S6jrOlJJfGbhnZaNaGEWqcNbrZERyBzsn1kioX+PMnOq2LoR9xNn5z1nwqgXZNu5j+I3CytPiObZP4fAc27OdOCfZvztW4O4GK7+919W6pj2bvRjK4bW+gSz2McNrT61UdgPLq1merXthyPuMLezJ/s99DPk91e+B7z62z3aeY3u3C3vPJ6ImcwBsCeO9TghJjS/310DaHeycDODrpwqAfRzLYoArJ9AAqN+M2T5UsK3bRkpr56jX9jA75PqusoHTxt8PoGIfM7KOh3pg24+ObcW9ndmJmVxNo2jfnzbvmpYzt5vR8rbtzlH/5kTemHAcV/xbHvNuR20aw5rVAbBfr6sSflzVAfWgt+EeQzn8oALQTjh7QsEmpqACKL95JwkHuMGvb3RAmcLX9nthyPuMffbpdEtBeVXx3rcc99RzFFUdK4qrk1DZRSozj4st3bY/YEVxrfOo7CKlrAO27eq1l8AL2eBQyHs+ERElTgc6J7ZFeWKUzvonW0DoHtWKMwI9+OUUsgC0t96R4+rbfaAj0/Jj+G4roBPUMIDZ7/MALnFhPXAr+1jRFWzr9lEI0eDV1/Gjdc6VfazogHroGq2YWGKsc4OYrSqceUZNpWXHVQZjzywN5bCzpQCN63WDoxfrKCOPYgI7hI165Tpfv88pmHPUXz4z6p4ZCLNguhnX7ZqFlcUSd6Qsj2FaBaCf4FdP6MI7HOtA9ulXbY/GDeYWAzpBTePfbiALHRefrE9ucPTzvqfDP5jbQ1EFtDkr78V2ygZ2HPfGAcxqnRjtNZ9jk6s6gH3MBFx3AN5r43f93TM9agnVkLH93hmg+DM/3n15B9M85Uuco/O8zG2b917vbJtvPajs+p6DN55eEqUgTZ9fSE5QfRT7VtZRho4VRfY88Z5XlLZKcH7bzrlwZitL9m3cx99FVXq+ktlOVz41jtPi+elccxK0Vs95LvHadK3T7ZuvagnXsvxxbxxYR/3KQK112ZDUacc9rxES1sxD8/tmmjcr7jwLV6/ddcQ3L+z5KPJgRgOgzYe6fokJGTds6n/+bUT3m/Hq8RPj0eMnxqPHBaMiPv2n+Nx49Pi58cvn5paVHec2xueikX/8xMgXryMe89r45ZlrX/a07PzW+ESWDpnKzhPj0bOi8Y/tM+93xXFt+zcMwzA+FGzbiW1c+3J83/rbh4LxKNT5e8/rLopXvqxr/cR5LUTevfrQ3NJ7vdrNN+vYz41XO889x4sq3vnLyM/LrF+28xf1666XG7v6n3+3l48iT6TX0covx99l9VnymaQ8yphl9Imr3oe5b7VRln3uM7GPIc1D73dl91TPd4PyzfE3v3u+V9h7vv93XcfwnO+18csz5zbSY/reo8Kcx2/GK1feeZ6fIs/t19Wb5/J8c98rZOfdSKu9PHwuGvnG97zHNz4UAuqAZPvGPm35JL1vifLlqXOS6xxUxz3bSb4vqy+h76Xh8rvx2bPnRt69T1m7SKTJvY9/is+d5yn5rnns1vcradm3k3wnbpsuTLr9vvfo2XMj70inLM9D1lG/MtCibAQ+H8R388/c32+2lb3Xp/V9zV23pfcSn3ys7MjKbviyepus53vnwrqUDZza4hXN2Q3bCNlVCT9prlkCMTpdXt2P2FOzZitcsxqVE2hQsP1tB0a2rRAed8iDxxk25/YBdVGEDPyFC9/RyAGMZGz/OZHHtgKUVxXGQ7eUR9EeliHCVS7+aI7g/XdVR3brpS10Ywxrh3lA24uZtwOYfWmO9GqaGc611sOFss2R+nloygZOXTM448s6thUdKy9KuLZmeiTbUbDslm67zuJeY595sGZGX9rifyeWzJH+n8O9TUU9tL8JSsxu1C7Fdztclq37jGNWQ4R0Ne5b7akW5iXhtG7NMvmdyN/rPy7hO9P9IIVs4z+a9/yZns8EemdrzJkj74yQsyw1Z4RaG8OaK77cnHWyzdCHUdnHip5H0bWWoHGv+J+Zj+bz2v48NcuHquZt5VK8MMB6Jl5d4gIKpr+0zWRNLAXcI81oBPfz3v0Sgur/1lFWD1yhhM3Ig/929ZXOzevmiF4YyuF1mPoXMr8b9DR+cN2frfN3HH9iCadbiudwg7k9Z36LkN/y5V+uLfMo2suTuCfIok/kzHaOozy30aYLn24JHZh2RKUMYFYzw/B/asxwhKmjUTVneR3Ph5eycqkDT1/K762ua2vW61YROn5cETpWPraYwQYQvazess51TjJpZ2N8KIfXtfPGRfR7C8rgwzQQ9YYLNBqn9spVfbvv05loTs8FTl3p65i0/m7FNssWIDWmx/wbioH0Oj4CaLxJ6DDvSKPvtKjjuPHD4u4kJYVhxwdjWLO/6lN0TB0PSkA0cNq4IQ19hWnxTMimv4i5k84YTivNGH7pwrjmjXIyo3gb0BRC6zJUfbsvbdQPpxVb3Q4+xsgD5yeOxY4dL8tinZ69gyVCuqSdiZD3GW2u+Xdr3ZynYWq/p2YU82EYcVFnYwBiYkms8YNviILtwOHu+e1whHeYnbNGWkX+jjz0hucOp72NTF/20BQRahLl+ptldUoS9ibKhLVuTdznnOnPY/rbFLK2cvPxUm8+64fSGIGOFSV8vvp1grJbeZHGMxxrPuVSpDF8gzqGq3c41iV1DxBtDh3H7/2fuaHz2+J5rpnnL3vWmG0lGWcI1owGR4cSgCRNYqDUvZ3v/s12jj2k0uyoNgcanOkM06YLkW4ZaRvvC4woks5NUB2NSpQNz+D3UBojkv3K6j4gKds+3w9Fkhdhn0ORy+otu7UF8R8v7bG8tn9z+zH3KEYbGxkoKrV0xkK2OFISp9xYvHlgxk/79f5dC0aLmXVMRpn5cN+QJpZsi+vFTIosBl2yUJVrU0zmCKykQaKso9zOfksvsKKb/7+8+iL5s1vWWhnANfJOnXGDixqkDXhzvUL7ulGWrZlsq2EV+MrckPcZa0H8qVib95NsoMS1IP506xIzgesBvJwPeduroQ+bMyne/YW858ciYryVE0w3jmE+Mxo+1VGWdEJDsxpVc2i+LEW8Bjs8UVZDMRsk1ojr9fsTlNUpjA99hWnFKjfujsMY1hovhGmx3sTi7mC4OwNXl7iIdI4d9qnexvMiSn4L7kFdcf5+DVs3czZdwfHT5ksiws3MhWc+A70DXR8vddfgQ/g2XffTHaKORvWp7liHknJ1epzaqPu3IkZZvWW31jkxR4tcb6Vq8y0q49/YQrv8RhtjESEUfg9cdzqWD6DCmgbz6cEDaBQI9w2pwXzwnoqF2N2dvr5fzNEaWYPE/BcrHKsR2reBU2t260XCfwSpsovJVTMco7yqJPBXre86MeIoe6NVhxrAXSnLolFoNj6tkC7ZqFmM9OZeikGV1uG51rZW+FvgKGurBv7EUqPBETacrhOqBTFb3rW3f4nwN/WgzfLkCiNuYfBhWsyuiZCub8bQ6LRc/iWese4ObbOzeLqlQJtrNZsvwvPEoKIjTAxojCKH4gj765C29hktv9tW2cWMZt4nujZIKZ6BsoEux0x+lDZdF9NtzTh1pY4+SCEbcF++WwPFt1xWY7i1zknk8K3GdFzAlLEttMs/pCumxnqQ8OthzIphTYlJYlODQimoPZFDXppTyvIGvPV2LjFiJNYUwP62tVs2mNtr8Z5za/3TAdaWRUzxXELevHGPDKe7POUdI3zLWo/k3zC0hXZVOn0faq4HCTOYA6A5QCNCZWTxzR2/p3eTeIV9g28IkOgYxmDOdkXjX1YlHVSR5ov3IqRLdEIGH6YB7QRHf1wGdmit9TQt1w1MTEHFPo4r5toq9Xv7Pc0c3JOGbkmfn956EiefGkSomjR0K8QAaKT8lh7fP3TNfBNpK+bsVmc014jtSBrezc5sJ44VId0Bbx4MnHFy19GogsrGHdR2We2y2/udk4m8ucgmZHxq8wYTtFDICu2ax4xvSFdc4R+45mLQ5k3LWnjlHGU/w6ZijoY11uGUFiUNY/OGDUksJwUQC8G0uZDhdeJmBsgfBFY4l33EyJwhi9Zh7RyrM+V3fiIuuPGqY2sxP3+ssdPM+u36DRwAqOx2ZqYqalm2PdiDFkJaoV0rc+ud/xX0kIM5Vr2yhwZ9t6UA2rwj765Li+boaiOU5AybklDX69KeuRD/+9tbW2XGdNsbSGJQwMFa/K24zqsZJupPjGraGw7WLG5E5kyV9/e6qgWx/se16HxaBS7eiJAu6+OJKai4xHFjNqWZpk3X63f91ks4mcfRft7DhWwm5uUGstq866UH3udnoyFvH4CJkk/SxqYZNeH5zZ6rEhbm9luGykbLbxlrZmneefzKrrkmw04MYtjTb72YohP8wrka/Np0nnLR6XT7tK1sbaZwdRT+HQ6fsiGr08ANjgrJjqiQdUTaL6vd9e/bO5Q5/TtSGMVMxlVIPG/maD5IWz1Ex7/JA9o+pAtZG8w4wRXHZwq29RZTft2egYkAAAzVSURBVBN5bCv7WFndRzVnm17X5pGy1yRlA6c1ewU2Y3FHVAWTmfXGp9ktHXXXu/ynC2ZcsZ17uwb3cQFp3vWr8eVznKYXMem+1soGTt0zDlaYi2wEWYRGeX9TwXxwaXP7mFFT3n32kHlDgW1hKcT6kxNMrs4jBZaTzpHXb7OcdeYIkcqy1dhrNUBjK/OBo2Kx7jNmo2pF38dPpXwzxEFfd+aReOue8y06e6g/3EVqbtTWQHG/RWYMay8vsZAZdY2Ke/cnDhzvnh/CYG4PxctRzDT2n0exdgBk5h3rJQZzezjFIiZt55Xd0nG69QKTq8HHGF/WsV1Tms9KZQOn+gZ+VNaDv+jh89z1PLPEcb/Jo6ztQ/1+z/bpGKZVHTOagumXzu0vVhWkbOfiecuVj/FvN5BV1lFWF/Ha/cehHF7X0tjMOMuh97lovqXpIjMfM5/MxuakOIdG2ieWUNdTWFCc56YehgmpjJbfUhNLqB8CqTnb8dUD8dllc7uhHF4f1h3bqYfnKGIUM+2uJ7CegYCkHll1069Nl0exlvPfd7vpVjZw+n0dk5nR5meu+1PYOupbBnw+l9+rzPTPhkh6rwzmFqGuWvWkxfWLUla76F+GYRjWf/z+8TMeDf+nl+mhe6zfy1e/n38n/P7xMwAwH+nOui4tYvLNVKIGN27dVQkLygmmO9BZ7BuVXfGChE692OHuYd25/6x20u2FdREREfU1Ec/t+1KU/lD937pzITy1ZK7Bcr96mOh+YueEiIiow6oF75qhpMRz95T14323uE7oLpGtRfWuwSK6325xzQkREVF/GE7DFvMuJCSeuyeuSlgQv9UTbv1Gfxp8mIbmWtPgXYNFdL9xzQndmn4vX/1+/p3ANSdERET3E9ecEBERERFRorBzQkREREREicDOCRERERERJQI7J0RERERElAjsnBARERERUSKwc0JERERERInAzgkRERERESUCOydERERERJQI7JwQEREREVEisHNCRERERESJwM4JERERERElAjsnRERERESUCOycEBERERFRIrBzQkREREREicDOCRERERERJQI7J0R071ULo0ipJVz3OiExXJcWkcrsotrrhFCHnWEzM4qF0k3jk7tVTr3p77TwZf8GR+ooUoWzrqWFiG4POydERJ1wVcJCZhSblV4n5PbdrUa1TR9fMyKipGLnhIiIwrkqYSGziKOrXieEiDrlurR4NwcX6N76d68TQER0Lwzl8LqW63UqemJ8+Rz1Xicijj6+ZkREScWZEyIiIiIiSgR2ToioT4lFtBnbP78FtWJtQmM7tYSqe7Gu3/qFyq7zGI6wKEka4oZXeI7jXkhsLmD2/3tQekU6lXWUoWNFMf9mLYb2W3NiLmgOPma1IPLdlcfehdbevPJdjB2wlsSRVtl2vvnov+hadv7ec48YDlfZ9f1O6zU+7mvtTXczlMe1rU8dqBac+wu/Tqd1WgBI69hHnz2683ah9FfYxCBMvY9Ubh3lxbpeLfK0ER7pSovYznl8n3Ijya9r6THc1857z5pc1QF9HZPu47W8pxB1iWFT//Nvg6hb+r189fv5d0L9z79j5WNl54nx6FnR+Mf64HPRyD9+Yjza+c221W/Gq8eu7QzDMD4UjEePnxivPjQ/+qf43Hj0+Inx6HHBqLj2KdvO+VnB+OVzc9/54rU3DbZ0mfuwHUfmQ8F49Ph5c7+GYVR2vGmzH6uy88Sz35bp/Vw08q7jNPblyLdr45dn3v2bx3Sn84mZl/bve/Jc7M9+vT4XjVeOvLOTbG8YhpW/jXxwX7PAfPTbp+z8fzNeucqRN79dafHsx/t3aZol/ik+d/5dcv2DyrDzmOK83ef32LxunvTFSEvoOmbI8tEqa/Jr4ySr478Zrxrfi1Fu3d999txZR2Tna91/7NuJPMg/e+44D1k99a0fsntcq+0MkdfS+17APYWoC6znOzsndGv6vXz1+/l3Qqc6J5Udn4aMp+FnPsxlDTBPo8H93RCNSBl3QyFM50TauHCn1fP3Fg11mbCdkw8FnzR7G/jSxpdnOzOtUfJSmm/udLnOOTgfo3ROJDx516pzIj+HUJ1VCXeZN/fTxrWUdmTipCVqHfOmWdap9z1u0HVqt9xaHQzXufgNjkg7ge59+tyTPOfqc//x5Kuk0yEr963uKUTdYD3fGdZFRH3mDMcaoH4z5v3T0FeYVgDtrQjDuHqHYx0YeTjg2XQ4rQQe5fr9CcrIY3qidYrsYRdmiEXdN6RFZvBh2gzLkIbkiPP9PodBx+dfYEQBypd/RU5vK9W3+4A6hXHPXwbw9VMF0E6c4SGebQcwkgFQuxShKmZatbnwoVGDuUWo2MdP9t8R8U2X+E5gPsZgD4sRIXEXn8J/ffDLKWSxj+NGCNUNfn2jI7uV9z2HJmfI0IwGW34KyhS+HnJ+azitOMqfb54NpTES+kwC0nL1Dse6gukvW9ex6/cnKEvSbJWPYGY9yD79ylUPmtoutw9SyEJ+v/Byn7Mo80oKw0FfE/m1/a3r/iWux8Uf9lBHSb4+SCEbohx2vC4QRcDOCRH1l6tLXITd9lMdZSgYeRD9MB8v9ZYNDSu2fAYHqNfOUa+d43SrZSvLa2IJdX0DWW1eEldunq8254qzzyhY0aOlN5wbXNTa3onLAGa1cxRV73oXf2OYVoHym3eN9SU/+XVKLUH5GIW1HmAOKIrrWtc3kI26H2lnWd6QtzM7uwqOn+qNclVU45xI+9eyZVo+1VEOua+Pl3rrjfyIeuDfcehGue2CT3XHuq/mv3lonTxOp+oCUQx8lTAR9ZdII77xDacVIKixc1XCj6s61MNzrHVgtqL5WtwbHKkKZjKX2Nb3MCvOd6TFcVqmNzQxAtwF48vnqC/DnJGYU5C6PEB92b+zMf5NHtBO8OtVDl+/P0FZ2cBOq7z2zcew53WDoxfrKKvBaQtnALPf57Eyd4Lq8hiGxczBjmfmwKayixlNEWlu8/DtXsswaXmQQhaXoXbXVhltWe+7V2476kEKWSiY7sj1bcG3LnT5uNT3OHNCRH1GhAi9lb0xyAzjaoyuT0xBhY7j9943R/36JngU1wyLOMGvkX6wsPV+WxvArHYAtRG6EXC+NvHSKzecloTAAGicX0BoVSgTS+YMkztMybNdHtuKjuP3Z2Y4VEBIj5c7HwXPMc1woVbMsLkYJqagYh/HlTP8d1WXhOeFES6NMr7XsnISc6TelZahNEZC1jHfMirqbbDW9aDr5bYTfPOrm3zqAlGXsHNCRH1mALMvRbiCI576DJuKOeLdnGEYw3dbCsqriuPVqdelF46QKKmJJRGG5FwncV3aNf9bjOTaG0uh9ivR2KelcgKtEY5mjr5Dm/eEQlULtlCNVukFQjeMBnMvsa3sY8YVClItKFjR8yhGnlE4w6bjWonGYibdoqFurhUor85jRc/jh1xwOFRwPoqZGH0dP9rXsRTc4TRiBN7eyBWzZPGY4Wnaz3u4CLMmSKwpsF8jbxrDs9buzDheVXuGzbn91l8OlZYIdUx0NlcUe7kSM1UtExNQ78V/d77cdoM8v4AbHBXivYZc1ulrVRfMkNSIr8cmColhXUTUf4ZyeF1LYzMzj5StpZTd0lF3NWAHc3s4xSIm50Ybjarslo7TrReYXA0+zPjyOU7Ti5hURrFifahs4DQHAGNY0zdwoTTTEHa/XpdYsR8DrlCaiSXU9RQWFAUp276zWzpeh06vmebvthRMrpr7yW7peC1t8JtrREYKo5jJ2BqxygZOa3FG/gFozmuFkGFT5qJyHeVQo96t8/F067Jx/gCgHp6jiFHM2MKNxpd1bNeU5rkrGzjVN/Cjst4yBTLj324gq6yjrC46rpfUUA6vD+tm2FtAGsMbw1rtAMjMYzJjpT+PovgscP1WyLSEr2MDmNV0QLXlLRRs6zq2Xyi26xaQHkm9Vw/PbfvvcLntgsHcHuoPd5Gy5RdgnsdsnB1O5LGtKKLsm2X+61Z1gaiL/mUYhmH9x+8fP+PR8H96mR66x/q9fPX7+XfC7x8/A0Ai8vG6tIjJN1M41ZLTaKF76qqEBeXkdtYZEBH1iNVOYlgXEVFkYcOKiNpX/d+6zyt0iYjuH3ZOiIgCVAveuOpkxaDTvWa9AjnWQngioruHa06IiAIMp4EZR+w1EheDTvfQVQkLirnQu2OvmyYiugPYOSEiCjCY20M913o7oo5q/MYEEVF/YVgXERERERElAjsnRERERESUCOycEBERERFRIrBzQkREREREicDOCRERERERJQI7J0RERERElAjsnBARERERUSKwc0JERERERInAzgkRERERESUCOydERERERJQI7JwQEREREVEisHNCRERERESJwM4JERERERElwv8Bf6SG9GTdpAQAAAAASUVORK5CYII=)\n",
        "\n",
        "* To combine two or more flags, you use the **|** operator like this:\n",
        "![image.png](data:image/png;base64,iVBORw0KGgoAAAANSUhEUgAAAM4AAAAYCAYAAACyeML2AAAEuElEQVR4nO2bP2giWRjAf3tcqRZGFrYacIXYWASJhBBhxUIChqRUErhG0lhssIiVlVUsQlLYBJuFLLG8MIFgESxMsRgkRZoE3MBUQnAtNP1dMaMZjUlmJnrq3vtBwLwZ5733vfe979/4wev1/oNAIDDFH5MegEAwiwjFEQgsIBRHILCAUJw3iGUyVOQk6UkPZJpIJKnIGQ5Ckx7I5BCKIxBYQCiOQGCBPyc9gNHi4eD7Nn4HcF8i+PVi0gOaHKE456kFbO1r8psnFLvtiSSVdQkG2/9PdGXTa+hQ28+yUzb+iN/L4oQWmXd0qFUVcHtFXALg8LCki0XSPmlyY5kGEkkqqQWoHhFc29X+TiBhLo41bnESSSrrTmr7WRobOaLu7gWFs7U8e303hzmWIzwt0bB7Rk9sxYOtXedH9gGXHMGXAApj7tQIpmSns5qAldMQgM9ObCjUqk7mVzxQrgNhfG61ze9914xGgLpH5qpHrDYiqhXUUE532RpYt1gmQzJg7/3/WD1iNVs32aeHg5Bqbb/1fbfOzqa5Z5m0OHb8qRxRSpqmHlFrS0S/x4l1bwnFOdcE0tXos3uJ6NgzUx6WvHYeb68ocsHNPUi+8Fh7NIcB2RHmWN7G3yz1ZJevgj9lPYPVuKxDIEIaiGWWmauW2Gm0wOFkGmyPLbBNZR3OevPtIK33zzd9mCMZaPXuCe5fQ2Cb84zHWqcjmLtpV+2xeqSLHer8uO30DSS9ofrVeo3e+1pCQeKL1YkaQXPT7i7VfpVmZ+rctbdkF8ssI6FwpovNitkTam07/g2Lh0D5iru2hC/hYclLTz5TQ/uavM7qFi/rPGLH9VlrCMX54gblVGeZyyd8q3awaQeCcerslBVAIirnqBxaP1hNK86vRr/gi9kswd7Ew/jcaKe+HoVmG2yu8Z1xPTdNc2nUBZBUd21KeF12qsXk/nbAdavTaAKujzrL9DaxT05ot1C0zSKF4szzJJ+pofnQv1fKJ6yuPblqsRUPNhRuBly3YqMFOPlk1hIX8pq1B9wRKnLOUp1utFm10Efm0MyvPOR6c6S96dA2nX4RylfcJRbwh+LECrOQPZJwOQBHhIoceX65/Y5HF25R1iNwqpeDtummTZEGkFx2wE5UzhF9drVj8al1djZ31Y9aljEq5/ANia1eYrSKU37gVwqwFLi9g9Ai8y9uOjWrVJzyDdK1ylJzHGn0C7bWZjM1r7rcrfEllwp5ggUtmWXikB1xHUdbfJcEGFScEdQVuub8mXC1fP1TVmma6XfJDMnhFdmpJ/XsU2y0SJqxjr0azXgzuSOu42jBlztiOOPRqysM1BuM81JsgBYYg827aCo+mBR7f1/z6FggaTBotSy7n63+AHyaKZTU5EjKWByiHqLA0Pg2zHFfFlP7TmYZCVDKxg/u0b85UMgT/BnnPDUY5wyvR+zdKETdErQtBq6am6aUh7kiaubKH5gRd618wmr5gWP5ucs5rLbxbtnNBGo8kj7MPY9zhrwdUrys81dgYWhCAS7YKsQ5l3Mk+9oVztaypqzTB/EL0NdRC29j9LFnEV1B13Rh9jfh93rlRiD4jxCKIxBYQCiOQGABEeMIBBYQFkcgsMC/WQkKOfSniZ4AAAAASUVORK5CYII=)\n",
        "\n",
        "* Let’s take some examples of using the Python regex flags.\n",
        "\n",
        "* 1) The re.IGNORECASE flag example\n",
        "    * The following example uses the findall() function to match all lowercase characters in the set **[a-z]** in a string:"
      ]
    },
    {
      "cell_type": "code",
      "execution_count": null,
      "metadata": {
        "id": "kEP9uzEIhhX7",
        "outputId": "3f5d11be-872b-4cbd-b569-8639cb2d3b9f"
      },
      "outputs": [
        {
          "name": "stdout",
          "output_type": "stream",
          "text": [
            "['ython', 'is', 'awesome']\n"
          ]
        }
      ],
      "source": [
        "import re\n",
        "\n",
        "s = 'Python is awesome'\n",
        "pattern = '[a-z]+'\n",
        "\n",
        "l = re.findall(pattern, s)\n",
        "print(l)"
      ]
    },
    {
      "cell_type": "markdown",
      "metadata": {
        "id": "o8QYj8y-hhX7"
      },
      "source": [
        "* Note that the letter P is not included in the result because it is not in the set [a-z].\n",
        "\n",
        "* The following example uses the re.INGORECASE flag:"
      ]
    },
    {
      "cell_type": "code",
      "execution_count": null,
      "metadata": {
        "id": "M5SMjf9ehhX8",
        "outputId": "4b38f57f-e0d0-469b-9672-bd269083f5d9"
      },
      "outputs": [
        {
          "name": "stdout",
          "output_type": "stream",
          "text": [
            "['Python', 'is', 'awesome']\n"
          ]
        }
      ],
      "source": [
        "import re\n",
        "\n",
        "s = 'Python is awesome'\n",
        "pattern = '[a-z]+'\n",
        "\n",
        "l = re.findall(pattern, s, re.IGNORECASE)\n",
        "print(l)\n"
      ]
    },
    {
      "cell_type": "markdown",
      "metadata": {
        "id": "G_hBDceJhhX8"
      },
      "source": [
        "* Even though the pattern matches only characters in the set [a-z], the re.IGNORECASE flag instructs the regex engine to also match characters in [A-Z] set.\n",
        "\n",
        "* 2) The re.MULTILINE flag example\n",
        "    * The following example uses the ^ anchor to match one or more word characters at the beginning of a string:\n",
        "    "
      ]
    },
    {
      "cell_type": "code",
      "execution_count": null,
      "metadata": {
        "id": "4fGNlqWGhhX8",
        "outputId": "ffe78281-069b-4da8-e4de-5f0352f2f891"
      },
      "outputs": [
        {
          "name": "stdout",
          "output_type": "stream",
          "text": [
            "['Regex']\n"
          ]
        }
      ],
      "source": [
        "import re\n",
        "\n",
        "s = '''Regex \n",
        "Flags'''\n",
        "\n",
        "pattern ='^\\w+'\n",
        "\n",
        "l = re.findall(pattern,s)\n",
        "print(l)"
      ]
    },
    {
      "cell_type": "markdown",
      "metadata": {
        "id": "GExBGtOzhhX8"
      },
      "source": [
        "* The **s** string has two lines. The ^ only match at the beginning of the string as expected.\n",
        "\n",
        "* If you use the re.MULTILINE flag, the ^ will match at the beginning of each line. For example:\n"
      ]
    },
    {
      "cell_type": "code",
      "execution_count": null,
      "metadata": {
        "id": "87V3gwtthhX8",
        "outputId": "01714bbb-e9a0-4ec2-807b-996c0efec9fa"
      },
      "outputs": [
        {
          "name": "stdout",
          "output_type": "stream",
          "text": [
            "['Regex', 'Flags']\n"
          ]
        }
      ],
      "source": [
        "import re\n",
        "\n",
        "s = '''Regex \n",
        "Flags'''\n",
        "\n",
        "pattern = '^\\w+'\n",
        "\n",
        "l = re.findall(pattern, s, re.MULTILINE)\n",
        "print(l)"
      ]
    },
    {
      "cell_type": "markdown",
      "metadata": {
        "id": "2hJBvwGmhhX8"
      },
      "source": [
        "* 3) The re.DOTALL flag example\n",
        "    * In this example, the dot .+ pattern match one or more characters except for the new line:\n",
        "\n"
      ]
    },
    {
      "cell_type": "code",
      "execution_count": null,
      "metadata": {
        "id": "Mds-HZykhhX9",
        "outputId": "da4ed942-40c8-4f33-f7c8-8077ce53371f"
      },
      "outputs": [
        {
          "name": "stdout",
          "output_type": "stream",
          "text": [
            "['Regex', 'Flags']\n"
          ]
        }
      ],
      "source": [
        "import re\n",
        "\n",
        "s = '''Regex\n",
        "Flags'''\n",
        "\n",
        "pattern = '.+'\n",
        "\n",
        "l = re.findall(pattern, s)\n",
        "print(l)"
      ]
    },
    {
      "cell_type": "markdown",
      "metadata": {
        "id": "aKkDaZwLhhX9"
      },
      "source": [
        "* If you use the re.DOTALL flag, the **.+** will also match the new line:"
      ]
    },
    {
      "cell_type": "code",
      "execution_count": null,
      "metadata": {
        "id": "BRXfv_hwhhX9",
        "outputId": "abf066a1-aeeb-4ef3-c9e5-905a8f90e66f"
      },
      "outputs": [
        {
          "name": "stdout",
          "output_type": "stream",
          "text": [
            "['Regex\\nFlags']\n"
          ]
        }
      ],
      "source": [
        "import re\n",
        "\n",
        "s = '''Regex\n",
        "Flags'''\n",
        "\n",
        "pattern = '.+'\n",
        "\n",
        "l = re.findall(pattern, s, re.DOTALL)\n",
        "print(l)"
      ]
    },
    {
      "cell_type": "markdown",
      "metadata": {
        "id": "oBCpdjTrhhX9"
      },
      "source": [
        "* 4) The re.VERBOSE flag example\n",
        "    * The following example shows how to use the re.VERBOSE flag to write a pattern in sections with comments:"
      ]
    },
    {
      "cell_type": "code",
      "execution_count": null,
      "metadata": {
        "id": "yBDTTKtRhhX9",
        "outputId": "a3d2cc9b-7cff-42e4-9767-0c6c902bd42c"
      },
      "outputs": [
        {
          "name": "stdout",
          "output_type": "stream",
          "text": [
            "[('Python', '3')]\n"
          ]
        }
      ],
      "source": [
        "import re\n",
        "\n",
        "s = 'Python 3'\n",
        "\n",
        "pattern = r'''^(\\w+) # match one or more characters at the beginning of the string\n",
        "               \\s*   # match zero or more spaces\n",
        "              (\\d+)$ # match one or more digits at the end of the string'''\n",
        "\n",
        "l = re.findall(pattern, s, re.VERBOSE)\n",
        "print(l)"
      ]
    },
    {
      "cell_type": "markdown",
      "metadata": {
        "id": "DLcGDwDLhhX9"
      },
      "source": [
        "* In this example, the re.VERBOSE flag allows us to add spaces and comments to the regular expression to explain each individual rule.\n",
        "\n",
        "* 5) The re.ASCII flag example\n",
        "    * The following example matches words with two characters:\n",
        "   "
      ]
    },
    {
      "cell_type": "code",
      "execution_count": null,
      "metadata": {
        "id": "sA_vY_R2hhX-",
        "outputId": "67831880-2464-4bc5-dd30-afb412c69731"
      },
      "outputs": [
        {
          "name": "stdout",
          "output_type": "stream",
          "text": [
            "['作法', 'is', 'in']\n"
          ]
        }
      ],
      "source": [
        "import re\n",
        "\n",
        "s = '作法 is Pythonic in Japanese'\n",
        "pattern = r'\\b\\w{2}\\b'\n",
        "\n",
        "l = re.findall(pattern, s)\n",
        "print(l)\n"
      ]
    },
    {
      "cell_type": "markdown",
      "metadata": {
        "id": "AWvc5_olhhX-"
      },
      "source": [
        "* However, if you use the re.ASCII flag, the matches will contain only ASCII characters:"
      ]
    },
    {
      "cell_type": "code",
      "execution_count": null,
      "metadata": {
        "id": "R76fyHwihhX-",
        "outputId": "d212dc02-527c-4316-9464-b8a91c2019a2"
      },
      "outputs": [
        {
          "name": "stdout",
          "output_type": "stream",
          "text": [
            "['is', 'in']\n"
          ]
        }
      ],
      "source": [
        "import re\n",
        "\n",
        "s = '作法 is Pythonic in Japanese'\n",
        "pattern = r'\\b\\w{2}\\b'\n",
        "\n",
        "l = re.findall(pattern, s, re.ASCII)\n",
        "print(l)"
      ]
    },
    {
      "cell_type": "markdown",
      "metadata": {
        "id": "1kuqAgwohhX-"
      },
      "source": [
        "* In this example, the word **作法** was excluded from the resulting list.\n",
        "\n",
        "## **Regex CheatSheet**\n",
        "* https://www.pythontutorial.net/python-regex/python-regex-cheat-sheet/"
      ]
    },
    {
      "cell_type": "code",
      "execution_count": null,
      "metadata": {
        "id": "pwlsMM7GhhX-"
      },
      "outputs": [],
      "source": [
        ""
      ]
    }
  ],
  "metadata": {
    "colab": {
      "collapsed_sections": [],
      "name": "Python_Regex.ipynb",
      "provenance": []
    },
    "kernelspec": {
      "display_name": "Python 3 (ipykernel)",
      "language": "python",
      "name": "python3"
    },
    "language_info": {
      "codemirror_mode": {
        "name": "ipython",
        "version": 3
      },
      "file_extension": ".py",
      "mimetype": "text/x-python",
      "name": "python",
      "nbconvert_exporter": "python",
      "pygments_lexer": "ipython3",
      "version": "3.10.4"
    }
  },
  "nbformat": 4,
  "nbformat_minor": 0
}