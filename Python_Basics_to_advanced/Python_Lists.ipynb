{
 "cells": [
  {
   "cell_type": "markdown",
   "metadata": {
    "collapsed": true
   },
   "source": [
    "# **Python Lists.**\n",
    "\n",
    "# **Topics**\n",
    " - **Introduction**   \n",
    " - **declaration of lists**   \n",
    " - **Accessing,Slicing and indexing**   \n",
    " - **Basic List Operations**   \n",
    " - **Built-in List Functions & Methods**   \n",
    " - **Main methods used in lists**   \n",
    " - **List comprehension**  \n",
    " - **Lambda, The map(), the Filter and reduce() functions**   \n",
    " - **Updating Lists**   \n",
    " - **Delete List Elements.**   \n",
    " - **How to Use a For Loop to Iterate over a List?**   \n",
    " - **Python Iterables**   \n",
    " - **Tricks and questions**\n",
    "\n",
    "\n",
    "\n",
    "## **Introduction**\n",
    "\n",
    "* The most basic data structure in Python is the sequence. Each element of a sequence is assigned a number - its position or index. \n",
    "\n",
    "* The first index is zero, the second index is one, and so forth.Python has six built-in types of sequences, but the most common ones are lists and tuples, which we would see in this tutorial.\n",
    "\n",
    "* The list is the most versatile data type available in Python, which can be written as a list of comma-separated values (items) between square brackets. \n",
    "* A list is a data-structure, or it can be considered a container that can be used to store multiple data at once. The list will be ordered and there will be a definite count of it.\n",
    "* Lists are just like dynamically sized arrays, declared in other languages (vector in C++ and ArrayList in Java). \n",
    "* Lists need not be **homogeneous** always which makes it the most powerful tool in Python. \n",
    "* A single list may contain DataTypes like Integers, Strings, as well as Objects. Lists are mutable, and hence, they can be altered even after their creation.\n",
    "\n"
   ]
  },
  {
   "cell_type": "code",
   "execution_count": 1,
   "metadata": {},
   "outputs": [],
   "source": [
    "#To create a list, you separate the elements with a comma and enclose them with a bracket “[]”.\n",
    "list1 = ['physics', 'chemistry', 1997, 2000];\n",
    "list2 = [1, 2, 3, 4, 5 ];\n",
    "list3 = [\"a\", \"b\", \"c\", \"d\"];"
   ]
  },
  {
   "cell_type": "code",
   "execution_count": 5,
   "metadata": {},
   "outputs": [
    {
     "name": "stdout",
     "output_type": "stream",
     "text": [
      "['physics', 'chemistry', 1997, 2000]\n",
      "[1, 2, 3, 4, 5]\n",
      "['a', 'b', 'c', 'd']\n"
     ]
    },
    {
     "data": {
      "text/plain": [
       "list"
      ]
     },
     "execution_count": 5,
     "metadata": {},
     "output_type": "execute_result"
    }
   ],
   "source": [
    "print(list1)\n",
    "print(list2)\n",
    "print(list3)\n",
    "type(list1) #this checks the datatype whether it's list or not."
   ]
  },
  {
   "cell_type": "markdown",
   "metadata": {},
   "source": [
    "## **declaration of lists**\n",
    "A list can be declared in 2 ways"
   ]
  },
  {
   "cell_type": "code",
   "execution_count": 3,
   "metadata": {},
   "outputs": [
    {
     "name": "stdout",
     "output_type": "stream",
     "text": [
      "['a', 2, 3]\n"
     ]
    }
   ],
   "source": [
    "#way 1\n",
    "l=['a',2,3]\n",
    "print(l)"
   ]
  },
  {
   "cell_type": "code",
   "execution_count": 4,
   "metadata": {},
   "outputs": [
    {
     "name": "stdout",
     "output_type": "stream",
     "text": [
      "[]\n"
     ]
    }
   ],
   "source": [
    "#way 2\n",
    "l=list() #this creates a empty list.\n",
    "print(l)"
   ]
  },
  {
   "cell_type": "markdown",
   "metadata": {},
   "source": [
    "## **Accessing,Slicing and indexing.**\n",
    "* To access values in lists, use the square brackets for slicing along with the index or indices to obtain value available at that index\n"
   ]
  },
  {
   "cell_type": "code",
   "execution_count": 6,
   "metadata": {},
   "outputs": [
    {
     "name": "stdout",
     "output_type": "stream",
     "text": [
      "physics\n",
      "[2, 3, 4, 5]\n",
      "[1, 2, 3, 4, 5]\n",
      "[1, 2, 3, 4, 5]\n",
      "chemistry\n"
     ]
    }
   ],
   "source": [
    "print (list1[0])\n",
    "print (list2[1:5]) #from 1 to 4 i.e 1 to n-1 everytime.\n",
    "print (list2[:5])\n",
    "print (list2[:5+5:]) #prints the entire list but not the oringinal order sometimes.\n",
    "print(list1[1])\n"
   ]
  },
  {
   "cell_type": "markdown",
   "metadata": {},
   "source": [
    "## **Basic List Operations.**\n",
    "* Lists respond to the **+** and * operators much like strings.\n",
    "* They mean concatenation and repetition here too, except that the result is a new list, not a string.\n"
   ]
  },
  {
   "cell_type": "code",
   "execution_count": 3,
   "metadata": {},
   "outputs": [
    {
     "name": "stdout",
     "output_type": "stream",
     "text": [
      "['physics', 'chemistry', 1997, 2000, 1, 2, 3, 4, 5]\n",
      "[1, 2, 3, 1, 2, 3, 1, 2, 3]\n",
      "['physics', 'chemistry', 1997, 2000, 1, 2, 3]\n",
      "['physics', 'chemistry', 1997, 2000, 1, 2, 3, 4, 5]\n"
     ]
    }
   ],
   "source": [
    "print(list1+list2)\n",
    "print([1,2,3]*3)\n",
    "#print([1,2,3]**3)\n",
    "print(list1+[1,2,3])\n",
    "list4=list1+list2\n",
    "print(list4)\n"
   ]
  },
  {
   "cell_type": "code",
   "execution_count": 4,
   "metadata": {},
   "outputs": [
    {
     "data": {
      "text/plain": [
       "list"
      ]
     },
     "execution_count": 4,
     "metadata": {},
     "output_type": "execute_result"
    }
   ],
   "source": [
    "#let's check the type data-structure using type command in python\n",
    "type(list4)"
   ]
  },
  {
   "cell_type": "markdown",
   "metadata": {},
   "source": [
    "## **Built-in List Functions & Methods.**\n",
    "Following are main functions or Built-in used in lists.\n",
    "* **cmp(list1, list2)** = No longer available in Python 3.\n",
    "* **len(list)** = Gives the total length of the list.\n",
    "* **max(list)** = Returns item from the list with max value.\n",
    "* **min(list)** = Returns item from the list with min value. \n",
    "* **list(seq)** = Converts a tuple into list.\n",
    "* **sorted(list)** = sort the list and has same functionality as sort() method.\n",
    "* **sum(list)** = returns sum of all the elements in the list.\n",
    "* **enumerate(list, default start=0)** = it adds counts to each element in list \n",
    "* **type(list)** = it checks the datatype of the list."
   ]
  },
  {
   "cell_type": "code",
   "execution_count": 5,
   "metadata": {},
   "outputs": [
    {
     "name": "stdout",
     "output_type": "stream",
     "text": [
      "Length:  5\n",
      "Maximum:  1997\n",
      "Minimum:  1\n",
      "Tuple to list:  [1, 2, 3]\n",
      "String to list:  ['p', 'y', 't', 'h', 'o', 'n']\n",
      "Sorted list:  [1, 2, 3, 523, 1997]\n",
      "Sum of list:  2526\n",
      "Tuple : (1, 2, 3)\n",
      "Enumeration of list:  [(0, 1), (1, 2), (2, 3), (3, 1997), (4, 523)]\n",
      "List of Tuple:  [1, 2, 3]\n"
     ]
    }
   ],
   "source": [
    "l=[1,2,3,1997,523]\n",
    "t=(1,2,3)\n",
    "s=\"python\"\n",
    "print(\"Length: \",len(l))\n",
    "print(\"Maximum: \",max(l))\n",
    "print(\"Minimum: \",min(l))\n",
    "print(\"Tuple to list: \",list(t))\n",
    "print(\"String to list: \",list(s))\n",
    "print(\"Sorted list: \",sorted(l))\n",
    "print(\"Sum of list: \",sum(l))\n",
    "enu_l=enumerate(l)\n",
    "print(\"Tuple :\",t)\n",
    "print(\"Enumeration of list: \",list(enu_l))\n",
    "print(\"List of Tuple: \",list(t))"
   ]
  },
  {
   "cell_type": "code",
   "execution_count": 7,
   "metadata": {},
   "outputs": [
    {
     "name": "stdout",
     "output_type": "stream",
     "text": [
      "list before reverse:  [12324, 12, 0, 564]\n",
      "list after reverse:  [564, 0, 12, 12324]\n"
     ]
    }
   ],
   "source": [
    "l1=[12324,12,0,564]\n",
    "print(\"list before reverse: \",l1)\n",
    "l1.reverse()\n",
    "print(\"list after reverse: \",l1)"
   ]
  },
  {
   "cell_type": "code",
   "execution_count": 6,
   "metadata": {},
   "outputs": [
    {
     "name": "stdout",
     "output_type": "stream",
     "text": [
      "Index is 0 for company: hackerearth\n",
      "Index is 1 for company: google\n",
      "Index is 2 for company: facebook\n"
     ]
    }
   ],
   "source": [
    "#list enumerate example\n",
    "companies = ['hackerearth', 'google', 'facebook']\n",
    "for indx, name in enumerate(companies):\n",
    "    print(\"Index is %s for company: %s\" % (indx, name))"
   ]
  },
  {
   "cell_type": "markdown",
   "metadata": {},
   "source": [
    "## **Main methods used in lists.**\n",
    "\n",
    "* Python lists support common methods that are commonly required while working with lists. \n",
    "* **The methods change the list in place.** \n",
    "* In case you want to make some changes in the list and keep both the old list and the changed list, take a look at the functions that are described after the methods.\n",
    "\n",
    "    * **list.append(obj)** = Appends object obj to list \n",
    "    * **list.count(obj)** = Returns count of how many times obj occurs in list \n",
    "    * **list.extend(seq)** = Appends the contents of seq to list \n",
    "    * **list.index(obj)** = Returns the lowest index in list that obj appears \n",
    "    * **list.insert(index, obj)** = Inserts object obj into list at offset index. will add another element to the list at the given index, shifting the elements greater than the index one step to the right. In other words, the elements with the index greater than the provided index will increase by one.\n",
    "    * **list.pop(obj=list[-1])** = Removes and returns last object or obj from list \n",
    "    * **list.remove(obj)** = Removes object obj from list \n",
    "    * **list.reverse()** = it reverses the list. \n",
    "    * **list.sort([func])** = Sorts objects of list, use compare func if given\n",
    "    * **list.copy()** = it copies present list to other list with different memory location.\n",
    "    * **list.clear()** = it clears all the items in the list and returns empty list.\n"
   ]
  },
  {
   "cell_type": "code",
   "execution_count": 12,
   "metadata": {},
   "outputs": [
    {
     "name": "stdout",
     "output_type": "stream",
     "text": [
      "l.append(5):  [1, 2, 3, 4, 2, 1, 4, 2, 2, 4, 5]\n",
      "l.append([5]):  [1, 2, 3, 4, 2, 1, 4, 2, 2, 4, 5, [5]]\n",
      "l.count(4):  3\n",
      "l.extend([6]):  [1, 2, 3, 4, 2, 1, 4, 2, 2, 4, 5, [5], 6]\n",
      "l.index(3):  2\n",
      "l.insert(0,12):  [12, 1, 2, 3, 4, 2, 1, 4, 2, 2, 4, 5, [5], 6]\n",
      "l.pop(2):  [12, 1, 3, 4, 2, 1, 4, 2, 2, 4, 5, [5], 6]\n",
      "l.remove(2):  [12, 1, 3, 4, 1, 4, 2, 2, 4, 5, [5], 6]\n",
      "l2:  [1, 0, 11, 1, 23, 5]\n",
      "l2.sort():  [0, 1, 1, 5, 11, 23]\n",
      "l2 after sort:  [0, 1, 1, 5, 11, 23]\n",
      "k=l.copy():  [12, 1, 3, 4, 1, 4, 2, 2, 4, 5, [5], 6]\n",
      "id of l 2484243881600\n",
      "id of k 2484247100480\n",
      "l1.clear():  []\n"
     ]
    }
   ],
   "source": [
    "l=[1,2,3,4,2,1,4,2,2,4]\n",
    "l.append(5)\n",
    "print(\"l.append(5): \",l)\n",
    "l.append([5])\n",
    "print(\"l.append([5]): \",l)\n",
    "l.count(4)\n",
    "print(\"l.count(4): \",l.count(4))\n",
    "l.extend([6])\n",
    "print(\"l.extend([6]): \",l)\n",
    "l.index(3)\n",
    "print(\"l.index(3): \",l.index(3))\n",
    "l.insert(0,12)\n",
    "print(\"l.insert(0,12): \",l)\n",
    "l.pop(2)\n",
    "print(\"l.pop(2): \",l)\n",
    "l.remove(2)\n",
    "print(\"l.remove(2): \",l)\n",
    "l2=[1,0,11,1,23,5]\n",
    "print(\"l2: \",l2)\n",
    "l2.sort()\n",
    "print(\"l2.sort(): \",l2)\n",
    "print(\"l2 after sort: \",l2)\n",
    "k=l.copy()\n",
    "print(\"k=l.copy(): \",k)\n",
    "print(\"id of l\",id(l))\n",
    "print(\"id of k\",id(k))\n",
    "l1=[2,3,4]\n",
    "l1.clear()\n",
    "print(\"l1.clear(): \",l1)"
   ]
  },
  {
   "cell_type": "markdown",
   "metadata": {},
   "source": [
    "## **List comprehension**\n",
    "* List comprehension is an elegant way to define and create list in Python. \n",
    "* These lists have often the qualities of sets, but are not in all cases sets. \n",
    "* List comprehension is a complete substitute for the lambda function as well as the functions map(), filter() and reduce(). \n",
    "* For most people the syntax of list comprehension is easier to be grasped. \n"
   ]
  },
  {
   "cell_type": "code",
   "execution_count": 21,
   "metadata": {},
   "outputs": [
    {
     "name": "stdout",
     "output_type": "stream",
     "text": [
      "[0, 1, 4, 9, 16, 25, 36, 49, 64, 81]\n"
     ]
    }
   ],
   "source": [
    "l=[x**2 for x in range(10)]\n",
    "print(l)"
   ]
  },
  {
   "cell_type": "code",
   "execution_count": 22,
   "metadata": {},
   "outputs": [
    {
     "name": "stdout",
     "output_type": "stream",
     "text": [
      "[0, 2, 4, 6, 8, 10, 12, 14, 16, 18]\n"
     ]
    }
   ],
   "source": [
    "l=[x*2 for x in range(10)]\n",
    "print(l)"
   ]
  },
  {
   "cell_type": "code",
   "execution_count": 23,
   "metadata": {},
   "outputs": [
    {
     "name": "stdout",
     "output_type": "stream",
     "text": [
      "[0, 1, 8, 27, 64, 125, 216, 343, 512, 729]\n"
     ]
    }
   ],
   "source": [
    "t=(x**3 for x in range(10))\n",
    "print(list(t))"
   ]
  },
  {
   "cell_type": "code",
   "execution_count": 14,
   "metadata": {},
   "outputs": [
    {
     "name": "stdout",
     "output_type": "stream",
     "text": [
      "['h', 'u', 'm', 'a', 'n']\n"
     ]
    }
   ],
   "source": [
    "human_alpha = ['h', 'u', 'm', 'a', 'n']\n",
    "h_letters = [human for human in human_alpha]\n",
    "print(h_letters)"
   ]
  },
  {
   "cell_type": "markdown",
   "metadata": {
    "collapsed": true
   },
   "source": [
    "## **Lambda, The map(), the Filter and reduce() functions.**\n",
    "* The lambda operator or lambda function is a way to create small anonymous functions, i.e. functions without a name. \n",
    "* These functions are throw-away functions, i.e. they are just needed where they have been created. Lambda functions are mainly used in combination with the functions filter(), map() and reduce(). \n",
    "* The general syntax of a lambda function is quite simple: \n",
    "\"**lambda argument_list: expression**\"\n",
    "* The argument list consists of a comma separated list of arguments and the expression is an arithmetic expression using these arguments. You can assign the function to a variable to give it a name.\n",
    "\n",
    "* The advantage of the lambda operator can be seen when it is used in combination with the map() function. \n",
    "* map() is a function which takes two arguments: \n",
    "**r = map(func, seq)**\n",
    "\n",
    "* The function \"filter(function, sequence)\" offers an elegant way to filter out all the elements of a sequence \"sequence\", for which the function function returns True. i.e. an item will be produced by the iterator result of **filter(function, sequence)** if item is included in the sequence \"sequence\" and if function(item) returns True.\n",
    "\n",
    "* The function \"**reduce(func, seq)**\" continually applies the function func() to the sequence seq. It returns a single value.\n"
   ]
  },
  {
   "cell_type": "code",
   "execution_count": 1,
   "metadata": {},
   "outputs": [
    {
     "data": {
      "text/plain": [
       "8"
      ]
     },
     "execution_count": 1,
     "metadata": {},
     "output_type": "execute_result"
    }
   ],
   "source": [
    "s=lambda x,y:x+y\n",
    "s(3,5)"
   ]
  },
  {
   "cell_type": "code",
   "execution_count": 3,
   "metadata": {},
   "outputs": [
    {
     "name": "stdout",
     "output_type": "stream",
     "text": [
      "<map object at 0x7f4c0047b4a8>\n",
      "[102.56, 97.7, 99.14, 100.03999999999999]\n"
     ]
    }
   ],
   "source": [
    "Celsius = [39.2, 36.5, 37.3, 37.8]\n",
    "Fahrenheit = map(lambda x: (float(9)/5)*x + 32, Celsius)\n",
    "print(Fahrenheit)\n",
    "print(list(Fahrenheit))"
   ]
  },
  {
   "cell_type": "code",
   "execution_count": 6,
   "metadata": {},
   "outputs": [
    {
     "name": "stdout",
     "output_type": "stream",
     "text": [
      "<filter object at 0x7f4c00413eb8>\n",
      "[0, 2, 8, 34]\n"
     ]
    }
   ],
   "source": [
    "fib = [0,1,1,2,3,5,8,13,21,34,55]\n",
    "result = filter(lambda x: x % 2 == 0, fib)\n",
    "print(result)\n",
    "print(list(result))"
   ]
  },
  {
   "cell_type": "code",
   "execution_count": 12,
   "metadata": {},
   "outputs": [
    {
     "data": {
      "text/plain": [
       "5050"
      ]
     },
     "execution_count": 12,
     "metadata": {},
     "output_type": "execute_result"
    }
   ],
   "source": [
    "from functools import reduce\n",
    "reduce(lambda x, y: x+y, range(1,101))"
   ]
  },
  {
   "cell_type": "code",
   "execution_count": 13,
   "metadata": {},
   "outputs": [
    {
     "data": {
      "text/plain": [
       "113"
      ]
     },
     "execution_count": 13,
     "metadata": {},
     "output_type": "execute_result"
    }
   ],
   "source": [
    "reduce(lambda x,y: x+y, [47,11,42,13])"
   ]
  },
  {
   "cell_type": "markdown",
   "metadata": {},
   "source": [
    "## **Updating Lists.**\n",
    "* You can update single or multiple elements of lists by giving the slice on the left-hand side of the assignment operator, and you can add to elements in a list with the append() method.\n"
   ]
  },
  {
   "cell_type": "code",
   "execution_count": 20,
   "metadata": {},
   "outputs": [
    {
     "name": "stdout",
     "output_type": "stream",
     "text": [
      "[1, 2, 3, 4, 5]\n"
     ]
    }
   ],
   "source": [
    "l=[1,2,3,4]\n",
    "print(l+[5])"
   ]
  },
  {
   "cell_type": "code",
   "execution_count": 21,
   "metadata": {},
   "outputs": [
    {
     "data": {
      "text/plain": [
       "[1, 2, 3, 4, 6]"
      ]
     },
     "execution_count": 21,
     "metadata": {},
     "output_type": "execute_result"
    }
   ],
   "source": [
    "l.append(6)\n",
    "l"
   ]
  },
  {
   "cell_type": "code",
   "execution_count": 22,
   "metadata": {},
   "outputs": [
    {
     "data": {
      "text/plain": [
       "[1, 2, 'ravi', 4, 6]"
      ]
     },
     "execution_count": 22,
     "metadata": {},
     "output_type": "execute_result"
    }
   ],
   "source": [
    "l[2]='ravi'\n",
    "l"
   ]
  },
  {
   "cell_type": "markdown",
   "metadata": {},
   "source": [
    "## **Delete List Elements.**\n",
    "* To remove a list element, you can use either the del statement if you know exactly which element(s) you are deleting. You can use the remove() method if you do not know exactly which items to delete.\n"
   ]
  },
  {
   "cell_type": "code",
   "execution_count": 26,
   "metadata": {},
   "outputs": [
    {
     "data": {
      "text/plain": [
       "[1, 2, 3, 1997, 'a']"
      ]
     },
     "execution_count": 26,
     "metadata": {},
     "output_type": "execute_result"
    }
   ],
   "source": [
    "ll=[1,2,3,1997,'a']\n",
    "ll"
   ]
  },
  {
   "cell_type": "code",
   "execution_count": 27,
   "metadata": {},
   "outputs": [
    {
     "data": {
      "text/plain": [
       "[1, 2, 1997, 'a']"
      ]
     },
     "execution_count": 27,
     "metadata": {},
     "output_type": "execute_result"
    }
   ],
   "source": [
    "del ll[2]\n",
    "ll"
   ]
  },
  {
   "cell_type": "code",
   "execution_count": 28,
   "metadata": {},
   "outputs": [
    {
     "data": {
      "text/plain": [
       "[1, 4, 5, 6]"
      ]
     },
     "execution_count": 28,
     "metadata": {},
     "output_type": "execute_result"
    }
   ],
   "source": [
    "ll1=[1,2,3,4,5,6]\n",
    "del ll1[1:3]\n",
    "ll1"
   ]
  },
  {
   "cell_type": "code",
   "execution_count": 29,
   "metadata": {},
   "outputs": [
    {
     "ename": "NameError",
     "evalue": "name 'll1' is not defined",
     "output_type": "error",
     "traceback": [
      "\u001b[0;31m---------------------------------------------------------------------------\u001b[0m",
      "\u001b[0;31mNameError\u001b[0m                                 Traceback (most recent call last)",
      "\u001b[0;32m<ipython-input-29-1157c259d803>\u001b[0m in \u001b[0;36m<module>\u001b[0;34m()\u001b[0m\n\u001b[1;32m      1\u001b[0m \u001b[0;32mdel\u001b[0m \u001b[0mll1\u001b[0m\u001b[0;34m\u001b[0m\u001b[0m\n\u001b[0;32m----> 2\u001b[0;31m \u001b[0mll1\u001b[0m\u001b[0;34m\u001b[0m\u001b[0m\n\u001b[0m",
      "\u001b[0;31mNameError\u001b[0m: name 'll1' is not defined"
     ]
    }
   ],
   "source": [
    "del ll1\n",
    "ll1"
   ]
  },
  {
   "cell_type": "code",
   "execution_count": 30,
   "metadata": {},
   "outputs": [
    {
     "data": {
      "text/plain": [
       "[1, 2, 3, 5, 1887]"
      ]
     },
     "execution_count": 30,
     "metadata": {},
     "output_type": "execute_result"
    }
   ],
   "source": [
    "ll2=[1,2,3,5,'a',1887]\n",
    "ll2.remove('a')\n",
    "ll2"
   ]
  },
  {
   "cell_type": "markdown",
   "metadata": {},
   "source": []
  },
  {
   "cell_type": "markdown",
   "metadata": {
    "collapsed": true
   },
   "source": [
    "### **How to Use a For Loop to Iterate over a List**"
   ]
  },
  {
   "cell_type": "code",
   "execution_count": 2,
   "metadata": {},
   "outputs": [],
   "source": [
    "list=[]\n",
    "for item in list:\n",
    "    # process the item\n",
    "    pass"
   ]
  },
  {
   "cell_type": "markdown",
   "metadata": {},
   "source": [
    "* In this syntax, the for loop statement assigns an individual element of the list to the item variable in each iteration.\n",
    "\n",
    "* Inside the body of the loop, you can manipulate each list element individually.\n",
    "\n",
    "* For example, the following defines a list of cities and uses a for loop to iterate over the list:"
   ]
  },
  {
   "cell_type": "code",
   "execution_count": 3,
   "metadata": {},
   "outputs": [
    {
     "name": "stdout",
     "output_type": "stream",
     "text": [
      "New York\n",
      "Beijing\n",
      "Cairo\n",
      "Mumbai\n",
      "Mexico\n"
     ]
    }
   ],
   "source": [
    "cities = ['New York', 'Beijing', 'Cairo', 'Mumbai', 'Mexico']\n",
    "\n",
    "for city in cities:\n",
    "    print(city)"
   ]
  },
  {
   "cell_type": "markdown",
   "metadata": {},
   "source": [
    "#### **Using Python for loop to iterate over a list with index**\n",
    "* Sometimes, you may want to access indexes of elements inside the loop. In these cases, you can use the enumerate() function.\n",
    "\n",
    "* The enumerate() function returns a tuple that contains the current index and element of the list.\n",
    "\n",
    "* The following example defines a list of cities and uses a for loop with the enumerate() function to iterate over the list:"
   ]
  },
  {
   "cell_type": "code",
   "execution_count": 4,
   "metadata": {},
   "outputs": [
    {
     "name": "stdout",
     "output_type": "stream",
     "text": [
      "(0, 'New York')\n",
      "(1, 'Beijing')\n",
      "(2, 'Cairo')\n",
      "(3, 'Mumbai')\n",
      "(4, 'Mexico')\n"
     ]
    }
   ],
   "source": [
    "cities = ['New York', 'Beijing', 'Cairo', 'Mumbai', 'Mexico']\n",
    "\n",
    "for item in enumerate(cities):\n",
    "    print(item)"
   ]
  },
  {
   "cell_type": "code",
   "execution_count": 5,
   "metadata": {},
   "outputs": [
    {
     "name": "stdout",
     "output_type": "stream",
     "text": [
      "0: New York\n",
      "1: Beijing\n",
      "2: Cairo\n",
      "3: Mumbai\n",
      "4: Mexico\n"
     ]
    }
   ],
   "source": [
    "#To access the index, you can unpack the tuple within the for loop statement like this:\n",
    "cities = ['New York', 'Beijing', 'Cairo', 'Mumbai', 'Mexico']\n",
    "\n",
    "for index, city in enumerate(cities):\n",
    "    print(f\"{index}: {city}\")"
   ]
  },
  {
   "cell_type": "code",
   "execution_count": 6,
   "metadata": {},
   "outputs": [
    {
     "name": "stdout",
     "output_type": "stream",
     "text": [
      "1: New York\n",
      "2: Beijing\n",
      "3: Cairo\n",
      "4: Mumbai\n",
      "5: Mexico\n"
     ]
    }
   ],
   "source": [
    "#The enumerate() function allows you to specify the starting index which defaults to zero.\n",
    "#The following example uses the enumerate() function with the index that starts from one:\n",
    "cities = ['New York', 'Beijing', 'Cairo', 'Mumbai', 'Mexico']\n",
    "\n",
    "for index, city in enumerate(cities,1):\n",
    "    print(f\"{index}: {city}\")"
   ]
  },
  {
   "cell_type": "markdown",
   "metadata": {},
   "source": [
    "## **Python Iterables**\n",
    "* In Python, an iterable is an object that includes zero, one, or many elements. An iterable has the ability to return its elements one at a time.\n",
    "\n",
    "* Because of this feature, you can use a for loop to iterate over an iterable.\n",
    "\n",
    "* In fact, the range() function is an iterable because you can iterate over its result:"
   ]
  },
  {
   "cell_type": "code",
   "execution_count": 8,
   "metadata": {},
   "outputs": [
    {
     "name": "stdout",
     "output_type": "stream",
     "text": [
      "0\n",
      "1\n",
      "2\n"
     ]
    }
   ],
   "source": [
    "for index in range(3):\n",
    "    print(index)"
   ]
  },
  {
   "cell_type": "code",
   "execution_count": 9,
   "metadata": {},
   "outputs": [
    {
     "name": "stdout",
     "output_type": "stream",
     "text": [
      "I\n",
      "t\n",
      "e\n",
      "r\n",
      "a\n",
      "b\n",
      "l\n",
      "e\n",
      "s\n"
     ]
    }
   ],
   "source": [
    "#Also, a string is an iterable because you can use a for loop to iterate over it:\n",
    "str = 'Iterables'\n",
    "for ch in str:\n",
    "    print(ch)"
   ]
  },
  {
   "cell_type": "code",
   "execution_count": 10,
   "metadata": {},
   "outputs": [
    {
     "name": "stdout",
     "output_type": "stream",
     "text": [
      "high\n",
      "medium\n",
      "low\n"
     ]
    }
   ],
   "source": [
    "#Lists and tuples are also iterables because you can loop over them. For example:\n",
    "ranks = ['high', 'medium', 'low']\n",
    "\n",
    "for rank in ranks:\n",
    "    print(rank)"
   ]
  },
  {
   "cell_type": "markdown",
   "metadata": {},
   "source": [
    "* The rule of thumb is that if you know if can loop over something, it’s iterable."
   ]
  },
  {
   "cell_type": "markdown",
   "metadata": {},
   "source": [
    "### **What is an iterator**\n",
    "* An iterable can be iterated over. And an iterator is the agent that performs the iteration.\n",
    "\n",
    "* To get an iterator from an iterable, you use the iter() function. For example:"
   ]
  },
  {
   "cell_type": "code",
   "execution_count": 11,
   "metadata": {},
   "outputs": [
    {
     "name": "stdout",
     "output_type": "stream",
     "text": [
      "red\n"
     ]
    }
   ],
   "source": [
    "colors = ['red', 'green', 'blue']\n",
    "colors_iter = iter(colors)\n",
    "#Once you have the iterator, you can get the next element from the iterable using the next() function:\n",
    "color = next(colors_iter)\n",
    "print(color)\n"
   ]
  },
  {
   "cell_type": "code",
   "execution_count": 12,
   "metadata": {},
   "outputs": [
    {
     "name": "stdout",
     "output_type": "stream",
     "text": [
      "red\n",
      "green\n",
      "blue\n"
     ]
    }
   ],
   "source": [
    "#Every time, you call the next() function, it returns the next element in the iterable. For example:\n",
    "colors = ['red', 'green', 'blue']\n",
    "colors_iter = iter(colors)\n",
    "\n",
    "color = next(colors_iter)\n",
    "print(color)\n",
    "\n",
    "color = next(colors_iter)\n",
    "print(color)\n",
    "\n",
    "color = next(colors_iter)\n",
    "print(color)"
   ]
  },
  {
   "cell_type": "code",
   "execution_count": 13,
   "metadata": {},
   "outputs": [
    {
     "name": "stdout",
     "output_type": "stream",
     "text": [
      "red\n",
      "green\n",
      "blue\n"
     ]
    },
    {
     "ename": "StopIteration",
     "evalue": "",
     "output_type": "error",
     "traceback": [
      "\u001b[1;31m---------------------------------------------------------------------------\u001b[0m",
      "\u001b[1;31mStopIteration\u001b[0m                             Traceback (most recent call last)",
      "Input \u001b[1;32mIn [13]\u001b[0m, in \u001b[0;36m<cell line: 15>\u001b[1;34m()\u001b[0m\n\u001b[0;32m     12\u001b[0m \u001b[38;5;28mprint\u001b[39m(color)\n\u001b[0;32m     14\u001b[0m \u001b[38;5;66;03m# cause an excpetion\u001b[39;00m\n\u001b[1;32m---> 15\u001b[0m color \u001b[38;5;241m=\u001b[39m \u001b[38;5;28;43mnext\u001b[39;49m\u001b[43m(\u001b[49m\u001b[43mcolors_iter\u001b[49m\u001b[43m)\u001b[49m\n\u001b[0;32m     16\u001b[0m \u001b[38;5;28mprint\u001b[39m(color)\n",
      "\u001b[1;31mStopIteration\u001b[0m: "
     ]
    }
   ],
   "source": [
    "#If there isn’t any more element and you call the next() function, you’ll get an exception.\n",
    "colors = ['red', 'green', 'blue']\n",
    "colors_iter = iter(colors)\n",
    "\n",
    "color = next(colors_iter)\n",
    "print(color)\n",
    "\n",
    "color = next(colors_iter)\n",
    "print(color)\n",
    "\n",
    "color = next(colors_iter)\n",
    "print(color)\n",
    "\n",
    "# cause an excpetion\n",
    "color = next(colors_iter)\n",
    "print(color)"
   ]
  },
  {
   "cell_type": "markdown",
   "metadata": {},
   "source": [
    "* The iterator is stateful. It means that once you consume an element from the iterator, it’s gone.\n",
    "\n",
    "* In other words, once you complete looping over an iterator, the iterator becomes empty. If you iterate over it again, it’ll return nothing.\n",
    "\n",
    "* Since you can iterate over an iterator, the iterator is also an iterable object. This is quite confusing. For example:"
   ]
  },
  {
   "cell_type": "code",
   "execution_count": 15,
   "metadata": {},
   "outputs": [
    {
     "name": "stdout",
     "output_type": "stream",
     "text": [
      "red\n",
      "green\n",
      "blue\n"
     ]
    }
   ],
   "source": [
    "colors = ['red', 'green', 'blue']\n",
    "iterator = iter(colors)\n",
    "\n",
    "for color in iterator:\n",
    "    print(color)\n",
    "#If you call the iter() function and pass an iterator to it, it’ll return the same iterator back."
   ]
  },
  {
   "cell_type": "markdown",
   "metadata": {},
   "source": [
    "## **Tricks and questions.**\n",
    "### **(1 ) Difference between extend() and append().**"
   ]
  },
  {
   "cell_type": "code",
   "execution_count": 35,
   "metadata": {},
   "outputs": [
    {
     "name": "stdout",
     "output_type": "stream",
     "text": [
      "[1, 2, 3, 4, [5]]\n",
      "[1, 2, 3, 4, [5], 6]\n",
      "[1, 2, 3, 4, [5], 6, [7]]\n",
      "[1, 2, 3, 4, [5], 6, [7], 8]\n"
     ]
    },
    {
     "ename": "TypeError",
     "evalue": "'int' object is not iterable",
     "output_type": "error",
     "traceback": [
      "\u001b[0;31m---------------------------------------------------------------------------\u001b[0m",
      "\u001b[0;31mTypeError\u001b[0m                                 Traceback (most recent call last)",
      "\u001b[0;32m<ipython-input-35-5f5b65affdc3>\u001b[0m in \u001b[0;36m<module>\u001b[0;34m()\u001b[0m\n\u001b[1;32m      8\u001b[0m \u001b[0ml\u001b[0m\u001b[0;34m.\u001b[0m\u001b[0mappend\u001b[0m\u001b[0;34m(\u001b[0m\u001b[0;36m8\u001b[0m\u001b[0;34m)\u001b[0m\u001b[0;34m\u001b[0m\u001b[0m\n\u001b[1;32m      9\u001b[0m \u001b[0mprint\u001b[0m\u001b[0;34m(\u001b[0m\u001b[0ml\u001b[0m\u001b[0;34m)\u001b[0m\u001b[0;34m\u001b[0m\u001b[0m\n\u001b[0;32m---> 10\u001b[0;31m \u001b[0ml\u001b[0m\u001b[0;34m.\u001b[0m\u001b[0mextend\u001b[0m\u001b[0;34m(\u001b[0m\u001b[0;36m9\u001b[0m\u001b[0;34m)\u001b[0m \u001b[0;31m#since it doesn't work for non-iterable datatypes\u001b[0m\u001b[0;34m\u001b[0m\u001b[0m\n\u001b[0m\u001b[1;32m     11\u001b[0m \u001b[0mprint\u001b[0m\u001b[0;34m(\u001b[0m\u001b[0ml\u001b[0m\u001b[0;34m)\u001b[0m\u001b[0;34m\u001b[0m\u001b[0m\n",
      "\u001b[0;31mTypeError\u001b[0m: 'int' object is not iterable"
     ]
    }
   ],
   "source": [
    "l=[1,2,3,4]\n",
    "l.append([5])\n",
    "print(l)\n",
    "l.extend([6])\n",
    "print(l)\n",
    "l.extend([[7]])\n",
    "print(l) \n",
    "l.append(8)\n",
    "print(l)\n",
    "l.extend(9) #since it doesn't work for non-iterable datatypes\n",
    "print(l)"
   ]
  },
  {
   "cell_type": "markdown",
   "metadata": {},
   "source": [
    "### **(2) Isinstance() and type in list.**"
   ]
  },
  {
   "cell_type": "code",
   "execution_count": 37,
   "metadata": {},
   "outputs": [
    {
     "data": {
      "text/plain": [
       "list"
      ]
     },
     "execution_count": 37,
     "metadata": {},
     "output_type": "execute_result"
    }
   ],
   "source": [
    "#they're used to check whether the datatype is list or not.\n",
    "l11=[1,2,3]\n",
    "type(l11)"
   ]
  },
  {
   "cell_type": "code",
   "execution_count": 38,
   "metadata": {},
   "outputs": [
    {
     "data": {
      "text/plain": [
       "True"
      ]
     },
     "execution_count": 38,
     "metadata": {},
     "output_type": "execute_result"
    }
   ],
   "source": [
    "isinstance(l11,list)"
   ]
  },
  {
   "cell_type": "markdown",
   "metadata": {},
   "source": [
    "### **(3) Difference between k=list.copy() and k=l.**"
   ]
  },
  {
   "cell_type": "code",
   "execution_count": 39,
   "metadata": {},
   "outputs": [
    {
     "data": {
      "text/plain": [
       "139964398496328"
      ]
     },
     "execution_count": 39,
     "metadata": {},
     "output_type": "execute_result"
    }
   ],
   "source": [
    "l=[1,2,3]\n",
    "id(l)"
   ]
  },
  {
   "cell_type": "code",
   "execution_count": 40,
   "metadata": {},
   "outputs": [
    {
     "data": {
      "text/plain": [
       "139964398496328"
      ]
     },
     "execution_count": 40,
     "metadata": {},
     "output_type": "execute_result"
    }
   ],
   "source": [
    "k=l\n",
    "id(k)"
   ]
  },
  {
   "cell_type": "code",
   "execution_count": 41,
   "metadata": {},
   "outputs": [
    {
     "data": {
      "text/plain": [
       "139964397890440"
      ]
     },
     "execution_count": 41,
     "metadata": {},
     "output_type": "execute_result"
    }
   ],
   "source": [
    "j=l.copy()\n",
    "id(j)"
   ]
  },
  {
   "cell_type": "markdown",
   "metadata": {},
   "source": [
    "### **(4) Unpacking python lists.**"
   ]
  },
  {
   "cell_type": "code",
   "execution_count": 42,
   "metadata": {},
   "outputs": [
    {
     "ename": "ValueError",
     "evalue": "too many values to unpack (expected 3)",
     "output_type": "error",
     "traceback": [
      "\u001b[0;31m---------------------------------------------------------------------------\u001b[0m",
      "\u001b[0;31mValueError\u001b[0m                                Traceback (most recent call last)",
      "\u001b[0;32m<ipython-input-42-e6e2a909b0e0>\u001b[0m in \u001b[0;36m<module>\u001b[0;34m()\u001b[0m\n\u001b[0;32m----> 1\u001b[0;31m \u001b[0ma\u001b[0m\u001b[0;34m,\u001b[0m\u001b[0mb\u001b[0m\u001b[0;34m,\u001b[0m\u001b[0mc\u001b[0m\u001b[0;34m=\u001b[0m\u001b[0;34m[\u001b[0m\u001b[0;36m1\u001b[0m\u001b[0;34m,\u001b[0m\u001b[0;36m2\u001b[0m\u001b[0;34m,\u001b[0m\u001b[0;36m3\u001b[0m\u001b[0;34m,\u001b[0m\u001b[0;34m'a'\u001b[0m\u001b[0;34m,\u001b[0m\u001b[0;36m5\u001b[0m\u001b[0;34m,\u001b[0m\u001b[0;36m6\u001b[0m\u001b[0;34m,\u001b[0m\u001b[0;36m88\u001b[0m\u001b[0;34m,\u001b[0m\u001b[0;36m123\u001b[0m\u001b[0;34m,\u001b[0m\u001b[0;36m90\u001b[0m\u001b[0;34m]\u001b[0m\u001b[0;34m\u001b[0m\u001b[0m\n\u001b[0m",
      "\u001b[0;31mValueError\u001b[0m: too many values to unpack (expected 3)"
     ]
    }
   ],
   "source": [
    "a,b,c=[1,2,3,'a',5,6,88,123,90]"
   ]
  },
  {
   "cell_type": "code",
   "execution_count": 44,
   "metadata": {},
   "outputs": [
    {
     "name": "stdout",
     "output_type": "stream",
     "text": [
      "1\n",
      "[2, 3, 'a', 5, 6, 88, 123]\n",
      "90\n"
     ]
    }
   ],
   "source": [
    "a,*b,c=[1,2,3,'a',5,6,88,123,90]\n",
    "print(a)\n",
    "print(b)\n",
    "print(c)"
   ]
  },
  {
   "cell_type": "markdown",
   "metadata": {},
   "source": [
    "### **(5) To get multiples inputs in single line.**"
   ]
  },
  {
   "cell_type": "code",
   "execution_count": 3,
   "metadata": {},
   "outputs": [
    {
     "name": "stdout",
     "output_type": "stream",
     "text": [
      "1 2 3 4\n"
     ]
    },
    {
     "data": {
      "text/plain": [
       "['1', '2', '3', '4']"
      ]
     },
     "execution_count": 3,
     "metadata": {},
     "output_type": "execute_result"
    }
   ],
   "source": [
    "n=input().split()\n",
    "n"
   ]
  },
  {
   "cell_type": "code",
   "execution_count": 4,
   "metadata": {},
   "outputs": [
    {
     "name": "stdout",
     "output_type": "stream",
     "text": [
      "1 2 3 4\n"
     ]
    },
    {
     "data": {
      "text/plain": [
       "['1', '2', '3', '4']"
      ]
     },
     "execution_count": 4,
     "metadata": {},
     "output_type": "execute_result"
    }
   ],
   "source": [
    "n1=input().rstrip().split()\n",
    "n1"
   ]
  },
  {
   "cell_type": "code",
   "execution_count": 5,
   "metadata": {},
   "outputs": [
    {
     "name": "stdout",
     "output_type": "stream",
     "text": [
      "1 2 3 4 5 6\n"
     ]
    },
    {
     "data": {
      "text/plain": [
       "[1, 2, 3, 4, 5, 6]"
      ]
     },
     "execution_count": 5,
     "metadata": {},
     "output_type": "execute_result"
    }
   ],
   "source": [
    "n2=list(map(int,input().split()))\n",
    "n2"
   ]
  },
  {
   "cell_type": "markdown",
   "metadata": {},
   "source": [
    "### **(6) How to sort list in ascending and descending order (of integers only)?**\n"
   ]
  },
  {
   "cell_type": "code",
   "execution_count": 14,
   "metadata": {},
   "outputs": [
    {
     "name": "stdout",
     "output_type": "stream",
     "text": [
      "Ascending order - [0, 1, 2, 2, 3, 6, 13]\n",
      "Descending order - [13, 6, 3, 2, 2, 1, 0]\n"
     ]
    }
   ],
   "source": [
    "ll4=[1,3,2,0,13,2,6]\n",
    "print('Ascending order -',sorted(ll4,key=int))\n",
    "print('Descending order -',sorted(ll4,key=int,reverse=True))"
   ]
  },
  {
   "cell_type": "markdown",
   "metadata": {},
   "source": [
    "### **(7) How to convert list to set and vice versa?**\n"
   ]
  },
  {
   "cell_type": "code",
   "execution_count": 15,
   "metadata": {},
   "outputs": [
    {
     "data": {
      "text/plain": [
       "{0, 1, 2, 3, 6, 13}"
      ]
     },
     "execution_count": 15,
     "metadata": {},
     "output_type": "execute_result"
    }
   ],
   "source": [
    "s=set(ll4)\n",
    "s"
   ]
  },
  {
   "cell_type": "code",
   "execution_count": 16,
   "metadata": {},
   "outputs": [
    {
     "data": {
      "text/plain": [
       "[0, 1, 2, 3, 6, 13]"
      ]
     },
     "execution_count": 16,
     "metadata": {},
     "output_type": "execute_result"
    }
   ],
   "source": [
    "ll5=list(s)\n",
    "ll5"
   ]
  },
  {
   "cell_type": "markdown",
   "metadata": {
    "collapsed": true
   },
   "source": [
    "## **(8) How to Find the Index of an Element in a List**\n",
    "* To find the index of an element in a list, you use the index() function."
   ]
  },
  {
   "cell_type": "code",
   "execution_count": 7,
   "metadata": {},
   "outputs": [
    {
     "name": "stdout",
     "output_type": "stream",
     "text": [
      "3\n"
     ]
    }
   ],
   "source": [
    "cities = ['New York', 'Beijing', 'Cairo', 'Mumbai', 'Mexico']\n",
    "\n",
    "result = cities.index('Mumbai')\n",
    "print(result)"
   ]
  },
  {
   "cell_type": "code",
   "execution_count": null,
   "metadata": {},
   "outputs": [],
   "source": []
  }
 ],
 "metadata": {
  "kernelspec": {
   "display_name": "Python 3 (ipykernel)",
   "language": "python",
   "name": "python3"
  },
  "language_info": {
   "codemirror_mode": {
    "name": "ipython",
    "version": 3
   },
   "file_extension": ".py",
   "mimetype": "text/x-python",
   "name": "python",
   "nbconvert_exporter": "python",
   "pygments_lexer": "ipython3",
   "version": "3.10.4"
  }
 },
 "nbformat": 4,
 "nbformat_minor": 2
}
