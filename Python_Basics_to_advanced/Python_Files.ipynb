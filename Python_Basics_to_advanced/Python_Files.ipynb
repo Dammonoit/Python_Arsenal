{
  "cells": [
    {
      "cell_type": "markdown",
      "metadata": {
        "id": "view-in-github",
        "colab_type": "text"
      },
      "source": [
        "<a href=\"https://colab.research.google.com/github/Dammonoit/Python_Arsenal/blob/master/Python_Basics_to_advanced/Python_Files.ipynb\" target=\"_parent\"><img src=\"https://colab.research.google.com/assets/colab-badge.svg\" alt=\"Open In Colab\"/></a>"
      ]
    },
    {
      "cell_type": "markdown",
      "id": "dcfcd10d",
      "metadata": {
        "id": "dcfcd10d"
      },
      "source": [
        "# **Python Playing with File**\n",
        "\n",
        "# **Topics**\n",
        "\n",
        "- **Steps for reading a text file in Python** \n",
        "- **Python Write Text File**\n",
        "- **Steps for writing to text files**\n",
        "- **Python Create Text File**\n",
        "- **Python Check If File Exists**\n",
        "- **Python Read CSV File**\n",
        "- **Reading a CSV file using the DictReader class**\n",
        "- **Python Write CSV File**\n",
        "\n",
        "* The following shows how to read all texts from the readme.txt file into a string:"
      ]
    },
    {
      "cell_type": "code",
      "execution_count": null,
      "id": "82b5aedf",
      "metadata": {
        "id": "82b5aedf",
        "outputId": "3fed6e57-5e08-44db-89ba-aac47b09ec99"
      },
      "outputs": [
        {
          "data": {
            "text/plain": [
              "'C:\\\\Users\\\\dnc11\\\\git_projects\\\\Python_Arsenal'"
            ]
          },
          "execution_count": 1,
          "metadata": {},
          "output_type": "execute_result"
        }
      ],
      "source": [
        "pwd!"
      ]
    },
    {
      "cell_type": "code",
      "execution_count": null,
      "id": "89d4ffea",
      "metadata": {
        "id": "89d4ffea",
        "outputId": "c5198eaa-defb-409d-9807-086b9d71a739"
      },
      "outputs": [
        {
          "name": "stdout",
          "output_type": "stream",
          "text": [
            " Volume in drive C is OS\n",
            " Volume Serial Number is 4013-EA08\n",
            "\n",
            " Directory of C:\\Users\\dnc11\\git_projects\\Python_Arsenal\n",
            "\n",
            "06/02/2022  10:50 AM    <DIR>          .\n",
            "05/28/2022  01:15 PM    <DIR>          ..\n",
            "05/26/2022  03:19 PM                68 .gitattributes\n",
            "05/26/2022  03:19 PM             1,420 .gitignore\n",
            "06/02/2022  10:45 AM    <DIR>          .ipynb_checkpoints\n",
            "05/26/2022  03:19 PM    <DIR>          Algorithms\n",
            "05/26/2022  03:19 PM    <DIR>          Data Structures\n",
            "05/26/2022  03:19 PM             1,096 LICENSE\n",
            "05/26/2022  03:19 PM    <DIR>          OCR with Tesseract\n",
            "05/26/2022  03:19 PM    <DIR>          Python Numpy\n",
            "05/26/2022  03:19 PM    <DIR>          Python Pandas\n",
            "07/28/2021  08:33 PM               193 Python.url\n",
            "05/28/2022  05:36 PM         1,568,831 Python_Basics.ipynb\n",
            "05/30/2022  01:30 PM           645,595 Python_Control_Flow.ipynb\n",
            "05/30/2022  12:58 PM            50,191 Python_dictionary.ipynb\n",
            "05/26/2022  03:19 PM            28,950 python_Examples.ipynb\n",
            "05/30/2022  07:40 PM            21,346 python_Exception_Handling.ipynb\n",
            "06/02/2022  10:46 AM               600 Python_Files.ipynb\n",
            "06/01/2022  10:05 AM           189,265 Python_Functions.ipynb\n",
            "05/28/2022  05:51 PM            38,398 Python_Lists.ipynb\n",
            "06/01/2022  06:57 PM           598,221 Python_Modules_and_Packages.ipynb\n",
            "05/26/2022  03:19 PM            20,156 Python_Multi-threading.ipynb\n",
            "05/26/2022  03:19 PM            10,126 Python_object oriented(OOPS).ipynb\n",
            "05/30/2022  01:15 PM            25,837 Python_Sets.ipynb\n",
            "06/01/2022  04:57 PM            90,966 Python_Strings.ipynb\n",
            "05/30/2022  10:39 PM            17,485 Python_Tuples.ipynb\n",
            "06/01/2022  04:59 PM            22,865 Python_Useful_Modules.ipynb\n",
            "05/26/2022  03:26 PM               875 README.md\n",
            "06/02/2022  10:48 AM            12,903 readme.txt\n",
            "06/01/2022  08:25 PM           249,519 Third-party Packages, PIP, and Virtual Environments.ipynb\n",
            "              22 File(s)      3,594,906 bytes\n",
            "               8 Dir(s)  378,172,792,832 bytes free\n"
          ]
        }
      ],
      "source": [
        "ls"
      ]
    },
    {
      "cell_type": "code",
      "execution_count": null,
      "id": "769810b4",
      "metadata": {
        "id": "769810b4"
      },
      "outputs": [],
      "source": [
        "with open('readme.txt') as f:\n",
        "    lines = f.readlines()"
      ]
    },
    {
      "cell_type": "markdown",
      "id": "09ccd668",
      "metadata": {
        "id": "09ccd668"
      },
      "source": [
        "## **Steps for reading a text file in Python**\n",
        "* To read a text file in Python, you follow these steps:\n",
        "\n",
        "    * First, open a text file for reading by using the open() function.\n",
        "    * Second, read text from the text file using the file read(), readline(), or readlines() method of the file object.\n",
        "    * Third, close the file using the file close() method.\n",
        "   \n",
        "### **1) open() function**\n",
        "* The open() function has many parameters but you’ll be focusing on the first two.\n",
        "![image.png](attachment:image.png)\n",
        "\n",
        "* The path_to_file parameter specifies the path to the text file.\n",
        "\n",
        "* If the file is in the same folder as the program, you just need to specify the name of the file. Otherwise, you need to specify the path to the file.\n",
        "\n",
        "* To specify the path to the file, you use the forward-slash ('/') even if you’re working in Windows.\n",
        "\n",
        "* For example, if the file is readme.txt stored in the sample folder as the program, you need to specify the path to the file as c:/sample/readme.txt\n",
        "\n",
        "* The mode is an optional parameter. It’s a string that specifies the mode in which you want to open the file.\n",
        "\n",
        "* The following table shows available modes for opening a text file:\n",
        "![image-2.png](attachment:image-2.png)\n",
        "\n",
        "* For example, to open a file whose name is the-zen-of-python.txt stored in the same folder as the program, you use the following code:\n"
      ]
    },
    {
      "cell_type": "code",
      "execution_count": null,
      "id": "97cabffa",
      "metadata": {
        "id": "97cabffa"
      },
      "outputs": [],
      "source": [
        " f = open('the-zen-of-python.txt','r')"
      ]
    },
    {
      "cell_type": "markdown",
      "id": "8a4c5f15",
      "metadata": {
        "id": "8a4c5f15"
      },
      "source": [
        "* The open() function returns a file object which you will use to read text from a text file.\n",
        "\n",
        "### **2) Reading text methods**\n",
        "* The file object provides you with three methods for reading text from a text file:\n",
        "\n",
        "    * **read()** – read all text from a file into a string. This method is useful if you have a small file and you want to manipulate the whole text of that file.\n",
        "    * **readline()** – read the text file line by line and return all the lines as strings.\n",
        "    * **readlines()** – read all the lines of the text file and return them as a list of strings.\n",
        "    \n",
        "### **3) close() method**\n",
        "* The file that you open will remain open until you close it using the close() method.\n",
        "\n",
        "* It’s important to close the file that is no longer in use. If you don’t close the file, the program may crash or the file would be corrupted.\n",
        "\n",
        "* The following shows how to call the close() method to close the file:\n"
      ]
    },
    {
      "cell_type": "code",
      "execution_count": null,
      "id": "14e7dbe1",
      "metadata": {
        "id": "14e7dbe1"
      },
      "outputs": [],
      "source": [
        "f.close()"
      ]
    },
    {
      "cell_type": "markdown",
      "id": "c91b6918",
      "metadata": {
        "id": "c91b6918"
      },
      "source": [
        "* To close the file automatically without calling the close() method, you use the with statement like this:\n",
        "![image.png](attachment:image.png)\n",
        "\n",
        "* In practice, you’ll use the with statement to close the file automatically."
      ]
    },
    {
      "cell_type": "markdown",
      "id": "e434f592",
      "metadata": {
        "id": "e434f592"
      },
      "source": [
        "### **Reading a text file examples**\n",
        "* We’ll use the-zen-of-python.txt file for the demonstration.\n",
        "\n",
        "* The following example illustrates how to use the read() method to read all the contents of the the-zen-of-python.txt file into a string:"
      ]
    },
    {
      "cell_type": "code",
      "execution_count": null,
      "id": "fb7577f3",
      "metadata": {
        "id": "fb7577f3",
        "outputId": "df8d7ec4-ba68-4c7f-e26d-09c93973cea7"
      },
      "outputs": [
        {
          "name": "stdout",
          "output_type": "stream",
          "text": [
            "The Zen of Python, by Tim Peters\n",
            "\n",
            "Beautiful is better than ugly.\n",
            "Explicit is better than implicit.\n",
            "Simple is better than complex.\n",
            "Complex is better than complicated.\n",
            "Flat is better than nested.\n",
            "Sparse is better than dense.\n",
            "Readability counts.\n",
            "Special cases aren't special enough to break the rules.\n",
            "Although practicality beats purity.\n",
            "Errors should never pass silently.\n",
            "Unless explicitly silenced.\n",
            "In the face of ambiguity, refuse the temptation to guess.\n",
            "There should be one-- and preferably only one --obvious way to do it.\n",
            "Although that way may not be obvious at first unless you're Dutch.\n",
            "Now is better than never.\n",
            "Although never is often better than *right* now.\n",
            "If the implementation is hard to explain, it's a bad idea.\n",
            "If the implementation is easy to explain, it may be a good idea.\n",
            "Namespaces are one honking great idea -- let's do more of those!\n"
          ]
        }
      ],
      "source": [
        "with open('the-zen-of-python.txt') as f:\n",
        "    contents = f.read()\n",
        "    print(contents)"
      ]
    },
    {
      "cell_type": "markdown",
      "id": "5975980f",
      "metadata": {
        "id": "5975980f"
      },
      "source": [
        "* The following example uses the readlines() method to read the text file and returns the file contents as a list of strings:"
      ]
    },
    {
      "cell_type": "code",
      "execution_count": null,
      "id": "7397d866",
      "metadata": {
        "id": "7397d866",
        "outputId": "e61e8c05-9066-4e0d-b61d-7fb4151194d2"
      },
      "outputs": [
        {
          "name": "stdout",
          "output_type": "stream",
          "text": [
            "line 1: The Zen of Python, by Tim Peters\n",
            "\n",
            "line 2: \n",
            "\n",
            "line 3: Beautiful is better than ugly.\n",
            "\n",
            "line 4: Explicit is better than implicit.\n",
            "\n",
            "line 5: Simple is better than complex.\n",
            "\n",
            "line 6: Complex is better than complicated.\n",
            "\n",
            "line 7: Flat is better than nested.\n",
            "\n",
            "line 8: Sparse is better than dense.\n",
            "\n",
            "line 9: Readability counts.\n",
            "\n",
            "line 10: Special cases aren't special enough to break the rules.\n",
            "\n",
            "line 11: Although practicality beats purity.\n",
            "\n",
            "line 12: Errors should never pass silently.\n",
            "\n",
            "line 13: Unless explicitly silenced.\n",
            "\n",
            "line 14: In the face of ambiguity, refuse the temptation to guess.\n",
            "\n",
            "line 15: There should be one-- and preferably only one --obvious way to do it.\n",
            "\n",
            "line 16: Although that way may not be obvious at first unless you're Dutch.\n",
            "\n",
            "line 17: Now is better than never.\n",
            "\n",
            "line 18: Although never is often better than *right* now.\n",
            "\n",
            "line 19: If the implementation is hard to explain, it's a bad idea.\n",
            "\n",
            "line 20: If the implementation is easy to explain, it may be a good idea.\n",
            "\n",
            "line 21: Namespaces are one honking great idea -- let's do more of those!\n"
          ]
        }
      ],
      "source": [
        "lines = []\n",
        "with open('the-zen-of-python.txt') as f:\n",
        "    lines = f.readlines()\n",
        "\n",
        "count = 0\n",
        "for line in lines:\n",
        "    count += 1\n",
        "    print(f'line {count}: {line}')    "
      ]
    },
    {
      "cell_type": "markdown",
      "id": "c55d0501",
      "metadata": {
        "id": "c55d0501"
      },
      "source": [
        "* The following example shows how to use the readline() to read the text file line by line:\n"
      ]
    },
    {
      "cell_type": "code",
      "execution_count": null,
      "id": "e6b8ffd9",
      "metadata": {
        "id": "e6b8ffd9",
        "outputId": "5c13ca05-4988-4a38-bcc2-83ede54071dd"
      },
      "outputs": [
        {
          "name": "stdout",
          "output_type": "stream",
          "text": [
            "\n",
            "\n",
            "Beautiful is better than ugly.\n",
            "\n",
            "Explicit is better than implicit.\n",
            "\n",
            "Simple is better than complex.\n",
            "\n",
            "Complex is better than complicated.\n",
            "\n",
            "Flat is better than nested.\n",
            "\n",
            "Sparse is better than dense.\n",
            "\n",
            "Readability counts.\n",
            "\n",
            "Special cases aren't special enough to break the rules.\n",
            "\n",
            "Although practicality beats purity.\n",
            "\n",
            "Errors should never pass silently.\n",
            "\n",
            "Unless explicitly silenced.\n",
            "\n",
            "In the face of ambiguity, refuse the temptation to guess.\n",
            "\n",
            "There should be one-- and preferably only one --obvious way to do it.\n",
            "\n",
            "Although that way may not be obvious at first unless you're Dutch.\n",
            "\n",
            "Now is better than never.\n",
            "\n",
            "Although never is often better than *right* now.\n",
            "\n",
            "If the implementation is hard to explain, it's a bad idea.\n",
            "\n",
            "If the implementation is easy to explain, it may be a good idea.\n",
            "\n",
            "Namespaces are one honking great idea -- let's do more of those!\n",
            "\n"
          ]
        }
      ],
      "source": [
        "with open('the-zen-of-python.txt') as f:\n",
        "    line = f.readline()\n",
        "    while line:\n",
        "        line = f.readline()\n",
        "        print(line)"
      ]
    },
    {
      "cell_type": "markdown",
      "id": "b428f81a",
      "metadata": {
        "id": "b428f81a"
      },
      "source": [
        "### **A more concise way to read a text file line by line**\n",
        "* The open() function returns a file object which is an iterable object. Therefore, you can use a for loop to iterate over the lines of a text file as follows:"
      ]
    },
    {
      "cell_type": "code",
      "execution_count": null,
      "id": "2a2275fe",
      "metadata": {
        "id": "2a2275fe",
        "outputId": "e68f5339-c38e-4d3b-9146-f42c546eff5b"
      },
      "outputs": [
        {
          "name": "stdout",
          "output_type": "stream",
          "text": [
            "The Zen of Python, by Tim Peters\n",
            "\n",
            "\n",
            "\n",
            "Beautiful is better than ugly.\n",
            "\n",
            "Explicit is better than implicit.\n",
            "\n",
            "Simple is better than complex.\n",
            "\n",
            "Complex is better than complicated.\n",
            "\n",
            "Flat is better than nested.\n",
            "\n",
            "Sparse is better than dense.\n",
            "\n",
            "Readability counts.\n",
            "\n",
            "Special cases aren't special enough to break the rules.\n",
            "\n",
            "Although practicality beats purity.\n",
            "\n",
            "Errors should never pass silently.\n",
            "\n",
            "Unless explicitly silenced.\n",
            "\n",
            "In the face of ambiguity, refuse the temptation to guess.\n",
            "\n",
            "There should be one-- and preferably only one --obvious way to do it.\n",
            "\n",
            "Although that way may not be obvious at first unless you're Dutch.\n",
            "\n",
            "Now is better than never.\n",
            "\n",
            "Although never is often better than *right* now.\n",
            "\n",
            "If the implementation is hard to explain, it's a bad idea.\n",
            "\n",
            "If the implementation is easy to explain, it may be a good idea.\n",
            "\n",
            "Namespaces are one honking great idea -- let's do more of those!\n"
          ]
        }
      ],
      "source": [
        "with open('the-zen-of-python.txt') as f:\n",
        "    for line in f:\n",
        "        print(line)"
      ]
    },
    {
      "cell_type": "markdown",
      "id": "534f1483",
      "metadata": {
        "id": "534f1483"
      },
      "source": [
        "* This is a more concise way to read a text file line by line."
      ]
    },
    {
      "cell_type": "markdown",
      "id": "c7bc0b5d",
      "metadata": {
        "id": "c7bc0b5d"
      },
      "source": [
        "### **Read UTF-8 text files**\n",
        "* The code in the previous examples works fine with ASCII text files. However, if you’re dealing with other languages such as Japanese, Chinese, and Korean, the text file is not a simple ASCII text file. And it’s likely a UTF-8 file that uses more than just the standard ASCII text characters.\n",
        "\n",
        "* To open a UTF-8 text file, you need to pass the encoding='utf-8' to the open() function to instruct it to expect UTF-8 characters from the file.\n",
        "\n",
        "* For the demonstration, you’ll use the following quotes.txt file that contains some quotes in Japanese.\n",
        "\n",
        "* The following shows how to loop through the quotes.txt file:\n"
      ]
    },
    {
      "cell_type": "code",
      "execution_count": null,
      "id": "ce5b5d86",
      "metadata": {
        "id": "ce5b5d86",
        "outputId": "b4a2fa87-52ec-4a41-b167-7bf36c369091"
      },
      "outputs": [
        {
          "name": "stdout",
          "output_type": "stream",
          "text": [
            "人生で何度も何度も失敗を繰り返してきました。だからこそ、私は成功を収めることができたのです。\n",
            "どれだけ高く登れたかで人を評価しません。尻餅をついたあと、どれだけ変わったかで評価をするのです。\n",
            "成功を収める人とは人が投げてきたレンガでしっかりした基盤を築くことができる人のことである。\n"
          ]
        }
      ],
      "source": [
        "with open('quotes.txt', encoding='utf8') as f:\n",
        "    for line in f:\n",
        "        print(line.strip())"
      ]
    },
    {
      "cell_type": "markdown",
      "id": "92699d5d",
      "metadata": {
        "id": "92699d5d"
      },
      "source": [
        "## **Python Write Text File**\n",
        "* The following illustrates how to write a string to a text file:"
      ]
    },
    {
      "cell_type": "code",
      "execution_count": null,
      "id": "d68910fc",
      "metadata": {
        "id": "d68910fc"
      },
      "outputs": [],
      "source": [
        "with open('readme1.txt', 'w') as f:\n",
        "    f.write('readme')"
      ]
    },
    {
      "cell_type": "markdown",
      "id": "b6f3ce53",
      "metadata": {
        "id": "b6f3ce53"
      },
      "source": [
        "## **Steps for writing to text files**\n",
        "* To write to a text file in Python, you follow these steps:\n",
        "\n",
        "    * First, open the text file for writing (or appending) using the open() function.\n",
        "    * Second, write to the text file using the write() or writelines() method.\n",
        "    * Third, close the file using the close() method.\n",
        "* The following shows the basic syntax of the open() function:\n",
        "![image.png](attachment:image.png)\n",
        "\n",
        "* The open() function accepts many parameters. But you’ll focus on the first two:\n",
        "\n",
        "    * The path_to_file parameter specifies the path to the text file that you want to open for writing.\n",
        "    * The mode parameter specifies the mode for which you want to open the text file.\n",
        "    \n",
        "* For writing to a text file, you use one of the following modes:\n",
        "![image-2.png](attachment:image-2.png)\n",
        "\n",
        "* The open() function returns a file object. And the file object has two useful methods for writing text to the file: write() and writelines().\n",
        "\n",
        "* The write() method writes a string to a text file and the writelines() method write a list of strings to a file at once.\n",
        "\n",
        "* In fact, the writelines() method accepts an iterable object, not just a list, so you can pass a tuple of strings, a set of strings, etc., to the writelines() method.\n",
        "\n",
        "* To write a line to a text file, you need to manually add a new line character:"
      ]
    },
    {
      "cell_type": "code",
      "execution_count": null,
      "id": "034ee186",
      "metadata": {
        "id": "034ee186",
        "outputId": "4b820517-d51b-4205-946c-c99fa3918efd"
      },
      "outputs": [
        {
          "ename": "ValueError",
          "evalue": "I/O operation on closed file.",
          "output_type": "error",
          "traceback": [
            "\u001b[1;31m---------------------------------------------------------------------------\u001b[0m",
            "\u001b[1;31mValueError\u001b[0m                                Traceback (most recent call last)",
            "Input \u001b[1;32mIn [13]\u001b[0m, in \u001b[0;36m<cell line: 1>\u001b[1;34m()\u001b[0m\n\u001b[1;32m----> 1\u001b[0m \u001b[43mf\u001b[49m\u001b[38;5;241;43m.\u001b[39;49m\u001b[43mwrite\u001b[49m\u001b[43m(\u001b[49m\u001b[38;5;124;43m'\u001b[39;49m\u001b[38;5;130;43;01m\\n\u001b[39;49;00m\u001b[38;5;124;43m'\u001b[39;49m\u001b[43m)\u001b[49m\n\u001b[0;32m      2\u001b[0m f\u001b[38;5;241m.\u001b[39mwritelines(\u001b[38;5;124m'\u001b[39m\u001b[38;5;130;01m\\n\u001b[39;00m\u001b[38;5;124m'\u001b[39m)\n",
            "\u001b[1;31mValueError\u001b[0m: I/O operation on closed file."
          ]
        }
      ],
      "source": [
        "f.write('\\n')\n",
        "f.writelines('\\n')"
      ]
    },
    {
      "cell_type": "markdown",
      "id": "d00388ce",
      "metadata": {
        "id": "d00388ce"
      },
      "source": [
        "* And it’s up to you to add the new line characters."
      ]
    },
    {
      "cell_type": "markdown",
      "id": "0f3e35d8",
      "metadata": {
        "id": "0f3e35d8"
      },
      "source": [
        "## **Writing text file examples**\n",
        "* The following example shows how to use the write() function to write a list of texts to a text file:"
      ]
    },
    {
      "cell_type": "code",
      "execution_count": null,
      "id": "36015d3f",
      "metadata": {
        "id": "36015d3f"
      },
      "outputs": [],
      "source": [
        "lines = ['Readme', 'How to write text files in Python']\n",
        "with open('readme.txt', 'w') as f:\n",
        "    for line in lines:\n",
        "        f.write(line)\n",
        "        f.write('\\n')"
      ]
    },
    {
      "cell_type": "markdown",
      "id": "afe4dbec",
      "metadata": {
        "id": "afe4dbec"
      },
      "source": [
        "* If the readme.txt file doesn’t exist, the open() function will create a new file.\n",
        "![image.png](attachment:image.png)"
      ]
    },
    {
      "cell_type": "markdown",
      "id": "d666dc4a",
      "metadata": {
        "id": "d666dc4a"
      },
      "source": [
        "* The following shows how to write a list of text strings to a text file:"
      ]
    },
    {
      "cell_type": "code",
      "execution_count": null,
      "id": "b74a5bba",
      "metadata": {
        "id": "b74a5bba"
      },
      "outputs": [],
      "source": [
        "lines = ['Readme', 'How to write text files in Python']\n",
        "with open('readme.txt', 'w') as f:\n",
        "    f.writelines(lines)"
      ]
    },
    {
      "cell_type": "markdown",
      "id": "175d1b15",
      "metadata": {
        "id": "175d1b15"
      },
      "source": [
        "* If you treat each element of the list as a line, you need to concatenate it with the newline character like this:"
      ]
    },
    {
      "cell_type": "code",
      "execution_count": null,
      "id": "33ef3520",
      "metadata": {
        "id": "33ef3520"
      },
      "outputs": [],
      "source": [
        "lines = ['Readme', 'How to write text files in Python']\n",
        "with open('readme.txt', 'w') as f:\n",
        "    f.write('\\n'.join(lines))"
      ]
    },
    {
      "cell_type": "markdown",
      "id": "be55186d",
      "metadata": {
        "id": "be55186d"
      },
      "source": [
        "![image.png](attachment:image.png)"
      ]
    },
    {
      "cell_type": "markdown",
      "id": "ec68e2a8",
      "metadata": {
        "id": "ec68e2a8"
      },
      "source": [
        "### **Appending text files**\n",
        "* To append to a text file, you need to open the text file for appending mode. The following example appends new lines to the readme.txt file:"
      ]
    },
    {
      "cell_type": "code",
      "execution_count": null,
      "id": "ee7ca097",
      "metadata": {
        "id": "ee7ca097"
      },
      "outputs": [],
      "source": [
        "more_lines = ['', 'Append text files', 'The End']\n",
        "with open('readme.txt', 'a') as f:\n",
        "    f.writelines('\\n'.join(more_lines))"
      ]
    },
    {
      "cell_type": "markdown",
      "id": "ff05fa84",
      "metadata": {
        "id": "ff05fa84"
      },
      "source": [
        "### **Writing to a UTF-8 text file**\n",
        "* If you write UTF-8 characters to a text file using the code from the previous examples, you’ll get an error like this:\n",
        "![image.png](attachment:image.png)\n",
        "\n",
        "* To open a file and write UTF-8 characters to a file, you need to pass the encoding='utf-8' parameter to the open() function.\n",
        "\n",
        "* The following example shows how to write UTF-8 characters to a text file:"
      ]
    },
    {
      "cell_type": "code",
      "execution_count": null,
      "id": "7312c68d",
      "metadata": {
        "id": "7312c68d"
      },
      "outputs": [],
      "source": [
        "\n",
        "quote = '成功を収める人とは人が投げてきたレンガでしっかりした基盤を築くことができる人のことである。'\n",
        "\n",
        "with open('quotes.txt', 'w', encoding='utf-8') as f:\n",
        "    f.write(quote)\n"
      ]
    },
    {
      "cell_type": "markdown",
      "id": "5bc5e693",
      "metadata": {
        "id": "5bc5e693"
      },
      "source": [
        "## **Python Create Text File**\n",
        "#### **Using the open() function to create a new text file**\n",
        "* To create a new text file, you use the open() function. The open() function has many parameters. However, we’ll focus on the first two parameters:\n",
        "![image.png](attachment:image.png)\n",
        "* In this syntax, the path_to_file parameter specifies the path to the text file that you want to create.\n",
        "\n",
        "* For creating a new text file, you use one of the following modes:\n",
        "\n",
        "    * **'w'** – open a file for writing. If the file doesn’t exist, the open() function creates a new file. Otherwise, it’ll overwrite the contents of the existing file.\n",
        "    * **'x'** – open a file for exclusive creation. If the file exists, the open() function raises an error (FileExistsError). Otherwise, it’ll create the text file.\n",
        "* For example, the following creates a new file called readme.txt and write some text into it:"
      ]
    },
    {
      "cell_type": "code",
      "execution_count": null,
      "id": "7d8be320",
      "metadata": {
        "id": "7d8be320"
      },
      "outputs": [],
      "source": [
        "with open('readme.txt', 'w') as f:\n",
        "    f.write('Create a new text file!')"
      ]
    },
    {
      "cell_type": "markdown",
      "id": "179b6a57",
      "metadata": {
        "id": "179b6a57"
      },
      "source": [
        "* This script creates a file with the name readme.txt in the same directory where the script file locates. \n",
        "* If you want to create a file in a specified directory e.g., docs/readme.text, you need to ensure that the docs directory exists before creating the file. \n",
        "* Otherwise, you’ll get an exception. For example:"
      ]
    },
    {
      "cell_type": "code",
      "execution_count": null,
      "id": "c261f1a5",
      "metadata": {
        "id": "c261f1a5",
        "outputId": "1704502a-520c-4ce3-8ecd-474f2c35e0c2"
      },
      "outputs": [
        {
          "ename": "FileNotFoundError",
          "evalue": "[Errno 2] No such file or directory: 'docs/readme.txt'",
          "output_type": "error",
          "traceback": [
            "\u001b[1;31m---------------------------------------------------------------------------\u001b[0m",
            "\u001b[1;31mFileNotFoundError\u001b[0m                         Traceback (most recent call last)",
            "Input \u001b[1;32mIn [20]\u001b[0m, in \u001b[0;36m<cell line: 1>\u001b[1;34m()\u001b[0m\n\u001b[1;32m----> 1\u001b[0m \u001b[38;5;28;01mwith\u001b[39;00m \u001b[38;5;28;43mopen\u001b[39;49m\u001b[43m(\u001b[49m\u001b[38;5;124;43m'\u001b[39;49m\u001b[38;5;124;43mdocs/readme.txt\u001b[39;49m\u001b[38;5;124;43m'\u001b[39;49m\u001b[43m,\u001b[49m\u001b[43m \u001b[49m\u001b[38;5;124;43m'\u001b[39;49m\u001b[38;5;124;43mw\u001b[39;49m\u001b[38;5;124;43m'\u001b[39;49m\u001b[43m)\u001b[49m \u001b[38;5;28;01mas\u001b[39;00m f:\n\u001b[0;32m      2\u001b[0m     f\u001b[38;5;241m.\u001b[39mwrite(\u001b[38;5;124m'\u001b[39m\u001b[38;5;124mCreate a new text file!\u001b[39m\u001b[38;5;124m'\u001b[39m)\n",
            "\u001b[1;31mFileNotFoundError\u001b[0m: [Errno 2] No such file or directory: 'docs/readme.txt'"
          ]
        }
      ],
      "source": [
        "with open('docs/readme.txt', 'w') as f:\n",
        "    f.write('Create a new text file!')"
      ]
    },
    {
      "cell_type": "markdown",
      "id": "673d0ff5",
      "metadata": {
        "id": "673d0ff5"
      },
      "source": [
        "* In this example, Python raises an exception because the docs directory doesn’t exist. Therefore, it could not create the readme.txt file in that directory. \n",
        "* To fix the issue, you need to create the docs directory first and then create the readme.txt file in that folder.\n",
        "\n",
        "* Also, you can handle the exception using the try-except statement as follows:"
      ]
    },
    {
      "cell_type": "code",
      "execution_count": null,
      "id": "b5a729d3",
      "metadata": {
        "id": "b5a729d3",
        "outputId": "21ccc449-a353-4d70-b087-a0a9e756645c"
      },
      "outputs": [
        {
          "name": "stdout",
          "output_type": "stream",
          "text": [
            "The 'docs' directory does not exist\n"
          ]
        }
      ],
      "source": [
        "try:\n",
        "    with open('docs/readme.txt', 'w') as f:\n",
        "        f.write('Create a new text file!')\n",
        "except FileNotFoundError:\n",
        "    print(\"The 'docs' directory does not exist\")\n"
      ]
    },
    {
      "cell_type": "markdown",
      "id": "bf2502c7",
      "metadata": {
        "id": "bf2502c7"
      },
      "source": [
        "* If you don’t want to create a new text file in case it already exists, you can use the 'x' mode when calling the open() function:"
      ]
    },
    {
      "cell_type": "code",
      "execution_count": null,
      "id": "8945e983",
      "metadata": {
        "id": "8945e983",
        "outputId": "b1ac1644-0747-43d3-c5df-32d7e4a19d71"
      },
      "outputs": [
        {
          "ename": "FileExistsError",
          "evalue": "[Errno 17] File exists: 'readme.txt'",
          "output_type": "error",
          "traceback": [
            "\u001b[1;31m---------------------------------------------------------------------------\u001b[0m",
            "\u001b[1;31mFileExistsError\u001b[0m                           Traceback (most recent call last)",
            "Input \u001b[1;32mIn [24]\u001b[0m, in \u001b[0;36m<cell line: 1>\u001b[1;34m()\u001b[0m\n\u001b[1;32m----> 1\u001b[0m \u001b[38;5;28;01mwith\u001b[39;00m \u001b[38;5;28;43mopen\u001b[39;49m\u001b[43m(\u001b[49m\u001b[38;5;124;43m'\u001b[39;49m\u001b[38;5;124;43mreadme.txt\u001b[39;49m\u001b[38;5;124;43m'\u001b[39;49m\u001b[43m,\u001b[49m\u001b[43m \u001b[49m\u001b[38;5;124;43m'\u001b[39;49m\u001b[38;5;124;43mx\u001b[39;49m\u001b[38;5;124;43m'\u001b[39;49m\u001b[43m)\u001b[49m \u001b[38;5;28;01mas\u001b[39;00m f:\n\u001b[0;32m      2\u001b[0m     f\u001b[38;5;241m.\u001b[39mwrite(\u001b[38;5;124m'\u001b[39m\u001b[38;5;124mCreate a new text file!\u001b[39m\u001b[38;5;124m'\u001b[39m)\n",
            "\u001b[1;31mFileExistsError\u001b[0m: [Errno 17] File exists: 'readme.txt'"
          ]
        }
      ],
      "source": [
        "with open('readme.txt', 'x') as f:\n",
        "    f.write('Create a new text file!')"
      ]
    },
    {
      "cell_type": "code",
      "execution_count": null,
      "id": "d89b8d86",
      "metadata": {
        "id": "d89b8d86"
      },
      "outputs": [],
      "source": [
        "with open('readme2.txt', 'x') as f:\n",
        "    f.write('Create a new text file!')"
      ]
    },
    {
      "cell_type": "code",
      "execution_count": null,
      "id": "a4670329",
      "metadata": {
        "id": "a4670329"
      },
      "outputs": [],
      "source": []
    },
    {
      "cell_type": "markdown",
      "id": "5156806c",
      "metadata": {
        "id": "5156806c"
      },
      "source": [
        "## **Python Check If File Exists**\n",
        "* When processing files, you’ll often want to check if a file exists before doing something else with it such as reading from the file or writing to it.\n",
        "\n",
        "* To do it, you can use the exists() function from the os.path module or is_file() method from the Path class in the pathlib module.\n",
        "\n",
        "### **os.path.exists() function**\n",
        "![image.png](attachment:image.png)\n",
        "\n",
        "### **Path.is_file() method**\n",
        "![image-2.png](attachment:image-2.png)\n",
        "\n",
        "### **1) Using os.path.exists() function to check if a file exists**\n",
        "* To check if a file exists, you pass the file path to the exists() function from the os.path standard library.\n",
        "\n",
        "* First, import the os.path standard library:\n",
        "![image-3.png](attachment:image-3.png)\n",
        "* Second, call the exists() function:\n",
        "![image-4.png](attachment:image-4.png)\n",
        "* If the file exists, the exists() function returns True. Otherwise, it returns False.\n",
        "\n",
        "* If the file is in the same folder as the program, the path_to_file is just simply the file name.\n",
        "\n",
        "* However, it’s not the case, you need to pass the full file path of the file. For example:\n",
        "![image-5.png](attachment:image-5.png)\n",
        "\n",
        "* Even if you run the program on Windows, you should use the forward-slash (/) to separate the path. It’ll work across Windows, macOS, and Linux.\n",
        "\n",
        "* The following example uses the exists() function to check if the readme.txt file exists in the same folder as the program:\n"
      ]
    },
    {
      "cell_type": "code",
      "execution_count": null,
      "id": "ad87fa4d",
      "metadata": {
        "id": "ad87fa4d",
        "outputId": "4b34d226-3551-4aa0-a80f-16e268b3cd87"
      },
      "outputs": [
        {
          "name": "stdout",
          "output_type": "stream",
          "text": [
            "True\n"
          ]
        }
      ],
      "source": [
        "import os.path\n",
        "\n",
        "file_exists = os.path.exists('readme.txt')\n",
        "\n",
        "print(file_exists)"
      ]
    },
    {
      "cell_type": "markdown",
      "id": "54a8e7c5",
      "metadata": {
        "id": "54a8e7c5"
      },
      "source": [
        "* If the readme.txt file exists, you’ll see the following output:\n",
        "![image.png](attachment:image.png)\n",
        "* Otherwise, you’ll see False on the screen:\n",
        "![image-2.png](attachment:image-2.png)\n",
        "* To make the call to the exists() function shorter and more obvious, you can import that function and rename it to file_exists() function like this:"
      ]
    },
    {
      "cell_type": "code",
      "execution_count": null,
      "id": "3986961e",
      "metadata": {
        "id": "3986961e",
        "outputId": "bcd1d7c4-4fa7-4b63-97b1-cf6b8efdc9e7"
      },
      "outputs": [
        {
          "data": {
            "text/plain": [
              "True"
            ]
          },
          "execution_count": 27,
          "metadata": {},
          "output_type": "execute_result"
        }
      ],
      "source": [
        "from os.path import exists as file_exists\n",
        "\n",
        "file_exists('readme.txt')"
      ]
    },
    {
      "cell_type": "markdown",
      "id": "cfda1426",
      "metadata": {
        "id": "cfda1426"
      },
      "source": [
        "### **2) Using the pathlib module to check if a file exists**\n",
        "* Python introduced the pathlib module since the version 3.4.\n",
        "\n",
        "* The pathlib module allows you to manipulate files and folders using the object-oriented approach. If you’re not familiar with object-oriented programming, check out the Python OOP section.\n",
        "\n",
        "* First, import the Path class from the pathlib module:\n",
        "![image.png](attachment:image.png)\n",
        "* Then, instantiate a new instance of the Path class and initialize it with the file path that you want to check for existence:\n",
        "![image-2.png](attachment:image-2.png)\n",
        "* Finally, check if the file exists using the is_file() method:\n",
        "![image-3.png](attachment:image-3.png)\n",
        "\n",
        "* If the file doesn’t exist, the is_file() method returns False. Otherwise, it returns True.\n",
        "\n",
        "* The following example shows how to use the Path class from the pathlib module to check if the readme.txt file exists in the same folder of the program:\n"
      ]
    },
    {
      "cell_type": "code",
      "execution_count": null,
      "id": "62a73dfa",
      "metadata": {
        "id": "62a73dfa",
        "outputId": "ccecafcc-8331-4f1d-fa76-6bf525c6d8ee"
      },
      "outputs": [
        {
          "name": "stdout",
          "output_type": "stream",
          "text": [
            "The file readme.txt exists\n"
          ]
        }
      ],
      "source": [
        "from pathlib import Path\n",
        "\n",
        "path_to_file = 'readme.txt'\n",
        "path = Path(path_to_file)\n",
        "\n",
        "if path.is_file():\n",
        "    print(f'The file {path_to_file} exists')\n",
        "else:\n",
        "    print(f'The file {path_to_file} does not exist')"
      ]
    },
    {
      "cell_type": "markdown",
      "id": "6fefccee",
      "metadata": {
        "id": "6fefccee"
      },
      "source": [
        "## **Python Read CSV File**\n",
        "### **What is a CSV file?**\n",
        "* CSV stands for comma-separated values. A CSV file is a delimited text file that uses a comma to separate values.\n",
        "\n",
        "* A CSV file consists of one or more lines. Each line is a data record. And each data record consists of one or more values separated by commas. In addition, all the lines of a CSV file have the same number of values.\n",
        "\n",
        "* Typically, you use a CSV file to store tabular data in plain text. The CSV file format is quite popular and supported by many software applications such as Microsoft Excel and Google Spreadsheet.\n",
        "![image.png](attachment:image.png)\n",
        "\n",
        "### **Reading a csv file in Python**\n",
        "* To read a CSV file in Python, you follow these steps:\n",
        "\n",
        "* First, import the csv module:\n",
        "![image-2.png](attachment:image-2.png)\n",
        "* Second, open the CSV file using the built-in open() function in the read mode:\n",
        "![image-3.png](attachment:image-3.png)\n",
        "* If the CSV contains UTF8 characters, you need to specify the encoding like this:\n",
        "![image-4.png](attachment:image-4.png)\n",
        "* Third, pass the file object (f) to the reader() function of the csv module. The reader() function returns a csv reader object:\n",
        "![image-5.png](attachment:image-5.png)\n",
        "* The csv_reader is an iterable object of lines from the CSV file. Therefore, you can iterate over the lines of the CSV file using a for loop:\n",
        "![image-6.png](attachment:image-6.png)\n",
        "* Each line is a list of values. To access each value, you use the square bracket notation []. The first value has an index of 0. The second value has an index of 1, and so on.\n",
        "\n",
        "* For example, the following accesses the first value of a particular line:\n",
        "![image-7.png](attachment:image-7.png)\n",
        "* Finally, always close the file once you’re no longer access it by calling the close() method of the file object:\n",
        "![image-8.png](attachment:image-8.png)\n",
        "\n",
        "* It’ll be easier to use the with statement so that you don’t need to explicitly call the close() method.\n",
        "\n",
        "* The following illustrates all the steps for reading a CSV file:\n",
        "![image-9.png](attachment:image-9.png)\n",
        "\n",
        "### **Reading a CSV file examples**\n",
        "* We’ll use the country.csv file that contains country information including name, area, 2-letter country code, 3-letter country code:\n",
        "![image-10.png](attachment:image-10.png)\n",
        "* The following shows how to read the country.csv file and display each line to the screen:"
      ]
    },
    {
      "cell_type": "code",
      "execution_count": null,
      "id": "d14e886e",
      "metadata": {
        "id": "d14e886e",
        "outputId": "844e1557-d89c-41fa-a013-405727c1bcb7"
      },
      "outputs": [
        {
          "name": "stdout",
          "output_type": "stream",
          "text": [
            "['name', 'area', 'country_code2', 'country_code3']\n",
            "['Afghanistan', '652090.00', 'AF', 'AFG']\n",
            "['Albania', '28748.00', 'AL', 'ALB']\n",
            "['Algeria', '2381741.00', 'DZ', 'DZA']\n",
            "['American Samoa', '199.00', 'AS', 'ASM']\n",
            "['Andorra', '468.00', 'AD', 'AND']\n",
            "['Angola', '1246700.00', 'AO', 'AGO']\n",
            "['Anguilla', '96.00', 'AI', 'AIA']\n",
            "['Antarctica', '13120000.00', 'AQ', 'ATA']\n",
            "['Antigua and Barbuda', '442.00', 'AG', 'ATG']\n",
            "['Argentina', '2780400.00', 'AR', 'ARG']\n",
            "['Armenia', '29800.00', 'AM', 'ARM']\n",
            "['Aruba', '193.00', 'AW', 'ABW']\n",
            "['Australia', '7741220.00', 'AU', 'AUS']\n",
            "['Austria', '83859.00', 'AT', 'AUT']\n",
            "['Azerbaijan', '86600.00', 'AZ', 'AZE']\n",
            "['Bahamas', '13878.00', 'BS', 'BHS']\n",
            "['Bahrain', '694.00', 'BH', 'BHR']\n",
            "['Bangladesh', '143998.00', 'BD', 'BGD']\n",
            "['Barbados', '430.00', 'BB', 'BRB']\n",
            "['Belarus', '207600.00', 'BY', 'BLR']\n",
            "['Belgium', '30518.00', 'BE', 'BEL']\n",
            "['Belize', '22696.00', 'BZ', 'BLZ']\n",
            "['Benin', '112622.00', 'BJ', 'BEN']\n",
            "['Bermuda', '53.00', 'BM', 'BMU']\n",
            "['Bhutan', '47000.00', 'BT', 'BTN']\n",
            "['Bolivia', '1098581.00', 'BO', 'BOL']\n",
            "['Bosnia and Herzegovina', '51197.00', 'BA', 'BIH']\n",
            "['Botswana', '581730.00', 'BW', 'BWA']\n",
            "['Bouvet Island', '59.00', 'BV', 'BVT']\n",
            "['Brazil', '8547403.00', 'BR', 'BRA']\n",
            "['British Indian Ocean Territory', '78.00', 'IO', 'IOT']\n",
            "['Brunei', '5765.00', 'BN', 'BRN']\n",
            "['Bulgaria', '110994.00', 'BG', 'BGR']\n",
            "['Burkina Faso', '274000.00', 'BF', 'BFA']\n",
            "['Burundi', '27834.00', 'BI', 'BDI']\n",
            "['Cambodia', '181035.00', 'KH', 'KHM']\n",
            "['Cameroon', '475442.00', 'CM', 'CMR']\n",
            "['Canada', '9970610.00', 'CA', 'CAN']\n",
            "['Cape Verde', '4033.00', 'CV', 'CPV']\n",
            "['Cayman Islands', '264.00', 'KY', 'CYM']\n",
            "['Central African Republic', '622984.00', 'CF', 'CAF']\n",
            "['Chad', '1284000.00', 'TD', 'TCD']\n",
            "['Chile', '756626.00', 'CL', 'CHL']\n",
            "['China', '9572900.00', 'CN', 'CHN']\n",
            "['Christmas Island', '135.00', 'CX', 'CXR']\n",
            "['Cocos (Keeling) Islands', '14.00', 'CC', 'CCK']\n",
            "['Colombia', '1138914.00', 'CO', 'COL']\n",
            "['Comoros', '1862.00', 'KM', 'COM']\n",
            "['Congo', '342000.00', 'CG', 'COG']\n",
            "['Cook Islands', '236.00', 'CK', 'COK']\n",
            "['Costa Rica', '51100.00', 'CR', 'CRI']\n",
            "['Côte d’Ivoire', '322463.00', 'CI', 'CIV']\n",
            "['Croatia', '56538.00', 'HR', 'HRV']\n",
            "['Cuba', '110861.00', 'CU', 'CUB']\n",
            "['Cyprus', '9251.00', 'CY', 'CYP']\n",
            "['Czech Republic', '78866.00', 'CZ', 'CZE']\n",
            "['Denmark', '43094.00', 'DK', 'DNK']\n",
            "['Djibouti', '23200.00', 'DJ', 'DJI']\n",
            "['Dominica', '751.00', 'DM', 'DMA']\n",
            "['Dominican Republic', '48511.00', 'DO', 'DOM']\n",
            "['East Timor', '14874.00', 'TP', 'TMP']\n",
            "['Ecuador', '283561.00', 'EC', 'ECU']\n",
            "['Egypt', '1001449.00', 'EG', 'EGY']\n",
            "['El Salvador', '21041.00', 'SV', 'SLV']\n",
            "['Equatorial Guinea', '28051.00', 'GQ', 'GNQ']\n",
            "['Eritrea', '117600.00', 'ER', 'ERI']\n",
            "['Estonia', '45227.00', 'EE', 'EST']\n",
            "['Ethiopia', '1104300.00', 'ET', 'ETH']\n",
            "['Falkland Islands', '12173.00', 'FK', 'FLK']\n",
            "['Faroe Islands', '1399.00', 'FO', 'FRO']\n",
            "['Federated States of Micronesia', '702.00', 'FM', 'FSM']\n",
            "['Fiji Islands', '18274.00', 'FJ', 'FJI']\n",
            "['Finland', '338145.00', 'FI', 'FIN']\n",
            "['France', '551500.00', 'FR', 'FRA']\n",
            "['French Guiana', '90000.00', 'GF', 'GUF']\n",
            "['French Polynesia', '4000.00', 'PF', 'PYF']\n",
            "['French Southern territories', '7780.00', 'TF', 'ATF']\n",
            "['Gabon', '267668.00', 'GA', 'GAB']\n",
            "['Gambia', '11295.00', 'GM', 'GMB']\n",
            "['Georgia', '69700.00', 'GE', 'GEO']\n",
            "['Germany', '357022.00', 'DE', 'DEU']\n",
            "['Ghana', '238533.00', 'GH', 'GHA']\n",
            "['Gibraltar', '6.00', 'GI', 'GIB']\n",
            "['Greece', '131626.00', 'GR', 'GRC']\n",
            "['Greenland', '2166090.00', 'GL', 'GRL']\n",
            "['Grenada', '344.00', 'GD', 'GRD']\n",
            "['Guadeloupe', '1705.00', 'GP', 'GLP']\n",
            "['Guam', '549.00', 'GU', 'GUM']\n",
            "['Guatemala', '108889.00', 'GT', 'GTM']\n",
            "['Guinea', '245857.00', 'GN', 'GIN']\n",
            "['Guinea-Bissau', '36125.00', 'GW', 'GNB']\n",
            "['Guyana', '214969.00', 'GY', 'GUY']\n",
            "['Haiti', '27750.00', 'HT', 'HTI']\n",
            "['Heard Island and McDonald Islands', '359.00', 'HM', 'HMD']\n",
            "['Holy See (Vatican City State)', '0.40', 'VA', 'VAT']\n",
            "['Honduras', '112088.00', 'HN', 'HND']\n",
            "['Hong Kong', '1075.00', 'HK', 'HKG']\n",
            "['Hungary', '93030.00', 'HU', 'HUN']\n",
            "['Iceland', '103000.00', 'IS', 'ISL']\n",
            "['India', '3287263.00', 'IN', 'IND']\n",
            "['Indonesia', '1904569.00', 'ID', 'IDN']\n",
            "['Iran', '1648195.00', 'IR', 'IRN']\n",
            "['Iraq', '438317.00', 'IQ', 'IRQ']\n",
            "['Ireland', '70273.00', 'IE', 'IRL']\n",
            "['Israel', '21056.00', 'IL', 'ISR']\n",
            "['Italy', '301316.00', 'IT', 'ITA']\n",
            "['Jamaica', '10990.00', 'JM', 'JAM']\n",
            "['Japan', '377829.00', 'JP', 'JPN']\n",
            "['Jordan', '88946.00', 'JO', 'JOR']\n",
            "['Kazakstan', '2724900.00', 'KZ', 'KAZ']\n",
            "['Kenya', '580367.00', 'KE', 'KEN']\n",
            "['Kiribati', '726.00', 'KI', 'KIR']\n",
            "['Kuwait', '17818.00', 'KW', 'KWT']\n",
            "['Kyrgyzstan', '199900.00', 'KG', 'KGZ']\n",
            "['Laos', '236800.00', 'LA', 'LAO']\n",
            "['Latvia', '64589.00', 'LV', 'LVA']\n",
            "['Lebanon', '10400.00', 'LB', 'LBN']\n",
            "['Lesotho', '30355.00', 'LS', 'LSO']\n",
            "['Liberia', '111369.00', 'LR', 'LBR']\n",
            "['Libyan Arab Jamahiriya', '1759540.00', 'LY', 'LBY']\n",
            "['Liechtenstein', '160.00', 'LI', 'LIE']\n",
            "['Lithuania', '65301.00', 'LT', 'LTU']\n",
            "['Luxembourg', '2586.00', 'LU', 'LUX']\n",
            "['Macao', '18.00', 'MO', 'MAC']\n",
            "['Macedonia', '25713.00', 'MK', 'MKD']\n",
            "['Madagascar', '587041.00', 'MG', 'MDG']\n",
            "['Malawi', '118484.00', 'MW', 'MWI']\n",
            "['Malaysia', '329758.00', 'MY', 'MYS']\n",
            "['Maldives', '298.00', 'MV', 'MDV']\n",
            "['Mali', '1240192.00', 'ML', 'MLI']\n",
            "['Malta', '316.00', 'MT', 'MLT']\n",
            "['Marshall Islands', '181.00', 'MH', 'MHL']\n",
            "['Martinique', '1102.00', 'MQ', 'MTQ']\n",
            "['Mauritania', '1025520.00', 'MR', 'MRT']\n",
            "['Mauritius', '2040.00', 'MU', 'MUS']\n",
            "['Mayotte', '373.00', 'YT', 'MYT']\n",
            "['Mexico', '1958201.00', 'MX', 'MEX']\n",
            "['Moldova', '33851.00', 'MD', 'MDA']\n",
            "['Monaco', '1.50', 'MC', 'MCO']\n",
            "['Mongolia', '1566500.00', 'MN', 'MNG']\n",
            "['Montserrat', '102.00', 'MS', 'MSR']\n",
            "['Morocco', '446550.00', 'MA', 'MAR']\n",
            "['Mozambique', '801590.00', 'MZ', 'MOZ']\n",
            "['Myanmar', '676578.00', 'MM', 'MMR']\n",
            "['Namibia', '824292.00', 'NA', 'NAM']\n",
            "['Nauru', '21.00', 'NR', 'NRU']\n",
            "['Nepal', '147181.00', 'NP', 'NPL']\n",
            "['Netherlands', '41526.00', 'NL', 'NLD']\n",
            "['Netherlands Antilles', '800.00', 'AN', 'ANT']\n",
            "['New Caledonia', '18575.00', 'NC', 'NCL']\n",
            "['New Zealand', '270534.00', 'NZ', 'NZL']\n",
            "['Nicaragua', '130000.00', 'NI', 'NIC']\n",
            "['Niger', '1267000.00', 'NE', 'NER']\n",
            "['Nigeria', '923768.00', 'NG', 'NGA']\n",
            "['Niue', '260.00', 'NU', 'NIU']\n",
            "['Norfolk Island', '36.00', 'NF', 'NFK']\n",
            "['North Korea', '120538.00', 'KP', 'PRK']\n",
            "['Northern Mariana Islands', '464.00', 'MP', 'MNP']\n",
            "['Norway', '323877.00', 'NO', 'NOR']\n",
            "['Oman', '309500.00', 'OM', 'OMN']\n",
            "['Pakistan', '796095.00', 'PK', 'PAK']\n",
            "['Palau', '459.00', 'PW', 'PLW']\n",
            "['Palestine', '6257.00', 'PS', 'PSE']\n",
            "['Panama', '75517.00', 'PA', 'PAN']\n",
            "['Papua New Guinea', '462840.00', 'PG', 'PNG']\n",
            "['Paraguay', '406752.00', 'PY', 'PRY']\n",
            "['Peru', '1285216.00', 'PE', 'PER']\n",
            "['Philippines', '300000.00', 'PH', 'PHL']\n",
            "['Pitcairn', '49.00', 'PN', 'PCN']\n",
            "['Poland', '323250.00', 'PL', 'POL']\n",
            "['Portugal', '91982.00', 'PT', 'PRT']\n",
            "['Puerto Rico', '8875.00', 'PR', 'PRI']\n",
            "['Qatar', '11000.00', 'QA', 'QAT']\n",
            "['Réunion', '2510.00', 'RE', 'REU']\n",
            "['Romania', '238391.00', 'RO', 'ROM']\n",
            "['Russian Federation', '17075400.00', 'RU', 'RUS']\n",
            "['Rwanda', '26338.00', 'RW', 'RWA']\n",
            "['Saint Helena', '314.00', 'SH', 'SHN']\n",
            "['Saint Kitts and Nevis', '261.00', 'KN', 'KNA']\n",
            "['Saint Lucia', '622.00', 'LC', 'LCA']\n",
            "['Saint Pierre and Miquelon', '242.00', 'PM', 'SPM']\n",
            "['Saint Vincent and the Grenadines', '388.00', 'VC', 'VCT']\n",
            "['Samoa', '2831.00', 'WS', 'WSM']\n",
            "['San Marino', '61.00', 'SM', 'SMR']\n",
            "['Sao Tome and Principe', '964.00', 'ST', 'STP']\n",
            "['Saudi Arabia', '2149690.00', 'SA', 'SAU']\n",
            "['Senegal', '196722.00', 'SN', 'SEN']\n",
            "['Seychelles', '455.00', 'SC', 'SYC']\n",
            "['Sierra Leone', '71740.00', 'SL', 'SLE']\n",
            "['Singapore', '618.00', 'SG', 'SGP']\n",
            "['Slovakia', '49012.00', 'SK', 'SVK']\n",
            "['Slovenia', '20256.00', 'SI', 'SVN']\n",
            "['Solomon Islands', '28896.00', 'SB', 'SLB']\n",
            "['Somalia', '637657.00', 'SO', 'SOM']\n",
            "['South Africa', '1221037.00', 'ZA', 'ZAF']\n",
            "['South Georgia and the South Sandwich Islands', '3903.00', 'GS', 'SGS']\n",
            "['South Korea', '99434.00', 'KR', 'KOR']\n",
            "['Spain', '505992.00', 'ES', 'ESP']\n",
            "['Sri Lanka', '65610.00', 'LK', 'LKA']\n",
            "['Sudan', '2505813.00', 'SD', 'SDN']\n",
            "['Suriname', '163265.00', 'SR', 'SUR']\n",
            "['Svalbard and Jan Mayen', '62422.00', 'SJ', 'SJM']\n",
            "['Swaziland', '17364.00', 'SZ', 'SWZ']\n",
            "['Sweden', '449964.00', 'SE', 'SWE']\n",
            "['Switzerland', '41284.00', 'CH', 'CHE']\n",
            "['Syria', '185180.00', 'SY', 'SYR']\n",
            "['Taiwan', '36188.00', 'TW', 'TWN']\n",
            "['Tajikistan', '143100.00', 'TJ', 'TJK']\n",
            "['Tanzania', '883749.00', 'TZ', 'TZA']\n",
            "['Thailand', '513115.00', 'TH', 'THA']\n",
            "['The Democratic Republic of the Congo', '2344858.00', 'CD', 'COD']\n",
            "['Togo', '56785.00', 'TG', 'TGO']\n",
            "['Tokelau', '12.00', 'TK', 'TKL']\n",
            "['Tonga', '650.00', 'TO', 'TON']\n",
            "['Trinidad and Tobago', '5130.00', 'TT', 'TTO']\n",
            "['Tunisia', '163610.00', 'TN', 'TUN']\n",
            "['Turkey', '774815.00', 'TR', 'TUR']\n",
            "['Turkmenistan', '488100.00', 'TM', 'TKM']\n",
            "['Turks and Caicos Islands', '430.00', 'TC', 'TCA']\n",
            "['Tuvalu', '26.00', 'TV', 'TUV']\n",
            "['Uganda', '241038.00', 'UG', 'UGA']\n",
            "['Ukraine', '603700.00', 'UA', 'UKR']\n",
            "['United Arab Emirates', '83600.00', 'AE', 'ARE']\n",
            "['United Kingdom', '242900.00', 'GB', 'GBR']\n",
            "['United States', '9363520.00', 'US', 'USA']\n",
            "['United States Minor Outlying Islands', '16.00', 'UM', 'UMI']\n",
            "['Uruguay', '175016.00', 'UY', 'URY']\n",
            "['Uzbekistan', '447400.00', 'UZ', 'UZB']\n",
            "['Vanuatu', '12189.00', 'VU', 'VUT']\n",
            "['Venezuela', '912050.00', 'VE', 'VEN']\n",
            "['Vietnam', '331689.00', 'VN', 'VNM']\n",
            "['Virgin Islands, British', '151.00', 'VG', 'VGB']\n",
            "['Virgin Islands, U.S.', '347.00', 'VI', 'VIR']\n",
            "['Wallis and Futuna', '200.00', 'WF', 'WLF']\n",
            "['Western Sahara', '266000.00', 'EH', 'ESH']\n",
            "['Yemen', '527968.00', 'YE', 'YEM']\n",
            "['Yugoslavia', '102173.00', 'YU', 'YUG']\n",
            "['Zambia', '752618.00', 'ZM', 'ZMB']\n",
            "['Zimbabwe', '390757.00', 'ZW', 'ZWE']\n"
          ]
        }
      ],
      "source": [
        "import csv\n",
        "\n",
        "with open('country.csv', encoding=\"utf8\") as f:\n",
        "    csv_reader = csv.reader(f)\n",
        "    for line in csv_reader:\n",
        "        print(line)"
      ]
    },
    {
      "cell_type": "markdown",
      "id": "7c5c3507",
      "metadata": {
        "id": "7c5c3507"
      },
      "source": [
        "* The country.csv has the first line as the header. To separate the header and data, you use the enumerate() function to get the index of each line:"
      ]
    },
    {
      "cell_type": "code",
      "execution_count": null,
      "id": "65457566",
      "metadata": {
        "id": "65457566",
        "outputId": "8cf17f19-774a-4c53-aec0-41e278f6fdfe"
      },
      "outputs": [
        {
          "name": "stdout",
          "output_type": "stream",
          "text": [
            "Header:\n",
            "['name', 'area', 'country_code2', 'country_code3']\n",
            "Data:\n",
            "['Afghanistan', '652090.00', 'AF', 'AFG']\n",
            "['Albania', '28748.00', 'AL', 'ALB']\n",
            "['Algeria', '2381741.00', 'DZ', 'DZA']\n",
            "['American Samoa', '199.00', 'AS', 'ASM']\n",
            "['Andorra', '468.00', 'AD', 'AND']\n",
            "['Angola', '1246700.00', 'AO', 'AGO']\n",
            "['Anguilla', '96.00', 'AI', 'AIA']\n",
            "['Antarctica', '13120000.00', 'AQ', 'ATA']\n",
            "['Antigua and Barbuda', '442.00', 'AG', 'ATG']\n",
            "['Argentina', '2780400.00', 'AR', 'ARG']\n",
            "['Armenia', '29800.00', 'AM', 'ARM']\n",
            "['Aruba', '193.00', 'AW', 'ABW']\n",
            "['Australia', '7741220.00', 'AU', 'AUS']\n",
            "['Austria', '83859.00', 'AT', 'AUT']\n",
            "['Azerbaijan', '86600.00', 'AZ', 'AZE']\n",
            "['Bahamas', '13878.00', 'BS', 'BHS']\n",
            "['Bahrain', '694.00', 'BH', 'BHR']\n",
            "['Bangladesh', '143998.00', 'BD', 'BGD']\n",
            "['Barbados', '430.00', 'BB', 'BRB']\n",
            "['Belarus', '207600.00', 'BY', 'BLR']\n",
            "['Belgium', '30518.00', 'BE', 'BEL']\n",
            "['Belize', '22696.00', 'BZ', 'BLZ']\n",
            "['Benin', '112622.00', 'BJ', 'BEN']\n",
            "['Bermuda', '53.00', 'BM', 'BMU']\n",
            "['Bhutan', '47000.00', 'BT', 'BTN']\n",
            "['Bolivia', '1098581.00', 'BO', 'BOL']\n",
            "['Bosnia and Herzegovina', '51197.00', 'BA', 'BIH']\n",
            "['Botswana', '581730.00', 'BW', 'BWA']\n",
            "['Bouvet Island', '59.00', 'BV', 'BVT']\n",
            "['Brazil', '8547403.00', 'BR', 'BRA']\n",
            "['British Indian Ocean Territory', '78.00', 'IO', 'IOT']\n",
            "['Brunei', '5765.00', 'BN', 'BRN']\n",
            "['Bulgaria', '110994.00', 'BG', 'BGR']\n",
            "['Burkina Faso', '274000.00', 'BF', 'BFA']\n",
            "['Burundi', '27834.00', 'BI', 'BDI']\n",
            "['Cambodia', '181035.00', 'KH', 'KHM']\n",
            "['Cameroon', '475442.00', 'CM', 'CMR']\n",
            "['Canada', '9970610.00', 'CA', 'CAN']\n",
            "['Cape Verde', '4033.00', 'CV', 'CPV']\n",
            "['Cayman Islands', '264.00', 'KY', 'CYM']\n",
            "['Central African Republic', '622984.00', 'CF', 'CAF']\n",
            "['Chad', '1284000.00', 'TD', 'TCD']\n",
            "['Chile', '756626.00', 'CL', 'CHL']\n",
            "['China', '9572900.00', 'CN', 'CHN']\n",
            "['Christmas Island', '135.00', 'CX', 'CXR']\n",
            "['Cocos (Keeling) Islands', '14.00', 'CC', 'CCK']\n",
            "['Colombia', '1138914.00', 'CO', 'COL']\n",
            "['Comoros', '1862.00', 'KM', 'COM']\n",
            "['Congo', '342000.00', 'CG', 'COG']\n",
            "['Cook Islands', '236.00', 'CK', 'COK']\n",
            "['Costa Rica', '51100.00', 'CR', 'CRI']\n",
            "['Côte d’Ivoire', '322463.00', 'CI', 'CIV']\n",
            "['Croatia', '56538.00', 'HR', 'HRV']\n",
            "['Cuba', '110861.00', 'CU', 'CUB']\n",
            "['Cyprus', '9251.00', 'CY', 'CYP']\n",
            "['Czech Republic', '78866.00', 'CZ', 'CZE']\n",
            "['Denmark', '43094.00', 'DK', 'DNK']\n",
            "['Djibouti', '23200.00', 'DJ', 'DJI']\n",
            "['Dominica', '751.00', 'DM', 'DMA']\n",
            "['Dominican Republic', '48511.00', 'DO', 'DOM']\n",
            "['East Timor', '14874.00', 'TP', 'TMP']\n",
            "['Ecuador', '283561.00', 'EC', 'ECU']\n",
            "['Egypt', '1001449.00', 'EG', 'EGY']\n",
            "['El Salvador', '21041.00', 'SV', 'SLV']\n",
            "['Equatorial Guinea', '28051.00', 'GQ', 'GNQ']\n",
            "['Eritrea', '117600.00', 'ER', 'ERI']\n",
            "['Estonia', '45227.00', 'EE', 'EST']\n",
            "['Ethiopia', '1104300.00', 'ET', 'ETH']\n",
            "['Falkland Islands', '12173.00', 'FK', 'FLK']\n",
            "['Faroe Islands', '1399.00', 'FO', 'FRO']\n",
            "['Federated States of Micronesia', '702.00', 'FM', 'FSM']\n",
            "['Fiji Islands', '18274.00', 'FJ', 'FJI']\n",
            "['Finland', '338145.00', 'FI', 'FIN']\n",
            "['France', '551500.00', 'FR', 'FRA']\n",
            "['French Guiana', '90000.00', 'GF', 'GUF']\n",
            "['French Polynesia', '4000.00', 'PF', 'PYF']\n",
            "['French Southern territories', '7780.00', 'TF', 'ATF']\n",
            "['Gabon', '267668.00', 'GA', 'GAB']\n",
            "['Gambia', '11295.00', 'GM', 'GMB']\n",
            "['Georgia', '69700.00', 'GE', 'GEO']\n",
            "['Germany', '357022.00', 'DE', 'DEU']\n",
            "['Ghana', '238533.00', 'GH', 'GHA']\n",
            "['Gibraltar', '6.00', 'GI', 'GIB']\n",
            "['Greece', '131626.00', 'GR', 'GRC']\n",
            "['Greenland', '2166090.00', 'GL', 'GRL']\n",
            "['Grenada', '344.00', 'GD', 'GRD']\n",
            "['Guadeloupe', '1705.00', 'GP', 'GLP']\n",
            "['Guam', '549.00', 'GU', 'GUM']\n",
            "['Guatemala', '108889.00', 'GT', 'GTM']\n",
            "['Guinea', '245857.00', 'GN', 'GIN']\n",
            "['Guinea-Bissau', '36125.00', 'GW', 'GNB']\n",
            "['Guyana', '214969.00', 'GY', 'GUY']\n",
            "['Haiti', '27750.00', 'HT', 'HTI']\n",
            "['Heard Island and McDonald Islands', '359.00', 'HM', 'HMD']\n",
            "['Holy See (Vatican City State)', '0.40', 'VA', 'VAT']\n",
            "['Honduras', '112088.00', 'HN', 'HND']\n",
            "['Hong Kong', '1075.00', 'HK', 'HKG']\n",
            "['Hungary', '93030.00', 'HU', 'HUN']\n",
            "['Iceland', '103000.00', 'IS', 'ISL']\n",
            "['India', '3287263.00', 'IN', 'IND']\n",
            "['Indonesia', '1904569.00', 'ID', 'IDN']\n",
            "['Iran', '1648195.00', 'IR', 'IRN']\n",
            "['Iraq', '438317.00', 'IQ', 'IRQ']\n",
            "['Ireland', '70273.00', 'IE', 'IRL']\n",
            "['Israel', '21056.00', 'IL', 'ISR']\n",
            "['Italy', '301316.00', 'IT', 'ITA']\n",
            "['Jamaica', '10990.00', 'JM', 'JAM']\n",
            "['Japan', '377829.00', 'JP', 'JPN']\n",
            "['Jordan', '88946.00', 'JO', 'JOR']\n",
            "['Kazakstan', '2724900.00', 'KZ', 'KAZ']\n",
            "['Kenya', '580367.00', 'KE', 'KEN']\n",
            "['Kiribati', '726.00', 'KI', 'KIR']\n",
            "['Kuwait', '17818.00', 'KW', 'KWT']\n",
            "['Kyrgyzstan', '199900.00', 'KG', 'KGZ']\n",
            "['Laos', '236800.00', 'LA', 'LAO']\n",
            "['Latvia', '64589.00', 'LV', 'LVA']\n",
            "['Lebanon', '10400.00', 'LB', 'LBN']\n",
            "['Lesotho', '30355.00', 'LS', 'LSO']\n",
            "['Liberia', '111369.00', 'LR', 'LBR']\n",
            "['Libyan Arab Jamahiriya', '1759540.00', 'LY', 'LBY']\n",
            "['Liechtenstein', '160.00', 'LI', 'LIE']\n",
            "['Lithuania', '65301.00', 'LT', 'LTU']\n",
            "['Luxembourg', '2586.00', 'LU', 'LUX']\n",
            "['Macao', '18.00', 'MO', 'MAC']\n",
            "['Macedonia', '25713.00', 'MK', 'MKD']\n",
            "['Madagascar', '587041.00', 'MG', 'MDG']\n",
            "['Malawi', '118484.00', 'MW', 'MWI']\n",
            "['Malaysia', '329758.00', 'MY', 'MYS']\n",
            "['Maldives', '298.00', 'MV', 'MDV']\n",
            "['Mali', '1240192.00', 'ML', 'MLI']\n",
            "['Malta', '316.00', 'MT', 'MLT']\n",
            "['Marshall Islands', '181.00', 'MH', 'MHL']\n",
            "['Martinique', '1102.00', 'MQ', 'MTQ']\n",
            "['Mauritania', '1025520.00', 'MR', 'MRT']\n",
            "['Mauritius', '2040.00', 'MU', 'MUS']\n",
            "['Mayotte', '373.00', 'YT', 'MYT']\n",
            "['Mexico', '1958201.00', 'MX', 'MEX']\n",
            "['Moldova', '33851.00', 'MD', 'MDA']\n",
            "['Monaco', '1.50', 'MC', 'MCO']\n",
            "['Mongolia', '1566500.00', 'MN', 'MNG']\n",
            "['Montserrat', '102.00', 'MS', 'MSR']\n",
            "['Morocco', '446550.00', 'MA', 'MAR']\n",
            "['Mozambique', '801590.00', 'MZ', 'MOZ']\n",
            "['Myanmar', '676578.00', 'MM', 'MMR']\n",
            "['Namibia', '824292.00', 'NA', 'NAM']\n",
            "['Nauru', '21.00', 'NR', 'NRU']\n",
            "['Nepal', '147181.00', 'NP', 'NPL']\n",
            "['Netherlands', '41526.00', 'NL', 'NLD']\n",
            "['Netherlands Antilles', '800.00', 'AN', 'ANT']\n",
            "['New Caledonia', '18575.00', 'NC', 'NCL']\n",
            "['New Zealand', '270534.00', 'NZ', 'NZL']\n",
            "['Nicaragua', '130000.00', 'NI', 'NIC']\n",
            "['Niger', '1267000.00', 'NE', 'NER']\n",
            "['Nigeria', '923768.00', 'NG', 'NGA']\n",
            "['Niue', '260.00', 'NU', 'NIU']\n",
            "['Norfolk Island', '36.00', 'NF', 'NFK']\n",
            "['North Korea', '120538.00', 'KP', 'PRK']\n",
            "['Northern Mariana Islands', '464.00', 'MP', 'MNP']\n",
            "['Norway', '323877.00', 'NO', 'NOR']\n",
            "['Oman', '309500.00', 'OM', 'OMN']\n",
            "['Pakistan', '796095.00', 'PK', 'PAK']\n",
            "['Palau', '459.00', 'PW', 'PLW']\n",
            "['Palestine', '6257.00', 'PS', 'PSE']\n",
            "['Panama', '75517.00', 'PA', 'PAN']\n",
            "['Papua New Guinea', '462840.00', 'PG', 'PNG']\n",
            "['Paraguay', '406752.00', 'PY', 'PRY']\n",
            "['Peru', '1285216.00', 'PE', 'PER']\n",
            "['Philippines', '300000.00', 'PH', 'PHL']\n",
            "['Pitcairn', '49.00', 'PN', 'PCN']\n",
            "['Poland', '323250.00', 'PL', 'POL']\n",
            "['Portugal', '91982.00', 'PT', 'PRT']\n",
            "['Puerto Rico', '8875.00', 'PR', 'PRI']\n",
            "['Qatar', '11000.00', 'QA', 'QAT']\n",
            "['Réunion', '2510.00', 'RE', 'REU']\n",
            "['Romania', '238391.00', 'RO', 'ROM']\n",
            "['Russian Federation', '17075400.00', 'RU', 'RUS']\n",
            "['Rwanda', '26338.00', 'RW', 'RWA']\n",
            "['Saint Helena', '314.00', 'SH', 'SHN']\n",
            "['Saint Kitts and Nevis', '261.00', 'KN', 'KNA']\n",
            "['Saint Lucia', '622.00', 'LC', 'LCA']\n",
            "['Saint Pierre and Miquelon', '242.00', 'PM', 'SPM']\n",
            "['Saint Vincent and the Grenadines', '388.00', 'VC', 'VCT']\n",
            "['Samoa', '2831.00', 'WS', 'WSM']\n",
            "['San Marino', '61.00', 'SM', 'SMR']\n",
            "['Sao Tome and Principe', '964.00', 'ST', 'STP']\n",
            "['Saudi Arabia', '2149690.00', 'SA', 'SAU']\n",
            "['Senegal', '196722.00', 'SN', 'SEN']\n",
            "['Seychelles', '455.00', 'SC', 'SYC']\n",
            "['Sierra Leone', '71740.00', 'SL', 'SLE']\n",
            "['Singapore', '618.00', 'SG', 'SGP']\n",
            "['Slovakia', '49012.00', 'SK', 'SVK']\n",
            "['Slovenia', '20256.00', 'SI', 'SVN']\n",
            "['Solomon Islands', '28896.00', 'SB', 'SLB']\n",
            "['Somalia', '637657.00', 'SO', 'SOM']\n",
            "['South Africa', '1221037.00', 'ZA', 'ZAF']\n",
            "['South Georgia and the South Sandwich Islands', '3903.00', 'GS', 'SGS']\n",
            "['South Korea', '99434.00', 'KR', 'KOR']\n",
            "['Spain', '505992.00', 'ES', 'ESP']\n",
            "['Sri Lanka', '65610.00', 'LK', 'LKA']\n",
            "['Sudan', '2505813.00', 'SD', 'SDN']\n",
            "['Suriname', '163265.00', 'SR', 'SUR']\n",
            "['Svalbard and Jan Mayen', '62422.00', 'SJ', 'SJM']\n",
            "['Swaziland', '17364.00', 'SZ', 'SWZ']\n",
            "['Sweden', '449964.00', 'SE', 'SWE']\n",
            "['Switzerland', '41284.00', 'CH', 'CHE']\n",
            "['Syria', '185180.00', 'SY', 'SYR']\n",
            "['Taiwan', '36188.00', 'TW', 'TWN']\n",
            "['Tajikistan', '143100.00', 'TJ', 'TJK']\n",
            "['Tanzania', '883749.00', 'TZ', 'TZA']\n",
            "['Thailand', '513115.00', 'TH', 'THA']\n",
            "['The Democratic Republic of the Congo', '2344858.00', 'CD', 'COD']\n",
            "['Togo', '56785.00', 'TG', 'TGO']\n",
            "['Tokelau', '12.00', 'TK', 'TKL']\n",
            "['Tonga', '650.00', 'TO', 'TON']\n",
            "['Trinidad and Tobago', '5130.00', 'TT', 'TTO']\n",
            "['Tunisia', '163610.00', 'TN', 'TUN']\n",
            "['Turkey', '774815.00', 'TR', 'TUR']\n",
            "['Turkmenistan', '488100.00', 'TM', 'TKM']\n",
            "['Turks and Caicos Islands', '430.00', 'TC', 'TCA']\n",
            "['Tuvalu', '26.00', 'TV', 'TUV']\n",
            "['Uganda', '241038.00', 'UG', 'UGA']\n",
            "['Ukraine', '603700.00', 'UA', 'UKR']\n",
            "['United Arab Emirates', '83600.00', 'AE', 'ARE']\n",
            "['United Kingdom', '242900.00', 'GB', 'GBR']\n",
            "['United States', '9363520.00', 'US', 'USA']\n",
            "['United States Minor Outlying Islands', '16.00', 'UM', 'UMI']\n",
            "['Uruguay', '175016.00', 'UY', 'URY']\n",
            "['Uzbekistan', '447400.00', 'UZ', 'UZB']\n",
            "['Vanuatu', '12189.00', 'VU', 'VUT']\n",
            "['Venezuela', '912050.00', 'VE', 'VEN']\n",
            "['Vietnam', '331689.00', 'VN', 'VNM']\n",
            "['Virgin Islands, British', '151.00', 'VG', 'VGB']\n",
            "['Virgin Islands, U.S.', '347.00', 'VI', 'VIR']\n",
            "['Wallis and Futuna', '200.00', 'WF', 'WLF']\n",
            "['Western Sahara', '266000.00', 'EH', 'ESH']\n",
            "['Yemen', '527968.00', 'YE', 'YEM']\n",
            "['Yugoslavia', '102173.00', 'YU', 'YUG']\n",
            "['Zambia', '752618.00', 'ZM', 'ZMB']\n",
            "['Zimbabwe', '390757.00', 'ZW', 'ZWE']\n"
          ]
        }
      ],
      "source": [
        "import csv\n",
        "\n",
        "with open('country.csv', encoding=\"utf8\") as f:\n",
        "    csv_reader = csv.reader(f)\n",
        "    for line_no, line in enumerate(csv_reader, 1):\n",
        "        if line_no == 1:\n",
        "            print('Header:')\n",
        "            print(line)  # header\n",
        "            print('Data:')\n",
        "        else:\n",
        "            print(line)  # data\n"
      ]
    },
    {
      "cell_type": "markdown",
      "id": "8dba2fab",
      "metadata": {
        "id": "8dba2fab"
      },
      "source": [
        "* In this example, we use the enumerate() function and specify the index of the first line as 1.\n",
        "\n",
        "* Inside the loop, if the line_no is is 1, the line is the header. Otherwise, it’s a data line.\n",
        "\n",
        "* Another way to skip the header is to use the next() function. The next() function forwards to the reader to the next line. For example:"
      ]
    },
    {
      "cell_type": "code",
      "execution_count": null,
      "id": "bdf3cff5",
      "metadata": {
        "id": "bdf3cff5",
        "outputId": "aab647b2-f1a2-41ed-b35a-03031270d787"
      },
      "outputs": [
        {
          "name": "stdout",
          "output_type": "stream",
          "text": [
            "['Afghanistan', '652090.00', 'AF', 'AFG']\n",
            "['Albania', '28748.00', 'AL', 'ALB']\n",
            "['Algeria', '2381741.00', 'DZ', 'DZA']\n",
            "['American Samoa', '199.00', 'AS', 'ASM']\n",
            "['Andorra', '468.00', 'AD', 'AND']\n",
            "['Angola', '1246700.00', 'AO', 'AGO']\n",
            "['Anguilla', '96.00', 'AI', 'AIA']\n",
            "['Antarctica', '13120000.00', 'AQ', 'ATA']\n",
            "['Antigua and Barbuda', '442.00', 'AG', 'ATG']\n",
            "['Argentina', '2780400.00', 'AR', 'ARG']\n",
            "['Armenia', '29800.00', 'AM', 'ARM']\n",
            "['Aruba', '193.00', 'AW', 'ABW']\n",
            "['Australia', '7741220.00', 'AU', 'AUS']\n",
            "['Austria', '83859.00', 'AT', 'AUT']\n",
            "['Azerbaijan', '86600.00', 'AZ', 'AZE']\n",
            "['Bahamas', '13878.00', 'BS', 'BHS']\n",
            "['Bahrain', '694.00', 'BH', 'BHR']\n",
            "['Bangladesh', '143998.00', 'BD', 'BGD']\n",
            "['Barbados', '430.00', 'BB', 'BRB']\n",
            "['Belarus', '207600.00', 'BY', 'BLR']\n",
            "['Belgium', '30518.00', 'BE', 'BEL']\n",
            "['Belize', '22696.00', 'BZ', 'BLZ']\n",
            "['Benin', '112622.00', 'BJ', 'BEN']\n",
            "['Bermuda', '53.00', 'BM', 'BMU']\n",
            "['Bhutan', '47000.00', 'BT', 'BTN']\n",
            "['Bolivia', '1098581.00', 'BO', 'BOL']\n",
            "['Bosnia and Herzegovina', '51197.00', 'BA', 'BIH']\n",
            "['Botswana', '581730.00', 'BW', 'BWA']\n",
            "['Bouvet Island', '59.00', 'BV', 'BVT']\n",
            "['Brazil', '8547403.00', 'BR', 'BRA']\n",
            "['British Indian Ocean Territory', '78.00', 'IO', 'IOT']\n",
            "['Brunei', '5765.00', 'BN', 'BRN']\n",
            "['Bulgaria', '110994.00', 'BG', 'BGR']\n",
            "['Burkina Faso', '274000.00', 'BF', 'BFA']\n",
            "['Burundi', '27834.00', 'BI', 'BDI']\n",
            "['Cambodia', '181035.00', 'KH', 'KHM']\n",
            "['Cameroon', '475442.00', 'CM', 'CMR']\n",
            "['Canada', '9970610.00', 'CA', 'CAN']\n",
            "['Cape Verde', '4033.00', 'CV', 'CPV']\n",
            "['Cayman Islands', '264.00', 'KY', 'CYM']\n",
            "['Central African Republic', '622984.00', 'CF', 'CAF']\n",
            "['Chad', '1284000.00', 'TD', 'TCD']\n",
            "['Chile', '756626.00', 'CL', 'CHL']\n",
            "['China', '9572900.00', 'CN', 'CHN']\n",
            "['Christmas Island', '135.00', 'CX', 'CXR']\n",
            "['Cocos (Keeling) Islands', '14.00', 'CC', 'CCK']\n",
            "['Colombia', '1138914.00', 'CO', 'COL']\n",
            "['Comoros', '1862.00', 'KM', 'COM']\n",
            "['Congo', '342000.00', 'CG', 'COG']\n",
            "['Cook Islands', '236.00', 'CK', 'COK']\n",
            "['Costa Rica', '51100.00', 'CR', 'CRI']\n",
            "['Côte d’Ivoire', '322463.00', 'CI', 'CIV']\n",
            "['Croatia', '56538.00', 'HR', 'HRV']\n",
            "['Cuba', '110861.00', 'CU', 'CUB']\n",
            "['Cyprus', '9251.00', 'CY', 'CYP']\n",
            "['Czech Republic', '78866.00', 'CZ', 'CZE']\n",
            "['Denmark', '43094.00', 'DK', 'DNK']\n",
            "['Djibouti', '23200.00', 'DJ', 'DJI']\n",
            "['Dominica', '751.00', 'DM', 'DMA']\n",
            "['Dominican Republic', '48511.00', 'DO', 'DOM']\n",
            "['East Timor', '14874.00', 'TP', 'TMP']\n",
            "['Ecuador', '283561.00', 'EC', 'ECU']\n",
            "['Egypt', '1001449.00', 'EG', 'EGY']\n",
            "['El Salvador', '21041.00', 'SV', 'SLV']\n",
            "['Equatorial Guinea', '28051.00', 'GQ', 'GNQ']\n",
            "['Eritrea', '117600.00', 'ER', 'ERI']\n",
            "['Estonia', '45227.00', 'EE', 'EST']\n",
            "['Ethiopia', '1104300.00', 'ET', 'ETH']\n",
            "['Falkland Islands', '12173.00', 'FK', 'FLK']\n",
            "['Faroe Islands', '1399.00', 'FO', 'FRO']\n",
            "['Federated States of Micronesia', '702.00', 'FM', 'FSM']\n",
            "['Fiji Islands', '18274.00', 'FJ', 'FJI']\n",
            "['Finland', '338145.00', 'FI', 'FIN']\n",
            "['France', '551500.00', 'FR', 'FRA']\n",
            "['French Guiana', '90000.00', 'GF', 'GUF']\n",
            "['French Polynesia', '4000.00', 'PF', 'PYF']\n",
            "['French Southern territories', '7780.00', 'TF', 'ATF']\n",
            "['Gabon', '267668.00', 'GA', 'GAB']\n",
            "['Gambia', '11295.00', 'GM', 'GMB']\n",
            "['Georgia', '69700.00', 'GE', 'GEO']\n",
            "['Germany', '357022.00', 'DE', 'DEU']\n",
            "['Ghana', '238533.00', 'GH', 'GHA']\n",
            "['Gibraltar', '6.00', 'GI', 'GIB']\n",
            "['Greece', '131626.00', 'GR', 'GRC']\n",
            "['Greenland', '2166090.00', 'GL', 'GRL']\n",
            "['Grenada', '344.00', 'GD', 'GRD']\n",
            "['Guadeloupe', '1705.00', 'GP', 'GLP']\n",
            "['Guam', '549.00', 'GU', 'GUM']\n",
            "['Guatemala', '108889.00', 'GT', 'GTM']\n",
            "['Guinea', '245857.00', 'GN', 'GIN']\n",
            "['Guinea-Bissau', '36125.00', 'GW', 'GNB']\n",
            "['Guyana', '214969.00', 'GY', 'GUY']\n",
            "['Haiti', '27750.00', 'HT', 'HTI']\n",
            "['Heard Island and McDonald Islands', '359.00', 'HM', 'HMD']\n",
            "['Holy See (Vatican City State)', '0.40', 'VA', 'VAT']\n",
            "['Honduras', '112088.00', 'HN', 'HND']\n",
            "['Hong Kong', '1075.00', 'HK', 'HKG']\n",
            "['Hungary', '93030.00', 'HU', 'HUN']\n",
            "['Iceland', '103000.00', 'IS', 'ISL']\n",
            "['India', '3287263.00', 'IN', 'IND']\n",
            "['Indonesia', '1904569.00', 'ID', 'IDN']\n",
            "['Iran', '1648195.00', 'IR', 'IRN']\n",
            "['Iraq', '438317.00', 'IQ', 'IRQ']\n",
            "['Ireland', '70273.00', 'IE', 'IRL']\n",
            "['Israel', '21056.00', 'IL', 'ISR']\n",
            "['Italy', '301316.00', 'IT', 'ITA']\n",
            "['Jamaica', '10990.00', 'JM', 'JAM']\n",
            "['Japan', '377829.00', 'JP', 'JPN']\n",
            "['Jordan', '88946.00', 'JO', 'JOR']\n",
            "['Kazakstan', '2724900.00', 'KZ', 'KAZ']\n",
            "['Kenya', '580367.00', 'KE', 'KEN']\n",
            "['Kiribati', '726.00', 'KI', 'KIR']\n",
            "['Kuwait', '17818.00', 'KW', 'KWT']\n",
            "['Kyrgyzstan', '199900.00', 'KG', 'KGZ']\n",
            "['Laos', '236800.00', 'LA', 'LAO']\n",
            "['Latvia', '64589.00', 'LV', 'LVA']\n",
            "['Lebanon', '10400.00', 'LB', 'LBN']\n",
            "['Lesotho', '30355.00', 'LS', 'LSO']\n",
            "['Liberia', '111369.00', 'LR', 'LBR']\n",
            "['Libyan Arab Jamahiriya', '1759540.00', 'LY', 'LBY']\n",
            "['Liechtenstein', '160.00', 'LI', 'LIE']\n",
            "['Lithuania', '65301.00', 'LT', 'LTU']\n",
            "['Luxembourg', '2586.00', 'LU', 'LUX']\n",
            "['Macao', '18.00', 'MO', 'MAC']\n",
            "['Macedonia', '25713.00', 'MK', 'MKD']\n",
            "['Madagascar', '587041.00', 'MG', 'MDG']\n",
            "['Malawi', '118484.00', 'MW', 'MWI']\n",
            "['Malaysia', '329758.00', 'MY', 'MYS']\n",
            "['Maldives', '298.00', 'MV', 'MDV']\n",
            "['Mali', '1240192.00', 'ML', 'MLI']\n",
            "['Malta', '316.00', 'MT', 'MLT']\n",
            "['Marshall Islands', '181.00', 'MH', 'MHL']\n",
            "['Martinique', '1102.00', 'MQ', 'MTQ']\n",
            "['Mauritania', '1025520.00', 'MR', 'MRT']\n",
            "['Mauritius', '2040.00', 'MU', 'MUS']\n",
            "['Mayotte', '373.00', 'YT', 'MYT']\n",
            "['Mexico', '1958201.00', 'MX', 'MEX']\n",
            "['Moldova', '33851.00', 'MD', 'MDA']\n",
            "['Monaco', '1.50', 'MC', 'MCO']\n",
            "['Mongolia', '1566500.00', 'MN', 'MNG']\n",
            "['Montserrat', '102.00', 'MS', 'MSR']\n",
            "['Morocco', '446550.00', 'MA', 'MAR']\n",
            "['Mozambique', '801590.00', 'MZ', 'MOZ']\n",
            "['Myanmar', '676578.00', 'MM', 'MMR']\n",
            "['Namibia', '824292.00', 'NA', 'NAM']\n",
            "['Nauru', '21.00', 'NR', 'NRU']\n",
            "['Nepal', '147181.00', 'NP', 'NPL']\n",
            "['Netherlands', '41526.00', 'NL', 'NLD']\n",
            "['Netherlands Antilles', '800.00', 'AN', 'ANT']\n",
            "['New Caledonia', '18575.00', 'NC', 'NCL']\n",
            "['New Zealand', '270534.00', 'NZ', 'NZL']\n",
            "['Nicaragua', '130000.00', 'NI', 'NIC']\n",
            "['Niger', '1267000.00', 'NE', 'NER']\n",
            "['Nigeria', '923768.00', 'NG', 'NGA']\n",
            "['Niue', '260.00', 'NU', 'NIU']\n",
            "['Norfolk Island', '36.00', 'NF', 'NFK']\n",
            "['North Korea', '120538.00', 'KP', 'PRK']\n",
            "['Northern Mariana Islands', '464.00', 'MP', 'MNP']\n",
            "['Norway', '323877.00', 'NO', 'NOR']\n",
            "['Oman', '309500.00', 'OM', 'OMN']\n",
            "['Pakistan', '796095.00', 'PK', 'PAK']\n",
            "['Palau', '459.00', 'PW', 'PLW']\n",
            "['Palestine', '6257.00', 'PS', 'PSE']\n",
            "['Panama', '75517.00', 'PA', 'PAN']\n",
            "['Papua New Guinea', '462840.00', 'PG', 'PNG']\n",
            "['Paraguay', '406752.00', 'PY', 'PRY']\n",
            "['Peru', '1285216.00', 'PE', 'PER']\n",
            "['Philippines', '300000.00', 'PH', 'PHL']\n",
            "['Pitcairn', '49.00', 'PN', 'PCN']\n",
            "['Poland', '323250.00', 'PL', 'POL']\n",
            "['Portugal', '91982.00', 'PT', 'PRT']\n",
            "['Puerto Rico', '8875.00', 'PR', 'PRI']\n",
            "['Qatar', '11000.00', 'QA', 'QAT']\n",
            "['Réunion', '2510.00', 'RE', 'REU']\n",
            "['Romania', '238391.00', 'RO', 'ROM']\n",
            "['Russian Federation', '17075400.00', 'RU', 'RUS']\n",
            "['Rwanda', '26338.00', 'RW', 'RWA']\n",
            "['Saint Helena', '314.00', 'SH', 'SHN']\n",
            "['Saint Kitts and Nevis', '261.00', 'KN', 'KNA']\n",
            "['Saint Lucia', '622.00', 'LC', 'LCA']\n",
            "['Saint Pierre and Miquelon', '242.00', 'PM', 'SPM']\n",
            "['Saint Vincent and the Grenadines', '388.00', 'VC', 'VCT']\n",
            "['Samoa', '2831.00', 'WS', 'WSM']\n",
            "['San Marino', '61.00', 'SM', 'SMR']\n",
            "['Sao Tome and Principe', '964.00', 'ST', 'STP']\n",
            "['Saudi Arabia', '2149690.00', 'SA', 'SAU']\n",
            "['Senegal', '196722.00', 'SN', 'SEN']\n",
            "['Seychelles', '455.00', 'SC', 'SYC']\n",
            "['Sierra Leone', '71740.00', 'SL', 'SLE']\n",
            "['Singapore', '618.00', 'SG', 'SGP']\n",
            "['Slovakia', '49012.00', 'SK', 'SVK']\n",
            "['Slovenia', '20256.00', 'SI', 'SVN']\n",
            "['Solomon Islands', '28896.00', 'SB', 'SLB']\n",
            "['Somalia', '637657.00', 'SO', 'SOM']\n",
            "['South Africa', '1221037.00', 'ZA', 'ZAF']\n",
            "['South Georgia and the South Sandwich Islands', '3903.00', 'GS', 'SGS']\n",
            "['South Korea', '99434.00', 'KR', 'KOR']\n",
            "['Spain', '505992.00', 'ES', 'ESP']\n",
            "['Sri Lanka', '65610.00', 'LK', 'LKA']\n",
            "['Sudan', '2505813.00', 'SD', 'SDN']\n",
            "['Suriname', '163265.00', 'SR', 'SUR']\n",
            "['Svalbard and Jan Mayen', '62422.00', 'SJ', 'SJM']\n",
            "['Swaziland', '17364.00', 'SZ', 'SWZ']\n",
            "['Sweden', '449964.00', 'SE', 'SWE']\n",
            "['Switzerland', '41284.00', 'CH', 'CHE']\n",
            "['Syria', '185180.00', 'SY', 'SYR']\n",
            "['Taiwan', '36188.00', 'TW', 'TWN']\n",
            "['Tajikistan', '143100.00', 'TJ', 'TJK']\n",
            "['Tanzania', '883749.00', 'TZ', 'TZA']\n",
            "['Thailand', '513115.00', 'TH', 'THA']\n",
            "['The Democratic Republic of the Congo', '2344858.00', 'CD', 'COD']\n",
            "['Togo', '56785.00', 'TG', 'TGO']\n",
            "['Tokelau', '12.00', 'TK', 'TKL']\n",
            "['Tonga', '650.00', 'TO', 'TON']\n",
            "['Trinidad and Tobago', '5130.00', 'TT', 'TTO']\n",
            "['Tunisia', '163610.00', 'TN', 'TUN']\n",
            "['Turkey', '774815.00', 'TR', 'TUR']\n",
            "['Turkmenistan', '488100.00', 'TM', 'TKM']\n",
            "['Turks and Caicos Islands', '430.00', 'TC', 'TCA']\n",
            "['Tuvalu', '26.00', 'TV', 'TUV']\n",
            "['Uganda', '241038.00', 'UG', 'UGA']\n",
            "['Ukraine', '603700.00', 'UA', 'UKR']\n",
            "['United Arab Emirates', '83600.00', 'AE', 'ARE']\n",
            "['United Kingdom', '242900.00', 'GB', 'GBR']\n",
            "['United States', '9363520.00', 'US', 'USA']\n",
            "['United States Minor Outlying Islands', '16.00', 'UM', 'UMI']\n",
            "['Uruguay', '175016.00', 'UY', 'URY']\n",
            "['Uzbekistan', '447400.00', 'UZ', 'UZB']\n",
            "['Vanuatu', '12189.00', 'VU', 'VUT']\n",
            "['Venezuela', '912050.00', 'VE', 'VEN']\n",
            "['Vietnam', '331689.00', 'VN', 'VNM']\n",
            "['Virgin Islands, British', '151.00', 'VG', 'VGB']\n",
            "['Virgin Islands, U.S.', '347.00', 'VI', 'VIR']\n",
            "['Wallis and Futuna', '200.00', 'WF', 'WLF']\n",
            "['Western Sahara', '266000.00', 'EH', 'ESH']\n",
            "['Yemen', '527968.00', 'YE', 'YEM']\n",
            "['Yugoslavia', '102173.00', 'YU', 'YUG']\n",
            "['Zambia', '752618.00', 'ZM', 'ZMB']\n",
            "['Zimbabwe', '390757.00', 'ZW', 'ZWE']\n"
          ]
        }
      ],
      "source": [
        "import csv\n",
        "\n",
        "with open('country.csv', encoding=\"utf8\") as f:\n",
        "    csv_reader = csv.reader(f)\n",
        "\n",
        "    # skip the first row\n",
        "    next(csv_reader)\n",
        "\n",
        "    # show the data\n",
        "    for line in csv_reader:\n",
        "        print(line)\n",
        "\n",
        "        "
      ]
    },
    {
      "cell_type": "code",
      "execution_count": null,
      "id": "ce8dd8a3",
      "metadata": {
        "id": "ce8dd8a3",
        "outputId": "4a17af4a-ea7e-49e3-9639-2bfd8625060d"
      },
      "outputs": [
        {
          "name": "stdout",
          "output_type": "stream",
          "text": [
            "148956306.9\n"
          ]
        }
      ],
      "source": [
        "#The following reads the country.csv file and calculate the total areas of all countries:\n",
        "import csv\n",
        "\n",
        "total_area = 0\n",
        "\n",
        "# calculate the total area of all countries\n",
        "\n",
        "with open('country.csv', encoding=\"utf8\") as f:\n",
        "    csv_reader = csv.reader(f)\n",
        "\n",
        "    # skip the header\n",
        "    next(csv_reader)\n",
        "\n",
        "    # calculate total\n",
        "    for line in csv_reader:\n",
        "        total_area += float(line[1])\n",
        "\n",
        "print(total_area)"
      ]
    },
    {
      "cell_type": "markdown",
      "id": "e7042c93",
      "metadata": {
        "id": "e7042c93"
      },
      "source": [
        "## **Reading a CSV file using the DictReader class**\n",
        "* When you use the csv.reader() function, you can access values of the CSV file using the bracket notation such as line[0], line[1], and so on. However, using the csv.reader() function has two main limitations:\n",
        "\n",
        "    * First, the way to access the values from the CSV file is not so obvious. For example, the line[0] implicitly means the country name. It would be more expressive if you can access the country name like line['country_name'].\n",
        "    * Second, when the order of columns from the CSV file is changed or new columns are added, you need to modify the code to get the right data.\n",
        "\n",
        "* This is where the **DictReader class** comes into play. The DictReader class also comes from the csv module.\n",
        "\n",
        "* The DictReader class allows you to create an object like a regular CSV reader. But it maps the information of each line to a dictionary (dict) whose keys are specified by the values of the first line.\n",
        "\n",
        "* By using the DictReader class, you can access values in the country.csv file like line['name'], line['area'], line['country_code2'], and line['country_code3'].\n",
        "\n",
        "* The following example uses the DictReader class to read the country.csv file:"
      ]
    },
    {
      "cell_type": "code",
      "execution_count": null,
      "id": "8f8a808d",
      "metadata": {
        "id": "8f8a808d",
        "outputId": "76fc00ea-a5dd-4d2c-b8c0-77f5ec82e0f6"
      },
      "outputs": [
        {
          "name": "stdout",
          "output_type": "stream",
          "text": [
            "The area of Albania is 28748.00 km2\n",
            "The area of Algeria is 2381741.00 km2\n",
            "The area of American Samoa is 199.00 km2\n",
            "The area of Andorra is 468.00 km2\n",
            "The area of Angola is 1246700.00 km2\n",
            "The area of Anguilla is 96.00 km2\n",
            "The area of Antarctica is 13120000.00 km2\n",
            "The area of Antigua and Barbuda is 442.00 km2\n",
            "The area of Argentina is 2780400.00 km2\n",
            "The area of Armenia is 29800.00 km2\n",
            "The area of Aruba is 193.00 km2\n",
            "The area of Australia is 7741220.00 km2\n",
            "The area of Austria is 83859.00 km2\n",
            "The area of Azerbaijan is 86600.00 km2\n",
            "The area of Bahamas is 13878.00 km2\n",
            "The area of Bahrain is 694.00 km2\n",
            "The area of Bangladesh is 143998.00 km2\n",
            "The area of Barbados is 430.00 km2\n",
            "The area of Belarus is 207600.00 km2\n",
            "The area of Belgium is 30518.00 km2\n",
            "The area of Belize is 22696.00 km2\n",
            "The area of Benin is 112622.00 km2\n",
            "The area of Bermuda is 53.00 km2\n",
            "The area of Bhutan is 47000.00 km2\n",
            "The area of Bolivia is 1098581.00 km2\n",
            "The area of Bosnia and Herzegovina is 51197.00 km2\n",
            "The area of Botswana is 581730.00 km2\n",
            "The area of Bouvet Island is 59.00 km2\n",
            "The area of Brazil is 8547403.00 km2\n",
            "The area of British Indian Ocean Territory is 78.00 km2\n",
            "The area of Brunei is 5765.00 km2\n",
            "The area of Bulgaria is 110994.00 km2\n",
            "The area of Burkina Faso is 274000.00 km2\n",
            "The area of Burundi is 27834.00 km2\n",
            "The area of Cambodia is 181035.00 km2\n",
            "The area of Cameroon is 475442.00 km2\n",
            "The area of Canada is 9970610.00 km2\n",
            "The area of Cape Verde is 4033.00 km2\n",
            "The area of Cayman Islands is 264.00 km2\n",
            "The area of Central African Republic is 622984.00 km2\n",
            "The area of Chad is 1284000.00 km2\n",
            "The area of Chile is 756626.00 km2\n",
            "The area of China is 9572900.00 km2\n",
            "The area of Christmas Island is 135.00 km2\n",
            "The area of Cocos (Keeling) Islands is 14.00 km2\n",
            "The area of Colombia is 1138914.00 km2\n",
            "The area of Comoros is 1862.00 km2\n",
            "The area of Congo is 342000.00 km2\n",
            "The area of Cook Islands is 236.00 km2\n",
            "The area of Costa Rica is 51100.00 km2\n",
            "The area of Côte d’Ivoire is 322463.00 km2\n",
            "The area of Croatia is 56538.00 km2\n",
            "The area of Cuba is 110861.00 km2\n",
            "The area of Cyprus is 9251.00 km2\n",
            "The area of Czech Republic is 78866.00 km2\n",
            "The area of Denmark is 43094.00 km2\n",
            "The area of Djibouti is 23200.00 km2\n",
            "The area of Dominica is 751.00 km2\n",
            "The area of Dominican Republic is 48511.00 km2\n",
            "The area of East Timor is 14874.00 km2\n",
            "The area of Ecuador is 283561.00 km2\n",
            "The area of Egypt is 1001449.00 km2\n",
            "The area of El Salvador is 21041.00 km2\n",
            "The area of Equatorial Guinea is 28051.00 km2\n",
            "The area of Eritrea is 117600.00 km2\n",
            "The area of Estonia is 45227.00 km2\n",
            "The area of Ethiopia is 1104300.00 km2\n",
            "The area of Falkland Islands is 12173.00 km2\n",
            "The area of Faroe Islands is 1399.00 km2\n",
            "The area of Federated States of Micronesia is 702.00 km2\n",
            "The area of Fiji Islands is 18274.00 km2\n",
            "The area of Finland is 338145.00 km2\n",
            "The area of France is 551500.00 km2\n",
            "The area of French Guiana is 90000.00 km2\n",
            "The area of French Polynesia is 4000.00 km2\n",
            "The area of French Southern territories is 7780.00 km2\n",
            "The area of Gabon is 267668.00 km2\n",
            "The area of Gambia is 11295.00 km2\n",
            "The area of Georgia is 69700.00 km2\n",
            "The area of Germany is 357022.00 km2\n",
            "The area of Ghana is 238533.00 km2\n",
            "The area of Gibraltar is 6.00 km2\n",
            "The area of Greece is 131626.00 km2\n",
            "The area of Greenland is 2166090.00 km2\n",
            "The area of Grenada is 344.00 km2\n",
            "The area of Guadeloupe is 1705.00 km2\n",
            "The area of Guam is 549.00 km2\n",
            "The area of Guatemala is 108889.00 km2\n",
            "The area of Guinea is 245857.00 km2\n",
            "The area of Guinea-Bissau is 36125.00 km2\n",
            "The area of Guyana is 214969.00 km2\n",
            "The area of Haiti is 27750.00 km2\n",
            "The area of Heard Island and McDonald Islands is 359.00 km2\n",
            "The area of Holy See (Vatican City State) is 0.40 km2\n",
            "The area of Honduras is 112088.00 km2\n",
            "The area of Hong Kong is 1075.00 km2\n",
            "The area of Hungary is 93030.00 km2\n",
            "The area of Iceland is 103000.00 km2\n",
            "The area of India is 3287263.00 km2\n",
            "The area of Indonesia is 1904569.00 km2\n",
            "The area of Iran is 1648195.00 km2\n",
            "The area of Iraq is 438317.00 km2\n",
            "The area of Ireland is 70273.00 km2\n",
            "The area of Israel is 21056.00 km2\n",
            "The area of Italy is 301316.00 km2\n",
            "The area of Jamaica is 10990.00 km2\n",
            "The area of Japan is 377829.00 km2\n",
            "The area of Jordan is 88946.00 km2\n",
            "The area of Kazakstan is 2724900.00 km2\n",
            "The area of Kenya is 580367.00 km2\n",
            "The area of Kiribati is 726.00 km2\n",
            "The area of Kuwait is 17818.00 km2\n",
            "The area of Kyrgyzstan is 199900.00 km2\n",
            "The area of Laos is 236800.00 km2\n",
            "The area of Latvia is 64589.00 km2\n",
            "The area of Lebanon is 10400.00 km2\n",
            "The area of Lesotho is 30355.00 km2\n",
            "The area of Liberia is 111369.00 km2\n",
            "The area of Libyan Arab Jamahiriya is 1759540.00 km2\n",
            "The area of Liechtenstein is 160.00 km2\n",
            "The area of Lithuania is 65301.00 km2\n",
            "The area of Luxembourg is 2586.00 km2\n",
            "The area of Macao is 18.00 km2\n",
            "The area of Macedonia is 25713.00 km2\n",
            "The area of Madagascar is 587041.00 km2\n",
            "The area of Malawi is 118484.00 km2\n",
            "The area of Malaysia is 329758.00 km2\n",
            "The area of Maldives is 298.00 km2\n",
            "The area of Mali is 1240192.00 km2\n",
            "The area of Malta is 316.00 km2\n",
            "The area of Marshall Islands is 181.00 km2\n",
            "The area of Martinique is 1102.00 km2\n",
            "The area of Mauritania is 1025520.00 km2\n",
            "The area of Mauritius is 2040.00 km2\n",
            "The area of Mayotte is 373.00 km2\n",
            "The area of Mexico is 1958201.00 km2\n",
            "The area of Moldova is 33851.00 km2\n",
            "The area of Monaco is 1.50 km2\n",
            "The area of Mongolia is 1566500.00 km2\n",
            "The area of Montserrat is 102.00 km2\n",
            "The area of Morocco is 446550.00 km2\n",
            "The area of Mozambique is 801590.00 km2\n",
            "The area of Myanmar is 676578.00 km2\n",
            "The area of Namibia is 824292.00 km2\n",
            "The area of Nauru is 21.00 km2\n",
            "The area of Nepal is 147181.00 km2\n",
            "The area of Netherlands is 41526.00 km2\n",
            "The area of Netherlands Antilles is 800.00 km2\n",
            "The area of New Caledonia is 18575.00 km2\n",
            "The area of New Zealand is 270534.00 km2\n",
            "The area of Nicaragua is 130000.00 km2\n",
            "The area of Niger is 1267000.00 km2\n",
            "The area of Nigeria is 923768.00 km2\n",
            "The area of Niue is 260.00 km2\n",
            "The area of Norfolk Island is 36.00 km2\n",
            "The area of North Korea is 120538.00 km2\n",
            "The area of Northern Mariana Islands is 464.00 km2\n",
            "The area of Norway is 323877.00 km2\n",
            "The area of Oman is 309500.00 km2\n",
            "The area of Pakistan is 796095.00 km2\n",
            "The area of Palau is 459.00 km2\n",
            "The area of Palestine is 6257.00 km2\n",
            "The area of Panama is 75517.00 km2\n",
            "The area of Papua New Guinea is 462840.00 km2\n",
            "The area of Paraguay is 406752.00 km2\n",
            "The area of Peru is 1285216.00 km2\n",
            "The area of Philippines is 300000.00 km2\n",
            "The area of Pitcairn is 49.00 km2\n",
            "The area of Poland is 323250.00 km2\n",
            "The area of Portugal is 91982.00 km2\n",
            "The area of Puerto Rico is 8875.00 km2\n",
            "The area of Qatar is 11000.00 km2\n",
            "The area of Réunion is 2510.00 km2\n",
            "The area of Romania is 238391.00 km2\n",
            "The area of Russian Federation is 17075400.00 km2\n",
            "The area of Rwanda is 26338.00 km2\n",
            "The area of Saint Helena is 314.00 km2\n",
            "The area of Saint Kitts and Nevis is 261.00 km2\n",
            "The area of Saint Lucia is 622.00 km2\n",
            "The area of Saint Pierre and Miquelon is 242.00 km2\n",
            "The area of Saint Vincent and the Grenadines is 388.00 km2\n",
            "The area of Samoa is 2831.00 km2\n",
            "The area of San Marino is 61.00 km2\n",
            "The area of Sao Tome and Principe is 964.00 km2\n",
            "The area of Saudi Arabia is 2149690.00 km2\n",
            "The area of Senegal is 196722.00 km2\n",
            "The area of Seychelles is 455.00 km2\n",
            "The area of Sierra Leone is 71740.00 km2\n",
            "The area of Singapore is 618.00 km2\n",
            "The area of Slovakia is 49012.00 km2\n",
            "The area of Slovenia is 20256.00 km2\n",
            "The area of Solomon Islands is 28896.00 km2\n",
            "The area of Somalia is 637657.00 km2\n",
            "The area of South Africa is 1221037.00 km2\n",
            "The area of South Georgia and the South Sandwich Islands is 3903.00 km2\n",
            "The area of South Korea is 99434.00 km2\n",
            "The area of Spain is 505992.00 km2\n",
            "The area of Sri Lanka is 65610.00 km2\n",
            "The area of Sudan is 2505813.00 km2\n",
            "The area of Suriname is 163265.00 km2\n",
            "The area of Svalbard and Jan Mayen is 62422.00 km2\n",
            "The area of Swaziland is 17364.00 km2\n",
            "The area of Sweden is 449964.00 km2\n",
            "The area of Switzerland is 41284.00 km2\n",
            "The area of Syria is 185180.00 km2\n",
            "The area of Taiwan is 36188.00 km2\n",
            "The area of Tajikistan is 143100.00 km2\n",
            "The area of Tanzania is 883749.00 km2\n",
            "The area of Thailand is 513115.00 km2\n",
            "The area of The Democratic Republic of the Congo is 2344858.00 km2\n",
            "The area of Togo is 56785.00 km2\n",
            "The area of Tokelau is 12.00 km2\n",
            "The area of Tonga is 650.00 km2\n",
            "The area of Trinidad and Tobago is 5130.00 km2\n",
            "The area of Tunisia is 163610.00 km2\n",
            "The area of Turkey is 774815.00 km2\n",
            "The area of Turkmenistan is 488100.00 km2\n",
            "The area of Turks and Caicos Islands is 430.00 km2\n",
            "The area of Tuvalu is 26.00 km2\n",
            "The area of Uganda is 241038.00 km2\n",
            "The area of Ukraine is 603700.00 km2\n",
            "The area of United Arab Emirates is 83600.00 km2\n",
            "The area of United Kingdom is 242900.00 km2\n",
            "The area of United States is 9363520.00 km2\n",
            "The area of United States Minor Outlying Islands is 16.00 km2\n",
            "The area of Uruguay is 175016.00 km2\n",
            "The area of Uzbekistan is 447400.00 km2\n",
            "The area of Vanuatu is 12189.00 km2\n",
            "The area of Venezuela is 912050.00 km2\n",
            "The area of Vietnam is 331689.00 km2\n",
            "The area of Virgin Islands, British is 151.00 km2\n",
            "The area of Virgin Islands, U.S. is 347.00 km2\n",
            "The area of Wallis and Futuna is 200.00 km2\n",
            "The area of Western Sahara is 266000.00 km2\n",
            "The area of Yemen is 527968.00 km2\n",
            "The area of Yugoslavia is 102173.00 km2\n",
            "The area of Zambia is 752618.00 km2\n",
            "The area of Zimbabwe is 390757.00 km2\n"
          ]
        }
      ],
      "source": [
        "import csv\n",
        "\n",
        "with open('country.csv', encoding=\"utf8\") as f:\n",
        "    csv_reader = csv.DictReader(f)\n",
        "    # skip the header\n",
        "    next(csv_reader)\n",
        "    # show the data\n",
        "    for line in csv_reader:\n",
        "        print(f\"The area of {line['name']} is {line['area']} km2\")\n"
      ]
    },
    {
      "cell_type": "markdown",
      "id": "b457434d",
      "metadata": {
        "id": "b457434d"
      },
      "source": [
        "* If you want to have different field names other than the ones specified in the first line, you can explicitly specify them by passing a list of field names to the DictReader() constructor like this:"
      ]
    },
    {
      "cell_type": "code",
      "execution_count": null,
      "id": "4d901f1c",
      "metadata": {
        "id": "4d901f1c",
        "outputId": "91c26ce8-c32d-422b-a73f-24127dcc734f"
      },
      "outputs": [
        {
          "name": "stdout",
          "output_type": "stream",
          "text": [
            "The area of Afghanistan is 652090.00 km2\n",
            "The area of Albania is 28748.00 km2\n",
            "The area of Algeria is 2381741.00 km2\n",
            "The area of American Samoa is 199.00 km2\n",
            "The area of Andorra is 468.00 km2\n",
            "The area of Angola is 1246700.00 km2\n",
            "The area of Anguilla is 96.00 km2\n",
            "The area of Antarctica is 13120000.00 km2\n",
            "The area of Antigua and Barbuda is 442.00 km2\n",
            "The area of Argentina is 2780400.00 km2\n",
            "The area of Armenia is 29800.00 km2\n",
            "The area of Aruba is 193.00 km2\n",
            "The area of Australia is 7741220.00 km2\n",
            "The area of Austria is 83859.00 km2\n",
            "The area of Azerbaijan is 86600.00 km2\n",
            "The area of Bahamas is 13878.00 km2\n",
            "The area of Bahrain is 694.00 km2\n",
            "The area of Bangladesh is 143998.00 km2\n",
            "The area of Barbados is 430.00 km2\n",
            "The area of Belarus is 207600.00 km2\n",
            "The area of Belgium is 30518.00 km2\n",
            "The area of Belize is 22696.00 km2\n",
            "The area of Benin is 112622.00 km2\n",
            "The area of Bermuda is 53.00 km2\n",
            "The area of Bhutan is 47000.00 km2\n",
            "The area of Bolivia is 1098581.00 km2\n",
            "The area of Bosnia and Herzegovina is 51197.00 km2\n",
            "The area of Botswana is 581730.00 km2\n",
            "The area of Bouvet Island is 59.00 km2\n",
            "The area of Brazil is 8547403.00 km2\n",
            "The area of British Indian Ocean Territory is 78.00 km2\n",
            "The area of Brunei is 5765.00 km2\n",
            "The area of Bulgaria is 110994.00 km2\n",
            "The area of Burkina Faso is 274000.00 km2\n",
            "The area of Burundi is 27834.00 km2\n",
            "The area of Cambodia is 181035.00 km2\n",
            "The area of Cameroon is 475442.00 km2\n",
            "The area of Canada is 9970610.00 km2\n",
            "The area of Cape Verde is 4033.00 km2\n",
            "The area of Cayman Islands is 264.00 km2\n",
            "The area of Central African Republic is 622984.00 km2\n",
            "The area of Chad is 1284000.00 km2\n",
            "The area of Chile is 756626.00 km2\n",
            "The area of China is 9572900.00 km2\n",
            "The area of Christmas Island is 135.00 km2\n",
            "The area of Cocos (Keeling) Islands is 14.00 km2\n",
            "The area of Colombia is 1138914.00 km2\n",
            "The area of Comoros is 1862.00 km2\n",
            "The area of Congo is 342000.00 km2\n",
            "The area of Cook Islands is 236.00 km2\n",
            "The area of Costa Rica is 51100.00 km2\n",
            "The area of Côte d’Ivoire is 322463.00 km2\n",
            "The area of Croatia is 56538.00 km2\n",
            "The area of Cuba is 110861.00 km2\n",
            "The area of Cyprus is 9251.00 km2\n",
            "The area of Czech Republic is 78866.00 km2\n",
            "The area of Denmark is 43094.00 km2\n",
            "The area of Djibouti is 23200.00 km2\n",
            "The area of Dominica is 751.00 km2\n",
            "The area of Dominican Republic is 48511.00 km2\n",
            "The area of East Timor is 14874.00 km2\n",
            "The area of Ecuador is 283561.00 km2\n",
            "The area of Egypt is 1001449.00 km2\n",
            "The area of El Salvador is 21041.00 km2\n",
            "The area of Equatorial Guinea is 28051.00 km2\n",
            "The area of Eritrea is 117600.00 km2\n",
            "The area of Estonia is 45227.00 km2\n",
            "The area of Ethiopia is 1104300.00 km2\n",
            "The area of Falkland Islands is 12173.00 km2\n",
            "The area of Faroe Islands is 1399.00 km2\n",
            "The area of Federated States of Micronesia is 702.00 km2\n",
            "The area of Fiji Islands is 18274.00 km2\n",
            "The area of Finland is 338145.00 km2\n",
            "The area of France is 551500.00 km2\n",
            "The area of French Guiana is 90000.00 km2\n",
            "The area of French Polynesia is 4000.00 km2\n",
            "The area of French Southern territories is 7780.00 km2\n",
            "The area of Gabon is 267668.00 km2\n",
            "The area of Gambia is 11295.00 km2\n",
            "The area of Georgia is 69700.00 km2\n",
            "The area of Germany is 357022.00 km2\n",
            "The area of Ghana is 238533.00 km2\n",
            "The area of Gibraltar is 6.00 km2\n",
            "The area of Greece is 131626.00 km2\n",
            "The area of Greenland is 2166090.00 km2\n",
            "The area of Grenada is 344.00 km2\n",
            "The area of Guadeloupe is 1705.00 km2\n",
            "The area of Guam is 549.00 km2\n",
            "The area of Guatemala is 108889.00 km2\n",
            "The area of Guinea is 245857.00 km2\n",
            "The area of Guinea-Bissau is 36125.00 km2\n",
            "The area of Guyana is 214969.00 km2\n",
            "The area of Haiti is 27750.00 km2\n",
            "The area of Heard Island and McDonald Islands is 359.00 km2\n",
            "The area of Holy See (Vatican City State) is 0.40 km2\n",
            "The area of Honduras is 112088.00 km2\n",
            "The area of Hong Kong is 1075.00 km2\n",
            "The area of Hungary is 93030.00 km2\n",
            "The area of Iceland is 103000.00 km2\n",
            "The area of India is 3287263.00 km2\n",
            "The area of Indonesia is 1904569.00 km2\n",
            "The area of Iran is 1648195.00 km2\n",
            "The area of Iraq is 438317.00 km2\n",
            "The area of Ireland is 70273.00 km2\n",
            "The area of Israel is 21056.00 km2\n",
            "The area of Italy is 301316.00 km2\n",
            "The area of Jamaica is 10990.00 km2\n",
            "The area of Japan is 377829.00 km2\n",
            "The area of Jordan is 88946.00 km2\n",
            "The area of Kazakstan is 2724900.00 km2\n",
            "The area of Kenya is 580367.00 km2\n",
            "The area of Kiribati is 726.00 km2\n",
            "The area of Kuwait is 17818.00 km2\n",
            "The area of Kyrgyzstan is 199900.00 km2\n",
            "The area of Laos is 236800.00 km2\n",
            "The area of Latvia is 64589.00 km2\n",
            "The area of Lebanon is 10400.00 km2\n",
            "The area of Lesotho is 30355.00 km2\n",
            "The area of Liberia is 111369.00 km2\n",
            "The area of Libyan Arab Jamahiriya is 1759540.00 km2\n",
            "The area of Liechtenstein is 160.00 km2\n",
            "The area of Lithuania is 65301.00 km2\n",
            "The area of Luxembourg is 2586.00 km2\n",
            "The area of Macao is 18.00 km2\n",
            "The area of Macedonia is 25713.00 km2\n",
            "The area of Madagascar is 587041.00 km2\n",
            "The area of Malawi is 118484.00 km2\n",
            "The area of Malaysia is 329758.00 km2\n",
            "The area of Maldives is 298.00 km2\n",
            "The area of Mali is 1240192.00 km2\n",
            "The area of Malta is 316.00 km2\n",
            "The area of Marshall Islands is 181.00 km2\n",
            "The area of Martinique is 1102.00 km2\n",
            "The area of Mauritania is 1025520.00 km2\n",
            "The area of Mauritius is 2040.00 km2\n",
            "The area of Mayotte is 373.00 km2\n",
            "The area of Mexico is 1958201.00 km2\n",
            "The area of Moldova is 33851.00 km2\n",
            "The area of Monaco is 1.50 km2\n",
            "The area of Mongolia is 1566500.00 km2\n",
            "The area of Montserrat is 102.00 km2\n",
            "The area of Morocco is 446550.00 km2\n",
            "The area of Mozambique is 801590.00 km2\n",
            "The area of Myanmar is 676578.00 km2\n",
            "The area of Namibia is 824292.00 km2\n",
            "The area of Nauru is 21.00 km2\n",
            "The area of Nepal is 147181.00 km2\n",
            "The area of Netherlands is 41526.00 km2\n",
            "The area of Netherlands Antilles is 800.00 km2\n",
            "The area of New Caledonia is 18575.00 km2\n",
            "The area of New Zealand is 270534.00 km2\n",
            "The area of Nicaragua is 130000.00 km2\n",
            "The area of Niger is 1267000.00 km2\n",
            "The area of Nigeria is 923768.00 km2\n",
            "The area of Niue is 260.00 km2\n",
            "The area of Norfolk Island is 36.00 km2\n",
            "The area of North Korea is 120538.00 km2\n",
            "The area of Northern Mariana Islands is 464.00 km2\n",
            "The area of Norway is 323877.00 km2\n",
            "The area of Oman is 309500.00 km2\n",
            "The area of Pakistan is 796095.00 km2\n",
            "The area of Palau is 459.00 km2\n",
            "The area of Palestine is 6257.00 km2\n",
            "The area of Panama is 75517.00 km2\n",
            "The area of Papua New Guinea is 462840.00 km2\n",
            "The area of Paraguay is 406752.00 km2\n",
            "The area of Peru is 1285216.00 km2\n",
            "The area of Philippines is 300000.00 km2\n",
            "The area of Pitcairn is 49.00 km2\n",
            "The area of Poland is 323250.00 km2\n",
            "The area of Portugal is 91982.00 km2\n",
            "The area of Puerto Rico is 8875.00 km2\n",
            "The area of Qatar is 11000.00 km2\n",
            "The area of Réunion is 2510.00 km2\n",
            "The area of Romania is 238391.00 km2\n",
            "The area of Russian Federation is 17075400.00 km2\n",
            "The area of Rwanda is 26338.00 km2\n",
            "The area of Saint Helena is 314.00 km2\n",
            "The area of Saint Kitts and Nevis is 261.00 km2\n",
            "The area of Saint Lucia is 622.00 km2\n",
            "The area of Saint Pierre and Miquelon is 242.00 km2\n",
            "The area of Saint Vincent and the Grenadines is 388.00 km2\n",
            "The area of Samoa is 2831.00 km2\n",
            "The area of San Marino is 61.00 km2\n",
            "The area of Sao Tome and Principe is 964.00 km2\n",
            "The area of Saudi Arabia is 2149690.00 km2\n",
            "The area of Senegal is 196722.00 km2\n",
            "The area of Seychelles is 455.00 km2\n",
            "The area of Sierra Leone is 71740.00 km2\n",
            "The area of Singapore is 618.00 km2\n",
            "The area of Slovakia is 49012.00 km2\n",
            "The area of Slovenia is 20256.00 km2\n",
            "The area of Solomon Islands is 28896.00 km2\n",
            "The area of Somalia is 637657.00 km2\n",
            "The area of South Africa is 1221037.00 km2\n",
            "The area of South Georgia and the South Sandwich Islands is 3903.00 km2\n",
            "The area of South Korea is 99434.00 km2\n",
            "The area of Spain is 505992.00 km2\n",
            "The area of Sri Lanka is 65610.00 km2\n",
            "The area of Sudan is 2505813.00 km2\n",
            "The area of Suriname is 163265.00 km2\n",
            "The area of Svalbard and Jan Mayen is 62422.00 km2\n",
            "The area of Swaziland is 17364.00 km2\n",
            "The area of Sweden is 449964.00 km2\n",
            "The area of Switzerland is 41284.00 km2\n",
            "The area of Syria is 185180.00 km2\n",
            "The area of Taiwan is 36188.00 km2\n",
            "The area of Tajikistan is 143100.00 km2\n",
            "The area of Tanzania is 883749.00 km2\n",
            "The area of Thailand is 513115.00 km2\n",
            "The area of The Democratic Republic of the Congo is 2344858.00 km2\n",
            "The area of Togo is 56785.00 km2\n",
            "The area of Tokelau is 12.00 km2\n",
            "The area of Tonga is 650.00 km2\n",
            "The area of Trinidad and Tobago is 5130.00 km2\n",
            "The area of Tunisia is 163610.00 km2\n",
            "The area of Turkey is 774815.00 km2\n",
            "The area of Turkmenistan is 488100.00 km2\n",
            "The area of Turks and Caicos Islands is 430.00 km2\n",
            "The area of Tuvalu is 26.00 km2\n",
            "The area of Uganda is 241038.00 km2\n",
            "The area of Ukraine is 603700.00 km2\n",
            "The area of United Arab Emirates is 83600.00 km2\n",
            "The area of United Kingdom is 242900.00 km2\n",
            "The area of United States is 9363520.00 km2\n",
            "The area of United States Minor Outlying Islands is 16.00 km2\n",
            "The area of Uruguay is 175016.00 km2\n",
            "The area of Uzbekistan is 447400.00 km2\n",
            "The area of Vanuatu is 12189.00 km2\n",
            "The area of Venezuela is 912050.00 km2\n",
            "The area of Vietnam is 331689.00 km2\n",
            "The area of Virgin Islands, British is 151.00 km2\n",
            "The area of Virgin Islands, U.S. is 347.00 km2\n",
            "The area of Wallis and Futuna is 200.00 km2\n",
            "The area of Western Sahara is 266000.00 km2\n",
            "The area of Yemen is 527968.00 km2\n",
            "The area of Yugoslavia is 102173.00 km2\n",
            "The area of Zambia is 752618.00 km2\n",
            "The area of Zimbabwe is 390757.00 km2\n"
          ]
        }
      ],
      "source": [
        "import csv\n",
        "\n",
        "fieldnames = ['country_name', 'area', 'code2', 'code3']\n",
        "\n",
        "with open('country.csv', encoding=\"utf8\") as f:\n",
        "    csv_reader = csv.DictReader(f, fieldnames)\n",
        "    next(csv_reader)\n",
        "    for line in csv_reader:\n",
        "        print(f\"The area of {line['country_name']} is {line['area']} km2\")\n"
      ]
    },
    {
      "cell_type": "markdown",
      "id": "62148229",
      "metadata": {
        "id": "62148229"
      },
      "source": [
        "* In this example, instead of using values from the first line as the field names, we explicitly pass a list of field names to the DictReader constructor."
      ]
    },
    {
      "cell_type": "markdown",
      "id": "a30ae054",
      "metadata": {
        "id": "a30ae054"
      },
      "source": [
        "## **Python Write CSV File**\n",
        "### **Steps for writing a CSV file**\n",
        "####  **To write data into a CSV file, you follow these steps:**\n",
        "   * First, open the CSV file for writing **(w mode)** by using the **open()** function.\n",
        "   * Second, create a CSV writer object by calling the **writer()** function of the csv module.\n",
        "   * Third, write data to CSV file by calling the **writerow()** or **writerows()** method of the CSV writer object.\n",
        "   * Finally, close the file once you complete writing data to it.\n",
        "   \n",
        "   \n",
        "* The following code illustrates the above steps:\n",
        "![image.png](attachment:image.png)\n",
        "\n",
        "* It’ll be shorter if you use the with statement so that you don’t need to call the close() method to explicitly close the file:\n",
        "![image-2.png](attachment:image-2.png)\n",
        "\n",
        "* If you’re dealing with non-ASCII characters, you need to specify the character encoding in the open() function.\n",
        "\n",
        "* The following illustrates how to write UTF-8 characters to a CSV file:\n",
        "![image-3.png](attachment:image-3.png)\n",
        "\n",
        "#### **Writing to CSV files example**\n",
        "* The following example shows how to write data to the CSV file:"
      ]
    },
    {
      "cell_type": "code",
      "execution_count": null,
      "id": "4d2ba076",
      "metadata": {
        "id": "4d2ba076"
      },
      "outputs": [],
      "source": [
        "import csv  \n",
        "\n",
        "header = ['name', 'area', 'country_code2', 'country_code3']\n",
        "data = ['Afghanistan', 652090, 'AF', 'AFG']\n",
        "\n",
        "with open('countries.csv', 'w', encoding='UTF8') as f:\n",
        "    writer = csv.writer(f)\n",
        "\n",
        "    # write the header\n",
        "    writer.writerow(header)\n",
        "\n",
        "    # write the data\n",
        "    writer.writerow(data)\n"
      ]
    },
    {
      "cell_type": "markdown",
      "id": "fa22c34f",
      "metadata": {
        "id": "fa22c34f"
      },
      "source": [
        "* If you open the countries.csv, you’ll see one issue that the file contents have an additional blank line between two subsequent rows:\n",
        "![image.png](attachment:image.png)\n",
        "* To remove the blank line, you pass the keyword argument newline='' to the open() function as follows:\n"
      ]
    },
    {
      "cell_type": "code",
      "execution_count": null,
      "id": "02d37064",
      "metadata": {
        "id": "02d37064"
      },
      "outputs": [],
      "source": [
        "import csv\n",
        "\n",
        "header = ['name', 'area', 'country_code2', 'country_code3']\n",
        "data = ['Afghanistan', 652090, 'AF', 'AFG']\n",
        "\n",
        "\n",
        "with open('countries.csv', 'w', encoding='UTF8', newline='') as f:\n",
        "    writer = csv.writer(f)\n",
        "\n",
        "    # write the header\n",
        "    writer.writerow(header)\n",
        "\n",
        "    # write the data\n",
        "    writer.writerow(data)"
      ]
    },
    {
      "cell_type": "markdown",
      "id": "c3e0f1b8",
      "metadata": {
        "id": "c3e0f1b8"
      },
      "source": [
        "![image.png](attachment:image.png)"
      ]
    },
    {
      "cell_type": "markdown",
      "id": "2398c7d9",
      "metadata": {
        "id": "2398c7d9"
      },
      "source": [
        "### **Writing multiple rows to CSV files**\n",
        "* To write multiple rows to a CSV file at once, you use the **writerows()** method of the CSV writer object.\n",
        "\n",
        "* The following uses the writerows() method to write multiple rows into the countries.csv file:\n"
      ]
    },
    {
      "cell_type": "code",
      "execution_count": null,
      "id": "ba273b7e",
      "metadata": {
        "id": "ba273b7e"
      },
      "outputs": [],
      "source": [
        "import csv\n",
        "\n",
        "header = ['name', 'area', 'country_code2', 'country_code3']\n",
        "data = [\n",
        "    ['Albania', 28748, 'AL', 'ALB'],\n",
        "    ['Algeria', 2381741, 'DZ', 'DZA'],\n",
        "    ['American Samoa', 199, 'AS', 'ASM'],\n",
        "    ['Andorra', 468, 'AD', 'AND'],\n",
        "    ['Angola', 1246700, 'AO', 'AGO']\n",
        "]\n",
        "\n",
        "with open('countries.csv', 'w', encoding='UTF8', newline='') as f:\n",
        "    writer = csv.writer(f)\n",
        "\n",
        "    # write the header\n",
        "    writer.writerow(header)\n",
        "\n",
        "    # write multiple rows\n",
        "    writer.writerows(data)\n"
      ]
    },
    {
      "cell_type": "markdown",
      "id": "96d1aacb",
      "metadata": {
        "id": "96d1aacb"
      },
      "source": [
        "#### **Writing to CSV files using the DictWriter class**\n",
        "* If each row of the CSV file is a dictionary, you can use the **DictWriter** class of the csv module to write the dictionary to the CSV file.\n",
        "\n",
        "* The example illustrates how to use the DictWriter class to write data to a CSV file:\n"
      ]
    },
    {
      "cell_type": "code",
      "execution_count": null,
      "id": "f372b081",
      "metadata": {
        "id": "f372b081"
      },
      "outputs": [],
      "source": [
        "import csv\n",
        "\n",
        "# csv header\n",
        "fieldnames = ['name', 'area', 'country_code2', 'country_code3']\n",
        "\n",
        "# csv data\n",
        "rows = [\n",
        "    {'name': 'Albania',\n",
        "    'area': 28748,\n",
        "    'country_code2': 'AL',\n",
        "    'country_code3': 'ALB'},\n",
        "    {'name': 'Algeria',\n",
        "    'area': 2381741,\n",
        "    'country_code2': 'DZ',\n",
        "    'country_code3': 'DZA'},\n",
        "    {'name': 'American Samoa',\n",
        "    'area': 199,\n",
        "    'country_code2': 'AS',\n",
        "    'country_code3': 'ASM'}\n",
        "]\n",
        "\n",
        "with open('countries.csv', 'w', encoding='UTF8', newline='') as f:\n",
        "    writer = csv.DictWriter(f, fieldnames=fieldnames)\n",
        "    writer.writeheader()\n",
        "    writer.writerows(rows)\n"
      ]
    },
    {
      "cell_type": "markdown",
      "id": "c4037f69",
      "metadata": {
        "id": "c4037f69"
      },
      "source": [
        "#### **How it works.**\n",
        "\n",
        "   * First, define variables that hold the field names and data rows of the CSV file.\n",
        "   * Next, open the CSV file for writing by calling the open() function.\n",
        "   * Then, create a new instance of the DictWriter class by passing the file object (f) and fieldnames argument to it.\n",
        "   * After that, write the header for the CSV file by calling the writeheader() method.\n",
        "   * Finally, write data rows to the CSV file using the writerows() method."
      ]
    },
    {
      "cell_type": "code",
      "execution_count": null,
      "id": "169acaf8",
      "metadata": {
        "id": "169acaf8"
      },
      "outputs": [],
      "source": []
    }
  ],
  "metadata": {
    "kernelspec": {
      "display_name": "Python 3 (ipykernel)",
      "language": "python",
      "name": "python3"
    },
    "language_info": {
      "codemirror_mode": {
        "name": "ipython",
        "version": 3
      },
      "file_extension": ".py",
      "mimetype": "text/x-python",
      "name": "python",
      "nbconvert_exporter": "python",
      "pygments_lexer": "ipython3",
      "version": "3.10.4"
    },
    "colab": {
      "provenance": [],
      "include_colab_link": true
    }
  },
  "nbformat": 4,
  "nbformat_minor": 5
}