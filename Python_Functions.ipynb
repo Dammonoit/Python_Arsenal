{
 "cells": [
  {
   "attachments": {
    "image.png": {
     "image/png": "[encoded data removed]"
    }
   },
   "cell_type": "markdown",
   "id": "3bdd5aa6",
   "metadata": {},
   "source": [
    "# **Functions**\n",
    "#### **What is a function?**\n",
    "* A function is a named code block that performs a job or returns a value.\n",
    "\n",
    "#### **Why do you need functions in Python?**\n",
    "* Sometimes, you need to perform a task multiple times in a program. And you don’t want to copy the code for that same task all over places.\n",
    "\n",
    "* To do so, you wrap the code in a function and use this function to perform the task whenever you need it.\n",
    "\n",
    "* For example, whenever you want to display a value on the screen, you need to call the print() function. Behind the scene, Python runs the code inside the print() function to display a value on the screen.\n",
    "\n",
    "* In practice, you use functions to divide a large program into smaller and more manageable parts. The functions will make your program easier to develop, read, test, and maintain.\n",
    "\n",
    "* The print() function is one of many built-in functions in Python. It means that these functions are available everywhere in the program.\n",
    "\n",
    "#### **Defining a Python function**\n",
    "* **1) Function definition**\n",
    "    * A function definition starts with the def keyword and the name of the function (greet).\n",
    "\n",
    "    * If the function needs some information to do its job, you need to specify it inside the parentheses (). The greet function in this example doesn’t need any information, so its parentheses are empty.\n",
    "\n",
    "    * The function definition always ends in a colon (:).\n",
    "* **2) Function body**\n",
    "    * All the indented lines that follow the function definition make up the function’s body.\n",
    "\n",
    "    * The text string surrounded by triple quotes is called a docstring. It describes what the function does. Python uses the docstring to generate documentation for the function automatically.\n",
    "\n",
    "    * The line print('Hi') is the only line of actual code in the function body. The greet() function does one task: print('Hi').\n",
    " \n",
    "* **3) Calling a function**\n",
    "\n",
    "    * When you want to use a function, you need to call it. A function call instructs Python to execute the code inside the function.\n",
    "\n",
    "    * To call a function, you write the function’s name, followed by the information that the function needs in parentheses.\n",
    "\n",
    "    * The following example calls the greet() function. Since the greet() function doesn’t need any information, you need to specify empty parentheses like this:\n",
    "    ![image.png](attachment:image.png)"
   ]
  },
  {
   "cell_type": "code",
   "execution_count": 2,
   "id": "6ea1e400",
   "metadata": {},
   "outputs": [
    {
     "name": "stdout",
     "output_type": "stream",
     "text": [
      "Hi\n"
     ]
    }
   ],
   "source": [
    "def greet():\n",
    "    \"\"\" Display a greeting to users \"\"\"\n",
    "    print('Hi')\n",
    "greet()"
   ]
  },
  {
   "cell_type": "code",
   "execution_count": 3,
   "id": "747b3cad",
   "metadata": {},
   "outputs": [
    {
     "name": "stdout",
     "output_type": "stream",
     "text": [
      "Hi\n"
     ]
    }
   ],
   "source": [
    "h=greet()\n",
    "h"
   ]
  },
  {
   "attachments": {
    "image-2.png": {
     "image/png": "[encoded data removed]"
    },
    "image.png": {
     "image/png": "[encoded data removed]"
    }
   },
   "cell_type": "markdown",
   "id": "8ca3dd50",
   "metadata": {},
   "source": [
    "## **Passing information to Python functions**\n",
    "* Suppose that you want to greet users by their names. To do it, you need to specify a name in parentheses of the function definition as follows:\n",
    "![image.png](attachment:image.png)\n",
    "* The name is called a function parameter or simply parameter.\n",
    "* When you add a parameter to the function definition, you can use it as a variable inside the function body:\n",
    "![image-2.png](attachment:image-2.png)\n",
    "* And you can access the name parameter only within the body of the greet() function, not the outside."
   ]
  },
  {
   "cell_type": "code",
   "execution_count": 5,
   "id": "225de81e",
   "metadata": {},
   "outputs": [
    {
     "name": "stdout",
     "output_type": "stream",
     "text": [
      "Hi John\n"
     ]
    }
   ],
   "source": [
    "def greet(name):\n",
    "    print(f\"Hi {name}\")\n",
    "greet('John')"
   ]
  },
  {
   "cell_type": "markdown",
   "id": "b9084790",
   "metadata": {},
   "source": [
    "* The value that you pass into a function is called an argument. In this example 'John' is an argument.\n",
    "\n",
    "* Also, you can call the function by passing a variable into it:"
   ]
  },
  {
   "cell_type": "code",
   "execution_count": 6,
   "id": "a96710b8",
   "metadata": {},
   "outputs": [
    {
     "name": "stdout",
     "output_type": "stream",
     "text": [
      "Hi Jane\n"
     ]
    }
   ],
   "source": [
    "first_name = 'Jane'\n",
    "greet(first_name)"
   ]
  },
  {
   "cell_type": "markdown",
   "id": "cbb6d5bc",
   "metadata": {},
   "source": [
    "### **Parameters vs. Arguments**\n",
    "* Sometimes, parameters and arguments are used interchangeably. It’s important to distinguish between the parameters and arguments of a function.\n",
    "\n",
    "* A parameter is a piece of information that a function needs. And you specify the parameter in the function definition. For example, the greet() function has a parameter called name.\n",
    "\n",
    "* An argument is a piece of data that you pass into the function. For example, the text string 'John' or the variable jane is the function argument."
   ]
  },
  {
   "attachments": {
    "image-2.png": {
     "image/png": "[encoded data removed]"
    },
    "image.png": {
     "image/png": "[encoded data removed]"
    }
   },
   "cell_type": "markdown",
   "id": "55d7b7bc",
   "metadata": {},
   "source": [
    "### **Returning a value**\n",
    "* A function can perform a task like the greet() function. Or it can return a value. The value that a function returns is called a return value.\n",
    "\n",
    "* To return a value from a function, you use the return statement inside the function body.\n",
    "![image.png](attachment:image.png)\n",
    "* The following example modifies the greet() function to return a greeting instead of displaying it on the screen:\n",
    "![image-2.png](attachment:image-2.png)"
   ]
  },
  {
   "cell_type": "code",
   "execution_count": 7,
   "id": "6b98f901",
   "metadata": {},
   "outputs": [
    {
     "name": "stdout",
     "output_type": "stream",
     "text": [
      "Hi John\n"
     ]
    }
   ],
   "source": [
    "def greet(name):\n",
    "    return f\"Hi {name}\"\n",
    "greeting = greet('John')\n",
    "print(greeting)"
   ]
  },
  {
   "cell_type": "markdown",
   "id": "c99906ee",
   "metadata": {},
   "source": [
    "### **Python functions with multiple parameters**\n",
    "* A function can have zero, one, or multiple parameters."
   ]
  },
  {
   "cell_type": "code",
   "execution_count": 8,
   "id": "38869730",
   "metadata": {},
   "outputs": [
    {
     "name": "stdout",
     "output_type": "stream",
     "text": [
      "30\n"
     ]
    }
   ],
   "source": [
    "def sum(a, b):\n",
    "    return a + b\n",
    "\n",
    "\n",
    "total = sum(10,20)\n",
    "print(total)"
   ]
  },
  {
   "cell_type": "markdown",
   "id": "d639579f",
   "metadata": {},
   "source": [
    "* In this example, the sum() function has two parameters a and b, and returns the sum of them.\n",
    "\n",
    "* When a function has multiple parameters, you need to use a comma to separate them.\n",
    "\n",
    "* When you call the function, you need to pass all the arguments. If you pass more or fewer arguments to the function, you’ll get an error.\n",
    "\n",
    "* In the above function call, a will be 10 and b will be 20 inside the function body."
   ]
  },
  {
   "attachments": {
    "image-2.png": {
     "image/png": "[encoded data removed]"
    },
    "image.png": {
     "image/png": "[encoded data removed]"
    }
   },
   "cell_type": "markdown",
   "id": "37057efc",
   "metadata": {},
   "source": [
    "## **Python Default Parameters**\n",
    "* When you define a function, you can specify a default value for each parameter.\n",
    "* To specify default values for parameters, you use the following syntax:\n",
    "![image.png](attachment:image.png)\n",
    "* In this syntax, you specify default values (value2, value3, …) for each parameter using the assignment operator (=).\n",
    "\n",
    "* When you call a function and pass an argument to the parameter that has a default value, the function will use that argument instead of the default value.\n",
    "\n",
    "* However, if you don’t pass the argument, the function will use the default value.\n",
    "\n",
    "* To use default parameters, you need to place parameters with the default values after other parameters. Otherwise, you’ll get a syntax error.\n",
    "* For example, you cannot do something like this:\n",
    "![image-2.png](attachment:image-2.png)"
   ]
  },
  {
   "cell_type": "code",
   "execution_count": 9,
   "id": "cc435eff",
   "metadata": {},
   "outputs": [
    {
     "data": {
      "text/plain": [
       "'Hi John'"
      ]
     },
     "execution_count": 9,
     "metadata": {},
     "output_type": "execute_result"
    }
   ],
   "source": [
    "def greet(name, message='Hi'):\n",
    "    return f\"{message} {name}\"\n",
    "greet('John')"
   ]
  },
  {
   "cell_type": "code",
   "execution_count": 10,
   "id": "10a2ed1a",
   "metadata": {},
   "outputs": [
    {
     "name": "stdout",
     "output_type": "stream",
     "text": [
      "Hello John\n"
     ]
    }
   ],
   "source": [
    "greeting = greet('John', 'Hello')\n",
    "print(greeting)"
   ]
  },
  {
   "cell_type": "markdown",
   "id": "1cc3a70a",
   "metadata": {},
   "source": [
    "### **Multiple default parameters**"
   ]
  },
  {
   "cell_type": "code",
   "execution_count": 11,
   "id": "d87dd6c3",
   "metadata": {},
   "outputs": [
    {
     "name": "stdout",
     "output_type": "stream",
     "text": [
      "Hi there\n"
     ]
    }
   ],
   "source": [
    "def greet(name='there', message='Hi'):\n",
    "    return f\"{message} {name}\"\n",
    "\n",
    "\n",
    "greeting = greet()\n",
    "print(greeting)"
   ]
  },
  {
   "cell_type": "markdown",
   "id": "a27add1e",
   "metadata": {},
   "source": [
    "* Suppose that you want the greet() function to return a greeting like **Hello there**. You may come up with the following function call:\n",
    "* Unfortuntely, it returns an unexpected value:**Hi Hello**\n",
    "* Because when you pass the 'Hello' argument, the greet() function treats it as the first argument, not the second one."
   ]
  },
  {
   "cell_type": "code",
   "execution_count": 12,
   "id": "6426b373",
   "metadata": {},
   "outputs": [
    {
     "name": "stdout",
     "output_type": "stream",
     "text": [
      "Hi Hello\n"
     ]
    }
   ],
   "source": [
    "greeting = greet('Hello')\n",
    "print(greeting)"
   ]
  },
  {
   "cell_type": "markdown",
   "id": "0b366894",
   "metadata": {},
   "source": [
    "* To resolve this, you need to call the greet() function using keyword arguments like this:"
   ]
  },
  {
   "cell_type": "code",
   "execution_count": 13,
   "id": "f7ec23db",
   "metadata": {},
   "outputs": [
    {
     "name": "stdout",
     "output_type": "stream",
     "text": [
      "Hello there\n"
     ]
    }
   ],
   "source": [
    "def greet(name='there', message='Hi'):\n",
    "    return f\"{message} {name}\"\n",
    "\n",
    "\n",
    "greeting = greet(message='Hello')\n",
    "print(greeting)"
   ]
  },
  {
   "cell_type": "markdown",
   "id": "2abae15b",
   "metadata": {},
   "source": [
    "## **Python Keyword Arguments**\n",
    "* Let’s start with a simple function that calculates the net price from the selling price and discount:"
   ]
  },
  {
   "cell_type": "code",
   "execution_count": 14,
   "id": "e7094704",
   "metadata": {},
   "outputs": [],
   "source": [
    "def get_net_price(price, discount):\n",
    "    return price * (1-discount)"
   ]
  },
  {
   "cell_type": "markdown",
   "id": "d8a8f1fa",
   "metadata": {},
   "source": [
    "* The get_net_price() function has two parameters: price and discount.\n",
    "\n",
    "* The following shows how to call the get_net_price() function to calculate the net price from the price 100 and discount 10%:"
   ]
  },
  {
   "cell_type": "code",
   "execution_count": 15,
   "id": "3fde725b",
   "metadata": {},
   "outputs": [
    {
     "name": "stdout",
     "output_type": "stream",
     "text": [
      "90.0\n"
     ]
    }
   ],
   "source": [
    "net_price = get_net_price(100, 0.1)\n",
    "print(net_price)"
   ]
  },
  {
   "cell_type": "markdown",
   "id": "2fac5c6b",
   "metadata": {},
   "source": [
    "* In the get_net_price(100, 0.1) function call, we pass each argument as a positional argument. In other words, we pass the price argument first and the discount argument second.\n",
    "\n",
    "* However, the function call get_net_price(100, 0.1) has a readability issue. Because by looking at that function call only, you don’t know which argument is price and which one is the discount.\n",
    "\n",
    "* On top of that, when you call the get_net_price() function, you need to know the position of each argument.\n",
    "\n",
    "* If you don’t, the function will calculate the net_price incorrectly. For example:"
   ]
  },
  {
   "cell_type": "code",
   "execution_count": 16,
   "id": "c7d5300b",
   "metadata": {},
   "outputs": [
    {
     "name": "stdout",
     "output_type": "stream",
     "text": [
      "-9.9\n"
     ]
    }
   ],
   "source": [
    "net_price = get_net_price(0.1, 100)\n",
    "print(net_price)"
   ]
  },
  {
   "attachments": {
    "image-2.png": {
     "image/png": "[encoded data removed]"
    },
    "image.png": {
     "image/png": "[encoded data removed]"
    }
   },
   "cell_type": "markdown",
   "id": "387fdcd8",
   "metadata": {},
   "source": [
    "* To improve the readability, Python introduces the keyword arguments.\n",
    "\n",
    "* The following shows the keyword argument syntax:\n",
    "![image.png](attachment:image.png)\n",
    "* By using the keyword argument syntax, you don’t need to specify the arguments in the same order as defined in the function.\n",
    "* Therefore, you can call a function by swapping the argument positions like this:\n",
    "![image-2.png](attachment:image-2.png)"
   ]
  },
  {
   "cell_type": "code",
   "execution_count": 17,
   "id": "e49f68c8",
   "metadata": {},
   "outputs": [
    {
     "data": {
      "text/plain": [
       "90.0"
      ]
     },
     "execution_count": 17,
     "metadata": {},
     "output_type": "execute_result"
    }
   ],
   "source": [
    "#The following shows how to use the keyword argument syntax to call the get_net_price() function:\n",
    "net_price = get_net_price(price=100, discount=0.1)\n",
    "net_price"
   ]
  },
  {
   "cell_type": "code",
   "execution_count": 18,
   "id": "abcab42f",
   "metadata": {},
   "outputs": [
    {
     "data": {
      "text/plain": [
       "90.0"
      ]
     },
     "execution_count": 18,
     "metadata": {},
     "output_type": "execute_result"
    }
   ],
   "source": [
    "net_price = get_net_price(discount=0.1, price=100)\n",
    "net_price"
   ]
  },
  {
   "attachments": {
    "image.png": {
     "image/png": "[encoded data removed]"
    }
   },
   "cell_type": "markdown",
   "id": "9f363fc9",
   "metadata": {},
   "source": [
    "* Both of them returns the same result.\n",
    "\n",
    "* When you use the keyword arguments, their names that matter, not their positions.\n",
    "\n",
    "* Note that you can call a function by mixing positional and keyword arguments. For example:\n",
    "![image.png](attachment:image.png)"
   ]
  },
  {
   "cell_type": "markdown",
   "id": "f31b9ff8",
   "metadata": {},
   "source": [
    "### *Keyword arguments and default parameters**\n",
    "* Suppose that you have the following get_net_price() function that calculates the net price from the selling price, tax, and discount."
   ]
  },
  {
   "cell_type": "code",
   "execution_count": 19,
   "id": "083af5a0",
   "metadata": {},
   "outputs": [],
   "source": [
    "#In the get_net_price() function, the tax and discount parameters have default values of 7% and 5% respectively.\n",
    "def get_net_price(price, tax=0.07, discount=0.05):\n",
    "    return price * (1 + tax - discount)"
   ]
  },
  {
   "cell_type": "markdown",
   "id": "bf7ce13d",
   "metadata": {},
   "source": [
    "* The following calls the get_net_price() function and uses the default values for tax and discount parameters:"
   ]
  },
  {
   "cell_type": "code",
   "execution_count": 20,
   "id": "925c77eb",
   "metadata": {},
   "outputs": [
    {
     "name": "stdout",
     "output_type": "stream",
     "text": [
      "102.0\n"
     ]
    }
   ],
   "source": [
    "net_price = get_net_price(100)\n",
    "print(net_price)"
   ]
  },
  {
   "cell_type": "markdown",
   "id": "c86b20bc",
   "metadata": {},
   "source": [
    "* Suppose that you want to use the default value for the tax parameter but not discount. The following function call doesn’t work correctly."
   ]
  },
  {
   "cell_type": "code",
   "execution_count": 24,
   "id": "934a6e40",
   "metadata": {},
   "outputs": [
    {
     "data": {
      "text/plain": [
       "101.0"
      ]
     },
     "execution_count": 24,
     "metadata": {},
     "output_type": "execute_result"
    }
   ],
   "source": [
    "net_price = get_net_price(100, 0.06)\n",
    "net_price"
   ]
  },
  {
   "cell_type": "markdown",
   "id": "0a5a1f7a",
   "metadata": {},
   "source": [
    "* because Python will assign 100 to price and 0.1 to tax, not discount.\n",
    "* To fix this, you must use keyword arguments:"
   ]
  },
  {
   "cell_type": "code",
   "execution_count": 23,
   "id": "21179199",
   "metadata": {},
   "outputs": [
    {
     "name": "stdout",
     "output_type": "stream",
     "text": [
      "101.0\n"
     ]
    }
   ],
   "source": [
    "net_price = get_net_price(price=100, discount=0.06)\n",
    "print(net_price)"
   ]
  },
  {
   "cell_type": "code",
   "execution_count": 25,
   "id": "27cb344f",
   "metadata": {},
   "outputs": [
    {
     "name": "stdout",
     "output_type": "stream",
     "text": [
      "101.0\n"
     ]
    }
   ],
   "source": [
    "#Or you can mix the positional and keyword arguments:\n",
    "net_price = get_net_price(100, discount=0.06)\n",
    "print(net_price)"
   ]
  },
  {
   "cell_type": "markdown",
   "id": "ab6d3f02",
   "metadata": {},
   "source": [
    "#### **Python keyword argument requirements**\n",
    "* Once you use a keyword argument, you need to use keyword arguments for the remaining parameters.\n",
    "* The following will result in an error because it uses the positional argument after a keyword argument:"
   ]
  },
  {
   "cell_type": "code",
   "execution_count": 26,
   "id": "b06abd54",
   "metadata": {},
   "outputs": [
    {
     "ename": "SyntaxError",
     "evalue": "positional argument follows keyword argument (1414197187.py, line 1)",
     "output_type": "error",
     "traceback": [
      "\u001b[1;36m  Input \u001b[1;32mIn [26]\u001b[1;36m\u001b[0m\n\u001b[1;33m    net_price = get_net_price(100, tax=0.08, 0.06)\u001b[0m\n\u001b[1;37m                                                 ^\u001b[0m\n\u001b[1;31mSyntaxError\u001b[0m\u001b[1;31m:\u001b[0m positional argument follows keyword argument\n"
     ]
    }
   ],
   "source": [
    "net_price = get_net_price(100, tax=0.08, 0.06)"
   ]
  },
  {
   "cell_type": "markdown",
   "id": "7f55f0b3",
   "metadata": {},
   "source": [
    "* To fix this, you need to use the keyword argument for the third argument like this:"
   ]
  },
  {
   "cell_type": "code",
   "execution_count": 27,
   "id": "21ac77a8",
   "metadata": {},
   "outputs": [
    {
     "name": "stdout",
     "output_type": "stream",
     "text": [
      "102.0\n"
     ]
    }
   ],
   "source": [
    "net_price = get_net_price(100, tax=0.08, discount=0.06)\n",
    "print(net_price)"
   ]
  },
  {
   "attachments": {
    "image-2.png": {
     "image/png": "[encoded data removed]"
    },
    "image.png": {
     "image/png": "[encoded data removed]"
    }
   },
   "cell_type": "markdown",
   "id": "1801cec3",
   "metadata": {},
   "source": [
    "## **Python Recursive Functions**\n",
    "* A recursive function is a function that calls itself until it doesn’t.\n",
    "* The following **fn()** function is a recursive function because it has a call to itself:\n",
    "![image.png](attachment:image.png)\n",
    "* In the fn() function, the #... means other code.\n",
    "\n",
    "* Also, a recursive function needs to have a condition to stop calling itself. So you need to add an if statement like this:\n",
    "![image-2.png](attachment:image-2.png)\n",
    "* Typically, you use a recursive function to divide a big problem that’s difficult to solve into smaller problems that are easier-to-solve.\n",
    "\n",
    "* In programming, you’ll often find the recursive functions used in data structures and algorithms like trees, graphs, and binary searches."
   ]
  },
  {
   "cell_type": "code",
   "execution_count": null,
   "id": "7de48b05",
   "metadata": {},
   "outputs": [],
   "source": [
    "#Suppose you need to develop a countdown function that counts down from a specified number to zero.\n",
    "def count_down(start):\n",
    "    \"\"\" Count down from a number  \"\"\"\n",
    "    print(start)\n",
    "    count_down(start-1)\n",
    "\n",
    "\n",
    "count_down(3)"
   ]
  },
  {
   "attachments": {
    "image.png": {
     "image/png": "[encoded data removed]"
    }
   },
   "cell_type": "markdown",
   "id": "46ed81ee",
   "metadata": {},
   "source": [
    "* If you execute the program, you’ll see the following error:\n",
    "![image.png](attachment:image.png)\n",
    "* The reason is that the count_down() calls itself indefinitely until the system stops it.\n",
    "\n",
    "* Since you need to stop counting down the number reaches zero. To do so, you add a condition like this:"
   ]
  },
  {
   "cell_type": "code",
   "execution_count": 1,
   "id": "bda14bca",
   "metadata": {},
   "outputs": [
    {
     "name": "stdout",
     "output_type": "stream",
     "text": [
      "3\n",
      "2\n",
      "1\n"
     ]
    }
   ],
   "source": [
    "def count_down(start):\n",
    "    \"\"\" Count down from a number  \"\"\"\n",
    "    print(start)\n",
    "\n",
    "    # call the count_down if the next\n",
    "    # number is greater than 0\n",
    "    next = start - 1\n",
    "    if next > 0:\n",
    "        count_down(next)\n",
    "\n",
    "\n",
    "count_down(3)"
   ]
  },
  {
   "cell_type": "code",
   "execution_count": 3,
   "id": "b8c06980",
   "metadata": {},
   "outputs": [
    {
     "name": "stdout",
     "output_type": "stream",
     "text": [
      "5050\n"
     ]
    }
   ],
   "source": [
    "#Using a non-recursive recursive function to calculate the sum of a sequence\n",
    "def sum(n):\n",
    "    total = 0\n",
    "    for index in range(n+1):\n",
    "        total += index\n",
    "\n",
    "    return total\n",
    "\n",
    "\n",
    "result = sum(100)\n",
    "print(result)"
   ]
  },
  {
   "cell_type": "code",
   "execution_count": 4,
   "id": "7fd414de",
   "metadata": {},
   "outputs": [
    {
     "name": "stdout",
     "output_type": "stream",
     "text": [
      "5050\n"
     ]
    }
   ],
   "source": [
    "##Using a recursive recursive function to calculate the sum of a sequence\n",
    "def sum(n):\n",
    "    if n > 0:\n",
    "        return n + sum(n-1)\n",
    "    return 0\n",
    "\n",
    "\n",
    "result = sum(100)\n",
    "print(result)"
   ]
  },
  {
   "cell_type": "markdown",
   "id": "d096b881",
   "metadata": {},
   "source": [
    "* If you use the ternary operator, the sum() will be even more concise:"
   ]
  },
  {
   "cell_type": "code",
   "execution_count": 5,
   "id": "21760bc6",
   "metadata": {},
   "outputs": [
    {
     "name": "stdout",
     "output_type": "stream",
     "text": [
      "5050\n"
     ]
    }
   ],
   "source": [
    "def sum(n):\n",
    "    return n + sum(n-1) if n > 0 else 0\n",
    "\n",
    "\n",
    "result = sum(100)\n",
    "print(result)"
   ]
  },
  {
   "attachments": {
    "image-2.png": {
     "image/png": "[encoded data removed]"
    },
    "image.png": {
     "image/png": "[encoded data removed]"
    }
   },
   "cell_type": "markdown",
   "id": "15027261",
   "metadata": {},
   "source": [
    "## **Python Lambda Expressions**\n",
    "* Sometimes, you need to write a simple function that contains one expression. However, you need to use this function once. And it’ll unnecessary to define that function with the def keyword.\n",
    "\n",
    "* That’s where the Python lambda expressions come into play.\n",
    "#### **What are Python lambda expressions?**\n",
    "    * Python lambda expressions allow you to define anonymous functions.\n",
    "\n",
    "    * Anonymous functions are functions without names. The anonymous functions are useful when you need to use them once.\n",
    "\n",
    "    * A lambda expression typically contains one or more arguments, but it can have only one expression.\n",
    "\n",
    "    * The following shows the lambda expression syntax:\n",
    "    ![image.png](attachment:image.png)\n",
    "    * It’s equivalent to the following function without the \"anonymous\" name:\n",
    "    ![image-2.png](attachment:image-2.png)"
   ]
  },
  {
   "cell_type": "code",
   "execution_count": 6,
   "id": "77966cfe",
   "metadata": {},
   "outputs": [],
   "source": [
    "#The following defines a function called get_full_name() that format the full name from the first name and last name:\n",
    "def get_full_name(first_name, last_name, formatter):\n",
    "    return formatter(first_name, last_name)"
   ]
  },
  {
   "cell_type": "markdown",
   "id": "27e4fbd4",
   "metadata": {},
   "source": [
    "* A function that will format the full name (formatter). In turn, the formatter function accepts two arguments first name and last name.\n",
    "* The following defines two functions that return a full name from the first name and last name in different formats:"
   ]
  },
  {
   "cell_type": "code",
   "execution_count": 7,
   "id": "f01d70bd",
   "metadata": {},
   "outputs": [],
   "source": [
    "def first_last(first_name, last_name):\n",
    "    return f\"{first_name} {last_name}\"\n",
    "\n",
    "\n",
    "def last_first(first_name, last_name):\n",
    "    return f\"{last_name}, {first_name}\""
   ]
  },
  {
   "cell_type": "markdown",
   "id": "afedc22a",
   "metadata": {},
   "source": [
    "* And this shows you how to call the get_full_name() function by passing the first name, last name, and first_last / last_first functions:"
   ]
  },
  {
   "cell_type": "code",
   "execution_count": 8,
   "id": "877c2639",
   "metadata": {},
   "outputs": [
    {
     "name": "stdout",
     "output_type": "stream",
     "text": [
      "John Doe\n",
      "Doe, John\n"
     ]
    }
   ],
   "source": [
    "full_name = get_full_name('John', 'Doe', first_last)\n",
    "print(full_name) # John Doe\n",
    "\n",
    "full_name = get_full_name('John', 'Doe', last_first)\n",
    "print(full_name) #  Doe, John"
   ]
  },
  {
   "cell_type": "markdown",
   "id": "9c744af8",
   "metadata": {},
   "source": [
    "* Instead of defining the first_last and last_first functions, you can use lambda expressions.\n",
    "\n",
    "* For example, you can express the first_last function using the following lambda expression:"
   ]
  },
  {
   "cell_type": "code",
   "execution_count": 9,
   "id": "b0bbafaa",
   "metadata": {},
   "outputs": [
    {
     "data": {
      "text/plain": [
       "<function __main__.<lambda>(first_name, last_name)>"
      ]
     },
     "execution_count": 9,
     "metadata": {},
     "output_type": "execute_result"
    }
   ],
   "source": [
    "#This lambda expression accepts two arguments and concatenates them into a formatted string in the order first_name, space, and last_name.\n",
    "lambda first_name,last_name: f\"{first_name} {last_name}\""
   ]
  },
  {
   "cell_type": "code",
   "execution_count": 10,
   "id": "1d97554d",
   "metadata": {},
   "outputs": [],
   "source": [
    "#And the following converts the last_first function using a lambda expression that returns the full name in the format: last name, space, and first name:\n",
    "lambda first_name, last_name: f\"{last_name} {first_name}\";"
   ]
  },
  {
   "cell_type": "code",
   "execution_count": 11,
   "id": "f529cf9a",
   "metadata": {},
   "outputs": [
    {
     "name": "stdout",
     "output_type": "stream",
     "text": [
      "John Doe\n",
      "Doe John\n"
     ]
    }
   ],
   "source": [
    "#By using lambda expressions, you can call the get_full_name() function as follows:\n",
    "def get_full_name(first_name, last_name, formatter):\n",
    "    return formatter(first_name, last_name)\n",
    "\n",
    "\n",
    "full_name = get_full_name(\n",
    "    'John',\n",
    "    'Doe',\n",
    "    lambda first_name, last_name: f\"{first_name} {last_name}\"\n",
    ")\n",
    "print(full_name)\n",
    "\n",
    "full_name = get_full_name(\n",
    "    'John',\n",
    "    'Doe',\n",
    "    lambda first_name, last_name: f\"{last_name} {first_name}\"\n",
    ")\n",
    "print(full_name)\n"
   ]
  },
  {
   "cell_type": "markdown",
   "id": "1e4306d1",
   "metadata": {},
   "source": [
    "* Functions that return a function example"
   ]
  },
  {
   "cell_type": "code",
   "execution_count": 17,
   "id": "7a2cabd0",
   "metadata": {},
   "outputs": [
    {
     "data": {
      "text/plain": [
       "<function __main__.times.<locals>.<lambda>(x)>"
      ]
     },
     "execution_count": 17,
     "metadata": {},
     "output_type": "execute_result"
    }
   ],
   "source": [
    "#The following times() function returns a function which is a lambda expression:\n",
    "def times(n):\n",
    "    return lambda x: x * n\n",
    "result = double = times(2)\n",
    "result"
   ]
  },
  {
   "cell_type": "code",
   "execution_count": 18,
   "id": "90c7e3b5",
   "metadata": {},
   "outputs": [
    {
     "data": {
      "text/plain": [
       "<function __main__.times.<locals>.<lambda>(x)>"
      ]
     },
     "execution_count": 18,
     "metadata": {},
     "output_type": "execute_result"
    }
   ],
   "source": [
    "result = double = times(3)\n",
    "result"
   ]
  },
  {
   "cell_type": "markdown",
   "id": "a05fd7e4",
   "metadata": {},
   "source": [
    "* Python lambda in a loop"
   ]
  },
  {
   "cell_type": "code",
   "execution_count": 19,
   "id": "f2609e4c",
   "metadata": {},
   "outputs": [
    {
     "name": "stdout",
     "output_type": "stream",
     "text": [
      "3\n",
      "3\n",
      "3\n"
     ]
    }
   ],
   "source": [
    "callables = []\n",
    "for i in (1, 2, 3):\n",
    "    callables.append(lambda: i)\n",
    "\n",
    "for f in callables:\n",
    "    print(f())"
   ]
  },
  {
   "attachments": {
    "image.png": {
     "image/png": "[encoded data removed]"
    }
   },
   "cell_type": "markdown",
   "id": "96f169ff",
   "metadata": {},
   "source": [
    "* The expected output will be:\n",
    "![image.png](attachment:image.png)\n",
    "* The problem is that all the there lambda expressions reference the i variable, not the current value of i. When you call the lambda expressions, the value of the variable i is 3.\n",
    "\n",
    "* To fix this, you need to bind the i variable to each lambda expression at the time the lambda expression is created. One way to do it is to use the default argument:"
   ]
  },
  {
   "cell_type": "code",
   "execution_count": 20,
   "id": "19ae20fa",
   "metadata": {},
   "outputs": [
    {
     "name": "stdout",
     "output_type": "stream",
     "text": [
      "1\n",
      "2\n",
      "3\n"
     ]
    }
   ],
   "source": [
    "callables = []\n",
    "for i in (1, 2, 3):\n",
    "    callables.append(lambda a=i: a)\n",
    "\n",
    "for f in callables:\n",
    "    print(f())"
   ]
  },
  {
   "cell_type": "markdown",
   "id": "7fbac9ad",
   "metadata": {},
   "source": [
    "## **Python Function Docstrings**\n",
    "* Python provides a built-in function called help() that allows you to show the documentation of a function.\n",
    "\n",
    "* The following example shows the documentation of the print() function:"
   ]
  },
  {
   "cell_type": "code",
   "execution_count": 21,
   "id": "846f6f9c",
   "metadata": {},
   "outputs": [
    {
     "name": "stdout",
     "output_type": "stream",
     "text": [
      "Help on built-in function print in module builtins:\n",
      "\n",
      "print(...)\n",
      "    print(value, ..., sep=' ', end='\\n', file=sys.stdout, flush=False)\n",
      "    \n",
      "    Prints the values to a stream, or to sys.stdout by default.\n",
      "    Optional keyword arguments:\n",
      "    file:  a file-like object (stream); defaults to the current sys.stdout.\n",
      "    sep:   string inserted between values, default a space.\n",
      "    end:   string appended after the last value, default a newline.\n",
      "    flush: whether to forcibly flush the stream.\n",
      "\n"
     ]
    }
   ],
   "source": [
    "help(print)"
   ]
  },
  {
   "cell_type": "markdown",
   "id": "fe3dd270",
   "metadata": {},
   "source": [
    "#### **Using docstrings to document functions**\n",
    "\n",
    "* To document your functions, you can use docstrings. The **PEP 257** provides the docstring conventions.\n",
    "\n",
    "* When the first line in the function body is a string, Python will interpret it as a docstring. For example:"
   ]
  },
  {
   "cell_type": "code",
   "execution_count": 22,
   "id": "e089111c",
   "metadata": {},
   "outputs": [],
   "source": [
    "def add(a, b):\n",
    "    \"Return the sum of two arguments\"\n",
    "    return a + b"
   ]
  },
  {
   "cell_type": "code",
   "execution_count": 23,
   "id": "8e56320e",
   "metadata": {},
   "outputs": [
    {
     "name": "stdout",
     "output_type": "stream",
     "text": [
      "Help on function add in module __main__:\n",
      "\n",
      "add(a, b)\n",
      "    Return the sum of two arguments\n",
      "\n"
     ]
    }
   ],
   "source": [
    "#And you can use the help() function to find the documentation of the add() function:\n",
    "help(add)"
   ]
  },
  {
   "cell_type": "markdown",
   "id": "031e6330",
   "metadata": {},
   "source": [
    "* Typically, you use multi-line docstrings:"
   ]
  },
  {
   "cell_type": "code",
   "execution_count": 24,
   "id": "66b44a32",
   "metadata": {},
   "outputs": [],
   "source": [
    "def add(a, b):\n",
    "    \"\"\" Add two arguments\n",
    "    Arguments:\n",
    "        a: an integer\n",
    "        b: an integer\n",
    "    Returns:\n",
    "        The sum of the two arguments\n",
    "    \"\"\"\n",
    "    return a + b"
   ]
  },
  {
   "cell_type": "markdown",
   "id": "7125d43f",
   "metadata": {},
   "source": [
    "* Python stores the docstrings in the __doc__ property of the function.\n",
    "\n",
    "* The following example shows how to access the __doc__ property of the add() function:"
   ]
  },
  {
   "cell_type": "code",
   "execution_count": 25,
   "id": "a7645ca7",
   "metadata": {},
   "outputs": [
    {
     "data": {
      "text/plain": [
       "' Add two arguments\\n    Arguments:\\n        a: an integer\\n        b: an integer\\n    Returns:\\n        The sum of the two arguments\\n    '"
      ]
     },
     "execution_count": 25,
     "metadata": {},
     "output_type": "execute_result"
    }
   ],
   "source": [
    "add.__doc__"
   ]
  },
  {
   "cell_type": "code",
   "execution_count": null,
   "id": "dc3878bf",
   "metadata": {},
   "outputs": [],
   "source": []
  }
 ],
 "metadata": {
  "kernelspec": {
   "display_name": "Python 3 (ipykernel)",
   "language": "python",
   "name": "python3"
  },
  "language_info": {
   "codemirror_mode": {
    "name": "ipython",
    "version": 3
   },
   "file_extension": ".py",
   "mimetype": "text/x-python",
   "name": "python",
   "nbconvert_exporter": "python",
   "pygments_lexer": "ipython3",
   "version": "3.10.4"
  }
 },
 "nbformat": 4,
 "nbformat_minor": 5
}
