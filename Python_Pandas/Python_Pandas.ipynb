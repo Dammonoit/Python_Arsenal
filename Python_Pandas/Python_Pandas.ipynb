{
 "cells": [
  {
   "attachments": {
    "image.png": {
     "image/png": "[encoded data removed]"
    }
   },
   "cell_type": "markdown",
   "id": "04d7d288",
   "metadata": {},
   "source": [
    "## **Python Pandas**\n",
    "* Pandas is a Python library created by Wes McKinney, who built pandas to help work with datasets in Python for his work in finance at his place of employment.\n",
    "\n",
    "* According to the library’s website, pandas is “a fast, powerful, flexible and easy to use open source data analysis and manipulation tool, built on top of the Python programming language.”\n",
    "\n",
    "* Pandas stands for ‘panel data’. Note that pandas is typically stylized as an all-lowercase word, although it is considered a best practice to capitalize its first letter at the beginning of sentences.\n",
    "\n",
    "* Pandas is an open source library, which means that anyone can view its source code and make suggestions using pull requests. If you are curious about this, visit the pandas source code repository on GitHub\n",
    "\n",
    "## **The Main Benefit of Pandas**\n",
    "* Pandas was designed to work with two-dimensional data (similar to Excel spreadsheets). \n",
    "* Just as the NumPy library had a built-in data structure called an array with special attributes and methods, the pandas library has a built-in two-dimensional data structure called a **DataFrame.**\n",
    "\n",
    "## Pandas Series\n",
    "* Series are a special type of data structure available in the pandas Python library. \n",
    "* Pandas Series are similar to NumPy arrays, except that we can give them a named or datetime index instead of just a numerical index.\n",
    "\n",
    "## **The Imports You’ll Require To Work With Pandas Series**\n",
    "* To work with pandas Series, you’ll need to import both NumPy and pandas, as follows:\n",
    "![image.png](attachment:image.png)"
   ]
  },
  {
   "cell_type": "code",
   "execution_count": 1,
   "id": "9f324287",
   "metadata": {},
   "outputs": [],
   "source": [
    "import numpy as np\n",
    "\n",
    "import pandas as pd\n"
   ]
  },
  {
   "cell_type": "code",
   "execution_count": 3,
   "id": "e94ccd09",
   "metadata": {},
   "outputs": [
    {
     "name": "stdout",
     "output_type": "stream",
     "text": [
      "Name: numpy\n",
      "Version: 1.22.4\n",
      "Summary: NumPy is the fundamental package for array computing with Python.\n",
      "Home-page: https://www.numpy.org\n",
      "Author: Travis E. Oliphant et al.\n",
      "Author-email: \n",
      "License: BSD\n",
      "Location: c:\\users\\dnc11\\appdata\\local\\programs\\python\\python310\\lib\\site-packages\n",
      "Requires: \n",
      "Required-by: pandas\n",
      "Note: you may need to restart the kernel to use updated packages.\n"
     ]
    }
   ],
   "source": [
    "pip show numpy"
   ]
  },
  {
   "cell_type": "code",
   "execution_count": 4,
   "id": "541dfd0e",
   "metadata": {},
   "outputs": [
    {
     "name": "stdout",
     "output_type": "stream",
     "text": [
      "Name: pandas\n",
      "Version: 1.4.2\n",
      "Summary: Powerful data structures for data analysis, time series, and statistics\n",
      "Home-page: https://pandas.pydata.org\n",
      "Author: The Pandas Development Team\n",
      "Author-email: pandas-dev@python.org\n",
      "License: BSD-3-Clause\n",
      "Location: c:\\users\\dnc11\\appdata\\local\\programs\\python\\python310\\lib\\site-packages\n",
      "Requires: numpy, python-dateutil, pytz\n",
      "Required-by: \n",
      "Note: you may need to restart the kernel to use updated packages.\n"
     ]
    }
   ],
   "source": [
    "pip show pandas"
   ]
  },
  {
   "cell_type": "markdown",
   "id": "974ede7f",
   "metadata": {},
   "source": [
    "## **How To Create a Pandas Series**\n",
    "* There are a number of different ways to create a pandas Series. We will explore all of them in this section.\n",
    "\n",
    "* First, let’s create a few starter variables - specifically, we’ll create two lists, a NumPy array, and a dictionary."
   ]
  },
  {
   "cell_type": "code",
   "execution_count": 7,
   "id": "300b3848",
   "metadata": {},
   "outputs": [
    {
     "name": "stdout",
     "output_type": "stream",
     "text": [
      "[10 20 30]\n"
     ]
    }
   ],
   "source": [
    "labels = ['a', 'b', 'c']\n",
    "\n",
    "my_list = [10, 20, 30]\n",
    "\n",
    "arr = np.array([10, 20, 30])\n",
    "\n",
    "print(arr)\n",
    "\n",
    "d = {'a':10, 'b':20, 'c':30}\n"
   ]
  },
  {
   "cell_type": "markdown",
   "id": "bb17f6f5",
   "metadata": {},
   "source": [
    "* The easiest way to create a pandas Series is by passing a vanilla Python list into the **pd.Series()** method. We do this with the my_list variable below:"
   ]
  },
  {
   "cell_type": "code",
   "execution_count": 8,
   "id": "8ed0d392",
   "metadata": {},
   "outputs": [
    {
     "data": {
      "text/plain": [
       "0    10\n",
       "1    20\n",
       "2    30\n",
       "dtype: int64"
      ]
     },
     "execution_count": 8,
     "metadata": {},
     "output_type": "execute_result"
    }
   ],
   "source": [
    "pd.Series(my_list)"
   ]
  },
  {
   "cell_type": "markdown",
   "id": "f100967b",
   "metadata": {},
   "source": [
    "* If you run this in your Jupyter Notebook, you will notice that the output is quite different than it is for a normal Python list.\n",
    "* The output shown above is clearly designed to present as two columns. The second column is the data from my_list. What is the first column?\n",
    "\n",
    "* One of the key advantages of using pandas Series over NumPy arrays is that they allow for labeling. As you might have guessed, that first column is a column of labels.\n",
    "\n",
    "* We can add labels to a pandas Series using the index argument like this:"
   ]
  },
  {
   "cell_type": "code",
   "execution_count": 10,
   "id": "92881f58",
   "metadata": {},
   "outputs": [
    {
     "data": {
      "text/plain": [
       "a    10\n",
       "b    20\n",
       "c    30\n",
       "dtype: int64"
      ]
     },
     "execution_count": 10,
     "metadata": {},
     "output_type": "execute_result"
    }
   ],
   "source": [
    "pd.Series(my_list, index=labels)\n",
    "\n",
    "#Remember - we created the 'labels' list earlier in this section"
   ]
  },
  {
   "cell_type": "markdown",
   "id": "f5715868",
   "metadata": {},
   "source": [
    "* Why would you want to use labels in a pandas Series? The main advantage is that it allows you to reference an element of the Series using its label instead of its numerical index. \n",
    "* To be clear, once labels have been applied to a pandas Series, you can use either its numerical index or its label."
   ]
  },
  {
   "cell_type": "code",
   "execution_count": 12,
   "id": "83a7e2e5",
   "metadata": {},
   "outputs": [
    {
     "name": "stdout",
     "output_type": "stream",
     "text": [
      "10\n",
      "10\n"
     ]
    }
   ],
   "source": [
    "#An example of this is below.\n",
    "Series = pd.Series(my_list, index=labels)\n",
    "\n",
    "print(Series[0])\n",
    "\n",
    "#Returns 10\n",
    "\n",
    "print(Series['a'])\n",
    "\n",
    "#Also returns 10"
   ]
  },
  {
   "cell_type": "markdown",
   "id": "ea1622f2",
   "metadata": {},
   "source": [
    "* You might have noticed that the ability to reference an element of a Series using its label is similar to how we can reference the value of a key-value pair in a dictionary. \n",
    "* Because of this similarity in how they function, you can also pass in a dictionary to create a pandas Series. \n",
    "* We’ll use the d={'a': 10, 'b': 20, 'c': 30} that we created earlier as an example:"
   ]
  },
  {
   "cell_type": "code",
   "execution_count": 13,
   "id": "59d2ec6d",
   "metadata": {},
   "outputs": [
    {
     "data": {
      "text/plain": [
       "a    10\n",
       "b    20\n",
       "c    30\n",
       "dtype: int64"
      ]
     },
     "execution_count": 13,
     "metadata": {},
     "output_type": "execute_result"
    }
   ],
   "source": [
    "pd.Series(d)"
   ]
  },
  {
   "cell_type": "markdown",
   "id": "a0771f94",
   "metadata": {},
   "source": [
    "* It may not yet be clear why we have explored two new data structures (NumPy arrays and pandas Series) that are so similar. In the next section of this section, we’ll explore the main advantage of pandas Series over NumPy arrays.\n",
    "\n",
    "### **The Main Advantage of Pandas Series Over NumPy Arrays**\n",
    "* While we didn’t encounter it at the time, NumPy arrays are highly limited by one characteristic: every element of a NumPy array must be the same type of data structure. Said differently, NumPy array elements must be all string, or all integers, or all booleans - you get the point.\n",
    "\n",
    "* Pandas Series do not suffer from this limitation. In fact, pandas Series are highly flexible.\n",
    "\n",
    "* As an example, you can pass three of Python’s built-in functions into a pandas Series without getting an error:"
   ]
  },
  {
   "cell_type": "code",
   "execution_count": 14,
   "id": "d4407684",
   "metadata": {},
   "outputs": [
    {
     "data": {
      "text/plain": [
       "0      <built-in function sum>\n",
       "1    <built-in function print>\n",
       "2      <built-in function len>\n",
       "dtype: object"
      ]
     },
     "execution_count": 14,
     "metadata": {},
     "output_type": "execute_result"
    }
   ],
   "source": [
    "pd.Series([sum, print, len])"
   ]
  },
  {
   "attachments": {
    "image.png": {
     "image/png": "[encoded data removed]"
    }
   },
   "cell_type": "markdown",
   "id": "b3bd6f2a",
   "metadata": {},
   "source": [
    "* To be clear, the example above is highly impractical and not something we would ever execute in practice. \n",
    "* It is, however, an excellent example of the flexibility of the pandas Series data structure.\n",
    "\n",
    "### **Pandas DataFrames**\n",
    "* NumPy allows developers to work with both one-dimensional NumPy arrays (sometimes called vectors) and two-dimensional NumPy arrays (sometimes called matrices). We explored pandas Series in the last section, which are similar to one-dimensional NumPy arrays.\n",
    "\n",
    "* In this section, we will dive into pandas DataFrames, which are similar to two-dimensional NumPy arrays - but with much more functionality. DataFrames are the most important data structure in the pandas library, so pay close attention throughout this section.\n",
    "\n",
    "### **What Is A Pandas DataFrame?**\n",
    "* A pandas DataFrame is a two-dimensional data structure that has labels for both its rows and columns. For those familiar with Microsoft Excel, Google Sheets, or other spreadsheet software, DataFrames are very similar.\n",
    "\n",
    "* Here is an example of a pandas DataFrame being displayed within a Jupyter Notebook.\n",
    "    * ![image.png](attachment:image.png)\n",
    "* We will now go through the process of recreating this DataFrame step-by-step.\n",
    "\n",
    "* First, you’ll need to import both the NumPy and pandas libraries. We have done this before, but in case you’re unsure, here’s another example of how to do that:"
   ]
  },
  {
   "cell_type": "code",
   "execution_count": 15,
   "id": "4e117fc7",
   "metadata": {},
   "outputs": [],
   "source": [
    "\n",
    "import numpy as np\n",
    "\n",
    "import pandas as pd\n",
    "#We’ll also need to create lists for the row and column names. We can do this using vanilla Python lists:\n",
    "\n",
    "rows = ['X','Y','Z']\n",
    "\n",
    "cols = ['A', 'B', 'C', 'D', 'E']"
   ]
  },
  {
   "cell_type": "markdown",
   "id": "7b29ec89",
   "metadata": {},
   "source": [
    "* Next, we will need to create a NumPy array that holds the data contained within the cells of the DataFrame. I used NumPy’s np.random.randn method for this. I also wrapped that method in the np.round method (with a second argument of 2), which rounds each data point to 2 decimal places and makes the data structure much easier to read.\n",
    "\n",
    "* Here’s the final function that generated the data."
   ]
  },
  {
   "cell_type": "code",
   "execution_count": 17,
   "id": "bbd84ac1",
   "metadata": {},
   "outputs": [
    {
     "data": {
      "text/plain": [
       "array([[-0.82,  0.73, -0.57, -0.06,  0.47],\n",
       "       [-0.23,  0.83,  0.65,  1.46,  0.01],\n",
       "       [ 0.29, -1.37,  1.24,  0.57, -0.28]])"
      ]
     },
     "execution_count": 17,
     "metadata": {},
     "output_type": "execute_result"
    }
   ],
   "source": [
    "data = np.round(np.random.randn(3,5),2)\n",
    "data"
   ]
  },
  {
   "cell_type": "code",
   "execution_count": 19,
   "id": "0b3625ce",
   "metadata": {},
   "outputs": [
    {
     "data": {
      "text/html": [
       "<div>\n",
       "<style scoped>\n",
       "    .dataframe tbody tr th:only-of-type {\n",
       "        vertical-align: middle;\n",
       "    }\n",
       "\n",
       "    .dataframe tbody tr th {\n",
       "        vertical-align: top;\n",
       "    }\n",
       "\n",
       "    .dataframe thead th {\n",
       "        text-align: right;\n",
       "    }\n",
       "</style>\n",
       "<table border=\"1\" class=\"dataframe\">\n",
       "  <thead>\n",
       "    <tr style=\"text-align: right;\">\n",
       "      <th></th>\n",
       "      <th>A</th>\n",
       "      <th>B</th>\n",
       "      <th>C</th>\n",
       "      <th>D</th>\n",
       "      <th>E</th>\n",
       "    </tr>\n",
       "  </thead>\n",
       "  <tbody>\n",
       "    <tr>\n",
       "      <th>X</th>\n",
       "      <td>-0.82</td>\n",
       "      <td>0.73</td>\n",
       "      <td>-0.57</td>\n",
       "      <td>-0.06</td>\n",
       "      <td>0.47</td>\n",
       "    </tr>\n",
       "    <tr>\n",
       "      <th>Y</th>\n",
       "      <td>-0.23</td>\n",
       "      <td>0.83</td>\n",
       "      <td>0.65</td>\n",
       "      <td>1.46</td>\n",
       "      <td>0.01</td>\n",
       "    </tr>\n",
       "    <tr>\n",
       "      <th>Z</th>\n",
       "      <td>0.29</td>\n",
       "      <td>-1.37</td>\n",
       "      <td>1.24</td>\n",
       "      <td>0.57</td>\n",
       "      <td>-0.28</td>\n",
       "    </tr>\n",
       "  </tbody>\n",
       "</table>\n",
       "</div>"
      ],
      "text/plain": [
       "      A     B     C     D     E\n",
       "X -0.82  0.73 -0.57 -0.06  0.47\n",
       "Y -0.23  0.83  0.65  1.46  0.01\n",
       "Z  0.29 -1.37  1.24  0.57 -0.28"
      ]
     },
     "execution_count": 19,
     "metadata": {},
     "output_type": "execute_result"
    }
   ],
   "source": [
    "#Once this is done, you can wrap all of the constituent variables in the pd.DataFrame method to create your first DataFrame!\n",
    "\n",
    "df=pd.DataFrame(data, rows, cols)\n",
    "df"
   ]
  },
  {
   "cell_type": "markdown",
   "id": "8028fd74",
   "metadata": {},
   "source": [
    "* There is a lot to unpack here, so let’s discuss this example in a bit more detail.\n",
    "\n",
    "* First, it is not necessary to create each variable outside of the DataFrame itself. You could have created this DataFrame in one line like this:\n"
   ]
  },
  {
   "cell_type": "code",
   "execution_count": 20,
   "id": "d93b3829",
   "metadata": {},
   "outputs": [
    {
     "data": {
      "text/html": [
       "<div>\n",
       "<style scoped>\n",
       "    .dataframe tbody tr th:only-of-type {\n",
       "        vertical-align: middle;\n",
       "    }\n",
       "\n",
       "    .dataframe tbody tr th {\n",
       "        vertical-align: top;\n",
       "    }\n",
       "\n",
       "    .dataframe thead th {\n",
       "        text-align: right;\n",
       "    }\n",
       "</style>\n",
       "<table border=\"1\" class=\"dataframe\">\n",
       "  <thead>\n",
       "    <tr style=\"text-align: right;\">\n",
       "      <th></th>\n",
       "      <th>A</th>\n",
       "      <th>B</th>\n",
       "      <th>C</th>\n",
       "      <th>D</th>\n",
       "      <th>E</th>\n",
       "    </tr>\n",
       "  </thead>\n",
       "  <tbody>\n",
       "    <tr>\n",
       "      <th>X</th>\n",
       "      <td>0.76</td>\n",
       "      <td>-0.15</td>\n",
       "      <td>-0.88</td>\n",
       "      <td>-1.65</td>\n",
       "      <td>-0.05</td>\n",
       "    </tr>\n",
       "    <tr>\n",
       "      <th>Y</th>\n",
       "      <td>-0.72</td>\n",
       "      <td>-1.27</td>\n",
       "      <td>0.41</td>\n",
       "      <td>-0.99</td>\n",
       "      <td>-0.33</td>\n",
       "    </tr>\n",
       "    <tr>\n",
       "      <th>Z</th>\n",
       "      <td>0.39</td>\n",
       "      <td>0.10</td>\n",
       "      <td>-0.07</td>\n",
       "      <td>0.12</td>\n",
       "      <td>-0.25</td>\n",
       "    </tr>\n",
       "  </tbody>\n",
       "</table>\n",
       "</div>"
      ],
      "text/plain": [
       "      A     B     C     D     E\n",
       "X  0.76 -0.15 -0.88 -1.65 -0.05\n",
       "Y -0.72 -1.27  0.41 -0.99 -0.33\n",
       "Z  0.39  0.10 -0.07  0.12 -0.25"
      ]
     },
     "execution_count": 20,
     "metadata": {},
     "output_type": "execute_result"
    }
   ],
   "source": [
    "pd.DataFrame(np.round(np.random.randn(3,5),2), ['X','Y','Z'], ['A', 'B', 'C', 'D', 'E'])"
   ]
  },
  {
   "attachments": {
    "image.png": {
     "image/png": "[encoded data removed]"
    }
   },
   "cell_type": "markdown",
   "id": "4ab24584",
   "metadata": {},
   "source": [
    "* With that said, declaring each variable separately makes the code much easier to read.\n",
    "\n",
    "* Second, you might be wondering if it is necessary to put rows into the DataFrame method before columns. It is indeed necessary. If you tried running pd.DataFrame(data, cols, rows), your Jupyter Notebook would generate the following error message:\n",
    "![image.png](attachment:image.png)"
   ]
  },
  {
   "attachments": {
    "image.png": {
     "image/png": "[encoded data removed]"
    }
   },
   "cell_type": "markdown",
   "id": "d83fa70c",
   "metadata": {},
   "source": [
    "* Next, we will explore the relationship between pandas Series and pandas DataFrames.\n",
    "\n",
    "### **The Relationship Between Pandas Series and Pandas DataFrame**\n",
    "* Let’s take another look at the pandas DataFrame that we just created:\n",
    "* ![image.png](attachment:image.png)\n",
    "\n",
    "* If you had to verbally describe a pandas Series, one way to do so might be “a set of labeled columns containing data where each column shares the same set of row index.”\n",
    "\n",
    "* Interestingly enough, each of these columns is actually a pandas Series! So we can modify our definition of the pandas DataFrame to match its formal definition:\n",
    "\n",
    "    * **“A set of pandas Series that shares the same index.”**"
   ]
  },
  {
   "cell_type": "markdown",
   "id": "24b2e214",
   "metadata": {},
   "source": [
    "### **Indexing and Assignment in Pandas DataFrames**\n",
    "* We can actually call a specific Series from a pandas DataFrame using square brackets, just like how we call a element from a list. \n",
    "* A few examples are below:\n"
   ]
  },
  {
   "cell_type": "code",
   "execution_count": 21,
   "id": "5d105739",
   "metadata": {},
   "outputs": [
    {
     "data": {
      "text/html": [
       "<div>\n",
       "<style scoped>\n",
       "    .dataframe tbody tr th:only-of-type {\n",
       "        vertical-align: middle;\n",
       "    }\n",
       "\n",
       "    .dataframe tbody tr th {\n",
       "        vertical-align: top;\n",
       "    }\n",
       "\n",
       "    .dataframe thead th {\n",
       "        text-align: right;\n",
       "    }\n",
       "</style>\n",
       "<table border=\"1\" class=\"dataframe\">\n",
       "  <thead>\n",
       "    <tr style=\"text-align: right;\">\n",
       "      <th></th>\n",
       "      <th>A</th>\n",
       "      <th>B</th>\n",
       "      <th>C</th>\n",
       "      <th>D</th>\n",
       "      <th>E</th>\n",
       "    </tr>\n",
       "  </thead>\n",
       "  <tbody>\n",
       "    <tr>\n",
       "      <th>X</th>\n",
       "      <td>-0.82</td>\n",
       "      <td>0.73</td>\n",
       "      <td>-0.57</td>\n",
       "      <td>-0.06</td>\n",
       "      <td>0.47</td>\n",
       "    </tr>\n",
       "    <tr>\n",
       "      <th>Y</th>\n",
       "      <td>-0.23</td>\n",
       "      <td>0.83</td>\n",
       "      <td>0.65</td>\n",
       "      <td>1.46</td>\n",
       "      <td>0.01</td>\n",
       "    </tr>\n",
       "    <tr>\n",
       "      <th>Z</th>\n",
       "      <td>0.29</td>\n",
       "      <td>-1.37</td>\n",
       "      <td>1.24</td>\n",
       "      <td>0.57</td>\n",
       "      <td>-0.28</td>\n",
       "    </tr>\n",
       "  </tbody>\n",
       "</table>\n",
       "</div>"
      ],
      "text/plain": [
       "      A     B     C     D     E\n",
       "X -0.82  0.73 -0.57 -0.06  0.47\n",
       "Y -0.23  0.83  0.65  1.46  0.01\n",
       "Z  0.29 -1.37  1.24  0.57 -0.28"
      ]
     },
     "execution_count": 21,
     "metadata": {},
     "output_type": "execute_result"
    }
   ],
   "source": [
    "df = pd.DataFrame(data, rows, cols)\n",
    "df"
   ]
  },
  {
   "cell_type": "code",
   "execution_count": 22,
   "id": "11501f7a",
   "metadata": {},
   "outputs": [
    {
     "data": {
      "text/plain": [
       "X   -0.82\n",
       "Y   -0.23\n",
       "Z    0.29\n",
       "Name: A, dtype: float64"
      ]
     },
     "execution_count": 22,
     "metadata": {},
     "output_type": "execute_result"
    }
   ],
   "source": [
    "df['A']"
   ]
  },
  {
   "cell_type": "code",
   "execution_count": 23,
   "id": "e6e99a74",
   "metadata": {},
   "outputs": [
    {
     "data": {
      "text/plain": [
       "X    0.47\n",
       "Y    0.01\n",
       "Z   -0.28\n",
       "Name: E, dtype: float64"
      ]
     },
     "execution_count": 23,
     "metadata": {},
     "output_type": "execute_result"
    }
   ],
   "source": [
    "df['E']"
   ]
  },
  {
   "cell_type": "markdown",
   "id": "57f1c638",
   "metadata": {},
   "source": [
    "* What if you wanted to select multiple columns from a pandas DataFrame? \n",
    "    * You can pass in a list of columns, either directly in the square brackets - such as df[['A', 'E']] - or by declaring the variable outside of the square brackets like this:\n",
    "    \n",
    "    "
   ]
  },
  {
   "cell_type": "code",
   "execution_count": 24,
   "id": "af4f89d5",
   "metadata": {},
   "outputs": [
    {
     "data": {
      "text/html": [
       "<div>\n",
       "<style scoped>\n",
       "    .dataframe tbody tr th:only-of-type {\n",
       "        vertical-align: middle;\n",
       "    }\n",
       "\n",
       "    .dataframe tbody tr th {\n",
       "        vertical-align: top;\n",
       "    }\n",
       "\n",
       "    .dataframe thead th {\n",
       "        text-align: right;\n",
       "    }\n",
       "</style>\n",
       "<table border=\"1\" class=\"dataframe\">\n",
       "  <thead>\n",
       "    <tr style=\"text-align: right;\">\n",
       "      <th></th>\n",
       "      <th>A</th>\n",
       "      <th>E</th>\n",
       "    </tr>\n",
       "  </thead>\n",
       "  <tbody>\n",
       "    <tr>\n",
       "      <th>X</th>\n",
       "      <td>-0.82</td>\n",
       "      <td>0.47</td>\n",
       "    </tr>\n",
       "    <tr>\n",
       "      <th>Y</th>\n",
       "      <td>-0.23</td>\n",
       "      <td>0.01</td>\n",
       "    </tr>\n",
       "    <tr>\n",
       "      <th>Z</th>\n",
       "      <td>0.29</td>\n",
       "      <td>-0.28</td>\n",
       "    </tr>\n",
       "  </tbody>\n",
       "</table>\n",
       "</div>"
      ],
      "text/plain": [
       "      A     E\n",
       "X -0.82  0.47\n",
       "Y -0.23  0.01\n",
       "Z  0.29 -0.28"
      ]
     },
     "execution_count": 24,
     "metadata": {},
     "output_type": "execute_result"
    }
   ],
   "source": [
    "columnsIWant = ['A', 'E']\n",
    "\n",
    "df[columnsIWant]\n",
    "\n",
    "#Returns the DataFrame, but only with columns A and E"
   ]
  },
  {
   "cell_type": "markdown",
   "id": "8cadd564",
   "metadata": {},
   "source": [
    "* You can also select a specific element of a specific row using chained square brackets. \n",
    "* For example, if you wanted the element contained in row A at index X (which is the element in the top left cell of the DataFrame) you could access it with df['A']['X']."
   ]
  },
  {
   "cell_type": "code",
   "execution_count": 26,
   "id": "72c44e55",
   "metadata": {},
   "outputs": [
    {
     "name": "stdout",
     "output_type": "stream",
     "text": [
      "-1.37\n",
      "1.46\n"
     ]
    }
   ],
   "source": [
    "print(df['B']['Z'])\n",
    "\n",
    "#Returns 1.34\n",
    "\n",
    "print(df['D']['Y'])\n",
    "\n",
    "#Returns -0.64"
   ]
  },
  {
   "cell_type": "markdown",
   "id": "20feeaa0",
   "metadata": {},
   "source": [
    "### **How To Create and Remove Columns in a Pandas DataFrame?**\n",
    "* You can create a new column in a pandas DataFrame by specifying the column as though it already exists, and then assigning it a new pandas Series.\n",
    "\n",
    "* As an example, in the following code block we create a new column called ‘A + B’ which is the sum of columns A and B:"
   ]
  },
  {
   "cell_type": "code",
   "execution_count": 27,
   "id": "2a187c1f",
   "metadata": {},
   "outputs": [
    {
     "data": {
      "text/html": [
       "<div>\n",
       "<style scoped>\n",
       "    .dataframe tbody tr th:only-of-type {\n",
       "        vertical-align: middle;\n",
       "    }\n",
       "\n",
       "    .dataframe tbody tr th {\n",
       "        vertical-align: top;\n",
       "    }\n",
       "\n",
       "    .dataframe thead th {\n",
       "        text-align: right;\n",
       "    }\n",
       "</style>\n",
       "<table border=\"1\" class=\"dataframe\">\n",
       "  <thead>\n",
       "    <tr style=\"text-align: right;\">\n",
       "      <th></th>\n",
       "      <th>A</th>\n",
       "      <th>B</th>\n",
       "      <th>C</th>\n",
       "      <th>D</th>\n",
       "      <th>E</th>\n",
       "      <th>A + B</th>\n",
       "    </tr>\n",
       "  </thead>\n",
       "  <tbody>\n",
       "    <tr>\n",
       "      <th>X</th>\n",
       "      <td>-0.82</td>\n",
       "      <td>0.73</td>\n",
       "      <td>-0.57</td>\n",
       "      <td>-0.06</td>\n",
       "      <td>0.47</td>\n",
       "      <td>-0.09</td>\n",
       "    </tr>\n",
       "    <tr>\n",
       "      <th>Y</th>\n",
       "      <td>-0.23</td>\n",
       "      <td>0.83</td>\n",
       "      <td>0.65</td>\n",
       "      <td>1.46</td>\n",
       "      <td>0.01</td>\n",
       "      <td>0.60</td>\n",
       "    </tr>\n",
       "    <tr>\n",
       "      <th>Z</th>\n",
       "      <td>0.29</td>\n",
       "      <td>-1.37</td>\n",
       "      <td>1.24</td>\n",
       "      <td>0.57</td>\n",
       "      <td>-0.28</td>\n",
       "      <td>-1.08</td>\n",
       "    </tr>\n",
       "  </tbody>\n",
       "</table>\n",
       "</div>"
      ],
      "text/plain": [
       "      A     B     C     D     E  A + B\n",
       "X -0.82  0.73 -0.57 -0.06  0.47  -0.09\n",
       "Y -0.23  0.83  0.65  1.46  0.01   0.60\n",
       "Z  0.29 -1.37  1.24  0.57 -0.28  -1.08"
      ]
     },
     "execution_count": 27,
     "metadata": {},
     "output_type": "execute_result"
    }
   ],
   "source": [
    "\n",
    "df['A + B'] = df['A'] + df['B']\n",
    "\n",
    "df \n",
    "\n",
    "#The last line prints out the new DataFrame"
   ]
  },
  {
   "cell_type": "markdown",
   "id": "8ad623d6",
   "metadata": {},
   "source": [
    "* To remove this column from the pandas DataFrame, we need to use the pd.DataFrame.drop method.\n",
    "\n",
    "* **Note** that this method defaults to dropping rows, not columns. To switch the method settings to operate on columns, we must pass it in the axis=1 argument."
   ]
  },
  {
   "cell_type": "code",
   "execution_count": 28,
   "id": "bcd20700",
   "metadata": {},
   "outputs": [
    {
     "data": {
      "text/html": [
       "<div>\n",
       "<style scoped>\n",
       "    .dataframe tbody tr th:only-of-type {\n",
       "        vertical-align: middle;\n",
       "    }\n",
       "\n",
       "    .dataframe tbody tr th {\n",
       "        vertical-align: top;\n",
       "    }\n",
       "\n",
       "    .dataframe thead th {\n",
       "        text-align: right;\n",
       "    }\n",
       "</style>\n",
       "<table border=\"1\" class=\"dataframe\">\n",
       "  <thead>\n",
       "    <tr style=\"text-align: right;\">\n",
       "      <th></th>\n",
       "      <th>A</th>\n",
       "      <th>B</th>\n",
       "      <th>C</th>\n",
       "      <th>D</th>\n",
       "      <th>E</th>\n",
       "    </tr>\n",
       "  </thead>\n",
       "  <tbody>\n",
       "    <tr>\n",
       "      <th>X</th>\n",
       "      <td>-0.82</td>\n",
       "      <td>0.73</td>\n",
       "      <td>-0.57</td>\n",
       "      <td>-0.06</td>\n",
       "      <td>0.47</td>\n",
       "    </tr>\n",
       "    <tr>\n",
       "      <th>Y</th>\n",
       "      <td>-0.23</td>\n",
       "      <td>0.83</td>\n",
       "      <td>0.65</td>\n",
       "      <td>1.46</td>\n",
       "      <td>0.01</td>\n",
       "    </tr>\n",
       "    <tr>\n",
       "      <th>Z</th>\n",
       "      <td>0.29</td>\n",
       "      <td>-1.37</td>\n",
       "      <td>1.24</td>\n",
       "      <td>0.57</td>\n",
       "      <td>-0.28</td>\n",
       "    </tr>\n",
       "  </tbody>\n",
       "</table>\n",
       "</div>"
      ],
      "text/plain": [
       "      A     B     C     D     E\n",
       "X -0.82  0.73 -0.57 -0.06  0.47\n",
       "Y -0.23  0.83  0.65  1.46  0.01\n",
       "Z  0.29 -1.37  1.24  0.57 -0.28"
      ]
     },
     "execution_count": 28,
     "metadata": {},
     "output_type": "execute_result"
    }
   ],
   "source": [
    "df.drop('A + B', axis = 1)"
   ]
  },
  {
   "cell_type": "markdown",
   "id": "9f7b0fa8",
   "metadata": {},
   "source": [
    "* It is very important to note that this drop method does not actually modify the DataFrame itself. \n",
    "* For evidence of this, print out the df variable again, and notice how it still has the A + B column:\n"
   ]
  },
  {
   "cell_type": "code",
   "execution_count": 30,
   "id": "8a855bfe",
   "metadata": {},
   "outputs": [
    {
     "data": {
      "text/html": [
       "<div>\n",
       "<style scoped>\n",
       "    .dataframe tbody tr th:only-of-type {\n",
       "        vertical-align: middle;\n",
       "    }\n",
       "\n",
       "    .dataframe tbody tr th {\n",
       "        vertical-align: top;\n",
       "    }\n",
       "\n",
       "    .dataframe thead th {\n",
       "        text-align: right;\n",
       "    }\n",
       "</style>\n",
       "<table border=\"1\" class=\"dataframe\">\n",
       "  <thead>\n",
       "    <tr style=\"text-align: right;\">\n",
       "      <th></th>\n",
       "      <th>A</th>\n",
       "      <th>B</th>\n",
       "      <th>C</th>\n",
       "      <th>D</th>\n",
       "      <th>E</th>\n",
       "      <th>A + B</th>\n",
       "    </tr>\n",
       "  </thead>\n",
       "  <tbody>\n",
       "    <tr>\n",
       "      <th>X</th>\n",
       "      <td>-0.82</td>\n",
       "      <td>0.73</td>\n",
       "      <td>-0.57</td>\n",
       "      <td>-0.06</td>\n",
       "      <td>0.47</td>\n",
       "      <td>-0.09</td>\n",
       "    </tr>\n",
       "    <tr>\n",
       "      <th>Y</th>\n",
       "      <td>-0.23</td>\n",
       "      <td>0.83</td>\n",
       "      <td>0.65</td>\n",
       "      <td>1.46</td>\n",
       "      <td>0.01</td>\n",
       "      <td>0.60</td>\n",
       "    </tr>\n",
       "    <tr>\n",
       "      <th>Z</th>\n",
       "      <td>0.29</td>\n",
       "      <td>-1.37</td>\n",
       "      <td>1.24</td>\n",
       "      <td>0.57</td>\n",
       "      <td>-0.28</td>\n",
       "      <td>-1.08</td>\n",
       "    </tr>\n",
       "  </tbody>\n",
       "</table>\n",
       "</div>"
      ],
      "text/plain": [
       "      A     B     C     D     E  A + B\n",
       "X -0.82  0.73 -0.57 -0.06  0.47  -0.09\n",
       "Y -0.23  0.83  0.65  1.46  0.01   0.60\n",
       "Z  0.29 -1.37  1.24  0.57 -0.28  -1.08"
      ]
     },
     "execution_count": 30,
     "metadata": {},
     "output_type": "execute_result"
    }
   ],
   "source": [
    "df"
   ]
  },
  {
   "cell_type": "markdown",
   "id": "2af9f433",
   "metadata": {},
   "source": [
    "* The reason that drop (and many other DataFrame methods!) do not modify the data structure by default is to prevent you from accidentally deleting data.\n",
    "\n",
    "* There are two ways to make pandas automatically overwrite the current DataFrame.\n",
    "\n",
    "* The first is by passing in the argument inplace=True, like this:"
   ]
  },
  {
   "cell_type": "code",
   "execution_count": 31,
   "id": "fc3a4420",
   "metadata": {},
   "outputs": [],
   "source": [
    "df.drop('A + B', axis=1, inplace=True)"
   ]
  },
  {
   "attachments": {
    "image.png": {
     "image/png": "[encoded data removed]"
    }
   },
   "cell_type": "markdown",
   "id": "7f8596bb",
   "metadata": {},
   "source": [
    "* The second is by using an assignment operator that manually overwrites the existing variable, like this:\n",
    "![image.png](attachment:image.png)"
   ]
  },
  {
   "cell_type": "markdown",
   "id": "5319b309",
   "metadata": {},
   "source": [
    "* Both options are valid but I find myself using the second option more frequently because it is easier to remember.\n",
    "\n",
    "* The **drop method** can also be used to drop rows. \n",
    "* For example, we can remove the row Z as follows:"
   ]
  },
  {
   "cell_type": "code",
   "execution_count": 33,
   "id": "5a8931b1",
   "metadata": {},
   "outputs": [
    {
     "data": {
      "text/html": [
       "<div>\n",
       "<style scoped>\n",
       "    .dataframe tbody tr th:only-of-type {\n",
       "        vertical-align: middle;\n",
       "    }\n",
       "\n",
       "    .dataframe tbody tr th {\n",
       "        vertical-align: top;\n",
       "    }\n",
       "\n",
       "    .dataframe thead th {\n",
       "        text-align: right;\n",
       "    }\n",
       "</style>\n",
       "<table border=\"1\" class=\"dataframe\">\n",
       "  <thead>\n",
       "    <tr style=\"text-align: right;\">\n",
       "      <th></th>\n",
       "      <th>A</th>\n",
       "      <th>B</th>\n",
       "      <th>C</th>\n",
       "      <th>D</th>\n",
       "      <th>E</th>\n",
       "    </tr>\n",
       "  </thead>\n",
       "  <tbody>\n",
       "    <tr>\n",
       "      <th>X</th>\n",
       "      <td>-0.82</td>\n",
       "      <td>0.73</td>\n",
       "      <td>-0.57</td>\n",
       "      <td>-0.06</td>\n",
       "      <td>0.47</td>\n",
       "    </tr>\n",
       "    <tr>\n",
       "      <th>Y</th>\n",
       "      <td>-0.23</td>\n",
       "      <td>0.83</td>\n",
       "      <td>0.65</td>\n",
       "      <td>1.46</td>\n",
       "      <td>0.01</td>\n",
       "    </tr>\n",
       "  </tbody>\n",
       "</table>\n",
       "</div>"
      ],
      "text/plain": [
       "      A     B     C     D     E\n",
       "X -0.82  0.73 -0.57 -0.06  0.47\n",
       "Y -0.23  0.83  0.65  1.46  0.01"
      ]
     },
     "execution_count": 33,
     "metadata": {},
     "output_type": "execute_result"
    }
   ],
   "source": [
    "df.drop('Z')"
   ]
  },
  {
   "cell_type": "markdown",
   "id": "b678d997",
   "metadata": {},
   "source": [
    "### **How To Select A Row From A Pandas DataFrame?**\n",
    "* We have already seen that we can access a specific column of a pandas DataFrame using square brackets. We will now see how to access a specific row of a pandas DataFrame, with the similar goal of generating a pandas Series from the larger data structure.\n",
    "\n",
    "* DataFrame rows can be accessed by their row label using the loc attribute along with square brackets. An example is below."
   ]
  },
  {
   "cell_type": "code",
   "execution_count": 34,
   "id": "a5bbfc1c",
   "metadata": {},
   "outputs": [
    {
     "data": {
      "text/plain": [
       "A   -0.82\n",
       "B    0.73\n",
       "C   -0.57\n",
       "D   -0.06\n",
       "E    0.47\n",
       "Name: X, dtype: float64"
      ]
     },
     "execution_count": 34,
     "metadata": {},
     "output_type": "execute_result"
    }
   ],
   "source": [
    "df.loc['X']"
   ]
  },
  {
   "cell_type": "markdown",
   "id": "e5c44d73",
   "metadata": {},
   "source": [
    "* DataFrame rows can be accessed by their numerical index using the iloc attribute along with square brackets. An example is below."
   ]
  },
  {
   "cell_type": "code",
   "execution_count": 35,
   "id": "645a5176",
   "metadata": {},
   "outputs": [
    {
     "data": {
      "text/plain": [
       "A   -0.82\n",
       "B    0.73\n",
       "C   -0.57\n",
       "D   -0.06\n",
       "E    0.47\n",
       "Name: X, dtype: float64"
      ]
     },
     "execution_count": 35,
     "metadata": {},
     "output_type": "execute_result"
    }
   ],
   "source": [
    "df.iloc[0]"
   ]
  },
  {
   "cell_type": "markdown",
   "id": "f5f90491",
   "metadata": {},
   "source": [
    "### **How To Determine The Number Of Rows and Columns in a Pandas DataFrame?**\n",
    "* There are many cases where you’ll want to know the shape of a pandas DataFrame. By shape, I am referring to the number of columns and rows in the data structure.\n",
    "\n",
    "* Pandas has a built-in attribute called shape that allows us to easily access this:"
   ]
  },
  {
   "cell_type": "code",
   "execution_count": 36,
   "id": "8fa437b9",
   "metadata": {},
   "outputs": [
    {
     "data": {
      "text/plain": [
       "(3, 5)"
      ]
     },
     "execution_count": 36,
     "metadata": {},
     "output_type": "execute_result"
    }
   ],
   "source": [
    "df.shape\n",
    "\n",
    "#Returns (3, 5)"
   ]
  },
  {
   "cell_type": "markdown",
   "id": "7a32be92",
   "metadata": {},
   "source": [
    "### **Slicing Pandas DataFrames**\n",
    "* We have already seen how to select rows, columns, and elements from a pandas DataFrame. In this section, we will explore how to select a subset of a DataFrame. Specifically, let’s select the elements from columns A and B and rows X and Y.\n",
    "\n",
    "* We can actually approach this in a step-by-step fashion. First, let’s select columns A and B:"
   ]
  },
  {
   "cell_type": "code",
   "execution_count": 37,
   "id": "3a1c0cce",
   "metadata": {},
   "outputs": [
    {
     "data": {
      "text/html": [
       "<div>\n",
       "<style scoped>\n",
       "    .dataframe tbody tr th:only-of-type {\n",
       "        vertical-align: middle;\n",
       "    }\n",
       "\n",
       "    .dataframe tbody tr th {\n",
       "        vertical-align: top;\n",
       "    }\n",
       "\n",
       "    .dataframe thead th {\n",
       "        text-align: right;\n",
       "    }\n",
       "</style>\n",
       "<table border=\"1\" class=\"dataframe\">\n",
       "  <thead>\n",
       "    <tr style=\"text-align: right;\">\n",
       "      <th></th>\n",
       "      <th>A</th>\n",
       "      <th>B</th>\n",
       "    </tr>\n",
       "  </thead>\n",
       "  <tbody>\n",
       "    <tr>\n",
       "      <th>X</th>\n",
       "      <td>-0.82</td>\n",
       "      <td>0.73</td>\n",
       "    </tr>\n",
       "    <tr>\n",
       "      <th>Y</th>\n",
       "      <td>-0.23</td>\n",
       "      <td>0.83</td>\n",
       "    </tr>\n",
       "    <tr>\n",
       "      <th>Z</th>\n",
       "      <td>0.29</td>\n",
       "      <td>-1.37</td>\n",
       "    </tr>\n",
       "  </tbody>\n",
       "</table>\n",
       "</div>"
      ],
      "text/plain": [
       "      A     B\n",
       "X -0.82  0.73\n",
       "Y -0.23  0.83\n",
       "Z  0.29 -1.37"
      ]
     },
     "execution_count": 37,
     "metadata": {},
     "output_type": "execute_result"
    }
   ],
   "source": [
    "df[['A', 'B']]"
   ]
  },
  {
   "cell_type": "code",
   "execution_count": 38,
   "id": "aef12ccc",
   "metadata": {},
   "outputs": [
    {
     "data": {
      "text/html": [
       "<div>\n",
       "<style scoped>\n",
       "    .dataframe tbody tr th:only-of-type {\n",
       "        vertical-align: middle;\n",
       "    }\n",
       "\n",
       "    .dataframe tbody tr th {\n",
       "        vertical-align: top;\n",
       "    }\n",
       "\n",
       "    .dataframe thead th {\n",
       "        text-align: right;\n",
       "    }\n",
       "</style>\n",
       "<table border=\"1\" class=\"dataframe\">\n",
       "  <thead>\n",
       "    <tr style=\"text-align: right;\">\n",
       "      <th></th>\n",
       "      <th>A</th>\n",
       "      <th>B</th>\n",
       "    </tr>\n",
       "  </thead>\n",
       "  <tbody>\n",
       "    <tr>\n",
       "      <th>X</th>\n",
       "      <td>-0.82</td>\n",
       "      <td>0.73</td>\n",
       "    </tr>\n",
       "    <tr>\n",
       "      <th>Y</th>\n",
       "      <td>-0.23</td>\n",
       "      <td>0.83</td>\n",
       "    </tr>\n",
       "  </tbody>\n",
       "</table>\n",
       "</div>"
      ],
      "text/plain": [
       "      A     B\n",
       "X -0.82  0.73\n",
       "Y -0.23  0.83"
      ]
     },
     "execution_count": 38,
     "metadata": {},
     "output_type": "execute_result"
    }
   ],
   "source": [
    "#Then, let’s select rows X and Y:\n",
    "df[['A', 'B']].loc[['X', 'Y']]"
   ]
  },
  {
   "cell_type": "markdown",
   "id": "900a1753",
   "metadata": {},
   "source": [
    "### **Conditional Selection Using Pandas DataFrame**\n",
    "* If you recall from our discussion of NumPy arrays, we were able to select certain elements of the array using conditional operators. For example, if we had a NumPy array called arr and we only wanted the values of the array that were larger than 4, we could use the command arr[arr > 4].\n",
    "\n",
    "* Pandas DataFrames follow a similar syntax. For example, if we wanted to know where our DataFrame has values that were greater than 0.5, we could type df > 0.5 to get the following output:"
   ]
  },
  {
   "cell_type": "code",
   "execution_count": 39,
   "id": "c01786db",
   "metadata": {},
   "outputs": [
    {
     "data": {
      "text/html": [
       "<div>\n",
       "<style scoped>\n",
       "    .dataframe tbody tr th:only-of-type {\n",
       "        vertical-align: middle;\n",
       "    }\n",
       "\n",
       "    .dataframe tbody tr th {\n",
       "        vertical-align: top;\n",
       "    }\n",
       "\n",
       "    .dataframe thead th {\n",
       "        text-align: right;\n",
       "    }\n",
       "</style>\n",
       "<table border=\"1\" class=\"dataframe\">\n",
       "  <thead>\n",
       "    <tr style=\"text-align: right;\">\n",
       "      <th></th>\n",
       "      <th>A</th>\n",
       "      <th>B</th>\n",
       "      <th>C</th>\n",
       "      <th>D</th>\n",
       "      <th>E</th>\n",
       "    </tr>\n",
       "  </thead>\n",
       "  <tbody>\n",
       "    <tr>\n",
       "      <th>X</th>\n",
       "      <td>False</td>\n",
       "      <td>True</td>\n",
       "      <td>False</td>\n",
       "      <td>False</td>\n",
       "      <td>False</td>\n",
       "    </tr>\n",
       "    <tr>\n",
       "      <th>Y</th>\n",
       "      <td>False</td>\n",
       "      <td>True</td>\n",
       "      <td>True</td>\n",
       "      <td>True</td>\n",
       "      <td>False</td>\n",
       "    </tr>\n",
       "    <tr>\n",
       "      <th>Z</th>\n",
       "      <td>False</td>\n",
       "      <td>False</td>\n",
       "      <td>True</td>\n",
       "      <td>True</td>\n",
       "      <td>False</td>\n",
       "    </tr>\n",
       "  </tbody>\n",
       "</table>\n",
       "</div>"
      ],
      "text/plain": [
       "       A      B      C      D      E\n",
       "X  False   True  False  False  False\n",
       "Y  False   True   True   True  False\n",
       "Z  False  False   True   True  False"
      ]
     },
     "execution_count": 39,
     "metadata": {},
     "output_type": "execute_result"
    }
   ],
   "source": [
    "df > 0.5"
   ]
  },
  {
   "cell_type": "markdown",
   "id": "c8ca78e0",
   "metadata": {},
   "source": [
    "* We can also generate a new pandas DataFrame that contains the normal values where the statement is True, and NaN - which stands for Not a Number - values where the statement is false. We do this by passing the statement into the DataFrame using square brackets, like this:"
   ]
  },
  {
   "cell_type": "code",
   "execution_count": 40,
   "id": "58d43b8a",
   "metadata": {},
   "outputs": [
    {
     "data": {
      "text/html": [
       "<div>\n",
       "<style scoped>\n",
       "    .dataframe tbody tr th:only-of-type {\n",
       "        vertical-align: middle;\n",
       "    }\n",
       "\n",
       "    .dataframe tbody tr th {\n",
       "        vertical-align: top;\n",
       "    }\n",
       "\n",
       "    .dataframe thead th {\n",
       "        text-align: right;\n",
       "    }\n",
       "</style>\n",
       "<table border=\"1\" class=\"dataframe\">\n",
       "  <thead>\n",
       "    <tr style=\"text-align: right;\">\n",
       "      <th></th>\n",
       "      <th>A</th>\n",
       "      <th>B</th>\n",
       "      <th>C</th>\n",
       "      <th>D</th>\n",
       "      <th>E</th>\n",
       "    </tr>\n",
       "  </thead>\n",
       "  <tbody>\n",
       "    <tr>\n",
       "      <th>X</th>\n",
       "      <td>NaN</td>\n",
       "      <td>0.73</td>\n",
       "      <td>NaN</td>\n",
       "      <td>NaN</td>\n",
       "      <td>NaN</td>\n",
       "    </tr>\n",
       "    <tr>\n",
       "      <th>Y</th>\n",
       "      <td>NaN</td>\n",
       "      <td>0.83</td>\n",
       "      <td>0.65</td>\n",
       "      <td>1.46</td>\n",
       "      <td>NaN</td>\n",
       "    </tr>\n",
       "    <tr>\n",
       "      <th>Z</th>\n",
       "      <td>NaN</td>\n",
       "      <td>NaN</td>\n",
       "      <td>1.24</td>\n",
       "      <td>0.57</td>\n",
       "      <td>NaN</td>\n",
       "    </tr>\n",
       "  </tbody>\n",
       "</table>\n",
       "</div>"
      ],
      "text/plain": [
       "    A     B     C     D   E\n",
       "X NaN  0.73   NaN   NaN NaN\n",
       "Y NaN  0.83  0.65  1.46 NaN\n",
       "Z NaN   NaN  1.24  0.57 NaN"
      ]
     },
     "execution_count": 40,
     "metadata": {},
     "output_type": "execute_result"
    }
   ],
   "source": [
    "\n",
    "df[df > 0.5]"
   ]
  },
  {
   "cell_type": "markdown",
   "id": "280ecc78",
   "metadata": {},
   "source": [
    "* You can also use conditional selection to return a subset of the DataFrame where a specific condition is satisfied in a specified column.\n",
    "\n",
    "* To be more specific, let’s say that you wanted the subset of the DataFrame where the value in column C was less than 1. This is only true for row X.\n",
    "\n",
    "* You can get an array of the boolean values associated with this statement like this:"
   ]
  },
  {
   "cell_type": "code",
   "execution_count": 41,
   "id": "419ba55e",
   "metadata": {},
   "outputs": [
    {
     "data": {
      "text/plain": [
       "X     True\n",
       "Y     True\n",
       "Z    False\n",
       "Name: C, dtype: bool"
      ]
     },
     "execution_count": 41,
     "metadata": {},
     "output_type": "execute_result"
    }
   ],
   "source": [
    "df['C'] < 1"
   ]
  },
  {
   "cell_type": "markdown",
   "id": "fd772606",
   "metadata": {},
   "source": [
    "* You can also get the DataFrame’s actual values relative to this conditional selection command by typing df[df['C'] < 1], which outputs just the first row of the DataFrame (since this is the only row where the statement is true for column C:"
   ]
  },
  {
   "cell_type": "code",
   "execution_count": 42,
   "id": "74ad4338",
   "metadata": {},
   "outputs": [
    {
     "data": {
      "text/html": [
       "<div>\n",
       "<style scoped>\n",
       "    .dataframe tbody tr th:only-of-type {\n",
       "        vertical-align: middle;\n",
       "    }\n",
       "\n",
       "    .dataframe tbody tr th {\n",
       "        vertical-align: top;\n",
       "    }\n",
       "\n",
       "    .dataframe thead th {\n",
       "        text-align: right;\n",
       "    }\n",
       "</style>\n",
       "<table border=\"1\" class=\"dataframe\">\n",
       "  <thead>\n",
       "    <tr style=\"text-align: right;\">\n",
       "      <th></th>\n",
       "      <th>A</th>\n",
       "      <th>B</th>\n",
       "      <th>C</th>\n",
       "      <th>D</th>\n",
       "      <th>E</th>\n",
       "    </tr>\n",
       "  </thead>\n",
       "  <tbody>\n",
       "    <tr>\n",
       "      <th>X</th>\n",
       "      <td>-0.82</td>\n",
       "      <td>0.73</td>\n",
       "      <td>-0.57</td>\n",
       "      <td>-0.06</td>\n",
       "      <td>0.47</td>\n",
       "    </tr>\n",
       "    <tr>\n",
       "      <th>Y</th>\n",
       "      <td>-0.23</td>\n",
       "      <td>0.83</td>\n",
       "      <td>0.65</td>\n",
       "      <td>1.46</td>\n",
       "      <td>0.01</td>\n",
       "    </tr>\n",
       "  </tbody>\n",
       "</table>\n",
       "</div>"
      ],
      "text/plain": [
       "      A     B     C     D     E\n",
       "X -0.82  0.73 -0.57 -0.06  0.47\n",
       "Y -0.23  0.83  0.65  1.46  0.01"
      ]
     },
     "execution_count": 42,
     "metadata": {},
     "output_type": "execute_result"
    }
   ],
   "source": [
    "df[df['C'] < 1]"
   ]
  },
  {
   "cell_type": "markdown",
   "id": "1d5bd8ba",
   "metadata": {},
   "source": [
    "* You can also chain together multiple conditions while using conditional selection. We do this using pandas’ & operator. You cannot use Python’s normal and operator, because in this case we are not comparing two boolean values. Instead, we are comparing two pandas Series that contain boolean values, which is why the & character is used instead.\n",
    "\n",
    "* As an example of multiple conditional selection, you can return the DataFrame subset that satisfies df['C'] > 0 and df['A']> 0 with the following code:"
   ]
  },
  {
   "cell_type": "code",
   "execution_count": 43,
   "id": "2eb886a7",
   "metadata": {},
   "outputs": [
    {
     "data": {
      "text/html": [
       "<div>\n",
       "<style scoped>\n",
       "    .dataframe tbody tr th:only-of-type {\n",
       "        vertical-align: middle;\n",
       "    }\n",
       "\n",
       "    .dataframe tbody tr th {\n",
       "        vertical-align: top;\n",
       "    }\n",
       "\n",
       "    .dataframe thead th {\n",
       "        text-align: right;\n",
       "    }\n",
       "</style>\n",
       "<table border=\"1\" class=\"dataframe\">\n",
       "  <thead>\n",
       "    <tr style=\"text-align: right;\">\n",
       "      <th></th>\n",
       "      <th>A</th>\n",
       "      <th>B</th>\n",
       "      <th>C</th>\n",
       "      <th>D</th>\n",
       "      <th>E</th>\n",
       "    </tr>\n",
       "  </thead>\n",
       "  <tbody>\n",
       "    <tr>\n",
       "      <th>Z</th>\n",
       "      <td>0.29</td>\n",
       "      <td>-1.37</td>\n",
       "      <td>1.24</td>\n",
       "      <td>0.57</td>\n",
       "      <td>-0.28</td>\n",
       "    </tr>\n",
       "  </tbody>\n",
       "</table>\n",
       "</div>"
      ],
      "text/plain": [
       "      A     B     C     D     E\n",
       "Z  0.29 -1.37  1.24  0.57 -0.28"
      ]
     },
     "execution_count": 43,
     "metadata": {},
     "output_type": "execute_result"
    }
   ],
   "source": [
    "df[(df['C'] > 0) & (df['A']> 0)]"
   ]
  },
  {
   "cell_type": "markdown",
   "id": "ebcabeed",
   "metadata": {},
   "source": [
    "### **How To Modify The Index of a Pandas DataFrame?**\n",
    "* There are a number of ways that you can modify the index of a pandas DataFrame.\n",
    "\n",
    "* The most basic is to reset the index to its default numerical values. We do this using the reset_index method:"
   ]
  },
  {
   "cell_type": "code",
   "execution_count": 44,
   "id": "4ee0e036",
   "metadata": {},
   "outputs": [
    {
     "data": {
      "text/html": [
       "<div>\n",
       "<style scoped>\n",
       "    .dataframe tbody tr th:only-of-type {\n",
       "        vertical-align: middle;\n",
       "    }\n",
       "\n",
       "    .dataframe tbody tr th {\n",
       "        vertical-align: top;\n",
       "    }\n",
       "\n",
       "    .dataframe thead th {\n",
       "        text-align: right;\n",
       "    }\n",
       "</style>\n",
       "<table border=\"1\" class=\"dataframe\">\n",
       "  <thead>\n",
       "    <tr style=\"text-align: right;\">\n",
       "      <th></th>\n",
       "      <th>index</th>\n",
       "      <th>A</th>\n",
       "      <th>B</th>\n",
       "      <th>C</th>\n",
       "      <th>D</th>\n",
       "      <th>E</th>\n",
       "    </tr>\n",
       "  </thead>\n",
       "  <tbody>\n",
       "    <tr>\n",
       "      <th>0</th>\n",
       "      <td>X</td>\n",
       "      <td>-0.82</td>\n",
       "      <td>0.73</td>\n",
       "      <td>-0.57</td>\n",
       "      <td>-0.06</td>\n",
       "      <td>0.47</td>\n",
       "    </tr>\n",
       "    <tr>\n",
       "      <th>1</th>\n",
       "      <td>Y</td>\n",
       "      <td>-0.23</td>\n",
       "      <td>0.83</td>\n",
       "      <td>0.65</td>\n",
       "      <td>1.46</td>\n",
       "      <td>0.01</td>\n",
       "    </tr>\n",
       "    <tr>\n",
       "      <th>2</th>\n",
       "      <td>Z</td>\n",
       "      <td>0.29</td>\n",
       "      <td>-1.37</td>\n",
       "      <td>1.24</td>\n",
       "      <td>0.57</td>\n",
       "      <td>-0.28</td>\n",
       "    </tr>\n",
       "  </tbody>\n",
       "</table>\n",
       "</div>"
      ],
      "text/plain": [
       "  index     A     B     C     D     E\n",
       "0     X -0.82  0.73 -0.57 -0.06  0.47\n",
       "1     Y -0.23  0.83  0.65  1.46  0.01\n",
       "2     Z  0.29 -1.37  1.24  0.57 -0.28"
      ]
     },
     "execution_count": 44,
     "metadata": {},
     "output_type": "execute_result"
    }
   ],
   "source": [
    "\n",
    "df.reset_index()"
   ]
  },
  {
   "cell_type": "markdown",
   "id": "67c965fd",
   "metadata": {},
   "source": [
    "* **Note** that this creates a new column in the DataFrame called index that contains the previous index labels:"
   ]
  },
  {
   "cell_type": "markdown",
   "id": "30725b6e",
   "metadata": {},
   "source": [
    "* **Note** that like the other DataFrame operations that we have explored, reset_index does not modify the original DataFrame unless you either (1) force it to using the = assignment operator or (2) specify inplace=True.\n",
    "\n",
    "* You can also set an existing column as the index of the DataFrame using the set_index method. We can set column A as the index of the DataFrame using the following code:"
   ]
  },
  {
   "cell_type": "code",
   "execution_count": 48,
   "id": "bc6c8392",
   "metadata": {},
   "outputs": [
    {
     "data": {
      "text/html": [
       "<div>\n",
       "<style scoped>\n",
       "    .dataframe tbody tr th:only-of-type {\n",
       "        vertical-align: middle;\n",
       "    }\n",
       "\n",
       "    .dataframe tbody tr th {\n",
       "        vertical-align: top;\n",
       "    }\n",
       "\n",
       "    .dataframe thead th {\n",
       "        text-align: right;\n",
       "    }\n",
       "</style>\n",
       "<table border=\"1\" class=\"dataframe\">\n",
       "  <thead>\n",
       "    <tr style=\"text-align: right;\">\n",
       "      <th></th>\n",
       "      <th>B</th>\n",
       "      <th>C</th>\n",
       "      <th>D</th>\n",
       "      <th>E</th>\n",
       "    </tr>\n",
       "    <tr>\n",
       "      <th>A</th>\n",
       "      <th></th>\n",
       "      <th></th>\n",
       "      <th></th>\n",
       "      <th></th>\n",
       "    </tr>\n",
       "  </thead>\n",
       "  <tbody>\n",
       "    <tr>\n",
       "      <th>-0.82</th>\n",
       "      <td>0.73</td>\n",
       "      <td>-0.57</td>\n",
       "      <td>-0.06</td>\n",
       "      <td>0.47</td>\n",
       "    </tr>\n",
       "    <tr>\n",
       "      <th>-0.23</th>\n",
       "      <td>0.83</td>\n",
       "      <td>0.65</td>\n",
       "      <td>1.46</td>\n",
       "      <td>0.01</td>\n",
       "    </tr>\n",
       "    <tr>\n",
       "      <th>0.29</th>\n",
       "      <td>-1.37</td>\n",
       "      <td>1.24</td>\n",
       "      <td>0.57</td>\n",
       "      <td>-0.28</td>\n",
       "    </tr>\n",
       "  </tbody>\n",
       "</table>\n",
       "</div>"
      ],
      "text/plain": [
       "          B     C     D     E\n",
       "A                            \n",
       "-0.82  0.73 -0.57 -0.06  0.47\n",
       "-0.23  0.83  0.65  1.46  0.01\n",
       " 0.29 -1.37  1.24  0.57 -0.28"
      ]
     },
     "execution_count": 48,
     "metadata": {},
     "output_type": "execute_result"
    }
   ],
   "source": [
    "#The values of A are now in the index of the DataFrame:\n",
    "df.set_index('A')"
   ]
  },
  {
   "cell_type": "markdown",
   "id": "f40f93a4",
   "metadata": {},
   "source": [
    "* There are three things worth noting here:\n",
    "\n",
    "    * **set_index** does not modify the original DataFrame unless you either (1) force it to using the = assignment operator or (2) specify inplace=True.\n",
    "    * Unless you run **reset_index** first, performing a set_index operation with **inplace=True** or a **forced = assignment** operator will permanently overwrite your current index values.\n",
    "    * If you want to rename your index to labels that are not currently contained in a column, you can do so by (1) creating a NumPy array with those values, (2) adding those values as a new row of the pandas DataFrame, and (3) running the **set_index **operation."
   ]
  },
  {
   "cell_type": "markdown",
   "id": "3f81e859",
   "metadata": {},
   "source": [
    "### **How To Rename Columns in a Pandas DataFrame?**\n",
    "* The last DataFrame operation we’ll discuss is how to rename their columns.\n",
    "\n",
    "* Columns are an attribute of a pandas DataFrame, which means we can call them and modify them using a simple dot operator. For example:"
   ]
  },
  {
   "cell_type": "code",
   "execution_count": 49,
   "id": "f466c2e6",
   "metadata": {},
   "outputs": [
    {
     "data": {
      "text/plain": [
       "Index(['A', 'B', 'C', 'D', 'E'], dtype='object')"
      ]
     },
     "execution_count": 49,
     "metadata": {},
     "output_type": "execute_result"
    }
   ],
   "source": [
    "\n",
    "df.columns\n",
    "\n",
    "#Returns Index(['A', 'B', 'C', 'D', 'E'], dtype='object'"
   ]
  },
  {
   "cell_type": "code",
   "execution_count": 50,
   "id": "212f0daf",
   "metadata": {},
   "outputs": [
    {
     "data": {
      "text/html": [
       "<div>\n",
       "<style scoped>\n",
       "    .dataframe tbody tr th:only-of-type {\n",
       "        vertical-align: middle;\n",
       "    }\n",
       "\n",
       "    .dataframe tbody tr th {\n",
       "        vertical-align: top;\n",
       "    }\n",
       "\n",
       "    .dataframe thead th {\n",
       "        text-align: right;\n",
       "    }\n",
       "</style>\n",
       "<table border=\"1\" class=\"dataframe\">\n",
       "  <thead>\n",
       "    <tr style=\"text-align: right;\">\n",
       "      <th></th>\n",
       "      <th>1</th>\n",
       "      <th>2</th>\n",
       "      <th>3</th>\n",
       "      <th>4</th>\n",
       "      <th>5</th>\n",
       "    </tr>\n",
       "  </thead>\n",
       "  <tbody>\n",
       "    <tr>\n",
       "      <th>X</th>\n",
       "      <td>-0.82</td>\n",
       "      <td>0.73</td>\n",
       "      <td>-0.57</td>\n",
       "      <td>-0.06</td>\n",
       "      <td>0.47</td>\n",
       "    </tr>\n",
       "    <tr>\n",
       "      <th>Y</th>\n",
       "      <td>-0.23</td>\n",
       "      <td>0.83</td>\n",
       "      <td>0.65</td>\n",
       "      <td>1.46</td>\n",
       "      <td>0.01</td>\n",
       "    </tr>\n",
       "    <tr>\n",
       "      <th>Z</th>\n",
       "      <td>0.29</td>\n",
       "      <td>-1.37</td>\n",
       "      <td>1.24</td>\n",
       "      <td>0.57</td>\n",
       "      <td>-0.28</td>\n",
       "    </tr>\n",
       "  </tbody>\n",
       "</table>\n",
       "</div>"
      ],
      "text/plain": [
       "      1     2     3     4     5\n",
       "X -0.82  0.73 -0.57 -0.06  0.47\n",
       "Y -0.23  0.83  0.65  1.46  0.01\n",
       "Z  0.29 -1.37  1.24  0.57 -0.28"
      ]
     },
     "execution_count": 50,
     "metadata": {},
     "output_type": "execute_result"
    }
   ],
   "source": [
    "#The assignment operator is the best way to modify this attribute:\n",
    "\n",
    "df.columns = [1, 2, 3, 4, 5]\n",
    "\n",
    "df"
   ]
  },
  {
   "cell_type": "markdown",
   "id": "d905c778",
   "metadata": {},
   "source": [
    "### **How to Deal With Missing Data in Pandas DataFrames?**\n",
    "* In an ideal world we will always work with perfect data sets. However, this is never the case in practice. There are many cases when working with quantitative data that you will need to drop or modify missing data. We will explore strategies for handling missing data in Pandas throughout this section.\n",
    "\n",
    "### **The DataFrame We’ll Be Using In This section?**\n",
    "* We will be using the **np.nan** attribute to generate **NaN** values throughout this section."
   ]
  },
  {
   "cell_type": "code",
   "execution_count": 52,
   "id": "fca9eebe",
   "metadata": {},
   "outputs": [
    {
     "data": {
      "text/plain": [
       "nan"
      ]
     },
     "execution_count": 52,
     "metadata": {},
     "output_type": "execute_result"
    }
   ],
   "source": [
    "\n",
    "np.nan\n",
    "\n",
    "#Returns nan"
   ]
  },
  {
   "cell_type": "code",
   "execution_count": 53,
   "id": "353a460a",
   "metadata": {},
   "outputs": [
    {
     "data": {
      "text/html": [
       "<div>\n",
       "<style scoped>\n",
       "    .dataframe tbody tr th:only-of-type {\n",
       "        vertical-align: middle;\n",
       "    }\n",
       "\n",
       "    .dataframe tbody tr th {\n",
       "        vertical-align: top;\n",
       "    }\n",
       "\n",
       "    .dataframe thead th {\n",
       "        text-align: right;\n",
       "    }\n",
       "</style>\n",
       "<table border=\"1\" class=\"dataframe\">\n",
       "  <thead>\n",
       "    <tr style=\"text-align: right;\">\n",
       "      <th></th>\n",
       "      <th>A</th>\n",
       "      <th>B</th>\n",
       "      <th>C</th>\n",
       "    </tr>\n",
       "  </thead>\n",
       "  <tbody>\n",
       "    <tr>\n",
       "      <th>0</th>\n",
       "      <td>1.0</td>\n",
       "      <td>5.0</td>\n",
       "      <td>1.0</td>\n",
       "    </tr>\n",
       "    <tr>\n",
       "      <th>1</th>\n",
       "      <td>2.0</td>\n",
       "      <td>NaN</td>\n",
       "      <td>2.0</td>\n",
       "    </tr>\n",
       "    <tr>\n",
       "      <th>2</th>\n",
       "      <td>NaN</td>\n",
       "      <td>NaN</td>\n",
       "      <td>3.0</td>\n",
       "    </tr>\n",
       "  </tbody>\n",
       "</table>\n",
       "</div>"
      ],
      "text/plain": [
       "     A    B    C\n",
       "0  1.0  5.0  1.0\n",
       "1  2.0  NaN  2.0\n",
       "2  NaN  NaN  3.0"
      ]
     },
     "execution_count": 53,
     "metadata": {},
     "output_type": "execute_result"
    }
   ],
   "source": [
    "#In this section, we will make use of the following DataFrame:\n",
    "df = pd.DataFrame(np.array([[1, 5, 1],[2, np.nan, 2],[np.nan, np.nan, 3]]))\n",
    "\n",
    "df.columns = ['A', 'B', 'C']\n",
    "\n",
    "df"
   ]
  },
  {
   "cell_type": "markdown",
   "id": "ad883cfa",
   "metadata": {},
   "source": [
    "### **The Pandas dropna Method**\n",
    "* Pandas has a built-in method called **dropna**. When applied against a DataFrame, the dropna method will remove any rows that contain a **NaN** value.\n",
    "\n",
    "* Let’s apply the dropna method to our df DataFrame as an example:"
   ]
  },
  {
   "cell_type": "code",
   "execution_count": 54,
   "id": "4ddc226d",
   "metadata": {},
   "outputs": [
    {
     "data": {
      "text/html": [
       "<div>\n",
       "<style scoped>\n",
       "    .dataframe tbody tr th:only-of-type {\n",
       "        vertical-align: middle;\n",
       "    }\n",
       "\n",
       "    .dataframe tbody tr th {\n",
       "        vertical-align: top;\n",
       "    }\n",
       "\n",
       "    .dataframe thead th {\n",
       "        text-align: right;\n",
       "    }\n",
       "</style>\n",
       "<table border=\"1\" class=\"dataframe\">\n",
       "  <thead>\n",
       "    <tr style=\"text-align: right;\">\n",
       "      <th></th>\n",
       "      <th>A</th>\n",
       "      <th>B</th>\n",
       "      <th>C</th>\n",
       "    </tr>\n",
       "  </thead>\n",
       "  <tbody>\n",
       "    <tr>\n",
       "      <th>0</th>\n",
       "      <td>1.0</td>\n",
       "      <td>5.0</td>\n",
       "      <td>1.0</td>\n",
       "    </tr>\n",
       "  </tbody>\n",
       "</table>\n",
       "</div>"
      ],
      "text/plain": [
       "     A    B    C\n",
       "0  1.0  5.0  1.0"
      ]
     },
     "execution_count": 54,
     "metadata": {},
     "output_type": "execute_result"
    }
   ],
   "source": [
    "df.dropna()"
   ]
  },
  {
   "cell_type": "markdown",
   "id": "e2b91109",
   "metadata": {},
   "source": [
    "* **Note** that like the other DataFrame operations that we have explored, dropna does not modify the original DataFrame unless you either (1) force it to using the = assignment operator or (2) specify inplace=True.\n",
    "\n",
    "* We can also drop any columns that have missing values by passing in the axis=1 argument to the dropna method, like this:"
   ]
  },
  {
   "cell_type": "code",
   "execution_count": 55,
   "id": "aa26437e",
   "metadata": {},
   "outputs": [
    {
     "data": {
      "text/html": [
       "<div>\n",
       "<style scoped>\n",
       "    .dataframe tbody tr th:only-of-type {\n",
       "        vertical-align: middle;\n",
       "    }\n",
       "\n",
       "    .dataframe tbody tr th {\n",
       "        vertical-align: top;\n",
       "    }\n",
       "\n",
       "    .dataframe thead th {\n",
       "        text-align: right;\n",
       "    }\n",
       "</style>\n",
       "<table border=\"1\" class=\"dataframe\">\n",
       "  <thead>\n",
       "    <tr style=\"text-align: right;\">\n",
       "      <th></th>\n",
       "      <th>C</th>\n",
       "    </tr>\n",
       "  </thead>\n",
       "  <tbody>\n",
       "    <tr>\n",
       "      <th>0</th>\n",
       "      <td>1.0</td>\n",
       "    </tr>\n",
       "    <tr>\n",
       "      <th>1</th>\n",
       "      <td>2.0</td>\n",
       "    </tr>\n",
       "    <tr>\n",
       "      <th>2</th>\n",
       "      <td>3.0</td>\n",
       "    </tr>\n",
       "  </tbody>\n",
       "</table>\n",
       "</div>"
      ],
      "text/plain": [
       "     C\n",
       "0  1.0\n",
       "1  2.0\n",
       "2  3.0"
      ]
     },
     "execution_count": 55,
     "metadata": {},
     "output_type": "execute_result"
    }
   ],
   "source": [
    "df.dropna(axis=1)"
   ]
  },
  {
   "cell_type": "markdown",
   "id": "9ab72c53",
   "metadata": {},
   "source": [
    "### **The Pandas fillna Method**\n",
    "* In many cases, you will want to replace missing values in a pandas DataFrame instead of dropping it completely. The **fillna** method is designed for this.\n",
    "\n",
    "* As an example, let’s fill every missing value in our DataFrame with the **?**"
   ]
  },
  {
   "cell_type": "code",
   "execution_count": 57,
   "id": "58cb0d75",
   "metadata": {},
   "outputs": [
    {
     "data": {
      "text/html": [
       "<div>\n",
       "<style scoped>\n",
       "    .dataframe tbody tr th:only-of-type {\n",
       "        vertical-align: middle;\n",
       "    }\n",
       "\n",
       "    .dataframe tbody tr th {\n",
       "        vertical-align: top;\n",
       "    }\n",
       "\n",
       "    .dataframe thead th {\n",
       "        text-align: right;\n",
       "    }\n",
       "</style>\n",
       "<table border=\"1\" class=\"dataframe\">\n",
       "  <thead>\n",
       "    <tr style=\"text-align: right;\">\n",
       "      <th></th>\n",
       "      <th>A</th>\n",
       "      <th>B</th>\n",
       "      <th>C</th>\n",
       "    </tr>\n",
       "  </thead>\n",
       "  <tbody>\n",
       "    <tr>\n",
       "      <th>0</th>\n",
       "      <td>1.0</td>\n",
       "      <td>5.0</td>\n",
       "      <td>1.0</td>\n",
       "    </tr>\n",
       "    <tr>\n",
       "      <th>1</th>\n",
       "      <td>2.0</td>\n",
       "      <td>?</td>\n",
       "      <td>2.0</td>\n",
       "    </tr>\n",
       "    <tr>\n",
       "      <th>2</th>\n",
       "      <td>?</td>\n",
       "      <td>?</td>\n",
       "      <td>3.0</td>\n",
       "    </tr>\n",
       "  </tbody>\n",
       "</table>\n",
       "</div>"
      ],
      "text/plain": [
       "     A    B    C\n",
       "0  1.0  5.0  1.0\n",
       "1  2.0    ?  2.0\n",
       "2    ?    ?  3.0"
      ]
     },
     "execution_count": 57,
     "metadata": {},
     "output_type": "execute_result"
    }
   ],
   "source": [
    "df.fillna('?')"
   ]
  },
  {
   "cell_type": "markdown",
   "id": "05becce7",
   "metadata": {},
   "source": [
    "* Obviously, there is basically no situation where we would want to replace missing data with an emoji. This was simply an amusing example.\n",
    "\n",
    "* Instead, more commonly we will replace a missing value with either:\n",
    "\n",
    "    * The average value of the entire DataFrame\n",
    "    * The average value of that row of the DataFrame\n",
    "* We will demonstrate both below.\n",
    "\n",
    "* To fill missing values with the average value across the entire DataFrame, use the following code:"
   ]
  },
  {
   "cell_type": "code",
   "execution_count": 58,
   "id": "4a4d41ed",
   "metadata": {},
   "outputs": [
    {
     "data": {
      "text/html": [
       "<div>\n",
       "<style scoped>\n",
       "    .dataframe tbody tr th:only-of-type {\n",
       "        vertical-align: middle;\n",
       "    }\n",
       "\n",
       "    .dataframe tbody tr th {\n",
       "        vertical-align: top;\n",
       "    }\n",
       "\n",
       "    .dataframe thead th {\n",
       "        text-align: right;\n",
       "    }\n",
       "</style>\n",
       "<table border=\"1\" class=\"dataframe\">\n",
       "  <thead>\n",
       "    <tr style=\"text-align: right;\">\n",
       "      <th></th>\n",
       "      <th>A</th>\n",
       "      <th>B</th>\n",
       "      <th>C</th>\n",
       "    </tr>\n",
       "  </thead>\n",
       "  <tbody>\n",
       "    <tr>\n",
       "      <th>0</th>\n",
       "      <td>1.0</td>\n",
       "      <td>5.0</td>\n",
       "      <td>1.0</td>\n",
       "    </tr>\n",
       "    <tr>\n",
       "      <th>1</th>\n",
       "      <td>2.0</td>\n",
       "      <td>5.0</td>\n",
       "      <td>2.0</td>\n",
       "    </tr>\n",
       "    <tr>\n",
       "      <th>2</th>\n",
       "      <td>1.5</td>\n",
       "      <td>5.0</td>\n",
       "      <td>3.0</td>\n",
       "    </tr>\n",
       "  </tbody>\n",
       "</table>\n",
       "</div>"
      ],
      "text/plain": [
       "     A    B    C\n",
       "0  1.0  5.0  1.0\n",
       "1  2.0  5.0  2.0\n",
       "2  1.5  5.0  3.0"
      ]
     },
     "execution_count": 58,
     "metadata": {},
     "output_type": "execute_result"
    }
   ],
   "source": [
    "df.fillna(df.mean())"
   ]
  },
  {
   "cell_type": "markdown",
   "id": "8b0fe9a2",
   "metadata": {},
   "source": [
    "* To fill the missing values within a particular column with the average value from that column, use the following code (this is for column A):"
   ]
  },
  {
   "cell_type": "code",
   "execution_count": 59,
   "id": "ce387d0b",
   "metadata": {},
   "outputs": [
    {
     "data": {
      "text/plain": [
       "0    1.0\n",
       "1    2.0\n",
       "2    1.5\n",
       "Name: A, dtype: float64"
      ]
     },
     "execution_count": 59,
     "metadata": {},
     "output_type": "execute_result"
    }
   ],
   "source": [
    "df['A'].fillna(df['A'].mean())"
   ]
  },
  {
   "cell_type": "markdown",
   "id": "b6efaad9",
   "metadata": {},
   "source": [
    "### **What is the Pandas groupby Feature?**\n",
    "* Pandas comes with a built-in **groupby** feature that allows you to group together rows based off of a column and perform an aggregate function on them. For example, you could calculate the sum of all rows that have a value of 1 in the column ID.\n",
    "\n",
    "* For anyone familiar with the SQL language for querying databases, the pandas groupby method is very similar to a SQL groupby statement.\n",
    "\n",
    "* It is easiest to understand the pandas groupby method using an example. We will be using the following DataFrame:"
   ]
  },
  {
   "cell_type": "code",
   "execution_count": 2,
   "id": "ac622b56",
   "metadata": {},
   "outputs": [
    {
     "data": {
      "text/html": [
       "<div>\n",
       "<style scoped>\n",
       "    .dataframe tbody tr th:only-of-type {\n",
       "        vertical-align: middle;\n",
       "    }\n",
       "\n",
       "    .dataframe tbody tr th {\n",
       "        vertical-align: top;\n",
       "    }\n",
       "\n",
       "    .dataframe thead th {\n",
       "        text-align: right;\n",
       "    }\n",
       "</style>\n",
       "<table border=\"1\" class=\"dataframe\">\n",
       "  <thead>\n",
       "    <tr style=\"text-align: right;\">\n",
       "      <th></th>\n",
       "      <th>Organization</th>\n",
       "      <th>Salesperson Name</th>\n",
       "      <th>Sales</th>\n",
       "    </tr>\n",
       "  </thead>\n",
       "  <tbody>\n",
       "    <tr>\n",
       "      <th>0</th>\n",
       "      <td>Google</td>\n",
       "      <td>Sam</td>\n",
       "      <td>200</td>\n",
       "    </tr>\n",
       "    <tr>\n",
       "      <th>1</th>\n",
       "      <td>Google</td>\n",
       "      <td>Charlie</td>\n",
       "      <td>120</td>\n",
       "    </tr>\n",
       "    <tr>\n",
       "      <th>2</th>\n",
       "      <td>Salesforce</td>\n",
       "      <td>Ralph</td>\n",
       "      <td>125</td>\n",
       "    </tr>\n",
       "    <tr>\n",
       "      <th>3</th>\n",
       "      <td>Salesforce</td>\n",
       "      <td>Emily</td>\n",
       "      <td>250</td>\n",
       "    </tr>\n",
       "    <tr>\n",
       "      <th>4</th>\n",
       "      <td>Adobe</td>\n",
       "      <td>Rosalynn</td>\n",
       "      <td>150</td>\n",
       "    </tr>\n",
       "    <tr>\n",
       "      <th>5</th>\n",
       "      <td>Adobe</td>\n",
       "      <td>Chelsea</td>\n",
       "      <td>500</td>\n",
       "    </tr>\n",
       "  </tbody>\n",
       "</table>\n",
       "</div>"
      ],
      "text/plain": [
       "  Organization Salesperson Name  Sales\n",
       "0       Google              Sam    200\n",
       "1       Google          Charlie    120\n",
       "2   Salesforce            Ralph    125\n",
       "3   Salesforce            Emily    250\n",
       "4        Adobe         Rosalynn    150\n",
       "5        Adobe          Chelsea    500"
      ]
     },
     "execution_count": 2,
     "metadata": {},
     "output_type": "execute_result"
    }
   ],
   "source": [
    "import pandas as pd\n",
    "df = pd.DataFrame([ ['Google', 'Sam', 200],\n",
    "\n",
    "                    ['Google', 'Charlie', 120],\n",
    "\n",
    "                    ['Salesforce','Ralph', 125],\n",
    "\n",
    "                    ['Salesforce','Emily', 250],\n",
    "\n",
    "                    ['Adobe','Rosalynn', 150],\n",
    "\n",
    "                    ['Adobe','Chelsea', 500]])\n",
    "\n",
    "df.columns = ['Organization', 'Salesperson Name', 'Sales']\n",
    "\n",
    "df"
   ]
  },
  {
   "cell_type": "markdown",
   "id": "00b40c02",
   "metadata": {},
   "source": [
    "* This DataFrame contains sales information for three separate organizations: Google, Salesforce, and Adobe. We will use the groupby method to get summary sales data for each specific organization.\n",
    "\n",
    "* To start, we will need to create a groupby object. This is a data structure that tells Python which column you’d like to group the DataFrame by. \n",
    "* In our case, it is the Organization column, so we create a groupby object like this:"
   ]
  },
  {
   "cell_type": "code",
   "execution_count": 3,
   "id": "d20f9aed",
   "metadata": {},
   "outputs": [
    {
     "data": {
      "text/plain": [
       "<pandas.core.groupby.generic.DataFrameGroupBy object at 0x00000236C1E3A740>"
      ]
     },
     "execution_count": 3,
     "metadata": {},
     "output_type": "execute_result"
    }
   ],
   "source": [
    "df.groupby('Organization')"
   ]
  },
  {
   "cell_type": "markdown",
   "id": "29376f9f",
   "metadata": {},
   "source": [
    "* If you see an output that looks like this, you will know that you have created the object successfully:"
   ]
  },
  {
   "cell_type": "markdown",
   "id": "990c59ec",
   "metadata": {},
   "source": [
    "* Once the groupby object has been created, you can call operations on that object to create a DataFrame with summary information on the Organization groups. \n",
    "* A few examples are below:"
   ]
  },
  {
   "cell_type": "code",
   "execution_count": 5,
   "id": "94e594b7",
   "metadata": {},
   "outputs": [
    {
     "data": {
      "text/plain": [
       "[('Adobe',\n",
       "    Organization Salesperson Name  Sales\n",
       "  4        Adobe         Rosalynn    150\n",
       "  5        Adobe          Chelsea    500),\n",
       " ('Google',\n",
       "    Organization Salesperson Name  Sales\n",
       "  0       Google              Sam    200\n",
       "  1       Google          Charlie    120),\n",
       " ('Salesforce',\n",
       "    Organization Salesperson Name  Sales\n",
       "  2   Salesforce            Ralph    125\n",
       "  3   Salesforce            Emily    250)]"
      ]
     },
     "execution_count": 5,
     "metadata": {},
     "output_type": "execute_result"
    }
   ],
   "source": [
    "list(df.groupby('Organization'))"
   ]
  },
  {
   "cell_type": "code",
   "execution_count": 8,
   "id": "e631e447",
   "metadata": {},
   "outputs": [
    {
     "data": {
      "text/html": [
       "<div>\n",
       "<style scoped>\n",
       "    .dataframe tbody tr th:only-of-type {\n",
       "        vertical-align: middle;\n",
       "    }\n",
       "\n",
       "    .dataframe tbody tr th {\n",
       "        vertical-align: top;\n",
       "    }\n",
       "\n",
       "    .dataframe thead th {\n",
       "        text-align: right;\n",
       "    }\n",
       "</style>\n",
       "<table border=\"1\" class=\"dataframe\">\n",
       "  <thead>\n",
       "    <tr style=\"text-align: right;\">\n",
       "      <th></th>\n",
       "      <th>Sales</th>\n",
       "    </tr>\n",
       "    <tr>\n",
       "      <th>Organization</th>\n",
       "      <th></th>\n",
       "    </tr>\n",
       "  </thead>\n",
       "  <tbody>\n",
       "    <tr>\n",
       "      <th>Adobe</th>\n",
       "      <td>325.0</td>\n",
       "    </tr>\n",
       "    <tr>\n",
       "      <th>Google</th>\n",
       "      <td>160.0</td>\n",
       "    </tr>\n",
       "    <tr>\n",
       "      <th>Salesforce</th>\n",
       "      <td>187.5</td>\n",
       "    </tr>\n",
       "  </tbody>\n",
       "</table>\n",
       "</div>"
      ],
      "text/plain": [
       "              Sales\n",
       "Organization       \n",
       "Adobe         325.0\n",
       "Google        160.0\n",
       "Salesforce    187.5"
      ]
     },
     "execution_count": 8,
     "metadata": {},
     "output_type": "execute_result"
    }
   ],
   "source": [
    "df.groupby('Organization').mean()\n",
    "\n",
    "#The mean (or average) of the sales column"
   ]
  },
  {
   "cell_type": "code",
   "execution_count": 9,
   "id": "4b301294",
   "metadata": {},
   "outputs": [
    {
     "data": {
      "text/html": [
       "<div>\n",
       "<style scoped>\n",
       "    .dataframe tbody tr th:only-of-type {\n",
       "        vertical-align: middle;\n",
       "    }\n",
       "\n",
       "    .dataframe tbody tr th {\n",
       "        vertical-align: top;\n",
       "    }\n",
       "\n",
       "    .dataframe thead th {\n",
       "        text-align: right;\n",
       "    }\n",
       "</style>\n",
       "<table border=\"1\" class=\"dataframe\">\n",
       "  <thead>\n",
       "    <tr style=\"text-align: right;\">\n",
       "      <th></th>\n",
       "      <th>Sales</th>\n",
       "    </tr>\n",
       "    <tr>\n",
       "      <th>Organization</th>\n",
       "      <th></th>\n",
       "    </tr>\n",
       "  </thead>\n",
       "  <tbody>\n",
       "    <tr>\n",
       "      <th>Adobe</th>\n",
       "      <td>650</td>\n",
       "    </tr>\n",
       "    <tr>\n",
       "      <th>Google</th>\n",
       "      <td>320</td>\n",
       "    </tr>\n",
       "    <tr>\n",
       "      <th>Salesforce</th>\n",
       "      <td>375</td>\n",
       "    </tr>\n",
       "  </tbody>\n",
       "</table>\n",
       "</div>"
      ],
      "text/plain": [
       "              Sales\n",
       "Organization       \n",
       "Adobe           650\n",
       "Google          320\n",
       "Salesforce      375"
      ]
     },
     "execution_count": 9,
     "metadata": {},
     "output_type": "execute_result"
    }
   ],
   "source": [
    "df.groupby('Organization').sum()\n",
    "\n",
    "#The sum of the sales column"
   ]
  },
  {
   "cell_type": "code",
   "execution_count": 10,
   "id": "a7177fe0",
   "metadata": {},
   "outputs": [
    {
     "data": {
      "text/html": [
       "<div>\n",
       "<style scoped>\n",
       "    .dataframe tbody tr th:only-of-type {\n",
       "        vertical-align: middle;\n",
       "    }\n",
       "\n",
       "    .dataframe tbody tr th {\n",
       "        vertical-align: top;\n",
       "    }\n",
       "\n",
       "    .dataframe thead th {\n",
       "        text-align: right;\n",
       "    }\n",
       "</style>\n",
       "<table border=\"1\" class=\"dataframe\">\n",
       "  <thead>\n",
       "    <tr style=\"text-align: right;\">\n",
       "      <th></th>\n",
       "      <th>Sales</th>\n",
       "    </tr>\n",
       "    <tr>\n",
       "      <th>Organization</th>\n",
       "      <th></th>\n",
       "    </tr>\n",
       "  </thead>\n",
       "  <tbody>\n",
       "    <tr>\n",
       "      <th>Adobe</th>\n",
       "      <td>247.487373</td>\n",
       "    </tr>\n",
       "    <tr>\n",
       "      <th>Google</th>\n",
       "      <td>56.568542</td>\n",
       "    </tr>\n",
       "    <tr>\n",
       "      <th>Salesforce</th>\n",
       "      <td>88.388348</td>\n",
       "    </tr>\n",
       "  </tbody>\n",
       "</table>\n",
       "</div>"
      ],
      "text/plain": [
       "                   Sales\n",
       "Organization            \n",
       "Adobe         247.487373\n",
       "Google         56.568542\n",
       "Salesforce     88.388348"
      ]
     },
     "execution_count": 10,
     "metadata": {},
     "output_type": "execute_result"
    }
   ],
   "source": [
    "df.groupby('Organization').std()\n",
    "\n",
    "#The standard deviation of the sales column"
   ]
  },
  {
   "cell_type": "markdown",
   "id": "1278f61b",
   "metadata": {},
   "source": [
    "* **Note** that since all of the operations above are numerical, they will automatically ignore the Salesperson Name column, because it only contains strings.\n",
    "\n",
    "* Here are a few other aggregate functions that work well with pandas **groupby** method:"
   ]
  },
  {
   "cell_type": "code",
   "execution_count": 11,
   "id": "66500e77",
   "metadata": {},
   "outputs": [
    {
     "data": {
      "text/html": [
       "<div>\n",
       "<style scoped>\n",
       "    .dataframe tbody tr th:only-of-type {\n",
       "        vertical-align: middle;\n",
       "    }\n",
       "\n",
       "    .dataframe tbody tr th {\n",
       "        vertical-align: top;\n",
       "    }\n",
       "\n",
       "    .dataframe thead th {\n",
       "        text-align: right;\n",
       "    }\n",
       "</style>\n",
       "<table border=\"1\" class=\"dataframe\">\n",
       "  <thead>\n",
       "    <tr style=\"text-align: right;\">\n",
       "      <th></th>\n",
       "      <th>Salesperson Name</th>\n",
       "      <th>Sales</th>\n",
       "    </tr>\n",
       "    <tr>\n",
       "      <th>Organization</th>\n",
       "      <th></th>\n",
       "      <th></th>\n",
       "    </tr>\n",
       "  </thead>\n",
       "  <tbody>\n",
       "    <tr>\n",
       "      <th>Adobe</th>\n",
       "      <td>2</td>\n",
       "      <td>2</td>\n",
       "    </tr>\n",
       "    <tr>\n",
       "      <th>Google</th>\n",
       "      <td>2</td>\n",
       "      <td>2</td>\n",
       "    </tr>\n",
       "    <tr>\n",
       "      <th>Salesforce</th>\n",
       "      <td>2</td>\n",
       "      <td>2</td>\n",
       "    </tr>\n",
       "  </tbody>\n",
       "</table>\n",
       "</div>"
      ],
      "text/plain": [
       "              Salesperson Name  Sales\n",
       "Organization                         \n",
       "Adobe                        2      2\n",
       "Google                       2      2\n",
       "Salesforce                   2      2"
      ]
     },
     "execution_count": 11,
     "metadata": {},
     "output_type": "execute_result"
    }
   ],
   "source": [
    "df.groupby('Organization').count()\n",
    "\n",
    "#Counts the number of observations"
   ]
  },
  {
   "cell_type": "code",
   "execution_count": 12,
   "id": "c0a6fe9c",
   "metadata": {},
   "outputs": [
    {
     "data": {
      "text/html": [
       "<div>\n",
       "<style scoped>\n",
       "    .dataframe tbody tr th:only-of-type {\n",
       "        vertical-align: middle;\n",
       "    }\n",
       "\n",
       "    .dataframe tbody tr th {\n",
       "        vertical-align: top;\n",
       "    }\n",
       "\n",
       "    .dataframe thead th {\n",
       "        text-align: right;\n",
       "    }\n",
       "</style>\n",
       "<table border=\"1\" class=\"dataframe\">\n",
       "  <thead>\n",
       "    <tr style=\"text-align: right;\">\n",
       "      <th></th>\n",
       "      <th>Salesperson Name</th>\n",
       "      <th>Sales</th>\n",
       "    </tr>\n",
       "    <tr>\n",
       "      <th>Organization</th>\n",
       "      <th></th>\n",
       "      <th></th>\n",
       "    </tr>\n",
       "  </thead>\n",
       "  <tbody>\n",
       "    <tr>\n",
       "      <th>Adobe</th>\n",
       "      <td>Rosalynn</td>\n",
       "      <td>500</td>\n",
       "    </tr>\n",
       "    <tr>\n",
       "      <th>Google</th>\n",
       "      <td>Sam</td>\n",
       "      <td>200</td>\n",
       "    </tr>\n",
       "    <tr>\n",
       "      <th>Salesforce</th>\n",
       "      <td>Ralph</td>\n",
       "      <td>250</td>\n",
       "    </tr>\n",
       "  </tbody>\n",
       "</table>\n",
       "</div>"
      ],
      "text/plain": [
       "             Salesperson Name  Sales\n",
       "Organization                        \n",
       "Adobe                Rosalynn    500\n",
       "Google                    Sam    200\n",
       "Salesforce              Ralph    250"
      ]
     },
     "execution_count": 12,
     "metadata": {},
     "output_type": "execute_result"
    }
   ],
   "source": [
    "df.groupby('Organization').max()\n",
    "\n",
    "#Returns the maximum value"
   ]
  },
  {
   "cell_type": "code",
   "execution_count": 13,
   "id": "289567fa",
   "metadata": {},
   "outputs": [
    {
     "data": {
      "text/html": [
       "<div>\n",
       "<style scoped>\n",
       "    .dataframe tbody tr th:only-of-type {\n",
       "        vertical-align: middle;\n",
       "    }\n",
       "\n",
       "    .dataframe tbody tr th {\n",
       "        vertical-align: top;\n",
       "    }\n",
       "\n",
       "    .dataframe thead th {\n",
       "        text-align: right;\n",
       "    }\n",
       "</style>\n",
       "<table border=\"1\" class=\"dataframe\">\n",
       "  <thead>\n",
       "    <tr style=\"text-align: right;\">\n",
       "      <th></th>\n",
       "      <th>Salesperson Name</th>\n",
       "      <th>Sales</th>\n",
       "    </tr>\n",
       "    <tr>\n",
       "      <th>Organization</th>\n",
       "      <th></th>\n",
       "      <th></th>\n",
       "    </tr>\n",
       "  </thead>\n",
       "  <tbody>\n",
       "    <tr>\n",
       "      <th>Adobe</th>\n",
       "      <td>Chelsea</td>\n",
       "      <td>150</td>\n",
       "    </tr>\n",
       "    <tr>\n",
       "      <th>Google</th>\n",
       "      <td>Charlie</td>\n",
       "      <td>120</td>\n",
       "    </tr>\n",
       "    <tr>\n",
       "      <th>Salesforce</th>\n",
       "      <td>Emily</td>\n",
       "      <td>125</td>\n",
       "    </tr>\n",
       "  </tbody>\n",
       "</table>\n",
       "</div>"
      ],
      "text/plain": [
       "             Salesperson Name  Sales\n",
       "Organization                        \n",
       "Adobe                 Chelsea    150\n",
       "Google                Charlie    120\n",
       "Salesforce              Emily    125"
      ]
     },
     "execution_count": 13,
     "metadata": {},
     "output_type": "execute_result"
    }
   ],
   "source": [
    "df.groupby('Organization').min()\n",
    "\n",
    "#Returns the minimum value\n"
   ]
  },
  {
   "cell_type": "markdown",
   "id": "def5c109",
   "metadata": {},
   "source": [
    "### **Using groupby With The describe Method**\n",
    "* One very useful tool when working with pandas DataFrames is the **describe method**, which returns useful information for every category that the groupby function is working with.\n",
    "\n",
    "* This is best learned through an example. I’ve combined the groupby and describe methods below:"
   ]
  },
  {
   "cell_type": "code",
   "execution_count": 14,
   "id": "486fed3c",
   "metadata": {},
   "outputs": [
    {
     "data": {
      "text/html": [
       "<div>\n",
       "<style scoped>\n",
       "    .dataframe tbody tr th:only-of-type {\n",
       "        vertical-align: middle;\n",
       "    }\n",
       "\n",
       "    .dataframe tbody tr th {\n",
       "        vertical-align: top;\n",
       "    }\n",
       "\n",
       "    .dataframe thead tr th {\n",
       "        text-align: left;\n",
       "    }\n",
       "\n",
       "    .dataframe thead tr:last-of-type th {\n",
       "        text-align: right;\n",
       "    }\n",
       "</style>\n",
       "<table border=\"1\" class=\"dataframe\">\n",
       "  <thead>\n",
       "    <tr>\n",
       "      <th></th>\n",
       "      <th colspan=\"8\" halign=\"left\">Sales</th>\n",
       "    </tr>\n",
       "    <tr>\n",
       "      <th></th>\n",
       "      <th>count</th>\n",
       "      <th>mean</th>\n",
       "      <th>std</th>\n",
       "      <th>min</th>\n",
       "      <th>25%</th>\n",
       "      <th>50%</th>\n",
       "      <th>75%</th>\n",
       "      <th>max</th>\n",
       "    </tr>\n",
       "    <tr>\n",
       "      <th>Organization</th>\n",
       "      <th></th>\n",
       "      <th></th>\n",
       "      <th></th>\n",
       "      <th></th>\n",
       "      <th></th>\n",
       "      <th></th>\n",
       "      <th></th>\n",
       "      <th></th>\n",
       "    </tr>\n",
       "  </thead>\n",
       "  <tbody>\n",
       "    <tr>\n",
       "      <th>Adobe</th>\n",
       "      <td>2.0</td>\n",
       "      <td>325.0</td>\n",
       "      <td>247.487373</td>\n",
       "      <td>150.0</td>\n",
       "      <td>237.50</td>\n",
       "      <td>325.0</td>\n",
       "      <td>412.50</td>\n",
       "      <td>500.0</td>\n",
       "    </tr>\n",
       "    <tr>\n",
       "      <th>Google</th>\n",
       "      <td>2.0</td>\n",
       "      <td>160.0</td>\n",
       "      <td>56.568542</td>\n",
       "      <td>120.0</td>\n",
       "      <td>140.00</td>\n",
       "      <td>160.0</td>\n",
       "      <td>180.00</td>\n",
       "      <td>200.0</td>\n",
       "    </tr>\n",
       "    <tr>\n",
       "      <th>Salesforce</th>\n",
       "      <td>2.0</td>\n",
       "      <td>187.5</td>\n",
       "      <td>88.388348</td>\n",
       "      <td>125.0</td>\n",
       "      <td>156.25</td>\n",
       "      <td>187.5</td>\n",
       "      <td>218.75</td>\n",
       "      <td>250.0</td>\n",
       "    </tr>\n",
       "  </tbody>\n",
       "</table>\n",
       "</div>"
      ],
      "text/plain": [
       "             Sales                                                        \n",
       "             count   mean         std    min     25%    50%     75%    max\n",
       "Organization                                                              \n",
       "Adobe          2.0  325.0  247.487373  150.0  237.50  325.0  412.50  500.0\n",
       "Google         2.0  160.0   56.568542  120.0  140.00  160.0  180.00  200.0\n",
       "Salesforce     2.0  187.5   88.388348  125.0  156.25  187.5  218.75  250.0"
      ]
     },
     "execution_count": 14,
     "metadata": {},
     "output_type": "execute_result"
    }
   ],
   "source": [
    "df.groupby('Organization').describe()"
   ]
  },
  {
   "cell_type": "markdown",
   "id": "4eb4d8e6",
   "metadata": {},
   "source": [
    "### **The Pandas concat Method**"
   ]
  },
  {
   "cell_type": "code",
   "execution_count": 15,
   "id": "07a11e55",
   "metadata": {},
   "outputs": [],
   "source": [
    "df1 = pd.DataFrame({'A': ['A0', 'A1', 'A2', 'A3'],\n",
    "\n",
    "                        'B': ['B0', 'B1', 'B2', 'B3'],\n",
    "\n",
    "                        'C': ['C0', 'C1', 'C2', 'C3'],\n",
    "\n",
    "                        'D': ['D0', 'D1', 'D2', 'D3']},\n",
    "\n",
    "                        index=[0, 1, 2, 3])\n",
    "\n",
    "df2 = pd.DataFrame({'A': ['A4', 'A5', 'A6', 'A7'],\n",
    "\n",
    "                        'B': ['B4', 'B5', 'B6', 'B7'],\n",
    "\n",
    "                        'C': ['C4', 'C5', 'C6', 'C7'],\n",
    "\n",
    "                        'D': ['D4', 'D5', 'D6', 'D7']},\n",
    "\n",
    "                         index=[4, 5, 6, 7]) \n",
    "\n",
    "df3 = pd.DataFrame({'A': ['A8', 'A9', 'A10', 'A11'],\n",
    "\n",
    "                        'B': ['B8', 'B9', 'B10', 'B11'],\n",
    "\n",
    "                        'C': ['C8', 'C9', 'C10', 'C11'],\n",
    "\n",
    "                        'D': ['D8', 'D9', 'D10', 'D11']},\n",
    "\n",
    "                        index=[8, 9, 10, 11])"
   ]
  },
  {
   "cell_type": "code",
   "execution_count": 16,
   "id": "38276e8f",
   "metadata": {},
   "outputs": [
    {
     "data": {
      "text/html": [
       "<div>\n",
       "<style scoped>\n",
       "    .dataframe tbody tr th:only-of-type {\n",
       "        vertical-align: middle;\n",
       "    }\n",
       "\n",
       "    .dataframe tbody tr th {\n",
       "        vertical-align: top;\n",
       "    }\n",
       "\n",
       "    .dataframe thead th {\n",
       "        text-align: right;\n",
       "    }\n",
       "</style>\n",
       "<table border=\"1\" class=\"dataframe\">\n",
       "  <thead>\n",
       "    <tr style=\"text-align: right;\">\n",
       "      <th></th>\n",
       "      <th>A</th>\n",
       "      <th>B</th>\n",
       "      <th>C</th>\n",
       "      <th>D</th>\n",
       "    </tr>\n",
       "  </thead>\n",
       "  <tbody>\n",
       "    <tr>\n",
       "      <th>0</th>\n",
       "      <td>A0</td>\n",
       "      <td>B0</td>\n",
       "      <td>C0</td>\n",
       "      <td>D0</td>\n",
       "    </tr>\n",
       "    <tr>\n",
       "      <th>1</th>\n",
       "      <td>A1</td>\n",
       "      <td>B1</td>\n",
       "      <td>C1</td>\n",
       "      <td>D1</td>\n",
       "    </tr>\n",
       "    <tr>\n",
       "      <th>2</th>\n",
       "      <td>A2</td>\n",
       "      <td>B2</td>\n",
       "      <td>C2</td>\n",
       "      <td>D2</td>\n",
       "    </tr>\n",
       "    <tr>\n",
       "      <th>3</th>\n",
       "      <td>A3</td>\n",
       "      <td>B3</td>\n",
       "      <td>C3</td>\n",
       "      <td>D3</td>\n",
       "    </tr>\n",
       "  </tbody>\n",
       "</table>\n",
       "</div>"
      ],
      "text/plain": [
       "    A   B   C   D\n",
       "0  A0  B0  C0  D0\n",
       "1  A1  B1  C1  D1\n",
       "2  A2  B2  C2  D2\n",
       "3  A3  B3  C3  D3"
      ]
     },
     "execution_count": 16,
     "metadata": {},
     "output_type": "execute_result"
    }
   ],
   "source": [
    "df1"
   ]
  },
  {
   "cell_type": "code",
   "execution_count": 17,
   "id": "d9ebb1d4",
   "metadata": {},
   "outputs": [
    {
     "data": {
      "text/html": [
       "<div>\n",
       "<style scoped>\n",
       "    .dataframe tbody tr th:only-of-type {\n",
       "        vertical-align: middle;\n",
       "    }\n",
       "\n",
       "    .dataframe tbody tr th {\n",
       "        vertical-align: top;\n",
       "    }\n",
       "\n",
       "    .dataframe thead th {\n",
       "        text-align: right;\n",
       "    }\n",
       "</style>\n",
       "<table border=\"1\" class=\"dataframe\">\n",
       "  <thead>\n",
       "    <tr style=\"text-align: right;\">\n",
       "      <th></th>\n",
       "      <th>A</th>\n",
       "      <th>B</th>\n",
       "      <th>C</th>\n",
       "      <th>D</th>\n",
       "    </tr>\n",
       "  </thead>\n",
       "  <tbody>\n",
       "    <tr>\n",
       "      <th>4</th>\n",
       "      <td>A4</td>\n",
       "      <td>B4</td>\n",
       "      <td>C4</td>\n",
       "      <td>D4</td>\n",
       "    </tr>\n",
       "    <tr>\n",
       "      <th>5</th>\n",
       "      <td>A5</td>\n",
       "      <td>B5</td>\n",
       "      <td>C5</td>\n",
       "      <td>D5</td>\n",
       "    </tr>\n",
       "    <tr>\n",
       "      <th>6</th>\n",
       "      <td>A6</td>\n",
       "      <td>B6</td>\n",
       "      <td>C6</td>\n",
       "      <td>D6</td>\n",
       "    </tr>\n",
       "    <tr>\n",
       "      <th>7</th>\n",
       "      <td>A7</td>\n",
       "      <td>B7</td>\n",
       "      <td>C7</td>\n",
       "      <td>D7</td>\n",
       "    </tr>\n",
       "  </tbody>\n",
       "</table>\n",
       "</div>"
      ],
      "text/plain": [
       "    A   B   C   D\n",
       "4  A4  B4  C4  D4\n",
       "5  A5  B5  C5  D5\n",
       "6  A6  B6  C6  D6\n",
       "7  A7  B7  C7  D7"
      ]
     },
     "execution_count": 17,
     "metadata": {},
     "output_type": "execute_result"
    }
   ],
   "source": [
    "df2"
   ]
  },
  {
   "cell_type": "code",
   "execution_count": 19,
   "id": "ad09ce76",
   "metadata": {},
   "outputs": [
    {
     "data": {
      "text/html": [
       "<div>\n",
       "<style scoped>\n",
       "    .dataframe tbody tr th:only-of-type {\n",
       "        vertical-align: middle;\n",
       "    }\n",
       "\n",
       "    .dataframe tbody tr th {\n",
       "        vertical-align: top;\n",
       "    }\n",
       "\n",
       "    .dataframe thead th {\n",
       "        text-align: right;\n",
       "    }\n",
       "</style>\n",
       "<table border=\"1\" class=\"dataframe\">\n",
       "  <thead>\n",
       "    <tr style=\"text-align: right;\">\n",
       "      <th></th>\n",
       "      <th>A</th>\n",
       "      <th>B</th>\n",
       "      <th>C</th>\n",
       "      <th>D</th>\n",
       "    </tr>\n",
       "  </thead>\n",
       "  <tbody>\n",
       "    <tr>\n",
       "      <th>8</th>\n",
       "      <td>A8</td>\n",
       "      <td>B8</td>\n",
       "      <td>C8</td>\n",
       "      <td>D8</td>\n",
       "    </tr>\n",
       "    <tr>\n",
       "      <th>9</th>\n",
       "      <td>A9</td>\n",
       "      <td>B9</td>\n",
       "      <td>C9</td>\n",
       "      <td>D9</td>\n",
       "    </tr>\n",
       "    <tr>\n",
       "      <th>10</th>\n",
       "      <td>A10</td>\n",
       "      <td>B10</td>\n",
       "      <td>C10</td>\n",
       "      <td>D10</td>\n",
       "    </tr>\n",
       "    <tr>\n",
       "      <th>11</th>\n",
       "      <td>A11</td>\n",
       "      <td>B11</td>\n",
       "      <td>C11</td>\n",
       "      <td>D11</td>\n",
       "    </tr>\n",
       "  </tbody>\n",
       "</table>\n",
       "</div>"
      ],
      "text/plain": [
       "      A    B    C    D\n",
       "8    A8   B8   C8   D8\n",
       "9    A9   B9   C9   D9\n",
       "10  A10  B10  C10  D10\n",
       "11  A11  B11  C11  D11"
      ]
     },
     "execution_count": 19,
     "metadata": {},
     "output_type": "execute_result"
    }
   ],
   "source": [
    "df3"
   ]
  },
  {
   "cell_type": "markdown",
   "id": "0947795f",
   "metadata": {},
   "source": [
    "* Anyone who has taken my Introduction to Python course will remember that string concatenation means adding one string to the end of another string. \n",
    "* DataFrame concatenation is quite similar. It means adding one DataFrame to the end of another DataFrame.\n",
    "* In order for us to perform string concatenation, we should have two DataFrames with the same columns. "
   ]
  },
  {
   "cell_type": "code",
   "execution_count": 20,
   "id": "29c3b1d0",
   "metadata": {},
   "outputs": [
    {
     "data": {
      "text/html": [
       "<div>\n",
       "<style scoped>\n",
       "    .dataframe tbody tr th:only-of-type {\n",
       "        vertical-align: middle;\n",
       "    }\n",
       "\n",
       "    .dataframe tbody tr th {\n",
       "        vertical-align: top;\n",
       "    }\n",
       "\n",
       "    .dataframe thead th {\n",
       "        text-align: right;\n",
       "    }\n",
       "</style>\n",
       "<table border=\"1\" class=\"dataframe\">\n",
       "  <thead>\n",
       "    <tr style=\"text-align: right;\">\n",
       "      <th></th>\n",
       "      <th>A</th>\n",
       "      <th>B</th>\n",
       "      <th>C</th>\n",
       "      <th>D</th>\n",
       "    </tr>\n",
       "  </thead>\n",
       "  <tbody>\n",
       "    <tr>\n",
       "      <th>0</th>\n",
       "      <td>A0</td>\n",
       "      <td>B0</td>\n",
       "      <td>C0</td>\n",
       "      <td>D0</td>\n",
       "    </tr>\n",
       "    <tr>\n",
       "      <th>1</th>\n",
       "      <td>A1</td>\n",
       "      <td>B1</td>\n",
       "      <td>C1</td>\n",
       "      <td>D1</td>\n",
       "    </tr>\n",
       "    <tr>\n",
       "      <th>2</th>\n",
       "      <td>A2</td>\n",
       "      <td>B2</td>\n",
       "      <td>C2</td>\n",
       "      <td>D2</td>\n",
       "    </tr>\n",
       "    <tr>\n",
       "      <th>3</th>\n",
       "      <td>A3</td>\n",
       "      <td>B3</td>\n",
       "      <td>C3</td>\n",
       "      <td>D3</td>\n",
       "    </tr>\n",
       "    <tr>\n",
       "      <th>4</th>\n",
       "      <td>A4</td>\n",
       "      <td>B4</td>\n",
       "      <td>C4</td>\n",
       "      <td>D4</td>\n",
       "    </tr>\n",
       "    <tr>\n",
       "      <th>5</th>\n",
       "      <td>A5</td>\n",
       "      <td>B5</td>\n",
       "      <td>C5</td>\n",
       "      <td>D5</td>\n",
       "    </tr>\n",
       "    <tr>\n",
       "      <th>6</th>\n",
       "      <td>A6</td>\n",
       "      <td>B6</td>\n",
       "      <td>C6</td>\n",
       "      <td>D6</td>\n",
       "    </tr>\n",
       "    <tr>\n",
       "      <th>7</th>\n",
       "      <td>A7</td>\n",
       "      <td>B7</td>\n",
       "      <td>C7</td>\n",
       "      <td>D7</td>\n",
       "    </tr>\n",
       "    <tr>\n",
       "      <th>8</th>\n",
       "      <td>A8</td>\n",
       "      <td>B8</td>\n",
       "      <td>C8</td>\n",
       "      <td>D8</td>\n",
       "    </tr>\n",
       "    <tr>\n",
       "      <th>9</th>\n",
       "      <td>A9</td>\n",
       "      <td>B9</td>\n",
       "      <td>C9</td>\n",
       "      <td>D9</td>\n",
       "    </tr>\n",
       "    <tr>\n",
       "      <th>10</th>\n",
       "      <td>A10</td>\n",
       "      <td>B10</td>\n",
       "      <td>C10</td>\n",
       "      <td>D10</td>\n",
       "    </tr>\n",
       "    <tr>\n",
       "      <th>11</th>\n",
       "      <td>A11</td>\n",
       "      <td>B11</td>\n",
       "      <td>C11</td>\n",
       "      <td>D11</td>\n",
       "    </tr>\n",
       "  </tbody>\n",
       "</table>\n",
       "</div>"
      ],
      "text/plain": [
       "      A    B    C    D\n",
       "0    A0   B0   C0   D0\n",
       "1    A1   B1   C1   D1\n",
       "2    A2   B2   C2   D2\n",
       "3    A3   B3   C3   D3\n",
       "4    A4   B4   C4   D4\n",
       "5    A5   B5   C5   D5\n",
       "6    A6   B6   C6   D6\n",
       "7    A7   B7   C7   D7\n",
       "8    A8   B8   C8   D8\n",
       "9    A9   B9   C9   D9\n",
       "10  A10  B10  C10  D10\n",
       "11  A11  B11  C11  D11"
      ]
     },
     "execution_count": 20,
     "metadata": {},
     "output_type": "execute_result"
    }
   ],
   "source": [
    "pd.concat([df1, df2, df3])"
   ]
  },
  {
   "cell_type": "markdown",
   "id": "213258b8",
   "metadata": {},
   "source": [
    "* By default, pandas will concatenate along **axis=0**, which means that its adding rows, not columns.\n",
    "\n",
    "* If you want to add rows, simply pass in axis=0 as a new variable into the concat function."
   ]
  },
  {
   "cell_type": "code",
   "execution_count": 21,
   "id": "fa958ea5",
   "metadata": {},
   "outputs": [
    {
     "data": {
      "text/html": [
       "<div>\n",
       "<style scoped>\n",
       "    .dataframe tbody tr th:only-of-type {\n",
       "        vertical-align: middle;\n",
       "    }\n",
       "\n",
       "    .dataframe tbody tr th {\n",
       "        vertical-align: top;\n",
       "    }\n",
       "\n",
       "    .dataframe thead th {\n",
       "        text-align: right;\n",
       "    }\n",
       "</style>\n",
       "<table border=\"1\" class=\"dataframe\">\n",
       "  <thead>\n",
       "    <tr style=\"text-align: right;\">\n",
       "      <th></th>\n",
       "      <th>A</th>\n",
       "      <th>B</th>\n",
       "      <th>C</th>\n",
       "      <th>D</th>\n",
       "      <th>A</th>\n",
       "      <th>B</th>\n",
       "      <th>C</th>\n",
       "      <th>D</th>\n",
       "      <th>A</th>\n",
       "      <th>B</th>\n",
       "      <th>C</th>\n",
       "      <th>D</th>\n",
       "    </tr>\n",
       "  </thead>\n",
       "  <tbody>\n",
       "    <tr>\n",
       "      <th>0</th>\n",
       "      <td>A0</td>\n",
       "      <td>B0</td>\n",
       "      <td>C0</td>\n",
       "      <td>D0</td>\n",
       "      <td>NaN</td>\n",
       "      <td>NaN</td>\n",
       "      <td>NaN</td>\n",
       "      <td>NaN</td>\n",
       "      <td>NaN</td>\n",
       "      <td>NaN</td>\n",
       "      <td>NaN</td>\n",
       "      <td>NaN</td>\n",
       "    </tr>\n",
       "    <tr>\n",
       "      <th>1</th>\n",
       "      <td>A1</td>\n",
       "      <td>B1</td>\n",
       "      <td>C1</td>\n",
       "      <td>D1</td>\n",
       "      <td>NaN</td>\n",
       "      <td>NaN</td>\n",
       "      <td>NaN</td>\n",
       "      <td>NaN</td>\n",
       "      <td>NaN</td>\n",
       "      <td>NaN</td>\n",
       "      <td>NaN</td>\n",
       "      <td>NaN</td>\n",
       "    </tr>\n",
       "    <tr>\n",
       "      <th>2</th>\n",
       "      <td>A2</td>\n",
       "      <td>B2</td>\n",
       "      <td>C2</td>\n",
       "      <td>D2</td>\n",
       "      <td>NaN</td>\n",
       "      <td>NaN</td>\n",
       "      <td>NaN</td>\n",
       "      <td>NaN</td>\n",
       "      <td>NaN</td>\n",
       "      <td>NaN</td>\n",
       "      <td>NaN</td>\n",
       "      <td>NaN</td>\n",
       "    </tr>\n",
       "    <tr>\n",
       "      <th>3</th>\n",
       "      <td>A3</td>\n",
       "      <td>B3</td>\n",
       "      <td>C3</td>\n",
       "      <td>D3</td>\n",
       "      <td>NaN</td>\n",
       "      <td>NaN</td>\n",
       "      <td>NaN</td>\n",
       "      <td>NaN</td>\n",
       "      <td>NaN</td>\n",
       "      <td>NaN</td>\n",
       "      <td>NaN</td>\n",
       "      <td>NaN</td>\n",
       "    </tr>\n",
       "    <tr>\n",
       "      <th>4</th>\n",
       "      <td>NaN</td>\n",
       "      <td>NaN</td>\n",
       "      <td>NaN</td>\n",
       "      <td>NaN</td>\n",
       "      <td>A4</td>\n",
       "      <td>B4</td>\n",
       "      <td>C4</td>\n",
       "      <td>D4</td>\n",
       "      <td>NaN</td>\n",
       "      <td>NaN</td>\n",
       "      <td>NaN</td>\n",
       "      <td>NaN</td>\n",
       "    </tr>\n",
       "    <tr>\n",
       "      <th>5</th>\n",
       "      <td>NaN</td>\n",
       "      <td>NaN</td>\n",
       "      <td>NaN</td>\n",
       "      <td>NaN</td>\n",
       "      <td>A5</td>\n",
       "      <td>B5</td>\n",
       "      <td>C5</td>\n",
       "      <td>D5</td>\n",
       "      <td>NaN</td>\n",
       "      <td>NaN</td>\n",
       "      <td>NaN</td>\n",
       "      <td>NaN</td>\n",
       "    </tr>\n",
       "    <tr>\n",
       "      <th>6</th>\n",
       "      <td>NaN</td>\n",
       "      <td>NaN</td>\n",
       "      <td>NaN</td>\n",
       "      <td>NaN</td>\n",
       "      <td>A6</td>\n",
       "      <td>B6</td>\n",
       "      <td>C6</td>\n",
       "      <td>D6</td>\n",
       "      <td>NaN</td>\n",
       "      <td>NaN</td>\n",
       "      <td>NaN</td>\n",
       "      <td>NaN</td>\n",
       "    </tr>\n",
       "    <tr>\n",
       "      <th>7</th>\n",
       "      <td>NaN</td>\n",
       "      <td>NaN</td>\n",
       "      <td>NaN</td>\n",
       "      <td>NaN</td>\n",
       "      <td>A7</td>\n",
       "      <td>B7</td>\n",
       "      <td>C7</td>\n",
       "      <td>D7</td>\n",
       "      <td>NaN</td>\n",
       "      <td>NaN</td>\n",
       "      <td>NaN</td>\n",
       "      <td>NaN</td>\n",
       "    </tr>\n",
       "    <tr>\n",
       "      <th>8</th>\n",
       "      <td>NaN</td>\n",
       "      <td>NaN</td>\n",
       "      <td>NaN</td>\n",
       "      <td>NaN</td>\n",
       "      <td>NaN</td>\n",
       "      <td>NaN</td>\n",
       "      <td>NaN</td>\n",
       "      <td>NaN</td>\n",
       "      <td>A8</td>\n",
       "      <td>B8</td>\n",
       "      <td>C8</td>\n",
       "      <td>D8</td>\n",
       "    </tr>\n",
       "    <tr>\n",
       "      <th>9</th>\n",
       "      <td>NaN</td>\n",
       "      <td>NaN</td>\n",
       "      <td>NaN</td>\n",
       "      <td>NaN</td>\n",
       "      <td>NaN</td>\n",
       "      <td>NaN</td>\n",
       "      <td>NaN</td>\n",
       "      <td>NaN</td>\n",
       "      <td>A9</td>\n",
       "      <td>B9</td>\n",
       "      <td>C9</td>\n",
       "      <td>D9</td>\n",
       "    </tr>\n",
       "    <tr>\n",
       "      <th>10</th>\n",
       "      <td>NaN</td>\n",
       "      <td>NaN</td>\n",
       "      <td>NaN</td>\n",
       "      <td>NaN</td>\n",
       "      <td>NaN</td>\n",
       "      <td>NaN</td>\n",
       "      <td>NaN</td>\n",
       "      <td>NaN</td>\n",
       "      <td>A10</td>\n",
       "      <td>B10</td>\n",
       "      <td>C10</td>\n",
       "      <td>D10</td>\n",
       "    </tr>\n",
       "    <tr>\n",
       "      <th>11</th>\n",
       "      <td>NaN</td>\n",
       "      <td>NaN</td>\n",
       "      <td>NaN</td>\n",
       "      <td>NaN</td>\n",
       "      <td>NaN</td>\n",
       "      <td>NaN</td>\n",
       "      <td>NaN</td>\n",
       "      <td>NaN</td>\n",
       "      <td>A11</td>\n",
       "      <td>B11</td>\n",
       "      <td>C11</td>\n",
       "      <td>D11</td>\n",
       "    </tr>\n",
       "  </tbody>\n",
       "</table>\n",
       "</div>"
      ],
      "text/plain": [
       "      A    B    C    D    A    B    C    D    A    B    C    D\n",
       "0    A0   B0   C0   D0  NaN  NaN  NaN  NaN  NaN  NaN  NaN  NaN\n",
       "1    A1   B1   C1   D1  NaN  NaN  NaN  NaN  NaN  NaN  NaN  NaN\n",
       "2    A2   B2   C2   D2  NaN  NaN  NaN  NaN  NaN  NaN  NaN  NaN\n",
       "3    A3   B3   C3   D3  NaN  NaN  NaN  NaN  NaN  NaN  NaN  NaN\n",
       "4   NaN  NaN  NaN  NaN   A4   B4   C4   D4  NaN  NaN  NaN  NaN\n",
       "5   NaN  NaN  NaN  NaN   A5   B5   C5   D5  NaN  NaN  NaN  NaN\n",
       "6   NaN  NaN  NaN  NaN   A6   B6   C6   D6  NaN  NaN  NaN  NaN\n",
       "7   NaN  NaN  NaN  NaN   A7   B7   C7   D7  NaN  NaN  NaN  NaN\n",
       "8   NaN  NaN  NaN  NaN  NaN  NaN  NaN  NaN   A8   B8   C8   D8\n",
       "9   NaN  NaN  NaN  NaN  NaN  NaN  NaN  NaN   A9   B9   C9   D9\n",
       "10  NaN  NaN  NaN  NaN  NaN  NaN  NaN  NaN  A10  B10  C10  D10\n",
       "11  NaN  NaN  NaN  NaN  NaN  NaN  NaN  NaN  A11  B11  C11  D11"
      ]
     },
     "execution_count": 21,
     "metadata": {},
     "output_type": "execute_result"
    }
   ],
   "source": [
    "pd.concat([df1,df2,df3],axis=1)"
   ]
  },
  {
   "cell_type": "markdown",
   "id": "da6e17ba",
   "metadata": {},
   "source": [
    "* In our case, this creates a very ugly DataFrame with many missing values.\n",
    "\n",
    "### **The Pandas merge Method**"
   ]
  },
  {
   "cell_type": "code",
   "execution_count": 22,
   "id": "7b7aa91d",
   "metadata": {},
   "outputs": [],
   "source": [
    "import pandas as pd\n",
    "\n",
    "leftDataFrame = pd.DataFrame({'key': ['K0', 'K1', 'K2', 'K3'],\n",
    "\n",
    "                     'A': ['A0', 'A1', 'A2', 'A3'],\n",
    "\n",
    "                     'B': ['B0', 'B1', 'B2', 'B3']})\n",
    "\n",
    "   \n",
    "\n",
    "rightDataFrame = pd.DataFrame({'key': ['K0', 'K1', 'K2', 'K3'],\n",
    "\n",
    "                          'C': ['C0', 'C1', 'C2', 'C3'],\n",
    "\n",
    "                          'D': ['D0', 'D1', 'D2', 'D3']})   "
   ]
  },
  {
   "cell_type": "code",
   "execution_count": 23,
   "id": "eee98830",
   "metadata": {},
   "outputs": [
    {
     "data": {
      "text/html": [
       "<div>\n",
       "<style scoped>\n",
       "    .dataframe tbody tr th:only-of-type {\n",
       "        vertical-align: middle;\n",
       "    }\n",
       "\n",
       "    .dataframe tbody tr th {\n",
       "        vertical-align: top;\n",
       "    }\n",
       "\n",
       "    .dataframe thead th {\n",
       "        text-align: right;\n",
       "    }\n",
       "</style>\n",
       "<table border=\"1\" class=\"dataframe\">\n",
       "  <thead>\n",
       "    <tr style=\"text-align: right;\">\n",
       "      <th></th>\n",
       "      <th>key</th>\n",
       "      <th>A</th>\n",
       "      <th>B</th>\n",
       "    </tr>\n",
       "  </thead>\n",
       "  <tbody>\n",
       "    <tr>\n",
       "      <th>0</th>\n",
       "      <td>K0</td>\n",
       "      <td>A0</td>\n",
       "      <td>B0</td>\n",
       "    </tr>\n",
       "    <tr>\n",
       "      <th>1</th>\n",
       "      <td>K1</td>\n",
       "      <td>A1</td>\n",
       "      <td>B1</td>\n",
       "    </tr>\n",
       "    <tr>\n",
       "      <th>2</th>\n",
       "      <td>K2</td>\n",
       "      <td>A2</td>\n",
       "      <td>B2</td>\n",
       "    </tr>\n",
       "    <tr>\n",
       "      <th>3</th>\n",
       "      <td>K3</td>\n",
       "      <td>A3</td>\n",
       "      <td>B3</td>\n",
       "    </tr>\n",
       "  </tbody>\n",
       "</table>\n",
       "</div>"
      ],
      "text/plain": [
       "  key   A   B\n",
       "0  K0  A0  B0\n",
       "1  K1  A1  B1\n",
       "2  K2  A2  B2\n",
       "3  K3  A3  B3"
      ]
     },
     "execution_count": 23,
     "metadata": {},
     "output_type": "execute_result"
    }
   ],
   "source": [
    "leftDataFrame"
   ]
  },
  {
   "cell_type": "code",
   "execution_count": 24,
   "id": "d5e2f2fd",
   "metadata": {},
   "outputs": [
    {
     "data": {
      "text/html": [
       "<div>\n",
       "<style scoped>\n",
       "    .dataframe tbody tr th:only-of-type {\n",
       "        vertical-align: middle;\n",
       "    }\n",
       "\n",
       "    .dataframe tbody tr th {\n",
       "        vertical-align: top;\n",
       "    }\n",
       "\n",
       "    .dataframe thead th {\n",
       "        text-align: right;\n",
       "    }\n",
       "</style>\n",
       "<table border=\"1\" class=\"dataframe\">\n",
       "  <thead>\n",
       "    <tr style=\"text-align: right;\">\n",
       "      <th></th>\n",
       "      <th>key</th>\n",
       "      <th>C</th>\n",
       "      <th>D</th>\n",
       "    </tr>\n",
       "  </thead>\n",
       "  <tbody>\n",
       "    <tr>\n",
       "      <th>0</th>\n",
       "      <td>K0</td>\n",
       "      <td>C0</td>\n",
       "      <td>D0</td>\n",
       "    </tr>\n",
       "    <tr>\n",
       "      <th>1</th>\n",
       "      <td>K1</td>\n",
       "      <td>C1</td>\n",
       "      <td>D1</td>\n",
       "    </tr>\n",
       "    <tr>\n",
       "      <th>2</th>\n",
       "      <td>K2</td>\n",
       "      <td>C2</td>\n",
       "      <td>D2</td>\n",
       "    </tr>\n",
       "    <tr>\n",
       "      <th>3</th>\n",
       "      <td>K3</td>\n",
       "      <td>C3</td>\n",
       "      <td>D3</td>\n",
       "    </tr>\n",
       "  </tbody>\n",
       "</table>\n",
       "</div>"
      ],
      "text/plain": [
       "  key   C   D\n",
       "0  K0  C0  D0\n",
       "1  K1  C1  D1\n",
       "2  K2  C2  D2\n",
       "3  K3  C3  D3"
      ]
     },
     "execution_count": 24,
     "metadata": {},
     "output_type": "execute_result"
    }
   ],
   "source": [
    "rightDataFrame"
   ]
  },
  {
   "cell_type": "markdown",
   "id": "fa02d008",
   "metadata": {},
   "source": [
    "* The columns A, B, C, and D have real data in them, while the column key has a key that is common among both DataFrames. \n",
    "* To merge two DataFrames means to connect them along one column that they both have in common.\n",
    "* You can merge two pandas DataFrames along a common column using the merge columns. \n",
    "* For anyone that is familiar with the SQL programming language, this is very similar to performing an **inner join** in SQL.\n",
    "\n",
    "* Do not worry if you are unfamiliar with SQL, because merge syntax is actually very straightforward. It looks like this:"
   ]
  },
  {
   "cell_type": "code",
   "execution_count": 25,
   "id": "4b595f02",
   "metadata": {},
   "outputs": [
    {
     "data": {
      "text/html": [
       "<div>\n",
       "<style scoped>\n",
       "    .dataframe tbody tr th:only-of-type {\n",
       "        vertical-align: middle;\n",
       "    }\n",
       "\n",
       "    .dataframe tbody tr th {\n",
       "        vertical-align: top;\n",
       "    }\n",
       "\n",
       "    .dataframe thead th {\n",
       "        text-align: right;\n",
       "    }\n",
       "</style>\n",
       "<table border=\"1\" class=\"dataframe\">\n",
       "  <thead>\n",
       "    <tr style=\"text-align: right;\">\n",
       "      <th></th>\n",
       "      <th>key</th>\n",
       "      <th>A</th>\n",
       "      <th>B</th>\n",
       "      <th>C</th>\n",
       "      <th>D</th>\n",
       "    </tr>\n",
       "  </thead>\n",
       "  <tbody>\n",
       "    <tr>\n",
       "      <th>0</th>\n",
       "      <td>K0</td>\n",
       "      <td>A0</td>\n",
       "      <td>B0</td>\n",
       "      <td>C0</td>\n",
       "      <td>D0</td>\n",
       "    </tr>\n",
       "    <tr>\n",
       "      <th>1</th>\n",
       "      <td>K1</td>\n",
       "      <td>A1</td>\n",
       "      <td>B1</td>\n",
       "      <td>C1</td>\n",
       "      <td>D1</td>\n",
       "    </tr>\n",
       "    <tr>\n",
       "      <th>2</th>\n",
       "      <td>K2</td>\n",
       "      <td>A2</td>\n",
       "      <td>B2</td>\n",
       "      <td>C2</td>\n",
       "      <td>D2</td>\n",
       "    </tr>\n",
       "    <tr>\n",
       "      <th>3</th>\n",
       "      <td>K3</td>\n",
       "      <td>A3</td>\n",
       "      <td>B3</td>\n",
       "      <td>C3</td>\n",
       "      <td>D3</td>\n",
       "    </tr>\n",
       "  </tbody>\n",
       "</table>\n",
       "</div>"
      ],
      "text/plain": [
       "  key   A   B   C   D\n",
       "0  K0  A0  B0  C0  D0\n",
       "1  K1  A1  B1  C1  D1\n",
       "2  K2  A2  B2  C2  D2\n",
       "3  K3  A3  B3  C3  D3"
      ]
     },
     "execution_count": 25,
     "metadata": {},
     "output_type": "execute_result"
    }
   ],
   "source": [
    "pd.merge(leftDataFrame, rightDataFrame, how='inner', on='key')"
   ]
  },
  {
   "cell_type": "markdown",
   "id": "dfc97ae1",
   "metadata": {},
   "source": [
    "* Let’s break down the four arguments we passed into the merge method:\n",
    "\n",
    "    1. **leftDataFrame:** This is the DataFrame that we’d like to merge on the **left.**\n",
    "    2. **rightDataFrame:** This is the DataFrame that we’d like to merge on the **right.**\n",
    "    3. **how=inner:** This is the type of merge that the operation is performing. There are multiple types of merges, but we will only be covering inner merges in this course.\n",
    "    4. **on='key':** This is the column that you’d like to perform the merge on. Since key was the only column in common between the two DataFrames, it was the only option that we could use to perform the merge.\n",
    "    \n",
    "### **The Pandas join Method**"
   ]
  },
  {
   "cell_type": "code",
   "execution_count": 27,
   "id": "0692cc10",
   "metadata": {},
   "outputs": [
    {
     "name": "stdout",
     "output_type": "stream",
     "text": [
      "     A   B\n",
      "K0  A0  B0\n",
      "K1  A1  B1\n",
      "K2  A2  B2\n",
      "K3  A3  B3\n",
      "\n",
      "\n",
      "     C   D\n",
      "K0  C0  D0\n",
      "K1  C1  D1\n",
      "K2  C2  D2\n",
      "K3  C3  D3\n"
     ]
    }
   ],
   "source": [
    "#We will be using the following two DataFrames in this section:\n",
    "leftDataFrame = pd.DataFrame({  'A': ['A0', 'A1', 'A2', 'A3'],\n",
    "\n",
    "                                'B': ['B0', 'B1', 'B2', 'B3']},\n",
    "\n",
    "                                index =['K0', 'K1', 'K2', 'K3'])\n",
    "\n",
    "   \n",
    "\n",
    "rightDataFrame = pd.DataFrame({ 'C': ['C0', 'C1', 'C2', 'C3'],\n",
    "\n",
    "                                'D': ['D0', 'D1', 'D2', 'D3']},\n",
    "\n",
    "                                index = ['K0', 'K1', 'K2', 'K3'])  \n",
    "print(leftDataFrame);print(\"\\n\")\n",
    "print(rightDataFrame)"
   ]
  },
  {
   "cell_type": "markdown",
   "id": "4f7ba5c0",
   "metadata": {},
   "source": [
    "* If these look familiar, it’s because they are! These are the nearly the same DataFrames as we used when learning how to merge pandas DataFrames. \n",
    "* A key difference is that instead of the **key** column being its own column, it is now the **index** of the DataFrame. You can think of these DataFrames as being those from the last section after executing **.set_index(key)**.\n",
    "* Joining pandas DataFrames is very **similar** to **merging** pandas DataFrames except that the keys on which you’d like to combine are in the index instead of contained within a column.\n",
    "\n",
    "* To join these two DataFrames, we can use the following code:"
   ]
  },
  {
   "cell_type": "code",
   "execution_count": 28,
   "id": "66104db3",
   "metadata": {},
   "outputs": [
    {
     "data": {
      "text/html": [
       "<div>\n",
       "<style scoped>\n",
       "    .dataframe tbody tr th:only-of-type {\n",
       "        vertical-align: middle;\n",
       "    }\n",
       "\n",
       "    .dataframe tbody tr th {\n",
       "        vertical-align: top;\n",
       "    }\n",
       "\n",
       "    .dataframe thead th {\n",
       "        text-align: right;\n",
       "    }\n",
       "</style>\n",
       "<table border=\"1\" class=\"dataframe\">\n",
       "  <thead>\n",
       "    <tr style=\"text-align: right;\">\n",
       "      <th></th>\n",
       "      <th>A</th>\n",
       "      <th>B</th>\n",
       "      <th>C</th>\n",
       "      <th>D</th>\n",
       "    </tr>\n",
       "  </thead>\n",
       "  <tbody>\n",
       "    <tr>\n",
       "      <th>K0</th>\n",
       "      <td>A0</td>\n",
       "      <td>B0</td>\n",
       "      <td>C0</td>\n",
       "      <td>D0</td>\n",
       "    </tr>\n",
       "    <tr>\n",
       "      <th>K1</th>\n",
       "      <td>A1</td>\n",
       "      <td>B1</td>\n",
       "      <td>C1</td>\n",
       "      <td>D1</td>\n",
       "    </tr>\n",
       "    <tr>\n",
       "      <th>K2</th>\n",
       "      <td>A2</td>\n",
       "      <td>B2</td>\n",
       "      <td>C2</td>\n",
       "      <td>D2</td>\n",
       "    </tr>\n",
       "    <tr>\n",
       "      <th>K3</th>\n",
       "      <td>A3</td>\n",
       "      <td>B3</td>\n",
       "      <td>C3</td>\n",
       "      <td>D3</td>\n",
       "    </tr>\n",
       "  </tbody>\n",
       "</table>\n",
       "</div>"
      ],
      "text/plain": [
       "     A   B   C   D\n",
       "K0  A0  B0  C0  D0\n",
       "K1  A1  B1  C1  D1\n",
       "K2  A2  B2  C2  D2\n",
       "K3  A3  B3  C3  D3"
      ]
     },
     "execution_count": 28,
     "metadata": {},
     "output_type": "execute_result"
    }
   ],
   "source": [
    "leftDataFrame.join(rightDataFrame)"
   ]
  },
  {
   "cell_type": "code",
   "execution_count": 29,
   "id": "2bca5fea",
   "metadata": {},
   "outputs": [
    {
     "data": {
      "text/html": [
       "<div>\n",
       "<style scoped>\n",
       "    .dataframe tbody tr th:only-of-type {\n",
       "        vertical-align: middle;\n",
       "    }\n",
       "\n",
       "    .dataframe tbody tr th {\n",
       "        vertical-align: top;\n",
       "    }\n",
       "\n",
       "    .dataframe thead th {\n",
       "        text-align: right;\n",
       "    }\n",
       "</style>\n",
       "<table border=\"1\" class=\"dataframe\">\n",
       "  <thead>\n",
       "    <tr style=\"text-align: right;\">\n",
       "      <th></th>\n",
       "      <th>col1</th>\n",
       "      <th>col2</th>\n",
       "      <th>col3</th>\n",
       "    </tr>\n",
       "  </thead>\n",
       "  <tbody>\n",
       "    <tr>\n",
       "      <th>0</th>\n",
       "      <td>A</td>\n",
       "      <td>2</td>\n",
       "      <td>fgh</td>\n",
       "    </tr>\n",
       "    <tr>\n",
       "      <th>1</th>\n",
       "      <td>B</td>\n",
       "      <td>7</td>\n",
       "      <td>rty</td>\n",
       "    </tr>\n",
       "    <tr>\n",
       "      <th>2</th>\n",
       "      <td>C</td>\n",
       "      <td>3</td>\n",
       "      <td>asd</td>\n",
       "    </tr>\n",
       "    <tr>\n",
       "      <th>3</th>\n",
       "      <td>D</td>\n",
       "      <td>7</td>\n",
       "      <td>qwe</td>\n",
       "    </tr>\n",
       "  </tbody>\n",
       "</table>\n",
       "</div>"
      ],
      "text/plain": [
       "  col1  col2 col3\n",
       "0    A     2  fgh\n",
       "1    B     7  rty\n",
       "2    C     3  asd\n",
       "3    D     7  qwe"
      ]
     },
     "execution_count": 29,
     "metadata": {},
     "output_type": "execute_result"
    }
   ],
   "source": [
    "#let's create a new dataframe as follows\n",
    "df = pd.DataFrame({'col1':['A','B','C','D'],\n",
    "\n",
    "                   'col2':[2,7,3,7],\n",
    "\n",
    "                   'col3':['fgh','rty','asd','qwe']})\n",
    "df"
   ]
  },
  {
   "cell_type": "markdown",
   "id": "667f5a87",
   "metadata": {},
   "source": [
    "### **How To Find Unique Values in a Pandas Series?**\n",
    "* Pandas has an excellent method called unique that can be used to find unique values within a pandas Series. \n",
    "* Note that this method only works on **Series** and not on DataFrames. \n",
    "* If you try to apply this method to a DataFrame, you will encounter an error:"
   ]
  },
  {
   "cell_type": "code",
   "execution_count": 30,
   "id": "9470e422",
   "metadata": {},
   "outputs": [
    {
     "ename": "AttributeError",
     "evalue": "'DataFrame' object has no attribute 'unique'",
     "output_type": "error",
     "traceback": [
      "\u001b[1;31m---------------------------------------------------------------------------\u001b[0m",
      "\u001b[1;31mAttributeError\u001b[0m                            Traceback (most recent call last)",
      "Input \u001b[1;32mIn [30]\u001b[0m, in \u001b[0;36m<cell line: 1>\u001b[1;34m()\u001b[0m\n\u001b[1;32m----> 1\u001b[0m \u001b[43mdf\u001b[49m\u001b[38;5;241;43m.\u001b[39;49m\u001b[43munique\u001b[49m()\n",
      "File \u001b[1;32m~\\AppData\\Local\\Programs\\Python\\Python310\\lib\\site-packages\\pandas\\core\\generic.py:5575\u001b[0m, in \u001b[0;36mNDFrame.__getattr__\u001b[1;34m(self, name)\u001b[0m\n\u001b[0;32m   5568\u001b[0m \u001b[38;5;28;01mif\u001b[39;00m (\n\u001b[0;32m   5569\u001b[0m     name \u001b[38;5;129;01mnot\u001b[39;00m \u001b[38;5;129;01min\u001b[39;00m \u001b[38;5;28mself\u001b[39m\u001b[38;5;241m.\u001b[39m_internal_names_set\n\u001b[0;32m   5570\u001b[0m     \u001b[38;5;129;01mand\u001b[39;00m name \u001b[38;5;129;01mnot\u001b[39;00m \u001b[38;5;129;01min\u001b[39;00m \u001b[38;5;28mself\u001b[39m\u001b[38;5;241m.\u001b[39m_metadata\n\u001b[0;32m   5571\u001b[0m     \u001b[38;5;129;01mand\u001b[39;00m name \u001b[38;5;129;01mnot\u001b[39;00m \u001b[38;5;129;01min\u001b[39;00m \u001b[38;5;28mself\u001b[39m\u001b[38;5;241m.\u001b[39m_accessors\n\u001b[0;32m   5572\u001b[0m     \u001b[38;5;129;01mand\u001b[39;00m \u001b[38;5;28mself\u001b[39m\u001b[38;5;241m.\u001b[39m_info_axis\u001b[38;5;241m.\u001b[39m_can_hold_identifiers_and_holds_name(name)\n\u001b[0;32m   5573\u001b[0m ):\n\u001b[0;32m   5574\u001b[0m     \u001b[38;5;28;01mreturn\u001b[39;00m \u001b[38;5;28mself\u001b[39m[name]\n\u001b[1;32m-> 5575\u001b[0m \u001b[38;5;28;01mreturn\u001b[39;00m \u001b[38;5;28;43mobject\u001b[39;49m\u001b[38;5;241;43m.\u001b[39;49m\u001b[38;5;21;43m__getattribute__\u001b[39;49m\u001b[43m(\u001b[49m\u001b[38;5;28;43mself\u001b[39;49m\u001b[43m,\u001b[49m\u001b[43m \u001b[49m\u001b[43mname\u001b[49m\u001b[43m)\u001b[49m\n",
      "\u001b[1;31mAttributeError\u001b[0m: 'DataFrame' object has no attribute 'unique'"
     ]
    }
   ],
   "source": [
    "df.unique()\n",
    "\n",
    "#Returns AttributeError: 'DataFrame' object has no attribute 'unique'"
   ]
  },
  {
   "cell_type": "markdown",
   "id": "603476b0",
   "metadata": {},
   "source": [
    "* However, since the columns of a pandas DataFrame are each a Series, we can apply the unique method to a specific column, like this:"
   ]
  },
  {
   "cell_type": "code",
   "execution_count": 31,
   "id": "5d1f8d3e",
   "metadata": {},
   "outputs": [
    {
     "data": {
      "text/plain": [
       "array([2, 7, 3], dtype=int64)"
      ]
     },
     "execution_count": 31,
     "metadata": {},
     "output_type": "execute_result"
    }
   ],
   "source": [
    "df['col2'].unique()\n",
    "\n",
    "#Returns array([2, 7, 3])"
   ]
  },
  {
   "cell_type": "markdown",
   "id": "5bcc7026",
   "metadata": {},
   "source": [
    "* Pandas also has a separate nunique method that counts the number of unique values in a Series and returns that value as an integer. \n",
    "* For example:"
   ]
  },
  {
   "cell_type": "code",
   "execution_count": 32,
   "id": "578bbf73",
   "metadata": {},
   "outputs": [
    {
     "data": {
      "text/plain": [
       "3"
      ]
     },
     "execution_count": 32,
     "metadata": {},
     "output_type": "execute_result"
    }
   ],
   "source": [
    "df['col2'].nunique()\n",
    "\n",
    "#Returns 3"
   ]
  },
  {
   "cell_type": "markdown",
   "id": "ae7ccb6e",
   "metadata": {},
   "source": [
    "* Interestingly, the nunique method is exactly the **same** as **len(unique())** but it is a common enough operation that the pandas community decided to create a specific method for this use case."
   ]
  },
  {
   "cell_type": "markdown",
   "id": "a25ef971",
   "metadata": {},
   "source": [
    "### **How To Count The Occurence of Each Value In A Pandas Series?**\n",
    "* Pandas has a function called **counts_value** that allows you to easily count the number of time each observation occurs. \n",
    "* An example is below:"
   ]
  },
  {
   "cell_type": "code",
   "execution_count": 34,
   "id": "1fe091b7",
   "metadata": {},
   "outputs": [
    {
     "data": {
      "text/plain": [
       "7    2\n",
       "2    1\n",
       "3    1\n",
       "Name: col2, dtype: int64"
      ]
     },
     "execution_count": 34,
     "metadata": {},
     "output_type": "execute_result"
    }
   ],
   "source": [
    "df['col2'].value_counts()"
   ]
  },
  {
   "cell_type": "markdown",
   "id": "3a30d3a0",
   "metadata": {},
   "source": [
    "### **How To Use The Pandas apply Method?**\n",
    "* The apply method is one of the most **powerful** methods available in the pandas library. \n",
    "* It allows you to apply a custom function to every element of a pandas Series.\n",
    "\n",
    "* As an example, imagine that we had the following function exponentify that takes in an integer and raises it to the power of itself:"
   ]
  },
  {
   "cell_type": "code",
   "execution_count": 35,
   "id": "7e20d8a9",
   "metadata": {},
   "outputs": [
    {
     "data": {
      "text/plain": [
       "10000000000"
      ]
     },
     "execution_count": 35,
     "metadata": {},
     "output_type": "execute_result"
    }
   ],
   "source": [
    "def exponentify(x):\n",
    "\n",
    "    return x**x\n",
    "exponentify(10)"
   ]
  },
  {
   "cell_type": "markdown",
   "id": "3c224363",
   "metadata": {},
   "source": [
    "* The apply method allows you to easily apply the **exponentify** function to **each** element of the Series:"
   ]
  },
  {
   "cell_type": "code",
   "execution_count": 36,
   "id": "51f0496a",
   "metadata": {},
   "outputs": [
    {
     "data": {
      "text/plain": [
       "0         4\n",
       "1    823543\n",
       "2        27\n",
       "3    823543\n",
       "Name: col2, dtype: int64"
      ]
     },
     "execution_count": 36,
     "metadata": {},
     "output_type": "execute_result"
    }
   ],
   "source": [
    "df['col2'].apply(exponentify)"
   ]
  },
  {
   "cell_type": "markdown",
   "id": "a2b8c771",
   "metadata": {},
   "source": [
    "* The apply method can also be used with built-in functions like **len** (although it is definitely more powerful when used with custom functions). \n",
    "* An example of the len function being used in conjunction with apply is below:"
   ]
  },
  {
   "cell_type": "code",
   "execution_count": 37,
   "id": "e529a020",
   "metadata": {},
   "outputs": [
    {
     "data": {
      "text/plain": [
       "0    3\n",
       "1    3\n",
       "2    3\n",
       "3    3\n",
       "Name: col3, dtype: int64"
      ]
     },
     "execution_count": 37,
     "metadata": {},
     "output_type": "execute_result"
    }
   ],
   "source": [
    "df['col3'].apply(len)"
   ]
  },
  {
   "cell_type": "markdown",
   "id": "3df8b9fd",
   "metadata": {},
   "source": [
    "### **How To Sort A Pandas DataFrame?**\n",
    "* You can filter a pandas DataFrame by the **values** of a particular column using the **sort_values** method. \n",
    "* As an example, if you wanted to sort by col2 in our DataFrame df, you would run the following command:"
   ]
  },
  {
   "cell_type": "code",
   "execution_count": 38,
   "id": "524ecbbe",
   "metadata": {},
   "outputs": [
    {
     "data": {
      "text/html": [
       "<div>\n",
       "<style scoped>\n",
       "    .dataframe tbody tr th:only-of-type {\n",
       "        vertical-align: middle;\n",
       "    }\n",
       "\n",
       "    .dataframe tbody tr th {\n",
       "        vertical-align: top;\n",
       "    }\n",
       "\n",
       "    .dataframe thead th {\n",
       "        text-align: right;\n",
       "    }\n",
       "</style>\n",
       "<table border=\"1\" class=\"dataframe\">\n",
       "  <thead>\n",
       "    <tr style=\"text-align: right;\">\n",
       "      <th></th>\n",
       "      <th>col1</th>\n",
       "      <th>col2</th>\n",
       "      <th>col3</th>\n",
       "    </tr>\n",
       "  </thead>\n",
       "  <tbody>\n",
       "    <tr>\n",
       "      <th>0</th>\n",
       "      <td>A</td>\n",
       "      <td>2</td>\n",
       "      <td>fgh</td>\n",
       "    </tr>\n",
       "    <tr>\n",
       "      <th>2</th>\n",
       "      <td>C</td>\n",
       "      <td>3</td>\n",
       "      <td>asd</td>\n",
       "    </tr>\n",
       "    <tr>\n",
       "      <th>1</th>\n",
       "      <td>B</td>\n",
       "      <td>7</td>\n",
       "      <td>rty</td>\n",
       "    </tr>\n",
       "    <tr>\n",
       "      <th>3</th>\n",
       "      <td>D</td>\n",
       "      <td>7</td>\n",
       "      <td>qwe</td>\n",
       "    </tr>\n",
       "  </tbody>\n",
       "</table>\n",
       "</div>"
      ],
      "text/plain": [
       "  col1  col2 col3\n",
       "0    A     2  fgh\n",
       "2    C     3  asd\n",
       "1    B     7  rty\n",
       "3    D     7  qwe"
      ]
     },
     "execution_count": 38,
     "metadata": {},
     "output_type": "execute_result"
    }
   ],
   "source": [
    "df.sort_values('col2')"
   ]
  },
  {
   "cell_type": "markdown",
   "id": "7e5546fd",
   "metadata": {},
   "source": [
    "* There are **two** things to note from this output:\n",
    "\n",
    "* As you can see, each row preserves its **index**, which means the index is now out of order.\n",
    "* As with the other DataFrame methods, this **does not actually modify the original DataFrame** unless you **force** it to using the **=** assignment operator or by passing in **inplace = True**."
   ]
  },
  {
   "cell_type": "markdown",
   "id": "ab1cd51b",
   "metadata": {},
   "source": [
    "### **Local Data Input and Output (I/O) in Pandas**\n",
    "* We will be working with different files containing stock prices for Facebook (FB), Amazon (AMZN), Google (GOOG), and Microsoft (MSFT) in this section.\n",
    "\n",
    "#### **How To Import .csv Files Using Pandas?**\n",
    "* We can import **.csv** files into a pandas DataFrame using the **read_csv** method, like this:"
   ]
  },
  {
   "cell_type": "code",
   "execution_count": 40,
   "id": "63cc9f02",
   "metadata": {},
   "outputs": [],
   "source": [
    "import pandas as pd\n",
    "\n",
    "df=pd.read_csv(r'C:\\Users\\dnc11\\git_projects\\Python_Arsenal\\Python Basics to advanced\\data\\stock_prices.csv')"
   ]
  },
  {
   "cell_type": "code",
   "execution_count": 41,
   "id": "7b9bb9bf",
   "metadata": {},
   "outputs": [
    {
     "data": {
      "text/html": [
       "<div>\n",
       "<style scoped>\n",
       "    .dataframe tbody tr th:only-of-type {\n",
       "        vertical-align: middle;\n",
       "    }\n",
       "\n",
       "    .dataframe tbody tr th {\n",
       "        vertical-align: top;\n",
       "    }\n",
       "\n",
       "    .dataframe thead th {\n",
       "        text-align: right;\n",
       "    }\n",
       "</style>\n",
       "<table border=\"1\" class=\"dataframe\">\n",
       "  <thead>\n",
       "    <tr style=\"text-align: right;\">\n",
       "      <th></th>\n",
       "      <th>Period</th>\n",
       "      <th>Alphabet Inc Price</th>\n",
       "      <th>Amazon.com Inc Price</th>\n",
       "      <th>Facebook Inc Price</th>\n",
       "      <th>Microsoft Corp Price</th>\n",
       "    </tr>\n",
       "  </thead>\n",
       "  <tbody>\n",
       "    <tr>\n",
       "      <th>0</th>\n",
       "      <td>2020-04-06 00:00:00</td>\n",
       "      <td>1167.15</td>\n",
       "      <td>1970.70</td>\n",
       "      <td>163.00</td>\n",
       "      <td>161.59</td>\n",
       "    </tr>\n",
       "    <tr>\n",
       "      <th>1</th>\n",
       "      <td>2020-04-03 00:00:00</td>\n",
       "      <td>1097.88</td>\n",
       "      <td>1906.59</td>\n",
       "      <td>154.18</td>\n",
       "      <td>153.83</td>\n",
       "    </tr>\n",
       "    <tr>\n",
       "      <th>2</th>\n",
       "      <td>2020-04-02 00:00:00</td>\n",
       "      <td>1120.84</td>\n",
       "      <td>1918.83</td>\n",
       "      <td>158.19</td>\n",
       "      <td>155.26</td>\n",
       "    </tr>\n",
       "    <tr>\n",
       "      <th>3</th>\n",
       "      <td>2020-04-01 00:00:00</td>\n",
       "      <td>1105.62</td>\n",
       "      <td>1907.70</td>\n",
       "      <td>159.60</td>\n",
       "      <td>152.11</td>\n",
       "    </tr>\n",
       "    <tr>\n",
       "      <th>4</th>\n",
       "      <td>2020-03-31 00:00:00</td>\n",
       "      <td>1162.81</td>\n",
       "      <td>1949.72</td>\n",
       "      <td>166.80</td>\n",
       "      <td>157.71</td>\n",
       "    </tr>\n",
       "  </tbody>\n",
       "</table>\n",
       "</div>"
      ],
      "text/plain": [
       "                Period  Alphabet Inc Price  Amazon.com Inc Price  \\\n",
       "0  2020-04-06 00:00:00             1167.15               1970.70   \n",
       "1  2020-04-03 00:00:00             1097.88               1906.59   \n",
       "2  2020-04-02 00:00:00             1120.84               1918.83   \n",
       "3  2020-04-01 00:00:00             1105.62               1907.70   \n",
       "4  2020-03-31 00:00:00             1162.81               1949.72   \n",
       "\n",
       "   Facebook Inc Price  Microsoft Corp Price  \n",
       "0              163.00                161.59  \n",
       "1              154.18                153.83  \n",
       "2              158.19                155.26  \n",
       "3              159.60                152.11  \n",
       "4              166.80                157.71  "
      ]
     },
     "execution_count": 41,
     "metadata": {},
     "output_type": "execute_result"
    }
   ],
   "source": [
    "df.head()"
   ]
  },
  {
   "cell_type": "code",
   "execution_count": 42,
   "id": "ad60349c",
   "metadata": {},
   "outputs": [
    {
     "data": {
      "text/html": [
       "<div>\n",
       "<style scoped>\n",
       "    .dataframe tbody tr th:only-of-type {\n",
       "        vertical-align: middle;\n",
       "    }\n",
       "\n",
       "    .dataframe tbody tr th {\n",
       "        vertical-align: top;\n",
       "    }\n",
       "\n",
       "    .dataframe thead th {\n",
       "        text-align: right;\n",
       "    }\n",
       "</style>\n",
       "<table border=\"1\" class=\"dataframe\">\n",
       "  <thead>\n",
       "    <tr style=\"text-align: right;\">\n",
       "      <th></th>\n",
       "      <th>Period</th>\n",
       "      <th>Alphabet Inc Price</th>\n",
       "      <th>Amazon.com Inc Price</th>\n",
       "      <th>Facebook Inc Price</th>\n",
       "      <th>Microsoft Corp Price</th>\n",
       "    </tr>\n",
       "  </thead>\n",
       "  <tbody>\n",
       "    <tr>\n",
       "      <th>0</th>\n",
       "      <td>2020-04-06 00:00:00</td>\n",
       "      <td>1167.15</td>\n",
       "      <td>1970.70</td>\n",
       "      <td>163.00</td>\n",
       "      <td>161.59</td>\n",
       "    </tr>\n",
       "    <tr>\n",
       "      <th>1</th>\n",
       "      <td>2020-04-03 00:00:00</td>\n",
       "      <td>1097.88</td>\n",
       "      <td>1906.59</td>\n",
       "      <td>154.18</td>\n",
       "      <td>153.83</td>\n",
       "    </tr>\n",
       "    <tr>\n",
       "      <th>2</th>\n",
       "      <td>2020-04-02 00:00:00</td>\n",
       "      <td>1120.84</td>\n",
       "      <td>1918.83</td>\n",
       "      <td>158.19</td>\n",
       "      <td>155.26</td>\n",
       "    </tr>\n",
       "    <tr>\n",
       "      <th>3</th>\n",
       "      <td>2020-04-01 00:00:00</td>\n",
       "      <td>1105.62</td>\n",
       "      <td>1907.70</td>\n",
       "      <td>159.60</td>\n",
       "      <td>152.11</td>\n",
       "    </tr>\n",
       "    <tr>\n",
       "      <th>4</th>\n",
       "      <td>2020-03-31 00:00:00</td>\n",
       "      <td>1162.81</td>\n",
       "      <td>1949.72</td>\n",
       "      <td>166.80</td>\n",
       "      <td>157.71</td>\n",
       "    </tr>\n",
       "  </tbody>\n",
       "</table>\n",
       "</div>"
      ],
      "text/plain": [
       "                Period  Alphabet Inc Price  Amazon.com Inc Price  \\\n",
       "0  2020-04-06 00:00:00             1167.15               1970.70   \n",
       "1  2020-04-03 00:00:00             1097.88               1906.59   \n",
       "2  2020-04-02 00:00:00             1120.84               1918.83   \n",
       "3  2020-04-01 00:00:00             1105.62               1907.70   \n",
       "4  2020-03-31 00:00:00             1162.81               1949.72   \n",
       "\n",
       "   Facebook Inc Price  Microsoft Corp Price  \n",
       "0              163.00                161.59  \n",
       "1              154.18                153.83  \n",
       "2              158.19                155.26  \n",
       "3              159.60                152.11  \n",
       "4              166.80                157.71  "
      ]
     },
     "execution_count": 42,
     "metadata": {},
     "output_type": "execute_result"
    }
   ],
   "source": [
    "df.head(5)"
   ]
  },
  {
   "cell_type": "code",
   "execution_count": 43,
   "id": "37936115",
   "metadata": {},
   "outputs": [
    {
     "data": {
      "text/html": [
       "<div>\n",
       "<style scoped>\n",
       "    .dataframe tbody tr th:only-of-type {\n",
       "        vertical-align: middle;\n",
       "    }\n",
       "\n",
       "    .dataframe tbody tr th {\n",
       "        vertical-align: top;\n",
       "    }\n",
       "\n",
       "    .dataframe thead th {\n",
       "        text-align: right;\n",
       "    }\n",
       "</style>\n",
       "<table border=\"1\" class=\"dataframe\">\n",
       "  <thead>\n",
       "    <tr style=\"text-align: right;\">\n",
       "      <th></th>\n",
       "      <th>Period</th>\n",
       "      <th>Alphabet Inc Price</th>\n",
       "      <th>Amazon.com Inc Price</th>\n",
       "      <th>Facebook Inc Price</th>\n",
       "      <th>Microsoft Corp Price</th>\n",
       "    </tr>\n",
       "  </thead>\n",
       "  <tbody>\n",
       "    <tr>\n",
       "      <th>0</th>\n",
       "      <td>2020-04-06 00:00:00</td>\n",
       "      <td>1167.15</td>\n",
       "      <td>1970.70</td>\n",
       "      <td>163.00</td>\n",
       "      <td>161.59</td>\n",
       "    </tr>\n",
       "    <tr>\n",
       "      <th>1</th>\n",
       "      <td>2020-04-03 00:00:00</td>\n",
       "      <td>1097.88</td>\n",
       "      <td>1906.59</td>\n",
       "      <td>154.18</td>\n",
       "      <td>153.83</td>\n",
       "    </tr>\n",
       "    <tr>\n",
       "      <th>2</th>\n",
       "      <td>2020-04-02 00:00:00</td>\n",
       "      <td>1120.84</td>\n",
       "      <td>1918.83</td>\n",
       "      <td>158.19</td>\n",
       "      <td>155.26</td>\n",
       "    </tr>\n",
       "    <tr>\n",
       "      <th>3</th>\n",
       "      <td>2020-04-01 00:00:00</td>\n",
       "      <td>1105.62</td>\n",
       "      <td>1907.70</td>\n",
       "      <td>159.60</td>\n",
       "      <td>152.11</td>\n",
       "    </tr>\n",
       "    <tr>\n",
       "      <th>4</th>\n",
       "      <td>2020-03-31 00:00:00</td>\n",
       "      <td>1162.81</td>\n",
       "      <td>1949.72</td>\n",
       "      <td>166.80</td>\n",
       "      <td>157.71</td>\n",
       "    </tr>\n",
       "    <tr>\n",
       "      <th>5</th>\n",
       "      <td>2020-03-30 00:00:00</td>\n",
       "      <td>1146.82</td>\n",
       "      <td>1963.95</td>\n",
       "      <td>165.95</td>\n",
       "      <td>160.23</td>\n",
       "    </tr>\n",
       "    <tr>\n",
       "      <th>6</th>\n",
       "      <td>2020-03-27 00:00:00</td>\n",
       "      <td>1110.71</td>\n",
       "      <td>1900.10</td>\n",
       "      <td>156.79</td>\n",
       "      <td>149.70</td>\n",
       "    </tr>\n",
       "    <tr>\n",
       "      <th>7</th>\n",
       "      <td>2020-03-26 00:00:00</td>\n",
       "      <td>1161.75</td>\n",
       "      <td>1955.49</td>\n",
       "      <td>163.34</td>\n",
       "      <td>156.11</td>\n",
       "    </tr>\n",
       "    <tr>\n",
       "      <th>8</th>\n",
       "      <td>2020-03-25 00:00:00</td>\n",
       "      <td>1102.49</td>\n",
       "      <td>1885.84</td>\n",
       "      <td>156.21</td>\n",
       "      <td>146.92</td>\n",
       "    </tr>\n",
       "    <tr>\n",
       "      <th>9</th>\n",
       "      <td>2020-03-24 00:00:00</td>\n",
       "      <td>1134.46</td>\n",
       "      <td>1940.10</td>\n",
       "      <td>160.98</td>\n",
       "      <td>148.34</td>\n",
       "    </tr>\n",
       "  </tbody>\n",
       "</table>\n",
       "</div>"
      ],
      "text/plain": [
       "                Period  Alphabet Inc Price  Amazon.com Inc Price  \\\n",
       "0  2020-04-06 00:00:00             1167.15               1970.70   \n",
       "1  2020-04-03 00:00:00             1097.88               1906.59   \n",
       "2  2020-04-02 00:00:00             1120.84               1918.83   \n",
       "3  2020-04-01 00:00:00             1105.62               1907.70   \n",
       "4  2020-03-31 00:00:00             1162.81               1949.72   \n",
       "5  2020-03-30 00:00:00             1146.82               1963.95   \n",
       "6  2020-03-27 00:00:00             1110.71               1900.10   \n",
       "7  2020-03-26 00:00:00             1161.75               1955.49   \n",
       "8  2020-03-25 00:00:00             1102.49               1885.84   \n",
       "9  2020-03-24 00:00:00             1134.46               1940.10   \n",
       "\n",
       "   Facebook Inc Price  Microsoft Corp Price  \n",
       "0              163.00                161.59  \n",
       "1              154.18                153.83  \n",
       "2              158.19                155.26  \n",
       "3              159.60                152.11  \n",
       "4              166.80                157.71  \n",
       "5              165.95                160.23  \n",
       "6              156.79                149.70  \n",
       "7              163.34                156.11  \n",
       "8              156.21                146.92  \n",
       "9              160.98                148.34  "
      ]
     },
     "execution_count": 43,
     "metadata": {},
     "output_type": "execute_result"
    }
   ],
   "source": [
    "df.head(10)"
   ]
  },
  {
   "attachments": {
    "image.png": {
     "image/png": "[encoded data removed]"
    }
   },
   "cell_type": "markdown",
   "id": "e8f33c52",
   "metadata": {},
   "source": [
    "* As you’ll see, this creates (and displays) a new pandas DataFrame containing the data from the .csv file.\n",
    "* There are a number of read methods included with the pandas programming library. \n",
    "* If you are trying to import data from an external document, then it is likely that pandas has a built-in method for this.\n",
    "\n",
    "* A few examples of different read methods are below:\n",
    "![image.png](attachment:image.png)"
   ]
  },
  {
   "cell_type": "code",
   "execution_count": 46,
   "id": "d5f88fe6",
   "metadata": {},
   "outputs": [
    {
     "data": {
      "text/html": [
       "<div>\n",
       "<style scoped>\n",
       "    .dataframe tbody tr th:only-of-type {\n",
       "        vertical-align: middle;\n",
       "    }\n",
       "\n",
       "    .dataframe tbody tr th {\n",
       "        vertical-align: top;\n",
       "    }\n",
       "\n",
       "    .dataframe thead th {\n",
       "        text-align: right;\n",
       "    }\n",
       "</style>\n",
       "<table border=\"1\" class=\"dataframe\">\n",
       "  <thead>\n",
       "    <tr style=\"text-align: right;\">\n",
       "      <th></th>\n",
       "      <th>Period</th>\n",
       "      <th>Alphabet Inc Price</th>\n",
       "      <th>Amazon.com Inc Price</th>\n",
       "      <th>Facebook Inc Price</th>\n",
       "      <th>Microsoft Corp Price</th>\n",
       "    </tr>\n",
       "  </thead>\n",
       "  <tbody>\n",
       "    <tr>\n",
       "      <th>0</th>\n",
       "      <td>2020-04-06 00:00:00</td>\n",
       "      <td>1167.15</td>\n",
       "      <td>1970.70</td>\n",
       "      <td>163.00</td>\n",
       "      <td>161.59</td>\n",
       "    </tr>\n",
       "    <tr>\n",
       "      <th>1</th>\n",
       "      <td>2020-04-03 00:00:00</td>\n",
       "      <td>1097.88</td>\n",
       "      <td>1906.59</td>\n",
       "      <td>154.18</td>\n",
       "      <td>153.83</td>\n",
       "    </tr>\n",
       "    <tr>\n",
       "      <th>2</th>\n",
       "      <td>2020-04-02 00:00:00</td>\n",
       "      <td>1120.84</td>\n",
       "      <td>1918.83</td>\n",
       "      <td>158.19</td>\n",
       "      <td>155.26</td>\n",
       "    </tr>\n",
       "    <tr>\n",
       "      <th>3</th>\n",
       "      <td>2020-04-01 00:00:00</td>\n",
       "      <td>1105.62</td>\n",
       "      <td>1907.70</td>\n",
       "      <td>159.60</td>\n",
       "      <td>152.11</td>\n",
       "    </tr>\n",
       "    <tr>\n",
       "      <th>4</th>\n",
       "      <td>2020-03-31 00:00:00</td>\n",
       "      <td>1162.81</td>\n",
       "      <td>1949.72</td>\n",
       "      <td>166.80</td>\n",
       "      <td>157.71</td>\n",
       "    </tr>\n",
       "  </tbody>\n",
       "</table>\n",
       "</div>"
      ],
      "text/plain": [
       "                Period  Alphabet Inc Price  Amazon.com Inc Price  \\\n",
       "0  2020-04-06 00:00:00             1167.15               1970.70   \n",
       "1  2020-04-03 00:00:00             1097.88               1906.59   \n",
       "2  2020-04-02 00:00:00             1120.84               1918.83   \n",
       "3  2020-04-01 00:00:00             1105.62               1907.70   \n",
       "4  2020-03-31 00:00:00             1162.81               1949.72   \n",
       "\n",
       "   Facebook Inc Price  Microsoft Corp Price  \n",
       "0              163.00                161.59  \n",
       "1              154.18                153.83  \n",
       "2              158.19                155.26  \n",
       "3              159.60                152.11  \n",
       "4              166.80                157.71  "
      ]
     },
     "execution_count": 46,
     "metadata": {},
     "output_type": "execute_result"
    }
   ],
   "source": [
    "df_json=pd.read_json(r'C:\\Users\\dnc11\\git_projects\\Python_Arsenal\\Python Basics to advanced\\data\\stock_prices.json')\n",
    "df_json.head()"
   ]
  },
  {
   "attachments": {
    "image-2.png": {
     "image/png": "[encoded data removed]"
    },
    "image.png": {
     "image/png": "[encoded data removed]"
    }
   },
   "cell_type": "markdown",
   "id": "418c388a",
   "metadata": {},
   "source": [
    "* If we wanted to import a .csv file that was not directly in our working directory, we need to modify the syntax of the read_csv method slightly.\n",
    "\n",
    "* If the file is in a folder deeper than what you’re working in now, you need to specify the full path of the file in the read_csv method argument. As an example, if the **stock_prices.csv** file was contained in a folder called new_folder, then we could import it like this:\n",
    "![image.png](attachment:image.png)\n",
    "* For those **unfamiliar** with working with directory notation, the **.** at the start of the **filepath** indicates the **current** directory. Similarly, a **..** indicates **one** directory above the current directory, and a **...**indicates **two** directories above the current directory.\n",
    "* This syntax **(using periods)** is exactly how we reference (and import) files that are above our current working directory. \n",
    "* As an example, open a Jupyter Notebook inside the **new_folder** folder, and place **stock_prices.csv** in the **parent** folder. With this file layout, you could import the stock_prices.csv file using the following command:\n",
    "![image-2.png](attachment:image-2.png)\n",
    "* **Note** that this directory syntax is the same for all types of file imports"
   ]
  },
  {
   "cell_type": "markdown",
   "id": "0e7215fb",
   "metadata": {},
   "source": [
    "### **How To Export .csv Files Using Pandas?**\n",
    "* To demonstrate how to save a new **.csv** file, let’s first create a new DataFrame. \n",
    "* Specifically, let’s fill a DataFrame with **3 columns** and **50 rows** with random data using the **np.random.randn** method:"
   ]
  },
  {
   "cell_type": "code",
   "execution_count": 49,
   "id": "c5f43902",
   "metadata": {},
   "outputs": [
    {
     "data": {
      "text/html": [
       "<div>\n",
       "<style scoped>\n",
       "    .dataframe tbody tr th:only-of-type {\n",
       "        vertical-align: middle;\n",
       "    }\n",
       "\n",
       "    .dataframe tbody tr th {\n",
       "        vertical-align: top;\n",
       "    }\n",
       "\n",
       "    .dataframe thead th {\n",
       "        text-align: right;\n",
       "    }\n",
       "</style>\n",
       "<table border=\"1\" class=\"dataframe\">\n",
       "  <thead>\n",
       "    <tr style=\"text-align: right;\">\n",
       "      <th></th>\n",
       "      <th>0</th>\n",
       "      <th>1</th>\n",
       "      <th>2</th>\n",
       "    </tr>\n",
       "  </thead>\n",
       "  <tbody>\n",
       "    <tr>\n",
       "      <th>0</th>\n",
       "      <td>-0.626712</td>\n",
       "      <td>0.879960</td>\n",
       "      <td>0.880818</td>\n",
       "    </tr>\n",
       "    <tr>\n",
       "      <th>1</th>\n",
       "      <td>1.677494</td>\n",
       "      <td>2.045090</td>\n",
       "      <td>0.705940</td>\n",
       "    </tr>\n",
       "    <tr>\n",
       "      <th>2</th>\n",
       "      <td>-1.671017</td>\n",
       "      <td>-0.023287</td>\n",
       "      <td>1.681079</td>\n",
       "    </tr>\n",
       "    <tr>\n",
       "      <th>3</th>\n",
       "      <td>-0.211247</td>\n",
       "      <td>-0.303514</td>\n",
       "      <td>0.230555</td>\n",
       "    </tr>\n",
       "    <tr>\n",
       "      <th>4</th>\n",
       "      <td>0.838396</td>\n",
       "      <td>-1.208412</td>\n",
       "      <td>2.618827</td>\n",
       "    </tr>\n",
       "  </tbody>\n",
       "</table>\n",
       "</div>"
      ],
      "text/plain": [
       "          0         1         2\n",
       "0 -0.626712  0.879960  0.880818\n",
       "1  1.677494  2.045090  0.705940\n",
       "2 -1.671017 -0.023287  1.681079\n",
       "3 -0.211247 -0.303514  0.230555\n",
       "4  0.838396 -1.208412  2.618827"
      ]
     },
     "execution_count": 49,
     "metadata": {},
     "output_type": "execute_result"
    }
   ],
   "source": [
    "import pandas as pd\n",
    "\n",
    "import numpy as np\n",
    "\n",
    "df = pd.DataFrame(np.random.randn(50,3))\n",
    "df.head()"
   ]
  },
  {
   "cell_type": "markdown",
   "id": "f23640cf",
   "metadata": {},
   "source": [
    "* Now that we have a DataFrame, we can save it using the **to_csv** method. This method takes in the name of the new file as its argument."
   ]
  },
  {
   "cell_type": "code",
   "execution_count": 50,
   "id": "0e47cab8",
   "metadata": {},
   "outputs": [],
   "source": [
    "df.to_csv(r'C:\\Users\\dnc11\\git_projects\\Python_Arsenal\\Python Basics to advanced\\data\\my_new_csv.csv')"
   ]
  },
  {
   "attachments": {
    "image.png": {
     "image/png": "[encoded data removed]"
    }
   },
   "cell_type": "markdown",
   "id": "ce8145a1",
   "metadata": {},
   "source": [
    "* ![image.png](attachment:image.png)\n",
    "* You will notice that if you run the code above, the new **.csv** file will begin with an **unlabeled** column that contains the **index** of the DataFrame. \n",
    "* In many cases, this is **undesirable**. To remove the blank index column, pass in **index=False** as a **second** argument to the **to_csv** method, like this:"
   ]
  },
  {
   "cell_type": "code",
   "execution_count": 56,
   "id": "fe3fff15",
   "metadata": {},
   "outputs": [],
   "source": [
    "df_new.to_csv(r'C:\\Users\\dnc11\\git_projects\\Python_Arsenal\\Python Basics to advanced\\data\\my_new_csv_1.csv', index = False)"
   ]
  },
  {
   "attachments": {
    "image.png": {
     "image/png": "[encoded data removed]"
    }
   },
   "cell_type": "markdown",
   "id": "a5f9a9d7",
   "metadata": {},
   "source": [
    "![image.png](attachment:image.png)\n",
    "* The **read_csv** and **to_csv** methods make it very easy to import and export data from .csv files using pandas. \n",
    "* We will see later in this section that for every read method that allows us to import data, there is usually a corresponding to function that allows us to save that data!"
   ]
  },
  {
   "attachments": {
    "image-2.png": {
     "image/png": "[encoded data removed]"
    },
    "image-3.png": {
     "image/png": "[encoded data removed]"
    },
    "image-4.png": {
     "image/png": "[encoded data removed]"
    },
    "image-5.png": {
     "image/png": "[encoded data removed]"
    },
    "image-6.png": {
     "image/png": "[encoded data removed]"
    },
    "image-7.png": {
     "image/png": "[encoded data removed]"
    },
    "image-8.png": {
     "image/png": "[encoded data removed]"
    },
    "image-9.png": {
     "image/png": "[encoded data removed]"
    },
    "image.png": {
     "image/png": "[encoded data removed]"
    }
   },
   "cell_type": "markdown",
   "id": "0e363d88",
   "metadata": {},
   "source": [
    "#### **How To Import .json Files Using Pandas?**\n",
    "* If you are not experienced in working with large datasets, then you may not be familiar with the JSON file type.\n",
    "\n",
    "* JSON stands for JavaScript Object Notation. JSON files are very similar to Python Dictionaries.\n",
    "\n",
    "* JSON files are one of the most commonly-used data types among software developers because they can be manipulated using basically every programming language.\n",
    "\n",
    "* Pandas has a method called **read_json** that makes it very easy to import JSON files as a pandas DataFrame. An example is below.\n",
    "![image.png](attachment:image.png)\n",
    "\n",
    "#### **How To Export .json Files Using Pandas?**\n",
    "* As I mentioned earlier, there is generally a to method for every read method. This means that we can save a DataFrame to a JSON file using the **to_json** method.\n",
    "\n",
    "* As an example, let’s take the randomly-generated DataFrame **df** from earlier in this section and save it as a **JSON file** in our local directory:\n",
    "![image-2.png](attachment:image-2.png)\n",
    "\n",
    "#### **How To Import .xlsx Files Using Pandas?**\n",
    "* Pandas’ **read_excel** method makes it very easy to import data from an Excel document into a pandas DataFrame:\n",
    "![image-3.png](attachment:image-3.png)\n",
    "\n",
    "* Unlike the **read_csv** and **read_json** methods that we explored earlier in this section, the read_excel method can accept a second argument. The reason why read_excel accepts **multiple arguments** is that Excel spreadsheets can contain multiple sheets. The second argument specifies which sheet you are trying to import and is called **sheet_name**.\n",
    "\n",
    "* As an example, if our stock_prices had a second sheet **called Sheet2**, you would import that sheet to a pandas DataFrame like this:\n",
    "![image-4.png](attachment:image-4.png)\n",
    "\n",
    "* If you **do not** specify any value for sheet_name, then read_excel will import the first sheet of the Excel spreadsheet by **default**.\n",
    "\n",
    "* While importing Excel documents, it is very **important** to note that pandas **only imports** data. It cannot import other Excel capabilities like **formatting, formulas, or macros**. Trying to import data from an Excel document that has these features may cause pandas to **crash**.\n",
    "\n",
    "#### **How To Export .xlsx Files Using Pandas?**\n",
    "* Exporting Excel files is very similar to importing Excel files, except we use to_excel instead of read_excel. \n",
    "* An example is below using our randomly-generated df DataFrame:\n",
    "![image-5.png](attachment:image-5.png)\n",
    "\n",
    "* Like read_excel, to_excel accepts a second argument called sheet_name that allows you to specify the name of the sheet that you’re saving. \n",
    "* For example, we could have named the sheet of the new .xlsx file My New Sheet! by passing it into the to_excel method like this:\n",
    "![image-6.png](attachment:image-6.png)\n",
    "* If you do not specify a value for sheet_name, then the sheet will be **named Sheet1** by **default** (just like when you create a new Excel document using the actual application).\n",
    "\n",
    "### **Remote Data Input and Output (I/O) in Pandas**\n",
    "* In the last section of this course, we learned how to **import** data from **.csv, .json, and .xlsx** files that were saved on our local computer. \n",
    "* We will follow up by showing you how you can import files without actually saving them to your local machine first. This is called **remote importing.**\n",
    "\n",
    "#### **What Is Remote Importing and Why Is It Useful?**\n",
    "* Remote importing means bringing a file into your Python script without having that file saved on your computer.\n",
    "\n",
    "* On the surface, it may not seem clear why we might want to engage in remote importing. However, it can be very useful.\n",
    "\n",
    "* The reason why remote importing is useful is because, by definition, it means the Python script will continue to function even if the file being imported is not saved on your computer. This means I can send my code to colleagues or friends and it will still function properly.\n",
    "\n",
    "* Throughout the rest of this section, I will demonstrate how to perform remote imports in pandas for **.csv, .json, and .xlsx files.**\n",
    "\n",
    "##### **How To Import Remote .csv Files?**\n",
    "* First, navigate to this course’s GitHub Repository. Open up the stock_prices folder. Click on the file stock_prices.csv and then click the button for the Raw file, as shown below.\n",
    "![image-7.png](attachment:image-7.png)\n",
    "\n",
    "* This will take you to a new page that has the data from the .csv file contained within stock_prices.csv.\n",
    "\n",
    "* To import this remote file into your into your Python script, you must first copy its URL to your clipboard. You can do this by either (1) highlighting the entire URL, right-clicking the selected text, and clicking copy, or (2) highlighting the entire URL and typing CTRL+C on your keyboard.\n",
    "\n",
    "* The URL will look like this:\n",
    "![image-8.png](attachment:image-8.png)\n",
    "\n",
    "* You can pass this URL into the read_csv method to import the dataset into a pandas DataFrame without saving the dataset to your computer first:\n",
    "![image-9.png](attachment:image-9.png)\n",
    "\n",
    "* we can remote import the JSON, Xlsx file etc in same way with different pandas methods ofcourse!\n",
    "\n",
    "##### **The Downsides to Remote Importing**\n",
    "* Remote importing means that you do not need to first save the file being imported onto your local computer, which is an unquestionable benefit.\n",
    "\n",
    "* However, remote importing also has two downsides:\n",
    "\n",
    "    * You must have an Internet connection to perform remote imports\n",
    "    * Pinging the URL to retrieve the dataset is fairly **time-consuming**, which means that performing remote imports will slow the speed of your Python code"
   ]
  },
  {
   "cell_type": "code",
   "execution_count": null,
   "id": "193dce49",
   "metadata": {},
   "outputs": [],
   "source": []
  }
 ],
 "metadata": {
  "kernelspec": {
   "display_name": "Python 3 (ipykernel)",
   "language": "python",
   "name": "python3"
  },
  "language_info": {
   "codemirror_mode": {
    "name": "ipython",
    "version": 3
   },
   "file_extension": ".py",
   "mimetype": "text/x-python",
   "name": "python",
   "nbconvert_exporter": "python",
   "pygments_lexer": "ipython3",
   "version": "3.10.4"
  }
 },
 "nbformat": 4,
 "nbformat_minor": 5
}
