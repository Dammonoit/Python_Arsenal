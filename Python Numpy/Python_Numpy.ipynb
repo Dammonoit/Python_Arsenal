{
 "cells": [
  {
   "cell_type": "markdown",
   "metadata": {},
   "source": [
    "The **NumPy (Numeric Python)** package helps us manipulate large arrays and matrices of numeric data.\n",
    "NumPy is a general-purpose array-processing package. It provides a high-performance multidimensional array object, and tools for working with these arrays.\n",
    "\n",
    "It is the fundamental package for scientific computing with Python. It contains various features including these important ones:\n",
    "\n",
    "(a) A powerful N-dimensional array object\n",
    "(b) Sophisticated (broadcasting) functions\n",
    "(c) Tools for integrating C/C++ and Fortran code\n",
    "(d) Useful linear algebra, Fourier transform, and random number capabilities.\n",
    "\n",
    "Besides its obvious scientific uses, NumPy can also be used as an efficient multi-dimensional container of generic data.\n",
    "\n",
    "NumPy’s main object is the homogeneous multidimensional array.\n",
    "\n",
    "It is a table of elements (usually numbers), all of the same type, indexed by a tuple of positive integers. \n"
   ]
  },
  {
   "cell_type": "markdown",
   "metadata": {},
   "source": [
    "# **List of Topics in Numpy.**\n",
    "**1. How to create Numpy Array** <br />\n",
    "**2. Basic Operations**          <br />\n",
    "**3. Indexing and Slicing**      <br />\n",
    "**4. Numpy Functions**           <br />\n",
    "**5. linear Algebra**            <br />\n",
    "**6. copy and Views**            <br /> \n",
    "**7. Statistical Functions**     <br />\n",
    "**8. Arithmetic operations**     <br />\n",
    "**9. mathematical Functions**     <br />\n",
    "**10. Numpy Matplotlib**     <br />"
   ]
  },
  {
   "cell_type": "markdown",
   "metadata": {},
   "source": [
    "# **1. How to create Numpy array.**\n",
    "**(1) From list or tuples**               <br />\n",
    "**(2) Using Zeros , ones and empty function.**    <br />\n",
    "**(3) Using random Function.**    <br />\n",
    "**(4) Using range and linespace function.** <br />\n"
   ]
  },
  {
   "cell_type": "code",
   "execution_count": 2,
   "metadata": {},
   "outputs": [
    {
     "name": "stdout",
     "output_type": "stream",
     "text": [
      "a:  [1 2 3]\n",
      "type(a):  <class 'numpy.ndarray'>\n",
      "b:  [3 4 5]\n",
      "type(b):  <class 'numpy.ndarray'>\n",
      "a.dtype:  int64\n",
      "type(c):  <class 'numpy.ndarray'>\n",
      "c.dtype:  <U21\n",
      "type(d):  <class 'numpy.ndarray'>\n",
      "c.dtype:  <U21\n",
      "e:  [[ 1  2  3]\n",
      " [ 6  5  7]\n",
      " [12 13 14]]\n",
      "f:  [[11 12]\n",
      " [44 67]]\n",
      "g:  [[111 222]\n",
      " [666 888]]\n",
      "h:  [[333 545]\n",
      " [999 989]]\n",
      "h.dtype:  int64\n",
      "\n",
      "\n"
     ]
    }
   ],
   "source": [
    "#from list or tuples\n",
    "import numpy as np\n",
    "a=np.array([1,2,3])\n",
    "print('a: ',a)\n",
    "print('type(a): ',type(a))\n",
    "b=np.array((3,4,5))\n",
    "print('b: ',b)\n",
    "print('type(b): ',type(b))\n",
    "print('a.dtype: ',a.dtype)   #to check data type of a elements\n",
    "c=np.array([1,2,'a'])\n",
    "print('type(c): ',type(c))\n",
    "print('c.dtype: ',c.dtype)\n",
    "d=np.array([1.5,2.2,3])\n",
    "print('type(d): ',type(d))\n",
    "print('c.dtype: ',c.dtype)\n",
    "e=np.array([(1,2,3),(6,5,7),(12,13,14)])\n",
    "print('e: ',e)\n",
    "f=np.array([[11,12],[44,67]])\n",
    "print('f: ',f)\n",
    "g=np.array(([111,222],[666,888]))\n",
    "print('g: ',g)\n",
    "h=np.array(((333,545),(999,989)))\n",
    "print('h: ',h)\n",
    "print('h.dtype: ',h.dtype);print('\\n')"
   ]
  },
  {
   "cell_type": "code",
   "execution_count": 10,
   "metadata": {},
   "outputs": [
    {
     "name": "stdout",
     "output_type": "stream",
     "text": [
      "a:  [[  1.+0.j   2.+0.j   3.+0.j]\n",
      " [  3.+0.j   4.+0.j   5.+0.j]\n",
      " [ 22.+0.j  33.+0.j  44.+0.j]]\n",
      "\n",
      "\n",
      "a.dtype: complex128\n",
      "\n",
      "\n"
     ]
    }
   ],
   "source": [
    "#the type of array can explicitly defined at the time of array creation.\n",
    "a=np.array(((1,2,3),(3,4,5),(22,33,44)),dtype='complex')\n",
    "print('a: ',a);print('\\n')\n",
    "print('a.dtype:',a.dtype);print('\\n')\n"
   ]
  },
  {
   "cell_type": "markdown",
   "metadata": {},
   "source": [
    "* Often, the elements of an array are originally unknown, but its size is known.  Hence, NumPy offers several functions to create arrays with initial placeholder content.  These minimize the necessity of growing arrays, an expensive operation.\n",
    "\n",
    "* The function **zeros** creates an array full of **zeros**, the function **ones** creates an array full of **ones**,  and the function **empty** creates an array whose initial content is **random** and depends on the state of the memory. By default, the **dtype** of the created array is **float64.**\n",
    "\n"
   ]
  },
  {
   "cell_type": "code",
   "execution_count": 15,
   "metadata": {},
   "outputs": [
    {
     "name": "stdout",
     "output_type": "stream",
     "text": [
      "a:  [[ 0.  0.  0.  0.]\n",
      " [ 0.  0.  0.  0.]\n",
      " [ 0.  0.  0.  0.]]\n",
      "\n",
      "\n",
      "a.dtype:  float64\n",
      "\n",
      "\n",
      "a1:  [[0 0 0 0]\n",
      " [0 0 0 0]\n",
      " [0 0 0 0]]\n",
      "\n",
      "\n",
      "a1.dtype:  int32\n"
     ]
    }
   ],
   "source": [
    "#creating an array of zeros\n",
    "a=np.zeros((3,4))\n",
    "print('a: ',a);print('\\n')\n",
    "print('a.dtype: ',a.dtype);print('\\n')\n",
    "#but the data type of the elements in the array can be defined.\n",
    "a1=np.zeros((3,4),dtype='int32')\n",
    "print('a1: ',a1);print('\\n')\n",
    "print('a1.dtype: ',a1.dtype)"
   ]
  },
  {
   "cell_type": "code",
   "execution_count": 16,
   "metadata": {},
   "outputs": [
    {
     "name": "stdout",
     "output_type": "stream",
     "text": [
      "\n",
      "\n",
      "a:  [[ 1.  1.  1.  1.]\n",
      " [ 1.  1.  1.  1.]\n",
      " [ 1.  1.  1.  1.]\n",
      " [ 1.  1.  1.  1.]]\n",
      "\n",
      "\n",
      "a.dtype:  float64\n",
      "\n",
      "\n"
     ]
    }
   ],
   "source": [
    "#creating an array of ones.\n",
    "a=np.ones((4,4));print('\\n')\n",
    "print('a: ',a);print('\\n')\n",
    "print('a.dtype: ',a.dtype);print('\\n')"
   ]
  },
  {
   "cell_type": "code",
   "execution_count": 19,
   "metadata": {},
   "outputs": [
    {
     "name": "stdout",
     "output_type": "stream",
     "text": [
      "\n",
      "\n",
      "\n",
      "\n",
      "a:  [[ 0.  0.  0.  0.]\n",
      " [ 0.  0.  0.  0.]\n",
      " [ 0.  0.  0.  0.]]\n",
      "\n",
      "\n",
      "\n",
      "\n",
      "a.dtype:  float64\n",
      "\n",
      "\n",
      "\n",
      "\n",
      "a1:  [[ 1.  1.  1.  1.]\n",
      " [ 1.  1.  1.  1.]\n",
      " [ 1.  1.  1.  1.]\n",
      " [ 1.  1.  1.  1.]]\n",
      "\n",
      "\n",
      "\n",
      "\n",
      "a2:  [[  2.20690349e-316   6.93432087e-310   0.00000000e+000   0.00000000e+000\n",
      "    6.93425785e-310   5.02034658e+175]\n",
      " [  3.37040843e+030   6.45602446e-057   4.18014276e-062   4.90202008e+025\n",
      "    1.47763641e+248   1.16096346e-028]\n",
      " [  7.69165785e+218   1.35617292e+248   3.19031204e+030   7.82430744e+020\n",
      "    5.88746418e-062   5.49775303e-057]\n",
      " [  4.27409848e-096   6.32299154e+233   6.48224638e+170   5.22411352e+257\n",
      "    5.74020278e+180   8.37174974e-144]\n",
      " [  1.41529402e+161   9.16651763e-072   4.74103733e+097   1.69422330e-052\n",
      "    3.41910597e+126   6.93431130e-310]]\n",
      "\n",
      "\n"
     ]
    }
   ],
   "source": [
    "#creating an array using empty function.\n",
    "a=np.empty((3,4));print('\\n');print('\\n')\n",
    "print('a: ',a);print('\\n');print('\\n')\n",
    "print('a.dtype: ',a.dtype);print('\\n')\n",
    "a1=np.empty((4,4));print('\\n')\n",
    "print('a1: ',a1);print('\\n')\n",
    "a2=np.empty((5,6));print('\\n')\n",
    "print('a2: ',a2);print('\\n')"
   ]
  },
  {
   "cell_type": "code",
   "execution_count": 20,
   "metadata": {},
   "outputs": [
    {
     "name": "stdout",
     "output_type": "stream",
     "text": [
      "\n",
      "\n",
      "\n",
      "\n",
      "a:  [[ 0.2336775   0.02002401  0.0981019   0.0408828 ]\n",
      " [ 0.82688806  0.13658306  0.15753325  0.70748508]\n",
      " [ 0.25838495  0.38781817  0.63447575  0.29948637]]\n",
      "\n",
      "\n",
      "\n",
      "\n",
      "a.dtype:  float64\n",
      "\n",
      "\n",
      "\n",
      "\n",
      "\n",
      "\n",
      "a1:  [[ 0.00806727  0.17170689  0.20691542]\n",
      " [ 0.63302883  0.81003829  0.09317791]\n",
      " [ 0.15156624  0.02505362  0.85353263]]\n",
      "\n",
      "\n",
      "\n",
      "\n"
     ]
    }
   ],
   "source": [
    "#creating an array using random function.\n",
    "a=np.random.random((3,4));print('\\n');print('\\n')\n",
    "print('a: ',a);print('\\n');print('\\n')\n",
    "print('a.dtype: ',a.dtype);print('\\n')\n",
    "a1=np.random.random((3,3));print('\\n');print('\\n')\n",
    "print('a1: ',a1);print('\\n');print('\\n')"
   ]
  },
  {
   "cell_type": "markdown",
   "metadata": {},
   "source": [
    "* To create sequences of numbers, NumPy provides a function analogous to range that returns arrays instead of lists. <br />\n",
    "* If an array is too large to be printed, NumPy automatically skips the central part of the array and only prints the corners. <br />\n",
    "* To disable this behaviour and force NumPy to print the entire array, you can change the printing options using set_printoptions. <br /> \n"
   ]
  },
  {
   "cell_type": "code",
   "execution_count": 26,
   "metadata": {},
   "outputs": [
    {
     "name": "stdout",
     "output_type": "stream",
     "text": [
      "a:  [[ 0  1  2  3]\n",
      " [ 4  5  6  7]\n",
      " [ 8  9 10 11]]\n",
      "\n",
      "\n",
      "a1:  [[[ 0  1  2  3]\n",
      "  [ 4  5  6  7]\n",
      "  [ 8  9 10 11]]\n",
      "\n",
      " [[12 13 14 15]\n",
      "  [16 17 18 19]\n",
      "  [20 21 22 23]]]\n",
      "\n",
      "\n",
      "a2:  [ 0  1  2  3  4  5  6  7  8  9 10 11 12 13 14]\n",
      "\n",
      "\n",
      "a3:  [[   0    1    2 ...,   97   98   99]\n",
      " [ 100  101  102 ...,  197  198  199]\n",
      " [ 200  201  202 ...,  297  298  299]\n",
      " ..., \n",
      " [9700 9701 9702 ..., 9797 9798 9799]\n",
      " [9800 9801 9802 ..., 9897 9898 9899]\n",
      " [9900 9901 9902 ..., 9997 9998 9999]]\n",
      "\n",
      "\n",
      "a4:  [ 10.   10.5  11.   11.5]\n",
      "\n",
      "\n"
     ]
    }
   ],
   "source": [
    "#arange functions.\n",
    "a=np.arange(12).reshape(3,4)\n",
    "print('a: ',a);print('\\n')\n",
    "a1=np.arange(24).reshape(2,3,4)\n",
    "print('a1: ',a1);print('\\n')\n",
    "a2=np.arange(15)\n",
    "print('a2: ',a2);print('\\n')\n",
    "a3=np.arange(10000).reshape(100,100)\n",
    "print('a3: ',a3);print('\\n')\n",
    "#np.set_printoptions(threshold=np.nan)---execute this to print full array irrespective of length.\n",
    "a4=np.arange(10,12,0.5)\n",
    "print('a4: ',a4);print('\\n')"
   ]
  },
  {
   "cell_type": "markdown",
   "metadata": {},
   "source": [
    "* When arange is used with **floating** point arguments, it is generally not possible to **predict** the number of elements obtained, due to the **finite floating point precision.** \n",
    "\n",
    "* For this reason, it is usually better to use the function **linspace** that receives as an argument the number of elements that we want, instead of the step.\n"
   ]
  },
  {
   "cell_type": "code",
   "execution_count": 32,
   "metadata": {},
   "outputs": [
    {
     "name": "stdout",
     "output_type": "stream",
     "text": [
      "a:  [ 0.    0.25  0.5   0.75  1.    1.25  1.5   1.75  2.  ]\n",
      "\n",
      "\n",
      "a1:  [ 0.          0.33069396  0.66138793  0.99208189  1.32277585  1.65346982\n",
      "  1.98416378  2.31485774  2.64555171  2.97624567  3.30693964  3.6376336\n",
      "  3.96832756  4.29902153  4.62971549  4.96040945  5.29110342  5.62179738\n",
      "  5.95249134  6.28318531]\n",
      "\n",
      "\n",
      "np.sin(a1): [  0.00000000e+00   3.24699469e-01   6.14212713e-01   8.37166478e-01\n",
      "   9.69400266e-01   9.96584493e-01   9.15773327e-01   7.35723911e-01\n",
      "   4.75947393e-01   1.64594590e-01  -1.64594590e-01  -4.75947393e-01\n",
      "  -7.35723911e-01  -9.15773327e-01  -9.96584493e-01  -9.69400266e-01\n",
      "  -8.37166478e-01  -6.14212713e-01  -3.24699469e-01  -2.44929360e-16]\n",
      "\n",
      "\n",
      "np.tan(a1): [  0.00000000e+00   3.43300434e-01   7.78331242e-01   1.53061395e+00\n",
      "   3.94891070e+00  -1.20682053e+01  -2.27977037e+00  -1.08628958e+00\n",
      "  -5.41172937e-01  -1.66870486e-01   1.66870486e-01   5.41172937e-01\n",
      "   1.08628958e+00   2.27977037e+00   1.20682053e+01  -3.94891070e+00\n",
      "  -1.53061395e+00  -7.78331242e-01  -3.43300434e-01  -2.44929360e-16]\n"
     ]
    }
   ],
   "source": [
    "a=np.linspace(0,2,9)\n",
    "print('a: ',a);print('\\n')\n",
    "from numpy import pi\n",
    "a1=np.linspace(0,2*pi,20)\n",
    "print('a1: ',a1);print('\\n')\n",
    "print('np.sin(a1):',np.sin(a1));print('\\n')\n",
    "print('np.tan(a1):',np.tan(a1))"
   ]
  },
  {
   "cell_type": "markdown",
   "metadata": {},
   "source": [
    "# **Indexing and Slicing.**\n",
    "* Contents of ndarray object can be accessed and modified by indexing or slicing, just like Pythons in-built container objects.\n",
    "* items in ndarray object follows zero-based index.\n",
    "* Three types of indexing methods are available − **field access**, **basic slicing** and **advanced indexing.**\n",
    "* Basic slicing is an extension of Pythons basic concept of slicing to **n dimensions**. A Python **slice object** is constructed by giving **start, stop, and step** parameters to the **built-in slice function**. This slice object is passed to the array to extract a part of array.\n",
    "* Slicing can also include **ellipsis (…)** to make a selection tuple of the same length as the dimension of an array. If ellipsis is used at the row position, it will return an ndarray comprising of items in rows."
   ]
  },
  {
   "cell_type": "code",
   "execution_count": 44,
   "metadata": {},
   "outputs": [
    {
     "name": "stdout",
     "output_type": "stream",
     "text": [
      "a:  [ 0  1  2  3  4  5  6  7  8  9 10 11]\n",
      "\n",
      "\n",
      "a[s]:  [2 4 6]\n",
      "\n",
      "\n",
      "a[2:7:2]:  [2 4 6]\n",
      "\n",
      "\n",
      "a[3]:  3\n",
      "\n",
      "\n",
      "a[2:]:  [ 2  3  4  5  6  7  8  9 10 11]\n",
      "\n",
      "\n",
      "a1:  [[1 2 3]\n",
      " [3 4 5]\n",
      " [4 5 6]]\n",
      "\n",
      "\n",
      "a1[1:]:  [[3 4 5]\n",
      " [4 5 6]]\n",
      "\n",
      "\n",
      "a1[...,1]:  [2 4 5]\n",
      "\n",
      "\n",
      "a1[...,0]:  [1 3 4]\n",
      "\n",
      "\n",
      "a1[1,...]:  [3 4 5]\n",
      "\n",
      "\n",
      "a1[0,...]:  [4 5 6]\n",
      "\n",
      "\n",
      "a1[...,1:]:  [[2 3]\n",
      " [4 5]\n",
      " [5 6]]\n",
      "\n",
      "\n",
      "a1[...,2:]:  [[3]\n",
      " [5]\n",
      " [6]]\n",
      "\n",
      "\n"
     ]
    }
   ],
   "source": [
    "a=np.arange(12)\n",
    "print('a: ',a);print('\\n')\n",
    "s=slice(2,7,2)\n",
    "print('a[s]: ',a[s]);print('\\n')\n",
    "print('a[2:7:2]: ',a[2:7:2]);print('\\n')\n",
    "print('a[3]: ',a[3]);print('\\n')\n",
    "print('a[2:]: ',a[2:]);print('\\n')\n",
    "a1 = np.array([[1,2,3],[3,4,5],[4,5,6]])\n",
    "print('a1: ',a1);print('\\n')\n",
    "print('a1[1:]: ',a1[1:]);print('\\n')\n",
    "print('a1[...,1]: ',a1[...,1]);print('\\n')\n",
    "print('a1[...,0]: ',a1[...,0]);print('\\n')      #this means second column\n",
    "print('a1[1,...]: ',a1[1,...]);print('\\n')      #this means second row\n",
    "print('a1[2,...]: ',a1[2,...]);print('\\n')      #this means first row\n",
    "print('a1[...,1:]: ',a1[...,1:]);print('\\n')\n",
    "print('a1[...,2:]: ',a1[...,2:]);print('\\n')"
   ]
  },
  {
   "cell_type": "markdown",
   "metadata": {},
   "source": [
    "### There are two types of advanced indexing − **Integer and Boolean.**\n",
    "#### **Integer Indexing**\n",
    "This mechanism helps in selecting any arbitrary item in an array based on its Ndimensional index. Each integer array represents the number of indexes into that dimension. When the index consists of as many integer arrays as the dimensions of the target ndarray, it becomes straightforward."
   ]
  },
  {
   "cell_type": "code",
   "execution_count": 50,
   "metadata": {},
   "outputs": [
    {
     "name": "stdout",
     "output_type": "stream",
     "text": [
      "a:  [[1 2]\n",
      " [3 4]\n",
      " [5 6]]\n",
      "\n",
      "\n",
      "a[0,0]:  1\n",
      "\n",
      "\n",
      "a[0,1]:  1\n",
      "\n",
      "\n",
      "b[0,0:4]:  [0 1 2]\n",
      "\n",
      "\n",
      "b[0:2,1]:  [1 4]\n",
      "\n",
      "\n",
      "a[[0,1,2], [0,1,0]]:  [1 4 5]\n",
      "\n",
      "\n",
      "b:  [[ 0  1  2]\n",
      " [ 3  4  5]\n",
      " [ 6  7  8]\n",
      " [ 9 10 11]]\n",
      "\n",
      "\n",
      "b[[0,1,2], [0,1,0]]:  [0 4 6]\n"
     ]
    }
   ],
   "source": [
    "a = np.array([[1, 2], [3, 4], [5, 6]]) \n",
    "b = np.array([[ 0,  1,  2],[ 3,  4,  5],[ 6,  7,  8],[ 9, 10, 11]])\n",
    "print('a: ',a);print('\\n')\n",
    "print('a[0,0]: ',a[0,0]);print('\\n')\n",
    "print('a[0,1]: ',a[0,0]);print('\\n')                #a[row,column]\n",
    "print('b[0,0:4]: ',b[0,0:4]);print('\\n')\n",
    "print('b[0:2,1]: ',b[0:2,1]);print('\\n')\n",
    "print('a[[0,1,2], [0,1,0]]: ',a[[0,1,2], [0,1,0]]);print('\\n')  #The selection includes elements at (0,0), (1,1) and (2,0) from the first array.\n",
    "print('b: ',b);print('\\n')\n",
    "print('b[[0,1,2], [0,1,0]]: ',b[[0,1,2], [0,1,0]])"
   ]
  },
  {
   "cell_type": "code",
   "execution_count": 53,
   "metadata": {},
   "outputs": [
    {
     "name": "stdout",
     "output_type": "stream",
     "text": [
      "a:  [[ 0  1  2]\n",
      " [ 3  4  5]\n",
      " [ 6  7  8]\n",
      " [ 9 10 11]]\n",
      "\n",
      "\n",
      "rows:  [[0 0]\n",
      " [3 3]]\n",
      "\n",
      "\n",
      "cols:  [[0 2]\n",
      " [0 2]]\n",
      "\n",
      "\n",
      "y:  [[ 0  2]\n",
      " [ 9 11]]\n",
      "\n",
      "\n",
      "a[1:4,1:3]:  [[ 4  5]\n",
      " [ 7  8]\n",
      " [10 11]]\n",
      "\n",
      "\n",
      "a[1:4,[1,2]] : [[ 4  5]\n",
      " [ 7  8]\n",
      " [10 11]]\n",
      "\n",
      "\n"
     ]
    }
   ],
   "source": [
    "a = np.array([[ 0,  1,  2],[ 3,  4,  5],[ 6,  7,  8],[ 9, 10, 11]])\n",
    "print('a: ',a);print('\\n')\n",
    "rows = np.array([[0,0],[3,3]])\n",
    "print('rows: ',rows);print('\\n')\n",
    "cols = np.array([[0,2],[0,2]]) \n",
    "print('cols: ',cols);print('\\n')\n",
    "y = a[rows,cols]\n",
    "print('y: ',y);print('\\n')\n",
    "#Advanced and basic indexing can be combined by using one slice (:) or ellipsis (…) with an index array. \n",
    "print('a[1:4,1:3]: ',a[1:4,1:3]);print('\\n')\n",
    "print('a[1:4,[1,2]] :',a[1:4,[1,2]]);print('\\n')"
   ]
  },
  {
   "cell_type": "markdown",
   "metadata": {},
   "source": [
    "### **Boolean Array Indexing**\n",
    "This type of advanced indexing is used when the resultant object is meant to be the result of **Boolean operations,** such as **comparison operators.**"
   ]
  },
  {
   "cell_type": "code",
   "execution_count": 58,
   "metadata": {},
   "outputs": [
    {
     "name": "stdout",
     "output_type": "stream",
     "text": [
      "a:  [[ 0  1  2]\n",
      " [ 3  4  5]\n",
      " [ 6  7  8]\n",
      " [ 9 10 11]]\n",
      "\n",
      "\n",
      "a1:  [ 1.0+0.j  2.0+6.j  5.0+0.j  3.5+5.j]\n",
      "\n",
      "\n",
      "a[a > 5]:  [ 6  7  8  9 10 11]\n",
      "\n",
      "\n",
      "a1[np.iscomplex(a1)]:  [ 2.0+6.j  3.5+5.j]\n"
     ]
    }
   ],
   "source": [
    "a = np.array([[ 0,  1,  2],[ 3,  4,  5],[ 6,  7,  8],[ 9, 10, 11]])\n",
    "a1 = np.array([1, 2+6j, 5, 3.5+5j])\n",
    "print('a: ',a);print('\\n')\n",
    "print('a1: ',a1);print('\\n')\n",
    "print('a[a > 5]: ',a[a > 5]);print('\\n')\n",
    "print('a1[np.iscomplex(a1)]: ',a1[np.iscomplex(a1)])"
   ]
  },
  {
   "cell_type": "code",
   "execution_count": 59,
   "metadata": {},
   "outputs": [
    {
     "name": "stdout",
     "output_type": "stream",
     "text": [
      "a[~np.isnan(a)]:  [ 1.  2.  3.  4.  5.]\n"
     ]
    }
   ],
   "source": [
    "#NaN (Not a Number) elements are omitted by using ~ (complement operator).\n",
    "a = np.array([np.nan, 1,2,np.nan,3,4,5]) \n",
    "print('a[~np.isnan(a)]: ',a[~np.isnan(a)])"
   ]
  },
  {
   "cell_type": "code",
   "execution_count": 3,
   "metadata": {
    "collapsed": true
   },
   "outputs": [],
   "source": [
    "# **6. Copy and Views.**\n",
    "### **List of Topics.**\n",
    "\n"
   ]
  },
  {
   "cell_type": "code",
   "execution_count": null,
   "metadata": {
    "collapsed": true
   },
   "outputs": [],
   "source": []
  },
  {
   "cell_type": "markdown",
   "metadata": {},
   "source": [
    "# 7. Statistical functions.\n",
    "NumPy has quite a few useful statistical functions for finding minimum, maximum, percentile standard deviation and variance, etc. from the given elements in the array"
   ]
  },
  {
   "cell_type": "markdown",
   "metadata": {},
   "source": [
    "### **Functions lists** \n",
    "**(1)** a.min()        <br />\n",
    "**(2)** a.max()        <br />\n",
    "**(3)** np.min(a,axis=axis_number) <br />\n",
    "**(4)** np.max(a,axis=axis_number)  <br />\n",
    "**(5)** np.ptp(a,axis=axis_number)  <br />\n",
    "**(6)** numpy.percentile(a, q(it is the percentile value which must be between 0-100), axis=axis_number)  <br />  \n",
    "**(7)** numpy.median(a,axis=axis_number) -Median is defined as the value separating the higher half of a data sample from the lower half.        <br />\n",
    "**(8)** np.std(a,axis=axis_number)  <br />\n",
    "\n",
    "          \n"
   ]
  },
  {
   "cell_type": "code",
   "execution_count": 24,
   "metadata": {},
   "outputs": [
    {
     "name": "stdout",
     "output_type": "stream",
     "text": [
      "a:  [[3 7 5]\n",
      " [8 4 3]\n",
      " [2 4 9]]\n",
      "\n",
      "\n",
      "a.min():  2\n",
      "\n",
      "\n",
      "a.max():  9\n",
      "\n",
      "\n",
      "np.min(a,1):  [3 3 2]\n",
      "\n",
      "\n",
      "np.min(a,0):  [2 4 3]\n",
      "\n",
      "\n",
      "np.max(a,1):  [7 8 9]\n",
      "\n",
      "\n",
      "np.max(a,0):  [8 7 9]\n",
      "\n",
      "\n",
      "np.ptp(a):  7\n",
      "\n",
      "\n",
      "np.ptp(a,axis=1):  [4 5 7]\n",
      "\n",
      "\n",
      "np.percentile(a,100,axis=0):  [ 8.  7.  9.]\n",
      "\n",
      "\n",
      "np.median(a,axis=0):  [ 3.  4.  5.]\n",
      "\n",
      "\n",
      "np.mean(a,axis=0):  [ 4.33333333  5.          5.66666667]\n",
      "\n",
      "\n",
      "np.average(a,axis=0):  [ 4.33333333  5.          5.66666667]\n",
      "\n",
      "\n",
      "np.std(a,axis=0):  [ 2.62466929  1.41421356  2.49443826]\n",
      "\n",
      "\n",
      "np.var(a,axis=0):  [ 6.88888889  2.          6.22222222]\n",
      "\n",
      "\n"
     ]
    }
   ],
   "source": [
    "import numpy as np\n",
    "a = np.array([[3,7,5],[8,4,3],[2,4,9]]) \n",
    "print('a: ',a);print('\\n')\n",
    "print('a.min(): ',a.min());print('\\n')\n",
    "print('a.max(): ',a.max());print('\\n')\n",
    "print('np.min(a,1): ',np.min(a,1));print('\\n')       #minimum at axis 1 of array a\n",
    "print('np.min(a,0): ',np.min(a,0));print('\\n')\n",
    "print('np.max(a,1): ',np.max(a,1));print('\\n')\n",
    "print('np.max(a,0): ',np.max(a,0));print('\\n')\n",
    "print('np.ptp(a): ',np.ptp(a));print('\\n')  #The numpy.ptp() function returns the range (maximum-minimum) of values along an axis.\n",
    "print('np.ptp(a,axis=1): ',np.ptp(a,axis=1));print('\\n')  \n",
    "print('np.percentile(a,100,axis=0): ',np.percentile(a,100,axis=0));print('\\n')  \n",
    "print('np.median(a,axis=0): ',np.median(a,axis=0));print('\\n')\n",
    "print('np.mean(a,axis=0): ',np.mean(a,axis=0));print('\\n')\n",
    "print('np.average(a,axis=0): ',np.average(a,axis=0));print('\\n')\n",
    "#Standard deviation is the square root of the average of squared deviations from mean. The formula for standard deviation is as follows −\n",
    "#std = sqrt(mean(abs(x - x.mean())**2))\n",
    "print('np.std(a,axis=0): ',np.std(a,axis=0));print('\\n')\n",
    "#the standard deviation is the square root of variance.\n",
    "print('np.var(a,axis=0): ',np.var(a,axis=0));print('\\n')"
   ]
  },
  {
   "cell_type": "markdown",
   "metadata": {
    "collapsed": true
   },
   "source": [
    "# **8. Arithmetic operations.**\n",
    "**List of Fumctions.** <br />\n",
    "**(1)** np.add(a,b) <br />\n",
    "**(2)** np.subtract(a,b) <br />\n",
    "**(3)** np.multiply(a,b) <br />\n",
    "**(4)** np.divide(a,b) <br />\n",
    "**(5)** np.power(a,b) or np.power(a,any_integer) <br />\n",
    "**(6)** np.reciprocal(a) <br />\n",
    "**(7)** np.mod(a,b) viz. equal to np.remainder(a,b)<br /> \n",
    "for complex numbers <br /> \n",
    "**(8)** np.real(a) <br />\n",
    "**(9)** np.imag(a) <br />\n",
    "**(10)** np.conj(a) <br />\n",
    "**(11)** np.angle(a) <br />\n",
    "**(12)** np.angle(a,deg=True) <br />"
   ]
  },
  {
   "cell_type": "code",
   "execution_count": 37,
   "metadata": {},
   "outputs": [
    {
     "name": "stdout",
     "output_type": "stream",
     "text": [
      "a:  [[ 0.  1.  2.]\n",
      " [ 3.  4.  5.]\n",
      " [ 6.  7.  8.]]\n",
      "\n",
      "\n",
      "b:  [[3 7 5]\n",
      " [8 4 3]\n",
      " [2 4 9]]\n",
      "\n",
      "\n",
      "np.add(a,b):  [[  3.   8.   7.]\n",
      " [ 11.   8.   8.]\n",
      " [  8.  11.  17.]]\n",
      "\n",
      "\n",
      "np.subtract(a,b):  [[-3. -6. -3.]\n",
      " [-5.  0.  2.]\n",
      " [ 4.  3. -1.]]\n",
      "\n",
      "\n",
      "np.multiply(a,b):  [[  0.   7.  10.]\n",
      " [ 24.  16.  15.]\n",
      " [ 12.  28.  72.]]\n",
      "\n",
      "\n",
      "np.divide(a,b):  [[ 0.          0.14285714  0.4       ]\n",
      " [ 0.375       1.          1.66666667]\n",
      " [ 3.          1.75        0.88888889]]\n",
      "\n",
      "\n",
      "np.reciprocal(c):  [ 4.         0.7518797  1.               inf  0.01     ]\n",
      "\n",
      "\n",
      "np.power(a,b):  [[  0.00000000e+00   1.00000000e+00   3.20000000e+01]\n",
      " [  6.56100000e+03   2.56000000e+02   1.25000000e+02]\n",
      " [  3.60000000e+01   2.40100000e+03   1.34217728e+08]]\n",
      "\n",
      "\n",
      "np.power(a,2):  [[  0.   1.   4.]\n",
      " [  9.  16.  25.]\n",
      " [ 36.  49.  64.]]\n",
      "\n",
      "\n",
      "np.mod(a,b):  [[ 0.  1.  2.]\n",
      " [ 3.  0.  2.]\n",
      " [ 0.  3.  8.]]\n",
      "\n",
      "\n",
      "np.remainder(a,b):  [[ 0.  1.  2.]\n",
      " [ 3.  0.  2.]\n",
      " [ 0.  3.  8.]]\n",
      "\n",
      "\n",
      "np.real(d):  [ -0.   0.  11.   1.]\n",
      "\n",
      "\n",
      "np.imag(d):  [-5.6  0.2  0.   1. ]\n",
      "\n",
      "\n",
      "np.conj(d):  [ -0.+5.6j   0.-0.2j  11.-0.j    1.-1.j ]\n",
      "\n",
      "\n",
      "np.angle(d):  [-1.57079633  1.57079633  0.          0.78539816]\n",
      "\n",
      "\n",
      "np.angle(d):  [-90.  90.   0.  45.]\n",
      "\n",
      "\n"
     ]
    },
    {
     "name": "stderr",
     "output_type": "stream",
     "text": [
      "/home/dammonoit/anaconda3/lib/python3.6/site-packages/ipykernel_launcher.py:10: RuntimeWarning: divide by zero encountered in reciprocal\n",
      "  # Remove the CWD from sys.path while we load stuff.\n"
     ]
    }
   ],
   "source": [
    "a = np.arange(9, dtype = np.float_).reshape(3,3) \n",
    "print('a: ',a);print('\\n')\n",
    "b = np.array([[3,7,5],[8,4,3],[2,4,9]])\n",
    "print('b: ',b);print('\\n')\n",
    "print('np.add(a,b): ',np.add(a,b));print('\\n')\n",
    "print('np.subtract(a,b): ',np.subtract(a,b));print('\\n')\n",
    "print('np.multiply(a,b): ',np.multiply(a,b));print('\\n')\n",
    "print('np.divide(a,b): ',np.divide(a,b));print('\\n')\n",
    "c = np.array([0.25, 1.33, 1, 0, 100]) \n",
    "print('np.reciprocal(c): ',np.reciprocal(c));print('\\n')\n",
    "print('np.power(a,b): ',np.power(a,b));print('\\n')\n",
    "print('np.power(a,2): ',np.power(a,2));print('\\n')\n",
    "print('np.mod(a,b): ',np.mod(a,b));print('\\n')\n",
    "print('np.remainder(a,b): ',np.remainder(a,b));print('\\n')  #which is same as mod\n",
    "d = np.array([-5.6j, 0.2j, 11. , 1+1j])\n",
    "print('np.real(d): ',np.real(d));print('\\n')\n",
    "print('np.imag(d): ',np.imag(d));print('\\n')\n",
    "print('np.conj(d): ',np.conj(d));print('\\n')\n",
    "print('np.angle(d): ',np.angle(d));print('\\n')\n",
    "print('np.angle(d): ',np.angle(d,deg=True));print('\\n')"
   ]
  },
  {
   "cell_type": "markdown",
   "metadata": {
    "collapsed": true
   },
   "source": [
    "# 9. Mathematical functions.\n",
    "NumPy provides standard trigonometric functions, functions for arithmetic operations, handling complex numbers, etc.\n",
    "### **List of Topics.**\n",
    "**(1)** Trignometric Functions <br />\n",
    "**(1)** Rounding Functions <br />\n"
   ]
  },
  {
   "cell_type": "code",
   "execution_count": 9,
   "metadata": {},
   "outputs": [
    {
     "name": "stdout",
     "output_type": "stream",
     "text": [
      "np.sin(a) [ 0.         -0.98803162  0.85090352 -0.30481062  0.89399666]\n",
      "\n",
      "\n",
      "np.cos(a) [ 1.          0.15425145  0.52532199 -0.95241298 -0.44807362]\n",
      "\n",
      "\n",
      "np.arcsin(a) [ 0.         -0.98803162  0.85090352 -0.30481062  0.89399666]\n",
      "\n",
      "\n",
      "np.degrees(aa) [  0.         -56.61004209  48.75318073 -17.46436214  51.22223572]\n",
      "\n",
      "\n"
     ]
    }
   ],
   "source": [
    "import numpy as np\n",
    "a = np.array([0,30,45,60,90])\n",
    "aa=np.sin(a)\n",
    "print('a: ',a);print('\\n')\n",
    "print('np.sin(a)',np.sin(a));print('\\n')     #default output is radians\n",
    "print('np.cos(a)',np.cos(a));print('\\n')\n",
    "print('np.arcsin(a)',np.sin(a));print('\\n')     #arc is used for inverse function.\n",
    "print('np.degrees(aa)',np.degrees(aa));print('\\n')  #it converts radian values to degrees.\n"
   ]
  },
  {
   "cell_type": "code",
   "execution_count": 13,
   "metadata": {},
   "outputs": [
    {
     "name": "stdout",
     "output_type": "stream",
     "text": [
      "np.round(a,2) [   1.      5.55  123.      0.57   25.53]\n",
      "\n",
      "\n",
      "np.round(a,decimals=2) [   1.      5.55  123.      0.57   25.53]\n",
      "\n",
      "\n",
      "np.floor(a) [   1.    5.  123.    0.   25.]\n",
      "\n",
      "\n",
      "np.ceil(a) [   1.    6.  123.    1.   26.]\n",
      "\n",
      "\n"
     ]
    }
   ],
   "source": [
    "a = np.array([1.0,5.55, 123, 0.567, 25.532]) \n",
    "print('np.round(a,2)',np.round(a,2));print('\\n')\n",
    "print('np.round(a,decimals=2)',np.round(a,decimals=2));print('\\n') #round and decimals are both the same\n",
    "print('np.floor(a)',np.floor(a));print('\\n')      #This function returns the largest integer not greater than the input parameter\n",
    "print('np.ceil(a)',np.ceil(a));print('\\n')        #this is oposite of floor    \n"
   ]
  },
  {
   "cell_type": "markdown",
   "metadata": {},
   "source": [
    "# 9. Numpy and Matplotlib.\n",
    " * Matplotlib is a plotting library for Python. It is used along with NumPy to provide an environment that is an effective open source alternative for MatLab. It can also be used with graphics toolkits like PyQt and wxPython.\n",
    "\n",
    "* Matplotlib module was first written by John D. Hunter. Since 2012, Michael Droettboom is the principal developer.\n",
    "* Here pyplot() is the most important function in matplotlib library, which is used to plot 2D data.\n",
    "\n",
    "### **List of Topics.**\n",
    "**(1)** Trignometric Functions <br />\n",
    "**(1)** Rounding Functions <br />"
   ]
  },
  {
   "cell_type": "code",
   "execution_count": 23,
   "metadata": {},
   "outputs": [
    {
     "name": "stdout",
     "output_type": "stream",
     "text": [
      "a:  [ 0  1  2  3  4  5  6  7  8  9 10 11 12 13 14 15 16 17 18 19]\n",
      "\n",
      "\n"
     ]
    },
    {
     "data": {
      "image/png": "[encoded data removed]",
      "text/plain": [
       "<matplotlib.figure.Figure at 0x7f7232f2a358>"
      ]
     },
     "metadata": {},
     "output_type": "display_data"
    }
   ],
   "source": [
    "import numpy as np\n",
    "from matplotlib import pyplot as plt\n",
    "a=np.arange(20)\n",
    "print('a: ',a);print('\\n')\n",
    "y=2*a+5\n",
    "plt.title('Linear Structure of line.')\n",
    "plt.xlabel('Values stored in Numpy array a.')\n",
    "plt.ylabel('Values obtained from line Equation.')\n",
    "plt.plot(a,y)\n",
    "plt.show()   #to demonstrate the graph\n",
    "#plt.plot(a,y,'ob')            #ob here means o=circle and b=blue\n",
    "#plt.show()\n"
   ]
  },
  {
   "cell_type": "code",
   "execution_count": 24,
   "metadata": {},
   "outputs": [
    {
     "data": {
      "image/png": "[encoded data removed]",
      "text/plain": [
       "<matplotlib.figure.Figure at 0x7f723316f668>"
      ]
     },
     "metadata": {},
     "output_type": "display_data"
    }
   ],
   "source": [
    "plt.plot(a,y,'ob')            #ob here means o=circle and b=blue\n",
    "plt.show()"
   ]
  },
  {
   "cell_type": "code",
   "execution_count": 37,
   "metadata": {},
   "outputs": [
    {
     "data": {
      "image/png": "[encoded data removed]",
      "text/plain": [
       "<matplotlib.figure.Figure at 0x7f72333b4b70>"
      ]
     },
     "metadata": {},
     "output_type": "display_data"
    }
   ],
   "source": [
    "plt.plot(a,y,'Dm')            #ob here means D=Diamond and m=magenta\n",
    "plt.show()"
   ]
  },
  {
   "cell_type": "code",
   "execution_count": 34,
   "metadata": {},
   "outputs": [
    {
     "name": "stdout",
     "output_type": "stream",
     "text": [
      "a_sin:  [ 0.          0.84147098  0.90929743  0.14112001 -0.7568025  -0.95892427\n",
      " -0.2794155   0.6569866   0.98935825  0.41211849 -0.54402111 -0.99999021\n",
      " -0.53657292  0.42016704  0.99060736  0.65028784 -0.28790332 -0.96139749\n",
      " -0.75098725  0.14987721]\n",
      "\n",
      "\n"
     ]
    },
    {
     "data": {
      "image/png": "[encoded data removed]",
      "text/plain": [
       "<matplotlib.figure.Figure at 0x7f7232ff9f98>"
      ]
     },
     "metadata": {},
     "output_type": "display_data"
    },
    {
     "name": "stdout",
     "output_type": "stream",
     "text": [
      "a_cos:  [ 1.          0.54030231 -0.41614684 -0.9899925  -0.65364362  0.28366219\n",
      "  0.96017029  0.75390225 -0.14550003 -0.91113026 -0.83907153  0.0044257\n",
      "  0.84385396  0.90744678  0.13673722 -0.75968791 -0.95765948 -0.27516334\n",
      "  0.66031671  0.98870462]\n",
      "\n",
      "\n"
     ]
    },
    {
     "data": {
      "image/png": "[encoded data removed]",
      "text/plain": [
       "<matplotlib.figure.Figure at 0x7f7233128630>"
      ]
     },
     "metadata": {},
     "output_type": "display_data"
    }
   ],
   "source": [
    "a_sin=np.sin(a)\n",
    "a_cos=np.cos(a)\n",
    "print('a_sin: ',a_sin);print('\\n')\n",
    "plt.subplot(2, 1, 2)\n",
    "plt.plot(a,a_sin)\n",
    "plt.title('Sine Of a')\n",
    "plt.show()\n",
    "plt.subplot(2, 1, 2)\n",
    "print('a_cos: ',a_cos);print('\\n')\n",
    "plt.plot(a,a_cos)\n",
    "plt.title('Cosine Of a')\n",
    "plt.show()"
   ]
  },
  {
   "cell_type": "code",
   "execution_count": 48,
   "metadata": {},
   "outputs": [
    {
     "data": {
      "image/png": "[encoded data removed]",
      "text/plain": [
       "<matplotlib.figure.Figure at 0x7f7232d231d0>"
      ]
     },
     "metadata": {},
     "output_type": "display_data"
    }
   ],
   "source": [
    "x = [5,8,10] \n",
    "y = [12,16,6]  \n",
    "\n",
    "x2 = [6,9,11] \n",
    "y2 = [6,15,7] \n",
    "plt.bar(x, y,color='r' ,align = 'center')              #bar function to make bar graph\n",
    "plt.bar(x2, y2, color = 'c', align = 'center') \n",
    "plt.title('Bar graph') \n",
    "plt.ylabel('Y axis') \n",
    "plt.xlabel('X axis')  \n",
    "\n",
    "plt.show()"
   ]
  },
  {
   "cell_type": "code",
   "execution_count": 47,
   "metadata": {},
   "outputs": [
    {
     "data": {
      "image/png": "[encoded data removed]",
      "text/plain": [
       "<matplotlib.figure.Figure at 0x7f7232e23c50>"
      ]
     },
     "metadata": {},
     "output_type": "display_data"
    }
   ],
   "source": [
    "a = np.array([22,87,5,43,56,73,55,54,11,20,51,5,79,31,27]) \n",
    "plt.hist(a, bins = [0,20,40,60,80,100],color='orange') \n",
    "plt.title(\"histogram\") \n",
    "plt.show()"
   ]
  },
  {
   "cell_type": "markdown",
   "metadata": {
    "collapsed": true
   },
   "source": [
    "# **Trick-1**\n",
    "### is Nan(Not a number) same as None in python?\n"
   ]
  },
  {
   "cell_type": "code",
   "execution_count": 4,
   "metadata": {},
   "outputs": [
    {
     "data": {
      "text/plain": [
       "False"
      ]
     },
     "execution_count": 4,
     "metadata": {},
     "output_type": "execute_result"
    }
   ],
   "source": [
    "import numpy as np\n",
    "np.nan == None                 #the answer will be false and moreover, this way of check is bad approach. \n",
    "#nan(not a number) means a number which can be identified not none."
   ]
  },
  {
   "cell_type": "code",
   "execution_count": 6,
   "metadata": {},
   "outputs": [
    {
     "data": {
      "text/plain": [
       "False"
      ]
     },
     "execution_count": 6,
     "metadata": {},
     "output_type": "execute_result"
    }
   ],
   "source": [
    "np.nan == np.nan"
   ]
  },
  {
   "cell_type": "code",
   "execution_count": 8,
   "metadata": {},
   "outputs": [
    {
     "data": {
      "text/plain": [
       "True"
      ]
     },
     "execution_count": 8,
     "metadata": {},
     "output_type": "execute_result"
    }
   ],
   "source": [
    "np.isnan(np.nan)"
   ]
  },
  {
   "cell_type": "markdown",
   "metadata": {},
   "source": [
    "# **Trick-2** <br />\n",
    "## **Why numpy?**\n",
    "## **check time of numpy array vs other array. Hence, performance is important.**"
   ]
  },
  {
   "cell_type": "code",
   "execution_count": 11,
   "metadata": {},
   "outputs": [
    {
     "name": "stdout",
     "output_type": "stream",
     "text": [
      "10000 loops, best of 3: 39.3 µs per loop\n"
     ]
    }
   ],
   "source": [
    "%timeit l=[i for i in range(1000)]"
   ]
  },
  {
   "cell_type": "code",
   "execution_count": 13,
   "metadata": {},
   "outputs": [
    {
     "name": "stdout",
     "output_type": "stream",
     "text": [
      "The slowest run took 58.63 times longer than the fastest. This could mean that an intermediate result is being cached.\n",
      "100000 loops, best of 3: 2.15 µs per loop\n"
     ]
    }
   ],
   "source": [
    "%timeit l=np.arange(1000)"
   ]
  },
  {
   "cell_type": "code",
   "execution_count": null,
   "metadata": {
    "collapsed": true
   },
   "outputs": [],
   "source": []
  },
  {
   "cell_type": "code",
   "execution_count": null,
   "metadata": {
    "collapsed": true
   },
   "outputs": [],
   "source": []
  },
  {
   "cell_type": "code",
   "execution_count": null,
   "metadata": {
    "collapsed": true
   },
   "outputs": [],
   "source": []
  },
  {
   "cell_type": "code",
   "execution_count": null,
   "metadata": {
    "collapsed": true
   },
   "outputs": [],
   "source": []
  }
 ],
 "metadata": {
  "kernelspec": {
   "display_name": "Python 3",
   "language": "python",
   "name": "python3"
  },
  "language_info": {
   "codemirror_mode": {
    "name": "ipython",
    "version": 3
   },
   "file_extension": ".py",
   "mimetype": "text/x-python",
   "name": "python",
   "nbconvert_exporter": "python",
   "pygments_lexer": "ipython3",
   "version": "3.6.1"
  }
 },
 "nbformat": 4,
 "nbformat_minor": 2
}
