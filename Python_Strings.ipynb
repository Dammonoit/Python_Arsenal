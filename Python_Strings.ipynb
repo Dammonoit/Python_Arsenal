{
 "cells": [
  {
   "cell_type": "markdown",
   "metadata": {},
   "source": [
    "# **Python Strings.**\n",
    "* Strings are amongst the most popular types in Python. We can create them simply by enclosing characters in quotes.\n",
    "* Python treats single quotes the same as double quotes.\n",
    "* Python string is a built-in type text sequence. It is used to handle textual data in python. \n",
    "* Python Strings are immutable sequences of Unicode points.\n"
   ]
  },
  {
   "cell_type": "code",
   "execution_count": 3,
   "metadata": {},
   "outputs": [
    {
     "data": {
      "text/plain": [
       "'python strings'"
      ]
     },
     "execution_count": 3,
     "metadata": {},
     "output_type": "execute_result"
    }
   ],
   "source": [
    "x='python strings'\n",
    "x"
   ]
  },
  {
   "cell_type": "code",
   "execution_count": 4,
   "metadata": {},
   "outputs": [
    {
     "data": {
      "text/plain": [
       "'python strings'"
      ]
     },
     "execution_count": 4,
     "metadata": {},
     "output_type": "execute_result"
    }
   ],
   "source": [
    "y=\"python strings\"\n",
    "y"
   ]
  },
  {
   "cell_type": "code",
   "execution_count": 5,
   "metadata": {},
   "outputs": [
    {
     "data": {
      "text/plain": [
       "' '"
      ]
     },
     "execution_count": 5,
     "metadata": {},
     "output_type": "execute_result"
    }
   ],
   "source": [
    "z=' '\n",
    "z"
   ]
  },
  {
   "cell_type": "markdown",
   "metadata": {},
   "source": [
    "## **Accessing Values in Strings.**\n",
    "* Python does not support a character type i.e it doesn’t have a data type called char; these are treated as strings of length one, thus also considered a substring.hence, we can do indexing and slicing in python strings easily.\n",
    "* The subscript creates a slice by including a colon within the braces as **string[start:stop:step].**\n"
   ]
  },
  {
   "cell_type": "code",
   "execution_count": 6,
   "metadata": {},
   "outputs": [
    {
     "data": {
      "text/plain": [
       "'p'"
      ]
     },
     "execution_count": 6,
     "metadata": {},
     "output_type": "execute_result"
    }
   ],
   "source": [
    "s=\"python is the best language.\"\n",
    "s[0]"
   ]
  },
  {
   "cell_type": "code",
   "execution_count": 7,
   "metadata": {},
   "outputs": [
    {
     "data": {
      "text/plain": [
       "'.'"
      ]
     },
     "execution_count": 7,
     "metadata": {},
     "output_type": "execute_result"
    }
   ],
   "source": [
    "s[-1]"
   ]
  },
  {
   "cell_type": "code",
   "execution_count": 8,
   "metadata": {},
   "outputs": [
    {
     "data": {
      "text/plain": [
       "'yth'"
      ]
     },
     "execution_count": 8,
     "metadata": {},
     "output_type": "execute_result"
    }
   ],
   "source": [
    "s[1:4]"
   ]
  },
  {
   "cell_type": "code",
   "execution_count": 9,
   "metadata": {},
   "outputs": [
    {
     "data": {
      "text/plain": [
       "'ython is the best language.p'"
      ]
     },
     "execution_count": 9,
     "metadata": {},
     "output_type": "execute_result"
    }
   ],
   "source": [
    "s[1:]+s[:1]"
   ]
  },
  {
   "cell_type": "code",
   "execution_count": 10,
   "metadata": {},
   "outputs": [
    {
     "data": {
      "text/plain": [
       "'pyt'"
      ]
     },
     "execution_count": 10,
     "metadata": {},
     "output_type": "execute_result"
    }
   ],
   "source": [
    "s[:3]"
   ]
  },
  {
   "cell_type": "code",
   "execution_count": 11,
   "metadata": {},
   "outputs": [
    {
     "data": {
      "text/plain": [
       "'python is the best language.'"
      ]
     },
     "execution_count": 11,
     "metadata": {},
     "output_type": "execute_result"
    }
   ],
   "source": [
    "s[::1]"
   ]
  },
  {
   "cell_type": "code",
   "execution_count": 12,
   "metadata": {},
   "outputs": [
    {
     "data": {
      "text/plain": [
       "'.egaugnal tseb eht si nohtyp'"
      ]
     },
     "execution_count": 12,
     "metadata": {},
     "output_type": "execute_result"
    }
   ],
   "source": [
    "s[::-1]"
   ]
  },
  {
   "cell_type": "code",
   "execution_count": 13,
   "metadata": {},
   "outputs": [
    {
     "data": {
      "text/plain": [
       "'pto stebs agae'"
      ]
     },
     "execution_count": 13,
     "metadata": {},
     "output_type": "execute_result"
    }
   ],
   "source": [
    "s[::2]"
   ]
  },
  {
   "cell_type": "markdown",
   "metadata": {},
   "source": [
    "## **Updating strings.**\n",
    "* Strings are immutable and so we cannot replace particular indexed value from string.\n",
    "* You can \"update\" an existing string by (re)assigning a variable to another string. The new value can be related to its previous value or to a completely different string altogether. "
   ]
  },
  {
   "cell_type": "code",
   "execution_count": 14,
   "metadata": {},
   "outputs": [
    {
     "ename": "TypeError",
     "evalue": "'str' object does not support item assignment",
     "output_type": "error",
     "traceback": [
      "\u001b[0;31m---------------------------------------------------------------------------\u001b[0m",
      "\u001b[0;31mTypeError\u001b[0m                                 Traceback (most recent call last)",
      "\u001b[0;32m<ipython-input-14-9ca13a58c657>\u001b[0m in \u001b[0;36m<module>\u001b[0;34m()\u001b[0m\n\u001b[1;32m      1\u001b[0m \u001b[0ms1\u001b[0m\u001b[0;34m=\u001b[0m\u001b[0;34m'i do not like java and cpp'\u001b[0m\u001b[0;34m\u001b[0m\u001b[0m\n\u001b[0;32m----> 2\u001b[0;31m \u001b[0ms1\u001b[0m\u001b[0;34m[\u001b[0m\u001b[0;36m2\u001b[0m\u001b[0;34m]\u001b[0m\u001b[0;34m=\u001b[0m\u001b[0;34m'c'\u001b[0m\u001b[0;34m\u001b[0m\u001b[0m\n\u001b[0m\u001b[1;32m      3\u001b[0m \u001b[0ms1\u001b[0m\u001b[0;34m\u001b[0m\u001b[0m\n",
      "\u001b[0;31mTypeError\u001b[0m: 'str' object does not support item assignment"
     ]
    }
   ],
   "source": [
    "s1='i do not like java and cpp'\n",
    "s1[2]='c'\n",
    "s1"
   ]
  },
  {
   "cell_type": "code",
   "execution_count": null,
   "metadata": {
    "collapsed": true
   },
   "outputs": [],
   "source": [
    "s1+\"hello\""
   ]
  },
  {
   "cell_type": "code",
   "execution_count": null,
   "metadata": {
    "collapsed": true
   },
   "outputs": [],
   "source": [
    "s1[:2]+\"hello\""
   ]
  },
  {
   "cell_type": "markdown",
   "metadata": {},
   "source": [
    "## **Basic string operations.**"
   ]
  },
  {
   "cell_type": "code",
   "execution_count": null,
   "metadata": {
    "collapsed": true
   },
   "outputs": [],
   "source": [
    "\"python\"+\"xv\""
   ]
  },
  {
   "cell_type": "code",
   "execution_count": null,
   "metadata": {
    "collapsed": true
   },
   "outputs": [],
   "source": [
    "\"python\"*12"
   ]
  },
  {
   "cell_type": "code",
   "execution_count": null,
   "metadata": {
    "collapsed": true
   },
   "outputs": [],
   "source": [
    "s1+\" ragnarok\""
   ]
  },
  {
   "cell_type": "code",
   "execution_count": null,
   "metadata": {
    "collapsed": true
   },
   "outputs": [],
   "source": [
    "\"p\" in s1"
   ]
  },
  {
   "cell_type": "code",
   "execution_count": null,
   "metadata": {
    "collapsed": true
   },
   "outputs": [],
   "source": [
    "\"y\" not in s1"
   ]
  },
  {
   "cell_type": "markdown",
   "metadata": {},
   "source": [
    "## **String Formatting.**\n",
    "* “%”  is string formatting operator.\n",
    "* %s  = string conversion via str() prior to formatting and lists also.\n",
    "* %i = integer values. \n",
    "* %d = decimal values with single integer.\n",
    "* %f = decimal values with all decimals.\n",
    "* %c = character values.\n"
   ]
  },
  {
   "cell_type": "code",
   "execution_count": null,
   "metadata": {
    "collapsed": true
   },
   "outputs": [],
   "source": [
    "t=10\n",
    "s='Ahmedabad'\n",
    "d=1.14354565\n",
    "c='@'\n",
    "l=[1,2,3]\n",
    "print(\"i went to %s on wednesday and left %c %i and had a cigarette worth rupee %f nd wrote a code containing list %s\"%(s,c,t,d,l))"
   ]
  },
  {
   "cell_type": "code",
   "execution_count": null,
   "metadata": {
    "collapsed": true
   },
   "outputs": [],
   "source": [
    "print(\"%.2f\"%(d)) #decimal value rounded upto 2 decimals."
   ]
  },
  {
   "cell_type": "markdown",
   "metadata": {},
   "source": [
    "### **String formatting using .format() method**"
   ]
  },
  {
   "cell_type": "code",
   "execution_count": null,
   "metadata": {
    "collapsed": true
   },
   "outputs": [],
   "source": [
    "a='Ravi'\n",
    "b=17\n",
    "c='age'\n",
    "d=2.25\n",
    "e='@'\n",
    "print(\"{0} is {1} old and he's very compared to teenager of his {2}. Also. he's {3}m tall and live {4} 4th street\".format(a,b,c,d,e))"
   ]
  },
  {
   "cell_type": "code",
   "execution_count": null,
   "metadata": {
    "collapsed": true
   },
   "outputs": [],
   "source": [
    "print(\"{0},{1},{2},{3}\".format('python','is','best',4))"
   ]
  },
  {
   "cell_type": "code",
   "execution_count": null,
   "metadata": {
    "collapsed": true
   },
   "outputs": [],
   "source": [
    "print(\"{0}...{1}...{2}\".format(*'abc'))"
   ]
  },
  {
   "cell_type": "markdown",
   "metadata": {},
   "source": [
    "## **Built-in String Methods.**\n",
    "1. ** str.capitalize()** = Capitalizes first letter of string.\n",
    "2. **isalnum()** = Returns true if string has at least 1 character and all characters are alphanumeric and false otherwise.\n",
    "3. **isalpha()** = Returns true if string has at least 1 character and all characters are alphabetic and false otherwise.\n",
    "4. **isdigit()** = Returns true if the string contains only digits and false otherwise.\n",
    "5. **islower()** = Returns true if string has at least 1 cased character and all cased characters are in lowercase and false otherwise.\n",
    "6. **isnumeric()** = Returns true if a unicode string contains only numeric characters and false otherwise. \n",
    "7. **isspace()** = Returns true if string contains only whitespace characters and false otherwise. \n",
    "8. **istitle()** = Returns true if string is properly \"titlecased\" and false otherwise. \n",
    "9. **isupper()** = Returns true if string has at least one cased character and all cased characters are in uppercase and false otherwise.\n",
    "10. **isdecimal()** = Returns true if a unicode string contains only decimal characters and false otherwise.\n",
    "11. **max(str)** = Returns the max alphabetical character from the string str. \n",
    "12. **min(str)** = Returns the min alphabetical character from the string str.\n",
    "13. **str.count(str, beg= 0,end=len(string))** = Counts how many times str occurs in string or in a substring of string if starting index beg and ending index end are given.\n",
    "14. **string.find(str, beg=0 end=len(string))** = Determine if str occurs in string or in a substring of string if starting index beg and ending index end are given returns index if found and -1 otherwise.\n",
    "15. **“ ”.join(seq)** = Merges (concatenates) the string representations of elements in sequence seq into a string, with separator string.\n",
    "16. **len(string)** = Returns the length of the string\n",
    "17. **str.lower()** = Converts all uppercase letters in string to lowercase.\n",
    "18. **str.upper()** = Converts lowercase letters in string to uppercase.\n",
    "19. **str.tittler()**  = Converts a string in titled format.\n",
    "20. **str.swapcase()** = Inverts case for all letters in string\n",
    "21. **str.split()** = it splits the string in different elements.\n",
    "22. **endswith(suffix, beg=0, end=len(string))** = Determines if string or a substring of string (if starting index beg and ending index end are given) ends with suffix; returns true if so and false otherwise.\n",
    "23. **str.ljust(width[, fillchar])** = The method ljust() returns the string left justified in a string of length width. Padding is done using the specified fillchar (default is a space). The original string is returned if width is less than len(s).\n",
    "24. **str.rjust(width[, fillchar])** = The method ljust() returns the string right justified in a string of length width. Padding is done using the specified  fillchar (default is a space). The original string is returned if width is less than len(s).\n",
    "25. **str.lstrip()** = Removes all leading whitespace in string.\n",
    "26. **str.rstrip()** = Removes all trailing whitespace of string.\n"
   ]
  },
  {
   "cell_type": "code",
   "execution_count": 15,
   "metadata": {},
   "outputs": [
    {
     "data": {
      "text/plain": [
       "'Python'"
      ]
     },
     "execution_count": 15,
     "metadata": {},
     "output_type": "execute_result"
    }
   ],
   "source": [
    "s1='python'\n",
    "s1.capitalize()"
   ]
  },
  {
   "cell_type": "code",
   "execution_count": 16,
   "metadata": {},
   "outputs": [
    {
     "data": {
      "text/plain": [
       "True"
      ]
     },
     "execution_count": 16,
     "metadata": {},
     "output_type": "execute_result"
    }
   ],
   "source": [
    "s1.islower()"
   ]
  },
  {
   "cell_type": "code",
   "execution_count": 17,
   "metadata": {},
   "outputs": [
    {
     "data": {
      "text/plain": [
       "False"
      ]
     },
     "execution_count": 17,
     "metadata": {},
     "output_type": "execute_result"
    }
   ],
   "source": [
    "s1.istitle()"
   ]
  },
  {
   "cell_type": "code",
   "execution_count": 18,
   "metadata": {},
   "outputs": [
    {
     "data": {
      "text/plain": [
       "'python'"
      ]
     },
     "execution_count": 18,
     "metadata": {},
     "output_type": "execute_result"
    }
   ],
   "source": [
    " s1 #to demonstrate that whether built-in methods changes the original string or not."
   ]
  },
  {
   "cell_type": "code",
   "execution_count": 19,
   "metadata": {},
   "outputs": [
    {
     "data": {
      "text/plain": [
       "False"
      ]
     },
     "execution_count": 19,
     "metadata": {},
     "output_type": "execute_result"
    }
   ],
   "source": [
    "s1.isupper()"
   ]
  },
  {
   "cell_type": "code",
   "execution_count": 20,
   "metadata": {},
   "outputs": [
    {
     "data": {
      "text/plain": [
       "False"
      ]
     },
     "execution_count": 20,
     "metadata": {},
     "output_type": "execute_result"
    }
   ],
   "source": [
    "s2='python@435#$sdf'\n",
    "s2.isalnum()"
   ]
  },
  {
   "cell_type": "code",
   "execution_count": 21,
   "metadata": {},
   "outputs": [
    {
     "data": {
      "text/plain": [
       "'9'"
      ]
     },
     "execution_count": 21,
     "metadata": {},
     "output_type": "execute_result"
    }
   ],
   "source": [
    "s3=\"39431032139099\"\n",
    "max(s3)"
   ]
  },
  {
   "cell_type": "code",
   "execution_count": 22,
   "metadata": {},
   "outputs": [
    {
     "data": {
      "text/plain": [
       "'0'"
      ]
     },
     "execution_count": 22,
     "metadata": {},
     "output_type": "execute_result"
    }
   ],
   "source": [
    "min(s3)"
   ]
  },
  {
   "cell_type": "code",
   "execution_count": 23,
   "metadata": {},
   "outputs": [
    {
     "data": {
      "text/plain": [
       "['python', 'is', 'best', 'language']"
      ]
     },
     "execution_count": 23,
     "metadata": {},
     "output_type": "execute_result"
    }
   ],
   "source": [
    "s4='python is best language'\n",
    "s4.split()"
   ]
  },
  {
   "cell_type": "code",
   "execution_count": 27,
   "metadata": {},
   "outputs": [
    {
     "data": {
      "text/plain": [
       "['python ', ' best language']"
      ]
     },
     "execution_count": 27,
     "metadata": {},
     "output_type": "execute_result"
    }
   ],
   "source": [
    "s4.split('is')"
   ]
  },
  {
   "cell_type": "code",
   "execution_count": 39,
   "metadata": {},
   "outputs": [
    {
     "data": {
      "text/plain": [
       "['python is best language']"
      ]
     },
     "execution_count": 39,
     "metadata": {},
     "output_type": "execute_result"
    }
   ],
   "source": [
    "s4.split(\",\")"
   ]
  },
  {
   "cell_type": "code",
   "execution_count": 40,
   "metadata": {},
   "outputs": [
    {
     "data": {
      "text/plain": [
       "['python', 'is', 'best', 'language']"
      ]
     },
     "execution_count": 40,
     "metadata": {},
     "output_type": "execute_result"
    }
   ],
   "source": [
    "s4.split(\" \")"
   ]
  },
  {
   "cell_type": "code",
   "execution_count": 29,
   "metadata": {},
   "outputs": [
    {
     "name": "stdout",
     "output_type": "stream",
     "text": [
      "s5.isdecimal():  False\n",
      "s5.isnumeric():  False\n",
      "s5.isdigit():  False\n",
      "len(s5):  31\n",
      "s5.count(\"d\"):  5\n",
      "s5.count(\"d\",5,10):  1\n",
      "s5.find(\"d\",2,10):  4\n",
      "s5.count(\"d\"):  5\n"
     ]
    }
   ],
   "source": [
    "s5=\"dfsgdhsadsgdfard3546580877$%^^#\"\n",
    "print('s5.isdecimal(): ',s5.isdecimal())\n",
    "print('s5.isnumeric(): ',s5.isnumeric())\n",
    "print('s5.isdigit(): ',s5.isdigit())\n",
    "print('len(s5): ',len(s5))\n",
    "print('s5.count(\"d\"): ',s5.count(\"d\"))\n",
    "print('s5.count(\"d\",5,10): ',s5.count(\"d\",5,10))\n",
    "print('s5.find(\"d\",2,10): ',s5.find(\"d\",2,10))\n",
    "print('s5.count(\"d\"): ',s5.count(\"d\"))"
   ]
  },
  {
   "cell_type": "code",
   "execution_count": 30,
   "metadata": {},
   "outputs": [
    {
     "data": {
      "text/plain": [
       "'d,f,s,g,d,h,s,a,d,s,g,d,f,a,r,d,3,5,4,6,5,8,0,8,7,7,$,%,^,^,#'"
      ]
     },
     "execution_count": 30,
     "metadata": {},
     "output_type": "execute_result"
    }
   ],
   "source": [
    "','.join(s5)"
   ]
  },
  {
   "cell_type": "code",
   "execution_count": 36,
   "metadata": {},
   "outputs": [
    {
     "data": {
      "text/plain": [
       "'d f s g d h s a d s g d f a r d 3 5 4 6 5 8 0 8 7 7 $ % ^ ^ #'"
      ]
     },
     "execution_count": 36,
     "metadata": {},
     "output_type": "execute_result"
    }
   ],
   "source": [
    "' '.join(s5)"
   ]
  },
  {
   "cell_type": "code",
   "execution_count": 37,
   "metadata": {},
   "outputs": [
    {
     "data": {
      "text/plain": [
       "'dfsgdhsadsgdfard3546580877$%^^#'"
      ]
     },
     "execution_count": 37,
     "metadata": {},
     "output_type": "execute_result"
    }
   ],
   "source": [
    "''.join(s5)"
   ]
  },
  {
   "cell_type": "code",
   "execution_count": 38,
   "metadata": {},
   "outputs": [
    {
     "name": "stdout",
     "output_type": "stream",
     "text": [
      "s5.swapcase():  DFSGDHSADSGDFARD3546580877$%^^#\n",
      "s5.lower():  dfsgdhsadsgdfard3546580877$%^^#\n",
      "s5.upper():  DFSGDHSADSGDFARD3546580877$%^^#\n",
      "s5.title():  Dfsgdhsadsgdfard3546580877$%^^#\n"
     ]
    }
   ],
   "source": [
    "print(\"s5.swapcase(): \",s5.swapcase())\n",
    "print(\"s5.lower(): \",s5.lower())\n",
    "print(\"s5.upper(): \",s5.upper())\n",
    "print(\"s5.title(): \",s5.title())"
   ]
  },
  {
   "cell_type": "code",
   "execution_count": 46,
   "metadata": {},
   "outputs": [
    {
     "name": "stdout",
     "output_type": "stream",
     "text": [
      "s5.endswith():  False\n",
      "s5.endswith():  True\n",
      "s5.endswith(,0,5):  False\n",
      "s5.startswith('d'):  False\n",
      "s5.startswith(''):  True\n"
     ]
    }
   ],
   "source": [
    "print(\"s5.endswith(\"f\"): \",s5.endswith(\"f\"))\n",
    "print(\"s5.endswith(\"\"): \",s5.endswith(\"\"))\n",
    "print(\"s5.endswith(\"f\",0,5): \",s5.endswith(\"f\",0,5))\n",
    "print(\"s5.startswith('d'): \",s5.endswith('d'))\n",
    "print(\"s5.startswith(''): \",s5.endswith(''))"
   ]
  },
  {
   "cell_type": "code",
   "execution_count": 2,
   "metadata": {},
   "outputs": [
    {
     "data": {
      "text/plain": [
       "'sdfkdsfdls21313%$#%      '"
      ]
     },
     "execution_count": 2,
     "metadata": {},
     "output_type": "execute_result"
    }
   ],
   "source": [
    "s6=\"  sdfkdsfdls21313%$#%      \"\n",
    "s6.lstrip()"
   ]
  },
  {
   "cell_type": "code",
   "execution_count": 3,
   "metadata": {},
   "outputs": [
    {
     "data": {
      "text/plain": [
       "'  sdfkdsfdls21313%$#%'"
      ]
     },
     "execution_count": 3,
     "metadata": {},
     "output_type": "execute_result"
    }
   ],
   "source": [
    "s6.rstrip()"
   ]
  },
  {
   "cell_type": "code",
   "execution_count": 6,
   "metadata": {},
   "outputs": [
    {
     "data": {
      "text/plain": [
       "'  sdfkdsfdls21313%$#%      '"
      ]
     },
     "execution_count": 6,
     "metadata": {},
     "output_type": "execute_result"
    }
   ],
   "source": [
    "s6.ljust(20,'@')"
   ]
  },
  {
   "cell_type": "code",
   "execution_count": null,
   "metadata": {
    "collapsed": true
   },
   "outputs": [],
   "source": []
  }
 ],
 "metadata": {
  "kernelspec": {
   "display_name": "Python 3",
   "language": "python",
   "name": "python3"
  },
  "language_info": {
   "codemirror_mode": {
    "name": "ipython",
    "version": 3
   },
   "file_extension": ".py",
   "mimetype": "text/x-python",
   "name": "python",
   "nbconvert_exporter": "python",
   "pygments_lexer": "ipython3",
   "version": "3.6.1"
  }
 },
 "nbformat": 4,
 "nbformat_minor": 2
}
